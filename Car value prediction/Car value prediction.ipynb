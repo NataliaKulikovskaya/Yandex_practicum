{
  "cells": [
    {
      "cell_type": "markdown",
      "metadata": {
        "id": "ewmCf5cVQ0Gc"
      },
      "source": [
        "# Определение стоимости автомобилей"
      ]
    },
    {
      "cell_type": "markdown",
      "metadata": {
        "id": "-aaNONstQ0Gc"
      },
      "source": [
        "Сервис по продаже автомобилей с пробегом «Не бит, не крашен» разрабатывает приложение для привлечения новых клиентов. В нём можно быстро узнать рыночную стоимость своего автомобиля. Нужно построить модель, которая умеет её определять.  В распоряжении имеются исторические данные: технические характеристики, комплектации и цены автомобилей. Нужно построить модель для определения стоимости.\n",
        "\n",
        "Заказчику важны:\n",
        "\n",
        "- качество предсказания;\n",
        "- скорость предсказания;\n",
        "- время обучения."
      ]
    },
    {
      "cell_type": "markdown",
      "metadata": {
        "id": "DBIBvBUBQ0Gc"
      },
      "source": [
        "## Описание данных"
      ]
    },
    {
      "cell_type": "markdown",
      "metadata": {
        "id": "1WrfP5xbQ0Gc"
      },
      "source": [
        "**Признаки:**\n",
        "* **DateCrawled** — дата скачивания анкеты из базы\n",
        "* **VehicleType** — тип автомобильного кузова\n",
        "* **RegistrationYear** — год регистрации автомобиля\n",
        "* **Gearbox** — тип коробки передач\n",
        "* **Power** — мощность (л. с.)\n",
        "* **Model** — модель автомобиля\n",
        "* **Kilometer** — пробег (км)\n",
        "* **RegistrationMonth** — месяц регистрации автомобиля\n",
        "* **FuelType** — тип топлива\n",
        "* **Brand** — марка автомобиля\n",
        "* **Repaired** — была машина в ремонте или нет\n",
        "* **DateCreated** — дата создания анкеты\n",
        "* **NumberOfPictures** — количество фотографий автомобиля\n",
        "* **PostalCode** — почтовый индекс владельца анкеты (пользователя)\n",
        "* **LastSeen** — дата последней активности пользователя\n",
        "\n",
        "**Целевой признак:**\n",
        "* **Price** — цена (евро)\n"
      ]
    },
    {
      "cell_type": "code",
      "execution_count": null,
      "metadata": {
        "scrolled": true,
        "id": "7DT4NbOwQ0Gd"
      },
      "outputs": [],
      "source": [
        "import pandas as pd\n",
        "import re\n",
        "import matplotlib.pyplot as plt\n",
        "import seaborn as sns\n",
        "\n",
        "from datetime import datetime as dt\n",
        "from numpy.random import RandomState\n",
        "from IPython.display import display\n",
        "from numpy.random import RandomState\n",
        "from sklearn.model_selection import KFold\n",
        "from sklearn.preprocessing import StandardScaler, OneHotEncoder\n",
        "from sklearn.model_selection import train_test_split, GridSearchCV,cross_val_score\n",
        "from sklearn.ensemble import RandomForestRegressor\n",
        "from sklearn.metrics import mean_squared_error as mse\n",
        "from catboost import CatBoostRegressor\n",
        "!pip install category_encoders\n",
        "from category_encoders import MEstimateEncoder\n",
        "import category_encoders\n",
        "import lightgbm\n",
        "import time\n",
        "\n",
        "#import warnings\n",
        "#warnings.filterwarnings(\"ignore\")\n",
        "\n",
        "RANDOM_STATE = 12345"
      ]
    },
    {
      "cell_type": "code",
      "execution_count": null,
      "metadata": {
        "id": "kPrjvB67Q0Gf"
      },
      "outputs": [],
      "source": [
        "# откроем данные\n",
        "\n",
        "data = pd.read_csv('/datasets/autos.csv')"
      ]
    },
    {
      "cell_type": "code",
      "execution_count": null,
      "metadata": {
        "id": "oaQc93CdQ0Gf"
      },
      "outputs": [],
      "source": [
        "# Функция для вывода информации об изучаемых данных\n",
        "\n",
        "def data_info(data):\n",
        "    display(data.head(10))\n",
        "    display(data.describe())\n",
        "    print(data.info())\n",
        "    print('Количество дубликатов:', sum(data.duplicated()))"
      ]
    },
    {
      "cell_type": "code",
      "execution_count": null,
      "metadata": {
        "scrolled": true,
        "id": "Qlu-J8TOQ0Gf",
        "outputId": "600ea4a9-fccb-470e-822a-c0ae7bc9c89a"
      },
      "outputs": [
        {
          "data": {
            "text/html": [
              "<div>\n",
              "<style scoped>\n",
              "    .dataframe tbody tr th:only-of-type {\n",
              "        vertical-align: middle;\n",
              "    }\n",
              "\n",
              "    .dataframe tbody tr th {\n",
              "        vertical-align: top;\n",
              "    }\n",
              "\n",
              "    .dataframe thead th {\n",
              "        text-align: right;\n",
              "    }\n",
              "</style>\n",
              "<table border=\"1\" class=\"dataframe\">\n",
              "  <thead>\n",
              "    <tr style=\"text-align: right;\">\n",
              "      <th></th>\n",
              "      <th>DateCrawled</th>\n",
              "      <th>Price</th>\n",
              "      <th>VehicleType</th>\n",
              "      <th>RegistrationYear</th>\n",
              "      <th>Gearbox</th>\n",
              "      <th>Power</th>\n",
              "      <th>Model</th>\n",
              "      <th>Kilometer</th>\n",
              "      <th>RegistrationMonth</th>\n",
              "      <th>FuelType</th>\n",
              "      <th>Brand</th>\n",
              "      <th>Repaired</th>\n",
              "      <th>DateCreated</th>\n",
              "      <th>NumberOfPictures</th>\n",
              "      <th>PostalCode</th>\n",
              "      <th>LastSeen</th>\n",
              "    </tr>\n",
              "  </thead>\n",
              "  <tbody>\n",
              "    <tr>\n",
              "      <th>0</th>\n",
              "      <td>2016-03-24 11:52:17</td>\n",
              "      <td>480</td>\n",
              "      <td>NaN</td>\n",
              "      <td>1993</td>\n",
              "      <td>manual</td>\n",
              "      <td>0</td>\n",
              "      <td>golf</td>\n",
              "      <td>150000</td>\n",
              "      <td>0</td>\n",
              "      <td>petrol</td>\n",
              "      <td>volkswagen</td>\n",
              "      <td>NaN</td>\n",
              "      <td>2016-03-24 00:00:00</td>\n",
              "      <td>0</td>\n",
              "      <td>70435</td>\n",
              "      <td>2016-04-07 03:16:57</td>\n",
              "    </tr>\n",
              "    <tr>\n",
              "      <th>1</th>\n",
              "      <td>2016-03-24 10:58:45</td>\n",
              "      <td>18300</td>\n",
              "      <td>coupe</td>\n",
              "      <td>2011</td>\n",
              "      <td>manual</td>\n",
              "      <td>190</td>\n",
              "      <td>NaN</td>\n",
              "      <td>125000</td>\n",
              "      <td>5</td>\n",
              "      <td>gasoline</td>\n",
              "      <td>audi</td>\n",
              "      <td>yes</td>\n",
              "      <td>2016-03-24 00:00:00</td>\n",
              "      <td>0</td>\n",
              "      <td>66954</td>\n",
              "      <td>2016-04-07 01:46:50</td>\n",
              "    </tr>\n",
              "    <tr>\n",
              "      <th>2</th>\n",
              "      <td>2016-03-14 12:52:21</td>\n",
              "      <td>9800</td>\n",
              "      <td>suv</td>\n",
              "      <td>2004</td>\n",
              "      <td>auto</td>\n",
              "      <td>163</td>\n",
              "      <td>grand</td>\n",
              "      <td>125000</td>\n",
              "      <td>8</td>\n",
              "      <td>gasoline</td>\n",
              "      <td>jeep</td>\n",
              "      <td>NaN</td>\n",
              "      <td>2016-03-14 00:00:00</td>\n",
              "      <td>0</td>\n",
              "      <td>90480</td>\n",
              "      <td>2016-04-05 12:47:46</td>\n",
              "    </tr>\n",
              "    <tr>\n",
              "      <th>3</th>\n",
              "      <td>2016-03-17 16:54:04</td>\n",
              "      <td>1500</td>\n",
              "      <td>small</td>\n",
              "      <td>2001</td>\n",
              "      <td>manual</td>\n",
              "      <td>75</td>\n",
              "      <td>golf</td>\n",
              "      <td>150000</td>\n",
              "      <td>6</td>\n",
              "      <td>petrol</td>\n",
              "      <td>volkswagen</td>\n",
              "      <td>no</td>\n",
              "      <td>2016-03-17 00:00:00</td>\n",
              "      <td>0</td>\n",
              "      <td>91074</td>\n",
              "      <td>2016-03-17 17:40:17</td>\n",
              "    </tr>\n",
              "    <tr>\n",
              "      <th>4</th>\n",
              "      <td>2016-03-31 17:25:20</td>\n",
              "      <td>3600</td>\n",
              "      <td>small</td>\n",
              "      <td>2008</td>\n",
              "      <td>manual</td>\n",
              "      <td>69</td>\n",
              "      <td>fabia</td>\n",
              "      <td>90000</td>\n",
              "      <td>7</td>\n",
              "      <td>gasoline</td>\n",
              "      <td>skoda</td>\n",
              "      <td>no</td>\n",
              "      <td>2016-03-31 00:00:00</td>\n",
              "      <td>0</td>\n",
              "      <td>60437</td>\n",
              "      <td>2016-04-06 10:17:21</td>\n",
              "    </tr>\n",
              "    <tr>\n",
              "      <th>5</th>\n",
              "      <td>2016-04-04 17:36:23</td>\n",
              "      <td>650</td>\n",
              "      <td>sedan</td>\n",
              "      <td>1995</td>\n",
              "      <td>manual</td>\n",
              "      <td>102</td>\n",
              "      <td>3er</td>\n",
              "      <td>150000</td>\n",
              "      <td>10</td>\n",
              "      <td>petrol</td>\n",
              "      <td>bmw</td>\n",
              "      <td>yes</td>\n",
              "      <td>2016-04-04 00:00:00</td>\n",
              "      <td>0</td>\n",
              "      <td>33775</td>\n",
              "      <td>2016-04-06 19:17:07</td>\n",
              "    </tr>\n",
              "    <tr>\n",
              "      <th>6</th>\n",
              "      <td>2016-04-01 20:48:51</td>\n",
              "      <td>2200</td>\n",
              "      <td>convertible</td>\n",
              "      <td>2004</td>\n",
              "      <td>manual</td>\n",
              "      <td>109</td>\n",
              "      <td>2_reihe</td>\n",
              "      <td>150000</td>\n",
              "      <td>8</td>\n",
              "      <td>petrol</td>\n",
              "      <td>peugeot</td>\n",
              "      <td>no</td>\n",
              "      <td>2016-04-01 00:00:00</td>\n",
              "      <td>0</td>\n",
              "      <td>67112</td>\n",
              "      <td>2016-04-05 18:18:39</td>\n",
              "    </tr>\n",
              "    <tr>\n",
              "      <th>7</th>\n",
              "      <td>2016-03-21 18:54:38</td>\n",
              "      <td>0</td>\n",
              "      <td>sedan</td>\n",
              "      <td>1980</td>\n",
              "      <td>manual</td>\n",
              "      <td>50</td>\n",
              "      <td>other</td>\n",
              "      <td>40000</td>\n",
              "      <td>7</td>\n",
              "      <td>petrol</td>\n",
              "      <td>volkswagen</td>\n",
              "      <td>no</td>\n",
              "      <td>2016-03-21 00:00:00</td>\n",
              "      <td>0</td>\n",
              "      <td>19348</td>\n",
              "      <td>2016-03-25 16:47:58</td>\n",
              "    </tr>\n",
              "    <tr>\n",
              "      <th>8</th>\n",
              "      <td>2016-04-04 23:42:13</td>\n",
              "      <td>14500</td>\n",
              "      <td>bus</td>\n",
              "      <td>2014</td>\n",
              "      <td>manual</td>\n",
              "      <td>125</td>\n",
              "      <td>c_max</td>\n",
              "      <td>30000</td>\n",
              "      <td>8</td>\n",
              "      <td>petrol</td>\n",
              "      <td>ford</td>\n",
              "      <td>NaN</td>\n",
              "      <td>2016-04-04 00:00:00</td>\n",
              "      <td>0</td>\n",
              "      <td>94505</td>\n",
              "      <td>2016-04-04 23:42:13</td>\n",
              "    </tr>\n",
              "    <tr>\n",
              "      <th>9</th>\n",
              "      <td>2016-03-17 10:53:50</td>\n",
              "      <td>999</td>\n",
              "      <td>small</td>\n",
              "      <td>1998</td>\n",
              "      <td>manual</td>\n",
              "      <td>101</td>\n",
              "      <td>golf</td>\n",
              "      <td>150000</td>\n",
              "      <td>0</td>\n",
              "      <td>NaN</td>\n",
              "      <td>volkswagen</td>\n",
              "      <td>NaN</td>\n",
              "      <td>2016-03-17 00:00:00</td>\n",
              "      <td>0</td>\n",
              "      <td>27472</td>\n",
              "      <td>2016-03-31 17:17:06</td>\n",
              "    </tr>\n",
              "  </tbody>\n",
              "</table>\n",
              "</div>"
            ],
            "text/plain": [
              "           DateCrawled  Price  VehicleType  RegistrationYear Gearbox  Power  \\\n",
              "0  2016-03-24 11:52:17    480          NaN              1993  manual      0   \n",
              "1  2016-03-24 10:58:45  18300        coupe              2011  manual    190   \n",
              "2  2016-03-14 12:52:21   9800          suv              2004    auto    163   \n",
              "3  2016-03-17 16:54:04   1500        small              2001  manual     75   \n",
              "4  2016-03-31 17:25:20   3600        small              2008  manual     69   \n",
              "5  2016-04-04 17:36:23    650        sedan              1995  manual    102   \n",
              "6  2016-04-01 20:48:51   2200  convertible              2004  manual    109   \n",
              "7  2016-03-21 18:54:38      0        sedan              1980  manual     50   \n",
              "8  2016-04-04 23:42:13  14500          bus              2014  manual    125   \n",
              "9  2016-03-17 10:53:50    999        small              1998  manual    101   \n",
              "\n",
              "     Model  Kilometer  RegistrationMonth  FuelType       Brand Repaired  \\\n",
              "0     golf     150000                  0    petrol  volkswagen      NaN   \n",
              "1      NaN     125000                  5  gasoline        audi      yes   \n",
              "2    grand     125000                  8  gasoline        jeep      NaN   \n",
              "3     golf     150000                  6    petrol  volkswagen       no   \n",
              "4    fabia      90000                  7  gasoline       skoda       no   \n",
              "5      3er     150000                 10    petrol         bmw      yes   \n",
              "6  2_reihe     150000                  8    petrol     peugeot       no   \n",
              "7    other      40000                  7    petrol  volkswagen       no   \n",
              "8    c_max      30000                  8    petrol        ford      NaN   \n",
              "9     golf     150000                  0       NaN  volkswagen      NaN   \n",
              "\n",
              "           DateCreated  NumberOfPictures  PostalCode             LastSeen  \n",
              "0  2016-03-24 00:00:00                 0       70435  2016-04-07 03:16:57  \n",
              "1  2016-03-24 00:00:00                 0       66954  2016-04-07 01:46:50  \n",
              "2  2016-03-14 00:00:00                 0       90480  2016-04-05 12:47:46  \n",
              "3  2016-03-17 00:00:00                 0       91074  2016-03-17 17:40:17  \n",
              "4  2016-03-31 00:00:00                 0       60437  2016-04-06 10:17:21  \n",
              "5  2016-04-04 00:00:00                 0       33775  2016-04-06 19:17:07  \n",
              "6  2016-04-01 00:00:00                 0       67112  2016-04-05 18:18:39  \n",
              "7  2016-03-21 00:00:00                 0       19348  2016-03-25 16:47:58  \n",
              "8  2016-04-04 00:00:00                 0       94505  2016-04-04 23:42:13  \n",
              "9  2016-03-17 00:00:00                 0       27472  2016-03-31 17:17:06  "
            ]
          },
          "metadata": {},
          "output_type": "display_data"
        },
        {
          "data": {
            "text/html": [
              "<div>\n",
              "<style scoped>\n",
              "    .dataframe tbody tr th:only-of-type {\n",
              "        vertical-align: middle;\n",
              "    }\n",
              "\n",
              "    .dataframe tbody tr th {\n",
              "        vertical-align: top;\n",
              "    }\n",
              "\n",
              "    .dataframe thead th {\n",
              "        text-align: right;\n",
              "    }\n",
              "</style>\n",
              "<table border=\"1\" class=\"dataframe\">\n",
              "  <thead>\n",
              "    <tr style=\"text-align: right;\">\n",
              "      <th></th>\n",
              "      <th>Price</th>\n",
              "      <th>RegistrationYear</th>\n",
              "      <th>Power</th>\n",
              "      <th>Kilometer</th>\n",
              "      <th>RegistrationMonth</th>\n",
              "      <th>NumberOfPictures</th>\n",
              "      <th>PostalCode</th>\n",
              "    </tr>\n",
              "  </thead>\n",
              "  <tbody>\n",
              "    <tr>\n",
              "      <th>count</th>\n",
              "      <td>354369.000000</td>\n",
              "      <td>354369.000000</td>\n",
              "      <td>354369.000000</td>\n",
              "      <td>354369.000000</td>\n",
              "      <td>354369.000000</td>\n",
              "      <td>354369.0</td>\n",
              "      <td>354369.000000</td>\n",
              "    </tr>\n",
              "    <tr>\n",
              "      <th>mean</th>\n",
              "      <td>4416.656776</td>\n",
              "      <td>2004.234448</td>\n",
              "      <td>110.094337</td>\n",
              "      <td>128211.172535</td>\n",
              "      <td>5.714645</td>\n",
              "      <td>0.0</td>\n",
              "      <td>50508.689087</td>\n",
              "    </tr>\n",
              "    <tr>\n",
              "      <th>std</th>\n",
              "      <td>4514.158514</td>\n",
              "      <td>90.227958</td>\n",
              "      <td>189.850405</td>\n",
              "      <td>37905.341530</td>\n",
              "      <td>3.726421</td>\n",
              "      <td>0.0</td>\n",
              "      <td>25783.096248</td>\n",
              "    </tr>\n",
              "    <tr>\n",
              "      <th>min</th>\n",
              "      <td>0.000000</td>\n",
              "      <td>1000.000000</td>\n",
              "      <td>0.000000</td>\n",
              "      <td>5000.000000</td>\n",
              "      <td>0.000000</td>\n",
              "      <td>0.0</td>\n",
              "      <td>1067.000000</td>\n",
              "    </tr>\n",
              "    <tr>\n",
              "      <th>25%</th>\n",
              "      <td>1050.000000</td>\n",
              "      <td>1999.000000</td>\n",
              "      <td>69.000000</td>\n",
              "      <td>125000.000000</td>\n",
              "      <td>3.000000</td>\n",
              "      <td>0.0</td>\n",
              "      <td>30165.000000</td>\n",
              "    </tr>\n",
              "    <tr>\n",
              "      <th>50%</th>\n",
              "      <td>2700.000000</td>\n",
              "      <td>2003.000000</td>\n",
              "      <td>105.000000</td>\n",
              "      <td>150000.000000</td>\n",
              "      <td>6.000000</td>\n",
              "      <td>0.0</td>\n",
              "      <td>49413.000000</td>\n",
              "    </tr>\n",
              "    <tr>\n",
              "      <th>75%</th>\n",
              "      <td>6400.000000</td>\n",
              "      <td>2008.000000</td>\n",
              "      <td>143.000000</td>\n",
              "      <td>150000.000000</td>\n",
              "      <td>9.000000</td>\n",
              "      <td>0.0</td>\n",
              "      <td>71083.000000</td>\n",
              "    </tr>\n",
              "    <tr>\n",
              "      <th>max</th>\n",
              "      <td>20000.000000</td>\n",
              "      <td>9999.000000</td>\n",
              "      <td>20000.000000</td>\n",
              "      <td>150000.000000</td>\n",
              "      <td>12.000000</td>\n",
              "      <td>0.0</td>\n",
              "      <td>99998.000000</td>\n",
              "    </tr>\n",
              "  </tbody>\n",
              "</table>\n",
              "</div>"
            ],
            "text/plain": [
              "               Price  RegistrationYear          Power      Kilometer  \\\n",
              "count  354369.000000     354369.000000  354369.000000  354369.000000   \n",
              "mean     4416.656776       2004.234448     110.094337  128211.172535   \n",
              "std      4514.158514         90.227958     189.850405   37905.341530   \n",
              "min         0.000000       1000.000000       0.000000    5000.000000   \n",
              "25%      1050.000000       1999.000000      69.000000  125000.000000   \n",
              "50%      2700.000000       2003.000000     105.000000  150000.000000   \n",
              "75%      6400.000000       2008.000000     143.000000  150000.000000   \n",
              "max     20000.000000       9999.000000   20000.000000  150000.000000   \n",
              "\n",
              "       RegistrationMonth  NumberOfPictures     PostalCode  \n",
              "count      354369.000000          354369.0  354369.000000  \n",
              "mean            5.714645               0.0   50508.689087  \n",
              "std             3.726421               0.0   25783.096248  \n",
              "min             0.000000               0.0    1067.000000  \n",
              "25%             3.000000               0.0   30165.000000  \n",
              "50%             6.000000               0.0   49413.000000  \n",
              "75%             9.000000               0.0   71083.000000  \n",
              "max            12.000000               0.0   99998.000000  "
            ]
          },
          "metadata": {},
          "output_type": "display_data"
        },
        {
          "name": "stdout",
          "output_type": "stream",
          "text": [
            "<class 'pandas.core.frame.DataFrame'>\n",
            "RangeIndex: 354369 entries, 0 to 354368\n",
            "Data columns (total 16 columns):\n",
            " #   Column             Non-Null Count   Dtype \n",
            "---  ------             --------------   ----- \n",
            " 0   DateCrawled        354369 non-null  object\n",
            " 1   Price              354369 non-null  int64 \n",
            " 2   VehicleType        316879 non-null  object\n",
            " 3   RegistrationYear   354369 non-null  int64 \n",
            " 4   Gearbox            334536 non-null  object\n",
            " 5   Power              354369 non-null  int64 \n",
            " 6   Model              334664 non-null  object\n",
            " 7   Kilometer          354369 non-null  int64 \n",
            " 8   RegistrationMonth  354369 non-null  int64 \n",
            " 9   FuelType           321474 non-null  object\n",
            " 10  Brand              354369 non-null  object\n",
            " 11  Repaired           283215 non-null  object\n",
            " 12  DateCreated        354369 non-null  object\n",
            " 13  NumberOfPictures   354369 non-null  int64 \n",
            " 14  PostalCode         354369 non-null  int64 \n",
            " 15  LastSeen           354369 non-null  object\n",
            "dtypes: int64(7), object(9)\n",
            "memory usage: 43.3+ MB\n",
            "None\n",
            "Количество дубликатов: 4\n"
          ]
        }
      ],
      "source": [
        "data_info(data)"
      ]
    },
    {
      "cell_type": "markdown",
      "metadata": {
        "id": "M46cHevmQ0Gf"
      },
      "source": [
        "### Выводы\n",
        "\n",
        "* Датасет состоит из 35369 строк и  16 столбцов.\n",
        "* В данным наблюдается много пропусков.\n",
        "* Присутствует незначительное число дубликатов.\n",
        "* Предстоит удалить лишние данные чтобы избежать переобучения, например, некоторые данные о датах и колонку NumberOfPictures."
      ]
    },
    {
      "cell_type": "markdown",
      "metadata": {
        "id": "prWsSfRgQ0Gg"
      },
      "source": [
        "## Предобработка данных"
      ]
    },
    {
      "cell_type": "code",
      "execution_count": null,
      "metadata": {
        "id": "fFG3s3GhQ0Gg"
      },
      "outputs": [],
      "source": [
        "# Удалим явные дубликаты\n",
        "data = data.drop_duplicates()"
      ]
    },
    {
      "cell_type": "markdown",
      "metadata": {
        "id": "6oXP7jbGQ0Gg"
      },
      "source": [
        "**Признак DateCreated**"
      ]
    },
    {
      "cell_type": "code",
      "execution_count": null,
      "metadata": {
        "id": "CqwfSrI9Q0Gg",
        "outputId": "a248db21-eb1c-4377-96aa-d7b6001f3c24"
      },
      "outputs": [
        {
          "data": {
            "text/plain": [
              "'Самая ранняя дата рагистрации объявления: 2014-03-10 00:00:00'"
            ]
          },
          "execution_count": 8,
          "metadata": {},
          "output_type": "execute_result"
        }
      ],
      "source": [
        "f\"Самая ранняя дата рагистрации объявления: {min(data['DateCreated'])}\""
      ]
    },
    {
      "cell_type": "code",
      "execution_count": null,
      "metadata": {
        "id": "5UsHk-uwQ0Gg",
        "outputId": "e7e66aa5-61be-4e23-80f1-39c887d72e81"
      },
      "outputs": [
        {
          "data": {
            "text/plain": [
              "'Самая поздняя дата рагистрации объявления: 2016-04-07 00:00:00'"
            ]
          },
          "execution_count": 9,
          "metadata": {},
          "output_type": "execute_result"
        }
      ],
      "source": [
        "f\"Самая поздняя дата рагистрации объявления: {max(data['DateCreated'])}\""
      ]
    },
    {
      "cell_type": "code",
      "execution_count": null,
      "metadata": {
        "id": "DW-qQ46SQ0Gg",
        "outputId": "ecae4d24-70fa-4e33-b03d-93d90b1684b6"
      },
      "outputs": [
        {
          "data": {
            "text/plain": [
              "sonstige_autos    14\n",
              "volkswagen        14\n",
              "mercedes_benz      6\n",
              "opel               5\n",
              "trabant            4\n",
              "bmw                3\n",
              "mitsubishi         2\n",
              "fiat               2\n",
              "ford               2\n",
              "alfa_romeo         2\n",
              "audi               2\n",
              "citroen            2\n",
              "porsche            1\n",
              "land_rover         1\n",
              "peugeot            1\n",
              "skoda              1\n",
              "renault            1\n",
              "rover              1\n",
              "subaru             1\n",
              "chrysler           1\n",
              "Name: Brand, dtype: int64"
            ]
          },
          "execution_count": 10,
          "metadata": {},
          "output_type": "execute_result"
        }
      ],
      "source": [
        "\n",
        "data.loc[data['RegistrationYear'] < 1900, 'Brand'].value_counts()"
      ]
    },
    {
      "cell_type": "code",
      "execution_count": null,
      "metadata": {
        "id": "mjOerq7ZQ0Gg"
      },
      "outputs": [],
      "source": [
        "# Удалим объявления, опубликованные после 2023, до 1900 года и те, год выпуска которых превышает год публикации объявления\n",
        "\n",
        "data['DateCreated'] = pd.to_datetime(data['DateCreated'], format='%Y-%m-%d %H:%M:%S')\n",
        "data = data[(data['RegistrationYear'] >= 1900) & (data['RegistrationYear'] <= 2016) & (data['DateCreated'].dt.year >= 2014)\n",
        "        & (data['RegistrationYear'] <= data['DateCreated'].dt.year)]"
      ]
    },
    {
      "cell_type": "markdown",
      "metadata": {
        "id": "mr_Be8X_Q0Gh"
      },
      "source": [
        "**Признак Price**"
      ]
    },
    {
      "cell_type": "code",
      "execution_count": null,
      "metadata": {
        "id": "XZTzToXyQ0Gh",
        "outputId": "9a3a3e30-2954-4060-a85a-4600222cd0c6"
      },
      "outputs": [
        {
          "data": {
            "text/plain": [
              "'Количество объявлений с нулевой ценой: 10008'"
            ]
          },
          "execution_count": 12,
          "metadata": {},
          "output_type": "execute_result"
        }
      ],
      "source": [
        "# При просмотре данных обнаружена позиция с нулевой ценой.\n",
        "# Проверим количество таких строк.\n",
        "\n",
        "f\"Количество объявлений с нулевой ценой: {len(data.loc[data['Price'] == 0])}\""
      ]
    },
    {
      "cell_type": "code",
      "execution_count": null,
      "metadata": {
        "id": "trSDJY9fQ0Gh",
        "outputId": "113b8022-8505-409d-ca6f-aea5f8f200cc"
      },
      "outputs": [
        {
          "data": {
            "text/plain": [
              "'Количество объявлений с нулевой ценой: 10008'"
            ]
          },
          "execution_count": 13,
          "metadata": {},
          "output_type": "execute_result"
        },
        {
          "data": {
            "image/png": "[encoded data removed]",
            "text/plain": [
              "<Figure size 432x288 with 1 Axes>"
            ]
          },
          "metadata": {
            "needs_background": "light"
          },
          "output_type": "display_data"
        }
      ],
      "source": [
        "# При просмотре данных обнаружена позиция с нулевой ценой.\n",
        "# Проверим количество таких строк.\n",
        "\n",
        "sns.histplot(data['Price'], bins=20)\n",
        "f\"Количество объявлений с нулевой ценой: {len(data.loc[data['Price'] == 0])}\""
      ]
    },
    {
      "cell_type": "code",
      "execution_count": null,
      "metadata": {
        "id": "Odne-omkQ0Gh",
        "outputId": "efbcbcce-fbfd-4110-c351-32d04c5593c9"
      },
      "outputs": [
        {
          "data": {
            "text/plain": [
              "count    339769.000000\n",
              "mean       4471.332061\n",
              "std        4546.037804\n",
              "min           0.000000\n",
              "25%        1099.000000\n",
              "50%        2799.000000\n",
              "75%        6500.000000\n",
              "max       20000.000000\n",
              "Name: Price, dtype: float64"
            ]
          },
          "execution_count": 14,
          "metadata": {},
          "output_type": "execute_result"
        }
      ],
      "source": [
        "data['Price'].describe()"
      ]
    },
    {
      "cell_type": "code",
      "execution_count": null,
      "metadata": {
        "id": "k5dxpmmZQ0Gi"
      },
      "outputs": [],
      "source": [
        "# Скорее всего нулевая цена - это ошибочные данные. Удалим их.\n",
        "\n",
        "data = data.loc[data['Price'] > 1000]"
      ]
    },
    {
      "cell_type": "markdown",
      "metadata": {
        "id": "zomSz2HUQ0Gi"
      },
      "source": [
        "**Признак Model**"
      ]
    },
    {
      "cell_type": "code",
      "execution_count": null,
      "metadata": {
        "id": "Kbd7ZmkQQ0Gi",
        "outputId": "6b15b5b5-22a0-4e4c-b80e-b38c80f86ef5"
      },
      "outputs": [
        {
          "data": {
            "text/plain": [
              "'Количество объявлений с незаполненной моделью: 9669'"
            ]
          },
          "execution_count": 16,
          "metadata": {},
          "output_type": "execute_result"
        }
      ],
      "source": [
        "f\"Количество объявлений с незаполненной моделью: {len(data.loc[data['Model'].isna()])}\""
      ]
    },
    {
      "cell_type": "markdown",
      "metadata": {
        "id": "LdgIwiJ3Q0Gi"
      },
      "source": [
        "Очевидно, что модель машины сильно влияет на цену. Отсутствующие данные помешают обучению, удалим их."
      ]
    },
    {
      "cell_type": "code",
      "execution_count": null,
      "metadata": {
        "id": "z6AO7ymYQ0Gj"
      },
      "outputs": [],
      "source": [
        "data = data.loc[~data['Model'].isna()]"
      ]
    },
    {
      "cell_type": "markdown",
      "metadata": {
        "id": "5DrHlKnlQ0Gj"
      },
      "source": [
        "**Признак Power**"
      ]
    },
    {
      "cell_type": "code",
      "execution_count": null,
      "metadata": {
        "id": "paJRIjBXQ0Gj",
        "outputId": "26d133be-d679-49d3-c498-d016d6dbf482"
      },
      "outputs": [
        {
          "data": {
            "text/plain": [
              "'Количество автомобилей с мощностью > 1000 л.с.: 15979'"
            ]
          },
          "execution_count": 18,
          "metadata": {},
          "output_type": "execute_result"
        }
      ],
      "source": [
        "# Рассмотрим автомобили с неправдоподобными значениями мощности\n",
        "\n",
        "f\"Количество автомобилей с мощностью > 1000 л.с.: {len(data.loc[(data['Power'] > 1000) | (data['Power'] <= 0)])}\""
      ]
    },
    {
      "cell_type": "code",
      "execution_count": null,
      "metadata": {
        "id": "z-oxza-RQ0Gj"
      },
      "outputs": [],
      "source": [
        "# Заполним все неправдоподобные значения медианными для автомобилей той же модели\n",
        "\n",
        "data.loc[(data['Power'] > 1000) | (data['Power'] <= 0), 'Power'] = None\n",
        "data['Power'] = data['Power'].fillna(data.groupby('Model')['Power'].transform('median'))\n",
        "data = data.loc[~data['Power'].isna()]\n",
        "data['Power'] = data['Power'].astype('int64')"
      ]
    },
    {
      "cell_type": "code",
      "execution_count": null,
      "metadata": {
        "id": "g_vWq5XUQ0Gj",
        "outputId": "6d68ec84-0c8c-4da6-e78f-68a26e3e3af6"
      },
      "outputs": [
        {
          "data": {
            "text/plain": [
              "<AxesSubplot:xlabel='Power', ylabel='Count'>"
            ]
          },
          "execution_count": 20,
          "metadata": {},
          "output_type": "execute_result"
        },
        {
          "data": {
            "image/png": "[encoded data removed]",
            "text/plain": [
              "<Figure size 432x288 with 1 Axes>"
            ]
          },
          "metadata": {
            "needs_background": "light"
          },
          "output_type": "display_data"
        }
      ],
      "source": [
        "sns.histplot(data['Power'], bins=20)"
      ]
    },
    {
      "cell_type": "code",
      "execution_count": null,
      "metadata": {
        "id": "gu4LvULaQ0Gk"
      },
      "outputs": [],
      "source": [
        " # Заполним пропуски для VehicleType, Gearbox и FuelType\n",
        "\n",
        "data['VehicleType'] = data['VehicleType'].fillna(data\n",
        "                                                  .groupby('Model')['VehicleType']\n",
        "                                                  .transform(lambda x: x.value_counts().idxmax())\n",
        "                                                 )\n",
        "\n",
        "data['Gearbox'] = data['Gearbox'].fillna(data\n",
        "                                         .groupby('Model')['VehicleType']\n",
        "                                         .transform(lambda x: x.value_counts().idxmax())\n",
        "                                        )\n",
        "\n",
        "data['FuelType'] = data['FuelType'].fillna(data\n",
        "                                           .groupby('Model')['VehicleType']\n",
        "                                           .transform(lambda x: x.value_counts().idxmax())\n",
        "                                          )"
      ]
    },
    {
      "cell_type": "code",
      "execution_count": null,
      "metadata": {
        "id": "zfnFlysIQ0Gl"
      },
      "outputs": [],
      "source": [
        "# Удалим избыточные признаки\n",
        "\n",
        "data = data.drop(['DateCrawled', 'RegistrationMonth', 'NumberOfPictures', 'DateCreated', 'PostalCode', 'LastSeen'], axis=1)"
      ]
    },
    {
      "cell_type": "code",
      "execution_count": null,
      "metadata": {
        "id": "9ycloRDnQ0Gl"
      },
      "outputs": [],
      "source": [
        "# Разделим признаки на числовые и категориальные\n",
        "\n",
        "numerical_features = ['Price', 'RegistrationYear', 'Power', 'Kilometer']\n",
        "categorical_features = ['VehicleType', 'Gearbox', 'Model', 'FuelType', 'Repaired', 'Brand']"
      ]
    },
    {
      "cell_type": "code",
      "execution_count": null,
      "metadata": {
        "id": "aFKuCJngQ0Gl",
        "outputId": "11b869b1-a161-423f-ac64-c1c9de8f139a"
      },
      "outputs": [
        {
          "data": {
            "text/html": [
              "<div>\n",
              "<style scoped>\n",
              "    .dataframe tbody tr th:only-of-type {\n",
              "        vertical-align: middle;\n",
              "    }\n",
              "\n",
              "    .dataframe tbody tr th {\n",
              "        vertical-align: top;\n",
              "    }\n",
              "\n",
              "    .dataframe thead th {\n",
              "        text-align: right;\n",
              "    }\n",
              "</style>\n",
              "<table border=\"1\" class=\"dataframe\">\n",
              "  <thead>\n",
              "    <tr style=\"text-align: right;\">\n",
              "      <th></th>\n",
              "      <th>Price</th>\n",
              "      <th>RegistrationYear</th>\n",
              "      <th>Power</th>\n",
              "      <th>Kilometer</th>\n",
              "    </tr>\n",
              "  </thead>\n",
              "  <tbody>\n",
              "    <tr>\n",
              "      <th>Price</th>\n",
              "      <td>1.000000</td>\n",
              "      <td>0.429820</td>\n",
              "      <td>0.446765</td>\n",
              "      <td>-0.374446</td>\n",
              "    </tr>\n",
              "    <tr>\n",
              "      <th>RegistrationYear</th>\n",
              "      <td>0.429820</td>\n",
              "      <td>1.000000</td>\n",
              "      <td>0.042179</td>\n",
              "      <td>-0.280122</td>\n",
              "    </tr>\n",
              "    <tr>\n",
              "      <th>Power</th>\n",
              "      <td>0.446765</td>\n",
              "      <td>0.042179</td>\n",
              "      <td>1.000000</td>\n",
              "      <td>0.171870</td>\n",
              "    </tr>\n",
              "    <tr>\n",
              "      <th>Kilometer</th>\n",
              "      <td>-0.374446</td>\n",
              "      <td>-0.280122</td>\n",
              "      <td>0.171870</td>\n",
              "      <td>1.000000</td>\n",
              "    </tr>\n",
              "  </tbody>\n",
              "</table>\n",
              "</div>"
            ],
            "text/plain": [
              "                     Price  RegistrationYear     Power  Kilometer\n",
              "Price             1.000000          0.429820  0.446765  -0.374446\n",
              "RegistrationYear  0.429820          1.000000  0.042179  -0.280122\n",
              "Power             0.446765          0.042179  1.000000   0.171870\n",
              "Kilometer        -0.374446         -0.280122  0.171870   1.000000"
            ]
          },
          "execution_count": 24,
          "metadata": {},
          "output_type": "execute_result"
        }
      ],
      "source": [
        "# Проверим есть ли корреляция между числовыми данными\n",
        "\n",
        "data[numerical_features].corr()"
      ]
    },
    {
      "cell_type": "markdown",
      "metadata": {
        "id": "rG_f-g6cQ0Gm"
      },
      "source": [
        "### Вывод:\n",
        "\n",
        "Рассмотрены предоставленые исторические данные (технические характеристики, комплектации и цены автомобилей).\n",
        "* Столбцы не влияющие на целевой признак (Price) были удалены.\n",
        "* Признаки были разделены на числовые и категориальные. Для категориальных признаков была проверена корреляция. Показано, что нет значительных взаимосвязей, которые могли бы негативно повлиять на обучение модели.\n"
      ]
    },
    {
      "cell_type": "markdown",
      "metadata": {
        "id": "tH99gMhCQ0Gm"
      },
      "source": [
        "<div style=\"background: #B0E0E6; padding: 5px; border: 1px solid SteelBlue; border-radius: 5px;\">\n",
        "    <font color='4682B4'><u><b>КОММЕНТАРИЙ СТУДЕНТА</b></u></font>\n",
        "    <br />\n",
        "    <font color='4682B4'>Буду изучать.</font>\n",
        "</div>"
      ]
    },
    {
      "cell_type": "markdown",
      "metadata": {
        "id": "8TlURy7YQ0Gn"
      },
      "source": [
        "## Формирование выборок"
      ]
    },
    {
      "cell_type": "code",
      "execution_count": null,
      "metadata": {
        "id": "Ddwjc0cuQ0Gn"
      },
      "outputs": [],
      "source": [
        "data_t=data"
      ]
    },
    {
      "cell_type": "raw",
      "metadata": {
        "id": "qEbP_XItQ0Gn"
      },
      "source": [
        "# Кодируем категориальные признаки\n",
        "for col in categorical_features:\n",
        "    data[col]=pd.get_dummies(data[categorical_features], drop_first=True)"
      ]
    },
    {
      "cell_type": "code",
      "execution_count": null,
      "metadata": {
        "id": "Kl5mr9m6Q0Go"
      },
      "outputs": [],
      "source": [
        "# Проведем кросс-валидацию с перемешиванием подвыборок\n",
        "\n",
        "cv = KFold(n_splits=3, shuffle=True, random_state=RANDOM_STATE)"
      ]
    },
    {
      "cell_type": "code",
      "execution_count": null,
      "metadata": {
        "id": "HpjhFfZVQ0Go"
      },
      "outputs": [],
      "source": [
        "# Данные разделим на тестовую и обучающую выборки\n",
        "\n",
        "X = data.drop(columns='Price')\n",
        "y = data['Price']\n",
        "X2 = data_t.drop(columns='Price')\n",
        "y2 = data_t['Price']\n",
        "\n",
        "X_train, X_test, y_train, y_test = train_test_split(X,y, train_size=0.8)"
      ]
    },
    {
      "cell_type": "code",
      "execution_count": null,
      "metadata": {
        "id": "bpI4HuRdQ0Gp",
        "outputId": "23d42951-9e92-4562-d153-4c479c620342"
      },
      "outputs": [
        {
          "data": {
            "text/plain": [
              "OneHotEncoder(drop='first', sparse=False)"
            ]
          },
          "execution_count": 57,
          "metadata": {},
          "output_type": "execute_result"
        }
      ],
      "source": [
        "# Кодирование остальных категориальных признаков с использованием OneHotEncoder\n",
        "encoder = OneHotEncoder(drop='first', sparse=False)\n",
        "encoder.fit(X_train[['Gearbox', 'FuelType', 'VehicleType', 'Repaired']])\n",
        "\n"
      ]
    },
    {
      "cell_type": "code",
      "execution_count": null,
      "metadata": {
        "id": "huAaP6zUQ0Gp"
      },
      "outputs": [],
      "source": [
        "# Кодирование Бренда и Модели с использованием MEstimateEncoder\n",
        "me_enc = MEstimateEncoder(return_df=True)\n",
        "me_enc.fit(X_train[['Model', 'Brand']], y_train)\n",
        "\n",
        "X_train_me = pd.DataFrame(me_enc.transform(X_train[['Model', 'Brand']]), columns=me_enc.get_feature_names_out())\n",
        "X_test_me = pd.DataFrame(me_enc.transform(X_test[['Model', 'Brand']]), columns=me_enc.get_feature_names_out())\n"
      ]
    },
    {
      "cell_type": "code",
      "execution_count": null,
      "metadata": {
        "id": "nkkgeM4DQ0Gp",
        "outputId": "ea494e73-6d81-4eab-af16-99ef4562af66"
      },
      "outputs": [
        {
          "data": {
            "text/html": [
              "<div>\n",
              "<style scoped>\n",
              "    .dataframe tbody tr th:only-of-type {\n",
              "        vertical-align: middle;\n",
              "    }\n",
              "\n",
              "    .dataframe tbody tr th {\n",
              "        vertical-align: top;\n",
              "    }\n",
              "\n",
              "    .dataframe thead th {\n",
              "        text-align: right;\n",
              "    }\n",
              "</style>\n",
              "<table border=\"1\" class=\"dataframe\">\n",
              "  <thead>\n",
              "    <tr style=\"text-align: right;\">\n",
              "      <th></th>\n",
              "      <th>RegistrationYear</th>\n",
              "      <th>Power</th>\n",
              "      <th>Kilometer</th>\n",
              "      <th>0</th>\n",
              "      <th>1</th>\n",
              "      <th>2</th>\n",
              "      <th>3</th>\n",
              "      <th>4</th>\n",
              "      <th>5</th>\n",
              "      <th>6</th>\n",
              "      <th>...</th>\n",
              "      <th>22</th>\n",
              "      <th>23</th>\n",
              "      <th>24</th>\n",
              "      <th>25</th>\n",
              "      <th>26</th>\n",
              "      <th>27</th>\n",
              "      <th>28</th>\n",
              "      <th>29</th>\n",
              "      <th>Model</th>\n",
              "      <th>Brand</th>\n",
              "    </tr>\n",
              "  </thead>\n",
              "  <tbody>\n",
              "    <tr>\n",
              "      <th>107900</th>\n",
              "      <td>1994</td>\n",
              "      <td>102</td>\n",
              "      <td>150000</td>\n",
              "      <td>0.0</td>\n",
              "      <td>0.0</td>\n",
              "      <td>0.0</td>\n",
              "      <td>1.0</td>\n",
              "      <td>0.0</td>\n",
              "      <td>0.0</td>\n",
              "      <td>0.0</td>\n",
              "      <td>...</td>\n",
              "      <td>0.0</td>\n",
              "      <td>0.0</td>\n",
              "      <td>0.0</td>\n",
              "      <td>0.0</td>\n",
              "      <td>0.0</td>\n",
              "      <td>0.0</td>\n",
              "      <td>1.0</td>\n",
              "      <td>0.0</td>\n",
              "      <td>5902.933552</td>\n",
              "      <td>7144.577720</td>\n",
              "    </tr>\n",
              "    <tr>\n",
              "      <th>225214</th>\n",
              "      <td>2004</td>\n",
              "      <td>98</td>\n",
              "      <td>150000</td>\n",
              "      <td>NaN</td>\n",
              "      <td>NaN</td>\n",
              "      <td>NaN</td>\n",
              "      <td>NaN</td>\n",
              "      <td>NaN</td>\n",
              "      <td>NaN</td>\n",
              "      <td>NaN</td>\n",
              "      <td>...</td>\n",
              "      <td>NaN</td>\n",
              "      <td>NaN</td>\n",
              "      <td>NaN</td>\n",
              "      <td>NaN</td>\n",
              "      <td>NaN</td>\n",
              "      <td>NaN</td>\n",
              "      <td>NaN</td>\n",
              "      <td>NaN</td>\n",
              "      <td>3148.247013</td>\n",
              "      <td>3538.190287</td>\n",
              "    </tr>\n",
              "    <tr>\n",
              "      <th>142095</th>\n",
              "      <td>2004</td>\n",
              "      <td>116</td>\n",
              "      <td>125000</td>\n",
              "      <td>0.0</td>\n",
              "      <td>0.0</td>\n",
              "      <td>0.0</td>\n",
              "      <td>1.0</td>\n",
              "      <td>0.0</td>\n",
              "      <td>0.0</td>\n",
              "      <td>0.0</td>\n",
              "      <td>...</td>\n",
              "      <td>0.0</td>\n",
              "      <td>0.0</td>\n",
              "      <td>0.0</td>\n",
              "      <td>0.0</td>\n",
              "      <td>0.0</td>\n",
              "      <td>0.0</td>\n",
              "      <td>0.0</td>\n",
              "      <td>0.0</td>\n",
              "      <td>4237.446079</td>\n",
              "      <td>6705.798968</td>\n",
              "    </tr>\n",
              "    <tr>\n",
              "      <th>245092</th>\n",
              "      <td>1992</td>\n",
              "      <td>110</td>\n",
              "      <td>5000</td>\n",
              "      <td>NaN</td>\n",
              "      <td>NaN</td>\n",
              "      <td>NaN</td>\n",
              "      <td>NaN</td>\n",
              "      <td>NaN</td>\n",
              "      <td>NaN</td>\n",
              "      <td>NaN</td>\n",
              "      <td>...</td>\n",
              "      <td>NaN</td>\n",
              "      <td>NaN</td>\n",
              "      <td>NaN</td>\n",
              "      <td>NaN</td>\n",
              "      <td>NaN</td>\n",
              "      <td>NaN</td>\n",
              "      <td>NaN</td>\n",
              "      <td>NaN</td>\n",
              "      <td>5902.933552</td>\n",
              "      <td>7144.577720</td>\n",
              "    </tr>\n",
              "    <tr>\n",
              "      <th>238720</th>\n",
              "      <td>2014</td>\n",
              "      <td>200</td>\n",
              "      <td>30000</td>\n",
              "      <td>NaN</td>\n",
              "      <td>NaN</td>\n",
              "      <td>NaN</td>\n",
              "      <td>NaN</td>\n",
              "      <td>NaN</td>\n",
              "      <td>NaN</td>\n",
              "      <td>NaN</td>\n",
              "      <td>...</td>\n",
              "      <td>NaN</td>\n",
              "      <td>NaN</td>\n",
              "      <td>NaN</td>\n",
              "      <td>NaN</td>\n",
              "      <td>NaN</td>\n",
              "      <td>NaN</td>\n",
              "      <td>NaN</td>\n",
              "      <td>NaN</td>\n",
              "      <td>5814.063286</td>\n",
              "      <td>5419.772382</td>\n",
              "    </tr>\n",
              "  </tbody>\n",
              "</table>\n",
              "<p>5 rows × 35 columns</p>\n",
              "</div>"
            ],
            "text/plain": [
              "        RegistrationYear  Power  Kilometer    0    1    2    3    4    5    6  \\\n",
              "107900              1994    102     150000  0.0  0.0  0.0  1.0  0.0  0.0  0.0   \n",
              "225214              2004     98     150000  NaN  NaN  NaN  NaN  NaN  NaN  NaN   \n",
              "142095              2004    116     125000  0.0  0.0  0.0  1.0  0.0  0.0  0.0   \n",
              "245092              1992    110       5000  NaN  NaN  NaN  NaN  NaN  NaN  NaN   \n",
              "238720              2014    200      30000  NaN  NaN  NaN  NaN  NaN  NaN  NaN   \n",
              "\n",
              "        ...   22   23   24   25   26   27   28   29        Model        Brand  \n",
              "107900  ...  0.0  0.0  0.0  0.0  0.0  0.0  1.0  0.0  5902.933552  7144.577720  \n",
              "225214  ...  NaN  NaN  NaN  NaN  NaN  NaN  NaN  NaN  3148.247013  3538.190287  \n",
              "142095  ...  0.0  0.0  0.0  0.0  0.0  0.0  0.0  0.0  4237.446079  6705.798968  \n",
              "245092  ...  NaN  NaN  NaN  NaN  NaN  NaN  NaN  NaN  5902.933552  7144.577720  \n",
              "238720  ...  NaN  NaN  NaN  NaN  NaN  NaN  NaN  NaN  5814.063286  5419.772382  \n",
              "\n",
              "[5 rows x 35 columns]"
            ]
          },
          "execution_count": 59,
          "metadata": {},
          "output_type": "execute_result"
        }
      ],
      "source": [
        "X_train_enc = pd.DataFrame(encoder.transform(X_train[['Gearbox', 'FuelType', 'VehicleType', 'Repaired']]))\n",
        "X_test_enc = pd.DataFrame(encoder.transform(X_test[['Gearbox', 'FuelType', 'VehicleType', 'Repaired']]))\n",
        "\n",
        "\n",
        "# Объединение признаков\n",
        "X_train_final = X_train.drop(columns=['Model', 'Brand', 'Gearbox', 'FuelType', 'VehicleType', 'Repaired']).join(X_train_enc).join(X_train_me)\n",
        "X_test_final = X_test.drop(columns=['Model', 'Brand', 'Gearbox', 'FuelType', 'VehicleType', 'Repaired']).join(X_test_enc).join(X_test_me)\n",
        "\n",
        "X_train_final.head()\n"
      ]
    },
    {
      "cell_type": "code",
      "execution_count": null,
      "metadata": {
        "id": "P0hbIPxXQ0Gp"
      },
      "outputs": [],
      "source": [
        "# Масштабирование числовых признаков\n",
        "scaler = StandardScaler()\n",
        "X_train_scaled = scaler.fit_transform(X_train_final[numerical_features])\n",
        "X_test_scaled = scaler.transform(X_test_final[numerical_features])"
      ]
    },
    {
      "cell_type": "code",
      "execution_count": null,
      "metadata": {
        "id": "VKJdp4gCQ0Gq",
        "outputId": "c8f36e1e-849b-49ed-c17f-0b2d0f6b4c71"
      },
      "outputs": [
        {
          "name": "stdout",
          "output_type": "stream",
          "text": [
            "Размер признаков на обучающей выборке (197088, 9)\n",
            "Размер целевой переменной на обучении (197088,)\n",
            "Размер призаков на тестовой выборке (49273, 9)\n",
            "Размер целевой переменной на тесте (49273,)\n"
          ]
        }
      ],
      "source": [
        "print('Размер признаков на обучающей выборке', X_train.shape)\n",
        "print('Размер целевой переменной на обучении', y_train.shape)\n",
        "print('Размер призаков на тестовой выборке', X_test.shape)\n",
        "print('Размер целевой переменной на тесте', y_test.shape)"
      ]
    },
    {
      "cell_type": "code",
      "execution_count": null,
      "metadata": {
        "id": "CPjWNd90Q0Gq"
      },
      "outputs": [],
      "source": [
        "# Применим кодировку категориальных переменных для модели lightgbm\n",
        "\n",
        "for c in X2.columns:\n",
        "    col_type = X2[c].dtype\n",
        "    if col_type == 'object' or col_type.name == 'category':\n",
        "        X2[c] = X2[c].astype('category')"
      ]
    },
    {
      "cell_type": "code",
      "execution_count": null,
      "metadata": {
        "id": "936O5LDDQ0Gr"
      },
      "outputs": [],
      "source": [
        "X2_train, X2_test, y2_train, y2_test = train_test_split(X2,y2, train_size=0.9)"
      ]
    },
    {
      "cell_type": "markdown",
      "metadata": {
        "id": "XsaGBdvGQ0Gr"
      },
      "source": [
        "### Выводы:"
      ]
    },
    {
      "cell_type": "markdown",
      "metadata": {
        "id": "OnOT1ia1Q0Gr"
      },
      "source": [
        "* Проведена кросс-валидация с перемешиванием выборок\n",
        "* Произведено кодирование категориальных признаков\n",
        "* Данные разделены на тестовую и обучающую выборки"
      ]
    },
    {
      "cell_type": "markdown",
      "metadata": {
        "id": "x_lrOIW8Q0Gr"
      },
      "source": [
        "## Обучение моделей"
      ]
    },
    {
      "cell_type": "markdown",
      "metadata": {
        "id": "kFEPJsGYQ0Gs"
      },
      "source": [
        "### CatBoostRegressor"
      ]
    },
    {
      "cell_type": "code",
      "execution_count": null,
      "metadata": {
        "id": "FIq82QIuQ0Gs"
      },
      "outputs": [],
      "source": [
        "model_cbr = CatBoostRegressor(random_state=RANDOM_STATE, loss_function='RMSE')"
      ]
    },
    {
      "cell_type": "code",
      "execution_count": null,
      "metadata": {
        "id": "r3YnUJLkQ0Gs"
      },
      "outputs": [],
      "source": [
        "grid_cbr = {'iterations': [100, 150, 200],\n",
        "        'depth': [2, 8,10]}"
      ]
    },
    {
      "cell_type": "code",
      "execution_count": null,
      "metadata": {
        "scrolled": true,
        "id": "Mms7W2PnQ0Gs",
        "outputId": "ba776519-3131-4d41-a71a-9bcf8de77891"
      },
      "outputs": [
        {
          "name": "stdout",
          "output_type": "stream",
          "text": [
            "0:\tlearn: 7193.2284782\ttest: 7160.8335196\tbest: 7160.8335196 (0)\ttotal: 23.7ms\tremaining: 2.34s\n",
            "1:\tlearn: 7024.2155627\ttest: 6991.8664529\tbest: 6991.8664529 (1)\ttotal: 43ms\tremaining: 2.1s\n",
            "2:\tlearn: 6860.8170957\ttest: 6828.8061675\tbest: 6828.8061675 (2)\ttotal: 62.6ms\tremaining: 2.02s\n",
            "3:\tlearn: 6703.5269793\ttest: 6671.6728248\tbest: 6671.6728248 (3)\ttotal: 80.6ms\tremaining: 1.93s\n",
            "4:\tlearn: 6551.5965094\ttest: 6520.0758258\tbest: 6520.0758258 (4)\ttotal: 102ms\tremaining: 1.94s\n",
            "5:\tlearn: 6405.4958102\ttest: 6374.1250564\tbest: 6374.1250564 (5)\ttotal: 120ms\tremaining: 1.88s\n",
            "6:\tlearn: 6264.5097368\ttest: 6233.3896752\tbest: 6233.3896752 (6)\ttotal: 138ms\tremaining: 1.83s\n",
            "7:\tlearn: 6126.7289135\ttest: 6095.7357070\tbest: 6095.7357070 (7)\ttotal: 156ms\tremaining: 1.79s\n",
            "8:\tlearn: 5995.7751129\ttest: 5965.0460880\tbest: 5965.0460880 (8)\ttotal: 174ms\tremaining: 1.76s\n",
            "9:\tlearn: 5867.8151138\ttest: 5837.1947383\tbest: 5837.1947383 (9)\ttotal: 197ms\tremaining: 1.77s\n",
            "10:\tlearn: 5745.1912816\ttest: 5714.5883316\tbest: 5714.5883316 (10)\ttotal: 215ms\tremaining: 1.74s\n",
            "11:\tlearn: 5627.2426947\ttest: 5596.9129617\tbest: 5596.9129617 (11)\ttotal: 232ms\tremaining: 1.7s\n",
            "12:\tlearn: 5513.1798470\ttest: 5482.8062838\tbest: 5482.8062838 (12)\ttotal: 249ms\tremaining: 1.67s\n",
            "13:\tlearn: 5403.2158603\ttest: 5372.9311783\tbest: 5372.9311783 (13)\ttotal: 267ms\tremaining: 1.64s\n",
            "14:\tlearn: 5297.8302167\ttest: 5267.8718881\tbest: 5267.8718881 (14)\ttotal: 291ms\tremaining: 1.65s\n",
            "15:\tlearn: 5195.9515622\ttest: 5165.9668073\tbest: 5165.9668073 (15)\ttotal: 310ms\tremaining: 1.63s\n",
            "16:\tlearn: 5096.6797024\ttest: 5066.5204657\tbest: 5066.5204657 (16)\ttotal: 334ms\tremaining: 1.63s\n",
            "17:\tlearn: 5001.5666089\ttest: 4971.6117290\tbest: 4971.6117290 (17)\ttotal: 359ms\tremaining: 1.63s\n",
            "18:\tlearn: 4910.1854729\ttest: 4880.2119652\tbest: 4880.2119652 (18)\ttotal: 379ms\tremaining: 1.61s\n",
            "19:\tlearn: 4822.6644990\ttest: 4792.8522531\tbest: 4792.8522531 (19)\ttotal: 400ms\tremaining: 1.6s\n",
            "20:\tlearn: 4738.8452230\ttest: 4709.1931869\tbest: 4709.1931869 (20)\ttotal: 418ms\tremaining: 1.57s\n",
            "21:\tlearn: 4656.4847067\ttest: 4626.6722211\tbest: 4626.6722211 (21)\ttotal: 435ms\tremaining: 1.54s\n",
            "22:\tlearn: 4577.5907116\ttest: 4547.7763324\tbest: 4547.7763324 (22)\ttotal: 452ms\tremaining: 1.51s\n",
            "23:\tlearn: 4502.8475800\ttest: 4472.9134718\tbest: 4472.9134718 (23)\ttotal: 470ms\tremaining: 1.49s\n",
            "24:\tlearn: 4430.2607152\ttest: 4400.4310443\tbest: 4400.4310443 (24)\ttotal: 495ms\tremaining: 1.48s\n",
            "25:\tlearn: 4360.6898737\ttest: 4330.9734848\tbest: 4330.9734848 (25)\ttotal: 513ms\tremaining: 1.46s\n",
            "26:\tlearn: 4293.9197898\ttest: 4264.4731951\tbest: 4264.4731951 (26)\ttotal: 529ms\tremaining: 1.43s\n",
            "27:\tlearn: 4229.8011506\ttest: 4200.4595314\tbest: 4200.4595314 (27)\ttotal: 548ms\tremaining: 1.41s\n",
            "28:\tlearn: 4166.8609664\ttest: 4137.4343294\tbest: 4137.4343294 (28)\ttotal: 565ms\tremaining: 1.38s\n",
            "29:\tlearn: 4106.2389859\ttest: 4076.7730437\tbest: 4076.7730437 (29)\ttotal: 584ms\tremaining: 1.36s\n",
            "30:\tlearn: 4049.1739851\ttest: 4019.8663289\tbest: 4019.8663289 (30)\ttotal: 603ms\tremaining: 1.34s\n",
            "31:\tlearn: 3994.1868561\ttest: 3964.9111980\tbest: 3964.9111980 (31)\ttotal: 620ms\tremaining: 1.32s\n",
            "32:\tlearn: 3941.2011852\ttest: 3911.8399880\tbest: 3911.8399880 (32)\ttotal: 637ms\tremaining: 1.29s\n",
            "33:\tlearn: 3890.1679366\ttest: 3860.8361517\tbest: 3860.8361517 (33)\ttotal: 654ms\tremaining: 1.27s\n",
            "34:\tlearn: 3839.8942578\ttest: 3810.5105137\tbest: 3810.5105137 (34)\ttotal: 686ms\tremaining: 1.27s\n",
            "35:\tlearn: 3792.0790320\ttest: 3762.3722443\tbest: 3762.3722443 (35)\ttotal: 707ms\tremaining: 1.26s\n",
            "36:\tlearn: 3746.9076305\ttest: 3717.0773683\tbest: 3717.0773683 (36)\ttotal: 725ms\tremaining: 1.23s\n",
            "37:\tlearn: 3704.1326698\ttest: 3674.1620297\tbest: 3674.1620297 (37)\ttotal: 743ms\tremaining: 1.21s\n",
            "38:\tlearn: 3659.7066738\ttest: 3629.8320636\tbest: 3629.8320636 (38)\ttotal: 761ms\tremaining: 1.19s\n",
            "39:\tlearn: 3619.2573145\ttest: 3589.3437850\tbest: 3589.3437850 (39)\ttotal: 779ms\tremaining: 1.17s\n",
            "40:\tlearn: 3579.8235929\ttest: 3550.0086645\tbest: 3550.0086645 (40)\ttotal: 799ms\tremaining: 1.15s\n",
            "41:\tlearn: 3541.5478592\ttest: 3511.6088090\tbest: 3511.6088090 (41)\ttotal: 817ms\tremaining: 1.13s\n",
            "42:\tlearn: 3503.2689229\ttest: 3473.4145311\tbest: 3473.4145311 (42)\ttotal: 834ms\tremaining: 1.1s\n",
            "43:\tlearn: 3469.1963990\ttest: 3439.2462953\tbest: 3439.2462953 (43)\ttotal: 852ms\tremaining: 1.08s\n",
            "44:\tlearn: 3435.7057086\ttest: 3405.8493928\tbest: 3405.8493928 (44)\ttotal: 870ms\tremaining: 1.06s\n",
            "45:\tlearn: 3400.7315370\ttest: 3371.0736654\tbest: 3371.0736654 (45)\ttotal: 894ms\tremaining: 1.05s\n",
            "46:\tlearn: 3370.0266326\ttest: 3340.5216971\tbest: 3340.5216971 (46)\ttotal: 912ms\tremaining: 1.03s\n",
            "47:\tlearn: 3338.7854017\ttest: 3309.3979976\tbest: 3309.3979976 (47)\ttotal: 932ms\tremaining: 1.01s\n",
            "48:\tlearn: 3309.1233461\ttest: 3279.6600367\tbest: 3279.6600367 (48)\ttotal: 950ms\tremaining: 988ms\n",
            "49:\tlearn: 3282.0004834\ttest: 3252.4118769\tbest: 3252.4118769 (49)\ttotal: 968ms\tremaining: 968ms\n",
            "50:\tlearn: 3254.5616610\ttest: 3225.1293578\tbest: 3225.1293578 (50)\ttotal: 990ms\tremaining: 951ms\n",
            "51:\tlearn: 3229.2748363\ttest: 3200.0194539\tbest: 3200.0194539 (51)\ttotal: 1.01s\tremaining: 930ms\n",
            "52:\tlearn: 3205.2998838\ttest: 3176.2589125\tbest: 3176.2589125 (52)\ttotal: 1.02s\tremaining: 909ms\n",
            "53:\tlearn: 3182.3513719\ttest: 3153.3817229\tbest: 3153.3817229 (53)\ttotal: 1.04s\tremaining: 890ms\n",
            "54:\tlearn: 3158.8421398\ttest: 3129.9228315\tbest: 3129.9228315 (54)\ttotal: 1.06s\tremaining: 869ms\n",
            "55:\tlearn: 3137.5533598\ttest: 3108.5958195\tbest: 3108.5958195 (55)\ttotal: 1.09s\tremaining: 857ms\n",
            "56:\tlearn: 3115.5836105\ttest: 3086.6874370\tbest: 3086.6874370 (56)\ttotal: 1.11s\tremaining: 839ms\n",
            "57:\tlearn: 3094.1676348\ttest: 3065.4477847\tbest: 3065.4477847 (57)\ttotal: 1.14s\tremaining: 824ms\n",
            "58:\tlearn: 3073.7912020\ttest: 3045.0270990\tbest: 3045.0270990 (58)\ttotal: 1.16s\tremaining: 807ms\n",
            "59:\tlearn: 3055.8963234\ttest: 3027.1038086\tbest: 3027.1038086 (59)\ttotal: 1.18s\tremaining: 789ms\n",
            "60:\tlearn: 3038.4972855\ttest: 3009.5353330\tbest: 3009.5353330 (60)\ttotal: 1.21s\tremaining: 771ms\n",
            "61:\tlearn: 3018.6714256\ttest: 2989.7798879\tbest: 2989.7798879 (61)\ttotal: 1.22s\tremaining: 750ms\n",
            "62:\tlearn: 3001.2707306\ttest: 2972.4203103\tbest: 2972.4203103 (62)\ttotal: 1.24s\tremaining: 729ms\n",
            "63:\tlearn: 2983.9130459\ttest: 2955.1281044\tbest: 2955.1281044 (63)\ttotal: 1.26s\tremaining: 709ms\n",
            "64:\tlearn: 2965.3506177\ttest: 2936.8019320\tbest: 2936.8019320 (64)\ttotal: 1.28s\tremaining: 690ms\n",
            "65:\tlearn: 2949.1287968\ttest: 2920.6685473\tbest: 2920.6685473 (65)\ttotal: 1.3s\tremaining: 670ms\n",
            "66:\tlearn: 2935.2029741\ttest: 2906.7175677\tbest: 2906.7175677 (66)\ttotal: 1.32s\tremaining: 648ms\n",
            "67:\tlearn: 2919.7612092\ttest: 2891.4942543\tbest: 2891.4942543 (67)\ttotal: 1.33s\tremaining: 627ms\n",
            "68:\tlearn: 2906.6480770\ttest: 2878.5093660\tbest: 2878.5093660 (68)\ttotal: 1.35s\tremaining: 607ms\n",
            "69:\tlearn: 2894.1505739\ttest: 2865.8414497\tbest: 2865.8414497 (69)\ttotal: 1.37s\tremaining: 587ms\n",
            "70:\tlearn: 2881.0638134\ttest: 2853.0100546\tbest: 2853.0100546 (70)\ttotal: 1.39s\tremaining: 568ms\n",
            "71:\tlearn: 2867.6907124\ttest: 2839.6119356\tbest: 2839.6119356 (71)\ttotal: 1.41s\tremaining: 548ms\n",
            "72:\tlearn: 2855.2328906\ttest: 2826.8923662\tbest: 2826.8923662 (72)\ttotal: 1.43s\tremaining: 527ms\n",
            "73:\tlearn: 2843.2326994\ttest: 2815.1182122\tbest: 2815.1182122 (73)\ttotal: 1.44s\tremaining: 507ms\n",
            "74:\tlearn: 2832.0023567\ttest: 2804.1215524\tbest: 2804.1215524 (74)\ttotal: 1.46s\tremaining: 487ms\n",
            "75:\tlearn: 2819.5698899\ttest: 2791.9688208\tbest: 2791.9688208 (75)\ttotal: 1.48s\tremaining: 468ms\n",
            "76:\tlearn: 2808.7038271\ttest: 2781.1348066\tbest: 2781.1348066 (76)\ttotal: 1.5s\tremaining: 448ms\n",
            "77:\tlearn: 2798.2874868\ttest: 2770.5098411\tbest: 2770.5098411 (77)\ttotal: 1.52s\tremaining: 428ms\n",
            "78:\tlearn: 2788.9239741\ttest: 2761.2265500\tbest: 2761.2265500 (78)\ttotal: 1.53s\tremaining: 408ms\n",
            "79:\tlearn: 2777.5203310\ttest: 2749.9954193\tbest: 2749.9954193 (79)\ttotal: 1.55s\tremaining: 388ms\n",
            "80:\tlearn: 2767.0267616\ttest: 2739.7637904\tbest: 2739.7637904 (80)\ttotal: 1.57s\tremaining: 370ms\n",
            "81:\tlearn: 2758.0771517\ttest: 2731.1217580\tbest: 2731.1217580 (81)\ttotal: 1.6s\tremaining: 350ms\n",
            "82:\tlearn: 2747.9021557\ttest: 2720.9231720\tbest: 2720.9231720 (82)\ttotal: 1.61s\tremaining: 331ms\n",
            "83:\tlearn: 2736.4416558\ttest: 2709.6649903\tbest: 2709.6649903 (83)\ttotal: 1.63s\tremaining: 311ms\n",
            "84:\tlearn: 2727.8259452\ttest: 2700.7279930\tbest: 2700.7279930 (84)\ttotal: 1.65s\tremaining: 291ms\n",
            "85:\tlearn: 2719.5283647\ttest: 2692.6391987\tbest: 2692.6391987 (85)\ttotal: 1.67s\tremaining: 271ms\n",
            "86:\tlearn: 2709.9657482\ttest: 2683.2349360\tbest: 2683.2349360 (86)\ttotal: 1.69s\tremaining: 253ms\n",
            "87:\tlearn: 2699.7084728\ttest: 2673.1896925\tbest: 2673.1896925 (87)\ttotal: 1.71s\tremaining: 233ms\n",
            "88:\tlearn: 2692.3263075\ttest: 2665.7697006\tbest: 2665.7697006 (88)\ttotal: 1.73s\tremaining: 213ms\n",
            "89:\tlearn: 2684.6704126\ttest: 2658.2266355\tbest: 2658.2266355 (89)\ttotal: 1.74s\tremaining: 194ms\n",
            "90:\tlearn: 2677.8315563\ttest: 2651.6803902\tbest: 2651.6803902 (90)\ttotal: 1.76s\tremaining: 174ms\n",
            "91:\tlearn: 2670.8260325\ttest: 2644.5108261\tbest: 2644.5108261 (91)\ttotal: 1.78s\tremaining: 155ms\n",
            "92:\tlearn: 2661.8024289\ttest: 2635.7846295\tbest: 2635.7846295 (92)\ttotal: 1.8s\tremaining: 136ms\n",
            "93:\tlearn: 2653.0375396\ttest: 2627.2317441\tbest: 2627.2317441 (93)\ttotal: 1.82s\tremaining: 116ms\n",
            "94:\tlearn: 2646.4851717\ttest: 2620.8563128\tbest: 2620.8563128 (94)\ttotal: 1.83s\tremaining: 96.6ms\n",
            "95:\tlearn: 2640.2019073\ttest: 2614.8319214\tbest: 2614.8319214 (95)\ttotal: 1.85s\tremaining: 77.2ms\n",
            "96:\tlearn: 2632.1806309\ttest: 2606.9009989\tbest: 2606.9009989 (96)\ttotal: 1.87s\tremaining: 57.9ms\n",
            "97:\tlearn: 2626.1667279\ttest: 2601.1176644\tbest: 2601.1176644 (97)\ttotal: 1.89s\tremaining: 38.6ms\n",
            "98:\tlearn: 2619.8432102\ttest: 2594.9591716\tbest: 2594.9591716 (98)\ttotal: 1.91s\tremaining: 19.3ms\n",
            "99:\tlearn: 2613.8794049\ttest: 2589.1544931\tbest: 2589.1544931 (99)\ttotal: 1.93s\tremaining: 0us\n",
            "\n",
            "bestTest = 2589.154493\n",
            "bestIteration = 99\n",
            "\n",
            "0:\tloss: 2589.1544931\tbest: 2589.1544931 (0)\ttotal: 2.81s\tremaining: 22.5s\n",
            "0:\tlearn: 7193.2284782\ttest: 7160.8335196\tbest: 7160.8335196 (0)\ttotal: 17.8ms\tremaining: 2.65s\n",
            "1:\tlearn: 7024.2155627\ttest: 6991.8664529\tbest: 6991.8664529 (1)\ttotal: 38.1ms\tremaining: 2.82s\n",
            "2:\tlearn: 6860.8170957\ttest: 6828.8061675\tbest: 6828.8061675 (2)\ttotal: 57.2ms\tremaining: 2.8s\n",
            "3:\tlearn: 6703.5269793\ttest: 6671.6728248\tbest: 6671.6728248 (3)\ttotal: 75.5ms\tremaining: 2.75s\n",
            "4:\tlearn: 6551.5965094\ttest: 6520.0758258\tbest: 6520.0758258 (4)\ttotal: 93.2ms\tremaining: 2.7s\n",
            "5:\tlearn: 6405.4958102\ttest: 6374.1250564\tbest: 6374.1250564 (5)\ttotal: 111ms\tremaining: 2.66s\n",
            "6:\tlearn: 6264.5097368\ttest: 6233.3896752\tbest: 6233.3896752 (6)\ttotal: 131ms\tremaining: 2.67s\n",
            "7:\tlearn: 6126.7289135\ttest: 6095.7357070\tbest: 6095.7357070 (7)\ttotal: 149ms\tremaining: 2.65s\n",
            "8:\tlearn: 5995.7751129\ttest: 5965.0460880\tbest: 5965.0460880 (8)\ttotal: 167ms\tremaining: 2.62s\n",
            "9:\tlearn: 5867.8151138\ttest: 5837.1947383\tbest: 5837.1947383 (9)\ttotal: 186ms\tremaining: 2.6s\n",
            "10:\tlearn: 5745.1912816\ttest: 5714.5883316\tbest: 5714.5883316 (10)\ttotal: 204ms\tremaining: 2.57s\n",
            "11:\tlearn: 5627.2426947\ttest: 5596.9129617\tbest: 5596.9129617 (11)\ttotal: 226ms\tremaining: 2.59s\n",
            "12:\tlearn: 5513.1798470\ttest: 5482.8062838\tbest: 5482.8062838 (12)\ttotal: 245ms\tremaining: 2.59s\n",
            "13:\tlearn: 5403.2158603\ttest: 5372.9311783\tbest: 5372.9311783 (13)\ttotal: 264ms\tremaining: 2.56s\n",
            "14:\tlearn: 5297.8302167\ttest: 5267.8718881\tbest: 5267.8718881 (14)\ttotal: 281ms\tremaining: 2.53s\n",
            "15:\tlearn: 5195.9515622\ttest: 5165.9668073\tbest: 5165.9668073 (15)\ttotal: 299ms\tremaining: 2.5s\n",
            "16:\tlearn: 5096.6797024\ttest: 5066.5204657\tbest: 5066.5204657 (16)\ttotal: 316ms\tremaining: 2.47s\n",
            "17:\tlearn: 5001.5666089\ttest: 4971.6117290\tbest: 4971.6117290 (17)\ttotal: 338ms\tremaining: 2.48s\n",
            "18:\tlearn: 4910.1854729\ttest: 4880.2119652\tbest: 4880.2119652 (18)\ttotal: 362ms\tremaining: 2.5s\n",
            "19:\tlearn: 4822.6644990\ttest: 4792.8522531\tbest: 4792.8522531 (19)\ttotal: 385ms\tremaining: 2.5s\n",
            "20:\tlearn: 4738.8452230\ttest: 4709.1931869\tbest: 4709.1931869 (20)\ttotal: 406ms\tremaining: 2.5s\n",
            "21:\tlearn: 4656.4847067\ttest: 4626.6722211\tbest: 4626.6722211 (21)\ttotal: 441ms\tremaining: 2.56s\n",
            "22:\tlearn: 4577.5907116\ttest: 4547.7763324\tbest: 4547.7763324 (22)\ttotal: 464ms\tremaining: 2.56s\n",
            "23:\tlearn: 4502.8475800\ttest: 4472.9134718\tbest: 4472.9134718 (23)\ttotal: 488ms\tremaining: 2.56s\n",
            "24:\tlearn: 4430.2607152\ttest: 4400.4310443\tbest: 4400.4310443 (24)\ttotal: 511ms\tremaining: 2.56s\n",
            "25:\tlearn: 4360.6898737\ttest: 4330.9734848\tbest: 4330.9734848 (25)\ttotal: 534ms\tremaining: 2.54s\n",
            "26:\tlearn: 4293.9197898\ttest: 4264.4731951\tbest: 4264.4731951 (26)\ttotal: 557ms\tremaining: 2.54s\n",
            "27:\tlearn: 4229.8011506\ttest: 4200.4595314\tbest: 4200.4595314 (27)\ttotal: 580ms\tremaining: 2.53s\n",
            "28:\tlearn: 4166.8609664\ttest: 4137.4343294\tbest: 4137.4343294 (28)\ttotal: 602ms\tremaining: 2.51s\n",
            "29:\tlearn: 4106.2389859\ttest: 4076.7730437\tbest: 4076.7730437 (29)\ttotal: 625ms\tremaining: 2.5s\n",
            "30:\tlearn: 4049.1739851\ttest: 4019.8663289\tbest: 4019.8663289 (30)\ttotal: 647ms\tremaining: 2.48s\n",
            "31:\tlearn: 3994.1868561\ttest: 3964.9111980\tbest: 3964.9111980 (31)\ttotal: 668ms\tremaining: 2.46s\n",
            "32:\tlearn: 3941.2011852\ttest: 3911.8399880\tbest: 3911.8399880 (32)\ttotal: 690ms\tremaining: 2.45s\n",
            "33:\tlearn: 3890.1679366\ttest: 3860.8361517\tbest: 3860.8361517 (33)\ttotal: 712ms\tremaining: 2.43s\n",
            "34:\tlearn: 3839.8942578\ttest: 3810.5105137\tbest: 3810.5105137 (34)\ttotal: 734ms\tremaining: 2.41s\n",
            "35:\tlearn: 3792.0790320\ttest: 3762.3722443\tbest: 3762.3722443 (35)\ttotal: 754ms\tremaining: 2.39s\n",
            "36:\tlearn: 3746.9076305\ttest: 3717.0773683\tbest: 3717.0773683 (36)\ttotal: 775ms\tremaining: 2.37s\n",
            "37:\tlearn: 3704.1326698\ttest: 3674.1620297\tbest: 3674.1620297 (37)\ttotal: 795ms\tremaining: 2.34s\n",
            "38:\tlearn: 3659.7066738\ttest: 3629.8320636\tbest: 3629.8320636 (38)\ttotal: 821ms\tremaining: 2.34s\n",
            "39:\tlearn: 3619.2573145\ttest: 3589.3437850\tbest: 3589.3437850 (39)\ttotal: 841ms\tremaining: 2.31s\n",
            "40:\tlearn: 3579.8235929\ttest: 3550.0086645\tbest: 3550.0086645 (40)\ttotal: 859ms\tremaining: 2.28s\n",
            "41:\tlearn: 3541.5478592\ttest: 3511.6088090\tbest: 3511.6088090 (41)\ttotal: 876ms\tremaining: 2.25s\n",
            "42:\tlearn: 3503.2689229\ttest: 3473.4145311\tbest: 3473.4145311 (42)\ttotal: 894ms\tremaining: 2.22s\n",
            "43:\tlearn: 3469.1963990\ttest: 3439.2462953\tbest: 3439.2462953 (43)\ttotal: 911ms\tremaining: 2.19s\n",
            "44:\tlearn: 3435.7057086\ttest: 3405.8493928\tbest: 3405.8493928 (44)\ttotal: 932ms\tremaining: 2.17s\n",
            "45:\tlearn: 3400.7315370\ttest: 3371.0736654\tbest: 3371.0736654 (45)\ttotal: 950ms\tremaining: 2.15s\n",
            "46:\tlearn: 3370.0266326\ttest: 3340.5216971\tbest: 3340.5216971 (46)\ttotal: 968ms\tremaining: 2.12s\n",
            "47:\tlearn: 3338.7854017\ttest: 3309.3979976\tbest: 3309.3979976 (47)\ttotal: 985ms\tremaining: 2.09s\n",
            "48:\tlearn: 3309.1233461\ttest: 3279.6600367\tbest: 3279.6600367 (48)\ttotal: 1s\tremaining: 2.07s\n",
            "49:\tlearn: 3282.0004834\ttest: 3252.4118769\tbest: 3252.4118769 (49)\ttotal: 1.02s\tremaining: 2.05s\n",
            "50:\tlearn: 3254.5616610\ttest: 3225.1293578\tbest: 3225.1293578 (50)\ttotal: 1.04s\tremaining: 2.02s\n",
            "51:\tlearn: 3229.2748363\ttest: 3200.0194539\tbest: 3200.0194539 (51)\ttotal: 1.06s\tremaining: 2s\n",
            "52:\tlearn: 3205.2998838\ttest: 3176.2589125\tbest: 3176.2589125 (52)\ttotal: 1.08s\tremaining: 1.97s\n",
            "53:\tlearn: 3182.3513719\ttest: 3153.3817229\tbest: 3153.3817229 (53)\ttotal: 1.09s\tremaining: 1.95s\n",
            "54:\tlearn: 3158.8421398\ttest: 3129.9228315\tbest: 3129.9228315 (54)\ttotal: 1.12s\tremaining: 1.93s\n",
            "55:\tlearn: 3137.5533598\ttest: 3108.5958195\tbest: 3108.5958195 (55)\ttotal: 1.14s\tremaining: 1.91s\n",
            "56:\tlearn: 3115.5836105\ttest: 3086.6874370\tbest: 3086.6874370 (56)\ttotal: 1.16s\tremaining: 1.88s\n",
            "57:\tlearn: 3094.1676348\ttest: 3065.4477847\tbest: 3065.4477847 (57)\ttotal: 1.17s\tremaining: 1.86s\n",
            "58:\tlearn: 3073.7912020\ttest: 3045.0270990\tbest: 3045.0270990 (58)\ttotal: 1.19s\tremaining: 1.84s\n",
            "59:\tlearn: 3055.8963234\ttest: 3027.1038086\tbest: 3027.1038086 (59)\ttotal: 1.21s\tremaining: 1.81s\n",
            "60:\tlearn: 3038.4972855\ttest: 3009.5353330\tbest: 3009.5353330 (60)\ttotal: 1.23s\tremaining: 1.79s\n",
            "61:\tlearn: 3018.6714256\ttest: 2989.7798879\tbest: 2989.7798879 (61)\ttotal: 1.25s\tremaining: 1.77s\n",
            "62:\tlearn: 3001.2707306\ttest: 2972.4203103\tbest: 2972.4203103 (62)\ttotal: 1.26s\tremaining: 1.75s\n",
            "63:\tlearn: 2983.9130459\ttest: 2955.1281044\tbest: 2955.1281044 (63)\ttotal: 1.28s\tremaining: 1.72s\n",
            "64:\tlearn: 2965.3506177\ttest: 2936.8019320\tbest: 2936.8019320 (64)\ttotal: 1.3s\tremaining: 1.7s\n",
            "65:\tlearn: 2949.1287968\ttest: 2920.6685473\tbest: 2920.6685473 (65)\ttotal: 1.32s\tremaining: 1.69s\n",
            "66:\tlearn: 2935.2029741\ttest: 2906.7175677\tbest: 2906.7175677 (66)\ttotal: 1.35s\tremaining: 1.67s\n",
            "67:\tlearn: 2919.7612092\ttest: 2891.4942543\tbest: 2891.4942543 (67)\ttotal: 1.37s\tremaining: 1.65s\n",
            "68:\tlearn: 2906.6480770\ttest: 2878.5093660\tbest: 2878.5093660 (68)\ttotal: 1.38s\tremaining: 1.62s\n",
            "69:\tlearn: 2894.1505739\ttest: 2865.8414497\tbest: 2865.8414497 (69)\ttotal: 1.4s\tremaining: 1.6s\n",
            "70:\tlearn: 2881.0638134\ttest: 2853.0100546\tbest: 2853.0100546 (70)\ttotal: 1.43s\tremaining: 1.59s\n",
            "71:\tlearn: 2867.6907124\ttest: 2839.6119356\tbest: 2839.6119356 (71)\ttotal: 1.45s\tremaining: 1.57s\n",
            "72:\tlearn: 2855.2328906\ttest: 2826.8923662\tbest: 2826.8923662 (72)\ttotal: 1.47s\tremaining: 1.55s\n",
            "73:\tlearn: 2843.2326994\ttest: 2815.1182122\tbest: 2815.1182122 (73)\ttotal: 1.49s\tremaining: 1.53s\n",
            "74:\tlearn: 2832.0023567\ttest: 2804.1215524\tbest: 2804.1215524 (74)\ttotal: 1.52s\tremaining: 1.52s\n",
            "75:\tlearn: 2819.5698899\ttest: 2791.9688208\tbest: 2791.9688208 (75)\ttotal: 1.54s\tremaining: 1.5s\n",
            "76:\tlearn: 2808.7038271\ttest: 2781.1348066\tbest: 2781.1348066 (76)\ttotal: 1.55s\tremaining: 1.47s\n",
            "77:\tlearn: 2798.2874868\ttest: 2770.5098411\tbest: 2770.5098411 (77)\ttotal: 1.57s\tremaining: 1.45s\n",
            "78:\tlearn: 2788.9239741\ttest: 2761.2265500\tbest: 2761.2265500 (78)\ttotal: 1.59s\tremaining: 1.43s\n",
            "79:\tlearn: 2777.5203310\ttest: 2749.9954193\tbest: 2749.9954193 (79)\ttotal: 1.61s\tremaining: 1.41s\n",
            "80:\tlearn: 2767.0267616\ttest: 2739.7637904\tbest: 2739.7637904 (80)\ttotal: 1.63s\tremaining: 1.39s\n",
            "81:\tlearn: 2758.0771517\ttest: 2731.1217580\tbest: 2731.1217580 (81)\ttotal: 1.65s\tremaining: 1.36s\n",
            "82:\tlearn: 2747.9021557\ttest: 2720.9231720\tbest: 2720.9231720 (82)\ttotal: 1.66s\tremaining: 1.34s\n",
            "83:\tlearn: 2736.4416558\ttest: 2709.6649903\tbest: 2709.6649903 (83)\ttotal: 1.68s\tremaining: 1.32s\n",
            "84:\tlearn: 2727.8259452\ttest: 2700.7279930\tbest: 2700.7279930 (84)\ttotal: 1.7s\tremaining: 1.3s\n",
            "85:\tlearn: 2719.5283647\ttest: 2692.6391987\tbest: 2692.6391987 (85)\ttotal: 1.72s\tremaining: 1.28s\n",
            "86:\tlearn: 2709.9657482\ttest: 2683.2349360\tbest: 2683.2349360 (86)\ttotal: 1.74s\tremaining: 1.26s\n",
            "87:\tlearn: 2699.7084728\ttest: 2673.1896925\tbest: 2673.1896925 (87)\ttotal: 1.76s\tremaining: 1.24s\n",
            "88:\tlearn: 2692.3263075\ttest: 2665.7697006\tbest: 2665.7697006 (88)\ttotal: 1.78s\tremaining: 1.22s\n",
            "89:\tlearn: 2684.6704126\ttest: 2658.2266355\tbest: 2658.2266355 (89)\ttotal: 1.79s\tremaining: 1.2s\n",
            "90:\tlearn: 2677.8315563\ttest: 2651.6803902\tbest: 2651.6803902 (90)\ttotal: 1.82s\tremaining: 1.18s\n",
            "91:\tlearn: 2670.8260325\ttest: 2644.5108261\tbest: 2644.5108261 (91)\ttotal: 1.83s\tremaining: 1.16s\n",
            "92:\tlearn: 2661.8024289\ttest: 2635.7846295\tbest: 2635.7846295 (92)\ttotal: 1.85s\tremaining: 1.13s\n",
            "93:\tlearn: 2653.0375396\ttest: 2627.2317441\tbest: 2627.2317441 (93)\ttotal: 1.87s\tremaining: 1.11s\n",
            "94:\tlearn: 2646.4851717\ttest: 2620.8563128\tbest: 2620.8563128 (94)\ttotal: 1.89s\tremaining: 1.09s\n",
            "95:\tlearn: 2640.2019073\ttest: 2614.8319214\tbest: 2614.8319214 (95)\ttotal: 1.9s\tremaining: 1.07s\n",
            "96:\tlearn: 2632.1806309\ttest: 2606.9009989\tbest: 2606.9009989 (96)\ttotal: 1.92s\tremaining: 1.05s\n",
            "97:\tlearn: 2626.1667279\ttest: 2601.1176644\tbest: 2601.1176644 (97)\ttotal: 1.94s\tremaining: 1.03s\n",
            "98:\tlearn: 2619.8432102\ttest: 2594.9591716\tbest: 2594.9591716 (98)\ttotal: 1.96s\tremaining: 1.01s\n",
            "99:\tlearn: 2613.8794049\ttest: 2589.1544931\tbest: 2589.1544931 (99)\ttotal: 1.98s\tremaining: 991ms\n",
            "100:\tlearn: 2608.2541210\ttest: 2583.6875007\tbest: 2583.6875007 (100)\ttotal: 2s\tremaining: 970ms\n",
            "101:\tlearn: 2602.5825823\ttest: 2577.8539920\tbest: 2577.8539920 (101)\ttotal: 2.02s\tremaining: 951ms\n",
            "102:\tlearn: 2595.1810266\ttest: 2570.6440172\tbest: 2570.6440172 (102)\ttotal: 2.04s\tremaining: 931ms\n",
            "103:\tlearn: 2590.0713912\ttest: 2565.7570984\tbest: 2565.7570984 (103)\ttotal: 2.06s\tremaining: 910ms\n",
            "104:\tlearn: 2584.6586144\ttest: 2560.2987384\tbest: 2560.2987384 (104)\ttotal: 2.08s\tremaining: 890ms\n",
            "105:\tlearn: 2578.1319562\ttest: 2554.0026217\tbest: 2554.0026217 (105)\ttotal: 2.1s\tremaining: 870ms\n",
            "106:\tlearn: 2573.1785291\ttest: 2548.9336385\tbest: 2548.9336385 (106)\ttotal: 2.12s\tremaining: 852ms\n",
            "107:\tlearn: 2567.5684682\ttest: 2543.3509923\tbest: 2543.3509923 (107)\ttotal: 2.14s\tremaining: 832ms\n",
            "108:\tlearn: 2562.4942705\ttest: 2538.3836190\tbest: 2538.3836190 (108)\ttotal: 2.16s\tremaining: 812ms\n",
            "109:\tlearn: 2557.8494373\ttest: 2533.9301639\tbest: 2533.9301639 (109)\ttotal: 2.18s\tremaining: 792ms\n",
            "110:\tlearn: 2553.0435112\ttest: 2529.2044981\tbest: 2529.2044981 (110)\ttotal: 2.21s\tremaining: 776ms\n",
            "111:\tlearn: 2548.5283908\ttest: 2524.5346198\tbest: 2524.5346198 (111)\ttotal: 2.23s\tremaining: 756ms\n",
            "112:\tlearn: 2543.8779251\ttest: 2520.0130958\tbest: 2520.0130958 (112)\ttotal: 2.25s\tremaining: 735ms\n",
            "113:\tlearn: 2537.7599975\ttest: 2514.1282534\tbest: 2514.1282534 (113)\ttotal: 2.26s\tremaining: 714ms\n",
            "114:\tlearn: 2533.4781133\ttest: 2509.9294852\tbest: 2509.9294852 (114)\ttotal: 2.28s\tremaining: 694ms\n",
            "115:\tlearn: 2528.4694445\ttest: 2505.0367526\tbest: 2505.0367526 (115)\ttotal: 2.3s\tremaining: 673ms\n",
            "116:\tlearn: 2523.0051799\ttest: 2499.7539015\tbest: 2499.7539015 (116)\ttotal: 2.31s\tremaining: 653ms\n",
            "117:\tlearn: 2518.2043686\ttest: 2494.9444094\tbest: 2494.9444094 (117)\ttotal: 2.33s\tremaining: 633ms\n",
            "118:\tlearn: 2514.1777403\ttest: 2491.0845565\tbest: 2491.0845565 (118)\ttotal: 2.35s\tremaining: 612ms\n",
            "119:\tlearn: 2510.0647642\ttest: 2487.0859669\tbest: 2487.0859669 (119)\ttotal: 2.37s\tremaining: 592ms\n",
            "120:\tlearn: 2504.7187372\ttest: 2481.8082793\tbest: 2481.8082793 (120)\ttotal: 2.39s\tremaining: 572ms\n",
            "121:\tlearn: 2499.4895802\ttest: 2476.7955899\tbest: 2476.7955899 (121)\ttotal: 2.4s\tremaining: 552ms\n",
            "122:\tlearn: 2495.6621278\ttest: 2472.8752408\tbest: 2472.8752408 (122)\ttotal: 2.42s\tremaining: 532ms\n",
            "123:\tlearn: 2492.1254396\ttest: 2469.4021921\tbest: 2469.4021921 (123)\ttotal: 2.44s\tremaining: 512ms\n",
            "124:\tlearn: 2487.8858867\ttest: 2465.1275866\tbest: 2465.1275866 (124)\ttotal: 2.46s\tremaining: 492ms\n",
            "125:\tlearn: 2484.2422950\ttest: 2461.5885247\tbest: 2461.5885247 (125)\ttotal: 2.48s\tremaining: 472ms\n",
            "126:\tlearn: 2480.7774866\ttest: 2458.2142432\tbest: 2458.2142432 (126)\ttotal: 2.49s\tremaining: 451ms\n",
            "127:\tlearn: 2476.0704650\ttest: 2453.8585004\tbest: 2453.8585004 (127)\ttotal: 2.52s\tremaining: 433ms\n",
            "128:\tlearn: 2472.0510440\ttest: 2449.8165176\tbest: 2449.8165176 (128)\ttotal: 2.53s\tremaining: 413ms\n",
            "129:\tlearn: 2468.5891665\ttest: 2446.3119823\tbest: 2446.3119823 (129)\ttotal: 2.55s\tremaining: 393ms\n",
            "130:\tlearn: 2465.3317934\ttest: 2443.1718962\tbest: 2443.1718962 (130)\ttotal: 2.57s\tremaining: 373ms\n",
            "131:\tlearn: 2461.5131919\ttest: 2439.3635744\tbest: 2439.3635744 (131)\ttotal: 2.58s\tremaining: 352ms\n",
            "132:\tlearn: 2457.0661753\ttest: 2435.0770706\tbest: 2435.0770706 (132)\ttotal: 2.61s\tremaining: 333ms\n",
            "133:\tlearn: 2452.6477358\ttest: 2430.6915080\tbest: 2430.6915080 (133)\ttotal: 2.63s\tremaining: 313ms\n",
            "134:\tlearn: 2449.3948865\ttest: 2427.4163337\tbest: 2427.4163337 (134)\ttotal: 2.64s\tremaining: 294ms\n",
            "135:\tlearn: 2446.2753187\ttest: 2424.1968605\tbest: 2424.1968605 (135)\ttotal: 2.66s\tremaining: 274ms\n",
            "136:\tlearn: 2442.0136340\ttest: 2420.1234002\tbest: 2420.1234002 (136)\ttotal: 2.67s\tremaining: 254ms\n",
            "137:\tlearn: 2438.9400941\ttest: 2417.0920172\tbest: 2417.0920172 (137)\ttotal: 2.69s\tremaining: 234ms\n",
            "138:\tlearn: 2435.9177517\ttest: 2414.1170856\tbest: 2414.1170856 (138)\ttotal: 2.71s\tremaining: 215ms\n",
            "139:\tlearn: 2430.7923883\ttest: 2409.0187802\tbest: 2409.0187802 (139)\ttotal: 2.73s\tremaining: 195ms\n",
            "140:\tlearn: 2427.4271151\ttest: 2405.6790277\tbest: 2405.6790277 (140)\ttotal: 2.75s\tremaining: 176ms\n",
            "141:\tlearn: 2424.2483878\ttest: 2402.4315646\tbest: 2402.4315646 (141)\ttotal: 2.77s\tremaining: 156ms\n",
            "142:\tlearn: 2420.3427302\ttest: 2398.8311273\tbest: 2398.8311273 (142)\ttotal: 2.79s\tremaining: 137ms\n",
            "143:\tlearn: 2417.4886442\ttest: 2396.0733841\tbest: 2396.0733841 (143)\ttotal: 2.81s\tremaining: 117ms\n",
            "144:\tlearn: 2413.7580730\ttest: 2392.3243865\tbest: 2392.3243865 (144)\ttotal: 2.83s\tremaining: 97.7ms\n",
            "145:\tlearn: 2410.5849878\ttest: 2389.2345600\tbest: 2389.2345600 (145)\ttotal: 2.85s\tremaining: 78.1ms\n",
            "146:\tlearn: 2406.0236174\ttest: 2384.6933335\tbest: 2384.6933335 (146)\ttotal: 2.87s\tremaining: 58.5ms\n",
            "147:\tlearn: 2403.0978955\ttest: 2381.7316610\tbest: 2381.7316610 (147)\ttotal: 2.88s\tremaining: 39ms\n",
            "148:\tlearn: 2399.3664124\ttest: 2378.1738982\tbest: 2378.1738982 (148)\ttotal: 2.9s\tremaining: 19.5ms\n",
            "149:\tlearn: 2396.6026306\ttest: 2375.5280690\tbest: 2375.5280690 (149)\ttotal: 2.92s\tremaining: 0us\n",
            "\n",
            "bestTest = 2375.528069\n",
            "bestIteration = 149\n",
            "\n",
            "1:\tloss: 2375.5280690\tbest: 2375.5280690 (1)\ttotal: 5.78s\tremaining: 20.2s\n",
            "0:\tlearn: 7193.2284782\ttest: 7160.8335196\tbest: 7160.8335196 (0)\ttotal: 17.9ms\tremaining: 3.56s\n",
            "1:\tlearn: 7024.2155627\ttest: 6991.8664529\tbest: 6991.8664529 (1)\ttotal: 36.2ms\tremaining: 3.59s\n",
            "2:\tlearn: 6860.8170957\ttest: 6828.8061675\tbest: 6828.8061675 (2)\ttotal: 61.2ms\tremaining: 4.02s\n",
            "3:\tlearn: 6703.5269793\ttest: 6671.6728248\tbest: 6671.6728248 (3)\ttotal: 82.1ms\tremaining: 4.02s\n",
            "4:\tlearn: 6551.5965094\ttest: 6520.0758258\tbest: 6520.0758258 (4)\ttotal: 101ms\tremaining: 3.93s\n",
            "5:\tlearn: 6405.4958102\ttest: 6374.1250564\tbest: 6374.1250564 (5)\ttotal: 119ms\tremaining: 3.85s\n",
            "6:\tlearn: 6264.5097368\ttest: 6233.3896752\tbest: 6233.3896752 (6)\ttotal: 138ms\tremaining: 3.8s\n",
            "7:\tlearn: 6126.7289135\ttest: 6095.7357070\tbest: 6095.7357070 (7)\ttotal: 157ms\tremaining: 3.76s\n",
            "8:\tlearn: 5995.7751129\ttest: 5965.0460880\tbest: 5965.0460880 (8)\ttotal: 180ms\tremaining: 3.81s\n",
            "9:\tlearn: 5867.8151138\ttest: 5837.1947383\tbest: 5837.1947383 (9)\ttotal: 204ms\tremaining: 3.88s\n",
            "10:\tlearn: 5745.1912816\ttest: 5714.5883316\tbest: 5714.5883316 (10)\ttotal: 230ms\tremaining: 3.95s\n",
            "11:\tlearn: 5627.2426947\ttest: 5596.9129617\tbest: 5596.9129617 (11)\ttotal: 252ms\tremaining: 3.94s\n",
            "12:\tlearn: 5513.1798470\ttest: 5482.8062838\tbest: 5482.8062838 (12)\ttotal: 273ms\tremaining: 3.93s\n",
            "13:\tlearn: 5403.2158603\ttest: 5372.9311783\tbest: 5372.9311783 (13)\ttotal: 291ms\tremaining: 3.87s\n",
            "14:\tlearn: 5297.8302167\ttest: 5267.8718881\tbest: 5267.8718881 (14)\ttotal: 309ms\tremaining: 3.81s\n",
            "15:\tlearn: 5195.9515622\ttest: 5165.9668073\tbest: 5165.9668073 (15)\ttotal: 328ms\tremaining: 3.77s\n",
            "16:\tlearn: 5096.6797024\ttest: 5066.5204657\tbest: 5066.5204657 (16)\ttotal: 345ms\tremaining: 3.72s\n",
            "17:\tlearn: 5001.5666089\ttest: 4971.6117290\tbest: 4971.6117290 (17)\ttotal: 368ms\tremaining: 3.72s\n",
            "18:\tlearn: 4910.1854729\ttest: 4880.2119652\tbest: 4880.2119652 (18)\ttotal: 387ms\tremaining: 3.69s\n",
            "19:\tlearn: 4822.6644990\ttest: 4792.8522531\tbest: 4792.8522531 (19)\ttotal: 406ms\tremaining: 3.66s\n",
            "20:\tlearn: 4738.8452230\ttest: 4709.1931869\tbest: 4709.1931869 (20)\ttotal: 425ms\tremaining: 3.62s\n",
            "21:\tlearn: 4656.4847067\ttest: 4626.6722211\tbest: 4626.6722211 (21)\ttotal: 446ms\tremaining: 3.6s\n",
            "22:\tlearn: 4577.5907116\ttest: 4547.7763324\tbest: 4547.7763324 (22)\ttotal: 470ms\tremaining: 3.62s\n",
            "23:\tlearn: 4502.8475800\ttest: 4472.9134718\tbest: 4472.9134718 (23)\ttotal: 490ms\tremaining: 3.59s\n",
            "24:\tlearn: 4430.2607152\ttest: 4400.4310443\tbest: 4400.4310443 (24)\ttotal: 507ms\tremaining: 3.55s\n",
            "25:\tlearn: 4360.6898737\ttest: 4330.9734848\tbest: 4330.9734848 (25)\ttotal: 525ms\tremaining: 3.51s\n",
            "26:\tlearn: 4293.9197898\ttest: 4264.4731951\tbest: 4264.4731951 (26)\ttotal: 542ms\tremaining: 3.47s\n",
            "27:\tlearn: 4229.8011506\ttest: 4200.4595314\tbest: 4200.4595314 (27)\ttotal: 562ms\tremaining: 3.46s\n",
            "28:\tlearn: 4166.8609664\ttest: 4137.4343294\tbest: 4137.4343294 (28)\ttotal: 580ms\tremaining: 3.42s\n",
            "29:\tlearn: 4106.2389859\ttest: 4076.7730437\tbest: 4076.7730437 (29)\ttotal: 597ms\tremaining: 3.38s\n",
            "30:\tlearn: 4049.1739851\ttest: 4019.8663289\tbest: 4019.8663289 (30)\ttotal: 614ms\tremaining: 3.35s\n",
            "31:\tlearn: 3994.1868561\ttest: 3964.9111980\tbest: 3964.9111980 (31)\ttotal: 632ms\tremaining: 3.32s\n",
            "32:\tlearn: 3941.2011852\ttest: 3911.8399880\tbest: 3911.8399880 (32)\ttotal: 655ms\tremaining: 3.31s\n",
            "33:\tlearn: 3890.1679366\ttest: 3860.8361517\tbest: 3860.8361517 (33)\ttotal: 675ms\tremaining: 3.29s\n",
            "34:\tlearn: 3839.8942578\ttest: 3810.5105137\tbest: 3810.5105137 (34)\ttotal: 691ms\tremaining: 3.26s\n",
            "35:\tlearn: 3792.0790320\ttest: 3762.3722443\tbest: 3762.3722443 (35)\ttotal: 708ms\tremaining: 3.23s\n",
            "36:\tlearn: 3746.9076305\ttest: 3717.0773683\tbest: 3717.0773683 (36)\ttotal: 726ms\tremaining: 3.2s\n",
            "37:\tlearn: 3704.1326698\ttest: 3674.1620297\tbest: 3674.1620297 (37)\ttotal: 744ms\tremaining: 3.17s\n",
            "38:\tlearn: 3659.7066738\ttest: 3629.8320636\tbest: 3629.8320636 (38)\ttotal: 765ms\tremaining: 3.16s\n",
            "39:\tlearn: 3619.2573145\ttest: 3589.3437850\tbest: 3589.3437850 (39)\ttotal: 783ms\tremaining: 3.13s\n",
            "40:\tlearn: 3579.8235929\ttest: 3550.0086645\tbest: 3550.0086645 (40)\ttotal: 800ms\tremaining: 3.1s\n",
            "41:\tlearn: 3541.5478592\ttest: 3511.6088090\tbest: 3511.6088090 (41)\ttotal: 818ms\tremaining: 3.08s\n",
            "42:\tlearn: 3503.2689229\ttest: 3473.4145311\tbest: 3473.4145311 (42)\ttotal: 839ms\tremaining: 3.06s\n",
            "43:\tlearn: 3469.1963990\ttest: 3439.2462953\tbest: 3439.2462953 (43)\ttotal: 869ms\tremaining: 3.08s\n",
            "44:\tlearn: 3435.7057086\ttest: 3405.8493928\tbest: 3405.8493928 (44)\ttotal: 890ms\tremaining: 3.06s\n",
            "45:\tlearn: 3400.7315370\ttest: 3371.0736654\tbest: 3371.0736654 (45)\ttotal: 909ms\tremaining: 3.04s\n",
            "46:\tlearn: 3370.0266326\ttest: 3340.5216971\tbest: 3340.5216971 (46)\ttotal: 927ms\tremaining: 3.02s\n",
            "47:\tlearn: 3338.7854017\ttest: 3309.3979976\tbest: 3309.3979976 (47)\ttotal: 944ms\tremaining: 2.99s\n",
            "48:\tlearn: 3309.1233461\ttest: 3279.6600367\tbest: 3279.6600367 (48)\ttotal: 965ms\tremaining: 2.97s\n",
            "49:\tlearn: 3282.0004834\ttest: 3252.4118769\tbest: 3252.4118769 (49)\ttotal: 984ms\tremaining: 2.95s\n",
            "50:\tlearn: 3254.5616610\ttest: 3225.1293578\tbest: 3225.1293578 (50)\ttotal: 1s\tremaining: 2.93s\n",
            "51:\tlearn: 3229.2748363\ttest: 3200.0194539\tbest: 3200.0194539 (51)\ttotal: 1.02s\tremaining: 2.9s\n",
            "52:\tlearn: 3205.2998838\ttest: 3176.2589125\tbest: 3176.2589125 (52)\ttotal: 1.04s\tremaining: 2.88s\n",
            "53:\tlearn: 3182.3513719\ttest: 3153.3817229\tbest: 3153.3817229 (53)\ttotal: 1.06s\tremaining: 2.87s\n",
            "54:\tlearn: 3158.8421398\ttest: 3129.9228315\tbest: 3129.9228315 (54)\ttotal: 1.08s\tremaining: 2.85s\n",
            "55:\tlearn: 3137.5533598\ttest: 3108.5958195\tbest: 3108.5958195 (55)\ttotal: 1.1s\tremaining: 2.82s\n",
            "56:\tlearn: 3115.5836105\ttest: 3086.6874370\tbest: 3086.6874370 (56)\ttotal: 1.11s\tremaining: 2.8s\n",
            "57:\tlearn: 3094.1676348\ttest: 3065.4477847\tbest: 3065.4477847 (57)\ttotal: 1.13s\tremaining: 2.77s\n",
            "58:\tlearn: 3073.7912020\ttest: 3045.0270990\tbest: 3045.0270990 (58)\ttotal: 1.15s\tremaining: 2.76s\n",
            "59:\tlearn: 3055.8963234\ttest: 3027.1038086\tbest: 3027.1038086 (59)\ttotal: 1.17s\tremaining: 2.74s\n",
            "60:\tlearn: 3038.4972855\ttest: 3009.5353330\tbest: 3009.5353330 (60)\ttotal: 1.19s\tremaining: 2.72s\n",
            "61:\tlearn: 3018.6714256\ttest: 2989.7798879\tbest: 2989.7798879 (61)\ttotal: 1.21s\tremaining: 2.69s\n",
            "62:\tlearn: 3001.2707306\ttest: 2972.4203103\tbest: 2972.4203103 (62)\ttotal: 1.23s\tremaining: 2.67s\n",
            "63:\tlearn: 2983.9130459\ttest: 2955.1281044\tbest: 2955.1281044 (63)\ttotal: 1.25s\tremaining: 2.65s\n",
            "64:\tlearn: 2965.3506177\ttest: 2936.8019320\tbest: 2936.8019320 (64)\ttotal: 1.27s\tremaining: 2.64s\n",
            "65:\tlearn: 2949.1287968\ttest: 2920.6685473\tbest: 2920.6685473 (65)\ttotal: 1.29s\tremaining: 2.61s\n",
            "66:\tlearn: 2935.2029741\ttest: 2906.7175677\tbest: 2906.7175677 (66)\ttotal: 1.3s\tremaining: 2.59s\n",
            "67:\tlearn: 2919.7612092\ttest: 2891.4942543\tbest: 2891.4942543 (67)\ttotal: 1.32s\tremaining: 2.57s\n",
            "68:\tlearn: 2906.6480770\ttest: 2878.5093660\tbest: 2878.5093660 (68)\ttotal: 1.34s\tremaining: 2.54s\n",
            "69:\tlearn: 2894.1505739\ttest: 2865.8414497\tbest: 2865.8414497 (69)\ttotal: 1.36s\tremaining: 2.53s\n",
            "70:\tlearn: 2881.0638134\ttest: 2853.0100546\tbest: 2853.0100546 (70)\ttotal: 1.38s\tremaining: 2.51s\n",
            "71:\tlearn: 2867.6907124\ttest: 2839.6119356\tbest: 2839.6119356 (71)\ttotal: 1.4s\tremaining: 2.48s\n",
            "72:\tlearn: 2855.2328906\ttest: 2826.8923662\tbest: 2826.8923662 (72)\ttotal: 1.41s\tremaining: 2.46s\n",
            "73:\tlearn: 2843.2326994\ttest: 2815.1182122\tbest: 2815.1182122 (73)\ttotal: 1.43s\tremaining: 2.44s\n",
            "74:\tlearn: 2832.0023567\ttest: 2804.1215524\tbest: 2804.1215524 (74)\ttotal: 1.46s\tremaining: 2.43s\n",
            "75:\tlearn: 2819.5698899\ttest: 2791.9688208\tbest: 2791.9688208 (75)\ttotal: 1.48s\tremaining: 2.41s\n",
            "76:\tlearn: 2808.7038271\ttest: 2781.1348066\tbest: 2781.1348066 (76)\ttotal: 1.49s\tremaining: 2.38s\n",
            "77:\tlearn: 2798.2874868\ttest: 2770.5098411\tbest: 2770.5098411 (77)\ttotal: 1.51s\tremaining: 2.36s\n",
            "78:\tlearn: 2788.9239741\ttest: 2761.2265500\tbest: 2761.2265500 (78)\ttotal: 1.53s\tremaining: 2.34s\n",
            "79:\tlearn: 2777.5203310\ttest: 2749.9954193\tbest: 2749.9954193 (79)\ttotal: 1.55s\tremaining: 2.32s\n",
            "80:\tlearn: 2767.0267616\ttest: 2739.7637904\tbest: 2739.7637904 (80)\ttotal: 1.57s\tremaining: 2.3s\n",
            "81:\tlearn: 2758.0771517\ttest: 2731.1217580\tbest: 2731.1217580 (81)\ttotal: 1.58s\tremaining: 2.28s\n",
            "82:\tlearn: 2747.9021557\ttest: 2720.9231720\tbest: 2720.9231720 (82)\ttotal: 1.6s\tremaining: 2.26s\n",
            "83:\tlearn: 2736.4416558\ttest: 2709.6649903\tbest: 2709.6649903 (83)\ttotal: 1.62s\tremaining: 2.24s\n",
            "84:\tlearn: 2727.8259452\ttest: 2700.7279930\tbest: 2700.7279930 (84)\ttotal: 1.64s\tremaining: 2.22s\n",
            "85:\tlearn: 2719.5283647\ttest: 2692.6391987\tbest: 2692.6391987 (85)\ttotal: 1.66s\tremaining: 2.2s\n",
            "86:\tlearn: 2709.9657482\ttest: 2683.2349360\tbest: 2683.2349360 (86)\ttotal: 1.68s\tremaining: 2.18s\n",
            "87:\tlearn: 2699.7084728\ttest: 2673.1896925\tbest: 2673.1896925 (87)\ttotal: 1.7s\tremaining: 2.16s\n",
            "88:\tlearn: 2692.3263075\ttest: 2665.7697006\tbest: 2665.7697006 (88)\ttotal: 1.72s\tremaining: 2.14s\n",
            "89:\tlearn: 2684.6704126\ttest: 2658.2266355\tbest: 2658.2266355 (89)\ttotal: 1.73s\tremaining: 2.12s\n",
            "90:\tlearn: 2677.8315563\ttest: 2651.6803902\tbest: 2651.6803902 (90)\ttotal: 1.76s\tremaining: 2.1s\n",
            "91:\tlearn: 2670.8260325\ttest: 2644.5108261\tbest: 2644.5108261 (91)\ttotal: 1.78s\tremaining: 2.09s\n",
            "92:\tlearn: 2661.8024289\ttest: 2635.7846295\tbest: 2635.7846295 (92)\ttotal: 1.79s\tremaining: 2.06s\n",
            "93:\tlearn: 2653.0375396\ttest: 2627.2317441\tbest: 2627.2317441 (93)\ttotal: 1.81s\tremaining: 2.04s\n",
            "94:\tlearn: 2646.4851717\ttest: 2620.8563128\tbest: 2620.8563128 (94)\ttotal: 1.83s\tremaining: 2.02s\n",
            "95:\tlearn: 2640.2019073\ttest: 2614.8319214\tbest: 2614.8319214 (95)\ttotal: 1.86s\tremaining: 2.01s\n",
            "96:\tlearn: 2632.1806309\ttest: 2606.9009989\tbest: 2606.9009989 (96)\ttotal: 1.88s\tremaining: 2s\n",
            "97:\tlearn: 2626.1667279\ttest: 2601.1176644\tbest: 2601.1176644 (97)\ttotal: 1.9s\tremaining: 1.98s\n",
            "98:\tlearn: 2619.8432102\ttest: 2594.9591716\tbest: 2594.9591716 (98)\ttotal: 1.92s\tremaining: 1.96s\n",
            "99:\tlearn: 2613.8794049\ttest: 2589.1544931\tbest: 2589.1544931 (99)\ttotal: 1.95s\tremaining: 1.95s\n",
            "100:\tlearn: 2608.2541210\ttest: 2583.6875007\tbest: 2583.6875007 (100)\ttotal: 1.97s\tremaining: 1.93s\n",
            "101:\tlearn: 2602.5825823\ttest: 2577.8539920\tbest: 2577.8539920 (101)\ttotal: 1.98s\tremaining: 1.91s\n",
            "102:\tlearn: 2595.1810266\ttest: 2570.6440172\tbest: 2570.6440172 (102)\ttotal: 2s\tremaining: 1.88s\n",
            "103:\tlearn: 2590.0713912\ttest: 2565.7570984\tbest: 2565.7570984 (103)\ttotal: 2.02s\tremaining: 1.86s\n",
            "104:\tlearn: 2584.6586144\ttest: 2560.2987384\tbest: 2560.2987384 (104)\ttotal: 2.04s\tremaining: 1.84s\n",
            "105:\tlearn: 2578.1319562\ttest: 2554.0026217\tbest: 2554.0026217 (105)\ttotal: 2.06s\tremaining: 1.83s\n",
            "106:\tlearn: 2573.1785291\ttest: 2548.9336385\tbest: 2548.9336385 (106)\ttotal: 2.08s\tremaining: 1.81s\n",
            "107:\tlearn: 2567.5684682\ttest: 2543.3509923\tbest: 2543.3509923 (107)\ttotal: 2.1s\tremaining: 1.78s\n",
            "108:\tlearn: 2562.4942705\ttest: 2538.3836190\tbest: 2538.3836190 (108)\ttotal: 2.11s\tremaining: 1.76s\n",
            "109:\tlearn: 2557.8494373\ttest: 2533.9301639\tbest: 2533.9301639 (109)\ttotal: 2.13s\tremaining: 1.74s\n",
            "110:\tlearn: 2553.0435112\ttest: 2529.2044981\tbest: 2529.2044981 (110)\ttotal: 2.15s\tremaining: 1.73s\n",
            "111:\tlearn: 2548.5283908\ttest: 2524.5346198\tbest: 2524.5346198 (111)\ttotal: 2.17s\tremaining: 1.71s\n",
            "112:\tlearn: 2543.8779251\ttest: 2520.0130958\tbest: 2520.0130958 (112)\ttotal: 2.19s\tremaining: 1.69s\n",
            "113:\tlearn: 2537.7599975\ttest: 2514.1282534\tbest: 2514.1282534 (113)\ttotal: 2.21s\tremaining: 1.67s\n",
            "114:\tlearn: 2533.4781133\ttest: 2509.9294852\tbest: 2509.9294852 (114)\ttotal: 2.23s\tremaining: 1.65s\n",
            "115:\tlearn: 2528.4694445\ttest: 2505.0367526\tbest: 2505.0367526 (115)\ttotal: 2.25s\tremaining: 1.63s\n",
            "116:\tlearn: 2523.0051799\ttest: 2499.7539015\tbest: 2499.7539015 (116)\ttotal: 2.27s\tremaining: 1.61s\n",
            "117:\tlearn: 2518.2043686\ttest: 2494.9444094\tbest: 2494.9444094 (117)\ttotal: 2.28s\tremaining: 1.59s\n",
            "118:\tlearn: 2514.1777403\ttest: 2491.0845565\tbest: 2491.0845565 (118)\ttotal: 2.3s\tremaining: 1.57s\n",
            "119:\tlearn: 2510.0647642\ttest: 2487.0859669\tbest: 2487.0859669 (119)\ttotal: 2.32s\tremaining: 1.55s\n",
            "120:\tlearn: 2504.7187372\ttest: 2481.8082793\tbest: 2481.8082793 (120)\ttotal: 2.34s\tremaining: 1.53s\n",
            "121:\tlearn: 2499.4895802\ttest: 2476.7955899\tbest: 2476.7955899 (121)\ttotal: 2.36s\tremaining: 1.51s\n",
            "122:\tlearn: 2495.6621278\ttest: 2472.8752408\tbest: 2472.8752408 (122)\ttotal: 2.38s\tremaining: 1.49s\n",
            "123:\tlearn: 2492.1254396\ttest: 2469.4021921\tbest: 2469.4021921 (123)\ttotal: 2.4s\tremaining: 1.47s\n",
            "124:\tlearn: 2487.8858867\ttest: 2465.1275866\tbest: 2465.1275866 (124)\ttotal: 2.42s\tremaining: 1.45s\n",
            "125:\tlearn: 2484.2422950\ttest: 2461.5885247\tbest: 2461.5885247 (125)\ttotal: 2.44s\tremaining: 1.43s\n",
            "126:\tlearn: 2480.7774866\ttest: 2458.2142432\tbest: 2458.2142432 (126)\ttotal: 2.46s\tremaining: 1.41s\n",
            "127:\tlearn: 2476.0704650\ttest: 2453.8585004\tbest: 2453.8585004 (127)\ttotal: 2.48s\tremaining: 1.39s\n",
            "128:\tlearn: 2472.0510440\ttest: 2449.8165176\tbest: 2449.8165176 (128)\ttotal: 2.5s\tremaining: 1.37s\n",
            "129:\tlearn: 2468.5891665\ttest: 2446.3119823\tbest: 2446.3119823 (129)\ttotal: 2.51s\tremaining: 1.35s\n",
            "130:\tlearn: 2465.3317934\ttest: 2443.1718962\tbest: 2443.1718962 (130)\ttotal: 2.54s\tremaining: 1.34s\n",
            "131:\tlearn: 2461.5131919\ttest: 2439.3635744\tbest: 2439.3635744 (131)\ttotal: 2.56s\tremaining: 1.32s\n",
            "132:\tlearn: 2457.0661753\ttest: 2435.0770706\tbest: 2435.0770706 (132)\ttotal: 2.58s\tremaining: 1.3s\n",
            "133:\tlearn: 2452.6477358\ttest: 2430.6915080\tbest: 2430.6915080 (133)\ttotal: 2.6s\tremaining: 1.28s\n",
            "134:\tlearn: 2449.3948865\ttest: 2427.4163337\tbest: 2427.4163337 (134)\ttotal: 2.62s\tremaining: 1.26s\n",
            "135:\tlearn: 2446.2753187\ttest: 2424.1968605\tbest: 2424.1968605 (135)\ttotal: 2.64s\tremaining: 1.24s\n",
            "136:\tlearn: 2442.0136340\ttest: 2420.1234002\tbest: 2420.1234002 (136)\ttotal: 2.66s\tremaining: 1.22s\n",
            "137:\tlearn: 2438.9400941\ttest: 2417.0920172\tbest: 2417.0920172 (137)\ttotal: 2.67s\tremaining: 1.2s\n",
            "138:\tlearn: 2435.9177517\ttest: 2414.1170856\tbest: 2414.1170856 (138)\ttotal: 2.69s\tremaining: 1.18s\n",
            "139:\tlearn: 2430.7923883\ttest: 2409.0187802\tbest: 2409.0187802 (139)\ttotal: 2.71s\tremaining: 1.16s\n",
            "140:\tlearn: 2427.4271151\ttest: 2405.6790277\tbest: 2405.6790277 (140)\ttotal: 2.73s\tremaining: 1.14s\n",
            "141:\tlearn: 2424.2483878\ttest: 2402.4315646\tbest: 2402.4315646 (141)\ttotal: 2.75s\tremaining: 1.13s\n",
            "142:\tlearn: 2420.3427302\ttest: 2398.8311273\tbest: 2398.8311273 (142)\ttotal: 2.77s\tremaining: 1.1s\n",
            "143:\tlearn: 2417.4886442\ttest: 2396.0733841\tbest: 2396.0733841 (143)\ttotal: 2.79s\tremaining: 1.08s\n",
            "144:\tlearn: 2413.7580730\ttest: 2392.3243865\tbest: 2392.3243865 (144)\ttotal: 2.81s\tremaining: 1.06s\n",
            "145:\tlearn: 2410.5849878\ttest: 2389.2345600\tbest: 2389.2345600 (145)\ttotal: 2.83s\tremaining: 1.05s\n",
            "146:\tlearn: 2406.0236174\ttest: 2384.6933335\tbest: 2384.6933335 (146)\ttotal: 2.85s\tremaining: 1.03s\n",
            "147:\tlearn: 2403.0978955\ttest: 2381.7316610\tbest: 2381.7316610 (147)\ttotal: 2.87s\tremaining: 1.01s\n",
            "148:\tlearn: 2399.3664124\ttest: 2378.1738982\tbest: 2378.1738982 (148)\ttotal: 2.89s\tremaining: 988ms\n",
            "149:\tlearn: 2396.6026306\ttest: 2375.5280690\tbest: 2375.5280690 (149)\ttotal: 2.9s\tremaining: 968ms\n",
            "150:\tlearn: 2393.8726349\ttest: 2372.7695858\tbest: 2372.7695858 (150)\ttotal: 2.92s\tremaining: 948ms\n",
            "151:\tlearn: 2391.0945149\ttest: 2370.0707314\tbest: 2370.0707314 (151)\ttotal: 2.95s\tremaining: 930ms\n",
            "152:\tlearn: 2387.5666367\ttest: 2366.7097418\tbest: 2366.7097418 (152)\ttotal: 2.96s\tremaining: 910ms\n",
            "153:\tlearn: 2384.7986766\ttest: 2363.8709183\tbest: 2363.8709183 (153)\ttotal: 2.98s\tremaining: 890ms\n",
            "154:\tlearn: 2382.1859505\ttest: 2361.2229103\tbest: 2361.2229103 (154)\ttotal: 3s\tremaining: 870ms\n",
            "155:\tlearn: 2379.4388497\ttest: 2358.5320754\tbest: 2358.5320754 (155)\ttotal: 3.02s\tremaining: 851ms\n",
            "156:\tlearn: 2376.8282471\ttest: 2356.0165614\tbest: 2356.0165614 (156)\ttotal: 3.03s\tremaining: 831ms\n",
            "157:\tlearn: 2374.3391951\ttest: 2353.5755250\tbest: 2353.5755250 (157)\ttotal: 3.05s\tremaining: 812ms\n",
            "158:\tlearn: 2371.0200771\ttest: 2350.5253366\tbest: 2350.5253366 (158)\ttotal: 3.07s\tremaining: 792ms\n",
            "159:\tlearn: 2368.4501506\ttest: 2348.0257062\tbest: 2348.0257062 (159)\ttotal: 3.09s\tremaining: 773ms\n",
            "160:\tlearn: 2366.1578425\ttest: 2345.6815237\tbest: 2345.6815237 (160)\ttotal: 3.11s\tremaining: 753ms\n",
            "161:\tlearn: 2363.8345225\ttest: 2343.3348531\tbest: 2343.3348531 (161)\ttotal: 3.13s\tremaining: 735ms\n",
            "162:\tlearn: 2361.4416588\ttest: 2341.0084012\tbest: 2341.0084012 (162)\ttotal: 3.15s\tremaining: 715ms\n",
            "163:\tlearn: 2359.1585417\ttest: 2338.8192014\tbest: 2338.8192014 (163)\ttotal: 3.17s\tremaining: 696ms\n",
            "164:\tlearn: 2356.9666141\ttest: 2336.6442078\tbest: 2336.6442078 (164)\ttotal: 3.19s\tremaining: 676ms\n",
            "165:\tlearn: 2353.8480362\ttest: 2333.6758412\tbest: 2333.6758412 (165)\ttotal: 3.21s\tremaining: 657ms\n",
            "166:\tlearn: 2351.7155258\ttest: 2331.4366876\tbest: 2331.4366876 (166)\ttotal: 3.23s\tremaining: 637ms\n",
            "167:\tlearn: 2349.3804887\ttest: 2329.0602891\tbest: 2329.0602891 (167)\ttotal: 3.25s\tremaining: 618ms\n",
            "168:\tlearn: 2346.4269152\ttest: 2326.3508856\tbest: 2326.3508856 (168)\ttotal: 3.26s\tremaining: 599ms\n",
            "169:\tlearn: 2344.0341104\ttest: 2323.9509462\tbest: 2323.9509462 (169)\ttotal: 3.28s\tremaining: 579ms\n",
            "170:\tlearn: 2341.9891089\ttest: 2321.9764033\tbest: 2321.9764033 (170)\ttotal: 3.3s\tremaining: 560ms\n",
            "171:\tlearn: 2339.8004606\ttest: 2319.7497972\tbest: 2319.7497972 (171)\ttotal: 3.32s\tremaining: 540ms\n",
            "172:\tlearn: 2337.0264075\ttest: 2317.2091294\tbest: 2317.2091294 (172)\ttotal: 3.34s\tremaining: 521ms\n",
            "173:\tlearn: 2333.2809146\ttest: 2313.4807770\tbest: 2313.4807770 (173)\ttotal: 3.36s\tremaining: 502ms\n",
            "174:\tlearn: 2331.2853344\ttest: 2311.5821046\tbest: 2311.5821046 (174)\ttotal: 3.38s\tremaining: 482ms\n",
            "175:\tlearn: 2328.6692996\ttest: 2309.1905528\tbest: 2309.1905528 (175)\ttotal: 3.39s\tremaining: 463ms\n",
            "176:\tlearn: 2326.6306211\ttest: 2307.1788800\tbest: 2307.1788800 (176)\ttotal: 3.41s\tremaining: 443ms\n",
            "177:\tlearn: 2324.2082384\ttest: 2304.7533687\tbest: 2304.7533687 (177)\ttotal: 3.44s\tremaining: 425ms\n",
            "178:\tlearn: 2322.1850053\ttest: 2302.8471150\tbest: 2302.8471150 (178)\ttotal: 3.46s\tremaining: 406ms\n",
            "179:\tlearn: 2319.7165690\ttest: 2300.4853395\tbest: 2300.4853395 (179)\ttotal: 3.48s\tremaining: 386ms\n",
            "180:\tlearn: 2317.8411500\ttest: 2298.7554356\tbest: 2298.7554356 (180)\ttotal: 3.49s\tremaining: 367ms\n",
            "181:\tlearn: 2315.8142414\ttest: 2296.7805269\tbest: 2296.7805269 (181)\ttotal: 3.52s\tremaining: 348ms\n",
            "182:\tlearn: 2313.8636072\ttest: 2294.8690259\tbest: 2294.8690259 (182)\ttotal: 3.54s\tremaining: 329ms\n",
            "183:\tlearn: 2311.9974750\ttest: 2292.9999148\tbest: 2292.9999148 (183)\ttotal: 3.56s\tremaining: 309ms\n",
            "184:\tlearn: 2310.1746258\ttest: 2291.1827286\tbest: 2291.1827286 (184)\ttotal: 3.57s\tremaining: 290ms\n",
            "185:\tlearn: 2307.2824290\ttest: 2288.2332704\tbest: 2288.2332704 (185)\ttotal: 3.59s\tremaining: 270ms\n",
            "186:\tlearn: 2305.3851943\ttest: 2286.3299702\tbest: 2286.3299702 (186)\ttotal: 3.61s\tremaining: 251ms\n",
            "187:\tlearn: 2303.5641252\ttest: 2284.6068404\tbest: 2284.6068404 (187)\ttotal: 3.63s\tremaining: 232ms\n",
            "188:\tlearn: 2301.7787696\ttest: 2282.9060737\tbest: 2282.9060737 (188)\ttotal: 3.65s\tremaining: 212ms\n",
            "189:\tlearn: 2300.0275114\ttest: 2281.1967745\tbest: 2281.1967745 (189)\ttotal: 3.67s\tremaining: 193ms\n",
            "190:\tlearn: 2297.7400090\ttest: 2279.0123780\tbest: 2279.0123780 (190)\ttotal: 3.68s\tremaining: 174ms\n",
            "191:\tlearn: 2296.0485458\ttest: 2277.4237703\tbest: 2277.4237703 (191)\ttotal: 3.7s\tremaining: 154ms\n",
            "192:\tlearn: 2293.8425310\ttest: 2275.2450416\tbest: 2275.2450416 (192)\ttotal: 3.72s\tremaining: 135ms\n",
            "193:\tlearn: 2291.3287878\ttest: 2272.8650967\tbest: 2272.8650967 (193)\ttotal: 3.74s\tremaining: 116ms\n",
            "194:\tlearn: 2289.7577710\ttest: 2271.4145888\tbest: 2271.4145888 (194)\ttotal: 3.76s\tremaining: 96.4ms\n",
            "195:\tlearn: 2287.6608289\ttest: 2269.3295593\tbest: 2269.3295593 (195)\ttotal: 3.78s\tremaining: 77.1ms\n",
            "196:\tlearn: 2286.1700138\ttest: 2267.7708140\tbest: 2267.7708140 (196)\ttotal: 3.79s\tremaining: 57.8ms\n",
            "197:\tlearn: 2284.4418284\ttest: 2266.0708179\tbest: 2266.0708179 (197)\ttotal: 3.81s\tremaining: 38.5ms\n",
            "198:\tlearn: 2282.8232584\ttest: 2264.4719337\tbest: 2264.4719337 (198)\ttotal: 3.83s\tremaining: 19.3ms\n",
            "199:\tlearn: 2281.2536222\ttest: 2262.9565502\tbest: 2262.9565502 (199)\ttotal: 3.85s\tremaining: 0us\n",
            "\n",
            "bestTest = 2262.95655\n",
            "bestIteration = 199\n",
            "\n",
            "2:\tloss: 2262.9565502\tbest: 2262.9565502 (2)\ttotal: 9.69s\tremaining: 19.4s\n",
            "0:\tlearn: 7177.2143324\ttest: 7145.3102849\tbest: 7145.3102849 (0)\ttotal: 35.3ms\tremaining: 3.49s\n",
            "1:\tlearn: 6994.2374097\ttest: 6962.5254356\tbest: 6962.5254356 (1)\ttotal: 74.5ms\tremaining: 3.65s\n",
            "2:\tlearn: 6813.3374483\ttest: 6782.3081693\tbest: 6782.3081693 (2)\ttotal: 113ms\tremaining: 3.64s\n",
            "3:\tlearn: 6638.4179706\ttest: 6607.6516315\tbest: 6607.6516315 (3)\ttotal: 151ms\tremaining: 3.63s\n",
            "4:\tlearn: 6469.2049543\ttest: 6438.5663367\tbest: 6438.5663367 (4)\ttotal: 188ms\tremaining: 3.58s\n",
            "5:\tlearn: 6305.5289422\ttest: 6275.4913644\tbest: 6275.4913644 (5)\ttotal: 222ms\tremaining: 3.48s\n",
            "6:\tlearn: 6148.0882240\ttest: 6118.3301694\tbest: 6118.3301694 (6)\ttotal: 260ms\tremaining: 3.45s\n",
            "7:\tlearn: 5994.2836157\ttest: 5965.1834185\tbest: 5965.1834185 (7)\ttotal: 297ms\tremaining: 3.42s\n",
            "8:\tlearn: 5847.4637887\ttest: 5818.6819494\tbest: 5818.6819494 (8)\ttotal: 331ms\tremaining: 3.34s\n",
            "9:\tlearn: 5706.9941145\ttest: 5678.2749187\tbest: 5678.2749187 (9)\ttotal: 380ms\tremaining: 3.42s\n",
            "10:\tlearn: 5568.2555082\ttest: 5539.5934000\tbest: 5539.5934000 (10)\ttotal: 428ms\tremaining: 3.47s\n",
            "11:\tlearn: 5436.0646409\ttest: 5407.9079072\tbest: 5407.9079072 (11)\ttotal: 474ms\tremaining: 3.48s\n",
            "12:\tlearn: 5305.9254926\ttest: 5277.9355123\tbest: 5277.9355123 (12)\ttotal: 520ms\tremaining: 3.48s\n",
            "13:\tlearn: 5182.2175252\ttest: 5154.5313741\tbest: 5154.5313741 (13)\ttotal: 572ms\tremaining: 3.51s\n",
            "14:\tlearn: 5060.6618499\ttest: 5032.8613563\tbest: 5032.8613563 (14)\ttotal: 608ms\tremaining: 3.45s\n",
            "15:\tlearn: 4943.6816755\ttest: 4916.3324659\tbest: 4916.3324659 (15)\ttotal: 642ms\tremaining: 3.37s\n",
            "16:\tlearn: 4831.5199169\ttest: 4803.9374141\tbest: 4803.9374141 (16)\ttotal: 681ms\tremaining: 3.32s\n",
            "17:\tlearn: 4721.5159721\ttest: 4694.0044061\tbest: 4694.0044061 (17)\ttotal: 718ms\tremaining: 3.27s\n",
            "18:\tlearn: 4617.2011362\ttest: 4590.0396100\tbest: 4590.0396100 (18)\ttotal: 760ms\tremaining: 3.24s\n",
            "19:\tlearn: 4516.3094860\ttest: 4489.3301326\tbest: 4489.3301326 (19)\ttotal: 800ms\tremaining: 3.2s\n",
            "20:\tlearn: 4417.9887645\ttest: 4391.4300930\tbest: 4391.4300930 (20)\ttotal: 843ms\tremaining: 3.17s\n",
            "21:\tlearn: 4323.7651860\ttest: 4297.0872872\tbest: 4297.0872872 (21)\ttotal: 880ms\tremaining: 3.12s\n",
            "22:\tlearn: 4231.4974012\ttest: 4205.0440255\tbest: 4205.0440255 (22)\ttotal: 916ms\tremaining: 3.07s\n",
            "23:\tlearn: 4143.1955412\ttest: 4116.8803096\tbest: 4116.8803096 (23)\ttotal: 953ms\tremaining: 3.02s\n",
            "24:\tlearn: 4056.9048036\ttest: 4030.8184199\tbest: 4030.8184199 (24)\ttotal: 989ms\tremaining: 2.97s\n",
            "25:\tlearn: 3974.0696793\ttest: 3947.8859368\tbest: 3947.8859368 (25)\ttotal: 1.02s\tremaining: 2.91s\n",
            "26:\tlearn: 3894.8522730\ttest: 3868.7535979\tbest: 3868.7535979 (26)\ttotal: 1.07s\tremaining: 2.89s\n",
            "27:\tlearn: 3817.3660510\ttest: 3791.2267260\tbest: 3791.2267260 (27)\ttotal: 1.1s\tremaining: 2.84s\n",
            "28:\tlearn: 3744.3466422\ttest: 3718.1079021\tbest: 3718.1079021 (28)\ttotal: 1.14s\tremaining: 2.8s\n",
            "29:\tlearn: 3673.7260661\ttest: 3647.4991998\tbest: 3647.4991998 (29)\ttotal: 1.19s\tremaining: 2.77s\n",
            "30:\tlearn: 3605.0012901\ttest: 3578.9695696\tbest: 3578.9695696 (30)\ttotal: 1.22s\tremaining: 2.71s\n",
            "31:\tlearn: 3538.6598222\ttest: 3512.8470308\tbest: 3512.8470308 (31)\ttotal: 1.26s\tremaining: 2.68s\n",
            "32:\tlearn: 3475.9549593\ttest: 3450.5586868\tbest: 3450.5586868 (32)\ttotal: 1.31s\tremaining: 2.66s\n",
            "33:\tlearn: 3415.0790520\ttest: 3389.9051381\tbest: 3389.9051381 (33)\ttotal: 1.36s\tremaining: 2.64s\n",
            "34:\tlearn: 3357.3537517\ttest: 3332.3751691\tbest: 3332.3751691 (34)\ttotal: 1.4s\tremaining: 2.6s\n",
            "35:\tlearn: 3300.1129082\ttest: 3275.4488711\tbest: 3275.4488711 (35)\ttotal: 1.44s\tremaining: 2.55s\n",
            "36:\tlearn: 3245.8146152\ttest: 3221.2394987\tbest: 3221.2394987 (36)\ttotal: 1.48s\tremaining: 2.52s\n",
            "37:\tlearn: 3193.9960554\ttest: 3169.7036472\tbest: 3169.7036472 (37)\ttotal: 1.51s\tremaining: 2.47s\n",
            "38:\tlearn: 3144.5679955\ttest: 3120.6965639\tbest: 3120.6965639 (38)\ttotal: 1.55s\tremaining: 2.42s\n",
            "39:\tlearn: 3095.3936477\ttest: 3071.5753665\tbest: 3071.5753665 (39)\ttotal: 1.59s\tremaining: 2.38s\n",
            "40:\tlearn: 3049.3750753\ttest: 3025.9993587\tbest: 3025.9993587 (40)\ttotal: 1.62s\tremaining: 2.33s\n",
            "41:\tlearn: 3003.5321170\ttest: 2980.4607435\tbest: 2980.4607435 (41)\ttotal: 1.66s\tremaining: 2.29s\n",
            "42:\tlearn: 2959.9195667\ttest: 2936.8916452\tbest: 2936.8916452 (42)\ttotal: 1.7s\tremaining: 2.25s\n",
            "43:\tlearn: 2918.5166195\ttest: 2895.5647632\tbest: 2895.5647632 (43)\ttotal: 1.73s\tremaining: 2.2s\n",
            "44:\tlearn: 2879.1707141\ttest: 2856.6235521\tbest: 2856.6235521 (44)\ttotal: 1.77s\tremaining: 2.16s\n",
            "45:\tlearn: 2840.6661737\ttest: 2818.2852716\tbest: 2818.2852716 (45)\ttotal: 1.8s\tremaining: 2.12s\n",
            "46:\tlearn: 2803.1940571\ttest: 2780.6474003\tbest: 2780.6474003 (46)\ttotal: 1.83s\tremaining: 2.07s\n",
            "47:\tlearn: 2768.0847461\ttest: 2745.9241098\tbest: 2745.9241098 (47)\ttotal: 1.88s\tremaining: 2.03s\n",
            "48:\tlearn: 2733.7338729\ttest: 2711.7605386\tbest: 2711.7605386 (48)\ttotal: 1.92s\tremaining: 2s\n",
            "49:\tlearn: 2701.3062414\ttest: 2679.6551593\tbest: 2679.6551593 (49)\ttotal: 1.96s\tremaining: 1.96s\n",
            "50:\tlearn: 2670.3852019\ttest: 2648.8465593\tbest: 2648.8465593 (50)\ttotal: 2s\tremaining: 1.92s\n",
            "51:\tlearn: 2640.1822540\ttest: 2618.7680235\tbest: 2618.7680235 (51)\ttotal: 2.03s\tremaining: 1.88s\n",
            "52:\tlearn: 2611.5952765\ttest: 2590.4549729\tbest: 2590.4549729 (52)\ttotal: 2.07s\tremaining: 1.83s\n",
            "53:\tlearn: 2583.2487710\ttest: 2562.2027366\tbest: 2562.2027366 (53)\ttotal: 2.1s\tremaining: 1.79s\n",
            "54:\tlearn: 2555.4644226\ttest: 2534.6071976\tbest: 2534.6071976 (54)\ttotal: 2.13s\tremaining: 1.75s\n",
            "55:\tlearn: 2528.4567485\ttest: 2507.8499675\tbest: 2507.8499675 (55)\ttotal: 2.17s\tremaining: 1.71s\n",
            "56:\tlearn: 2503.5953292\ttest: 2483.1746541\tbest: 2483.1746541 (56)\ttotal: 2.22s\tremaining: 1.67s\n",
            "57:\tlearn: 2479.5004815\ttest: 2459.0910708\tbest: 2459.0910708 (57)\ttotal: 2.26s\tremaining: 1.64s\n",
            "58:\tlearn: 2456.0377790\ttest: 2435.7737629\tbest: 2435.7737629 (58)\ttotal: 2.31s\tremaining: 1.61s\n",
            "59:\tlearn: 2434.7488332\ttest: 2414.7828066\tbest: 2414.7828066 (59)\ttotal: 2.36s\tremaining: 1.58s\n",
            "60:\tlearn: 2413.5808885\ttest: 2393.8400052\tbest: 2393.8400052 (60)\ttotal: 2.4s\tremaining: 1.53s\n",
            "61:\tlearn: 2394.2394759\ttest: 2374.7039582\tbest: 2374.7039582 (61)\ttotal: 2.43s\tremaining: 1.49s\n",
            "62:\tlearn: 2375.1082312\ttest: 2355.8885604\tbest: 2355.8885604 (62)\ttotal: 2.47s\tremaining: 1.45s\n",
            "63:\tlearn: 2356.8200073\ttest: 2338.0210690\tbest: 2338.0210690 (63)\ttotal: 2.51s\tremaining: 1.41s\n",
            "64:\tlearn: 2339.7049744\ttest: 2321.0597391\tbest: 2321.0597391 (64)\ttotal: 2.54s\tremaining: 1.37s\n",
            "65:\tlearn: 2322.8211853\ttest: 2304.6155068\tbest: 2304.6155068 (65)\ttotal: 2.58s\tremaining: 1.33s\n",
            "66:\tlearn: 2306.0063810\ttest: 2287.6340717\tbest: 2287.6340717 (66)\ttotal: 2.61s\tremaining: 1.29s\n",
            "67:\tlearn: 2290.0835793\ttest: 2271.8160779\tbest: 2271.8160779 (67)\ttotal: 2.65s\tremaining: 1.25s\n",
            "68:\tlearn: 2275.1996865\ttest: 2257.1447548\tbest: 2257.1447548 (68)\ttotal: 2.68s\tremaining: 1.21s\n",
            "69:\tlearn: 2260.9812988\ttest: 2243.2230181\tbest: 2243.2230181 (69)\ttotal: 2.72s\tremaining: 1.16s\n",
            "70:\tlearn: 2247.2860284\ttest: 2229.7236280\tbest: 2229.7236280 (70)\ttotal: 2.75s\tremaining: 1.13s\n",
            "71:\tlearn: 2233.7511259\ttest: 2216.2795810\tbest: 2216.2795810 (71)\ttotal: 2.79s\tremaining: 1.09s\n",
            "72:\tlearn: 2220.4485082\ttest: 2202.8673466\tbest: 2202.8673466 (72)\ttotal: 2.84s\tremaining: 1.05s\n",
            "73:\tlearn: 2208.5122603\ttest: 2191.3344912\tbest: 2191.3344912 (73)\ttotal: 2.88s\tremaining: 1.01s\n",
            "74:\tlearn: 2196.8095872\ttest: 2179.7366456\tbest: 2179.7366456 (74)\ttotal: 2.91s\tremaining: 969ms\n",
            "75:\tlearn: 2185.8072438\ttest: 2168.8316925\tbest: 2168.8316925 (75)\ttotal: 2.94s\tremaining: 930ms\n",
            "76:\tlearn: 2175.5997744\ttest: 2158.9037314\tbest: 2158.9037314 (76)\ttotal: 2.98s\tremaining: 890ms\n",
            "77:\tlearn: 2164.7149629\ttest: 2147.8706332\tbest: 2147.8706332 (77)\ttotal: 3.01s\tremaining: 850ms\n",
            "78:\tlearn: 2155.1628124\ttest: 2138.4376684\tbest: 2138.4376684 (78)\ttotal: 3.05s\tremaining: 812ms\n",
            "79:\tlearn: 2146.0610257\ttest: 2129.4812690\tbest: 2129.4812690 (79)\ttotal: 3.09s\tremaining: 772ms\n",
            "80:\tlearn: 2136.0376475\ttest: 2119.5817805\tbest: 2119.5817805 (80)\ttotal: 3.12s\tremaining: 732ms\n",
            "81:\tlearn: 2127.7824384\ttest: 2111.6828437\tbest: 2111.6828437 (81)\ttotal: 3.16s\tremaining: 693ms\n",
            "82:\tlearn: 2119.2543891\ttest: 2103.2603954\tbest: 2103.2603954 (82)\ttotal: 3.19s\tremaining: 654ms\n",
            "83:\tlearn: 2110.2437492\ttest: 2094.2148823\tbest: 2094.2148823 (83)\ttotal: 3.23s\tremaining: 615ms\n",
            "84:\tlearn: 2101.9773220\ttest: 2086.0926523\tbest: 2086.0926523 (84)\ttotal: 3.27s\tremaining: 578ms\n",
            "85:\tlearn: 2094.8956231\ttest: 2079.1206645\tbest: 2079.1206645 (85)\ttotal: 3.31s\tremaining: 540ms\n",
            "86:\tlearn: 2087.4616717\ttest: 2071.5204564\tbest: 2071.5204564 (86)\ttotal: 3.35s\tremaining: 501ms\n",
            "87:\tlearn: 2080.1561128\ttest: 2064.3392018\tbest: 2064.3392018 (87)\ttotal: 3.38s\tremaining: 461ms\n",
            "88:\tlearn: 2072.9623593\ttest: 2057.4349721\tbest: 2057.4349721 (88)\ttotal: 3.41s\tremaining: 422ms\n",
            "89:\tlearn: 2067.0190791\ttest: 2051.6372301\tbest: 2051.6372301 (89)\ttotal: 3.46s\tremaining: 385ms\n",
            "90:\tlearn: 2060.8922405\ttest: 2045.7549293\tbest: 2045.7549293 (90)\ttotal: 3.5s\tremaining: 346ms\n",
            "91:\tlearn: 2054.7310221\ttest: 2039.8124373\tbest: 2039.8124373 (91)\ttotal: 3.54s\tremaining: 308ms\n",
            "92:\tlearn: 2049.0638365\ttest: 2034.3688583\tbest: 2034.3688583 (92)\ttotal: 3.58s\tremaining: 270ms\n",
            "93:\tlearn: 2043.3734787\ttest: 2028.3678837\tbest: 2028.3678837 (93)\ttotal: 3.62s\tremaining: 231ms\n",
            "94:\tlearn: 2037.6768505\ttest: 2022.5434378\tbest: 2022.5434378 (94)\ttotal: 3.66s\tremaining: 193ms\n",
            "95:\tlearn: 2032.6792415\ttest: 2017.7337753\tbest: 2017.7337753 (95)\ttotal: 3.7s\tremaining: 154ms\n",
            "96:\tlearn: 2027.7262722\ttest: 2013.0629139\tbest: 2013.0629139 (96)\ttotal: 3.73s\tremaining: 116ms\n",
            "97:\tlearn: 2023.3091001\ttest: 2008.8310462\tbest: 2008.8310462 (97)\ttotal: 3.77s\tremaining: 76.9ms\n",
            "98:\tlearn: 2018.6954771\ttest: 2004.4945020\tbest: 2004.4945020 (98)\ttotal: 3.8s\tremaining: 38.4ms\n",
            "99:\tlearn: 2013.7410169\ttest: 1999.5179747\tbest: 1999.5179747 (99)\ttotal: 3.84s\tremaining: 0us\n",
            "\n",
            "bestTest = 1999.517975\n",
            "bestIteration = 99\n",
            "\n",
            "3:\tloss: 1999.5179747\tbest: 1999.5179747 (3)\ttotal: 13.6s\tremaining: 17s\n",
            "0:\tlearn: 7177.2143324\ttest: 7145.3102849\tbest: 7145.3102849 (0)\ttotal: 49.9ms\tremaining: 7.44s\n",
            "1:\tlearn: 6994.2374097\ttest: 6962.5254356\tbest: 6962.5254356 (1)\ttotal: 85.9ms\tremaining: 6.36s\n",
            "2:\tlearn: 6813.3374483\ttest: 6782.3081693\tbest: 6782.3081693 (2)\ttotal: 116ms\tremaining: 5.71s\n",
            "3:\tlearn: 6638.4179706\ttest: 6607.6516315\tbest: 6607.6516315 (3)\ttotal: 148ms\tremaining: 5.39s\n",
            "4:\tlearn: 6469.2049543\ttest: 6438.5663367\tbest: 6438.5663367 (4)\ttotal: 184ms\tremaining: 5.33s\n",
            "5:\tlearn: 6305.5289422\ttest: 6275.4913644\tbest: 6275.4913644 (5)\ttotal: 215ms\tremaining: 5.16s\n",
            "6:\tlearn: 6148.0882240\ttest: 6118.3301694\tbest: 6118.3301694 (6)\ttotal: 247ms\tremaining: 5.05s\n",
            "7:\tlearn: 5994.2836157\ttest: 5965.1834185\tbest: 5965.1834185 (7)\ttotal: 288ms\tremaining: 5.11s\n",
            "8:\tlearn: 5847.4637887\ttest: 5818.6819494\tbest: 5818.6819494 (8)\ttotal: 318ms\tremaining: 4.99s\n",
            "9:\tlearn: 5706.9941145\ttest: 5678.2749187\tbest: 5678.2749187 (9)\ttotal: 348ms\tremaining: 4.88s\n",
            "10:\tlearn: 5568.2555082\ttest: 5539.5934000\tbest: 5539.5934000 (10)\ttotal: 386ms\tremaining: 4.87s\n",
            "11:\tlearn: 5436.0646409\ttest: 5407.9079072\tbest: 5407.9079072 (11)\ttotal: 431ms\tremaining: 4.96s\n",
            "12:\tlearn: 5305.9254926\ttest: 5277.9355123\tbest: 5277.9355123 (12)\ttotal: 463ms\tremaining: 4.88s\n",
            "13:\tlearn: 5182.2175252\ttest: 5154.5313741\tbest: 5154.5313741 (13)\ttotal: 497ms\tremaining: 4.83s\n",
            "14:\tlearn: 5060.6618499\ttest: 5032.8613563\tbest: 5032.8613563 (14)\ttotal: 529ms\tremaining: 4.76s\n",
            "15:\tlearn: 4943.6816755\ttest: 4916.3324659\tbest: 4916.3324659 (15)\ttotal: 567ms\tremaining: 4.74s\n",
            "16:\tlearn: 4831.5199169\ttest: 4803.9374141\tbest: 4803.9374141 (16)\ttotal: 604ms\tremaining: 4.73s\n",
            "17:\tlearn: 4721.5159721\ttest: 4694.0044061\tbest: 4694.0044061 (17)\ttotal: 639ms\tremaining: 4.69s\n",
            "18:\tlearn: 4617.2011362\ttest: 4590.0396100\tbest: 4590.0396100 (18)\ttotal: 680ms\tremaining: 4.69s\n",
            "19:\tlearn: 4516.3094860\ttest: 4489.3301326\tbest: 4489.3301326 (19)\ttotal: 713ms\tremaining: 4.63s\n",
            "20:\tlearn: 4417.9887645\ttest: 4391.4300930\tbest: 4391.4300930 (20)\ttotal: 745ms\tremaining: 4.57s\n",
            "21:\tlearn: 4323.7651860\ttest: 4297.0872872\tbest: 4297.0872872 (21)\ttotal: 781ms\tremaining: 4.54s\n",
            "22:\tlearn: 4231.4974012\ttest: 4205.0440255\tbest: 4205.0440255 (22)\ttotal: 814ms\tremaining: 4.49s\n",
            "23:\tlearn: 4143.1955412\ttest: 4116.8803096\tbest: 4116.8803096 (23)\ttotal: 846ms\tremaining: 4.44s\n",
            "24:\tlearn: 4056.9048036\ttest: 4030.8184199\tbest: 4030.8184199 (24)\ttotal: 886ms\tremaining: 4.43s\n",
            "25:\tlearn: 3974.0696793\ttest: 3947.8859368\tbest: 3947.8859368 (25)\ttotal: 918ms\tremaining: 4.38s\n",
            "26:\tlearn: 3894.8522730\ttest: 3868.7535979\tbest: 3868.7535979 (26)\ttotal: 951ms\tremaining: 4.33s\n",
            "27:\tlearn: 3817.3660510\ttest: 3791.2267260\tbest: 3791.2267260 (27)\ttotal: 992ms\tremaining: 4.32s\n",
            "28:\tlearn: 3744.3466422\ttest: 3718.1079021\tbest: 3718.1079021 (28)\ttotal: 1.02s\tremaining: 4.27s\n",
            "29:\tlearn: 3673.7260661\ttest: 3647.4991998\tbest: 3647.4991998 (29)\ttotal: 1.06s\tremaining: 4.24s\n",
            "30:\tlearn: 3605.0012901\ttest: 3578.9695696\tbest: 3578.9695696 (30)\ttotal: 1.09s\tremaining: 4.2s\n",
            "31:\tlearn: 3538.6598222\ttest: 3512.8470308\tbest: 3512.8470308 (31)\ttotal: 1.13s\tremaining: 4.15s\n",
            "32:\tlearn: 3475.9549593\ttest: 3450.5586868\tbest: 3450.5586868 (32)\ttotal: 1.16s\tremaining: 4.11s\n",
            "33:\tlearn: 3415.0790520\ttest: 3389.9051381\tbest: 3389.9051381 (33)\ttotal: 1.19s\tremaining: 4.07s\n",
            "34:\tlearn: 3357.3537517\ttest: 3332.3751691\tbest: 3332.3751691 (34)\ttotal: 1.23s\tremaining: 4.03s\n",
            "35:\tlearn: 3300.1129082\ttest: 3275.4488711\tbest: 3275.4488711 (35)\ttotal: 1.26s\tremaining: 3.99s\n",
            "36:\tlearn: 3245.8146152\ttest: 3221.2394987\tbest: 3221.2394987 (36)\ttotal: 1.29s\tremaining: 3.95s\n",
            "37:\tlearn: 3193.9960554\ttest: 3169.7036472\tbest: 3169.7036472 (37)\ttotal: 1.33s\tremaining: 3.91s\n",
            "38:\tlearn: 3144.5679955\ttest: 3120.6965639\tbest: 3120.6965639 (38)\ttotal: 1.36s\tremaining: 3.88s\n",
            "39:\tlearn: 3095.3936477\ttest: 3071.5753665\tbest: 3071.5753665 (39)\ttotal: 1.4s\tremaining: 3.84s\n",
            "40:\tlearn: 3049.3750753\ttest: 3025.9993587\tbest: 3025.9993587 (40)\ttotal: 1.43s\tremaining: 3.79s\n",
            "41:\tlearn: 3003.5321170\ttest: 2980.4607435\tbest: 2980.4607435 (41)\ttotal: 1.47s\tremaining: 3.78s\n",
            "42:\tlearn: 2959.9195667\ttest: 2936.8916452\tbest: 2936.8916452 (42)\ttotal: 1.5s\tremaining: 3.74s\n",
            "43:\tlearn: 2918.5166195\ttest: 2895.5647632\tbest: 2895.5647632 (43)\ttotal: 1.54s\tremaining: 3.7s\n",
            "44:\tlearn: 2879.1707141\ttest: 2856.6235521\tbest: 2856.6235521 (44)\ttotal: 1.59s\tremaining: 3.71s\n",
            "45:\tlearn: 2840.6661737\ttest: 2818.2852716\tbest: 2818.2852716 (45)\ttotal: 1.63s\tremaining: 3.68s\n",
            "46:\tlearn: 2803.1940571\ttest: 2780.6474003\tbest: 2780.6474003 (46)\ttotal: 1.66s\tremaining: 3.65s\n",
            "47:\tlearn: 2768.0847461\ttest: 2745.9241098\tbest: 2745.9241098 (47)\ttotal: 1.71s\tremaining: 3.64s\n",
            "48:\tlearn: 2733.7338729\ttest: 2711.7605386\tbest: 2711.7605386 (48)\ttotal: 1.76s\tremaining: 3.62s\n",
            "49:\tlearn: 2701.3062414\ttest: 2679.6551593\tbest: 2679.6551593 (49)\ttotal: 1.79s\tremaining: 3.59s\n",
            "50:\tlearn: 2670.3852019\ttest: 2648.8465593\tbest: 2648.8465593 (50)\ttotal: 1.83s\tremaining: 3.55s\n",
            "51:\tlearn: 2640.1822540\ttest: 2618.7680235\tbest: 2618.7680235 (51)\ttotal: 1.87s\tremaining: 3.53s\n",
            "52:\tlearn: 2611.5952765\ttest: 2590.4549729\tbest: 2590.4549729 (52)\ttotal: 1.91s\tremaining: 3.49s\n",
            "53:\tlearn: 2583.2487710\ttest: 2562.2027366\tbest: 2562.2027366 (53)\ttotal: 1.94s\tremaining: 3.45s\n",
            "54:\tlearn: 2555.4644226\ttest: 2534.6071976\tbest: 2534.6071976 (54)\ttotal: 1.98s\tremaining: 3.42s\n",
            "55:\tlearn: 2528.4567485\ttest: 2507.8499675\tbest: 2507.8499675 (55)\ttotal: 2.01s\tremaining: 3.38s\n",
            "56:\tlearn: 2503.5953292\ttest: 2483.1746541\tbest: 2483.1746541 (56)\ttotal: 2.05s\tremaining: 3.34s\n",
            "57:\tlearn: 2479.5004815\ttest: 2459.0910708\tbest: 2459.0910708 (57)\ttotal: 2.08s\tremaining: 3.3s\n",
            "58:\tlearn: 2456.0377790\ttest: 2435.7737629\tbest: 2435.7737629 (58)\ttotal: 2.11s\tremaining: 3.26s\n",
            "59:\tlearn: 2434.7488332\ttest: 2414.7828066\tbest: 2414.7828066 (59)\ttotal: 2.15s\tremaining: 3.23s\n",
            "60:\tlearn: 2413.5808885\ttest: 2393.8400052\tbest: 2393.8400052 (60)\ttotal: 2.18s\tremaining: 3.19s\n",
            "61:\tlearn: 2394.2394759\ttest: 2374.7039582\tbest: 2374.7039582 (61)\ttotal: 2.22s\tremaining: 3.15s\n",
            "62:\tlearn: 2375.1082312\ttest: 2355.8885604\tbest: 2355.8885604 (62)\ttotal: 2.25s\tremaining: 3.11s\n",
            "63:\tlearn: 2356.8200073\ttest: 2338.0210690\tbest: 2338.0210690 (63)\ttotal: 2.29s\tremaining: 3.08s\n",
            "64:\tlearn: 2339.7049744\ttest: 2321.0597391\tbest: 2321.0597391 (64)\ttotal: 2.32s\tremaining: 3.04s\n",
            "65:\tlearn: 2322.8211853\ttest: 2304.6155068\tbest: 2304.6155068 (65)\ttotal: 2.37s\tremaining: 3.01s\n",
            "66:\tlearn: 2306.0063810\ttest: 2287.6340717\tbest: 2287.6340717 (66)\ttotal: 2.4s\tremaining: 2.97s\n",
            "67:\tlearn: 2290.0835793\ttest: 2271.8160779\tbest: 2271.8160779 (67)\ttotal: 2.43s\tremaining: 2.93s\n",
            "68:\tlearn: 2275.1996865\ttest: 2257.1447548\tbest: 2257.1447548 (68)\ttotal: 2.46s\tremaining: 2.89s\n",
            "69:\tlearn: 2260.9812988\ttest: 2243.2230181\tbest: 2243.2230181 (69)\ttotal: 2.49s\tremaining: 2.85s\n",
            "70:\tlearn: 2247.2860284\ttest: 2229.7236280\tbest: 2229.7236280 (70)\ttotal: 2.53s\tremaining: 2.81s\n",
            "71:\tlearn: 2233.7511259\ttest: 2216.2795810\tbest: 2216.2795810 (71)\ttotal: 2.57s\tremaining: 2.79s\n",
            "72:\tlearn: 2220.4485082\ttest: 2202.8673466\tbest: 2202.8673466 (72)\ttotal: 2.61s\tremaining: 2.75s\n",
            "73:\tlearn: 2208.5122603\ttest: 2191.3344912\tbest: 2191.3344912 (73)\ttotal: 2.64s\tremaining: 2.71s\n",
            "74:\tlearn: 2196.8095872\ttest: 2179.7366456\tbest: 2179.7366456 (74)\ttotal: 2.68s\tremaining: 2.68s\n",
            "75:\tlearn: 2185.8072438\ttest: 2168.8316925\tbest: 2168.8316925 (75)\ttotal: 2.71s\tremaining: 2.64s\n",
            "76:\tlearn: 2175.5997744\ttest: 2158.9037314\tbest: 2158.9037314 (76)\ttotal: 2.75s\tremaining: 2.6s\n",
            "77:\tlearn: 2164.7149629\ttest: 2147.8706332\tbest: 2147.8706332 (77)\ttotal: 2.78s\tremaining: 2.57s\n",
            "78:\tlearn: 2155.1628124\ttest: 2138.4376684\tbest: 2138.4376684 (78)\ttotal: 2.81s\tremaining: 2.53s\n",
            "79:\tlearn: 2146.0610257\ttest: 2129.4812690\tbest: 2129.4812690 (79)\ttotal: 2.84s\tremaining: 2.48s\n",
            "80:\tlearn: 2136.0376475\ttest: 2119.5817805\tbest: 2119.5817805 (80)\ttotal: 2.88s\tremaining: 2.45s\n",
            "81:\tlearn: 2127.7824384\ttest: 2111.6828437\tbest: 2111.6828437 (81)\ttotal: 2.91s\tremaining: 2.41s\n",
            "82:\tlearn: 2119.2543891\ttest: 2103.2603954\tbest: 2103.2603954 (82)\ttotal: 2.94s\tremaining: 2.38s\n",
            "83:\tlearn: 2110.2437492\ttest: 2094.2148823\tbest: 2094.2148823 (83)\ttotal: 2.98s\tremaining: 2.35s\n",
            "84:\tlearn: 2101.9773220\ttest: 2086.0926523\tbest: 2086.0926523 (84)\ttotal: 3.02s\tremaining: 2.31s\n",
            "85:\tlearn: 2094.8956231\ttest: 2079.1206645\tbest: 2079.1206645 (85)\ttotal: 3.05s\tremaining: 2.27s\n",
            "86:\tlearn: 2087.4616717\ttest: 2071.5204564\tbest: 2071.5204564 (86)\ttotal: 3.09s\tremaining: 2.24s\n",
            "87:\tlearn: 2080.1561128\ttest: 2064.3392018\tbest: 2064.3392018 (87)\ttotal: 3.12s\tremaining: 2.2s\n",
            "88:\tlearn: 2072.9623593\ttest: 2057.4349721\tbest: 2057.4349721 (88)\ttotal: 3.17s\tremaining: 2.17s\n",
            "89:\tlearn: 2067.0190791\ttest: 2051.6372301\tbest: 2051.6372301 (89)\ttotal: 3.2s\tremaining: 2.13s\n",
            "90:\tlearn: 2060.8922405\ttest: 2045.7549293\tbest: 2045.7549293 (90)\ttotal: 3.23s\tremaining: 2.09s\n",
            "91:\tlearn: 2054.7310221\ttest: 2039.8124373\tbest: 2039.8124373 (91)\ttotal: 3.27s\tremaining: 2.06s\n",
            "92:\tlearn: 2049.0638365\ttest: 2034.3688583\tbest: 2034.3688583 (92)\ttotal: 3.3s\tremaining: 2.02s\n",
            "93:\tlearn: 2043.3734787\ttest: 2028.3678837\tbest: 2028.3678837 (93)\ttotal: 3.33s\tremaining: 1.98s\n",
            "94:\tlearn: 2037.6768505\ttest: 2022.5434378\tbest: 2022.5434378 (94)\ttotal: 3.37s\tremaining: 1.95s\n",
            "95:\tlearn: 2032.6792415\ttest: 2017.7337753\tbest: 2017.7337753 (95)\ttotal: 3.4s\tremaining: 1.91s\n",
            "96:\tlearn: 2027.7262722\ttest: 2013.0629139\tbest: 2013.0629139 (96)\ttotal: 3.43s\tremaining: 1.88s\n",
            "97:\tlearn: 2023.3091001\ttest: 2008.8310462\tbest: 2008.8310462 (97)\ttotal: 3.47s\tremaining: 1.84s\n",
            "98:\tlearn: 2018.6954771\ttest: 2004.4945020\tbest: 2004.4945020 (98)\ttotal: 3.5s\tremaining: 1.8s\n",
            "99:\tlearn: 2013.7410169\ttest: 1999.5179747\tbest: 1999.5179747 (99)\ttotal: 3.54s\tremaining: 1.77s\n",
            "100:\tlearn: 2009.3856348\ttest: 1995.1885298\tbest: 1995.1885298 (100)\ttotal: 3.57s\tremaining: 1.73s\n",
            "101:\tlearn: 2005.0922544\ttest: 1991.1791294\tbest: 1991.1791294 (101)\ttotal: 3.6s\tremaining: 1.7s\n",
            "102:\tlearn: 2000.7069163\ttest: 1986.9611396\tbest: 1986.9611396 (102)\ttotal: 3.64s\tremaining: 1.66s\n",
            "103:\tlearn: 1996.8720951\ttest: 1983.2776854\tbest: 1983.2776854 (103)\ttotal: 3.67s\tremaining: 1.62s\n",
            "104:\tlearn: 1992.7915871\ttest: 1979.2457954\tbest: 1979.2457954 (104)\ttotal: 3.7s\tremaining: 1.59s\n",
            "105:\tlearn: 1989.4496675\ttest: 1976.0380142\tbest: 1976.0380142 (105)\ttotal: 3.73s\tremaining: 1.55s\n",
            "106:\tlearn: 1985.8238753\ttest: 1972.4821738\tbest: 1972.4821738 (106)\ttotal: 3.77s\tremaining: 1.51s\n",
            "107:\tlearn: 1981.6301446\ttest: 1968.3296539\tbest: 1968.3296539 (107)\ttotal: 3.8s\tremaining: 1.48s\n",
            "108:\tlearn: 1978.4501262\ttest: 1965.3095425\tbest: 1965.3095425 (108)\ttotal: 3.83s\tremaining: 1.44s\n",
            "109:\tlearn: 1975.1546017\ttest: 1962.1220195\tbest: 1962.1220195 (109)\ttotal: 3.87s\tremaining: 1.41s\n",
            "110:\tlearn: 1971.7095635\ttest: 1958.7068350\tbest: 1958.7068350 (110)\ttotal: 3.9s\tremaining: 1.37s\n",
            "111:\tlearn: 1968.0860685\ttest: 1955.1654056\tbest: 1955.1654056 (111)\ttotal: 3.93s\tremaining: 1.33s\n",
            "112:\tlearn: 1964.8893757\ttest: 1952.2316380\tbest: 1952.2316380 (112)\ttotal: 3.97s\tremaining: 1.3s\n",
            "113:\tlearn: 1961.7562393\ttest: 1949.2142994\tbest: 1949.2142994 (113)\ttotal: 4s\tremaining: 1.26s\n",
            "114:\tlearn: 1958.2817621\ttest: 1945.6423535\tbest: 1945.6423535 (114)\ttotal: 4.04s\tremaining: 1.23s\n",
            "115:\tlearn: 1955.8066493\ttest: 1943.2271295\tbest: 1943.2271295 (115)\ttotal: 4.07s\tremaining: 1.19s\n",
            "116:\tlearn: 1953.0372520\ttest: 1940.6679791\tbest: 1940.6679791 (116)\ttotal: 4.1s\tremaining: 1.16s\n",
            "117:\tlearn: 1950.1028416\ttest: 1937.8003763\tbest: 1937.8003763 (117)\ttotal: 4.13s\tremaining: 1.12s\n",
            "118:\tlearn: 1947.5026935\ttest: 1935.3619158\tbest: 1935.3619158 (118)\ttotal: 4.17s\tremaining: 1.09s\n",
            "119:\tlearn: 1945.3048538\ttest: 1933.2830805\tbest: 1933.2830805 (119)\ttotal: 4.2s\tremaining: 1.05s\n",
            "120:\tlearn: 1942.6185443\ttest: 1930.7261516\tbest: 1930.7261516 (120)\ttotal: 4.24s\tremaining: 1.01s\n",
            "121:\tlearn: 1940.4134563\ttest: 1928.5977839\tbest: 1928.5977839 (121)\ttotal: 4.27s\tremaining: 981ms\n",
            "122:\tlearn: 1938.1258762\ttest: 1926.4200621\tbest: 1926.4200621 (122)\ttotal: 4.31s\tremaining: 947ms\n",
            "123:\tlearn: 1935.4363122\ttest: 1923.8726777\tbest: 1923.8726777 (123)\ttotal: 4.35s\tremaining: 912ms\n",
            "124:\tlearn: 1933.7185173\ttest: 1922.1295051\tbest: 1922.1295051 (124)\ttotal: 4.38s\tremaining: 876ms\n",
            "125:\tlearn: 1931.5408040\ttest: 1919.9878352\tbest: 1919.9878352 (125)\ttotal: 4.41s\tremaining: 840ms\n",
            "126:\tlearn: 1929.5873176\ttest: 1918.1533527\tbest: 1918.1533527 (126)\ttotal: 4.44s\tremaining: 805ms\n",
            "127:\tlearn: 1927.3212575\ttest: 1915.9580336\tbest: 1915.9580336 (127)\ttotal: 4.47s\tremaining: 769ms\n",
            "128:\tlearn: 1925.5328929\ttest: 1914.2116286\tbest: 1914.2116286 (128)\ttotal: 4.5s\tremaining: 734ms\n",
            "129:\tlearn: 1923.6649298\ttest: 1912.5016014\tbest: 1912.5016014 (129)\ttotal: 4.54s\tremaining: 699ms\n",
            "130:\tlearn: 1921.2647514\ttest: 1909.9438705\tbest: 1909.9438705 (130)\ttotal: 4.59s\tremaining: 665ms\n",
            "131:\tlearn: 1919.4588808\ttest: 1908.1375984\tbest: 1908.1375984 (131)\ttotal: 4.62s\tremaining: 630ms\n",
            "132:\tlearn: 1917.7490744\ttest: 1906.5201989\tbest: 1906.5201989 (132)\ttotal: 4.65s\tremaining: 594ms\n",
            "133:\tlearn: 1915.7710010\ttest: 1904.6913519\tbest: 1904.6913519 (133)\ttotal: 4.68s\tremaining: 559ms\n",
            "134:\tlearn: 1914.2437960\ttest: 1903.2674768\tbest: 1903.2674768 (134)\ttotal: 4.71s\tremaining: 523ms\n",
            "135:\tlearn: 1912.6222627\ttest: 1901.7499611\tbest: 1901.7499611 (135)\ttotal: 4.74s\tremaining: 488ms\n",
            "136:\tlearn: 1910.6274312\ttest: 1899.7265975\tbest: 1899.7265975 (136)\ttotal: 4.77s\tremaining: 453ms\n",
            "137:\tlearn: 1909.0487246\ttest: 1898.2482603\tbest: 1898.2482603 (137)\ttotal: 4.8s\tremaining: 418ms\n",
            "138:\tlearn: 1907.1710507\ttest: 1896.3898286\tbest: 1896.3898286 (138)\ttotal: 4.84s\tremaining: 383ms\n",
            "139:\tlearn: 1905.6759216\ttest: 1894.9678112\tbest: 1894.9678112 (139)\ttotal: 4.87s\tremaining: 348ms\n",
            "140:\tlearn: 1904.1125670\ttest: 1893.3991701\tbest: 1893.3991701 (140)\ttotal: 4.9s\tremaining: 313ms\n",
            "141:\tlearn: 1902.4199538\ttest: 1891.8162010\tbest: 1891.8162010 (141)\ttotal: 4.93s\tremaining: 278ms\n",
            "142:\tlearn: 1900.4859328\ttest: 1890.0523374\tbest: 1890.0523374 (142)\ttotal: 4.96s\tremaining: 243ms\n",
            "143:\tlearn: 1898.6182142\ttest: 1888.1299166\tbest: 1888.1299166 (143)\ttotal: 4.99s\tremaining: 208ms\n",
            "144:\tlearn: 1897.2018199\ttest: 1886.7921579\tbest: 1886.7921579 (144)\ttotal: 5.02s\tremaining: 173ms\n",
            "145:\tlearn: 1895.6833240\ttest: 1885.3560031\tbest: 1885.3560031 (145)\ttotal: 5.06s\tremaining: 139ms\n",
            "146:\tlearn: 1894.4109469\ttest: 1884.0977802\tbest: 1884.0977802 (146)\ttotal: 5.09s\tremaining: 104ms\n",
            "147:\tlearn: 1892.9370375\ttest: 1882.8354301\tbest: 1882.8354301 (147)\ttotal: 5.12s\tremaining: 69.2ms\n",
            "148:\tlearn: 1891.3520174\ttest: 1881.3739073\tbest: 1881.3739073 (148)\ttotal: 5.16s\tremaining: 34.6ms\n",
            "149:\tlearn: 1890.0101703\ttest: 1880.2092661\tbest: 1880.2092661 (149)\ttotal: 5.19s\tremaining: 0us\n",
            "\n",
            "bestTest = 1880.209266\n",
            "bestIteration = 149\n",
            "\n",
            "4:\tloss: 1880.2092661\tbest: 1880.2092661 (4)\ttotal: 18.8s\tremaining: 15s\n",
            "0:\tlearn: 7177.2143324\ttest: 7145.3102849\tbest: 7145.3102849 (0)\ttotal: 47.1ms\tremaining: 9.36s\n",
            "1:\tlearn: 6994.2374097\ttest: 6962.5254356\tbest: 6962.5254356 (1)\ttotal: 80ms\tremaining: 7.92s\n",
            "2:\tlearn: 6813.3374483\ttest: 6782.3081693\tbest: 6782.3081693 (2)\ttotal: 112ms\tremaining: 7.35s\n",
            "3:\tlearn: 6638.4179706\ttest: 6607.6516315\tbest: 6607.6516315 (3)\ttotal: 149ms\tremaining: 7.31s\n",
            "4:\tlearn: 6469.2049543\ttest: 6438.5663367\tbest: 6438.5663367 (4)\ttotal: 182ms\tremaining: 7.1s\n",
            "5:\tlearn: 6305.5289422\ttest: 6275.4913644\tbest: 6275.4913644 (5)\ttotal: 214ms\tremaining: 6.91s\n",
            "6:\tlearn: 6148.0882240\ttest: 6118.3301694\tbest: 6118.3301694 (6)\ttotal: 251ms\tremaining: 6.91s\n",
            "7:\tlearn: 5994.2836157\ttest: 5965.1834185\tbest: 5965.1834185 (7)\ttotal: 286ms\tremaining: 6.86s\n",
            "8:\tlearn: 5847.4637887\ttest: 5818.6819494\tbest: 5818.6819494 (8)\ttotal: 325ms\tremaining: 6.89s\n",
            "9:\tlearn: 5706.9941145\ttest: 5678.2749187\tbest: 5678.2749187 (9)\ttotal: 360ms\tremaining: 6.85s\n",
            "10:\tlearn: 5568.2555082\ttest: 5539.5934000\tbest: 5539.5934000 (10)\ttotal: 397ms\tremaining: 6.82s\n",
            "11:\tlearn: 5436.0646409\ttest: 5407.9079072\tbest: 5407.9079072 (11)\ttotal: 436ms\tremaining: 6.83s\n",
            "12:\tlearn: 5305.9254926\ttest: 5277.9355123\tbest: 5277.9355123 (12)\ttotal: 469ms\tremaining: 6.75s\n",
            "13:\tlearn: 5182.2175252\ttest: 5154.5313741\tbest: 5154.5313741 (13)\ttotal: 503ms\tremaining: 6.68s\n",
            "14:\tlearn: 5060.6618499\ttest: 5032.8613563\tbest: 5032.8613563 (14)\ttotal: 543ms\tremaining: 6.69s\n",
            "15:\tlearn: 4943.6816755\ttest: 4916.3324659\tbest: 4916.3324659 (15)\ttotal: 575ms\tremaining: 6.61s\n",
            "16:\tlearn: 4831.5199169\ttest: 4803.9374141\tbest: 4803.9374141 (16)\ttotal: 607ms\tremaining: 6.53s\n",
            "17:\tlearn: 4721.5159721\ttest: 4694.0044061\tbest: 4694.0044061 (17)\ttotal: 643ms\tremaining: 6.5s\n",
            "18:\tlearn: 4617.2011362\ttest: 4590.0396100\tbest: 4590.0396100 (18)\ttotal: 676ms\tremaining: 6.44s\n",
            "19:\tlearn: 4516.3094860\ttest: 4489.3301326\tbest: 4489.3301326 (19)\ttotal: 708ms\tremaining: 6.38s\n",
            "20:\tlearn: 4417.9887645\ttest: 4391.4300930\tbest: 4391.4300930 (20)\ttotal: 747ms\tremaining: 6.37s\n",
            "21:\tlearn: 4323.7651860\ttest: 4297.0872872\tbest: 4297.0872872 (21)\ttotal: 781ms\tremaining: 6.32s\n",
            "22:\tlearn: 4231.4974012\ttest: 4205.0440255\tbest: 4205.0440255 (22)\ttotal: 815ms\tremaining: 6.27s\n",
            "23:\tlearn: 4143.1955412\ttest: 4116.8803096\tbest: 4116.8803096 (23)\ttotal: 852ms\tremaining: 6.25s\n",
            "24:\tlearn: 4056.9048036\ttest: 4030.8184199\tbest: 4030.8184199 (24)\ttotal: 884ms\tremaining: 6.18s\n",
            "25:\tlearn: 3974.0696793\ttest: 3947.8859368\tbest: 3947.8859368 (25)\ttotal: 920ms\tremaining: 6.16s\n",
            "26:\tlearn: 3894.8522730\ttest: 3868.7535979\tbest: 3868.7535979 (26)\ttotal: 955ms\tremaining: 6.12s\n",
            "27:\tlearn: 3817.3660510\ttest: 3791.2267260\tbest: 3791.2267260 (27)\ttotal: 989ms\tremaining: 6.07s\n",
            "28:\tlearn: 3744.3466422\ttest: 3718.1079021\tbest: 3718.1079021 (28)\ttotal: 1.02s\tremaining: 6.05s\n",
            "29:\tlearn: 3673.7260661\ttest: 3647.4991998\tbest: 3647.4991998 (29)\ttotal: 1.06s\tremaining: 6.01s\n",
            "30:\tlearn: 3605.0012901\ttest: 3578.9695696\tbest: 3578.9695696 (30)\ttotal: 1.09s\tremaining: 5.97s\n",
            "31:\tlearn: 3538.6598222\ttest: 3512.8470308\tbest: 3512.8470308 (31)\ttotal: 1.14s\tremaining: 5.98s\n",
            "32:\tlearn: 3475.9549593\ttest: 3450.5586868\tbest: 3450.5586868 (32)\ttotal: 1.18s\tremaining: 5.96s\n",
            "33:\tlearn: 3415.0790520\ttest: 3389.9051381\tbest: 3389.9051381 (33)\ttotal: 1.22s\tremaining: 5.93s\n",
            "34:\tlearn: 3357.3537517\ttest: 3332.3751691\tbest: 3332.3751691 (34)\ttotal: 1.25s\tremaining: 5.9s\n",
            "35:\tlearn: 3300.1129082\ttest: 3275.4488711\tbest: 3275.4488711 (35)\ttotal: 1.28s\tremaining: 5.85s\n",
            "36:\tlearn: 3245.8146152\ttest: 3221.2394987\tbest: 3221.2394987 (36)\ttotal: 1.32s\tremaining: 5.84s\n",
            "37:\tlearn: 3193.9960554\ttest: 3169.7036472\tbest: 3169.7036472 (37)\ttotal: 1.36s\tremaining: 5.82s\n",
            "38:\tlearn: 3144.5679955\ttest: 3120.6965639\tbest: 3120.6965639 (38)\ttotal: 1.4s\tremaining: 5.78s\n",
            "39:\tlearn: 3095.3936477\ttest: 3071.5753665\tbest: 3071.5753665 (39)\ttotal: 1.44s\tremaining: 5.75s\n",
            "40:\tlearn: 3049.3750753\ttest: 3025.9993587\tbest: 3025.9993587 (40)\ttotal: 1.47s\tremaining: 5.71s\n",
            "41:\tlearn: 3003.5321170\ttest: 2980.4607435\tbest: 2980.4607435 (41)\ttotal: 1.5s\tremaining: 5.65s\n",
            "42:\tlearn: 2959.9195667\ttest: 2936.8916452\tbest: 2936.8916452 (42)\ttotal: 1.54s\tremaining: 5.63s\n",
            "43:\tlearn: 2918.5166195\ttest: 2895.5647632\tbest: 2895.5647632 (43)\ttotal: 1.58s\tremaining: 5.59s\n",
            "44:\tlearn: 2879.1707141\ttest: 2856.6235521\tbest: 2856.6235521 (44)\ttotal: 1.62s\tremaining: 5.58s\n",
            "45:\tlearn: 2840.6661737\ttest: 2818.2852716\tbest: 2818.2852716 (45)\ttotal: 1.66s\tremaining: 5.54s\n",
            "46:\tlearn: 2803.1940571\ttest: 2780.6474003\tbest: 2780.6474003 (46)\ttotal: 1.69s\tremaining: 5.49s\n",
            "47:\tlearn: 2768.0847461\ttest: 2745.9241098\tbest: 2745.9241098 (47)\ttotal: 1.72s\tremaining: 5.46s\n",
            "48:\tlearn: 2733.7338729\ttest: 2711.7605386\tbest: 2711.7605386 (48)\ttotal: 1.76s\tremaining: 5.42s\n",
            "49:\tlearn: 2701.3062414\ttest: 2679.6551593\tbest: 2679.6551593 (49)\ttotal: 1.79s\tremaining: 5.37s\n",
            "50:\tlearn: 2670.3852019\ttest: 2648.8465593\tbest: 2648.8465593 (50)\ttotal: 1.83s\tremaining: 5.34s\n",
            "51:\tlearn: 2640.1822540\ttest: 2618.7680235\tbest: 2618.7680235 (51)\ttotal: 1.86s\tremaining: 5.3s\n",
            "52:\tlearn: 2611.5952765\ttest: 2590.4549729\tbest: 2590.4549729 (52)\ttotal: 1.9s\tremaining: 5.26s\n",
            "53:\tlearn: 2583.2487710\ttest: 2562.2027366\tbest: 2562.2027366 (53)\ttotal: 1.93s\tremaining: 5.23s\n",
            "54:\tlearn: 2555.4644226\ttest: 2534.6071976\tbest: 2534.6071976 (54)\ttotal: 1.97s\tremaining: 5.19s\n",
            "55:\tlearn: 2528.4567485\ttest: 2507.8499675\tbest: 2507.8499675 (55)\ttotal: 2s\tremaining: 5.14s\n",
            "56:\tlearn: 2503.5953292\ttest: 2483.1746541\tbest: 2483.1746541 (56)\ttotal: 2.04s\tremaining: 5.11s\n",
            "57:\tlearn: 2479.5004815\ttest: 2459.0910708\tbest: 2459.0910708 (57)\ttotal: 2.07s\tremaining: 5.08s\n",
            "58:\tlearn: 2456.0377790\ttest: 2435.7737629\tbest: 2435.7737629 (58)\ttotal: 2.1s\tremaining: 5.03s\n",
            "59:\tlearn: 2434.7488332\ttest: 2414.7828066\tbest: 2414.7828066 (59)\ttotal: 2.14s\tremaining: 5s\n",
            "60:\tlearn: 2413.5808885\ttest: 2393.8400052\tbest: 2393.8400052 (60)\ttotal: 2.18s\tremaining: 4.97s\n",
            "61:\tlearn: 2394.2394759\ttest: 2374.7039582\tbest: 2374.7039582 (61)\ttotal: 2.23s\tremaining: 4.96s\n",
            "62:\tlearn: 2375.1082312\ttest: 2355.8885604\tbest: 2355.8885604 (62)\ttotal: 2.26s\tremaining: 4.92s\n",
            "63:\tlearn: 2356.8200073\ttest: 2338.0210690\tbest: 2338.0210690 (63)\ttotal: 2.29s\tremaining: 4.88s\n",
            "64:\tlearn: 2339.7049744\ttest: 2321.0597391\tbest: 2321.0597391 (64)\ttotal: 2.33s\tremaining: 4.85s\n",
            "65:\tlearn: 2322.8211853\ttest: 2304.6155068\tbest: 2304.6155068 (65)\ttotal: 2.37s\tremaining: 4.81s\n",
            "66:\tlearn: 2306.0063810\ttest: 2287.6340717\tbest: 2287.6340717 (66)\ttotal: 2.4s\tremaining: 4.77s\n",
            "67:\tlearn: 2290.0835793\ttest: 2271.8160779\tbest: 2271.8160779 (67)\ttotal: 2.44s\tremaining: 4.74s\n",
            "68:\tlearn: 2275.1996865\ttest: 2257.1447548\tbest: 2257.1447548 (68)\ttotal: 2.48s\tremaining: 4.71s\n",
            "69:\tlearn: 2260.9812988\ttest: 2243.2230181\tbest: 2243.2230181 (69)\ttotal: 2.52s\tremaining: 4.68s\n",
            "70:\tlearn: 2247.2860284\ttest: 2229.7236280\tbest: 2229.7236280 (70)\ttotal: 2.56s\tremaining: 4.64s\n",
            "71:\tlearn: 2233.7511259\ttest: 2216.2795810\tbest: 2216.2795810 (71)\ttotal: 2.6s\tremaining: 4.63s\n",
            "72:\tlearn: 2220.4485082\ttest: 2202.8673466\tbest: 2202.8673466 (72)\ttotal: 2.65s\tremaining: 4.61s\n",
            "73:\tlearn: 2208.5122603\ttest: 2191.3344912\tbest: 2191.3344912 (73)\ttotal: 2.69s\tremaining: 4.57s\n",
            "74:\tlearn: 2196.8095872\ttest: 2179.7366456\tbest: 2179.7366456 (74)\ttotal: 2.73s\tremaining: 4.55s\n",
            "75:\tlearn: 2185.8072438\ttest: 2168.8316925\tbest: 2168.8316925 (75)\ttotal: 2.77s\tremaining: 4.53s\n",
            "76:\tlearn: 2175.5997744\ttest: 2158.9037314\tbest: 2158.9037314 (76)\ttotal: 2.81s\tremaining: 4.49s\n",
            "77:\tlearn: 2164.7149629\ttest: 2147.8706332\tbest: 2147.8706332 (77)\ttotal: 2.85s\tremaining: 4.46s\n",
            "78:\tlearn: 2155.1628124\ttest: 2138.4376684\tbest: 2138.4376684 (78)\ttotal: 2.89s\tremaining: 4.43s\n",
            "79:\tlearn: 2146.0610257\ttest: 2129.4812690\tbest: 2129.4812690 (79)\ttotal: 2.93s\tremaining: 4.39s\n",
            "80:\tlearn: 2136.0376475\ttest: 2119.5817805\tbest: 2119.5817805 (80)\ttotal: 2.96s\tremaining: 4.35s\n",
            "81:\tlearn: 2127.7824384\ttest: 2111.6828437\tbest: 2111.6828437 (81)\ttotal: 3s\tremaining: 4.31s\n",
            "82:\tlearn: 2119.2543891\ttest: 2103.2603954\tbest: 2103.2603954 (82)\ttotal: 3.04s\tremaining: 4.29s\n",
            "83:\tlearn: 2110.2437492\ttest: 2094.2148823\tbest: 2094.2148823 (83)\ttotal: 3.08s\tremaining: 4.25s\n",
            "84:\tlearn: 2101.9773220\ttest: 2086.0926523\tbest: 2086.0926523 (84)\ttotal: 3.12s\tremaining: 4.22s\n",
            "85:\tlearn: 2094.8956231\ttest: 2079.1206645\tbest: 2079.1206645 (85)\ttotal: 3.15s\tremaining: 4.17s\n",
            "86:\tlearn: 2087.4616717\ttest: 2071.5204564\tbest: 2071.5204564 (86)\ttotal: 3.18s\tremaining: 4.14s\n",
            "87:\tlearn: 2080.1561128\ttest: 2064.3392018\tbest: 2064.3392018 (87)\ttotal: 3.22s\tremaining: 4.1s\n",
            "88:\tlearn: 2072.9623593\ttest: 2057.4349721\tbest: 2057.4349721 (88)\ttotal: 3.26s\tremaining: 4.06s\n",
            "89:\tlearn: 2067.0190791\ttest: 2051.6372301\tbest: 2051.6372301 (89)\ttotal: 3.29s\tremaining: 4.02s\n",
            "90:\tlearn: 2060.8922405\ttest: 2045.7549293\tbest: 2045.7549293 (90)\ttotal: 3.33s\tremaining: 3.99s\n",
            "91:\tlearn: 2054.7310221\ttest: 2039.8124373\tbest: 2039.8124373 (91)\ttotal: 3.36s\tremaining: 3.95s\n",
            "92:\tlearn: 2049.0638365\ttest: 2034.3688583\tbest: 2034.3688583 (92)\ttotal: 3.39s\tremaining: 3.9s\n",
            "93:\tlearn: 2043.3734787\ttest: 2028.3678837\tbest: 2028.3678837 (93)\ttotal: 3.43s\tremaining: 3.87s\n",
            "94:\tlearn: 2037.6768505\ttest: 2022.5434378\tbest: 2022.5434378 (94)\ttotal: 3.46s\tremaining: 3.82s\n",
            "95:\tlearn: 2032.6792415\ttest: 2017.7337753\tbest: 2017.7337753 (95)\ttotal: 3.49s\tremaining: 3.78s\n",
            "96:\tlearn: 2027.7262722\ttest: 2013.0629139\tbest: 2013.0629139 (96)\ttotal: 3.54s\tremaining: 3.75s\n",
            "97:\tlearn: 2023.3091001\ttest: 2008.8310462\tbest: 2008.8310462 (97)\ttotal: 3.58s\tremaining: 3.73s\n",
            "98:\tlearn: 2018.6954771\ttest: 2004.4945020\tbest: 2004.4945020 (98)\ttotal: 3.62s\tremaining: 3.7s\n",
            "99:\tlearn: 2013.7410169\ttest: 1999.5179747\tbest: 1999.5179747 (99)\ttotal: 3.67s\tremaining: 3.67s\n",
            "100:\tlearn: 2009.3856348\ttest: 1995.1885298\tbest: 1995.1885298 (100)\ttotal: 3.71s\tremaining: 3.64s\n",
            "101:\tlearn: 2005.0922544\ttest: 1991.1791294\tbest: 1991.1791294 (101)\ttotal: 3.76s\tremaining: 3.61s\n",
            "102:\tlearn: 2000.7069163\ttest: 1986.9611396\tbest: 1986.9611396 (102)\ttotal: 3.79s\tremaining: 3.57s\n",
            "103:\tlearn: 1996.8720951\ttest: 1983.2776854\tbest: 1983.2776854 (103)\ttotal: 3.83s\tremaining: 3.53s\n",
            "104:\tlearn: 1992.7915871\ttest: 1979.2457954\tbest: 1979.2457954 (104)\ttotal: 3.86s\tremaining: 3.49s\n",
            "105:\tlearn: 1989.4496675\ttest: 1976.0380142\tbest: 1976.0380142 (105)\ttotal: 3.89s\tremaining: 3.45s\n",
            "106:\tlearn: 1985.8238753\ttest: 1972.4821738\tbest: 1972.4821738 (106)\ttotal: 3.93s\tremaining: 3.42s\n",
            "107:\tlearn: 1981.6301446\ttest: 1968.3296539\tbest: 1968.3296539 (107)\ttotal: 3.96s\tremaining: 3.38s\n",
            "108:\tlearn: 1978.4501262\ttest: 1965.3095425\tbest: 1965.3095425 (108)\ttotal: 3.99s\tremaining: 3.33s\n",
            "109:\tlearn: 1975.1546017\ttest: 1962.1220195\tbest: 1962.1220195 (109)\ttotal: 4.03s\tremaining: 3.29s\n",
            "110:\tlearn: 1971.7095635\ttest: 1958.7068350\tbest: 1958.7068350 (110)\ttotal: 4.06s\tremaining: 3.25s\n",
            "111:\tlearn: 1968.0860685\ttest: 1955.1654056\tbest: 1955.1654056 (111)\ttotal: 4.09s\tremaining: 3.21s\n",
            "112:\tlearn: 1964.8893757\ttest: 1952.2316380\tbest: 1952.2316380 (112)\ttotal: 4.13s\tremaining: 3.17s\n",
            "113:\tlearn: 1961.7562393\ttest: 1949.2142994\tbest: 1949.2142994 (113)\ttotal: 4.15s\tremaining: 3.13s\n",
            "114:\tlearn: 1958.2817621\ttest: 1945.6423535\tbest: 1945.6423535 (114)\ttotal: 4.19s\tremaining: 3.09s\n",
            "115:\tlearn: 1955.8066493\ttest: 1943.2271295\tbest: 1943.2271295 (115)\ttotal: 4.22s\tremaining: 3.06s\n",
            "116:\tlearn: 1953.0372520\ttest: 1940.6679791\tbest: 1940.6679791 (116)\ttotal: 4.25s\tremaining: 3.02s\n",
            "117:\tlearn: 1950.1028416\ttest: 1937.8003763\tbest: 1937.8003763 (117)\ttotal: 4.28s\tremaining: 2.98s\n",
            "118:\tlearn: 1947.5026935\ttest: 1935.3619158\tbest: 1935.3619158 (118)\ttotal: 4.32s\tremaining: 2.94s\n",
            "119:\tlearn: 1945.3048538\ttest: 1933.2830805\tbest: 1933.2830805 (119)\ttotal: 4.36s\tremaining: 2.91s\n",
            "120:\tlearn: 1942.6185443\ttest: 1930.7261516\tbest: 1930.7261516 (120)\ttotal: 4.4s\tremaining: 2.87s\n",
            "121:\tlearn: 1940.4134563\ttest: 1928.5977839\tbest: 1928.5977839 (121)\ttotal: 4.44s\tremaining: 2.84s\n",
            "122:\tlearn: 1938.1258762\ttest: 1926.4200621\tbest: 1926.4200621 (122)\ttotal: 4.48s\tremaining: 2.8s\n",
            "123:\tlearn: 1935.4363122\ttest: 1923.8726777\tbest: 1923.8726777 (123)\ttotal: 4.51s\tremaining: 2.77s\n",
            "124:\tlearn: 1933.7185173\ttest: 1922.1295051\tbest: 1922.1295051 (124)\ttotal: 4.55s\tremaining: 2.73s\n",
            "125:\tlearn: 1931.5408040\ttest: 1919.9878352\tbest: 1919.9878352 (125)\ttotal: 4.58s\tremaining: 2.69s\n",
            "126:\tlearn: 1929.5873176\ttest: 1918.1533527\tbest: 1918.1533527 (126)\ttotal: 4.62s\tremaining: 2.66s\n",
            "127:\tlearn: 1927.3212575\ttest: 1915.9580336\tbest: 1915.9580336 (127)\ttotal: 4.66s\tremaining: 2.62s\n",
            "128:\tlearn: 1925.5328929\ttest: 1914.2116286\tbest: 1914.2116286 (128)\ttotal: 4.69s\tremaining: 2.58s\n",
            "129:\tlearn: 1923.6649298\ttest: 1912.5016014\tbest: 1912.5016014 (129)\ttotal: 4.73s\tremaining: 2.54s\n",
            "130:\tlearn: 1921.2647514\ttest: 1909.9438705\tbest: 1909.9438705 (130)\ttotal: 4.77s\tremaining: 2.51s\n",
            "131:\tlearn: 1919.4588808\ttest: 1908.1375984\tbest: 1908.1375984 (131)\ttotal: 4.82s\tremaining: 2.48s\n",
            "132:\tlearn: 1917.7490744\ttest: 1906.5201989\tbest: 1906.5201989 (132)\ttotal: 4.84s\tremaining: 2.44s\n",
            "133:\tlearn: 1915.7710010\ttest: 1904.6913519\tbest: 1904.6913519 (133)\ttotal: 4.87s\tremaining: 2.4s\n",
            "134:\tlearn: 1914.2437960\ttest: 1903.2674768\tbest: 1903.2674768 (134)\ttotal: 4.91s\tremaining: 2.36s\n",
            "135:\tlearn: 1912.6222627\ttest: 1901.7499611\tbest: 1901.7499611 (135)\ttotal: 4.94s\tremaining: 2.32s\n",
            "136:\tlearn: 1910.6274312\ttest: 1899.7265975\tbest: 1899.7265975 (136)\ttotal: 4.97s\tremaining: 2.28s\n",
            "137:\tlearn: 1909.0487246\ttest: 1898.2482603\tbest: 1898.2482603 (137)\ttotal: 5s\tremaining: 2.25s\n",
            "138:\tlearn: 1907.1710507\ttest: 1896.3898286\tbest: 1896.3898286 (138)\ttotal: 5.04s\tremaining: 2.21s\n",
            "139:\tlearn: 1905.6759216\ttest: 1894.9678112\tbest: 1894.9678112 (139)\ttotal: 5.07s\tremaining: 2.17s\n",
            "140:\tlearn: 1904.1125670\ttest: 1893.3991701\tbest: 1893.3991701 (140)\ttotal: 5.1s\tremaining: 2.13s\n",
            "141:\tlearn: 1902.4199538\ttest: 1891.8162010\tbest: 1891.8162010 (141)\ttotal: 5.13s\tremaining: 2.1s\n",
            "142:\tlearn: 1900.4859328\ttest: 1890.0523374\tbest: 1890.0523374 (142)\ttotal: 5.16s\tremaining: 2.06s\n",
            "143:\tlearn: 1898.6182142\ttest: 1888.1299166\tbest: 1888.1299166 (143)\ttotal: 5.2s\tremaining: 2.02s\n",
            "144:\tlearn: 1897.2018199\ttest: 1886.7921579\tbest: 1886.7921579 (144)\ttotal: 5.23s\tremaining: 1.98s\n",
            "145:\tlearn: 1895.6833240\ttest: 1885.3560031\tbest: 1885.3560031 (145)\ttotal: 5.26s\tremaining: 1.95s\n",
            "146:\tlearn: 1894.4109469\ttest: 1884.0977802\tbest: 1884.0977802 (146)\ttotal: 5.3s\tremaining: 1.91s\n",
            "147:\tlearn: 1892.9370375\ttest: 1882.8354301\tbest: 1882.8354301 (147)\ttotal: 5.34s\tremaining: 1.88s\n",
            "148:\tlearn: 1891.3520174\ttest: 1881.3739073\tbest: 1881.3739073 (148)\ttotal: 5.37s\tremaining: 1.84s\n",
            "149:\tlearn: 1890.0101703\ttest: 1880.2092661\tbest: 1880.2092661 (149)\ttotal: 5.4s\tremaining: 1.8s\n",
            "150:\tlearn: 1888.5455122\ttest: 1878.6188925\tbest: 1878.6188925 (150)\ttotal: 5.43s\tremaining: 1.76s\n",
            "151:\tlearn: 1886.9792523\ttest: 1877.0868059\tbest: 1877.0868059 (151)\ttotal: 5.46s\tremaining: 1.73s\n",
            "152:\tlearn: 1885.7430074\ttest: 1875.9992069\tbest: 1875.9992069 (152)\ttotal: 5.5s\tremaining: 1.69s\n",
            "153:\tlearn: 1884.5294705\ttest: 1874.8204394\tbest: 1874.8204394 (153)\ttotal: 5.54s\tremaining: 1.65s\n",
            "154:\tlearn: 1883.3407204\ttest: 1873.6862786\tbest: 1873.6862786 (154)\ttotal: 5.57s\tremaining: 1.62s\n",
            "155:\tlearn: 1881.9337215\ttest: 1872.1882690\tbest: 1872.1882690 (155)\ttotal: 5.6s\tremaining: 1.58s\n",
            "156:\tlearn: 1880.4956039\ttest: 1870.7377350\tbest: 1870.7377350 (156)\ttotal: 5.63s\tremaining: 1.54s\n",
            "157:\tlearn: 1879.5884304\ttest: 1869.9016924\tbest: 1869.9016924 (157)\ttotal: 5.66s\tremaining: 1.5s\n",
            "158:\tlearn: 1877.9965519\ttest: 1868.2373716\tbest: 1868.2373716 (158)\ttotal: 5.7s\tremaining: 1.47s\n",
            "159:\tlearn: 1876.7767214\ttest: 1867.1499223\tbest: 1867.1499223 (159)\ttotal: 5.73s\tremaining: 1.43s\n",
            "160:\tlearn: 1875.7690180\ttest: 1866.2441733\tbest: 1866.2441733 (160)\ttotal: 5.76s\tremaining: 1.4s\n",
            "161:\tlearn: 1874.8545978\ttest: 1865.4039235\tbest: 1865.4039235 (161)\ttotal: 5.79s\tremaining: 1.36s\n",
            "162:\tlearn: 1873.7525094\ttest: 1864.3866466\tbest: 1864.3866466 (162)\ttotal: 5.82s\tremaining: 1.32s\n",
            "163:\tlearn: 1872.8287021\ttest: 1863.4244066\tbest: 1863.4244066 (163)\ttotal: 5.85s\tremaining: 1.28s\n",
            "164:\tlearn: 1871.7421645\ttest: 1862.5382794\tbest: 1862.5382794 (164)\ttotal: 5.88s\tremaining: 1.25s\n",
            "165:\tlearn: 1870.4847143\ttest: 1861.3140078\tbest: 1861.3140078 (165)\ttotal: 5.92s\tremaining: 1.21s\n",
            "166:\tlearn: 1868.9230381\ttest: 1859.7046890\tbest: 1859.7046890 (166)\ttotal: 5.95s\tremaining: 1.18s\n",
            "167:\tlearn: 1867.5376310\ttest: 1858.3439705\tbest: 1858.3439705 (167)\ttotal: 5.99s\tremaining: 1.14s\n",
            "168:\tlearn: 1866.0627021\ttest: 1856.8873322\tbest: 1856.8873322 (168)\ttotal: 6.02s\tremaining: 1.1s\n",
            "169:\tlearn: 1865.0859028\ttest: 1855.9804956\tbest: 1855.9804956 (169)\ttotal: 6.05s\tremaining: 1.07s\n",
            "170:\tlearn: 1863.7359812\ttest: 1854.6481882\tbest: 1854.6481882 (170)\ttotal: 6.08s\tremaining: 1.03s\n",
            "171:\tlearn: 1862.5415651\ttest: 1853.4668569\tbest: 1853.4668569 (171)\ttotal: 6.11s\tremaining: 995ms\n",
            "172:\tlearn: 1860.8590266\ttest: 1851.7868480\tbest: 1851.7868480 (172)\ttotal: 6.15s\tremaining: 959ms\n",
            "173:\tlearn: 1860.1111872\ttest: 1851.0860478\tbest: 1851.0860478 (173)\ttotal: 6.18s\tremaining: 923ms\n",
            "174:\tlearn: 1858.8536131\ttest: 1849.6735454\tbest: 1849.6735454 (174)\ttotal: 6.21s\tremaining: 888ms\n",
            "175:\tlearn: 1857.7927322\ttest: 1848.6870572\tbest: 1848.6870572 (175)\ttotal: 6.25s\tremaining: 852ms\n",
            "176:\tlearn: 1856.6194030\ttest: 1847.5547688\tbest: 1847.5547688 (176)\ttotal: 6.28s\tremaining: 816ms\n",
            "177:\tlearn: 1855.8190211\ttest: 1846.8553200\tbest: 1846.8553200 (177)\ttotal: 6.31s\tremaining: 780ms\n",
            "178:\tlearn: 1854.9251158\ttest: 1846.0134634\tbest: 1846.0134634 (178)\ttotal: 6.34s\tremaining: 744ms\n",
            "179:\tlearn: 1854.1525887\ttest: 1845.3616715\tbest: 1845.3616715 (179)\ttotal: 6.37s\tremaining: 708ms\n",
            "180:\tlearn: 1852.9041808\ttest: 1844.1650555\tbest: 1844.1650555 (180)\ttotal: 6.41s\tremaining: 673ms\n",
            "181:\tlearn: 1851.7989798\ttest: 1843.0376967\tbest: 1843.0376967 (181)\ttotal: 6.44s\tremaining: 637ms\n",
            "182:\tlearn: 1851.0643587\ttest: 1842.3632645\tbest: 1842.3632645 (182)\ttotal: 6.47s\tremaining: 601ms\n",
            "183:\tlearn: 1850.1547214\ttest: 1841.5510890\tbest: 1841.5510890 (183)\ttotal: 6.51s\tremaining: 566ms\n",
            "184:\tlearn: 1849.1430993\ttest: 1840.6811123\tbest: 1840.6811123 (184)\ttotal: 6.54s\tremaining: 530ms\n",
            "185:\tlearn: 1848.2499520\ttest: 1839.8587446\tbest: 1839.8587446 (185)\ttotal: 6.57s\tremaining: 494ms\n",
            "186:\tlearn: 1846.9454746\ttest: 1838.4372250\tbest: 1838.4372250 (186)\ttotal: 6.61s\tremaining: 459ms\n",
            "187:\tlearn: 1846.1433998\ttest: 1837.6704137\tbest: 1837.6704137 (187)\ttotal: 6.64s\tremaining: 424ms\n",
            "188:\tlearn: 1845.5167845\ttest: 1837.1043010\tbest: 1837.1043010 (188)\ttotal: 6.67s\tremaining: 388ms\n",
            "189:\tlearn: 1844.5299093\ttest: 1836.2607036\tbest: 1836.2607036 (189)\ttotal: 6.7s\tremaining: 353ms\n",
            "190:\tlearn: 1843.6341411\ttest: 1835.6024267\tbest: 1835.6024267 (190)\ttotal: 6.75s\tremaining: 318ms\n",
            "191:\tlearn: 1842.8729607\ttest: 1834.8084643\tbest: 1834.8084643 (191)\ttotal: 6.79s\tremaining: 283ms\n",
            "192:\tlearn: 1841.8534934\ttest: 1833.9530419\tbest: 1833.9530419 (192)\ttotal: 6.83s\tremaining: 248ms\n",
            "193:\tlearn: 1840.7908890\ttest: 1832.9655288\tbest: 1832.9655288 (193)\ttotal: 6.86s\tremaining: 212ms\n",
            "194:\tlearn: 1839.7728557\ttest: 1832.1549962\tbest: 1832.1549962 (194)\ttotal: 6.91s\tremaining: 177ms\n",
            "195:\tlearn: 1838.8859312\ttest: 1831.3653578\tbest: 1831.3653578 (195)\ttotal: 6.94s\tremaining: 142ms\n",
            "196:\tlearn: 1838.0916541\ttest: 1830.6813974\tbest: 1830.6813974 (196)\ttotal: 6.98s\tremaining: 106ms\n",
            "197:\tlearn: 1837.2861031\ttest: 1829.8748089\tbest: 1829.8748089 (197)\ttotal: 7.02s\tremaining: 71ms\n",
            "198:\tlearn: 1836.5658385\ttest: 1829.2800972\tbest: 1829.2800972 (198)\ttotal: 7.06s\tremaining: 35.5ms\n",
            "199:\tlearn: 1835.8869013\ttest: 1828.5913440\tbest: 1828.5913440 (199)\ttotal: 7.1s\tremaining: 0us\n",
            "\n",
            "bestTest = 1828.591344\n",
            "bestIteration = 199\n",
            "\n",
            "5:\tloss: 1828.5913440\tbest: 1828.5913440 (5)\ttotal: 26s\tremaining: 13s\n",
            "0:\tlearn: 7174.8651687\ttest: 7142.6804927\tbest: 7142.6804927 (0)\ttotal: 48.7ms\tremaining: 4.82s\n",
            "1:\tlearn: 6990.9012578\ttest: 6959.0459237\tbest: 6959.0459237 (1)\ttotal: 106ms\tremaining: 5.19s\n",
            "2:\tlearn: 6810.0185930\ttest: 6778.2410018\tbest: 6778.2410018 (2)\ttotal: 158ms\tremaining: 5.12s\n",
            "3:\tlearn: 6633.8560709\ttest: 6602.1993375\tbest: 6602.1993375 (3)\ttotal: 212ms\tremaining: 5.08s\n",
            "4:\tlearn: 6464.5392639\ttest: 6433.1761893\tbest: 6433.1761893 (4)\ttotal: 261ms\tremaining: 4.95s\n",
            "5:\tlearn: 6299.3403714\ttest: 6267.4792902\tbest: 6267.4792902 (5)\ttotal: 315ms\tremaining: 4.93s\n",
            "6:\tlearn: 6141.6698092\ttest: 6110.0674721\tbest: 6110.0674721 (6)\ttotal: 362ms\tremaining: 4.81s\n",
            "7:\tlearn: 5986.7015025\ttest: 5955.5411215\tbest: 5955.5411215 (7)\ttotal: 416ms\tremaining: 4.79s\n",
            "8:\tlearn: 5837.9963772\ttest: 5807.4990114\tbest: 5807.4990114 (8)\ttotal: 466ms\tremaining: 4.71s\n",
            "9:\tlearn: 5692.2338180\ttest: 5661.7542010\tbest: 5661.7542010 (9)\ttotal: 517ms\tremaining: 4.65s\n",
            "10:\tlearn: 5552.1435326\ttest: 5522.1959035\tbest: 5522.1959035 (10)\ttotal: 571ms\tremaining: 4.62s\n",
            "11:\tlearn: 5418.7449662\ttest: 5389.3909625\tbest: 5389.3909625 (11)\ttotal: 622ms\tremaining: 4.56s\n",
            "12:\tlearn: 5286.6382347\ttest: 5257.4366653\tbest: 5257.4366653 (12)\ttotal: 683ms\tremaining: 4.57s\n",
            "13:\tlearn: 5160.3962727\ttest: 5131.4153519\tbest: 5131.4153519 (13)\ttotal: 733ms\tremaining: 4.5s\n",
            "14:\tlearn: 5037.9241532\ttest: 5009.1624146\tbest: 5009.1624146 (14)\ttotal: 788ms\tremaining: 4.46s\n",
            "15:\tlearn: 4919.7098373\ttest: 4891.6379215\tbest: 4891.6379215 (15)\ttotal: 838ms\tremaining: 4.4s\n",
            "16:\tlearn: 4804.4437378\ttest: 4776.7103202\tbest: 4776.7103202 (16)\ttotal: 909ms\tremaining: 4.44s\n",
            "17:\tlearn: 4693.4016033\ttest: 4666.0812173\tbest: 4666.0812173 (17)\ttotal: 959ms\tremaining: 4.37s\n",
            "18:\tlearn: 4585.8091204\ttest: 4559.0518013\tbest: 4559.0518013 (18)\ttotal: 1.01s\tremaining: 4.32s\n",
            "19:\tlearn: 4483.3617063\ttest: 4456.4542295\tbest: 4456.4542295 (19)\ttotal: 1.07s\tremaining: 4.3s\n",
            "20:\tlearn: 4384.3336107\ttest: 4357.5580624\tbest: 4357.5580624 (20)\ttotal: 1.13s\tremaining: 4.23s\n",
            "21:\tlearn: 4287.3076690\ttest: 4260.9189471\tbest: 4260.9189471 (21)\ttotal: 1.18s\tremaining: 4.18s\n",
            "22:\tlearn: 4193.9304738\ttest: 4167.6437320\tbest: 4167.6437320 (22)\ttotal: 1.23s\tremaining: 4.11s\n",
            "23:\tlearn: 4103.7558037\ttest: 4078.1986501\tbest: 4078.1986501 (23)\ttotal: 1.29s\tremaining: 4.08s\n",
            "24:\tlearn: 4016.3475600\ttest: 3990.7960615\tbest: 3990.7960615 (24)\ttotal: 1.34s\tremaining: 4.01s\n",
            "25:\tlearn: 3932.4585365\ttest: 3907.2255055\tbest: 3907.2255055 (25)\ttotal: 1.39s\tremaining: 3.97s\n",
            "26:\tlearn: 3850.0102212\ttest: 3824.9755557\tbest: 3824.9755557 (26)\ttotal: 1.44s\tremaining: 3.9s\n",
            "27:\tlearn: 3772.5175529\ttest: 3747.8748166\tbest: 3747.8748166 (27)\ttotal: 1.5s\tremaining: 3.86s\n",
            "28:\tlearn: 3697.1245825\ttest: 3672.6496334\tbest: 3672.6496334 (28)\ttotal: 1.55s\tremaining: 3.79s\n",
            "29:\tlearn: 3626.2612206\ttest: 3602.1995834\tbest: 3602.1995834 (29)\ttotal: 1.6s\tremaining: 3.74s\n",
            "30:\tlearn: 3556.5136768\ttest: 3532.8483727\tbest: 3532.8483727 (30)\ttotal: 1.66s\tremaining: 3.69s\n",
            "31:\tlearn: 3489.6050753\ttest: 3466.0322577\tbest: 3466.0322577 (31)\ttotal: 1.71s\tremaining: 3.63s\n",
            "32:\tlearn: 3424.2141919\ttest: 3400.8925724\tbest: 3400.8925724 (32)\ttotal: 1.76s\tremaining: 3.57s\n",
            "33:\tlearn: 3363.4151705\ttest: 3340.3749395\tbest: 3340.3749395 (33)\ttotal: 1.81s\tremaining: 3.51s\n",
            "34:\tlearn: 3304.2898995\ttest: 3281.5830303\tbest: 3281.5830303 (34)\ttotal: 1.86s\tremaining: 3.45s\n",
            "35:\tlearn: 3245.6841844\ttest: 3223.1280274\tbest: 3223.1280274 (35)\ttotal: 1.92s\tremaining: 3.41s\n",
            "36:\tlearn: 3190.0266100\ttest: 3167.6163235\tbest: 3167.6163235 (36)\ttotal: 1.97s\tremaining: 3.36s\n",
            "37:\tlearn: 3135.6403415\ttest: 3113.3920737\tbest: 3113.3920737 (37)\ttotal: 2.02s\tremaining: 3.3s\n",
            "38:\tlearn: 3084.3623628\ttest: 3062.2997885\tbest: 3062.2997885 (38)\ttotal: 2.08s\tremaining: 3.25s\n",
            "39:\tlearn: 3035.1545065\ttest: 3013.6008053\tbest: 3013.6008053 (39)\ttotal: 2.12s\tremaining: 3.19s\n",
            "40:\tlearn: 2988.0286946\ttest: 2966.5634358\tbest: 2966.5634358 (40)\ttotal: 2.19s\tremaining: 3.15s\n",
            "41:\tlearn: 2941.6159954\ttest: 2920.4989616\tbest: 2920.4989616 (41)\ttotal: 2.24s\tremaining: 3.09s\n",
            "42:\tlearn: 2897.5777276\ttest: 2876.5884653\tbest: 2876.5884653 (42)\ttotal: 2.29s\tremaining: 3.04s\n",
            "43:\tlearn: 2854.4837057\ttest: 2833.8936061\tbest: 2833.8936061 (43)\ttotal: 2.34s\tremaining: 2.98s\n",
            "44:\tlearn: 2814.2655391\ttest: 2793.9507637\tbest: 2793.9507637 (44)\ttotal: 2.4s\tremaining: 2.93s\n",
            "45:\tlearn: 2775.0832862\ttest: 2754.9457366\tbest: 2754.9457366 (45)\ttotal: 2.45s\tremaining: 2.88s\n",
            "46:\tlearn: 2737.4913015\ttest: 2717.6794905\tbest: 2717.6794905 (46)\ttotal: 2.5s\tremaining: 2.83s\n",
            "47:\tlearn: 2701.7155917\ttest: 2682.1807313\tbest: 2682.1807313 (47)\ttotal: 2.56s\tremaining: 2.77s\n",
            "48:\tlearn: 2666.5335327\ttest: 2647.3020605\tbest: 2647.3020605 (48)\ttotal: 2.62s\tremaining: 2.72s\n",
            "49:\tlearn: 2634.5542444\ttest: 2615.8741797\tbest: 2615.8741797 (49)\ttotal: 2.67s\tremaining: 2.67s\n",
            "50:\tlearn: 2602.6917569\ttest: 2584.1913615\tbest: 2584.1913615 (50)\ttotal: 2.72s\tremaining: 2.61s\n",
            "51:\tlearn: 2572.9828905\ttest: 2554.5469031\tbest: 2554.5469031 (51)\ttotal: 2.77s\tremaining: 2.56s\n",
            "52:\tlearn: 2543.6643751\ttest: 2525.6472401\tbest: 2525.6472401 (52)\ttotal: 2.84s\tremaining: 2.52s\n",
            "53:\tlearn: 2514.9017703\ttest: 2497.2973103\tbest: 2497.2973103 (53)\ttotal: 2.9s\tremaining: 2.47s\n",
            "54:\tlearn: 2487.6861224\ttest: 2470.2261285\tbest: 2470.2261285 (54)\ttotal: 2.95s\tremaining: 2.41s\n",
            "55:\tlearn: 2461.1907734\ttest: 2444.0111247\tbest: 2444.0111247 (55)\ttotal: 3s\tremaining: 2.36s\n",
            "56:\tlearn: 2436.2016418\ttest: 2419.2451266\tbest: 2419.2451266 (56)\ttotal: 3.05s\tremaining: 2.3s\n",
            "57:\tlearn: 2413.4711118\ttest: 2396.9798825\tbest: 2396.9798825 (57)\ttotal: 3.1s\tremaining: 2.25s\n",
            "58:\tlearn: 2390.2315590\ttest: 2373.8455968\tbest: 2373.8455968 (58)\ttotal: 3.15s\tremaining: 2.19s\n",
            "59:\tlearn: 2367.7133151\ttest: 2351.5844894\tbest: 2351.5844894 (59)\ttotal: 3.2s\tremaining: 2.13s\n",
            "60:\tlearn: 2347.0166742\ttest: 2331.0098881\tbest: 2331.0098881 (60)\ttotal: 3.25s\tremaining: 2.08s\n",
            "61:\tlearn: 2326.2913641\ttest: 2310.6064171\tbest: 2310.6064171 (61)\ttotal: 3.3s\tremaining: 2.02s\n",
            "62:\tlearn: 2307.2740074\ttest: 2291.6410027\tbest: 2291.6410027 (62)\ttotal: 3.36s\tremaining: 1.97s\n",
            "63:\tlearn: 2287.8916542\ttest: 2272.5209811\tbest: 2272.5209811 (63)\ttotal: 3.41s\tremaining: 1.92s\n",
            "64:\tlearn: 2269.3450293\ttest: 2254.0950057\tbest: 2254.0950057 (64)\ttotal: 3.46s\tremaining: 1.86s\n",
            "65:\tlearn: 2252.2580604\ttest: 2237.4357125\tbest: 2237.4357125 (65)\ttotal: 3.51s\tremaining: 1.81s\n",
            "66:\tlearn: 2234.6864519\ttest: 2220.1860380\tbest: 2220.1860380 (66)\ttotal: 3.56s\tremaining: 1.75s\n",
            "67:\tlearn: 2218.7601423\ttest: 2204.5735423\tbest: 2204.5735423 (67)\ttotal: 3.61s\tremaining: 1.7s\n",
            "68:\tlearn: 2203.8038511\ttest: 2190.0445301\tbest: 2190.0445301 (68)\ttotal: 3.67s\tremaining: 1.65s\n",
            "69:\tlearn: 2189.4552205\ttest: 2176.1182603\tbest: 2176.1182603 (69)\ttotal: 3.72s\tremaining: 1.59s\n",
            "70:\tlearn: 2176.0909723\ttest: 2163.0568591\tbest: 2163.0568591 (70)\ttotal: 3.78s\tremaining: 1.54s\n",
            "71:\tlearn: 2163.4265470\ttest: 2150.8311503\tbest: 2150.8311503 (71)\ttotal: 3.83s\tremaining: 1.49s\n",
            "72:\tlearn: 2150.6003424\ttest: 2138.2519458\tbest: 2138.2519458 (72)\ttotal: 3.89s\tremaining: 1.44s\n",
            "73:\tlearn: 2139.0913613\ttest: 2126.8707032\tbest: 2126.8707032 (73)\ttotal: 3.96s\tremaining: 1.39s\n",
            "74:\tlearn: 2127.0714610\ttest: 2115.0114714\tbest: 2115.0114714 (74)\ttotal: 4s\tremaining: 1.33s\n",
            "75:\tlearn: 2116.3745117\ttest: 2104.4810998\tbest: 2104.4810998 (75)\ttotal: 4.05s\tremaining: 1.28s\n",
            "76:\tlearn: 2106.0359335\ttest: 2094.5153918\tbest: 2094.5153918 (76)\ttotal: 4.11s\tremaining: 1.23s\n",
            "77:\tlearn: 2095.5507713\ttest: 2084.2217924\tbest: 2084.2217924 (77)\ttotal: 4.18s\tremaining: 1.18s\n",
            "78:\tlearn: 2086.0132446\ttest: 2074.9718204\tbest: 2074.9718204 (78)\ttotal: 4.23s\tremaining: 1.12s\n",
            "79:\tlearn: 2076.2065970\ttest: 2065.0506262\tbest: 2065.0506262 (79)\ttotal: 4.28s\tremaining: 1.07s\n",
            "80:\tlearn: 2066.6168567\ttest: 2055.6275438\tbest: 2055.6275438 (80)\ttotal: 4.33s\tremaining: 1.02s\n",
            "81:\tlearn: 2057.8812205\ttest: 2047.3284492\tbest: 2047.3284492 (81)\ttotal: 4.39s\tremaining: 964ms\n",
            "82:\tlearn: 2048.7850103\ttest: 2038.0101260\tbest: 2038.0101260 (82)\ttotal: 4.44s\tremaining: 909ms\n",
            "83:\tlearn: 2041.2140254\ttest: 2030.6669402\tbest: 2030.6669402 (83)\ttotal: 4.5s\tremaining: 858ms\n",
            "84:\tlearn: 2033.1096463\ttest: 2022.6739642\tbest: 2022.6739642 (84)\ttotal: 4.56s\tremaining: 804ms\n",
            "85:\tlearn: 2025.0439174\ttest: 2014.6836858\tbest: 2014.6836858 (85)\ttotal: 4.61s\tremaining: 750ms\n",
            "86:\tlearn: 2018.0490215\ttest: 2007.9010055\tbest: 2007.9010055 (86)\ttotal: 4.66s\tremaining: 697ms\n",
            "87:\tlearn: 2010.7908600\ttest: 2000.8444489\tbest: 2000.8444489 (87)\ttotal: 4.72s\tremaining: 643ms\n",
            "88:\tlearn: 2004.2999961\ttest: 1994.4888076\tbest: 1994.4888076 (88)\ttotal: 4.77s\tremaining: 590ms\n",
            "89:\tlearn: 1998.0813813\ttest: 1988.5124757\tbest: 1988.5124757 (89)\ttotal: 4.82s\tremaining: 536ms\n",
            "90:\tlearn: 1991.3150925\ttest: 1981.8968532\tbest: 1981.8968532 (90)\ttotal: 4.88s\tremaining: 482ms\n",
            "91:\tlearn: 1985.4398633\ttest: 1976.2050366\tbest: 1976.2050366 (91)\ttotal: 4.92s\tremaining: 428ms\n",
            "92:\tlearn: 1979.3873154\ttest: 1970.2465069\tbest: 1970.2465069 (92)\ttotal: 4.98s\tremaining: 375ms\n",
            "93:\tlearn: 1974.2272000\ttest: 1965.3161869\tbest: 1965.3161869 (93)\ttotal: 5.03s\tremaining: 321ms\n",
            "94:\tlearn: 1969.2122729\ttest: 1960.4631655\tbest: 1960.4631655 (94)\ttotal: 5.08s\tremaining: 268ms\n",
            "95:\tlearn: 1964.1123225\ttest: 1955.6105936\tbest: 1955.6105936 (95)\ttotal: 5.14s\tremaining: 214ms\n",
            "96:\tlearn: 1959.6732739\ttest: 1951.3040353\tbest: 1951.3040353 (96)\ttotal: 5.2s\tremaining: 161ms\n",
            "97:\tlearn: 1954.8558931\ttest: 1946.7270778\tbest: 1946.7270778 (97)\ttotal: 5.25s\tremaining: 107ms\n",
            "98:\tlearn: 1949.7447378\ttest: 1941.7906564\tbest: 1941.7906564 (98)\ttotal: 5.3s\tremaining: 53.6ms\n",
            "99:\tlearn: 1944.8773706\ttest: 1936.8756018\tbest: 1936.8756018 (99)\ttotal: 5.35s\tremaining: 0us\n",
            "\n",
            "bestTest = 1936.875602\n",
            "bestIteration = 99\n",
            "\n",
            "6:\tloss: 1936.8756018\tbest: 1828.5913440 (5)\ttotal: 31.4s\tremaining: 8.96s\n",
            "0:\tlearn: 7174.8651687\ttest: 7142.6804927\tbest: 7142.6804927 (0)\ttotal: 54.9ms\tremaining: 8.19s\n",
            "1:\tlearn: 6990.9012578\ttest: 6959.0459237\tbest: 6959.0459237 (1)\ttotal: 113ms\tremaining: 8.37s\n",
            "2:\tlearn: 6810.0185930\ttest: 6778.2410018\tbest: 6778.2410018 (2)\ttotal: 163ms\tremaining: 8s\n",
            "3:\tlearn: 6633.8560709\ttest: 6602.1993375\tbest: 6602.1993375 (3)\ttotal: 223ms\tremaining: 8.16s\n",
            "4:\tlearn: 6464.5392639\ttest: 6433.1761893\tbest: 6433.1761893 (4)\ttotal: 281ms\tremaining: 8.14s\n",
            "5:\tlearn: 6299.3403714\ttest: 6267.4792902\tbest: 6267.4792902 (5)\ttotal: 331ms\tremaining: 7.94s\n",
            "6:\tlearn: 6141.6698092\ttest: 6110.0674721\tbest: 6110.0674721 (6)\ttotal: 382ms\tremaining: 7.81s\n",
            "7:\tlearn: 5986.7015025\ttest: 5955.5411215\tbest: 5955.5411215 (7)\ttotal: 428ms\tremaining: 7.6s\n",
            "8:\tlearn: 5837.9963772\ttest: 5807.4990114\tbest: 5807.4990114 (8)\ttotal: 481ms\tremaining: 7.53s\n",
            "9:\tlearn: 5692.2338180\ttest: 5661.7542010\tbest: 5661.7542010 (9)\ttotal: 530ms\tremaining: 7.42s\n",
            "10:\tlearn: 5552.1435326\ttest: 5522.1959035\tbest: 5522.1959035 (10)\ttotal: 593ms\tremaining: 7.49s\n",
            "11:\tlearn: 5418.7449662\ttest: 5389.3909625\tbest: 5389.3909625 (11)\ttotal: 640ms\tremaining: 7.36s\n",
            "12:\tlearn: 5286.6382347\ttest: 5257.4366653\tbest: 5257.4366653 (12)\ttotal: 695ms\tremaining: 7.33s\n",
            "13:\tlearn: 5160.3962727\ttest: 5131.4153519\tbest: 5131.4153519 (13)\ttotal: 746ms\tremaining: 7.25s\n",
            "14:\tlearn: 5037.9241532\ttest: 5009.1624146\tbest: 5009.1624146 (14)\ttotal: 811ms\tremaining: 7.29s\n",
            "15:\tlearn: 4919.7098373\ttest: 4891.6379215\tbest: 4891.6379215 (15)\ttotal: 862ms\tremaining: 7.22s\n",
            "16:\tlearn: 4804.4437378\ttest: 4776.7103202\tbest: 4776.7103202 (16)\ttotal: 922ms\tremaining: 7.21s\n",
            "17:\tlearn: 4693.4016033\ttest: 4666.0812173\tbest: 4666.0812173 (17)\ttotal: 977ms\tremaining: 7.17s\n",
            "18:\tlearn: 4585.8091204\ttest: 4559.0518013\tbest: 4559.0518013 (18)\ttotal: 1.03s\tremaining: 7.08s\n",
            "19:\tlearn: 4483.3617063\ttest: 4456.4542295\tbest: 4456.4542295 (19)\ttotal: 1.1s\tremaining: 7.13s\n",
            "20:\tlearn: 4384.3336107\ttest: 4357.5580624\tbest: 4357.5580624 (20)\ttotal: 1.18s\tremaining: 7.25s\n",
            "21:\tlearn: 4287.3076690\ttest: 4260.9189471\tbest: 4260.9189471 (21)\ttotal: 1.25s\tremaining: 7.28s\n",
            "22:\tlearn: 4193.9304738\ttest: 4167.6437320\tbest: 4167.6437320 (22)\ttotal: 1.31s\tremaining: 7.21s\n",
            "23:\tlearn: 4103.7558037\ttest: 4078.1986501\tbest: 4078.1986501 (23)\ttotal: 1.36s\tremaining: 7.13s\n",
            "24:\tlearn: 4016.3475600\ttest: 3990.7960615\tbest: 3990.7960615 (24)\ttotal: 1.41s\tremaining: 7.07s\n",
            "25:\tlearn: 3932.4585365\ttest: 3907.2255055\tbest: 3907.2255055 (25)\ttotal: 1.46s\tremaining: 6.98s\n",
            "26:\tlearn: 3850.0102212\ttest: 3824.9755557\tbest: 3824.9755557 (26)\ttotal: 1.51s\tremaining: 6.9s\n",
            "27:\tlearn: 3772.5175529\ttest: 3747.8748166\tbest: 3747.8748166 (27)\ttotal: 1.56s\tremaining: 6.81s\n",
            "28:\tlearn: 3697.1245825\ttest: 3672.6496334\tbest: 3672.6496334 (28)\ttotal: 1.61s\tremaining: 6.74s\n",
            "29:\tlearn: 3626.2612206\ttest: 3602.1995834\tbest: 3602.1995834 (29)\ttotal: 1.66s\tremaining: 6.65s\n",
            "30:\tlearn: 3556.5136768\ttest: 3532.8483727\tbest: 3532.8483727 (30)\ttotal: 1.71s\tremaining: 6.58s\n",
            "31:\tlearn: 3489.6050753\ttest: 3466.0322577\tbest: 3466.0322577 (31)\ttotal: 1.77s\tremaining: 6.52s\n",
            "32:\tlearn: 3424.2141919\ttest: 3400.8925724\tbest: 3400.8925724 (32)\ttotal: 1.84s\tremaining: 6.52s\n",
            "33:\tlearn: 3363.4151705\ttest: 3340.3749395\tbest: 3340.3749395 (33)\ttotal: 1.9s\tremaining: 6.48s\n",
            "34:\tlearn: 3304.2898995\ttest: 3281.5830303\tbest: 3281.5830303 (34)\ttotal: 1.95s\tremaining: 6.42s\n",
            "35:\tlearn: 3245.6841844\ttest: 3223.1280274\tbest: 3223.1280274 (35)\ttotal: 2.02s\tremaining: 6.39s\n",
            "36:\tlearn: 3190.0266100\ttest: 3167.6163235\tbest: 3167.6163235 (36)\ttotal: 2.1s\tremaining: 6.4s\n",
            "37:\tlearn: 3135.6403415\ttest: 3113.3920737\tbest: 3113.3920737 (37)\ttotal: 2.17s\tremaining: 6.41s\n",
            "38:\tlearn: 3084.3623628\ttest: 3062.2997885\tbest: 3062.2997885 (38)\ttotal: 2.25s\tremaining: 6.39s\n",
            "39:\tlearn: 3035.1545065\ttest: 3013.6008053\tbest: 3013.6008053 (39)\ttotal: 2.3s\tremaining: 6.33s\n",
            "40:\tlearn: 2988.0286946\ttest: 2966.5634358\tbest: 2966.5634358 (40)\ttotal: 2.35s\tremaining: 6.26s\n",
            "41:\tlearn: 2941.6159954\ttest: 2920.4989616\tbest: 2920.4989616 (41)\ttotal: 2.42s\tremaining: 6.21s\n",
            "42:\tlearn: 2897.5777276\ttest: 2876.5884653\tbest: 2876.5884653 (42)\ttotal: 2.47s\tremaining: 6.15s\n",
            "43:\tlearn: 2854.4837057\ttest: 2833.8936061\tbest: 2833.8936061 (43)\ttotal: 2.52s\tremaining: 6.07s\n",
            "44:\tlearn: 2814.2655391\ttest: 2793.9507637\tbest: 2793.9507637 (44)\ttotal: 2.57s\tremaining: 6s\n",
            "45:\tlearn: 2775.0832862\ttest: 2754.9457366\tbest: 2754.9457366 (45)\ttotal: 2.62s\tremaining: 5.93s\n",
            "46:\tlearn: 2737.4913015\ttest: 2717.6794905\tbest: 2717.6794905 (46)\ttotal: 2.68s\tremaining: 5.88s\n",
            "47:\tlearn: 2701.7155917\ttest: 2682.1807313\tbest: 2682.1807313 (47)\ttotal: 2.75s\tremaining: 5.84s\n",
            "48:\tlearn: 2666.5335327\ttest: 2647.3020605\tbest: 2647.3020605 (48)\ttotal: 2.81s\tremaining: 5.79s\n",
            "49:\tlearn: 2634.5542444\ttest: 2615.8741797\tbest: 2615.8741797 (49)\ttotal: 2.86s\tremaining: 5.72s\n",
            "50:\tlearn: 2602.6917569\ttest: 2584.1913615\tbest: 2584.1913615 (50)\ttotal: 2.91s\tremaining: 5.65s\n",
            "51:\tlearn: 2572.9828905\ttest: 2554.5469031\tbest: 2554.5469031 (51)\ttotal: 2.96s\tremaining: 5.58s\n",
            "52:\tlearn: 2543.6643751\ttest: 2525.6472401\tbest: 2525.6472401 (52)\ttotal: 3.01s\tremaining: 5.51s\n",
            "53:\tlearn: 2514.9017703\ttest: 2497.2973103\tbest: 2497.2973103 (53)\ttotal: 3.06s\tremaining: 5.44s\n",
            "54:\tlearn: 2487.6861224\ttest: 2470.2261285\tbest: 2470.2261285 (54)\ttotal: 3.11s\tremaining: 5.37s\n",
            "55:\tlearn: 2461.1907734\ttest: 2444.0111247\tbest: 2444.0111247 (55)\ttotal: 3.16s\tremaining: 5.31s\n",
            "56:\tlearn: 2436.2016418\ttest: 2419.2451266\tbest: 2419.2451266 (56)\ttotal: 3.21s\tremaining: 5.24s\n",
            "57:\tlearn: 2413.4711118\ttest: 2396.9798825\tbest: 2396.9798825 (57)\ttotal: 3.27s\tremaining: 5.18s\n",
            "58:\tlearn: 2390.2315590\ttest: 2373.8455968\tbest: 2373.8455968 (58)\ttotal: 3.31s\tremaining: 5.11s\n",
            "59:\tlearn: 2367.7133151\ttest: 2351.5844894\tbest: 2351.5844894 (59)\ttotal: 3.37s\tremaining: 5.05s\n",
            "60:\tlearn: 2347.0166742\ttest: 2331.0098881\tbest: 2331.0098881 (60)\ttotal: 3.41s\tremaining: 4.98s\n",
            "61:\tlearn: 2326.2913641\ttest: 2310.6064171\tbest: 2310.6064171 (61)\ttotal: 3.48s\tremaining: 4.94s\n",
            "62:\tlearn: 2307.2740074\ttest: 2291.6410027\tbest: 2291.6410027 (62)\ttotal: 3.53s\tremaining: 4.87s\n",
            "63:\tlearn: 2287.8916542\ttest: 2272.5209811\tbest: 2272.5209811 (63)\ttotal: 3.58s\tremaining: 4.81s\n",
            "64:\tlearn: 2269.3450293\ttest: 2254.0950057\tbest: 2254.0950057 (64)\ttotal: 3.63s\tremaining: 4.75s\n",
            "65:\tlearn: 2252.2580604\ttest: 2237.4357125\tbest: 2237.4357125 (65)\ttotal: 3.69s\tremaining: 4.69s\n",
            "66:\tlearn: 2234.6864519\ttest: 2220.1860380\tbest: 2220.1860380 (66)\ttotal: 3.73s\tremaining: 4.63s\n",
            "67:\tlearn: 2218.7601423\ttest: 2204.5735423\tbest: 2204.5735423 (67)\ttotal: 3.79s\tremaining: 4.57s\n",
            "68:\tlearn: 2203.8038511\ttest: 2190.0445301\tbest: 2190.0445301 (68)\ttotal: 3.84s\tremaining: 4.51s\n",
            "69:\tlearn: 2189.4552205\ttest: 2176.1182603\tbest: 2176.1182603 (69)\ttotal: 3.9s\tremaining: 4.45s\n",
            "70:\tlearn: 2176.0909723\ttest: 2163.0568591\tbest: 2163.0568591 (70)\ttotal: 3.94s\tremaining: 4.39s\n",
            "71:\tlearn: 2163.4265470\ttest: 2150.8311503\tbest: 2150.8311503 (71)\ttotal: 4s\tremaining: 4.34s\n",
            "72:\tlearn: 2150.6003424\ttest: 2138.2519458\tbest: 2138.2519458 (72)\ttotal: 4.05s\tremaining: 4.28s\n",
            "73:\tlearn: 2139.0913613\ttest: 2126.8707032\tbest: 2126.8707032 (73)\ttotal: 4.11s\tremaining: 4.22s\n",
            "74:\tlearn: 2127.0714610\ttest: 2115.0114714\tbest: 2115.0114714 (74)\ttotal: 4.16s\tremaining: 4.16s\n",
            "75:\tlearn: 2116.3745117\ttest: 2104.4810998\tbest: 2104.4810998 (75)\ttotal: 4.21s\tremaining: 4.1s\n",
            "76:\tlearn: 2106.0359335\ttest: 2094.5153918\tbest: 2094.5153918 (76)\ttotal: 4.27s\tremaining: 4.05s\n",
            "77:\tlearn: 2095.5507713\ttest: 2084.2217924\tbest: 2084.2217924 (77)\ttotal: 4.35s\tremaining: 4.01s\n",
            "78:\tlearn: 2086.0132446\ttest: 2074.9718204\tbest: 2074.9718204 (78)\ttotal: 4.4s\tremaining: 3.95s\n",
            "79:\tlearn: 2076.2065970\ttest: 2065.0506262\tbest: 2065.0506262 (79)\ttotal: 4.46s\tremaining: 3.9s\n",
            "80:\tlearn: 2066.6168567\ttest: 2055.6275438\tbest: 2055.6275438 (80)\ttotal: 4.52s\tremaining: 3.85s\n",
            "81:\tlearn: 2057.8812205\ttest: 2047.3284492\tbest: 2047.3284492 (81)\ttotal: 4.58s\tremaining: 3.8s\n",
            "82:\tlearn: 2048.7850103\ttest: 2038.0101260\tbest: 2038.0101260 (82)\ttotal: 4.63s\tremaining: 3.74s\n",
            "83:\tlearn: 2041.2140254\ttest: 2030.6669402\tbest: 2030.6669402 (83)\ttotal: 4.7s\tremaining: 3.69s\n",
            "84:\tlearn: 2033.1096463\ttest: 2022.6739642\tbest: 2022.6739642 (84)\ttotal: 4.76s\tremaining: 3.64s\n",
            "85:\tlearn: 2025.0439174\ttest: 2014.6836858\tbest: 2014.6836858 (85)\ttotal: 4.81s\tremaining: 3.58s\n",
            "86:\tlearn: 2018.0490215\ttest: 2007.9010055\tbest: 2007.9010055 (86)\ttotal: 4.87s\tremaining: 3.53s\n",
            "87:\tlearn: 2010.7908600\ttest: 2000.8444489\tbest: 2000.8444489 (87)\ttotal: 4.92s\tremaining: 3.47s\n",
            "88:\tlearn: 2004.2999961\ttest: 1994.4888076\tbest: 1994.4888076 (88)\ttotal: 4.98s\tremaining: 3.41s\n",
            "89:\tlearn: 1998.0813813\ttest: 1988.5124757\tbest: 1988.5124757 (89)\ttotal: 5.03s\tremaining: 3.35s\n",
            "90:\tlearn: 1991.3150925\ttest: 1981.8968532\tbest: 1981.8968532 (90)\ttotal: 5.08s\tremaining: 3.29s\n",
            "91:\tlearn: 1985.4398633\ttest: 1976.2050366\tbest: 1976.2050366 (91)\ttotal: 5.13s\tremaining: 3.23s\n",
            "92:\tlearn: 1979.3873154\ttest: 1970.2465069\tbest: 1970.2465069 (92)\ttotal: 5.2s\tremaining: 3.19s\n",
            "93:\tlearn: 1974.2272000\ttest: 1965.3161869\tbest: 1965.3161869 (93)\ttotal: 5.25s\tremaining: 3.13s\n",
            "94:\tlearn: 1969.2122729\ttest: 1960.4631655\tbest: 1960.4631655 (94)\ttotal: 5.3s\tremaining: 3.07s\n",
            "95:\tlearn: 1964.1123225\ttest: 1955.6105936\tbest: 1955.6105936 (95)\ttotal: 5.37s\tremaining: 3.02s\n",
            "96:\tlearn: 1959.6732739\ttest: 1951.3040353\tbest: 1951.3040353 (96)\ttotal: 5.41s\tremaining: 2.96s\n",
            "97:\tlearn: 1954.8558931\ttest: 1946.7270778\tbest: 1946.7270778 (97)\ttotal: 5.47s\tremaining: 2.9s\n",
            "98:\tlearn: 1949.7447378\ttest: 1941.7906564\tbest: 1941.7906564 (98)\ttotal: 5.53s\tremaining: 2.85s\n",
            "99:\tlearn: 1944.8773706\ttest: 1936.8756018\tbest: 1936.8756018 (99)\ttotal: 5.59s\tremaining: 2.79s\n",
            "100:\tlearn: 1940.4426274\ttest: 1932.4584518\tbest: 1932.4584518 (100)\ttotal: 5.64s\tremaining: 2.74s\n",
            "101:\tlearn: 1936.1503732\ttest: 1928.4554687\tbest: 1928.4554687 (101)\ttotal: 5.72s\tremaining: 2.69s\n",
            "102:\tlearn: 1932.4364377\ttest: 1924.7322431\tbest: 1924.7322431 (102)\ttotal: 5.78s\tremaining: 2.64s\n",
            "103:\tlearn: 1928.1820523\ttest: 1920.5368872\tbest: 1920.5368872 (103)\ttotal: 5.83s\tremaining: 2.58s\n",
            "104:\tlearn: 1924.1453384\ttest: 1916.5833119\tbest: 1916.5833119 (104)\ttotal: 5.88s\tremaining: 2.52s\n",
            "105:\tlearn: 1920.2769800\ttest: 1912.9041224\tbest: 1912.9041224 (105)\ttotal: 5.93s\tremaining: 2.46s\n",
            "106:\tlearn: 1916.2109060\ttest: 1908.7977011\tbest: 1908.7977011 (106)\ttotal: 5.99s\tremaining: 2.41s\n",
            "107:\tlearn: 1913.1459411\ttest: 1905.8913109\tbest: 1905.8913109 (107)\ttotal: 6.05s\tremaining: 2.35s\n",
            "108:\tlearn: 1909.8585934\ttest: 1902.6715226\tbest: 1902.6715226 (108)\ttotal: 6.11s\tremaining: 2.3s\n",
            "109:\tlearn: 1906.5397720\ttest: 1899.5724800\tbest: 1899.5724800 (109)\ttotal: 6.16s\tremaining: 2.24s\n",
            "110:\tlearn: 1903.8338038\ttest: 1897.1130750\tbest: 1897.1130750 (110)\ttotal: 6.21s\tremaining: 2.18s\n",
            "111:\tlearn: 1900.6647708\ttest: 1893.9952464\tbest: 1893.9952464 (111)\ttotal: 6.27s\tremaining: 2.13s\n",
            "112:\tlearn: 1897.1012307\ttest: 1890.4866371\tbest: 1890.4866371 (112)\ttotal: 6.31s\tremaining: 2.07s\n",
            "113:\tlearn: 1894.1236359\ttest: 1887.8601842\tbest: 1887.8601842 (113)\ttotal: 6.37s\tremaining: 2.01s\n",
            "114:\tlearn: 1891.5254363\ttest: 1885.3551795\tbest: 1885.3551795 (114)\ttotal: 6.41s\tremaining: 1.95s\n",
            "115:\tlearn: 1888.9638914\ttest: 1882.9556453\tbest: 1882.9556453 (115)\ttotal: 6.47s\tremaining: 1.9s\n",
            "116:\tlearn: 1886.0019019\ttest: 1880.0791750\tbest: 1880.0791750 (116)\ttotal: 6.52s\tremaining: 1.84s\n",
            "117:\tlearn: 1883.5093635\ttest: 1877.8619118\tbest: 1877.8619118 (117)\ttotal: 6.58s\tremaining: 1.78s\n",
            "118:\tlearn: 1880.7845540\ttest: 1875.2675592\tbest: 1875.2675592 (118)\ttotal: 6.63s\tremaining: 1.73s\n",
            "119:\tlearn: 1878.7920379\ttest: 1873.3369703\tbest: 1873.3369703 (119)\ttotal: 6.69s\tremaining: 1.67s\n",
            "120:\tlearn: 1876.2063242\ttest: 1870.8389407\tbest: 1870.8389407 (120)\ttotal: 6.74s\tremaining: 1.62s\n",
            "121:\tlearn: 1873.9321070\ttest: 1868.8048730\tbest: 1868.8048730 (121)\ttotal: 6.81s\tremaining: 1.56s\n",
            "122:\tlearn: 1871.7923274\ttest: 1866.9517504\tbest: 1866.9517504 (122)\ttotal: 6.86s\tremaining: 1.51s\n",
            "123:\tlearn: 1869.7889131\ttest: 1865.0350505\tbest: 1865.0350505 (123)\ttotal: 6.91s\tremaining: 1.45s\n",
            "124:\tlearn: 1866.9832732\ttest: 1862.2756407\tbest: 1862.2756407 (124)\ttotal: 6.97s\tremaining: 1.39s\n",
            "125:\tlearn: 1865.1809309\ttest: 1860.6740403\tbest: 1860.6740403 (125)\ttotal: 7.02s\tremaining: 1.34s\n",
            "126:\tlearn: 1863.2574682\ttest: 1859.0274238\tbest: 1859.0274238 (126)\ttotal: 7.07s\tremaining: 1.28s\n",
            "127:\tlearn: 1861.3342107\ttest: 1857.2172319\tbest: 1857.2172319 (127)\ttotal: 7.12s\tremaining: 1.22s\n",
            "128:\tlearn: 1859.0387915\ttest: 1854.9820761\tbest: 1854.9820761 (128)\ttotal: 7.18s\tremaining: 1.17s\n",
            "129:\tlearn: 1856.9829015\ttest: 1853.3052491\tbest: 1853.3052491 (129)\ttotal: 7.23s\tremaining: 1.11s\n",
            "130:\tlearn: 1855.5794678\ttest: 1851.9986098\tbest: 1851.9986098 (130)\ttotal: 7.29s\tremaining: 1.06s\n",
            "131:\tlearn: 1853.5422142\ttest: 1850.0703381\tbest: 1850.0703381 (131)\ttotal: 7.33s\tremaining: 1s\n",
            "132:\tlearn: 1851.5694332\ttest: 1848.3619599\tbest: 1848.3619599 (132)\ttotal: 7.39s\tremaining: 944ms\n",
            "133:\tlearn: 1849.8592795\ttest: 1846.8799734\tbest: 1846.8799734 (133)\ttotal: 7.44s\tremaining: 888ms\n",
            "134:\tlearn: 1847.6006373\ttest: 1844.7926921\tbest: 1844.7926921 (134)\ttotal: 7.49s\tremaining: 832ms\n",
            "135:\tlearn: 1845.8795812\ttest: 1843.0397724\tbest: 1843.0397724 (135)\ttotal: 7.54s\tremaining: 776ms\n",
            "136:\tlearn: 1844.3206022\ttest: 1841.4374217\tbest: 1841.4374217 (136)\ttotal: 7.6s\tremaining: 721ms\n",
            "137:\tlearn: 1842.6666583\ttest: 1839.9003166\tbest: 1839.9003166 (137)\ttotal: 7.65s\tremaining: 665ms\n",
            "138:\tlearn: 1840.9485379\ttest: 1838.4462389\tbest: 1838.4462389 (138)\ttotal: 7.7s\tremaining: 609ms\n",
            "139:\tlearn: 1838.9362846\ttest: 1836.6268234\tbest: 1836.6268234 (139)\ttotal: 7.76s\tremaining: 554ms\n",
            "140:\tlearn: 1837.7023407\ttest: 1835.5051306\tbest: 1835.5051306 (140)\ttotal: 7.81s\tremaining: 498ms\n",
            "141:\tlearn: 1836.1307837\ttest: 1833.9704517\tbest: 1833.9704517 (141)\ttotal: 7.87s\tremaining: 443ms\n",
            "142:\tlearn: 1834.9070767\ttest: 1832.8613745\tbest: 1832.8613745 (142)\ttotal: 7.92s\tremaining: 388ms\n",
            "143:\tlearn: 1833.5575965\ttest: 1831.6331105\tbest: 1831.6331105 (143)\ttotal: 7.98s\tremaining: 332ms\n",
            "144:\tlearn: 1832.2850894\ttest: 1830.4675403\tbest: 1830.4675403 (144)\ttotal: 8.03s\tremaining: 277ms\n",
            "145:\tlearn: 1830.9577103\ttest: 1829.2529180\tbest: 1829.2529180 (145)\ttotal: 8.08s\tremaining: 221ms\n",
            "146:\tlearn: 1829.0381992\ttest: 1827.3214746\tbest: 1827.3214746 (146)\ttotal: 8.13s\tremaining: 166ms\n",
            "147:\tlearn: 1827.8592577\ttest: 1826.2466223\tbest: 1826.2466223 (147)\ttotal: 8.19s\tremaining: 111ms\n",
            "148:\tlearn: 1826.4966209\ttest: 1825.1211397\tbest: 1825.1211397 (148)\ttotal: 8.24s\tremaining: 55.3ms\n",
            "149:\tlearn: 1825.5337522\ttest: 1824.2535492\tbest: 1824.2535492 (149)\ttotal: 8.29s\tremaining: 0us\n",
            "\n",
            "bestTest = 1824.253549\n",
            "bestIteration = 149\n",
            "\n",
            "7:\tloss: 1824.2535492\tbest: 1824.2535492 (7)\ttotal: 39.7s\tremaining: 4.96s\n",
            "0:\tlearn: 7174.8651687\ttest: 7142.6804927\tbest: 7142.6804927 (0)\ttotal: 56.3ms\tremaining: 11.2s\n",
            "1:\tlearn: 6990.9012578\ttest: 6959.0459237\tbest: 6959.0459237 (1)\ttotal: 105ms\tremaining: 10.4s\n",
            "2:\tlearn: 6810.0185930\ttest: 6778.2410018\tbest: 6778.2410018 (2)\ttotal: 161ms\tremaining: 10.6s\n",
            "3:\tlearn: 6633.8560709\ttest: 6602.1993375\tbest: 6602.1993375 (3)\ttotal: 210ms\tremaining: 10.3s\n",
            "4:\tlearn: 6464.5392639\ttest: 6433.1761893\tbest: 6433.1761893 (4)\ttotal: 263ms\tremaining: 10.3s\n",
            "5:\tlearn: 6299.3403714\ttest: 6267.4792902\tbest: 6267.4792902 (5)\ttotal: 310ms\tremaining: 10s\n",
            "6:\tlearn: 6141.6698092\ttest: 6110.0674721\tbest: 6110.0674721 (6)\ttotal: 370ms\tremaining: 10.2s\n",
            "7:\tlearn: 5986.7015025\ttest: 5955.5411215\tbest: 5955.5411215 (7)\ttotal: 432ms\tremaining: 10.4s\n",
            "8:\tlearn: 5837.9963772\ttest: 5807.4990114\tbest: 5807.4990114 (8)\ttotal: 489ms\tremaining: 10.4s\n",
            "9:\tlearn: 5692.2338180\ttest: 5661.7542010\tbest: 5661.7542010 (9)\ttotal: 542ms\tremaining: 10.3s\n",
            "10:\tlearn: 5552.1435326\ttest: 5522.1959035\tbest: 5522.1959035 (10)\ttotal: 591ms\tremaining: 10.1s\n",
            "11:\tlearn: 5418.7449662\ttest: 5389.3909625\tbest: 5389.3909625 (11)\ttotal: 645ms\tremaining: 10.1s\n",
            "12:\tlearn: 5286.6382347\ttest: 5257.4366653\tbest: 5257.4366653 (12)\ttotal: 692ms\tremaining: 9.96s\n",
            "13:\tlearn: 5160.3962727\ttest: 5131.4153519\tbest: 5131.4153519 (13)\ttotal: 749ms\tremaining: 9.95s\n",
            "14:\tlearn: 5037.9241532\ttest: 5009.1624146\tbest: 5009.1624146 (14)\ttotal: 797ms\tremaining: 9.82s\n",
            "15:\tlearn: 4919.7098373\ttest: 4891.6379215\tbest: 4891.6379215 (15)\ttotal: 849ms\tremaining: 9.77s\n",
            "16:\tlearn: 4804.4437378\ttest: 4776.7103202\tbest: 4776.7103202 (16)\ttotal: 895ms\tremaining: 9.64s\n",
            "17:\tlearn: 4693.4016033\ttest: 4666.0812173\tbest: 4666.0812173 (17)\ttotal: 951ms\tremaining: 9.62s\n",
            "18:\tlearn: 4585.8091204\ttest: 4559.0518013\tbest: 4559.0518013 (18)\ttotal: 1000ms\tremaining: 9.53s\n",
            "19:\tlearn: 4483.3617063\ttest: 4456.4542295\tbest: 4456.4542295 (19)\ttotal: 1.05s\tremaining: 9.48s\n",
            "20:\tlearn: 4384.3336107\ttest: 4357.5580624\tbest: 4357.5580624 (20)\ttotal: 1.12s\tremaining: 9.55s\n",
            "21:\tlearn: 4287.3076690\ttest: 4260.9189471\tbest: 4260.9189471 (21)\ttotal: 1.17s\tremaining: 9.49s\n",
            "22:\tlearn: 4193.9304738\ttest: 4167.6437320\tbest: 4167.6437320 (22)\ttotal: 1.22s\tremaining: 9.39s\n",
            "23:\tlearn: 4103.7558037\ttest: 4078.1986501\tbest: 4078.1986501 (23)\ttotal: 1.27s\tremaining: 9.33s\n",
            "24:\tlearn: 4016.3475600\ttest: 3990.7960615\tbest: 3990.7960615 (24)\ttotal: 1.32s\tremaining: 9.23s\n",
            "25:\tlearn: 3932.4585365\ttest: 3907.2255055\tbest: 3907.2255055 (25)\ttotal: 1.38s\tremaining: 9.25s\n",
            "26:\tlearn: 3850.0102212\ttest: 3824.9755557\tbest: 3824.9755557 (26)\ttotal: 1.44s\tremaining: 9.24s\n",
            "27:\tlearn: 3772.5175529\ttest: 3747.8748166\tbest: 3747.8748166 (27)\ttotal: 1.5s\tremaining: 9.21s\n",
            "28:\tlearn: 3697.1245825\ttest: 3672.6496334\tbest: 3672.6496334 (28)\ttotal: 1.56s\tremaining: 9.2s\n",
            "29:\tlearn: 3626.2612206\ttest: 3602.1995834\tbest: 3602.1995834 (29)\ttotal: 1.61s\tremaining: 9.12s\n",
            "30:\tlearn: 3556.5136768\ttest: 3532.8483727\tbest: 3532.8483727 (30)\ttotal: 1.66s\tremaining: 9.07s\n",
            "31:\tlearn: 3489.6050753\ttest: 3466.0322577\tbest: 3466.0322577 (31)\ttotal: 1.73s\tremaining: 9.1s\n",
            "32:\tlearn: 3424.2141919\ttest: 3400.8925724\tbest: 3400.8925724 (32)\ttotal: 1.79s\tremaining: 9.06s\n",
            "33:\tlearn: 3363.4151705\ttest: 3340.3749395\tbest: 3340.3749395 (33)\ttotal: 1.85s\tremaining: 9.05s\n",
            "34:\tlearn: 3304.2898995\ttest: 3281.5830303\tbest: 3281.5830303 (34)\ttotal: 1.91s\tremaining: 9.01s\n",
            "35:\tlearn: 3245.6841844\ttest: 3223.1280274\tbest: 3223.1280274 (35)\ttotal: 1.97s\tremaining: 8.98s\n",
            "36:\tlearn: 3190.0266100\ttest: 3167.6163235\tbest: 3167.6163235 (36)\ttotal: 2.02s\tremaining: 8.89s\n",
            "37:\tlearn: 3135.6403415\ttest: 3113.3920737\tbest: 3113.3920737 (37)\ttotal: 2.07s\tremaining: 8.82s\n",
            "38:\tlearn: 3084.3623628\ttest: 3062.2997885\tbest: 3062.2997885 (38)\ttotal: 2.12s\tremaining: 8.75s\n",
            "39:\tlearn: 3035.1545065\ttest: 3013.6008053\tbest: 3013.6008053 (39)\ttotal: 2.17s\tremaining: 8.69s\n",
            "40:\tlearn: 2988.0286946\ttest: 2966.5634358\tbest: 2966.5634358 (40)\ttotal: 2.23s\tremaining: 8.63s\n",
            "41:\tlearn: 2941.6159954\ttest: 2920.4989616\tbest: 2920.4989616 (41)\ttotal: 2.27s\tremaining: 8.56s\n",
            "42:\tlearn: 2897.5777276\ttest: 2876.5884653\tbest: 2876.5884653 (42)\ttotal: 2.33s\tremaining: 8.51s\n",
            "43:\tlearn: 2854.4837057\ttest: 2833.8936061\tbest: 2833.8936061 (43)\ttotal: 2.38s\tremaining: 8.45s\n",
            "44:\tlearn: 2814.2655391\ttest: 2793.9507637\tbest: 2793.9507637 (44)\ttotal: 2.45s\tremaining: 8.44s\n",
            "45:\tlearn: 2775.0832862\ttest: 2754.9457366\tbest: 2754.9457366 (45)\ttotal: 2.5s\tremaining: 8.38s\n",
            "46:\tlearn: 2737.4913015\ttest: 2717.6794905\tbest: 2717.6794905 (46)\ttotal: 2.59s\tremaining: 8.42s\n",
            "47:\tlearn: 2701.7155917\ttest: 2682.1807313\tbest: 2682.1807313 (47)\ttotal: 2.67s\tremaining: 8.46s\n",
            "48:\tlearn: 2666.5335327\ttest: 2647.3020605\tbest: 2647.3020605 (48)\ttotal: 2.73s\tremaining: 8.43s\n",
            "49:\tlearn: 2634.5542444\ttest: 2615.8741797\tbest: 2615.8741797 (49)\ttotal: 2.81s\tremaining: 8.44s\n",
            "50:\tlearn: 2602.6917569\ttest: 2584.1913615\tbest: 2584.1913615 (50)\ttotal: 2.89s\tremaining: 8.45s\n",
            "51:\tlearn: 2572.9828905\ttest: 2554.5469031\tbest: 2554.5469031 (51)\ttotal: 2.95s\tremaining: 8.4s\n",
            "52:\tlearn: 2543.6643751\ttest: 2525.6472401\tbest: 2525.6472401 (52)\ttotal: 3s\tremaining: 8.33s\n",
            "53:\tlearn: 2514.9017703\ttest: 2497.2973103\tbest: 2497.2973103 (53)\ttotal: 3.06s\tremaining: 8.27s\n",
            "54:\tlearn: 2487.6861224\ttest: 2470.2261285\tbest: 2470.2261285 (54)\ttotal: 3.1s\tremaining: 8.19s\n",
            "55:\tlearn: 2461.1907734\ttest: 2444.0111247\tbest: 2444.0111247 (55)\ttotal: 3.16s\tremaining: 8.12s\n",
            "56:\tlearn: 2436.2016418\ttest: 2419.2451266\tbest: 2419.2451266 (56)\ttotal: 3.21s\tremaining: 8.05s\n",
            "57:\tlearn: 2413.4711118\ttest: 2396.9798825\tbest: 2396.9798825 (57)\ttotal: 3.27s\tremaining: 8s\n",
            "58:\tlearn: 2390.2315590\ttest: 2373.8455968\tbest: 2373.8455968 (58)\ttotal: 3.31s\tremaining: 7.92s\n",
            "59:\tlearn: 2367.7133151\ttest: 2351.5844894\tbest: 2351.5844894 (59)\ttotal: 3.37s\tremaining: 7.86s\n",
            "60:\tlearn: 2347.0166742\ttest: 2331.0098881\tbest: 2331.0098881 (60)\ttotal: 3.42s\tremaining: 7.79s\n",
            "61:\tlearn: 2326.2913641\ttest: 2310.6064171\tbest: 2310.6064171 (61)\ttotal: 3.48s\tremaining: 7.75s\n",
            "62:\tlearn: 2307.2740074\ttest: 2291.6410027\tbest: 2291.6410027 (62)\ttotal: 3.55s\tremaining: 7.71s\n",
            "63:\tlearn: 2287.8916542\ttest: 2272.5209811\tbest: 2272.5209811 (63)\ttotal: 3.6s\tremaining: 7.66s\n",
            "64:\tlearn: 2269.3450293\ttest: 2254.0950057\tbest: 2254.0950057 (64)\ttotal: 3.67s\tremaining: 7.63s\n",
            "65:\tlearn: 2252.2580604\ttest: 2237.4357125\tbest: 2237.4357125 (65)\ttotal: 3.74s\tremaining: 7.59s\n",
            "66:\tlearn: 2234.6864519\ttest: 2220.1860380\tbest: 2220.1860380 (66)\ttotal: 3.81s\tremaining: 7.57s\n",
            "67:\tlearn: 2218.7601423\ttest: 2204.5735423\tbest: 2204.5735423 (67)\ttotal: 3.89s\tremaining: 7.55s\n",
            "68:\tlearn: 2203.8038511\ttest: 2190.0445301\tbest: 2190.0445301 (68)\ttotal: 3.95s\tremaining: 7.5s\n",
            "69:\tlearn: 2189.4552205\ttest: 2176.1182603\tbest: 2176.1182603 (69)\ttotal: 4s\tremaining: 7.43s\n",
            "70:\tlearn: 2176.0909723\ttest: 2163.0568591\tbest: 2163.0568591 (70)\ttotal: 4.06s\tremaining: 7.37s\n",
            "71:\tlearn: 2163.4265470\ttest: 2150.8311503\tbest: 2150.8311503 (71)\ttotal: 4.11s\tremaining: 7.3s\n",
            "72:\tlearn: 2150.6003424\ttest: 2138.2519458\tbest: 2138.2519458 (72)\ttotal: 4.16s\tremaining: 7.24s\n",
            "73:\tlearn: 2139.0913613\ttest: 2126.8707032\tbest: 2126.8707032 (73)\ttotal: 4.21s\tremaining: 7.17s\n",
            "74:\tlearn: 2127.0714610\ttest: 2115.0114714\tbest: 2115.0114714 (74)\ttotal: 4.26s\tremaining: 7.1s\n",
            "75:\tlearn: 2116.3745117\ttest: 2104.4810998\tbest: 2104.4810998 (75)\ttotal: 4.31s\tremaining: 7.04s\n",
            "76:\tlearn: 2106.0359335\ttest: 2094.5153918\tbest: 2094.5153918 (76)\ttotal: 4.37s\tremaining: 6.98s\n",
            "77:\tlearn: 2095.5507713\ttest: 2084.2217924\tbest: 2084.2217924 (77)\ttotal: 4.42s\tremaining: 6.92s\n",
            "78:\tlearn: 2086.0132446\ttest: 2074.9718204\tbest: 2074.9718204 (78)\ttotal: 4.48s\tremaining: 6.86s\n",
            "79:\tlearn: 2076.2065970\ttest: 2065.0506262\tbest: 2065.0506262 (79)\ttotal: 4.54s\tremaining: 6.81s\n",
            "80:\tlearn: 2066.6168567\ttest: 2055.6275438\tbest: 2055.6275438 (80)\ttotal: 4.59s\tremaining: 6.74s\n",
            "81:\tlearn: 2057.8812205\ttest: 2047.3284492\tbest: 2047.3284492 (81)\ttotal: 4.64s\tremaining: 6.68s\n",
            "82:\tlearn: 2048.7850103\ttest: 2038.0101260\tbest: 2038.0101260 (82)\ttotal: 4.7s\tremaining: 6.62s\n",
            "83:\tlearn: 2041.2140254\ttest: 2030.6669402\tbest: 2030.6669402 (83)\ttotal: 4.75s\tremaining: 6.57s\n",
            "84:\tlearn: 2033.1096463\ttest: 2022.6739642\tbest: 2022.6739642 (84)\ttotal: 4.81s\tremaining: 6.51s\n",
            "85:\tlearn: 2025.0439174\ttest: 2014.6836858\tbest: 2014.6836858 (85)\ttotal: 4.86s\tremaining: 6.45s\n",
            "86:\tlearn: 2018.0490215\ttest: 2007.9010055\tbest: 2007.9010055 (86)\ttotal: 4.92s\tremaining: 6.4s\n",
            "87:\tlearn: 2010.7908600\ttest: 2000.8444489\tbest: 2000.8444489 (87)\ttotal: 4.98s\tremaining: 6.34s\n",
            "88:\tlearn: 2004.2999961\ttest: 1994.4888076\tbest: 1994.4888076 (88)\ttotal: 5.04s\tremaining: 6.29s\n",
            "89:\tlearn: 1998.0813813\ttest: 1988.5124757\tbest: 1988.5124757 (89)\ttotal: 5.1s\tremaining: 6.23s\n",
            "90:\tlearn: 1991.3150925\ttest: 1981.8968532\tbest: 1981.8968532 (90)\ttotal: 5.15s\tremaining: 6.17s\n",
            "91:\tlearn: 1985.4398633\ttest: 1976.2050366\tbest: 1976.2050366 (91)\ttotal: 5.2s\tremaining: 6.1s\n",
            "92:\tlearn: 1979.3873154\ttest: 1970.2465069\tbest: 1970.2465069 (92)\ttotal: 5.25s\tremaining: 6.04s\n",
            "93:\tlearn: 1974.2272000\ttest: 1965.3161869\tbest: 1965.3161869 (93)\ttotal: 5.3s\tremaining: 5.98s\n",
            "94:\tlearn: 1969.2122729\ttest: 1960.4631655\tbest: 1960.4631655 (94)\ttotal: 5.37s\tremaining: 5.94s\n",
            "95:\tlearn: 1964.1123225\ttest: 1955.6105936\tbest: 1955.6105936 (95)\ttotal: 5.45s\tremaining: 5.9s\n",
            "96:\tlearn: 1959.6732739\ttest: 1951.3040353\tbest: 1951.3040353 (96)\ttotal: 5.51s\tremaining: 5.85s\n",
            "97:\tlearn: 1954.8558931\ttest: 1946.7270778\tbest: 1946.7270778 (97)\ttotal: 5.58s\tremaining: 5.8s\n",
            "98:\tlearn: 1949.7447378\ttest: 1941.7906564\tbest: 1941.7906564 (98)\ttotal: 5.65s\tremaining: 5.76s\n",
            "99:\tlearn: 1944.8773706\ttest: 1936.8756018\tbest: 1936.8756018 (99)\ttotal: 5.7s\tremaining: 5.7s\n",
            "100:\tlearn: 1940.4426274\ttest: 1932.4584518\tbest: 1932.4584518 (100)\ttotal: 5.75s\tremaining: 5.63s\n",
            "101:\tlearn: 1936.1503732\ttest: 1928.4554687\tbest: 1928.4554687 (101)\ttotal: 5.8s\tremaining: 5.57s\n",
            "102:\tlearn: 1932.4364377\ttest: 1924.7322431\tbest: 1924.7322431 (102)\ttotal: 5.85s\tremaining: 5.51s\n",
            "103:\tlearn: 1928.1820523\ttest: 1920.5368872\tbest: 1920.5368872 (103)\ttotal: 5.9s\tremaining: 5.45s\n",
            "104:\tlearn: 1924.1453384\ttest: 1916.5833119\tbest: 1916.5833119 (104)\ttotal: 5.95s\tremaining: 5.39s\n",
            "105:\tlearn: 1920.2769800\ttest: 1912.9041224\tbest: 1912.9041224 (105)\ttotal: 6s\tremaining: 5.32s\n",
            "106:\tlearn: 1916.2109060\ttest: 1908.7977011\tbest: 1908.7977011 (106)\ttotal: 6.05s\tremaining: 5.26s\n",
            "107:\tlearn: 1913.1459411\ttest: 1905.8913109\tbest: 1905.8913109 (107)\ttotal: 6.1s\tremaining: 5.2s\n",
            "108:\tlearn: 1909.8585934\ttest: 1902.6715226\tbest: 1902.6715226 (108)\ttotal: 6.16s\tremaining: 5.14s\n",
            "109:\tlearn: 1906.5397720\ttest: 1899.5724800\tbest: 1899.5724800 (109)\ttotal: 6.22s\tremaining: 5.09s\n",
            "110:\tlearn: 1903.8338038\ttest: 1897.1130750\tbest: 1897.1130750 (110)\ttotal: 6.26s\tremaining: 5.02s\n",
            "111:\tlearn: 1900.6647708\ttest: 1893.9952464\tbest: 1893.9952464 (111)\ttotal: 6.33s\tremaining: 4.97s\n",
            "112:\tlearn: 1897.1012307\ttest: 1890.4866371\tbest: 1890.4866371 (112)\ttotal: 6.38s\tremaining: 4.91s\n",
            "113:\tlearn: 1894.1236359\ttest: 1887.8601842\tbest: 1887.8601842 (113)\ttotal: 6.43s\tremaining: 4.85s\n",
            "114:\tlearn: 1891.5254363\ttest: 1885.3551795\tbest: 1885.3551795 (114)\ttotal: 6.48s\tremaining: 4.79s\n",
            "115:\tlearn: 1888.9638914\ttest: 1882.9556453\tbest: 1882.9556453 (115)\ttotal: 6.54s\tremaining: 4.74s\n",
            "116:\tlearn: 1886.0019019\ttest: 1880.0791750\tbest: 1880.0791750 (116)\ttotal: 6.61s\tremaining: 4.69s\n",
            "117:\tlearn: 1883.5093635\ttest: 1877.8619118\tbest: 1877.8619118 (117)\ttotal: 6.67s\tremaining: 4.63s\n",
            "118:\tlearn: 1880.7845540\ttest: 1875.2675592\tbest: 1875.2675592 (118)\ttotal: 6.73s\tremaining: 4.58s\n",
            "119:\tlearn: 1878.7920379\ttest: 1873.3369703\tbest: 1873.3369703 (119)\ttotal: 6.8s\tremaining: 4.53s\n",
            "120:\tlearn: 1876.2063242\ttest: 1870.8389407\tbest: 1870.8389407 (120)\ttotal: 6.85s\tremaining: 4.47s\n",
            "121:\tlearn: 1873.9321070\ttest: 1868.8048730\tbest: 1868.8048730 (121)\ttotal: 6.9s\tremaining: 4.41s\n",
            "122:\tlearn: 1871.7923274\ttest: 1866.9517504\tbest: 1866.9517504 (122)\ttotal: 6.96s\tremaining: 4.36s\n",
            "123:\tlearn: 1869.7889131\ttest: 1865.0350505\tbest: 1865.0350505 (123)\ttotal: 7.01s\tremaining: 4.29s\n",
            "124:\tlearn: 1866.9832732\ttest: 1862.2756407\tbest: 1862.2756407 (124)\ttotal: 7.05s\tremaining: 4.23s\n",
            "125:\tlearn: 1865.1809309\ttest: 1860.6740403\tbest: 1860.6740403 (125)\ttotal: 7.11s\tremaining: 4.17s\n",
            "126:\tlearn: 1863.2574682\ttest: 1859.0274238\tbest: 1859.0274238 (126)\ttotal: 7.16s\tremaining: 4.11s\n",
            "127:\tlearn: 1861.3342107\ttest: 1857.2172319\tbest: 1857.2172319 (127)\ttotal: 7.21s\tremaining: 4.06s\n",
            "128:\tlearn: 1859.0387915\ttest: 1854.9820761\tbest: 1854.9820761 (128)\ttotal: 7.27s\tremaining: 4s\n",
            "129:\tlearn: 1856.9829015\ttest: 1853.3052491\tbest: 1853.3052491 (129)\ttotal: 7.34s\tremaining: 3.95s\n",
            "130:\tlearn: 1855.5794678\ttest: 1851.9986098\tbest: 1851.9986098 (130)\ttotal: 7.41s\tremaining: 3.9s\n",
            "131:\tlearn: 1853.5422142\ttest: 1850.0703381\tbest: 1850.0703381 (131)\ttotal: 7.46s\tremaining: 3.84s\n",
            "132:\tlearn: 1851.5694332\ttest: 1848.3619599\tbest: 1848.3619599 (132)\ttotal: 7.51s\tremaining: 3.78s\n",
            "133:\tlearn: 1849.8592795\ttest: 1846.8799734\tbest: 1846.8799734 (133)\ttotal: 7.56s\tremaining: 3.72s\n",
            "134:\tlearn: 1847.6006373\ttest: 1844.7926921\tbest: 1844.7926921 (134)\ttotal: 7.62s\tremaining: 3.67s\n",
            "135:\tlearn: 1845.8795812\ttest: 1843.0397724\tbest: 1843.0397724 (135)\ttotal: 7.66s\tremaining: 3.61s\n",
            "136:\tlearn: 1844.3206022\ttest: 1841.4374217\tbest: 1841.4374217 (136)\ttotal: 7.72s\tremaining: 3.55s\n",
            "137:\tlearn: 1842.6666583\ttest: 1839.9003166\tbest: 1839.9003166 (137)\ttotal: 7.76s\tremaining: 3.49s\n",
            "138:\tlearn: 1840.9485379\ttest: 1838.4462389\tbest: 1838.4462389 (138)\ttotal: 7.82s\tremaining: 3.43s\n",
            "139:\tlearn: 1838.9362846\ttest: 1836.6268234\tbest: 1836.6268234 (139)\ttotal: 7.87s\tremaining: 3.37s\n",
            "140:\tlearn: 1837.7023407\ttest: 1835.5051306\tbest: 1835.5051306 (140)\ttotal: 7.92s\tremaining: 3.31s\n",
            "141:\tlearn: 1836.1307837\ttest: 1833.9704517\tbest: 1833.9704517 (141)\ttotal: 7.97s\tremaining: 3.25s\n",
            "142:\tlearn: 1834.9070767\ttest: 1832.8613745\tbest: 1832.8613745 (142)\ttotal: 8.03s\tremaining: 3.2s\n",
            "143:\tlearn: 1833.5575965\ttest: 1831.6331105\tbest: 1831.6331105 (143)\ttotal: 8.08s\tremaining: 3.14s\n",
            "144:\tlearn: 1832.2850894\ttest: 1830.4675403\tbest: 1830.4675403 (144)\ttotal: 8.14s\tremaining: 3.09s\n",
            "145:\tlearn: 1830.9577103\ttest: 1829.2529180\tbest: 1829.2529180 (145)\ttotal: 8.19s\tremaining: 3.03s\n",
            "146:\tlearn: 1829.0381992\ttest: 1827.3214746\tbest: 1827.3214746 (146)\ttotal: 8.25s\tremaining: 2.98s\n",
            "147:\tlearn: 1827.8592577\ttest: 1826.2466223\tbest: 1826.2466223 (147)\ttotal: 8.3s\tremaining: 2.92s\n",
            "148:\tlearn: 1826.4966209\ttest: 1825.1211397\tbest: 1825.1211397 (148)\ttotal: 8.35s\tremaining: 2.86s\n",
            "149:\tlearn: 1825.5337522\ttest: 1824.2535492\tbest: 1824.2535492 (149)\ttotal: 8.41s\tremaining: 2.8s\n",
            "150:\tlearn: 1824.3143058\ttest: 1823.1227014\tbest: 1823.1227014 (150)\ttotal: 8.47s\tremaining: 2.75s\n",
            "151:\tlearn: 1822.7156312\ttest: 1821.6150625\tbest: 1821.6150625 (151)\ttotal: 8.53s\tremaining: 2.69s\n",
            "152:\tlearn: 1821.3366885\ttest: 1820.3541336\tbest: 1820.3541336 (152)\ttotal: 8.58s\tremaining: 2.64s\n",
            "153:\tlearn: 1820.2804330\ttest: 1819.5246200\tbest: 1819.5246200 (153)\ttotal: 8.65s\tremaining: 2.58s\n",
            "154:\tlearn: 1819.4054696\ttest: 1818.7897552\tbest: 1818.7897552 (154)\ttotal: 8.74s\tremaining: 2.54s\n",
            "155:\tlearn: 1817.8612253\ttest: 1817.3346454\tbest: 1817.3346454 (155)\ttotal: 8.79s\tremaining: 2.48s\n",
            "156:\tlearn: 1816.2134509\ttest: 1815.8147187\tbest: 1815.8147187 (156)\ttotal: 8.85s\tremaining: 2.42s\n",
            "157:\tlearn: 1815.1198806\ttest: 1814.8666111\tbest: 1814.8666111 (157)\ttotal: 8.9s\tremaining: 2.37s\n",
            "158:\tlearn: 1813.7349286\ttest: 1813.4708145\tbest: 1813.4708145 (158)\ttotal: 8.95s\tremaining: 2.31s\n",
            "159:\tlearn: 1812.8331468\ttest: 1812.7594029\tbest: 1812.7594029 (159)\ttotal: 9s\tremaining: 2.25s\n",
            "160:\tlearn: 1811.8733504\ttest: 1811.9785802\tbest: 1811.9785802 (160)\ttotal: 9.05s\tremaining: 2.19s\n",
            "161:\tlearn: 1810.5120218\ttest: 1810.8448620\tbest: 1810.8448620 (161)\ttotal: 9.09s\tremaining: 2.13s\n",
            "162:\tlearn: 1809.4966439\ttest: 1809.9716844\tbest: 1809.9716844 (162)\ttotal: 9.15s\tremaining: 2.08s\n",
            "163:\tlearn: 1808.6249796\ttest: 1809.1418110\tbest: 1809.1418110 (163)\ttotal: 9.2s\tremaining: 2.02s\n",
            "164:\tlearn: 1807.7597536\ttest: 1808.4160324\tbest: 1808.4160324 (164)\ttotal: 9.24s\tremaining: 1.96s\n",
            "165:\tlearn: 1806.7000351\ttest: 1807.4574983\tbest: 1807.4574983 (165)\ttotal: 9.29s\tremaining: 1.9s\n",
            "166:\tlearn: 1805.7453168\ttest: 1806.6773938\tbest: 1806.6773938 (166)\ttotal: 9.35s\tremaining: 1.85s\n",
            "167:\tlearn: 1804.8202919\ttest: 1805.8152383\tbest: 1805.8152383 (167)\ttotal: 9.4s\tremaining: 1.79s\n",
            "168:\tlearn: 1803.7021450\ttest: 1804.9815512\tbest: 1804.9815512 (168)\ttotal: 9.45s\tremaining: 1.73s\n",
            "169:\tlearn: 1802.8596198\ttest: 1804.2965921\tbest: 1804.2965921 (169)\ttotal: 9.5s\tremaining: 1.68s\n",
            "170:\tlearn: 1801.8513118\ttest: 1803.3893105\tbest: 1803.3893105 (170)\ttotal: 9.55s\tremaining: 1.62s\n",
            "171:\tlearn: 1800.8999207\ttest: 1802.5279841\tbest: 1802.5279841 (171)\ttotal: 9.61s\tremaining: 1.56s\n",
            "172:\tlearn: 1799.9566045\ttest: 1801.6043083\tbest: 1801.6043083 (172)\ttotal: 9.66s\tremaining: 1.51s\n",
            "173:\tlearn: 1798.5017071\ttest: 1800.2929693\tbest: 1800.2929693 (173)\ttotal: 9.73s\tremaining: 1.45s\n",
            "174:\tlearn: 1797.1490122\ttest: 1799.1278264\tbest: 1799.1278264 (174)\ttotal: 9.79s\tremaining: 1.4s\n",
            "175:\tlearn: 1796.4047457\ttest: 1798.4485731\tbest: 1798.4485731 (175)\ttotal: 9.84s\tremaining: 1.34s\n",
            "176:\tlearn: 1795.6160904\ttest: 1797.7759714\tbest: 1797.7759714 (176)\ttotal: 9.9s\tremaining: 1.29s\n",
            "177:\tlearn: 1794.7213316\ttest: 1796.8775470\tbest: 1796.8775470 (177)\ttotal: 9.96s\tremaining: 1.23s\n",
            "178:\tlearn: 1794.1521368\ttest: 1796.3618618\tbest: 1796.3618618 (178)\ttotal: 10s\tremaining: 1.18s\n",
            "179:\tlearn: 1793.3415957\ttest: 1795.7116495\tbest: 1795.7116495 (179)\ttotal: 10.1s\tremaining: 1.12s\n",
            "180:\tlearn: 1792.0454628\ttest: 1794.4746919\tbest: 1794.4746919 (180)\ttotal: 10.1s\tremaining: 1.06s\n",
            "181:\tlearn: 1791.1030070\ttest: 1793.6770857\tbest: 1793.6770857 (181)\ttotal: 10.2s\tremaining: 1.01s\n",
            "182:\tlearn: 1790.0269175\ttest: 1792.5904655\tbest: 1792.5904655 (182)\ttotal: 10.2s\tremaining: 951ms\n",
            "183:\tlearn: 1789.2271417\ttest: 1791.9012225\tbest: 1791.9012225 (183)\ttotal: 10.3s\tremaining: 895ms\n",
            "184:\tlearn: 1788.4940050\ttest: 1791.3694905\tbest: 1791.3694905 (184)\ttotal: 10.3s\tremaining: 839ms\n",
            "185:\tlearn: 1787.6516625\ttest: 1790.6701524\tbest: 1790.6701524 (185)\ttotal: 10.4s\tremaining: 782ms\n",
            "186:\tlearn: 1786.8533373\ttest: 1789.9337082\tbest: 1789.9337082 (186)\ttotal: 10.4s\tremaining: 726ms\n",
            "187:\tlearn: 1785.9372513\ttest: 1789.1073364\tbest: 1789.1073364 (187)\ttotal: 10.5s\tremaining: 671ms\n",
            "188:\tlearn: 1785.2037273\ttest: 1788.4987409\tbest: 1788.4987409 (188)\ttotal: 10.6s\tremaining: 615ms\n",
            "189:\tlearn: 1784.1138251\ttest: 1787.5140056\tbest: 1787.5140056 (189)\ttotal: 10.6s\tremaining: 559ms\n",
            "190:\tlearn: 1783.3986061\ttest: 1786.8567364\tbest: 1786.8567364 (190)\ttotal: 10.7s\tremaining: 503ms\n",
            "191:\tlearn: 1782.5917308\ttest: 1786.2446652\tbest: 1786.2446652 (191)\ttotal: 10.7s\tremaining: 447ms\n",
            "192:\tlearn: 1781.4640594\ttest: 1785.2678527\tbest: 1785.2678527 (192)\ttotal: 10.8s\tremaining: 392ms\n",
            "193:\tlearn: 1780.3889802\ttest: 1784.4723393\tbest: 1784.4723393 (193)\ttotal: 10.9s\tremaining: 337ms\n",
            "194:\tlearn: 1779.6132452\ttest: 1783.7652978\tbest: 1783.7652978 (194)\ttotal: 10.9s\tremaining: 281ms\n",
            "195:\tlearn: 1778.9191042\ttest: 1783.1566033\tbest: 1783.1566033 (195)\ttotal: 11s\tremaining: 225ms\n",
            "196:\tlearn: 1778.4379966\ttest: 1782.7913759\tbest: 1782.7913759 (196)\ttotal: 11.1s\tremaining: 168ms\n",
            "197:\tlearn: 1777.5213896\ttest: 1781.9738109\tbest: 1781.9738109 (197)\ttotal: 11.1s\tremaining: 112ms\n",
            "198:\tlearn: 1776.6253063\ttest: 1781.2460229\tbest: 1781.2460229 (198)\ttotal: 11.2s\tremaining: 56.1ms\n",
            "199:\tlearn: 1776.1746402\ttest: 1780.9192012\tbest: 1780.9192012 (199)\ttotal: 11.2s\tremaining: 0us\n",
            "\n",
            "bestTest = 1780.919201\n",
            "bestIteration = 199\n",
            "\n",
            "8:\tloss: 1780.9192012\tbest: 1780.9192012 (8)\ttotal: 51s\tremaining: 0us\n",
            "Estimating final quality...\n",
            "Training on fold [0/3]\n",
            "0:\tlearn: 7162.1888146\ttest: 7186.6530634\tbest: 7186.6530634 (0)\ttotal: 70.8ms\tremaining: 14.1s\n",
            "1:\tlearn: 6975.5511700\ttest: 7000.1528437\tbest: 7000.1528437 (1)\ttotal: 163ms\tremaining: 16.2s\n",
            "2:\tlearn: 6793.3320206\ttest: 6817.8034814\tbest: 6817.8034814 (2)\ttotal: 228ms\tremaining: 15s\n",
            "3:\tlearn: 6618.3776566\ttest: 6642.4735407\tbest: 6642.4735407 (3)\ttotal: 299ms\tremaining: 14.6s\n",
            "4:\tlearn: 6448.4140830\ttest: 6472.6208050\tbest: 6472.6208050 (4)\ttotal: 354ms\tremaining: 13.8s\n",
            "5:\tlearn: 6286.1784771\ttest: 6310.4066746\tbest: 6310.4066746 (5)\ttotal: 395ms\tremaining: 12.8s\n",
            "6:\tlearn: 6128.9080143\ttest: 6152.5769623\tbest: 6152.5769623 (6)\ttotal: 442ms\tremaining: 12.2s\n",
            "7:\tlearn: 5975.8999814\ttest: 5999.2660808\tbest: 5999.2660808 (7)\ttotal: 486ms\tremaining: 11.7s\n",
            "8:\tlearn: 5827.4888468\ttest: 5850.7568627\tbest: 5850.7568627 (8)\ttotal: 540ms\tremaining: 11.5s\n",
            "9:\tlearn: 5684.6289468\ttest: 5708.1347921\tbest: 5708.1347921 (9)\ttotal: 584ms\tremaining: 11.1s\n",
            "10:\tlearn: 5545.0374738\ttest: 5568.8228937\tbest: 5568.8228937 (10)\ttotal: 632ms\tremaining: 10.9s\n",
            "11:\tlearn: 5413.5024164\ttest: 5437.4258716\tbest: 5437.4258716 (11)\ttotal: 674ms\tremaining: 10.6s\n",
            "12:\tlearn: 5282.8686823\ttest: 5306.7623354\tbest: 5306.7623354 (12)\ttotal: 717ms\tremaining: 10.3s\n",
            "13:\tlearn: 5155.7918853\ttest: 5179.4174421\tbest: 5179.4174421 (13)\ttotal: 764ms\tremaining: 10.1s\n",
            "14:\tlearn: 5032.9572677\ttest: 5056.5310834\tbest: 5056.5310834 (14)\ttotal: 812ms\tremaining: 10s\n",
            "15:\tlearn: 4914.3983241\ttest: 4938.0913868\tbest: 4938.0913868 (15)\ttotal: 859ms\tremaining: 9.88s\n",
            "16:\tlearn: 4800.2149751\ttest: 4824.0627172\tbest: 4824.0627172 (16)\ttotal: 912ms\tremaining: 9.82s\n",
            "17:\tlearn: 4690.4961184\ttest: 4714.3142495\tbest: 4714.3142495 (17)\ttotal: 963ms\tremaining: 9.74s\n",
            "18:\tlearn: 4583.7762539\ttest: 4607.7522240\tbest: 4607.7522240 (18)\ttotal: 1s\tremaining: 9.57s\n",
            "19:\tlearn: 4480.0902197\ttest: 4504.3593969\tbest: 4504.3593969 (19)\ttotal: 1.05s\tremaining: 9.49s\n",
            "20:\tlearn: 4380.4670822\ttest: 4404.9630286\tbest: 4404.9630286 (20)\ttotal: 1.09s\tremaining: 9.32s\n",
            "21:\tlearn: 4284.0976982\ttest: 4308.7552152\tbest: 4308.7552152 (21)\ttotal: 1.14s\tremaining: 9.23s\n",
            "22:\tlearn: 4190.9935479\ttest: 4215.6709993\tbest: 4215.6709993 (22)\ttotal: 1.18s\tremaining: 9.1s\n",
            "23:\tlearn: 4101.4102401\ttest: 4126.0612668\tbest: 4126.0612668 (23)\ttotal: 1.23s\tremaining: 9.04s\n",
            "24:\tlearn: 4014.2379354\ttest: 4038.9682452\tbest: 4038.9682452 (24)\ttotal: 1.27s\tremaining: 8.93s\n",
            "25:\tlearn: 3930.0436921\ttest: 3954.9943802\tbest: 3954.9943802 (25)\ttotal: 1.32s\tremaining: 8.84s\n",
            "26:\tlearn: 3849.9864011\ttest: 3875.0516806\tbest: 3875.0516806 (26)\ttotal: 1.36s\tremaining: 8.74s\n",
            "27:\tlearn: 3772.0148009\ttest: 3797.0907979\tbest: 3797.0907979 (27)\ttotal: 1.4s\tremaining: 8.62s\n",
            "28:\tlearn: 3697.0563112\ttest: 3722.1066679\tbest: 3722.1066679 (28)\ttotal: 1.46s\tremaining: 8.6s\n",
            "29:\tlearn: 3625.6924936\ttest: 3650.9044869\tbest: 3650.9044869 (29)\ttotal: 1.5s\tremaining: 8.5s\n",
            "30:\tlearn: 3556.2493349\ttest: 3581.3913967\tbest: 3581.3913967 (30)\ttotal: 1.56s\tremaining: 8.51s\n",
            "31:\tlearn: 3489.0921421\ttest: 3514.4138665\tbest: 3514.4138665 (31)\ttotal: 1.62s\tremaining: 8.53s\n",
            "32:\tlearn: 3425.2348375\ttest: 3450.7647455\tbest: 3450.7647455 (32)\ttotal: 1.68s\tremaining: 8.51s\n",
            "33:\tlearn: 3362.4347096\ttest: 3388.1926327\tbest: 3388.1926327 (33)\ttotal: 1.73s\tremaining: 8.47s\n",
            "34:\tlearn: 3303.7116964\ttest: 3329.6454668\tbest: 3329.6454668 (34)\ttotal: 1.78s\tremaining: 8.4s\n",
            "35:\tlearn: 3245.0248152\ttest: 3271.0232674\tbest: 3271.0232674 (35)\ttotal: 1.84s\tremaining: 8.38s\n",
            "36:\tlearn: 3189.3107794\ttest: 3215.5567712\tbest: 3215.5567712 (36)\ttotal: 1.89s\tremaining: 8.31s\n",
            "37:\tlearn: 3135.6990909\ttest: 3162.1627706\tbest: 3162.1627706 (37)\ttotal: 1.94s\tremaining: 8.28s\n",
            "38:\tlearn: 3082.4496349\ttest: 3109.1016391\tbest: 3109.1016391 (38)\ttotal: 2s\tremaining: 8.24s\n",
            "39:\tlearn: 3033.7090179\ttest: 3060.3664444\tbest: 3060.3664444 (39)\ttotal: 2.04s\tremaining: 8.18s\n",
            "40:\tlearn: 2984.0070694\ttest: 3010.6900873\tbest: 3010.6900873 (40)\ttotal: 2.09s\tremaining: 8.09s\n",
            "41:\tlearn: 2937.4090468\ttest: 2964.2996809\tbest: 2964.2996809 (41)\ttotal: 2.13s\tremaining: 8.03s\n",
            "42:\tlearn: 2892.0130632\ttest: 2918.6829039\tbest: 2918.6829039 (42)\ttotal: 2.18s\tremaining: 7.95s\n",
            "43:\tlearn: 2849.6364558\ttest: 2876.4521559\tbest: 2876.4521559 (43)\ttotal: 2.22s\tremaining: 7.89s\n",
            "44:\tlearn: 2807.7421916\ttest: 2834.4184308\tbest: 2834.4184308 (44)\ttotal: 2.27s\tremaining: 7.8s\n",
            "45:\tlearn: 2768.6214937\ttest: 2795.5029757\tbest: 2795.5029757 (45)\ttotal: 2.31s\tremaining: 7.72s\n",
            "46:\tlearn: 2730.8964399\ttest: 2757.7084671\tbest: 2757.7084671 (46)\ttotal: 2.35s\tremaining: 7.65s\n",
            "47:\tlearn: 2693.7713090\ttest: 2720.6769485\tbest: 2720.6769485 (47)\ttotal: 2.39s\tremaining: 7.57s\n",
            "48:\tlearn: 2658.4431055\ttest: 2685.6002890\tbest: 2685.6002890 (48)\ttotal: 2.44s\tremaining: 7.52s\n",
            "49:\tlearn: 2624.6307821\ttest: 2651.7785094\tbest: 2651.7785094 (49)\ttotal: 2.48s\tremaining: 7.46s\n",
            "50:\tlearn: 2593.0231651\ttest: 2620.2626394\tbest: 2620.2626394 (50)\ttotal: 2.54s\tremaining: 7.42s\n",
            "51:\tlearn: 2562.5344085\ttest: 2589.6787299\tbest: 2589.6787299 (51)\ttotal: 2.59s\tremaining: 7.36s\n",
            "52:\tlearn: 2533.7220960\ttest: 2560.7770446\tbest: 2560.7770446 (52)\ttotal: 2.64s\tremaining: 7.32s\n",
            "53:\tlearn: 2506.1405014\ttest: 2533.3955430\tbest: 2533.3955430 (53)\ttotal: 2.68s\tremaining: 7.25s\n",
            "54:\tlearn: 2479.0347989\ttest: 2506.4487869\tbest: 2506.4487869 (54)\ttotal: 2.73s\tremaining: 7.2s\n",
            "55:\tlearn: 2453.0036517\ttest: 2480.4059335\tbest: 2480.4059335 (55)\ttotal: 2.77s\tremaining: 7.13s\n",
            "56:\tlearn: 2427.1577718\ttest: 2454.5364337\tbest: 2454.5364337 (56)\ttotal: 2.84s\tremaining: 7.13s\n",
            "57:\tlearn: 2403.2689950\ttest: 2430.8033981\tbest: 2430.8033981 (57)\ttotal: 2.88s\tremaining: 7.05s\n",
            "58:\tlearn: 2380.5514866\ttest: 2408.2381604\tbest: 2408.2381604 (58)\ttotal: 2.94s\tremaining: 7.02s\n",
            "59:\tlearn: 2357.5362348\ttest: 2385.2679147\tbest: 2385.2679147 (59)\ttotal: 2.98s\tremaining: 6.95s\n",
            "60:\tlearn: 2336.3807244\ttest: 2364.2610582\tbest: 2364.2610582 (60)\ttotal: 3.04s\tremaining: 6.94s\n",
            "61:\tlearn: 2315.6404746\ttest: 2343.4675817\tbest: 2343.4675817 (61)\ttotal: 3.1s\tremaining: 6.9s\n",
            "62:\tlearn: 2296.2972022\ttest: 2324.2069278\tbest: 2324.2069278 (62)\ttotal: 3.15s\tremaining: 6.84s\n",
            "63:\tlearn: 2277.9056369\ttest: 2305.6380276\tbest: 2305.6380276 (63)\ttotal: 3.19s\tremaining: 6.77s\n",
            "64:\tlearn: 2259.2566065\ttest: 2287.0297179\tbest: 2287.0297179 (64)\ttotal: 3.23s\tremaining: 6.71s\n",
            "65:\tlearn: 2242.1960737\ttest: 2270.0125255\tbest: 2270.0125255 (65)\ttotal: 3.27s\tremaining: 6.64s\n",
            "66:\tlearn: 2225.7897563\ttest: 2253.6777909\tbest: 2253.6777909 (66)\ttotal: 3.32s\tremaining: 6.59s\n",
            "67:\tlearn: 2210.1163069\ttest: 2237.9970321\tbest: 2237.9970321 (67)\ttotal: 3.36s\tremaining: 6.53s\n",
            "68:\tlearn: 2195.2201601\ttest: 2223.1653920\tbest: 2223.1653920 (68)\ttotal: 3.4s\tremaining: 6.46s\n",
            "69:\tlearn: 2181.2425912\ttest: 2209.2705797\tbest: 2209.2705797 (69)\ttotal: 3.44s\tremaining: 6.4s\n",
            "70:\tlearn: 2166.9958195\ttest: 2195.0934302\tbest: 2195.0934302 (70)\ttotal: 3.48s\tremaining: 6.33s\n",
            "71:\tlearn: 2153.5268777\ttest: 2181.7474384\tbest: 2181.7474384 (71)\ttotal: 3.54s\tremaining: 6.29s\n",
            "72:\tlearn: 2141.0758693\ttest: 2169.3380875\tbest: 2169.3380875 (72)\ttotal: 3.58s\tremaining: 6.23s\n",
            "73:\tlearn: 2128.7000376\ttest: 2156.9778768\tbest: 2156.9778768 (73)\ttotal: 3.63s\tremaining: 6.18s\n",
            "74:\tlearn: 2117.3871806\ttest: 2145.7070668\tbest: 2145.7070668 (74)\ttotal: 3.68s\tremaining: 6.13s\n",
            "75:\tlearn: 2105.6538328\ttest: 2133.9735590\tbest: 2133.9735590 (75)\ttotal: 3.73s\tremaining: 6.08s\n",
            "76:\tlearn: 2095.4419538\ttest: 2123.8733937\tbest: 2123.8733937 (76)\ttotal: 3.77s\tremaining: 6.02s\n",
            "77:\tlearn: 2085.5281827\ttest: 2113.9850754\tbest: 2113.9850754 (77)\ttotal: 3.81s\tremaining: 5.96s\n",
            "78:\tlearn: 2075.2150622\ttest: 2103.8051882\tbest: 2103.8051882 (78)\ttotal: 3.85s\tremaining: 5.9s\n",
            "79:\tlearn: 2065.4000752\ttest: 2094.0851269\tbest: 2094.0851269 (79)\ttotal: 3.89s\tremaining: 5.84s\n",
            "80:\tlearn: 2055.8599313\ttest: 2084.5623700\tbest: 2084.5623700 (80)\ttotal: 3.94s\tremaining: 5.79s\n",
            "81:\tlearn: 2047.5062269\ttest: 2076.1559555\tbest: 2076.1559555 (81)\ttotal: 3.98s\tremaining: 5.73s\n",
            "82:\tlearn: 2038.3405587\ttest: 2067.1135642\tbest: 2067.1135642 (82)\ttotal: 4.03s\tremaining: 5.68s\n",
            "83:\tlearn: 2029.3756491\ttest: 2058.1137271\tbest: 2058.1137271 (83)\ttotal: 4.08s\tremaining: 5.63s\n",
            "84:\tlearn: 2021.9099501\ttest: 2050.8002350\tbest: 2050.8002350 (84)\ttotal: 4.13s\tremaining: 5.58s\n",
            "85:\tlearn: 2014.5037173\ttest: 2043.3783066\tbest: 2043.3783066 (85)\ttotal: 4.17s\tremaining: 5.52s\n",
            "86:\tlearn: 2006.9630284\ttest: 2036.1042765\tbest: 2036.1042765 (86)\ttotal: 4.21s\tremaining: 5.47s\n",
            "87:\tlearn: 2000.3575123\ttest: 2029.6076861\tbest: 2029.6076861 (87)\ttotal: 4.26s\tremaining: 5.42s\n",
            "88:\tlearn: 1993.1514927\ttest: 2022.4521065\tbest: 2022.4521065 (88)\ttotal: 4.3s\tremaining: 5.36s\n",
            "89:\tlearn: 1986.9990213\ttest: 2016.3765043\tbest: 2016.3765043 (89)\ttotal: 4.34s\tremaining: 5.31s\n",
            "90:\tlearn: 1980.8795943\ttest: 2010.2802016\tbest: 2010.2802016 (90)\ttotal: 4.39s\tremaining: 5.25s\n",
            "91:\tlearn: 1974.6951083\ttest: 2004.2711257\tbest: 2004.2711257 (91)\ttotal: 4.44s\tremaining: 5.21s\n",
            "92:\tlearn: 1969.4863483\ttest: 1999.0105842\tbest: 1999.0105842 (92)\ttotal: 4.48s\tremaining: 5.16s\n",
            "93:\tlearn: 1964.2625183\ttest: 1993.9252565\tbest: 1993.9252565 (93)\ttotal: 4.54s\tremaining: 5.12s\n",
            "94:\tlearn: 1958.0900582\ttest: 1987.7602192\tbest: 1987.7602192 (94)\ttotal: 4.58s\tremaining: 5.06s\n",
            "95:\tlearn: 1953.2475879\ttest: 1982.9466866\tbest: 1982.9466866 (95)\ttotal: 4.63s\tremaining: 5.02s\n",
            "96:\tlearn: 1948.2536229\ttest: 1977.9724946\tbest: 1977.9724946 (96)\ttotal: 4.68s\tremaining: 4.96s\n",
            "97:\tlearn: 1943.6289698\ttest: 1973.4661758\tbest: 1973.4661758 (97)\ttotal: 4.73s\tremaining: 4.92s\n",
            "98:\tlearn: 1939.1284395\ttest: 1969.0331947\tbest: 1969.0331947 (98)\ttotal: 4.77s\tremaining: 4.87s\n",
            "99:\tlearn: 1934.5670020\ttest: 1964.5285630\tbest: 1964.5285630 (99)\ttotal: 4.82s\tremaining: 4.82s\n",
            "100:\tlearn: 1930.5132915\ttest: 1960.5462487\tbest: 1960.5462487 (100)\ttotal: 4.86s\tremaining: 4.77s\n",
            "101:\tlearn: 1926.4716636\ttest: 1956.6359281\tbest: 1956.6359281 (101)\ttotal: 4.91s\tremaining: 4.72s\n",
            "102:\tlearn: 1922.8007808\ttest: 1952.9779984\tbest: 1952.9779984 (102)\ttotal: 4.96s\tremaining: 4.67s\n",
            "103:\tlearn: 1918.9033242\ttest: 1949.0591965\tbest: 1949.0591965 (103)\ttotal: 5.01s\tremaining: 4.63s\n",
            "104:\tlearn: 1915.1603342\ttest: 1945.3469855\tbest: 1945.3469855 (104)\ttotal: 5.06s\tremaining: 4.58s\n",
            "105:\tlearn: 1911.1720354\ttest: 1941.4670057\tbest: 1941.4670057 (105)\ttotal: 5.11s\tremaining: 4.53s\n",
            "106:\tlearn: 1908.0241537\ttest: 1938.3796486\tbest: 1938.3796486 (106)\ttotal: 5.16s\tremaining: 4.48s\n",
            "107:\tlearn: 1904.2633391\ttest: 1934.7928562\tbest: 1934.7928562 (107)\ttotal: 5.21s\tremaining: 4.43s\n",
            "108:\tlearn: 1900.2436609\ttest: 1930.7997679\tbest: 1930.7997679 (108)\ttotal: 5.26s\tremaining: 4.39s\n",
            "109:\tlearn: 1896.8824466\ttest: 1927.6035234\tbest: 1927.6035234 (109)\ttotal: 5.32s\tremaining: 4.35s\n",
            "110:\tlearn: 1894.0056913\ttest: 1924.7534686\tbest: 1924.7534686 (110)\ttotal: 5.36s\tremaining: 4.3s\n",
            "111:\tlearn: 1890.8861523\ttest: 1921.6981545\tbest: 1921.6981545 (111)\ttotal: 5.42s\tremaining: 4.26s\n",
            "112:\tlearn: 1888.2742539\ttest: 1919.1234767\tbest: 1919.1234767 (112)\ttotal: 5.46s\tremaining: 4.21s\n",
            "113:\tlearn: 1885.2981880\ttest: 1916.1921221\tbest: 1916.1921221 (113)\ttotal: 5.51s\tremaining: 4.16s\n",
            "114:\tlearn: 1882.2705292\ttest: 1913.2818970\tbest: 1913.2818970 (114)\ttotal: 5.56s\tremaining: 4.11s\n",
            "115:\tlearn: 1879.9270875\ttest: 1910.9639092\tbest: 1910.9639092 (115)\ttotal: 5.61s\tremaining: 4.06s\n",
            "116:\tlearn: 1877.6080367\ttest: 1908.6609931\tbest: 1908.6609931 (116)\ttotal: 5.65s\tremaining: 4.01s\n",
            "117:\tlearn: 1875.1456476\ttest: 1906.1576710\tbest: 1906.1576710 (117)\ttotal: 5.7s\tremaining: 3.96s\n",
            "118:\tlearn: 1872.3185301\ttest: 1903.3165208\tbest: 1903.3165208 (118)\ttotal: 5.74s\tremaining: 3.91s\n",
            "119:\tlearn: 1869.7249928\ttest: 1900.8883757\tbest: 1900.8883757 (119)\ttotal: 5.79s\tremaining: 3.86s\n",
            "120:\tlearn: 1867.7919477\ttest: 1899.0114489\tbest: 1899.0114489 (120)\ttotal: 5.84s\tremaining: 3.81s\n",
            "121:\tlearn: 1865.0305734\ttest: 1896.5319981\tbest: 1896.5319981 (121)\ttotal: 5.88s\tremaining: 3.76s\n",
            "122:\tlearn: 1862.6339316\ttest: 1894.3137885\tbest: 1894.3137885 (122)\ttotal: 5.93s\tremaining: 3.71s\n",
            "123:\tlearn: 1860.3552305\ttest: 1892.1960266\tbest: 1892.1960266 (123)\ttotal: 5.97s\tremaining: 3.66s\n",
            "124:\tlearn: 1857.7181169\ttest: 1889.6348727\tbest: 1889.6348727 (124)\ttotal: 6.02s\tremaining: 3.61s\n",
            "125:\tlearn: 1855.1903663\ttest: 1887.1306075\tbest: 1887.1306075 (125)\ttotal: 6.07s\tremaining: 3.56s\n",
            "126:\tlearn: 1852.9528782\ttest: 1885.0803908\tbest: 1885.0803908 (126)\ttotal: 6.13s\tremaining: 3.52s\n",
            "127:\tlearn: 1851.2500302\ttest: 1883.5171529\tbest: 1883.5171529 (127)\ttotal: 6.17s\tremaining: 3.47s\n",
            "128:\tlearn: 1848.7807425\ttest: 1881.1514595\tbest: 1881.1514595 (128)\ttotal: 6.22s\tremaining: 3.42s\n",
            "129:\tlearn: 1846.9250842\ttest: 1879.3376871\tbest: 1879.3376871 (129)\ttotal: 6.26s\tremaining: 3.37s\n",
            "130:\tlearn: 1845.3823248\ttest: 1877.8090908\tbest: 1877.8090908 (130)\ttotal: 6.32s\tremaining: 3.33s\n",
            "131:\tlearn: 1843.6522072\ttest: 1876.1473549\tbest: 1876.1473549 (131)\ttotal: 6.36s\tremaining: 3.27s\n",
            "132:\tlearn: 1841.9668849\ttest: 1874.4744623\tbest: 1874.4744623 (132)\ttotal: 6.41s\tremaining: 3.23s\n",
            "133:\tlearn: 1840.3540879\ttest: 1873.0829915\tbest: 1873.0829915 (133)\ttotal: 6.45s\tremaining: 3.18s\n",
            "134:\tlearn: 1838.6841529\ttest: 1871.6391859\tbest: 1871.6391859 (134)\ttotal: 6.5s\tremaining: 3.13s\n",
            "135:\tlearn: 1836.8965981\ttest: 1869.8690192\tbest: 1869.8690192 (135)\ttotal: 6.55s\tremaining: 3.08s\n",
            "136:\tlearn: 1835.2024649\ttest: 1868.3267952\tbest: 1868.3267952 (136)\ttotal: 6.6s\tremaining: 3.04s\n",
            "137:\tlearn: 1833.9455388\ttest: 1867.3333326\tbest: 1867.3333326 (137)\ttotal: 6.64s\tremaining: 2.98s\n",
            "138:\tlearn: 1832.0013193\ttest: 1865.6201921\tbest: 1865.6201921 (138)\ttotal: 6.69s\tremaining: 2.94s\n",
            "139:\tlearn: 1830.8317383\ttest: 1864.4993123\tbest: 1864.4993123 (139)\ttotal: 6.74s\tremaining: 2.89s\n",
            "140:\tlearn: 1828.8646691\ttest: 1862.6797742\tbest: 1862.6797742 (140)\ttotal: 6.79s\tremaining: 2.84s\n",
            "141:\tlearn: 1827.2448187\ttest: 1861.2260575\tbest: 1861.2260575 (141)\ttotal: 6.83s\tremaining: 2.79s\n",
            "142:\tlearn: 1826.0015604\ttest: 1859.9797588\tbest: 1859.9797588 (142)\ttotal: 6.88s\tremaining: 2.74s\n",
            "143:\tlearn: 1824.5943366\ttest: 1858.6540346\tbest: 1858.6540346 (143)\ttotal: 6.93s\tremaining: 2.69s\n",
            "144:\tlearn: 1823.3856195\ttest: 1857.5102402\tbest: 1857.5102402 (144)\ttotal: 6.97s\tremaining: 2.64s\n",
            "145:\tlearn: 1822.2251660\ttest: 1856.4592428\tbest: 1856.4592428 (145)\ttotal: 7.02s\tremaining: 2.6s\n",
            "146:\tlearn: 1821.0330732\ttest: 1855.3926052\tbest: 1855.3926052 (146)\ttotal: 7.06s\tremaining: 2.55s\n",
            "147:\tlearn: 1819.8265436\ttest: 1854.2118820\tbest: 1854.2118820 (147)\ttotal: 7.11s\tremaining: 2.5s\n",
            "148:\tlearn: 1818.5342515\ttest: 1853.0663490\tbest: 1853.0663490 (148)\ttotal: 7.16s\tremaining: 2.45s\n",
            "149:\tlearn: 1817.2820457\ttest: 1851.8205925\tbest: 1851.8205925 (149)\ttotal: 7.21s\tremaining: 2.4s\n",
            "150:\tlearn: 1815.5893339\ttest: 1850.4714370\tbest: 1850.4714370 (150)\ttotal: 7.26s\tremaining: 2.35s\n",
            "151:\tlearn: 1814.5708032\ttest: 1849.5355014\tbest: 1849.5355014 (151)\ttotal: 7.31s\tremaining: 2.31s\n",
            "152:\tlearn: 1813.4658681\ttest: 1848.5219377\tbest: 1848.5219377 (152)\ttotal: 7.35s\tremaining: 2.26s\n",
            "153:\tlearn: 1812.5474114\ttest: 1847.6243239\tbest: 1847.6243239 (153)\ttotal: 7.4s\tremaining: 2.21s\n",
            "154:\tlearn: 1811.0265280\ttest: 1846.1299992\tbest: 1846.1299992 (154)\ttotal: 7.45s\tremaining: 2.16s\n",
            "155:\tlearn: 1809.9712536\ttest: 1845.2825091\tbest: 1845.2825091 (155)\ttotal: 7.49s\tremaining: 2.11s\n",
            "156:\tlearn: 1809.2240025\ttest: 1844.5912340\tbest: 1844.5912340 (156)\ttotal: 7.54s\tremaining: 2.06s\n",
            "157:\tlearn: 1808.0821235\ttest: 1843.5277746\tbest: 1843.5277746 (157)\ttotal: 7.58s\tremaining: 2.02s\n",
            "158:\tlearn: 1807.0841490\ttest: 1842.6355290\tbest: 1842.6355290 (158)\ttotal: 7.63s\tremaining: 1.97s\n",
            "159:\tlearn: 1806.0437850\ttest: 1841.6385135\tbest: 1841.6385135 (159)\ttotal: 7.67s\tremaining: 1.92s\n",
            "160:\tlearn: 1804.6403634\ttest: 1840.3450538\tbest: 1840.3450538 (160)\ttotal: 7.72s\tremaining: 1.87s\n",
            "161:\tlearn: 1803.9301815\ttest: 1839.6902662\tbest: 1839.6902662 (161)\ttotal: 7.77s\tremaining: 1.82s\n",
            "162:\tlearn: 1802.3398749\ttest: 1838.2822668\tbest: 1838.2822668 (162)\ttotal: 7.82s\tremaining: 1.77s\n",
            "163:\tlearn: 1801.3193367\ttest: 1837.4294204\tbest: 1837.4294204 (163)\ttotal: 7.87s\tremaining: 1.73s\n",
            "164:\tlearn: 1799.7850896\ttest: 1836.1739578\tbest: 1836.1739578 (164)\ttotal: 7.92s\tremaining: 1.68s\n",
            "165:\tlearn: 1798.4618380\ttest: 1835.0246476\tbest: 1835.0246476 (165)\ttotal: 7.96s\tremaining: 1.63s\n",
            "166:\tlearn: 1797.6297547\ttest: 1834.2305849\tbest: 1834.2305849 (166)\ttotal: 8.01s\tremaining: 1.58s\n",
            "167:\tlearn: 1796.3494275\ttest: 1833.0079386\tbest: 1833.0079386 (167)\ttotal: 8.06s\tremaining: 1.53s\n",
            "168:\tlearn: 1795.1994385\ttest: 1832.0979136\tbest: 1832.0979136 (168)\ttotal: 8.11s\tremaining: 1.49s\n",
            "169:\tlearn: 1794.2106124\ttest: 1831.3130408\tbest: 1831.3130408 (169)\ttotal: 8.15s\tremaining: 1.44s\n",
            "170:\tlearn: 1792.8701218\ttest: 1830.1115688\tbest: 1830.1115688 (170)\ttotal: 8.21s\tremaining: 1.39s\n",
            "171:\tlearn: 1791.8019893\ttest: 1829.2037380\tbest: 1829.2037380 (171)\ttotal: 8.26s\tremaining: 1.34s\n",
            "172:\tlearn: 1790.6626231\ttest: 1828.2657865\tbest: 1828.2657865 (172)\ttotal: 8.31s\tremaining: 1.3s\n",
            "173:\tlearn: 1789.9747273\ttest: 1827.7090965\tbest: 1827.7090965 (173)\ttotal: 8.36s\tremaining: 1.25s\n",
            "174:\tlearn: 1789.2305213\ttest: 1827.1122081\tbest: 1827.1122081 (174)\ttotal: 8.41s\tremaining: 1.2s\n",
            "175:\tlearn: 1788.1414631\ttest: 1826.0519853\tbest: 1826.0519853 (175)\ttotal: 8.45s\tremaining: 1.15s\n",
            "176:\tlearn: 1786.9102820\ttest: 1824.9710980\tbest: 1824.9710980 (176)\ttotal: 8.51s\tremaining: 1.1s\n",
            "177:\tlearn: 1786.2160211\ttest: 1824.4130681\tbest: 1824.4130681 (177)\ttotal: 8.55s\tremaining: 1.06s\n",
            "178:\tlearn: 1785.3436152\ttest: 1823.7625257\tbest: 1823.7625257 (178)\ttotal: 8.61s\tremaining: 1.01s\n",
            "179:\tlearn: 1784.0785469\ttest: 1822.7047631\tbest: 1822.7047631 (179)\ttotal: 8.66s\tremaining: 963ms\n",
            "180:\tlearn: 1782.9906331\ttest: 1821.7998520\tbest: 1821.7998520 (180)\ttotal: 8.72s\tremaining: 915ms\n",
            "181:\tlearn: 1782.4447798\ttest: 1821.4025006\tbest: 1821.4025006 (181)\ttotal: 8.76s\tremaining: 867ms\n",
            "182:\tlearn: 1781.0567667\ttest: 1820.3179883\tbest: 1820.3179883 (182)\ttotal: 8.81s\tremaining: 819ms\n",
            "183:\tlearn: 1780.4266154\ttest: 1819.7656490\tbest: 1819.7656490 (183)\ttotal: 8.86s\tremaining: 770ms\n",
            "184:\tlearn: 1779.7189673\ttest: 1819.1510800\tbest: 1819.1510800 (184)\ttotal: 8.91s\tremaining: 722ms\n",
            "185:\tlearn: 1778.9826018\ttest: 1818.5681783\tbest: 1818.5681783 (185)\ttotal: 8.95s\tremaining: 674ms\n",
            "186:\tlearn: 1777.9508611\ttest: 1817.8012948\tbest: 1817.8012948 (186)\ttotal: 9s\tremaining: 626ms\n",
            "187:\tlearn: 1777.0630793\ttest: 1817.0833363\tbest: 1817.0833363 (187)\ttotal: 9.04s\tremaining: 577ms\n",
            "188:\tlearn: 1776.4092552\ttest: 1816.5106393\tbest: 1816.5106393 (188)\ttotal: 9.09s\tremaining: 529ms\n",
            "189:\tlearn: 1775.5249361\ttest: 1815.7149169\tbest: 1815.7149169 (189)\ttotal: 9.14s\tremaining: 481ms\n",
            "190:\tlearn: 1774.8660566\ttest: 1815.1347484\tbest: 1815.1347484 (190)\ttotal: 9.2s\tremaining: 433ms\n",
            "191:\tlearn: 1773.8738211\ttest: 1814.4428037\tbest: 1814.4428037 (191)\ttotal: 9.24s\tremaining: 385ms\n",
            "192:\tlearn: 1772.7312451\ttest: 1813.5512364\tbest: 1813.5512364 (192)\ttotal: 9.3s\tremaining: 337ms\n",
            "193:\tlearn: 1772.1716411\ttest: 1813.0351453\tbest: 1813.0351453 (193)\ttotal: 9.34s\tremaining: 289ms\n",
            "194:\tlearn: 1771.5114486\ttest: 1812.4836734\tbest: 1812.4836734 (194)\ttotal: 9.4s\tremaining: 241ms\n",
            "195:\tlearn: 1770.8887349\ttest: 1812.0113852\tbest: 1812.0113852 (195)\ttotal: 9.45s\tremaining: 193ms\n",
            "196:\tlearn: 1770.1139275\ttest: 1811.4440098\tbest: 1811.4440098 (196)\ttotal: 9.5s\tremaining: 145ms\n",
            "197:\tlearn: 1769.0732413\ttest: 1810.7401802\tbest: 1810.7401802 (197)\ttotal: 9.54s\tremaining: 96.4ms\n",
            "198:\tlearn: 1767.6290047\ttest: 1809.6465878\tbest: 1809.6465878 (198)\ttotal: 9.6s\tremaining: 48.2ms\n",
            "199:\tlearn: 1766.7827866\ttest: 1808.8399985\tbest: 1808.8399985 (199)\ttotal: 9.64s\tremaining: 0us\n",
            "\n",
            "bestTest = 1808.839998\n",
            "bestIteration = 199\n",
            "\n",
            "Training on fold [1/3]\n",
            "0:\tlearn: 7185.4723227\ttest: 7138.8542279\tbest: 7138.8542279 (0)\ttotal: 53.7ms\tremaining: 10.7s\n",
            "1:\tlearn: 6996.9360737\ttest: 6951.0685279\tbest: 6951.0685279 (1)\ttotal: 106ms\tremaining: 10.4s\n",
            "2:\tlearn: 6812.8246406\ttest: 6767.5698485\tbest: 6767.5698485 (2)\ttotal: 163ms\tremaining: 10.7s\n",
            "3:\tlearn: 6639.0821186\ttest: 6594.1559731\tbest: 6594.1559731 (3)\ttotal: 225ms\tremaining: 11s\n",
            "4:\tlearn: 6469.0818000\ttest: 6424.6256758\tbest: 6424.6256758 (4)\ttotal: 292ms\tremaining: 11.4s\n",
            "5:\tlearn: 6304.5398025\ttest: 6260.7295083\tbest: 6260.7295083 (5)\ttotal: 340ms\tremaining: 11s\n",
            "6:\tlearn: 6145.3869657\ttest: 6101.9450009\tbest: 6101.9450009 (6)\ttotal: 383ms\tremaining: 10.6s\n",
            "7:\tlearn: 5991.6116417\ttest: 5948.9632026\tbest: 5948.9632026 (7)\ttotal: 434ms\tremaining: 10.4s\n",
            "8:\tlearn: 5842.6168309\ttest: 5800.5652905\tbest: 5800.5652905 (8)\ttotal: 477ms\tremaining: 10.1s\n",
            "9:\tlearn: 5699.7956860\ttest: 5658.2909610\tbest: 5658.2909610 (9)\ttotal: 546ms\tremaining: 10.4s\n",
            "10:\tlearn: 5559.1145375\ttest: 5518.4173431\tbest: 5518.4173431 (10)\ttotal: 621ms\tremaining: 10.7s\n",
            "11:\tlearn: 5425.7078009\ttest: 5385.5207421\tbest: 5385.5207421 (11)\ttotal: 686ms\tremaining: 10.7s\n",
            "12:\tlearn: 5296.2561519\ttest: 5256.5836252\tbest: 5256.5836252 (12)\ttotal: 740ms\tremaining: 10.6s\n",
            "13:\tlearn: 5168.8451457\ttest: 5129.9993062\tbest: 5129.9993062 (13)\ttotal: 783ms\tremaining: 10.4s\n",
            "14:\tlearn: 5047.0122010\ttest: 5008.5636302\tbest: 5008.5636302 (14)\ttotal: 836ms\tremaining: 10.3s\n",
            "15:\tlearn: 4928.8511639\ttest: 4890.9929047\tbest: 4890.9929047 (15)\ttotal: 879ms\tremaining: 10.1s\n",
            "16:\tlearn: 4815.1355263\ttest: 4777.6327692\tbest: 4777.6327692 (16)\ttotal: 928ms\tremaining: 9.99s\n",
            "17:\tlearn: 4706.0332754\ttest: 4669.0318570\tbest: 4669.0318570 (17)\ttotal: 974ms\tremaining: 9.85s\n",
            "18:\tlearn: 4599.2461374\ttest: 4562.9069200\tbest: 4562.9069200 (18)\ttotal: 1.03s\tremaining: 9.87s\n",
            "19:\tlearn: 4494.7076535\ttest: 4458.5489550\tbest: 4458.5489550 (19)\ttotal: 1.08s\tremaining: 9.71s\n",
            "20:\tlearn: 4396.1449315\ttest: 4360.3607221\tbest: 4360.3607221 (20)\ttotal: 1.13s\tremaining: 9.65s\n",
            "21:\tlearn: 4300.1249349\ttest: 4264.5489425\tbest: 4264.5489425 (21)\ttotal: 1.18s\tremaining: 9.52s\n",
            "22:\tlearn: 4204.9052186\ttest: 4169.8605924\tbest: 4169.8605924 (22)\ttotal: 1.22s\tremaining: 9.42s\n",
            "23:\tlearn: 4113.9765906\ttest: 4079.4899532\tbest: 4079.4899532 (23)\ttotal: 1.27s\tremaining: 9.29s\n",
            "24:\tlearn: 4027.3350596\ttest: 3993.6027594\tbest: 3993.6027594 (24)\ttotal: 1.31s\tremaining: 9.19s\n",
            "25:\tlearn: 3945.5277831\ttest: 3912.2186021\tbest: 3912.2186021 (25)\ttotal: 1.36s\tremaining: 9.08s\n",
            "26:\tlearn: 3867.2164632\ttest: 3834.4576818\tbest: 3834.4576818 (26)\ttotal: 1.4s\tremaining: 8.96s\n",
            "27:\tlearn: 3788.3361933\ttest: 3756.0459113\tbest: 3756.0459113 (27)\ttotal: 1.45s\tremaining: 8.9s\n",
            "28:\tlearn: 3711.6888175\ttest: 3680.3550377\tbest: 3680.3550377 (28)\ttotal: 1.5s\tremaining: 8.87s\n",
            "29:\tlearn: 3638.0400515\ttest: 3607.3641610\tbest: 3607.3641610 (29)\ttotal: 1.55s\tremaining: 8.81s\n",
            "30:\tlearn: 3568.5781417\ttest: 3538.7333032\tbest: 3538.7333032 (30)\ttotal: 1.6s\tremaining: 8.72s\n",
            "31:\tlearn: 3501.2884629\ttest: 3472.2386306\tbest: 3472.2386306 (31)\ttotal: 1.65s\tremaining: 8.66s\n",
            "32:\tlearn: 3436.7174167\ttest: 3408.2604537\tbest: 3408.2604537 (32)\ttotal: 1.69s\tremaining: 8.56s\n",
            "33:\tlearn: 3373.9305438\ttest: 3346.0962191\tbest: 3346.0962191 (33)\ttotal: 1.75s\tremaining: 8.56s\n",
            "34:\tlearn: 3314.1613001\ttest: 3286.8416837\tbest: 3286.8416837 (34)\ttotal: 1.81s\tremaining: 8.55s\n",
            "35:\tlearn: 3256.1501037\ttest: 3229.4061671\tbest: 3229.4061671 (35)\ttotal: 1.87s\tremaining: 8.53s\n",
            "36:\tlearn: 3200.5579758\ttest: 3174.1110806\tbest: 3174.1110806 (36)\ttotal: 1.93s\tremaining: 8.49s\n",
            "37:\tlearn: 3146.5280890\ttest: 3120.3084874\tbest: 3120.3084874 (37)\ttotal: 1.98s\tremaining: 8.43s\n",
            "38:\tlearn: 3093.9115492\ttest: 3068.1696468\tbest: 3068.1696468 (38)\ttotal: 2.03s\tremaining: 8.4s\n",
            "39:\tlearn: 3044.8503177\ttest: 3019.8786796\tbest: 3019.8786796 (39)\ttotal: 2.1s\tremaining: 8.39s\n",
            "40:\tlearn: 2995.7374687\ttest: 2971.3195042\tbest: 2971.3195042 (40)\ttotal: 2.16s\tremaining: 8.36s\n",
            "41:\tlearn: 2949.0788472\ttest: 2924.8724650\tbest: 2924.8724650 (41)\ttotal: 2.22s\tremaining: 8.34s\n",
            "42:\tlearn: 2904.4488033\ttest: 2881.1610039\tbest: 2881.1610039 (42)\ttotal: 2.28s\tremaining: 8.32s\n",
            "43:\tlearn: 2861.9409126\ttest: 2839.4230054\tbest: 2839.4230054 (43)\ttotal: 2.34s\tremaining: 8.3s\n",
            "44:\tlearn: 2819.6008111\ttest: 2797.8032437\tbest: 2797.8032437 (44)\ttotal: 2.38s\tremaining: 8.21s\n",
            "45:\tlearn: 2780.3372027\ttest: 2758.9951833\tbest: 2758.9951833 (45)\ttotal: 2.43s\tremaining: 8.15s\n",
            "46:\tlearn: 2743.7886715\ttest: 2723.0706069\tbest: 2723.0706069 (46)\ttotal: 2.48s\tremaining: 8.07s\n",
            "47:\tlearn: 2706.9287391\ttest: 2686.7316586\tbest: 2686.7316586 (47)\ttotal: 2.53s\tremaining: 8.02s\n",
            "48:\tlearn: 2672.0421173\ttest: 2652.2911885\tbest: 2652.2911885 (48)\ttotal: 2.58s\tremaining: 7.94s\n",
            "49:\tlearn: 2638.3485651\ttest: 2618.9550590\tbest: 2618.9550590 (49)\ttotal: 2.64s\tremaining: 7.92s\n",
            "50:\tlearn: 2606.4063453\ttest: 2587.3596189\tbest: 2587.3596189 (50)\ttotal: 2.69s\tremaining: 7.86s\n",
            "51:\tlearn: 2576.1860020\ttest: 2557.7380134\tbest: 2557.7380134 (51)\ttotal: 2.75s\tremaining: 7.82s\n",
            "52:\tlearn: 2546.8835163\ttest: 2528.9155191\tbest: 2528.9155191 (52)\ttotal: 2.8s\tremaining: 7.76s\n",
            "53:\tlearn: 2518.7642670\ttest: 2501.2259763\tbest: 2501.2259763 (53)\ttotal: 2.85s\tremaining: 7.7s\n",
            "54:\tlearn: 2490.6936389\ttest: 2473.5973111\tbest: 2473.5973111 (54)\ttotal: 2.9s\tremaining: 7.64s\n",
            "55:\tlearn: 2463.9632853\ttest: 2447.2241100\tbest: 2447.2241100 (55)\ttotal: 2.95s\tremaining: 7.58s\n",
            "56:\tlearn: 2437.5940590\ttest: 2421.2721765\tbest: 2421.2721765 (56)\ttotal: 3s\tremaining: 7.51s\n",
            "57:\tlearn: 2413.4102906\ttest: 2397.3719346\tbest: 2397.3719346 (57)\ttotal: 3.04s\tremaining: 7.45s\n",
            "58:\tlearn: 2390.6625654\ttest: 2375.3411973\tbest: 2375.3411973 (58)\ttotal: 3.09s\tremaining: 7.39s\n",
            "59:\tlearn: 2367.4980037\ttest: 2352.6161256\tbest: 2352.6161256 (59)\ttotal: 3.14s\tremaining: 7.33s\n",
            "60:\tlearn: 2346.3694109\ttest: 2331.9358050\tbest: 2331.9358050 (60)\ttotal: 3.19s\tremaining: 7.26s\n",
            "61:\tlearn: 2325.3678595\ttest: 2311.6426134\tbest: 2311.6426134 (61)\ttotal: 3.23s\tremaining: 7.2s\n",
            "62:\tlearn: 2306.1553928\ttest: 2293.0247239\tbest: 2293.0247239 (62)\ttotal: 3.28s\tremaining: 7.13s\n",
            "63:\tlearn: 2287.3285538\ttest: 2274.7442660\tbest: 2274.7442660 (63)\ttotal: 3.33s\tremaining: 7.08s\n",
            "64:\tlearn: 2269.5523383\ttest: 2257.6180622\tbest: 2257.6180622 (64)\ttotal: 3.37s\tremaining: 7.01s\n",
            "65:\tlearn: 2252.7151012\ttest: 2241.2941680\tbest: 2241.2941680 (65)\ttotal: 3.42s\tremaining: 6.95s\n",
            "66:\tlearn: 2236.8057392\ttest: 2225.9756979\tbest: 2225.9756979 (66)\ttotal: 3.49s\tremaining: 6.92s\n",
            "67:\tlearn: 2221.0896167\ttest: 2210.6557912\tbest: 2210.6557912 (67)\ttotal: 3.56s\tremaining: 6.91s\n",
            "68:\tlearn: 2206.0207954\ttest: 2195.9910008\tbest: 2195.9910008 (68)\ttotal: 3.61s\tremaining: 6.85s\n",
            "69:\tlearn: 2192.0901650\ttest: 2182.5922676\tbest: 2182.5922676 (69)\ttotal: 3.65s\tremaining: 6.78s\n",
            "70:\tlearn: 2177.4368016\ttest: 2168.4153186\tbest: 2168.4153186 (70)\ttotal: 3.7s\tremaining: 6.73s\n",
            "71:\tlearn: 2164.1691771\ttest: 2155.5131734\tbest: 2155.5131734 (71)\ttotal: 3.75s\tremaining: 6.66s\n",
            "72:\tlearn: 2150.8749789\ttest: 2142.5982393\tbest: 2142.5982393 (72)\ttotal: 3.8s\tremaining: 6.61s\n",
            "73:\tlearn: 2138.3055307\ttest: 2130.3433883\tbest: 2130.3433883 (73)\ttotal: 3.84s\tremaining: 6.55s\n",
            "74:\tlearn: 2125.3165052\ttest: 2117.7040465\tbest: 2117.7040465 (74)\ttotal: 3.88s\tremaining: 6.48s\n",
            "75:\tlearn: 2113.8607275\ttest: 2106.5382996\tbest: 2106.5382996 (75)\ttotal: 3.93s\tremaining: 6.42s\n",
            "76:\tlearn: 2103.0159791\ttest: 2096.2817210\tbest: 2096.2817210 (76)\ttotal: 3.98s\tremaining: 6.35s\n",
            "77:\tlearn: 2092.6148066\ttest: 2086.2320916\tbest: 2086.2320916 (77)\ttotal: 4.03s\tremaining: 6.29s\n",
            "78:\tlearn: 2083.1176263\ttest: 2077.2697732\tbest: 2077.2697732 (78)\ttotal: 4.07s\tremaining: 6.23s\n",
            "79:\tlearn: 2072.7779075\ttest: 2067.4194718\tbest: 2067.4194718 (79)\ttotal: 4.12s\tremaining: 6.18s\n",
            "80:\tlearn: 2062.9897987\ttest: 2058.1139393\tbest: 2058.1139393 (80)\ttotal: 4.16s\tremaining: 6.11s\n",
            "81:\tlearn: 2053.6143168\ttest: 2049.1002878\tbest: 2049.1002878 (81)\ttotal: 4.21s\tremaining: 6.06s\n",
            "82:\tlearn: 2044.7322933\ttest: 2040.5552604\tbest: 2040.5552604 (82)\ttotal: 4.27s\tremaining: 6.02s\n",
            "83:\tlearn: 2037.0886448\ttest: 2033.3427902\tbest: 2033.3427902 (83)\ttotal: 4.32s\tremaining: 5.97s\n",
            "84:\tlearn: 2029.4616080\ttest: 2026.1523053\tbest: 2026.1523053 (84)\ttotal: 4.37s\tremaining: 5.91s\n",
            "85:\tlearn: 2021.5957796\ttest: 2018.7744012\tbest: 2018.7744012 (85)\ttotal: 4.42s\tremaining: 5.86s\n",
            "86:\tlearn: 2014.6677999\ttest: 2012.3012733\tbest: 2012.3012733 (86)\ttotal: 4.46s\tremaining: 5.79s\n",
            "87:\tlearn: 2007.7613694\ttest: 2005.6844597\tbest: 2005.6844597 (87)\ttotal: 4.51s\tremaining: 5.74s\n",
            "88:\tlearn: 2000.0116223\ttest: 1998.1928304\tbest: 1998.1928304 (88)\ttotal: 4.55s\tremaining: 5.67s\n",
            "89:\tlearn: 1994.0016102\ttest: 1992.4614271\tbest: 1992.4614271 (89)\ttotal: 4.59s\tremaining: 5.61s\n",
            "90:\tlearn: 1987.7514079\ttest: 1986.4911558\tbest: 1986.4911558 (90)\ttotal: 4.64s\tremaining: 5.55s\n",
            "91:\tlearn: 1981.6466719\ttest: 1980.9696315\tbest: 1980.9696315 (91)\ttotal: 4.68s\tremaining: 5.5s\n",
            "92:\tlearn: 1975.3148403\ttest: 1974.8724985\tbest: 1974.8724985 (92)\ttotal: 4.73s\tremaining: 5.45s\n",
            "93:\tlearn: 1970.2604810\ttest: 1970.1311624\tbest: 1970.1311624 (93)\ttotal: 4.78s\tremaining: 5.39s\n",
            "94:\tlearn: 1965.1360426\ttest: 1965.2612738\tbest: 1965.2612738 (94)\ttotal: 4.83s\tremaining: 5.33s\n",
            "95:\tlearn: 1960.0532280\ttest: 1960.4600167\tbest: 1960.4600167 (95)\ttotal: 4.87s\tremaining: 5.27s\n",
            "96:\tlearn: 1954.1883565\ttest: 1955.0444765\tbest: 1955.0444765 (96)\ttotal: 4.92s\tremaining: 5.22s\n",
            "97:\tlearn: 1949.6466818\ttest: 1950.7327542\tbest: 1950.7327542 (97)\ttotal: 4.96s\tremaining: 5.16s\n",
            "98:\tlearn: 1944.9192444\ttest: 1946.2935849\tbest: 1946.2935849 (98)\ttotal: 5.01s\tremaining: 5.11s\n",
            "99:\tlearn: 1940.6357253\ttest: 1942.4181195\tbest: 1942.4181195 (99)\ttotal: 5.05s\tremaining: 5.05s\n",
            "100:\tlearn: 1936.5343066\ttest: 1938.4373742\tbest: 1938.4373742 (100)\ttotal: 5.09s\tremaining: 4.99s\n",
            "101:\tlearn: 1932.5642384\ttest: 1934.7243754\tbest: 1934.7243754 (101)\ttotal: 5.13s\tremaining: 4.93s\n",
            "102:\tlearn: 1927.9773647\ttest: 1930.4457663\tbest: 1930.4457663 (102)\ttotal: 5.18s\tremaining: 4.88s\n",
            "103:\tlearn: 1924.0631107\ttest: 1926.7900581\tbest: 1926.7900581 (103)\ttotal: 5.23s\tremaining: 4.83s\n",
            "104:\tlearn: 1919.5080631\ttest: 1922.5334093\tbest: 1922.5334093 (104)\ttotal: 5.28s\tremaining: 4.77s\n",
            "105:\tlearn: 1915.8796158\ttest: 1919.2679741\tbest: 1919.2679741 (105)\ttotal: 5.32s\tremaining: 4.72s\n",
            "106:\tlearn: 1912.5954216\ttest: 1916.3489941\tbest: 1916.3489941 (106)\ttotal: 5.37s\tremaining: 4.66s\n",
            "107:\tlearn: 1908.6753427\ttest: 1912.7339213\tbest: 1912.7339213 (107)\ttotal: 5.42s\tremaining: 4.61s\n",
            "108:\tlearn: 1904.3532301\ttest: 1908.8098671\tbest: 1908.8098671 (108)\ttotal: 5.46s\tremaining: 4.56s\n",
            "109:\tlearn: 1901.2692429\ttest: 1905.9719557\tbest: 1905.9719557 (109)\ttotal: 5.51s\tremaining: 4.51s\n",
            "110:\tlearn: 1898.1058295\ttest: 1903.1184598\tbest: 1903.1184598 (110)\ttotal: 5.55s\tremaining: 4.45s\n",
            "111:\tlearn: 1894.8390542\ttest: 1900.1482769\tbest: 1900.1482769 (111)\ttotal: 5.6s\tremaining: 4.4s\n",
            "112:\tlearn: 1891.9049503\ttest: 1897.5181255\tbest: 1897.5181255 (112)\ttotal: 5.65s\tremaining: 4.35s\n",
            "113:\tlearn: 1888.8149588\ttest: 1894.7471666\tbest: 1894.7471666 (113)\ttotal: 5.71s\tremaining: 4.31s\n",
            "114:\tlearn: 1886.0366620\ttest: 1892.3474317\tbest: 1892.3474317 (114)\ttotal: 5.77s\tremaining: 4.27s\n",
            "115:\tlearn: 1883.4780983\ttest: 1890.0625539\tbest: 1890.0625539 (115)\ttotal: 5.82s\tremaining: 4.22s\n",
            "116:\tlearn: 1880.9148403\ttest: 1887.8921208\tbest: 1887.8921208 (116)\ttotal: 5.87s\tremaining: 4.17s\n",
            "117:\tlearn: 1878.4789518\ttest: 1885.7009414\tbest: 1885.7009414 (117)\ttotal: 5.93s\tremaining: 4.12s\n",
            "118:\tlearn: 1875.8077515\ttest: 1883.3496872\tbest: 1883.3496872 (118)\ttotal: 5.98s\tremaining: 4.07s\n",
            "119:\tlearn: 1872.7807774\ttest: 1880.6683671\tbest: 1880.6683671 (119)\ttotal: 6.03s\tremaining: 4.02s\n",
            "120:\tlearn: 1870.6235365\ttest: 1878.7744819\tbest: 1878.7744819 (120)\ttotal: 6.07s\tremaining: 3.96s\n",
            "121:\tlearn: 1868.4200213\ttest: 1876.8145583\tbest: 1876.8145583 (121)\ttotal: 6.12s\tremaining: 3.92s\n",
            "122:\tlearn: 1865.7604301\ttest: 1874.4083058\tbest: 1874.4083058 (122)\ttotal: 6.17s\tremaining: 3.86s\n",
            "123:\tlearn: 1863.6509266\ttest: 1872.5994453\tbest: 1872.5994453 (123)\ttotal: 6.21s\tremaining: 3.81s\n",
            "124:\tlearn: 1861.6431466\ttest: 1870.8408382\tbest: 1870.8408382 (124)\ttotal: 6.26s\tremaining: 3.75s\n",
            "125:\tlearn: 1859.2898089\ttest: 1868.6838651\tbest: 1868.6838651 (125)\ttotal: 6.31s\tremaining: 3.7s\n",
            "126:\tlearn: 1857.1748808\ttest: 1866.7711623\tbest: 1866.7711623 (126)\ttotal: 6.35s\tremaining: 3.65s\n",
            "127:\tlearn: 1854.9263298\ttest: 1864.7352142\tbest: 1864.7352142 (127)\ttotal: 6.4s\tremaining: 3.6s\n",
            "128:\tlearn: 1852.9767589\ttest: 1863.1022239\tbest: 1863.1022239 (128)\ttotal: 6.45s\tremaining: 3.55s\n",
            "129:\tlearn: 1850.6965267\ttest: 1861.1090565\tbest: 1861.1090565 (129)\ttotal: 6.5s\tremaining: 3.5s\n",
            "130:\tlearn: 1849.0460542\ttest: 1859.6596592\tbest: 1859.6596592 (130)\ttotal: 6.54s\tremaining: 3.45s\n",
            "131:\tlearn: 1847.1921879\ttest: 1858.0450301\tbest: 1858.0450301 (131)\ttotal: 6.6s\tremaining: 3.4s\n",
            "132:\tlearn: 1845.6328577\ttest: 1856.6485232\tbest: 1856.6485232 (132)\ttotal: 6.64s\tremaining: 3.35s\n",
            "133:\tlearn: 1843.9689840\ttest: 1855.2518972\tbest: 1855.2518972 (133)\ttotal: 6.69s\tremaining: 3.3s\n",
            "134:\tlearn: 1842.2454296\ttest: 1853.8536140\tbest: 1853.8536140 (134)\ttotal: 6.74s\tremaining: 3.25s\n",
            "135:\tlearn: 1840.3833241\ttest: 1852.1442584\tbest: 1852.1442584 (135)\ttotal: 6.79s\tremaining: 3.19s\n",
            "136:\tlearn: 1838.8591290\ttest: 1850.8809250\tbest: 1850.8809250 (136)\ttotal: 6.84s\tremaining: 3.14s\n",
            "137:\tlearn: 1837.1097183\ttest: 1849.5314783\tbest: 1849.5314783 (137)\ttotal: 6.89s\tremaining: 3.09s\n",
            "138:\tlearn: 1835.4799106\ttest: 1848.1538427\tbest: 1848.1538427 (138)\ttotal: 6.94s\tremaining: 3.04s\n",
            "139:\tlearn: 1833.4184462\ttest: 1846.2933348\tbest: 1846.2933348 (139)\ttotal: 6.98s\tremaining: 2.99s\n",
            "140:\tlearn: 1831.5343423\ttest: 1844.7848045\tbest: 1844.7848045 (140)\ttotal: 7.03s\tremaining: 2.94s\n",
            "141:\tlearn: 1830.2819524\ttest: 1843.8559106\tbest: 1843.8559106 (141)\ttotal: 7.08s\tremaining: 2.89s\n",
            "142:\tlearn: 1828.8463797\ttest: 1842.8066881\tbest: 1842.8066881 (142)\ttotal: 7.13s\tremaining: 2.84s\n",
            "143:\tlearn: 1827.1925002\ttest: 1841.5437001\tbest: 1841.5437001 (143)\ttotal: 7.17s\tremaining: 2.79s\n",
            "144:\tlearn: 1825.6027894\ttest: 1840.2254439\tbest: 1840.2254439 (144)\ttotal: 7.22s\tremaining: 2.74s\n",
            "145:\tlearn: 1824.5701077\ttest: 1839.4177699\tbest: 1839.4177699 (145)\ttotal: 7.26s\tremaining: 2.69s\n",
            "146:\tlearn: 1823.3634328\ttest: 1838.3035163\tbest: 1838.3035163 (146)\ttotal: 7.31s\tremaining: 2.64s\n",
            "147:\tlearn: 1822.1044826\ttest: 1837.2447268\tbest: 1837.2447268 (147)\ttotal: 7.36s\tremaining: 2.58s\n",
            "148:\tlearn: 1821.0677842\ttest: 1836.3376076\tbest: 1836.3376076 (148)\ttotal: 7.41s\tremaining: 2.54s\n",
            "149:\tlearn: 1819.6904506\ttest: 1835.2177562\tbest: 1835.2177562 (149)\ttotal: 7.45s\tremaining: 2.48s\n",
            "150:\tlearn: 1818.1106716\ttest: 1833.8310691\tbest: 1833.8310691 (150)\ttotal: 7.5s\tremaining: 2.43s\n",
            "151:\tlearn: 1816.3511695\ttest: 1832.3925117\tbest: 1832.3925117 (151)\ttotal: 7.54s\tremaining: 2.38s\n",
            "152:\tlearn: 1815.2485905\ttest: 1831.5217439\tbest: 1831.5217439 (152)\ttotal: 7.59s\tremaining: 2.33s\n",
            "153:\tlearn: 1814.2454243\ttest: 1830.6577559\tbest: 1830.6577559 (153)\ttotal: 7.64s\tremaining: 2.28s\n",
            "154:\tlearn: 1812.8131612\ttest: 1829.3812842\tbest: 1829.3812842 (154)\ttotal: 7.68s\tremaining: 2.23s\n",
            "155:\tlearn: 1811.6422905\ttest: 1828.3797814\tbest: 1828.3797814 (155)\ttotal: 7.73s\tremaining: 2.18s\n",
            "156:\tlearn: 1810.5121101\ttest: 1827.4627139\tbest: 1827.4627139 (156)\ttotal: 7.78s\tremaining: 2.13s\n",
            "157:\tlearn: 1809.5472664\ttest: 1826.6688773\tbest: 1826.6688773 (157)\ttotal: 7.83s\tremaining: 2.08s\n",
            "158:\tlearn: 1807.9081653\ttest: 1825.1978811\tbest: 1825.1978811 (158)\ttotal: 7.87s\tremaining: 2.03s\n",
            "159:\tlearn: 1806.8457898\ttest: 1824.3908612\tbest: 1824.3908612 (159)\ttotal: 7.92s\tremaining: 1.98s\n",
            "160:\tlearn: 1805.6469384\ttest: 1823.3107135\tbest: 1823.3107135 (160)\ttotal: 7.96s\tremaining: 1.93s\n",
            "161:\tlearn: 1804.6582936\ttest: 1822.5225390\tbest: 1822.5225390 (161)\ttotal: 8.02s\tremaining: 1.88s\n",
            "162:\tlearn: 1803.5009476\ttest: 1821.4501198\tbest: 1821.4501198 (162)\ttotal: 8.06s\tremaining: 1.83s\n",
            "163:\tlearn: 1802.2016668\ttest: 1820.3391585\tbest: 1820.3391585 (163)\ttotal: 8.11s\tremaining: 1.78s\n",
            "164:\tlearn: 1800.8360161\ttest: 1819.1561595\tbest: 1819.1561595 (164)\ttotal: 8.16s\tremaining: 1.73s\n",
            "165:\tlearn: 1799.9741110\ttest: 1818.5104676\tbest: 1818.5104676 (165)\ttotal: 8.21s\tremaining: 1.68s\n",
            "166:\tlearn: 1799.0439059\ttest: 1817.7272346\tbest: 1817.7272346 (166)\ttotal: 8.26s\tremaining: 1.63s\n",
            "167:\tlearn: 1797.8074310\ttest: 1816.8195121\tbest: 1816.8195121 (167)\ttotal: 8.31s\tremaining: 1.58s\n",
            "168:\tlearn: 1796.9971167\ttest: 1816.2303448\tbest: 1816.2303448 (168)\ttotal: 8.35s\tremaining: 1.53s\n",
            "169:\tlearn: 1796.0418956\ttest: 1815.4593230\tbest: 1815.4593230 (169)\ttotal: 8.4s\tremaining: 1.48s\n",
            "170:\tlearn: 1795.0861089\ttest: 1814.6195354\tbest: 1814.6195354 (170)\ttotal: 8.45s\tremaining: 1.43s\n",
            "171:\tlearn: 1794.2334280\ttest: 1814.0837720\tbest: 1814.0837720 (171)\ttotal: 8.5s\tremaining: 1.38s\n",
            "172:\tlearn: 1793.3607720\ttest: 1813.3242828\tbest: 1813.3242828 (172)\ttotal: 8.56s\tremaining: 1.33s\n",
            "173:\tlearn: 1792.3765353\ttest: 1812.5002305\tbest: 1812.5002305 (173)\ttotal: 8.63s\tremaining: 1.29s\n",
            "174:\tlearn: 1791.6121550\ttest: 1811.9652766\tbest: 1811.9652766 (174)\ttotal: 8.68s\tremaining: 1.24s\n",
            "175:\tlearn: 1790.3585699\ttest: 1810.9556594\tbest: 1810.9556594 (175)\ttotal: 8.72s\tremaining: 1.19s\n",
            "176:\tlearn: 1789.4682127\ttest: 1810.2170441\tbest: 1810.2170441 (176)\ttotal: 8.77s\tremaining: 1.14s\n",
            "177:\tlearn: 1788.3764378\ttest: 1809.2427669\tbest: 1809.2427669 (177)\ttotal: 8.81s\tremaining: 1.09s\n",
            "178:\tlearn: 1787.2243907\ttest: 1808.2706180\tbest: 1808.2706180 (178)\ttotal: 8.86s\tremaining: 1.04s\n",
            "179:\tlearn: 1786.1500976\ttest: 1807.3667243\tbest: 1807.3667243 (179)\ttotal: 8.91s\tremaining: 990ms\n",
            "180:\tlearn: 1785.0400267\ttest: 1806.4299446\tbest: 1806.4299446 (180)\ttotal: 8.96s\tremaining: 940ms\n",
            "181:\tlearn: 1784.1577358\ttest: 1805.6151958\tbest: 1805.6151958 (181)\ttotal: 9.01s\tremaining: 891ms\n",
            "182:\tlearn: 1783.5691427\ttest: 1805.1997911\tbest: 1805.1997911 (182)\ttotal: 9.05s\tremaining: 841ms\n",
            "183:\tlearn: 1782.7826394\ttest: 1804.5763857\tbest: 1804.5763857 (183)\ttotal: 9.1s\tremaining: 791ms\n",
            "184:\tlearn: 1781.9001064\ttest: 1803.8771656\tbest: 1803.8771656 (184)\ttotal: 9.14s\tremaining: 741ms\n",
            "185:\tlearn: 1781.3039174\ttest: 1803.4194079\tbest: 1803.4194079 (185)\ttotal: 9.2s\tremaining: 692ms\n",
            "186:\tlearn: 1780.3885230\ttest: 1802.5750929\tbest: 1802.5750929 (186)\ttotal: 9.24s\tremaining: 642ms\n",
            "187:\tlearn: 1779.7656756\ttest: 1802.1016108\tbest: 1802.1016108 (187)\ttotal: 9.29s\tremaining: 593ms\n",
            "188:\tlearn: 1778.9036046\ttest: 1801.3403569\tbest: 1801.3403569 (188)\ttotal: 9.33s\tremaining: 543ms\n",
            "189:\tlearn: 1777.8214182\ttest: 1800.4113605\tbest: 1800.4113605 (189)\ttotal: 9.38s\tremaining: 494ms\n",
            "190:\tlearn: 1776.7247143\ttest: 1799.5354371\tbest: 1799.5354371 (190)\ttotal: 9.43s\tremaining: 444ms\n",
            "191:\tlearn: 1775.7917689\ttest: 1798.7291566\tbest: 1798.7291566 (191)\ttotal: 9.47s\tremaining: 394ms\n",
            "192:\tlearn: 1775.1617087\ttest: 1798.2911075\tbest: 1798.2911075 (192)\ttotal: 9.51s\tremaining: 345ms\n",
            "193:\tlearn: 1774.3946529\ttest: 1797.7670004\tbest: 1797.7670004 (193)\ttotal: 9.56s\tremaining: 296ms\n",
            "194:\tlearn: 1773.4233299\ttest: 1796.9697545\tbest: 1796.9697545 (194)\ttotal: 9.61s\tremaining: 246ms\n",
            "195:\tlearn: 1772.0919720\ttest: 1795.8287778\tbest: 1795.8287778 (195)\ttotal: 9.65s\tremaining: 197ms\n",
            "196:\tlearn: 1771.4995120\ttest: 1795.4811132\tbest: 1795.4811132 (196)\ttotal: 9.7s\tremaining: 148ms\n",
            "197:\tlearn: 1770.2852050\ttest: 1794.3606147\tbest: 1794.3606147 (197)\ttotal: 9.74s\tremaining: 98.4ms\n",
            "198:\tlearn: 1769.5421305\ttest: 1793.8853029\tbest: 1793.8853029 (198)\ttotal: 9.79s\tremaining: 49.2ms\n",
            "199:\tlearn: 1768.9127398\ttest: 1793.4171233\tbest: 1793.4171233 (199)\ttotal: 9.84s\tremaining: 0us\n",
            "\n",
            "bestTest = 1793.417123\n",
            "bestIteration = 199\n",
            "\n",
            "Training on fold [2/3]\n",
            "0:\tlearn: 7162.8287887\ttest: 7185.1641376\tbest: 7185.1641376 (0)\ttotal: 48.9ms\tremaining: 9.74s\n",
            "1:\tlearn: 6974.5378115\ttest: 6996.5742616\tbest: 6996.5742616 (1)\ttotal: 91.4ms\tremaining: 9.05s\n",
            "2:\tlearn: 6792.2609791\ttest: 6813.6909983\tbest: 6813.6909983 (2)\ttotal: 146ms\tremaining: 9.61s\n",
            "3:\tlearn: 6617.9293570\ttest: 6638.9775365\tbest: 6638.9775365 (3)\ttotal: 190ms\tremaining: 9.33s\n",
            "4:\tlearn: 6448.1559878\ttest: 6468.8192157\tbest: 6468.8192157 (4)\ttotal: 240ms\tremaining: 9.35s\n",
            "5:\tlearn: 6283.9849821\ttest: 6304.7618070\tbest: 6304.7618070 (5)\ttotal: 282ms\tremaining: 9.12s\n",
            "6:\tlearn: 6126.6262532\ttest: 6147.3527190\tbest: 6147.3527190 (6)\ttotal: 331ms\tremaining: 9.14s\n",
            "7:\tlearn: 5972.7559182\ttest: 5993.2466469\tbest: 5993.2466469 (7)\ttotal: 374ms\tremaining: 8.97s\n",
            "8:\tlearn: 5823.2214377\ttest: 5843.5394446\tbest: 5843.5394446 (8)\ttotal: 424ms\tremaining: 9s\n",
            "9:\tlearn: 5678.6763519\ttest: 5699.2913858\tbest: 5699.2913858 (9)\ttotal: 469ms\tremaining: 8.91s\n",
            "10:\tlearn: 5539.9241361\ttest: 5560.7507675\tbest: 5560.7507675 (10)\ttotal: 521ms\tremaining: 8.95s\n",
            "11:\tlearn: 5407.7645047\ttest: 5428.5946526\tbest: 5428.5946526 (11)\ttotal: 563ms\tremaining: 8.82s\n",
            "12:\tlearn: 5276.8130439\ttest: 5297.4895882\tbest: 5297.4895882 (12)\ttotal: 611ms\tremaining: 8.79s\n",
            "13:\tlearn: 5150.6478205\ttest: 5170.9331490\tbest: 5170.9331490 (13)\ttotal: 655ms\tremaining: 8.7s\n",
            "14:\tlearn: 5029.0106490\ttest: 5048.9817100\tbest: 5048.9817100 (14)\ttotal: 703ms\tremaining: 8.66s\n",
            "15:\tlearn: 4912.5076314\ttest: 4932.3425101\tbest: 4932.3425101 (15)\ttotal: 753ms\tremaining: 8.65s\n",
            "16:\tlearn: 4798.3423108\ttest: 4818.1293952\tbest: 4818.1293952 (16)\ttotal: 794ms\tremaining: 8.55s\n",
            "17:\tlearn: 4688.1194778\ttest: 4707.5452329\tbest: 4707.5452329 (17)\ttotal: 842ms\tremaining: 8.52s\n",
            "18:\tlearn: 4581.2490840\ttest: 4600.3519195\tbest: 4600.3519195 (18)\ttotal: 885ms\tremaining: 8.43s\n",
            "19:\tlearn: 4477.5991332\ttest: 4496.6455179\tbest: 4496.6455179 (19)\ttotal: 935ms\tremaining: 8.41s\n",
            "20:\tlearn: 4379.4250232\ttest: 4398.3690745\tbest: 4398.3690745 (20)\ttotal: 976ms\tremaining: 8.32s\n",
            "21:\tlearn: 4283.7019834\ttest: 4302.5946474\tbest: 4302.5946474 (21)\ttotal: 1.03s\tremaining: 8.36s\n",
            "22:\tlearn: 4189.5579392\ttest: 4208.2469753\tbest: 4208.2469753 (22)\ttotal: 1.09s\tremaining: 8.41s\n",
            "23:\tlearn: 4098.7121263\ttest: 4117.3730487\tbest: 4117.3730487 (23)\ttotal: 1.15s\tremaining: 8.47s\n",
            "24:\tlearn: 4011.6945808\ttest: 4030.1137635\tbest: 4030.1137635 (24)\ttotal: 1.2s\tremaining: 8.38s\n",
            "25:\tlearn: 3927.7128616\ttest: 3946.3383438\tbest: 3946.3383438 (25)\ttotal: 1.25s\tremaining: 8.34s\n",
            "26:\tlearn: 3848.8656419\ttest: 3867.4444474\tbest: 3867.4444474 (26)\ttotal: 1.29s\tremaining: 8.25s\n",
            "27:\tlearn: 3771.1905971\ttest: 3789.9800237\tbest: 3789.9800237 (27)\ttotal: 1.34s\tremaining: 8.24s\n",
            "28:\tlearn: 3695.5999713\ttest: 3714.4846484\tbest: 3714.4846484 (28)\ttotal: 1.38s\tremaining: 8.16s\n",
            "29:\tlearn: 3624.1941341\ttest: 3643.0067860\tbest: 3643.0067860 (29)\ttotal: 1.43s\tremaining: 8.11s\n",
            "30:\tlearn: 3554.4534929\ttest: 3573.4294487\tbest: 3573.4294487 (30)\ttotal: 1.47s\tremaining: 8.04s\n",
            "31:\tlearn: 3486.9292260\ttest: 3506.0967799\tbest: 3506.0967799 (31)\ttotal: 1.53s\tremaining: 8.02s\n",
            "32:\tlearn: 3423.7428639\ttest: 3442.8043080\tbest: 3442.8043080 (32)\ttotal: 1.57s\tremaining: 7.95s\n",
            "33:\tlearn: 3361.1757061\ttest: 3380.4906461\tbest: 3380.4906461 (33)\ttotal: 1.62s\tremaining: 7.91s\n",
            "34:\tlearn: 3300.6509718\ttest: 3319.7406609\tbest: 3319.7406609 (34)\ttotal: 1.66s\tremaining: 7.83s\n",
            "35:\tlearn: 3241.5185084\ttest: 3260.4406761\tbest: 3260.4406761 (35)\ttotal: 1.71s\tremaining: 7.78s\n",
            "36:\tlearn: 3186.3532041\ttest: 3205.2193285\tbest: 3205.2193285 (36)\ttotal: 1.76s\tremaining: 7.77s\n",
            "37:\tlearn: 3132.3303059\ttest: 3151.1136234\tbest: 3151.1136234 (37)\ttotal: 1.82s\tremaining: 7.75s\n",
            "38:\tlearn: 3079.9613777\ttest: 3098.6917583\tbest: 3098.6917583 (38)\ttotal: 1.89s\tremaining: 7.79s\n",
            "39:\tlearn: 3031.8632603\ttest: 3050.5861590\tbest: 3050.5861590 (39)\ttotal: 1.95s\tremaining: 7.81s\n",
            "40:\tlearn: 2983.7244812\ttest: 3002.2828741\tbest: 3002.2828741 (40)\ttotal: 2.02s\tremaining: 7.83s\n",
            "41:\tlearn: 2936.3985335\ttest: 2954.8276786\tbest: 2954.8276786 (41)\ttotal: 2.08s\tremaining: 7.81s\n",
            "42:\tlearn: 2891.4312923\ttest: 2909.8960277\tbest: 2909.8960277 (42)\ttotal: 2.13s\tremaining: 7.78s\n",
            "43:\tlearn: 2848.6654304\ttest: 2867.2394136\tbest: 2867.2394136 (43)\ttotal: 2.19s\tremaining: 7.75s\n",
            "44:\tlearn: 2807.3868813\ttest: 2826.0438407\tbest: 2826.0438407 (44)\ttotal: 2.24s\tremaining: 7.72s\n",
            "45:\tlearn: 2768.4626643\ttest: 2786.9835904\tbest: 2786.9835904 (45)\ttotal: 2.29s\tremaining: 7.67s\n",
            "46:\tlearn: 2729.8202318\ttest: 2748.3513074\tbest: 2748.3513074 (46)\ttotal: 2.34s\tremaining: 7.61s\n",
            "47:\tlearn: 2693.9391564\ttest: 2712.5767638\tbest: 2712.5767638 (47)\ttotal: 2.39s\tremaining: 7.56s\n",
            "48:\tlearn: 2658.4228090\ttest: 2677.0455412\tbest: 2677.0455412 (48)\ttotal: 2.44s\tremaining: 7.51s\n",
            "49:\tlearn: 2624.9151842\ttest: 2643.5593755\tbest: 2643.5593755 (49)\ttotal: 2.48s\tremaining: 7.44s\n",
            "50:\tlearn: 2592.4660660\ttest: 2611.0209991\tbest: 2611.0209991 (50)\ttotal: 2.54s\tremaining: 7.42s\n",
            "51:\tlearn: 2562.0912602\ttest: 2580.8613206\tbest: 2580.8613206 (51)\ttotal: 2.58s\tremaining: 7.35s\n",
            "52:\tlearn: 2533.3753399\ttest: 2552.0336227\tbest: 2552.0336227 (52)\ttotal: 2.64s\tremaining: 7.31s\n",
            "53:\tlearn: 2505.0346052\ttest: 2523.5921877\tbest: 2523.5921877 (53)\ttotal: 2.69s\tremaining: 7.27s\n",
            "54:\tlearn: 2477.1211589\ttest: 2495.6810837\tbest: 2495.6810837 (54)\ttotal: 2.75s\tremaining: 7.24s\n",
            "55:\tlearn: 2451.2674581\ttest: 2469.7894259\tbest: 2469.7894259 (55)\ttotal: 2.79s\tremaining: 7.18s\n",
            "56:\tlearn: 2426.4053812\ttest: 2445.0737630\tbest: 2445.0737630 (56)\ttotal: 2.84s\tremaining: 7.12s\n",
            "57:\tlearn: 2401.8537223\ttest: 2420.5719511\tbest: 2420.5719511 (57)\ttotal: 2.88s\tremaining: 7.06s\n",
            "58:\tlearn: 2379.9072932\ttest: 2398.6740016\tbest: 2398.6740016 (58)\ttotal: 2.94s\tremaining: 7.02s\n",
            "59:\tlearn: 2357.7230345\ttest: 2376.4220971\tbest: 2376.4220971 (59)\ttotal: 2.98s\tremaining: 6.95s\n",
            "60:\tlearn: 2336.5283857\ttest: 2355.4895856\tbest: 2355.4895856 (60)\ttotal: 3.03s\tremaining: 6.91s\n",
            "61:\tlearn: 2315.2316691\ttest: 2334.3992929\tbest: 2334.3992929 (61)\ttotal: 3.08s\tremaining: 6.85s\n",
            "62:\tlearn: 2295.6513403\ttest: 2314.7389787\tbest: 2314.7389787 (62)\ttotal: 3.15s\tremaining: 6.84s\n",
            "63:\tlearn: 2276.7867632\ttest: 2295.9444858\tbest: 2295.9444858 (63)\ttotal: 3.21s\tremaining: 6.81s\n",
            "64:\tlearn: 2258.6218925\ttest: 2277.7454309\tbest: 2277.7454309 (64)\ttotal: 3.25s\tremaining: 6.75s\n",
            "65:\tlearn: 2241.8721304\ttest: 2261.0550157\tbest: 2261.0550157 (65)\ttotal: 3.3s\tremaining: 6.7s\n",
            "66:\tlearn: 2225.9402459\ttest: 2245.2315124\tbest: 2245.2315124 (66)\ttotal: 3.35s\tremaining: 6.65s\n",
            "67:\tlearn: 2209.7891271\ttest: 2229.2421593\tbest: 2229.2421593 (67)\ttotal: 3.39s\tremaining: 6.59s\n",
            "68:\tlearn: 2194.6992936\ttest: 2214.3758796\tbest: 2214.3758796 (68)\ttotal: 3.44s\tremaining: 6.54s\n",
            "69:\tlearn: 2180.4284594\ttest: 2200.3193400\tbest: 2200.3193400 (69)\ttotal: 3.49s\tremaining: 6.47s\n",
            "70:\tlearn: 2166.0503420\ttest: 2185.8632046\tbest: 2185.8632046 (70)\ttotal: 3.54s\tremaining: 6.43s\n",
            "71:\tlearn: 2153.3372987\ttest: 2173.3148340\tbest: 2173.3148340 (71)\ttotal: 3.58s\tremaining: 6.37s\n",
            "72:\tlearn: 2140.6499649\ttest: 2160.6749287\tbest: 2160.6749287 (72)\ttotal: 3.64s\tremaining: 6.33s\n",
            "73:\tlearn: 2128.0211776\ttest: 2148.1827909\tbest: 2148.1827909 (73)\ttotal: 3.68s\tremaining: 6.27s\n",
            "74:\tlearn: 2116.7225345\ttest: 2136.8347903\tbest: 2136.8347903 (74)\ttotal: 3.73s\tremaining: 6.22s\n",
            "75:\tlearn: 2104.9565720\ttest: 2125.0230040\tbest: 2125.0230040 (75)\ttotal: 3.78s\tremaining: 6.16s\n",
            "76:\tlearn: 2094.9265227\ttest: 2115.2086531\tbest: 2115.2086531 (76)\ttotal: 3.83s\tremaining: 6.13s\n",
            "77:\tlearn: 2085.4233148\ttest: 2105.9118496\tbest: 2105.9118496 (77)\ttotal: 3.88s\tremaining: 6.07s\n",
            "78:\tlearn: 2075.1790097\ttest: 2095.7440941\tbest: 2095.7440941 (78)\ttotal: 3.93s\tremaining: 6.02s\n",
            "79:\tlearn: 2064.7824467\ttest: 2085.4042517\tbest: 2085.4042517 (79)\ttotal: 3.97s\tremaining: 5.96s\n",
            "80:\tlearn: 2055.7921723\ttest: 2076.3611594\tbest: 2076.3611594 (80)\ttotal: 4.03s\tremaining: 5.92s\n",
            "81:\tlearn: 2046.6174071\ttest: 2067.1660603\tbest: 2067.1660603 (81)\ttotal: 4.07s\tremaining: 5.86s\n",
            "82:\tlearn: 2038.1273327\ttest: 2058.7929497\tbest: 2058.7929497 (82)\ttotal: 4.12s\tremaining: 5.81s\n",
            "83:\tlearn: 2029.0903014\ttest: 2049.8722463\tbest: 2049.8722463 (83)\ttotal: 4.17s\tremaining: 5.75s\n",
            "84:\tlearn: 2021.8294725\ttest: 2042.7078655\tbest: 2042.7078655 (84)\ttotal: 4.22s\tremaining: 5.71s\n",
            "85:\tlearn: 2014.6266722\ttest: 2035.7731795\tbest: 2035.7731795 (85)\ttotal: 4.26s\tremaining: 5.65s\n",
            "86:\tlearn: 2007.8118782\ttest: 2028.9404725\tbest: 2028.9404725 (86)\ttotal: 4.32s\tremaining: 5.61s\n",
            "87:\tlearn: 2001.0458363\ttest: 2022.2275439\tbest: 2022.2275439 (87)\ttotal: 4.36s\tremaining: 5.55s\n",
            "88:\tlearn: 1993.8215189\ttest: 2015.0388484\tbest: 2015.0388484 (88)\ttotal: 4.42s\tremaining: 5.51s\n",
            "89:\tlearn: 1986.8221228\ttest: 2008.0108424\tbest: 2008.0108424 (89)\ttotal: 4.46s\tremaining: 5.46s\n",
            "90:\tlearn: 1980.8612557\ttest: 2002.2265023\tbest: 2002.2265023 (90)\ttotal: 4.52s\tremaining: 5.41s\n",
            "91:\tlearn: 1975.2793552\ttest: 1996.7440760\tbest: 1996.7440760 (91)\ttotal: 4.56s\tremaining: 5.35s\n",
            "92:\tlearn: 1969.6358289\ttest: 1991.2240161\tbest: 1991.2240161 (92)\ttotal: 4.61s\tremaining: 5.31s\n",
            "93:\tlearn: 1964.5924509\ttest: 1986.1640918\tbest: 1986.1640918 (93)\ttotal: 4.66s\tremaining: 5.25s\n",
            "94:\tlearn: 1958.3668954\ttest: 1980.1419748\tbest: 1980.1419748 (94)\ttotal: 4.7s\tremaining: 5.2s\n",
            "95:\tlearn: 1953.7741911\ttest: 1975.7640842\tbest: 1975.7640842 (95)\ttotal: 4.76s\tremaining: 5.15s\n",
            "96:\tlearn: 1949.3473847\ttest: 1971.4421878\tbest: 1971.4421878 (96)\ttotal: 4.8s\tremaining: 5.1s\n",
            "97:\tlearn: 1943.6522051\ttest: 1965.8748496\tbest: 1965.8748496 (97)\ttotal: 4.85s\tremaining: 5.04s\n",
            "98:\tlearn: 1938.8817320\ttest: 1961.1875904\tbest: 1961.1875904 (98)\ttotal: 4.89s\tremaining: 4.99s\n",
            "99:\tlearn: 1934.7529425\ttest: 1957.0876426\tbest: 1957.0876426 (99)\ttotal: 4.94s\tremaining: 4.94s\n",
            "100:\tlearn: 1930.8228791\ttest: 1953.2710303\tbest: 1953.2710303 (100)\ttotal: 4.98s\tremaining: 4.88s\n",
            "101:\tlearn: 1926.7254010\ttest: 1949.1295586\tbest: 1949.1295586 (101)\ttotal: 5.03s\tremaining: 4.83s\n",
            "102:\tlearn: 1923.1315163\ttest: 1945.7246921\tbest: 1945.7246921 (102)\ttotal: 5.07s\tremaining: 4.78s\n",
            "103:\tlearn: 1919.0229705\ttest: 1941.6318224\tbest: 1941.6318224 (103)\ttotal: 5.12s\tremaining: 4.73s\n",
            "104:\tlearn: 1914.7191032\ttest: 1937.3621375\tbest: 1937.3621375 (104)\ttotal: 5.17s\tremaining: 4.67s\n",
            "105:\tlearn: 1910.7293465\ttest: 1933.4460077\tbest: 1933.4460077 (105)\ttotal: 5.22s\tremaining: 4.63s\n",
            "106:\tlearn: 1907.4734530\ttest: 1930.2240650\tbest: 1930.2240650 (106)\ttotal: 5.27s\tremaining: 4.58s\n",
            "107:\tlearn: 1904.2009780\ttest: 1927.0337434\tbest: 1927.0337434 (107)\ttotal: 5.33s\tremaining: 4.54s\n",
            "108:\tlearn: 1899.9683537\ttest: 1922.8404817\tbest: 1922.8404817 (108)\ttotal: 5.38s\tremaining: 4.49s\n",
            "109:\tlearn: 1896.7801113\ttest: 1919.8559786\tbest: 1919.8559786 (109)\ttotal: 5.43s\tremaining: 4.44s\n",
            "110:\tlearn: 1893.7330010\ttest: 1916.8997309\tbest: 1916.8997309 (110)\ttotal: 5.47s\tremaining: 4.39s\n",
            "111:\tlearn: 1890.9266160\ttest: 1914.3528675\tbest: 1914.3528675 (111)\ttotal: 5.53s\tremaining: 4.34s\n",
            "112:\tlearn: 1888.3417420\ttest: 1912.0068420\tbest: 1912.0068420 (112)\ttotal: 5.57s\tremaining: 4.29s\n",
            "113:\tlearn: 1885.4406249\ttest: 1909.2008954\tbest: 1909.2008954 (113)\ttotal: 5.62s\tremaining: 4.24s\n",
            "114:\tlearn: 1882.7307099\ttest: 1906.5992077\tbest: 1906.5992077 (114)\ttotal: 5.66s\tremaining: 4.19s\n",
            "115:\tlearn: 1880.4534538\ttest: 1904.3352648\tbest: 1904.3352648 (115)\ttotal: 5.71s\tremaining: 4.14s\n",
            "116:\tlearn: 1878.2106266\ttest: 1902.1927677\tbest: 1902.1927677 (116)\ttotal: 5.76s\tremaining: 4.08s\n",
            "117:\tlearn: 1875.7409984\ttest: 1899.9210444\tbest: 1899.9210444 (117)\ttotal: 5.83s\tremaining: 4.05s\n",
            "118:\tlearn: 1873.1252457\ttest: 1897.4910541\tbest: 1897.4910541 (118)\ttotal: 5.89s\tremaining: 4.01s\n",
            "119:\tlearn: 1870.4777170\ttest: 1894.9438801\tbest: 1894.9438801 (119)\ttotal: 5.94s\tremaining: 3.96s\n",
            "120:\tlearn: 1868.3488015\ttest: 1893.0262844\tbest: 1893.0262844 (120)\ttotal: 5.98s\tremaining: 3.9s\n",
            "121:\tlearn: 1866.0443384\ttest: 1890.7749258\tbest: 1890.7749258 (121)\ttotal: 6.02s\tremaining: 3.85s\n",
            "122:\tlearn: 1863.7074075\ttest: 1888.6509855\tbest: 1888.6509855 (122)\ttotal: 6.06s\tremaining: 3.8s\n",
            "123:\tlearn: 1861.6346568\ttest: 1886.7348433\tbest: 1886.7348433 (123)\ttotal: 6.12s\tremaining: 3.75s\n",
            "124:\tlearn: 1858.7696281\ttest: 1883.9323681\tbest: 1883.9323681 (124)\ttotal: 6.17s\tremaining: 3.7s\n",
            "125:\tlearn: 1856.4250277\ttest: 1881.6239813\tbest: 1881.6239813 (125)\ttotal: 6.22s\tremaining: 3.65s\n",
            "126:\tlearn: 1854.6180424\ttest: 1880.0291100\tbest: 1880.0291100 (126)\ttotal: 6.26s\tremaining: 3.6s\n",
            "127:\tlearn: 1852.4314078\ttest: 1877.8861679\tbest: 1877.8861679 (127)\ttotal: 6.31s\tremaining: 3.55s\n",
            "128:\tlearn: 1850.6740345\ttest: 1876.1356857\tbest: 1876.1356857 (128)\ttotal: 6.36s\tremaining: 3.5s\n",
            "129:\tlearn: 1848.0947604\ttest: 1873.6480702\tbest: 1873.6480702 (129)\ttotal: 6.42s\tremaining: 3.45s\n",
            "130:\tlearn: 1846.0336971\ttest: 1871.8055853\tbest: 1871.8055853 (130)\ttotal: 6.46s\tremaining: 3.4s\n",
            "131:\tlearn: 1843.6643240\ttest: 1869.6093348\tbest: 1869.6093348 (131)\ttotal: 6.51s\tremaining: 3.35s\n",
            "132:\tlearn: 1842.1374682\ttest: 1868.1734454\tbest: 1868.1734454 (132)\ttotal: 6.55s\tremaining: 3.3s\n",
            "133:\tlearn: 1840.2689565\ttest: 1866.5084062\tbest: 1866.5084062 (133)\ttotal: 6.61s\tremaining: 3.25s\n",
            "134:\tlearn: 1838.7519473\ttest: 1865.1377790\tbest: 1865.1377790 (134)\ttotal: 6.65s\tremaining: 3.2s\n",
            "135:\tlearn: 1837.0404709\ttest: 1863.6426147\tbest: 1863.6426147 (135)\ttotal: 6.7s\tremaining: 3.15s\n",
            "136:\tlearn: 1835.5290253\ttest: 1862.2264222\tbest: 1862.2264222 (136)\ttotal: 6.75s\tremaining: 3.1s\n",
            "137:\tlearn: 1834.2706865\ttest: 1861.0394507\tbest: 1861.0394507 (137)\ttotal: 6.79s\tremaining: 3.05s\n",
            "138:\tlearn: 1832.0634027\ttest: 1859.0396732\tbest: 1859.0396732 (138)\ttotal: 6.84s\tremaining: 3s\n",
            "139:\tlearn: 1829.9650767\ttest: 1856.9764337\tbest: 1856.9764337 (139)\ttotal: 6.89s\tremaining: 2.95s\n",
            "140:\tlearn: 1828.5206420\ttest: 1855.6927165\tbest: 1855.6927165 (140)\ttotal: 6.93s\tremaining: 2.9s\n",
            "141:\tlearn: 1826.6544086\ttest: 1853.9456109\tbest: 1853.9456109 (141)\ttotal: 6.98s\tremaining: 2.85s\n",
            "142:\tlearn: 1825.3048860\ttest: 1852.7425315\tbest: 1852.7425315 (142)\ttotal: 7.02s\tremaining: 2.8s\n",
            "143:\tlearn: 1823.7930596\ttest: 1851.4296676\tbest: 1851.4296676 (143)\ttotal: 7.06s\tremaining: 2.75s\n",
            "144:\tlearn: 1822.6832821\ttest: 1850.3991864\tbest: 1850.3991864 (144)\ttotal: 7.12s\tremaining: 2.7s\n",
            "145:\tlearn: 1821.3980837\ttest: 1849.1246910\tbest: 1849.1246910 (145)\ttotal: 7.16s\tremaining: 2.65s\n",
            "146:\tlearn: 1819.7778662\ttest: 1847.5022229\tbest: 1847.5022229 (146)\ttotal: 7.21s\tremaining: 2.6s\n",
            "147:\tlearn: 1818.3354143\ttest: 1846.2983008\tbest: 1846.2983008 (147)\ttotal: 7.25s\tremaining: 2.55s\n",
            "148:\tlearn: 1816.9709981\ttest: 1845.0529515\tbest: 1845.0529515 (148)\ttotal: 7.31s\tremaining: 2.5s\n",
            "149:\tlearn: 1815.4418625\ttest: 1843.5993501\tbest: 1843.5993501 (149)\ttotal: 7.36s\tremaining: 2.45s\n",
            "150:\tlearn: 1814.0303925\ttest: 1842.1770465\tbest: 1842.1770465 (150)\ttotal: 7.41s\tremaining: 2.41s\n",
            "151:\tlearn: 1813.0166657\ttest: 1841.3828893\tbest: 1841.3828893 (151)\ttotal: 7.46s\tremaining: 2.36s\n",
            "152:\tlearn: 1811.5226633\ttest: 1840.0604203\tbest: 1840.0604203 (152)\ttotal: 7.52s\tremaining: 2.31s\n",
            "153:\tlearn: 1810.5395315\ttest: 1839.1523950\tbest: 1839.1523950 (153)\ttotal: 7.56s\tremaining: 2.26s\n",
            "154:\tlearn: 1809.3852720\ttest: 1838.1127162\tbest: 1838.1127162 (154)\ttotal: 7.62s\tremaining: 2.21s\n",
            "155:\tlearn: 1808.0875277\ttest: 1836.8655292\tbest: 1836.8655292 (155)\ttotal: 7.66s\tremaining: 2.16s\n",
            "156:\tlearn: 1807.2421901\ttest: 1836.1187116\tbest: 1836.1187116 (156)\ttotal: 7.71s\tremaining: 2.11s\n",
            "157:\tlearn: 1806.0848695\ttest: 1835.0966513\tbest: 1835.0966513 (157)\ttotal: 7.75s\tremaining: 2.06s\n",
            "158:\tlearn: 1804.8276668\ttest: 1834.0042339\tbest: 1834.0042339 (158)\ttotal: 7.81s\tremaining: 2.01s\n",
            "159:\tlearn: 1803.8441288\ttest: 1833.2314390\tbest: 1833.2314390 (159)\ttotal: 7.86s\tremaining: 1.96s\n",
            "160:\tlearn: 1802.9905661\ttest: 1832.5732355\tbest: 1832.5732355 (160)\ttotal: 7.91s\tremaining: 1.92s\n",
            "161:\tlearn: 1801.7675788\ttest: 1831.3924099\tbest: 1831.3924099 (161)\ttotal: 7.95s\tremaining: 1.86s\n",
            "162:\tlearn: 1800.5024346\ttest: 1830.3043839\tbest: 1830.3043839 (162)\ttotal: 8.01s\tremaining: 1.82s\n",
            "163:\tlearn: 1798.9719290\ttest: 1828.7895869\tbest: 1828.7895869 (163)\ttotal: 8.05s\tremaining: 1.77s\n",
            "164:\tlearn: 1797.7024562\ttest: 1827.6914839\tbest: 1827.6914839 (164)\ttotal: 8.1s\tremaining: 1.72s\n",
            "165:\tlearn: 1796.8369571\ttest: 1826.8851575\tbest: 1826.8851575 (165)\ttotal: 8.14s\tremaining: 1.67s\n",
            "166:\tlearn: 1795.6743025\ttest: 1825.8894897\tbest: 1825.8894897 (166)\ttotal: 8.2s\tremaining: 1.62s\n",
            "167:\tlearn: 1794.5358519\ttest: 1824.9092640\tbest: 1824.9092640 (167)\ttotal: 8.24s\tremaining: 1.57s\n",
            "168:\tlearn: 1793.8578154\ttest: 1824.3278740\tbest: 1824.3278740 (168)\ttotal: 8.29s\tremaining: 1.52s\n",
            "169:\tlearn: 1792.8924081\ttest: 1823.5286455\tbest: 1823.5286455 (169)\ttotal: 8.34s\tremaining: 1.47s\n",
            "170:\tlearn: 1791.9646152\ttest: 1822.7942715\tbest: 1822.7942715 (170)\ttotal: 8.38s\tremaining: 1.42s\n",
            "171:\tlearn: 1790.8487019\ttest: 1821.7943768\tbest: 1821.7943768 (171)\ttotal: 8.42s\tremaining: 1.37s\n",
            "172:\tlearn: 1789.9616826\ttest: 1820.9507543\tbest: 1820.9507543 (172)\ttotal: 8.48s\tremaining: 1.32s\n",
            "173:\tlearn: 1789.0855370\ttest: 1820.2322174\tbest: 1820.2322174 (173)\ttotal: 8.52s\tremaining: 1.27s\n",
            "174:\tlearn: 1787.8613183\ttest: 1819.1561921\tbest: 1819.1561921 (174)\ttotal: 8.56s\tremaining: 1.22s\n",
            "175:\tlearn: 1786.9968862\ttest: 1818.5916885\tbest: 1818.5916885 (175)\ttotal: 8.61s\tremaining: 1.17s\n",
            "176:\tlearn: 1786.1594944\ttest: 1817.9026232\tbest: 1817.9026232 (176)\ttotal: 8.66s\tremaining: 1.13s\n",
            "177:\tlearn: 1784.7537344\ttest: 1816.7274865\tbest: 1816.7274865 (177)\ttotal: 8.72s\tremaining: 1.08s\n",
            "178:\tlearn: 1783.8486664\ttest: 1815.8932052\tbest: 1815.8932052 (178)\ttotal: 8.76s\tremaining: 1.03s\n",
            "179:\tlearn: 1782.7482146\ttest: 1814.8502114\tbest: 1814.8502114 (179)\ttotal: 8.81s\tremaining: 979ms\n",
            "180:\tlearn: 1781.7892191\ttest: 1814.0669858\tbest: 1814.0669858 (180)\ttotal: 8.86s\tremaining: 930ms\n",
            "181:\tlearn: 1780.4859541\ttest: 1812.8877944\tbest: 1812.8877944 (181)\ttotal: 8.91s\tremaining: 881ms\n",
            "182:\tlearn: 1779.7891440\ttest: 1812.2930369\tbest: 1812.2930369 (182)\ttotal: 8.95s\tremaining: 831ms\n",
            "183:\tlearn: 1779.0953750\ttest: 1811.6941810\tbest: 1811.6941810 (183)\ttotal: 9.01s\tremaining: 783ms\n",
            "184:\tlearn: 1778.2789100\ttest: 1811.0002288\tbest: 1811.0002288 (184)\ttotal: 9.05s\tremaining: 734ms\n",
            "185:\tlearn: 1777.5995664\ttest: 1810.4716278\tbest: 1810.4716278 (185)\ttotal: 9.1s\tremaining: 685ms\n",
            "186:\tlearn: 1776.9976939\ttest: 1810.0329170\tbest: 1810.0329170 (186)\ttotal: 9.15s\tremaining: 636ms\n",
            "187:\tlearn: 1776.1142497\ttest: 1809.2799294\tbest: 1809.2799294 (187)\ttotal: 9.2s\tremaining: 587ms\n",
            "188:\tlearn: 1775.3843076\ttest: 1808.6398971\tbest: 1808.6398971 (188)\ttotal: 9.25s\tremaining: 538ms\n",
            "189:\tlearn: 1774.4893460\ttest: 1807.8286370\tbest: 1807.8286370 (189)\ttotal: 9.3s\tremaining: 490ms\n",
            "190:\tlearn: 1773.6688213\ttest: 1807.1027543\tbest: 1807.1027543 (190)\ttotal: 9.34s\tremaining: 440ms\n",
            "191:\tlearn: 1772.6759048\ttest: 1806.2332021\tbest: 1806.2332021 (191)\ttotal: 9.39s\tremaining: 391ms\n",
            "192:\tlearn: 1771.9448439\ttest: 1805.6486883\tbest: 1805.6486883 (192)\ttotal: 9.44s\tremaining: 342ms\n",
            "193:\tlearn: 1771.0511168\ttest: 1804.9140602\tbest: 1804.9140602 (193)\ttotal: 9.49s\tremaining: 294ms\n",
            "194:\tlearn: 1769.9264900\ttest: 1803.9245017\tbest: 1803.9245017 (194)\ttotal: 9.54s\tremaining: 245ms\n",
            "195:\tlearn: 1769.2553523\ttest: 1803.3690540\tbest: 1803.3690540 (195)\ttotal: 9.58s\tremaining: 196ms\n",
            "196:\tlearn: 1768.6819117\ttest: 1802.9389645\tbest: 1802.9389645 (196)\ttotal: 9.63s\tremaining: 147ms\n",
            "197:\tlearn: 1768.1578292\ttest: 1802.5121566\tbest: 1802.5121566 (197)\ttotal: 9.69s\tremaining: 97.8ms\n",
            "198:\tlearn: 1767.6238795\ttest: 1802.0527070\tbest: 1802.0527070 (198)\ttotal: 9.73s\tremaining: 48.9ms\n",
            "199:\tlearn: 1766.7165265\ttest: 1801.3130912\tbest: 1801.3130912 (199)\ttotal: 9.78s\tremaining: 0us\n",
            "\n",
            "bestTest = 1801.313091\n",
            "bestIteration = 199\n",
            "\n"
          ]
        },
        {
          "data": {
            "text/plain": [
              "{'params': {'depth': 10, 'iterations': 200},\n",
              " 'cv_results': defaultdict(list,\n",
              "             {'iterations': [0,\n",
              "               1,\n",
              "               2,\n",
              "               3,\n",
              "               4,\n",
              "               5,\n",
              "               6,\n",
              "               7,\n",
              "               8,\n",
              "               9,\n",
              "               10,\n",
              "               11,\n",
              "               12,\n",
              "               13,\n",
              "               14,\n",
              "               15,\n",
              "               16,\n",
              "               17,\n",
              "               18,\n",
              "               19,\n",
              "               20,\n",
              "               21,\n",
              "               22,\n",
              "               23,\n",
              "               24,\n",
              "               25,\n",
              "               26,\n",
              "               27,\n",
              "               28,\n",
              "               29,\n",
              "               30,\n",
              "               31,\n",
              "               32,\n",
              "               33,\n",
              "               34,\n",
              "               35,\n",
              "               36,\n",
              "               37,\n",
              "               38,\n",
              "               39,\n",
              "               40,\n",
              "               41,\n",
              "               42,\n",
              "               43,\n",
              "               44,\n",
              "               45,\n",
              "               46,\n",
              "               47,\n",
              "               48,\n",
              "               49,\n",
              "               50,\n",
              "               51,\n",
              "               52,\n",
              "               53,\n",
              "               54,\n",
              "               55,\n",
              "               56,\n",
              "               57,\n",
              "               58,\n",
              "               59,\n",
              "               60,\n",
              "               61,\n",
              "               62,\n",
              "               63,\n",
              "               64,\n",
              "               65,\n",
              "               66,\n",
              "               67,\n",
              "               68,\n",
              "               69,\n",
              "               70,\n",
              "               71,\n",
              "               72,\n",
              "               73,\n",
              "               74,\n",
              "               75,\n",
              "               76,\n",
              "               77,\n",
              "               78,\n",
              "               79,\n",
              "               80,\n",
              "               81,\n",
              "               82,\n",
              "               83,\n",
              "               84,\n",
              "               85,\n",
              "               86,\n",
              "               87,\n",
              "               88,\n",
              "               89,\n",
              "               90,\n",
              "               91,\n",
              "               92,\n",
              "               93,\n",
              "               94,\n",
              "               95,\n",
              "               96,\n",
              "               97,\n",
              "               98,\n",
              "               99,\n",
              "               100,\n",
              "               101,\n",
              "               102,\n",
              "               103,\n",
              "               104,\n",
              "               105,\n",
              "               106,\n",
              "               107,\n",
              "               108,\n",
              "               109,\n",
              "               110,\n",
              "               111,\n",
              "               112,\n",
              "               113,\n",
              "               114,\n",
              "               115,\n",
              "               116,\n",
              "               117,\n",
              "               118,\n",
              "               119,\n",
              "               120,\n",
              "               121,\n",
              "               122,\n",
              "               123,\n",
              "               124,\n",
              "               125,\n",
              "               126,\n",
              "               127,\n",
              "               128,\n",
              "               129,\n",
              "               130,\n",
              "               131,\n",
              "               132,\n",
              "               133,\n",
              "               134,\n",
              "               135,\n",
              "               136,\n",
              "               137,\n",
              "               138,\n",
              "               139,\n",
              "               140,\n",
              "               141,\n",
              "               142,\n",
              "               143,\n",
              "               144,\n",
              "               145,\n",
              "               146,\n",
              "               147,\n",
              "               148,\n",
              "               149,\n",
              "               150,\n",
              "               151,\n",
              "               152,\n",
              "               153,\n",
              "               154,\n",
              "               155,\n",
              "               156,\n",
              "               157,\n",
              "               158,\n",
              "               159,\n",
              "               160,\n",
              "               161,\n",
              "               162,\n",
              "               163,\n",
              "               164,\n",
              "               165,\n",
              "               166,\n",
              "               167,\n",
              "               168,\n",
              "               169,\n",
              "               170,\n",
              "               171,\n",
              "               172,\n",
              "               173,\n",
              "               174,\n",
              "               175,\n",
              "               176,\n",
              "               177,\n",
              "               178,\n",
              "               179,\n",
              "               180,\n",
              "               181,\n",
              "               182,\n",
              "               183,\n",
              "               184,\n",
              "               185,\n",
              "               186,\n",
              "               187,\n",
              "               188,\n",
              "               189,\n",
              "               190,\n",
              "               191,\n",
              "               192,\n",
              "               193,\n",
              "               194,\n",
              "               195,\n",
              "               196,\n",
              "               197,\n",
              "               198,\n",
              "               199],\n",
              "              'test-RMSE-mean': [7170.223809629672,\n",
              "               6982.598544411355,\n",
              "               6799.68810938785,\n",
              "               6625.202350093464,\n",
              "               6455.355232162313,\n",
              "               6291.965996617549,\n",
              "               6133.958227400911,\n",
              "               5980.491976731588,\n",
              "               5831.620532627147,\n",
              "               5688.572379587003,\n",
              "               5549.330334775885,\n",
              "               5417.180422103368,\n",
              "               5286.945182926057,\n",
              "               5160.116632419143,\n",
              "               5038.025474509981,\n",
              "               4920.475600526744,\n",
              "               4806.608293848869,\n",
              "               4696.963779792094,\n",
              "               4590.337021156901,\n",
              "               4486.51795658175,\n",
              "               4387.897608414187,\n",
              "               4291.966268386866,\n",
              "               4197.926189004528,\n",
              "               4107.641422928883,\n",
              "               4020.894922736498,\n",
              "               3937.8504420533063,\n",
              "               3858.984603258022,\n",
              "               3781.0389109538896,\n",
              "               3705.6487846608507,\n",
              "               3633.7584779598606,\n",
              "               3564.5180495482687,\n",
              "               3497.5830923387443,\n",
              "               3433.943169042604,\n",
              "               3371.5931659793237,\n",
              "               3312.075937139103,\n",
              "               3253.623370210946,\n",
              "               3198.2957267909624,\n",
              "               3144.528293770331,\n",
              "               3091.9876813885057,\n",
              "               3043.610427649455,\n",
              "               2994.7641551861834,\n",
              "               2947.9999414994177,\n",
              "               2903.246645172662,\n",
              "               2861.0381916188558,\n",
              "               2819.4218383984667,\n",
              "               2780.4939164691764,\n",
              "               2743.043460466702,\n",
              "               2706.661790294879,\n",
              "               2671.64567289493,\n",
              "               2638.0976479515734,\n",
              "               2606.214419113635,\n",
              "               2576.092687987851,\n",
              "               2547.242062139187,\n",
              "               2519.4045690087055,\n",
              "               2491.9090605929237,\n",
              "               2465.806489803173,\n",
              "               2440.294124401778,\n",
              "               2416.24909459154,\n",
              "               2394.0844531228854,\n",
              "               2371.435379140782,\n",
              "               2350.5621496370636,\n",
              "               2329.8364959881806,\n",
              "               2310.6568767794834,\n",
              "               2292.108926474339,\n",
              "               2274.1310703675176,\n",
              "               2257.453903068826,\n",
              "               2241.6283337539385,\n",
              "               2225.9649942053697,\n",
              "               2211.177424155559,\n",
              "               2197.394062417147,\n",
              "               2183.1239844749957,\n",
              "               2170.191815260751,\n",
              "               2157.5370851645853,\n",
              "               2145.1680186798944,\n",
              "               2133.4153011699887,\n",
              "               2121.844954210857,\n",
              "               2111.7879226086648,\n",
              "               2102.043005531443,\n",
              "               2092.2730184850425,\n",
              "               2082.3029501177966,\n",
              "               2073.0124895610866,\n",
              "               2064.140767848758,\n",
              "               2055.487258109572,\n",
              "               2047.1095878491205,\n",
              "               2039.8868019162903,\n",
              "               2032.6419624267528,\n",
              "               2025.7820074223357,\n",
              "               2019.1732298895377,\n",
              "               2011.8945951286853,\n",
              "               2005.6162579332765,\n",
              "               1999.6659532394663,\n",
              "               1993.994944415989,\n",
              "               1988.3690329357735,\n",
              "               1983.4068369133558,\n",
              "               1977.7211559523505,\n",
              "               1973.056929149722,\n",
              "               1968.1530529787153,\n",
              "               1963.3579265134879,\n",
              "               1958.8381233372158,\n",
              "               1954.6781083700514,\n",
              "               1950.751551026011,\n",
              "               1946.8299540221335,\n",
              "               1943.049485609449,\n",
              "               1939.1603589884792,\n",
              "               1935.0808440762148,\n",
              "               1931.3936624665669,\n",
              "               1928.3175692150382,\n",
              "               1924.8535069634374,\n",
              "               1920.8167055500144,\n",
              "               1917.810485919412,\n",
              "               1914.9238864430592,\n",
              "               1912.0664329786948,\n",
              "               1909.549481410607,\n",
              "               1906.7133947164248,\n",
              "               1904.076178786773,\n",
              "               1901.7872426350314,\n",
              "               1899.5819605081472,\n",
              "               1897.2598856039192,\n",
              "               1894.7190873744564,\n",
              "               1892.1668742759668,\n",
              "               1890.2707384145733,\n",
              "               1888.0404940514836,\n",
              "               1885.7910266000908,\n",
              "               1883.8434384416307,\n",
              "               1881.4693596884238,\n",
              "               1879.1461512732915,\n",
              "               1877.2935543394158,\n",
              "               1875.3795116683925,\n",
              "               1873.4631230504826,\n",
              "               1871.36493793846,\n",
              "               1869.7581117747588,\n",
              "               1867.9339066287066,\n",
              "               1866.4321436347761,\n",
              "               1864.947764987912,\n",
              "               1863.5435262861085,\n",
              "               1861.8852974292622,\n",
              "               1860.4780474746942,\n",
              "               1859.3014205244724,\n",
              "               1857.6045693171418,\n",
              "               1855.923026960388,\n",
              "               1854.3857650895434,\n",
              "               1853.0091929873977,\n",
              "               1851.8429927977052,\n",
              "               1850.5424674402675,\n",
              "               1849.378290186856,\n",
              "               1848.33390124846,\n",
              "               1847.0661148009574,\n",
              "               1845.918303210825,\n",
              "               1844.8189693625707,\n",
              "               1843.5458996053605,\n",
              "               1842.1598508889322,\n",
              "               1841.1036341341805,\n",
              "               1840.0347006747415,\n",
              "               1839.14482491583,\n",
              "               1837.874666552254,\n",
              "               1836.842606572415,\n",
              "               1836.0575531468173,\n",
              "               1835.097767719534,\n",
              "               1833.9458813245149,\n",
              "               1833.08693788045,\n",
              "               1832.076334256523,\n",
              "               1831.2017383681607,\n",
              "               1830.012256848345,\n",
              "               1828.8527219387925,\n",
              "               1827.6738670418665,\n",
              "               1826.8067575655803,\n",
              "               1825.9491030537722,\n",
              "               1824.912238249117,\n",
              "               1824.218710808717,\n",
              "               1823.4336697574329,\n",
              "               1822.5084585745979,\n",
              "               1821.6939622753907,\n",
              "               1820.8469411854842,\n",
              "               1820.1471814644158,\n",
              "               1819.411225618842,\n",
              "               1818.5331110835805,\n",
              "               1817.696921765303,\n",
              "               1816.7944404968619,\n",
              "               1815.9754496494181,\n",
              "               1814.9738995828714,\n",
              "               1814.098927436656,\n",
              "               1813.3018302582666,\n",
              "               1812.6036054164524,\n",
              "               1812.012071901628,\n",
              "               1811.3428248449734,\n",
              "               1810.8197379988014,\n",
              "               1810.1364349240691,\n",
              "               1809.488292145171,\n",
              "               1808.8302977736894,\n",
              "               1807.984971467298,\n",
              "               1807.2576465991515,\n",
              "               1806.4683874846767,\n",
              "               1805.83034405559,\n",
              "               1805.2387352791338,\n",
              "               1804.4593098942726,\n",
              "               1803.7364056384147,\n",
              "               1803.2880291697895,\n",
              "               1802.537650508587,\n",
              "               1801.861532586847,\n",
              "               1801.1900710130037],\n",
              "              'test-RMSE-std': [27.177053143632396,\n",
              "               27.364356685812602,\n",
              "               27.891130158795114,\n",
              "               26.943712687796673,\n",
              "               26.680371889477794,\n",
              "               27.198433520418757,\n",
              "               27.847049784310773,\n",
              "               27.47009459022365,\n",
              "               27.135656014594296,\n",
              "               26.59463657620796,\n",
              "               27.073965292771256,\n",
              "               27.771372175982627,\n",
              "               26.699515014274642,\n",
              "               26.425098133764198,\n",
              "               25.792410930777915,\n",
              "               25.694054034055636,\n",
              "               25.26829731231248,\n",
              "               24.42537879094243,\n",
              "               24.041608999841497,\n",
              "               24.527021211465982,\n",
              "               24.074470648420828,\n",
              "               23.943067198133637,\n",
              "               24.587340582462144,\n",
              "               24.763889398343032,\n",
              "               24.046768901350493,\n",
              "               22.61581646797414,\n",
              "               21.57880688760525,\n",
              "               21.93463703452982,\n",
              "               22.234073471089147,\n",
              "               23.19673246295002,\n",
              "               22.682328164494233,\n",
              "               22.3394222958979,\n",
              "               22.59521060173797,\n",
              "               22.414300675076163,\n",
              "               22.4076316221692,\n",
              "               21.62989837282762,\n",
              "               21.57286522017817,\n",
              "               21.690324575985866,\n",
              "               21.273586527920767,\n",
              "               21.126059651989355,\n",
              "               20.73424834184951,\n",
              "               20.58129818528919,\n",
              "               19.624830208129918,\n",
              "               19.277729709159146,\n",
              "               19.184790014698326,\n",
              "               19.099519015865603,\n",
              "               17.918573282412407,\n",
              "               17.728814385343902,\n",
              "               17.29864088389486,\n",
              "               17.079741652531848,\n",
              "               16.969961651662654,\n",
              "               16.49567322907883,\n",
              "               16.462335560495077,\n",
              "               16.488552619667374,\n",
              "               16.74741725240221,\n",
              "               16.945683453975793,\n",
              "               17.139469394439317,\n",
              "               17.129827909867025,\n",
              "               16.92189446186586,\n",
              "               16.887431748721728,\n",
              "               16.716465473078568,\n",
              "               16.395776499750728,\n",
              "               15.9868735725371,\n",
              "               15.799992494646647,\n",
              "               15.035261035948345,\n",
              "               14.69394511339323,\n",
              "               14.198192226374385,\n",
              "               13.962117368541383,\n",
              "               13.86666769693271,\n",
              "               13.577592606899039,\n",
              "               13.548354292028536,\n",
              "               13.393061624731892,\n",
              "               13.64329202891483,\n",
              "               13.570763910412028,\n",
              "               14.311253130951199,\n",
              "               13.991010189353874,\n",
              "               14.110320673621466,\n",
              "               14.275258103320605,\n",
              "               13.603982351924763,\n",
              "               13.600656030435987,\n",
              "               13.538466059969176,\n",
              "               13.779208396237662,\n",
              "               13.584239887182134,\n",
              "               12.614437766669306,\n",
              "               12.563793588246078,\n",
              "               12.5972786567302,\n",
              "               12.211783897012914,\n",
              "               12.250584290391197,\n",
              "               12.431527086966105,\n",
              "               12.136031314982883,\n",
              "               12.099462108687181,\n",
              "               11.89151802668697,\n",
              "               12.319699389795616,\n",
              "               12.134313684265454,\n",
              "               11.443159948010658,\n",
              "               11.485168592711972,\n",
              "               11.812591169292405,\n",
              "               11.573819219120859,\n",
              "               11.550431161412124,\n",
              "               11.250436398167235,\n",
              "               11.26771559373343,\n",
              "               11.135311917119749,\n",
              "               11.501865865119804,\n",
              "               11.338418312322071,\n",
              "               11.576616081258807,\n",
              "               11.2409226373779,\n",
              "               11.138378682961203,\n",
              "               11.18991623866704,\n",
              "               11.133763357727968,\n",
              "               10.95989098648417,\n",
              "               10.952003123419512,\n",
              "               10.955370484806165,\n",
              "               11.010302723176832,\n",
              "               10.936739623517061,\n",
              "               10.692858166402049,\n",
              "               10.681103664562757,\n",
              "               10.627734909661065,\n",
              "               10.484787585226519,\n",
              "               10.267982319095989,\n",
              "               10.392112769911632,\n",
              "               10.396080191987938,\n",
              "               10.139141770464569,\n",
              "               10.256294836376723,\n",
              "               10.113192687105201,\n",
              "               9.636064596210973,\n",
              "               9.469704713694671,\n",
              "               9.456183727064184,\n",
              "               9.638609818964996,\n",
              "               9.316687689746662,\n",
              "               9.326320962798176,\n",
              "               9.24632776083953,\n",
              "               9.166724357878332,\n",
              "               9.03964190250673,\n",
              "               9.01740993041432,\n",
              "               8.999326251802199,\n",
              "               8.99210263755997,\n",
              "               8.853372666290221,\n",
              "               9.027295580518095,\n",
              "               8.821166759567397,\n",
              "               9.14858751284832,\n",
              "               9.018790173228908,\n",
              "               8.722852741360237,\n",
              "               8.621801815554546,\n",
              "               8.58960012910857,\n",
              "               8.68750353587696,\n",
              "               8.548213883048698,\n",
              "               8.55288736786219,\n",
              "               8.489958004367965,\n",
              "               8.366824808982603,\n",
              "               8.30154720334936,\n",
              "               8.320197252894296,\n",
              "               8.574905898781934,\n",
              "               8.500126082116463,\n",
              "               8.483286515897325,\n",
              "               8.376894636555265,\n",
              "               8.45138717473478,\n",
              "               8.564423818233582,\n",
              "               8.429448725401322,\n",
              "               8.718970403812065,\n",
              "               8.624734082102819,\n",
              "               8.528034408562496,\n",
              "               8.585451717399568,\n",
              "               8.419875131301536,\n",
              "               8.545305848896716,\n",
              "               8.508912819982216,\n",
              "               8.25736914996722,\n",
              "               8.251836612077135,\n",
              "               8.094213695290568,\n",
              "               7.9343476764003995,\n",
              "               7.927285589555093,\n",
              "               7.749970374802589,\n",
              "               7.560483093115749,\n",
              "               7.4712927909514795,\n",
              "               7.604789610359367,\n",
              "               7.5766856369496765,\n",
              "               7.548333406624381,\n",
              "               7.379177572427627,\n",
              "               7.5853722338131595,\n",
              "               7.746281308004809,\n",
              "               7.669767427443165,\n",
              "               7.685003468249147,\n",
              "               7.901792043317572,\n",
              "               7.563881989990606,\n",
              "               7.599619816226851,\n",
              "               7.642718386064618,\n",
              "               7.58038237624142,\n",
              "               7.613628780580097,\n",
              "               7.493035868123394,\n",
              "               7.5869332635963636,\n",
              "               7.652975907093823,\n",
              "               7.800809048617101,\n",
              "               7.859463110283555,\n",
              "               7.631686122037157,\n",
              "               7.639248827209624,\n",
              "               7.770774409974976,\n",
              "               8.097555547029868,\n",
              "               7.987171105107833,\n",
              "               8.189812517561018,\n",
              "               7.88238139734435,\n",
              "               7.712173494907235],\n",
              "              'train-RMSE-mean': [7170.163308651971,\n",
              "               6982.341685048522,\n",
              "               6799.47254677715,\n",
              "               6625.129710740571,\n",
              "               6455.217290227937,\n",
              "               6291.56775390243,\n",
              "               6133.640411058171,\n",
              "               5980.08918045197,\n",
              "               5831.10903845532,\n",
              "               5687.700328238243,\n",
              "               5548.025382477002,\n",
              "               5415.658240704749,\n",
              "               5285.312626048476,\n",
              "               5158.428283805475,\n",
              "               5036.326705943619,\n",
              "               4918.585706487727,\n",
              "               4804.564270710912,\n",
              "               4694.882957183192,\n",
              "               4588.090491746825,\n",
              "               4484.132335470466,\n",
              "               4385.345678983038,\n",
              "               4289.308205472599,\n",
              "               4195.152235197195,\n",
              "               4104.699652370803,\n",
              "               4017.755858578548,\n",
              "               3934.428112268691,\n",
              "               3855.3561687296083,\n",
              "               3777.180530437156,\n",
              "               3701.4483666465912,\n",
              "               3629.3088930777863,\n",
              "               3559.7603231492108,\n",
              "               3492.4366103717252,\n",
              "               3428.5650393884243,\n",
              "               3365.8469864878916,\n",
              "               3306.174656102415,\n",
              "               3247.5644757804107,\n",
              "               3192.073986437145,\n",
              "               3138.185828580597,\n",
              "               3085.4408539028027,\n",
              "               3036.807531937405,\n",
              "               2987.823006405626,\n",
              "               2940.962142517172,\n",
              "               2895.9643862399166,\n",
              "               2853.4142662819395,\n",
              "               2811.576627981251,\n",
              "               2772.473786919261,\n",
              "               2734.835114393721,\n",
              "               2698.2130681544845,\n",
              "               2662.9693439048056,\n",
              "               2629.2981771492446,\n",
              "               2597.298525479209,\n",
              "               2566.9372235763617,\n",
              "               2537.993650723713,\n",
              "               2509.9797912055915,\n",
              "               2482.2831988858406,\n",
              "               2456.078131694739,\n",
              "               2430.3857372993093,\n",
              "               2406.1776692992967,\n",
              "               2383.707115073888,\n",
              "               2360.919091029239,\n",
              "               2339.759507017652,\n",
              "               2318.746667734858,\n",
              "               2299.3679784233186,\n",
              "               2280.673651315092,\n",
              "               2262.4769457776197,\n",
              "               2245.5944350990853,\n",
              "               2229.5119138024074,\n",
              "               2213.6650169073487,\n",
              "               2198.6467496815144,\n",
              "               2184.5870718792103,\n",
              "               2170.1609876932944,\n",
              "               2157.011117837048,\n",
              "               2144.200271028629,\n",
              "               2131.6755819864434,\n",
              "               2119.8087400927775,\n",
              "               2108.1570441052777,\n",
              "               2097.7948185641258,\n",
              "               2087.8554347060176,\n",
              "               2077.8372327472425,\n",
              "               2067.6534764648077,\n",
              "               2058.2139674480513,\n",
              "               2049.2459836213206,\n",
              "               2040.4000615492687,\n",
              "               2031.8515317493275,\n",
              "               2024.400343532575,\n",
              "               2016.9087230479245,\n",
              "               2009.8142354952834,\n",
              "               2003.0549060074427,\n",
              "               1995.661544623655,\n",
              "               1989.274251456032,\n",
              "               1983.1640859717584,\n",
              "               1977.2070451449272,\n",
              "               1971.4790058229619,\n",
              "               1966.37181676562,\n",
              "               1960.5309987352787,\n",
              "               1955.6916689818943,\n",
              "               1950.5964547084131,\n",
              "               1945.6426188900923,\n",
              "               1940.9764719967231,\n",
              "               1936.651889921671,\n",
              "               1932.6234924307876,\n",
              "               1928.587101007048,\n",
              "               1924.6365539303831,\n",
              "               1920.663135120535,\n",
              "               1916.462500155174,\n",
              "               1912.5936659286278,\n",
              "               1909.3643427665709,\n",
              "               1905.7132199381983,\n",
              "               1901.5217482365636,\n",
              "               1898.3106002585062,\n",
              "               1895.2815072525184,\n",
              "               1892.2172741551367,\n",
              "               1889.5069820514063,\n",
              "               1886.517923909404,\n",
              "               1883.6793003387195,\n",
              "               1881.2862131898146,\n",
              "               1878.9111678832057,\n",
              "               1876.4551992768877,\n",
              "               1873.7505090995091,\n",
              "               1870.994495740669,\n",
              "               1868.9214285894996,\n",
              "               1866.4983110211633,\n",
              "               1864.0339230316624,\n",
              "               1861.8802713155567,\n",
              "               1859.3769638567446,\n",
              "               1856.9684009615892,\n",
              "               1854.915267129716,\n",
              "               1852.8692559296821,\n",
              "               1850.810511953054,\n",
              "               1848.5721237712114,\n",
              "               1846.8206920546365,\n",
              "               1844.8362396829216,\n",
              "               1843.245736935179,\n",
              "               1841.5306761641866,\n",
              "               1839.8938432635375,\n",
              "               1838.106797677371,\n",
              "               1836.5302064192867,\n",
              "               1835.1086478466543,\n",
              "               1833.1815441839253,\n",
              "               1831.405087081349,\n",
              "               1829.639884467167,\n",
              "               1828.0603932176782,\n",
              "               1826.7176086894672,\n",
              "               1825.1932987896168,\n",
              "               1823.890563676433,\n",
              "               1822.7311191289937,\n",
              "               1821.3914574007867,\n",
              "               1820.088813475746,\n",
              "               1818.8576779174145,\n",
              "               1817.4714529513058,\n",
              "               1815.9101326543926,\n",
              "               1814.6462128103701,\n",
              "               1813.4123739698255,\n",
              "               1812.4441223765282,\n",
              "               1811.07498703648,\n",
              "               1809.9003572481708,\n",
              "               1808.992767545675,\n",
              "               1807.904753140391,\n",
              "               1806.6066603641987,\n",
              "               1805.5779012214919,\n",
              "               1804.4259559661184,\n",
              "               1803.4520179619685,\n",
              "               1802.1144190228708,\n",
              "               1800.8309774734298,\n",
              "               1799.4411872995133,\n",
              "               1798.4243020401018,\n",
              "               1797.4493210581993,\n",
              "               1796.2309034934306,\n",
              "               1795.3514568644616,\n",
              "               1794.3816387339036,\n",
              "               1793.3069486214201,\n",
              "               1792.2947063857403,\n",
              "               1791.3283592581013,\n",
              "               1790.4789332188193,\n",
              "               1789.5679982083668,\n",
              "               1788.4989730877485,\n",
              "               1787.5126630486575,\n",
              "               1786.4487311105206,\n",
              "               1785.4722241026084,\n",
              "               1784.3256196853347,\n",
              "               1783.273292953167,\n",
              "               1782.3628232628625,\n",
              "               1781.4716844657858,\n",
              "               1780.768209935983,\n",
              "               1779.9659945795327,\n",
              "               1779.2953618782442,\n",
              "               1778.4456926925486,\n",
              "               1777.6476681981385,\n",
              "               1776.899055821281,\n",
              "               1775.9452334464113,\n",
              "               1775.086530728647,\n",
              "               1774.1138315855853,\n",
              "               1773.2792658794508,\n",
              "               1772.5391369337751,\n",
              "               1771.6204228192003,\n",
              "               1770.7453530575938,\n",
              "               1770.0984504118169,\n",
              "               1769.1720918233439,\n",
              "               1768.2650048982862,\n",
              "               1767.4706842914995],\n",
              "              'train-RMSE-std': [13.261856018331756,\n",
              "               12.649263140687312,\n",
              "               11.575646387185008,\n",
              "               12.085218539752981,\n",
              "               12.00771109992617,\n",
              "               11.287532445251847,\n",
              "               10.236589623580985,\n",
              "               10.101812644433057,\n",
              "               10.191891881475922,\n",
              "               10.889518205281847,\n",
              "               9.937986499133748,\n",
              "               9.16385036476122,\n",
              "               9.949284281241162,\n",
              "               9.380757365960907,\n",
              "               9.461966173144983,\n",
              "               8.9402680035753,\n",
              "               9.20273337285026,\n",
              "               9.729301268127319,\n",
              "               9.74335509359348,\n",
              "               9.242802142702292,\n",
              "               9.366929246025252,\n",
              "               9.369651721829682,\n",
              "               8.476777503808949,\n",
              "               8.146541727514272,\n",
              "               8.392733875547316,\n",
              "               9.68298567212049,\n",
              "               10.286591453717989,\n",
              "               9.66987273645617,\n",
              "               8.898334485731633,\n",
              "               7.598428512774953,\n",
              "               7.689063957145315,\n",
              "               7.741835827060577,\n",
              "               7.09946749333075,\n",
              "               7.028811866127496,\n",
              "               7.083916348667678,\n",
              "               7.639260534235286,\n",
              "               7.494689387215777,\n",
              "               7.418366377691736,\n",
              "               7.440589013928572,\n",
              "               7.026130321993768,\n",
              "               6.855581561920298,\n",
              "               7.047407712595659,\n",
              "               7.353476291044271,\n",
              "               7.400236231059483,\n",
              "               6.951416904872744,\n",
              "               6.810380889029809,\n",
              "               7.7726568526086535,\n",
              "               7.5484590045919955,\n",
              "               7.857258767182635,\n",
              "               7.839155723001252,\n",
              "               7.892520297566474,\n",
              "               8.01274118267611,\n",
              "               7.70080139418082,\n",
              "               7.62764792936897,\n",
              "               7.346232414882059,\n",
              "               6.883700111999488,\n",
              "               6.25391468190984,\n",
              "               6.303479790253124,\n",
              "               6.032202215792616,\n",
              "               5.698271005320372,\n",
              "               5.7248208198360295,\n",
              "               5.737762258939741,\n",
              "               5.886937206405239,\n",
              "               5.7904028697331045,\n",
              "               6.135682556136182,\n",
              "               6.16880453151468,\n",
              "               6.317086231204114,\n",
              "               6.431972762226205,\n",
              "               6.391419120038195,\n",
              "               6.5106073327940175,\n",
              "               6.318748547217218,\n",
              "               6.199785871952684,\n",
              "               5.784387811556309,\n",
              "               5.751728277544135,\n",
              "               4.781427198042202,\n",
              "               4.951822515097256,\n",
              "               4.528996076022787,\n",
              "               4.122070474984376,\n",
              "               4.572990488393638,\n",
              "               4.448618996796802,\n",
              "               4.136129965065047,\n",
              "               3.809101116776732,\n",
              "               3.753337259498889,\n",
              "               4.537716473659313,\n",
              "               4.3833683148581635,\n",
              "               4.0595755949277414,\n",
              "               4.224683694392508,\n",
              "               4.090421243662244,\n",
              "               3.7821443029320854,\n",
              "               4.094968135361281,\n",
              "               3.9727479219858504,\n",
              "               3.855911076004522,\n",
              "               3.322770796513873,\n",
              "               3.371720059776744,\n",
              "               3.9904863930000385,\n",
              "               3.7863868849167517,\n",
              "               3.1583852767703156,\n",
              "               3.4676396508255203,\n",
              "               3.4167685090059328,\n",
              "               3.4513550616356805,\n",
              "               3.3903999670964504,\n",
              "               3.4466378174295933,\n",
              "               2.897949123602243,\n",
              "               2.945072843183521,\n",
              "               2.64674545002307,\n",
              "               2.854311390764288,\n",
              "               2.81171135567719,\n",
              "               2.565463015492675,\n",
              "               2.455995876998649,\n",
              "               2.5627705285503666,\n",
              "               2.4497320677236303,\n",
              "               2.2706182731785867,\n",
              "               2.0769755592732313,\n",
              "               1.990564991618553,\n",
              "               2.05446025363215,\n",
              "               1.9163860897766627,\n",
              "               1.7611944936398984,\n",
              "               1.7777208673698284,\n",
              "               1.8267134931707274,\n",
              "               1.5920898488294468,\n",
              "               1.5001333762721958,\n",
              "               1.7397291705798585,\n",
              "               1.5886181104880501,\n",
              "               1.6615197804532722,\n",
              "               2.031774386281681,\n",
              "               2.103044985814246,\n",
              "               2.1266366531623757,\n",
              "               1.8768532139757712,\n",
              "               2.1013348005661845,\n",
              "               1.930505523651881,\n",
              "               1.9545457321385749,\n",
              "               2.040319959815717,\n",
              "               2.0690659311093436,\n",
              "               2.112065534402296,\n",
              "               2.0368155630950744,\n",
              "               1.9728416537743214,\n",
              "               2.023504578981436,\n",
              "               1.740586790828305,\n",
              "               1.9906857089178096,\n",
              "               1.7966599120716031,\n",
              "               1.6496413177289166,\n",
              "               1.9464428984902336,\n",
              "               1.876189796492541,\n",
              "               1.777108868333599,\n",
              "               1.5238461992221801,\n",
              "               1.6454256294122453,\n",
              "               1.819450805480423,\n",
              "               1.8981723029315813,\n",
              "               2.0674543497038327,\n",
              "               2.1306176324459885,\n",
              "               2.0589690116859334,\n",
              "               1.6685304504185599,\n",
              "               1.8635394943222592,\n",
              "               1.8551042654543184,\n",
              "               1.714458307510007,\n",
              "               1.778441587162749,\n",
              "               1.6471783134212377,\n",
              "               1.7379997842300408,\n",
              "               1.594792903969984,\n",
              "               1.5541164588785321,\n",
              "               1.341102646903321,\n",
              "               1.503508681964905,\n",
              "               1.511916939259026,\n",
              "               1.669332991026566,\n",
              "               1.5948357181858643,\n",
              "               1.5689137699247313,\n",
              "               1.6920324957486483,\n",
              "               1.6390068247003486,\n",
              "               1.5751620240740487,\n",
              "               1.5816938315257507,\n",
              "               1.6059402445389972,\n",
              "               1.745328163692277,\n",
              "               1.7946742396600022,\n",
              "               1.7024497520422168,\n",
              "               1.8980547914155923,\n",
              "               1.7091194541471189,\n",
              "               1.7346617606553656,\n",
              "               1.8225286135239136,\n",
              "               1.6915329529596252,\n",
              "               1.7143470116180797,\n",
              "               1.6437335388690324,\n",
              "               1.837262333298764,\n",
              "               1.9238542333944655,\n",
              "               1.8672158287786147,\n",
              "               1.823193020351228,\n",
              "               1.871875579278362,\n",
              "               1.7487350123178373,\n",
              "               1.8946070868401503,\n",
              "               1.8100528715439865,\n",
              "               1.7053338814491297,\n",
              "               1.5398302195021976,\n",
              "               1.5717365970292936,\n",
              "               1.6769912866147865,\n",
              "               1.7017926872768023,\n",
              "               1.7509651208988068,\n",
              "               1.42373506718685,\n",
              "               1.408863952185932,\n",
              "               1.0671272513689072,\n",
              "               1.1060261722327218,\n",
              "               1.2492960758254787]})}"
            ]
          },
          "execution_count": 46,
          "metadata": {},
          "output_type": "execute_result"
        }
      ],
      "source": [
        "model_cbr.grid_search(grid_cbr, X_train, y_train)"
      ]
    },
    {
      "cell_type": "code",
      "execution_count": null,
      "metadata": {
        "scrolled": true,
        "id": "_34Xsb0tQ0Gs",
        "outputId": "79ce984e-d6b8-48c4-9c25-40790a02ca11"
      },
      "outputs": [
        {
          "name": "stdout",
          "output_type": "stream",
          "text": [
            "Learning rate set to 0.327473\n",
            "0:\tlearn: 3544.0067719\ttotal: 58.5ms\tremaining: 11.6s\n",
            "1:\tlearn: 2899.9659230\ttotal: 106ms\tremaining: 10.5s\n",
            "2:\tlearn: 2517.0233533\ttotal: 154ms\tremaining: 10.1s\n",
            "3:\tlearn: 2285.5492008\ttotal: 196ms\tremaining: 9.6s\n",
            "4:\tlearn: 2134.9510864\ttotal: 248ms\tremaining: 9.69s\n",
            "5:\tlearn: 2047.1977704\ttotal: 291ms\tremaining: 9.41s\n",
            "6:\tlearn: 1989.6345001\ttotal: 358ms\tremaining: 9.87s\n",
            "7:\tlearn: 1932.9668296\ttotal: 427ms\tremaining: 10.2s\n",
            "8:\tlearn: 1901.9895151\ttotal: 467ms\tremaining: 9.91s\n",
            "9:\tlearn: 1873.7403445\ttotal: 516ms\tremaining: 9.8s\n",
            "10:\tlearn: 1855.1604359\ttotal: 559ms\tremaining: 9.61s\n",
            "11:\tlearn: 1840.6302580\ttotal: 605ms\tremaining: 9.48s\n",
            "12:\tlearn: 1822.9805458\ttotal: 646ms\tremaining: 9.29s\n",
            "13:\tlearn: 1812.7329491\ttotal: 691ms\tremaining: 9.17s\n",
            "14:\tlearn: 1801.7509819\ttotal: 733ms\tremaining: 9.04s\n",
            "15:\tlearn: 1792.0924564\ttotal: 777ms\tremaining: 8.94s\n",
            "16:\tlearn: 1783.5187443\ttotal: 821ms\tremaining: 8.84s\n",
            "17:\tlearn: 1775.4112805\ttotal: 871ms\tremaining: 8.81s\n",
            "18:\tlearn: 1765.3766994\ttotal: 916ms\tremaining: 8.72s\n",
            "19:\tlearn: 1757.8511093\ttotal: 983ms\tremaining: 8.84s\n",
            "20:\tlearn: 1752.3297220\ttotal: 1.05s\tremaining: 8.93s\n",
            "21:\tlearn: 1747.0988630\ttotal: 1.11s\tremaining: 8.99s\n",
            "22:\tlearn: 1741.0147315\ttotal: 1.17s\tremaining: 9.04s\n",
            "23:\tlearn: 1736.5666442\ttotal: 1.24s\tremaining: 9.08s\n",
            "24:\tlearn: 1728.7797065\ttotal: 1.28s\tremaining: 8.99s\n",
            "25:\tlearn: 1725.8388374\ttotal: 1.33s\tremaining: 8.92s\n",
            "26:\tlearn: 1720.2807725\ttotal: 1.37s\tremaining: 8.81s\n",
            "27:\tlearn: 1715.1259431\ttotal: 1.43s\tremaining: 8.76s\n",
            "28:\tlearn: 1710.3925994\ttotal: 1.47s\tremaining: 8.66s\n",
            "29:\tlearn: 1704.5625850\ttotal: 1.51s\tremaining: 8.58s\n",
            "30:\tlearn: 1701.2768027\ttotal: 1.56s\tremaining: 8.51s\n",
            "31:\tlearn: 1696.0881983\ttotal: 1.61s\tremaining: 8.47s\n",
            "32:\tlearn: 1691.6848327\ttotal: 1.67s\tremaining: 8.45s\n",
            "33:\tlearn: 1689.3083398\ttotal: 1.72s\tremaining: 8.39s\n",
            "34:\tlearn: 1686.2952166\ttotal: 1.76s\tremaining: 8.31s\n",
            "35:\tlearn: 1684.1702415\ttotal: 1.81s\tremaining: 8.26s\n",
            "36:\tlearn: 1680.6014960\ttotal: 1.86s\tremaining: 8.2s\n",
            "37:\tlearn: 1675.3931451\ttotal: 1.93s\tremaining: 8.22s\n",
            "38:\tlearn: 1673.1806929\ttotal: 2s\tremaining: 8.24s\n",
            "39:\tlearn: 1669.1963093\ttotal: 2.06s\tremaining: 8.25s\n",
            "40:\tlearn: 1667.8816844\ttotal: 2.12s\tremaining: 8.21s\n",
            "41:\tlearn: 1665.4315617\ttotal: 2.16s\tremaining: 8.12s\n",
            "42:\tlearn: 1661.7605556\ttotal: 2.22s\tremaining: 8.1s\n",
            "43:\tlearn: 1657.4713913\ttotal: 2.28s\tremaining: 8.08s\n",
            "44:\tlearn: 1651.5466141\ttotal: 2.33s\tremaining: 8.02s\n",
            "45:\tlearn: 1649.3201203\ttotal: 2.37s\tremaining: 7.93s\n",
            "46:\tlearn: 1644.7684038\ttotal: 2.42s\tremaining: 7.88s\n",
            "47:\tlearn: 1639.6636722\ttotal: 2.49s\tremaining: 7.88s\n",
            "48:\tlearn: 1637.4381041\ttotal: 2.54s\tremaining: 7.83s\n",
            "49:\tlearn: 1634.1672066\ttotal: 2.6s\tremaining: 7.81s\n",
            "50:\tlearn: 1631.1711927\ttotal: 2.66s\tremaining: 7.77s\n",
            "51:\tlearn: 1628.3166363\ttotal: 2.71s\tremaining: 7.72s\n",
            "52:\tlearn: 1626.1314687\ttotal: 2.75s\tremaining: 7.64s\n",
            "53:\tlearn: 1624.1865176\ttotal: 2.8s\tremaining: 7.57s\n",
            "54:\tlearn: 1620.6635637\ttotal: 2.84s\tremaining: 7.49s\n",
            "55:\tlearn: 1619.0889490\ttotal: 2.9s\tremaining: 7.45s\n",
            "56:\tlearn: 1616.7042260\ttotal: 2.94s\tremaining: 7.38s\n",
            "57:\tlearn: 1614.5108174\ttotal: 3s\tremaining: 7.34s\n",
            "58:\tlearn: 1613.3081878\ttotal: 3.04s\tremaining: 7.26s\n",
            "59:\tlearn: 1611.4147197\ttotal: 3.09s\tremaining: 7.21s\n",
            "60:\tlearn: 1609.4872361\ttotal: 3.14s\tremaining: 7.16s\n",
            "61:\tlearn: 1607.6497576\ttotal: 3.2s\tremaining: 7.12s\n",
            "62:\tlearn: 1604.8690105\ttotal: 3.25s\tremaining: 7.06s\n",
            "63:\tlearn: 1604.4782259\ttotal: 3.28s\tremaining: 6.97s\n",
            "64:\tlearn: 1603.0170064\ttotal: 3.33s\tremaining: 6.91s\n",
            "65:\tlearn: 1602.7715602\ttotal: 3.36s\tremaining: 6.82s\n",
            "66:\tlearn: 1600.6886613\ttotal: 3.41s\tremaining: 6.77s\n",
            "67:\tlearn: 1597.8315497\ttotal: 3.46s\tremaining: 6.73s\n",
            "68:\tlearn: 1595.7487200\ttotal: 3.52s\tremaining: 6.68s\n",
            "69:\tlearn: 1593.8479507\ttotal: 3.58s\tremaining: 6.64s\n",
            "70:\tlearn: 1590.3794910\ttotal: 3.62s\tremaining: 6.58s\n",
            "71:\tlearn: 1588.9900738\ttotal: 3.67s\tremaining: 6.53s\n",
            "72:\tlearn: 1588.4408244\ttotal: 3.72s\tremaining: 6.48s\n",
            "73:\tlearn: 1586.8200912\ttotal: 3.77s\tremaining: 6.42s\n",
            "74:\tlearn: 1583.5635002\ttotal: 3.83s\tremaining: 6.38s\n",
            "75:\tlearn: 1580.1208009\ttotal: 3.88s\tremaining: 6.34s\n",
            "76:\tlearn: 1578.0038706\ttotal: 3.93s\tremaining: 6.28s\n",
            "77:\tlearn: 1575.8076286\ttotal: 3.98s\tremaining: 6.22s\n",
            "78:\tlearn: 1575.3288066\ttotal: 4.02s\tremaining: 6.16s\n",
            "79:\tlearn: 1572.0105691\ttotal: 4.07s\tremaining: 6.11s\n",
            "80:\tlearn: 1570.8873875\ttotal: 4.11s\tremaining: 6.04s\n",
            "81:\tlearn: 1567.1720364\ttotal: 4.16s\tremaining: 5.99s\n",
            "82:\tlearn: 1566.9626314\ttotal: 4.19s\tremaining: 5.91s\n",
            "83:\tlearn: 1565.4755716\ttotal: 4.25s\tremaining: 5.87s\n",
            "84:\tlearn: 1563.3729655\ttotal: 4.31s\tremaining: 5.83s\n",
            "85:\tlearn: 1561.5195728\ttotal: 4.36s\tremaining: 5.79s\n",
            "86:\tlearn: 1557.1679967\ttotal: 4.41s\tremaining: 5.73s\n",
            "87:\tlearn: 1554.7713151\ttotal: 4.46s\tremaining: 5.68s\n",
            "88:\tlearn: 1553.3440696\ttotal: 4.51s\tremaining: 5.63s\n",
            "89:\tlearn: 1551.4529104\ttotal: 4.59s\tremaining: 5.61s\n",
            "90:\tlearn: 1549.7521704\ttotal: 4.66s\tremaining: 5.58s\n",
            "91:\tlearn: 1548.8335322\ttotal: 4.7s\tremaining: 5.52s\n",
            "92:\tlearn: 1547.2420302\ttotal: 4.75s\tremaining: 5.47s\n",
            "93:\tlearn: 1545.1796143\ttotal: 4.79s\tremaining: 5.4s\n",
            "94:\tlearn: 1544.5517366\ttotal: 4.83s\tremaining: 5.34s\n",
            "95:\tlearn: 1543.2146734\ttotal: 4.88s\tremaining: 5.28s\n",
            "96:\tlearn: 1541.1788877\ttotal: 4.92s\tremaining: 5.22s\n",
            "97:\tlearn: 1539.9284416\ttotal: 4.97s\tremaining: 5.17s\n",
            "98:\tlearn: 1538.5258337\ttotal: 5.01s\tremaining: 5.12s\n",
            "99:\tlearn: 1536.2365084\ttotal: 5.06s\tremaining: 5.06s\n",
            "100:\tlearn: 1534.8391694\ttotal: 5.11s\tremaining: 5s\n",
            "101:\tlearn: 1533.3884066\ttotal: 5.16s\tremaining: 4.96s\n",
            "102:\tlearn: 1531.6730596\ttotal: 5.2s\tremaining: 4.9s\n",
            "103:\tlearn: 1530.8524782\ttotal: 5.25s\tremaining: 4.85s\n",
            "104:\tlearn: 1530.0439799\ttotal: 5.29s\tremaining: 4.79s\n",
            "105:\tlearn: 1527.6770162\ttotal: 5.35s\tremaining: 4.74s\n",
            "106:\tlearn: 1525.5592657\ttotal: 5.39s\tremaining: 4.68s\n",
            "107:\tlearn: 1524.0830823\ttotal: 5.44s\tremaining: 4.63s\n",
            "108:\tlearn: 1522.7619025\ttotal: 5.48s\tremaining: 4.57s\n",
            "109:\tlearn: 1521.4720627\ttotal: 5.52s\tremaining: 4.51s\n",
            "110:\tlearn: 1520.6093555\ttotal: 5.58s\tremaining: 4.48s\n",
            "111:\tlearn: 1519.5145950\ttotal: 5.65s\tremaining: 4.44s\n",
            "112:\tlearn: 1517.8713633\ttotal: 5.69s\tremaining: 4.38s\n",
            "113:\tlearn: 1517.2035260\ttotal: 5.74s\tremaining: 4.33s\n",
            "114:\tlearn: 1515.1721804\ttotal: 5.78s\tremaining: 4.27s\n",
            "115:\tlearn: 1513.1650768\ttotal: 5.83s\tremaining: 4.22s\n",
            "116:\tlearn: 1510.8780879\ttotal: 5.87s\tremaining: 4.17s\n",
            "117:\tlearn: 1509.2921713\ttotal: 5.92s\tremaining: 4.12s\n",
            "118:\tlearn: 1507.5970405\ttotal: 5.99s\tremaining: 4.08s\n",
            "119:\tlearn: 1506.5945376\ttotal: 6.04s\tremaining: 4.03s\n",
            "120:\tlearn: 1505.9809114\ttotal: 6.08s\tremaining: 3.97s\n",
            "121:\tlearn: 1505.4367064\ttotal: 6.13s\tremaining: 3.92s\n",
            "122:\tlearn: 1504.5064921\ttotal: 6.17s\tremaining: 3.86s\n",
            "123:\tlearn: 1503.8224821\ttotal: 6.22s\tremaining: 3.81s\n",
            "124:\tlearn: 1502.7911245\ttotal: 6.26s\tremaining: 3.75s\n",
            "125:\tlearn: 1502.6355405\ttotal: 6.31s\tremaining: 3.71s\n",
            "126:\tlearn: 1501.9988530\ttotal: 6.35s\tremaining: 3.65s\n",
            "127:\tlearn: 1498.6007715\ttotal: 6.39s\tremaining: 3.59s\n",
            "128:\tlearn: 1496.6736819\ttotal: 6.43s\tremaining: 3.54s\n",
            "129:\tlearn: 1496.6165239\ttotal: 6.46s\tremaining: 3.48s\n",
            "130:\tlearn: 1495.5203878\ttotal: 6.51s\tremaining: 3.43s\n",
            "131:\tlearn: 1494.1977181\ttotal: 6.55s\tremaining: 3.37s\n",
            "132:\tlearn: 1493.6224833\ttotal: 6.59s\tremaining: 3.32s\n",
            "133:\tlearn: 1492.6961769\ttotal: 6.63s\tremaining: 3.27s\n",
            "134:\tlearn: 1491.7864806\ttotal: 6.67s\tremaining: 3.21s\n",
            "135:\tlearn: 1490.1484983\ttotal: 6.72s\tremaining: 3.16s\n",
            "136:\tlearn: 1488.7906551\ttotal: 6.76s\tremaining: 3.11s\n",
            "137:\tlearn: 1487.8122083\ttotal: 6.81s\tremaining: 3.06s\n",
            "138:\tlearn: 1486.9851978\ttotal: 6.85s\tremaining: 3.01s\n",
            "139:\tlearn: 1485.0401659\ttotal: 6.9s\tremaining: 2.96s\n",
            "140:\tlearn: 1484.0895353\ttotal: 6.94s\tremaining: 2.9s\n",
            "141:\tlearn: 1482.7560046\ttotal: 6.99s\tremaining: 2.86s\n",
            "142:\tlearn: 1482.1995160\ttotal: 7.03s\tremaining: 2.8s\n",
            "143:\tlearn: 1481.2269018\ttotal: 7.08s\tremaining: 2.75s\n",
            "144:\tlearn: 1480.1485093\ttotal: 7.12s\tremaining: 2.7s\n",
            "145:\tlearn: 1478.3868885\ttotal: 7.17s\tremaining: 2.65s\n",
            "146:\tlearn: 1477.5408334\ttotal: 7.21s\tremaining: 2.6s\n",
            "147:\tlearn: 1476.5347030\ttotal: 7.26s\tremaining: 2.55s\n",
            "148:\tlearn: 1475.7272612\ttotal: 7.3s\tremaining: 2.5s\n",
            "149:\tlearn: 1474.7782340\ttotal: 7.35s\tremaining: 2.45s\n",
            "150:\tlearn: 1474.6812184\ttotal: 7.39s\tremaining: 2.4s\n",
            "151:\tlearn: 1473.4013842\ttotal: 7.44s\tremaining: 2.35s\n",
            "152:\tlearn: 1473.3663460\ttotal: 7.49s\tremaining: 2.3s\n",
            "153:\tlearn: 1471.9235653\ttotal: 7.53s\tremaining: 2.25s\n",
            "154:\tlearn: 1471.0037040\ttotal: 7.57s\tremaining: 2.2s\n",
            "155:\tlearn: 1470.2728901\ttotal: 7.62s\tremaining: 2.15s\n",
            "156:\tlearn: 1468.9516909\ttotal: 7.66s\tremaining: 2.1s\n",
            "157:\tlearn: 1468.8400693\ttotal: 7.7s\tremaining: 2.05s\n",
            "158:\tlearn: 1468.2529902\ttotal: 7.74s\tremaining: 2s\n",
            "159:\tlearn: 1467.8137982\ttotal: 7.79s\tremaining: 1.95s\n",
            "160:\tlearn: 1466.8554304\ttotal: 7.84s\tremaining: 1.9s\n",
            "161:\tlearn: 1464.5629998\ttotal: 7.88s\tremaining: 1.85s\n",
            "162:\tlearn: 1463.2781546\ttotal: 7.93s\tremaining: 1.8s\n",
            "163:\tlearn: 1461.9937388\ttotal: 7.97s\tremaining: 1.75s\n",
            "164:\tlearn: 1461.3296019\ttotal: 8.02s\tremaining: 1.7s\n",
            "165:\tlearn: 1460.5115401\ttotal: 8.06s\tremaining: 1.65s\n",
            "166:\tlearn: 1459.8298643\ttotal: 8.1s\tremaining: 1.6s\n",
            "167:\tlearn: 1459.1402200\ttotal: 8.15s\tremaining: 1.55s\n",
            "168:\tlearn: 1458.7094225\ttotal: 8.19s\tremaining: 1.5s\n",
            "169:\tlearn: 1458.0051769\ttotal: 8.24s\tremaining: 1.45s\n",
            "170:\tlearn: 1456.1240995\ttotal: 8.28s\tremaining: 1.4s\n",
            "171:\tlearn: 1455.1097591\ttotal: 8.32s\tremaining: 1.35s\n",
            "172:\tlearn: 1454.6774857\ttotal: 8.36s\tremaining: 1.3s\n",
            "173:\tlearn: 1454.5135968\ttotal: 8.41s\tremaining: 1.26s\n",
            "174:\tlearn: 1453.7370139\ttotal: 8.45s\tremaining: 1.21s\n",
            "175:\tlearn: 1452.4430269\ttotal: 8.49s\tremaining: 1.16s\n",
            "176:\tlearn: 1451.5803414\ttotal: 8.54s\tremaining: 1.11s\n",
            "177:\tlearn: 1450.2683541\ttotal: 8.6s\tremaining: 1.06s\n",
            "178:\tlearn: 1449.4567520\ttotal: 8.64s\tremaining: 1.01s\n",
            "179:\tlearn: 1448.6452827\ttotal: 8.68s\tremaining: 964ms\n",
            "180:\tlearn: 1447.9444407\ttotal: 8.72s\tremaining: 916ms\n",
            "181:\tlearn: 1446.8501976\ttotal: 8.77s\tremaining: 868ms\n",
            "182:\tlearn: 1446.3243188\ttotal: 8.82s\tremaining: 819ms\n",
            "183:\tlearn: 1445.6256494\ttotal: 8.86s\tremaining: 771ms\n",
            "184:\tlearn: 1444.2743387\ttotal: 8.92s\tremaining: 723ms\n",
            "185:\tlearn: 1443.6804746\ttotal: 8.99s\tremaining: 676ms\n",
            "186:\tlearn: 1442.8310007\ttotal: 9.05s\tremaining: 629ms\n",
            "187:\tlearn: 1442.2313982\ttotal: 9.1s\tremaining: 581ms\n",
            "188:\tlearn: 1440.9466792\ttotal: 9.14s\tremaining: 532ms\n",
            "189:\tlearn: 1440.1697763\ttotal: 9.2s\tremaining: 484ms\n",
            "190:\tlearn: 1438.9740164\ttotal: 9.24s\tremaining: 436ms\n",
            "191:\tlearn: 1437.8914052\ttotal: 9.3s\tremaining: 388ms\n",
            "192:\tlearn: 1436.6307779\ttotal: 9.35s\tremaining: 339ms\n",
            "193:\tlearn: 1436.0115371\ttotal: 9.41s\tremaining: 291ms\n",
            "194:\tlearn: 1435.7885934\ttotal: 9.46s\tremaining: 243ms\n",
            "195:\tlearn: 1434.6372312\ttotal: 9.52s\tremaining: 194ms\n",
            "196:\tlearn: 1434.1277286\ttotal: 9.56s\tremaining: 146ms\n",
            "197:\tlearn: 1433.8224410\ttotal: 9.61s\tremaining: 97ms\n",
            "198:\tlearn: 1433.0168343\ttotal: 9.65s\tremaining: 48.5ms\n",
            "199:\tlearn: 1432.2249723\ttotal: 9.7s\tremaining: 0us\n",
            "Learning rate set to 0.327473\n",
            "0:\tlearn: 3547.6313969\ttotal: 39.8ms\tremaining: 7.92s\n",
            "1:\tlearn: 2909.5134095\ttotal: 98.3ms\tremaining: 9.73s\n",
            "2:\tlearn: 2519.5310659\ttotal: 143ms\tremaining: 9.39s\n",
            "3:\tlearn: 2282.8408049\ttotal: 185ms\tremaining: 9.09s\n",
            "4:\tlearn: 2133.8783041\ttotal: 234ms\tremaining: 9.11s\n",
            "5:\tlearn: 2054.8102674\ttotal: 286ms\tremaining: 9.25s\n",
            "6:\tlearn: 2002.0121648\ttotal: 342ms\tremaining: 9.44s\n",
            "7:\tlearn: 1957.7846283\ttotal: 385ms\tremaining: 9.24s\n",
            "8:\tlearn: 1923.1881287\ttotal: 429ms\tremaining: 9.1s\n",
            "9:\tlearn: 1889.2108428\ttotal: 486ms\tremaining: 9.24s\n",
            "10:\tlearn: 1871.6781512\ttotal: 535ms\tremaining: 9.2s\n",
            "11:\tlearn: 1856.7483741\ttotal: 577ms\tremaining: 9.03s\n",
            "12:\tlearn: 1841.0933426\ttotal: 618ms\tremaining: 8.88s\n",
            "13:\tlearn: 1830.5575776\ttotal: 661ms\tremaining: 8.78s\n",
            "14:\tlearn: 1817.8173942\ttotal: 703ms\tremaining: 8.68s\n",
            "15:\tlearn: 1811.1314725\ttotal: 752ms\tremaining: 8.64s\n",
            "16:\tlearn: 1802.0617214\ttotal: 798ms\tremaining: 8.59s\n",
            "17:\tlearn: 1794.7160732\ttotal: 849ms\tremaining: 8.58s\n",
            "18:\tlearn: 1788.1917176\ttotal: 890ms\tremaining: 8.47s\n",
            "19:\tlearn: 1781.0542376\ttotal: 939ms\tremaining: 8.46s\n",
            "20:\tlearn: 1777.9573512\ttotal: 981ms\tremaining: 8.37s\n",
            "21:\tlearn: 1770.5825262\ttotal: 1.03s\tremaining: 8.33s\n",
            "22:\tlearn: 1764.3468186\ttotal: 1.07s\tremaining: 8.23s\n",
            "23:\tlearn: 1759.1138666\ttotal: 1.11s\tremaining: 8.17s\n",
            "24:\tlearn: 1750.8478789\ttotal: 1.16s\tremaining: 8.1s\n",
            "25:\tlearn: 1746.9473429\ttotal: 1.2s\tremaining: 8.04s\n",
            "26:\tlearn: 1741.0316101\ttotal: 1.25s\tremaining: 7.99s\n",
            "27:\tlearn: 1734.5770566\ttotal: 1.29s\tremaining: 7.92s\n",
            "28:\tlearn: 1727.9849644\ttotal: 1.34s\tremaining: 7.9s\n",
            "29:\tlearn: 1724.2035520\ttotal: 1.38s\tremaining: 7.83s\n",
            "30:\tlearn: 1721.9894735\ttotal: 1.43s\tremaining: 7.77s\n",
            "31:\tlearn: 1717.7344465\ttotal: 1.47s\tremaining: 7.7s\n",
            "32:\tlearn: 1713.8867067\ttotal: 1.52s\tremaining: 7.7s\n",
            "33:\tlearn: 1709.7441836\ttotal: 1.56s\tremaining: 7.63s\n",
            "34:\tlearn: 1706.5774501\ttotal: 1.61s\tremaining: 7.59s\n",
            "35:\tlearn: 1702.7075098\ttotal: 1.66s\tremaining: 7.54s\n",
            "36:\tlearn: 1698.4636596\ttotal: 1.71s\tremaining: 7.54s\n",
            "37:\tlearn: 1696.3571847\ttotal: 1.75s\tremaining: 7.48s\n",
            "38:\tlearn: 1693.1784608\ttotal: 1.8s\tremaining: 7.45s\n",
            "39:\tlearn: 1689.4354254\ttotal: 1.84s\tremaining: 7.38s\n",
            "40:\tlearn: 1687.1636599\ttotal: 1.9s\tremaining: 7.36s\n",
            "41:\tlearn: 1684.5404081\ttotal: 1.94s\tremaining: 7.29s\n",
            "42:\tlearn: 1681.2854043\ttotal: 1.99s\tremaining: 7.26s\n",
            "43:\tlearn: 1675.9520312\ttotal: 2.03s\tremaining: 7.2s\n",
            "44:\tlearn: 1673.3886206\ttotal: 2.07s\tremaining: 7.14s\n",
            "45:\tlearn: 1670.8689908\ttotal: 2.12s\tremaining: 7.11s\n",
            "46:\tlearn: 1669.2047669\ttotal: 2.17s\tremaining: 7.07s\n",
            "47:\tlearn: 1666.9857676\ttotal: 2.23s\tremaining: 7.05s\n",
            "48:\tlearn: 1662.1961079\ttotal: 2.27s\tremaining: 6.99s\n",
            "49:\tlearn: 1658.9842480\ttotal: 2.32s\tremaining: 6.97s\n",
            "50:\tlearn: 1655.4117088\ttotal: 2.37s\tremaining: 6.91s\n",
            "51:\tlearn: 1650.8250803\ttotal: 2.41s\tremaining: 6.86s\n",
            "52:\tlearn: 1648.3868095\ttotal: 2.45s\tremaining: 6.8s\n",
            "53:\tlearn: 1647.3979303\ttotal: 2.51s\tremaining: 6.78s\n",
            "54:\tlearn: 1645.2868014\ttotal: 2.55s\tremaining: 6.74s\n",
            "55:\tlearn: 1642.6551592\ttotal: 2.61s\tremaining: 6.71s\n",
            "56:\tlearn: 1639.4368873\ttotal: 2.66s\tremaining: 6.67s\n",
            "57:\tlearn: 1637.5999186\ttotal: 2.7s\tremaining: 6.62s\n",
            "58:\tlearn: 1635.5791472\ttotal: 2.74s\tremaining: 6.56s\n",
            "59:\tlearn: 1630.9408361\ttotal: 2.8s\tremaining: 6.53s\n",
            "60:\tlearn: 1627.3186996\ttotal: 2.84s\tremaining: 6.47s\n",
            "61:\tlearn: 1626.0026662\ttotal: 2.89s\tremaining: 6.44s\n",
            "62:\tlearn: 1624.2808520\ttotal: 2.95s\tremaining: 6.42s\n",
            "63:\tlearn: 1622.1785001\ttotal: 3s\tremaining: 6.37s\n",
            "64:\tlearn: 1621.3701179\ttotal: 3.04s\tremaining: 6.31s\n",
            "65:\tlearn: 1617.8664429\ttotal: 3.09s\tremaining: 6.27s\n",
            "66:\tlearn: 1615.7657476\ttotal: 3.13s\tremaining: 6.21s\n",
            "67:\tlearn: 1613.2029485\ttotal: 3.18s\tremaining: 6.17s\n",
            "68:\tlearn: 1611.3672641\ttotal: 3.24s\tremaining: 6.15s\n",
            "69:\tlearn: 1608.9775215\ttotal: 3.29s\tremaining: 6.12s\n",
            "70:\tlearn: 1604.4662675\ttotal: 3.35s\tremaining: 6.08s\n",
            "71:\tlearn: 1602.5838679\ttotal: 3.4s\tremaining: 6.04s\n",
            "72:\tlearn: 1601.3097215\ttotal: 3.45s\tremaining: 6s\n",
            "73:\tlearn: 1598.8450744\ttotal: 3.5s\tremaining: 5.96s\n",
            "74:\tlearn: 1597.5940933\ttotal: 3.55s\tremaining: 5.92s\n",
            "75:\tlearn: 1595.0688483\ttotal: 3.62s\tremaining: 5.9s\n",
            "76:\tlearn: 1592.9103998\ttotal: 3.69s\tremaining: 5.89s\n",
            "77:\tlearn: 1591.3908031\ttotal: 3.76s\tremaining: 5.88s\n",
            "78:\tlearn: 1589.3078815\ttotal: 3.82s\tremaining: 5.85s\n",
            "79:\tlearn: 1587.3934035\ttotal: 3.89s\tremaining: 5.83s\n",
            "80:\tlearn: 1586.3266267\ttotal: 3.93s\tremaining: 5.77s\n",
            "81:\tlearn: 1585.3737003\ttotal: 3.98s\tremaining: 5.72s\n",
            "82:\tlearn: 1582.4507689\ttotal: 4.02s\tremaining: 5.66s\n",
            "83:\tlearn: 1581.3057964\ttotal: 4.07s\tremaining: 5.61s\n",
            "84:\tlearn: 1579.9446279\ttotal: 4.11s\tremaining: 5.56s\n",
            "85:\tlearn: 1578.9227709\ttotal: 4.16s\tremaining: 5.52s\n",
            "86:\tlearn: 1576.3116027\ttotal: 4.21s\tremaining: 5.46s\n",
            "87:\tlearn: 1574.3486293\ttotal: 4.25s\tremaining: 5.41s\n",
            "88:\tlearn: 1573.0350074\ttotal: 4.29s\tremaining: 5.36s\n",
            "89:\tlearn: 1572.9332486\ttotal: 4.34s\tremaining: 5.31s\n",
            "90:\tlearn: 1571.2152799\ttotal: 4.39s\tremaining: 5.26s\n",
            "91:\tlearn: 1568.7964728\ttotal: 4.45s\tremaining: 5.22s\n",
            "92:\tlearn: 1567.6605030\ttotal: 4.49s\tremaining: 5.16s\n",
            "93:\tlearn: 1565.6967505\ttotal: 4.53s\tremaining: 5.11s\n",
            "94:\tlearn: 1564.2604338\ttotal: 4.59s\tremaining: 5.08s\n",
            "95:\tlearn: 1561.4571656\ttotal: 4.66s\tremaining: 5.05s\n",
            "96:\tlearn: 1560.2726650\ttotal: 4.71s\tremaining: 5s\n",
            "97:\tlearn: 1558.9051195\ttotal: 4.76s\tremaining: 4.95s\n",
            "98:\tlearn: 1557.2721495\ttotal: 4.8s\tremaining: 4.9s\n",
            "99:\tlearn: 1555.9458832\ttotal: 4.86s\tremaining: 4.86s\n",
            "100:\tlearn: 1554.4219443\ttotal: 4.9s\tremaining: 4.8s\n",
            "101:\tlearn: 1552.9939739\ttotal: 4.96s\tremaining: 4.77s\n",
            "102:\tlearn: 1551.6464864\ttotal: 5.01s\tremaining: 4.72s\n",
            "103:\tlearn: 1549.7351665\ttotal: 5.05s\tremaining: 4.67s\n",
            "104:\tlearn: 1547.6520897\ttotal: 5.09s\tremaining: 4.61s\n",
            "105:\tlearn: 1545.7115066\ttotal: 5.14s\tremaining: 4.56s\n",
            "106:\tlearn: 1545.0714570\ttotal: 5.18s\tremaining: 4.5s\n",
            "107:\tlearn: 1543.5859622\ttotal: 5.23s\tremaining: 4.45s\n",
            "108:\tlearn: 1541.6992822\ttotal: 5.27s\tremaining: 4.4s\n",
            "109:\tlearn: 1540.8207735\ttotal: 5.31s\tremaining: 4.35s\n",
            "110:\tlearn: 1539.8599538\ttotal: 5.36s\tremaining: 4.29s\n",
            "111:\tlearn: 1539.1319974\ttotal: 5.41s\tremaining: 4.25s\n",
            "112:\tlearn: 1537.7907161\ttotal: 5.46s\tremaining: 4.2s\n",
            "113:\tlearn: 1535.2962028\ttotal: 5.5s\tremaining: 4.15s\n",
            "114:\tlearn: 1534.4248967\ttotal: 5.55s\tremaining: 4.1s\n",
            "115:\tlearn: 1533.4843827\ttotal: 5.58s\tremaining: 4.04s\n",
            "116:\tlearn: 1531.2518287\ttotal: 5.64s\tremaining: 4s\n",
            "117:\tlearn: 1530.1919321\ttotal: 5.68s\tremaining: 3.95s\n",
            "118:\tlearn: 1529.0383433\ttotal: 5.73s\tremaining: 3.9s\n",
            "119:\tlearn: 1528.0633172\ttotal: 5.77s\tremaining: 3.85s\n",
            "120:\tlearn: 1526.9963889\ttotal: 5.82s\tremaining: 3.8s\n",
            "121:\tlearn: 1525.8915887\ttotal: 5.86s\tremaining: 3.75s\n",
            "122:\tlearn: 1525.1523891\ttotal: 5.92s\tremaining: 3.71s\n",
            "123:\tlearn: 1523.7189173\ttotal: 5.96s\tremaining: 3.65s\n",
            "124:\tlearn: 1521.7869690\ttotal: 6.01s\tremaining: 3.6s\n",
            "125:\tlearn: 1520.5706097\ttotal: 6.05s\tremaining: 3.55s\n",
            "126:\tlearn: 1519.2910506\ttotal: 6.1s\tremaining: 3.51s\n",
            "127:\tlearn: 1518.3957754\ttotal: 6.15s\tremaining: 3.46s\n",
            "128:\tlearn: 1517.8365118\ttotal: 6.2s\tremaining: 3.41s\n",
            "129:\tlearn: 1517.1599995\ttotal: 6.24s\tremaining: 3.36s\n",
            "130:\tlearn: 1515.3332847\ttotal: 6.29s\tremaining: 3.31s\n",
            "131:\tlearn: 1514.9828271\ttotal: 6.33s\tremaining: 3.26s\n",
            "132:\tlearn: 1513.6771847\ttotal: 6.39s\tremaining: 3.22s\n",
            "133:\tlearn: 1513.1356271\ttotal: 6.44s\tremaining: 3.17s\n",
            "134:\tlearn: 1512.2021388\ttotal: 6.48s\tremaining: 3.12s\n",
            "135:\tlearn: 1511.3967668\ttotal: 6.53s\tremaining: 3.07s\n",
            "136:\tlearn: 1510.5987577\ttotal: 6.57s\tremaining: 3.02s\n",
            "137:\tlearn: 1509.9221279\ttotal: 6.62s\tremaining: 2.97s\n",
            "138:\tlearn: 1508.2713450\ttotal: 6.66s\tremaining: 2.92s\n",
            "139:\tlearn: 1506.0050831\ttotal: 6.71s\tremaining: 2.88s\n",
            "140:\tlearn: 1505.2645090\ttotal: 6.75s\tremaining: 2.83s\n",
            "141:\tlearn: 1504.4132191\ttotal: 6.8s\tremaining: 2.78s\n",
            "142:\tlearn: 1501.7620252\ttotal: 6.87s\tremaining: 2.74s\n",
            "143:\tlearn: 1501.0596335\ttotal: 6.92s\tremaining: 2.69s\n",
            "144:\tlearn: 1500.0387260\ttotal: 6.98s\tremaining: 2.65s\n",
            "145:\tlearn: 1499.2019894\ttotal: 7.02s\tremaining: 2.6s\n",
            "146:\tlearn: 1497.9790876\ttotal: 7.07s\tremaining: 2.55s\n",
            "147:\tlearn: 1497.0144061\ttotal: 7.11s\tremaining: 2.5s\n",
            "148:\tlearn: 1496.5257362\ttotal: 7.15s\tremaining: 2.45s\n",
            "149:\tlearn: 1495.7101037\ttotal: 7.22s\tremaining: 2.41s\n",
            "150:\tlearn: 1493.4262033\ttotal: 7.29s\tremaining: 2.37s\n",
            "151:\tlearn: 1492.8773601\ttotal: 7.34s\tremaining: 2.32s\n",
            "152:\tlearn: 1492.0426850\ttotal: 7.39s\tremaining: 2.27s\n",
            "153:\tlearn: 1490.6820110\ttotal: 7.43s\tremaining: 2.22s\n",
            "154:\tlearn: 1489.5003004\ttotal: 7.48s\tremaining: 2.17s\n",
            "155:\tlearn: 1488.6521429\ttotal: 7.52s\tremaining: 2.12s\n",
            "156:\tlearn: 1487.6152927\ttotal: 7.57s\tremaining: 2.07s\n",
            "157:\tlearn: 1486.3922919\ttotal: 7.62s\tremaining: 2.02s\n",
            "158:\tlearn: 1485.8005955\ttotal: 7.68s\tremaining: 1.98s\n",
            "159:\tlearn: 1484.2856745\ttotal: 7.72s\tremaining: 1.93s\n",
            "160:\tlearn: 1483.4606523\ttotal: 7.78s\tremaining: 1.88s\n",
            "161:\tlearn: 1482.3829358\ttotal: 7.84s\tremaining: 1.84s\n",
            "162:\tlearn: 1481.4721267\ttotal: 7.92s\tremaining: 1.8s\n",
            "163:\tlearn: 1480.6644140\ttotal: 7.96s\tremaining: 1.75s\n",
            "164:\tlearn: 1479.3125154\ttotal: 8.02s\tremaining: 1.7s\n",
            "165:\tlearn: 1478.4582440\ttotal: 8.09s\tremaining: 1.66s\n",
            "166:\tlearn: 1477.8941048\ttotal: 8.16s\tremaining: 1.61s\n",
            "167:\tlearn: 1476.5728494\ttotal: 8.23s\tremaining: 1.57s\n",
            "168:\tlearn: 1475.4020966\ttotal: 8.3s\tremaining: 1.52s\n",
            "169:\tlearn: 1474.4695737\ttotal: 8.36s\tremaining: 1.47s\n",
            "170:\tlearn: 1472.6887397\ttotal: 8.41s\tremaining: 1.43s\n",
            "171:\tlearn: 1472.0222492\ttotal: 8.46s\tremaining: 1.38s\n",
            "172:\tlearn: 1471.1052708\ttotal: 8.51s\tremaining: 1.33s\n",
            "173:\tlearn: 1470.4974205\ttotal: 8.56s\tremaining: 1.28s\n",
            "174:\tlearn: 1469.5475815\ttotal: 8.62s\tremaining: 1.23s\n",
            "175:\tlearn: 1468.5999789\ttotal: 8.67s\tremaining: 1.18s\n",
            "176:\tlearn: 1467.4072017\ttotal: 8.71s\tremaining: 1.13s\n",
            "177:\tlearn: 1466.6036608\ttotal: 8.75s\tremaining: 1.08s\n",
            "178:\tlearn: 1465.7263322\ttotal: 8.79s\tremaining: 1.03s\n",
            "179:\tlearn: 1464.9951921\ttotal: 8.84s\tremaining: 982ms\n",
            "180:\tlearn: 1464.1982163\ttotal: 8.88s\tremaining: 932ms\n",
            "181:\tlearn: 1463.3536523\ttotal: 8.92s\tremaining: 882ms\n",
            "182:\tlearn: 1462.1227361\ttotal: 8.96s\tremaining: 832ms\n",
            "183:\tlearn: 1461.3187609\ttotal: 9s\tremaining: 783ms\n",
            "184:\tlearn: 1460.6456713\ttotal: 9.07s\tremaining: 735ms\n",
            "185:\tlearn: 1459.7001645\ttotal: 9.13s\tremaining: 688ms\n",
            "186:\tlearn: 1458.5521422\ttotal: 9.19s\tremaining: 639ms\n",
            "187:\tlearn: 1458.1775024\ttotal: 9.24s\tremaining: 590ms\n",
            "188:\tlearn: 1457.2355476\ttotal: 9.29s\tremaining: 541ms\n",
            "189:\tlearn: 1456.6131037\ttotal: 9.35s\tremaining: 492ms\n",
            "190:\tlearn: 1455.8204955\ttotal: 9.41s\tremaining: 444ms\n",
            "191:\tlearn: 1455.3536274\ttotal: 9.47s\tremaining: 395ms\n",
            "192:\tlearn: 1454.6619464\ttotal: 9.53s\tremaining: 346ms\n",
            "193:\tlearn: 1453.4412364\ttotal: 9.59s\tremaining: 297ms\n",
            "194:\tlearn: 1452.8815752\ttotal: 9.65s\tremaining: 247ms\n",
            "195:\tlearn: 1451.9225274\ttotal: 9.7s\tremaining: 198ms\n",
            "196:\tlearn: 1451.3745880\ttotal: 9.75s\tremaining: 148ms\n",
            "197:\tlearn: 1450.4929402\ttotal: 9.79s\tremaining: 98.9ms\n",
            "198:\tlearn: 1449.8305110\ttotal: 9.86s\tremaining: 49.5ms\n",
            "199:\tlearn: 1449.0901155\ttotal: 9.9s\tremaining: 0us\n",
            "Learning rate set to 0.327473\n",
            "0:\tlearn: 3555.0615835\ttotal: 44.8ms\tremaining: 8.91s\n",
            "1:\tlearn: 2903.0446072\ttotal: 98.3ms\tremaining: 9.73s\n",
            "2:\tlearn: 2516.4092296\ttotal: 140ms\tremaining: 9.17s\n",
            "3:\tlearn: 2280.4200224\ttotal: 191ms\tremaining: 9.37s\n",
            "4:\tlearn: 2133.6905360\ttotal: 236ms\tremaining: 9.19s\n",
            "5:\tlearn: 2044.7790702\ttotal: 285ms\tremaining: 9.23s\n",
            "6:\tlearn: 1978.3757012\ttotal: 328ms\tremaining: 9.04s\n",
            "7:\tlearn: 1938.1704496\ttotal: 369ms\tremaining: 8.86s\n",
            "8:\tlearn: 1902.2211775\ttotal: 416ms\tremaining: 8.82s\n",
            "9:\tlearn: 1874.2090467\ttotal: 462ms\tremaining: 8.78s\n",
            "10:\tlearn: 1854.9367924\ttotal: 513ms\tremaining: 8.81s\n",
            "11:\tlearn: 1835.5582225\ttotal: 567ms\tremaining: 8.88s\n",
            "12:\tlearn: 1818.6441173\ttotal: 623ms\tremaining: 8.96s\n",
            "13:\tlearn: 1807.2954086\ttotal: 694ms\tremaining: 9.21s\n",
            "14:\tlearn: 1798.9675262\ttotal: 740ms\tremaining: 9.13s\n",
            "15:\tlearn: 1789.2739554\ttotal: 810ms\tremaining: 9.31s\n",
            "16:\tlearn: 1776.8847988\ttotal: 861ms\tremaining: 9.27s\n",
            "17:\tlearn: 1770.3179493\ttotal: 902ms\tremaining: 9.12s\n",
            "18:\tlearn: 1762.5476012\ttotal: 953ms\tremaining: 9.08s\n",
            "19:\tlearn: 1757.2223310\ttotal: 995ms\tremaining: 8.95s\n",
            "20:\tlearn: 1748.7433209\ttotal: 1.04s\tremaining: 8.88s\n",
            "21:\tlearn: 1743.3198925\ttotal: 1.09s\tremaining: 8.81s\n",
            "22:\tlearn: 1739.0798058\ttotal: 1.15s\tremaining: 8.81s\n",
            "23:\tlearn: 1733.0376161\ttotal: 1.19s\tremaining: 8.74s\n",
            "24:\tlearn: 1728.3356062\ttotal: 1.23s\tremaining: 8.64s\n",
            "25:\tlearn: 1723.0386783\ttotal: 1.28s\tremaining: 8.56s\n",
            "26:\tlearn: 1718.7274199\ttotal: 1.32s\tremaining: 8.48s\n",
            "27:\tlearn: 1715.0601834\ttotal: 1.37s\tremaining: 8.44s\n",
            "28:\tlearn: 1710.1233689\ttotal: 1.42s\tremaining: 8.35s\n",
            "29:\tlearn: 1700.8071837\ttotal: 1.47s\tremaining: 8.34s\n",
            "30:\tlearn: 1698.1249976\ttotal: 1.52s\tremaining: 8.29s\n",
            "31:\tlearn: 1691.9828274\ttotal: 1.56s\tremaining: 8.22s\n",
            "32:\tlearn: 1688.2043576\ttotal: 1.6s\tremaining: 8.13s\n",
            "33:\tlearn: 1684.9944279\ttotal: 1.65s\tremaining: 8.07s\n",
            "34:\tlearn: 1681.8107222\ttotal: 1.7s\tremaining: 7.99s\n",
            "35:\tlearn: 1679.9769515\ttotal: 1.74s\tremaining: 7.93s\n",
            "36:\tlearn: 1678.3350848\ttotal: 1.79s\tremaining: 7.87s\n",
            "37:\tlearn: 1673.1425400\ttotal: 1.84s\tremaining: 7.85s\n",
            "38:\tlearn: 1666.0293711\ttotal: 1.89s\tremaining: 7.81s\n",
            "39:\tlearn: 1661.6672166\ttotal: 1.94s\tremaining: 7.76s\n",
            "40:\tlearn: 1658.1178354\ttotal: 1.98s\tremaining: 7.68s\n",
            "41:\tlearn: 1655.2236243\ttotal: 2.03s\tremaining: 7.62s\n",
            "42:\tlearn: 1649.0957744\ttotal: 2.07s\tremaining: 7.56s\n",
            "43:\tlearn: 1644.8233042\ttotal: 2.12s\tremaining: 7.51s\n",
            "44:\tlearn: 1640.4341091\ttotal: 2.17s\tremaining: 7.49s\n",
            "45:\tlearn: 1638.8927748\ttotal: 2.24s\tremaining: 7.51s\n",
            "46:\tlearn: 1637.4118267\ttotal: 2.31s\tremaining: 7.52s\n",
            "47:\tlearn: 1634.8428453\ttotal: 2.38s\tremaining: 7.52s\n",
            "48:\tlearn: 1631.0265787\ttotal: 2.44s\tremaining: 7.54s\n",
            "49:\tlearn: 1627.2782632\ttotal: 2.51s\tremaining: 7.53s\n",
            "50:\tlearn: 1625.1268408\ttotal: 2.58s\tremaining: 7.53s\n",
            "51:\tlearn: 1622.7194782\ttotal: 2.63s\tremaining: 7.49s\n",
            "52:\tlearn: 1620.0233634\ttotal: 2.67s\tremaining: 7.41s\n",
            "53:\tlearn: 1617.4288796\ttotal: 2.72s\tremaining: 7.35s\n",
            "54:\tlearn: 1615.1775287\ttotal: 2.76s\tremaining: 7.27s\n",
            "55:\tlearn: 1614.1950028\ttotal: 2.81s\tremaining: 7.23s\n",
            "56:\tlearn: 1611.8452322\ttotal: 2.86s\tremaining: 7.17s\n",
            "57:\tlearn: 1608.6627468\ttotal: 2.9s\tremaining: 7.1s\n",
            "58:\tlearn: 1606.2314455\ttotal: 2.94s\tremaining: 7.03s\n",
            "59:\tlearn: 1604.2647950\ttotal: 2.98s\tremaining: 6.96s\n",
            "60:\tlearn: 1602.2064986\ttotal: 3.03s\tremaining: 6.91s\n",
            "61:\tlearn: 1596.8348869\ttotal: 3.07s\tremaining: 6.84s\n",
            "62:\tlearn: 1595.9502229\ttotal: 3.13s\tremaining: 6.8s\n",
            "63:\tlearn: 1592.7833227\ttotal: 3.17s\tremaining: 6.73s\n",
            "64:\tlearn: 1590.4684841\ttotal: 3.21s\tremaining: 6.68s\n",
            "65:\tlearn: 1588.0206337\ttotal: 3.26s\tremaining: 6.61s\n",
            "66:\tlearn: 1586.4957573\ttotal: 3.32s\tremaining: 6.59s\n",
            "67:\tlearn: 1584.4424844\ttotal: 3.36s\tremaining: 6.52s\n",
            "68:\tlearn: 1581.9637464\ttotal: 3.41s\tremaining: 6.47s\n",
            "69:\tlearn: 1579.9951189\ttotal: 3.45s\tremaining: 6.4s\n",
            "70:\tlearn: 1578.3708703\ttotal: 3.5s\tremaining: 6.35s\n",
            "71:\tlearn: 1576.4389918\ttotal: 3.54s\tremaining: 6.29s\n",
            "72:\tlearn: 1575.2857248\ttotal: 3.59s\tremaining: 6.24s\n",
            "73:\tlearn: 1574.2127464\ttotal: 3.63s\tremaining: 6.18s\n",
            "74:\tlearn: 1572.3429833\ttotal: 3.67s\tremaining: 6.11s\n",
            "75:\tlearn: 1570.3618686\ttotal: 3.71s\tremaining: 6.06s\n",
            "76:\tlearn: 1569.8139940\ttotal: 3.75s\tremaining: 6s\n",
            "77:\tlearn: 1568.3883940\ttotal: 3.81s\tremaining: 5.95s\n",
            "78:\tlearn: 1565.4351604\ttotal: 3.85s\tremaining: 5.89s\n",
            "79:\tlearn: 1563.9078614\ttotal: 3.9s\tremaining: 5.84s\n",
            "80:\tlearn: 1561.9133038\ttotal: 3.94s\tremaining: 5.79s\n",
            "81:\tlearn: 1559.7084147\ttotal: 3.99s\tremaining: 5.74s\n",
            "82:\tlearn: 1557.2704200\ttotal: 4.03s\tremaining: 5.68s\n",
            "83:\tlearn: 1554.7695211\ttotal: 4.07s\tremaining: 5.62s\n",
            "84:\tlearn: 1553.4144175\ttotal: 4.12s\tremaining: 5.57s\n",
            "85:\tlearn: 1553.2336188\ttotal: 4.14s\tremaining: 5.49s\n",
            "86:\tlearn: 1551.5543906\ttotal: 4.19s\tremaining: 5.44s\n",
            "87:\tlearn: 1549.8716286\ttotal: 4.23s\tremaining: 5.39s\n",
            "88:\tlearn: 1547.7481114\ttotal: 4.28s\tremaining: 5.34s\n",
            "89:\tlearn: 1545.8539746\ttotal: 4.32s\tremaining: 5.28s\n",
            "90:\tlearn: 1543.8956843\ttotal: 4.37s\tremaining: 5.23s\n",
            "91:\tlearn: 1541.5014450\ttotal: 4.41s\tremaining: 5.18s\n",
            "92:\tlearn: 1539.8939474\ttotal: 4.45s\tremaining: 5.12s\n",
            "93:\tlearn: 1538.5296462\ttotal: 4.5s\tremaining: 5.07s\n",
            "94:\tlearn: 1536.7539263\ttotal: 4.54s\tremaining: 5.02s\n",
            "95:\tlearn: 1535.2978376\ttotal: 4.59s\tremaining: 4.97s\n",
            "96:\tlearn: 1533.9976939\ttotal: 4.63s\tremaining: 4.91s\n",
            "97:\tlearn: 1531.9881773\ttotal: 4.67s\tremaining: 4.86s\n",
            "98:\tlearn: 1530.8081697\ttotal: 4.71s\tremaining: 4.81s\n",
            "99:\tlearn: 1529.4313815\ttotal: 4.75s\tremaining: 4.75s\n",
            "100:\tlearn: 1527.1769483\ttotal: 4.8s\tremaining: 4.7s\n",
            "101:\tlearn: 1526.0403542\ttotal: 4.84s\tremaining: 4.65s\n",
            "102:\tlearn: 1524.3117590\ttotal: 4.89s\tremaining: 4.6s\n",
            "103:\tlearn: 1523.2915034\ttotal: 4.93s\tremaining: 4.55s\n",
            "104:\tlearn: 1521.2916674\ttotal: 4.97s\tremaining: 4.5s\n",
            "105:\tlearn: 1519.8819211\ttotal: 5.02s\tremaining: 4.45s\n",
            "106:\tlearn: 1519.2731279\ttotal: 5.07s\tremaining: 4.4s\n",
            "107:\tlearn: 1517.8610684\ttotal: 5.11s\tremaining: 4.35s\n",
            "108:\tlearn: 1516.8627744\ttotal: 5.15s\tremaining: 4.3s\n",
            "109:\tlearn: 1515.2154405\ttotal: 5.19s\tremaining: 4.25s\n",
            "110:\tlearn: 1514.8300163\ttotal: 5.24s\tremaining: 4.2s\n",
            "111:\tlearn: 1514.1208152\ttotal: 5.28s\tremaining: 4.15s\n",
            "112:\tlearn: 1512.5018137\ttotal: 5.32s\tremaining: 4.1s\n",
            "113:\tlearn: 1510.8294098\ttotal: 5.37s\tremaining: 4.05s\n",
            "114:\tlearn: 1508.5947887\ttotal: 5.41s\tremaining: 4s\n",
            "115:\tlearn: 1507.0758626\ttotal: 5.46s\tremaining: 3.95s\n",
            "116:\tlearn: 1506.5552792\ttotal: 5.5s\tremaining: 3.9s\n",
            "117:\tlearn: 1504.4905054\ttotal: 5.54s\tremaining: 3.85s\n",
            "118:\tlearn: 1503.2274027\ttotal: 5.59s\tremaining: 3.8s\n",
            "119:\tlearn: 1502.5519982\ttotal: 5.63s\tremaining: 3.75s\n",
            "120:\tlearn: 1501.4511503\ttotal: 5.67s\tremaining: 3.7s\n",
            "121:\tlearn: 1500.1067216\ttotal: 5.71s\tremaining: 3.65s\n",
            "122:\tlearn: 1498.0734374\ttotal: 5.76s\tremaining: 3.61s\n",
            "123:\tlearn: 1497.3272446\ttotal: 5.8s\tremaining: 3.56s\n",
            "124:\tlearn: 1496.2783058\ttotal: 5.85s\tremaining: 3.51s\n",
            "125:\tlearn: 1495.7862141\ttotal: 5.9s\tremaining: 3.46s\n",
            "126:\tlearn: 1495.6319040\ttotal: 5.94s\tremaining: 3.42s\n",
            "127:\tlearn: 1494.8299758\ttotal: 5.99s\tremaining: 3.37s\n",
            "128:\tlearn: 1493.5989006\ttotal: 6.03s\tremaining: 3.32s\n",
            "129:\tlearn: 1491.9753169\ttotal: 6.08s\tremaining: 3.27s\n",
            "130:\tlearn: 1491.1037370\ttotal: 6.12s\tremaining: 3.22s\n",
            "131:\tlearn: 1490.7720430\ttotal: 6.18s\tremaining: 3.19s\n",
            "132:\tlearn: 1489.7817466\ttotal: 6.23s\tremaining: 3.14s\n",
            "133:\tlearn: 1489.4085291\ttotal: 6.28s\tremaining: 3.09s\n",
            "134:\tlearn: 1488.4970757\ttotal: 6.32s\tremaining: 3.04s\n",
            "135:\tlearn: 1487.8017275\ttotal: 6.37s\tremaining: 3s\n",
            "136:\tlearn: 1487.1983388\ttotal: 6.41s\tremaining: 2.95s\n",
            "137:\tlearn: 1486.2319700\ttotal: 6.45s\tremaining: 2.9s\n",
            "138:\tlearn: 1485.3978335\ttotal: 6.5s\tremaining: 2.85s\n",
            "139:\tlearn: 1484.5290861\ttotal: 6.54s\tremaining: 2.81s\n",
            "140:\tlearn: 1483.8191686\ttotal: 6.59s\tremaining: 2.76s\n",
            "141:\tlearn: 1481.8292296\ttotal: 6.64s\tremaining: 2.71s\n",
            "142:\tlearn: 1481.1278224\ttotal: 6.68s\tremaining: 2.66s\n",
            "143:\tlearn: 1480.9565112\ttotal: 6.73s\tremaining: 2.62s\n",
            "144:\tlearn: 1480.1962407\ttotal: 6.77s\tremaining: 2.57s\n",
            "145:\tlearn: 1479.2981684\ttotal: 6.82s\tremaining: 2.52s\n",
            "146:\tlearn: 1478.5840199\ttotal: 6.88s\tremaining: 2.48s\n",
            "147:\tlearn: 1477.2292969\ttotal: 6.93s\tremaining: 2.44s\n",
            "148:\tlearn: 1476.7779414\ttotal: 6.99s\tremaining: 2.39s\n",
            "149:\tlearn: 1476.3230404\ttotal: 7.04s\tremaining: 2.35s\n",
            "150:\tlearn: 1475.4525855\ttotal: 7.08s\tremaining: 2.3s\n",
            "151:\tlearn: 1474.5512455\ttotal: 7.13s\tremaining: 2.25s\n",
            "152:\tlearn: 1472.7423459\ttotal: 7.17s\tremaining: 2.2s\n",
            "153:\tlearn: 1471.9360628\ttotal: 7.23s\tremaining: 2.16s\n",
            "154:\tlearn: 1470.7678416\ttotal: 7.28s\tremaining: 2.11s\n",
            "155:\tlearn: 1470.2097705\ttotal: 7.33s\tremaining: 2.07s\n",
            "156:\tlearn: 1469.6075728\ttotal: 7.37s\tremaining: 2.02s\n",
            "157:\tlearn: 1469.0413453\ttotal: 7.42s\tremaining: 1.97s\n",
            "158:\tlearn: 1468.1121819\ttotal: 7.47s\tremaining: 1.93s\n",
            "159:\tlearn: 1466.6914240\ttotal: 7.52s\tremaining: 1.88s\n",
            "160:\tlearn: 1465.0362026\ttotal: 7.57s\tremaining: 1.83s\n",
            "161:\tlearn: 1464.5116473\ttotal: 7.61s\tremaining: 1.79s\n",
            "162:\tlearn: 1463.9788045\ttotal: 7.65s\tremaining: 1.74s\n",
            "163:\tlearn: 1463.1956985\ttotal: 7.7s\tremaining: 1.69s\n",
            "164:\tlearn: 1461.9477429\ttotal: 7.75s\tremaining: 1.64s\n",
            "165:\tlearn: 1461.2573551\ttotal: 7.79s\tremaining: 1.59s\n",
            "166:\tlearn: 1460.6619065\ttotal: 7.83s\tremaining: 1.55s\n",
            "167:\tlearn: 1459.0603783\ttotal: 7.87s\tremaining: 1.5s\n",
            "168:\tlearn: 1457.9800582\ttotal: 7.92s\tremaining: 1.45s\n",
            "169:\tlearn: 1457.2513478\ttotal: 7.96s\tremaining: 1.41s\n",
            "170:\tlearn: 1456.0341105\ttotal: 8.02s\tremaining: 1.36s\n",
            "171:\tlearn: 1455.2393906\ttotal: 8.08s\tremaining: 1.31s\n",
            "172:\tlearn: 1454.9206692\ttotal: 8.13s\tremaining: 1.27s\n",
            "173:\tlearn: 1454.1470810\ttotal: 8.17s\tremaining: 1.22s\n",
            "174:\tlearn: 1453.5183160\ttotal: 8.22s\tremaining: 1.17s\n",
            "175:\tlearn: 1452.5033833\ttotal: 8.26s\tremaining: 1.13s\n",
            "176:\tlearn: 1451.8573604\ttotal: 8.31s\tremaining: 1.08s\n",
            "177:\tlearn: 1451.3710837\ttotal: 8.35s\tremaining: 1.03s\n",
            "178:\tlearn: 1451.3380423\ttotal: 8.38s\tremaining: 983ms\n",
            "179:\tlearn: 1450.0800641\ttotal: 8.42s\tremaining: 936ms\n",
            "180:\tlearn: 1449.5395846\ttotal: 8.47s\tremaining: 889ms\n",
            "181:\tlearn: 1447.9140602\ttotal: 8.52s\tremaining: 843ms\n",
            "182:\tlearn: 1446.8292212\ttotal: 8.57s\tremaining: 796ms\n",
            "183:\tlearn: 1446.0433448\ttotal: 8.62s\tremaining: 750ms\n",
            "184:\tlearn: 1445.4951017\ttotal: 8.66s\tremaining: 703ms\n",
            "185:\tlearn: 1444.1984125\ttotal: 8.71s\tremaining: 656ms\n",
            "186:\tlearn: 1443.1992900\ttotal: 8.76s\tremaining: 609ms\n",
            "187:\tlearn: 1441.7512843\ttotal: 8.81s\tremaining: 562ms\n",
            "188:\tlearn: 1441.0244476\ttotal: 8.86s\tremaining: 515ms\n",
            "189:\tlearn: 1440.1689910\ttotal: 8.91s\tremaining: 469ms\n",
            "190:\tlearn: 1439.8110246\ttotal: 8.96s\tremaining: 422ms\n",
            "191:\tlearn: 1438.6732115\ttotal: 9.01s\tremaining: 375ms\n",
            "192:\tlearn: 1438.2007924\ttotal: 9.07s\tremaining: 329ms\n",
            "193:\tlearn: 1437.3013178\ttotal: 9.13s\tremaining: 282ms\n",
            "194:\tlearn: 1436.9082748\ttotal: 9.18s\tremaining: 235ms\n",
            "195:\tlearn: 1435.8694538\ttotal: 9.23s\tremaining: 188ms\n",
            "196:\tlearn: 1435.3682687\ttotal: 9.27s\tremaining: 141ms\n",
            "197:\tlearn: 1434.3935493\ttotal: 9.32s\tremaining: 94.1ms\n",
            "198:\tlearn: 1433.4637143\ttotal: 9.36s\tremaining: 47.1ms\n",
            "199:\tlearn: 1432.9319784\ttotal: 9.41s\tremaining: 0us\n",
            "CPU times: user 29.3 s, sys: 367 ms, total: 29.7 s\n",
            "Wall time: 32.8 s\n"
          ]
        },
        {
          "data": {
            "text/plain": [
              "-1643.9201623009758"
            ]
          },
          "execution_count": 47,
          "metadata": {},
          "output_type": "execute_result"
        }
      ],
      "source": [
        "%%time\n",
        "score_cbr=cross_val_score(model_cbr, X_train, y_train, cv=3, scoring='neg_root_mean_squared_error').mean()\n",
        "score_cbr"
      ]
    },
    {
      "cell_type": "code",
      "execution_count": null,
      "metadata": {
        "scrolled": true,
        "id": "GMSw6kBsQ0Gs",
        "outputId": "3c946916-243c-4718-cfd8-641f39275dff"
      },
      "outputs": [
        {
          "name": "stdout",
          "output_type": "stream",
          "text": [
            "Learning rate set to 0.349139\n",
            "0:\tlearn: 3491.7331175\ttotal: 69.9ms\tremaining: 13.9s\n",
            "1:\tlearn: 2822.8245824\ttotal: 129ms\tremaining: 12.8s\n",
            "2:\tlearn: 2438.4523077\ttotal: 191ms\tremaining: 12.5s\n",
            "3:\tlearn: 2216.7834106\ttotal: 248ms\tremaining: 12.1s\n",
            "4:\tlearn: 2083.6021512\ttotal: 313ms\tremaining: 12.2s\n",
            "5:\tlearn: 2005.7503266\ttotal: 375ms\tremaining: 12.1s\n",
            "6:\tlearn: 1954.2951809\ttotal: 432ms\tremaining: 11.9s\n",
            "7:\tlearn: 1912.4427090\ttotal: 495ms\tremaining: 11.9s\n",
            "8:\tlearn: 1884.9137828\ttotal: 561ms\tremaining: 11.9s\n",
            "9:\tlearn: 1865.6295223\ttotal: 628ms\tremaining: 11.9s\n",
            "10:\tlearn: 1845.4776823\ttotal: 691ms\tremaining: 11.9s\n",
            "11:\tlearn: 1831.6116165\ttotal: 749ms\tremaining: 11.7s\n",
            "12:\tlearn: 1818.5566775\ttotal: 813ms\tremaining: 11.7s\n",
            "13:\tlearn: 1806.2582821\ttotal: 877ms\tremaining: 11.7s\n",
            "14:\tlearn: 1798.0571777\ttotal: 967ms\tremaining: 11.9s\n",
            "15:\tlearn: 1792.4533806\ttotal: 1.03s\tremaining: 11.9s\n",
            "16:\tlearn: 1783.4376520\ttotal: 1.1s\tremaining: 11.8s\n",
            "17:\tlearn: 1772.7377552\ttotal: 1.16s\tremaining: 11.7s\n",
            "18:\tlearn: 1766.9550064\ttotal: 1.21s\tremaining: 11.6s\n",
            "19:\tlearn: 1761.9795423\ttotal: 1.31s\tremaining: 11.8s\n",
            "20:\tlearn: 1758.3051608\ttotal: 1.4s\tremaining: 11.9s\n",
            "21:\tlearn: 1752.0511037\ttotal: 1.46s\tremaining: 11.8s\n",
            "22:\tlearn: 1747.9029039\ttotal: 1.52s\tremaining: 11.7s\n",
            "23:\tlearn: 1742.6426847\ttotal: 1.58s\tremaining: 11.6s\n",
            "24:\tlearn: 1737.7163215\ttotal: 1.65s\tremaining: 11.5s\n",
            "25:\tlearn: 1732.1174514\ttotal: 1.71s\tremaining: 11.4s\n",
            "26:\tlearn: 1728.4519980\ttotal: 1.77s\tremaining: 11.4s\n",
            "27:\tlearn: 1721.9983440\ttotal: 1.84s\tremaining: 11.3s\n",
            "28:\tlearn: 1719.3572432\ttotal: 1.89s\tremaining: 11.2s\n",
            "29:\tlearn: 1716.2984604\ttotal: 1.96s\tremaining: 11.1s\n",
            "30:\tlearn: 1711.9472442\ttotal: 2.02s\tremaining: 11s\n",
            "31:\tlearn: 1705.1567590\ttotal: 2.08s\tremaining: 10.9s\n",
            "32:\tlearn: 1700.9442935\ttotal: 2.15s\tremaining: 10.9s\n",
            "33:\tlearn: 1698.7013153\ttotal: 2.21s\tremaining: 10.8s\n",
            "34:\tlearn: 1693.9225596\ttotal: 2.27s\tremaining: 10.7s\n",
            "35:\tlearn: 1690.2927351\ttotal: 2.33s\tremaining: 10.6s\n",
            "36:\tlearn: 1688.7564713\ttotal: 2.39s\tremaining: 10.5s\n",
            "37:\tlearn: 1683.7449184\ttotal: 2.46s\tremaining: 10.5s\n",
            "38:\tlearn: 1680.8510696\ttotal: 2.52s\tremaining: 10.4s\n",
            "39:\tlearn: 1678.1339879\ttotal: 2.59s\tremaining: 10.4s\n",
            "40:\tlearn: 1676.5400504\ttotal: 2.66s\tremaining: 10.3s\n",
            "41:\tlearn: 1673.8483979\ttotal: 2.71s\tremaining: 10.2s\n",
            "42:\tlearn: 1672.4203351\ttotal: 2.77s\tremaining: 10.1s\n",
            "43:\tlearn: 1668.5391828\ttotal: 2.84s\tremaining: 10.1s\n",
            "44:\tlearn: 1666.7807983\ttotal: 2.9s\tremaining: 9.98s\n",
            "45:\tlearn: 1664.0961452\ttotal: 2.96s\tremaining: 9.92s\n",
            "46:\tlearn: 1660.1220528\ttotal: 3.03s\tremaining: 9.85s\n",
            "47:\tlearn: 1656.2435533\ttotal: 3.09s\tremaining: 9.77s\n",
            "48:\tlearn: 1651.3960743\ttotal: 3.15s\tremaining: 9.71s\n",
            "49:\tlearn: 1648.2558226\ttotal: 3.21s\tremaining: 9.62s\n",
            "50:\tlearn: 1645.2863712\ttotal: 3.27s\tremaining: 9.57s\n",
            "51:\tlearn: 1643.1008553\ttotal: 3.34s\tremaining: 9.51s\n",
            "52:\tlearn: 1638.8687170\ttotal: 3.4s\tremaining: 9.42s\n",
            "53:\tlearn: 1636.3558674\ttotal: 3.46s\tremaining: 9.36s\n",
            "54:\tlearn: 1634.0953837\ttotal: 3.55s\tremaining: 9.37s\n",
            "55:\tlearn: 1631.0501789\ttotal: 3.62s\tremaining: 9.3s\n",
            "56:\tlearn: 1627.3529047\ttotal: 3.68s\tremaining: 9.23s\n",
            "57:\tlearn: 1625.6499173\ttotal: 3.74s\tremaining: 9.16s\n",
            "58:\tlearn: 1622.1236270\ttotal: 3.8s\tremaining: 9.09s\n",
            "59:\tlearn: 1618.9408005\ttotal: 3.87s\tremaining: 9.03s\n",
            "60:\tlearn: 1616.4443851\ttotal: 3.94s\tremaining: 8.97s\n",
            "61:\tlearn: 1614.1734946\ttotal: 4s\tremaining: 8.89s\n",
            "62:\tlearn: 1612.9226903\ttotal: 4.06s\tremaining: 8.83s\n",
            "63:\tlearn: 1611.5084116\ttotal: 4.13s\tremaining: 8.77s\n",
            "64:\tlearn: 1608.7480795\ttotal: 4.19s\tremaining: 8.7s\n",
            "65:\tlearn: 1605.2294482\ttotal: 4.27s\tremaining: 8.67s\n",
            "66:\tlearn: 1601.0134908\ttotal: 4.34s\tremaining: 8.62s\n",
            "67:\tlearn: 1599.5373221\ttotal: 4.41s\tremaining: 8.55s\n",
            "68:\tlearn: 1597.7102742\ttotal: 4.47s\tremaining: 8.48s\n",
            "69:\tlearn: 1596.2890071\ttotal: 4.54s\tremaining: 8.43s\n",
            "70:\tlearn: 1594.5131554\ttotal: 4.6s\tremaining: 8.36s\n",
            "71:\tlearn: 1592.9499145\ttotal: 4.66s\tremaining: 8.28s\n",
            "72:\tlearn: 1590.8773773\ttotal: 4.72s\tremaining: 8.22s\n",
            "73:\tlearn: 1589.0373114\ttotal: 4.78s\tremaining: 8.14s\n",
            "74:\tlearn: 1587.5781767\ttotal: 4.85s\tremaining: 8.08s\n",
            "75:\tlearn: 1585.2085793\ttotal: 4.92s\tremaining: 8.03s\n",
            "76:\tlearn: 1584.2157118\ttotal: 4.98s\tremaining: 7.96s\n",
            "77:\tlearn: 1582.5686844\ttotal: 5.04s\tremaining: 7.89s\n",
            "78:\tlearn: 1580.9686950\ttotal: 5.11s\tremaining: 7.83s\n",
            "79:\tlearn: 1578.6324670\ttotal: 5.17s\tremaining: 7.75s\n",
            "80:\tlearn: 1577.4225708\ttotal: 5.23s\tremaining: 7.68s\n",
            "81:\tlearn: 1575.5523601\ttotal: 5.29s\tremaining: 7.62s\n",
            "82:\tlearn: 1573.9332003\ttotal: 5.35s\tremaining: 7.55s\n",
            "83:\tlearn: 1572.1696071\ttotal: 5.42s\tremaining: 7.49s\n",
            "84:\tlearn: 1571.3963374\ttotal: 5.49s\tremaining: 7.42s\n",
            "85:\tlearn: 1568.9845771\ttotal: 5.55s\tremaining: 7.36s\n",
            "86:\tlearn: 1566.7083298\ttotal: 5.62s\tremaining: 7.3s\n",
            "87:\tlearn: 1564.3456890\ttotal: 5.68s\tremaining: 7.23s\n",
            "88:\tlearn: 1562.3546764\ttotal: 5.76s\tremaining: 7.18s\n",
            "89:\tlearn: 1560.4803391\ttotal: 5.85s\tremaining: 7.15s\n",
            "90:\tlearn: 1559.4516196\ttotal: 5.93s\tremaining: 7.11s\n",
            "91:\tlearn: 1558.4749702\ttotal: 6s\tremaining: 7.05s\n",
            "92:\tlearn: 1556.8338341\ttotal: 6.07s\tremaining: 6.98s\n",
            "93:\tlearn: 1554.8434974\ttotal: 6.13s\tremaining: 6.91s\n",
            "94:\tlearn: 1553.0044983\ttotal: 6.19s\tremaining: 6.84s\n",
            "95:\tlearn: 1551.0510819\ttotal: 6.25s\tremaining: 6.77s\n",
            "96:\tlearn: 1550.3710546\ttotal: 6.32s\tremaining: 6.71s\n",
            "97:\tlearn: 1548.9351292\ttotal: 6.37s\tremaining: 6.63s\n",
            "98:\tlearn: 1547.3221614\ttotal: 6.44s\tremaining: 6.57s\n",
            "99:\tlearn: 1546.0314881\ttotal: 6.5s\tremaining: 6.5s\n",
            "100:\tlearn: 1545.1588742\ttotal: 6.57s\tremaining: 6.43s\n",
            "101:\tlearn: 1544.5482009\ttotal: 6.63s\tremaining: 6.37s\n",
            "102:\tlearn: 1543.7421724\ttotal: 6.7s\tremaining: 6.3s\n",
            "103:\tlearn: 1542.3012306\ttotal: 6.75s\tremaining: 6.24s\n",
            "104:\tlearn: 1541.1002850\ttotal: 6.82s\tremaining: 6.17s\n",
            "105:\tlearn: 1539.0229025\ttotal: 6.89s\tremaining: 6.11s\n",
            "106:\tlearn: 1537.8441156\ttotal: 6.96s\tremaining: 6.05s\n",
            "107:\tlearn: 1536.6822188\ttotal: 7.03s\tremaining: 5.99s\n",
            "108:\tlearn: 1535.5376338\ttotal: 7.1s\tremaining: 5.93s\n",
            "109:\tlearn: 1533.7984381\ttotal: 7.2s\tremaining: 5.89s\n",
            "110:\tlearn: 1532.5620194\ttotal: 7.28s\tremaining: 5.83s\n",
            "111:\tlearn: 1531.3755762\ttotal: 7.33s\tremaining: 5.76s\n",
            "112:\tlearn: 1530.0703972\ttotal: 7.4s\tremaining: 5.7s\n",
            "113:\tlearn: 1528.9051489\ttotal: 7.47s\tremaining: 5.64s\n",
            "114:\tlearn: 1527.9981758\ttotal: 7.57s\tremaining: 5.59s\n",
            "115:\tlearn: 1526.7440944\ttotal: 7.67s\tremaining: 5.55s\n",
            "116:\tlearn: 1524.9580636\ttotal: 7.76s\tremaining: 5.51s\n",
            "117:\tlearn: 1523.9413317\ttotal: 7.86s\tremaining: 5.46s\n",
            "118:\tlearn: 1522.8065713\ttotal: 7.93s\tremaining: 5.39s\n",
            "119:\tlearn: 1521.5205258\ttotal: 8.01s\tremaining: 5.34s\n",
            "120:\tlearn: 1520.9860895\ttotal: 8.08s\tremaining: 5.28s\n",
            "121:\tlearn: 1519.5884908\ttotal: 8.15s\tremaining: 5.21s\n",
            "122:\tlearn: 1518.4978480\ttotal: 8.23s\tremaining: 5.15s\n",
            "123:\tlearn: 1517.0101830\ttotal: 8.3s\tremaining: 5.09s\n",
            "124:\tlearn: 1515.7239225\ttotal: 8.38s\tremaining: 5.03s\n",
            "125:\tlearn: 1514.5174183\ttotal: 8.46s\tremaining: 4.97s\n",
            "126:\tlearn: 1513.5576002\ttotal: 8.53s\tremaining: 4.91s\n",
            "127:\tlearn: 1512.7075545\ttotal: 8.59s\tremaining: 4.83s\n",
            "128:\tlearn: 1511.5281026\ttotal: 8.66s\tremaining: 4.77s\n",
            "129:\tlearn: 1510.7735911\ttotal: 8.73s\tremaining: 4.7s\n",
            "130:\tlearn: 1508.8788444\ttotal: 8.81s\tremaining: 4.64s\n",
            "131:\tlearn: 1507.8905155\ttotal: 8.87s\tremaining: 4.57s\n",
            "132:\tlearn: 1507.2904720\ttotal: 8.94s\tremaining: 4.5s\n",
            "133:\tlearn: 1506.6671405\ttotal: 9.01s\tremaining: 4.44s\n",
            "134:\tlearn: 1505.6355274\ttotal: 9.07s\tremaining: 4.37s\n",
            "135:\tlearn: 1504.0533447\ttotal: 9.13s\tremaining: 4.3s\n",
            "136:\tlearn: 1502.9661726\ttotal: 9.2s\tremaining: 4.23s\n",
            "137:\tlearn: 1501.9696586\ttotal: 9.26s\tremaining: 4.16s\n",
            "138:\tlearn: 1501.4401683\ttotal: 9.36s\tremaining: 4.11s\n",
            "139:\tlearn: 1500.3646029\ttotal: 9.45s\tremaining: 4.05s\n",
            "140:\tlearn: 1498.9362236\ttotal: 9.54s\tremaining: 3.99s\n",
            "141:\tlearn: 1498.0467499\ttotal: 9.6s\tremaining: 3.92s\n",
            "142:\tlearn: 1496.2961979\ttotal: 9.68s\tremaining: 3.86s\n",
            "143:\tlearn: 1495.1372168\ttotal: 9.76s\tremaining: 3.79s\n",
            "144:\tlearn: 1494.3043551\ttotal: 9.83s\tremaining: 3.73s\n",
            "145:\tlearn: 1493.4464568\ttotal: 9.89s\tremaining: 3.66s\n",
            "146:\tlearn: 1492.6616813\ttotal: 9.95s\tremaining: 3.59s\n",
            "147:\tlearn: 1491.5918842\ttotal: 10s\tremaining: 3.52s\n",
            "148:\tlearn: 1490.3881497\ttotal: 10.1s\tremaining: 3.45s\n",
            "149:\tlearn: 1488.6686421\ttotal: 10.1s\tremaining: 3.38s\n",
            "150:\tlearn: 1488.0084716\ttotal: 10.2s\tremaining: 3.31s\n",
            "151:\tlearn: 1487.5121354\ttotal: 10.3s\tremaining: 3.24s\n",
            "152:\tlearn: 1486.6993687\ttotal: 10.3s\tremaining: 3.18s\n",
            "153:\tlearn: 1485.6470894\ttotal: 10.4s\tremaining: 3.11s\n",
            "154:\tlearn: 1485.1808736\ttotal: 10.5s\tremaining: 3.04s\n",
            "155:\tlearn: 1483.9424075\ttotal: 10.5s\tremaining: 2.97s\n",
            "156:\tlearn: 1483.4030609\ttotal: 10.6s\tremaining: 2.91s\n",
            "157:\tlearn: 1482.3761062\ttotal: 10.7s\tremaining: 2.84s\n",
            "158:\tlearn: 1481.2732723\ttotal: 10.7s\tremaining: 2.77s\n",
            "159:\tlearn: 1480.7551232\ttotal: 10.8s\tremaining: 2.7s\n",
            "160:\tlearn: 1479.7468334\ttotal: 10.9s\tremaining: 2.63s\n",
            "161:\tlearn: 1479.0552324\ttotal: 10.9s\tremaining: 2.56s\n",
            "162:\tlearn: 1478.3957630\ttotal: 11s\tremaining: 2.49s\n",
            "163:\tlearn: 1477.9936745\ttotal: 11.1s\tremaining: 2.43s\n",
            "164:\tlearn: 1477.1257072\ttotal: 11.1s\tremaining: 2.36s\n",
            "165:\tlearn: 1475.2205469\ttotal: 11.2s\tremaining: 2.29s\n",
            "166:\tlearn: 1474.2994109\ttotal: 11.2s\tremaining: 2.22s\n",
            "167:\tlearn: 1473.5061904\ttotal: 11.3s\tremaining: 2.16s\n",
            "168:\tlearn: 1472.6854047\ttotal: 11.4s\tremaining: 2.09s\n",
            "169:\tlearn: 1471.9381981\ttotal: 11.4s\tremaining: 2.02s\n",
            "170:\tlearn: 1471.1467399\ttotal: 11.5s\tremaining: 1.95s\n",
            "171:\tlearn: 1470.5862935\ttotal: 11.6s\tremaining: 1.89s\n",
            "172:\tlearn: 1469.9487218\ttotal: 11.6s\tremaining: 1.82s\n",
            "173:\tlearn: 1469.6715317\ttotal: 11.7s\tremaining: 1.75s\n",
            "174:\tlearn: 1468.6758314\ttotal: 11.8s\tremaining: 1.68s\n",
            "175:\tlearn: 1467.8553602\ttotal: 11.8s\tremaining: 1.61s\n",
            "176:\tlearn: 1467.4473176\ttotal: 11.9s\tremaining: 1.55s\n",
            "177:\tlearn: 1466.2994995\ttotal: 12s\tremaining: 1.48s\n",
            "178:\tlearn: 1465.5726329\ttotal: 12s\tremaining: 1.41s\n",
            "179:\tlearn: 1465.1348599\ttotal: 12.1s\tremaining: 1.34s\n",
            "180:\tlearn: 1464.7562789\ttotal: 12.2s\tremaining: 1.28s\n",
            "181:\tlearn: 1464.0776754\ttotal: 12.2s\tremaining: 1.21s\n",
            "182:\tlearn: 1463.4513098\ttotal: 12.3s\tremaining: 1.14s\n",
            "183:\tlearn: 1462.6436200\ttotal: 12.4s\tremaining: 1.07s\n",
            "184:\tlearn: 1461.5855203\ttotal: 12.4s\tremaining: 1.01s\n",
            "185:\tlearn: 1460.9851187\ttotal: 12.5s\tremaining: 942ms\n",
            "186:\tlearn: 1460.3607877\ttotal: 12.6s\tremaining: 875ms\n",
            "187:\tlearn: 1459.7815083\ttotal: 12.6s\tremaining: 807ms\n",
            "188:\tlearn: 1459.2856025\ttotal: 12.7s\tremaining: 739ms\n",
            "189:\tlearn: 1458.6472198\ttotal: 12.8s\tremaining: 672ms\n",
            "190:\tlearn: 1457.6211245\ttotal: 12.8s\tremaining: 604ms\n",
            "191:\tlearn: 1456.2524969\ttotal: 12.9s\tremaining: 537ms\n",
            "192:\tlearn: 1455.4965758\ttotal: 12.9s\tremaining: 469ms\n",
            "193:\tlearn: 1455.1174248\ttotal: 13s\tremaining: 403ms\n",
            "194:\tlearn: 1454.6142409\ttotal: 13.1s\tremaining: 335ms\n",
            "195:\tlearn: 1454.0935893\ttotal: 13.1s\tremaining: 268ms\n",
            "196:\tlearn: 1453.0614022\ttotal: 13.2s\tremaining: 201ms\n",
            "197:\tlearn: 1452.5162543\ttotal: 13.3s\tremaining: 134ms\n",
            "198:\tlearn: 1451.5760553\ttotal: 13.3s\tremaining: 67ms\n",
            "199:\tlearn: 1451.3915107\ttotal: 13.4s\tremaining: 0us\n",
            "CPU times: user 13.4 s, sys: 132 ms, total: 13.5 s\n",
            "Wall time: 14.6 s\n"
          ]
        }
      ],
      "source": [
        "%%time\n",
        "res_cbr=model_cbr.fit(X_train,y_train)"
      ]
    },
    {
      "cell_type": "code",
      "execution_count": null,
      "metadata": {
        "id": "zZ6c0K5VQ0Gs",
        "outputId": "3d138391-be4b-40bd-b3ed-845131d6e285"
      },
      "outputs": [
        {
          "name": "stdout",
          "output_type": "stream",
          "text": [
            "CPU times: user 73.7 ms, sys: 43 µs, total: 73.8 ms\n",
            "Wall time: 72.2 ms\n"
          ]
        }
      ],
      "source": [
        "%%time\n",
        "pred_cbr=res_cbr.predict(X_test)"
      ]
    },
    {
      "cell_type": "markdown",
      "metadata": {
        "id": "TRShDwF2Q0Gt"
      },
      "source": [
        "### LGBMRegressor"
      ]
    },
    {
      "cell_type": "code",
      "execution_count": null,
      "metadata": {
        "id": "d08QRnqKQ0Gt"
      },
      "outputs": [],
      "source": [
        "model_lgbmr=lightgbm.LGBMRegressor(random_state=12345,num_leaves=29, verbose=0)"
      ]
    },
    {
      "cell_type": "code",
      "execution_count": null,
      "metadata": {
        "id": "3U41TEOHQ0Gt"
      },
      "outputs": [],
      "source": [
        "grid_lgbmr={'n_estimators': [10, 50, 100],\n",
        "    'max_depth': [1, 3, 5]}"
      ]
    },
    {
      "cell_type": "code",
      "execution_count": null,
      "metadata": {
        "scrolled": true,
        "id": "kr7RALrCQ0Gt",
        "outputId": "db016649-0cdb-4242-f55f-866e9651e375"
      },
      "outputs": [
        {
          "name": "stdout",
          "output_type": "stream",
          "text": [
            "[LightGBM] [Warning] Auto-choosing row-wise multi-threading, the overhead of testing was 0.397120 seconds.\n",
            "You can set `force_row_wise=true` to remove the overhead.\n",
            "And if memory is not enough, you can set `force_col_wise=true`.\n",
            "[LightGBM] [Warning] Auto-choosing row-wise multi-threading, the overhead of testing was 0.391101 seconds.\n",
            "You can set `force_row_wise=true` to remove the overhead.\n",
            "And if memory is not enough, you can set `force_col_wise=true`.\n",
            "[LightGBM] [Warning] Auto-choosing col-wise multi-threading, the overhead of testing was 0.374599 seconds.\n",
            "You can set `force_col_wise=true` to remove the overhead.\n",
            "[LightGBM] [Warning] Auto-choosing row-wise multi-threading, the overhead of testing was 0.403986 seconds.\n",
            "You can set `force_row_wise=true` to remove the overhead.\n",
            "And if memory is not enough, you can set `force_col_wise=true`.\n",
            "[LightGBM] [Warning] Auto-choosing row-wise multi-threading, the overhead of testing was 0.325223 seconds.\n",
            "You can set `force_row_wise=true` to remove the overhead.\n",
            "And if memory is not enough, you can set `force_col_wise=true`.\n",
            "[LightGBM] [Warning] Auto-choosing col-wise multi-threading, the overhead of testing was 0.307526 seconds.\n",
            "You can set `force_col_wise=true` to remove the overhead.\n",
            "[LightGBM] [Warning] Auto-choosing row-wise multi-threading, the overhead of testing was 0.336815 seconds.\n",
            "You can set `force_row_wise=true` to remove the overhead.\n",
            "And if memory is not enough, you can set `force_col_wise=true`.\n",
            "[LightGBM] [Warning] Auto-choosing row-wise multi-threading, the overhead of testing was 0.393541 seconds.\n",
            "You can set `force_row_wise=true` to remove the overhead.\n",
            "And if memory is not enough, you can set `force_col_wise=true`.\n",
            "[LightGBM] [Warning] Auto-choosing col-wise multi-threading, the overhead of testing was 0.317541 seconds.\n",
            "You can set `force_col_wise=true` to remove the overhead.\n",
            "[LightGBM] [Warning] Auto-choosing row-wise multi-threading, the overhead of testing was 0.398220 seconds.\n",
            "You can set `force_row_wise=true` to remove the overhead.\n",
            "And if memory is not enough, you can set `force_col_wise=true`.\n",
            "[LightGBM] [Warning] Auto-choosing row-wise multi-threading, the overhead of testing was 0.325308 seconds.\n",
            "You can set `force_row_wise=true` to remove the overhead.\n",
            "And if memory is not enough, you can set `force_col_wise=true`.\n",
            "[LightGBM] [Warning] Auto-choosing row-wise multi-threading, the overhead of testing was 0.392680 seconds.\n",
            "You can set `force_row_wise=true` to remove the overhead.\n",
            "And if memory is not enough, you can set `force_col_wise=true`.\n",
            "[LightGBM] [Warning] Auto-choosing col-wise multi-threading, the overhead of testing was 0.400524 seconds.\n",
            "You can set `force_col_wise=true` to remove the overhead.\n",
            "[LightGBM] [Warning] Auto-choosing row-wise multi-threading, the overhead of testing was 0.312127 seconds.\n",
            "You can set `force_row_wise=true` to remove the overhead.\n",
            "And if memory is not enough, you can set `force_col_wise=true`.\n",
            "[LightGBM] [Warning] Auto-choosing row-wise multi-threading, the overhead of testing was 0.288461 seconds.\n",
            "You can set `force_row_wise=true` to remove the overhead.\n",
            "And if memory is not enough, you can set `force_col_wise=true`.\n",
            "[LightGBM] [Warning] Auto-choosing col-wise multi-threading, the overhead of testing was 0.306721 seconds.\n",
            "You can set `force_col_wise=true` to remove the overhead.\n",
            "[LightGBM] [Warning] No further splits with positive gain, best gain: -inf\n",
            "[LightGBM] [Warning] No further splits with positive gain, best gain: -inf\n",
            "[LightGBM] [Warning] No further splits with positive gain, best gain: -inf\n",
            "[LightGBM] [Warning] Auto-choosing row-wise multi-threading, the overhead of testing was 0.334434 seconds.\n",
            "You can set `force_row_wise=true` to remove the overhead.\n",
            "And if memory is not enough, you can set `force_col_wise=true`.\n",
            "[LightGBM] [Warning] No further splits with positive gain, best gain: -inf\n",
            "[LightGBM] [Warning] No further splits with positive gain, best gain: -inf\n",
            "[LightGBM] [Warning] No further splits with positive gain, best gain: -inf\n",
            "[LightGBM] [Warning] No further splits with positive gain, best gain: -inf\n",
            "[LightGBM] [Warning] Auto-choosing row-wise multi-threading, the overhead of testing was 0.320846 seconds.\n",
            "You can set `force_row_wise=true` to remove the overhead.\n",
            "And if memory is not enough, you can set `force_col_wise=true`.\n",
            "[LightGBM] [Warning] No further splits with positive gain, best gain: -inf\n",
            "[LightGBM] [Warning] No further splits with positive gain, best gain: -inf\n",
            "[LightGBM] [Warning] No further splits with positive gain, best gain: -inf\n",
            "[LightGBM] [Warning] Auto-choosing col-wise multi-threading, the overhead of testing was 0.384259 seconds.\n",
            "You can set `force_col_wise=true` to remove the overhead.\n",
            "[LightGBM] [Warning] Auto-choosing row-wise multi-threading, the overhead of testing was 0.332348 seconds.\n",
            "You can set `force_row_wise=true` to remove the overhead.\n",
            "And if memory is not enough, you can set `force_col_wise=true`.\n",
            "[LightGBM] [Warning] Auto-choosing col-wise multi-threading, the overhead of testing was 0.315703 seconds.\n",
            "You can set `force_col_wise=true` to remove the overhead.\n",
            "[LightGBM] [Warning] Auto-choosing row-wise multi-threading, the overhead of testing was 0.397420 seconds.\n",
            "You can set `force_row_wise=true` to remove the overhead.\n",
            "And if memory is not enough, you can set `force_col_wise=true`.\n",
            "[LightGBM] [Warning] No further splits with positive gain, best gain: -inf\n",
            "[LightGBM] [Warning] No further splits with positive gain, best gain: -inf\n",
            "[LightGBM] [Warning] Auto-choosing row-wise multi-threading, the overhead of testing was 0.381083 seconds.\n",
            "You can set `force_row_wise=true` to remove the overhead.\n",
            "And if memory is not enough, you can set `force_col_wise=true`.\n",
            "[LightGBM] [Warning] No further splits with positive gain, best gain: -inf\n",
            "[LightGBM] [Warning] No further splits with positive gain, best gain: -inf\n",
            "[LightGBM] [Warning] No further splits with positive gain, best gain: -inf\n",
            "[LightGBM] [Warning] Auto-choosing row-wise multi-threading, the overhead of testing was 0.405560 seconds.\n",
            "You can set `force_row_wise=true` to remove the overhead.\n",
            "And if memory is not enough, you can set `force_col_wise=true`.\n",
            "[LightGBM] [Warning] No further splits with positive gain, best gain: -inf\n",
            "[LightGBM] [Warning] No further splits with positive gain, best gain: -inf\n",
            "[LightGBM] [Warning] No further splits with positive gain, best gain: -inf\n",
            "[LightGBM] [Warning] No further splits with positive gain, best gain: -inf\n",
            "[LightGBM] [Warning] Auto-choosing row-wise multi-threading, the overhead of testing was 0.390975 seconds.\n",
            "You can set `force_row_wise=true` to remove the overhead.\n",
            "And if memory is not enough, you can set `force_col_wise=true`.\n",
            "[LightGBM] [Warning] No further splits with positive gain, best gain: -inf\n",
            "[LightGBM] [Warning] No further splits with positive gain, best gain: -inf\n",
            "[LightGBM] [Warning] No further splits with positive gain, best gain: -inf\n",
            "[LightGBM] [Warning] No further splits with positive gain, best gain: -inf\n",
            "[LightGBM] [Warning] No further splits with positive gain, best gain: -inf\n",
            "[LightGBM] [Warning] No further splits with positive gain, best gain: -inf\n",
            "[LightGBM] [Warning] No further splits with positive gain, best gain: -inf\n",
            "[LightGBM] [Warning] No further splits with positive gain, best gain: -inf\n",
            "[LightGBM] [Warning] No further splits with positive gain, best gain: -inf\n",
            "[LightGBM] [Warning] No further splits with positive gain, best gain: -inf\n",
            "[LightGBM] [Warning] No further splits with positive gain, best gain: -inf\n",
            "[LightGBM] [Warning] No further splits with positive gain, best gain: -inf\n",
            "[LightGBM] [Warning] No further splits with positive gain, best gain: -inf\n",
            "[LightGBM] [Warning] No further splits with positive gain, best gain: -inf\n",
            "[LightGBM] [Warning] No further splits with positive gain, best gain: -inf\n",
            "[LightGBM] [Warning] No further splits with positive gain, best gain: -inf\n",
            "[LightGBM] [Warning] No further splits with positive gain, best gain: -inf\n",
            "[LightGBM] [Warning] No further splits with positive gain, best gain: -inf\n",
            "[LightGBM] [Warning] No further splits with positive gain, best gain: -inf\n",
            "[LightGBM] [Warning] No further splits with positive gain, best gain: -inf\n",
            "[LightGBM] [Warning] No further splits with positive gain, best gain: -inf\n",
            "[LightGBM] [Warning] No further splits with positive gain, best gain: -inf\n",
            "[LightGBM] [Warning] No further splits with positive gain, best gain: -inf\n",
            "[LightGBM] [Warning] No further splits with positive gain, best gain: -inf\n",
            "[LightGBM] [Warning] Auto-choosing row-wise multi-threading, the overhead of testing was 0.395539 seconds.\n",
            "You can set `force_row_wise=true` to remove the overhead.\n",
            "And if memory is not enough, you can set `force_col_wise=true`.\n",
            "[LightGBM] [Warning] No further splits with positive gain, best gain: -inf\n",
            "[LightGBM] [Warning] No further splits with positive gain, best gain: -inf\n",
            "[LightGBM] [Warning] No further splits with positive gain, best gain: -inf\n",
            "[LightGBM] [Warning] No further splits with positive gain, best gain: -inf\n",
            "[LightGBM] [Warning] No further splits with positive gain, best gain: -inf\n",
            "[LightGBM] [Warning] No further splits with positive gain, best gain: -inf\n",
            "[LightGBM] [Warning] No further splits with positive gain, best gain: -inf\n",
            "[LightGBM] [Warning] No further splits with positive gain, best gain: -inf\n",
            "[LightGBM] [Warning] No further splits with positive gain, best gain: -inf\n",
            "[LightGBM] [Warning] No further splits with positive gain, best gain: -inf\n",
            "[LightGBM] [Warning] No further splits with positive gain, best gain: -inf\n",
            "[LightGBM] [Warning] No further splits with positive gain, best gain: -inf\n",
            "[LightGBM] [Warning] No further splits with positive gain, best gain: -inf\n",
            "[LightGBM] [Warning] No further splits with positive gain, best gain: -inf\n",
            "[LightGBM] [Warning] No further splits with positive gain, best gain: -inf\n",
            "[LightGBM] [Warning] No further splits with positive gain, best gain: -inf\n",
            "[LightGBM] [Warning] No further splits with positive gain, best gain: -inf\n",
            "[LightGBM] [Warning] No further splits with positive gain, best gain: -inf\n",
            "[LightGBM] [Warning] No further splits with positive gain, best gain: -inf\n",
            "[LightGBM] [Warning] No further splits with positive gain, best gain: -inf\n",
            "[LightGBM] [Warning] No further splits with positive gain, best gain: -inf\n",
            "[LightGBM] [Warning] No further splits with positive gain, best gain: -inf\n",
            "[LightGBM] [Warning] No further splits with positive gain, best gain: -inf\n",
            "[LightGBM] [Warning] No further splits with positive gain, best gain: -inf\n",
            "[LightGBM] [Warning] No further splits with positive gain, best gain: -inf\n",
            "[LightGBM] [Warning] No further splits with positive gain, best gain: -inf\n",
            "[LightGBM] [Warning] No further splits with positive gain, best gain: -inf\n",
            "[LightGBM] [Warning] No further splits with positive gain, best gain: -inf\n",
            "[LightGBM] [Warning] No further splits with positive gain, best gain: -inf\n",
            "[LightGBM] [Warning] No further splits with positive gain, best gain: -inf\n",
            "[LightGBM] [Warning] No further splits with positive gain, best gain: -inf\n",
            "[LightGBM] [Warning] No further splits with positive gain, best gain: -inf\n",
            "[LightGBM] [Warning] Auto-choosing col-wise multi-threading, the overhead of testing was 0.333343 seconds.\n",
            "You can set `force_col_wise=true` to remove the overhead.\n",
            "[LightGBM] [Warning] No further splits with positive gain, best gain: -inf\n",
            "[LightGBM] [Warning] No further splits with positive gain, best gain: -inf\n",
            "[LightGBM] [Warning] No further splits with positive gain, best gain: -inf\n",
            "[LightGBM] [Warning] No further splits with positive gain, best gain: -inf\n",
            "[LightGBM] [Warning] No further splits with positive gain, best gain: -inf\n",
            "[LightGBM] [Warning] No further splits with positive gain, best gain: -inf\n",
            "[LightGBM] [Warning] No further splits with positive gain, best gain: -inf\n",
            "[LightGBM] [Warning] No further splits with positive gain, best gain: -inf\n",
            "[LightGBM] [Warning] No further splits with positive gain, best gain: -inf\n",
            "[LightGBM] [Warning] No further splits with positive gain, best gain: -inf\n",
            "[LightGBM] [Warning] No further splits with positive gain, best gain: -inf\n",
            "[LightGBM] [Warning] No further splits with positive gain, best gain: -inf\n",
            "[LightGBM] [Warning] No further splits with positive gain, best gain: -inf\n",
            "[LightGBM] [Warning] No further splits with positive gain, best gain: -inf\n",
            "[LightGBM] [Warning] No further splits with positive gain, best gain: -inf\n",
            "[LightGBM] [Warning] No further splits with positive gain, best gain: -inf\n",
            "[LightGBM] [Warning] No further splits with positive gain, best gain: -inf\n",
            "[LightGBM] [Warning] No further splits with positive gain, best gain: -inf\n",
            "[LightGBM] [Warning] No further splits with positive gain, best gain: -inf\n",
            "[LightGBM] [Warning] No further splits with positive gain, best gain: -inf\n",
            "[LightGBM] [Warning] No further splits with positive gain, best gain: -inf\n",
            "[LightGBM] [Warning] No further splits with positive gain, best gain: -inf\n",
            "[LightGBM] [Warning] No further splits with positive gain, best gain: -inf\n",
            "[LightGBM] [Warning] No further splits with positive gain, best gain: -inf\n",
            "[LightGBM] [Warning] No further splits with positive gain, best gain: -inf\n",
            "[LightGBM] [Warning] No further splits with positive gain, best gain: -inf\n",
            "[LightGBM] [Warning] No further splits with positive gain, best gain: -inf\n",
            "[LightGBM] [Warning] No further splits with positive gain, best gain: -inf\n",
            "[LightGBM] [Warning] No further splits with positive gain, best gain: -inf\n",
            "[LightGBM] [Warning] No further splits with positive gain, best gain: -inf\n",
            "[LightGBM] [Warning] No further splits with positive gain, best gain: -inf\n",
            "[LightGBM] [Warning] No further splits with positive gain, best gain: -inf\n",
            "[LightGBM] [Warning] No further splits with positive gain, best gain: -inf\n",
            "[LightGBM] [Warning] No further splits with positive gain, best gain: -inf\n",
            "[LightGBM] [Warning] Auto-choosing row-wise multi-threading, the overhead of testing was 0.398175 seconds.\n",
            "You can set `force_row_wise=true` to remove the overhead.\n",
            "And if memory is not enough, you can set `force_col_wise=true`.\n",
            "[LightGBM] [Warning] No further splits with positive gain, best gain: -inf\n",
            "[LightGBM] [Warning] No further splits with positive gain, best gain: -inf\n",
            "[LightGBM] [Warning] No further splits with positive gain, best gain: -inf\n",
            "[LightGBM] [Warning] No further splits with positive gain, best gain: -inf\n",
            "[LightGBM] [Warning] No further splits with positive gain, best gain: -inf\n",
            "[LightGBM] [Warning] No further splits with positive gain, best gain: -inf\n",
            "[LightGBM] [Warning] No further splits with positive gain, best gain: -inf\n",
            "[LightGBM] [Warning] No further splits with positive gain, best gain: -inf\n",
            "[LightGBM] [Warning] No further splits with positive gain, best gain: -inf\n",
            "[LightGBM] [Warning] No further splits with positive gain, best gain: -inf\n",
            "[LightGBM] [Warning] No further splits with positive gain, best gain: -inf\n",
            "[LightGBM] [Warning] No further splits with positive gain, best gain: -inf\n",
            "[LightGBM] [Warning] No further splits with positive gain, best gain: -inf\n",
            "[LightGBM] [Warning] No further splits with positive gain, best gain: -inf\n",
            "[LightGBM] [Warning] No further splits with positive gain, best gain: -inf\n",
            "[LightGBM] [Warning] No further splits with positive gain, best gain: -inf\n",
            "[LightGBM] [Warning] No further splits with positive gain, best gain: -inf\n",
            "[LightGBM] [Warning] No further splits with positive gain, best gain: -inf\n",
            "[LightGBM] [Warning] No further splits with positive gain, best gain: -inf\n",
            "[LightGBM] [Warning] No further splits with positive gain, best gain: -inf\n",
            "[LightGBM] [Warning] No further splits with positive gain, best gain: -inf\n",
            "[LightGBM] [Warning] No further splits with positive gain, best gain: -inf\n",
            "[LightGBM] [Warning] No further splits with positive gain, best gain: -inf\n",
            "[LightGBM] [Warning] No further splits with positive gain, best gain: -inf\n",
            "[LightGBM] [Warning] No further splits with positive gain, best gain: -inf\n",
            "[LightGBM] [Warning] No further splits with positive gain, best gain: -inf\n",
            "[LightGBM] [Warning] No further splits with positive gain, best gain: -inf\n",
            "[LightGBM] [Warning] No further splits with positive gain, best gain: -inf\n",
            "[LightGBM] [Warning] No further splits with positive gain, best gain: -inf\n",
            "[LightGBM] [Warning] Auto-choosing col-wise multi-threading, the overhead of testing was 0.296731 seconds.\n",
            "You can set `force_col_wise=true` to remove the overhead.\n",
            "[LightGBM] [Warning] No further splits with positive gain, best gain: -inf\n",
            "[LightGBM] [Warning] No further splits with positive gain, best gain: -inf\n",
            "[LightGBM] [Warning] No further splits with positive gain, best gain: -inf\n",
            "[LightGBM] [Warning] No further splits with positive gain, best gain: -inf\n",
            "[LightGBM] [Warning] No further splits with positive gain, best gain: -inf\n",
            "[LightGBM] [Warning] No further splits with positive gain, best gain: -inf\n",
            "[LightGBM] [Warning] No further splits with positive gain, best gain: -inf\n",
            "[LightGBM] [Warning] No further splits with positive gain, best gain: -inf\n",
            "[LightGBM] [Warning] No further splits with positive gain, best gain: -inf\n",
            "[LightGBM] [Warning] No further splits with positive gain, best gain: -inf\n",
            "[LightGBM] [Warning] No further splits with positive gain, best gain: -inf\n",
            "[LightGBM] [Warning] No further splits with positive gain, best gain: -inf\n",
            "[LightGBM] [Warning] No further splits with positive gain, best gain: -inf\n",
            "[LightGBM] [Warning] No further splits with positive gain, best gain: -inf\n",
            "[LightGBM] [Warning] No further splits with positive gain, best gain: -inf\n",
            "[LightGBM] [Warning] No further splits with positive gain, best gain: -inf\n",
            "[LightGBM] [Warning] No further splits with positive gain, best gain: -inf\n",
            "[LightGBM] [Warning] No further splits with positive gain, best gain: -inf\n",
            "[LightGBM] [Warning] No further splits with positive gain, best gain: -inf\n",
            "[LightGBM] [Warning] No further splits with positive gain, best gain: -inf\n",
            "[LightGBM] [Warning] No further splits with positive gain, best gain: -inf\n",
            "[LightGBM] [Warning] No further splits with positive gain, best gain: -inf\n",
            "[LightGBM] [Warning] No further splits with positive gain, best gain: -inf\n",
            "[LightGBM] [Warning] Auto-choosing col-wise multi-threading, the overhead of testing was 0.305036 seconds.\n",
            "You can set `force_col_wise=true` to remove the overhead.\n",
            "[LightGBM] [Warning] No further splits with positive gain, best gain: -inf\n",
            "[LightGBM] [Warning] No further splits with positive gain, best gain: -inf\n",
            "[LightGBM] [Warning] No further splits with positive gain, best gain: -inf\n",
            "[LightGBM] [Warning] No further splits with positive gain, best gain: -inf\n",
            "[LightGBM] [Warning] No further splits with positive gain, best gain: -inf\n",
            "[LightGBM] [Warning] No further splits with positive gain, best gain: -inf\n",
            "[LightGBM] [Warning] No further splits with positive gain, best gain: -inf\n",
            "[LightGBM] [Warning] No further splits with positive gain, best gain: -inf\n",
            "[LightGBM] [Warning] No further splits with positive gain, best gain: -inf\n",
            "[LightGBM] [Warning] No further splits with positive gain, best gain: -inf\n",
            "[LightGBM] [Warning] No further splits with positive gain, best gain: -inf\n",
            "[LightGBM] [Warning] No further splits with positive gain, best gain: -inf\n",
            "[LightGBM] [Warning] No further splits with positive gain, best gain: -inf\n",
            "[LightGBM] [Warning] No further splits with positive gain, best gain: -inf\n",
            "[LightGBM] [Warning] No further splits with positive gain, best gain: -inf\n",
            "[LightGBM] [Warning] No further splits with positive gain, best gain: -inf\n",
            "[LightGBM] [Warning] No further splits with positive gain, best gain: -inf\n",
            "[LightGBM] [Warning] No further splits with positive gain, best gain: -inf\n",
            "[LightGBM] [Warning] No further splits with positive gain, best gain: -inf\n",
            "[LightGBM] [Warning] No further splits with positive gain, best gain: -inf\n",
            "[LightGBM] [Warning] No further splits with positive gain, best gain: -inf\n",
            "[LightGBM] [Warning] No further splits with positive gain, best gain: -inf\n",
            "[LightGBM] [Warning] No further splits with positive gain, best gain: -inf\n",
            "[LightGBM] [Warning] No further splits with positive gain, best gain: -inf\n",
            "[LightGBM] [Warning] No further splits with positive gain, best gain: -inf\n",
            "[LightGBM] [Warning] No further splits with positive gain, best gain: -inf\n",
            "[LightGBM] [Warning] Auto-choosing row-wise multi-threading, the overhead of testing was 0.375539 seconds.\n",
            "You can set `force_row_wise=true` to remove the overhead.\n",
            "And if memory is not enough, you can set `force_col_wise=true`.\n",
            "[LightGBM] [Warning] No further splits with positive gain, best gain: -inf\n",
            "[LightGBM] [Warning] No further splits with positive gain, best gain: -inf\n",
            "[LightGBM] [Warning] No further splits with positive gain, best gain: -inf\n",
            "[LightGBM] [Warning] No further splits with positive gain, best gain: -inf\n",
            "[LightGBM] [Warning] No further splits with positive gain, best gain: -inf\n",
            "[LightGBM] [Warning] No further splits with positive gain, best gain: -inf\n",
            "[LightGBM] [Warning] No further splits with positive gain, best gain: -inf\n",
            "[LightGBM] [Warning] No further splits with positive gain, best gain: -inf\n",
            "[LightGBM] [Warning] No further splits with positive gain, best gain: -inf\n",
            "[LightGBM] [Warning] No further splits with positive gain, best gain: -inf\n",
            "[LightGBM] [Warning] No further splits with positive gain, best gain: -inf\n",
            "[LightGBM] [Warning] No further splits with positive gain, best gain: -inf\n",
            "[LightGBM] [Warning] No further splits with positive gain, best gain: -inf\n",
            "[LightGBM] [Warning] No further splits with positive gain, best gain: -inf\n",
            "[LightGBM] [Warning] No further splits with positive gain, best gain: -inf\n",
            "[LightGBM] [Warning] No further splits with positive gain, best gain: -inf\n",
            "[LightGBM] [Warning] No further splits with positive gain, best gain: -inf\n",
            "[LightGBM] [Warning] No further splits with positive gain, best gain: -inf\n",
            "[LightGBM] [Warning] No further splits with positive gain, best gain: -inf\n",
            "[LightGBM] [Warning] No further splits with positive gain, best gain: -inf\n",
            "[LightGBM] [Warning] No further splits with positive gain, best gain: -inf\n",
            "[LightGBM] [Warning] No further splits with positive gain, best gain: -inf\n",
            "[LightGBM] [Warning] No further splits with positive gain, best gain: -inf\n",
            "[LightGBM] [Warning] No further splits with positive gain, best gain: -inf\n",
            "[LightGBM] [Warning] No further splits with positive gain, best gain: -inf\n",
            "[LightGBM] [Warning] No further splits with positive gain, best gain: -inf\n",
            "[LightGBM] [Warning] No further splits with positive gain, best gain: -inf\n",
            "[LightGBM] [Warning] No further splits with positive gain, best gain: -inf\n",
            "[LightGBM] [Warning] No further splits with positive gain, best gain: -inf\n",
            "[LightGBM] [Warning] No further splits with positive gain, best gain: -inf\n",
            "[LightGBM] [Warning] No further splits with positive gain, best gain: -inf\n",
            "[LightGBM] [Warning] No further splits with positive gain, best gain: -inf\n"
          ]
        }
      ],
      "source": [
        "grid_search_lgbmr=GridSearchCV(estimator=model_lgbmr, param_grid = grid_lgbmr, refit=True,\n",
        "                               scoring = 'neg_root_mean_squared_error',cv = cv, n_jobs=-1)\n",
        "opt_lgbmr=grid_search_lgbmr.fit(X2_train, y2_train)\n",
        "score_lgbmr=cross_val_score(opt_lgbmr.best_estimator_, X2_train, y2_train, cv=3,\n",
        "                            scoring='neg_root_mean_squared_error').mean()"
      ]
    },
    {
      "cell_type": "code",
      "execution_count": null,
      "metadata": {
        "id": "GvlxOLTmQ0Gt",
        "outputId": "52718275-616c-4a72-fb8c-beff1fa0baf4"
      },
      "outputs": [
        {
          "name": "stdout",
          "output_type": "stream",
          "text": [
            "[LightGBM] [Warning] Auto-choosing row-wise multi-threading, the overhead of testing was 0.383279 seconds.\n",
            "You can set `force_row_wise=true` to remove the overhead.\n",
            "And if memory is not enough, you can set `force_col_wise=true`.\n",
            "CPU times: user 5min 37s, sys: 4.14 s, total: 5min 41s\n",
            "Wall time: 5min 43s\n"
          ]
        }
      ],
      "source": [
        "%%time\n",
        "res_lgbmr=model_lgbmr.fit(X_train,y_train)"
      ]
    },
    {
      "cell_type": "code",
      "execution_count": null,
      "metadata": {
        "scrolled": true,
        "id": "9SHko7tRQ0Gu",
        "outputId": "eee52e36-ff79-4706-dd1f-347c463ee887"
      },
      "outputs": [
        {
          "name": "stdout",
          "output_type": "stream",
          "text": [
            "[LightGBM] [Warning] Auto-choosing row-wise multi-threading, the overhead of testing was 0.364328 seconds.\n",
            "You can set `force_row_wise=true` to remove the overhead.\n",
            "And if memory is not enough, you can set `force_col_wise=true`.\n",
            "[LightGBM] [Warning] No further splits with positive gain, best gain: -inf\n",
            "[LightGBM] [Warning] No further splits with positive gain, best gain: -inf\n",
            "[LightGBM] [Warning] No further splits with positive gain, best gain: -inf\n",
            "[LightGBM] [Warning] No further splits with positive gain, best gain: -inf\n",
            "[LightGBM] [Warning] No further splits with positive gain, best gain: -inf\n",
            "[LightGBM] [Warning] No further splits with positive gain, best gain: -inf\n",
            "[LightGBM] [Warning] No further splits with positive gain, best gain: -inf\n",
            "[LightGBM] [Warning] No further splits with positive gain, best gain: -inf\n",
            "[LightGBM] [Warning] No further splits with positive gain, best gain: -inf\n",
            "[LightGBM] [Warning] No further splits with positive gain, best gain: -inf\n",
            "[LightGBM] [Warning] No further splits with positive gain, best gain: -inf\n",
            "[LightGBM] [Warning] No further splits with positive gain, best gain: -inf\n",
            "[LightGBM] [Warning] No further splits with positive gain, best gain: -inf\n",
            "[LightGBM] [Warning] No further splits with positive gain, best gain: -inf\n",
            "[LightGBM] [Warning] No further splits with positive gain, best gain: -inf\n",
            "[LightGBM] [Warning] No further splits with positive gain, best gain: -inf\n",
            "[LightGBM] [Warning] No further splits with positive gain, best gain: -inf\n",
            "[LightGBM] [Warning] No further splits with positive gain, best gain: -inf\n",
            "[LightGBM] [Warning] No further splits with positive gain, best gain: -inf\n",
            "[LightGBM] [Warning] No further splits with positive gain, best gain: -inf\n",
            "CPU times: user 4min 33s, sys: 4.81 s, total: 4min 38s\n",
            "Wall time: 4min 39s\n"
          ]
        }
      ],
      "source": [
        "%%time\n",
        "res_lgbmr=opt_lgbmr.best_estimator_.fit(X_train,y_train)"
      ]
    },
    {
      "cell_type": "code",
      "execution_count": null,
      "metadata": {
        "id": "9WwYDDM5Q0Gu",
        "outputId": "5e68987b-5bef-461d-9ec9-a8336f4290f4"
      },
      "outputs": [
        {
          "name": "stdout",
          "output_type": "stream",
          "text": [
            "CPU times: user 358 ms, sys: 6.68 ms, total: 365 ms\n",
            "Wall time: 270 ms\n"
          ]
        }
      ],
      "source": [
        "%%time\n",
        "pred_lgbmr=res_lgbmr.predict(X_test)"
      ]
    },
    {
      "cell_type": "markdown",
      "metadata": {
        "id": "Bp67W3gLQ0Gu"
      },
      "source": [
        "### RandomForestRegressor"
      ]
    },
    {
      "cell_type": "code",
      "execution_count": null,
      "metadata": {
        "id": "oyCtJqFBQ0Gu"
      },
      "outputs": [],
      "source": [
        "model_rfr=RandomForestRegressor(random_state=RANDOM_STATE,verbose=0)"
      ]
    },
    {
      "cell_type": "code",
      "execution_count": null,
      "metadata": {
        "id": "ykGfgE_iQ0Gu"
      },
      "outputs": [],
      "source": [
        "grid_rfr={'n_estimators': range(1,10),'max_depth': range(1,10)}"
      ]
    },
    {
      "cell_type": "code",
      "execution_count": null,
      "metadata": {
        "id": "3nr9omabQ0Gu"
      },
      "outputs": [],
      "source": [
        "grid_search=GridSearchCV(estimator=model_rfr, param_grid = grid_rfr, refit=True,\n",
        "                         scoring = 'neg_root_mean_squared_error',cv = cv, n_jobs=-1)\n",
        "opt=grid_search.fit(X_train, y_train)\n",
        "score_rfr=cross_val_score(opt.best_estimator_, X_train, y_train, cv=3,\n",
        "                          scoring='neg_root_mean_squared_error').mean()"
      ]
    },
    {
      "cell_type": "code",
      "execution_count": null,
      "metadata": {
        "id": "QscV2EHxQ0Gu",
        "outputId": "53a04171-b4fb-44df-c26e-441f39ad2dbc"
      },
      "outputs": [
        {
          "name": "stdout",
          "output_type": "stream",
          "text": [
            "CPU times: user 2.48 s, sys: 39.9 ms, total: 2.52 s\n",
            "Wall time: 2.53 s\n"
          ]
        }
      ],
      "source": [
        "%%time\n",
        "res_rfr=opt.best_estimator_.fit(X_train,y_train)"
      ]
    },
    {
      "cell_type": "code",
      "execution_count": null,
      "metadata": {
        "id": "4eoYu91JQ0Gu",
        "outputId": "1565da06-898c-4d5f-e3ea-9a9330842e1e"
      },
      "outputs": [
        {
          "name": "stdout",
          "output_type": "stream",
          "text": [
            "CPU times: user 41.6 ms, sys: 35 µs, total: 41.6 ms\n",
            "Wall time: 40.1 ms\n"
          ]
        }
      ],
      "source": [
        "%%time\n",
        "pred_rfr=res_rfr.predict(X_test)"
      ]
    },
    {
      "cell_type": "markdown",
      "metadata": {
        "id": "HJwWTqNfQ0Gv"
      },
      "source": [
        "Построены модели Случайный лес, Линейная регрессия и LightGBM. Лучший результат у модели Случайный лес."
      ]
    },
    {
      "cell_type": "markdown",
      "metadata": {
        "id": "wfASJQPgQ0Gv"
      },
      "source": [
        "## Анализ моделей"
      ]
    },
    {
      "cell_type": "code",
      "execution_count": null,
      "metadata": {
        "id": "E5agaQlBQ0Gv",
        "outputId": "b2ec3534-5475-46f0-9174-ebc73a0d5b27"
      },
      "outputs": [
        {
          "data": {
            "text/plain": [
              "[-1643.9201623009758, -1720.5520631895179, -1969.2192984348292]"
            ]
          },
          "execution_count": 87,
          "metadata": {},
          "output_type": "execute_result"
        }
      ],
      "source": [
        "results=[score_cbr,score_lgbmr,score_rfr]\n",
        "results"
      ]
    },
    {
      "cell_type": "code",
      "execution_count": null,
      "metadata": {
        "id": "iZSUMrdVQ0Gv",
        "outputId": "0b9a4bcb-63f3-4a34-836c-7a5c219eb74e"
      },
      "outputs": [
        {
          "name": "stdout",
          "output_type": "stream",
          "text": [
            "CPU times: user 43.7 ms, sys: 5 µs, total: 43.7 ms\n",
            "Wall time: 49.5 ms\n"
          ]
        }
      ],
      "source": [
        "%%time\n",
        "best = opt.best_estimator_.predict(X_test)"
      ]
    },
    {
      "cell_type": "code",
      "execution_count": null,
      "metadata": {
        "id": "kCt_vzRIQ0Gv",
        "outputId": "dd59aac2-033a-4aab-972a-38a021552eff"
      },
      "outputs": [
        {
          "data": {
            "text/plain": [
              "1971.563014630746"
            ]
          },
          "execution_count": 90,
          "metadata": {},
          "output_type": "execute_result"
        }
      ],
      "source": [
        "mse(y_test,best)**0.5"
      ]
    },
    {
      "cell_type": "code",
      "execution_count": null,
      "metadata": {
        "id": "u8DIWSxlQ0Gv",
        "outputId": "9b0aef57-af4b-452f-d802-0ee873140d28"
      },
      "outputs": [
        {
          "data": {
            "text/plain": [
              "{'bootstrap': True,\n",
              " 'ccp_alpha': 0.0,\n",
              " 'criterion': 'mse',\n",
              " 'max_depth': None,\n",
              " 'max_features': 'auto',\n",
              " 'max_leaf_nodes': None,\n",
              " 'max_samples': None,\n",
              " 'min_impurity_decrease': 0.0,\n",
              " 'min_impurity_split': None,\n",
              " 'min_samples_leaf': 1,\n",
              " 'min_samples_split': 2,\n",
              " 'min_weight_fraction_leaf': 0.0,\n",
              " 'n_estimators': 100,\n",
              " 'n_jobs': None,\n",
              " 'oob_score': False,\n",
              " 'random_state': 12345,\n",
              " 'verbose': 0,\n",
              " 'warm_start': False}"
            ]
          },
          "execution_count": 91,
          "metadata": {},
          "output_type": "execute_result"
        }
      ],
      "source": [
        "model_rfr.get_params()"
      ]
    },
    {
      "cell_type": "markdown",
      "metadata": {
        "id": "86Vk9jC9Q0Gw"
      },
      "source": [
        "## Выводы"
      ]
    },
    {
      "cell_type": "markdown",
      "metadata": {
        "id": "jOV4_hAJQ0Gw"
      },
      "source": [
        "1. Датасет загружен, проанализирован, произведена предобработка данных:\n",
        "    * Удалены явные дубликаты\n",
        "    * Обработаны пропуски\n",
        "    * Удалены ненужных данных, которые могли затруднить обучение\n",
        "    * Изучили и обработали аномалии\n",
        "    * Обработаны категриальные переменные\n",
        "2. Обучены разные модели: Случайный лес, Линейная регрессия и LightGBM.\n",
        "3. Проанализированы время обучения, время предсказания и качество моделей. Лучший результат у модели Случайный лес.\n",
        "4. Качество лучшей модели проверено на тестовой выборке."
      ]
    }
  ],
  "metadata": {
    "ExecuteTimeLog": [
      {
        "duration": 1978,
        "start_time": "2023-06-27T14:20:56.689Z"
      },
      {
        "duration": 4,
        "start_time": "2023-06-27T14:21:36.419Z"
      },
      {
        "duration": 134,
        "start_time": "2023-06-27T14:21:36.915Z"
      },
      {
        "duration": 3884,
        "start_time": "2023-06-27T14:22:25.444Z"
      },
      {
        "duration": 3,
        "start_time": "2023-06-27T14:22:29.330Z"
      },
      {
        "duration": 1114,
        "start_time": "2023-06-27T14:22:29.335Z"
      },
      {
        "duration": 666,
        "start_time": "2023-06-27T14:35:26.860Z"
      },
      {
        "duration": 48,
        "start_time": "2023-06-27T14:39:35.899Z"
      },
      {
        "duration": 4,
        "start_time": "2023-06-27T14:51:58.712Z"
      },
      {
        "duration": 106207,
        "start_time": "2023-06-27T14:52:38.848Z"
      },
      {
        "duration": 5,
        "start_time": "2023-06-27T14:59:23.713Z"
      },
      {
        "duration": 5,
        "start_time": "2023-06-27T15:01:58.946Z"
      },
      {
        "duration": 6,
        "start_time": "2023-06-27T15:02:17.442Z"
      },
      {
        "duration": 16,
        "start_time": "2023-06-27T15:02:17.877Z"
      },
      {
        "duration": 39,
        "start_time": "2023-06-27T15:02:26.259Z"
      },
      {
        "duration": 5,
        "start_time": "2023-06-27T15:02:28.666Z"
      },
      {
        "duration": 20,
        "start_time": "2023-06-27T15:02:28.957Z"
      },
      {
        "duration": 5,
        "start_time": "2023-06-27T15:02:49.438Z"
      },
      {
        "duration": 4,
        "start_time": "2023-06-27T15:02:52.038Z"
      },
      {
        "duration": 15473,
        "start_time": "2023-06-27T15:02:54.602Z"
      },
      {
        "duration": 8,
        "start_time": "2023-06-27T15:03:18.310Z"
      },
      {
        "duration": 7656,
        "start_time": "2023-06-27T15:03:23.465Z"
      },
      {
        "duration": 6,
        "start_time": "2023-06-27T15:03:37.444Z"
      },
      {
        "duration": 7931,
        "start_time": "2023-06-27T15:03:48.323Z"
      },
      {
        "duration": 175,
        "start_time": "2023-06-27T15:09:04.416Z"
      },
      {
        "duration": 2130,
        "start_time": "2023-06-27T15:09:22.069Z"
      },
      {
        "duration": 7347,
        "start_time": "2023-06-27T15:09:32.608Z"
      },
      {
        "duration": 10,
        "start_time": "2023-06-27T15:10:14.601Z"
      },
      {
        "duration": 52,
        "start_time": "2023-06-27T15:10:27.620Z"
      },
      {
        "duration": 173,
        "start_time": "2023-06-27T15:11:38.108Z"
      },
      {
        "duration": 36,
        "start_time": "2023-06-27T15:12:59.111Z"
      },
      {
        "duration": 4,
        "start_time": "2023-06-27T15:13:14.651Z"
      },
      {
        "duration": 7899,
        "start_time": "2023-06-27T15:13:15.470Z"
      },
      {
        "duration": 5,
        "start_time": "2023-06-27T15:13:30.018Z"
      },
      {
        "duration": 7921,
        "start_time": "2023-06-27T15:13:31.213Z"
      },
      {
        "duration": 7825,
        "start_time": "2023-06-27T15:13:48.066Z"
      },
      {
        "duration": 5,
        "start_time": "2023-06-27T15:14:25.527Z"
      },
      {
        "duration": 7500,
        "start_time": "2023-06-27T15:14:34.371Z"
      },
      {
        "duration": 8,
        "start_time": "2023-06-27T15:14:57.517Z"
      },
      {
        "duration": 7514,
        "start_time": "2023-06-27T15:14:58.054Z"
      },
      {
        "duration": 122,
        "start_time": "2023-06-27T15:32:30.831Z"
      },
      {
        "duration": 10,
        "start_time": "2023-06-27T15:35:42.538Z"
      },
      {
        "duration": 2,
        "start_time": "2023-06-28T07:20:53.095Z"
      },
      {
        "duration": 34,
        "start_time": "2023-06-28T07:21:44.749Z"
      },
      {
        "duration": 6,
        "start_time": "2023-06-28T07:22:00.124Z"
      },
      {
        "duration": 7,
        "start_time": "2023-06-28T07:23:50.292Z"
      },
      {
        "duration": 3179,
        "start_time": "2023-06-28T07:23:50.739Z"
      },
      {
        "duration": 3,
        "start_time": "2023-06-28T07:23:53.920Z"
      },
      {
        "duration": 796,
        "start_time": "2023-06-28T07:23:53.925Z"
      },
      {
        "duration": 561,
        "start_time": "2023-06-28T07:23:54.723Z"
      },
      {
        "duration": 13,
        "start_time": "2023-06-28T07:23:55.498Z"
      },
      {
        "duration": 54,
        "start_time": "2023-06-28T07:24:09.437Z"
      },
      {
        "duration": 52,
        "start_time": "2023-06-28T07:24:50.140Z"
      },
      {
        "duration": 41,
        "start_time": "2023-06-28T07:24:51.830Z"
      },
      {
        "duration": 3,
        "start_time": "2023-06-28T07:24:55.367Z"
      },
      {
        "duration": 43,
        "start_time": "2023-06-28T07:24:58.351Z"
      },
      {
        "duration": 449,
        "start_time": "2023-06-28T07:43:11.327Z"
      },
      {
        "duration": 473,
        "start_time": "2023-06-28T07:43:28.605Z"
      },
      {
        "duration": 391,
        "start_time": "2023-06-28T07:43:37.598Z"
      },
      {
        "duration": 10,
        "start_time": "2023-06-28T07:43:48.677Z"
      },
      {
        "duration": 894,
        "start_time": "2023-06-28T07:43:48.890Z"
      },
      {
        "duration": 4,
        "start_time": "2023-06-28T07:43:49.786Z"
      },
      {
        "duration": 851,
        "start_time": "2023-06-28T07:43:49.791Z"
      },
      {
        "duration": 583,
        "start_time": "2023-06-28T07:43:50.645Z"
      },
      {
        "duration": 51,
        "start_time": "2023-06-28T07:43:51.230Z"
      },
      {
        "duration": 390,
        "start_time": "2023-06-28T07:43:51.527Z"
      },
      {
        "duration": 22,
        "start_time": "2023-06-28T07:44:01.724Z"
      },
      {
        "duration": 1208,
        "start_time": "2023-06-28T07:57:00.906Z"
      },
      {
        "duration": 36,
        "start_time": "2023-06-28T07:57:31.577Z"
      },
      {
        "duration": 38,
        "start_time": "2023-06-28T08:13:14.726Z"
      },
      {
        "duration": 12,
        "start_time": "2023-06-28T08:21:54.238Z"
      },
      {
        "duration": 92,
        "start_time": "2023-06-28T08:23:06.966Z"
      },
      {
        "duration": 389,
        "start_time": "2023-06-28T08:29:50.239Z"
      },
      {
        "duration": 20,
        "start_time": "2023-06-28T08:30:00.355Z"
      },
      {
        "duration": 968,
        "start_time": "2023-06-28T08:30:00.379Z"
      },
      {
        "duration": 11,
        "start_time": "2023-06-28T08:30:01.348Z"
      },
      {
        "duration": 920,
        "start_time": "2023-06-28T08:30:01.361Z"
      },
      {
        "duration": 640,
        "start_time": "2023-06-28T08:30:02.289Z"
      },
      {
        "duration": 67,
        "start_time": "2023-06-28T08:30:02.931Z"
      },
      {
        "duration": 425,
        "start_time": "2023-06-28T08:30:03.001Z"
      },
      {
        "duration": 53,
        "start_time": "2023-06-28T08:30:03.428Z"
      },
      {
        "duration": 29,
        "start_time": "2023-06-28T08:30:03.483Z"
      },
      {
        "duration": 210,
        "start_time": "2023-06-28T08:30:03.513Z"
      },
      {
        "duration": 0,
        "start_time": "2023-06-28T08:30:03.724Z"
      },
      {
        "duration": 45,
        "start_time": "2023-06-28T08:30:10.173Z"
      },
      {
        "duration": 407,
        "start_time": "2023-06-28T08:30:12.590Z"
      },
      {
        "duration": 75,
        "start_time": "2023-06-28T08:30:24.076Z"
      },
      {
        "duration": 3,
        "start_time": "2023-06-28T08:30:25.017Z"
      },
      {
        "duration": 420,
        "start_time": "2023-06-28T08:30:37.028Z"
      },
      {
        "duration": 15,
        "start_time": "2023-06-28T08:31:48.480Z"
      },
      {
        "duration": 12,
        "start_time": "2023-06-28T08:31:57.373Z"
      },
      {
        "duration": 933,
        "start_time": "2023-06-28T08:31:57.388Z"
      },
      {
        "duration": 4,
        "start_time": "2023-06-28T08:31:58.323Z"
      },
      {
        "duration": 881,
        "start_time": "2023-06-28T08:31:58.329Z"
      },
      {
        "duration": 582,
        "start_time": "2023-06-28T08:31:59.214Z"
      },
      {
        "duration": 35,
        "start_time": "2023-06-28T08:31:59.798Z"
      },
      {
        "duration": 26,
        "start_time": "2023-06-28T08:31:59.835Z"
      },
      {
        "duration": 424,
        "start_time": "2023-06-28T08:31:59.868Z"
      },
      {
        "duration": 23,
        "start_time": "2023-06-28T08:32:00.295Z"
      },
      {
        "duration": 52,
        "start_time": "2023-06-28T08:32:00.321Z"
      },
      {
        "duration": 48,
        "start_time": "2023-06-28T08:32:00.378Z"
      },
      {
        "duration": 12,
        "start_time": "2023-06-28T08:32:03.231Z"
      },
      {
        "duration": 72,
        "start_time": "2023-06-28T08:32:04.229Z"
      },
      {
        "duration": 375,
        "start_time": "2023-06-28T08:32:05.217Z"
      },
      {
        "duration": 5,
        "start_time": "2023-06-28T08:34:03.981Z"
      },
      {
        "duration": 56,
        "start_time": "2023-06-28T08:34:04.729Z"
      },
      {
        "duration": 87163,
        "start_time": "2023-06-28T08:34:08.701Z"
      },
      {
        "duration": 5,
        "start_time": "2023-06-28T08:37:03.744Z"
      },
      {
        "duration": 8853,
        "start_time": "2023-06-28T08:37:04.448Z"
      },
      {
        "duration": 21,
        "start_time": "2023-06-28T09:44:18.697Z"
      },
      {
        "duration": 98,
        "start_time": "2023-06-28T09:44:27.652Z"
      },
      {
        "duration": 5,
        "start_time": "2023-06-28T09:50:22.096Z"
      },
      {
        "duration": 4,
        "start_time": "2023-06-28T09:51:54.002Z"
      },
      {
        "duration": 109,
        "start_time": "2023-06-28T09:51:54.496Z"
      },
      {
        "duration": 95,
        "start_time": "2023-06-28T09:51:55.203Z"
      },
      {
        "duration": 79,
        "start_time": "2023-06-28T09:51:55.786Z"
      },
      {
        "duration": 2203,
        "start_time": "2023-06-28T09:51:56.238Z"
      },
      {
        "duration": 0,
        "start_time": "2023-06-28T09:51:58.442Z"
      },
      {
        "duration": 2468,
        "start_time": "2023-06-28T09:54:53.445Z"
      },
      {
        "duration": 9,
        "start_time": "2023-06-28T10:57:48.509Z"
      },
      {
        "duration": 18,
        "start_time": "2023-06-28T10:57:59.783Z"
      },
      {
        "duration": 1627,
        "start_time": "2023-06-28T11:01:33.046Z"
      },
      {
        "duration": 10,
        "start_time": "2023-06-28T11:02:18.045Z"
      },
      {
        "duration": 1052,
        "start_time": "2023-06-28T11:02:18.057Z"
      },
      {
        "duration": 4,
        "start_time": "2023-06-28T11:02:19.111Z"
      },
      {
        "duration": 919,
        "start_time": "2023-06-28T11:02:19.117Z"
      },
      {
        "duration": 632,
        "start_time": "2023-06-28T11:02:20.038Z"
      },
      {
        "duration": 55,
        "start_time": "2023-06-28T11:02:20.677Z"
      },
      {
        "duration": 13,
        "start_time": "2023-06-28T11:02:20.734Z"
      },
      {
        "duration": 5985,
        "start_time": "2023-06-28T11:02:20.749Z"
      },
      {
        "duration": 46,
        "start_time": "2023-06-28T11:02:26.735Z"
      },
      {
        "duration": 39,
        "start_time": "2023-06-28T11:02:26.786Z"
      },
      {
        "duration": 60,
        "start_time": "2023-06-28T11:02:26.827Z"
      },
      {
        "duration": 13,
        "start_time": "2023-06-28T11:02:26.889Z"
      },
      {
        "duration": 103,
        "start_time": "2023-06-28T11:02:26.904Z"
      },
      {
        "duration": 403,
        "start_time": "2023-06-28T11:02:27.011Z"
      },
      {
        "duration": 9,
        "start_time": "2023-06-28T11:02:27.423Z"
      },
      {
        "duration": 54,
        "start_time": "2023-06-28T11:02:27.434Z"
      },
      {
        "duration": 46558,
        "start_time": "2023-06-28T11:02:27.489Z"
      },
      {
        "duration": 5,
        "start_time": "2023-06-28T11:03:14.048Z"
      },
      {
        "duration": 41,
        "start_time": "2023-06-28T11:03:25.123Z"
      },
      {
        "duration": 81,
        "start_time": "2023-06-28T11:03:25.166Z"
      },
      {
        "duration": 14,
        "start_time": "2023-06-28T11:03:25.252Z"
      },
      {
        "duration": 11,
        "start_time": "2023-06-28T11:03:25.269Z"
      },
      {
        "duration": 8415,
        "start_time": "2023-06-28T11:03:25.292Z"
      },
      {
        "duration": 3,
        "start_time": "2023-06-28T11:03:33.710Z"
      },
      {
        "duration": 24,
        "start_time": "2023-06-28T11:03:33.715Z"
      },
      {
        "duration": 15,
        "start_time": "2023-06-28T11:03:33.741Z"
      },
      {
        "duration": 39,
        "start_time": "2023-06-28T11:03:33.762Z"
      },
      {
        "duration": 28,
        "start_time": "2023-06-28T11:03:40.586Z"
      },
      {
        "duration": 98,
        "start_time": "2023-06-28T11:03:41.037Z"
      },
      {
        "duration": 16,
        "start_time": "2023-06-28T11:03:42.485Z"
      },
      {
        "duration": 1578,
        "start_time": "2023-06-28T11:03:44.241Z"
      },
      {
        "duration": 18,
        "start_time": "2023-06-28T11:06:31.686Z"
      },
      {
        "duration": 1605,
        "start_time": "2023-06-28T11:06:32.487Z"
      },
      {
        "duration": 6,
        "start_time": "2023-06-28T11:06:42.672Z"
      },
      {
        "duration": 1562,
        "start_time": "2023-06-28T11:06:45.783Z"
      },
      {
        "duration": 19,
        "start_time": "2023-06-28T11:11:19.712Z"
      },
      {
        "duration": 25,
        "start_time": "2023-06-28T11:11:24.847Z"
      },
      {
        "duration": 90,
        "start_time": "2023-06-28T11:11:25.008Z"
      },
      {
        "duration": 34,
        "start_time": "2023-06-28T11:11:37.198Z"
      },
      {
        "duration": 29,
        "start_time": "2023-06-28T11:17:37.379Z"
      },
      {
        "duration": 100,
        "start_time": "2023-06-28T11:17:37.807Z"
      },
      {
        "duration": 54,
        "start_time": "2023-06-28T11:17:38.178Z"
      },
      {
        "duration": 14,
        "start_time": "2023-06-28T11:18:59.645Z"
      },
      {
        "duration": 932,
        "start_time": "2023-06-28T11:19:06.593Z"
      },
      {
        "duration": 227,
        "start_time": "2023-06-28T11:19:07.528Z"
      },
      {
        "duration": 363,
        "start_time": "2023-06-28T11:19:07.941Z"
      },
      {
        "duration": 114,
        "start_time": "2023-06-28T11:19:08.600Z"
      },
      {
        "duration": 27,
        "start_time": "2023-06-28T11:19:26.949Z"
      },
      {
        "duration": 4,
        "start_time": "2023-06-28T11:19:40.544Z"
      },
      {
        "duration": 19,
        "start_time": "2023-06-28T11:20:07.699Z"
      },
      {
        "duration": 23144,
        "start_time": "2023-06-28T11:20:21.940Z"
      },
      {
        "duration": 139198,
        "start_time": "2023-06-28T11:21:54.327Z"
      },
      {
        "duration": 89050,
        "start_time": "2023-06-28T11:28:47.023Z"
      },
      {
        "duration": 18,
        "start_time": "2023-06-28T11:32:17.583Z"
      },
      {
        "duration": 12,
        "start_time": "2023-06-28T11:32:20.296Z"
      },
      {
        "duration": 8,
        "start_time": "2023-06-28T11:32:37.822Z"
      },
      {
        "duration": 14,
        "start_time": "2023-06-28T11:32:45.352Z"
      },
      {
        "duration": 13,
        "start_time": "2023-06-28T11:40:55.333Z"
      },
      {
        "duration": 11,
        "start_time": "2023-06-28T11:41:23.777Z"
      },
      {
        "duration": 13,
        "start_time": "2023-06-28T11:41:48.980Z"
      },
      {
        "duration": 1833747,
        "start_time": "2023-06-28T11:41:56.976Z"
      },
      {
        "duration": 40,
        "start_time": "2023-06-28T12:12:30.728Z"
      },
      {
        "duration": 8163,
        "start_time": "2023-06-28T12:33:18.880Z"
      },
      {
        "duration": 24768,
        "start_time": "2023-06-28T12:33:27.045Z"
      },
      {
        "duration": 142614,
        "start_time": "2023-06-28T12:33:51.815Z"
      },
      {
        "duration": 50444,
        "start_time": "2023-06-28T12:36:14.435Z"
      },
      {
        "duration": 78,
        "start_time": "2023-06-28T12:37:04.894Z"
      },
      {
        "duration": 1104,
        "start_time": "2023-06-28T12:37:04.975Z"
      },
      {
        "duration": 7,
        "start_time": "2023-06-28T12:37:06.081Z"
      },
      {
        "duration": 29,
        "start_time": "2023-06-28T12:37:06.089Z"
      },
      {
        "duration": 0,
        "start_time": "2023-06-28T12:37:06.122Z"
      },
      {
        "duration": 0,
        "start_time": "2023-06-28T12:37:06.124Z"
      },
      {
        "duration": 0,
        "start_time": "2023-06-28T12:37:06.126Z"
      },
      {
        "duration": 0,
        "start_time": "2023-06-28T12:37:06.127Z"
      },
      {
        "duration": 0,
        "start_time": "2023-06-28T12:37:06.128Z"
      },
      {
        "duration": 0,
        "start_time": "2023-06-28T12:37:06.129Z"
      },
      {
        "duration": 0,
        "start_time": "2023-06-28T12:37:06.130Z"
      },
      {
        "duration": 0,
        "start_time": "2023-06-28T12:37:06.132Z"
      },
      {
        "duration": 0,
        "start_time": "2023-06-28T12:37:06.133Z"
      },
      {
        "duration": 0,
        "start_time": "2023-06-28T12:37:06.134Z"
      },
      {
        "duration": 0,
        "start_time": "2023-06-28T12:37:06.158Z"
      },
      {
        "duration": 0,
        "start_time": "2023-06-28T12:37:06.159Z"
      },
      {
        "duration": 0,
        "start_time": "2023-06-28T12:37:06.160Z"
      },
      {
        "duration": 0,
        "start_time": "2023-06-28T12:37:06.161Z"
      },
      {
        "duration": 0,
        "start_time": "2023-06-28T12:37:06.164Z"
      },
      {
        "duration": 0,
        "start_time": "2023-06-28T12:37:06.165Z"
      },
      {
        "duration": 0,
        "start_time": "2023-06-28T12:37:06.166Z"
      },
      {
        "duration": 0,
        "start_time": "2023-06-28T12:37:06.172Z"
      },
      {
        "duration": 0,
        "start_time": "2023-06-28T12:37:06.173Z"
      },
      {
        "duration": 0,
        "start_time": "2023-06-28T12:37:06.174Z"
      },
      {
        "duration": 0,
        "start_time": "2023-06-28T12:37:06.176Z"
      },
      {
        "duration": 0,
        "start_time": "2023-06-28T12:37:06.177Z"
      },
      {
        "duration": 0,
        "start_time": "2023-06-28T12:37:06.186Z"
      },
      {
        "duration": 0,
        "start_time": "2023-06-28T12:37:06.188Z"
      },
      {
        "duration": 8,
        "start_time": "2023-06-28T12:37:08.639Z"
      },
      {
        "duration": 1022,
        "start_time": "2023-06-28T12:37:09.003Z"
      },
      {
        "duration": 3,
        "start_time": "2023-06-28T12:37:10.027Z"
      },
      {
        "duration": 926,
        "start_time": "2023-06-28T12:37:10.031Z"
      },
      {
        "duration": 620,
        "start_time": "2023-06-28T12:37:11.341Z"
      },
      {
        "duration": 55,
        "start_time": "2023-06-28T12:37:11.964Z"
      },
      {
        "duration": 12,
        "start_time": "2023-06-28T12:37:12.815Z"
      },
      {
        "duration": 584,
        "start_time": "2023-06-28T12:37:13.027Z"
      },
      {
        "duration": 26,
        "start_time": "2023-06-28T12:37:13.614Z"
      },
      {
        "duration": 60,
        "start_time": "2023-06-28T12:37:14.043Z"
      },
      {
        "duration": 66,
        "start_time": "2023-06-28T12:37:14.727Z"
      },
      {
        "duration": 33,
        "start_time": "2023-06-28T12:37:15.452Z"
      },
      {
        "duration": 101,
        "start_time": "2023-06-28T12:37:15.843Z"
      },
      {
        "duration": 451,
        "start_time": "2023-06-28T12:37:16.084Z"
      },
      {
        "duration": 3,
        "start_time": "2023-06-28T12:37:16.538Z"
      },
      {
        "duration": 84,
        "start_time": "2023-06-28T12:37:16.547Z"
      },
      {
        "duration": 3,
        "start_time": "2023-06-28T12:37:17.213Z"
      },
      {
        "duration": 7,
        "start_time": "2023-06-28T12:37:17.452Z"
      },
      {
        "duration": 9034,
        "start_time": "2023-06-28T12:37:17.692Z"
      },
      {
        "duration": 3,
        "start_time": "2023-06-28T12:37:26.729Z"
      },
      {
        "duration": 10,
        "start_time": "2023-06-28T12:37:26.734Z"
      },
      {
        "duration": 4,
        "start_time": "2023-06-28T12:37:26.757Z"
      },
      {
        "duration": 10,
        "start_time": "2023-06-28T12:37:26.764Z"
      },
      {
        "duration": 1041,
        "start_time": "2023-06-28T12:37:26.778Z"
      },
      {
        "duration": 217,
        "start_time": "2023-06-28T12:37:27.822Z"
      },
      {
        "duration": 422,
        "start_time": "2023-06-28T12:37:28.042Z"
      },
      {
        "duration": 134,
        "start_time": "2023-06-28T12:37:28.467Z"
      },
      {
        "duration": 9,
        "start_time": "2023-06-28T12:37:31.160Z"
      },
      {
        "duration": 19,
        "start_time": "2023-06-28T12:48:26.250Z"
      },
      {
        "duration": 0,
        "start_time": "2023-06-28T14:43:21.012Z"
      },
      {
        "duration": 0,
        "start_time": "2023-06-28T14:43:21.019Z"
      },
      {
        "duration": 8,
        "start_time": "2023-06-28T14:43:23.579Z"
      },
      {
        "duration": 1001,
        "start_time": "2023-06-28T14:43:25.627Z"
      },
      {
        "duration": 5,
        "start_time": "2023-06-28T14:43:42.820Z"
      },
      {
        "duration": 6,
        "start_time": "2023-06-28T14:43:44.826Z"
      },
      {
        "duration": 1077,
        "start_time": "2023-06-28T14:43:45.540Z"
      },
      {
        "duration": 4,
        "start_time": "2023-06-28T14:43:46.619Z"
      },
      {
        "duration": 902,
        "start_time": "2023-06-28T14:43:46.625Z"
      },
      {
        "duration": 579,
        "start_time": "2023-06-28T14:43:48.312Z"
      },
      {
        "duration": 46,
        "start_time": "2023-06-28T14:43:48.893Z"
      },
      {
        "duration": 19,
        "start_time": "2023-06-28T14:43:49.582Z"
      },
      {
        "duration": 422,
        "start_time": "2023-06-28T14:43:50.013Z"
      },
      {
        "duration": 24,
        "start_time": "2023-06-28T14:43:50.496Z"
      },
      {
        "duration": 23,
        "start_time": "2023-06-28T14:43:51.108Z"
      },
      {
        "duration": 39,
        "start_time": "2023-06-28T14:43:51.723Z"
      },
      {
        "duration": 11,
        "start_time": "2023-06-28T14:43:52.341Z"
      },
      {
        "duration": 77,
        "start_time": "2023-06-28T14:43:52.807Z"
      },
      {
        "duration": 379,
        "start_time": "2023-06-28T14:43:53.611Z"
      },
      {
        "duration": 10,
        "start_time": "2023-06-28T14:43:54.084Z"
      },
      {
        "duration": 40,
        "start_time": "2023-06-28T14:43:54.804Z"
      },
      {
        "duration": 3,
        "start_time": "2023-06-28T14:43:56.120Z"
      },
      {
        "duration": 5,
        "start_time": "2023-06-28T14:43:56.737Z"
      },
      {
        "duration": 8542,
        "start_time": "2023-06-28T14:43:57.404Z"
      },
      {
        "duration": 9,
        "start_time": "2023-06-28T14:44:05.954Z"
      },
      {
        "duration": 14,
        "start_time": "2023-06-28T14:44:05.971Z"
      },
      {
        "duration": 14,
        "start_time": "2023-06-28T14:44:05.991Z"
      },
      {
        "duration": 9,
        "start_time": "2023-06-28T14:44:06.008Z"
      },
      {
        "duration": 967,
        "start_time": "2023-06-28T14:44:06.020Z"
      },
      {
        "duration": 200,
        "start_time": "2023-06-28T14:44:06.995Z"
      },
      {
        "duration": 410,
        "start_time": "2023-06-28T14:44:07.197Z"
      },
      {
        "duration": 111,
        "start_time": "2023-06-28T14:44:07.613Z"
      },
      {
        "duration": 6,
        "start_time": "2023-06-28T14:44:08.907Z"
      },
      {
        "duration": 7,
        "start_time": "2023-06-28T14:49:31.250Z"
      },
      {
        "duration": 0,
        "start_time": "2023-06-28T14:53:34.227Z"
      },
      {
        "duration": 0,
        "start_time": "2023-06-28T14:53:34.228Z"
      },
      {
        "duration": 6,
        "start_time": "2023-06-28T14:53:35.622Z"
      },
      {
        "duration": 19,
        "start_time": "2023-06-28T14:53:41.188Z"
      },
      {
        "duration": 10,
        "start_time": "2023-06-28T14:53:42.888Z"
      },
      {
        "duration": 1067,
        "start_time": "2023-06-28T14:53:44.915Z"
      },
      {
        "duration": 5,
        "start_time": "2023-06-28T14:53:45.984Z"
      },
      {
        "duration": 1002,
        "start_time": "2023-06-28T14:53:47.936Z"
      },
      {
        "duration": 611,
        "start_time": "2023-06-28T14:53:49.914Z"
      },
      {
        "duration": 79,
        "start_time": "2023-06-28T14:53:50.527Z"
      },
      {
        "duration": 16,
        "start_time": "2023-06-28T14:53:51.109Z"
      },
      {
        "duration": 494,
        "start_time": "2023-06-28T14:53:51.290Z"
      },
      {
        "duration": 35,
        "start_time": "2023-06-28T14:53:51.786Z"
      },
      {
        "duration": 42,
        "start_time": "2023-06-28T14:53:51.824Z"
      },
      {
        "duration": 44,
        "start_time": "2023-06-28T14:53:52.095Z"
      },
      {
        "duration": 39,
        "start_time": "2023-06-28T14:53:52.971Z"
      },
      {
        "duration": 88,
        "start_time": "2023-06-28T14:53:53.128Z"
      },
      {
        "duration": 408,
        "start_time": "2023-06-28T14:53:53.319Z"
      },
      {
        "duration": 4,
        "start_time": "2023-06-28T14:53:53.730Z"
      },
      {
        "duration": 77,
        "start_time": "2023-06-28T14:53:53.737Z"
      },
      {
        "duration": 3,
        "start_time": "2023-06-28T14:53:53.971Z"
      },
      {
        "duration": 5,
        "start_time": "2023-06-28T14:53:54.129Z"
      },
      {
        "duration": 9594,
        "start_time": "2023-06-28T14:53:54.976Z"
      },
      {
        "duration": 11,
        "start_time": "2023-06-28T14:54:04.580Z"
      },
      {
        "duration": 16,
        "start_time": "2023-06-28T14:54:04.602Z"
      },
      {
        "duration": 23,
        "start_time": "2023-06-28T14:54:04.621Z"
      },
      {
        "duration": 20,
        "start_time": "2023-06-28T14:54:04.646Z"
      },
      {
        "duration": 968,
        "start_time": "2023-06-28T14:54:04.668Z"
      },
      {
        "duration": 204,
        "start_time": "2023-06-28T14:54:05.638Z"
      },
      {
        "duration": 355,
        "start_time": "2023-06-28T14:54:05.844Z"
      },
      {
        "duration": 112,
        "start_time": "2023-06-28T14:54:06.201Z"
      },
      {
        "duration": 7,
        "start_time": "2023-06-28T14:54:06.315Z"
      },
      {
        "duration": 58734,
        "start_time": "2023-06-28T14:54:29.725Z"
      },
      {
        "duration": 11,
        "start_time": "2023-06-28T14:57:01.816Z"
      },
      {
        "duration": 7,
        "start_time": "2023-06-28T14:57:14.744Z"
      },
      {
        "duration": 1093,
        "start_time": "2023-06-28T14:57:16.294Z"
      },
      {
        "duration": 6,
        "start_time": "2023-06-28T14:57:17.518Z"
      },
      {
        "duration": 995,
        "start_time": "2023-06-28T14:57:18.087Z"
      },
      {
        "duration": 591,
        "start_time": "2023-06-28T14:57:19.611Z"
      },
      {
        "duration": 44,
        "start_time": "2023-06-28T14:57:20.204Z"
      },
      {
        "duration": 19,
        "start_time": "2023-06-28T14:57:20.477Z"
      },
      {
        "duration": 480,
        "start_time": "2023-06-28T14:57:21.381Z"
      },
      {
        "duration": 34,
        "start_time": "2023-06-28T14:57:21.863Z"
      },
      {
        "duration": 24,
        "start_time": "2023-06-28T14:57:22.013Z"
      },
      {
        "duration": 37,
        "start_time": "2023-06-28T14:57:22.810Z"
      },
      {
        "duration": 12,
        "start_time": "2023-06-28T14:57:23.437Z"
      },
      {
        "duration": 87,
        "start_time": "2023-06-28T14:57:23.615Z"
      },
      {
        "duration": 391,
        "start_time": "2023-06-28T14:57:23.787Z"
      },
      {
        "duration": 5,
        "start_time": "2023-06-28T14:57:24.180Z"
      },
      {
        "duration": 83,
        "start_time": "2023-06-28T14:57:24.187Z"
      },
      {
        "duration": 7,
        "start_time": "2023-06-28T14:57:24.492Z"
      },
      {
        "duration": 11,
        "start_time": "2023-06-28T14:57:24.679Z"
      },
      {
        "duration": 9441,
        "start_time": "2023-06-28T14:57:24.904Z"
      },
      {
        "duration": 9,
        "start_time": "2023-06-28T14:57:34.355Z"
      },
      {
        "duration": 35,
        "start_time": "2023-06-28T14:57:34.368Z"
      },
      {
        "duration": 4,
        "start_time": "2023-06-28T14:57:34.411Z"
      },
      {
        "duration": 8,
        "start_time": "2023-06-28T14:57:34.419Z"
      },
      {
        "duration": 977,
        "start_time": "2023-06-28T14:57:34.430Z"
      },
      {
        "duration": 200,
        "start_time": "2023-06-28T14:57:35.409Z"
      },
      {
        "duration": 325,
        "start_time": "2023-06-28T14:57:35.618Z"
      },
      {
        "duration": 146,
        "start_time": "2023-06-28T14:57:35.945Z"
      },
      {
        "duration": 19,
        "start_time": "2023-06-28T14:57:36.101Z"
      },
      {
        "duration": 103729,
        "start_time": "2023-06-28T14:57:40.209Z"
      },
      {
        "duration": 9,
        "start_time": "2023-06-28T15:00:56.072Z"
      },
      {
        "duration": 89996,
        "start_time": "2023-06-28T15:01:28.683Z"
      },
      {
        "duration": 1337967,
        "start_time": "2023-06-28T15:04:04.136Z"
      },
      {
        "duration": 199800,
        "start_time": "2023-06-28T15:26:30.951Z"
      },
      {
        "duration": 0,
        "start_time": "2023-06-28T15:35:31.215Z"
      },
      {
        "duration": 11,
        "start_time": "2023-06-28T15:35:32.321Z"
      },
      {
        "duration": 991,
        "start_time": "2023-06-28T15:35:34.593Z"
      },
      {
        "duration": 4,
        "start_time": "2023-06-28T15:35:36.243Z"
      },
      {
        "duration": 917,
        "start_time": "2023-06-28T15:35:36.885Z"
      },
      {
        "duration": 674,
        "start_time": "2023-06-28T15:35:37.809Z"
      },
      {
        "duration": 49,
        "start_time": "2023-06-28T15:35:38.484Z"
      },
      {
        "duration": 34,
        "start_time": "2023-06-28T15:35:38.536Z"
      },
      {
        "duration": 463,
        "start_time": "2023-06-28T15:35:38.578Z"
      },
      {
        "duration": 65,
        "start_time": "2023-06-28T15:35:39.043Z"
      },
      {
        "duration": 24,
        "start_time": "2023-06-28T15:35:39.110Z"
      },
      {
        "duration": 38,
        "start_time": "2023-06-28T15:35:39.137Z"
      },
      {
        "duration": 17,
        "start_time": "2023-06-28T15:35:39.456Z"
      },
      {
        "duration": 94,
        "start_time": "2023-06-28T15:35:40.391Z"
      },
      {
        "duration": 395,
        "start_time": "2023-06-28T15:35:40.545Z"
      },
      {
        "duration": 3,
        "start_time": "2023-06-28T15:35:40.942Z"
      },
      {
        "duration": 63,
        "start_time": "2023-06-28T15:35:40.957Z"
      },
      {
        "duration": 3,
        "start_time": "2023-06-28T15:35:41.198Z"
      },
      {
        "duration": 7,
        "start_time": "2023-06-28T15:35:41.374Z"
      },
      {
        "duration": 8447,
        "start_time": "2023-06-28T15:35:41.523Z"
      },
      {
        "duration": 6,
        "start_time": "2023-06-28T15:35:49.978Z"
      },
      {
        "duration": 9,
        "start_time": "2023-06-28T15:35:49.986Z"
      },
      {
        "duration": 4,
        "start_time": "2023-06-28T15:35:49.997Z"
      },
      {
        "duration": 6,
        "start_time": "2023-06-28T15:35:50.003Z"
      },
      {
        "duration": 894,
        "start_time": "2023-06-28T15:35:50.011Z"
      },
      {
        "duration": 209,
        "start_time": "2023-06-28T15:35:50.907Z"
      },
      {
        "duration": 348,
        "start_time": "2023-06-28T15:35:51.118Z"
      },
      {
        "duration": 101,
        "start_time": "2023-06-28T15:35:51.468Z"
      },
      {
        "duration": 8,
        "start_time": "2023-06-28T15:35:55.316Z"
      },
      {
        "duration": 8,
        "start_time": "2023-06-29T08:35:08.922Z"
      },
      {
        "duration": 2870,
        "start_time": "2023-06-29T08:35:09.811Z"
      },
      {
        "duration": 4,
        "start_time": "2023-06-29T08:35:12.683Z"
      },
      {
        "duration": 736,
        "start_time": "2023-06-29T08:35:15.036Z"
      },
      {
        "duration": 481,
        "start_time": "2023-06-29T08:35:16.705Z"
      },
      {
        "duration": 38,
        "start_time": "2023-06-29T08:35:17.188Z"
      },
      {
        "duration": 11,
        "start_time": "2023-06-29T08:35:18.022Z"
      },
      {
        "duration": 399,
        "start_time": "2023-06-29T08:35:18.518Z"
      },
      {
        "duration": 29,
        "start_time": "2023-06-29T08:35:18.944Z"
      },
      {
        "duration": 23,
        "start_time": "2023-06-29T08:35:19.845Z"
      },
      {
        "duration": 36,
        "start_time": "2023-06-29T08:35:20.609Z"
      },
      {
        "duration": 12,
        "start_time": "2023-06-29T08:35:21.007Z"
      },
      {
        "duration": 68,
        "start_time": "2023-06-29T08:35:21.398Z"
      },
      {
        "duration": 311,
        "start_time": "2023-06-29T08:35:21.604Z"
      },
      {
        "duration": 3,
        "start_time": "2023-06-29T08:35:21.961Z"
      },
      {
        "duration": 40,
        "start_time": "2023-06-29T08:35:22.203Z"
      },
      {
        "duration": 2,
        "start_time": "2023-06-29T08:35:22.758Z"
      },
      {
        "duration": 4,
        "start_time": "2023-06-29T08:35:23.003Z"
      },
      {
        "duration": 6883,
        "start_time": "2023-06-29T08:35:23.220Z"
      },
      {
        "duration": 3,
        "start_time": "2023-06-29T08:35:30.105Z"
      },
      {
        "duration": 37,
        "start_time": "2023-06-29T08:35:30.110Z"
      },
      {
        "duration": 44,
        "start_time": "2023-06-29T08:35:30.150Z"
      },
      {
        "duration": 39,
        "start_time": "2023-06-29T08:35:30.196Z"
      },
      {
        "duration": 1069,
        "start_time": "2023-06-29T08:35:30.237Z"
      },
      {
        "duration": 261,
        "start_time": "2023-06-29T08:35:31.308Z"
      },
      {
        "duration": 329,
        "start_time": "2023-06-29T08:35:31.571Z"
      },
      {
        "duration": 96,
        "start_time": "2023-06-29T08:35:31.902Z"
      },
      {
        "duration": 3,
        "start_time": "2023-06-29T08:35:32.001Z"
      },
      {
        "duration": 14,
        "start_time": "2023-06-29T08:35:33.155Z"
      },
      {
        "duration": 27,
        "start_time": "2023-06-29T08:35:34.050Z"
      },
      {
        "duration": 172,
        "start_time": "2023-06-29T08:35:52.808Z"
      },
      {
        "duration": 119,
        "start_time": "2023-06-29T08:35:53.550Z"
      },
      {
        "duration": 332,
        "start_time": "2023-06-29T08:35:54.158Z"
      },
      {
        "duration": 97,
        "start_time": "2023-06-29T08:35:54.562Z"
      },
      {
        "duration": 3,
        "start_time": "2023-06-29T08:35:55.242Z"
      },
      {
        "duration": 7,
        "start_time": "2023-06-29T08:35:57.038Z"
      },
      {
        "duration": 0,
        "start_time": "2023-06-29T08:54:15.581Z"
      },
      {
        "duration": 10,
        "start_time": "2023-06-29T08:54:17.826Z"
      },
      {
        "duration": 894,
        "start_time": "2023-06-29T08:54:19.002Z"
      },
      {
        "duration": 7,
        "start_time": "2023-06-29T09:18:13.959Z"
      },
      {
        "duration": 5,
        "start_time": "2023-06-29T09:59:55.893Z"
      },
      {
        "duration": 5,
        "start_time": "2023-06-29T10:00:09.651Z"
      },
      {
        "duration": 945,
        "start_time": "2023-06-29T10:00:10.910Z"
      },
      {
        "duration": 4,
        "start_time": "2023-06-29T10:00:12.992Z"
      },
      {
        "duration": 862,
        "start_time": "2023-06-29T10:00:14.111Z"
      },
      {
        "duration": 571,
        "start_time": "2023-06-29T10:00:17.098Z"
      },
      {
        "duration": 55,
        "start_time": "2023-06-29T10:00:17.680Z"
      },
      {
        "duration": 18,
        "start_time": "2023-06-29T10:00:17.750Z"
      },
      {
        "duration": 418,
        "start_time": "2023-06-29T10:00:17.896Z"
      },
      {
        "duration": 26,
        "start_time": "2023-06-29T10:00:18.391Z"
      },
      {
        "duration": 24,
        "start_time": "2023-06-29T10:00:18.717Z"
      },
      {
        "duration": 56,
        "start_time": "2023-06-29T10:00:19.043Z"
      },
      {
        "duration": 15,
        "start_time": "2023-06-29T10:00:19.370Z"
      },
      {
        "duration": 76,
        "start_time": "2023-06-29T10:00:19.516Z"
      },
      {
        "duration": 351,
        "start_time": "2023-06-29T10:00:19.689Z"
      },
      {
        "duration": 22,
        "start_time": "2023-06-29T10:00:20.043Z"
      },
      {
        "duration": 43,
        "start_time": "2023-06-29T10:00:20.080Z"
      },
      {
        "duration": 3,
        "start_time": "2023-06-29T10:00:20.337Z"
      },
      {
        "duration": 5,
        "start_time": "2023-06-29T10:00:20.688Z"
      },
      {
        "duration": 8058,
        "start_time": "2023-06-29T10:00:20.900Z"
      },
      {
        "duration": 6,
        "start_time": "2023-06-29T10:00:28.961Z"
      },
      {
        "duration": 12,
        "start_time": "2023-06-29T10:00:28.969Z"
      },
      {
        "duration": 3,
        "start_time": "2023-06-29T10:00:28.984Z"
      },
      {
        "duration": 8,
        "start_time": "2023-06-29T10:00:28.989Z"
      },
      {
        "duration": 1097,
        "start_time": "2023-06-29T10:00:28.999Z"
      },
      {
        "duration": 228,
        "start_time": "2023-06-29T10:00:30.098Z"
      },
      {
        "duration": 375,
        "start_time": "2023-06-29T10:00:30.328Z"
      },
      {
        "duration": 112,
        "start_time": "2023-06-29T10:00:30.705Z"
      },
      {
        "duration": 87,
        "start_time": "2023-06-29T10:00:30.820Z"
      },
      {
        "duration": 180144,
        "start_time": "2023-06-29T11:35:44.446Z"
      },
      {
        "duration": 56,
        "start_time": "2023-06-29T12:13:39.423Z"
      },
      {
        "duration": 16,
        "start_time": "2023-06-29T12:15:51.421Z"
      },
      {
        "duration": 166,
        "start_time": "2023-06-29T12:15:56.487Z"
      },
      {
        "duration": 8,
        "start_time": "2023-06-29T12:16:08.862Z"
      },
      {
        "duration": 30,
        "start_time": "2023-06-29T12:16:18.106Z"
      },
      {
        "duration": 28,
        "start_time": "2023-06-29T12:17:22.211Z"
      },
      {
        "duration": 19,
        "start_time": "2023-06-29T12:17:38.737Z"
      },
      {
        "duration": 5176,
        "start_time": "2023-06-29T12:17:39.876Z"
      },
      {
        "duration": 46,
        "start_time": "2023-06-29T12:17:58.599Z"
      },
      {
        "duration": 6350,
        "start_time": "2023-06-29T12:19:17.806Z"
      },
      {
        "duration": 38,
        "start_time": "2023-06-29T12:23:29.070Z"
      },
      {
        "duration": 18,
        "start_time": "2023-06-29T12:26:59.217Z"
      },
      {
        "duration": 8,
        "start_time": "2023-06-29T12:31:12.604Z"
      },
      {
        "duration": 1185,
        "start_time": "2023-06-29T12:31:13.808Z"
      },
      {
        "duration": 5,
        "start_time": "2023-06-29T12:31:15.540Z"
      },
      {
        "duration": 1047,
        "start_time": "2023-06-29T12:31:17.876Z"
      },
      {
        "duration": 677,
        "start_time": "2023-06-29T12:31:19.330Z"
      },
      {
        "duration": 73,
        "start_time": "2023-06-29T12:31:20.010Z"
      },
      {
        "duration": 31,
        "start_time": "2023-06-29T12:31:20.087Z"
      },
      {
        "duration": 540,
        "start_time": "2023-06-29T12:31:20.696Z"
      },
      {
        "duration": 59,
        "start_time": "2023-06-29T12:31:21.239Z"
      },
      {
        "duration": 36,
        "start_time": "2023-06-29T12:31:21.302Z"
      },
      {
        "duration": 63,
        "start_time": "2023-06-29T12:31:21.648Z"
      },
      {
        "duration": 16,
        "start_time": "2023-06-29T12:31:22.131Z"
      },
      {
        "duration": 81,
        "start_time": "2023-06-29T12:31:22.301Z"
      },
      {
        "duration": 406,
        "start_time": "2023-06-29T12:31:22.615Z"
      },
      {
        "duration": 5,
        "start_time": "2023-06-29T12:31:23.024Z"
      },
      {
        "duration": 62,
        "start_time": "2023-06-29T12:31:23.031Z"
      },
      {
        "duration": 4,
        "start_time": "2023-06-29T12:31:23.301Z"
      },
      {
        "duration": 7,
        "start_time": "2023-06-29T12:31:23.526Z"
      },
      {
        "duration": 10292,
        "start_time": "2023-06-29T12:31:23.742Z"
      },
      {
        "duration": 6,
        "start_time": "2023-06-29T12:31:34.054Z"
      },
      {
        "duration": 14,
        "start_time": "2023-06-29T12:31:34.065Z"
      },
      {
        "duration": 11,
        "start_time": "2023-06-29T12:31:34.083Z"
      },
      {
        "duration": 4,
        "start_time": "2023-06-29T12:31:34.096Z"
      },
      {
        "duration": 1254,
        "start_time": "2023-06-29T12:31:34.103Z"
      },
      {
        "duration": 217,
        "start_time": "2023-06-29T12:31:35.368Z"
      },
      {
        "duration": 384,
        "start_time": "2023-06-29T12:31:35.587Z"
      },
      {
        "duration": 129,
        "start_time": "2023-06-29T12:31:35.974Z"
      },
      {
        "duration": 2,
        "start_time": "2023-06-29T12:31:36.108Z"
      },
      {
        "duration": 8,
        "start_time": "2023-06-29T12:31:36.112Z"
      },
      {
        "duration": 10,
        "start_time": "2023-06-29T12:31:36.122Z"
      },
      {
        "duration": 10,
        "start_time": "2023-06-29T12:31:39.135Z"
      },
      {
        "duration": 2179314,
        "start_time": "2023-06-29T12:31:50.172Z"
      },
      {
        "duration": 5,
        "start_time": "2023-07-02T07:04:42.421Z"
      },
      {
        "duration": 6,
        "start_time": "2023-07-02T07:06:31.376Z"
      },
      {
        "duration": 3934,
        "start_time": "2023-07-02T07:06:41.843Z"
      },
      {
        "duration": 4,
        "start_time": "2023-07-02T07:07:11.762Z"
      },
      {
        "duration": 3654,
        "start_time": "2023-07-02T07:07:12.495Z"
      },
      {
        "duration": 3,
        "start_time": "2023-07-02T07:07:46.975Z"
      },
      {
        "duration": 3,
        "start_time": "2023-07-02T07:07:52.781Z"
      },
      {
        "duration": 2063,
        "start_time": "2023-07-02T07:51:19.709Z"
      },
      {
        "duration": 16,
        "start_time": "2023-07-02T07:51:23.617Z"
      },
      {
        "duration": 6,
        "start_time": "2023-07-02T07:51:29.124Z"
      },
      {
        "duration": 3549,
        "start_time": "2023-07-02T07:51:29.571Z"
      },
      {
        "duration": 5,
        "start_time": "2023-07-02T07:51:33.123Z"
      },
      {
        "duration": 869,
        "start_time": "2023-07-02T07:51:33.131Z"
      },
      {
        "duration": 684,
        "start_time": "2023-07-02T07:51:36.340Z"
      },
      {
        "duration": 65,
        "start_time": "2023-07-02T07:51:37.416Z"
      },
      {
        "duration": 173,
        "start_time": "2023-07-02T07:51:39.776Z"
      },
      {
        "duration": 18,
        "start_time": "2023-07-02T07:51:42.742Z"
      },
      {
        "duration": 11,
        "start_time": "2023-07-02T07:51:58.526Z"
      },
      {
        "duration": 397,
        "start_time": "2023-07-02T07:51:58.976Z"
      },
      {
        "duration": 39,
        "start_time": "2023-07-02T07:52:11.650Z"
      },
      {
        "duration": 30,
        "start_time": "2023-07-02T07:52:18.393Z"
      },
      {
        "duration": 3,
        "start_time": "2023-07-02T07:53:24.772Z"
      },
      {
        "duration": 52,
        "start_time": "2023-07-02T07:53:25.556Z"
      },
      {
        "duration": 874,
        "start_time": "2023-07-02T07:57:24.337Z"
      },
      {
        "duration": 949,
        "start_time": "2023-07-02T07:57:48.497Z"
      },
      {
        "duration": 14,
        "start_time": "2023-07-02T07:58:27.855Z"
      },
      {
        "duration": 1133,
        "start_time": "2023-07-02T07:58:28.781Z"
      },
      {
        "duration": 5,
        "start_time": "2023-07-02T07:58:29.919Z"
      },
      {
        "duration": 1135,
        "start_time": "2023-07-02T07:58:29.926Z"
      },
      {
        "duration": 644,
        "start_time": "2023-07-02T07:58:31.442Z"
      },
      {
        "duration": 48,
        "start_time": "2023-07-02T07:58:32.089Z"
      },
      {
        "duration": 228,
        "start_time": "2023-07-02T07:58:33.101Z"
      },
      {
        "duration": 13,
        "start_time": "2023-07-02T07:58:34.030Z"
      },
      {
        "duration": 570,
        "start_time": "2023-07-02T07:58:34.507Z"
      },
      {
        "duration": 32,
        "start_time": "2023-07-02T07:58:35.616Z"
      },
      {
        "duration": 39,
        "start_time": "2023-07-02T07:58:36.540Z"
      },
      {
        "duration": 70,
        "start_time": "2023-07-02T07:58:37.135Z"
      },
      {
        "duration": 19,
        "start_time": "2023-07-02T07:58:37.993Z"
      },
      {
        "duration": 84,
        "start_time": "2023-07-02T07:58:38.304Z"
      },
      {
        "duration": 422,
        "start_time": "2023-07-02T07:58:38.653Z"
      },
      {
        "duration": 1033,
        "start_time": "2023-07-02T07:58:39.317Z"
      },
      {
        "duration": 8,
        "start_time": "2023-07-02T07:58:40.365Z"
      },
      {
        "duration": 42,
        "start_time": "2023-07-02T07:58:42.309Z"
      },
      {
        "duration": 31,
        "start_time": "2023-07-02T08:02:32.580Z"
      },
      {
        "duration": 43,
        "start_time": "2023-07-02T08:03:06.781Z"
      },
      {
        "duration": 907,
        "start_time": "2023-07-02T08:03:10.003Z"
      },
      {
        "duration": 3,
        "start_time": "2023-07-02T08:03:11.407Z"
      },
      {
        "duration": 7,
        "start_time": "2023-07-02T08:03:11.599Z"
      },
      {
        "duration": 301,
        "start_time": "2023-07-02T08:03:11.915Z"
      },
      {
        "duration": 18,
        "start_time": "2023-07-02T08:03:49.297Z"
      },
      {
        "duration": 1088,
        "start_time": "2023-07-02T08:13:57.598Z"
      },
      {
        "duration": 5,
        "start_time": "2023-07-02T08:13:58.690Z"
      },
      {
        "duration": 330,
        "start_time": "2023-07-02T08:13:59.251Z"
      },
      {
        "duration": 27,
        "start_time": "2023-07-02T08:14:00.240Z"
      },
      {
        "duration": 96,
        "start_time": "2023-07-02T08:14:00.912Z"
      },
      {
        "duration": 4,
        "start_time": "2023-07-02T08:25:35.332Z"
      },
      {
        "duration": 4,
        "start_time": "2023-07-02T08:25:35.737Z"
      },
      {
        "duration": 5433,
        "start_time": "2023-07-02T08:25:36.210Z"
      },
      {
        "duration": 30,
        "start_time": "2023-07-02T08:26:21.473Z"
      },
      {
        "duration": 5,
        "start_time": "2023-07-02T08:26:28.702Z"
      },
      {
        "duration": 71,
        "start_time": "2023-07-02T08:26:29.500Z"
      },
      {
        "duration": 926,
        "start_time": "2023-07-02T08:26:32.101Z"
      },
      {
        "duration": 8,
        "start_time": "2023-07-02T08:26:33.582Z"
      },
      {
        "duration": 322,
        "start_time": "2023-07-02T08:26:34.215Z"
      },
      {
        "duration": 24,
        "start_time": "2023-07-02T08:26:35.078Z"
      },
      {
        "duration": 79,
        "start_time": "2023-07-02T08:26:35.679Z"
      },
      {
        "duration": 3,
        "start_time": "2023-07-02T08:26:36.926Z"
      },
      {
        "duration": 12,
        "start_time": "2023-07-02T08:26:37.572Z"
      },
      {
        "duration": 4660,
        "start_time": "2023-07-02T08:26:38.512Z"
      },
      {
        "duration": 1856,
        "start_time": "2023-07-02T08:26:55.735Z"
      },
      {
        "duration": 3,
        "start_time": "2023-07-02T08:28:03.169Z"
      },
      {
        "duration": 4,
        "start_time": "2023-07-02T08:28:03.879Z"
      },
      {
        "duration": 4827,
        "start_time": "2023-07-02T08:28:04.582Z"
      },
      {
        "duration": 5,
        "start_time": "2023-07-02T08:29:07.946Z"
      },
      {
        "duration": 929,
        "start_time": "2023-07-02T08:29:08.733Z"
      },
      {
        "duration": 7,
        "start_time": "2023-07-02T08:29:09.670Z"
      },
      {
        "duration": 793,
        "start_time": "2023-07-02T08:29:09.880Z"
      },
      {
        "duration": 588,
        "start_time": "2023-07-02T08:29:11.861Z"
      },
      {
        "duration": 50,
        "start_time": "2023-07-02T08:29:12.451Z"
      },
      {
        "duration": 160,
        "start_time": "2023-07-02T08:29:13.187Z"
      },
      {
        "duration": 11,
        "start_time": "2023-07-02T08:29:13.695Z"
      },
      {
        "duration": 395,
        "start_time": "2023-07-02T08:29:13.980Z"
      },
      {
        "duration": 30,
        "start_time": "2023-07-02T08:29:14.414Z"
      },
      {
        "duration": 24,
        "start_time": "2023-07-02T08:29:14.881Z"
      },
      {
        "duration": 36,
        "start_time": "2023-07-02T08:29:15.314Z"
      },
      {
        "duration": 13,
        "start_time": "2023-07-02T08:29:15.719Z"
      },
      {
        "duration": 93,
        "start_time": "2023-07-02T08:29:15.899Z"
      },
      {
        "duration": 347,
        "start_time": "2023-07-02T08:29:16.102Z"
      },
      {
        "duration": 960,
        "start_time": "2023-07-02T08:29:16.455Z"
      },
      {
        "duration": 3,
        "start_time": "2023-07-02T08:29:17.418Z"
      },
      {
        "duration": 79,
        "start_time": "2023-07-02T08:29:17.423Z"
      },
      {
        "duration": 2,
        "start_time": "2023-07-02T08:29:17.913Z"
      },
      {
        "duration": 3,
        "start_time": "2023-07-02T08:29:18.127Z"
      },
      {
        "duration": 2,
        "start_time": "2023-07-02T08:29:18.307Z"
      },
      {
        "duration": 3,
        "start_time": "2023-07-02T08:29:18.509Z"
      },
      {
        "duration": 2,
        "start_time": "2023-07-02T08:29:19.927Z"
      },
      {
        "duration": 3,
        "start_time": "2023-07-02T08:29:20.231Z"
      },
      {
        "duration": 795,
        "start_time": "2023-07-02T08:29:21.187Z"
      },
      {
        "duration": 13,
        "start_time": "2023-07-02T08:29:21.989Z"
      },
      {
        "duration": 288,
        "start_time": "2023-07-02T08:29:22.004Z"
      },
      {
        "duration": 15,
        "start_time": "2023-07-02T08:29:22.295Z"
      },
      {
        "duration": 97,
        "start_time": "2023-07-02T08:29:22.313Z"
      },
      {
        "duration": 3,
        "start_time": "2023-07-02T08:29:23.931Z"
      },
      {
        "duration": 4,
        "start_time": "2023-07-02T08:29:24.588Z"
      },
      {
        "duration": 6966,
        "start_time": "2023-07-02T08:29:26.173Z"
      },
      {
        "duration": 12358,
        "start_time": "2023-07-02T08:35:13.301Z"
      },
      {
        "duration": 4088,
        "start_time": "2023-07-02T08:40:35.493Z"
      },
      {
        "duration": 4,
        "start_time": "2023-07-02T08:40:39.584Z"
      },
      {
        "duration": 217,
        "start_time": "2023-07-02T08:40:39.593Z"
      },
      {
        "duration": 22,
        "start_time": "2023-07-02T08:40:40.843Z"
      },
      {
        "duration": 68,
        "start_time": "2023-07-02T08:40:42.280Z"
      },
      {
        "duration": 2,
        "start_time": "2023-07-02T08:40:43.510Z"
      },
      {
        "duration": 5,
        "start_time": "2023-07-02T08:40:44.151Z"
      },
      {
        "duration": 7007,
        "start_time": "2023-07-02T08:40:44.798Z"
      },
      {
        "duration": 4,
        "start_time": "2023-07-02T08:41:16.551Z"
      },
      {
        "duration": 86,
        "start_time": "2023-07-02T08:41:17.007Z"
      },
      {
        "duration": 4,
        "start_time": "2023-07-02T08:41:18.137Z"
      },
      {
        "duration": 59,
        "start_time": "2023-07-02T08:41:18.598Z"
      },
      {
        "duration": 5,
        "start_time": "2023-07-02T08:41:19.048Z"
      },
      {
        "duration": 69,
        "start_time": "2023-07-02T08:41:19.814Z"
      },
      {
        "duration": 10,
        "start_time": "2023-07-02T08:41:20.884Z"
      },
      {
        "duration": 3,
        "start_time": "2023-07-02T08:41:21.332Z"
      },
      {
        "duration": 6271,
        "start_time": "2023-07-02T08:41:21.880Z"
      },
      {
        "duration": 90,
        "start_time": "2023-07-02T08:43:08.848Z"
      },
      {
        "duration": 70,
        "start_time": "2023-07-02T08:43:40.855Z"
      },
      {
        "duration": 4,
        "start_time": "2023-07-02T08:43:41.684Z"
      },
      {
        "duration": 47,
        "start_time": "2023-07-02T08:43:42.189Z"
      },
      {
        "duration": 4,
        "start_time": "2023-07-02T08:43:42.645Z"
      },
      {
        "duration": 95,
        "start_time": "2023-07-02T08:43:43.183Z"
      },
      {
        "duration": 3,
        "start_time": "2023-07-02T08:43:44.837Z"
      },
      {
        "duration": 3,
        "start_time": "2023-07-02T08:43:45.309Z"
      },
      {
        "duration": 5219,
        "start_time": "2023-07-02T08:43:46.323Z"
      },
      {
        "duration": 6,
        "start_time": "2023-07-02T08:45:26.999Z"
      },
      {
        "duration": 1155,
        "start_time": "2023-07-02T08:45:27.425Z"
      },
      {
        "duration": 6,
        "start_time": "2023-07-02T08:45:28.582Z"
      },
      {
        "duration": 854,
        "start_time": "2023-07-02T08:45:28.589Z"
      },
      {
        "duration": 618,
        "start_time": "2023-07-02T08:45:29.447Z"
      },
      {
        "duration": 55,
        "start_time": "2023-07-02T08:45:30.068Z"
      },
      {
        "duration": 218,
        "start_time": "2023-07-02T08:45:30.127Z"
      },
      {
        "duration": 16,
        "start_time": "2023-07-02T08:45:30.348Z"
      },
      {
        "duration": 474,
        "start_time": "2023-07-02T08:45:30.367Z"
      },
      {
        "duration": 44,
        "start_time": "2023-07-02T08:45:30.844Z"
      },
      {
        "duration": 24,
        "start_time": "2023-07-02T08:45:30.890Z"
      },
      {
        "duration": 94,
        "start_time": "2023-07-02T08:45:30.916Z"
      },
      {
        "duration": 20,
        "start_time": "2023-07-02T08:45:32.296Z"
      },
      {
        "duration": 108,
        "start_time": "2023-07-02T08:45:32.454Z"
      },
      {
        "duration": 441,
        "start_time": "2023-07-02T08:45:32.634Z"
      },
      {
        "duration": 1085,
        "start_time": "2023-07-02T08:45:33.878Z"
      },
      {
        "duration": 8,
        "start_time": "2023-07-02T08:45:34.966Z"
      },
      {
        "duration": 38,
        "start_time": "2023-07-02T08:45:35.300Z"
      },
      {
        "duration": 3,
        "start_time": "2023-07-02T08:45:38.135Z"
      },
      {
        "duration": 4,
        "start_time": "2023-07-02T08:45:38.371Z"
      },
      {
        "duration": 3,
        "start_time": "2023-07-02T08:45:38.528Z"
      },
      {
        "duration": 3,
        "start_time": "2023-07-02T08:45:38.933Z"
      },
      {
        "duration": 4,
        "start_time": "2023-07-02T08:45:40.486Z"
      },
      {
        "duration": 4,
        "start_time": "2023-07-02T08:45:40.678Z"
      },
      {
        "duration": 4,
        "start_time": "2023-07-02T08:45:41.286Z"
      },
      {
        "duration": 4774,
        "start_time": "2023-07-02T08:45:41.826Z"
      },
      {
        "duration": 4,
        "start_time": "2023-07-02T08:45:46.604Z"
      },
      {
        "duration": 113,
        "start_time": "2023-07-02T08:45:46.611Z"
      },
      {
        "duration": 6,
        "start_time": "2023-07-02T08:45:47.488Z"
      },
      {
        "duration": 120,
        "start_time": "2023-07-02T08:45:47.879Z"
      },
      {
        "duration": 3,
        "start_time": "2023-07-02T08:45:48.912Z"
      },
      {
        "duration": 3,
        "start_time": "2023-07-02T08:45:49.250Z"
      },
      {
        "duration": 5805,
        "start_time": "2023-07-02T08:45:49.837Z"
      },
      {
        "duration": 66,
        "start_time": "2023-07-02T08:49:38.876Z"
      },
      {
        "duration": 6,
        "start_time": "2023-07-02T08:49:39.649Z"
      },
      {
        "duration": 59,
        "start_time": "2023-07-02T08:49:40.043Z"
      },
      {
        "duration": 4,
        "start_time": "2023-07-02T08:49:41.449Z"
      },
      {
        "duration": 3,
        "start_time": "2023-07-02T08:49:41.821Z"
      },
      {
        "duration": 80180,
        "start_time": "2023-07-02T08:49:42.238Z"
      },
      {
        "duration": 0,
        "start_time": "2023-07-02T08:51:02.421Z"
      },
      {
        "duration": 0,
        "start_time": "2023-07-02T08:51:02.422Z"
      },
      {
        "duration": 0,
        "start_time": "2023-07-02T08:51:02.428Z"
      },
      {
        "duration": 85529,
        "start_time": "2023-07-02T08:51:05.296Z"
      },
      {
        "duration": 38229,
        "start_time": "2023-07-02T08:53:25.808Z"
      },
      {
        "duration": 438,
        "start_time": "2023-07-02T08:54:39.071Z"
      },
      {
        "duration": 5,
        "start_time": "2023-07-02T08:57:17.867Z"
      },
      {
        "duration": 3,
        "start_time": "2023-07-02T08:57:19.245Z"
      },
      {
        "duration": 3448,
        "start_time": "2023-07-02T08:57:20.563Z"
      },
      {
        "duration": 300,
        "start_time": "2023-07-02T08:57:25.853Z"
      },
      {
        "duration": 5,
        "start_time": "2023-07-02T08:58:28.529Z"
      },
      {
        "duration": 3,
        "start_time": "2023-07-02T08:58:29.108Z"
      },
      {
        "duration": 3283,
        "start_time": "2023-07-02T08:58:29.806Z"
      },
      {
        "duration": 5,
        "start_time": "2023-07-02T09:02:10.489Z"
      },
      {
        "duration": 72,
        "start_time": "2023-07-02T09:02:11.430Z"
      },
      {
        "duration": 9,
        "start_time": "2023-07-02T09:02:12.054Z"
      },
      {
        "duration": 3,
        "start_time": "2023-07-02T09:02:12.521Z"
      },
      {
        "duration": 121411,
        "start_time": "2023-07-02T09:02:12.873Z"
      },
      {
        "duration": 0,
        "start_time": "2023-07-02T09:04:14.286Z"
      },
      {
        "duration": 211421,
        "start_time": "2023-07-02T09:04:17.068Z"
      },
      {
        "duration": 4,
        "start_time": "2023-07-02T09:11:18.023Z"
      },
      {
        "duration": 81,
        "start_time": "2023-07-02T09:11:18.519Z"
      },
      {
        "duration": 3,
        "start_time": "2023-07-02T09:11:19.147Z"
      },
      {
        "duration": 18,
        "start_time": "2023-07-02T09:11:19.880Z"
      },
      {
        "duration": 4,
        "start_time": "2023-07-02T09:11:37.927Z"
      },
      {
        "duration": 3,
        "start_time": "2023-07-02T09:11:38.420Z"
      },
      {
        "duration": 12,
        "start_time": "2023-07-02T09:11:39.012Z"
      },
      {
        "duration": 5,
        "start_time": "2023-07-02T09:11:44.915Z"
      },
      {
        "duration": 112,
        "start_time": "2023-07-02T09:11:45.524Z"
      },
      {
        "duration": 4,
        "start_time": "2023-07-02T09:11:46.004Z"
      },
      {
        "duration": 6,
        "start_time": "2023-07-02T09:11:46.541Z"
      },
      {
        "duration": 18,
        "start_time": "2023-07-02T09:11:47.148Z"
      },
      {
        "duration": 4,
        "start_time": "2023-07-02T09:19:18.304Z"
      },
      {
        "duration": 61,
        "start_time": "2023-07-02T09:19:18.670Z"
      },
      {
        "duration": 4,
        "start_time": "2023-07-02T09:19:19.297Z"
      },
      {
        "duration": 3,
        "start_time": "2023-07-02T09:19:19.912Z"
      },
      {
        "duration": 567,
        "start_time": "2023-07-02T09:19:20.452Z"
      },
      {
        "duration": 3,
        "start_time": "2023-07-02T09:19:37.621Z"
      },
      {
        "duration": 2,
        "start_time": "2023-07-02T09:19:38.104Z"
      },
      {
        "duration": 218200,
        "start_time": "2023-07-02T09:19:38.798Z"
      },
      {
        "duration": 0,
        "start_time": "2023-07-02T09:23:17.001Z"
      },
      {
        "duration": 7,
        "start_time": "2023-07-02T09:24:16.316Z"
      },
      {
        "duration": 959,
        "start_time": "2023-07-02T09:24:16.739Z"
      },
      {
        "duration": 4,
        "start_time": "2023-07-02T09:24:17.701Z"
      },
      {
        "duration": 1112,
        "start_time": "2023-07-02T09:24:17.708Z"
      },
      {
        "duration": 564,
        "start_time": "2023-07-02T09:24:18.823Z"
      },
      {
        "duration": 43,
        "start_time": "2023-07-02T09:24:19.390Z"
      },
      {
        "duration": 178,
        "start_time": "2023-07-02T09:24:19.636Z"
      },
      {
        "duration": 12,
        "start_time": "2023-07-02T09:24:20.028Z"
      },
      {
        "duration": 407,
        "start_time": "2023-07-02T09:24:20.444Z"
      },
      {
        "duration": 34,
        "start_time": "2023-07-02T09:24:20.853Z"
      },
      {
        "duration": 37,
        "start_time": "2023-07-02T09:24:21.594Z"
      },
      {
        "duration": 50,
        "start_time": "2023-07-02T09:24:21.971Z"
      },
      {
        "duration": 18,
        "start_time": "2023-07-02T09:24:22.323Z"
      },
      {
        "duration": 85,
        "start_time": "2023-07-02T09:24:22.609Z"
      },
      {
        "duration": 403,
        "start_time": "2023-07-02T09:24:22.817Z"
      },
      {
        "duration": 978,
        "start_time": "2023-07-02T09:24:23.223Z"
      },
      {
        "duration": 3,
        "start_time": "2023-07-02T09:24:24.204Z"
      },
      {
        "duration": 80,
        "start_time": "2023-07-02T09:24:24.210Z"
      },
      {
        "duration": 4,
        "start_time": "2023-07-02T09:24:25.774Z"
      },
      {
        "duration": 3,
        "start_time": "2023-07-02T09:24:26.006Z"
      },
      {
        "duration": 3,
        "start_time": "2023-07-02T09:24:26.221Z"
      },
      {
        "duration": 6,
        "start_time": "2023-07-02T09:24:26.431Z"
      },
      {
        "duration": 3,
        "start_time": "2023-07-02T09:24:28.039Z"
      },
      {
        "duration": 3,
        "start_time": "2023-07-02T09:24:28.218Z"
      },
      {
        "duration": 9,
        "start_time": "2023-07-02T09:24:28.790Z"
      },
      {
        "duration": 4387,
        "start_time": "2023-07-02T09:24:28.938Z"
      },
      {
        "duration": 3,
        "start_time": "2023-07-02T09:24:33.328Z"
      },
      {
        "duration": 78,
        "start_time": "2023-07-02T09:24:33.333Z"
      },
      {
        "duration": 4,
        "start_time": "2023-07-02T09:24:33.414Z"
      },
      {
        "duration": 6,
        "start_time": "2023-07-02T09:24:33.421Z"
      },
      {
        "duration": 120412,
        "start_time": "2023-07-02T09:24:34.175Z"
      },
      {
        "duration": 7,
        "start_time": "2023-07-02T09:26:34.590Z"
      },
      {
        "duration": 4,
        "start_time": "2023-07-02T09:26:44.711Z"
      },
      {
        "duration": 46,
        "start_time": "2023-07-02T09:26:45.241Z"
      },
      {
        "duration": 3,
        "start_time": "2023-07-02T09:26:45.762Z"
      },
      {
        "duration": 3,
        "start_time": "2023-07-02T09:26:46.243Z"
      },
      {
        "duration": 504,
        "start_time": "2023-07-02T09:26:46.839Z"
      },
      {
        "duration": 3,
        "start_time": "2023-07-02T09:27:23.605Z"
      },
      {
        "duration": 3,
        "start_time": "2023-07-02T09:27:24.018Z"
      },
      {
        "duration": 474,
        "start_time": "2023-07-02T09:27:24.609Z"
      },
      {
        "duration": 497,
        "start_time": "2023-07-02T09:27:40.302Z"
      },
      {
        "duration": 1787,
        "start_time": "2023-07-05T10:47:55.221Z"
      },
      {
        "duration": 2956,
        "start_time": "2023-07-05T10:47:57.011Z"
      },
      {
        "duration": 4,
        "start_time": "2023-07-05T10:47:59.969Z"
      },
      {
        "duration": 900,
        "start_time": "2023-07-05T10:47:59.975Z"
      },
      {
        "duration": 596,
        "start_time": "2023-07-05T10:48:02.428Z"
      },
      {
        "duration": 53,
        "start_time": "2023-07-05T10:48:03.612Z"
      },
      {
        "duration": 157,
        "start_time": "2023-07-05T10:48:05.016Z"
      },
      {
        "duration": 12,
        "start_time": "2023-07-05T10:48:08.706Z"
      },
      {
        "duration": 330,
        "start_time": "2023-07-05T10:48:10.562Z"
      },
      {
        "duration": 32,
        "start_time": "2023-07-05T10:48:11.420Z"
      },
      {
        "duration": 22,
        "start_time": "2023-07-05T10:48:12.800Z"
      },
      {
        "duration": 36,
        "start_time": "2023-07-05T10:48:13.812Z"
      },
      {
        "duration": 14,
        "start_time": "2023-07-05T10:48:14.912Z"
      },
      {
        "duration": 75,
        "start_time": "2023-07-05T10:48:15.612Z"
      },
      {
        "duration": 287,
        "start_time": "2023-07-05T10:48:16.244Z"
      },
      {
        "duration": 855,
        "start_time": "2023-07-05T10:48:16.772Z"
      },
      {
        "duration": 4,
        "start_time": "2023-07-05T10:48:17.629Z"
      },
      {
        "duration": 39,
        "start_time": "2023-07-05T10:48:18.408Z"
      },
      {
        "duration": 3,
        "start_time": "2023-07-05T10:48:25.708Z"
      },
      {
        "duration": 3,
        "start_time": "2023-07-05T10:48:25.862Z"
      },
      {
        "duration": 3,
        "start_time": "2023-07-05T10:48:26.043Z"
      },
      {
        "duration": 3,
        "start_time": "2023-07-05T10:48:26.651Z"
      },
      {
        "duration": 2,
        "start_time": "2023-07-05T10:48:29.008Z"
      },
      {
        "duration": 2,
        "start_time": "2023-07-05T10:50:22.370Z"
      },
      {
        "duration": 3,
        "start_time": "2023-07-05T10:50:23.412Z"
      },
      {
        "duration": 4104,
        "start_time": "2023-07-05T10:50:24.048Z"
      },
      {
        "duration": 3,
        "start_time": "2023-07-05T10:50:28.928Z"
      },
      {
        "duration": 54,
        "start_time": "2023-07-05T10:50:29.559Z"
      },
      {
        "duration": 3,
        "start_time": "2023-07-05T10:50:31.135Z"
      },
      {
        "duration": 3,
        "start_time": "2023-07-05T10:50:31.710Z"
      },
      {
        "duration": 86229,
        "start_time": "2023-07-05T10:50:32.409Z"
      },
      {
        "duration": 25931,
        "start_time": "2023-07-05T10:52:50.708Z"
      },
      {
        "duration": 218,
        "start_time": "2023-07-05T10:53:16.642Z"
      },
      {
        "duration": 12131,
        "start_time": "2023-07-05T11:09:36.574Z"
      },
      {
        "duration": 306,
        "start_time": "2023-07-05T11:09:58.962Z"
      },
      {
        "duration": 3,
        "start_time": "2023-07-05T11:10:04.248Z"
      },
      {
        "duration": 2,
        "start_time": "2023-07-05T11:10:04.666Z"
      },
      {
        "duration": 12,
        "start_time": "2023-07-05T11:10:05.262Z"
      },
      {
        "duration": 4,
        "start_time": "2023-07-05T11:10:45.807Z"
      },
      {
        "duration": 3,
        "start_time": "2023-07-05T11:10:46.842Z"
      },
      {
        "duration": 12,
        "start_time": "2023-07-05T11:10:48.101Z"
      },
      {
        "duration": 36,
        "start_time": "2023-07-05T11:11:21.021Z"
      },
      {
        "duration": 3,
        "start_time": "2023-07-05T11:11:21.807Z"
      },
      {
        "duration": 2,
        "start_time": "2023-07-05T11:11:22.078Z"
      },
      {
        "duration": 532,
        "start_time": "2023-07-05T11:11:22.505Z"
      },
      {
        "duration": 6,
        "start_time": "2023-07-05T11:11:34.071Z"
      },
      {
        "duration": 37,
        "start_time": "2023-07-05T11:11:35.330Z"
      },
      {
        "duration": 4,
        "start_time": "2023-07-05T11:11:35.870Z"
      },
      {
        "duration": 4,
        "start_time": "2023-07-05T11:11:36.321Z"
      },
      {
        "duration": 494,
        "start_time": "2023-07-05T11:11:36.995Z"
      },
      {
        "duration": 505,
        "start_time": "2023-07-05T11:19:38.579Z"
      },
      {
        "duration": 4,
        "start_time": "2023-07-05T11:19:49.683Z"
      },
      {
        "duration": 37,
        "start_time": "2023-07-05T11:19:50.121Z"
      },
      {
        "duration": 4,
        "start_time": "2023-07-05T11:19:50.503Z"
      },
      {
        "duration": 4,
        "start_time": "2023-07-05T11:19:50.999Z"
      },
      {
        "duration": 512,
        "start_time": "2023-07-05T11:19:52.517Z"
      },
      {
        "duration": 1725,
        "start_time": "2023-07-05T11:20:04.156Z"
      },
      {
        "duration": 919,
        "start_time": "2023-07-05T11:20:05.883Z"
      },
      {
        "duration": 4,
        "start_time": "2023-07-05T11:20:06.804Z"
      },
      {
        "duration": 848,
        "start_time": "2023-07-05T11:20:06.810Z"
      },
      {
        "duration": 630,
        "start_time": "2023-07-05T11:20:07.661Z"
      },
      {
        "duration": 57,
        "start_time": "2023-07-05T11:20:08.293Z"
      },
      {
        "duration": 166,
        "start_time": "2023-07-05T11:20:08.352Z"
      },
      {
        "duration": 12,
        "start_time": "2023-07-05T11:20:08.520Z"
      },
      {
        "duration": 344,
        "start_time": "2023-07-05T11:20:08.534Z"
      },
      {
        "duration": 26,
        "start_time": "2023-07-05T11:20:08.880Z"
      },
      {
        "duration": 20,
        "start_time": "2023-07-05T11:20:08.908Z"
      },
      {
        "duration": 58,
        "start_time": "2023-07-05T11:20:08.930Z"
      },
      {
        "duration": 13,
        "start_time": "2023-07-05T11:20:08.990Z"
      },
      {
        "duration": 80,
        "start_time": "2023-07-05T11:20:09.006Z"
      },
      {
        "duration": 275,
        "start_time": "2023-07-05T11:20:09.088Z"
      },
      {
        "duration": 862,
        "start_time": "2023-07-05T11:20:09.366Z"
      },
      {
        "duration": 3,
        "start_time": "2023-07-05T11:20:10.230Z"
      },
      {
        "duration": 55,
        "start_time": "2023-07-05T11:20:10.235Z"
      },
      {
        "duration": 2,
        "start_time": "2023-07-05T11:20:10.292Z"
      },
      {
        "duration": 10,
        "start_time": "2023-07-05T11:20:10.295Z"
      },
      {
        "duration": 5,
        "start_time": "2023-07-05T11:20:10.306Z"
      },
      {
        "duration": 4,
        "start_time": "2023-07-05T11:20:10.313Z"
      },
      {
        "duration": 4,
        "start_time": "2023-07-05T11:20:10.318Z"
      },
      {
        "duration": 4,
        "start_time": "2023-07-05T11:20:10.323Z"
      },
      {
        "duration": 6,
        "start_time": "2023-07-05T11:20:10.329Z"
      },
      {
        "duration": 4090,
        "start_time": "2023-07-05T11:20:10.336Z"
      },
      {
        "duration": 3,
        "start_time": "2023-07-05T11:20:14.428Z"
      },
      {
        "duration": 64,
        "start_time": "2023-07-05T11:20:14.432Z"
      },
      {
        "duration": 3,
        "start_time": "2023-07-05T11:20:14.498Z"
      },
      {
        "duration": 6,
        "start_time": "2023-07-05T11:20:14.502Z"
      },
      {
        "duration": 85557,
        "start_time": "2023-07-05T11:20:14.509Z"
      },
      {
        "duration": 26720,
        "start_time": "2023-07-05T11:21:40.068Z"
      },
      {
        "duration": 12003,
        "start_time": "2023-07-05T11:22:06.789Z"
      },
      {
        "duration": 321,
        "start_time": "2023-07-05T11:22:18.793Z"
      },
      {
        "duration": 5,
        "start_time": "2023-07-05T11:22:19.116Z"
      },
      {
        "duration": 55,
        "start_time": "2023-07-05T11:22:19.122Z"
      },
      {
        "duration": 4,
        "start_time": "2023-07-05T11:22:19.178Z"
      },
      {
        "duration": 29,
        "start_time": "2023-07-05T11:22:19.183Z"
      },
      {
        "duration": 588,
        "start_time": "2023-07-05T11:22:19.213Z"
      },
      {
        "duration": 0,
        "start_time": "2023-07-05T11:22:19.803Z"
      },
      {
        "duration": 0,
        "start_time": "2023-07-05T11:22:19.804Z"
      },
      {
        "duration": 0,
        "start_time": "2023-07-05T11:22:19.805Z"
      },
      {
        "duration": 0,
        "start_time": "2023-07-05T11:22:19.806Z"
      },
      {
        "duration": 0,
        "start_time": "2023-07-05T11:22:19.807Z"
      },
      {
        "duration": 0,
        "start_time": "2023-07-05T11:22:19.808Z"
      },
      {
        "duration": 0,
        "start_time": "2023-07-05T11:22:19.809Z"
      },
      {
        "duration": 0,
        "start_time": "2023-07-05T11:22:19.810Z"
      },
      {
        "duration": 0,
        "start_time": "2023-07-05T11:22:19.810Z"
      },
      {
        "duration": 0,
        "start_time": "2023-07-05T11:22:19.811Z"
      },
      {
        "duration": 0,
        "start_time": "2023-07-05T11:22:19.812Z"
      },
      {
        "duration": 0,
        "start_time": "2023-07-05T11:22:19.814Z"
      },
      {
        "duration": 16,
        "start_time": "2023-07-05T11:24:15.939Z"
      },
      {
        "duration": 20,
        "start_time": "2023-07-05T11:26:49.458Z"
      },
      {
        "duration": 4,
        "start_time": "2023-07-05T11:26:56.129Z"
      },
      {
        "duration": 818,
        "start_time": "2023-07-05T11:26:56.379Z"
      },
      {
        "duration": 3,
        "start_time": "2023-07-05T11:26:57.199Z"
      },
      {
        "duration": 683,
        "start_time": "2023-07-05T11:26:57.203Z"
      },
      {
        "duration": 488,
        "start_time": "2023-07-05T11:26:57.888Z"
      },
      {
        "duration": 224,
        "start_time": "2023-07-05T11:26:58.378Z"
      },
      {
        "duration": 41,
        "start_time": "2023-07-05T11:26:58.604Z"
      },
      {
        "duration": 21,
        "start_time": "2023-07-05T11:26:58.647Z"
      },
      {
        "duration": 338,
        "start_time": "2023-07-05T11:26:58.669Z"
      },
      {
        "duration": 26,
        "start_time": "2023-07-05T11:26:59.008Z"
      },
      {
        "duration": 32,
        "start_time": "2023-07-05T11:26:59.036Z"
      },
      {
        "duration": 33,
        "start_time": "2023-07-05T11:26:59.070Z"
      },
      {
        "duration": 14,
        "start_time": "2023-07-05T11:27:00.010Z"
      },
      {
        "duration": 67,
        "start_time": "2023-07-05T11:27:00.180Z"
      },
      {
        "duration": 281,
        "start_time": "2023-07-05T11:27:00.360Z"
      },
      {
        "duration": 760,
        "start_time": "2023-07-05T11:27:00.643Z"
      },
      {
        "duration": 4,
        "start_time": "2023-07-05T11:27:01.405Z"
      },
      {
        "duration": 45,
        "start_time": "2023-07-05T11:27:01.495Z"
      },
      {
        "duration": 2,
        "start_time": "2023-07-05T11:27:03.464Z"
      },
      {
        "duration": 2,
        "start_time": "2023-07-05T11:27:03.667Z"
      },
      {
        "duration": 3,
        "start_time": "2023-07-05T11:27:04.038Z"
      },
      {
        "duration": 2,
        "start_time": "2023-07-05T11:27:04.230Z"
      },
      {
        "duration": 3,
        "start_time": "2023-07-05T11:27:05.196Z"
      },
      {
        "duration": 2,
        "start_time": "2023-07-05T11:27:05.377Z"
      },
      {
        "duration": 2,
        "start_time": "2023-07-05T11:27:06.334Z"
      },
      {
        "duration": 4046,
        "start_time": "2023-07-05T11:27:07.537Z"
      },
      {
        "duration": 3,
        "start_time": "2023-07-05T11:27:11.585Z"
      },
      {
        "duration": 49,
        "start_time": "2023-07-05T11:27:11.590Z"
      },
      {
        "duration": 4,
        "start_time": "2023-07-05T11:27:16.054Z"
      },
      {
        "duration": 15,
        "start_time": "2023-07-05T11:27:16.875Z"
      },
      {
        "duration": 37,
        "start_time": "2023-07-05T11:27:18.260Z"
      },
      {
        "duration": 3,
        "start_time": "2023-07-05T11:27:18.777Z"
      },
      {
        "duration": 3,
        "start_time": "2023-07-05T11:27:19.867Z"
      },
      {
        "duration": 65436,
        "start_time": "2023-07-05T11:27:20.543Z"
      },
      {
        "duration": 4088,
        "start_time": "2023-07-05T11:28:27.279Z"
      },
      {
        "duration": 1526,
        "start_time": "2023-07-05T11:28:31.370Z"
      },
      {
        "duration": 3,
        "start_time": "2023-07-05T11:29:38.142Z"
      },
      {
        "duration": 3,
        "start_time": "2023-07-05T11:29:39.163Z"
      },
      {
        "duration": 0,
        "start_time": "2023-07-05T11:31:13.345Z"
      },
      {
        "duration": 0,
        "start_time": "2023-07-05T11:31:13.346Z"
      },
      {
        "duration": 0,
        "start_time": "2023-07-05T11:31:13.347Z"
      },
      {
        "duration": 0,
        "start_time": "2023-07-05T11:31:13.348Z"
      },
      {
        "duration": 0,
        "start_time": "2023-07-05T11:31:13.349Z"
      },
      {
        "duration": 3,
        "start_time": "2023-07-05T11:31:16.154Z"
      },
      {
        "duration": 3,
        "start_time": "2023-07-05T11:31:17.323Z"
      },
      {
        "duration": 104772,
        "start_time": "2023-07-05T11:31:30.239Z"
      },
      {
        "duration": 28279,
        "start_time": "2023-07-05T11:33:23.640Z"
      },
      {
        "duration": 5742,
        "start_time": "2023-07-05T11:33:51.921Z"
      },
      {
        "duration": 1825,
        "start_time": "2023-07-05T11:36:04.017Z"
      },
      {
        "duration": 4,
        "start_time": "2023-07-05T11:36:30.258Z"
      },
      {
        "duration": 1181,
        "start_time": "2023-07-05T11:36:31.348Z"
      },
      {
        "duration": 42,
        "start_time": "2023-07-05T11:37:29.860Z"
      },
      {
        "duration": 2,
        "start_time": "2023-07-05T11:37:33.617Z"
      },
      {
        "duration": 63,
        "start_time": "2023-07-05T11:37:34.022Z"
      },
      {
        "duration": 3,
        "start_time": "2023-07-05T11:37:34.697Z"
      },
      {
        "duration": 47,
        "start_time": "2023-07-05T11:37:35.169Z"
      },
      {
        "duration": 2553,
        "start_time": "2023-07-05T11:37:49.761Z"
      },
      {
        "duration": 1197,
        "start_time": "2023-07-05T11:38:59.143Z"
      },
      {
        "duration": 19935,
        "start_time": "2023-07-05T11:52:02.542Z"
      },
      {
        "duration": 6,
        "start_time": "2023-07-05T12:08:57.617Z"
      },
      {
        "duration": 764,
        "start_time": "2023-07-05T12:08:58.032Z"
      },
      {
        "duration": 3,
        "start_time": "2023-07-05T12:08:59.315Z"
      },
      {
        "duration": 690,
        "start_time": "2023-07-05T12:08:59.905Z"
      },
      {
        "duration": 497,
        "start_time": "2023-07-05T12:09:04.512Z"
      },
      {
        "duration": 195,
        "start_time": "2023-07-05T12:09:06.132Z"
      },
      {
        "duration": 38,
        "start_time": "2023-07-05T12:09:10.464Z"
      },
      {
        "duration": 10,
        "start_time": "2023-07-05T12:09:11.454Z"
      },
      {
        "duration": 321,
        "start_time": "2023-07-05T12:09:12.714Z"
      },
      {
        "duration": 29,
        "start_time": "2023-07-05T12:09:13.558Z"
      },
      {
        "duration": 20,
        "start_time": "2023-07-05T12:09:16.303Z"
      },
      {
        "duration": 38,
        "start_time": "2023-07-05T12:09:17.326Z"
      },
      {
        "duration": 12,
        "start_time": "2023-07-05T12:09:18.255Z"
      },
      {
        "duration": 66,
        "start_time": "2023-07-05T12:09:18.654Z"
      },
      {
        "duration": 295,
        "start_time": "2023-07-05T12:09:19.104Z"
      },
      {
        "duration": 739,
        "start_time": "2023-07-05T12:09:19.677Z"
      },
      {
        "duration": 5,
        "start_time": "2023-07-05T12:20:32.232Z"
      },
      {
        "duration": 889,
        "start_time": "2023-07-05T12:20:32.792Z"
      },
      {
        "duration": 4,
        "start_time": "2023-07-05T12:20:33.683Z"
      },
      {
        "duration": 725,
        "start_time": "2023-07-05T12:20:34.077Z"
      },
      {
        "duration": 502,
        "start_time": "2023-07-05T12:20:36.478Z"
      },
      {
        "duration": 198,
        "start_time": "2023-07-05T12:20:38.193Z"
      },
      {
        "duration": 15,
        "start_time": "2023-07-05T12:20:39.291Z"
      },
      {
        "duration": 341,
        "start_time": "2023-07-05T12:20:39.734Z"
      },
      {
        "duration": 47,
        "start_time": "2023-07-05T12:20:40.271Z"
      },
      {
        "duration": 25,
        "start_time": "2023-07-05T12:20:41.422Z"
      },
      {
        "duration": 55,
        "start_time": "2023-07-05T12:20:42.465Z"
      },
      {
        "duration": 20,
        "start_time": "2023-07-05T12:20:43.573Z"
      },
      {
        "duration": 112,
        "start_time": "2023-07-05T12:20:44.021Z"
      },
      {
        "duration": 400,
        "start_time": "2023-07-05T12:20:44.517Z"
      },
      {
        "duration": 813,
        "start_time": "2023-07-05T12:20:45.814Z"
      },
      {
        "duration": 57,
        "start_time": "2023-07-05T12:20:46.629Z"
      },
      {
        "duration": 3,
        "start_time": "2023-07-05T12:20:47.014Z"
      },
      {
        "duration": 35,
        "start_time": "2023-07-05T12:20:47.695Z"
      },
      {
        "duration": 3,
        "start_time": "2023-07-05T12:21:02.235Z"
      },
      {
        "duration": 3973,
        "start_time": "2023-07-05T12:21:02.798Z"
      },
      {
        "duration": 3,
        "start_time": "2023-07-05T12:21:10.694Z"
      },
      {
        "duration": 44,
        "start_time": "2023-07-05T12:21:11.372Z"
      },
      {
        "duration": 5,
        "start_time": "2023-07-05T12:21:11.869Z"
      },
      {
        "duration": 37,
        "start_time": "2023-07-05T12:21:13.057Z"
      },
      {
        "duration": 4,
        "start_time": "2023-07-05T12:21:17.092Z"
      },
      {
        "duration": 3,
        "start_time": "2023-07-05T12:21:17.715Z"
      },
      {
        "duration": 80369,
        "start_time": "2023-07-05T12:21:19.080Z"
      },
      {
        "duration": 24849,
        "start_time": "2023-07-05T12:22:39.451Z"
      },
      {
        "duration": 1177,
        "start_time": "2023-07-05T12:23:04.302Z"
      },
      {
        "duration": 5,
        "start_time": "2023-07-05T12:23:46.377Z"
      },
      {
        "duration": 791,
        "start_time": "2023-07-05T12:23:46.635Z"
      },
      {
        "duration": 4,
        "start_time": "2023-07-05T12:23:47.428Z"
      },
      {
        "duration": 706,
        "start_time": "2023-07-05T12:23:47.434Z"
      },
      {
        "duration": 489,
        "start_time": "2023-07-05T12:23:48.899Z"
      },
      {
        "duration": 188,
        "start_time": "2023-07-05T12:25:01.999Z"
      },
      {
        "duration": 641,
        "start_time": "2023-07-05T12:25:06.498Z"
      },
      {
        "duration": 468,
        "start_time": "2023-07-05T12:25:08.500Z"
      },
      {
        "duration": 120,
        "start_time": "2023-07-05T12:25:10.495Z"
      },
      {
        "duration": 14,
        "start_time": "2023-07-05T12:25:12.066Z"
      },
      {
        "duration": 325,
        "start_time": "2023-07-05T12:25:12.732Z"
      },
      {
        "duration": 51,
        "start_time": "2023-07-05T12:25:13.195Z"
      },
      {
        "duration": 23,
        "start_time": "2023-07-05T12:25:14.490Z"
      },
      {
        "duration": 55,
        "start_time": "2023-07-05T12:25:15.846Z"
      },
      {
        "duration": 19,
        "start_time": "2023-07-05T12:25:17.838Z"
      },
      {
        "duration": 90,
        "start_time": "2023-07-05T12:25:18.457Z"
      },
      {
        "duration": 272,
        "start_time": "2023-07-05T12:25:19.368Z"
      },
      {
        "duration": 775,
        "start_time": "2023-07-05T12:25:20.168Z"
      },
      {
        "duration": 40,
        "start_time": "2023-07-05T12:25:21.179Z"
      },
      {
        "duration": 3,
        "start_time": "2023-07-05T12:25:34.995Z"
      },
      {
        "duration": 35,
        "start_time": "2023-07-05T12:25:35.647Z"
      },
      {
        "duration": 2,
        "start_time": "2023-07-05T12:25:38.167Z"
      },
      {
        "duration": 3764,
        "start_time": "2023-07-05T12:25:38.651Z"
      },
      {
        "duration": 3,
        "start_time": "2023-07-05T12:25:42.417Z"
      },
      {
        "duration": 62,
        "start_time": "2023-07-05T12:25:42.421Z"
      },
      {
        "duration": 4,
        "start_time": "2023-07-05T12:25:43.331Z"
      },
      {
        "duration": 42,
        "start_time": "2023-07-05T12:25:44.545Z"
      },
      {
        "duration": 4,
        "start_time": "2023-07-05T12:25:51.059Z"
      },
      {
        "duration": 3,
        "start_time": "2023-07-05T12:25:51.543Z"
      },
      {
        "duration": 83628,
        "start_time": "2023-07-05T12:25:52.151Z"
      },
      {
        "duration": 1084,
        "start_time": "2023-07-05T12:29:07.588Z"
      },
      {
        "duration": 1386,
        "start_time": "2023-07-05T12:32:49.710Z"
      },
      {
        "duration": 3,
        "start_time": "2023-07-05T12:37:53.218Z"
      },
      {
        "duration": 4,
        "start_time": "2023-07-05T12:37:53.655Z"
      },
      {
        "duration": 82292,
        "start_time": "2023-07-05T12:37:54.186Z"
      },
      {
        "duration": 4,
        "start_time": "2023-07-05T12:41:01.611Z"
      },
      {
        "duration": 3,
        "start_time": "2023-07-05T12:41:02.061Z"
      },
      {
        "duration": 88645,
        "start_time": "2023-07-05T12:41:02.511Z"
      },
      {
        "duration": 28088,
        "start_time": "2023-07-05T12:42:31.159Z"
      },
      {
        "duration": 12651,
        "start_time": "2023-07-05T12:42:59.249Z"
      },
      {
        "duration": 228,
        "start_time": "2023-07-05T12:43:11.902Z"
      },
      {
        "duration": 27550,
        "start_time": "2023-07-05T12:45:01.094Z"
      },
      {
        "duration": 12335,
        "start_time": "2023-07-05T12:45:30.884Z"
      },
      {
        "duration": 11999,
        "start_time": "2023-07-05T12:45:45.902Z"
      },
      {
        "duration": 262,
        "start_time": "2023-07-05T12:46:01.765Z"
      },
      {
        "duration": 3,
        "start_time": "2023-07-05T12:46:11.664Z"
      },
      {
        "duration": 3,
        "start_time": "2023-07-05T12:48:20.817Z"
      },
      {
        "duration": 3,
        "start_time": "2023-07-05T12:48:21.626Z"
      },
      {
        "duration": 1055259,
        "start_time": "2023-07-05T12:48:22.335Z"
      },
      {
        "duration": 4687,
        "start_time": "2023-07-05T13:13:23.498Z"
      },
      {
        "duration": 10871,
        "start_time": "2023-07-05T13:13:33.507Z"
      },
      {
        "duration": 1476,
        "start_time": "2023-07-05T13:13:51.844Z"
      },
      {
        "duration": 4,
        "start_time": "2023-07-05T13:15:16.556Z"
      },
      {
        "duration": 4,
        "start_time": "2023-07-05T13:15:17.344Z"
      },
      {
        "duration": 106680,
        "start_time": "2023-07-05T13:15:18.054Z"
      },
      {
        "duration": 27795,
        "start_time": "2023-07-05T13:21:24.933Z"
      },
      {
        "duration": 1744,
        "start_time": "2023-07-05T13:21:56.330Z"
      },
      {
        "duration": 185,
        "start_time": "2023-07-05T13:22:08.559Z"
      },
      {
        "duration": 195,
        "start_time": "2023-07-05T13:24:30.659Z"
      },
      {
        "duration": 190,
        "start_time": "2023-07-05T13:24:34.227Z"
      },
      {
        "duration": 4,
        "start_time": "2023-07-05T13:40:33.591Z"
      },
      {
        "duration": 1615,
        "start_time": "2023-07-05T13:40:34.583Z"
      },
      {
        "duration": 5,
        "start_time": "2023-07-05T13:40:41.227Z"
      },
      {
        "duration": 4,
        "start_time": "2023-07-05T13:40:47.022Z"
      },
      {
        "duration": 14,
        "start_time": "2023-07-05T13:52:26.892Z"
      },
      {
        "duration": 11,
        "start_time": "2023-07-05T13:52:31.738Z"
      },
      {
        "duration": 123,
        "start_time": "2023-07-05T13:52:49.726Z"
      },
      {
        "duration": 13,
        "start_time": "2023-07-05T13:52:53.902Z"
      },
      {
        "duration": 5,
        "start_time": "2023-07-05T13:53:04.408Z"
      },
      {
        "duration": 3,
        "start_time": "2023-07-05T13:59:32.300Z"
      },
      {
        "duration": 2,
        "start_time": "2023-07-05T13:59:37.993Z"
      },
      {
        "duration": 6,
        "start_time": "2023-07-05T14:37:37.568Z"
      },
      {
        "duration": 841,
        "start_time": "2023-07-05T14:37:38.288Z"
      },
      {
        "duration": 4,
        "start_time": "2023-07-05T14:37:39.132Z"
      },
      {
        "duration": 110,
        "start_time": "2023-07-05T14:38:05.626Z"
      },
      {
        "duration": 7,
        "start_time": "2023-07-06T07:21:18.234Z"
      },
      {
        "duration": 2904,
        "start_time": "2023-07-06T07:21:20.358Z"
      },
      {
        "duration": 119,
        "start_time": "2023-07-06T07:21:53.435Z"
      },
      {
        "duration": 765,
        "start_time": "2023-07-06T07:22:39.493Z"
      },
      {
        "duration": 3,
        "start_time": "2023-07-06T07:22:40.910Z"
      },
      {
        "duration": 689,
        "start_time": "2023-07-06T07:22:41.815Z"
      },
      {
        "duration": 523,
        "start_time": "2023-07-06T07:23:36.383Z"
      },
      {
        "duration": 227,
        "start_time": "2023-07-06T07:24:00.898Z"
      },
      {
        "duration": 1964,
        "start_time": "2023-07-06T07:25:15.499Z"
      },
      {
        "duration": 1896,
        "start_time": "2023-07-06T07:38:13.346Z"
      },
      {
        "duration": 675,
        "start_time": "2023-07-06T07:38:54.834Z"
      },
      {
        "duration": 727,
        "start_time": "2023-07-06T07:39:52.061Z"
      },
      {
        "duration": 552,
        "start_time": "2023-07-06T07:40:52.958Z"
      },
      {
        "duration": 599,
        "start_time": "2023-07-06T07:40:53.512Z"
      },
      {
        "duration": 62,
        "start_time": "2023-07-06T07:46:55.551Z"
      },
      {
        "duration": 29,
        "start_time": "2023-07-06T07:47:18.118Z"
      },
      {
        "duration": 113,
        "start_time": "2023-07-06T07:49:12.012Z"
      },
      {
        "duration": 115,
        "start_time": "2023-07-06T07:49:36.313Z"
      },
      {
        "duration": 108,
        "start_time": "2023-07-06T07:49:40.501Z"
      },
      {
        "duration": 7,
        "start_time": "2023-07-06T08:13:38.394Z"
      },
      {
        "duration": 8,
        "start_time": "2023-07-06T08:17:43.886Z"
      },
      {
        "duration": 5,
        "start_time": "2023-07-06T08:17:53.877Z"
      },
      {
        "duration": 2887,
        "start_time": "2023-07-06T08:17:54.745Z"
      },
      {
        "duration": 4,
        "start_time": "2023-07-06T08:17:57.634Z"
      },
      {
        "duration": 807,
        "start_time": "2023-07-06T08:17:57.640Z"
      },
      {
        "duration": 585,
        "start_time": "2023-07-06T08:17:58.450Z"
      },
      {
        "duration": 130,
        "start_time": "2023-07-06T08:17:59.787Z"
      },
      {
        "duration": 54,
        "start_time": "2023-07-06T08:18:09.701Z"
      },
      {
        "duration": 28,
        "start_time": "2023-07-06T08:18:10.387Z"
      },
      {
        "duration": 9,
        "start_time": "2023-07-06T08:18:11.126Z"
      },
      {
        "duration": 243,
        "start_time": "2023-07-06T08:20:02.969Z"
      },
      {
        "duration": 15,
        "start_time": "2023-07-06T08:20:05.397Z"
      },
      {
        "duration": 408,
        "start_time": "2023-07-06T08:20:06.403Z"
      },
      {
        "duration": 10,
        "start_time": "2023-07-06T08:23:24.527Z"
      },
      {
        "duration": 1699,
        "start_time": "2023-07-06T08:23:33.152Z"
      },
      {
        "duration": 1675,
        "start_time": "2023-07-06T08:24:35.897Z"
      },
      {
        "duration": 1951,
        "start_time": "2023-07-06T08:24:44.049Z"
      },
      {
        "duration": 1656,
        "start_time": "2023-07-06T08:25:11.403Z"
      },
      {
        "duration": 20,
        "start_time": "2023-07-06T08:28:33.797Z"
      },
      {
        "duration": 52,
        "start_time": "2023-07-06T08:28:52.098Z"
      },
      {
        "duration": 22,
        "start_time": "2023-07-06T08:28:52.803Z"
      },
      {
        "duration": 67,
        "start_time": "2023-07-06T08:29:24.110Z"
      },
      {
        "duration": 13,
        "start_time": "2023-07-06T08:29:27.108Z"
      },
      {
        "duration": 20,
        "start_time": "2023-07-06T08:29:34.697Z"
      },
      {
        "duration": 15,
        "start_time": "2023-07-06T08:29:35.433Z"
      },
      {
        "duration": 13,
        "start_time": "2023-07-06T08:30:31.458Z"
      },
      {
        "duration": 10,
        "start_time": "2023-07-06T08:30:32.254Z"
      },
      {
        "duration": 5,
        "start_time": "2023-07-06T08:30:40.548Z"
      },
      {
        "duration": 2871,
        "start_time": "2023-07-06T08:30:41.104Z"
      },
      {
        "duration": 5,
        "start_time": "2023-07-06T08:30:43.977Z"
      },
      {
        "duration": 833,
        "start_time": "2023-07-06T08:30:43.984Z"
      },
      {
        "duration": 556,
        "start_time": "2023-07-06T08:30:44.820Z"
      },
      {
        "duration": 27,
        "start_time": "2023-07-06T08:30:45.378Z"
      },
      {
        "duration": 31,
        "start_time": "2023-07-06T08:30:45.406Z"
      },
      {
        "duration": 29,
        "start_time": "2023-07-06T08:30:45.439Z"
      },
      {
        "duration": 210,
        "start_time": "2023-07-06T08:30:45.471Z"
      },
      {
        "duration": 16,
        "start_time": "2023-07-06T08:30:45.683Z"
      },
      {
        "duration": 342,
        "start_time": "2023-07-06T08:30:45.701Z"
      },
      {
        "duration": 55,
        "start_time": "2023-07-06T08:30:47.028Z"
      },
      {
        "duration": 16,
        "start_time": "2023-07-06T08:30:47.778Z"
      },
      {
        "duration": 1235,
        "start_time": "2023-07-06T08:30:54.274Z"
      },
      {
        "duration": 6,
        "start_time": "2023-07-06T08:31:29.560Z"
      },
      {
        "duration": 1010,
        "start_time": "2023-07-06T08:31:29.569Z"
      },
      {
        "duration": 4,
        "start_time": "2023-07-06T08:31:30.582Z"
      },
      {
        "duration": 982,
        "start_time": "2023-07-06T08:31:30.588Z"
      },
      {
        "duration": 741,
        "start_time": "2023-07-06T08:31:31.573Z"
      },
      {
        "duration": 91,
        "start_time": "2023-07-06T08:31:32.316Z"
      },
      {
        "duration": 86,
        "start_time": "2023-07-06T08:31:32.409Z"
      },
      {
        "duration": 32,
        "start_time": "2023-07-06T08:31:32.497Z"
      },
      {
        "duration": 239,
        "start_time": "2023-07-06T08:31:32.532Z"
      },
      {
        "duration": 17,
        "start_time": "2023-07-06T08:31:32.773Z"
      },
      {
        "duration": 460,
        "start_time": "2023-07-06T08:31:32.796Z"
      },
      {
        "duration": 30,
        "start_time": "2023-07-06T08:31:33.258Z"
      },
      {
        "duration": 116,
        "start_time": "2023-07-06T08:33:13.058Z"
      },
      {
        "duration": 236,
        "start_time": "2023-07-06T08:40:09.012Z"
      },
      {
        "duration": 140,
        "start_time": "2023-07-06T08:48:48.496Z"
      },
      {
        "duration": 5,
        "start_time": "2023-07-06T09:29:20.921Z"
      },
      {
        "duration": 155,
        "start_time": "2023-07-06T10:34:40.303Z"
      },
      {
        "duration": 137,
        "start_time": "2023-07-06T10:54:04.257Z"
      },
      {
        "duration": 3,
        "start_time": "2023-07-06T10:54:51.092Z"
      },
      {
        "duration": 6,
        "start_time": "2023-07-06T11:03:10.494Z"
      },
      {
        "duration": 4055,
        "start_time": "2023-07-06T11:03:10.503Z"
      },
      {
        "duration": 13,
        "start_time": "2023-07-06T11:03:14.561Z"
      },
      {
        "duration": 1305,
        "start_time": "2023-07-06T11:03:14.577Z"
      },
      {
        "duration": 810,
        "start_time": "2023-07-06T11:03:15.893Z"
      },
      {
        "duration": 67,
        "start_time": "2023-07-06T11:03:16.725Z"
      },
      {
        "duration": 121,
        "start_time": "2023-07-06T11:03:16.798Z"
      },
      {
        "duration": 12,
        "start_time": "2023-07-06T11:03:16.921Z"
      },
      {
        "duration": 316,
        "start_time": "2023-07-06T11:03:16.935Z"
      },
      {
        "duration": 20,
        "start_time": "2023-07-06T11:03:17.254Z"
      },
      {
        "duration": 522,
        "start_time": "2023-07-06T11:03:17.276Z"
      },
      {
        "duration": 25,
        "start_time": "2023-07-06T11:03:17.800Z"
      },
      {
        "duration": 82,
        "start_time": "2023-07-06T11:03:17.827Z"
      },
      {
        "duration": 30,
        "start_time": "2023-07-06T11:03:17.914Z"
      },
      {
        "duration": 78,
        "start_time": "2023-07-06T11:03:17.946Z"
      },
      {
        "duration": 20,
        "start_time": "2023-07-06T11:03:18.026Z"
      },
      {
        "duration": 126,
        "start_time": "2023-07-06T11:03:18.049Z"
      },
      {
        "duration": 573,
        "start_time": "2023-07-06T11:03:18.185Z"
      },
      {
        "duration": 1058,
        "start_time": "2023-07-06T11:03:18.761Z"
      },
      {
        "duration": 64,
        "start_time": "2023-07-06T11:03:19.821Z"
      },
      {
        "duration": 9,
        "start_time": "2023-07-06T11:03:19.889Z"
      },
      {
        "duration": 62,
        "start_time": "2023-07-06T11:03:19.901Z"
      },
      {
        "duration": 14,
        "start_time": "2023-07-06T11:03:19.965Z"
      },
      {
        "duration": 3839,
        "start_time": "2023-07-06T11:03:19.990Z"
      },
      {
        "duration": 6,
        "start_time": "2023-07-06T11:03:23.838Z"
      },
      {
        "duration": 69,
        "start_time": "2023-07-06T11:03:23.847Z"
      },
      {
        "duration": 10,
        "start_time": "2023-07-06T11:03:23.919Z"
      },
      {
        "duration": 17,
        "start_time": "2023-07-06T11:03:23.932Z"
      },
      {
        "duration": 65,
        "start_time": "2023-07-06T11:03:23.952Z"
      },
      {
        "duration": 85,
        "start_time": "2023-07-06T11:13:36.209Z"
      },
      {
        "duration": 4,
        "start_time": "2023-07-06T11:22:38.035Z"
      },
      {
        "duration": 4,
        "start_time": "2023-07-06T11:22:38.631Z"
      },
      {
        "duration": 78802,
        "start_time": "2023-07-06T11:22:39.079Z"
      },
      {
        "duration": 25612,
        "start_time": "2023-07-06T11:23:57.886Z"
      },
      {
        "duration": 11093,
        "start_time": "2023-07-06T11:24:23.499Z"
      },
      {
        "duration": 50,
        "start_time": "2023-07-06T11:24:34.594Z"
      },
      {
        "duration": 3,
        "start_time": "2023-07-06T11:25:59.686Z"
      },
      {
        "duration": 4,
        "start_time": "2023-07-06T11:26:00.143Z"
      },
      {
        "duration": 413510,
        "start_time": "2023-07-06T11:26:00.897Z"
      },
      {
        "duration": 0,
        "start_time": "2023-07-06T11:32:54.410Z"
      },
      {
        "duration": 0,
        "start_time": "2023-07-06T11:32:54.411Z"
      },
      {
        "duration": 0,
        "start_time": "2023-07-06T11:32:54.412Z"
      },
      {
        "duration": 0,
        "start_time": "2023-07-06T11:32:54.414Z"
      },
      {
        "duration": 0,
        "start_time": "2023-07-06T11:32:54.415Z"
      },
      {
        "duration": 0,
        "start_time": "2023-07-06T11:32:54.417Z"
      },
      {
        "duration": 0,
        "start_time": "2023-07-06T11:32:54.467Z"
      },
      {
        "duration": 0,
        "start_time": "2023-07-06T11:32:54.469Z"
      },
      {
        "duration": 0,
        "start_time": "2023-07-06T11:32:54.470Z"
      },
      {
        "duration": 0,
        "start_time": "2023-07-06T11:32:54.471Z"
      },
      {
        "duration": 0,
        "start_time": "2023-07-06T11:32:54.472Z"
      },
      {
        "duration": 0,
        "start_time": "2023-07-06T11:32:54.473Z"
      },
      {
        "duration": 0,
        "start_time": "2023-07-06T11:32:54.474Z"
      },
      {
        "duration": 0,
        "start_time": "2023-07-06T11:32:54.475Z"
      },
      {
        "duration": 1901,
        "start_time": "2023-07-06T11:33:24.426Z"
      },
      {
        "duration": 0,
        "start_time": "2023-07-06T11:33:26.330Z"
      },
      {
        "duration": 0,
        "start_time": "2023-07-06T11:33:26.332Z"
      },
      {
        "duration": 0,
        "start_time": "2023-07-06T11:33:26.333Z"
      },
      {
        "duration": 0,
        "start_time": "2023-07-06T11:33:26.334Z"
      },
      {
        "duration": 0,
        "start_time": "2023-07-06T11:33:26.335Z"
      },
      {
        "duration": 0,
        "start_time": "2023-07-06T11:33:26.336Z"
      },
      {
        "duration": 0,
        "start_time": "2023-07-06T11:33:26.337Z"
      },
      {
        "duration": 0,
        "start_time": "2023-07-06T11:33:26.339Z"
      },
      {
        "duration": 0,
        "start_time": "2023-07-06T11:33:26.340Z"
      },
      {
        "duration": 0,
        "start_time": "2023-07-06T11:33:26.341Z"
      },
      {
        "duration": 0,
        "start_time": "2023-07-06T11:33:26.342Z"
      },
      {
        "duration": 0,
        "start_time": "2023-07-06T11:33:26.343Z"
      },
      {
        "duration": 0,
        "start_time": "2023-07-06T11:33:26.345Z"
      },
      {
        "duration": 0,
        "start_time": "2023-07-06T11:33:26.346Z"
      },
      {
        "duration": 0,
        "start_time": "2023-07-06T11:33:26.347Z"
      },
      {
        "duration": 0,
        "start_time": "2023-07-06T11:33:26.372Z"
      },
      {
        "duration": 0,
        "start_time": "2023-07-06T11:33:26.373Z"
      },
      {
        "duration": 0,
        "start_time": "2023-07-06T11:33:26.377Z"
      },
      {
        "duration": 0,
        "start_time": "2023-07-06T11:33:26.378Z"
      },
      {
        "duration": 0,
        "start_time": "2023-07-06T11:33:26.380Z"
      },
      {
        "duration": 0,
        "start_time": "2023-07-06T11:33:26.381Z"
      },
      {
        "duration": 0,
        "start_time": "2023-07-06T11:33:26.381Z"
      },
      {
        "duration": 0,
        "start_time": "2023-07-06T11:33:26.382Z"
      },
      {
        "duration": 0,
        "start_time": "2023-07-06T11:33:26.383Z"
      },
      {
        "duration": 0,
        "start_time": "2023-07-06T11:33:26.384Z"
      },
      {
        "duration": 0,
        "start_time": "2023-07-06T11:33:26.384Z"
      },
      {
        "duration": 0,
        "start_time": "2023-07-06T11:33:26.385Z"
      },
      {
        "duration": 0,
        "start_time": "2023-07-06T11:33:26.387Z"
      },
      {
        "duration": 0,
        "start_time": "2023-07-06T11:33:26.390Z"
      },
      {
        "duration": 0,
        "start_time": "2023-07-06T11:33:26.391Z"
      },
      {
        "duration": 0,
        "start_time": "2023-07-06T11:33:26.392Z"
      },
      {
        "duration": 0,
        "start_time": "2023-07-06T11:33:26.394Z"
      },
      {
        "duration": 0,
        "start_time": "2023-07-06T11:33:26.396Z"
      },
      {
        "duration": 0,
        "start_time": "2023-07-06T11:33:26.398Z"
      },
      {
        "duration": 0,
        "start_time": "2023-07-06T11:33:26.399Z"
      },
      {
        "duration": 0,
        "start_time": "2023-07-06T11:33:26.400Z"
      },
      {
        "duration": 0,
        "start_time": "2023-07-06T11:33:26.402Z"
      },
      {
        "duration": 0,
        "start_time": "2023-07-06T11:33:26.403Z"
      },
      {
        "duration": 0,
        "start_time": "2023-07-06T11:33:26.404Z"
      },
      {
        "duration": 0,
        "start_time": "2023-07-06T11:33:26.406Z"
      },
      {
        "duration": 0,
        "start_time": "2023-07-06T11:33:26.408Z"
      },
      {
        "duration": 0,
        "start_time": "2023-07-06T11:33:26.409Z"
      },
      {
        "duration": 0,
        "start_time": "2023-07-06T11:33:26.410Z"
      },
      {
        "duration": 0,
        "start_time": "2023-07-06T11:33:26.412Z"
      },
      {
        "duration": 0,
        "start_time": "2023-07-06T11:33:26.468Z"
      },
      {
        "duration": 0,
        "start_time": "2023-07-06T11:33:26.470Z"
      },
      {
        "duration": 0,
        "start_time": "2023-07-06T11:33:26.471Z"
      },
      {
        "duration": 0,
        "start_time": "2023-07-06T11:33:26.472Z"
      },
      {
        "duration": 1,
        "start_time": "2023-07-06T11:33:26.473Z"
      },
      {
        "duration": 348,
        "start_time": "2023-07-06T11:40:02.146Z"
      },
      {
        "duration": 204,
        "start_time": "2023-07-06T11:40:07.557Z"
      },
      {
        "duration": 171,
        "start_time": "2023-07-06T11:41:02.510Z"
      },
      {
        "duration": 155,
        "start_time": "2023-07-06T11:41:43.995Z"
      },
      {
        "duration": 137,
        "start_time": "2023-07-06T11:43:11.428Z"
      },
      {
        "duration": 1860,
        "start_time": "2023-07-06T11:44:25.433Z"
      },
      {
        "duration": 16,
        "start_time": "2023-07-06T11:46:08.935Z"
      },
      {
        "duration": 4222,
        "start_time": "2023-07-06T11:48:55.693Z"
      },
      {
        "duration": 929,
        "start_time": "2023-07-06T11:49:06.897Z"
      },
      {
        "duration": 5,
        "start_time": "2023-07-06T11:49:07.829Z"
      },
      {
        "duration": 864,
        "start_time": "2023-07-06T11:49:07.836Z"
      },
      {
        "duration": 636,
        "start_time": "2023-07-06T11:49:09.698Z"
      },
      {
        "duration": 35,
        "start_time": "2023-07-06T11:49:10.392Z"
      },
      {
        "duration": 49,
        "start_time": "2023-07-06T11:49:10.610Z"
      },
      {
        "duration": 16,
        "start_time": "2023-07-06T11:49:10.961Z"
      },
      {
        "duration": 287,
        "start_time": "2023-07-06T11:49:11.151Z"
      },
      {
        "duration": 16,
        "start_time": "2023-07-06T11:49:12.038Z"
      },
      {
        "duration": 435,
        "start_time": "2023-07-06T11:49:12.241Z"
      },
      {
        "duration": 24,
        "start_time": "2023-07-06T11:49:12.685Z"
      },
      {
        "duration": 63,
        "start_time": "2023-07-06T11:49:12.827Z"
      },
      {
        "duration": 27,
        "start_time": "2023-07-06T11:49:13.638Z"
      },
      {
        "duration": 65,
        "start_time": "2023-07-06T11:49:14.035Z"
      },
      {
        "duration": 25,
        "start_time": "2023-07-06T11:49:14.358Z"
      },
      {
        "duration": 84,
        "start_time": "2023-07-06T11:49:14.541Z"
      },
      {
        "duration": 370,
        "start_time": "2023-07-06T11:49:15.090Z"
      },
      {
        "duration": 772,
        "start_time": "2023-07-06T11:49:15.468Z"
      },
      {
        "duration": 50,
        "start_time": "2023-07-06T11:49:16.242Z"
      },
      {
        "duration": 3,
        "start_time": "2023-07-06T11:49:16.295Z"
      },
      {
        "duration": 39,
        "start_time": "2023-07-06T11:49:16.451Z"
      },
      {
        "duration": 4,
        "start_time": "2023-07-06T11:49:17.890Z"
      },
      {
        "duration": 3,
        "start_time": "2023-07-06T11:49:18.946Z"
      },
      {
        "duration": 102,
        "start_time": "2023-07-06T11:49:19.127Z"
      },
      {
        "duration": 1516,
        "start_time": "2023-07-06T11:49:19.290Z"
      },
      {
        "duration": 5,
        "start_time": "2023-07-06T11:49:20.809Z"
      },
      {
        "duration": 147,
        "start_time": "2023-07-06T11:49:20.816Z"
      },
      {
        "duration": 36,
        "start_time": "2023-07-06T11:49:20.967Z"
      },
      {
        "duration": 4,
        "start_time": "2023-07-06T11:49:22.164Z"
      },
      {
        "duration": 4,
        "start_time": "2023-07-06T11:49:22.309Z"
      },
      {
        "duration": 24,
        "start_time": "2023-07-06T11:49:22.502Z"
      },
      {
        "duration": 124,
        "start_time": "2023-07-06T11:49:22.693Z"
      },
      {
        "duration": 37283,
        "start_time": "2023-07-06T11:49:22.896Z"
      },
      {
        "duration": 68,
        "start_time": "2023-07-06T11:50:00.191Z"
      },
      {
        "duration": 3,
        "start_time": "2023-07-06T11:50:00.261Z"
      },
      {
        "duration": 55,
        "start_time": "2023-07-06T11:50:00.267Z"
      },
      {
        "duration": 624457,
        "start_time": "2023-07-06T11:50:00.326Z"
      },
      {
        "duration": 0,
        "start_time": "2023-07-06T12:00:24.788Z"
      },
      {
        "duration": 1,
        "start_time": "2023-07-06T12:00:24.789Z"
      },
      {
        "duration": 0,
        "start_time": "2023-07-06T12:00:24.791Z"
      },
      {
        "duration": 0,
        "start_time": "2023-07-06T12:00:24.793Z"
      },
      {
        "duration": 0,
        "start_time": "2023-07-06T12:00:24.795Z"
      },
      {
        "duration": 0,
        "start_time": "2023-07-06T12:00:24.796Z"
      },
      {
        "duration": 0,
        "start_time": "2023-07-06T12:00:24.797Z"
      },
      {
        "duration": 0,
        "start_time": "2023-07-06T12:00:24.798Z"
      },
      {
        "duration": 0,
        "start_time": "2023-07-06T12:00:24.799Z"
      },
      {
        "duration": 0,
        "start_time": "2023-07-06T12:00:24.801Z"
      },
      {
        "duration": 0,
        "start_time": "2023-07-06T12:00:24.802Z"
      },
      {
        "duration": 0,
        "start_time": "2023-07-06T12:00:24.804Z"
      },
      {
        "duration": 0,
        "start_time": "2023-07-06T12:00:24.805Z"
      },
      {
        "duration": 0,
        "start_time": "2023-07-06T12:00:24.806Z"
      },
      {
        "duration": 15,
        "start_time": "2023-07-06T12:00:27.833Z"
      },
      {
        "duration": 4,
        "start_time": "2023-07-06T12:00:39.420Z"
      },
      {
        "duration": 4,
        "start_time": "2023-07-06T12:00:40.096Z"
      },
      {
        "duration": 95390,
        "start_time": "2023-07-06T12:00:40.703Z"
      },
      {
        "duration": 32838,
        "start_time": "2023-07-06T12:02:19.019Z"
      },
      {
        "duration": 14598,
        "start_time": "2023-07-06T12:02:53.657Z"
      },
      {
        "duration": 84,
        "start_time": "2023-07-06T12:03:14.113Z"
      },
      {
        "duration": 3,
        "start_time": "2023-07-06T12:04:56.148Z"
      },
      {
        "duration": 4,
        "start_time": "2023-07-06T12:04:56.597Z"
      },
      {
        "duration": 267518,
        "start_time": "2023-07-06T12:04:57.088Z"
      },
      {
        "duration": 0,
        "start_time": "2023-07-06T12:09:24.608Z"
      },
      {
        "duration": 0,
        "start_time": "2023-07-06T12:09:24.611Z"
      },
      {
        "duration": 0,
        "start_time": "2023-07-06T12:09:24.612Z"
      },
      {
        "duration": 0,
        "start_time": "2023-07-06T12:16:45.510Z"
      },
      {
        "duration": 4,
        "start_time": "2023-07-06T12:16:47.322Z"
      },
      {
        "duration": 3,
        "start_time": "2023-07-06T12:16:47.750Z"
      },
      {
        "duration": 2853666,
        "start_time": "2023-07-06T12:16:48.401Z"
      },
      {
        "duration": 55334,
        "start_time": "2023-07-06T13:08:07.791Z"
      },
      {
        "duration": 9488,
        "start_time": "2023-07-06T13:09:03.128Z"
      },
      {
        "duration": 128,
        "start_time": "2023-07-06T13:09:12.619Z"
      },
      {
        "duration": 8654,
        "start_time": "2023-07-06T13:09:12.753Z"
      },
      {
        "duration": 343315,
        "start_time": "2023-07-06T13:09:25.524Z"
      },
      {
        "duration": 279884,
        "start_time": "2023-07-06T13:19:43.407Z"
      },
      {
        "duration": 347,
        "start_time": "2023-07-06T13:41:24.520Z"
      },
      {
        "duration": 5,
        "start_time": "2023-07-06T13:41:39.524Z"
      },
      {
        "duration": 6,
        "start_time": "2023-07-06T13:41:40.706Z"
      },
      {
        "duration": 134926,
        "start_time": "2023-07-06T13:41:44.632Z"
      },
      {
        "duration": 2144,
        "start_time": "2023-07-06T13:44:54.386Z"
      },
      {
        "duration": 150,
        "start_time": "2023-07-06T13:44:57.299Z"
      },
      {
        "duration": 2340,
        "start_time": "2023-07-06T13:45:20.813Z"
      },
      {
        "duration": 61,
        "start_time": "2023-07-06T13:45:24.090Z"
      },
      {
        "duration": 20,
        "start_time": "2023-07-06T13:45:36.056Z"
      },
      {
        "duration": 5,
        "start_time": "2023-07-06T13:46:12.033Z"
      },
      {
        "duration": 127,
        "start_time": "2023-07-06T13:46:13.077Z"
      },
      {
        "duration": 172,
        "start_time": "2023-07-06T13:46:29.112Z"
      },
      {
        "duration": 4,
        "start_time": "2023-07-06T13:47:04.452Z"
      },
      {
        "duration": 178,
        "start_time": "2023-07-06T13:47:05.100Z"
      },
      {
        "duration": 11,
        "start_time": "2023-07-06T13:47:06.113Z"
      },
      {
        "duration": 4,
        "start_time": "2023-07-06T13:47:07.058Z"
      },
      {
        "duration": 128,
        "start_time": "2023-07-06T13:47:58.436Z"
      },
      {
        "duration": 11,
        "start_time": "2023-07-06T13:47:59.296Z"
      },
      {
        "duration": 4,
        "start_time": "2023-07-06T13:48:00.249Z"
      },
      {
        "duration": 3,
        "start_time": "2023-07-06T13:48:15.334Z"
      },
      {
        "duration": 3,
        "start_time": "2023-07-06T13:48:16.043Z"
      },
      {
        "duration": 136805,
        "start_time": "2023-07-06T13:48:16.718Z"
      },
      {
        "duration": 2536,
        "start_time": "2023-07-06T13:50:33.525Z"
      },
      {
        "duration": 53,
        "start_time": "2023-07-06T13:50:38.626Z"
      },
      {
        "duration": 5,
        "start_time": "2023-07-06T13:50:41.213Z"
      },
      {
        "duration": 166,
        "start_time": "2023-07-06T13:50:42.226Z"
      },
      {
        "duration": 53,
        "start_time": "2023-07-06T13:57:27.164Z"
      },
      {
        "duration": 5,
        "start_time": "2023-07-06T13:57:28.941Z"
      },
      {
        "duration": 4,
        "start_time": "2023-07-06T13:57:30.010Z"
      },
      {
        "duration": 114,
        "start_time": "2023-07-07T07:07:22.449Z"
      },
      {
        "duration": 687,
        "start_time": "2023-07-07T08:30:09.196Z"
      },
      {
        "duration": 15,
        "start_time": "2023-07-07T08:30:19.892Z"
      },
      {
        "duration": 1564,
        "start_time": "2023-07-07T08:30:43.258Z"
      },
      {
        "duration": 904,
        "start_time": "2023-07-07T08:30:44.828Z"
      },
      {
        "duration": 368,
        "start_time": "2023-07-07T08:30:45.734Z"
      },
      {
        "duration": 5682,
        "start_time": "2023-07-07T08:31:14.916Z"
      },
      {
        "duration": 5963,
        "start_time": "2023-07-07T08:39:19.954Z"
      },
      {
        "duration": 1755,
        "start_time": "2023-07-07T08:41:46.137Z"
      },
      {
        "duration": 0,
        "start_time": "2023-07-07T08:41:47.895Z"
      },
      {
        "duration": 0,
        "start_time": "2023-07-07T08:41:47.896Z"
      },
      {
        "duration": 0,
        "start_time": "2023-07-07T08:41:47.898Z"
      },
      {
        "duration": 0,
        "start_time": "2023-07-07T08:41:47.899Z"
      },
      {
        "duration": 0,
        "start_time": "2023-07-07T08:41:47.900Z"
      },
      {
        "duration": 0,
        "start_time": "2023-07-07T08:41:47.902Z"
      },
      {
        "duration": 0,
        "start_time": "2023-07-07T08:41:47.903Z"
      },
      {
        "duration": 0,
        "start_time": "2023-07-07T08:41:47.904Z"
      },
      {
        "duration": 0,
        "start_time": "2023-07-07T08:41:47.905Z"
      },
      {
        "duration": 0,
        "start_time": "2023-07-07T08:41:47.907Z"
      },
      {
        "duration": 0,
        "start_time": "2023-07-07T08:41:47.908Z"
      },
      {
        "duration": 0,
        "start_time": "2023-07-07T08:41:47.909Z"
      },
      {
        "duration": 0,
        "start_time": "2023-07-07T08:41:47.910Z"
      },
      {
        "duration": 0,
        "start_time": "2023-07-07T08:41:47.911Z"
      },
      {
        "duration": 0,
        "start_time": "2023-07-07T08:41:47.912Z"
      },
      {
        "duration": 0,
        "start_time": "2023-07-07T08:41:47.913Z"
      },
      {
        "duration": 0,
        "start_time": "2023-07-07T08:41:47.915Z"
      },
      {
        "duration": 0,
        "start_time": "2023-07-07T08:41:47.916Z"
      },
      {
        "duration": 0,
        "start_time": "2023-07-07T08:41:47.917Z"
      },
      {
        "duration": 0,
        "start_time": "2023-07-07T08:41:47.918Z"
      },
      {
        "duration": 0,
        "start_time": "2023-07-07T08:41:47.920Z"
      },
      {
        "duration": 0,
        "start_time": "2023-07-07T08:41:47.921Z"
      },
      {
        "duration": 0,
        "start_time": "2023-07-07T08:41:47.922Z"
      },
      {
        "duration": 11,
        "start_time": "2023-07-07T08:42:07.771Z"
      },
      {
        "duration": 2357,
        "start_time": "2023-07-07T08:42:25.187Z"
      },
      {
        "duration": 909,
        "start_time": "2023-07-07T08:42:28.695Z"
      },
      {
        "duration": 4,
        "start_time": "2023-07-07T08:42:29.606Z"
      },
      {
        "duration": 794,
        "start_time": "2023-07-07T08:42:29.611Z"
      },
      {
        "duration": 637,
        "start_time": "2023-07-07T08:42:30.407Z"
      },
      {
        "duration": 30,
        "start_time": "2023-07-07T08:42:31.046Z"
      },
      {
        "duration": 75,
        "start_time": "2023-07-07T08:42:31.078Z"
      },
      {
        "duration": 63,
        "start_time": "2023-07-07T08:42:31.155Z"
      },
      {
        "duration": 271,
        "start_time": "2023-07-07T08:42:31.220Z"
      },
      {
        "duration": 15,
        "start_time": "2023-07-07T08:42:32.441Z"
      },
      {
        "duration": 361,
        "start_time": "2023-07-07T08:42:32.599Z"
      },
      {
        "duration": 21,
        "start_time": "2023-07-07T08:42:32.962Z"
      },
      {
        "duration": 48,
        "start_time": "2023-07-07T08:42:33.078Z"
      },
      {
        "duration": 21,
        "start_time": "2023-07-07T08:42:33.757Z"
      },
      {
        "duration": 58,
        "start_time": "2023-07-07T08:42:34.095Z"
      },
      {
        "duration": 19,
        "start_time": "2023-07-07T08:42:34.423Z"
      },
      {
        "duration": 102,
        "start_time": "2023-07-07T08:42:34.579Z"
      },
      {
        "duration": 372,
        "start_time": "2023-07-07T08:42:35.062Z"
      },
      {
        "duration": 716,
        "start_time": "2023-07-07T08:42:35.436Z"
      },
      {
        "duration": 45,
        "start_time": "2023-07-07T08:42:36.155Z"
      },
      {
        "duration": 4,
        "start_time": "2023-07-07T08:42:36.606Z"
      },
      {
        "duration": 36,
        "start_time": "2023-07-07T08:42:37.054Z"
      },
      {
        "duration": 3,
        "start_time": "2023-07-07T08:42:39.653Z"
      },
      {
        "duration": 4,
        "start_time": "2023-07-07T08:42:42.277Z"
      },
      {
        "duration": 86,
        "start_time": "2023-07-07T08:42:43.017Z"
      },
      {
        "duration": 1185,
        "start_time": "2023-07-07T08:42:44.275Z"
      },
      {
        "duration": 749,
        "start_time": "2023-07-07T08:42:45.463Z"
      },
      {
        "duration": 367,
        "start_time": "2023-07-07T08:42:46.843Z"
      },
      {
        "duration": 5322,
        "start_time": "2023-07-07T08:42:47.753Z"
      },
      {
        "duration": 122,
        "start_time": "2023-07-07T08:44:51.084Z"
      },
      {
        "duration": 500,
        "start_time": "2023-07-07T08:44:51.853Z"
      },
      {
        "duration": 79,
        "start_time": "2023-07-07T08:52:15.938Z"
      },
      {
        "duration": 113,
        "start_time": "2023-07-07T08:52:17.111Z"
      },
      {
        "duration": 497,
        "start_time": "2023-07-07T08:52:18.011Z"
      },
      {
        "duration": 104,
        "start_time": "2023-07-07T08:55:53.405Z"
      },
      {
        "duration": 103,
        "start_time": "2023-07-07T08:56:26.188Z"
      },
      {
        "duration": 429,
        "start_time": "2023-07-07T08:56:35.368Z"
      },
      {
        "duration": 22,
        "start_time": "2023-07-07T08:58:25.125Z"
      },
      {
        "duration": 99,
        "start_time": "2023-07-07T08:58:25.890Z"
      },
      {
        "duration": 409,
        "start_time": "2023-07-07T08:58:27.070Z"
      },
      {
        "duration": 23,
        "start_time": "2023-07-07T09:01:08.036Z"
      },
      {
        "duration": 100,
        "start_time": "2023-07-07T09:01:08.678Z"
      },
      {
        "duration": 12,
        "start_time": "2023-07-07T09:07:43.005Z"
      },
      {
        "duration": 295,
        "start_time": "2023-07-07T09:09:29.534Z"
      },
      {
        "duration": 332,
        "start_time": "2023-07-07T09:10:48.743Z"
      },
      {
        "duration": 487,
        "start_time": "2023-07-07T09:11:02.158Z"
      },
      {
        "duration": 15,
        "start_time": "2023-07-07T09:11:12.055Z"
      },
      {
        "duration": 14,
        "start_time": "2023-07-07T09:12:02.894Z"
      },
      {
        "duration": 3,
        "start_time": "2023-07-07T09:15:04.730Z"
      },
      {
        "duration": 302,
        "start_time": "2023-07-07T09:15:18.410Z"
      },
      {
        "duration": 460,
        "start_time": "2023-07-07T09:19:22.473Z"
      },
      {
        "duration": 34,
        "start_time": "2023-07-07T09:19:55.332Z"
      },
      {
        "duration": 294,
        "start_time": "2023-07-07T09:20:14.727Z"
      },
      {
        "duration": 532,
        "start_time": "2023-07-07T09:21:27.192Z"
      },
      {
        "duration": 43,
        "start_time": "2023-07-07T09:27:14.250Z"
      },
      {
        "duration": 465,
        "start_time": "2023-07-07T09:27:14.974Z"
      },
      {
        "duration": 578,
        "start_time": "2023-07-07T09:27:16.090Z"
      },
      {
        "duration": 97,
        "start_time": "2023-09-29T08:23:46.675Z"
      }
    ],
    "kernelspec": {
      "display_name": "Python 3 (ipykernel)",
      "language": "python",
      "name": "python3"
    },
    "language_info": {
      "codemirror_mode": {
        "name": "ipython",
        "version": 3
      },
      "file_extension": ".py",
      "mimetype": "text/x-python",
      "name": "python",
      "nbconvert_exporter": "python",
      "pygments_lexer": "ipython3",
      "version": "3.9.5"
    },
    "toc": {
      "base_numbering": 1,
      "nav_menu": {},
      "number_sections": true,
      "sideBar": true,
      "skip_h1_title": true,
      "title_cell": "Table of Contents",
      "title_sidebar": "Contents",
      "toc_cell": false,
      "toc_position": {
        "height": "calc(100% - 180px)",
        "left": "10px",
        "top": "150px",
        "width": "165px"
      },
      "toc_section_display": true,
      "toc_window_display": true
    },
    "colab": {
      "provenance": []
    }
  },
  "nbformat": 4,
  "nbformat_minor": 0
}