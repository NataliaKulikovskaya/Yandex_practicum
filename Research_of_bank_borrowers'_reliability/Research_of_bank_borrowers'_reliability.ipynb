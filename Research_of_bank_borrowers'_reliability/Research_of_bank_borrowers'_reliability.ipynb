{
  "cells": [
    {
      "cell_type": "markdown",
      "id": "e29d5f93",
      "metadata": {
        "deletable": false,
        "editable": false,
        "id": "e29d5f93"
      },
      "source": [
        "# Исследование надежности заемщиков банка\n"
      ]
    },
    {
      "cell_type": "markdown",
      "id": "21b0fbe4",
      "metadata": {
        "id": "21b0fbe4"
      },
      "source": [
        "## Описание проекта\n"
      ]
    },
    {
      "cell_type": "markdown",
      "source": [
        "На основе статистики о платёжеспособности клиентов исследовать влияет ли семейное положение и количество детей клиента на факт возврата кредита в срок.\n"
      ],
      "metadata": {
        "id": "1iw2SyjNRs-_"
      },
      "id": "1iw2SyjNRs-_"
    },
    {
      "cell_type": "markdown",
      "source": [
        "Нужно рассмотреть следующие вопросы:\n",
        "1. Есть ли зависимость между количеством детей и возвратом кредита в срок?\n",
        "\n",
        "2. Есть ли зависимость между семейным положением и возвратом кредита в срок?\n",
        "\n",
        "3. Есть ли зависимость между уровнем дохода и возвратом кредита в срок?\n",
        "\n",
        "4. Как разные цели кредита влияют на его возврат в срок?"
      ],
      "metadata": {
        "id": "Uh5oMjTUTIyS"
      },
      "id": "Uh5oMjTUTIyS"
    },
    {
      "cell_type": "markdown",
      "id": "0db11f8f",
      "metadata": {
        "id": "0db11f8f"
      },
      "source": [
        "* `children` — количество детей в семье\n",
        "* `days_employed` — общий трудовой стаж в днях\n",
        "* `dob_years` — возраст клиента в годах\n",
        "* `education` — уровень образования клиента\n",
        "* `education_id` — идентификатор уровня образования\n",
        "* `family_status` — семейное положение\n",
        "* `family_status_id` — идентификатор семейного положения\n",
        "* `gender` — пол клиента\n",
        "* `income_type` — тип занятости\n",
        "* `debt` — имел ли задолженность по возврату кредитов\n",
        "* `total_income` — ежемесячный доход\n",
        "* `purpose` — цель получения кредита"
      ]
    },
    {
      "cell_type": "markdown",
      "id": "cbd2ad41",
      "metadata": {
        "deletable": false,
        "editable": false,
        "id": "cbd2ad41"
      },
      "source": [
        "## Загрузка и обзор данных"
      ]
    },
    {
      "cell_type": "code",
      "execution_count": 2,
      "id": "3a1433cd",
      "metadata": {
        "deletable": false,
        "id": "3a1433cd"
      },
      "outputs": [],
      "source": [
        "# Загрузка библиотек\n",
        "\n",
        "import pandas as pd"
      ]
    },
    {
      "cell_type": "code",
      "source": [
        "# Чтение данных из файла\n",
        "\n",
        "data = pd.read_csv('/datasets/data.csv')"
      ],
      "metadata": {
        "id": "f-sMPOAOTdVs"
      },
      "id": "f-sMPOAOTdVs",
      "execution_count": 3,
      "outputs": []
    },
    {
      "cell_type": "code",
      "execution_count": 4,
      "id": "1091c55f",
      "metadata": {
        "deletable": false,
        "id": "1091c55f",
        "outputId": "decfd08b-9448-4d57-a012-3899ac3ea1b7",
        "colab": {
          "base_uri": "https://localhost:8080/",
          "height": 432
        }
      },
      "outputs": [
        {
          "output_type": "execute_result",
          "data": {
            "text/plain": [
              "   children  days_employed  dob_years education  education_id  \\\n",
              "0         1   -8437.673028         42    высшее             0   \n",
              "1         1   -4024.803754         36   среднее             1   \n",
              "2         0   -5623.422610         33   Среднее             1   \n",
              "3         3   -4124.747207         32   среднее             1   \n",
              "4         0  340266.072047         53   среднее             1   \n",
              "5         0    -926.185831         27    высшее             0   \n",
              "6         0   -2879.202052         43    высшее             0   \n",
              "7         0    -152.779569         50   СРЕДНЕЕ             1   \n",
              "8         2   -6929.865299         35    ВЫСШЕЕ             0   \n",
              "9         0   -2188.756445         41   среднее             1   \n",
              "\n",
              "      family_status  family_status_id gender income_type  debt   total_income  \\\n",
              "0   женат / замужем                 0      F   сотрудник     0  253875.639453   \n",
              "1   женат / замужем                 0      F   сотрудник     0  112080.014102   \n",
              "2   женат / замужем                 0      M   сотрудник     0  145885.952297   \n",
              "3   женат / замужем                 0      M   сотрудник     0  267628.550329   \n",
              "4  гражданский брак                 1      F   пенсионер     0  158616.077870   \n",
              "5  гражданский брак                 1      M   компаньон     0  255763.565419   \n",
              "6   женат / замужем                 0      F   компаньон     0  240525.971920   \n",
              "7   женат / замужем                 0      M   сотрудник     0  135823.934197   \n",
              "8  гражданский брак                 1      F   сотрудник     0   95856.832424   \n",
              "9   женат / замужем                 0      M   сотрудник     0  144425.938277   \n",
              "\n",
              "                      purpose  \n",
              "0               покупка жилья  \n",
              "1     приобретение автомобиля  \n",
              "2               покупка жилья  \n",
              "3  дополнительное образование  \n",
              "4             сыграть свадьбу  \n",
              "5               покупка жилья  \n",
              "6           операции с жильем  \n",
              "7                 образование  \n",
              "8       на проведение свадьбы  \n",
              "9     покупка жилья для семьи  "
            ],
            "text/html": [
              "\n",
              "  <div id=\"df-43ff1d24-6b6d-4afe-93aa-a7f6e4e776d0\" class=\"colab-df-container\">\n",
              "    <div>\n",
              "<style scoped>\n",
              "    .dataframe tbody tr th:only-of-type {\n",
              "        vertical-align: middle;\n",
              "    }\n",
              "\n",
              "    .dataframe tbody tr th {\n",
              "        vertical-align: top;\n",
              "    }\n",
              "\n",
              "    .dataframe thead th {\n",
              "        text-align: right;\n",
              "    }\n",
              "</style>\n",
              "<table border=\"1\" class=\"dataframe\">\n",
              "  <thead>\n",
              "    <tr style=\"text-align: right;\">\n",
              "      <th></th>\n",
              "      <th>children</th>\n",
              "      <th>days_employed</th>\n",
              "      <th>dob_years</th>\n",
              "      <th>education</th>\n",
              "      <th>education_id</th>\n",
              "      <th>family_status</th>\n",
              "      <th>family_status_id</th>\n",
              "      <th>gender</th>\n",
              "      <th>income_type</th>\n",
              "      <th>debt</th>\n",
              "      <th>total_income</th>\n",
              "      <th>purpose</th>\n",
              "    </tr>\n",
              "  </thead>\n",
              "  <tbody>\n",
              "    <tr>\n",
              "      <th>0</th>\n",
              "      <td>1</td>\n",
              "      <td>-8437.673028</td>\n",
              "      <td>42</td>\n",
              "      <td>высшее</td>\n",
              "      <td>0</td>\n",
              "      <td>женат / замужем</td>\n",
              "      <td>0</td>\n",
              "      <td>F</td>\n",
              "      <td>сотрудник</td>\n",
              "      <td>0</td>\n",
              "      <td>253875.639453</td>\n",
              "      <td>покупка жилья</td>\n",
              "    </tr>\n",
              "    <tr>\n",
              "      <th>1</th>\n",
              "      <td>1</td>\n",
              "      <td>-4024.803754</td>\n",
              "      <td>36</td>\n",
              "      <td>среднее</td>\n",
              "      <td>1</td>\n",
              "      <td>женат / замужем</td>\n",
              "      <td>0</td>\n",
              "      <td>F</td>\n",
              "      <td>сотрудник</td>\n",
              "      <td>0</td>\n",
              "      <td>112080.014102</td>\n",
              "      <td>приобретение автомобиля</td>\n",
              "    </tr>\n",
              "    <tr>\n",
              "      <th>2</th>\n",
              "      <td>0</td>\n",
              "      <td>-5623.422610</td>\n",
              "      <td>33</td>\n",
              "      <td>Среднее</td>\n",
              "      <td>1</td>\n",
              "      <td>женат / замужем</td>\n",
              "      <td>0</td>\n",
              "      <td>M</td>\n",
              "      <td>сотрудник</td>\n",
              "      <td>0</td>\n",
              "      <td>145885.952297</td>\n",
              "      <td>покупка жилья</td>\n",
              "    </tr>\n",
              "    <tr>\n",
              "      <th>3</th>\n",
              "      <td>3</td>\n",
              "      <td>-4124.747207</td>\n",
              "      <td>32</td>\n",
              "      <td>среднее</td>\n",
              "      <td>1</td>\n",
              "      <td>женат / замужем</td>\n",
              "      <td>0</td>\n",
              "      <td>M</td>\n",
              "      <td>сотрудник</td>\n",
              "      <td>0</td>\n",
              "      <td>267628.550329</td>\n",
              "      <td>дополнительное образование</td>\n",
              "    </tr>\n",
              "    <tr>\n",
              "      <th>4</th>\n",
              "      <td>0</td>\n",
              "      <td>340266.072047</td>\n",
              "      <td>53</td>\n",
              "      <td>среднее</td>\n",
              "      <td>1</td>\n",
              "      <td>гражданский брак</td>\n",
              "      <td>1</td>\n",
              "      <td>F</td>\n",
              "      <td>пенсионер</td>\n",
              "      <td>0</td>\n",
              "      <td>158616.077870</td>\n",
              "      <td>сыграть свадьбу</td>\n",
              "    </tr>\n",
              "    <tr>\n",
              "      <th>5</th>\n",
              "      <td>0</td>\n",
              "      <td>-926.185831</td>\n",
              "      <td>27</td>\n",
              "      <td>высшее</td>\n",
              "      <td>0</td>\n",
              "      <td>гражданский брак</td>\n",
              "      <td>1</td>\n",
              "      <td>M</td>\n",
              "      <td>компаньон</td>\n",
              "      <td>0</td>\n",
              "      <td>255763.565419</td>\n",
              "      <td>покупка жилья</td>\n",
              "    </tr>\n",
              "    <tr>\n",
              "      <th>6</th>\n",
              "      <td>0</td>\n",
              "      <td>-2879.202052</td>\n",
              "      <td>43</td>\n",
              "      <td>высшее</td>\n",
              "      <td>0</td>\n",
              "      <td>женат / замужем</td>\n",
              "      <td>0</td>\n",
              "      <td>F</td>\n",
              "      <td>компаньон</td>\n",
              "      <td>0</td>\n",
              "      <td>240525.971920</td>\n",
              "      <td>операции с жильем</td>\n",
              "    </tr>\n",
              "    <tr>\n",
              "      <th>7</th>\n",
              "      <td>0</td>\n",
              "      <td>-152.779569</td>\n",
              "      <td>50</td>\n",
              "      <td>СРЕДНЕЕ</td>\n",
              "      <td>1</td>\n",
              "      <td>женат / замужем</td>\n",
              "      <td>0</td>\n",
              "      <td>M</td>\n",
              "      <td>сотрудник</td>\n",
              "      <td>0</td>\n",
              "      <td>135823.934197</td>\n",
              "      <td>образование</td>\n",
              "    </tr>\n",
              "    <tr>\n",
              "      <th>8</th>\n",
              "      <td>2</td>\n",
              "      <td>-6929.865299</td>\n",
              "      <td>35</td>\n",
              "      <td>ВЫСШЕЕ</td>\n",
              "      <td>0</td>\n",
              "      <td>гражданский брак</td>\n",
              "      <td>1</td>\n",
              "      <td>F</td>\n",
              "      <td>сотрудник</td>\n",
              "      <td>0</td>\n",
              "      <td>95856.832424</td>\n",
              "      <td>на проведение свадьбы</td>\n",
              "    </tr>\n",
              "    <tr>\n",
              "      <th>9</th>\n",
              "      <td>0</td>\n",
              "      <td>-2188.756445</td>\n",
              "      <td>41</td>\n",
              "      <td>среднее</td>\n",
              "      <td>1</td>\n",
              "      <td>женат / замужем</td>\n",
              "      <td>0</td>\n",
              "      <td>M</td>\n",
              "      <td>сотрудник</td>\n",
              "      <td>0</td>\n",
              "      <td>144425.938277</td>\n",
              "      <td>покупка жилья для семьи</td>\n",
              "    </tr>\n",
              "  </tbody>\n",
              "</table>\n",
              "</div>\n",
              "    <div class=\"colab-df-buttons\">\n",
              "\n",
              "  <div class=\"colab-df-container\">\n",
              "    <button class=\"colab-df-convert\" onclick=\"convertToInteractive('df-43ff1d24-6b6d-4afe-93aa-a7f6e4e776d0')\"\n",
              "            title=\"Convert this dataframe to an interactive table.\"\n",
              "            style=\"display:none;\">\n",
              "\n",
              "  <svg xmlns=\"http://www.w3.org/2000/svg\" height=\"24px\" viewBox=\"0 -960 960 960\">\n",
              "    <path d=\"M120-120v-720h720v720H120Zm60-500h600v-160H180v160Zm220 220h160v-160H400v160Zm0 220h160v-160H400v160ZM180-400h160v-160H180v160Zm440 0h160v-160H620v160ZM180-180h160v-160H180v160Zm440 0h160v-160H620v160Z\"/>\n",
              "  </svg>\n",
              "    </button>\n",
              "\n",
              "  <style>\n",
              "    .colab-df-container {\n",
              "      display:flex;\n",
              "      gap: 12px;\n",
              "    }\n",
              "\n",
              "    .colab-df-convert {\n",
              "      background-color: #E8F0FE;\n",
              "      border: none;\n",
              "      border-radius: 50%;\n",
              "      cursor: pointer;\n",
              "      display: none;\n",
              "      fill: #1967D2;\n",
              "      height: 32px;\n",
              "      padding: 0 0 0 0;\n",
              "      width: 32px;\n",
              "    }\n",
              "\n",
              "    .colab-df-convert:hover {\n",
              "      background-color: #E2EBFA;\n",
              "      box-shadow: 0px 1px 2px rgba(60, 64, 67, 0.3), 0px 1px 3px 1px rgba(60, 64, 67, 0.15);\n",
              "      fill: #174EA6;\n",
              "    }\n",
              "\n",
              "    .colab-df-buttons div {\n",
              "      margin-bottom: 4px;\n",
              "    }\n",
              "\n",
              "    [theme=dark] .colab-df-convert {\n",
              "      background-color: #3B4455;\n",
              "      fill: #D2E3FC;\n",
              "    }\n",
              "\n",
              "    [theme=dark] .colab-df-convert:hover {\n",
              "      background-color: #434B5C;\n",
              "      box-shadow: 0px 1px 3px 1px rgba(0, 0, 0, 0.15);\n",
              "      filter: drop-shadow(0px 1px 2px rgba(0, 0, 0, 0.3));\n",
              "      fill: #FFFFFF;\n",
              "    }\n",
              "  </style>\n",
              "\n",
              "    <script>\n",
              "      const buttonEl =\n",
              "        document.querySelector('#df-43ff1d24-6b6d-4afe-93aa-a7f6e4e776d0 button.colab-df-convert');\n",
              "      buttonEl.style.display =\n",
              "        google.colab.kernel.accessAllowed ? 'block' : 'none';\n",
              "\n",
              "      async function convertToInteractive(key) {\n",
              "        const element = document.querySelector('#df-43ff1d24-6b6d-4afe-93aa-a7f6e4e776d0');\n",
              "        const dataTable =\n",
              "          await google.colab.kernel.invokeFunction('convertToInteractive',\n",
              "                                                    [key], {});\n",
              "        if (!dataTable) return;\n",
              "\n",
              "        const docLinkHtml = 'Like what you see? Visit the ' +\n",
              "          '<a target=\"_blank\" href=https://colab.research.google.com/notebooks/data_table.ipynb>data table notebook</a>'\n",
              "          + ' to learn more about interactive tables.';\n",
              "        element.innerHTML = '';\n",
              "        dataTable['output_type'] = 'display_data';\n",
              "        await google.colab.output.renderOutput(dataTable, element);\n",
              "        const docLink = document.createElement('div');\n",
              "        docLink.innerHTML = docLinkHtml;\n",
              "        element.appendChild(docLink);\n",
              "      }\n",
              "    </script>\n",
              "  </div>\n",
              "\n",
              "\n",
              "<div id=\"df-0f1e157e-2469-4f3f-a8ff-3db3eaa0cee0\">\n",
              "  <button class=\"colab-df-quickchart\" onclick=\"quickchart('df-0f1e157e-2469-4f3f-a8ff-3db3eaa0cee0')\"\n",
              "            title=\"Suggest charts\"\n",
              "            style=\"display:none;\">\n",
              "\n",
              "<svg xmlns=\"http://www.w3.org/2000/svg\" height=\"24px\"viewBox=\"0 0 24 24\"\n",
              "     width=\"24px\">\n",
              "    <g>\n",
              "        <path d=\"M19 3H5c-1.1 0-2 .9-2 2v14c0 1.1.9 2 2 2h14c1.1 0 2-.9 2-2V5c0-1.1-.9-2-2-2zM9 17H7v-7h2v7zm4 0h-2V7h2v10zm4 0h-2v-4h2v4z\"/>\n",
              "    </g>\n",
              "</svg>\n",
              "  </button>\n",
              "\n",
              "<style>\n",
              "  .colab-df-quickchart {\n",
              "      --bg-color: #E8F0FE;\n",
              "      --fill-color: #1967D2;\n",
              "      --hover-bg-color: #E2EBFA;\n",
              "      --hover-fill-color: #174EA6;\n",
              "      --disabled-fill-color: #AAA;\n",
              "      --disabled-bg-color: #DDD;\n",
              "  }\n",
              "\n",
              "  [theme=dark] .colab-df-quickchart {\n",
              "      --bg-color: #3B4455;\n",
              "      --fill-color: #D2E3FC;\n",
              "      --hover-bg-color: #434B5C;\n",
              "      --hover-fill-color: #FFFFFF;\n",
              "      --disabled-bg-color: #3B4455;\n",
              "      --disabled-fill-color: #666;\n",
              "  }\n",
              "\n",
              "  .colab-df-quickchart {\n",
              "    background-color: var(--bg-color);\n",
              "    border: none;\n",
              "    border-radius: 50%;\n",
              "    cursor: pointer;\n",
              "    display: none;\n",
              "    fill: var(--fill-color);\n",
              "    height: 32px;\n",
              "    padding: 0;\n",
              "    width: 32px;\n",
              "  }\n",
              "\n",
              "  .colab-df-quickchart:hover {\n",
              "    background-color: var(--hover-bg-color);\n",
              "    box-shadow: 0 1px 2px rgba(60, 64, 67, 0.3), 0 1px 3px 1px rgba(60, 64, 67, 0.15);\n",
              "    fill: var(--button-hover-fill-color);\n",
              "  }\n",
              "\n",
              "  .colab-df-quickchart-complete:disabled,\n",
              "  .colab-df-quickchart-complete:disabled:hover {\n",
              "    background-color: var(--disabled-bg-color);\n",
              "    fill: var(--disabled-fill-color);\n",
              "    box-shadow: none;\n",
              "  }\n",
              "\n",
              "  .colab-df-spinner {\n",
              "    border: 2px solid var(--fill-color);\n",
              "    border-color: transparent;\n",
              "    border-bottom-color: var(--fill-color);\n",
              "    animation:\n",
              "      spin 1s steps(1) infinite;\n",
              "  }\n",
              "\n",
              "  @keyframes spin {\n",
              "    0% {\n",
              "      border-color: transparent;\n",
              "      border-bottom-color: var(--fill-color);\n",
              "      border-left-color: var(--fill-color);\n",
              "    }\n",
              "    20% {\n",
              "      border-color: transparent;\n",
              "      border-left-color: var(--fill-color);\n",
              "      border-top-color: var(--fill-color);\n",
              "    }\n",
              "    30% {\n",
              "      border-color: transparent;\n",
              "      border-left-color: var(--fill-color);\n",
              "      border-top-color: var(--fill-color);\n",
              "      border-right-color: var(--fill-color);\n",
              "    }\n",
              "    40% {\n",
              "      border-color: transparent;\n",
              "      border-right-color: var(--fill-color);\n",
              "      border-top-color: var(--fill-color);\n",
              "    }\n",
              "    60% {\n",
              "      border-color: transparent;\n",
              "      border-right-color: var(--fill-color);\n",
              "    }\n",
              "    80% {\n",
              "      border-color: transparent;\n",
              "      border-right-color: var(--fill-color);\n",
              "      border-bottom-color: var(--fill-color);\n",
              "    }\n",
              "    90% {\n",
              "      border-color: transparent;\n",
              "      border-bottom-color: var(--fill-color);\n",
              "    }\n",
              "  }\n",
              "</style>\n",
              "\n",
              "  <script>\n",
              "    async function quickchart(key) {\n",
              "      const quickchartButtonEl =\n",
              "        document.querySelector('#' + key + ' button');\n",
              "      quickchartButtonEl.disabled = true;  // To prevent multiple clicks.\n",
              "      quickchartButtonEl.classList.add('colab-df-spinner');\n",
              "      try {\n",
              "        const charts = await google.colab.kernel.invokeFunction(\n",
              "            'suggestCharts', [key], {});\n",
              "      } catch (error) {\n",
              "        console.error('Error during call to suggestCharts:', error);\n",
              "      }\n",
              "      quickchartButtonEl.classList.remove('colab-df-spinner');\n",
              "      quickchartButtonEl.classList.add('colab-df-quickchart-complete');\n",
              "    }\n",
              "    (() => {\n",
              "      let quickchartButtonEl =\n",
              "        document.querySelector('#df-0f1e157e-2469-4f3f-a8ff-3db3eaa0cee0 button');\n",
              "      quickchartButtonEl.style.display =\n",
              "        google.colab.kernel.accessAllowed ? 'block' : 'none';\n",
              "    })();\n",
              "  </script>\n",
              "</div>\n",
              "    </div>\n",
              "  </div>\n"
            ]
          },
          "metadata": {},
          "execution_count": 4
        }
      ],
      "source": [
        "# Выведем первые 10 строчек датафрейма\n",
        "\n",
        "data.head(10)"
      ]
    },
    {
      "cell_type": "code",
      "execution_count": 5,
      "id": "31d15e32",
      "metadata": {
        "deletable": false,
        "id": "31d15e32",
        "outputId": "6124f0fa-d9dd-400a-ac7c-4729bfd51218",
        "colab": {
          "base_uri": "https://localhost:8080/"
        }
      },
      "outputs": [
        {
          "output_type": "stream",
          "name": "stdout",
          "text": [
            "<class 'pandas.core.frame.DataFrame'>\n",
            "RangeIndex: 21525 entries, 0 to 21524\n",
            "Data columns (total 12 columns):\n",
            " #   Column            Non-Null Count  Dtype  \n",
            "---  ------            --------------  -----  \n",
            " 0   children          21525 non-null  int64  \n",
            " 1   days_employed     19351 non-null  float64\n",
            " 2   dob_years         21525 non-null  int64  \n",
            " 3   education         21525 non-null  object \n",
            " 4   education_id      21525 non-null  int64  \n",
            " 5   family_status     21525 non-null  object \n",
            " 6   family_status_id  21525 non-null  int64  \n",
            " 7   gender            21525 non-null  object \n",
            " 8   income_type       21525 non-null  object \n",
            " 9   debt              21525 non-null  int64  \n",
            " 10  total_income      19351 non-null  float64\n",
            " 11  purpose           21525 non-null  object \n",
            "dtypes: float64(2), int64(5), object(5)\n",
            "memory usage: 2.0+ MB\n"
          ]
        }
      ],
      "source": [
        "# Выведем основную информацию о датафрейме\n",
        "\n",
        "data.info()"
      ]
    },
    {
      "cell_type": "code",
      "execution_count": 6,
      "id": "a8a89661",
      "metadata": {
        "colab": {
          "base_uri": "https://localhost:8080/"
        },
        "id": "a8a89661",
        "outputId": "1c01f595-752d-427f-d767-bd98e80a6f6d"
      },
      "outputs": [
        {
          "output_type": "execute_result",
          "data": {
            "text/plain": [
              "F      14236\n",
              "M       7288\n",
              "XNA        1\n",
              "Name: gender, dtype: int64"
            ]
          },
          "metadata": {},
          "execution_count": 6
        }
      ],
      "source": [
        "# рассмотрим гендерный состав\n",
        "\n",
        "data['gender'].value_counts()"
      ]
    },
    {
      "cell_type": "markdown",
      "id": "507b3195",
      "metadata": {
        "deletable": false,
        "editable": false,
        "id": "507b3195"
      },
      "source": [
        "## Предобработка данных"
      ]
    },
    {
      "cell_type": "markdown",
      "id": "91137a93",
      "metadata": {
        "deletable": false,
        "editable": false,
        "id": "91137a93"
      },
      "source": [
        "### Удаление пропусков"
      ]
    },
    {
      "cell_type": "code",
      "execution_count": 26,
      "id": "eeba6299",
      "metadata": {
        "deletable": false,
        "id": "eeba6299",
        "outputId": "29e62160-b83e-407f-d522-c0d542c1bc83",
        "colab": {
          "base_uri": "https://localhost:8080/"
        }
      },
      "outputs": [
        {
          "output_type": "execute_result",
          "data": {
            "text/plain": [
              "children               0\n",
              "days_employed       2174\n",
              "dob_years              0\n",
              "education              0\n",
              "education_id           0\n",
              "family_status          0\n",
              "family_status_id       0\n",
              "gender                 0\n",
              "income_type            0\n",
              "debt                   0\n",
              "total_income        2174\n",
              "purpose                0\n",
              "dtype: int64"
            ]
          },
          "metadata": {},
          "execution_count": 26
        }
      ],
      "source": [
        "# Выведем количество пропущенных значений для каждого столбца\n",
        "\n",
        "data.isna().sum()"
      ]
    },
    {
      "cell_type": "markdown",
      "id": "3938b93d",
      "metadata": {
        "deletable": false,
        "editable": false,
        "id": "3938b93d"
      },
      "source": [
        " В двух столбцах есть пропущенные значения. Один из них — `days_employed`, общий трудовой стаж в днях.  Другой столбец с пропущенными значениями — `total_income` — хранит данные о доходах. На сумму дохода сильнее всего влияет тип занятости, поэтому заполнить пропуски в этом столбце нужно заменить медианным значением по каждому типу из столбца `income_type`. Например, у человека с типом занятости `сотрудник` пропуск в столбце `total_income` должен быть заполнен медианным доходом среди всех записей с тем же типом."
      ]
    },
    {
      "cell_type": "code",
      "execution_count": 40,
      "id": "b2dcac71",
      "metadata": {
        "deletable": false,
        "id": "b2dcac71"
      },
      "outputs": [],
      "source": [
        "# Замена отсутствующих значений в столбце 'total_income' на медиану\n",
        "\n",
        "for category in data['income_type'].unique():\n",
        "    data.loc[(data['income_type'] == category) & (data['total_income'].isna()), 'total_income'] = \\\n",
        "    data.loc[(data['income_type'] == category), 'total_income'].median()"
      ]
    },
    {
      "cell_type": "markdown",
      "id": "ff278863",
      "metadata": {
        "deletable": false,
        "editable": false,
        "id": "ff278863"
      },
      "source": [
        "### Обработка аномальных значений"
      ]
    },
    {
      "cell_type": "markdown",
      "id": "60692db1",
      "metadata": {
        "deletable": false,
        "editable": false,
        "id": "60692db1"
      },
      "source": [
        "В данных могут встречаться артефакты (аномалии) — значения, которые не отражают действительность и появились по какой-то ошибке. Таким артефактом будет отрицательное количество дней трудового стажа в столбце `days_employed`. Для реальных данных это нормально. Обработаем значения в этом столбце: заменим все отрицательные значения положительными."
      ]
    },
    {
      "cell_type": "code",
      "execution_count": 34,
      "id": "b5fcdda2",
      "metadata": {
        "deletable": false,
        "id": "b5fcdda2"
      },
      "outputs": [],
      "source": [
        "# Замена отрицательных значения с столбце 'days_employed' положительными\n",
        "\n",
        "data['days_employed'] = data['days_employed'].abs()"
      ]
    },
    {
      "cell_type": "markdown",
      "id": "364d79f2",
      "metadata": {
        "deletable": false,
        "editable": false,
        "id": "364d79f2"
      },
      "source": [
        "Для каждого типа занятости выведем медианное значение трудового стажа `days_employed` в днях."
      ]
    },
    {
      "cell_type": "code",
      "execution_count": 35,
      "id": "c00d2588",
      "metadata": {
        "deletable": false,
        "id": "c00d2588",
        "outputId": "c9881e42-abca-4c6c-fcd6-f9f96c7faeef",
        "colab": {
          "base_uri": "https://localhost:8080/"
        }
      },
      "outputs": [
        {
          "output_type": "execute_result",
          "data": {
            "text/plain": [
              "income_type\n",
              "безработный        366413.652744\n",
              "в декрете            3296.759962\n",
              "госслужащий          2689.368353\n",
              "компаньон            1547.382223\n",
              "пенсионер          365213.306266\n",
              "предприниматель       520.848083\n",
              "сотрудник            1574.202821\n",
              "студент               578.751554\n",
              "Name: days_employed, dtype: float64"
            ]
          },
          "metadata": {},
          "execution_count": 35
        }
      ],
      "source": [
        "# Медианное значение трудового стажа 'days_employed'\n",
        "\n",
        "data.groupby('income_type')['days_employed'].agg('median')"
      ]
    },
    {
      "cell_type": "markdown",
      "id": "17a19502",
      "metadata": {
        "deletable": false,
        "editable": false,
        "id": "17a19502"
      },
      "source": [
        "У двух типов (безработные и пенсионеры) получатся аномально большие значения. Исправить такие значения сложно, поэтому оставим их как есть. Тем более этот столбец скорее всего не понадобится для исследования."
      ]
    },
    {
      "cell_type": "markdown",
      "id": "f177a2f6",
      "metadata": {
        "deletable": false,
        "editable": false,
        "id": "f177a2f6"
      },
      "source": [
        "Выведите перечень уникальных значений столбца `children`"
      ]
    },
    {
      "cell_type": "code",
      "execution_count": 36,
      "id": "a6e34f9b",
      "metadata": {
        "deletable": false,
        "id": "a6e34f9b",
        "outputId": "f7f12ddb-79ce-43a4-e640-539cc6b6e247",
        "colab": {
          "base_uri": "https://localhost:8080/"
        }
      },
      "outputs": [
        {
          "output_type": "execute_result",
          "data": {
            "text/plain": [
              "array([ 1,  0,  3,  2, -1,  4, 20,  5])"
            ]
          },
          "metadata": {},
          "execution_count": 36
        }
      ],
      "source": [
        "# Уникальные значения столбца 'children'\n",
        "\n",
        "data['children'].unique()"
      ]
    },
    {
      "cell_type": "markdown",
      "id": "2182deb1",
      "metadata": {
        "deletable": false,
        "editable": false,
        "id": "2182deb1"
      },
      "source": [
        "В столбце `children` есть два аномальных значения. Удалим строки, в которых встречаются такие аномальные значения из датафрейма `data`."
      ]
    },
    {
      "cell_type": "code",
      "execution_count": 37,
      "id": "268ff201",
      "metadata": {
        "deletable": false,
        "id": "268ff201"
      },
      "outputs": [],
      "source": [
        "# Удалим аномальные значения\n",
        "\n",
        "data = data[(data['children'] != -1) & (data['children'] != 20)]"
      ]
    },
    {
      "cell_type": "code",
      "execution_count": 38,
      "id": "dfe64d6f",
      "metadata": {
        "deletable": false,
        "id": "dfe64d6f",
        "outputId": "83c89ad4-7466-4c40-dd74-ff75cc0cab12",
        "colab": {
          "base_uri": "https://localhost:8080/"
        }
      },
      "outputs": [
        {
          "output_type": "execute_result",
          "data": {
            "text/plain": [
              "array([1, 0, 3, 2, 4, 5])"
            ]
          },
          "metadata": {},
          "execution_count": 38
        }
      ],
      "source": [
        "# Прроверим уникальные значения столбца 'children'\n",
        "\n",
        "data['children'].unique()"
      ]
    },
    {
      "cell_type": "markdown",
      "id": "7c61db4a",
      "metadata": {
        "deletable": false,
        "editable": false,
        "id": "7c61db4a"
      },
      "source": [
        "Заполним пропуски в столбце `days_employed` медианными значениями по каждого типа занятости `income_type`."
      ]
    },
    {
      "cell_type": "code",
      "execution_count": 39,
      "id": "01e1acc5",
      "metadata": {
        "deletable": false,
        "id": "01e1acc5"
      },
      "outputs": [],
      "source": [
        "# Замена отсутствующих значений в столбце 'days_employed' на медиану\n",
        "\n",
        "for category in data['income_type'].unique():\n",
        "    data.loc[(data['income_type'] == category) & (data['days_employed'].isna()), 'days_employed'] = \\\n",
        "    data.loc[(data['income_type'] == category), 'days_employed'].median()"
      ]
    },
    {
      "cell_type": "code",
      "execution_count": 41,
      "id": "f9853ff7",
      "metadata": {
        "deletable": false,
        "id": "f9853ff7",
        "outputId": "a2d466f1-8760-42e7-e7a8-f6bec6114c6a",
        "colab": {
          "base_uri": "https://localhost:8080/"
        }
      },
      "outputs": [
        {
          "output_type": "execute_result",
          "data": {
            "text/plain": [
              "children            0\n",
              "days_employed       0\n",
              "dob_years           0\n",
              "education           0\n",
              "education_id        0\n",
              "family_status       0\n",
              "family_status_id    0\n",
              "gender              0\n",
              "income_type         0\n",
              "debt                0\n",
              "total_income        0\n",
              "purpose             0\n",
              "dtype: int64"
            ]
          },
          "metadata": {},
          "execution_count": 41
        }
      ],
      "source": [
        "#  Проверим, что все пропуски заполнены\n",
        "\n",
        "data.isna().sum()"
      ]
    },
    {
      "cell_type": "markdown",
      "id": "5d7f8741",
      "metadata": {
        "deletable": false,
        "editable": false,
        "id": "5d7f8741"
      },
      "source": [
        "### Изменение типов данных"
      ]
    },
    {
      "cell_type": "markdown",
      "id": "495a18f9",
      "metadata": {
        "deletable": false,
        "editable": false,
        "id": "495a18f9"
      },
      "source": [
        "Заменим вещественный тип данных в столбце `total_income` на целочисленный."
      ]
    },
    {
      "cell_type": "code",
      "execution_count": 43,
      "id": "64d5a005",
      "metadata": {
        "deletable": false,
        "id": "64d5a005"
      },
      "outputs": [],
      "source": [
        "# Заменим тип данных на int\n",
        "\n",
        "data['total_income'] = data['total_income'].astype(int)"
      ]
    },
    {
      "cell_type": "markdown",
      "id": "fd94d47c",
      "metadata": {
        "deletable": false,
        "editable": false,
        "id": "fd94d47c"
      },
      "source": [
        "### Обработка дубликатов"
      ]
    },
    {
      "cell_type": "markdown",
      "id": "165117f4",
      "metadata": {
        "deletable": false,
        "editable": false,
        "id": "165117f4"
      },
      "source": [
        "В столбце в столбце `education` есть неявные дубликаты - это одни и те же значения, но записанные по-разному: с использованием заглавных и строчных букв. Приведем их к нижнему регистру. Проверьте остальные столбцы."
      ]
    },
    {
      "cell_type": "code",
      "execution_count": 50,
      "id": "7075c3f7",
      "metadata": {
        "deletable": false,
        "id": "7075c3f7"
      },
      "outputs": [],
      "source": [
        "# Приведем столбец `education`к нижнему регистру\n",
        "\n",
        "data['education'] = data['education'].str.lower()"
      ]
    },
    {
      "cell_type": "code",
      "execution_count": 53,
      "id": "01ef3473",
      "metadata": {
        "deletable": false,
        "id": "01ef3473",
        "outputId": "5a05bbb7-81e7-46b0-e902-d8089d2ebd6f",
        "colab": {
          "base_uri": "https://localhost:8080/"
        }
      },
      "outputs": [
        {
          "output_type": "execute_result",
          "data": {
            "text/plain": [
              "71"
            ]
          },
          "metadata": {},
          "execution_count": 53
        }
      ],
      "source": [
        "# Выведем количество строк-дубликатов в данных\n",
        "\n",
        "data.duplicated().sum()"
      ]
    },
    {
      "cell_type": "code",
      "execution_count": 54,
      "id": "3d0e7352",
      "metadata": {
        "deletable": false,
        "id": "3d0e7352"
      },
      "outputs": [],
      "source": [
        "# Удалим дубликаты\n",
        "\n",
        "data = data.drop_duplicates()"
      ]
    },
    {
      "cell_type": "markdown",
      "id": "d0ec65e4",
      "metadata": {
        "deletable": false,
        "editable": false,
        "id": "d0ec65e4"
      },
      "source": [
        "### Категоризация данных"
      ]
    },
    {
      "cell_type": "markdown",
      "id": "5d496648",
      "metadata": {
        "deletable": false,
        "editable": false,
        "id": "5d496648"
      },
      "source": [
        "На основании диапазонов, создадим в датафрейме `data` столбец `total_income_category` с категориями:\n",
        "\n",
        "- 0–30000 — `'E'`;\n",
        "- 30001–50000 — `'D'`;\n",
        "- 50001–200000 — `'C'`;\n",
        "- 200001–1000000 — `'B'`;\n",
        "- 1000001 и выше — `'A'`."
      ]
    },
    {
      "cell_type": "code",
      "execution_count": 55,
      "id": "99eef43a",
      "metadata": {
        "deletable": false,
        "id": "99eef43a"
      },
      "outputs": [],
      "source": [
        "# Функция для определения категории дохода\n",
        "\n",
        "def categorize_income(income):\n",
        "    try:\n",
        "        if 0 <= income <= 30000:\n",
        "            return 'E'\n",
        "        elif 30001 <= income <= 50000:\n",
        "            return 'D'\n",
        "        elif 50001 <= income <= 200000:\n",
        "            return 'C'\n",
        "        elif 200001 <= income <= 1000000:\n",
        "            return 'B'\n",
        "        elif income >= 1000001:\n",
        "            return 'A'\n",
        "    except:\n",
        "        pass"
      ]
    },
    {
      "cell_type": "code",
      "execution_count": 56,
      "id": "e9833943",
      "metadata": {
        "deletable": false,
        "id": "e9833943"
      },
      "outputs": [],
      "source": [
        "# Создание нового столбца 'total_income_category' в DataFrame 'data', который будет содержать категории дохода\n",
        "\n",
        "data['total_income_category'] = data['total_income'].apply(categorize_income)"
      ]
    },
    {
      "cell_type": "code",
      "source": [
        "# Проверка распределения значений в новом столбце 'total_income_category'\n",
        "\n",
        "data['total_income_category'].value_counts()"
      ],
      "metadata": {
        "colab": {
          "base_uri": "https://localhost:8080/"
        },
        "id": "NiZIXj7Uegn2",
        "outputId": "f91f321d-e89c-45e2-c78f-338ec2d04f99"
      },
      "id": "NiZIXj7Uegn2",
      "execution_count": 58,
      "outputs": [
        {
          "output_type": "execute_result",
          "data": {
            "text/plain": [
              "C    15921\n",
              "B     5014\n",
              "D      349\n",
              "A       25\n",
              "E       22\n",
              "Name: total_income_category, dtype: int64"
            ]
          },
          "metadata": {},
          "execution_count": 58
        }
      ]
    },
    {
      "cell_type": "markdown",
      "id": "b0471ebc",
      "metadata": {
        "deletable": false,
        "editable": false,
        "id": "b0471ebc"
      },
      "source": [
        "Выведем перечень уникальных целей взятия кредита из столбца `purpose`"
      ]
    },
    {
      "cell_type": "code",
      "execution_count": 59,
      "id": "6ec57e79",
      "metadata": {
        "deletable": false,
        "id": "6ec57e79",
        "outputId": "860f71c6-42e2-4775-ea8e-fb628ff30852",
        "colab": {
          "base_uri": "https://localhost:8080/"
        }
      },
      "outputs": [
        {
          "output_type": "execute_result",
          "data": {
            "text/plain": [
              "array(['покупка жилья', 'приобретение автомобиля',\n",
              "       'дополнительное образование', 'сыграть свадьбу',\n",
              "       'операции с жильем', 'образование', 'на проведение свадьбы',\n",
              "       'покупка жилья для семьи', 'покупка недвижимости',\n",
              "       'покупка коммерческой недвижимости', 'покупка жилой недвижимости',\n",
              "       'строительство собственной недвижимости', 'недвижимость',\n",
              "       'строительство недвижимости', 'на покупку подержанного автомобиля',\n",
              "       'на покупку своего автомобиля',\n",
              "       'операции с коммерческой недвижимостью',\n",
              "       'строительство жилой недвижимости', 'жилье',\n",
              "       'операции со своей недвижимостью', 'автомобили',\n",
              "       'заняться образованием', 'сделка с подержанным автомобилем',\n",
              "       'получение образования', 'автомобиль', 'свадьба',\n",
              "       'получение дополнительного образования', 'покупка своего жилья',\n",
              "       'операции с недвижимостью', 'получение высшего образования',\n",
              "       'свой автомобиль', 'сделка с автомобилем',\n",
              "       'профильное образование', 'высшее образование',\n",
              "       'покупка жилья для сдачи', 'на покупку автомобиля', 'ремонт жилью',\n",
              "       'заняться высшим образованием'], dtype=object)"
            ]
          },
          "metadata": {},
          "execution_count": 59
        }
      ],
      "source": [
        "# Уникальные цели взятия кредита из столбца 'purpose'\n",
        "\n",
        "data['purpose'].unique()"
      ]
    },
    {
      "cell_type": "markdown",
      "id": "464249ca",
      "metadata": {
        "deletable": false,
        "editable": false,
        "id": "464249ca"
      },
      "source": [
        "Создадим функцию, которая на основании данных из столбца `purpose` сформирует новый столбец `purpose_category`, в который войдут следующие категории:\n",
        "\n",
        "- `'операции с автомобилем'`,\n",
        "- `'операции с недвижимостью'`,\n",
        "- `'проведение свадьбы'`,\n",
        "- `'получение образования'`."
      ]
    },
    {
      "cell_type": "code",
      "execution_count": 60,
      "id": "5725a3c6",
      "metadata": {
        "deletable": false,
        "id": "5725a3c6"
      },
      "outputs": [],
      "source": [
        "# Функция для определения категории заданной строки (row).\n",
        "\n",
        "def categorize_purpose(row):\n",
        "    try:\n",
        "        if 'автом' in row:\n",
        "            return 'операции с автомобилем'\n",
        "        elif 'жил' in row or 'недвиж' in row:\n",
        "            return 'операции с недвижимостью'\n",
        "        elif 'свад' in row:\n",
        "            return 'проведение свадьбы'\n",
        "        elif 'образов' in row:\n",
        "            return 'получение образования'\n",
        "    except:\n",
        "        return 'нет категории'"
      ]
    },
    {
      "cell_type": "code",
      "execution_count": 61,
      "id": "f0423d61",
      "metadata": {
        "deletable": false,
        "id": "f0423d61"
      },
      "outputs": [],
      "source": [
        "# Создаем новый столбец 'purpose_category'\n",
        "\n",
        "data['purpose_category'] = data['purpose'].apply(categorize_purpose)"
      ]
    },
    {
      "cell_type": "markdown",
      "id": "d6fa6627",
      "metadata": {
        "deletable": false,
        "editable": false,
        "id": "d6fa6627"
      },
      "source": [
        "### Анализ данных и поиск ответов на поставленные вопросы"
      ]
    },
    {
      "cell_type": "markdown",
      "id": "1d16beef",
      "metadata": {
        "deletable": false,
        "editable": false,
        "id": "1d16beef"
      },
      "source": [
        "#### 3.1 Есть ли зависимость между количеством детей и возвратом кредита в срок?"
      ]
    },
    {
      "cell_type": "code",
      "execution_count": 63,
      "id": "6d2dfb6e",
      "metadata": {
        "deletable": false,
        "id": "6d2dfb6e",
        "colab": {
          "base_uri": "https://localhost:8080/"
        },
        "outputId": "1f2383f1-70f4-4fe9-fbf5-5d0f2a1734d9"
      },
      "outputs": [
        {
          "output_type": "execute_result",
          "data": {
            "text/plain": [
              "array([1, 0, 3, 2, 4, 5])"
            ]
          },
          "metadata": {},
          "execution_count": 63
        }
      ],
      "source": [
        "# Получаем уникальные значения из столбца 'children'\n",
        "\n",
        "data['children'].unique()"
      ]
    },
    {
      "cell_type": "code",
      "execution_count": 64,
      "id": "59012e4f",
      "metadata": {
        "colab": {
          "base_uri": "https://localhost:8080/"
        },
        "id": "59012e4f",
        "outputId": "0c488f97-b992-4021-8b3b-e15736ec0575"
      },
      "outputs": [
        {
          "output_type": "execute_result",
          "data": {
            "text/plain": [
              "array([0, 1])"
            ]
          },
          "metadata": {},
          "execution_count": 64
        }
      ],
      "source": [
        "# Получим уникальные значения для столбца 'debt'\n",
        "\n",
        "data['debt'].unique()"
      ]
    },
    {
      "cell_type": "markdown",
      "id": "ecbefe50",
      "metadata": {
        "id": "ecbefe50"
      },
      "source": [
        "В столбце 'debt' приведена информация о наличии долгов у семьи: 0 - не было долгов, 1 - долги были."
      ]
    },
    {
      "cell_type": "code",
      "execution_count": 65,
      "id": "8b3e727a",
      "metadata": {
        "colab": {
          "base_uri": "https://localhost:8080/"
        },
        "id": "8b3e727a",
        "outputId": "5165a945-c45f-4e57-8071-4a6be8501342"
      },
      "outputs": [
        {
          "output_type": "execute_result",
          "data": {
            "text/plain": [
              "0    14091\n",
              "1     4808\n",
              "2     2052\n",
              "3      330\n",
              "4       41\n",
              "5        9\n",
              "Name: children, dtype: int64"
            ]
          },
          "metadata": {},
          "execution_count": 65
        }
      ],
      "source": [
        "# Получим количество каждого значения для столбца 'children'\n",
        "\n",
        "data['children'].value_counts()"
      ]
    },
    {
      "cell_type": "code",
      "source": [],
      "metadata": {
        "id": "G7Sit4Z0hrK_"
      },
      "id": "G7Sit4Z0hrK_",
      "execution_count": null,
      "outputs": []
    },
    {
      "cell_type": "markdown",
      "id": "4182182e",
      "metadata": {
        "id": "4182182e"
      },
      "source": [
        "Данные неравномерные, рассматривается всего 9 семей с пятью детьми и 41 с четырьмя. Будем укрупнять группы. Для дальнейшей работы семьи с тремя и более детьми будут рассматриваться как одна группа 'многодетные'. Эта категория семей, все равно самая малочисленная в выборке и составляет около 2%, поэтому сделать однозначный вывод относительно многодетных семей может быть затруднительно."
      ]
    },
    {
      "cell_type": "markdown",
      "id": "b511492e",
      "metadata": {
        "id": "b511492e"
      },
      "source": [
        "##### Получим таблицу для поиска и анализа зависимости"
      ]
    },
    {
      "cell_type": "code",
      "execution_count": 77,
      "id": "1e13e302",
      "metadata": {
        "id": "1e13e302"
      },
      "outputs": [],
      "source": [
        "# Функция для определения типа семьи в зависимости от количества детей\n",
        "\n",
        "def family_type(children):\n",
        "    if children == 0:\n",
        "        return 'бездетная'\n",
        "    elif children == 1:\n",
        "        return '1 ребенок'\n",
        "    elif children == 2:\n",
        "        return '2 ребенка'\n",
        "    return 'многодетная'"
      ]
    },
    {
      "cell_type": "code",
      "source": [
        "# Применяем функцию family_type к столбцу 'children' и создаем новый столбец 'family_type' с результатами\n",
        "data['family_type'] = data['children'].apply(family_type)\n",
        "\n",
        "# Группируем данные по 'family_type' и рассчитываем количество кредитополучателей, количество должников и долю должников\n",
        "child_debt_table = data.groupby('family_type')['debt'].agg(['count', 'sum'])\n",
        "child_debt_table['percent'] = round(child_debt_table['sum'] / child_debt_table['count'] * 100, 2)\n",
        "\n",
        "# Переименовываем столбцы для удобства восприятия\n",
        "child_debt_table = child_debt_table.rename(columns={'count': 'Количество кредитополучателей', 'sum': 'Количество должников', 'percent': 'Доля должников'})\n",
        "\n",
        "# Сортируем таблицу по убыванию доли должников\n",
        "child_debt_table.sort_values(by='Доля должников', ascending=False)"
      ],
      "metadata": {
        "colab": {
          "base_uri": "https://localhost:8080/",
          "height": 206
        },
        "id": "kO2GfJq-iiYl",
        "outputId": "f2884fed-500d-41af-f1a8-363be3620d4a"
      },
      "id": "kO2GfJq-iiYl",
      "execution_count": 81,
      "outputs": [
        {
          "output_type": "execute_result",
          "data": {
            "text/plain": [
              "             Количество кредитополучателей  Количество должников  \\\n",
              "family_type                                                        \n",
              "2 ребенка                             2052                   194   \n",
              "1 ребенок                             4808                   444   \n",
              "многодетная                            380                    31   \n",
              "бездетная                            14091                  1063   \n",
              "\n",
              "             Доля должников  \n",
              "family_type                  \n",
              "2 ребенка              9.45  \n",
              "1 ребенок              9.23  \n",
              "многодетная            8.16  \n",
              "бездетная              7.54  "
            ],
            "text/html": [
              "\n",
              "  <div id=\"df-c1fc3267-e037-4a24-bab5-158783fc816d\" class=\"colab-df-container\">\n",
              "    <div>\n",
              "<style scoped>\n",
              "    .dataframe tbody tr th:only-of-type {\n",
              "        vertical-align: middle;\n",
              "    }\n",
              "\n",
              "    .dataframe tbody tr th {\n",
              "        vertical-align: top;\n",
              "    }\n",
              "\n",
              "    .dataframe thead th {\n",
              "        text-align: right;\n",
              "    }\n",
              "</style>\n",
              "<table border=\"1\" class=\"dataframe\">\n",
              "  <thead>\n",
              "    <tr style=\"text-align: right;\">\n",
              "      <th></th>\n",
              "      <th>Количество кредитополучателей</th>\n",
              "      <th>Количество должников</th>\n",
              "      <th>Доля должников</th>\n",
              "    </tr>\n",
              "    <tr>\n",
              "      <th>family_type</th>\n",
              "      <th></th>\n",
              "      <th></th>\n",
              "      <th></th>\n",
              "    </tr>\n",
              "  </thead>\n",
              "  <tbody>\n",
              "    <tr>\n",
              "      <th>2 ребенка</th>\n",
              "      <td>2052</td>\n",
              "      <td>194</td>\n",
              "      <td>9.45</td>\n",
              "    </tr>\n",
              "    <tr>\n",
              "      <th>1 ребенок</th>\n",
              "      <td>4808</td>\n",
              "      <td>444</td>\n",
              "      <td>9.23</td>\n",
              "    </tr>\n",
              "    <tr>\n",
              "      <th>многодетная</th>\n",
              "      <td>380</td>\n",
              "      <td>31</td>\n",
              "      <td>8.16</td>\n",
              "    </tr>\n",
              "    <tr>\n",
              "      <th>бездетная</th>\n",
              "      <td>14091</td>\n",
              "      <td>1063</td>\n",
              "      <td>7.54</td>\n",
              "    </tr>\n",
              "  </tbody>\n",
              "</table>\n",
              "</div>\n",
              "    <div class=\"colab-df-buttons\">\n",
              "\n",
              "  <div class=\"colab-df-container\">\n",
              "    <button class=\"colab-df-convert\" onclick=\"convertToInteractive('df-c1fc3267-e037-4a24-bab5-158783fc816d')\"\n",
              "            title=\"Convert this dataframe to an interactive table.\"\n",
              "            style=\"display:none;\">\n",
              "\n",
              "  <svg xmlns=\"http://www.w3.org/2000/svg\" height=\"24px\" viewBox=\"0 -960 960 960\">\n",
              "    <path d=\"M120-120v-720h720v720H120Zm60-500h600v-160H180v160Zm220 220h160v-160H400v160Zm0 220h160v-160H400v160ZM180-400h160v-160H180v160Zm440 0h160v-160H620v160ZM180-180h160v-160H180v160Zm440 0h160v-160H620v160Z\"/>\n",
              "  </svg>\n",
              "    </button>\n",
              "\n",
              "  <style>\n",
              "    .colab-df-container {\n",
              "      display:flex;\n",
              "      gap: 12px;\n",
              "    }\n",
              "\n",
              "    .colab-df-convert {\n",
              "      background-color: #E8F0FE;\n",
              "      border: none;\n",
              "      border-radius: 50%;\n",
              "      cursor: pointer;\n",
              "      display: none;\n",
              "      fill: #1967D2;\n",
              "      height: 32px;\n",
              "      padding: 0 0 0 0;\n",
              "      width: 32px;\n",
              "    }\n",
              "\n",
              "    .colab-df-convert:hover {\n",
              "      background-color: #E2EBFA;\n",
              "      box-shadow: 0px 1px 2px rgba(60, 64, 67, 0.3), 0px 1px 3px 1px rgba(60, 64, 67, 0.15);\n",
              "      fill: #174EA6;\n",
              "    }\n",
              "\n",
              "    .colab-df-buttons div {\n",
              "      margin-bottom: 4px;\n",
              "    }\n",
              "\n",
              "    [theme=dark] .colab-df-convert {\n",
              "      background-color: #3B4455;\n",
              "      fill: #D2E3FC;\n",
              "    }\n",
              "\n",
              "    [theme=dark] .colab-df-convert:hover {\n",
              "      background-color: #434B5C;\n",
              "      box-shadow: 0px 1px 3px 1px rgba(0, 0, 0, 0.15);\n",
              "      filter: drop-shadow(0px 1px 2px rgba(0, 0, 0, 0.3));\n",
              "      fill: #FFFFFF;\n",
              "    }\n",
              "  </style>\n",
              "\n",
              "    <script>\n",
              "      const buttonEl =\n",
              "        document.querySelector('#df-c1fc3267-e037-4a24-bab5-158783fc816d button.colab-df-convert');\n",
              "      buttonEl.style.display =\n",
              "        google.colab.kernel.accessAllowed ? 'block' : 'none';\n",
              "\n",
              "      async function convertToInteractive(key) {\n",
              "        const element = document.querySelector('#df-c1fc3267-e037-4a24-bab5-158783fc816d');\n",
              "        const dataTable =\n",
              "          await google.colab.kernel.invokeFunction('convertToInteractive',\n",
              "                                                    [key], {});\n",
              "        if (!dataTable) return;\n",
              "\n",
              "        const docLinkHtml = 'Like what you see? Visit the ' +\n",
              "          '<a target=\"_blank\" href=https://colab.research.google.com/notebooks/data_table.ipynb>data table notebook</a>'\n",
              "          + ' to learn more about interactive tables.';\n",
              "        element.innerHTML = '';\n",
              "        dataTable['output_type'] = 'display_data';\n",
              "        await google.colab.output.renderOutput(dataTable, element);\n",
              "        const docLink = document.createElement('div');\n",
              "        docLink.innerHTML = docLinkHtml;\n",
              "        element.appendChild(docLink);\n",
              "      }\n",
              "    </script>\n",
              "  </div>\n",
              "\n",
              "\n",
              "<div id=\"df-1f0a0100-99d7-4229-b1b7-4cbf5baabcde\">\n",
              "  <button class=\"colab-df-quickchart\" onclick=\"quickchart('df-1f0a0100-99d7-4229-b1b7-4cbf5baabcde')\"\n",
              "            title=\"Suggest charts\"\n",
              "            style=\"display:none;\">\n",
              "\n",
              "<svg xmlns=\"http://www.w3.org/2000/svg\" height=\"24px\"viewBox=\"0 0 24 24\"\n",
              "     width=\"24px\">\n",
              "    <g>\n",
              "        <path d=\"M19 3H5c-1.1 0-2 .9-2 2v14c0 1.1.9 2 2 2h14c1.1 0 2-.9 2-2V5c0-1.1-.9-2-2-2zM9 17H7v-7h2v7zm4 0h-2V7h2v10zm4 0h-2v-4h2v4z\"/>\n",
              "    </g>\n",
              "</svg>\n",
              "  </button>\n",
              "\n",
              "<style>\n",
              "  .colab-df-quickchart {\n",
              "      --bg-color: #E8F0FE;\n",
              "      --fill-color: #1967D2;\n",
              "      --hover-bg-color: #E2EBFA;\n",
              "      --hover-fill-color: #174EA6;\n",
              "      --disabled-fill-color: #AAA;\n",
              "      --disabled-bg-color: #DDD;\n",
              "  }\n",
              "\n",
              "  [theme=dark] .colab-df-quickchart {\n",
              "      --bg-color: #3B4455;\n",
              "      --fill-color: #D2E3FC;\n",
              "      --hover-bg-color: #434B5C;\n",
              "      --hover-fill-color: #FFFFFF;\n",
              "      --disabled-bg-color: #3B4455;\n",
              "      --disabled-fill-color: #666;\n",
              "  }\n",
              "\n",
              "  .colab-df-quickchart {\n",
              "    background-color: var(--bg-color);\n",
              "    border: none;\n",
              "    border-radius: 50%;\n",
              "    cursor: pointer;\n",
              "    display: none;\n",
              "    fill: var(--fill-color);\n",
              "    height: 32px;\n",
              "    padding: 0;\n",
              "    width: 32px;\n",
              "  }\n",
              "\n",
              "  .colab-df-quickchart:hover {\n",
              "    background-color: var(--hover-bg-color);\n",
              "    box-shadow: 0 1px 2px rgba(60, 64, 67, 0.3), 0 1px 3px 1px rgba(60, 64, 67, 0.15);\n",
              "    fill: var(--button-hover-fill-color);\n",
              "  }\n",
              "\n",
              "  .colab-df-quickchart-complete:disabled,\n",
              "  .colab-df-quickchart-complete:disabled:hover {\n",
              "    background-color: var(--disabled-bg-color);\n",
              "    fill: var(--disabled-fill-color);\n",
              "    box-shadow: none;\n",
              "  }\n",
              "\n",
              "  .colab-df-spinner {\n",
              "    border: 2px solid var(--fill-color);\n",
              "    border-color: transparent;\n",
              "    border-bottom-color: var(--fill-color);\n",
              "    animation:\n",
              "      spin 1s steps(1) infinite;\n",
              "  }\n",
              "\n",
              "  @keyframes spin {\n",
              "    0% {\n",
              "      border-color: transparent;\n",
              "      border-bottom-color: var(--fill-color);\n",
              "      border-left-color: var(--fill-color);\n",
              "    }\n",
              "    20% {\n",
              "      border-color: transparent;\n",
              "      border-left-color: var(--fill-color);\n",
              "      border-top-color: var(--fill-color);\n",
              "    }\n",
              "    30% {\n",
              "      border-color: transparent;\n",
              "      border-left-color: var(--fill-color);\n",
              "      border-top-color: var(--fill-color);\n",
              "      border-right-color: var(--fill-color);\n",
              "    }\n",
              "    40% {\n",
              "      border-color: transparent;\n",
              "      border-right-color: var(--fill-color);\n",
              "      border-top-color: var(--fill-color);\n",
              "    }\n",
              "    60% {\n",
              "      border-color: transparent;\n",
              "      border-right-color: var(--fill-color);\n",
              "    }\n",
              "    80% {\n",
              "      border-color: transparent;\n",
              "      border-right-color: var(--fill-color);\n",
              "      border-bottom-color: var(--fill-color);\n",
              "    }\n",
              "    90% {\n",
              "      border-color: transparent;\n",
              "      border-bottom-color: var(--fill-color);\n",
              "    }\n",
              "  }\n",
              "</style>\n",
              "\n",
              "  <script>\n",
              "    async function quickchart(key) {\n",
              "      const quickchartButtonEl =\n",
              "        document.querySelector('#' + key + ' button');\n",
              "      quickchartButtonEl.disabled = true;  // To prevent multiple clicks.\n",
              "      quickchartButtonEl.classList.add('colab-df-spinner');\n",
              "      try {\n",
              "        const charts = await google.colab.kernel.invokeFunction(\n",
              "            'suggestCharts', [key], {});\n",
              "      } catch (error) {\n",
              "        console.error('Error during call to suggestCharts:', error);\n",
              "      }\n",
              "      quickchartButtonEl.classList.remove('colab-df-spinner');\n",
              "      quickchartButtonEl.classList.add('colab-df-quickchart-complete');\n",
              "    }\n",
              "    (() => {\n",
              "      let quickchartButtonEl =\n",
              "        document.querySelector('#df-1f0a0100-99d7-4229-b1b7-4cbf5baabcde button');\n",
              "      quickchartButtonEl.style.display =\n",
              "        google.colab.kernel.accessAllowed ? 'block' : 'none';\n",
              "    })();\n",
              "  </script>\n",
              "</div>\n",
              "    </div>\n",
              "  </div>\n"
            ]
          },
          "metadata": {},
          "execution_count": 81
        }
      ]
    },
    {
      "cell_type": "markdown",
      "id": "81cb70d5",
      "metadata": {
        "id": "81cb70d5"
      },
      "source": [
        "В полученной таблице наблюдается зависимость между количеством детей и фактом возврата кредитных средств в срок. Семьи без детей реже всего попадают в долги и из предложенных категорий являются самыми перспективными заемщиками. Исходя из  преведенных данных можно сделать вывод, что многодетные семьи также успешно выплачивают кредиты. Однако, это скорее всего ошибочный вывод из-за недостаточной выборки. В пользу этого так же можно привести аргумент, что семьи с одним ребенком чаще имеют долги, чем семьи без детей; семьи с двумя детьми чаще, чем семьи с одним ребенком. Скорее всего ситуация для многодетных семей еще более сложная."
      ]
    },
    {
      "cell_type": "code",
      "execution_count": 82,
      "id": "dfaad1dd",
      "metadata": {
        "id": "dfaad1dd"
      },
      "outputs": [],
      "source": [
        "# Функция определения типа семьи в зависимости от количества детей\n",
        "\n",
        "def family_type(children):\n",
        "    if children == 0:\n",
        "        return 'бездетная'\n",
        "    elif children == 1:\n",
        "        return '1 ребенок'\n",
        "    return 'многодетная'"
      ]
    },
    {
      "cell_type": "code",
      "source": [
        "# Создание нового столбца 'family_type' с помощью функции family_type, примененной к столбцу 'children'\n",
        "data['family_type'] = data['children'].apply(family_type)\n",
        "\n",
        "# Группировка данных по столбцу 'family_type' и агрегация данных по столбцу 'debt'\n",
        "child_debt_table = data.groupby('family_type')['debt'].agg(['count', 'sum'])\n",
        "\n",
        "# Расчет процентного соотношения должников к общему количеству кредитополучателей\n",
        "child_debt_table['percent'] = round(child_debt_table['sum'] / child_debt_table['count'] * 100, 2)\n",
        "\n",
        "# Переименование столбцов для ясного отображения информации\n",
        "child_debt_table = child_debt_table.rename(columns={'count': 'Количество кредитополучателей', 'sum': 'Количество должников', 'percent': 'Доля должников'})\n",
        "\n",
        "# Сортировка таблицы по убыванию значения 'Доля должников'\n",
        "child_debt_table.sort_values(by='Доля должников', ascending=False)"
      ],
      "metadata": {
        "colab": {
          "base_uri": "https://localhost:8080/",
          "height": 174
        },
        "id": "WmO3d1bGjzXB",
        "outputId": "e00afc82-8397-43c0-f277-de893cad71f2"
      },
      "id": "WmO3d1bGjzXB",
      "execution_count": 83,
      "outputs": [
        {
          "output_type": "execute_result",
          "data": {
            "text/plain": [
              "             Количество кредитополучателей  Количество должников  \\\n",
              "family_type                                                        \n",
              "многодетная                           2432                   225   \n",
              "1 ребенок                             4808                   444   \n",
              "бездетная                            14091                  1063   \n",
              "\n",
              "             Доля должников  \n",
              "family_type                  \n",
              "многодетная            9.25  \n",
              "1 ребенок              9.23  \n",
              "бездетная              7.54  "
            ],
            "text/html": [
              "\n",
              "  <div id=\"df-cf3e5728-8ab9-4818-ab86-9e70edc27cda\" class=\"colab-df-container\">\n",
              "    <div>\n",
              "<style scoped>\n",
              "    .dataframe tbody tr th:only-of-type {\n",
              "        vertical-align: middle;\n",
              "    }\n",
              "\n",
              "    .dataframe tbody tr th {\n",
              "        vertical-align: top;\n",
              "    }\n",
              "\n",
              "    .dataframe thead th {\n",
              "        text-align: right;\n",
              "    }\n",
              "</style>\n",
              "<table border=\"1\" class=\"dataframe\">\n",
              "  <thead>\n",
              "    <tr style=\"text-align: right;\">\n",
              "      <th></th>\n",
              "      <th>Количество кредитополучателей</th>\n",
              "      <th>Количество должников</th>\n",
              "      <th>Доля должников</th>\n",
              "    </tr>\n",
              "    <tr>\n",
              "      <th>family_type</th>\n",
              "      <th></th>\n",
              "      <th></th>\n",
              "      <th></th>\n",
              "    </tr>\n",
              "  </thead>\n",
              "  <tbody>\n",
              "    <tr>\n",
              "      <th>многодетная</th>\n",
              "      <td>2432</td>\n",
              "      <td>225</td>\n",
              "      <td>9.25</td>\n",
              "    </tr>\n",
              "    <tr>\n",
              "      <th>1 ребенок</th>\n",
              "      <td>4808</td>\n",
              "      <td>444</td>\n",
              "      <td>9.23</td>\n",
              "    </tr>\n",
              "    <tr>\n",
              "      <th>бездетная</th>\n",
              "      <td>14091</td>\n",
              "      <td>1063</td>\n",
              "      <td>7.54</td>\n",
              "    </tr>\n",
              "  </tbody>\n",
              "</table>\n",
              "</div>\n",
              "    <div class=\"colab-df-buttons\">\n",
              "\n",
              "  <div class=\"colab-df-container\">\n",
              "    <button class=\"colab-df-convert\" onclick=\"convertToInteractive('df-cf3e5728-8ab9-4818-ab86-9e70edc27cda')\"\n",
              "            title=\"Convert this dataframe to an interactive table.\"\n",
              "            style=\"display:none;\">\n",
              "\n",
              "  <svg xmlns=\"http://www.w3.org/2000/svg\" height=\"24px\" viewBox=\"0 -960 960 960\">\n",
              "    <path d=\"M120-120v-720h720v720H120Zm60-500h600v-160H180v160Zm220 220h160v-160H400v160Zm0 220h160v-160H400v160ZM180-400h160v-160H180v160Zm440 0h160v-160H620v160ZM180-180h160v-160H180v160Zm440 0h160v-160H620v160Z\"/>\n",
              "  </svg>\n",
              "    </button>\n",
              "\n",
              "  <style>\n",
              "    .colab-df-container {\n",
              "      display:flex;\n",
              "      gap: 12px;\n",
              "    }\n",
              "\n",
              "    .colab-df-convert {\n",
              "      background-color: #E8F0FE;\n",
              "      border: none;\n",
              "      border-radius: 50%;\n",
              "      cursor: pointer;\n",
              "      display: none;\n",
              "      fill: #1967D2;\n",
              "      height: 32px;\n",
              "      padding: 0 0 0 0;\n",
              "      width: 32px;\n",
              "    }\n",
              "\n",
              "    .colab-df-convert:hover {\n",
              "      background-color: #E2EBFA;\n",
              "      box-shadow: 0px 1px 2px rgba(60, 64, 67, 0.3), 0px 1px 3px 1px rgba(60, 64, 67, 0.15);\n",
              "      fill: #174EA6;\n",
              "    }\n",
              "\n",
              "    .colab-df-buttons div {\n",
              "      margin-bottom: 4px;\n",
              "    }\n",
              "\n",
              "    [theme=dark] .colab-df-convert {\n",
              "      background-color: #3B4455;\n",
              "      fill: #D2E3FC;\n",
              "    }\n",
              "\n",
              "    [theme=dark] .colab-df-convert:hover {\n",
              "      background-color: #434B5C;\n",
              "      box-shadow: 0px 1px 3px 1px rgba(0, 0, 0, 0.15);\n",
              "      filter: drop-shadow(0px 1px 2px rgba(0, 0, 0, 0.3));\n",
              "      fill: #FFFFFF;\n",
              "    }\n",
              "  </style>\n",
              "\n",
              "    <script>\n",
              "      const buttonEl =\n",
              "        document.querySelector('#df-cf3e5728-8ab9-4818-ab86-9e70edc27cda button.colab-df-convert');\n",
              "      buttonEl.style.display =\n",
              "        google.colab.kernel.accessAllowed ? 'block' : 'none';\n",
              "\n",
              "      async function convertToInteractive(key) {\n",
              "        const element = document.querySelector('#df-cf3e5728-8ab9-4818-ab86-9e70edc27cda');\n",
              "        const dataTable =\n",
              "          await google.colab.kernel.invokeFunction('convertToInteractive',\n",
              "                                                    [key], {});\n",
              "        if (!dataTable) return;\n",
              "\n",
              "        const docLinkHtml = 'Like what you see? Visit the ' +\n",
              "          '<a target=\"_blank\" href=https://colab.research.google.com/notebooks/data_table.ipynb>data table notebook</a>'\n",
              "          + ' to learn more about interactive tables.';\n",
              "        element.innerHTML = '';\n",
              "        dataTable['output_type'] = 'display_data';\n",
              "        await google.colab.output.renderOutput(dataTable, element);\n",
              "        const docLink = document.createElement('div');\n",
              "        docLink.innerHTML = docLinkHtml;\n",
              "        element.appendChild(docLink);\n",
              "      }\n",
              "    </script>\n",
              "  </div>\n",
              "\n",
              "\n",
              "<div id=\"df-a25ce40e-d456-4621-acaf-60cbf1e693ee\">\n",
              "  <button class=\"colab-df-quickchart\" onclick=\"quickchart('df-a25ce40e-d456-4621-acaf-60cbf1e693ee')\"\n",
              "            title=\"Suggest charts\"\n",
              "            style=\"display:none;\">\n",
              "\n",
              "<svg xmlns=\"http://www.w3.org/2000/svg\" height=\"24px\"viewBox=\"0 0 24 24\"\n",
              "     width=\"24px\">\n",
              "    <g>\n",
              "        <path d=\"M19 3H5c-1.1 0-2 .9-2 2v14c0 1.1.9 2 2 2h14c1.1 0 2-.9 2-2V5c0-1.1-.9-2-2-2zM9 17H7v-7h2v7zm4 0h-2V7h2v10zm4 0h-2v-4h2v4z\"/>\n",
              "    </g>\n",
              "</svg>\n",
              "  </button>\n",
              "\n",
              "<style>\n",
              "  .colab-df-quickchart {\n",
              "      --bg-color: #E8F0FE;\n",
              "      --fill-color: #1967D2;\n",
              "      --hover-bg-color: #E2EBFA;\n",
              "      --hover-fill-color: #174EA6;\n",
              "      --disabled-fill-color: #AAA;\n",
              "      --disabled-bg-color: #DDD;\n",
              "  }\n",
              "\n",
              "  [theme=dark] .colab-df-quickchart {\n",
              "      --bg-color: #3B4455;\n",
              "      --fill-color: #D2E3FC;\n",
              "      --hover-bg-color: #434B5C;\n",
              "      --hover-fill-color: #FFFFFF;\n",
              "      --disabled-bg-color: #3B4455;\n",
              "      --disabled-fill-color: #666;\n",
              "  }\n",
              "\n",
              "  .colab-df-quickchart {\n",
              "    background-color: var(--bg-color);\n",
              "    border: none;\n",
              "    border-radius: 50%;\n",
              "    cursor: pointer;\n",
              "    display: none;\n",
              "    fill: var(--fill-color);\n",
              "    height: 32px;\n",
              "    padding: 0;\n",
              "    width: 32px;\n",
              "  }\n",
              "\n",
              "  .colab-df-quickchart:hover {\n",
              "    background-color: var(--hover-bg-color);\n",
              "    box-shadow: 0 1px 2px rgba(60, 64, 67, 0.3), 0 1px 3px 1px rgba(60, 64, 67, 0.15);\n",
              "    fill: var(--button-hover-fill-color);\n",
              "  }\n",
              "\n",
              "  .colab-df-quickchart-complete:disabled,\n",
              "  .colab-df-quickchart-complete:disabled:hover {\n",
              "    background-color: var(--disabled-bg-color);\n",
              "    fill: var(--disabled-fill-color);\n",
              "    box-shadow: none;\n",
              "  }\n",
              "\n",
              "  .colab-df-spinner {\n",
              "    border: 2px solid var(--fill-color);\n",
              "    border-color: transparent;\n",
              "    border-bottom-color: var(--fill-color);\n",
              "    animation:\n",
              "      spin 1s steps(1) infinite;\n",
              "  }\n",
              "\n",
              "  @keyframes spin {\n",
              "    0% {\n",
              "      border-color: transparent;\n",
              "      border-bottom-color: var(--fill-color);\n",
              "      border-left-color: var(--fill-color);\n",
              "    }\n",
              "    20% {\n",
              "      border-color: transparent;\n",
              "      border-left-color: var(--fill-color);\n",
              "      border-top-color: var(--fill-color);\n",
              "    }\n",
              "    30% {\n",
              "      border-color: transparent;\n",
              "      border-left-color: var(--fill-color);\n",
              "      border-top-color: var(--fill-color);\n",
              "      border-right-color: var(--fill-color);\n",
              "    }\n",
              "    40% {\n",
              "      border-color: transparent;\n",
              "      border-right-color: var(--fill-color);\n",
              "      border-top-color: var(--fill-color);\n",
              "    }\n",
              "    60% {\n",
              "      border-color: transparent;\n",
              "      border-right-color: var(--fill-color);\n",
              "    }\n",
              "    80% {\n",
              "      border-color: transparent;\n",
              "      border-right-color: var(--fill-color);\n",
              "      border-bottom-color: var(--fill-color);\n",
              "    }\n",
              "    90% {\n",
              "      border-color: transparent;\n",
              "      border-bottom-color: var(--fill-color);\n",
              "    }\n",
              "  }\n",
              "</style>\n",
              "\n",
              "  <script>\n",
              "    async function quickchart(key) {\n",
              "      const quickchartButtonEl =\n",
              "        document.querySelector('#' + key + ' button');\n",
              "      quickchartButtonEl.disabled = true;  // To prevent multiple clicks.\n",
              "      quickchartButtonEl.classList.add('colab-df-spinner');\n",
              "      try {\n",
              "        const charts = await google.colab.kernel.invokeFunction(\n",
              "            'suggestCharts', [key], {});\n",
              "      } catch (error) {\n",
              "        console.error('Error during call to suggestCharts:', error);\n",
              "      }\n",
              "      quickchartButtonEl.classList.remove('colab-df-spinner');\n",
              "      quickchartButtonEl.classList.add('colab-df-quickchart-complete');\n",
              "    }\n",
              "    (() => {\n",
              "      let quickchartButtonEl =\n",
              "        document.querySelector('#df-a25ce40e-d456-4621-acaf-60cbf1e693ee button');\n",
              "      quickchartButtonEl.style.display =\n",
              "        google.colab.kernel.accessAllowed ? 'block' : 'none';\n",
              "    })();\n",
              "  </script>\n",
              "</div>\n",
              "    </div>\n",
              "  </div>\n"
            ]
          },
          "metadata": {},
          "execution_count": 83
        }
      ]
    },
    {
      "cell_type": "markdown",
      "id": "6a0e423a",
      "metadata": {
        "deletable": false,
        "id": "6a0e423a"
      },
      "source": [
        "**Вывод:** Была обнаружена зависимость между количеством детей и фактом возврата кредитных средств в срок. Люди, которые не имеют детей, лучше всего отдают кредит, доля должников здесь составляет с 7,5%, хуже обстоит дело с кредиторами, кто имеет больше одного ребенка, здесь доля невозврата составляет соответственно 9,3%. Более детально категории  некорректно сравнивать, так как в них очень маленькая выборка.\n",
        "Для более детального анализа необходимо расширить и сбалансировать датасет."
      ]
    },
    {
      "cell_type": "markdown",
      "id": "5aab3a45",
      "metadata": {
        "deletable": false,
        "editable": false,
        "id": "5aab3a45"
      },
      "source": [
        "#### 3.2 Есть ли зависимость между семейным положением и возвратом кредита в срок?"
      ]
    },
    {
      "cell_type": "markdown",
      "id": "d608db35",
      "metadata": {
        "id": "d608db35"
      },
      "source": [
        "##### Получим уникальные значения для столбца 'family_status' и узнаем их количество"
      ]
    },
    {
      "cell_type": "code",
      "execution_count": 84,
      "id": "6f1736f6",
      "metadata": {
        "deletable": false,
        "id": "6f1736f6",
        "colab": {
          "base_uri": "https://localhost:8080/"
        },
        "outputId": "4f6ab46e-0fb3-4984-8f97-6f70d9b8444b"
      },
      "outputs": [
        {
          "output_type": "execute_result",
          "data": {
            "text/plain": [
              "array(['женат / замужем', 'гражданский брак', 'вдовец / вдова',\n",
              "       'в разводе', 'Не женат / не замужем'], dtype=object)"
            ]
          },
          "metadata": {},
          "execution_count": 84
        }
      ],
      "source": [
        "# Уникальные значения для столбца 'family_status'\n",
        "\n",
        "data['family_status'].unique()"
      ]
    },
    {
      "cell_type": "code",
      "execution_count": 85,
      "id": "73c35864",
      "metadata": {
        "colab": {
          "base_uri": "https://localhost:8080/"
        },
        "id": "73c35864",
        "outputId": "d9b7629f-641e-4b5d-ebad-061cbf2f0fed"
      },
      "outputs": [
        {
          "output_type": "execute_result",
          "data": {
            "text/plain": [
              "женат / замужем          12261\n",
              "гражданский брак          4134\n",
              "Не женат / не замужем     2796\n",
              "в разводе                 1189\n",
              "вдовец / вдова             951\n",
              "Name: family_status, dtype: int64"
            ]
          },
          "metadata": {},
          "execution_count": 85
        }
      ],
      "source": [
        "# Подсчет количества уникальных значений в столбце 'family_status'\n",
        "\n",
        "data['family_status'].value_counts()"
      ]
    },
    {
      "cell_type": "markdown",
      "id": "7f384871",
      "metadata": {
        "id": "7f384871"
      },
      "source": [
        "Выборка не очень равномерная, что может привести к неточностям в оценке."
      ]
    },
    {
      "cell_type": "markdown",
      "id": "4bb1c056",
      "metadata": {
        "id": "4bb1c056"
      },
      "source": [
        "##### Получим таблицу для поиска и анализа зависимости"
      ]
    },
    {
      "cell_type": "code",
      "execution_count": 86,
      "id": "5422ad9e",
      "metadata": {
        "colab": {
          "base_uri": "https://localhost:8080/",
          "height": 237
        },
        "id": "5422ad9e",
        "outputId": "cc448bed-d278-427f-8ed0-18f1d9c5f11d"
      },
      "outputs": [
        {
          "output_type": "execute_result",
          "data": {
            "text/plain": [
              "                       Количество кредитополучателей  Количество должников  \\\n",
              "family_status                                                                \n",
              "Не женат / не замужем                           2796                   273   \n",
              "гражданский брак                                4134                   385   \n",
              "женат / замужем                                12261                   927   \n",
              "в разводе                                       1189                    84   \n",
              "вдовец / вдова                                   951                    63   \n",
              "\n",
              "                       Доля должников  \n",
              "family_status                          \n",
              "Не женат / не замужем            9.76  \n",
              "гражданский брак                 9.31  \n",
              "женат / замужем                  7.56  \n",
              "в разводе                        7.06  \n",
              "вдовец / вдова                   6.62  "
            ],
            "text/html": [
              "\n",
              "  <div id=\"df-5b51b74e-3297-43a6-81db-4b3a8c682ec0\" class=\"colab-df-container\">\n",
              "    <div>\n",
              "<style scoped>\n",
              "    .dataframe tbody tr th:only-of-type {\n",
              "        vertical-align: middle;\n",
              "    }\n",
              "\n",
              "    .dataframe tbody tr th {\n",
              "        vertical-align: top;\n",
              "    }\n",
              "\n",
              "    .dataframe thead th {\n",
              "        text-align: right;\n",
              "    }\n",
              "</style>\n",
              "<table border=\"1\" class=\"dataframe\">\n",
              "  <thead>\n",
              "    <tr style=\"text-align: right;\">\n",
              "      <th></th>\n",
              "      <th>Количество кредитополучателей</th>\n",
              "      <th>Количество должников</th>\n",
              "      <th>Доля должников</th>\n",
              "    </tr>\n",
              "    <tr>\n",
              "      <th>family_status</th>\n",
              "      <th></th>\n",
              "      <th></th>\n",
              "      <th></th>\n",
              "    </tr>\n",
              "  </thead>\n",
              "  <tbody>\n",
              "    <tr>\n",
              "      <th>Не женат / не замужем</th>\n",
              "      <td>2796</td>\n",
              "      <td>273</td>\n",
              "      <td>9.76</td>\n",
              "    </tr>\n",
              "    <tr>\n",
              "      <th>гражданский брак</th>\n",
              "      <td>4134</td>\n",
              "      <td>385</td>\n",
              "      <td>9.31</td>\n",
              "    </tr>\n",
              "    <tr>\n",
              "      <th>женат / замужем</th>\n",
              "      <td>12261</td>\n",
              "      <td>927</td>\n",
              "      <td>7.56</td>\n",
              "    </tr>\n",
              "    <tr>\n",
              "      <th>в разводе</th>\n",
              "      <td>1189</td>\n",
              "      <td>84</td>\n",
              "      <td>7.06</td>\n",
              "    </tr>\n",
              "    <tr>\n",
              "      <th>вдовец / вдова</th>\n",
              "      <td>951</td>\n",
              "      <td>63</td>\n",
              "      <td>6.62</td>\n",
              "    </tr>\n",
              "  </tbody>\n",
              "</table>\n",
              "</div>\n",
              "    <div class=\"colab-df-buttons\">\n",
              "\n",
              "  <div class=\"colab-df-container\">\n",
              "    <button class=\"colab-df-convert\" onclick=\"convertToInteractive('df-5b51b74e-3297-43a6-81db-4b3a8c682ec0')\"\n",
              "            title=\"Convert this dataframe to an interactive table.\"\n",
              "            style=\"display:none;\">\n",
              "\n",
              "  <svg xmlns=\"http://www.w3.org/2000/svg\" height=\"24px\" viewBox=\"0 -960 960 960\">\n",
              "    <path d=\"M120-120v-720h720v720H120Zm60-500h600v-160H180v160Zm220 220h160v-160H400v160Zm0 220h160v-160H400v160ZM180-400h160v-160H180v160Zm440 0h160v-160H620v160ZM180-180h160v-160H180v160Zm440 0h160v-160H620v160Z\"/>\n",
              "  </svg>\n",
              "    </button>\n",
              "\n",
              "  <style>\n",
              "    .colab-df-container {\n",
              "      display:flex;\n",
              "      gap: 12px;\n",
              "    }\n",
              "\n",
              "    .colab-df-convert {\n",
              "      background-color: #E8F0FE;\n",
              "      border: none;\n",
              "      border-radius: 50%;\n",
              "      cursor: pointer;\n",
              "      display: none;\n",
              "      fill: #1967D2;\n",
              "      height: 32px;\n",
              "      padding: 0 0 0 0;\n",
              "      width: 32px;\n",
              "    }\n",
              "\n",
              "    .colab-df-convert:hover {\n",
              "      background-color: #E2EBFA;\n",
              "      box-shadow: 0px 1px 2px rgba(60, 64, 67, 0.3), 0px 1px 3px 1px rgba(60, 64, 67, 0.15);\n",
              "      fill: #174EA6;\n",
              "    }\n",
              "\n",
              "    .colab-df-buttons div {\n",
              "      margin-bottom: 4px;\n",
              "    }\n",
              "\n",
              "    [theme=dark] .colab-df-convert {\n",
              "      background-color: #3B4455;\n",
              "      fill: #D2E3FC;\n",
              "    }\n",
              "\n",
              "    [theme=dark] .colab-df-convert:hover {\n",
              "      background-color: #434B5C;\n",
              "      box-shadow: 0px 1px 3px 1px rgba(0, 0, 0, 0.15);\n",
              "      filter: drop-shadow(0px 1px 2px rgba(0, 0, 0, 0.3));\n",
              "      fill: #FFFFFF;\n",
              "    }\n",
              "  </style>\n",
              "\n",
              "    <script>\n",
              "      const buttonEl =\n",
              "        document.querySelector('#df-5b51b74e-3297-43a6-81db-4b3a8c682ec0 button.colab-df-convert');\n",
              "      buttonEl.style.display =\n",
              "        google.colab.kernel.accessAllowed ? 'block' : 'none';\n",
              "\n",
              "      async function convertToInteractive(key) {\n",
              "        const element = document.querySelector('#df-5b51b74e-3297-43a6-81db-4b3a8c682ec0');\n",
              "        const dataTable =\n",
              "          await google.colab.kernel.invokeFunction('convertToInteractive',\n",
              "                                                    [key], {});\n",
              "        if (!dataTable) return;\n",
              "\n",
              "        const docLinkHtml = 'Like what you see? Visit the ' +\n",
              "          '<a target=\"_blank\" href=https://colab.research.google.com/notebooks/data_table.ipynb>data table notebook</a>'\n",
              "          + ' to learn more about interactive tables.';\n",
              "        element.innerHTML = '';\n",
              "        dataTable['output_type'] = 'display_data';\n",
              "        await google.colab.output.renderOutput(dataTable, element);\n",
              "        const docLink = document.createElement('div');\n",
              "        docLink.innerHTML = docLinkHtml;\n",
              "        element.appendChild(docLink);\n",
              "      }\n",
              "    </script>\n",
              "  </div>\n",
              "\n",
              "\n",
              "<div id=\"df-a2df9461-298f-4857-8b13-e23143f95571\">\n",
              "  <button class=\"colab-df-quickchart\" onclick=\"quickchart('df-a2df9461-298f-4857-8b13-e23143f95571')\"\n",
              "            title=\"Suggest charts\"\n",
              "            style=\"display:none;\">\n",
              "\n",
              "<svg xmlns=\"http://www.w3.org/2000/svg\" height=\"24px\"viewBox=\"0 0 24 24\"\n",
              "     width=\"24px\">\n",
              "    <g>\n",
              "        <path d=\"M19 3H5c-1.1 0-2 .9-2 2v14c0 1.1.9 2 2 2h14c1.1 0 2-.9 2-2V5c0-1.1-.9-2-2-2zM9 17H7v-7h2v7zm4 0h-2V7h2v10zm4 0h-2v-4h2v4z\"/>\n",
              "    </g>\n",
              "</svg>\n",
              "  </button>\n",
              "\n",
              "<style>\n",
              "  .colab-df-quickchart {\n",
              "      --bg-color: #E8F0FE;\n",
              "      --fill-color: #1967D2;\n",
              "      --hover-bg-color: #E2EBFA;\n",
              "      --hover-fill-color: #174EA6;\n",
              "      --disabled-fill-color: #AAA;\n",
              "      --disabled-bg-color: #DDD;\n",
              "  }\n",
              "\n",
              "  [theme=dark] .colab-df-quickchart {\n",
              "      --bg-color: #3B4455;\n",
              "      --fill-color: #D2E3FC;\n",
              "      --hover-bg-color: #434B5C;\n",
              "      --hover-fill-color: #FFFFFF;\n",
              "      --disabled-bg-color: #3B4455;\n",
              "      --disabled-fill-color: #666;\n",
              "  }\n",
              "\n",
              "  .colab-df-quickchart {\n",
              "    background-color: var(--bg-color);\n",
              "    border: none;\n",
              "    border-radius: 50%;\n",
              "    cursor: pointer;\n",
              "    display: none;\n",
              "    fill: var(--fill-color);\n",
              "    height: 32px;\n",
              "    padding: 0;\n",
              "    width: 32px;\n",
              "  }\n",
              "\n",
              "  .colab-df-quickchart:hover {\n",
              "    background-color: var(--hover-bg-color);\n",
              "    box-shadow: 0 1px 2px rgba(60, 64, 67, 0.3), 0 1px 3px 1px rgba(60, 64, 67, 0.15);\n",
              "    fill: var(--button-hover-fill-color);\n",
              "  }\n",
              "\n",
              "  .colab-df-quickchart-complete:disabled,\n",
              "  .colab-df-quickchart-complete:disabled:hover {\n",
              "    background-color: var(--disabled-bg-color);\n",
              "    fill: var(--disabled-fill-color);\n",
              "    box-shadow: none;\n",
              "  }\n",
              "\n",
              "  .colab-df-spinner {\n",
              "    border: 2px solid var(--fill-color);\n",
              "    border-color: transparent;\n",
              "    border-bottom-color: var(--fill-color);\n",
              "    animation:\n",
              "      spin 1s steps(1) infinite;\n",
              "  }\n",
              "\n",
              "  @keyframes spin {\n",
              "    0% {\n",
              "      border-color: transparent;\n",
              "      border-bottom-color: var(--fill-color);\n",
              "      border-left-color: var(--fill-color);\n",
              "    }\n",
              "    20% {\n",
              "      border-color: transparent;\n",
              "      border-left-color: var(--fill-color);\n",
              "      border-top-color: var(--fill-color);\n",
              "    }\n",
              "    30% {\n",
              "      border-color: transparent;\n",
              "      border-left-color: var(--fill-color);\n",
              "      border-top-color: var(--fill-color);\n",
              "      border-right-color: var(--fill-color);\n",
              "    }\n",
              "    40% {\n",
              "      border-color: transparent;\n",
              "      border-right-color: var(--fill-color);\n",
              "      border-top-color: var(--fill-color);\n",
              "    }\n",
              "    60% {\n",
              "      border-color: transparent;\n",
              "      border-right-color: var(--fill-color);\n",
              "    }\n",
              "    80% {\n",
              "      border-color: transparent;\n",
              "      border-right-color: var(--fill-color);\n",
              "      border-bottom-color: var(--fill-color);\n",
              "    }\n",
              "    90% {\n",
              "      border-color: transparent;\n",
              "      border-bottom-color: var(--fill-color);\n",
              "    }\n",
              "  }\n",
              "</style>\n",
              "\n",
              "  <script>\n",
              "    async function quickchart(key) {\n",
              "      const quickchartButtonEl =\n",
              "        document.querySelector('#' + key + ' button');\n",
              "      quickchartButtonEl.disabled = true;  // To prevent multiple clicks.\n",
              "      quickchartButtonEl.classList.add('colab-df-spinner');\n",
              "      try {\n",
              "        const charts = await google.colab.kernel.invokeFunction(\n",
              "            'suggestCharts', [key], {});\n",
              "      } catch (error) {\n",
              "        console.error('Error during call to suggestCharts:', error);\n",
              "      }\n",
              "      quickchartButtonEl.classList.remove('colab-df-spinner');\n",
              "      quickchartButtonEl.classList.add('colab-df-quickchart-complete');\n",
              "    }\n",
              "    (() => {\n",
              "      let quickchartButtonEl =\n",
              "        document.querySelector('#df-a2df9461-298f-4857-8b13-e23143f95571 button');\n",
              "      quickchartButtonEl.style.display =\n",
              "        google.colab.kernel.accessAllowed ? 'block' : 'none';\n",
              "    })();\n",
              "  </script>\n",
              "</div>\n",
              "    </div>\n",
              "  </div>\n"
            ]
          },
          "metadata": {},
          "execution_count": 86
        }
      ],
      "source": [
        "# Группировка данных по семейному статусу и агрегация информации о задолженности\n",
        "marriage_debt_table = data.groupby('family_status')['debt'].agg(['count', 'sum'])\n",
        "\n",
        "# Расчет процентной доли должников от общего количества кредитополучателей\n",
        "marriage_debt_table['percent'] = round(marriage_debt_table['sum'] / marriage_debt_table['count'] * 100, 2)\n",
        "\n",
        "# Переименование столбцов для более ясного понимания содержания\n",
        "marriage_debt_table = marriage_debt_table.rename(columns={'count': 'Количество кредитополучателей', 'sum': 'Количество должников', 'percent': 'Доля должников'})\n",
        "\n",
        "# Сортировка таблицы по убыванию доли должников\n",
        "marriage_debt_table.sort_values(by='Доля должников', ascending=False)"
      ]
    },
    {
      "cell_type": "markdown",
      "id": "b909ce53",
      "metadata": {
        "deletable": false,
        "id": "b909ce53"
      },
      "source": [
        "**Вывод:** Анализ таблицы показывает, что одинокие люди в прошлом состаявшие в браке хорошо справляются с кредитными обязательствами, должников среди них 6,6 - 7 %. Семейные пары так же достаточно ответственно платят по кредитам, должников среди них 7,6 %. Пары проживающие гражданским браком, не женатые и не замужние граждане самые ненадежные, должников среди них 9,3 % и 9,8 % соответственно.\n",
        "\n",
        "Надо заметить, что категории клиентов не состоящих в браке самые малочисленные в представленной выборке. Вероятно это случайность. Однако, может оказаться так, что одинокие люди просто реже берут кредиты.\n",
        "\n",
        "Вероятно, наиболее надежные плательщики - это люди имеющие и осознающие ответственность, например, за детей. В дальнейших исследованиях можно выяснить есть ли корреляция. Так же не совсем понятно ведут ли себя одинаково мужчины и женщины. Эту зависимость тоже нужно изучить."
      ]
    },
    {
      "cell_type": "markdown",
      "id": "42e29a59",
      "metadata": {
        "deletable": false,
        "editable": false,
        "id": "42e29a59"
      },
      "source": [
        "#### 3.3 Есть ли зависимость между уровнем дохода и возвратом кредита в срок?"
      ]
    },
    {
      "cell_type": "markdown",
      "id": "28c60db4",
      "metadata": {
        "deletable": false,
        "id": "28c60db4"
      },
      "source": [
        "##### Получим таблицу для поиска и анализа зависимости"
      ]
    },
    {
      "cell_type": "code",
      "execution_count": 87,
      "id": "b9836ac5",
      "metadata": {
        "colab": {
          "base_uri": "https://localhost:8080/",
          "height": 237
        },
        "id": "b9836ac5",
        "outputId": "cc669b56-dd18-4b57-9f7d-6511a8079a94"
      },
      "outputs": [
        {
          "output_type": "execute_result",
          "data": {
            "text/plain": [
              "                       Количество кредитополучателей  Количество должников  \\\n",
              "total_income_category                                                        \n",
              "E                                                 22                     2   \n",
              "C                                              15921                  1353   \n",
              "A                                                 25                     2   \n",
              "B                                               5014                   354   \n",
              "D                                                349                    21   \n",
              "\n",
              "                       Доля должников  \n",
              "total_income_category                  \n",
              "E                                9.09  \n",
              "C                                8.50  \n",
              "A                                8.00  \n",
              "B                                7.06  \n",
              "D                                6.02  "
            ],
            "text/html": [
              "\n",
              "  <div id=\"df-5341c8f1-1266-4d9a-9dad-1670ae2618ef\" class=\"colab-df-container\">\n",
              "    <div>\n",
              "<style scoped>\n",
              "    .dataframe tbody tr th:only-of-type {\n",
              "        vertical-align: middle;\n",
              "    }\n",
              "\n",
              "    .dataframe tbody tr th {\n",
              "        vertical-align: top;\n",
              "    }\n",
              "\n",
              "    .dataframe thead th {\n",
              "        text-align: right;\n",
              "    }\n",
              "</style>\n",
              "<table border=\"1\" class=\"dataframe\">\n",
              "  <thead>\n",
              "    <tr style=\"text-align: right;\">\n",
              "      <th></th>\n",
              "      <th>Количество кредитополучателей</th>\n",
              "      <th>Количество должников</th>\n",
              "      <th>Доля должников</th>\n",
              "    </tr>\n",
              "    <tr>\n",
              "      <th>total_income_category</th>\n",
              "      <th></th>\n",
              "      <th></th>\n",
              "      <th></th>\n",
              "    </tr>\n",
              "  </thead>\n",
              "  <tbody>\n",
              "    <tr>\n",
              "      <th>E</th>\n",
              "      <td>22</td>\n",
              "      <td>2</td>\n",
              "      <td>9.09</td>\n",
              "    </tr>\n",
              "    <tr>\n",
              "      <th>C</th>\n",
              "      <td>15921</td>\n",
              "      <td>1353</td>\n",
              "      <td>8.50</td>\n",
              "    </tr>\n",
              "    <tr>\n",
              "      <th>A</th>\n",
              "      <td>25</td>\n",
              "      <td>2</td>\n",
              "      <td>8.00</td>\n",
              "    </tr>\n",
              "    <tr>\n",
              "      <th>B</th>\n",
              "      <td>5014</td>\n",
              "      <td>354</td>\n",
              "      <td>7.06</td>\n",
              "    </tr>\n",
              "    <tr>\n",
              "      <th>D</th>\n",
              "      <td>349</td>\n",
              "      <td>21</td>\n",
              "      <td>6.02</td>\n",
              "    </tr>\n",
              "  </tbody>\n",
              "</table>\n",
              "</div>\n",
              "    <div class=\"colab-df-buttons\">\n",
              "\n",
              "  <div class=\"colab-df-container\">\n",
              "    <button class=\"colab-df-convert\" onclick=\"convertToInteractive('df-5341c8f1-1266-4d9a-9dad-1670ae2618ef')\"\n",
              "            title=\"Convert this dataframe to an interactive table.\"\n",
              "            style=\"display:none;\">\n",
              "\n",
              "  <svg xmlns=\"http://www.w3.org/2000/svg\" height=\"24px\" viewBox=\"0 -960 960 960\">\n",
              "    <path d=\"M120-120v-720h720v720H120Zm60-500h600v-160H180v160Zm220 220h160v-160H400v160Zm0 220h160v-160H400v160ZM180-400h160v-160H180v160Zm440 0h160v-160H620v160ZM180-180h160v-160H180v160Zm440 0h160v-160H620v160Z\"/>\n",
              "  </svg>\n",
              "    </button>\n",
              "\n",
              "  <style>\n",
              "    .colab-df-container {\n",
              "      display:flex;\n",
              "      gap: 12px;\n",
              "    }\n",
              "\n",
              "    .colab-df-convert {\n",
              "      background-color: #E8F0FE;\n",
              "      border: none;\n",
              "      border-radius: 50%;\n",
              "      cursor: pointer;\n",
              "      display: none;\n",
              "      fill: #1967D2;\n",
              "      height: 32px;\n",
              "      padding: 0 0 0 0;\n",
              "      width: 32px;\n",
              "    }\n",
              "\n",
              "    .colab-df-convert:hover {\n",
              "      background-color: #E2EBFA;\n",
              "      box-shadow: 0px 1px 2px rgba(60, 64, 67, 0.3), 0px 1px 3px 1px rgba(60, 64, 67, 0.15);\n",
              "      fill: #174EA6;\n",
              "    }\n",
              "\n",
              "    .colab-df-buttons div {\n",
              "      margin-bottom: 4px;\n",
              "    }\n",
              "\n",
              "    [theme=dark] .colab-df-convert {\n",
              "      background-color: #3B4455;\n",
              "      fill: #D2E3FC;\n",
              "    }\n",
              "\n",
              "    [theme=dark] .colab-df-convert:hover {\n",
              "      background-color: #434B5C;\n",
              "      box-shadow: 0px 1px 3px 1px rgba(0, 0, 0, 0.15);\n",
              "      filter: drop-shadow(0px 1px 2px rgba(0, 0, 0, 0.3));\n",
              "      fill: #FFFFFF;\n",
              "    }\n",
              "  </style>\n",
              "\n",
              "    <script>\n",
              "      const buttonEl =\n",
              "        document.querySelector('#df-5341c8f1-1266-4d9a-9dad-1670ae2618ef button.colab-df-convert');\n",
              "      buttonEl.style.display =\n",
              "        google.colab.kernel.accessAllowed ? 'block' : 'none';\n",
              "\n",
              "      async function convertToInteractive(key) {\n",
              "        const element = document.querySelector('#df-5341c8f1-1266-4d9a-9dad-1670ae2618ef');\n",
              "        const dataTable =\n",
              "          await google.colab.kernel.invokeFunction('convertToInteractive',\n",
              "                                                    [key], {});\n",
              "        if (!dataTable) return;\n",
              "\n",
              "        const docLinkHtml = 'Like what you see? Visit the ' +\n",
              "          '<a target=\"_blank\" href=https://colab.research.google.com/notebooks/data_table.ipynb>data table notebook</a>'\n",
              "          + ' to learn more about interactive tables.';\n",
              "        element.innerHTML = '';\n",
              "        dataTable['output_type'] = 'display_data';\n",
              "        await google.colab.output.renderOutput(dataTable, element);\n",
              "        const docLink = document.createElement('div');\n",
              "        docLink.innerHTML = docLinkHtml;\n",
              "        element.appendChild(docLink);\n",
              "      }\n",
              "    </script>\n",
              "  </div>\n",
              "\n",
              "\n",
              "<div id=\"df-b4c0ee96-c74e-4a49-8030-a0d694df3ad8\">\n",
              "  <button class=\"colab-df-quickchart\" onclick=\"quickchart('df-b4c0ee96-c74e-4a49-8030-a0d694df3ad8')\"\n",
              "            title=\"Suggest charts\"\n",
              "            style=\"display:none;\">\n",
              "\n",
              "<svg xmlns=\"http://www.w3.org/2000/svg\" height=\"24px\"viewBox=\"0 0 24 24\"\n",
              "     width=\"24px\">\n",
              "    <g>\n",
              "        <path d=\"M19 3H5c-1.1 0-2 .9-2 2v14c0 1.1.9 2 2 2h14c1.1 0 2-.9 2-2V5c0-1.1-.9-2-2-2zM9 17H7v-7h2v7zm4 0h-2V7h2v10zm4 0h-2v-4h2v4z\"/>\n",
              "    </g>\n",
              "</svg>\n",
              "  </button>\n",
              "\n",
              "<style>\n",
              "  .colab-df-quickchart {\n",
              "      --bg-color: #E8F0FE;\n",
              "      --fill-color: #1967D2;\n",
              "      --hover-bg-color: #E2EBFA;\n",
              "      --hover-fill-color: #174EA6;\n",
              "      --disabled-fill-color: #AAA;\n",
              "      --disabled-bg-color: #DDD;\n",
              "  }\n",
              "\n",
              "  [theme=dark] .colab-df-quickchart {\n",
              "      --bg-color: #3B4455;\n",
              "      --fill-color: #D2E3FC;\n",
              "      --hover-bg-color: #434B5C;\n",
              "      --hover-fill-color: #FFFFFF;\n",
              "      --disabled-bg-color: #3B4455;\n",
              "      --disabled-fill-color: #666;\n",
              "  }\n",
              "\n",
              "  .colab-df-quickchart {\n",
              "    background-color: var(--bg-color);\n",
              "    border: none;\n",
              "    border-radius: 50%;\n",
              "    cursor: pointer;\n",
              "    display: none;\n",
              "    fill: var(--fill-color);\n",
              "    height: 32px;\n",
              "    padding: 0;\n",
              "    width: 32px;\n",
              "  }\n",
              "\n",
              "  .colab-df-quickchart:hover {\n",
              "    background-color: var(--hover-bg-color);\n",
              "    box-shadow: 0 1px 2px rgba(60, 64, 67, 0.3), 0 1px 3px 1px rgba(60, 64, 67, 0.15);\n",
              "    fill: var(--button-hover-fill-color);\n",
              "  }\n",
              "\n",
              "  .colab-df-quickchart-complete:disabled,\n",
              "  .colab-df-quickchart-complete:disabled:hover {\n",
              "    background-color: var(--disabled-bg-color);\n",
              "    fill: var(--disabled-fill-color);\n",
              "    box-shadow: none;\n",
              "  }\n",
              "\n",
              "  .colab-df-spinner {\n",
              "    border: 2px solid var(--fill-color);\n",
              "    border-color: transparent;\n",
              "    border-bottom-color: var(--fill-color);\n",
              "    animation:\n",
              "      spin 1s steps(1) infinite;\n",
              "  }\n",
              "\n",
              "  @keyframes spin {\n",
              "    0% {\n",
              "      border-color: transparent;\n",
              "      border-bottom-color: var(--fill-color);\n",
              "      border-left-color: var(--fill-color);\n",
              "    }\n",
              "    20% {\n",
              "      border-color: transparent;\n",
              "      border-left-color: var(--fill-color);\n",
              "      border-top-color: var(--fill-color);\n",
              "    }\n",
              "    30% {\n",
              "      border-color: transparent;\n",
              "      border-left-color: var(--fill-color);\n",
              "      border-top-color: var(--fill-color);\n",
              "      border-right-color: var(--fill-color);\n",
              "    }\n",
              "    40% {\n",
              "      border-color: transparent;\n",
              "      border-right-color: var(--fill-color);\n",
              "      border-top-color: var(--fill-color);\n",
              "    }\n",
              "    60% {\n",
              "      border-color: transparent;\n",
              "      border-right-color: var(--fill-color);\n",
              "    }\n",
              "    80% {\n",
              "      border-color: transparent;\n",
              "      border-right-color: var(--fill-color);\n",
              "      border-bottom-color: var(--fill-color);\n",
              "    }\n",
              "    90% {\n",
              "      border-color: transparent;\n",
              "      border-bottom-color: var(--fill-color);\n",
              "    }\n",
              "  }\n",
              "</style>\n",
              "\n",
              "  <script>\n",
              "    async function quickchart(key) {\n",
              "      const quickchartButtonEl =\n",
              "        document.querySelector('#' + key + ' button');\n",
              "      quickchartButtonEl.disabled = true;  // To prevent multiple clicks.\n",
              "      quickchartButtonEl.classList.add('colab-df-spinner');\n",
              "      try {\n",
              "        const charts = await google.colab.kernel.invokeFunction(\n",
              "            'suggestCharts', [key], {});\n",
              "      } catch (error) {\n",
              "        console.error('Error during call to suggestCharts:', error);\n",
              "      }\n",
              "      quickchartButtonEl.classList.remove('colab-df-spinner');\n",
              "      quickchartButtonEl.classList.add('colab-df-quickchart-complete');\n",
              "    }\n",
              "    (() => {\n",
              "      let quickchartButtonEl =\n",
              "        document.querySelector('#df-b4c0ee96-c74e-4a49-8030-a0d694df3ad8 button');\n",
              "      quickchartButtonEl.style.display =\n",
              "        google.colab.kernel.accessAllowed ? 'block' : 'none';\n",
              "    })();\n",
              "  </script>\n",
              "</div>\n",
              "    </div>\n",
              "  </div>\n"
            ]
          },
          "metadata": {},
          "execution_count": 87
        }
      ],
      "source": [
        "# Группируем данные по категориям общего дохода ('total_income_category') и рассчитываем статистику по задолженностям\n",
        "salary_debt_table = data.groupby('total_income_category')['debt'].agg(['count', 'sum'])\n",
        "\n",
        "# Рассчитываем процент должников от общего числа кредитополучателей в каждой категории дохода\n",
        "salary_debt_table['percent'] = round(salary_debt_table['sum'] / salary_debt_table['count'] * 100, 2)\n",
        "\n",
        "# Переименовываем столбцы для более ясного понимания содержания таблицы\n",
        "salary_debt_table = salary_debt_table.rename(columns={'count': 'Количество кредитополучателей',\n",
        "                                                    'sum': 'Количество должников',\n",
        "                                                    'percent': 'Доля должников'})\n",
        "\n",
        "# Сортируем таблицу по убыванию значения \"Доля должников\"\n",
        "salary_debt_table.sort_values(by='Доля должников', ascending=False)"
      ]
    },
    {
      "cell_type": "markdown",
      "id": "97a9b287",
      "metadata": {
        "deletable": false,
        "id": "97a9b287"
      },
      "source": [
        "**Вывод:** Данные по категориям А, Е и D не достаточно презентабельны, так как сформированы из очень маленькой выборки.\n",
        "Клиенты из категории В (богатые люди) реже попадают в долги (7% должников), чем клиенты категории С (средний класс) среди которых 8% должников.\n",
        "\n",
        "Для дальнейших исследований рекомендуется расширить выборку."
      ]
    },
    {
      "cell_type": "markdown",
      "id": "c10c021f",
      "metadata": {
        "deletable": false,
        "editable": false,
        "id": "c10c021f"
      },
      "source": [
        "#### 3.4 Как разные цели кредита влияют на его возврат в срок?"
      ]
    },
    {
      "cell_type": "markdown",
      "id": "1aa82bd5",
      "metadata": {
        "id": "1aa82bd5"
      },
      "source": [
        "##### Получим таблицу для поиска и анализа зависимости"
      ]
    },
    {
      "cell_type": "code",
      "execution_count": 88,
      "id": "093832c2",
      "metadata": {
        "deletable": false,
        "id": "093832c2",
        "colab": {
          "base_uri": "https://localhost:8080/",
          "height": 206
        },
        "outputId": "03f27509-100a-4d9e-f2a0-7ea374a00345"
      },
      "outputs": [
        {
          "output_type": "execute_result",
          "data": {
            "text/plain": [
              "                          Количество кредитополучателей  Количество должников  \\\n",
              "purpose_category                                                                \n",
              "операции с автомобилем                             4279                   400   \n",
              "получение образования                              3988                   369   \n",
              "проведение свадьбы                                 2313                   183   \n",
              "операции с недвижимостью                          10751                   780   \n",
              "\n",
              "                          Доля должников  \n",
              "purpose_category                          \n",
              "операции с автомобилем              9.35  \n",
              "получение образования               9.25  \n",
              "проведение свадьбы                  7.91  \n",
              "операции с недвижимостью            7.26  "
            ],
            "text/html": [
              "\n",
              "  <div id=\"df-ead08c99-d867-4564-8188-1fea00e72694\" class=\"colab-df-container\">\n",
              "    <div>\n",
              "<style scoped>\n",
              "    .dataframe tbody tr th:only-of-type {\n",
              "        vertical-align: middle;\n",
              "    }\n",
              "\n",
              "    .dataframe tbody tr th {\n",
              "        vertical-align: top;\n",
              "    }\n",
              "\n",
              "    .dataframe thead th {\n",
              "        text-align: right;\n",
              "    }\n",
              "</style>\n",
              "<table border=\"1\" class=\"dataframe\">\n",
              "  <thead>\n",
              "    <tr style=\"text-align: right;\">\n",
              "      <th></th>\n",
              "      <th>Количество кредитополучателей</th>\n",
              "      <th>Количество должников</th>\n",
              "      <th>Доля должников</th>\n",
              "    </tr>\n",
              "    <tr>\n",
              "      <th>purpose_category</th>\n",
              "      <th></th>\n",
              "      <th></th>\n",
              "      <th></th>\n",
              "    </tr>\n",
              "  </thead>\n",
              "  <tbody>\n",
              "    <tr>\n",
              "      <th>операции с автомобилем</th>\n",
              "      <td>4279</td>\n",
              "      <td>400</td>\n",
              "      <td>9.35</td>\n",
              "    </tr>\n",
              "    <tr>\n",
              "      <th>получение образования</th>\n",
              "      <td>3988</td>\n",
              "      <td>369</td>\n",
              "      <td>9.25</td>\n",
              "    </tr>\n",
              "    <tr>\n",
              "      <th>проведение свадьбы</th>\n",
              "      <td>2313</td>\n",
              "      <td>183</td>\n",
              "      <td>7.91</td>\n",
              "    </tr>\n",
              "    <tr>\n",
              "      <th>операции с недвижимостью</th>\n",
              "      <td>10751</td>\n",
              "      <td>780</td>\n",
              "      <td>7.26</td>\n",
              "    </tr>\n",
              "  </tbody>\n",
              "</table>\n",
              "</div>\n",
              "    <div class=\"colab-df-buttons\">\n",
              "\n",
              "  <div class=\"colab-df-container\">\n",
              "    <button class=\"colab-df-convert\" onclick=\"convertToInteractive('df-ead08c99-d867-4564-8188-1fea00e72694')\"\n",
              "            title=\"Convert this dataframe to an interactive table.\"\n",
              "            style=\"display:none;\">\n",
              "\n",
              "  <svg xmlns=\"http://www.w3.org/2000/svg\" height=\"24px\" viewBox=\"0 -960 960 960\">\n",
              "    <path d=\"M120-120v-720h720v720H120Zm60-500h600v-160H180v160Zm220 220h160v-160H400v160Zm0 220h160v-160H400v160ZM180-400h160v-160H180v160Zm440 0h160v-160H620v160ZM180-180h160v-160H180v160Zm440 0h160v-160H620v160Z\"/>\n",
              "  </svg>\n",
              "    </button>\n",
              "\n",
              "  <style>\n",
              "    .colab-df-container {\n",
              "      display:flex;\n",
              "      gap: 12px;\n",
              "    }\n",
              "\n",
              "    .colab-df-convert {\n",
              "      background-color: #E8F0FE;\n",
              "      border: none;\n",
              "      border-radius: 50%;\n",
              "      cursor: pointer;\n",
              "      display: none;\n",
              "      fill: #1967D2;\n",
              "      height: 32px;\n",
              "      padding: 0 0 0 0;\n",
              "      width: 32px;\n",
              "    }\n",
              "\n",
              "    .colab-df-convert:hover {\n",
              "      background-color: #E2EBFA;\n",
              "      box-shadow: 0px 1px 2px rgba(60, 64, 67, 0.3), 0px 1px 3px 1px rgba(60, 64, 67, 0.15);\n",
              "      fill: #174EA6;\n",
              "    }\n",
              "\n",
              "    .colab-df-buttons div {\n",
              "      margin-bottom: 4px;\n",
              "    }\n",
              "\n",
              "    [theme=dark] .colab-df-convert {\n",
              "      background-color: #3B4455;\n",
              "      fill: #D2E3FC;\n",
              "    }\n",
              "\n",
              "    [theme=dark] .colab-df-convert:hover {\n",
              "      background-color: #434B5C;\n",
              "      box-shadow: 0px 1px 3px 1px rgba(0, 0, 0, 0.15);\n",
              "      filter: drop-shadow(0px 1px 2px rgba(0, 0, 0, 0.3));\n",
              "      fill: #FFFFFF;\n",
              "    }\n",
              "  </style>\n",
              "\n",
              "    <script>\n",
              "      const buttonEl =\n",
              "        document.querySelector('#df-ead08c99-d867-4564-8188-1fea00e72694 button.colab-df-convert');\n",
              "      buttonEl.style.display =\n",
              "        google.colab.kernel.accessAllowed ? 'block' : 'none';\n",
              "\n",
              "      async function convertToInteractive(key) {\n",
              "        const element = document.querySelector('#df-ead08c99-d867-4564-8188-1fea00e72694');\n",
              "        const dataTable =\n",
              "          await google.colab.kernel.invokeFunction('convertToInteractive',\n",
              "                                                    [key], {});\n",
              "        if (!dataTable) return;\n",
              "\n",
              "        const docLinkHtml = 'Like what you see? Visit the ' +\n",
              "          '<a target=\"_blank\" href=https://colab.research.google.com/notebooks/data_table.ipynb>data table notebook</a>'\n",
              "          + ' to learn more about interactive tables.';\n",
              "        element.innerHTML = '';\n",
              "        dataTable['output_type'] = 'display_data';\n",
              "        await google.colab.output.renderOutput(dataTable, element);\n",
              "        const docLink = document.createElement('div');\n",
              "        docLink.innerHTML = docLinkHtml;\n",
              "        element.appendChild(docLink);\n",
              "      }\n",
              "    </script>\n",
              "  </div>\n",
              "\n",
              "\n",
              "<div id=\"df-df624e89-3365-49f3-90c5-96f6181e3c3d\">\n",
              "  <button class=\"colab-df-quickchart\" onclick=\"quickchart('df-df624e89-3365-49f3-90c5-96f6181e3c3d')\"\n",
              "            title=\"Suggest charts\"\n",
              "            style=\"display:none;\">\n",
              "\n",
              "<svg xmlns=\"http://www.w3.org/2000/svg\" height=\"24px\"viewBox=\"0 0 24 24\"\n",
              "     width=\"24px\">\n",
              "    <g>\n",
              "        <path d=\"M19 3H5c-1.1 0-2 .9-2 2v14c0 1.1.9 2 2 2h14c1.1 0 2-.9 2-2V5c0-1.1-.9-2-2-2zM9 17H7v-7h2v7zm4 0h-2V7h2v10zm4 0h-2v-4h2v4z\"/>\n",
              "    </g>\n",
              "</svg>\n",
              "  </button>\n",
              "\n",
              "<style>\n",
              "  .colab-df-quickchart {\n",
              "      --bg-color: #E8F0FE;\n",
              "      --fill-color: #1967D2;\n",
              "      --hover-bg-color: #E2EBFA;\n",
              "      --hover-fill-color: #174EA6;\n",
              "      --disabled-fill-color: #AAA;\n",
              "      --disabled-bg-color: #DDD;\n",
              "  }\n",
              "\n",
              "  [theme=dark] .colab-df-quickchart {\n",
              "      --bg-color: #3B4455;\n",
              "      --fill-color: #D2E3FC;\n",
              "      --hover-bg-color: #434B5C;\n",
              "      --hover-fill-color: #FFFFFF;\n",
              "      --disabled-bg-color: #3B4455;\n",
              "      --disabled-fill-color: #666;\n",
              "  }\n",
              "\n",
              "  .colab-df-quickchart {\n",
              "    background-color: var(--bg-color);\n",
              "    border: none;\n",
              "    border-radius: 50%;\n",
              "    cursor: pointer;\n",
              "    display: none;\n",
              "    fill: var(--fill-color);\n",
              "    height: 32px;\n",
              "    padding: 0;\n",
              "    width: 32px;\n",
              "  }\n",
              "\n",
              "  .colab-df-quickchart:hover {\n",
              "    background-color: var(--hover-bg-color);\n",
              "    box-shadow: 0 1px 2px rgba(60, 64, 67, 0.3), 0 1px 3px 1px rgba(60, 64, 67, 0.15);\n",
              "    fill: var(--button-hover-fill-color);\n",
              "  }\n",
              "\n",
              "  .colab-df-quickchart-complete:disabled,\n",
              "  .colab-df-quickchart-complete:disabled:hover {\n",
              "    background-color: var(--disabled-bg-color);\n",
              "    fill: var(--disabled-fill-color);\n",
              "    box-shadow: none;\n",
              "  }\n",
              "\n",
              "  .colab-df-spinner {\n",
              "    border: 2px solid var(--fill-color);\n",
              "    border-color: transparent;\n",
              "    border-bottom-color: var(--fill-color);\n",
              "    animation:\n",
              "      spin 1s steps(1) infinite;\n",
              "  }\n",
              "\n",
              "  @keyframes spin {\n",
              "    0% {\n",
              "      border-color: transparent;\n",
              "      border-bottom-color: var(--fill-color);\n",
              "      border-left-color: var(--fill-color);\n",
              "    }\n",
              "    20% {\n",
              "      border-color: transparent;\n",
              "      border-left-color: var(--fill-color);\n",
              "      border-top-color: var(--fill-color);\n",
              "    }\n",
              "    30% {\n",
              "      border-color: transparent;\n",
              "      border-left-color: var(--fill-color);\n",
              "      border-top-color: var(--fill-color);\n",
              "      border-right-color: var(--fill-color);\n",
              "    }\n",
              "    40% {\n",
              "      border-color: transparent;\n",
              "      border-right-color: var(--fill-color);\n",
              "      border-top-color: var(--fill-color);\n",
              "    }\n",
              "    60% {\n",
              "      border-color: transparent;\n",
              "      border-right-color: var(--fill-color);\n",
              "    }\n",
              "    80% {\n",
              "      border-color: transparent;\n",
              "      border-right-color: var(--fill-color);\n",
              "      border-bottom-color: var(--fill-color);\n",
              "    }\n",
              "    90% {\n",
              "      border-color: transparent;\n",
              "      border-bottom-color: var(--fill-color);\n",
              "    }\n",
              "  }\n",
              "</style>\n",
              "\n",
              "  <script>\n",
              "    async function quickchart(key) {\n",
              "      const quickchartButtonEl =\n",
              "        document.querySelector('#' + key + ' button');\n",
              "      quickchartButtonEl.disabled = true;  // To prevent multiple clicks.\n",
              "      quickchartButtonEl.classList.add('colab-df-spinner');\n",
              "      try {\n",
              "        const charts = await google.colab.kernel.invokeFunction(\n",
              "            'suggestCharts', [key], {});\n",
              "      } catch (error) {\n",
              "        console.error('Error during call to suggestCharts:', error);\n",
              "      }\n",
              "      quickchartButtonEl.classList.remove('colab-df-spinner');\n",
              "      quickchartButtonEl.classList.add('colab-df-quickchart-complete');\n",
              "    }\n",
              "    (() => {\n",
              "      let quickchartButtonEl =\n",
              "        document.querySelector('#df-df624e89-3365-49f3-90c5-96f6181e3c3d button');\n",
              "      quickchartButtonEl.style.display =\n",
              "        google.colab.kernel.accessAllowed ? 'block' : 'none';\n",
              "    })();\n",
              "  </script>\n",
              "</div>\n",
              "    </div>\n",
              "  </div>\n"
            ]
          },
          "metadata": {},
          "execution_count": 88
        }
      ],
      "source": [
        "# Группируем данные по категории цели кредита ('purpose_category') и агрегируем информацию о задолженности\n",
        "purpose_debt_table = data.groupby('purpose_category')['debt'].agg(['count', 'sum'])\n",
        "\n",
        "# Рассчитываем процент должников в каждой категории и добавляем этот показатель в таблицу\n",
        "purpose_debt_table['percent'] = round(purpose_debt_table['sum'] / purpose_debt_table['count'] * 100, 2)\n",
        "\n",
        "# Переименовываем столбцы для более ясного понимания содержания таблицы\n",
        "purpose_debt_table = purpose_debt_table.rename(columns={'count': 'Количество кредитополучателей', 'sum': 'Количество должников', 'percent': 'Доля должников'})\n",
        "\n",
        "# Сортируем таблицу по убыванию доли должников, чтобы выделить категории с наибольшим процентом должников\n",
        "purpose_debt_table.sort_values(by='Доля должников', ascending=False)"
      ]
    },
    {
      "cell_type": "markdown",
      "id": "d19e24c9",
      "metadata": {
        "deletable": false,
        "id": "d19e24c9"
      },
      "source": [
        "**Вывод:**  Данные в таблице показывают, что кредиты на разные цели выплачиваются по-разному. Так, клиенты взявшие кредиты на свадьбу или на покупку недвижимости реже попадают в долги (7,9% и 7,3% соответственно), чем клиенты, которые взяли кредит на покупку автомобиля (9,4% должников) или получение образования (9,3% должников)."
      ]
    },
    {
      "cell_type": "markdown",
      "id": "5be7b8ab",
      "metadata": {
        "deletable": false,
        "editable": false,
        "id": "5be7b8ab"
      },
      "source": [
        "## Выводы"
      ]
    },
    {
      "cell_type": "markdown",
      "id": "4c4837c0",
      "metadata": {
        "deletable": false,
        "id": "4c4837c0"
      },
      "source": [
        "Было проведено исследование надежности заемщиков для кредитного отдела банка. Изучалось влияние семейного положения и количества детей, уровня дохода и целей кредита клиента на факт погашения кредита в срок.\n",
        "\n",
        "Изученные входные данные от банка (статистика о платёжеспособности клиентов) оказались неоднородными. Для некоторых рассматриваемых категорий выборка была очень мала, что не позволило провести детальное исследование. Среди данных были обнаружены и удалены пропуски. Были обработаны дубликаты и аномальные значения. Для ответов на поставленные вопросы была проведена категоризация данных.\n",
        "\n",
        "Подтвердились гипотезы о влиянии изучаемых параметров на факт погашения кредита в срок:\n",
        "\n",
        "**1.** Люди, которые не имеют детей, лучше всего отдают кредит, доля должников здесь составляет с 7,5%, хуже обстоит дело с кредиторами, кто имеет больше одного ребенка, здесь доля невозврата составляет соответственно 9,3%.\n",
        "\n",
        "**2.** Одинокие люди в прошлом состаявшие в браке хорошо справляются с кредитными обязательствами, должников среди них 6,6 - 7%. Семейные пары так же достаточно ответственно платят по кредитам, должников среди них 7,6%. Пары проживающие гражданским браком, не женатые и не замужние граждане самые ненадежные, должников среди них 9,3% и 9,8% соответственно.\n",
        "Надо заметить, что категории клиентов не состоящих в браке самые малочисленные в представленной выборке. Вероятно это случайность. Однако, может оказаться так, что одинокие люди просто реже берут кредиты.\n",
        "\n",
        "**3.** Клиенты из категории В (богатые люди) реже попадают в долги (7% должников), чем клиенты категории С (средний класс) среди которых 8% должников. С другой стороны количество данных по этой группе клиентов не велико и выводы могут быть не точны. По причине того что количество данных по категориям A (очень богатые), D (бедные) и E (очень бедные) не велико и выводы могут быть не точны эти категории не были рассмотрены.\n",
        "\n",
        "**4.** Оказалось, что кредиты на разные цели выплачиваются с разным успехом. Данные показывают, что кредиты на разные цели выплачиваются по-разному. Так, клиенты взявшие кредиты на свадьбу или на покупку недвижимости реже попадают в долги (7,9% и 7,3% соответственно), чем клиенты, которые взяли кредит на покупку автомобиля (9,4% должников) или получение образования (9,3% должников).\n",
        "\n",
        "\n",
        "\n",
        "**Резюме**\n",
        "- Чаще всего проблемы в выплатой кредитов имеются у клиентов с детьми, не состоящиев браке с доходом  до 50 т.р., которые берут кредит на образование или оперции с автомобилем.\n",
        "- Самые надежные клиенты состоят или состояли в браке, не имеющие детей с доходом от 50 т.р., которые берут кредит на недвижимость и свадьбы.\n",
        "    \n",
        "**Рекомендации**\n",
        "- Необходимо расширить и сбалансировать датасет. Например, на данный момент в таблице приведены данные 14092 женщин и 7238 мужчин.\n",
        "- При сборе данных сделать обязательные поля для заполнения, это поможет избежать пропусков в данных.\n",
        "- В случае увеличения данных в датасете будет хорошо провести повторное исследование в котором будут учтены категории, которые не удолось учесть в настоящем исследовании.\n",
        "- В дальнейших исследованиях можено дополнительно изучить влияние возраста и наличия образования на факт своевременного погашения кредитов."
      ]
    }
  ],
  "metadata": {
    "ExecuteTimeLog": [
      {
        "duration": 518,
        "start_time": "2023-02-09T06:45:41.680Z"
      },
      {
        "duration": 34,
        "start_time": "2023-02-09T06:45:46.921Z"
      },
      {
        "duration": 16,
        "start_time": "2023-02-09T06:46:19.251Z"
      },
      {
        "duration": 16,
        "start_time": "2023-02-09T06:46:51.448Z"
      },
      {
        "duration": 17,
        "start_time": "2023-02-09T06:46:54.788Z"
      },
      {
        "duration": 33,
        "start_time": "2023-02-09T06:47:06.644Z"
      },
      {
        "duration": 4,
        "start_time": "2023-02-09T06:47:52.571Z"
      },
      {
        "duration": 9,
        "start_time": "2023-02-09T06:48:00.744Z"
      },
      {
        "duration": 14,
        "start_time": "2023-02-09T06:50:07.820Z"
      },
      {
        "duration": 5,
        "start_time": "2023-02-09T06:50:09.147Z"
      },
      {
        "duration": 7,
        "start_time": "2023-02-09T06:50:09.978Z"
      },
      {
        "duration": 5,
        "start_time": "2023-02-09T06:50:10.957Z"
      },
      {
        "duration": 32,
        "start_time": "2023-02-09T06:50:12.529Z"
      },
      {
        "duration": 9,
        "start_time": "2023-02-09T06:50:13.457Z"
      },
      {
        "duration": 11,
        "start_time": "2023-02-09T06:50:16.697Z"
      },
      {
        "duration": 20,
        "start_time": "2023-02-09T06:50:18.351Z"
      },
      {
        "duration": 19,
        "start_time": "2023-02-09T06:50:19.346Z"
      },
      {
        "duration": 29,
        "start_time": "2023-02-09T06:50:20.017Z"
      },
      {
        "duration": 3,
        "start_time": "2023-02-09T06:50:25.044Z"
      },
      {
        "duration": 14,
        "start_time": "2023-02-09T06:50:27.625Z"
      },
      {
        "duration": 6,
        "start_time": "2023-02-09T06:50:29.643Z"
      },
      {
        "duration": 6,
        "start_time": "2023-02-09T06:50:34.820Z"
      },
      {
        "duration": 14,
        "start_time": "2023-02-09T06:50:45.719Z"
      },
      {
        "duration": 4,
        "start_time": "2023-02-09T12:14:15.049Z"
      },
      {
        "duration": 4,
        "start_time": "2023-02-09T12:14:48.914Z"
      },
      {
        "duration": 5,
        "start_time": "2023-02-09T12:15:30.755Z"
      },
      {
        "duration": 13,
        "start_time": "2023-02-09T12:19:10.639Z"
      },
      {
        "duration": 7,
        "start_time": "2023-02-09T12:19:22.777Z"
      },
      {
        "duration": 8,
        "start_time": "2023-02-09T12:19:44.957Z"
      },
      {
        "duration": 9,
        "start_time": "2023-02-09T12:19:58.606Z"
      },
      {
        "duration": 64,
        "start_time": "2023-02-09T12:25:47.299Z"
      },
      {
        "duration": 24,
        "start_time": "2023-02-09T12:25:54.275Z"
      },
      {
        "duration": 25,
        "start_time": "2023-02-09T12:36:34.806Z"
      },
      {
        "duration": 7,
        "start_time": "2023-02-09T12:36:57.794Z"
      },
      {
        "duration": 4,
        "start_time": "2023-02-09T12:37:10.383Z"
      },
      {
        "duration": 7,
        "start_time": "2023-02-09T12:37:40.511Z"
      },
      {
        "duration": 6,
        "start_time": "2023-02-09T12:38:43.017Z"
      },
      {
        "duration": 5,
        "start_time": "2023-02-09T12:39:10.412Z"
      },
      {
        "duration": 6,
        "start_time": "2023-02-09T12:40:42.257Z"
      },
      {
        "duration": 6,
        "start_time": "2023-02-09T12:40:47.837Z"
      },
      {
        "duration": 8,
        "start_time": "2023-02-09T12:51:57.434Z"
      },
      {
        "duration": 32,
        "start_time": "2023-02-09T12:52:20.483Z"
      },
      {
        "duration": 6,
        "start_time": "2023-02-09T12:56:27.942Z"
      },
      {
        "duration": 6,
        "start_time": "2023-02-09T12:56:33.756Z"
      },
      {
        "duration": 22,
        "start_time": "2023-02-09T12:57:41.340Z"
      },
      {
        "duration": 7,
        "start_time": "2023-02-09T12:57:55.226Z"
      },
      {
        "duration": 2,
        "start_time": "2023-02-09T13:32:09.284Z"
      },
      {
        "duration": 3,
        "start_time": "2023-02-09T13:34:19.643Z"
      },
      {
        "duration": 3,
        "start_time": "2023-02-09T13:34:54.053Z"
      },
      {
        "duration": 5,
        "start_time": "2023-02-09T13:49:09.912Z"
      },
      {
        "duration": 4,
        "start_time": "2023-02-09T13:49:10.942Z"
      },
      {
        "duration": 4,
        "start_time": "2023-02-09T14:47:57.050Z"
      },
      {
        "duration": 5,
        "start_time": "2023-02-09T15:14:11.210Z"
      },
      {
        "duration": 23,
        "start_time": "2023-02-09T15:14:25.982Z"
      },
      {
        "duration": 21,
        "start_time": "2023-02-09T15:14:46.211Z"
      },
      {
        "duration": 33,
        "start_time": "2023-02-10T09:13:58.082Z"
      },
      {
        "duration": 7,
        "start_time": "2023-02-10T09:25:02.172Z"
      },
      {
        "duration": 105,
        "start_time": "2023-02-10T09:25:58.558Z"
      },
      {
        "duration": 18,
        "start_time": "2023-02-10T10:25:38.660Z"
      },
      {
        "duration": 18,
        "start_time": "2023-02-10T10:27:30.745Z"
      },
      {
        "duration": 21,
        "start_time": "2023-02-10T10:27:47.851Z"
      },
      {
        "duration": 24,
        "start_time": "2023-02-10T10:27:53.228Z"
      },
      {
        "duration": 16,
        "start_time": "2023-02-10T10:42:45.451Z"
      },
      {
        "duration": 19,
        "start_time": "2023-02-10T10:42:53.665Z"
      },
      {
        "duration": 21,
        "start_time": "2023-02-10T10:43:20.338Z"
      },
      {
        "duration": 47,
        "start_time": "2023-02-10T10:45:20.782Z"
      },
      {
        "duration": 6,
        "start_time": "2023-02-10T10:51:27.962Z"
      },
      {
        "duration": 10,
        "start_time": "2023-02-10T10:52:24.021Z"
      },
      {
        "duration": 6,
        "start_time": "2023-02-10T10:52:36.532Z"
      },
      {
        "duration": 22,
        "start_time": "2023-02-10T10:57:00.547Z"
      },
      {
        "duration": 18,
        "start_time": "2023-02-10T11:03:16.833Z"
      },
      {
        "duration": 19,
        "start_time": "2023-02-10T11:03:53.138Z"
      },
      {
        "duration": 106,
        "start_time": "2023-02-10T11:14:44.985Z"
      },
      {
        "duration": 27,
        "start_time": "2023-02-10T11:17:57.693Z"
      },
      {
        "duration": 17,
        "start_time": "2023-02-10T11:21:03.742Z"
      },
      {
        "duration": 18,
        "start_time": "2023-02-10T11:21:19.261Z"
      },
      {
        "duration": 25,
        "start_time": "2023-02-10T11:21:54.366Z"
      },
      {
        "duration": 36,
        "start_time": "2023-02-10T11:22:04.162Z"
      },
      {
        "duration": 20,
        "start_time": "2023-02-10T11:31:01.126Z"
      },
      {
        "duration": 21,
        "start_time": "2023-02-10T11:31:02.979Z"
      },
      {
        "duration": 14,
        "start_time": "2023-02-10T11:34:39.031Z"
      },
      {
        "duration": 15,
        "start_time": "2023-02-10T11:34:48.369Z"
      },
      {
        "duration": 21,
        "start_time": "2023-02-10T11:35:05.772Z"
      },
      {
        "duration": 16,
        "start_time": "2023-02-10T11:35:10.982Z"
      },
      {
        "duration": 22,
        "start_time": "2023-02-10T11:35:34.831Z"
      },
      {
        "duration": 14,
        "start_time": "2023-02-10T11:35:43.438Z"
      },
      {
        "duration": 23,
        "start_time": "2023-02-10T11:35:48.331Z"
      },
      {
        "duration": 16,
        "start_time": "2023-02-10T11:40:54.701Z"
      },
      {
        "duration": 1400,
        "start_time": "2023-02-10T11:42:30.236Z"
      },
      {
        "duration": 18,
        "start_time": "2023-02-10T11:43:06.255Z"
      },
      {
        "duration": 20,
        "start_time": "2023-02-10T11:43:35.438Z"
      },
      {
        "duration": 20,
        "start_time": "2023-02-10T11:43:47.327Z"
      },
      {
        "duration": 6,
        "start_time": "2023-02-10T11:45:53.633Z"
      },
      {
        "duration": 12,
        "start_time": "2023-02-10T11:50:31.875Z"
      },
      {
        "duration": 16,
        "start_time": "2023-02-10T11:52:44.329Z"
      },
      {
        "duration": 14,
        "start_time": "2023-02-10T11:52:57.609Z"
      },
      {
        "duration": 12,
        "start_time": "2023-02-10T11:53:26.710Z"
      },
      {
        "duration": 19,
        "start_time": "2023-02-10T11:53:51.087Z"
      },
      {
        "duration": 6,
        "start_time": "2023-02-10T12:02:17.768Z"
      },
      {
        "duration": 8,
        "start_time": "2023-02-10T12:02:24.193Z"
      },
      {
        "duration": 21,
        "start_time": "2023-02-10T14:05:30.988Z"
      },
      {
        "duration": 17,
        "start_time": "2023-02-10T14:05:55.456Z"
      },
      {
        "duration": 4,
        "start_time": "2023-02-10T14:06:26.332Z"
      },
      {
        "duration": 1209,
        "start_time": "2023-02-10T14:06:39.802Z"
      },
      {
        "duration": 7,
        "start_time": "2023-02-10T14:06:48.089Z"
      },
      {
        "duration": 8,
        "start_time": "2023-02-10T14:07:09.808Z"
      },
      {
        "duration": 5,
        "start_time": "2023-02-10T14:07:37.062Z"
      },
      {
        "duration": 25,
        "start_time": "2023-02-10T14:18:44.356Z"
      },
      {
        "duration": 27,
        "start_time": "2023-02-10T14:20:21.034Z"
      },
      {
        "duration": 26,
        "start_time": "2023-02-10T14:20:52.524Z"
      },
      {
        "duration": 21,
        "start_time": "2023-02-10T14:25:35.273Z"
      },
      {
        "duration": 669,
        "start_time": "2023-02-11T07:00:50.265Z"
      },
      {
        "duration": 20,
        "start_time": "2023-02-11T07:00:50.935Z"
      },
      {
        "duration": 13,
        "start_time": "2023-02-11T07:00:50.957Z"
      },
      {
        "duration": 11,
        "start_time": "2023-02-11T07:00:51.557Z"
      },
      {
        "duration": 33,
        "start_time": "2023-02-11T07:00:51.862Z"
      },
      {
        "duration": 3,
        "start_time": "2023-02-11T07:00:52.366Z"
      },
      {
        "duration": 8,
        "start_time": "2023-02-11T07:00:52.691Z"
      },
      {
        "duration": 4,
        "start_time": "2023-02-11T07:00:53.165Z"
      },
      {
        "duration": 7,
        "start_time": "2023-02-11T07:00:53.500Z"
      },
      {
        "duration": 4,
        "start_time": "2023-02-11T07:00:53.842Z"
      },
      {
        "duration": 34,
        "start_time": "2023-02-11T07:00:54.343Z"
      },
      {
        "duration": 10,
        "start_time": "2023-02-11T07:00:54.689Z"
      },
      {
        "duration": 5,
        "start_time": "2023-02-11T07:00:55.184Z"
      },
      {
        "duration": 10,
        "start_time": "2023-02-11T07:00:55.697Z"
      },
      {
        "duration": 20,
        "start_time": "2023-02-11T07:00:56.026Z"
      },
      {
        "duration": 18,
        "start_time": "2023-02-11T07:00:56.199Z"
      },
      {
        "duration": 3,
        "start_time": "2023-02-11T07:00:56.731Z"
      },
      {
        "duration": 9,
        "start_time": "2023-02-11T07:00:56.899Z"
      },
      {
        "duration": 5,
        "start_time": "2023-02-11T07:00:57.265Z"
      },
      {
        "duration": 4,
        "start_time": "2023-02-11T07:00:57.605Z"
      },
      {
        "duration": 8,
        "start_time": "2023-02-11T07:00:57.772Z"
      },
      {
        "duration": 4,
        "start_time": "2023-02-11T07:00:58.305Z"
      },
      {
        "duration": 4,
        "start_time": "2023-02-11T07:00:59.566Z"
      },
      {
        "duration": 4,
        "start_time": "2023-02-11T07:01:00.116Z"
      },
      {
        "duration": 21,
        "start_time": "2023-02-11T07:01:00.661Z"
      },
      {
        "duration": 18,
        "start_time": "2023-02-11T07:01:01.020Z"
      },
      {
        "duration": 5,
        "start_time": "2023-02-11T07:01:01.871Z"
      },
      {
        "duration": 7,
        "start_time": "2023-02-11T07:01:02.122Z"
      },
      {
        "duration": 51,
        "start_time": "2023-02-11T07:01:02.329Z"
      },
      {
        "duration": 15,
        "start_time": "2023-02-11T07:01:03.542Z"
      },
      {
        "duration": 14,
        "start_time": "2023-02-11T07:01:17.495Z"
      },
      {
        "duration": 2,
        "start_time": "2023-02-11T07:01:20.062Z"
      },
      {
        "duration": 8,
        "start_time": "2023-02-11T07:06:45.788Z"
      },
      {
        "duration": 4,
        "start_time": "2023-02-11T07:07:01.220Z"
      },
      {
        "duration": 104,
        "start_time": "2023-02-11T07:07:06.316Z"
      },
      {
        "duration": 10,
        "start_time": "2023-02-11T07:16:32.354Z"
      },
      {
        "duration": 858,
        "start_time": "2023-02-11T09:26:08.927Z"
      },
      {
        "duration": 24,
        "start_time": "2023-02-11T09:26:09.789Z"
      },
      {
        "duration": 18,
        "start_time": "2023-02-11T09:26:09.815Z"
      },
      {
        "duration": 11,
        "start_time": "2023-02-11T09:26:10.193Z"
      },
      {
        "duration": 63,
        "start_time": "2023-02-11T09:26:10.509Z"
      },
      {
        "duration": 4,
        "start_time": "2023-02-11T09:26:11.008Z"
      },
      {
        "duration": 10,
        "start_time": "2023-02-11T09:26:11.312Z"
      },
      {
        "duration": 5,
        "start_time": "2023-02-11T09:26:11.826Z"
      },
      {
        "duration": 18,
        "start_time": "2023-02-11T09:26:12.167Z"
      },
      {
        "duration": 5,
        "start_time": "2023-02-11T09:26:12.496Z"
      },
      {
        "duration": 78,
        "start_time": "2023-02-11T09:26:13.018Z"
      },
      {
        "duration": 19,
        "start_time": "2023-02-11T09:26:13.370Z"
      },
      {
        "duration": 5,
        "start_time": "2023-02-11T09:26:13.926Z"
      },
      {
        "duration": 13,
        "start_time": "2023-02-11T09:26:14.390Z"
      },
      {
        "duration": 37,
        "start_time": "2023-02-11T09:26:14.710Z"
      },
      {
        "duration": 41,
        "start_time": "2023-02-11T09:26:14.859Z"
      },
      {
        "duration": 10,
        "start_time": "2023-02-11T09:26:15.376Z"
      },
      {
        "duration": 29,
        "start_time": "2023-02-11T09:26:15.533Z"
      },
      {
        "duration": 7,
        "start_time": "2023-02-11T09:26:15.895Z"
      },
      {
        "duration": 5,
        "start_time": "2023-02-11T09:26:16.299Z"
      },
      {
        "duration": 10,
        "start_time": "2023-02-11T09:26:16.608Z"
      },
      {
        "duration": 4,
        "start_time": "2023-02-11T09:26:17.113Z"
      },
      {
        "duration": 5,
        "start_time": "2023-02-11T09:26:18.421Z"
      },
      {
        "duration": 8,
        "start_time": "2023-02-11T09:26:20.185Z"
      },
      {
        "duration": 83,
        "start_time": "2023-02-11T09:28:13.982Z"
      },
      {
        "duration": 13,
        "start_time": "2023-02-11T09:28:32.568Z"
      },
      {
        "duration": 8,
        "start_time": "2023-02-11T09:38:48.577Z"
      },
      {
        "duration": 52,
        "start_time": "2023-02-11T09:38:58.326Z"
      },
      {
        "duration": 71,
        "start_time": "2023-02-11T16:59:59.572Z"
      },
      {
        "duration": 15,
        "start_time": "2023-02-11T16:59:59.892Z"
      },
      {
        "duration": 15,
        "start_time": "2023-02-11T17:00:00.201Z"
      },
      {
        "duration": 12,
        "start_time": "2023-02-11T17:00:00.825Z"
      },
      {
        "duration": 37,
        "start_time": "2023-02-11T17:00:01.147Z"
      },
      {
        "duration": 3,
        "start_time": "2023-02-11T17:00:01.621Z"
      },
      {
        "duration": 9,
        "start_time": "2023-02-11T17:00:01.947Z"
      },
      {
        "duration": 5,
        "start_time": "2023-02-11T17:00:02.434Z"
      },
      {
        "duration": 6,
        "start_time": "2023-02-11T17:00:02.758Z"
      },
      {
        "duration": 5,
        "start_time": "2023-02-11T17:00:03.076Z"
      },
      {
        "duration": 37,
        "start_time": "2023-02-11T17:00:03.564Z"
      },
      {
        "duration": 11,
        "start_time": "2023-02-11T17:00:03.883Z"
      },
      {
        "duration": 3,
        "start_time": "2023-02-11T17:00:04.369Z"
      },
      {
        "duration": 13,
        "start_time": "2023-02-11T17:00:04.859Z"
      },
      {
        "duration": 21,
        "start_time": "2023-02-11T17:00:05.172Z"
      },
      {
        "duration": 20,
        "start_time": "2023-02-11T17:00:05.335Z"
      },
      {
        "duration": 4,
        "start_time": "2023-02-11T17:00:05.793Z"
      },
      {
        "duration": 11,
        "start_time": "2023-02-11T17:00:05.957Z"
      },
      {
        "duration": 7,
        "start_time": "2023-02-11T17:00:06.294Z"
      },
      {
        "duration": 4,
        "start_time": "2023-02-11T17:00:06.677Z"
      },
      {
        "duration": 9,
        "start_time": "2023-02-11T17:00:07.234Z"
      },
      {
        "duration": 5,
        "start_time": "2023-02-11T17:00:08.521Z"
      },
      {
        "duration": 6,
        "start_time": "2023-02-11T17:00:09.999Z"
      },
      {
        "duration": 6,
        "start_time": "2023-02-11T17:00:10.528Z"
      },
      {
        "duration": 32,
        "start_time": "2023-02-11T17:00:11.307Z"
      },
      {
        "duration": 22,
        "start_time": "2023-02-11T17:00:13.438Z"
      },
      {
        "duration": 6,
        "start_time": "2023-02-11T17:00:19.793Z"
      },
      {
        "duration": 9,
        "start_time": "2023-02-11T17:00:20.163Z"
      },
      {
        "duration": 16,
        "start_time": "2023-02-11T17:00:20.866Z"
      },
      {
        "duration": 13,
        "start_time": "2023-02-11T17:00:28.744Z"
      },
      {
        "duration": 29,
        "start_time": "2023-02-11T17:02:16.081Z"
      },
      {
        "duration": 19,
        "start_time": "2023-02-11T17:04:06.562Z"
      },
      {
        "duration": 71,
        "start_time": "2023-02-11T17:17:42.486Z"
      },
      {
        "duration": 15,
        "start_time": "2023-02-11T17:17:42.789Z"
      },
      {
        "duration": 16,
        "start_time": "2023-02-11T17:17:43.093Z"
      },
      {
        "duration": 16,
        "start_time": "2023-02-11T17:17:43.769Z"
      },
      {
        "duration": 36,
        "start_time": "2023-02-11T17:17:44.297Z"
      },
      {
        "duration": 4,
        "start_time": "2023-02-11T17:17:44.780Z"
      },
      {
        "duration": 10,
        "start_time": "2023-02-11T17:17:45.085Z"
      },
      {
        "duration": 5,
        "start_time": "2023-02-11T17:17:45.568Z"
      },
      {
        "duration": 6,
        "start_time": "2023-02-11T17:17:45.863Z"
      },
      {
        "duration": 5,
        "start_time": "2023-02-11T17:17:46.176Z"
      },
      {
        "duration": 35,
        "start_time": "2023-02-11T17:17:46.659Z"
      },
      {
        "duration": 12,
        "start_time": "2023-02-11T17:17:46.997Z"
      },
      {
        "duration": 4,
        "start_time": "2023-02-11T17:17:47.503Z"
      },
      {
        "duration": 12,
        "start_time": "2023-02-11T17:17:48.002Z"
      },
      {
        "duration": 22,
        "start_time": "2023-02-11T17:17:48.290Z"
      },
      {
        "duration": 23,
        "start_time": "2023-02-11T17:17:48.459Z"
      },
      {
        "duration": 5,
        "start_time": "2023-02-11T17:17:48.966Z"
      },
      {
        "duration": 13,
        "start_time": "2023-02-11T17:17:49.134Z"
      },
      {
        "duration": 7,
        "start_time": "2023-02-11T17:17:49.517Z"
      },
      {
        "duration": 3,
        "start_time": "2023-02-11T17:17:49.855Z"
      },
      {
        "duration": 9,
        "start_time": "2023-02-11T17:17:50.023Z"
      },
      {
        "duration": 5,
        "start_time": "2023-02-11T17:17:50.529Z"
      },
      {
        "duration": 5,
        "start_time": "2023-02-11T17:17:51.643Z"
      },
      {
        "duration": 6,
        "start_time": "2023-02-11T17:17:52.152Z"
      },
      {
        "duration": 22,
        "start_time": "2023-02-11T17:17:52.679Z"
      },
      {
        "duration": 28,
        "start_time": "2023-02-11T17:17:53.039Z"
      },
      {
        "duration": 8,
        "start_time": "2023-02-11T17:17:54.084Z"
      },
      {
        "duration": 7,
        "start_time": "2023-02-11T17:17:54.276Z"
      },
      {
        "duration": 15,
        "start_time": "2023-02-11T17:17:54.827Z"
      },
      {
        "duration": 36,
        "start_time": "2023-02-11T17:17:55.930Z"
      },
      {
        "duration": 28,
        "start_time": "2023-02-11T17:17:56.481Z"
      },
      {
        "duration": 8,
        "start_time": "2023-02-11T17:17:57.347Z"
      },
      {
        "duration": 5,
        "start_time": "2023-02-11T17:17:58.561Z"
      },
      {
        "duration": 19,
        "start_time": "2023-02-11T17:17:58.753Z"
      },
      {
        "duration": 24,
        "start_time": "2023-02-11T17:17:59.406Z"
      },
      {
        "duration": 21,
        "start_time": "2023-02-11T17:20:18.133Z"
      },
      {
        "duration": 18,
        "start_time": "2023-02-11T17:55:42.809Z"
      },
      {
        "duration": 17,
        "start_time": "2023-02-11T18:13:40.308Z"
      },
      {
        "duration": 21,
        "start_time": "2023-02-11T18:19:17.750Z"
      },
      {
        "duration": 17,
        "start_time": "2023-02-11T18:19:54.735Z"
      },
      {
        "duration": 3,
        "start_time": "2023-02-11T18:20:36.488Z"
      },
      {
        "duration": 15,
        "start_time": "2023-02-11T18:27:59.759Z"
      },
      {
        "duration": 76,
        "start_time": "2023-02-11T18:41:56.054Z"
      },
      {
        "duration": 73,
        "start_time": "2023-02-11T18:42:39.485Z"
      },
      {
        "duration": 76,
        "start_time": "2023-02-11T18:42:47.348Z"
      },
      {
        "duration": 77,
        "start_time": "2023-02-11T18:45:03.551Z"
      },
      {
        "duration": 66,
        "start_time": "2023-02-11T18:45:44.872Z"
      },
      {
        "duration": 69,
        "start_time": "2023-02-11T18:46:09.364Z"
      },
      {
        "duration": 76,
        "start_time": "2023-02-11T18:46:29.557Z"
      },
      {
        "duration": 70,
        "start_time": "2023-02-11T18:47:11.260Z"
      },
      {
        "duration": 21,
        "start_time": "2023-02-11T18:47:18.505Z"
      },
      {
        "duration": 75,
        "start_time": "2023-02-11T18:48:05.954Z"
      },
      {
        "duration": 72,
        "start_time": "2023-02-11T18:49:24.966Z"
      },
      {
        "duration": 74,
        "start_time": "2023-02-11T18:49:48.647Z"
      },
      {
        "duration": 77,
        "start_time": "2023-02-11T18:50:12.375Z"
      },
      {
        "duration": 73,
        "start_time": "2023-02-11T18:50:29.870Z"
      },
      {
        "duration": 78,
        "start_time": "2023-02-11T18:51:00.793Z"
      },
      {
        "duration": 15,
        "start_time": "2023-02-11T18:52:34.337Z"
      },
      {
        "duration": 16,
        "start_time": "2023-02-11T18:52:44.596Z"
      },
      {
        "duration": 18,
        "start_time": "2023-02-11T18:56:53.986Z"
      },
      {
        "duration": 23,
        "start_time": "2023-02-11T18:57:18.671Z"
      },
      {
        "duration": 20,
        "start_time": "2023-02-11T19:05:50.204Z"
      },
      {
        "duration": 72,
        "start_time": "2023-02-11T19:06:37.150Z"
      },
      {
        "duration": 16,
        "start_time": "2023-02-11T19:06:37.443Z"
      },
      {
        "duration": 17,
        "start_time": "2023-02-11T19:06:37.746Z"
      },
      {
        "duration": 14,
        "start_time": "2023-02-11T19:06:38.364Z"
      },
      {
        "duration": 35,
        "start_time": "2023-02-11T19:06:38.691Z"
      },
      {
        "duration": 5,
        "start_time": "2023-02-11T19:06:39.163Z"
      },
      {
        "duration": 8,
        "start_time": "2023-02-11T19:06:39.467Z"
      },
      {
        "duration": 5,
        "start_time": "2023-02-11T19:06:39.906Z"
      },
      {
        "duration": 7,
        "start_time": "2023-02-11T19:06:40.233Z"
      },
      {
        "duration": 5,
        "start_time": "2023-02-11T19:06:40.559Z"
      },
      {
        "duration": 36,
        "start_time": "2023-02-11T19:06:41.041Z"
      },
      {
        "duration": 11,
        "start_time": "2023-02-11T19:06:41.369Z"
      },
      {
        "duration": 4,
        "start_time": "2023-02-11T19:06:41.863Z"
      },
      {
        "duration": 11,
        "start_time": "2023-02-11T19:06:42.359Z"
      },
      {
        "duration": 29,
        "start_time": "2023-02-11T19:06:42.707Z"
      },
      {
        "duration": 29,
        "start_time": "2023-02-11T19:06:42.888Z"
      },
      {
        "duration": 5,
        "start_time": "2023-02-11T19:06:43.382Z"
      },
      {
        "duration": 13,
        "start_time": "2023-02-11T19:06:43.562Z"
      },
      {
        "duration": 9,
        "start_time": "2023-02-11T19:06:43.900Z"
      },
      {
        "duration": 3,
        "start_time": "2023-02-11T19:06:44.242Z"
      },
      {
        "duration": 11,
        "start_time": "2023-02-11T19:06:44.384Z"
      },
      {
        "duration": 5,
        "start_time": "2023-02-11T19:06:44.901Z"
      },
      {
        "duration": 4,
        "start_time": "2023-02-11T19:06:45.397Z"
      },
      {
        "duration": 6,
        "start_time": "2023-02-11T19:06:45.903Z"
      },
      {
        "duration": 22,
        "start_time": "2023-02-11T19:06:46.420Z"
      },
      {
        "duration": 20,
        "start_time": "2023-02-11T19:06:46.758Z"
      },
      {
        "duration": 6,
        "start_time": "2023-02-11T19:06:47.488Z"
      },
      {
        "duration": 8,
        "start_time": "2023-02-11T19:06:47.657Z"
      },
      {
        "duration": 14,
        "start_time": "2023-02-11T19:06:48.355Z"
      },
      {
        "duration": 17,
        "start_time": "2023-02-11T19:06:50.458Z"
      },
      {
        "duration": 17,
        "start_time": "2023-02-11T19:06:51.134Z"
      },
      {
        "duration": 74,
        "start_time": "2023-02-11T19:15:07.252Z"
      },
      {
        "duration": 6,
        "start_time": "2023-02-11T19:39:56.799Z"
      },
      {
        "duration": 9,
        "start_time": "2023-02-11T19:40:12.403Z"
      },
      {
        "duration": 11,
        "start_time": "2023-02-11T19:40:41.553Z"
      },
      {
        "duration": 59,
        "start_time": "2023-02-12T13:42:29.421Z"
      },
      {
        "duration": 73,
        "start_time": "2023-02-13T18:22:51.156Z"
      }
    ],
    "colab": {
      "provenance": []
    },
    "kernelspec": {
      "display_name": "Python 3 (ipykernel)",
      "language": "python",
      "name": "python3"
    },
    "language_info": {
      "codemirror_mode": {
        "name": "ipython",
        "version": 3
      },
      "file_extension": ".py",
      "mimetype": "text/x-python",
      "name": "python",
      "nbconvert_exporter": "python",
      "pygments_lexer": "ipython3",
      "version": "3.9.5"
    },
    "toc": {
      "base_numbering": 1,
      "nav_menu": {},
      "number_sections": true,
      "sideBar": true,
      "skip_h1_title": true,
      "title_cell": "Table of Contents",
      "title_sidebar": "Contents",
      "toc_cell": false,
      "toc_position": {},
      "toc_section_display": true,
      "toc_window_display": false
    }
  },
  "nbformat": 4,
  "nbformat_minor": 5
}