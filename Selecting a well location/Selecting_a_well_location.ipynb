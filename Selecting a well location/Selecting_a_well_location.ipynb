{
  "cells": [
    {
      "cell_type": "markdown",
      "metadata": {
        "id": "N8H_naxa_8wp"
      },
      "source": [
        "# Выбор локации для скважины"
      ]
    },
    {
      "cell_type": "markdown",
      "metadata": {
        "id": "1BuFYgf6_8wp"
      },
      "source": [
        "Компания «ГлавРосГосНефть» занимается добычей нефти. Нужно решить, где бурить новую скважину.\n",
        "\n",
        "Предоставлены пробы нефти в трёх регионах: в каждом 10 000 месторождений, где измерили качество нефти и объём её запасов. Нужно построить модель машинного обучения, которая поможет определить регион, где добыча принесёт наибольшую прибыль. Проанализируйте возможную прибыль и риски техникой *Bootstrap.*\n",
        "\n",
        "**Шаги для выбора локации:**\n",
        "\n",
        "- В избранном регионе ищут месторождения, для каждого определяют значения признаков;\n",
        "- Строят модель и оценивают объём запасов;\n",
        "- Выбирают месторождения с самым высокими оценками значений. Количество месторождений зависит от бюджета компании и стоимости разработки одной скважины;\n",
        "- Прибыль равна суммарной прибыли отобранных месторождений."
      ]
    },
    {
      "cell_type": "markdown",
      "metadata": {
        "id": "qnf4M05h_8wp"
      },
      "source": [
        "**Условия задачи:**\n",
        "\n",
        "* Для обучения модели подходит только линейная регрессия (остальные — недостаточно предсказуемые).\n",
        "\n",
        "* При разведке региона исследуют 500 точек, из которых с помощью машинного обучения выбирают 200 лучших для разработки.\n",
        "\n",
        "* Бюджет на разработку скважин в регионе — 10 млрд рублей.\n",
        "\n",
        "* При нынешних ценах один баррель сырья приносит 450 рублей дохода. Доход с каждой единицы продукта составляет 450 тыс. рублей, поскольку объём указан в тысячах баррелей.\n",
        "\n",
        "* После оценки рисков нужно оставить лишь те регионы, в которых вероятность убытков меньше 2.5%. Среди них выбирают регион с наибольшей средней прибылью."
      ]
    },
    {
      "cell_type": "markdown",
      "metadata": {
        "id": "Nz3UBLY7_8wq"
      },
      "source": [
        "## Загрузка и подготовка данных"
      ]
    },
    {
      "cell_type": "code",
      "execution_count": null,
      "metadata": {
        "id": "J9D1TlMo_8wq"
      },
      "outputs": [],
      "source": [
        "# Импортируем библиотеки\n",
        "import pandas as pd\n",
        "from sklearn.model_selection import train_test_split\n",
        "from sklearn.preprocessing import StandardScaler\n",
        "from sklearn.utils import shuffle\n",
        "from sklearn.linear_model import LinearRegression\n",
        "from sklearn.metrics import mean_squared_error\n",
        "import numpy as np\n",
        "from tqdm import tqdm"
      ]
    },
    {
      "cell_type": "code",
      "execution_count": null,
      "metadata": {
        "id": "dA5edYTh_8wr"
      },
      "outputs": [],
      "source": [
        "# откроем данные\n",
        "data_a = pd.read_csv('/datasets/geo_data_0.csv')\n",
        "data_b = pd.read_csv('/datasets/geo_data_1.csv')\n",
        "data_c = pd.read_csv('/datasets/geo_data_2.csv')"
      ]
    },
    {
      "cell_type": "code",
      "execution_count": null,
      "metadata": {
        "id": "B3PNQu6r_8wr",
        "outputId": "fd6c6b10-a551-410f-d5b7-6675f3932e36"
      },
      "outputs": [
        {
          "data": {
            "text/html": [
              "<div>\n",
              "<style scoped>\n",
              "    .dataframe tbody tr th:only-of-type {\n",
              "        vertical-align: middle;\n",
              "    }\n",
              "\n",
              "    .dataframe tbody tr th {\n",
              "        vertical-align: top;\n",
              "    }\n",
              "\n",
              "    .dataframe thead th {\n",
              "        text-align: right;\n",
              "    }\n",
              "</style>\n",
              "<table border=\"1\" class=\"dataframe\">\n",
              "  <thead>\n",
              "    <tr style=\"text-align: right;\">\n",
              "      <th></th>\n",
              "      <th>id</th>\n",
              "      <th>f0</th>\n",
              "      <th>f1</th>\n",
              "      <th>f2</th>\n",
              "      <th>product</th>\n",
              "    </tr>\n",
              "  </thead>\n",
              "  <tbody>\n",
              "    <tr>\n",
              "      <th>0</th>\n",
              "      <td>txEyH</td>\n",
              "      <td>0.705745</td>\n",
              "      <td>-0.497823</td>\n",
              "      <td>1.221170</td>\n",
              "      <td>105.280062</td>\n",
              "    </tr>\n",
              "    <tr>\n",
              "      <th>1</th>\n",
              "      <td>2acmU</td>\n",
              "      <td>1.334711</td>\n",
              "      <td>-0.340164</td>\n",
              "      <td>4.365080</td>\n",
              "      <td>73.037750</td>\n",
              "    </tr>\n",
              "    <tr>\n",
              "      <th>2</th>\n",
              "      <td>409Wp</td>\n",
              "      <td>1.022732</td>\n",
              "      <td>0.151990</td>\n",
              "      <td>1.419926</td>\n",
              "      <td>85.265647</td>\n",
              "    </tr>\n",
              "    <tr>\n",
              "      <th>3</th>\n",
              "      <td>iJLyR</td>\n",
              "      <td>-0.032172</td>\n",
              "      <td>0.139033</td>\n",
              "      <td>2.978566</td>\n",
              "      <td>168.620776</td>\n",
              "    </tr>\n",
              "    <tr>\n",
              "      <th>4</th>\n",
              "      <td>Xdl7t</td>\n",
              "      <td>1.988431</td>\n",
              "      <td>0.155413</td>\n",
              "      <td>4.751769</td>\n",
              "      <td>154.036647</td>\n",
              "    </tr>\n",
              "  </tbody>\n",
              "</table>\n",
              "</div>"
            ],
            "text/plain": [
              "      id        f0        f1        f2     product\n",
              "0  txEyH  0.705745 -0.497823  1.221170  105.280062\n",
              "1  2acmU  1.334711 -0.340164  4.365080   73.037750\n",
              "2  409Wp  1.022732  0.151990  1.419926   85.265647\n",
              "3  iJLyR -0.032172  0.139033  2.978566  168.620776\n",
              "4  Xdl7t  1.988431  0.155413  4.751769  154.036647"
            ]
          },
          "execution_count": 72,
          "metadata": {},
          "output_type": "execute_result"
        }
      ],
      "source": [
        "# изучим данные\n",
        "data_a.head()"
      ]
    },
    {
      "cell_type": "markdown",
      "metadata": {
        "id": "eUeoeWxe_8ws"
      },
      "source": [
        "* **id** — уникальный идентификатор скважины;\n",
        "* **f0, f1, f2** — три признака точек (неважно, что они означают, но сами признаки значимы);\n",
        "* **product** — объём запасов в скважине (тыс. баррелей)."
      ]
    },
    {
      "cell_type": "code",
      "execution_count": null,
      "metadata": {
        "scrolled": true,
        "id": "4mxFAP7p_8ws",
        "outputId": "029997ac-0c84-4f57-a4b9-a82350ca6cc7"
      },
      "outputs": [
        {
          "name": "stdout",
          "output_type": "stream",
          "text": [
            "<class 'pandas.core.frame.DataFrame'>\n",
            "RangeIndex: 100000 entries, 0 to 99999\n",
            "Data columns (total 5 columns):\n",
            " #   Column   Non-Null Count   Dtype  \n",
            "---  ------   --------------   -----  \n",
            " 0   id       100000 non-null  object \n",
            " 1   f0       100000 non-null  float64\n",
            " 2   f1       100000 non-null  float64\n",
            " 3   f2       100000 non-null  float64\n",
            " 4   product  100000 non-null  float64\n",
            "dtypes: float64(4), object(1)\n",
            "memory usage: 3.8+ MB\n"
          ]
        }
      ],
      "source": [
        "data_a.info()"
      ]
    },
    {
      "cell_type": "code",
      "execution_count": null,
      "metadata": {
        "id": "f7aEBivh_8wt",
        "outputId": "4882c397-748c-4be7-e036-46ef8dea4381"
      },
      "outputs": [
        {
          "name": "stdout",
          "output_type": "stream",
          "text": [
            "<class 'pandas.core.frame.DataFrame'>\n",
            "RangeIndex: 100000 entries, 0 to 99999\n",
            "Data columns (total 5 columns):\n",
            " #   Column   Non-Null Count   Dtype  \n",
            "---  ------   --------------   -----  \n",
            " 0   id       100000 non-null  object \n",
            " 1   f0       100000 non-null  float64\n",
            " 2   f1       100000 non-null  float64\n",
            " 3   f2       100000 non-null  float64\n",
            " 4   product  100000 non-null  float64\n",
            "dtypes: float64(4), object(1)\n",
            "memory usage: 3.8+ MB\n"
          ]
        }
      ],
      "source": [
        "data_b.info()"
      ]
    },
    {
      "cell_type": "code",
      "execution_count": null,
      "metadata": {
        "id": "73rEDsY-_8wt",
        "outputId": "d93c2c6d-ec09-45fa-fccc-c7b1ec440b9f"
      },
      "outputs": [
        {
          "name": "stdout",
          "output_type": "stream",
          "text": [
            "<class 'pandas.core.frame.DataFrame'>\n",
            "RangeIndex: 100000 entries, 0 to 99999\n",
            "Data columns (total 5 columns):\n",
            " #   Column   Non-Null Count   Dtype  \n",
            "---  ------   --------------   -----  \n",
            " 0   id       100000 non-null  object \n",
            " 1   f0       100000 non-null  float64\n",
            " 2   f1       100000 non-null  float64\n",
            " 3   f2       100000 non-null  float64\n",
            " 4   product  100000 non-null  float64\n",
            "dtypes: float64(4), object(1)\n",
            "memory usage: 3.8+ MB\n"
          ]
        }
      ],
      "source": [
        "data_c.info()"
      ]
    },
    {
      "cell_type": "markdown",
      "metadata": {
        "id": "KSFXkc0C_8wt"
      },
      "source": [
        "В данных отсутствуют пропуски.\n",
        "Столбец id ябляется избыточной информацией, поэтому его нужно удалить."
      ]
    },
    {
      "cell_type": "code",
      "execution_count": null,
      "metadata": {
        "id": "gk547Bba_8wt"
      },
      "outputs": [],
      "source": [
        "# напишем функцию для удаления столбца 'id'\n",
        "def drop_id(data):\n",
        "    df = data.drop('id', axis=1)\n",
        "    return df"
      ]
    },
    {
      "cell_type": "code",
      "execution_count": null,
      "metadata": {
        "id": "uP5P3y5M_8wt"
      },
      "outputs": [],
      "source": [
        "# удалим столбец 'id' из всех трех датасетов\n",
        "data_a = drop_id(data_a)\n",
        "data_b = drop_id(data_b)\n",
        "data_c= drop_id(data_c)"
      ]
    },
    {
      "cell_type": "code",
      "execution_count": null,
      "metadata": {
        "id": "8v58U94T_8wu",
        "outputId": "c8dda3b3-06aa-4ef5-b992-6d74120e83bc"
      },
      "outputs": [
        {
          "data": {
            "text/html": [
              "<div>\n",
              "<style scoped>\n",
              "    .dataframe tbody tr th:only-of-type {\n",
              "        vertical-align: middle;\n",
              "    }\n",
              "\n",
              "    .dataframe tbody tr th {\n",
              "        vertical-align: top;\n",
              "    }\n",
              "\n",
              "    .dataframe thead th {\n",
              "        text-align: right;\n",
              "    }\n",
              "</style>\n",
              "<table border=\"1\" class=\"dataframe\">\n",
              "  <thead>\n",
              "    <tr style=\"text-align: right;\">\n",
              "      <th></th>\n",
              "      <th>f0</th>\n",
              "      <th>f1</th>\n",
              "      <th>f2</th>\n",
              "      <th>product</th>\n",
              "    </tr>\n",
              "  </thead>\n",
              "  <tbody>\n",
              "    <tr>\n",
              "      <th>0</th>\n",
              "      <td>0.705745</td>\n",
              "      <td>-0.497823</td>\n",
              "      <td>1.221170</td>\n",
              "      <td>105.280062</td>\n",
              "    </tr>\n",
              "    <tr>\n",
              "      <th>1</th>\n",
              "      <td>1.334711</td>\n",
              "      <td>-0.340164</td>\n",
              "      <td>4.365080</td>\n",
              "      <td>73.037750</td>\n",
              "    </tr>\n",
              "    <tr>\n",
              "      <th>2</th>\n",
              "      <td>1.022732</td>\n",
              "      <td>0.151990</td>\n",
              "      <td>1.419926</td>\n",
              "      <td>85.265647</td>\n",
              "    </tr>\n",
              "    <tr>\n",
              "      <th>3</th>\n",
              "      <td>-0.032172</td>\n",
              "      <td>0.139033</td>\n",
              "      <td>2.978566</td>\n",
              "      <td>168.620776</td>\n",
              "    </tr>\n",
              "    <tr>\n",
              "      <th>4</th>\n",
              "      <td>1.988431</td>\n",
              "      <td>0.155413</td>\n",
              "      <td>4.751769</td>\n",
              "      <td>154.036647</td>\n",
              "    </tr>\n",
              "  </tbody>\n",
              "</table>\n",
              "</div>"
            ],
            "text/plain": [
              "         f0        f1        f2     product\n",
              "0  0.705745 -0.497823  1.221170  105.280062\n",
              "1  1.334711 -0.340164  4.365080   73.037750\n",
              "2  1.022732  0.151990  1.419926   85.265647\n",
              "3 -0.032172  0.139033  2.978566  168.620776\n",
              "4  1.988431  0.155413  4.751769  154.036647"
            ]
          },
          "execution_count": 78,
          "metadata": {},
          "output_type": "execute_result"
        }
      ],
      "source": [
        "data_a.head()"
      ]
    },
    {
      "cell_type": "markdown",
      "metadata": {
        "id": "PEU2e1lm_8wu"
      },
      "source": [
        "### Выводы"
      ]
    },
    {
      "cell_type": "markdown",
      "metadata": {
        "id": "3X3uPz56_8wu"
      },
      "source": [
        "Предоставлены пробы нефти в трёх регионах: в каждом 10 000 месторождений, где измерили качество нефти и объём её запасов.\n",
        "\n",
        "* В данных не обнаружено пропусков.\n",
        "* Из всех трех датасетов были удалены столбцы 'id'"
      ]
    },
    {
      "cell_type": "markdown",
      "metadata": {
        "id": "WBWssZo-_8wu"
      },
      "source": [
        "## Обучение и проверка модели"
      ]
    },
    {
      "cell_type": "markdown",
      "metadata": {
        "id": "eHDOyJkm_8wu"
      },
      "source": [
        "Разобьем данные на обучающую и валидационную выборки в соотношении 75:25."
      ]
    },
    {
      "cell_type": "code",
      "execution_count": null,
      "metadata": {
        "id": "ANaopGJu_8wu"
      },
      "outputs": [],
      "source": [
        "# Напишем функцию, которая будет разбивать данные в заданной пропорции\n",
        "def data_separation(data):\n",
        "    features = data.drop('product', axis=1)\n",
        "    target = data['product']\n",
        "\n",
        "    features_train, features_valid, target_train, target_valid = train_test_split(\n",
        "        features, target, test_size=0.25, random_state=12345)\n",
        "    return features_train, features_valid, target_train, target_valid"
      ]
    },
    {
      "cell_type": "code",
      "execution_count": null,
      "metadata": {
        "id": "EreJ213h_8wv"
      },
      "outputs": [],
      "source": [
        "# Используем функцию data_separation для разделения данных на выборки\n",
        "features_train_a, features_valid_a, target_train_a, target_valid_a = data_separation(data_a)\n",
        "features_train_b, features_valid_b, target_train_b, target_valid_b = data_separation(data_b)\n",
        "features_train_c, features_valid_c, target_train_c, target_valid_c = data_separation(data_c)"
      ]
    },
    {
      "cell_type": "markdown",
      "metadata": {
        "id": "N0xf3oy-_8wv"
      },
      "source": [
        "Обучим модель и сделаем предсказания на валидационной выборке. Сохраним предсказания и правильные ответы на валидационной выборке. Напечатаем на экране средний запас предсказанного сырья и RMSE модели."
      ]
    },
    {
      "cell_type": "code",
      "execution_count": null,
      "metadata": {
        "id": "38f7XUri_8wv"
      },
      "outputs": [],
      "source": [
        "data = [data_a, data_b, data_c]\n",
        "\n",
        "features_train = [features_train_a, features_train_b, features_train_c]\n",
        "features_valid = [features_valid_a, features_valid_b, features_valid_c]\n",
        "target_train = [target_train_a, target_train_b, target_train_c]\n",
        "target_valid = [target_valid_a, target_valid_b, target_valid_c]\n",
        "\n",
        "regions = ['Регион a', 'Регион b', 'Регион c']"
      ]
    },
    {
      "cell_type": "code",
      "execution_count": null,
      "metadata": {
        "id": "6Hr7I0oo_8wv",
        "outputId": "fd8cf45e-2cdb-4726-a39a-04b290c305cf"
      },
      "outputs": [
        {
          "name": "stdout",
          "output_type": "stream",
          "text": [
            "Регион a\n",
            "Средний запас предсказанного сырья:  92.6 тыс. баррелей\n",
            "RMSE модели:  37.6 тыс. баррелей\n",
            " \n",
            "Регион b\n",
            "Средний запас предсказанного сырья:  68.7 тыс. баррелей\n",
            "RMSE модели:  0.9 тыс. баррелей\n",
            " \n",
            "Регион c\n",
            "Средний запас предсказанного сырья:  95.0 тыс. баррелей\n",
            "RMSE модели:  40.0 тыс. баррелей\n",
            " \n"
          ]
        }
      ],
      "source": [
        "predictions = []\n",
        "targets = []\n",
        "\n",
        "for i in range(len(data)):\n",
        "    model = LinearRegression()\n",
        "    model.fit(features_train[i], target_train[i])\n",
        "\n",
        "    predictions.append(model.predict(features_valid[i]))\n",
        "    targets.append(target_valid[i])\n",
        "\n",
        "    print (regions[i])\n",
        "    print ('Средний запас предсказанного сырья: ', round(predictions[i].mean(), 1), 'тыс. баррелей')\n",
        "    print ('RMSE модели: ', round((mean_squared_error(targets[i], predictions[i]) ** 0.5), 1), 'тыс. баррелей')\n",
        "    print (' ')"
      ]
    },
    {
      "cell_type": "markdown",
      "metadata": {
        "id": "zHRNP80U_8ww"
      },
      "source": [
        "### Выводы"
      ]
    },
    {
      "cell_type": "markdown",
      "metadata": {
        "id": "ZCL_8ijN_8ww"
      },
      "source": [
        "Была обучена модель LinearRegression и сделаны предсказания на валидационной выборке.\n",
        "Расчитан средний запас предсказанного сырья и RMSE модели для каждого из регионов. Наиболее перспективным местом с точки зрения величины запаса предсказанного сырья является регион с (Средний запас предсказанного сырья:  95.0 тыс. баррелей\n",
        "RMSE модели:  40.0 тыс. баррелей)."
      ]
    },
    {
      "cell_type": "markdown",
      "metadata": {
        "id": "L92wzE0k_8ww"
      },
      "source": [
        "## Подготовка к расчёту прибыли"
      ]
    },
    {
      "cell_type": "markdown",
      "metadata": {
        "id": "vEEojs3q_8ww"
      },
      "source": [
        "Сохраним ключевые значения для расчетов в отдельных переменных."
      ]
    },
    {
      "cell_type": "code",
      "execution_count": null,
      "metadata": {
        "id": "zZmsUkbN_8w5"
      },
      "outputs": [],
      "source": [
        "# точки для исследования при разведке региона\n",
        "RESEARCH_POINTS = 500\n",
        "\n",
        "# лучшие точки для разработки в соответствии с результатами машинного обучения\n",
        "BEST_ML_POINTS = 200\n",
        "\n",
        "# бюджет на разработку скважин в регионе\n",
        "BUDGET = 10000000000\n",
        "\n",
        "# доход с одного барреля сырья\n",
        "REVENUE = 450000"
      ]
    },
    {
      "cell_type": "markdown",
      "metadata": {
        "id": "kohAmyaq_8w5"
      },
      "source": [
        "Рассчитаем достаточный объём сырья для безубыточной разработки новой скважины."
      ]
    },
    {
      "cell_type": "code",
      "execution_count": null,
      "metadata": {
        "id": "9Fmx1U93_8w6",
        "outputId": "e5ac25a3-be6a-463e-ac3e-7d724a8c0017"
      },
      "outputs": [
        {
          "name": "stdout",
          "output_type": "stream",
          "text": [
            "Минимальный объем сырья для безубыточной разработки скважины:  111 тыс. баррелей\n"
          ]
        }
      ],
      "source": [
        "min_volume = BUDGET / BEST_ML_POINTS / REVENUE\n",
        "\n",
        "print ('Минимальный объем сырья для безубыточной разработки скважины: ', round(min_volume), 'тыс. баррелей')"
      ]
    },
    {
      "cell_type": "markdown",
      "metadata": {
        "id": "ui-OTphn_8w6"
      },
      "source": [
        "### Выводы"
      ]
    },
    {
      "cell_type": "markdown",
      "metadata": {
        "id": "oY8qKxnc_8w6"
      },
      "source": [
        "Было показано, что достаточный объём сырья для безубыточной разработки новой скважины составляет 111 тыс. баррелей.\n",
        "\n",
        "Ранее было обнаружено, что даже самый прибыльный регион с имеет запас около 95 тыс. баррелей. Это на 16 тыс. баррелей меньше необходимого."
      ]
    },
    {
      "cell_type": "markdown",
      "metadata": {
        "id": "R0XRgyTf_8w6"
      },
      "source": [
        "## Расчёт прибыли по выбранным скважинам и предсказаниям модели"
      ]
    },
    {
      "cell_type": "code",
      "execution_count": null,
      "metadata": {
        "id": "oAnY-195_8w6"
      },
      "outputs": [],
      "source": [
        "# Подготовим данные для расчета\n",
        "\n",
        "# для региона а\n",
        "target_a = pd.Series(targets[0]).reset_index(drop=True)\n",
        "prediction_a = pd.Series(predictions[0])\n",
        "\n",
        "# для региона b\n",
        "target_b = pd.Series(targets[1]).reset_index(drop=True)\n",
        "prediction_b = pd.Series(predictions[1])\n",
        "\n",
        "# для региона c\n",
        "target_c = pd.Series(targets[2]).reset_index(drop=True)\n",
        "prediction_c = pd.Series(predictions[2])"
      ]
    },
    {
      "cell_type": "code",
      "execution_count": null,
      "metadata": {
        "id": "pZg6Vq0g_8w7"
      },
      "outputs": [],
      "source": [
        "# Напишем функцию для расчёта прибыли\n",
        "def revenue_counter(target, prediction, count):\n",
        "\n",
        "    # выберем скважины с максимальными значениями предсказаний\n",
        "    sorted_prediction = prediction.sort_values(ascending=False)\n",
        "    aim = target[sorted_prediction.index][:count]\n",
        "\n",
        "    # функция вернет суммарную прибыль по выбранным скважинам\n",
        "    return (REVENUE * aim.sum()) - BUDGET\n",
        ""
      ]
    },
    {
      "cell_type": "code",
      "execution_count": null,
      "metadata": {
        "id": "omqqWbjg_8w7",
        "outputId": "c329c055-cd54-4a5e-a7b3-824d15a75105"
      },
      "outputs": [
        {
          "name": "stdout",
          "output_type": "stream",
          "text": [
            "Суммарная прибыль в регионе a:  3320826043 тыс. р\n",
            " \n",
            "Суммарная прибыль в регионе b:  2415086697 тыс. р\n",
            " \n",
            "Суммарная прибыль в регионе c:  2710349964 тыс. р\n",
            " \n"
          ]
        }
      ],
      "source": [
        "# Посчитаем прибыль для каждого региона\n",
        "\n",
        "# для региона а\n",
        "print ('Суммарная прибыль в регионе a: ', round(\n",
        "    revenue_counter(target_a, prediction_a, BEST_ML_POINTS)), 'тыс. р')\n",
        "print (' ')\n",
        "\n",
        "# для региона b\n",
        "print ('Суммарная прибыль в регионе b: ', round(\n",
        "    revenue_counter(target_b, prediction_b, BEST_ML_POINTS)), 'тыс. р')\n",
        "print (' ')\n",
        "\n",
        "# для региона c\n",
        "print ('Суммарная прибыль в регионе c: ', round(\n",
        "    revenue_counter(target_c, prediction_c, BEST_ML_POINTS)), 'тыс. р')\n",
        "print (' ')"
      ]
    },
    {
      "cell_type": "markdown",
      "metadata": {
        "id": "EsWWUu92_8w7"
      },
      "source": [
        "### Выводы"
      ]
    },
    {
      "cell_type": "markdown",
      "metadata": {
        "id": "o5CF8gCV_8w7"
      },
      "source": [
        "Были расчётаны прибыли по выбранным скважинам и предсказаниям модели. Оказалось, что большую прибыль может принести скважины в  районе а: 3320826043 тыс. р"
      ]
    },
    {
      "cell_type": "markdown",
      "metadata": {
        "id": "ykES9NAt_8w7"
      },
      "source": [
        "## Расчёт прибыли и рисков"
      ]
    },
    {
      "cell_type": "markdown",
      "metadata": {
        "id": "9wsqKb_e_8w8"
      },
      "source": [
        "Применим технику Bootstrap с 1000 выборок, чтобы найти распределение прибыли. Найдем среднюю прибыль, 95%-й доверительный интервал и риск убытков."
      ]
    },
    {
      "cell_type": "code",
      "execution_count": null,
      "metadata": {
        "id": "-8E0YcO__8w8",
        "outputId": "85f20d2a-2136-43d4-badb-40d383c61e72"
      },
      "outputs": [
        {
          "name": "stdout",
          "output_type": "stream",
          "text": [
            "Регион a\n",
            "Средняя прибыль:  0.426 млрд. р\n",
            "95% доверительный интервал: от  -0.102 млрд. р до  0.948 млрд. р\n",
            "Риск убытков: 6.0%\n",
            " \n",
            "Регион b\n",
            "Средняя прибыль:  0.518 млрд. р\n",
            "95% доверительный интервал: от  0.128 млрд. р до  0.954 млрд. р\n",
            "Риск убытков: 0.3%\n",
            " \n",
            "Регион c\n",
            "Средняя прибыль:  0.42 млрд. р\n",
            "95% доверительный интервал: от  -0.116 млрд. р до  0.99 млрд. р\n",
            "Риск убытков: 6.2%\n",
            " \n",
            "CPU times: user 4.25 s, sys: 18.5 ms, total: 4.27 s\n",
            "Wall time: 4.53 s\n"
          ]
        }
      ],
      "source": [
        "%%time\n",
        "\n",
        "# создадим списки для трех регионов\n",
        "target = [target_a, target_b, target_c]\n",
        "predictions = [prediction_a, prediction_b, prediction_c]\n",
        "regions = ['Регион a', 'Регион b', 'Регион c']\n",
        "\n",
        "state = np.random.RandomState(12345)\n",
        "\n",
        "for i in range(len(target)):\n",
        "    values = []\n",
        "\n",
        "    for j in range (1000):\n",
        "        target_subsample = target[i].sample(RESEARCH_POINTS, replace=True, random_state=state)\n",
        "        predicted_subsample = predictions[i].loc[target_subsample.index]\n",
        "\n",
        "\n",
        "        # расчет дохода с 200 самых прибыльных\n",
        "        values.append(revenue_counter(target_subsample, predicted_subsample, BEST_ML_POINTS))\n",
        "\n",
        "    values = pd.Series(values)\n",
        "\n",
        "    # расчет средней прибыли и доверительного интервала\n",
        "    mean = values.mean()\n",
        "    lower = values.quantile(0.025)\n",
        "    upper = values.quantile(0.975)\n",
        "\n",
        "     # расчет риска убытков\n",
        "    #risk = (values < BUDGET).mean()\n",
        "    risk = values[values < 0].count()/values.count()\n",
        "\n",
        "\n",
        "    print (regions[i])\n",
        "    print ('Средняя прибыль: ', round((mean / 1000000000), 3), 'млрд. р')\n",
        "    print ('95% доверительный интервал: от ', round((lower / 1000000000), 3), 'млрд. р до ',\n",
        "           round((upper / 1000000000), 3), 'млрд. р')\n",
        "    print ('Риск убытков: {:.1%}'.format (risk))\n",
        "    print (' ')\n"
      ]
    },
    {
      "cell_type": "markdown",
      "metadata": {
        "id": "RgOfXrMq_8w8"
      },
      "source": [
        "### Выводы"
      ]
    },
    {
      "cell_type": "markdown",
      "metadata": {
        "id": "V5QzNeDt_8w9"
      },
      "source": [
        "Анализ данных показал, что абсолютным лидером является регион b (0,518 млрд. р). Несмотря на то что все 3 региона показывают сопоставимую прибыль, риск убытков в регионе b в ~20 раз ниже (0,3%)."
      ]
    },
    {
      "cell_type": "markdown",
      "metadata": {
        "id": "ER4dSaVX_8w9"
      },
      "source": [
        "## Выводы"
      ]
    },
    {
      "cell_type": "markdown",
      "metadata": {
        "id": "eNxOiP3o_8w9"
      },
      "source": [
        "Для добывающей компании  «ГлавРосГосНефть» нужно решить в каком регионе бурить новую скважину. Были предоставлены данные о трех регионах, на основании которых была построена модель для определения наиболее первспективного региона.\n",
        "\n",
        "* Данные были загружены и подготовлены, после чего разбиты на обучающую и валидационную выборки в соотношении 75:25.\n",
        "* Была обучена модель LinearRegression и сделаны предсказания на валидационной выборке.\n",
        "* Расчитан средний запас предсказанного сырья и RMSE модели для каждого из регионов. Наиболее перспективным местом с точки зрения величины запаса предсказанного сырья является регион с (Средний запас предсказанного сырья:  95.0 тыс. баррелей RMSE модели:  40.0 тыс. баррелей).\n",
        "* Было показано, что достаточный объём сырья для безубыточной разработки новой скважины составляет 111 тыс. баррелей. Ранее было обнаружено, что даже самый прибыльный регион с имеет запас около 95 тыс. баррелей. Это на 16 тыс. баррелей меньше необходимого.\n",
        "* Были расчётаны прибыли по выбранным скважинам и предсказаниям модели. Оказалось, что большую прибыль может принести скважины в районе а: 3.320 млрд. р\n",
        "* Анализ данных показал, что абсолютным лидером является регион b (0,518 млрд. р). Несмотря на то что все 3 региона показывают сопоставимую прибыль, риск убытков в регионе b в ~20 раз ниже (0,3%)."
      ]
    }
  ],
  "metadata": {
    "ExecuteTimeLog": [
      {
        "duration": 1471,
        "start_time": "2023-05-09T06:25:00.919Z"
      },
      {
        "duration": 158,
        "start_time": "2023-05-09T06:32:08.789Z"
      },
      {
        "duration": 1830,
        "start_time": "2023-05-09T06:32:57.508Z"
      },
      {
        "duration": 461,
        "start_time": "2023-05-09T06:33:04.027Z"
      },
      {
        "duration": 10,
        "start_time": "2023-05-09T06:53:44.401Z"
      },
      {
        "duration": 16,
        "start_time": "2023-05-09T06:54:09.505Z"
      },
      {
        "duration": 19,
        "start_time": "2023-05-09T06:54:33.226Z"
      },
      {
        "duration": 10,
        "start_time": "2023-05-09T06:54:48.218Z"
      },
      {
        "duration": 15,
        "start_time": "2023-05-09T06:54:48.944Z"
      },
      {
        "duration": 1157,
        "start_time": "2023-05-10T06:07:56.282Z"
      },
      {
        "duration": 1766,
        "start_time": "2023-05-10T06:07:57.442Z"
      },
      {
        "duration": 16,
        "start_time": "2023-05-10T06:07:59.209Z"
      },
      {
        "duration": 15,
        "start_time": "2023-05-10T06:12:01.961Z"
      },
      {
        "duration": 18,
        "start_time": "2023-05-10T06:12:05.897Z"
      },
      {
        "duration": 19,
        "start_time": "2023-05-10T06:12:14.815Z"
      },
      {
        "duration": 9,
        "start_time": "2023-05-10T06:13:04.533Z"
      },
      {
        "duration": 4,
        "start_time": "2023-05-10T06:25:33.020Z"
      },
      {
        "duration": 3,
        "start_time": "2023-05-10T06:27:35.312Z"
      },
      {
        "duration": 54,
        "start_time": "2023-05-10T06:32:29.803Z"
      },
      {
        "duration": 3,
        "start_time": "2023-05-10T06:32:30.206Z"
      },
      {
        "duration": 3,
        "start_time": "2023-05-10T06:32:40.816Z"
      },
      {
        "duration": 19,
        "start_time": "2023-05-10T06:32:41.597Z"
      },
      {
        "duration": 8,
        "start_time": "2023-05-10T06:33:06.345Z"
      },
      {
        "duration": 4,
        "start_time": "2023-05-10T06:50:46.201Z"
      },
      {
        "duration": 3,
        "start_time": "2023-05-10T06:50:51.472Z"
      },
      {
        "duration": 152,
        "start_time": "2023-05-10T06:54:31.656Z"
      },
      {
        "duration": 8,
        "start_time": "2023-05-10T06:54:37.682Z"
      },
      {
        "duration": 44,
        "start_time": "2023-05-10T06:54:38.363Z"
      },
      {
        "duration": 27,
        "start_time": "2023-05-10T06:55:17.413Z"
      },
      {
        "duration": 10,
        "start_time": "2023-05-10T07:08:31.633Z"
      },
      {
        "duration": 5,
        "start_time": "2023-05-10T07:09:37.877Z"
      },
      {
        "duration": 255,
        "start_time": "2023-05-10T07:11:00.734Z"
      },
      {
        "duration": 94,
        "start_time": "2023-05-10T07:11:23.912Z"
      },
      {
        "duration": 128,
        "start_time": "2023-05-10T07:11:34.474Z"
      },
      {
        "duration": 2,
        "start_time": "2023-05-10T07:12:04.912Z"
      },
      {
        "duration": 4,
        "start_time": "2023-05-10T08:07:57.166Z"
      },
      {
        "duration": 5,
        "start_time": "2023-05-10T08:40:44.932Z"
      },
      {
        "duration": 9,
        "start_time": "2023-05-10T08:49:51.921Z"
      },
      {
        "duration": 10,
        "start_time": "2023-05-10T08:50:35.440Z"
      },
      {
        "duration": 14,
        "start_time": "2023-05-10T08:50:54.874Z"
      },
      {
        "duration": 8,
        "start_time": "2023-05-10T08:51:42.732Z"
      },
      {
        "duration": 3,
        "start_time": "2023-05-10T08:56:06.095Z"
      },
      {
        "duration": 51,
        "start_time": "2023-05-10T09:00:17.896Z"
      },
      {
        "duration": 20,
        "start_time": "2023-05-10T09:00:55.506Z"
      },
      {
        "duration": 18,
        "start_time": "2023-05-10T09:01:33.293Z"
      },
      {
        "duration": 19,
        "start_time": "2023-05-10T09:02:30.952Z"
      },
      {
        "duration": 20,
        "start_time": "2023-05-10T09:02:54.662Z"
      },
      {
        "duration": 17,
        "start_time": "2023-05-10T09:04:12.598Z"
      },
      {
        "duration": 1219,
        "start_time": "2023-05-10T18:43:52.421Z"
      },
      {
        "duration": 1087,
        "start_time": "2023-05-10T18:43:53.642Z"
      },
      {
        "duration": 18,
        "start_time": "2023-05-10T18:43:54.731Z"
      },
      {
        "duration": 15,
        "start_time": "2023-05-10T18:43:54.751Z"
      },
      {
        "duration": 2,
        "start_time": "2023-05-10T18:43:54.768Z"
      },
      {
        "duration": 4,
        "start_time": "2023-05-10T18:43:54.771Z"
      },
      {
        "duration": 10,
        "start_time": "2023-05-10T18:43:54.777Z"
      },
      {
        "duration": 17,
        "start_time": "2023-05-10T18:43:54.789Z"
      },
      {
        "duration": 10,
        "start_time": "2023-05-10T18:43:54.819Z"
      },
      {
        "duration": 4,
        "start_time": "2023-05-10T18:43:54.831Z"
      },
      {
        "duration": 37,
        "start_time": "2023-05-10T18:43:54.836Z"
      },
      {
        "duration": 4,
        "start_time": "2023-05-10T18:43:54.874Z"
      },
      {
        "duration": 147,
        "start_time": "2023-05-10T18:43:54.880Z"
      },
      {
        "duration": 4,
        "start_time": "2023-05-10T18:43:55.028Z"
      },
      {
        "duration": 94,
        "start_time": "2023-05-10T18:43:55.033Z"
      },
      {
        "duration": 84,
        "start_time": "2023-05-10T18:43:55.128Z"
      },
      {
        "duration": 13,
        "start_time": "2023-05-10T18:43:55.217Z"
      },
      {
        "duration": 30,
        "start_time": "2023-05-10T18:43:55.232Z"
      },
      {
        "duration": 125,
        "start_time": "2023-05-10T18:51:49.732Z"
      },
      {
        "duration": 5,
        "start_time": "2023-05-10T18:51:58.591Z"
      },
      {
        "duration": 5,
        "start_time": "2023-05-10T18:51:59.225Z"
      },
      {
        "duration": 29,
        "start_time": "2023-05-10T18:52:02.797Z"
      },
      {
        "duration": 4,
        "start_time": "2023-05-10T18:57:25.866Z"
      },
      {
        "duration": 26,
        "start_time": "2023-05-10T18:57:26.598Z"
      },
      {
        "duration": 7,
        "start_time": "2023-05-12T05:11:16.329Z"
      },
      {
        "duration": 5,
        "start_time": "2023-05-12T05:11:16.337Z"
      },
      {
        "duration": 67,
        "start_time": "2023-05-12T05:11:16.344Z"
      },
      {
        "duration": 0,
        "start_time": "2023-05-12T05:11:16.413Z"
      },
      {
        "duration": 0,
        "start_time": "2023-05-12T05:11:16.414Z"
      },
      {
        "duration": 0,
        "start_time": "2023-05-12T05:11:16.415Z"
      },
      {
        "duration": 1648,
        "start_time": "2023-05-12T06:31:50.069Z"
      },
      {
        "duration": 2019,
        "start_time": "2023-05-12T06:31:51.726Z"
      },
      {
        "duration": 58,
        "start_time": "2023-05-12T06:31:53.752Z"
      },
      {
        "duration": 42,
        "start_time": "2023-05-12T06:31:55.344Z"
      },
      {
        "duration": 4,
        "start_time": "2023-05-12T06:31:58.018Z"
      },
      {
        "duration": 7,
        "start_time": "2023-05-12T06:31:58.087Z"
      },
      {
        "duration": 5,
        "start_time": "2023-05-12T06:31:59.906Z"
      },
      {
        "duration": 20,
        "start_time": "2023-05-12T06:32:01.288Z"
      },
      {
        "duration": 13,
        "start_time": "2023-05-12T06:32:02.309Z"
      },
      {
        "duration": 8,
        "start_time": "2023-05-12T06:32:10.616Z"
      },
      {
        "duration": 63,
        "start_time": "2023-05-12T06:32:11.665Z"
      },
      {
        "duration": 5,
        "start_time": "2023-05-12T06:32:13.542Z"
      },
      {
        "duration": 363,
        "start_time": "2023-05-12T06:32:17.950Z"
      },
      {
        "duration": 4,
        "start_time": "2023-05-12T06:32:27.126Z"
      },
      {
        "duration": 5,
        "start_time": "2023-05-12T06:32:29.200Z"
      },
      {
        "duration": 7,
        "start_time": "2023-05-12T06:32:32.198Z"
      },
      {
        "duration": 4,
        "start_time": "2023-05-12T06:32:33.141Z"
      },
      {
        "duration": 29,
        "start_time": "2023-05-12T06:32:35.683Z"
      },
      {
        "duration": 78,
        "start_time": "2023-05-12T06:32:49.179Z"
      },
      {
        "duration": 19,
        "start_time": "2023-05-12T06:34:21.611Z"
      },
      {
        "duration": 2113,
        "start_time": "2023-05-12T06:35:24.299Z"
      },
      {
        "duration": 5686,
        "start_time": "2023-05-12T06:35:39.578Z"
      },
      {
        "duration": 45,
        "start_time": "2023-05-12T08:46:40.281Z"
      },
      {
        "duration": 1081,
        "start_time": "2023-05-12T08:46:53.373Z"
      },
      {
        "duration": 830,
        "start_time": "2023-05-12T08:46:54.456Z"
      },
      {
        "duration": 15,
        "start_time": "2023-05-12T08:46:56.172Z"
      },
      {
        "duration": 15,
        "start_time": "2023-05-12T08:46:58.551Z"
      },
      {
        "duration": 3,
        "start_time": "2023-05-12T08:46:59.972Z"
      },
      {
        "duration": 3,
        "start_time": "2023-05-12T08:47:01.264Z"
      },
      {
        "duration": 3,
        "start_time": "2023-05-12T08:47:02.912Z"
      },
      {
        "duration": 15,
        "start_time": "2023-05-12T08:47:03.773Z"
      },
      {
        "duration": 8,
        "start_time": "2023-05-12T08:47:04.563Z"
      },
      {
        "duration": 4,
        "start_time": "2023-05-12T08:47:08.746Z"
      },
      {
        "duration": 34,
        "start_time": "2023-05-12T08:47:10.246Z"
      },
      {
        "duration": 3,
        "start_time": "2023-05-12T08:47:12.161Z"
      },
      {
        "duration": 124,
        "start_time": "2023-05-12T08:47:13.340Z"
      },
      {
        "duration": 2,
        "start_time": "2023-05-12T08:47:18.159Z"
      },
      {
        "duration": 4,
        "start_time": "2023-05-12T08:47:19.949Z"
      },
      {
        "duration": 5,
        "start_time": "2023-05-12T08:47:31.709Z"
      },
      {
        "duration": 3,
        "start_time": "2023-05-12T08:47:32.863Z"
      },
      {
        "duration": 17,
        "start_time": "2023-05-12T08:47:34.249Z"
      },
      {
        "duration": 4012,
        "start_time": "2023-05-12T08:47:41.811Z"
      },
      {
        "duration": 3654,
        "start_time": "2023-05-12T08:50:35.801Z"
      },
      {
        "duration": 4,
        "start_time": "2023-05-12T09:40:01.727Z"
      },
      {
        "duration": 345,
        "start_time": "2023-05-12T09:40:02.207Z"
      },
      {
        "duration": 9,
        "start_time": "2023-05-12T09:40:02.913Z"
      },
      {
        "duration": 14,
        "start_time": "2023-05-12T09:40:04.276Z"
      },
      {
        "duration": 3,
        "start_time": "2023-05-12T09:40:04.476Z"
      },
      {
        "duration": 3,
        "start_time": "2023-05-12T09:40:04.687Z"
      },
      {
        "duration": 20,
        "start_time": "2023-05-12T09:40:12.786Z"
      },
      {
        "duration": 20,
        "start_time": "2023-05-12T09:40:13.374Z"
      },
      {
        "duration": 3,
        "start_time": "2023-05-12T09:40:23.376Z"
      },
      {
        "duration": 12,
        "start_time": "2023-05-12T09:40:23.769Z"
      },
      {
        "duration": 12,
        "start_time": "2023-05-12T09:40:24.159Z"
      },
      {
        "duration": 4,
        "start_time": "2023-05-12T09:40:28.620Z"
      },
      {
        "duration": 32,
        "start_time": "2023-05-12T09:40:29.707Z"
      },
      {
        "duration": 5,
        "start_time": "2023-05-12T09:40:31.209Z"
      },
      {
        "duration": 131,
        "start_time": "2023-05-12T09:40:32.227Z"
      },
      {
        "duration": 2,
        "start_time": "2023-05-12T09:40:36.152Z"
      },
      {
        "duration": 4,
        "start_time": "2023-05-12T09:40:38.006Z"
      },
      {
        "duration": 2,
        "start_time": "2023-05-12T09:41:09.115Z"
      },
      {
        "duration": 4,
        "start_time": "2023-05-12T09:41:11.290Z"
      },
      {
        "duration": 6,
        "start_time": "2023-05-12T09:41:22.305Z"
      },
      {
        "duration": 3,
        "start_time": "2023-05-12T09:41:23.084Z"
      },
      {
        "duration": 20,
        "start_time": "2023-05-12T09:41:24.472Z"
      },
      {
        "duration": 3934,
        "start_time": "2023-05-12T09:42:08.021Z"
      },
      {
        "duration": 3980,
        "start_time": "2023-05-12T09:42:18.878Z"
      },
      {
        "duration": 1656,
        "start_time": "2023-05-12T10:12:19.059Z"
      },
      {
        "duration": 375,
        "start_time": "2023-05-12T10:12:20.717Z"
      },
      {
        "duration": 20,
        "start_time": "2023-05-12T10:12:21.094Z"
      },
      {
        "duration": 35,
        "start_time": "2023-05-12T10:12:21.116Z"
      },
      {
        "duration": 37,
        "start_time": "2023-05-12T10:12:21.152Z"
      },
      {
        "duration": 33,
        "start_time": "2023-05-12T10:12:21.190Z"
      },
      {
        "duration": 8,
        "start_time": "2023-05-12T10:12:21.225Z"
      },
      {
        "duration": 41,
        "start_time": "2023-05-12T10:12:21.240Z"
      },
      {
        "duration": 39,
        "start_time": "2023-05-12T10:12:21.283Z"
      },
      {
        "duration": 12,
        "start_time": "2023-05-12T10:12:21.325Z"
      },
      {
        "duration": 43,
        "start_time": "2023-05-12T10:12:21.339Z"
      },
      {
        "duration": 4,
        "start_time": "2023-05-12T10:12:21.383Z"
      },
      {
        "duration": 222,
        "start_time": "2023-05-12T10:12:21.388Z"
      },
      {
        "duration": 15,
        "start_time": "2023-05-12T10:12:21.618Z"
      },
      {
        "duration": 18,
        "start_time": "2023-05-12T10:12:21.705Z"
      },
      {
        "duration": 23,
        "start_time": "2023-05-12T10:12:21.736Z"
      },
      {
        "duration": 94,
        "start_time": "2023-05-12T10:12:21.761Z"
      },
      {
        "duration": 36,
        "start_time": "2023-05-12T10:12:21.857Z"
      },
      {
        "duration": 4118,
        "start_time": "2023-05-12T10:12:21.895Z"
      },
      {
        "duration": 1290,
        "start_time": "2023-05-12T14:09:57.743Z"
      },
      {
        "duration": 1713,
        "start_time": "2023-05-12T14:09:59.479Z"
      },
      {
        "duration": 17,
        "start_time": "2023-05-12T14:10:01.195Z"
      },
      {
        "duration": 16,
        "start_time": "2023-05-12T14:10:05.816Z"
      },
      {
        "duration": 16,
        "start_time": "2023-05-12T14:10:06.690Z"
      },
      {
        "duration": 15,
        "start_time": "2023-05-12T14:10:07.676Z"
      },
      {
        "duration": 3,
        "start_time": "2023-05-12T14:10:09.431Z"
      },
      {
        "duration": 17,
        "start_time": "2023-05-12T14:10:11.481Z"
      },
      {
        "duration": 11,
        "start_time": "2023-05-12T14:10:12.423Z"
      },
      {
        "duration": 4,
        "start_time": "2023-05-12T14:10:23.200Z"
      },
      {
        "duration": 47,
        "start_time": "2023-05-12T14:10:24.625Z"
      },
      {
        "duration": 4,
        "start_time": "2023-05-12T14:10:26.662Z"
      },
      {
        "duration": 375,
        "start_time": "2023-05-12T14:10:27.478Z"
      },
      {
        "duration": 3,
        "start_time": "2023-05-12T14:10:38.895Z"
      },
      {
        "duration": 3,
        "start_time": "2023-05-12T14:10:41.631Z"
      },
      {
        "duration": 8,
        "start_time": "2023-05-12T14:10:51.782Z"
      },
      {
        "duration": 4,
        "start_time": "2023-05-12T14:10:52.736Z"
      },
      {
        "duration": 21,
        "start_time": "2023-05-12T14:10:56.991Z"
      },
      {
        "duration": 4917,
        "start_time": "2023-05-12T14:11:51.921Z"
      },
      {
        "duration": 18,
        "start_time": "2023-05-12T14:15:17.753Z"
      },
      {
        "duration": 4164,
        "start_time": "2023-05-12T14:15:26.408Z"
      },
      {
        "duration": 4,
        "start_time": "2023-05-12T14:39:01.592Z"
      },
      {
        "duration": 24,
        "start_time": "2023-05-12T14:39:05.808Z"
      },
      {
        "duration": 26,
        "start_time": "2023-05-12T14:39:16.623Z"
      },
      {
        "duration": 4342,
        "start_time": "2023-05-12T14:39:20.390Z"
      },
      {
        "duration": 8,
        "start_time": "2023-05-12T20:23:51.842Z"
      },
      {
        "duration": 1732,
        "start_time": "2023-05-13T06:57:21.662Z"
      },
      {
        "duration": 4997,
        "start_time": "2023-05-13T06:57:26.045Z"
      },
      {
        "duration": 27,
        "start_time": "2023-05-13T06:57:31.051Z"
      },
      {
        "duration": 148,
        "start_time": "2023-05-13T06:57:31.080Z"
      },
      {
        "duration": 108,
        "start_time": "2023-05-13T06:57:31.238Z"
      },
      {
        "duration": 50,
        "start_time": "2023-05-13T06:57:37.894Z"
      },
      {
        "duration": 51,
        "start_time": "2023-05-13T06:57:38.703Z"
      },
      {
        "duration": 40,
        "start_time": "2023-05-13T06:57:39.802Z"
      },
      {
        "duration": 8,
        "start_time": "2023-05-13T06:57:42.934Z"
      },
      {
        "duration": 43,
        "start_time": "2023-05-13T06:57:44.855Z"
      },
      {
        "duration": 34,
        "start_time": "2023-05-13T06:57:52.092Z"
      },
      {
        "duration": 11,
        "start_time": "2023-05-13T06:58:10.795Z"
      },
      {
        "duration": 123,
        "start_time": "2023-05-13T06:58:11.855Z"
      },
      {
        "duration": 19,
        "start_time": "2023-05-13T06:58:13.027Z"
      },
      {
        "duration": 540,
        "start_time": "2023-05-13T06:58:14.159Z"
      },
      {
        "duration": 5,
        "start_time": "2023-05-13T07:17:48.451Z"
      },
      {
        "duration": 6,
        "start_time": "2023-05-13T07:17:51.090Z"
      },
      {
        "duration": 632,
        "start_time": "2023-05-13T07:17:51.810Z"
      },
      {
        "duration": 12,
        "start_time": "2023-05-13T07:17:52.443Z"
      },
      {
        "duration": 55,
        "start_time": "2023-05-13T07:17:53.521Z"
      },
      {
        "duration": 42,
        "start_time": "2023-05-13T07:17:54.206Z"
      },
      {
        "duration": 23,
        "start_time": "2023-05-13T07:17:54.735Z"
      },
      {
        "duration": 4,
        "start_time": "2023-05-13T07:17:56.040Z"
      },
      {
        "duration": 54,
        "start_time": "2023-05-13T07:17:56.980Z"
      },
      {
        "duration": 22,
        "start_time": "2023-05-13T07:17:57.408Z"
      },
      {
        "duration": 5,
        "start_time": "2023-05-13T07:18:00.158Z"
      },
      {
        "duration": 70,
        "start_time": "2023-05-13T07:18:01.496Z"
      },
      {
        "duration": 10,
        "start_time": "2023-05-13T07:18:03.116Z"
      },
      {
        "duration": 57,
        "start_time": "2023-05-13T07:18:04.022Z"
      },
      {
        "duration": 5,
        "start_time": "2023-05-13T07:18:10.952Z"
      },
      {
        "duration": 18,
        "start_time": "2023-05-13T07:18:16.972Z"
      },
      {
        "duration": 153,
        "start_time": "2023-05-13T07:23:59.960Z"
      },
      {
        "duration": 14,
        "start_time": "2023-05-13T07:24:13.512Z"
      },
      {
        "duration": 495,
        "start_time": "2023-05-13T07:24:23.976Z"
      },
      {
        "duration": 21,
        "start_time": "2023-05-13T07:24:24.473Z"
      },
      {
        "duration": 47,
        "start_time": "2023-05-13T07:24:25.479Z"
      },
      {
        "duration": 21,
        "start_time": "2023-05-13T07:24:25.845Z"
      },
      {
        "duration": 28,
        "start_time": "2023-05-13T07:24:26.047Z"
      },
      {
        "duration": 17,
        "start_time": "2023-05-13T07:24:26.417Z"
      },
      {
        "duration": 30,
        "start_time": "2023-05-13T07:24:26.808Z"
      },
      {
        "duration": 16,
        "start_time": "2023-05-13T07:24:26.948Z"
      },
      {
        "duration": 4,
        "start_time": "2023-05-13T07:24:28.142Z"
      },
      {
        "duration": 32,
        "start_time": "2023-05-13T07:24:28.448Z"
      },
      {
        "duration": 9,
        "start_time": "2023-05-13T07:24:28.845Z"
      },
      {
        "duration": 273,
        "start_time": "2023-05-13T07:24:28.968Z"
      },
      {
        "duration": 8,
        "start_time": "2023-05-13T07:24:31.330Z"
      },
      {
        "duration": 10,
        "start_time": "2023-05-13T07:24:33.412Z"
      },
      {
        "duration": 6,
        "start_time": "2023-05-13T07:24:35.670Z"
      },
      {
        "duration": 4,
        "start_time": "2023-05-13T07:24:35.903Z"
      },
      {
        "duration": 18,
        "start_time": "2023-05-13T07:24:37.751Z"
      },
      {
        "duration": 22,
        "start_time": "2023-05-13T07:26:05.728Z"
      },
      {
        "duration": 220,
        "start_time": "2023-05-13T07:27:03.359Z"
      },
      {
        "duration": 44,
        "start_time": "2023-05-13T07:28:16.482Z"
      },
      {
        "duration": 4535,
        "start_time": "2023-05-13T07:28:59.032Z"
      },
      {
        "duration": 77,
        "start_time": "2023-05-13T07:33:19.899Z"
      },
      {
        "duration": 4129,
        "start_time": "2023-05-13T07:34:30.451Z"
      },
      {
        "duration": 4171,
        "start_time": "2023-05-13T07:34:50.459Z"
      },
      {
        "duration": 3980,
        "start_time": "2023-05-13T07:35:51.543Z"
      },
      {
        "duration": 231,
        "start_time": "2023-05-13T07:40:05.851Z"
      },
      {
        "duration": 218,
        "start_time": "2023-05-13T07:40:46.773Z"
      },
      {
        "duration": 214,
        "start_time": "2023-05-13T07:41:35.408Z"
      },
      {
        "duration": 6187,
        "start_time": "2023-05-13T07:41:45.915Z"
      },
      {
        "duration": 4849,
        "start_time": "2023-05-13T07:42:38.457Z"
      },
      {
        "duration": 4164,
        "start_time": "2023-05-13T07:43:00.044Z"
      },
      {
        "duration": 5918,
        "start_time": "2023-05-13T07:44:47.440Z"
      },
      {
        "duration": 4,
        "start_time": "2023-05-13T07:47:57.555Z"
      },
      {
        "duration": 20,
        "start_time": "2023-05-13T07:48:00.064Z"
      },
      {
        "duration": 3,
        "start_time": "2023-05-13T07:48:36.286Z"
      },
      {
        "duration": 40,
        "start_time": "2023-05-13T07:48:39.482Z"
      },
      {
        "duration": 14,
        "start_time": "2023-05-13T07:49:47.408Z"
      },
      {
        "duration": 510,
        "start_time": "2023-05-13T07:49:47.425Z"
      },
      {
        "duration": 15,
        "start_time": "2023-05-13T07:49:47.944Z"
      },
      {
        "duration": 29,
        "start_time": "2023-05-13T07:49:47.961Z"
      },
      {
        "duration": 41,
        "start_time": "2023-05-13T07:49:48.009Z"
      },
      {
        "duration": 21,
        "start_time": "2023-05-13T07:49:48.052Z"
      },
      {
        "duration": 4,
        "start_time": "2023-05-13T07:49:48.074Z"
      },
      {
        "duration": 30,
        "start_time": "2023-05-13T07:49:48.081Z"
      },
      {
        "duration": 40,
        "start_time": "2023-05-13T07:49:48.113Z"
      },
      {
        "duration": 10,
        "start_time": "2023-05-13T07:49:48.155Z"
      },
      {
        "duration": 71,
        "start_time": "2023-05-13T07:49:48.167Z"
      },
      {
        "duration": 11,
        "start_time": "2023-05-13T07:49:48.249Z"
      },
      {
        "duration": 344,
        "start_time": "2023-05-13T07:49:48.263Z"
      },
      {
        "duration": 6,
        "start_time": "2023-05-13T07:49:48.654Z"
      },
      {
        "duration": 76,
        "start_time": "2023-05-13T07:49:48.684Z"
      },
      {
        "duration": 7,
        "start_time": "2023-05-13T07:49:48.763Z"
      },
      {
        "duration": 4,
        "start_time": "2023-05-13T07:49:48.772Z"
      },
      {
        "duration": 51,
        "start_time": "2023-05-13T07:49:48.779Z"
      },
      {
        "duration": 4567,
        "start_time": "2023-05-13T07:49:48.835Z"
      }
    ],
    "kernelspec": {
      "display_name": "Python 3 (ipykernel)",
      "language": "python",
      "name": "python3"
    },
    "language_info": {
      "codemirror_mode": {
        "name": "ipython",
        "version": 3
      },
      "file_extension": ".py",
      "mimetype": "text/x-python",
      "name": "python",
      "nbconvert_exporter": "python",
      "pygments_lexer": "ipython3",
      "version": "3.9.5"
    },
    "toc": {
      "base_numbering": 1,
      "nav_menu": {},
      "number_sections": true,
      "sideBar": true,
      "skip_h1_title": true,
      "title_cell": "Table of Contents",
      "title_sidebar": "Contents",
      "toc_cell": false,
      "toc_position": {},
      "toc_section_display": true,
      "toc_window_display": false
    },
    "colab": {
      "provenance": []
    }
  },
  "nbformat": 4,
  "nbformat_minor": 0
}