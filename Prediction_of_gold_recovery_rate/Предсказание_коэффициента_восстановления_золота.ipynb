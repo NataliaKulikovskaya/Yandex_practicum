{
  "cells": [
    {
      "cell_type": "markdown",
      "metadata": {
        "id": "SvXzGysivrly"
      },
      "source": [
        "# Восстановление золота из руды"
      ]
    },
    {
      "cell_type": "markdown",
      "metadata": {
        "id": "U-z43D3Ovrlz"
      },
      "source": [
        "Нужно подготовить прототип модели машинного обучения для компании «Цифры». Компания разрабатывает решения для эффективной работы промышленных предприятий.\n",
        "\n",
        "Модель должна предсказать коэффициент восстановления золота из золотосодержащей руды. Предоставлены данные с параметрами добычи и очистки. Модель поможет оптимизировать производство, чтобы не запускать предприятие с убыточными характеристиками.\n",
        "\n"
      ]
    },
    {
      "cell_type": "markdown",
      "metadata": {
        "id": "NB20FFjFvrl0"
      },
      "source": [
        "## Технологический процесс\n",
        "\n",
        "Когда добытая руда проходит первичную обработку, получается дроблёная смесь. Её отправляют на флотацию (обогащение) и двухэтапную очистку.\n",
        "\n",
        "Опишем каждую стадию:\n",
        "1. Флотация\n",
        "Во флотационную установку подаётся смесь золотосодержащей руды. После обогащения получается черновой концентрат и «отвальные хвосты», то есть остатки продукта с низкой концентрацией ценных металлов.\n",
        "На стабильность этого процесса влияет непостоянное и неоптимальное физико-химическое состояние флотационной пульпы (смеси твёрдых частиц и жидкости).\n",
        "2. Очистка\n",
        "Черновой концентрат проходит две очистки. На выходе получается финальный концентрат и новые отвальные хвосты."
      ]
    },
    {
      "cell_type": "markdown",
      "metadata": {
        "id": "iNa3OMU0vrl0"
      },
      "source": [
        "## Описание данных\n",
        "\n",
        "\n",
        "**Технологический процесс**\n",
        "\n",
        "* **Rougher feed** — исходное сырье\n",
        "* **Rougher additions** (или reagent additions) — флотационные реагенты: Xanthate, Sulphate, Depressant\n",
        "* **Xanthate** — ксантогенат (промотер, или активатор флотации);\n",
        "* **Sulphate** — сульфат (на данном производстве сульфид натрия);\n",
        "* **Depressant** — депрессант (силикат натрия).\n",
        "* **Rougher process** (англ. «грубый процесс») — флотация\n",
        "* **Rougher tails** — отвальные хвосты\n",
        "* **Float banks** — флотационная установка\n",
        "* **Cleaner process** — очистка\n",
        "* **Rougher Au** — черновой концентрат золота\n",
        "* **Final Au** — финальный концентрат золота\n",
        "\n",
        "**Параметры этапов**\n",
        "\n",
        "\n",
        "* **air amount** — объём воздуха\n",
        "* **fluid levels** — уровень жидкости\n",
        "* **feed size** — размер гранул сырья\n",
        "* **feed rate** — скорость подачи\n",
        "\n",
        "\n",
        "**Наименование признаков**\n",
        "\n",
        "\n",
        "[этап].[тип_параметра].[название_параметра]  (Пример: rougher.input.feed_ag)\n",
        "\n",
        "\n",
        "\n",
        "\n",
        "**Возможные значения для блока** [этап]:\n",
        "* **rougher** — флотация\n",
        "* **primary_cleaner** — первичная очистка\n",
        "* **secondary_cleaner** — вторичная очистка\n",
        "* **final** — финальные характеристики\n",
        "\n",
        "\n",
        "**Возможные значения для блока** [тип_параметра]:\n",
        "* **input** — параметры сырья\n",
        "* **output** — параметры продукта\n",
        "* **state** — параметры, характеризующие текущее состояние этапа\n",
        "* **calculation** — расчётные характеристики"
      ]
    },
    {
      "cell_type": "markdown",
      "metadata": {
        "id": "BBgxY_-Mvrl1"
      },
      "source": [
        "## Подготовка данных"
      ]
    },
    {
      "cell_type": "code",
      "execution_count": 1,
      "metadata": {
        "id": "Ryr4EUcDvrl2"
      },
      "outputs": [],
      "source": [
        "# Импортируем библиотеки\n",
        "\n",
        "import numpy as np\n",
        "import pandas as pd\n",
        "import seaborn as sns\n",
        "import matplotlib.pyplot as plt\n",
        "import gdown\n",
        "\n",
        "from google.colab import drive\n",
        "from sklearn.metrics import make_scorer, mean_absolute_error\n",
        "from sklearn.model_selection import  cross_val_score\n",
        "from sklearn.linear_model import LinearRegression\n",
        "from sklearn.tree import DecisionTreeRegressor\n",
        "from sklearn.dummy import DummyRegressor\n",
        "\n",
        "import warnings\n",
        "warnings.simplefilter('ignore')"
      ]
    },
    {
      "cell_type": "code",
      "source": [
        "drive.mount('/content/drive')"
      ],
      "metadata": {
        "colab": {
          "base_uri": "https://localhost:8080/"
        },
        "id": "ySwSdYCfrfmL",
        "outputId": "3e2c50a7-40c6-4292-be15-b75b4be4e6a5"
      },
      "execution_count": 2,
      "outputs": [
        {
          "output_type": "stream",
          "name": "stdout",
          "text": [
            "Drive already mounted at /content/drive; to attempt to forcibly remount, call drive.mount(\"/content/drive\", force_remount=True).\n"
          ]
        }
      ]
    },
    {
      "cell_type": "code",
      "source": [
        "# Читаем данные из CSV-файлов\n",
        "\n",
        "df_full = pd.read_csv('/content/drive/MyDrive/Projects/Prediction_of_gold_recovery_rate/datasets/gold_industry_full.csv')\n",
        "df_test = pd.read_csv('/content/drive/MyDrive/Projects/Prediction_of_gold_recovery_rate/datasets/gold_industry_test.csv')\n",
        "df_train = pd.read_csv('/content/drive/MyDrive/Projects/Prediction_of_gold_recovery_rate/datasets/gold_industry_train.csv')"
      ],
      "metadata": {
        "id": "EHnjJ-Sgodw3"
      },
      "execution_count": 3,
      "outputs": []
    },
    {
      "cell_type": "code",
      "execution_count": 4,
      "metadata": {
        "id": "8Dp7E1V0vrl4"
      },
      "outputs": [],
      "source": [
        "# Функция для вывода информации об изучаемых данных\n",
        "\n",
        "def data_info(data):\n",
        "\n",
        "    display(data.head(10))\n",
        "    display(data.describe())\n",
        "    print(data.isna().mean())\n",
        "    print('Количество дубликатов:', sum(data.duplicated()))"
      ]
    },
    {
      "cell_type": "code",
      "execution_count": 5,
      "metadata": {
        "id": "PSXTgil_vrl4",
        "outputId": "9d38457a-030e-4c40-9501-aeeabfd69ea2",
        "colab": {
          "base_uri": "https://localhost:8080/",
          "height": 1000
        }
      },
      "outputs": [
        {
          "output_type": "display_data",
          "data": {
            "text/plain": [
              "                  date  rougher.input.feed_au  rougher.input.feed_ag  \\\n",
              "0  2016-01-15 00:00:00               6.486150               6.100378   \n",
              "1  2016-01-15 01:00:00               6.478583               6.161113   \n",
              "2  2016-01-15 02:00:00               6.362222               6.116455   \n",
              "3  2016-01-15 03:00:00               6.118189               6.043309   \n",
              "4  2016-01-15 04:00:00               5.663707               6.060915   \n",
              "5  2016-01-15 05:00:00               5.687168               5.801920   \n",
              "6  2016-01-15 06:00:00               6.038436               6.056253   \n",
              "7  2016-01-15 07:00:00               6.433854               5.955053   \n",
              "8  2016-01-15 08:00:00               6.526612               5.878084   \n",
              "9  2016-01-15 09:00:00               6.747693               5.974832   \n",
              "\n",
              "   rougher.input.feed_pb  rougher.input.feed_sol  rougher.input.feed_rate  \\\n",
              "0               2.284912               36.808594               523.546326   \n",
              "1               2.266033               35.753385               525.290581   \n",
              "2               2.159622               35.971630               530.026610   \n",
              "3               2.037807               36.862241               542.590390   \n",
              "4               1.786875               34.347666               540.531893   \n",
              "5               1.879351               35.470082               546.173470   \n",
              "6               2.105501               34.920570               523.376439   \n",
              "7               2.310432               36.091386               549.842749   \n",
              "8               2.391713               35.753879               560.115242   \n",
              "9               2.539114               38.553938               566.616045   \n",
              "\n",
              "   rougher.input.feed_size  rougher.input.floatbank10_sulfate  \\\n",
              "0                55.486599                          11.986616   \n",
              "1                57.278666                          11.971193   \n",
              "2                57.510649                          11.920603   \n",
              "3                57.792734                          11.630094   \n",
              "4                56.047189                          10.957755   \n",
              "5                57.469578                          11.072517   \n",
              "6                56.674647                          11.535899   \n",
              "7                56.730325                          12.557906   \n",
              "8                56.649893                          13.166128   \n",
              "9                60.308763                          13.996130   \n",
              "\n",
              "   rougher.input.floatbank10_xanthate  rougher.state.floatbank10_a_air  ...  \\\n",
              "0                            6.007990                       999.706909  ...   \n",
              "1                            6.005766                      1000.286398  ...   \n",
              "2                            6.197377                       999.719565  ...   \n",
              "3                            6.203177                       999.814770  ...   \n",
              "4                            6.198826                       999.678690  ...   \n",
              "5                            6.200383                       999.934134  ...   \n",
              "6                            6.204974                       999.832373  ...   \n",
              "7                            6.799275                      1000.166602  ...   \n",
              "8                            6.798659                      1000.026864  ...   \n",
              "9                            6.800263                      1000.332327  ...   \n",
              "\n",
              "   secondary_cleaner.output.tail_sol  final.output.concentrate_au  \\\n",
              "0                           8.764648                    42.192020   \n",
              "1                           9.001494                    42.701629   \n",
              "2                           8.842896                    42.657501   \n",
              "3                           9.122857                    42.689819   \n",
              "4                           8.871028                    42.774141   \n",
              "5                           9.302669                    41.633678   \n",
              "6                           9.103047                    41.995316   \n",
              "7                           9.369209                    42.452727   \n",
              "8                           9.437044                    43.404078   \n",
              "9                           9.582874                    43.487291   \n",
              "\n",
              "   final.output.concentrate_ag  final.output.concentrate_pb  \\\n",
              "0                     6.055403                     9.889648   \n",
              "1                     6.029369                     9.968944   \n",
              "2                     6.055926                    10.213995   \n",
              "3                     6.047977                     9.977019   \n",
              "4                     6.148599                    10.142511   \n",
              "5                     6.482968                    10.049416   \n",
              "6                     6.533849                    10.058141   \n",
              "7                     6.130823                     9.935481   \n",
              "8                     5.834140                    10.071156   \n",
              "9                     5.706261                    10.242511   \n",
              "\n",
              "   final.output.concentrate_sol  final.output.recovery  final.output.tail_au  \\\n",
              "0                      5.507324              70.541216              2.143149   \n",
              "1                      5.257781              69.266198              2.224930   \n",
              "2                      5.383759              68.116445              2.257889   \n",
              "3                      4.858634              68.347543              2.146849   \n",
              "4                      4.939416              66.927016              2.055292   \n",
              "5                      5.480257              69.465816              1.918586   \n",
              "6                      4.569100              69.300835              2.058913   \n",
              "7                      4.389813              70.230976              2.143437   \n",
              "8                      4.876389              69.688595              2.209881   \n",
              "9                      5.214161              70.973641              2.200997   \n",
              "\n",
              "   final.output.tail_ag  final.output.tail_pb  final.output.tail_sol  \n",
              "0             10.411962              0.895447              16.904297  \n",
              "1             10.462676              0.927452              16.634514  \n",
              "2             10.507046              0.953716              16.208849  \n",
              "3             10.422762              0.883763              16.532835  \n",
              "4             10.360302              0.792826              16.525686  \n",
              "5             10.182708              0.664118              16.999638  \n",
              "6             10.304598              0.807342              16.723575  \n",
              "7             10.443288              0.949346              16.689959  \n",
              "8             10.420140              1.065453              17.201948  \n",
              "9             10.473539              1.171183              17.717049  \n",
              "\n",
              "[10 rows x 87 columns]"
            ],
            "text/html": [
              "\n",
              "  <div id=\"df-ddef878e-3680-4773-ad7a-cad4eaeb5707\" class=\"colab-df-container\">\n",
              "    <div>\n",
              "<style scoped>\n",
              "    .dataframe tbody tr th:only-of-type {\n",
              "        vertical-align: middle;\n",
              "    }\n",
              "\n",
              "    .dataframe tbody tr th {\n",
              "        vertical-align: top;\n",
              "    }\n",
              "\n",
              "    .dataframe thead th {\n",
              "        text-align: right;\n",
              "    }\n",
              "</style>\n",
              "<table border=\"1\" class=\"dataframe\">\n",
              "  <thead>\n",
              "    <tr style=\"text-align: right;\">\n",
              "      <th></th>\n",
              "      <th>date</th>\n",
              "      <th>rougher.input.feed_au</th>\n",
              "      <th>rougher.input.feed_ag</th>\n",
              "      <th>rougher.input.feed_pb</th>\n",
              "      <th>rougher.input.feed_sol</th>\n",
              "      <th>rougher.input.feed_rate</th>\n",
              "      <th>rougher.input.feed_size</th>\n",
              "      <th>rougher.input.floatbank10_sulfate</th>\n",
              "      <th>rougher.input.floatbank10_xanthate</th>\n",
              "      <th>rougher.state.floatbank10_a_air</th>\n",
              "      <th>...</th>\n",
              "      <th>secondary_cleaner.output.tail_sol</th>\n",
              "      <th>final.output.concentrate_au</th>\n",
              "      <th>final.output.concentrate_ag</th>\n",
              "      <th>final.output.concentrate_pb</th>\n",
              "      <th>final.output.concentrate_sol</th>\n",
              "      <th>final.output.recovery</th>\n",
              "      <th>final.output.tail_au</th>\n",
              "      <th>final.output.tail_ag</th>\n",
              "      <th>final.output.tail_pb</th>\n",
              "      <th>final.output.tail_sol</th>\n",
              "    </tr>\n",
              "  </thead>\n",
              "  <tbody>\n",
              "    <tr>\n",
              "      <th>0</th>\n",
              "      <td>2016-01-15 00:00:00</td>\n",
              "      <td>6.486150</td>\n",
              "      <td>6.100378</td>\n",
              "      <td>2.284912</td>\n",
              "      <td>36.808594</td>\n",
              "      <td>523.546326</td>\n",
              "      <td>55.486599</td>\n",
              "      <td>11.986616</td>\n",
              "      <td>6.007990</td>\n",
              "      <td>999.706909</td>\n",
              "      <td>...</td>\n",
              "      <td>8.764648</td>\n",
              "      <td>42.192020</td>\n",
              "      <td>6.055403</td>\n",
              "      <td>9.889648</td>\n",
              "      <td>5.507324</td>\n",
              "      <td>70.541216</td>\n",
              "      <td>2.143149</td>\n",
              "      <td>10.411962</td>\n",
              "      <td>0.895447</td>\n",
              "      <td>16.904297</td>\n",
              "    </tr>\n",
              "    <tr>\n",
              "      <th>1</th>\n",
              "      <td>2016-01-15 01:00:00</td>\n",
              "      <td>6.478583</td>\n",
              "      <td>6.161113</td>\n",
              "      <td>2.266033</td>\n",
              "      <td>35.753385</td>\n",
              "      <td>525.290581</td>\n",
              "      <td>57.278666</td>\n",
              "      <td>11.971193</td>\n",
              "      <td>6.005766</td>\n",
              "      <td>1000.286398</td>\n",
              "      <td>...</td>\n",
              "      <td>9.001494</td>\n",
              "      <td>42.701629</td>\n",
              "      <td>6.029369</td>\n",
              "      <td>9.968944</td>\n",
              "      <td>5.257781</td>\n",
              "      <td>69.266198</td>\n",
              "      <td>2.224930</td>\n",
              "      <td>10.462676</td>\n",
              "      <td>0.927452</td>\n",
              "      <td>16.634514</td>\n",
              "    </tr>\n",
              "    <tr>\n",
              "      <th>2</th>\n",
              "      <td>2016-01-15 02:00:00</td>\n",
              "      <td>6.362222</td>\n",
              "      <td>6.116455</td>\n",
              "      <td>2.159622</td>\n",
              "      <td>35.971630</td>\n",
              "      <td>530.026610</td>\n",
              "      <td>57.510649</td>\n",
              "      <td>11.920603</td>\n",
              "      <td>6.197377</td>\n",
              "      <td>999.719565</td>\n",
              "      <td>...</td>\n",
              "      <td>8.842896</td>\n",
              "      <td>42.657501</td>\n",
              "      <td>6.055926</td>\n",
              "      <td>10.213995</td>\n",
              "      <td>5.383759</td>\n",
              "      <td>68.116445</td>\n",
              "      <td>2.257889</td>\n",
              "      <td>10.507046</td>\n",
              "      <td>0.953716</td>\n",
              "      <td>16.208849</td>\n",
              "    </tr>\n",
              "    <tr>\n",
              "      <th>3</th>\n",
              "      <td>2016-01-15 03:00:00</td>\n",
              "      <td>6.118189</td>\n",
              "      <td>6.043309</td>\n",
              "      <td>2.037807</td>\n",
              "      <td>36.862241</td>\n",
              "      <td>542.590390</td>\n",
              "      <td>57.792734</td>\n",
              "      <td>11.630094</td>\n",
              "      <td>6.203177</td>\n",
              "      <td>999.814770</td>\n",
              "      <td>...</td>\n",
              "      <td>9.122857</td>\n",
              "      <td>42.689819</td>\n",
              "      <td>6.047977</td>\n",
              "      <td>9.977019</td>\n",
              "      <td>4.858634</td>\n",
              "      <td>68.347543</td>\n",
              "      <td>2.146849</td>\n",
              "      <td>10.422762</td>\n",
              "      <td>0.883763</td>\n",
              "      <td>16.532835</td>\n",
              "    </tr>\n",
              "    <tr>\n",
              "      <th>4</th>\n",
              "      <td>2016-01-15 04:00:00</td>\n",
              "      <td>5.663707</td>\n",
              "      <td>6.060915</td>\n",
              "      <td>1.786875</td>\n",
              "      <td>34.347666</td>\n",
              "      <td>540.531893</td>\n",
              "      <td>56.047189</td>\n",
              "      <td>10.957755</td>\n",
              "      <td>6.198826</td>\n",
              "      <td>999.678690</td>\n",
              "      <td>...</td>\n",
              "      <td>8.871028</td>\n",
              "      <td>42.774141</td>\n",
              "      <td>6.148599</td>\n",
              "      <td>10.142511</td>\n",
              "      <td>4.939416</td>\n",
              "      <td>66.927016</td>\n",
              "      <td>2.055292</td>\n",
              "      <td>10.360302</td>\n",
              "      <td>0.792826</td>\n",
              "      <td>16.525686</td>\n",
              "    </tr>\n",
              "    <tr>\n",
              "      <th>5</th>\n",
              "      <td>2016-01-15 05:00:00</td>\n",
              "      <td>5.687168</td>\n",
              "      <td>5.801920</td>\n",
              "      <td>1.879351</td>\n",
              "      <td>35.470082</td>\n",
              "      <td>546.173470</td>\n",
              "      <td>57.469578</td>\n",
              "      <td>11.072517</td>\n",
              "      <td>6.200383</td>\n",
              "      <td>999.934134</td>\n",
              "      <td>...</td>\n",
              "      <td>9.302669</td>\n",
              "      <td>41.633678</td>\n",
              "      <td>6.482968</td>\n",
              "      <td>10.049416</td>\n",
              "      <td>5.480257</td>\n",
              "      <td>69.465816</td>\n",
              "      <td>1.918586</td>\n",
              "      <td>10.182708</td>\n",
              "      <td>0.664118</td>\n",
              "      <td>16.999638</td>\n",
              "    </tr>\n",
              "    <tr>\n",
              "      <th>6</th>\n",
              "      <td>2016-01-15 06:00:00</td>\n",
              "      <td>6.038436</td>\n",
              "      <td>6.056253</td>\n",
              "      <td>2.105501</td>\n",
              "      <td>34.920570</td>\n",
              "      <td>523.376439</td>\n",
              "      <td>56.674647</td>\n",
              "      <td>11.535899</td>\n",
              "      <td>6.204974</td>\n",
              "      <td>999.832373</td>\n",
              "      <td>...</td>\n",
              "      <td>9.103047</td>\n",
              "      <td>41.995316</td>\n",
              "      <td>6.533849</td>\n",
              "      <td>10.058141</td>\n",
              "      <td>4.569100</td>\n",
              "      <td>69.300835</td>\n",
              "      <td>2.058913</td>\n",
              "      <td>10.304598</td>\n",
              "      <td>0.807342</td>\n",
              "      <td>16.723575</td>\n",
              "    </tr>\n",
              "    <tr>\n",
              "      <th>7</th>\n",
              "      <td>2016-01-15 07:00:00</td>\n",
              "      <td>6.433854</td>\n",
              "      <td>5.955053</td>\n",
              "      <td>2.310432</td>\n",
              "      <td>36.091386</td>\n",
              "      <td>549.842749</td>\n",
              "      <td>56.730325</td>\n",
              "      <td>12.557906</td>\n",
              "      <td>6.799275</td>\n",
              "      <td>1000.166602</td>\n",
              "      <td>...</td>\n",
              "      <td>9.369209</td>\n",
              "      <td>42.452727</td>\n",
              "      <td>6.130823</td>\n",
              "      <td>9.935481</td>\n",
              "      <td>4.389813</td>\n",
              "      <td>70.230976</td>\n",
              "      <td>2.143437</td>\n",
              "      <td>10.443288</td>\n",
              "      <td>0.949346</td>\n",
              "      <td>16.689959</td>\n",
              "    </tr>\n",
              "    <tr>\n",
              "      <th>8</th>\n",
              "      <td>2016-01-15 08:00:00</td>\n",
              "      <td>6.526612</td>\n",
              "      <td>5.878084</td>\n",
              "      <td>2.391713</td>\n",
              "      <td>35.753879</td>\n",
              "      <td>560.115242</td>\n",
              "      <td>56.649893</td>\n",
              "      <td>13.166128</td>\n",
              "      <td>6.798659</td>\n",
              "      <td>1000.026864</td>\n",
              "      <td>...</td>\n",
              "      <td>9.437044</td>\n",
              "      <td>43.404078</td>\n",
              "      <td>5.834140</td>\n",
              "      <td>10.071156</td>\n",
              "      <td>4.876389</td>\n",
              "      <td>69.688595</td>\n",
              "      <td>2.209881</td>\n",
              "      <td>10.420140</td>\n",
              "      <td>1.065453</td>\n",
              "      <td>17.201948</td>\n",
              "    </tr>\n",
              "    <tr>\n",
              "      <th>9</th>\n",
              "      <td>2016-01-15 09:00:00</td>\n",
              "      <td>6.747693</td>\n",
              "      <td>5.974832</td>\n",
              "      <td>2.539114</td>\n",
              "      <td>38.553938</td>\n",
              "      <td>566.616045</td>\n",
              "      <td>60.308763</td>\n",
              "      <td>13.996130</td>\n",
              "      <td>6.800263</td>\n",
              "      <td>1000.332327</td>\n",
              "      <td>...</td>\n",
              "      <td>9.582874</td>\n",
              "      <td>43.487291</td>\n",
              "      <td>5.706261</td>\n",
              "      <td>10.242511</td>\n",
              "      <td>5.214161</td>\n",
              "      <td>70.973641</td>\n",
              "      <td>2.200997</td>\n",
              "      <td>10.473539</td>\n",
              "      <td>1.171183</td>\n",
              "      <td>17.717049</td>\n",
              "    </tr>\n",
              "  </tbody>\n",
              "</table>\n",
              "<p>10 rows × 87 columns</p>\n",
              "</div>\n",
              "    <div class=\"colab-df-buttons\">\n",
              "\n",
              "  <div class=\"colab-df-container\">\n",
              "    <button class=\"colab-df-convert\" onclick=\"convertToInteractive('df-ddef878e-3680-4773-ad7a-cad4eaeb5707')\"\n",
              "            title=\"Convert this dataframe to an interactive table.\"\n",
              "            style=\"display:none;\">\n",
              "\n",
              "  <svg xmlns=\"http://www.w3.org/2000/svg\" height=\"24px\" viewBox=\"0 -960 960 960\">\n",
              "    <path d=\"M120-120v-720h720v720H120Zm60-500h600v-160H180v160Zm220 220h160v-160H400v160Zm0 220h160v-160H400v160ZM180-400h160v-160H180v160Zm440 0h160v-160H620v160ZM180-180h160v-160H180v160Zm440 0h160v-160H620v160Z\"/>\n",
              "  </svg>\n",
              "    </button>\n",
              "\n",
              "  <style>\n",
              "    .colab-df-container {\n",
              "      display:flex;\n",
              "      gap: 12px;\n",
              "    }\n",
              "\n",
              "    .colab-df-convert {\n",
              "      background-color: #E8F0FE;\n",
              "      border: none;\n",
              "      border-radius: 50%;\n",
              "      cursor: pointer;\n",
              "      display: none;\n",
              "      fill: #1967D2;\n",
              "      height: 32px;\n",
              "      padding: 0 0 0 0;\n",
              "      width: 32px;\n",
              "    }\n",
              "\n",
              "    .colab-df-convert:hover {\n",
              "      background-color: #E2EBFA;\n",
              "      box-shadow: 0px 1px 2px rgba(60, 64, 67, 0.3), 0px 1px 3px 1px rgba(60, 64, 67, 0.15);\n",
              "      fill: #174EA6;\n",
              "    }\n",
              "\n",
              "    .colab-df-buttons div {\n",
              "      margin-bottom: 4px;\n",
              "    }\n",
              "\n",
              "    [theme=dark] .colab-df-convert {\n",
              "      background-color: #3B4455;\n",
              "      fill: #D2E3FC;\n",
              "    }\n",
              "\n",
              "    [theme=dark] .colab-df-convert:hover {\n",
              "      background-color: #434B5C;\n",
              "      box-shadow: 0px 1px 3px 1px rgba(0, 0, 0, 0.15);\n",
              "      filter: drop-shadow(0px 1px 2px rgba(0, 0, 0, 0.3));\n",
              "      fill: #FFFFFF;\n",
              "    }\n",
              "  </style>\n",
              "\n",
              "    <script>\n",
              "      const buttonEl =\n",
              "        document.querySelector('#df-ddef878e-3680-4773-ad7a-cad4eaeb5707 button.colab-df-convert');\n",
              "      buttonEl.style.display =\n",
              "        google.colab.kernel.accessAllowed ? 'block' : 'none';\n",
              "\n",
              "      async function convertToInteractive(key) {\n",
              "        const element = document.querySelector('#df-ddef878e-3680-4773-ad7a-cad4eaeb5707');\n",
              "        const dataTable =\n",
              "          await google.colab.kernel.invokeFunction('convertToInteractive',\n",
              "                                                    [key], {});\n",
              "        if (!dataTable) return;\n",
              "\n",
              "        const docLinkHtml = 'Like what you see? Visit the ' +\n",
              "          '<a target=\"_blank\" href=https://colab.research.google.com/notebooks/data_table.ipynb>data table notebook</a>'\n",
              "          + ' to learn more about interactive tables.';\n",
              "        element.innerHTML = '';\n",
              "        dataTable['output_type'] = 'display_data';\n",
              "        await google.colab.output.renderOutput(dataTable, element);\n",
              "        const docLink = document.createElement('div');\n",
              "        docLink.innerHTML = docLinkHtml;\n",
              "        element.appendChild(docLink);\n",
              "      }\n",
              "    </script>\n",
              "  </div>\n",
              "\n",
              "\n",
              "<div id=\"df-7b87216e-56a1-4bd8-a6f3-c6c11c17b36e\">\n",
              "  <button class=\"colab-df-quickchart\" onclick=\"quickchart('df-7b87216e-56a1-4bd8-a6f3-c6c11c17b36e')\"\n",
              "            title=\"Suggest charts\"\n",
              "            style=\"display:none;\">\n",
              "\n",
              "<svg xmlns=\"http://www.w3.org/2000/svg\" height=\"24px\"viewBox=\"0 0 24 24\"\n",
              "     width=\"24px\">\n",
              "    <g>\n",
              "        <path d=\"M19 3H5c-1.1 0-2 .9-2 2v14c0 1.1.9 2 2 2h14c1.1 0 2-.9 2-2V5c0-1.1-.9-2-2-2zM9 17H7v-7h2v7zm4 0h-2V7h2v10zm4 0h-2v-4h2v4z\"/>\n",
              "    </g>\n",
              "</svg>\n",
              "  </button>\n",
              "\n",
              "<style>\n",
              "  .colab-df-quickchart {\n",
              "      --bg-color: #E8F0FE;\n",
              "      --fill-color: #1967D2;\n",
              "      --hover-bg-color: #E2EBFA;\n",
              "      --hover-fill-color: #174EA6;\n",
              "      --disabled-fill-color: #AAA;\n",
              "      --disabled-bg-color: #DDD;\n",
              "  }\n",
              "\n",
              "  [theme=dark] .colab-df-quickchart {\n",
              "      --bg-color: #3B4455;\n",
              "      --fill-color: #D2E3FC;\n",
              "      --hover-bg-color: #434B5C;\n",
              "      --hover-fill-color: #FFFFFF;\n",
              "      --disabled-bg-color: #3B4455;\n",
              "      --disabled-fill-color: #666;\n",
              "  }\n",
              "\n",
              "  .colab-df-quickchart {\n",
              "    background-color: var(--bg-color);\n",
              "    border: none;\n",
              "    border-radius: 50%;\n",
              "    cursor: pointer;\n",
              "    display: none;\n",
              "    fill: var(--fill-color);\n",
              "    height: 32px;\n",
              "    padding: 0;\n",
              "    width: 32px;\n",
              "  }\n",
              "\n",
              "  .colab-df-quickchart:hover {\n",
              "    background-color: var(--hover-bg-color);\n",
              "    box-shadow: 0 1px 2px rgba(60, 64, 67, 0.3), 0 1px 3px 1px rgba(60, 64, 67, 0.15);\n",
              "    fill: var(--button-hover-fill-color);\n",
              "  }\n",
              "\n",
              "  .colab-df-quickchart-complete:disabled,\n",
              "  .colab-df-quickchart-complete:disabled:hover {\n",
              "    background-color: var(--disabled-bg-color);\n",
              "    fill: var(--disabled-fill-color);\n",
              "    box-shadow: none;\n",
              "  }\n",
              "\n",
              "  .colab-df-spinner {\n",
              "    border: 2px solid var(--fill-color);\n",
              "    border-color: transparent;\n",
              "    border-bottom-color: var(--fill-color);\n",
              "    animation:\n",
              "      spin 1s steps(1) infinite;\n",
              "  }\n",
              "\n",
              "  @keyframes spin {\n",
              "    0% {\n",
              "      border-color: transparent;\n",
              "      border-bottom-color: var(--fill-color);\n",
              "      border-left-color: var(--fill-color);\n",
              "    }\n",
              "    20% {\n",
              "      border-color: transparent;\n",
              "      border-left-color: var(--fill-color);\n",
              "      border-top-color: var(--fill-color);\n",
              "    }\n",
              "    30% {\n",
              "      border-color: transparent;\n",
              "      border-left-color: var(--fill-color);\n",
              "      border-top-color: var(--fill-color);\n",
              "      border-right-color: var(--fill-color);\n",
              "    }\n",
              "    40% {\n",
              "      border-color: transparent;\n",
              "      border-right-color: var(--fill-color);\n",
              "      border-top-color: var(--fill-color);\n",
              "    }\n",
              "    60% {\n",
              "      border-color: transparent;\n",
              "      border-right-color: var(--fill-color);\n",
              "    }\n",
              "    80% {\n",
              "      border-color: transparent;\n",
              "      border-right-color: var(--fill-color);\n",
              "      border-bottom-color: var(--fill-color);\n",
              "    }\n",
              "    90% {\n",
              "      border-color: transparent;\n",
              "      border-bottom-color: var(--fill-color);\n",
              "    }\n",
              "  }\n",
              "</style>\n",
              "\n",
              "  <script>\n",
              "    async function quickchart(key) {\n",
              "      const quickchartButtonEl =\n",
              "        document.querySelector('#' + key + ' button');\n",
              "      quickchartButtonEl.disabled = true;  // To prevent multiple clicks.\n",
              "      quickchartButtonEl.classList.add('colab-df-spinner');\n",
              "      try {\n",
              "        const charts = await google.colab.kernel.invokeFunction(\n",
              "            'suggestCharts', [key], {});\n",
              "      } catch (error) {\n",
              "        console.error('Error during call to suggestCharts:', error);\n",
              "      }\n",
              "      quickchartButtonEl.classList.remove('colab-df-spinner');\n",
              "      quickchartButtonEl.classList.add('colab-df-quickchart-complete');\n",
              "    }\n",
              "    (() => {\n",
              "      let quickchartButtonEl =\n",
              "        document.querySelector('#df-7b87216e-56a1-4bd8-a6f3-c6c11c17b36e button');\n",
              "      quickchartButtonEl.style.display =\n",
              "        google.colab.kernel.accessAllowed ? 'block' : 'none';\n",
              "    })();\n",
              "  </script>\n",
              "</div>\n",
              "    </div>\n",
              "  </div>\n"
            ],
            "application/vnd.google.colaboratory.intrinsic+json": {
              "type": "dataframe"
            }
          },
          "metadata": {}
        },
        {
          "output_type": "display_data",
          "data": {
            "text/plain": [
              "       rougher.input.feed_au  rougher.input.feed_ag  rougher.input.feed_pb  \\\n",
              "count           19439.000000           19439.000000           19339.000000   \n",
              "mean                8.266097               8.794927               3.598085   \n",
              "std                 1.955092               1.936847               1.049486   \n",
              "min                 0.010000               0.010000               0.010000   \n",
              "25%                 6.854384               7.237967               2.887280   \n",
              "50%                 8.125839               8.593574               3.534895   \n",
              "75%                 9.769917              10.213771               4.244161   \n",
              "max                13.731330              14.596026               7.142594   \n",
              "\n",
              "       rougher.input.feed_sol  rougher.input.feed_rate  \\\n",
              "count            19340.000000             19428.000000   \n",
              "mean                36.695114               478.320042   \n",
              "std                  5.145445               105.373758   \n",
              "min                  0.010000                 0.002986   \n",
              "25%                 34.207799               416.525453   \n",
              "50%                 37.202650               499.416120   \n",
              "75%                 40.039133               550.172183   \n",
              "max                 53.477742               717.508837   \n",
              "\n",
              "       rougher.input.feed_size  rougher.input.floatbank10_sulfate  \\\n",
              "count             19294.000000                       19405.000000   \n",
              "mean                 58.970310                          12.334373   \n",
              "std                  21.634478                           3.427317   \n",
              "min                   0.046369                           0.001083   \n",
              "25%                  47.435103                          10.000362   \n",
              "50%                  54.610197                          12.001174   \n",
              "75%                  65.023044                          14.716595   \n",
              "max                 484.967466                          36.118275   \n",
              "\n",
              "       rougher.input.floatbank10_xanthate  rougher.state.floatbank10_a_air  \\\n",
              "count                        19431.000000                     19438.000000   \n",
              "mean                             6.021474                      1105.315068   \n",
              "std                              1.127263                       160.826798   \n",
              "min                              0.000568                        -0.042069   \n",
              "25%                              5.398678                       999.661867   \n",
              "50%                              6.008273                      1001.072890   \n",
              "75%                              6.798051                      1205.620588   \n",
              "max                              9.703448                      1521.980372   \n",
              "\n",
              "       rougher.state.floatbank10_a_level  ...  \\\n",
              "count                       19438.000000  ...   \n",
              "mean                         -376.610690  ...   \n",
              "std                            93.909667  ...   \n",
              "min                          -657.949759  ...   \n",
              "25%                          -499.835165  ...   \n",
              "50%                          -300.263994  ...   \n",
              "75%                          -299.981998  ...   \n",
              "max                          -273.776101  ...   \n",
              "\n",
              "       secondary_cleaner.output.tail_sol  final.output.concentrate_au  \\\n",
              "count                       17691.000000                 19439.000000   \n",
              "mean                            7.167247                    44.076513   \n",
              "std                             3.916079                     5.129784   \n",
              "min                             0.000000                     0.000000   \n",
              "25%                             3.845475                    43.402215   \n",
              "50%                             7.685827                    45.011244   \n",
              "75%                            10.411296                    46.275313   \n",
              "max                            26.000772                    52.756638   \n",
              "\n",
              "       final.output.concentrate_ag  final.output.concentrate_pb  \\\n",
              "count                 19438.000000                 19438.000000   \n",
              "mean                      5.168470                     9.978895   \n",
              "std                       1.372348                     1.669240   \n",
              "min                       0.000000                     0.000000   \n",
              "25%                       4.251240                     9.137262   \n",
              "50%                       5.066094                    10.102433   \n",
              "75%                       5.895527                    11.035769   \n",
              "max                      16.001945                    17.031899   \n",
              "\n",
              "       final.output.concentrate_sol  final.output.recovery  \\\n",
              "count                  19228.000000           19439.000000   \n",
              "mean                       9.501224              67.050208   \n",
              "std                        2.787537              10.125840   \n",
              "min                        0.000000               0.000000   \n",
              "25%                        7.722820              63.299712   \n",
              "50%                        9.218961              68.172738   \n",
              "75%                       10.947813              72.686642   \n",
              "max                       19.615720             100.000000   \n",
              "\n",
              "       final.output.tail_au  final.output.tail_ag  final.output.tail_pb  \\\n",
              "count          19439.000000          19438.000000          19338.000000   \n",
              "mean               3.042467              9.688589              2.705795   \n",
              "std                0.922808              2.328642              0.949077   \n",
              "min                0.000000              0.000000              0.000000   \n",
              "25%                2.461138              8.062878              2.040119   \n",
              "50%                2.984909              9.743623              2.748730   \n",
              "75%                3.571351             11.134294              3.333216   \n",
              "max                8.245022             19.552149              5.804178   \n",
              "\n",
              "       final.output.tail_sol  \n",
              "count           19433.000000  \n",
              "mean               10.583728  \n",
              "std                 2.868782  \n",
              "min                 0.000000  \n",
              "25%                 8.938947  \n",
              "50%                10.622456  \n",
              "75%                12.104271  \n",
              "max                22.317730  \n",
              "\n",
              "[8 rows x 86 columns]"
            ],
            "text/html": [
              "\n",
              "  <div id=\"df-8a6350d1-e4a0-4e37-b40d-1ecbba112d75\" class=\"colab-df-container\">\n",
              "    <div>\n",
              "<style scoped>\n",
              "    .dataframe tbody tr th:only-of-type {\n",
              "        vertical-align: middle;\n",
              "    }\n",
              "\n",
              "    .dataframe tbody tr th {\n",
              "        vertical-align: top;\n",
              "    }\n",
              "\n",
              "    .dataframe thead th {\n",
              "        text-align: right;\n",
              "    }\n",
              "</style>\n",
              "<table border=\"1\" class=\"dataframe\">\n",
              "  <thead>\n",
              "    <tr style=\"text-align: right;\">\n",
              "      <th></th>\n",
              "      <th>rougher.input.feed_au</th>\n",
              "      <th>rougher.input.feed_ag</th>\n",
              "      <th>rougher.input.feed_pb</th>\n",
              "      <th>rougher.input.feed_sol</th>\n",
              "      <th>rougher.input.feed_rate</th>\n",
              "      <th>rougher.input.feed_size</th>\n",
              "      <th>rougher.input.floatbank10_sulfate</th>\n",
              "      <th>rougher.input.floatbank10_xanthate</th>\n",
              "      <th>rougher.state.floatbank10_a_air</th>\n",
              "      <th>rougher.state.floatbank10_a_level</th>\n",
              "      <th>...</th>\n",
              "      <th>secondary_cleaner.output.tail_sol</th>\n",
              "      <th>final.output.concentrate_au</th>\n",
              "      <th>final.output.concentrate_ag</th>\n",
              "      <th>final.output.concentrate_pb</th>\n",
              "      <th>final.output.concentrate_sol</th>\n",
              "      <th>final.output.recovery</th>\n",
              "      <th>final.output.tail_au</th>\n",
              "      <th>final.output.tail_ag</th>\n",
              "      <th>final.output.tail_pb</th>\n",
              "      <th>final.output.tail_sol</th>\n",
              "    </tr>\n",
              "  </thead>\n",
              "  <tbody>\n",
              "    <tr>\n",
              "      <th>count</th>\n",
              "      <td>19439.000000</td>\n",
              "      <td>19439.000000</td>\n",
              "      <td>19339.000000</td>\n",
              "      <td>19340.000000</td>\n",
              "      <td>19428.000000</td>\n",
              "      <td>19294.000000</td>\n",
              "      <td>19405.000000</td>\n",
              "      <td>19431.000000</td>\n",
              "      <td>19438.000000</td>\n",
              "      <td>19438.000000</td>\n",
              "      <td>...</td>\n",
              "      <td>17691.000000</td>\n",
              "      <td>19439.000000</td>\n",
              "      <td>19438.000000</td>\n",
              "      <td>19438.000000</td>\n",
              "      <td>19228.000000</td>\n",
              "      <td>19439.000000</td>\n",
              "      <td>19439.000000</td>\n",
              "      <td>19438.000000</td>\n",
              "      <td>19338.000000</td>\n",
              "      <td>19433.000000</td>\n",
              "    </tr>\n",
              "    <tr>\n",
              "      <th>mean</th>\n",
              "      <td>8.266097</td>\n",
              "      <td>8.794927</td>\n",
              "      <td>3.598085</td>\n",
              "      <td>36.695114</td>\n",
              "      <td>478.320042</td>\n",
              "      <td>58.970310</td>\n",
              "      <td>12.334373</td>\n",
              "      <td>6.021474</td>\n",
              "      <td>1105.315068</td>\n",
              "      <td>-376.610690</td>\n",
              "      <td>...</td>\n",
              "      <td>7.167247</td>\n",
              "      <td>44.076513</td>\n",
              "      <td>5.168470</td>\n",
              "      <td>9.978895</td>\n",
              "      <td>9.501224</td>\n",
              "      <td>67.050208</td>\n",
              "      <td>3.042467</td>\n",
              "      <td>9.688589</td>\n",
              "      <td>2.705795</td>\n",
              "      <td>10.583728</td>\n",
              "    </tr>\n",
              "    <tr>\n",
              "      <th>std</th>\n",
              "      <td>1.955092</td>\n",
              "      <td>1.936847</td>\n",
              "      <td>1.049486</td>\n",
              "      <td>5.145445</td>\n",
              "      <td>105.373758</td>\n",
              "      <td>21.634478</td>\n",
              "      <td>3.427317</td>\n",
              "      <td>1.127263</td>\n",
              "      <td>160.826798</td>\n",
              "      <td>93.909667</td>\n",
              "      <td>...</td>\n",
              "      <td>3.916079</td>\n",
              "      <td>5.129784</td>\n",
              "      <td>1.372348</td>\n",
              "      <td>1.669240</td>\n",
              "      <td>2.787537</td>\n",
              "      <td>10.125840</td>\n",
              "      <td>0.922808</td>\n",
              "      <td>2.328642</td>\n",
              "      <td>0.949077</td>\n",
              "      <td>2.868782</td>\n",
              "    </tr>\n",
              "    <tr>\n",
              "      <th>min</th>\n",
              "      <td>0.010000</td>\n",
              "      <td>0.010000</td>\n",
              "      <td>0.010000</td>\n",
              "      <td>0.010000</td>\n",
              "      <td>0.002986</td>\n",
              "      <td>0.046369</td>\n",
              "      <td>0.001083</td>\n",
              "      <td>0.000568</td>\n",
              "      <td>-0.042069</td>\n",
              "      <td>-657.949759</td>\n",
              "      <td>...</td>\n",
              "      <td>0.000000</td>\n",
              "      <td>0.000000</td>\n",
              "      <td>0.000000</td>\n",
              "      <td>0.000000</td>\n",
              "      <td>0.000000</td>\n",
              "      <td>0.000000</td>\n",
              "      <td>0.000000</td>\n",
              "      <td>0.000000</td>\n",
              "      <td>0.000000</td>\n",
              "      <td>0.000000</td>\n",
              "    </tr>\n",
              "    <tr>\n",
              "      <th>25%</th>\n",
              "      <td>6.854384</td>\n",
              "      <td>7.237967</td>\n",
              "      <td>2.887280</td>\n",
              "      <td>34.207799</td>\n",
              "      <td>416.525453</td>\n",
              "      <td>47.435103</td>\n",
              "      <td>10.000362</td>\n",
              "      <td>5.398678</td>\n",
              "      <td>999.661867</td>\n",
              "      <td>-499.835165</td>\n",
              "      <td>...</td>\n",
              "      <td>3.845475</td>\n",
              "      <td>43.402215</td>\n",
              "      <td>4.251240</td>\n",
              "      <td>9.137262</td>\n",
              "      <td>7.722820</td>\n",
              "      <td>63.299712</td>\n",
              "      <td>2.461138</td>\n",
              "      <td>8.062878</td>\n",
              "      <td>2.040119</td>\n",
              "      <td>8.938947</td>\n",
              "    </tr>\n",
              "    <tr>\n",
              "      <th>50%</th>\n",
              "      <td>8.125839</td>\n",
              "      <td>8.593574</td>\n",
              "      <td>3.534895</td>\n",
              "      <td>37.202650</td>\n",
              "      <td>499.416120</td>\n",
              "      <td>54.610197</td>\n",
              "      <td>12.001174</td>\n",
              "      <td>6.008273</td>\n",
              "      <td>1001.072890</td>\n",
              "      <td>-300.263994</td>\n",
              "      <td>...</td>\n",
              "      <td>7.685827</td>\n",
              "      <td>45.011244</td>\n",
              "      <td>5.066094</td>\n",
              "      <td>10.102433</td>\n",
              "      <td>9.218961</td>\n",
              "      <td>68.172738</td>\n",
              "      <td>2.984909</td>\n",
              "      <td>9.743623</td>\n",
              "      <td>2.748730</td>\n",
              "      <td>10.622456</td>\n",
              "    </tr>\n",
              "    <tr>\n",
              "      <th>75%</th>\n",
              "      <td>9.769917</td>\n",
              "      <td>10.213771</td>\n",
              "      <td>4.244161</td>\n",
              "      <td>40.039133</td>\n",
              "      <td>550.172183</td>\n",
              "      <td>65.023044</td>\n",
              "      <td>14.716595</td>\n",
              "      <td>6.798051</td>\n",
              "      <td>1205.620588</td>\n",
              "      <td>-299.981998</td>\n",
              "      <td>...</td>\n",
              "      <td>10.411296</td>\n",
              "      <td>46.275313</td>\n",
              "      <td>5.895527</td>\n",
              "      <td>11.035769</td>\n",
              "      <td>10.947813</td>\n",
              "      <td>72.686642</td>\n",
              "      <td>3.571351</td>\n",
              "      <td>11.134294</td>\n",
              "      <td>3.333216</td>\n",
              "      <td>12.104271</td>\n",
              "    </tr>\n",
              "    <tr>\n",
              "      <th>max</th>\n",
              "      <td>13.731330</td>\n",
              "      <td>14.596026</td>\n",
              "      <td>7.142594</td>\n",
              "      <td>53.477742</td>\n",
              "      <td>717.508837</td>\n",
              "      <td>484.967466</td>\n",
              "      <td>36.118275</td>\n",
              "      <td>9.703448</td>\n",
              "      <td>1521.980372</td>\n",
              "      <td>-273.776101</td>\n",
              "      <td>...</td>\n",
              "      <td>26.000772</td>\n",
              "      <td>52.756638</td>\n",
              "      <td>16.001945</td>\n",
              "      <td>17.031899</td>\n",
              "      <td>19.615720</td>\n",
              "      <td>100.000000</td>\n",
              "      <td>8.245022</td>\n",
              "      <td>19.552149</td>\n",
              "      <td>5.804178</td>\n",
              "      <td>22.317730</td>\n",
              "    </tr>\n",
              "  </tbody>\n",
              "</table>\n",
              "<p>8 rows × 86 columns</p>\n",
              "</div>\n",
              "    <div class=\"colab-df-buttons\">\n",
              "\n",
              "  <div class=\"colab-df-container\">\n",
              "    <button class=\"colab-df-convert\" onclick=\"convertToInteractive('df-8a6350d1-e4a0-4e37-b40d-1ecbba112d75')\"\n",
              "            title=\"Convert this dataframe to an interactive table.\"\n",
              "            style=\"display:none;\">\n",
              "\n",
              "  <svg xmlns=\"http://www.w3.org/2000/svg\" height=\"24px\" viewBox=\"0 -960 960 960\">\n",
              "    <path d=\"M120-120v-720h720v720H120Zm60-500h600v-160H180v160Zm220 220h160v-160H400v160Zm0 220h160v-160H400v160ZM180-400h160v-160H180v160Zm440 0h160v-160H620v160ZM180-180h160v-160H180v160Zm440 0h160v-160H620v160Z\"/>\n",
              "  </svg>\n",
              "    </button>\n",
              "\n",
              "  <style>\n",
              "    .colab-df-container {\n",
              "      display:flex;\n",
              "      gap: 12px;\n",
              "    }\n",
              "\n",
              "    .colab-df-convert {\n",
              "      background-color: #E8F0FE;\n",
              "      border: none;\n",
              "      border-radius: 50%;\n",
              "      cursor: pointer;\n",
              "      display: none;\n",
              "      fill: #1967D2;\n",
              "      height: 32px;\n",
              "      padding: 0 0 0 0;\n",
              "      width: 32px;\n",
              "    }\n",
              "\n",
              "    .colab-df-convert:hover {\n",
              "      background-color: #E2EBFA;\n",
              "      box-shadow: 0px 1px 2px rgba(60, 64, 67, 0.3), 0px 1px 3px 1px rgba(60, 64, 67, 0.15);\n",
              "      fill: #174EA6;\n",
              "    }\n",
              "\n",
              "    .colab-df-buttons div {\n",
              "      margin-bottom: 4px;\n",
              "    }\n",
              "\n",
              "    [theme=dark] .colab-df-convert {\n",
              "      background-color: #3B4455;\n",
              "      fill: #D2E3FC;\n",
              "    }\n",
              "\n",
              "    [theme=dark] .colab-df-convert:hover {\n",
              "      background-color: #434B5C;\n",
              "      box-shadow: 0px 1px 3px 1px rgba(0, 0, 0, 0.15);\n",
              "      filter: drop-shadow(0px 1px 2px rgba(0, 0, 0, 0.3));\n",
              "      fill: #FFFFFF;\n",
              "    }\n",
              "  </style>\n",
              "\n",
              "    <script>\n",
              "      const buttonEl =\n",
              "        document.querySelector('#df-8a6350d1-e4a0-4e37-b40d-1ecbba112d75 button.colab-df-convert');\n",
              "      buttonEl.style.display =\n",
              "        google.colab.kernel.accessAllowed ? 'block' : 'none';\n",
              "\n",
              "      async function convertToInteractive(key) {\n",
              "        const element = document.querySelector('#df-8a6350d1-e4a0-4e37-b40d-1ecbba112d75');\n",
              "        const dataTable =\n",
              "          await google.colab.kernel.invokeFunction('convertToInteractive',\n",
              "                                                    [key], {});\n",
              "        if (!dataTable) return;\n",
              "\n",
              "        const docLinkHtml = 'Like what you see? Visit the ' +\n",
              "          '<a target=\"_blank\" href=https://colab.research.google.com/notebooks/data_table.ipynb>data table notebook</a>'\n",
              "          + ' to learn more about interactive tables.';\n",
              "        element.innerHTML = '';\n",
              "        dataTable['output_type'] = 'display_data';\n",
              "        await google.colab.output.renderOutput(dataTable, element);\n",
              "        const docLink = document.createElement('div');\n",
              "        docLink.innerHTML = docLinkHtml;\n",
              "        element.appendChild(docLink);\n",
              "      }\n",
              "    </script>\n",
              "  </div>\n",
              "\n",
              "\n",
              "<div id=\"df-3d27ef2e-7e83-4241-a817-736e1f0390fd\">\n",
              "  <button class=\"colab-df-quickchart\" onclick=\"quickchart('df-3d27ef2e-7e83-4241-a817-736e1f0390fd')\"\n",
              "            title=\"Suggest charts\"\n",
              "            style=\"display:none;\">\n",
              "\n",
              "<svg xmlns=\"http://www.w3.org/2000/svg\" height=\"24px\"viewBox=\"0 0 24 24\"\n",
              "     width=\"24px\">\n",
              "    <g>\n",
              "        <path d=\"M19 3H5c-1.1 0-2 .9-2 2v14c0 1.1.9 2 2 2h14c1.1 0 2-.9 2-2V5c0-1.1-.9-2-2-2zM9 17H7v-7h2v7zm4 0h-2V7h2v10zm4 0h-2v-4h2v4z\"/>\n",
              "    </g>\n",
              "</svg>\n",
              "  </button>\n",
              "\n",
              "<style>\n",
              "  .colab-df-quickchart {\n",
              "      --bg-color: #E8F0FE;\n",
              "      --fill-color: #1967D2;\n",
              "      --hover-bg-color: #E2EBFA;\n",
              "      --hover-fill-color: #174EA6;\n",
              "      --disabled-fill-color: #AAA;\n",
              "      --disabled-bg-color: #DDD;\n",
              "  }\n",
              "\n",
              "  [theme=dark] .colab-df-quickchart {\n",
              "      --bg-color: #3B4455;\n",
              "      --fill-color: #D2E3FC;\n",
              "      --hover-bg-color: #434B5C;\n",
              "      --hover-fill-color: #FFFFFF;\n",
              "      --disabled-bg-color: #3B4455;\n",
              "      --disabled-fill-color: #666;\n",
              "  }\n",
              "\n",
              "  .colab-df-quickchart {\n",
              "    background-color: var(--bg-color);\n",
              "    border: none;\n",
              "    border-radius: 50%;\n",
              "    cursor: pointer;\n",
              "    display: none;\n",
              "    fill: var(--fill-color);\n",
              "    height: 32px;\n",
              "    padding: 0;\n",
              "    width: 32px;\n",
              "  }\n",
              "\n",
              "  .colab-df-quickchart:hover {\n",
              "    background-color: var(--hover-bg-color);\n",
              "    box-shadow: 0 1px 2px rgba(60, 64, 67, 0.3), 0 1px 3px 1px rgba(60, 64, 67, 0.15);\n",
              "    fill: var(--button-hover-fill-color);\n",
              "  }\n",
              "\n",
              "  .colab-df-quickchart-complete:disabled,\n",
              "  .colab-df-quickchart-complete:disabled:hover {\n",
              "    background-color: var(--disabled-bg-color);\n",
              "    fill: var(--disabled-fill-color);\n",
              "    box-shadow: none;\n",
              "  }\n",
              "\n",
              "  .colab-df-spinner {\n",
              "    border: 2px solid var(--fill-color);\n",
              "    border-color: transparent;\n",
              "    border-bottom-color: var(--fill-color);\n",
              "    animation:\n",
              "      spin 1s steps(1) infinite;\n",
              "  }\n",
              "\n",
              "  @keyframes spin {\n",
              "    0% {\n",
              "      border-color: transparent;\n",
              "      border-bottom-color: var(--fill-color);\n",
              "      border-left-color: var(--fill-color);\n",
              "    }\n",
              "    20% {\n",
              "      border-color: transparent;\n",
              "      border-left-color: var(--fill-color);\n",
              "      border-top-color: var(--fill-color);\n",
              "    }\n",
              "    30% {\n",
              "      border-color: transparent;\n",
              "      border-left-color: var(--fill-color);\n",
              "      border-top-color: var(--fill-color);\n",
              "      border-right-color: var(--fill-color);\n",
              "    }\n",
              "    40% {\n",
              "      border-color: transparent;\n",
              "      border-right-color: var(--fill-color);\n",
              "      border-top-color: var(--fill-color);\n",
              "    }\n",
              "    60% {\n",
              "      border-color: transparent;\n",
              "      border-right-color: var(--fill-color);\n",
              "    }\n",
              "    80% {\n",
              "      border-color: transparent;\n",
              "      border-right-color: var(--fill-color);\n",
              "      border-bottom-color: var(--fill-color);\n",
              "    }\n",
              "    90% {\n",
              "      border-color: transparent;\n",
              "      border-bottom-color: var(--fill-color);\n",
              "    }\n",
              "  }\n",
              "</style>\n",
              "\n",
              "  <script>\n",
              "    async function quickchart(key) {\n",
              "      const quickchartButtonEl =\n",
              "        document.querySelector('#' + key + ' button');\n",
              "      quickchartButtonEl.disabled = true;  // To prevent multiple clicks.\n",
              "      quickchartButtonEl.classList.add('colab-df-spinner');\n",
              "      try {\n",
              "        const charts = await google.colab.kernel.invokeFunction(\n",
              "            'suggestCharts', [key], {});\n",
              "      } catch (error) {\n",
              "        console.error('Error during call to suggestCharts:', error);\n",
              "      }\n",
              "      quickchartButtonEl.classList.remove('colab-df-spinner');\n",
              "      quickchartButtonEl.classList.add('colab-df-quickchart-complete');\n",
              "    }\n",
              "    (() => {\n",
              "      let quickchartButtonEl =\n",
              "        document.querySelector('#df-3d27ef2e-7e83-4241-a817-736e1f0390fd button');\n",
              "      quickchartButtonEl.style.display =\n",
              "        google.colab.kernel.accessAllowed ? 'block' : 'none';\n",
              "    })();\n",
              "  </script>\n",
              "</div>\n",
              "    </div>\n",
              "  </div>\n"
            ],
            "application/vnd.google.colaboratory.intrinsic+json": {
              "type": "dataframe"
            }
          },
          "metadata": {}
        },
        {
          "output_type": "stream",
          "name": "stdout",
          "text": [
            "date                      0.000000\n",
            "rougher.input.feed_au     0.000000\n",
            "rougher.input.feed_ag     0.000000\n",
            "rougher.input.feed_pb     0.005144\n",
            "rougher.input.feed_sol    0.005093\n",
            "                            ...   \n",
            "final.output.recovery     0.000000\n",
            "final.output.tail_au      0.000000\n",
            "final.output.tail_ag      0.000051\n",
            "final.output.tail_pb      0.005196\n",
            "final.output.tail_sol     0.000309\n",
            "Length: 87, dtype: float64\n",
            "Количество дубликатов: 0\n"
          ]
        }
      ],
      "source": [
        "data_info(df_full)"
      ]
    },
    {
      "cell_type": "code",
      "execution_count": 6,
      "metadata": {
        "id": "5DJ9faEevrl5",
        "outputId": "735eee3b-7d79-4efd-cd2c-862d7c0a26b5",
        "colab": {
          "base_uri": "https://localhost:8080/",
          "height": 1000
        }
      },
      "outputs": [
        {
          "output_type": "display_data",
          "data": {
            "text/plain": [
              "                  date  rougher.input.feed_au  rougher.input.feed_ag  \\\n",
              "0  2016-01-15 00:00:00               6.486150               6.100378   \n",
              "1  2016-01-15 01:00:00               6.478583               6.161113   \n",
              "2  2016-01-15 02:00:00               6.362222               6.116455   \n",
              "3  2016-01-15 03:00:00               6.118189               6.043309   \n",
              "4  2016-01-15 04:00:00               5.663707               6.060915   \n",
              "5  2016-01-15 05:00:00               5.687168               5.801920   \n",
              "6  2016-01-15 06:00:00               6.038436               6.056253   \n",
              "7  2016-01-15 07:00:00               6.433854               5.955053   \n",
              "8  2016-01-15 08:00:00               6.526612               5.878084   \n",
              "9  2016-01-15 09:00:00               6.747693               5.974832   \n",
              "\n",
              "   rougher.input.feed_pb  rougher.input.feed_sol  rougher.input.feed_rate  \\\n",
              "0               2.284912               36.808594               523.546326   \n",
              "1               2.266033               35.753385               525.290581   \n",
              "2               2.159622               35.971630               530.026610   \n",
              "3               2.037807               36.862241               542.590390   \n",
              "4               1.786875               34.347666               540.531893   \n",
              "5               1.879351               35.470082               546.173470   \n",
              "6               2.105501               34.920570               523.376439   \n",
              "7               2.310432               36.091386               549.842749   \n",
              "8               2.391713               35.753879               560.115242   \n",
              "9               2.539114               38.553938               566.616045   \n",
              "\n",
              "   rougher.input.feed_size  rougher.input.floatbank10_sulfate  \\\n",
              "0                55.486599                          11.986616   \n",
              "1                57.278666                          11.971193   \n",
              "2                57.510649                          11.920603   \n",
              "3                57.792734                          11.630094   \n",
              "4                56.047189                          10.957755   \n",
              "5                57.469578                          11.072517   \n",
              "6                56.674647                          11.535899   \n",
              "7                56.730325                          12.557906   \n",
              "8                56.649893                          13.166128   \n",
              "9                60.308763                          13.996130   \n",
              "\n",
              "   rougher.input.floatbank10_xanthate  rougher.state.floatbank10_a_air  ...  \\\n",
              "0                            6.007990                       999.706909  ...   \n",
              "1                            6.005766                      1000.286398  ...   \n",
              "2                            6.197377                       999.719565  ...   \n",
              "3                            6.203177                       999.814770  ...   \n",
              "4                            6.198826                       999.678690  ...   \n",
              "5                            6.200383                       999.934134  ...   \n",
              "6                            6.204974                       999.832373  ...   \n",
              "7                            6.799275                      1000.166602  ...   \n",
              "8                            6.798659                      1000.026864  ...   \n",
              "9                            6.800263                      1000.332327  ...   \n",
              "\n",
              "   secondary_cleaner.output.tail_sol  final.output.concentrate_au  \\\n",
              "0                           8.764648                    42.192020   \n",
              "1                           9.001494                    42.701629   \n",
              "2                           8.842896                    42.657501   \n",
              "3                           9.122857                    42.689819   \n",
              "4                           8.871028                    42.774141   \n",
              "5                           9.302669                    41.633678   \n",
              "6                           9.103047                    41.995316   \n",
              "7                           9.369209                    42.452727   \n",
              "8                           9.437044                    43.404078   \n",
              "9                           9.582874                    43.487291   \n",
              "\n",
              "   final.output.concentrate_ag  final.output.concentrate_pb  \\\n",
              "0                     6.055403                     9.889648   \n",
              "1                     6.029369                     9.968944   \n",
              "2                     6.055926                    10.213995   \n",
              "3                     6.047977                     9.977019   \n",
              "4                     6.148599                    10.142511   \n",
              "5                     6.482968                    10.049416   \n",
              "6                     6.533849                    10.058141   \n",
              "7                     6.130823                     9.935481   \n",
              "8                     5.834140                    10.071156   \n",
              "9                     5.706261                    10.242511   \n",
              "\n",
              "   final.output.concentrate_sol  final.output.recovery  final.output.tail_au  \\\n",
              "0                      5.507324              70.541216              2.143149   \n",
              "1                      5.257781              69.266198              2.224930   \n",
              "2                      5.383759              68.116445              2.257889   \n",
              "3                      4.858634              68.347543              2.146849   \n",
              "4                      4.939416              66.927016              2.055292   \n",
              "5                      5.480257              69.465816              1.918586   \n",
              "6                      4.569100              69.300835              2.058913   \n",
              "7                      4.389813              70.230976              2.143437   \n",
              "8                      4.876389              69.688595              2.209881   \n",
              "9                      5.214161              70.973641              2.200997   \n",
              "\n",
              "   final.output.tail_ag  final.output.tail_pb  final.output.tail_sol  \n",
              "0             10.411962              0.895447              16.904297  \n",
              "1             10.462676              0.927452              16.634514  \n",
              "2             10.507046              0.953716              16.208849  \n",
              "3             10.422762              0.883763              16.532835  \n",
              "4             10.360302              0.792826              16.525686  \n",
              "5             10.182708              0.664118              16.999638  \n",
              "6             10.304598              0.807342              16.723575  \n",
              "7             10.443288              0.949346              16.689959  \n",
              "8             10.420140              1.065453              17.201948  \n",
              "9             10.473539              1.171183              17.717049  \n",
              "\n",
              "[10 rows x 87 columns]"
            ],
            "text/html": [
              "\n",
              "  <div id=\"df-52221398-403c-4613-96b3-fd2ff154fdcc\" class=\"colab-df-container\">\n",
              "    <div>\n",
              "<style scoped>\n",
              "    .dataframe tbody tr th:only-of-type {\n",
              "        vertical-align: middle;\n",
              "    }\n",
              "\n",
              "    .dataframe tbody tr th {\n",
              "        vertical-align: top;\n",
              "    }\n",
              "\n",
              "    .dataframe thead th {\n",
              "        text-align: right;\n",
              "    }\n",
              "</style>\n",
              "<table border=\"1\" class=\"dataframe\">\n",
              "  <thead>\n",
              "    <tr style=\"text-align: right;\">\n",
              "      <th></th>\n",
              "      <th>date</th>\n",
              "      <th>rougher.input.feed_au</th>\n",
              "      <th>rougher.input.feed_ag</th>\n",
              "      <th>rougher.input.feed_pb</th>\n",
              "      <th>rougher.input.feed_sol</th>\n",
              "      <th>rougher.input.feed_rate</th>\n",
              "      <th>rougher.input.feed_size</th>\n",
              "      <th>rougher.input.floatbank10_sulfate</th>\n",
              "      <th>rougher.input.floatbank10_xanthate</th>\n",
              "      <th>rougher.state.floatbank10_a_air</th>\n",
              "      <th>...</th>\n",
              "      <th>secondary_cleaner.output.tail_sol</th>\n",
              "      <th>final.output.concentrate_au</th>\n",
              "      <th>final.output.concentrate_ag</th>\n",
              "      <th>final.output.concentrate_pb</th>\n",
              "      <th>final.output.concentrate_sol</th>\n",
              "      <th>final.output.recovery</th>\n",
              "      <th>final.output.tail_au</th>\n",
              "      <th>final.output.tail_ag</th>\n",
              "      <th>final.output.tail_pb</th>\n",
              "      <th>final.output.tail_sol</th>\n",
              "    </tr>\n",
              "  </thead>\n",
              "  <tbody>\n",
              "    <tr>\n",
              "      <th>0</th>\n",
              "      <td>2016-01-15 00:00:00</td>\n",
              "      <td>6.486150</td>\n",
              "      <td>6.100378</td>\n",
              "      <td>2.284912</td>\n",
              "      <td>36.808594</td>\n",
              "      <td>523.546326</td>\n",
              "      <td>55.486599</td>\n",
              "      <td>11.986616</td>\n",
              "      <td>6.007990</td>\n",
              "      <td>999.706909</td>\n",
              "      <td>...</td>\n",
              "      <td>8.764648</td>\n",
              "      <td>42.192020</td>\n",
              "      <td>6.055403</td>\n",
              "      <td>9.889648</td>\n",
              "      <td>5.507324</td>\n",
              "      <td>70.541216</td>\n",
              "      <td>2.143149</td>\n",
              "      <td>10.411962</td>\n",
              "      <td>0.895447</td>\n",
              "      <td>16.904297</td>\n",
              "    </tr>\n",
              "    <tr>\n",
              "      <th>1</th>\n",
              "      <td>2016-01-15 01:00:00</td>\n",
              "      <td>6.478583</td>\n",
              "      <td>6.161113</td>\n",
              "      <td>2.266033</td>\n",
              "      <td>35.753385</td>\n",
              "      <td>525.290581</td>\n",
              "      <td>57.278666</td>\n",
              "      <td>11.971193</td>\n",
              "      <td>6.005766</td>\n",
              "      <td>1000.286398</td>\n",
              "      <td>...</td>\n",
              "      <td>9.001494</td>\n",
              "      <td>42.701629</td>\n",
              "      <td>6.029369</td>\n",
              "      <td>9.968944</td>\n",
              "      <td>5.257781</td>\n",
              "      <td>69.266198</td>\n",
              "      <td>2.224930</td>\n",
              "      <td>10.462676</td>\n",
              "      <td>0.927452</td>\n",
              "      <td>16.634514</td>\n",
              "    </tr>\n",
              "    <tr>\n",
              "      <th>2</th>\n",
              "      <td>2016-01-15 02:00:00</td>\n",
              "      <td>6.362222</td>\n",
              "      <td>6.116455</td>\n",
              "      <td>2.159622</td>\n",
              "      <td>35.971630</td>\n",
              "      <td>530.026610</td>\n",
              "      <td>57.510649</td>\n",
              "      <td>11.920603</td>\n",
              "      <td>6.197377</td>\n",
              "      <td>999.719565</td>\n",
              "      <td>...</td>\n",
              "      <td>8.842896</td>\n",
              "      <td>42.657501</td>\n",
              "      <td>6.055926</td>\n",
              "      <td>10.213995</td>\n",
              "      <td>5.383759</td>\n",
              "      <td>68.116445</td>\n",
              "      <td>2.257889</td>\n",
              "      <td>10.507046</td>\n",
              "      <td>0.953716</td>\n",
              "      <td>16.208849</td>\n",
              "    </tr>\n",
              "    <tr>\n",
              "      <th>3</th>\n",
              "      <td>2016-01-15 03:00:00</td>\n",
              "      <td>6.118189</td>\n",
              "      <td>6.043309</td>\n",
              "      <td>2.037807</td>\n",
              "      <td>36.862241</td>\n",
              "      <td>542.590390</td>\n",
              "      <td>57.792734</td>\n",
              "      <td>11.630094</td>\n",
              "      <td>6.203177</td>\n",
              "      <td>999.814770</td>\n",
              "      <td>...</td>\n",
              "      <td>9.122857</td>\n",
              "      <td>42.689819</td>\n",
              "      <td>6.047977</td>\n",
              "      <td>9.977019</td>\n",
              "      <td>4.858634</td>\n",
              "      <td>68.347543</td>\n",
              "      <td>2.146849</td>\n",
              "      <td>10.422762</td>\n",
              "      <td>0.883763</td>\n",
              "      <td>16.532835</td>\n",
              "    </tr>\n",
              "    <tr>\n",
              "      <th>4</th>\n",
              "      <td>2016-01-15 04:00:00</td>\n",
              "      <td>5.663707</td>\n",
              "      <td>6.060915</td>\n",
              "      <td>1.786875</td>\n",
              "      <td>34.347666</td>\n",
              "      <td>540.531893</td>\n",
              "      <td>56.047189</td>\n",
              "      <td>10.957755</td>\n",
              "      <td>6.198826</td>\n",
              "      <td>999.678690</td>\n",
              "      <td>...</td>\n",
              "      <td>8.871028</td>\n",
              "      <td>42.774141</td>\n",
              "      <td>6.148599</td>\n",
              "      <td>10.142511</td>\n",
              "      <td>4.939416</td>\n",
              "      <td>66.927016</td>\n",
              "      <td>2.055292</td>\n",
              "      <td>10.360302</td>\n",
              "      <td>0.792826</td>\n",
              "      <td>16.525686</td>\n",
              "    </tr>\n",
              "    <tr>\n",
              "      <th>5</th>\n",
              "      <td>2016-01-15 05:00:00</td>\n",
              "      <td>5.687168</td>\n",
              "      <td>5.801920</td>\n",
              "      <td>1.879351</td>\n",
              "      <td>35.470082</td>\n",
              "      <td>546.173470</td>\n",
              "      <td>57.469578</td>\n",
              "      <td>11.072517</td>\n",
              "      <td>6.200383</td>\n",
              "      <td>999.934134</td>\n",
              "      <td>...</td>\n",
              "      <td>9.302669</td>\n",
              "      <td>41.633678</td>\n",
              "      <td>6.482968</td>\n",
              "      <td>10.049416</td>\n",
              "      <td>5.480257</td>\n",
              "      <td>69.465816</td>\n",
              "      <td>1.918586</td>\n",
              "      <td>10.182708</td>\n",
              "      <td>0.664118</td>\n",
              "      <td>16.999638</td>\n",
              "    </tr>\n",
              "    <tr>\n",
              "      <th>6</th>\n",
              "      <td>2016-01-15 06:00:00</td>\n",
              "      <td>6.038436</td>\n",
              "      <td>6.056253</td>\n",
              "      <td>2.105501</td>\n",
              "      <td>34.920570</td>\n",
              "      <td>523.376439</td>\n",
              "      <td>56.674647</td>\n",
              "      <td>11.535899</td>\n",
              "      <td>6.204974</td>\n",
              "      <td>999.832373</td>\n",
              "      <td>...</td>\n",
              "      <td>9.103047</td>\n",
              "      <td>41.995316</td>\n",
              "      <td>6.533849</td>\n",
              "      <td>10.058141</td>\n",
              "      <td>4.569100</td>\n",
              "      <td>69.300835</td>\n",
              "      <td>2.058913</td>\n",
              "      <td>10.304598</td>\n",
              "      <td>0.807342</td>\n",
              "      <td>16.723575</td>\n",
              "    </tr>\n",
              "    <tr>\n",
              "      <th>7</th>\n",
              "      <td>2016-01-15 07:00:00</td>\n",
              "      <td>6.433854</td>\n",
              "      <td>5.955053</td>\n",
              "      <td>2.310432</td>\n",
              "      <td>36.091386</td>\n",
              "      <td>549.842749</td>\n",
              "      <td>56.730325</td>\n",
              "      <td>12.557906</td>\n",
              "      <td>6.799275</td>\n",
              "      <td>1000.166602</td>\n",
              "      <td>...</td>\n",
              "      <td>9.369209</td>\n",
              "      <td>42.452727</td>\n",
              "      <td>6.130823</td>\n",
              "      <td>9.935481</td>\n",
              "      <td>4.389813</td>\n",
              "      <td>70.230976</td>\n",
              "      <td>2.143437</td>\n",
              "      <td>10.443288</td>\n",
              "      <td>0.949346</td>\n",
              "      <td>16.689959</td>\n",
              "    </tr>\n",
              "    <tr>\n",
              "      <th>8</th>\n",
              "      <td>2016-01-15 08:00:00</td>\n",
              "      <td>6.526612</td>\n",
              "      <td>5.878084</td>\n",
              "      <td>2.391713</td>\n",
              "      <td>35.753879</td>\n",
              "      <td>560.115242</td>\n",
              "      <td>56.649893</td>\n",
              "      <td>13.166128</td>\n",
              "      <td>6.798659</td>\n",
              "      <td>1000.026864</td>\n",
              "      <td>...</td>\n",
              "      <td>9.437044</td>\n",
              "      <td>43.404078</td>\n",
              "      <td>5.834140</td>\n",
              "      <td>10.071156</td>\n",
              "      <td>4.876389</td>\n",
              "      <td>69.688595</td>\n",
              "      <td>2.209881</td>\n",
              "      <td>10.420140</td>\n",
              "      <td>1.065453</td>\n",
              "      <td>17.201948</td>\n",
              "    </tr>\n",
              "    <tr>\n",
              "      <th>9</th>\n",
              "      <td>2016-01-15 09:00:00</td>\n",
              "      <td>6.747693</td>\n",
              "      <td>5.974832</td>\n",
              "      <td>2.539114</td>\n",
              "      <td>38.553938</td>\n",
              "      <td>566.616045</td>\n",
              "      <td>60.308763</td>\n",
              "      <td>13.996130</td>\n",
              "      <td>6.800263</td>\n",
              "      <td>1000.332327</td>\n",
              "      <td>...</td>\n",
              "      <td>9.582874</td>\n",
              "      <td>43.487291</td>\n",
              "      <td>5.706261</td>\n",
              "      <td>10.242511</td>\n",
              "      <td>5.214161</td>\n",
              "      <td>70.973641</td>\n",
              "      <td>2.200997</td>\n",
              "      <td>10.473539</td>\n",
              "      <td>1.171183</td>\n",
              "      <td>17.717049</td>\n",
              "    </tr>\n",
              "  </tbody>\n",
              "</table>\n",
              "<p>10 rows × 87 columns</p>\n",
              "</div>\n",
              "    <div class=\"colab-df-buttons\">\n",
              "\n",
              "  <div class=\"colab-df-container\">\n",
              "    <button class=\"colab-df-convert\" onclick=\"convertToInteractive('df-52221398-403c-4613-96b3-fd2ff154fdcc')\"\n",
              "            title=\"Convert this dataframe to an interactive table.\"\n",
              "            style=\"display:none;\">\n",
              "\n",
              "  <svg xmlns=\"http://www.w3.org/2000/svg\" height=\"24px\" viewBox=\"0 -960 960 960\">\n",
              "    <path d=\"M120-120v-720h720v720H120Zm60-500h600v-160H180v160Zm220 220h160v-160H400v160Zm0 220h160v-160H400v160ZM180-400h160v-160H180v160Zm440 0h160v-160H620v160ZM180-180h160v-160H180v160Zm440 0h160v-160H620v160Z\"/>\n",
              "  </svg>\n",
              "    </button>\n",
              "\n",
              "  <style>\n",
              "    .colab-df-container {\n",
              "      display:flex;\n",
              "      gap: 12px;\n",
              "    }\n",
              "\n",
              "    .colab-df-convert {\n",
              "      background-color: #E8F0FE;\n",
              "      border: none;\n",
              "      border-radius: 50%;\n",
              "      cursor: pointer;\n",
              "      display: none;\n",
              "      fill: #1967D2;\n",
              "      height: 32px;\n",
              "      padding: 0 0 0 0;\n",
              "      width: 32px;\n",
              "    }\n",
              "\n",
              "    .colab-df-convert:hover {\n",
              "      background-color: #E2EBFA;\n",
              "      box-shadow: 0px 1px 2px rgba(60, 64, 67, 0.3), 0px 1px 3px 1px rgba(60, 64, 67, 0.15);\n",
              "      fill: #174EA6;\n",
              "    }\n",
              "\n",
              "    .colab-df-buttons div {\n",
              "      margin-bottom: 4px;\n",
              "    }\n",
              "\n",
              "    [theme=dark] .colab-df-convert {\n",
              "      background-color: #3B4455;\n",
              "      fill: #D2E3FC;\n",
              "    }\n",
              "\n",
              "    [theme=dark] .colab-df-convert:hover {\n",
              "      background-color: #434B5C;\n",
              "      box-shadow: 0px 1px 3px 1px rgba(0, 0, 0, 0.15);\n",
              "      filter: drop-shadow(0px 1px 2px rgba(0, 0, 0, 0.3));\n",
              "      fill: #FFFFFF;\n",
              "    }\n",
              "  </style>\n",
              "\n",
              "    <script>\n",
              "      const buttonEl =\n",
              "        document.querySelector('#df-52221398-403c-4613-96b3-fd2ff154fdcc button.colab-df-convert');\n",
              "      buttonEl.style.display =\n",
              "        google.colab.kernel.accessAllowed ? 'block' : 'none';\n",
              "\n",
              "      async function convertToInteractive(key) {\n",
              "        const element = document.querySelector('#df-52221398-403c-4613-96b3-fd2ff154fdcc');\n",
              "        const dataTable =\n",
              "          await google.colab.kernel.invokeFunction('convertToInteractive',\n",
              "                                                    [key], {});\n",
              "        if (!dataTable) return;\n",
              "\n",
              "        const docLinkHtml = 'Like what you see? Visit the ' +\n",
              "          '<a target=\"_blank\" href=https://colab.research.google.com/notebooks/data_table.ipynb>data table notebook</a>'\n",
              "          + ' to learn more about interactive tables.';\n",
              "        element.innerHTML = '';\n",
              "        dataTable['output_type'] = 'display_data';\n",
              "        await google.colab.output.renderOutput(dataTable, element);\n",
              "        const docLink = document.createElement('div');\n",
              "        docLink.innerHTML = docLinkHtml;\n",
              "        element.appendChild(docLink);\n",
              "      }\n",
              "    </script>\n",
              "  </div>\n",
              "\n",
              "\n",
              "<div id=\"df-d4d3e53b-53a2-498a-afa4-971609771fc0\">\n",
              "  <button class=\"colab-df-quickchart\" onclick=\"quickchart('df-d4d3e53b-53a2-498a-afa4-971609771fc0')\"\n",
              "            title=\"Suggest charts\"\n",
              "            style=\"display:none;\">\n",
              "\n",
              "<svg xmlns=\"http://www.w3.org/2000/svg\" height=\"24px\"viewBox=\"0 0 24 24\"\n",
              "     width=\"24px\">\n",
              "    <g>\n",
              "        <path d=\"M19 3H5c-1.1 0-2 .9-2 2v14c0 1.1.9 2 2 2h14c1.1 0 2-.9 2-2V5c0-1.1-.9-2-2-2zM9 17H7v-7h2v7zm4 0h-2V7h2v10zm4 0h-2v-4h2v4z\"/>\n",
              "    </g>\n",
              "</svg>\n",
              "  </button>\n",
              "\n",
              "<style>\n",
              "  .colab-df-quickchart {\n",
              "      --bg-color: #E8F0FE;\n",
              "      --fill-color: #1967D2;\n",
              "      --hover-bg-color: #E2EBFA;\n",
              "      --hover-fill-color: #174EA6;\n",
              "      --disabled-fill-color: #AAA;\n",
              "      --disabled-bg-color: #DDD;\n",
              "  }\n",
              "\n",
              "  [theme=dark] .colab-df-quickchart {\n",
              "      --bg-color: #3B4455;\n",
              "      --fill-color: #D2E3FC;\n",
              "      --hover-bg-color: #434B5C;\n",
              "      --hover-fill-color: #FFFFFF;\n",
              "      --disabled-bg-color: #3B4455;\n",
              "      --disabled-fill-color: #666;\n",
              "  }\n",
              "\n",
              "  .colab-df-quickchart {\n",
              "    background-color: var(--bg-color);\n",
              "    border: none;\n",
              "    border-radius: 50%;\n",
              "    cursor: pointer;\n",
              "    display: none;\n",
              "    fill: var(--fill-color);\n",
              "    height: 32px;\n",
              "    padding: 0;\n",
              "    width: 32px;\n",
              "  }\n",
              "\n",
              "  .colab-df-quickchart:hover {\n",
              "    background-color: var(--hover-bg-color);\n",
              "    box-shadow: 0 1px 2px rgba(60, 64, 67, 0.3), 0 1px 3px 1px rgba(60, 64, 67, 0.15);\n",
              "    fill: var(--button-hover-fill-color);\n",
              "  }\n",
              "\n",
              "  .colab-df-quickchart-complete:disabled,\n",
              "  .colab-df-quickchart-complete:disabled:hover {\n",
              "    background-color: var(--disabled-bg-color);\n",
              "    fill: var(--disabled-fill-color);\n",
              "    box-shadow: none;\n",
              "  }\n",
              "\n",
              "  .colab-df-spinner {\n",
              "    border: 2px solid var(--fill-color);\n",
              "    border-color: transparent;\n",
              "    border-bottom-color: var(--fill-color);\n",
              "    animation:\n",
              "      spin 1s steps(1) infinite;\n",
              "  }\n",
              "\n",
              "  @keyframes spin {\n",
              "    0% {\n",
              "      border-color: transparent;\n",
              "      border-bottom-color: var(--fill-color);\n",
              "      border-left-color: var(--fill-color);\n",
              "    }\n",
              "    20% {\n",
              "      border-color: transparent;\n",
              "      border-left-color: var(--fill-color);\n",
              "      border-top-color: var(--fill-color);\n",
              "    }\n",
              "    30% {\n",
              "      border-color: transparent;\n",
              "      border-left-color: var(--fill-color);\n",
              "      border-top-color: var(--fill-color);\n",
              "      border-right-color: var(--fill-color);\n",
              "    }\n",
              "    40% {\n",
              "      border-color: transparent;\n",
              "      border-right-color: var(--fill-color);\n",
              "      border-top-color: var(--fill-color);\n",
              "    }\n",
              "    60% {\n",
              "      border-color: transparent;\n",
              "      border-right-color: var(--fill-color);\n",
              "    }\n",
              "    80% {\n",
              "      border-color: transparent;\n",
              "      border-right-color: var(--fill-color);\n",
              "      border-bottom-color: var(--fill-color);\n",
              "    }\n",
              "    90% {\n",
              "      border-color: transparent;\n",
              "      border-bottom-color: var(--fill-color);\n",
              "    }\n",
              "  }\n",
              "</style>\n",
              "\n",
              "  <script>\n",
              "    async function quickchart(key) {\n",
              "      const quickchartButtonEl =\n",
              "        document.querySelector('#' + key + ' button');\n",
              "      quickchartButtonEl.disabled = true;  // To prevent multiple clicks.\n",
              "      quickchartButtonEl.classList.add('colab-df-spinner');\n",
              "      try {\n",
              "        const charts = await google.colab.kernel.invokeFunction(\n",
              "            'suggestCharts', [key], {});\n",
              "      } catch (error) {\n",
              "        console.error('Error during call to suggestCharts:', error);\n",
              "      }\n",
              "      quickchartButtonEl.classList.remove('colab-df-spinner');\n",
              "      quickchartButtonEl.classList.add('colab-df-quickchart-complete');\n",
              "    }\n",
              "    (() => {\n",
              "      let quickchartButtonEl =\n",
              "        document.querySelector('#df-d4d3e53b-53a2-498a-afa4-971609771fc0 button');\n",
              "      quickchartButtonEl.style.display =\n",
              "        google.colab.kernel.accessAllowed ? 'block' : 'none';\n",
              "    })();\n",
              "  </script>\n",
              "</div>\n",
              "    </div>\n",
              "  </div>\n"
            ],
            "application/vnd.google.colaboratory.intrinsic+json": {
              "type": "dataframe"
            }
          },
          "metadata": {}
        },
        {
          "output_type": "display_data",
          "data": {
            "text/plain": [
              "       rougher.input.feed_au  rougher.input.feed_ag  rougher.input.feed_pb  \\\n",
              "count           14579.000000           14579.000000           14507.000000   \n",
              "mean                8.352941               8.877460               3.604221   \n",
              "std                 1.934376               1.922536               1.056063   \n",
              "min                 0.010000               0.010000               0.010000   \n",
              "25%                 6.932996               7.341922               2.880490   \n",
              "50%                 8.225284               8.715859               3.532399   \n",
              "75%                 9.832210              10.255843               4.257282   \n",
              "max                13.731330              14.596026               7.052325   \n",
              "\n",
              "       rougher.input.feed_sol  rougher.input.feed_rate  \\\n",
              "count            14502.000000             14572.000000   \n",
              "mean                36.561420               474.332784   \n",
              "std                  5.209823               108.503552   \n",
              "min                  0.010000                 0.002986   \n",
              "25%                 34.093951               411.048483   \n",
              "50%                 37.097511               498.187968   \n",
              "75%                 39.899799               549.586552   \n",
              "max                 53.475325               717.508837   \n",
              "\n",
              "       rougher.input.feed_size  rougher.input.floatbank10_sulfate  \\\n",
              "count             14478.000000                       14548.000000   \n",
              "mean                 58.922712                          12.427399   \n",
              "std                  22.407410                           3.428939   \n",
              "min                   0.049194                           0.001083   \n",
              "25%                  47.278490                          10.002832   \n",
              "50%                  54.361187                          12.003320   \n",
              "75%                  64.464926                          14.929903   \n",
              "max                 484.967466                          36.118275   \n",
              "\n",
              "       rougher.input.floatbank10_xanthate  rougher.state.floatbank10_a_air  \\\n",
              "count                        14572.000000                     14579.000000   \n",
              "mean                             5.994854                      1104.208278   \n",
              "std                              1.152873                       162.235606   \n",
              "min                              0.000568                        -0.042069   \n",
              "25%                              5.304167                       999.644856   \n",
              "50%                              6.003053                      1000.982624   \n",
              "75%                              6.796632                      1292.663971   \n",
              "max                              9.703448                      1512.299531   \n",
              "\n",
              "       rougher.state.floatbank10_a_level  ...  \\\n",
              "count                       14579.000000  ...   \n",
              "mean                         -379.367166  ...   \n",
              "std                            94.652311  ...   \n",
              "min                          -657.949759  ...   \n",
              "25%                          -499.861797  ...   \n",
              "50%                          -300.314199  ...   \n",
              "75%                          -299.989315  ...   \n",
              "max                          -273.776101  ...   \n",
              "\n",
              "       secondary_cleaner.output.tail_sol  final.output.concentrate_au  \\\n",
              "count                       13659.000000                 14579.000000   \n",
              "mean                            7.111347                    43.979499   \n",
              "std                             3.909951                     5.471437   \n",
              "min                             0.000000                     0.000000   \n",
              "25%                             3.784897                    43.345906   \n",
              "50%                             7.629968                    44.975014   \n",
              "75%                            10.367050                    46.275153   \n",
              "max                            26.000772                    52.756638   \n",
              "\n",
              "       final.output.concentrate_ag  final.output.concentrate_pb  \\\n",
              "count                 14578.000000                 14578.000000   \n",
              "mean                      5.192145                     9.923809   \n",
              "std                       1.388014                     1.706976   \n",
              "min                       0.000000                     0.000000   \n",
              "25%                       4.283347                     9.103183   \n",
              "50%                       5.118647                    10.046455   \n",
              "75%                       5.925380                    10.981203   \n",
              "max                      16.001945                    16.705297   \n",
              "\n",
              "       final.output.concentrate_sol  final.output.recovery  \\\n",
              "count                  14387.000000           14579.000000   \n",
              "mean                       9.566676              66.759066   \n",
              "std                        2.805654              10.619709   \n",
              "min                        0.000000               0.000000   \n",
              "25%                        7.860030              63.114596   \n",
              "50%                        9.301970              67.962788   \n",
              "75%                       11.001573              72.598187   \n",
              "max                       19.423912             100.000000   \n",
              "\n",
              "       final.output.tail_au  final.output.tail_ag  final.output.tail_pb  \\\n",
              "count          14579.000000          14578.000000          14504.000000   \n",
              "mean               3.087939              9.731972              2.719985   \n",
              "std                0.915187              2.358143              0.958929   \n",
              "min                0.000000              0.000000              0.000000   \n",
              "25%                2.505287              8.088928              2.036512   \n",
              "50%                3.029238              9.818512              2.774847   \n",
              "75%                3.614098             11.169187              3.353845   \n",
              "max                8.245022             19.552149              5.804178   \n",
              "\n",
              "       final.output.tail_sol  \n",
              "count           14574.000000  \n",
              "mean               10.612745  \n",
              "std                 2.871075  \n",
              "min                 0.000000  \n",
              "25%                 9.013412  \n",
              "50%                10.670515  \n",
              "75%                12.130827  \n",
              "max                22.317730  \n",
              "\n",
              "[8 rows x 86 columns]"
            ],
            "text/html": [
              "\n",
              "  <div id=\"df-f8ae4896-64fb-4489-90eb-501f45bcd90a\" class=\"colab-df-container\">\n",
              "    <div>\n",
              "<style scoped>\n",
              "    .dataframe tbody tr th:only-of-type {\n",
              "        vertical-align: middle;\n",
              "    }\n",
              "\n",
              "    .dataframe tbody tr th {\n",
              "        vertical-align: top;\n",
              "    }\n",
              "\n",
              "    .dataframe thead th {\n",
              "        text-align: right;\n",
              "    }\n",
              "</style>\n",
              "<table border=\"1\" class=\"dataframe\">\n",
              "  <thead>\n",
              "    <tr style=\"text-align: right;\">\n",
              "      <th></th>\n",
              "      <th>rougher.input.feed_au</th>\n",
              "      <th>rougher.input.feed_ag</th>\n",
              "      <th>rougher.input.feed_pb</th>\n",
              "      <th>rougher.input.feed_sol</th>\n",
              "      <th>rougher.input.feed_rate</th>\n",
              "      <th>rougher.input.feed_size</th>\n",
              "      <th>rougher.input.floatbank10_sulfate</th>\n",
              "      <th>rougher.input.floatbank10_xanthate</th>\n",
              "      <th>rougher.state.floatbank10_a_air</th>\n",
              "      <th>rougher.state.floatbank10_a_level</th>\n",
              "      <th>...</th>\n",
              "      <th>secondary_cleaner.output.tail_sol</th>\n",
              "      <th>final.output.concentrate_au</th>\n",
              "      <th>final.output.concentrate_ag</th>\n",
              "      <th>final.output.concentrate_pb</th>\n",
              "      <th>final.output.concentrate_sol</th>\n",
              "      <th>final.output.recovery</th>\n",
              "      <th>final.output.tail_au</th>\n",
              "      <th>final.output.tail_ag</th>\n",
              "      <th>final.output.tail_pb</th>\n",
              "      <th>final.output.tail_sol</th>\n",
              "    </tr>\n",
              "  </thead>\n",
              "  <tbody>\n",
              "    <tr>\n",
              "      <th>count</th>\n",
              "      <td>14579.000000</td>\n",
              "      <td>14579.000000</td>\n",
              "      <td>14507.000000</td>\n",
              "      <td>14502.000000</td>\n",
              "      <td>14572.000000</td>\n",
              "      <td>14478.000000</td>\n",
              "      <td>14548.000000</td>\n",
              "      <td>14572.000000</td>\n",
              "      <td>14579.000000</td>\n",
              "      <td>14579.000000</td>\n",
              "      <td>...</td>\n",
              "      <td>13659.000000</td>\n",
              "      <td>14579.000000</td>\n",
              "      <td>14578.000000</td>\n",
              "      <td>14578.000000</td>\n",
              "      <td>14387.000000</td>\n",
              "      <td>14579.000000</td>\n",
              "      <td>14579.000000</td>\n",
              "      <td>14578.000000</td>\n",
              "      <td>14504.000000</td>\n",
              "      <td>14574.000000</td>\n",
              "    </tr>\n",
              "    <tr>\n",
              "      <th>mean</th>\n",
              "      <td>8.352941</td>\n",
              "      <td>8.877460</td>\n",
              "      <td>3.604221</td>\n",
              "      <td>36.561420</td>\n",
              "      <td>474.332784</td>\n",
              "      <td>58.922712</td>\n",
              "      <td>12.427399</td>\n",
              "      <td>5.994854</td>\n",
              "      <td>1104.208278</td>\n",
              "      <td>-379.367166</td>\n",
              "      <td>...</td>\n",
              "      <td>7.111347</td>\n",
              "      <td>43.979499</td>\n",
              "      <td>5.192145</td>\n",
              "      <td>9.923809</td>\n",
              "      <td>9.566676</td>\n",
              "      <td>66.759066</td>\n",
              "      <td>3.087939</td>\n",
              "      <td>9.731972</td>\n",
              "      <td>2.719985</td>\n",
              "      <td>10.612745</td>\n",
              "    </tr>\n",
              "    <tr>\n",
              "      <th>std</th>\n",
              "      <td>1.934376</td>\n",
              "      <td>1.922536</td>\n",
              "      <td>1.056063</td>\n",
              "      <td>5.209823</td>\n",
              "      <td>108.503552</td>\n",
              "      <td>22.407410</td>\n",
              "      <td>3.428939</td>\n",
              "      <td>1.152873</td>\n",
              "      <td>162.235606</td>\n",
              "      <td>94.652311</td>\n",
              "      <td>...</td>\n",
              "      <td>3.909951</td>\n",
              "      <td>5.471437</td>\n",
              "      <td>1.388014</td>\n",
              "      <td>1.706976</td>\n",
              "      <td>2.805654</td>\n",
              "      <td>10.619709</td>\n",
              "      <td>0.915187</td>\n",
              "      <td>2.358143</td>\n",
              "      <td>0.958929</td>\n",
              "      <td>2.871075</td>\n",
              "    </tr>\n",
              "    <tr>\n",
              "      <th>min</th>\n",
              "      <td>0.010000</td>\n",
              "      <td>0.010000</td>\n",
              "      <td>0.010000</td>\n",
              "      <td>0.010000</td>\n",
              "      <td>0.002986</td>\n",
              "      <td>0.049194</td>\n",
              "      <td>0.001083</td>\n",
              "      <td>0.000568</td>\n",
              "      <td>-0.042069</td>\n",
              "      <td>-657.949759</td>\n",
              "      <td>...</td>\n",
              "      <td>0.000000</td>\n",
              "      <td>0.000000</td>\n",
              "      <td>0.000000</td>\n",
              "      <td>0.000000</td>\n",
              "      <td>0.000000</td>\n",
              "      <td>0.000000</td>\n",
              "      <td>0.000000</td>\n",
              "      <td>0.000000</td>\n",
              "      <td>0.000000</td>\n",
              "      <td>0.000000</td>\n",
              "    </tr>\n",
              "    <tr>\n",
              "      <th>25%</th>\n",
              "      <td>6.932996</td>\n",
              "      <td>7.341922</td>\n",
              "      <td>2.880490</td>\n",
              "      <td>34.093951</td>\n",
              "      <td>411.048483</td>\n",
              "      <td>47.278490</td>\n",
              "      <td>10.002832</td>\n",
              "      <td>5.304167</td>\n",
              "      <td>999.644856</td>\n",
              "      <td>-499.861797</td>\n",
              "      <td>...</td>\n",
              "      <td>3.784897</td>\n",
              "      <td>43.345906</td>\n",
              "      <td>4.283347</td>\n",
              "      <td>9.103183</td>\n",
              "      <td>7.860030</td>\n",
              "      <td>63.114596</td>\n",
              "      <td>2.505287</td>\n",
              "      <td>8.088928</td>\n",
              "      <td>2.036512</td>\n",
              "      <td>9.013412</td>\n",
              "    </tr>\n",
              "    <tr>\n",
              "      <th>50%</th>\n",
              "      <td>8.225284</td>\n",
              "      <td>8.715859</td>\n",
              "      <td>3.532399</td>\n",
              "      <td>37.097511</td>\n",
              "      <td>498.187968</td>\n",
              "      <td>54.361187</td>\n",
              "      <td>12.003320</td>\n",
              "      <td>6.003053</td>\n",
              "      <td>1000.982624</td>\n",
              "      <td>-300.314199</td>\n",
              "      <td>...</td>\n",
              "      <td>7.629968</td>\n",
              "      <td>44.975014</td>\n",
              "      <td>5.118647</td>\n",
              "      <td>10.046455</td>\n",
              "      <td>9.301970</td>\n",
              "      <td>67.962788</td>\n",
              "      <td>3.029238</td>\n",
              "      <td>9.818512</td>\n",
              "      <td>2.774847</td>\n",
              "      <td>10.670515</td>\n",
              "    </tr>\n",
              "    <tr>\n",
              "      <th>75%</th>\n",
              "      <td>9.832210</td>\n",
              "      <td>10.255843</td>\n",
              "      <td>4.257282</td>\n",
              "      <td>39.899799</td>\n",
              "      <td>549.586552</td>\n",
              "      <td>64.464926</td>\n",
              "      <td>14.929903</td>\n",
              "      <td>6.796632</td>\n",
              "      <td>1292.663971</td>\n",
              "      <td>-299.989315</td>\n",
              "      <td>...</td>\n",
              "      <td>10.367050</td>\n",
              "      <td>46.275153</td>\n",
              "      <td>5.925380</td>\n",
              "      <td>10.981203</td>\n",
              "      <td>11.001573</td>\n",
              "      <td>72.598187</td>\n",
              "      <td>3.614098</td>\n",
              "      <td>11.169187</td>\n",
              "      <td>3.353845</td>\n",
              "      <td>12.130827</td>\n",
              "    </tr>\n",
              "    <tr>\n",
              "      <th>max</th>\n",
              "      <td>13.731330</td>\n",
              "      <td>14.596026</td>\n",
              "      <td>7.052325</td>\n",
              "      <td>53.475325</td>\n",
              "      <td>717.508837</td>\n",
              "      <td>484.967466</td>\n",
              "      <td>36.118275</td>\n",
              "      <td>9.703448</td>\n",
              "      <td>1512.299531</td>\n",
              "      <td>-273.776101</td>\n",
              "      <td>...</td>\n",
              "      <td>26.000772</td>\n",
              "      <td>52.756638</td>\n",
              "      <td>16.001945</td>\n",
              "      <td>16.705297</td>\n",
              "      <td>19.423912</td>\n",
              "      <td>100.000000</td>\n",
              "      <td>8.245022</td>\n",
              "      <td>19.552149</td>\n",
              "      <td>5.804178</td>\n",
              "      <td>22.317730</td>\n",
              "    </tr>\n",
              "  </tbody>\n",
              "</table>\n",
              "<p>8 rows × 86 columns</p>\n",
              "</div>\n",
              "    <div class=\"colab-df-buttons\">\n",
              "\n",
              "  <div class=\"colab-df-container\">\n",
              "    <button class=\"colab-df-convert\" onclick=\"convertToInteractive('df-f8ae4896-64fb-4489-90eb-501f45bcd90a')\"\n",
              "            title=\"Convert this dataframe to an interactive table.\"\n",
              "            style=\"display:none;\">\n",
              "\n",
              "  <svg xmlns=\"http://www.w3.org/2000/svg\" height=\"24px\" viewBox=\"0 -960 960 960\">\n",
              "    <path d=\"M120-120v-720h720v720H120Zm60-500h600v-160H180v160Zm220 220h160v-160H400v160Zm0 220h160v-160H400v160ZM180-400h160v-160H180v160Zm440 0h160v-160H620v160ZM180-180h160v-160H180v160Zm440 0h160v-160H620v160Z\"/>\n",
              "  </svg>\n",
              "    </button>\n",
              "\n",
              "  <style>\n",
              "    .colab-df-container {\n",
              "      display:flex;\n",
              "      gap: 12px;\n",
              "    }\n",
              "\n",
              "    .colab-df-convert {\n",
              "      background-color: #E8F0FE;\n",
              "      border: none;\n",
              "      border-radius: 50%;\n",
              "      cursor: pointer;\n",
              "      display: none;\n",
              "      fill: #1967D2;\n",
              "      height: 32px;\n",
              "      padding: 0 0 0 0;\n",
              "      width: 32px;\n",
              "    }\n",
              "\n",
              "    .colab-df-convert:hover {\n",
              "      background-color: #E2EBFA;\n",
              "      box-shadow: 0px 1px 2px rgba(60, 64, 67, 0.3), 0px 1px 3px 1px rgba(60, 64, 67, 0.15);\n",
              "      fill: #174EA6;\n",
              "    }\n",
              "\n",
              "    .colab-df-buttons div {\n",
              "      margin-bottom: 4px;\n",
              "    }\n",
              "\n",
              "    [theme=dark] .colab-df-convert {\n",
              "      background-color: #3B4455;\n",
              "      fill: #D2E3FC;\n",
              "    }\n",
              "\n",
              "    [theme=dark] .colab-df-convert:hover {\n",
              "      background-color: #434B5C;\n",
              "      box-shadow: 0px 1px 3px 1px rgba(0, 0, 0, 0.15);\n",
              "      filter: drop-shadow(0px 1px 2px rgba(0, 0, 0, 0.3));\n",
              "      fill: #FFFFFF;\n",
              "    }\n",
              "  </style>\n",
              "\n",
              "    <script>\n",
              "      const buttonEl =\n",
              "        document.querySelector('#df-f8ae4896-64fb-4489-90eb-501f45bcd90a button.colab-df-convert');\n",
              "      buttonEl.style.display =\n",
              "        google.colab.kernel.accessAllowed ? 'block' : 'none';\n",
              "\n",
              "      async function convertToInteractive(key) {\n",
              "        const element = document.querySelector('#df-f8ae4896-64fb-4489-90eb-501f45bcd90a');\n",
              "        const dataTable =\n",
              "          await google.colab.kernel.invokeFunction('convertToInteractive',\n",
              "                                                    [key], {});\n",
              "        if (!dataTable) return;\n",
              "\n",
              "        const docLinkHtml = 'Like what you see? Visit the ' +\n",
              "          '<a target=\"_blank\" href=https://colab.research.google.com/notebooks/data_table.ipynb>data table notebook</a>'\n",
              "          + ' to learn more about interactive tables.';\n",
              "        element.innerHTML = '';\n",
              "        dataTable['output_type'] = 'display_data';\n",
              "        await google.colab.output.renderOutput(dataTable, element);\n",
              "        const docLink = document.createElement('div');\n",
              "        docLink.innerHTML = docLinkHtml;\n",
              "        element.appendChild(docLink);\n",
              "      }\n",
              "    </script>\n",
              "  </div>\n",
              "\n",
              "\n",
              "<div id=\"df-a440140c-3710-4ea4-a79c-41bed3eabaf7\">\n",
              "  <button class=\"colab-df-quickchart\" onclick=\"quickchart('df-a440140c-3710-4ea4-a79c-41bed3eabaf7')\"\n",
              "            title=\"Suggest charts\"\n",
              "            style=\"display:none;\">\n",
              "\n",
              "<svg xmlns=\"http://www.w3.org/2000/svg\" height=\"24px\"viewBox=\"0 0 24 24\"\n",
              "     width=\"24px\">\n",
              "    <g>\n",
              "        <path d=\"M19 3H5c-1.1 0-2 .9-2 2v14c0 1.1.9 2 2 2h14c1.1 0 2-.9 2-2V5c0-1.1-.9-2-2-2zM9 17H7v-7h2v7zm4 0h-2V7h2v10zm4 0h-2v-4h2v4z\"/>\n",
              "    </g>\n",
              "</svg>\n",
              "  </button>\n",
              "\n",
              "<style>\n",
              "  .colab-df-quickchart {\n",
              "      --bg-color: #E8F0FE;\n",
              "      --fill-color: #1967D2;\n",
              "      --hover-bg-color: #E2EBFA;\n",
              "      --hover-fill-color: #174EA6;\n",
              "      --disabled-fill-color: #AAA;\n",
              "      --disabled-bg-color: #DDD;\n",
              "  }\n",
              "\n",
              "  [theme=dark] .colab-df-quickchart {\n",
              "      --bg-color: #3B4455;\n",
              "      --fill-color: #D2E3FC;\n",
              "      --hover-bg-color: #434B5C;\n",
              "      --hover-fill-color: #FFFFFF;\n",
              "      --disabled-bg-color: #3B4455;\n",
              "      --disabled-fill-color: #666;\n",
              "  }\n",
              "\n",
              "  .colab-df-quickchart {\n",
              "    background-color: var(--bg-color);\n",
              "    border: none;\n",
              "    border-radius: 50%;\n",
              "    cursor: pointer;\n",
              "    display: none;\n",
              "    fill: var(--fill-color);\n",
              "    height: 32px;\n",
              "    padding: 0;\n",
              "    width: 32px;\n",
              "  }\n",
              "\n",
              "  .colab-df-quickchart:hover {\n",
              "    background-color: var(--hover-bg-color);\n",
              "    box-shadow: 0 1px 2px rgba(60, 64, 67, 0.3), 0 1px 3px 1px rgba(60, 64, 67, 0.15);\n",
              "    fill: var(--button-hover-fill-color);\n",
              "  }\n",
              "\n",
              "  .colab-df-quickchart-complete:disabled,\n",
              "  .colab-df-quickchart-complete:disabled:hover {\n",
              "    background-color: var(--disabled-bg-color);\n",
              "    fill: var(--disabled-fill-color);\n",
              "    box-shadow: none;\n",
              "  }\n",
              "\n",
              "  .colab-df-spinner {\n",
              "    border: 2px solid var(--fill-color);\n",
              "    border-color: transparent;\n",
              "    border-bottom-color: var(--fill-color);\n",
              "    animation:\n",
              "      spin 1s steps(1) infinite;\n",
              "  }\n",
              "\n",
              "  @keyframes spin {\n",
              "    0% {\n",
              "      border-color: transparent;\n",
              "      border-bottom-color: var(--fill-color);\n",
              "      border-left-color: var(--fill-color);\n",
              "    }\n",
              "    20% {\n",
              "      border-color: transparent;\n",
              "      border-left-color: var(--fill-color);\n",
              "      border-top-color: var(--fill-color);\n",
              "    }\n",
              "    30% {\n",
              "      border-color: transparent;\n",
              "      border-left-color: var(--fill-color);\n",
              "      border-top-color: var(--fill-color);\n",
              "      border-right-color: var(--fill-color);\n",
              "    }\n",
              "    40% {\n",
              "      border-color: transparent;\n",
              "      border-right-color: var(--fill-color);\n",
              "      border-top-color: var(--fill-color);\n",
              "    }\n",
              "    60% {\n",
              "      border-color: transparent;\n",
              "      border-right-color: var(--fill-color);\n",
              "    }\n",
              "    80% {\n",
              "      border-color: transparent;\n",
              "      border-right-color: var(--fill-color);\n",
              "      border-bottom-color: var(--fill-color);\n",
              "    }\n",
              "    90% {\n",
              "      border-color: transparent;\n",
              "      border-bottom-color: var(--fill-color);\n",
              "    }\n",
              "  }\n",
              "</style>\n",
              "\n",
              "  <script>\n",
              "    async function quickchart(key) {\n",
              "      const quickchartButtonEl =\n",
              "        document.querySelector('#' + key + ' button');\n",
              "      quickchartButtonEl.disabled = true;  // To prevent multiple clicks.\n",
              "      quickchartButtonEl.classList.add('colab-df-spinner');\n",
              "      try {\n",
              "        const charts = await google.colab.kernel.invokeFunction(\n",
              "            'suggestCharts', [key], {});\n",
              "      } catch (error) {\n",
              "        console.error('Error during call to suggestCharts:', error);\n",
              "      }\n",
              "      quickchartButtonEl.classList.remove('colab-df-spinner');\n",
              "      quickchartButtonEl.classList.add('colab-df-quickchart-complete');\n",
              "    }\n",
              "    (() => {\n",
              "      let quickchartButtonEl =\n",
              "        document.querySelector('#df-a440140c-3710-4ea4-a79c-41bed3eabaf7 button');\n",
              "      quickchartButtonEl.style.display =\n",
              "        google.colab.kernel.accessAllowed ? 'block' : 'none';\n",
              "    })();\n",
              "  </script>\n",
              "</div>\n",
              "    </div>\n",
              "  </div>\n"
            ],
            "application/vnd.google.colaboratory.intrinsic+json": {
              "type": "dataframe"
            }
          },
          "metadata": {}
        },
        {
          "output_type": "stream",
          "name": "stdout",
          "text": [
            "date                      0.000000\n",
            "rougher.input.feed_au     0.000000\n",
            "rougher.input.feed_ag     0.000000\n",
            "rougher.input.feed_pb     0.004939\n",
            "rougher.input.feed_sol    0.005282\n",
            "                            ...   \n",
            "final.output.recovery     0.000000\n",
            "final.output.tail_au      0.000000\n",
            "final.output.tail_ag      0.000069\n",
            "final.output.tail_pb      0.005144\n",
            "final.output.tail_sol     0.000343\n",
            "Length: 87, dtype: float64\n",
            "Количество дубликатов: 0\n"
          ]
        }
      ],
      "source": [
        "data_info(df_train)"
      ]
    },
    {
      "cell_type": "code",
      "execution_count": 7,
      "metadata": {
        "id": "cz1FEIncvrl7",
        "outputId": "48c3c7ce-3417-4b5b-acb4-e54af21c188d",
        "colab": {
          "base_uri": "https://localhost:8080/",
          "height": 1000
        }
      },
      "outputs": [
        {
          "output_type": "display_data",
          "data": {
            "text/plain": [
              "                  date  rougher.input.feed_au  rougher.input.feed_ag  \\\n",
              "0  2017-12-09 14:59:59               4.365491               6.158718   \n",
              "1  2017-12-09 15:59:59               4.362781               6.048130   \n",
              "2  2017-12-09 16:59:59               5.081681               6.082745   \n",
              "3  2017-12-09 17:59:59               5.145949               6.084374   \n",
              "4  2017-12-09 18:59:59               5.735249               6.165220   \n",
              "5  2017-12-09 19:59:59               5.848338               6.234198   \n",
              "6  2017-12-09 20:59:59               6.172839               6.213598   \n",
              "7  2017-12-09 21:59:59               5.743825               6.264367   \n",
              "8  2017-12-09 22:59:59               5.558520               6.167472   \n",
              "9  2017-12-09 23:59:59               5.473143               6.076597   \n",
              "\n",
              "   rougher.input.feed_pb  rougher.input.feed_sol  rougher.input.feed_rate  \\\n",
              "0               3.875727               39.135119               555.820208   \n",
              "1               3.902537               39.713906               544.731687   \n",
              "2               4.564078               37.208683               558.155110   \n",
              "3               4.768124               36.808874               539.713765   \n",
              "4               4.512346               37.810642               558.713584   \n",
              "5               4.468803               37.816555               547.515088   \n",
              "6               4.458071               36.829223               518.363800   \n",
              "7               4.428267               37.170131               500.494798   \n",
              "8               4.370640               37.356892               540.990643   \n",
              "9               4.274908               38.631317               492.146649   \n",
              "\n",
              "   rougher.input.feed_size  rougher.input.floatbank10_sulfate  \\\n",
              "0                94.544358                           6.146982   \n",
              "1               123.742430                           6.210119   \n",
              "2                82.610855                           7.363824   \n",
              "3                77.984784                           6.927072   \n",
              "4                86.434874                           7.823471   \n",
              "5                85.875864                           8.040386   \n",
              "6                73.426294                           7.641859   \n",
              "7                75.915232                           7.230213   \n",
              "8                79.668503                           7.089240   \n",
              "9                90.792119                           7.367698   \n",
              "\n",
              "   rougher.input.floatbank10_xanthate  rougher.state.floatbank10_a_air  ...  \\\n",
              "0                            9.308612                      1196.238112  ...   \n",
              "1                            9.297709                      1201.904177  ...   \n",
              "2                            9.003562                      1200.826926  ...   \n",
              "3                            8.955597                      1199.292489  ...   \n",
              "4                            7.490356                      1198.005449  ...   \n",
              "5                            7.500718                      1201.408796  ...   \n",
              "6                            7.498470                      1198.551240  ...   \n",
              "7                            7.496599                      1201.172468  ...   \n",
              "8                            7.524634                      1195.305111  ...   \n",
              "9                            6.543369                      1203.076302  ...   \n",
              "\n",
              "   secondary_cleaner.state.floatbank4_a_air  \\\n",
              "0                                 23.018622   \n",
              "1                                 23.024963   \n",
              "2                                 22.993827   \n",
              "3                                 23.032807   \n",
              "4                                 23.001911   \n",
              "5                                 22.977833   \n",
              "6                                 22.964590   \n",
              "7                                 23.010484   \n",
              "8                                 22.979813   \n",
              "9                                 23.050901   \n",
              "\n",
              "   secondary_cleaner.state.floatbank4_a_level  \\\n",
              "0                                 -500.492702   \n",
              "1                                 -501.153409   \n",
              "2                                 -501.559663   \n",
              "3                                 -501.287889   \n",
              "4                                 -499.947838   \n",
              "5                                 -499.910098   \n",
              "6                                 -500.083299   \n",
              "7                                 -500.498525   \n",
              "8                                 -500.451722   \n",
              "9                                 -501.185001   \n",
              "\n",
              "   secondary_cleaner.state.floatbank4_b_air  \\\n",
              "0                                 20.020205   \n",
              "1                                 20.054122   \n",
              "2                                 20.029144   \n",
              "3                                 19.977466   \n",
              "4                                 20.023735   \n",
              "5                                 20.000113   \n",
              "6                                 20.010567   \n",
              "7                                 20.043525   \n",
              "8                                 19.995022   \n",
              "9                                 20.016755   \n",
              "\n",
              "   secondary_cleaner.state.floatbank4_b_level  \\\n",
              "0                                 -500.220296   \n",
              "1                                 -500.314711   \n",
              "2                                 -500.000662   \n",
              "3                                 -500.159903   \n",
              "4                                 -499.713680   \n",
              "5                                 -500.584093   \n",
              "6                                 -500.545746   \n",
              "7                                 -499.701442   \n",
              "8                                 -500.415107   \n",
              "9                                 -499.840744   \n",
              "\n",
              "   secondary_cleaner.state.floatbank5_a_air  \\\n",
              "0                                 17.963512   \n",
              "1                                 17.979515   \n",
              "2                                 18.012723   \n",
              "3                                 17.980463   \n",
              "4                                 17.990955   \n",
              "5                                 18.003899   \n",
              "6                                 18.040164   \n",
              "7                                 17.991164   \n",
              "8                                 18.057379   \n",
              "9                                 17.991566   \n",
              "\n",
              "   secondary_cleaner.state.floatbank5_a_level  \\\n",
              "0                                 -499.939490   \n",
              "1                                 -499.272871   \n",
              "2                                 -500.024764   \n",
              "3                                 -500.504602   \n",
              "4                                 -500.334769   \n",
              "5                                 -500.326371   \n",
              "6                                 -498.936442   \n",
              "7                                 -500.324632   \n",
              "8                                 -499.238503   \n",
              "9                                 -500.303770   \n",
              "\n",
              "   secondary_cleaner.state.floatbank5_b_air  \\\n",
              "0                                 12.990306   \n",
              "1                                 12.992404   \n",
              "2                                 13.016445   \n",
              "3                                 12.949071   \n",
              "4                                 13.007523   \n",
              "5                                 12.978611   \n",
              "6                                 12.988702   \n",
              "7                                 13.000809   \n",
              "8                                 13.011922   \n",
              "9                                 13.023215   \n",
              "\n",
              "   secondary_cleaner.state.floatbank5_b_level  \\\n",
              "0                                 -500.080993   \n",
              "1                                 -499.976268   \n",
              "2                                 -500.058432   \n",
              "3                                 -500.009937   \n",
              "4                                 -499.968459   \n",
              "5                                 -499.966502   \n",
              "6                                 -499.985412   \n",
              "7                                 -500.181711   \n",
              "8                                 -500.067255   \n",
              "9                                 -500.018271   \n",
              "\n",
              "   secondary_cleaner.state.floatbank6_a_air  \\\n",
              "0                                 19.990336   \n",
              "1                                 20.013986   \n",
              "2                                 19.973767   \n",
              "3                                 20.010332   \n",
              "4                                 19.995999   \n",
              "5                                 19.988673   \n",
              "6                                 20.014155   \n",
              "7                                 20.001605   \n",
              "8                                 20.002796   \n",
              "9                                 20.015115   \n",
              "\n",
              "   secondary_cleaner.state.floatbank6_a_level  \n",
              "0                                 -499.191575  \n",
              "1                                 -500.625471  \n",
              "2                                 -501.394155  \n",
              "3                                 -508.337973  \n",
              "4                                 -499.788805  \n",
              "5                                 -500.742891  \n",
              "6                                 -499.443855  \n",
              "7                                 -500.229965  \n",
              "8                                 -504.347015  \n",
              "9                                 -515.537548  \n",
              "\n",
              "[10 rows x 53 columns]"
            ],
            "text/html": [
              "\n",
              "  <div id=\"df-901017e1-5eb2-4348-83b2-8674add53d80\" class=\"colab-df-container\">\n",
              "    <div>\n",
              "<style scoped>\n",
              "    .dataframe tbody tr th:only-of-type {\n",
              "        vertical-align: middle;\n",
              "    }\n",
              "\n",
              "    .dataframe tbody tr th {\n",
              "        vertical-align: top;\n",
              "    }\n",
              "\n",
              "    .dataframe thead th {\n",
              "        text-align: right;\n",
              "    }\n",
              "</style>\n",
              "<table border=\"1\" class=\"dataframe\">\n",
              "  <thead>\n",
              "    <tr style=\"text-align: right;\">\n",
              "      <th></th>\n",
              "      <th>date</th>\n",
              "      <th>rougher.input.feed_au</th>\n",
              "      <th>rougher.input.feed_ag</th>\n",
              "      <th>rougher.input.feed_pb</th>\n",
              "      <th>rougher.input.feed_sol</th>\n",
              "      <th>rougher.input.feed_rate</th>\n",
              "      <th>rougher.input.feed_size</th>\n",
              "      <th>rougher.input.floatbank10_sulfate</th>\n",
              "      <th>rougher.input.floatbank10_xanthate</th>\n",
              "      <th>rougher.state.floatbank10_a_air</th>\n",
              "      <th>...</th>\n",
              "      <th>secondary_cleaner.state.floatbank4_a_air</th>\n",
              "      <th>secondary_cleaner.state.floatbank4_a_level</th>\n",
              "      <th>secondary_cleaner.state.floatbank4_b_air</th>\n",
              "      <th>secondary_cleaner.state.floatbank4_b_level</th>\n",
              "      <th>secondary_cleaner.state.floatbank5_a_air</th>\n",
              "      <th>secondary_cleaner.state.floatbank5_a_level</th>\n",
              "      <th>secondary_cleaner.state.floatbank5_b_air</th>\n",
              "      <th>secondary_cleaner.state.floatbank5_b_level</th>\n",
              "      <th>secondary_cleaner.state.floatbank6_a_air</th>\n",
              "      <th>secondary_cleaner.state.floatbank6_a_level</th>\n",
              "    </tr>\n",
              "  </thead>\n",
              "  <tbody>\n",
              "    <tr>\n",
              "      <th>0</th>\n",
              "      <td>2017-12-09 14:59:59</td>\n",
              "      <td>4.365491</td>\n",
              "      <td>6.158718</td>\n",
              "      <td>3.875727</td>\n",
              "      <td>39.135119</td>\n",
              "      <td>555.820208</td>\n",
              "      <td>94.544358</td>\n",
              "      <td>6.146982</td>\n",
              "      <td>9.308612</td>\n",
              "      <td>1196.238112</td>\n",
              "      <td>...</td>\n",
              "      <td>23.018622</td>\n",
              "      <td>-500.492702</td>\n",
              "      <td>20.020205</td>\n",
              "      <td>-500.220296</td>\n",
              "      <td>17.963512</td>\n",
              "      <td>-499.939490</td>\n",
              "      <td>12.990306</td>\n",
              "      <td>-500.080993</td>\n",
              "      <td>19.990336</td>\n",
              "      <td>-499.191575</td>\n",
              "    </tr>\n",
              "    <tr>\n",
              "      <th>1</th>\n",
              "      <td>2017-12-09 15:59:59</td>\n",
              "      <td>4.362781</td>\n",
              "      <td>6.048130</td>\n",
              "      <td>3.902537</td>\n",
              "      <td>39.713906</td>\n",
              "      <td>544.731687</td>\n",
              "      <td>123.742430</td>\n",
              "      <td>6.210119</td>\n",
              "      <td>9.297709</td>\n",
              "      <td>1201.904177</td>\n",
              "      <td>...</td>\n",
              "      <td>23.024963</td>\n",
              "      <td>-501.153409</td>\n",
              "      <td>20.054122</td>\n",
              "      <td>-500.314711</td>\n",
              "      <td>17.979515</td>\n",
              "      <td>-499.272871</td>\n",
              "      <td>12.992404</td>\n",
              "      <td>-499.976268</td>\n",
              "      <td>20.013986</td>\n",
              "      <td>-500.625471</td>\n",
              "    </tr>\n",
              "    <tr>\n",
              "      <th>2</th>\n",
              "      <td>2017-12-09 16:59:59</td>\n",
              "      <td>5.081681</td>\n",
              "      <td>6.082745</td>\n",
              "      <td>4.564078</td>\n",
              "      <td>37.208683</td>\n",
              "      <td>558.155110</td>\n",
              "      <td>82.610855</td>\n",
              "      <td>7.363824</td>\n",
              "      <td>9.003562</td>\n",
              "      <td>1200.826926</td>\n",
              "      <td>...</td>\n",
              "      <td>22.993827</td>\n",
              "      <td>-501.559663</td>\n",
              "      <td>20.029144</td>\n",
              "      <td>-500.000662</td>\n",
              "      <td>18.012723</td>\n",
              "      <td>-500.024764</td>\n",
              "      <td>13.016445</td>\n",
              "      <td>-500.058432</td>\n",
              "      <td>19.973767</td>\n",
              "      <td>-501.394155</td>\n",
              "    </tr>\n",
              "    <tr>\n",
              "      <th>3</th>\n",
              "      <td>2017-12-09 17:59:59</td>\n",
              "      <td>5.145949</td>\n",
              "      <td>6.084374</td>\n",
              "      <td>4.768124</td>\n",
              "      <td>36.808874</td>\n",
              "      <td>539.713765</td>\n",
              "      <td>77.984784</td>\n",
              "      <td>6.927072</td>\n",
              "      <td>8.955597</td>\n",
              "      <td>1199.292489</td>\n",
              "      <td>...</td>\n",
              "      <td>23.032807</td>\n",
              "      <td>-501.287889</td>\n",
              "      <td>19.977466</td>\n",
              "      <td>-500.159903</td>\n",
              "      <td>17.980463</td>\n",
              "      <td>-500.504602</td>\n",
              "      <td>12.949071</td>\n",
              "      <td>-500.009937</td>\n",
              "      <td>20.010332</td>\n",
              "      <td>-508.337973</td>\n",
              "    </tr>\n",
              "    <tr>\n",
              "      <th>4</th>\n",
              "      <td>2017-12-09 18:59:59</td>\n",
              "      <td>5.735249</td>\n",
              "      <td>6.165220</td>\n",
              "      <td>4.512346</td>\n",
              "      <td>37.810642</td>\n",
              "      <td>558.713584</td>\n",
              "      <td>86.434874</td>\n",
              "      <td>7.823471</td>\n",
              "      <td>7.490356</td>\n",
              "      <td>1198.005449</td>\n",
              "      <td>...</td>\n",
              "      <td>23.001911</td>\n",
              "      <td>-499.947838</td>\n",
              "      <td>20.023735</td>\n",
              "      <td>-499.713680</td>\n",
              "      <td>17.990955</td>\n",
              "      <td>-500.334769</td>\n",
              "      <td>13.007523</td>\n",
              "      <td>-499.968459</td>\n",
              "      <td>19.995999</td>\n",
              "      <td>-499.788805</td>\n",
              "    </tr>\n",
              "    <tr>\n",
              "      <th>5</th>\n",
              "      <td>2017-12-09 19:59:59</td>\n",
              "      <td>5.848338</td>\n",
              "      <td>6.234198</td>\n",
              "      <td>4.468803</td>\n",
              "      <td>37.816555</td>\n",
              "      <td>547.515088</td>\n",
              "      <td>85.875864</td>\n",
              "      <td>8.040386</td>\n",
              "      <td>7.500718</td>\n",
              "      <td>1201.408796</td>\n",
              "      <td>...</td>\n",
              "      <td>22.977833</td>\n",
              "      <td>-499.910098</td>\n",
              "      <td>20.000113</td>\n",
              "      <td>-500.584093</td>\n",
              "      <td>18.003899</td>\n",
              "      <td>-500.326371</td>\n",
              "      <td>12.978611</td>\n",
              "      <td>-499.966502</td>\n",
              "      <td>19.988673</td>\n",
              "      <td>-500.742891</td>\n",
              "    </tr>\n",
              "    <tr>\n",
              "      <th>6</th>\n",
              "      <td>2017-12-09 20:59:59</td>\n",
              "      <td>6.172839</td>\n",
              "      <td>6.213598</td>\n",
              "      <td>4.458071</td>\n",
              "      <td>36.829223</td>\n",
              "      <td>518.363800</td>\n",
              "      <td>73.426294</td>\n",
              "      <td>7.641859</td>\n",
              "      <td>7.498470</td>\n",
              "      <td>1198.551240</td>\n",
              "      <td>...</td>\n",
              "      <td>22.964590</td>\n",
              "      <td>-500.083299</td>\n",
              "      <td>20.010567</td>\n",
              "      <td>-500.545746</td>\n",
              "      <td>18.040164</td>\n",
              "      <td>-498.936442</td>\n",
              "      <td>12.988702</td>\n",
              "      <td>-499.985412</td>\n",
              "      <td>20.014155</td>\n",
              "      <td>-499.443855</td>\n",
              "    </tr>\n",
              "    <tr>\n",
              "      <th>7</th>\n",
              "      <td>2017-12-09 21:59:59</td>\n",
              "      <td>5.743825</td>\n",
              "      <td>6.264367</td>\n",
              "      <td>4.428267</td>\n",
              "      <td>37.170131</td>\n",
              "      <td>500.494798</td>\n",
              "      <td>75.915232</td>\n",
              "      <td>7.230213</td>\n",
              "      <td>7.496599</td>\n",
              "      <td>1201.172468</td>\n",
              "      <td>...</td>\n",
              "      <td>23.010484</td>\n",
              "      <td>-500.498525</td>\n",
              "      <td>20.043525</td>\n",
              "      <td>-499.701442</td>\n",
              "      <td>17.991164</td>\n",
              "      <td>-500.324632</td>\n",
              "      <td>13.000809</td>\n",
              "      <td>-500.181711</td>\n",
              "      <td>20.001605</td>\n",
              "      <td>-500.229965</td>\n",
              "    </tr>\n",
              "    <tr>\n",
              "      <th>8</th>\n",
              "      <td>2017-12-09 22:59:59</td>\n",
              "      <td>5.558520</td>\n",
              "      <td>6.167472</td>\n",
              "      <td>4.370640</td>\n",
              "      <td>37.356892</td>\n",
              "      <td>540.990643</td>\n",
              "      <td>79.668503</td>\n",
              "      <td>7.089240</td>\n",
              "      <td>7.524634</td>\n",
              "      <td>1195.305111</td>\n",
              "      <td>...</td>\n",
              "      <td>22.979813</td>\n",
              "      <td>-500.451722</td>\n",
              "      <td>19.995022</td>\n",
              "      <td>-500.415107</td>\n",
              "      <td>18.057379</td>\n",
              "      <td>-499.238503</td>\n",
              "      <td>13.011922</td>\n",
              "      <td>-500.067255</td>\n",
              "      <td>20.002796</td>\n",
              "      <td>-504.347015</td>\n",
              "    </tr>\n",
              "    <tr>\n",
              "      <th>9</th>\n",
              "      <td>2017-12-09 23:59:59</td>\n",
              "      <td>5.473143</td>\n",
              "      <td>6.076597</td>\n",
              "      <td>4.274908</td>\n",
              "      <td>38.631317</td>\n",
              "      <td>492.146649</td>\n",
              "      <td>90.792119</td>\n",
              "      <td>7.367698</td>\n",
              "      <td>6.543369</td>\n",
              "      <td>1203.076302</td>\n",
              "      <td>...</td>\n",
              "      <td>23.050901</td>\n",
              "      <td>-501.185001</td>\n",
              "      <td>20.016755</td>\n",
              "      <td>-499.840744</td>\n",
              "      <td>17.991566</td>\n",
              "      <td>-500.303770</td>\n",
              "      <td>13.023215</td>\n",
              "      <td>-500.018271</td>\n",
              "      <td>20.015115</td>\n",
              "      <td>-515.537548</td>\n",
              "    </tr>\n",
              "  </tbody>\n",
              "</table>\n",
              "<p>10 rows × 53 columns</p>\n",
              "</div>\n",
              "    <div class=\"colab-df-buttons\">\n",
              "\n",
              "  <div class=\"colab-df-container\">\n",
              "    <button class=\"colab-df-convert\" onclick=\"convertToInteractive('df-901017e1-5eb2-4348-83b2-8674add53d80')\"\n",
              "            title=\"Convert this dataframe to an interactive table.\"\n",
              "            style=\"display:none;\">\n",
              "\n",
              "  <svg xmlns=\"http://www.w3.org/2000/svg\" height=\"24px\" viewBox=\"0 -960 960 960\">\n",
              "    <path d=\"M120-120v-720h720v720H120Zm60-500h600v-160H180v160Zm220 220h160v-160H400v160Zm0 220h160v-160H400v160ZM180-400h160v-160H180v160Zm440 0h160v-160H620v160ZM180-180h160v-160H180v160Zm440 0h160v-160H620v160Z\"/>\n",
              "  </svg>\n",
              "    </button>\n",
              "\n",
              "  <style>\n",
              "    .colab-df-container {\n",
              "      display:flex;\n",
              "      gap: 12px;\n",
              "    }\n",
              "\n",
              "    .colab-df-convert {\n",
              "      background-color: #E8F0FE;\n",
              "      border: none;\n",
              "      border-radius: 50%;\n",
              "      cursor: pointer;\n",
              "      display: none;\n",
              "      fill: #1967D2;\n",
              "      height: 32px;\n",
              "      padding: 0 0 0 0;\n",
              "      width: 32px;\n",
              "    }\n",
              "\n",
              "    .colab-df-convert:hover {\n",
              "      background-color: #E2EBFA;\n",
              "      box-shadow: 0px 1px 2px rgba(60, 64, 67, 0.3), 0px 1px 3px 1px rgba(60, 64, 67, 0.15);\n",
              "      fill: #174EA6;\n",
              "    }\n",
              "\n",
              "    .colab-df-buttons div {\n",
              "      margin-bottom: 4px;\n",
              "    }\n",
              "\n",
              "    [theme=dark] .colab-df-convert {\n",
              "      background-color: #3B4455;\n",
              "      fill: #D2E3FC;\n",
              "    }\n",
              "\n",
              "    [theme=dark] .colab-df-convert:hover {\n",
              "      background-color: #434B5C;\n",
              "      box-shadow: 0px 1px 3px 1px rgba(0, 0, 0, 0.15);\n",
              "      filter: drop-shadow(0px 1px 2px rgba(0, 0, 0, 0.3));\n",
              "      fill: #FFFFFF;\n",
              "    }\n",
              "  </style>\n",
              "\n",
              "    <script>\n",
              "      const buttonEl =\n",
              "        document.querySelector('#df-901017e1-5eb2-4348-83b2-8674add53d80 button.colab-df-convert');\n",
              "      buttonEl.style.display =\n",
              "        google.colab.kernel.accessAllowed ? 'block' : 'none';\n",
              "\n",
              "      async function convertToInteractive(key) {\n",
              "        const element = document.querySelector('#df-901017e1-5eb2-4348-83b2-8674add53d80');\n",
              "        const dataTable =\n",
              "          await google.colab.kernel.invokeFunction('convertToInteractive',\n",
              "                                                    [key], {});\n",
              "        if (!dataTable) return;\n",
              "\n",
              "        const docLinkHtml = 'Like what you see? Visit the ' +\n",
              "          '<a target=\"_blank\" href=https://colab.research.google.com/notebooks/data_table.ipynb>data table notebook</a>'\n",
              "          + ' to learn more about interactive tables.';\n",
              "        element.innerHTML = '';\n",
              "        dataTable['output_type'] = 'display_data';\n",
              "        await google.colab.output.renderOutput(dataTable, element);\n",
              "        const docLink = document.createElement('div');\n",
              "        docLink.innerHTML = docLinkHtml;\n",
              "        element.appendChild(docLink);\n",
              "      }\n",
              "    </script>\n",
              "  </div>\n",
              "\n",
              "\n",
              "<div id=\"df-e0f5f97b-6527-4b0f-9367-323261bf85df\">\n",
              "  <button class=\"colab-df-quickchart\" onclick=\"quickchart('df-e0f5f97b-6527-4b0f-9367-323261bf85df')\"\n",
              "            title=\"Suggest charts\"\n",
              "            style=\"display:none;\">\n",
              "\n",
              "<svg xmlns=\"http://www.w3.org/2000/svg\" height=\"24px\"viewBox=\"0 0 24 24\"\n",
              "     width=\"24px\">\n",
              "    <g>\n",
              "        <path d=\"M19 3H5c-1.1 0-2 .9-2 2v14c0 1.1.9 2 2 2h14c1.1 0 2-.9 2-2V5c0-1.1-.9-2-2-2zM9 17H7v-7h2v7zm4 0h-2V7h2v10zm4 0h-2v-4h2v4z\"/>\n",
              "    </g>\n",
              "</svg>\n",
              "  </button>\n",
              "\n",
              "<style>\n",
              "  .colab-df-quickchart {\n",
              "      --bg-color: #E8F0FE;\n",
              "      --fill-color: #1967D2;\n",
              "      --hover-bg-color: #E2EBFA;\n",
              "      --hover-fill-color: #174EA6;\n",
              "      --disabled-fill-color: #AAA;\n",
              "      --disabled-bg-color: #DDD;\n",
              "  }\n",
              "\n",
              "  [theme=dark] .colab-df-quickchart {\n",
              "      --bg-color: #3B4455;\n",
              "      --fill-color: #D2E3FC;\n",
              "      --hover-bg-color: #434B5C;\n",
              "      --hover-fill-color: #FFFFFF;\n",
              "      --disabled-bg-color: #3B4455;\n",
              "      --disabled-fill-color: #666;\n",
              "  }\n",
              "\n",
              "  .colab-df-quickchart {\n",
              "    background-color: var(--bg-color);\n",
              "    border: none;\n",
              "    border-radius: 50%;\n",
              "    cursor: pointer;\n",
              "    display: none;\n",
              "    fill: var(--fill-color);\n",
              "    height: 32px;\n",
              "    padding: 0;\n",
              "    width: 32px;\n",
              "  }\n",
              "\n",
              "  .colab-df-quickchart:hover {\n",
              "    background-color: var(--hover-bg-color);\n",
              "    box-shadow: 0 1px 2px rgba(60, 64, 67, 0.3), 0 1px 3px 1px rgba(60, 64, 67, 0.15);\n",
              "    fill: var(--button-hover-fill-color);\n",
              "  }\n",
              "\n",
              "  .colab-df-quickchart-complete:disabled,\n",
              "  .colab-df-quickchart-complete:disabled:hover {\n",
              "    background-color: var(--disabled-bg-color);\n",
              "    fill: var(--disabled-fill-color);\n",
              "    box-shadow: none;\n",
              "  }\n",
              "\n",
              "  .colab-df-spinner {\n",
              "    border: 2px solid var(--fill-color);\n",
              "    border-color: transparent;\n",
              "    border-bottom-color: var(--fill-color);\n",
              "    animation:\n",
              "      spin 1s steps(1) infinite;\n",
              "  }\n",
              "\n",
              "  @keyframes spin {\n",
              "    0% {\n",
              "      border-color: transparent;\n",
              "      border-bottom-color: var(--fill-color);\n",
              "      border-left-color: var(--fill-color);\n",
              "    }\n",
              "    20% {\n",
              "      border-color: transparent;\n",
              "      border-left-color: var(--fill-color);\n",
              "      border-top-color: var(--fill-color);\n",
              "    }\n",
              "    30% {\n",
              "      border-color: transparent;\n",
              "      border-left-color: var(--fill-color);\n",
              "      border-top-color: var(--fill-color);\n",
              "      border-right-color: var(--fill-color);\n",
              "    }\n",
              "    40% {\n",
              "      border-color: transparent;\n",
              "      border-right-color: var(--fill-color);\n",
              "      border-top-color: var(--fill-color);\n",
              "    }\n",
              "    60% {\n",
              "      border-color: transparent;\n",
              "      border-right-color: var(--fill-color);\n",
              "    }\n",
              "    80% {\n",
              "      border-color: transparent;\n",
              "      border-right-color: var(--fill-color);\n",
              "      border-bottom-color: var(--fill-color);\n",
              "    }\n",
              "    90% {\n",
              "      border-color: transparent;\n",
              "      border-bottom-color: var(--fill-color);\n",
              "    }\n",
              "  }\n",
              "</style>\n",
              "\n",
              "  <script>\n",
              "    async function quickchart(key) {\n",
              "      const quickchartButtonEl =\n",
              "        document.querySelector('#' + key + ' button');\n",
              "      quickchartButtonEl.disabled = true;  // To prevent multiple clicks.\n",
              "      quickchartButtonEl.classList.add('colab-df-spinner');\n",
              "      try {\n",
              "        const charts = await google.colab.kernel.invokeFunction(\n",
              "            'suggestCharts', [key], {});\n",
              "      } catch (error) {\n",
              "        console.error('Error during call to suggestCharts:', error);\n",
              "      }\n",
              "      quickchartButtonEl.classList.remove('colab-df-spinner');\n",
              "      quickchartButtonEl.classList.add('colab-df-quickchart-complete');\n",
              "    }\n",
              "    (() => {\n",
              "      let quickchartButtonEl =\n",
              "        document.querySelector('#df-e0f5f97b-6527-4b0f-9367-323261bf85df button');\n",
              "      quickchartButtonEl.style.display =\n",
              "        google.colab.kernel.accessAllowed ? 'block' : 'none';\n",
              "    })();\n",
              "  </script>\n",
              "</div>\n",
              "    </div>\n",
              "  </div>\n"
            ],
            "application/vnd.google.colaboratory.intrinsic+json": {
              "type": "dataframe"
            }
          },
          "metadata": {}
        },
        {
          "output_type": "display_data",
          "data": {
            "text/plain": [
              "       rougher.input.feed_au  rougher.input.feed_ag  rougher.input.feed_pb  \\\n",
              "count            4860.000000            4860.000000            4832.000000   \n",
              "mean                8.005584               8.547348               3.579662   \n",
              "std                 1.993590               1.958601               1.029377   \n",
              "min                 0.010000               0.010000               0.010000   \n",
              "25%                 6.574363               6.975898               2.903612   \n",
              "50%                 7.812923               8.179714               3.540772   \n",
              "75%                 9.556589              10.084339               4.199847   \n",
              "max                13.417156              14.533698               7.142594   \n",
              "\n",
              "       rougher.input.feed_sol  rougher.input.feed_rate  \\\n",
              "count             4838.000000              4856.000000   \n",
              "mean                37.095864               490.285103   \n",
              "std                  4.926284                94.371623   \n",
              "min                  0.010000                 0.012786   \n",
              "25%                 34.510841               434.099695   \n",
              "50%                 37.499761               502.118742   \n",
              "75%                 40.461315               555.596563   \n",
              "max                 53.477742               702.523396   \n",
              "\n",
              "       rougher.input.feed_size  rougher.input.floatbank10_sulfate  \\\n",
              "count              4816.000000                        4857.000000   \n",
              "mean                 59.113400                          12.055735   \n",
              "std                  19.125122                           3.407642   \n",
              "min                   0.046369                           0.018907   \n",
              "25%                  47.596984                           9.890429   \n",
              "50%                  55.509481                          11.997859   \n",
              "75%                  66.661547                          14.496072   \n",
              "max                 363.989699                          30.010759   \n",
              "\n",
              "       rougher.input.floatbank10_xanthate  rougher.state.floatbank10_a_air  \\\n",
              "count                         4859.000000                      4859.000000   \n",
              "mean                             6.101308                      1108.635895   \n",
              "std                              1.042754                       156.493143   \n",
              "min                              0.015783                       300.792494   \n",
              "25%                              5.499808                       999.715729   \n",
              "50%                              6.099805                      1001.414798   \n",
              "75%                              6.802101                      1202.837565   \n",
              "max                              9.396928                      1521.980372   \n",
              "\n",
              "       rougher.state.floatbank10_a_level  ...  \\\n",
              "count                        4859.000000  ...   \n",
              "mean                         -368.340127  ...   \n",
              "std                            91.155929  ...   \n",
              "min                          -600.568138  ...   \n",
              "25%                          -499.731972  ...   \n",
              "50%                          -300.181367  ...   \n",
              "75%                          -299.961547  ...   \n",
              "max                          -281.039299  ...   \n",
              "\n",
              "       secondary_cleaner.state.floatbank4_a_air  \\\n",
              "count                              4.859000e+03   \n",
              "mean                               1.985770e+01   \n",
              "std                                5.913105e+00   \n",
              "min                                1.079872e-16   \n",
              "25%                                1.501123e+01   \n",
              "50%                                1.996807e+01   \n",
              "75%                                2.498900e+01   \n",
              "max                                3.008450e+01   \n",
              "\n",
              "       secondary_cleaner.state.floatbank4_a_level  \\\n",
              "count                                 4859.000000   \n",
              "mean                                  -488.665140   \n",
              "std                                     44.392714   \n",
              "min                                   -799.704969   \n",
              "25%                                   -500.704004   \n",
              "50%                                   -499.892919   \n",
              "75%                                   -498.652030   \n",
              "max                                   -383.373053   \n",
              "\n",
              "       secondary_cleaner.state.floatbank4_b_air  \\\n",
              "count                              4.859000e+03   \n",
              "mean                               1.557025e+01   \n",
              "std                                4.927361e+00   \n",
              "min                                2.489718e-17   \n",
              "25%                                1.202172e+01   \n",
              "50%                                1.501240e+01   \n",
              "75%                                1.999949e+01   \n",
              "max                                2.398898e+01   \n",
              "\n",
              "       secondary_cleaner.state.floatbank4_b_level  \\\n",
              "count                                 4859.000000   \n",
              "mean                                  -464.176507   \n",
              "std                                     65.706994   \n",
              "min                                   -799.860767   \n",
              "25%                                   -500.196517   \n",
              "50%                                   -499.540776   \n",
              "75%                                   -400.302329   \n",
              "max                                   -114.250832   \n",
              "\n",
              "       secondary_cleaner.state.floatbank5_a_air  \\\n",
              "count                               4859.000000   \n",
              "mean                                  16.594103   \n",
              "std                                    5.724305   \n",
              "min                                   -0.371498   \n",
              "25%                                   11.073822   \n",
              "50%                                   16.631195   \n",
              "75%                                   19.983191   \n",
              "max                                   33.215996   \n",
              "\n",
              "       secondary_cleaner.state.floatbank5_a_level  \\\n",
              "count                                 4859.000000   \n",
              "mean                                  -490.815250   \n",
              "std                                     32.258443   \n",
              "min                                   -797.142475   \n",
              "25%                                   -500.483564   \n",
              "50%                                   -499.873136   \n",
              "75%                                   -498.852815   \n",
              "max                                   -288.963521   \n",
              "\n",
              "       secondary_cleaner.state.floatbank5_b_air  \\\n",
              "count                               4859.000000   \n",
              "mean                                  12.945971   \n",
              "std                                    5.533176   \n",
              "min                                    1.358469   \n",
              "25%                                    9.011890   \n",
              "50%                                   11.999417   \n",
              "75%                                   15.004198   \n",
              "max                                   24.177106   \n",
              "\n",
              "       secondary_cleaner.state.floatbank5_b_level  \\\n",
              "count                                 4859.000000   \n",
              "mean                                  -489.583564   \n",
              "std                                     37.084609   \n",
              "min                                   -800.006180   \n",
              "25%                                   -500.129913   \n",
              "50%                                   -499.955304   \n",
              "75%                                   -499.643776   \n",
              "max                                   -141.934397   \n",
              "\n",
              "       secondary_cleaner.state.floatbank6_a_air  \\\n",
              "count                               4859.000000   \n",
              "mean                                  19.053888   \n",
              "std                                    5.548996   \n",
              "min                                    0.160386   \n",
              "25%                                   14.963953   \n",
              "50%                                   19.960006   \n",
              "75%                                   24.974583   \n",
              "max                                   32.028529   \n",
              "\n",
              "       secondary_cleaner.state.floatbank6_a_level  \n",
              "count                                 4859.000000  \n",
              "mean                                  -504.678924  \n",
              "std                                     38.690186  \n",
              "min                                   -809.734800  \n",
              "25%                                   -500.668501  \n",
              "50%                                   -500.033769  \n",
              "75%                                   -499.460134  \n",
              "max                                   -104.427459  \n",
              "\n",
              "[8 rows x 52 columns]"
            ],
            "text/html": [
              "\n",
              "  <div id=\"df-4b4043af-9121-41ea-891e-0679e6515feb\" class=\"colab-df-container\">\n",
              "    <div>\n",
              "<style scoped>\n",
              "    .dataframe tbody tr th:only-of-type {\n",
              "        vertical-align: middle;\n",
              "    }\n",
              "\n",
              "    .dataframe tbody tr th {\n",
              "        vertical-align: top;\n",
              "    }\n",
              "\n",
              "    .dataframe thead th {\n",
              "        text-align: right;\n",
              "    }\n",
              "</style>\n",
              "<table border=\"1\" class=\"dataframe\">\n",
              "  <thead>\n",
              "    <tr style=\"text-align: right;\">\n",
              "      <th></th>\n",
              "      <th>rougher.input.feed_au</th>\n",
              "      <th>rougher.input.feed_ag</th>\n",
              "      <th>rougher.input.feed_pb</th>\n",
              "      <th>rougher.input.feed_sol</th>\n",
              "      <th>rougher.input.feed_rate</th>\n",
              "      <th>rougher.input.feed_size</th>\n",
              "      <th>rougher.input.floatbank10_sulfate</th>\n",
              "      <th>rougher.input.floatbank10_xanthate</th>\n",
              "      <th>rougher.state.floatbank10_a_air</th>\n",
              "      <th>rougher.state.floatbank10_a_level</th>\n",
              "      <th>...</th>\n",
              "      <th>secondary_cleaner.state.floatbank4_a_air</th>\n",
              "      <th>secondary_cleaner.state.floatbank4_a_level</th>\n",
              "      <th>secondary_cleaner.state.floatbank4_b_air</th>\n",
              "      <th>secondary_cleaner.state.floatbank4_b_level</th>\n",
              "      <th>secondary_cleaner.state.floatbank5_a_air</th>\n",
              "      <th>secondary_cleaner.state.floatbank5_a_level</th>\n",
              "      <th>secondary_cleaner.state.floatbank5_b_air</th>\n",
              "      <th>secondary_cleaner.state.floatbank5_b_level</th>\n",
              "      <th>secondary_cleaner.state.floatbank6_a_air</th>\n",
              "      <th>secondary_cleaner.state.floatbank6_a_level</th>\n",
              "    </tr>\n",
              "  </thead>\n",
              "  <tbody>\n",
              "    <tr>\n",
              "      <th>count</th>\n",
              "      <td>4860.000000</td>\n",
              "      <td>4860.000000</td>\n",
              "      <td>4832.000000</td>\n",
              "      <td>4838.000000</td>\n",
              "      <td>4856.000000</td>\n",
              "      <td>4816.000000</td>\n",
              "      <td>4857.000000</td>\n",
              "      <td>4859.000000</td>\n",
              "      <td>4859.000000</td>\n",
              "      <td>4859.000000</td>\n",
              "      <td>...</td>\n",
              "      <td>4.859000e+03</td>\n",
              "      <td>4859.000000</td>\n",
              "      <td>4.859000e+03</td>\n",
              "      <td>4859.000000</td>\n",
              "      <td>4859.000000</td>\n",
              "      <td>4859.000000</td>\n",
              "      <td>4859.000000</td>\n",
              "      <td>4859.000000</td>\n",
              "      <td>4859.000000</td>\n",
              "      <td>4859.000000</td>\n",
              "    </tr>\n",
              "    <tr>\n",
              "      <th>mean</th>\n",
              "      <td>8.005584</td>\n",
              "      <td>8.547348</td>\n",
              "      <td>3.579662</td>\n",
              "      <td>37.095864</td>\n",
              "      <td>490.285103</td>\n",
              "      <td>59.113400</td>\n",
              "      <td>12.055735</td>\n",
              "      <td>6.101308</td>\n",
              "      <td>1108.635895</td>\n",
              "      <td>-368.340127</td>\n",
              "      <td>...</td>\n",
              "      <td>1.985770e+01</td>\n",
              "      <td>-488.665140</td>\n",
              "      <td>1.557025e+01</td>\n",
              "      <td>-464.176507</td>\n",
              "      <td>16.594103</td>\n",
              "      <td>-490.815250</td>\n",
              "      <td>12.945971</td>\n",
              "      <td>-489.583564</td>\n",
              "      <td>19.053888</td>\n",
              "      <td>-504.678924</td>\n",
              "    </tr>\n",
              "    <tr>\n",
              "      <th>std</th>\n",
              "      <td>1.993590</td>\n",
              "      <td>1.958601</td>\n",
              "      <td>1.029377</td>\n",
              "      <td>4.926284</td>\n",
              "      <td>94.371623</td>\n",
              "      <td>19.125122</td>\n",
              "      <td>3.407642</td>\n",
              "      <td>1.042754</td>\n",
              "      <td>156.493143</td>\n",
              "      <td>91.155929</td>\n",
              "      <td>...</td>\n",
              "      <td>5.913105e+00</td>\n",
              "      <td>44.392714</td>\n",
              "      <td>4.927361e+00</td>\n",
              "      <td>65.706994</td>\n",
              "      <td>5.724305</td>\n",
              "      <td>32.258443</td>\n",
              "      <td>5.533176</td>\n",
              "      <td>37.084609</td>\n",
              "      <td>5.548996</td>\n",
              "      <td>38.690186</td>\n",
              "    </tr>\n",
              "    <tr>\n",
              "      <th>min</th>\n",
              "      <td>0.010000</td>\n",
              "      <td>0.010000</td>\n",
              "      <td>0.010000</td>\n",
              "      <td>0.010000</td>\n",
              "      <td>0.012786</td>\n",
              "      <td>0.046369</td>\n",
              "      <td>0.018907</td>\n",
              "      <td>0.015783</td>\n",
              "      <td>300.792494</td>\n",
              "      <td>-600.568138</td>\n",
              "      <td>...</td>\n",
              "      <td>1.079872e-16</td>\n",
              "      <td>-799.704969</td>\n",
              "      <td>2.489718e-17</td>\n",
              "      <td>-799.860767</td>\n",
              "      <td>-0.371498</td>\n",
              "      <td>-797.142475</td>\n",
              "      <td>1.358469</td>\n",
              "      <td>-800.006180</td>\n",
              "      <td>0.160386</td>\n",
              "      <td>-809.734800</td>\n",
              "    </tr>\n",
              "    <tr>\n",
              "      <th>25%</th>\n",
              "      <td>6.574363</td>\n",
              "      <td>6.975898</td>\n",
              "      <td>2.903612</td>\n",
              "      <td>34.510841</td>\n",
              "      <td>434.099695</td>\n",
              "      <td>47.596984</td>\n",
              "      <td>9.890429</td>\n",
              "      <td>5.499808</td>\n",
              "      <td>999.715729</td>\n",
              "      <td>-499.731972</td>\n",
              "      <td>...</td>\n",
              "      <td>1.501123e+01</td>\n",
              "      <td>-500.704004</td>\n",
              "      <td>1.202172e+01</td>\n",
              "      <td>-500.196517</td>\n",
              "      <td>11.073822</td>\n",
              "      <td>-500.483564</td>\n",
              "      <td>9.011890</td>\n",
              "      <td>-500.129913</td>\n",
              "      <td>14.963953</td>\n",
              "      <td>-500.668501</td>\n",
              "    </tr>\n",
              "    <tr>\n",
              "      <th>50%</th>\n",
              "      <td>7.812923</td>\n",
              "      <td>8.179714</td>\n",
              "      <td>3.540772</td>\n",
              "      <td>37.499761</td>\n",
              "      <td>502.118742</td>\n",
              "      <td>55.509481</td>\n",
              "      <td>11.997859</td>\n",
              "      <td>6.099805</td>\n",
              "      <td>1001.414798</td>\n",
              "      <td>-300.181367</td>\n",
              "      <td>...</td>\n",
              "      <td>1.996807e+01</td>\n",
              "      <td>-499.892919</td>\n",
              "      <td>1.501240e+01</td>\n",
              "      <td>-499.540776</td>\n",
              "      <td>16.631195</td>\n",
              "      <td>-499.873136</td>\n",
              "      <td>11.999417</td>\n",
              "      <td>-499.955304</td>\n",
              "      <td>19.960006</td>\n",
              "      <td>-500.033769</td>\n",
              "    </tr>\n",
              "    <tr>\n",
              "      <th>75%</th>\n",
              "      <td>9.556589</td>\n",
              "      <td>10.084339</td>\n",
              "      <td>4.199847</td>\n",
              "      <td>40.461315</td>\n",
              "      <td>555.596563</td>\n",
              "      <td>66.661547</td>\n",
              "      <td>14.496072</td>\n",
              "      <td>6.802101</td>\n",
              "      <td>1202.837565</td>\n",
              "      <td>-299.961547</td>\n",
              "      <td>...</td>\n",
              "      <td>2.498900e+01</td>\n",
              "      <td>-498.652030</td>\n",
              "      <td>1.999949e+01</td>\n",
              "      <td>-400.302329</td>\n",
              "      <td>19.983191</td>\n",
              "      <td>-498.852815</td>\n",
              "      <td>15.004198</td>\n",
              "      <td>-499.643776</td>\n",
              "      <td>24.974583</td>\n",
              "      <td>-499.460134</td>\n",
              "    </tr>\n",
              "    <tr>\n",
              "      <th>max</th>\n",
              "      <td>13.417156</td>\n",
              "      <td>14.533698</td>\n",
              "      <td>7.142594</td>\n",
              "      <td>53.477742</td>\n",
              "      <td>702.523396</td>\n",
              "      <td>363.989699</td>\n",
              "      <td>30.010759</td>\n",
              "      <td>9.396928</td>\n",
              "      <td>1521.980372</td>\n",
              "      <td>-281.039299</td>\n",
              "      <td>...</td>\n",
              "      <td>3.008450e+01</td>\n",
              "      <td>-383.373053</td>\n",
              "      <td>2.398898e+01</td>\n",
              "      <td>-114.250832</td>\n",
              "      <td>33.215996</td>\n",
              "      <td>-288.963521</td>\n",
              "      <td>24.177106</td>\n",
              "      <td>-141.934397</td>\n",
              "      <td>32.028529</td>\n",
              "      <td>-104.427459</td>\n",
              "    </tr>\n",
              "  </tbody>\n",
              "</table>\n",
              "<p>8 rows × 52 columns</p>\n",
              "</div>\n",
              "    <div class=\"colab-df-buttons\">\n",
              "\n",
              "  <div class=\"colab-df-container\">\n",
              "    <button class=\"colab-df-convert\" onclick=\"convertToInteractive('df-4b4043af-9121-41ea-891e-0679e6515feb')\"\n",
              "            title=\"Convert this dataframe to an interactive table.\"\n",
              "            style=\"display:none;\">\n",
              "\n",
              "  <svg xmlns=\"http://www.w3.org/2000/svg\" height=\"24px\" viewBox=\"0 -960 960 960\">\n",
              "    <path d=\"M120-120v-720h720v720H120Zm60-500h600v-160H180v160Zm220 220h160v-160H400v160Zm0 220h160v-160H400v160ZM180-400h160v-160H180v160Zm440 0h160v-160H620v160ZM180-180h160v-160H180v160Zm440 0h160v-160H620v160Z\"/>\n",
              "  </svg>\n",
              "    </button>\n",
              "\n",
              "  <style>\n",
              "    .colab-df-container {\n",
              "      display:flex;\n",
              "      gap: 12px;\n",
              "    }\n",
              "\n",
              "    .colab-df-convert {\n",
              "      background-color: #E8F0FE;\n",
              "      border: none;\n",
              "      border-radius: 50%;\n",
              "      cursor: pointer;\n",
              "      display: none;\n",
              "      fill: #1967D2;\n",
              "      height: 32px;\n",
              "      padding: 0 0 0 0;\n",
              "      width: 32px;\n",
              "    }\n",
              "\n",
              "    .colab-df-convert:hover {\n",
              "      background-color: #E2EBFA;\n",
              "      box-shadow: 0px 1px 2px rgba(60, 64, 67, 0.3), 0px 1px 3px 1px rgba(60, 64, 67, 0.15);\n",
              "      fill: #174EA6;\n",
              "    }\n",
              "\n",
              "    .colab-df-buttons div {\n",
              "      margin-bottom: 4px;\n",
              "    }\n",
              "\n",
              "    [theme=dark] .colab-df-convert {\n",
              "      background-color: #3B4455;\n",
              "      fill: #D2E3FC;\n",
              "    }\n",
              "\n",
              "    [theme=dark] .colab-df-convert:hover {\n",
              "      background-color: #434B5C;\n",
              "      box-shadow: 0px 1px 3px 1px rgba(0, 0, 0, 0.15);\n",
              "      filter: drop-shadow(0px 1px 2px rgba(0, 0, 0, 0.3));\n",
              "      fill: #FFFFFF;\n",
              "    }\n",
              "  </style>\n",
              "\n",
              "    <script>\n",
              "      const buttonEl =\n",
              "        document.querySelector('#df-4b4043af-9121-41ea-891e-0679e6515feb button.colab-df-convert');\n",
              "      buttonEl.style.display =\n",
              "        google.colab.kernel.accessAllowed ? 'block' : 'none';\n",
              "\n",
              "      async function convertToInteractive(key) {\n",
              "        const element = document.querySelector('#df-4b4043af-9121-41ea-891e-0679e6515feb');\n",
              "        const dataTable =\n",
              "          await google.colab.kernel.invokeFunction('convertToInteractive',\n",
              "                                                    [key], {});\n",
              "        if (!dataTable) return;\n",
              "\n",
              "        const docLinkHtml = 'Like what you see? Visit the ' +\n",
              "          '<a target=\"_blank\" href=https://colab.research.google.com/notebooks/data_table.ipynb>data table notebook</a>'\n",
              "          + ' to learn more about interactive tables.';\n",
              "        element.innerHTML = '';\n",
              "        dataTable['output_type'] = 'display_data';\n",
              "        await google.colab.output.renderOutput(dataTable, element);\n",
              "        const docLink = document.createElement('div');\n",
              "        docLink.innerHTML = docLinkHtml;\n",
              "        element.appendChild(docLink);\n",
              "      }\n",
              "    </script>\n",
              "  </div>\n",
              "\n",
              "\n",
              "<div id=\"df-440e7b48-f1b1-4c27-8390-cbfe54f6e2f0\">\n",
              "  <button class=\"colab-df-quickchart\" onclick=\"quickchart('df-440e7b48-f1b1-4c27-8390-cbfe54f6e2f0')\"\n",
              "            title=\"Suggest charts\"\n",
              "            style=\"display:none;\">\n",
              "\n",
              "<svg xmlns=\"http://www.w3.org/2000/svg\" height=\"24px\"viewBox=\"0 0 24 24\"\n",
              "     width=\"24px\">\n",
              "    <g>\n",
              "        <path d=\"M19 3H5c-1.1 0-2 .9-2 2v14c0 1.1.9 2 2 2h14c1.1 0 2-.9 2-2V5c0-1.1-.9-2-2-2zM9 17H7v-7h2v7zm4 0h-2V7h2v10zm4 0h-2v-4h2v4z\"/>\n",
              "    </g>\n",
              "</svg>\n",
              "  </button>\n",
              "\n",
              "<style>\n",
              "  .colab-df-quickchart {\n",
              "      --bg-color: #E8F0FE;\n",
              "      --fill-color: #1967D2;\n",
              "      --hover-bg-color: #E2EBFA;\n",
              "      --hover-fill-color: #174EA6;\n",
              "      --disabled-fill-color: #AAA;\n",
              "      --disabled-bg-color: #DDD;\n",
              "  }\n",
              "\n",
              "  [theme=dark] .colab-df-quickchart {\n",
              "      --bg-color: #3B4455;\n",
              "      --fill-color: #D2E3FC;\n",
              "      --hover-bg-color: #434B5C;\n",
              "      --hover-fill-color: #FFFFFF;\n",
              "      --disabled-bg-color: #3B4455;\n",
              "      --disabled-fill-color: #666;\n",
              "  }\n",
              "\n",
              "  .colab-df-quickchart {\n",
              "    background-color: var(--bg-color);\n",
              "    border: none;\n",
              "    border-radius: 50%;\n",
              "    cursor: pointer;\n",
              "    display: none;\n",
              "    fill: var(--fill-color);\n",
              "    height: 32px;\n",
              "    padding: 0;\n",
              "    width: 32px;\n",
              "  }\n",
              "\n",
              "  .colab-df-quickchart:hover {\n",
              "    background-color: var(--hover-bg-color);\n",
              "    box-shadow: 0 1px 2px rgba(60, 64, 67, 0.3), 0 1px 3px 1px rgba(60, 64, 67, 0.15);\n",
              "    fill: var(--button-hover-fill-color);\n",
              "  }\n",
              "\n",
              "  .colab-df-quickchart-complete:disabled,\n",
              "  .colab-df-quickchart-complete:disabled:hover {\n",
              "    background-color: var(--disabled-bg-color);\n",
              "    fill: var(--disabled-fill-color);\n",
              "    box-shadow: none;\n",
              "  }\n",
              "\n",
              "  .colab-df-spinner {\n",
              "    border: 2px solid var(--fill-color);\n",
              "    border-color: transparent;\n",
              "    border-bottom-color: var(--fill-color);\n",
              "    animation:\n",
              "      spin 1s steps(1) infinite;\n",
              "  }\n",
              "\n",
              "  @keyframes spin {\n",
              "    0% {\n",
              "      border-color: transparent;\n",
              "      border-bottom-color: var(--fill-color);\n",
              "      border-left-color: var(--fill-color);\n",
              "    }\n",
              "    20% {\n",
              "      border-color: transparent;\n",
              "      border-left-color: var(--fill-color);\n",
              "      border-top-color: var(--fill-color);\n",
              "    }\n",
              "    30% {\n",
              "      border-color: transparent;\n",
              "      border-left-color: var(--fill-color);\n",
              "      border-top-color: var(--fill-color);\n",
              "      border-right-color: var(--fill-color);\n",
              "    }\n",
              "    40% {\n",
              "      border-color: transparent;\n",
              "      border-right-color: var(--fill-color);\n",
              "      border-top-color: var(--fill-color);\n",
              "    }\n",
              "    60% {\n",
              "      border-color: transparent;\n",
              "      border-right-color: var(--fill-color);\n",
              "    }\n",
              "    80% {\n",
              "      border-color: transparent;\n",
              "      border-right-color: var(--fill-color);\n",
              "      border-bottom-color: var(--fill-color);\n",
              "    }\n",
              "    90% {\n",
              "      border-color: transparent;\n",
              "      border-bottom-color: var(--fill-color);\n",
              "    }\n",
              "  }\n",
              "</style>\n",
              "\n",
              "  <script>\n",
              "    async function quickchart(key) {\n",
              "      const quickchartButtonEl =\n",
              "        document.querySelector('#' + key + ' button');\n",
              "      quickchartButtonEl.disabled = true;  // To prevent multiple clicks.\n",
              "      quickchartButtonEl.classList.add('colab-df-spinner');\n",
              "      try {\n",
              "        const charts = await google.colab.kernel.invokeFunction(\n",
              "            'suggestCharts', [key], {});\n",
              "      } catch (error) {\n",
              "        console.error('Error during call to suggestCharts:', error);\n",
              "      }\n",
              "      quickchartButtonEl.classList.remove('colab-df-spinner');\n",
              "      quickchartButtonEl.classList.add('colab-df-quickchart-complete');\n",
              "    }\n",
              "    (() => {\n",
              "      let quickchartButtonEl =\n",
              "        document.querySelector('#df-440e7b48-f1b1-4c27-8390-cbfe54f6e2f0 button');\n",
              "      quickchartButtonEl.style.display =\n",
              "        google.colab.kernel.accessAllowed ? 'block' : 'none';\n",
              "    })();\n",
              "  </script>\n",
              "</div>\n",
              "    </div>\n",
              "  </div>\n"
            ],
            "application/vnd.google.colaboratory.intrinsic+json": {
              "type": "dataframe"
            }
          },
          "metadata": {}
        },
        {
          "output_type": "stream",
          "name": "stdout",
          "text": [
            "date                                          0.000000\n",
            "rougher.input.feed_au                         0.000000\n",
            "rougher.input.feed_ag                         0.000000\n",
            "rougher.input.feed_pb                         0.005761\n",
            "rougher.input.feed_sol                        0.004527\n",
            "rougher.input.feed_rate                       0.000823\n",
            "rougher.input.feed_size                       0.009053\n",
            "rougher.input.floatbank10_sulfate             0.000617\n",
            "rougher.input.floatbank10_xanthate            0.000206\n",
            "rougher.state.floatbank10_a_air               0.000206\n",
            "rougher.state.floatbank10_a_level             0.000206\n",
            "rougher.state.floatbank10_b_air               0.000206\n",
            "rougher.state.floatbank10_b_level             0.000206\n",
            "rougher.state.floatbank10_c_air               0.000206\n",
            "rougher.state.floatbank10_c_level             0.000206\n",
            "rougher.state.floatbank10_d_air               0.000000\n",
            "rougher.state.floatbank10_d_level             0.000000\n",
            "rougher.state.floatbank10_e_air               0.001440\n",
            "rougher.state.floatbank10_e_level             0.000000\n",
            "rougher.state.floatbank10_f_air               0.000000\n",
            "rougher.state.floatbank10_f_level             0.000000\n",
            "rougher.input.floatbank11_sulfate             0.001646\n",
            "rougher.input.floatbank11_xanthate            0.009465\n",
            "primary_cleaner.input.sulfate                 0.000206\n",
            "primary_cleaner.input.depressant              0.001852\n",
            "primary_cleaner.input.feed_size               0.000000\n",
            "primary_cleaner.input.xanthate                0.008848\n",
            "primary_cleaner.state.floatbank8_a_air        0.000206\n",
            "primary_cleaner.state.floatbank8_a_level      0.000206\n",
            "primary_cleaner.state.floatbank8_b_air        0.000206\n",
            "primary_cleaner.state.floatbank8_b_level      0.000206\n",
            "primary_cleaner.state.floatbank8_c_air        0.000412\n",
            "primary_cleaner.state.floatbank8_c_level      0.000206\n",
            "primary_cleaner.state.floatbank8_d_air        0.000412\n",
            "primary_cleaner.state.floatbank8_d_level      0.000206\n",
            "secondary_cleaner.state.floatbank2_a_air      0.025926\n",
            "secondary_cleaner.state.floatbank2_a_level    0.000206\n",
            "secondary_cleaner.state.floatbank2_b_air      0.000206\n",
            "secondary_cleaner.state.floatbank2_b_level    0.000206\n",
            "secondary_cleaner.state.floatbank3_a_air      0.000206\n",
            "secondary_cleaner.state.floatbank3_a_level    0.000206\n",
            "secondary_cleaner.state.floatbank3_b_air      0.000206\n",
            "secondary_cleaner.state.floatbank3_b_level    0.000206\n",
            "secondary_cleaner.state.floatbank4_a_air      0.000206\n",
            "secondary_cleaner.state.floatbank4_a_level    0.000206\n",
            "secondary_cleaner.state.floatbank4_b_air      0.000206\n",
            "secondary_cleaner.state.floatbank4_b_level    0.000206\n",
            "secondary_cleaner.state.floatbank5_a_air      0.000206\n",
            "secondary_cleaner.state.floatbank5_a_level    0.000206\n",
            "secondary_cleaner.state.floatbank5_b_air      0.000206\n",
            "secondary_cleaner.state.floatbank5_b_level    0.000206\n",
            "secondary_cleaner.state.floatbank6_a_air      0.000206\n",
            "secondary_cleaner.state.floatbank6_a_level    0.000206\n",
            "dtype: float64\n",
            "Количество дубликатов: 0\n"
          ]
        }
      ],
      "source": [
        "data_info(df_test)"
      ]
    },
    {
      "cell_type": "markdown",
      "metadata": {
        "id": "DeZazbgKvrl7"
      },
      "source": [
        "Предоставлены три выборки full, train, test. Выборки разного размера. В выборке test отсутсвтуют целевые признаки. В данных присутствуют пропуски, дублкатов нет."
      ]
    },
    {
      "cell_type": "markdown",
      "metadata": {
        "id": "0cjZiH72vrl8"
      },
      "source": [
        "### Проверка расчётов эффективности обогащения"
      ]
    },
    {
      "cell_type": "markdown",
      "metadata": {
        "id": "ZULm2UbVvrl8"
      },
      "source": [
        "Эффективность обогащения рассчитывается по формуле\n",
        "Recovery = ((C*(F-T))/(F*(C-T))*100%\n",
        "\n",
        "где:\n",
        "\n",
        "C — доля золота в концентрате после флотации/очистки;\n",
        "\n",
        "F — доля золота в сырье/концентрате до флотации/очистки;\n",
        "\n",
        "T — доля золота в отвальных хвостах после флотации/очистки.\n",
        "\n",
        "Для прогноза коэффициента нужно найти долю золота в концентратах и хвостах. Причём важен не только финальный продукт, но и черновой концентрат."
      ]
    },
    {
      "cell_type": "code",
      "execution_count": 8,
      "metadata": {
        "id": "7YV2E_glvrl9"
      },
      "outputs": [],
      "source": [
        "# Вычислим эффективность обогащения на обучающей выборке\n",
        "C = df_train['rougher.output.concentrate_au']\n",
        "F = df_train['rougher.input.feed_au']\n",
        "T = df_train['rougher.output.tail_au']"
      ]
    },
    {
      "cell_type": "code",
      "execution_count": 9,
      "metadata": {
        "id": "Nu1IEBbFvrl9",
        "outputId": "3aaf6946-669a-4150-8ce2-b9d46c01e8fd",
        "colab": {
          "base_uri": "https://localhost:8080/"
        }
      },
      "outputs": [
        {
          "output_type": "execute_result",
          "data": {
            "text/plain": [
              "82.52"
            ]
          },
          "metadata": {},
          "execution_count": 9
        }
      ],
      "source": [
        "# Создадим новый столбец в котором будут храниться наши вычисления\n",
        "df_train['recovery_calc'] = ((C*(F-T))/(F*(C-T)))*100\n",
        "df_train['recovery_calc'].mean().round(2)"
      ]
    },
    {
      "cell_type": "code",
      "execution_count": 10,
      "metadata": {
        "id": "tG1cqporvrl9",
        "outputId": "1b87d761-c7f8-4bd4-fe72-bc08b890bcb2",
        "colab": {
          "base_uri": "https://localhost:8080/"
        }
      },
      "outputs": [
        {
          "output_type": "execute_result",
          "data": {
            "text/plain": [
              "82.52"
            ]
          },
          "metadata": {},
          "execution_count": 10
        }
      ],
      "source": [
        "# Сравним с признаком rougher.output.recovery\n",
        "df_train['rougher.output.recovery'].mean().round(2)"
      ]
    },
    {
      "cell_type": "code",
      "execution_count": 11,
      "metadata": {
        "id": "aG1SdhvMvrl-",
        "outputId": "272373cb-769e-4745-ee3e-18b133efed71",
        "colab": {
          "base_uri": "https://localhost:8080/"
        }
      },
      "outputs": [
        {
          "output_type": "execute_result",
          "data": {
            "text/plain": [
              "9.83758577644259e-15"
            ]
          },
          "metadata": {},
          "execution_count": 11
        }
      ],
      "source": [
        "# Рассчитаем MAE\n",
        "mean_absolute_error(df_train['recovery_calc'], df_train['rougher.output.recovery'])"
      ]
    },
    {
      "cell_type": "code",
      "execution_count": 12,
      "metadata": {
        "id": "1laxu1G9vrl-"
      },
      "outputs": [],
      "source": [
        "# Удалим столбец созданный для расчетов\n",
        "df_train.drop('recovery_calc', axis=1, inplace=True)"
      ]
    },
    {
      "cell_type": "markdown",
      "metadata": {
        "id": "tyLiPhRqvrl-"
      },
      "source": [
        "Расчитали эффективность обогащения и нашли среднее значение. При сравнении полученного значения и значения из датасета оказалось, что величины почти одинаковы. Значение MAE 9.84e-15. Это говорит о том, что эффективность обогащения рассчитана правильно."
      ]
    },
    {
      "cell_type": "markdown",
      "metadata": {
        "id": "0ZEYTc69vrl_"
      },
      "source": [
        "### Анализ признаков, недоступных в тестовой выборке"
      ]
    },
    {
      "cell_type": "code",
      "execution_count": 13,
      "metadata": {
        "scrolled": true,
        "id": "k8_wZLybvrl_",
        "outputId": "c7918879-a157-402f-dbe1-c7a94192d269",
        "colab": {
          "base_uri": "https://localhost:8080/"
        }
      },
      "outputs": [
        {
          "output_type": "execute_result",
          "data": {
            "text/plain": [
              "['final.output.concentrate_ag',\n",
              " 'final.output.concentrate_au',\n",
              " 'final.output.concentrate_pb',\n",
              " 'final.output.concentrate_sol',\n",
              " 'final.output.recovery',\n",
              " 'final.output.tail_ag',\n",
              " 'final.output.tail_au',\n",
              " 'final.output.tail_pb',\n",
              " 'final.output.tail_sol',\n",
              " 'primary_cleaner.output.concentrate_ag',\n",
              " 'primary_cleaner.output.concentrate_au',\n",
              " 'primary_cleaner.output.concentrate_pb',\n",
              " 'primary_cleaner.output.concentrate_sol',\n",
              " 'primary_cleaner.output.tail_ag',\n",
              " 'primary_cleaner.output.tail_au',\n",
              " 'primary_cleaner.output.tail_pb',\n",
              " 'primary_cleaner.output.tail_sol',\n",
              " 'rougher.calculation.au_pb_ratio',\n",
              " 'rougher.calculation.floatbank10_sulfate_to_au_feed',\n",
              " 'rougher.calculation.floatbank11_sulfate_to_au_feed',\n",
              " 'rougher.calculation.sulfate_to_au_concentrate',\n",
              " 'rougher.output.concentrate_ag',\n",
              " 'rougher.output.concentrate_au',\n",
              " 'rougher.output.concentrate_pb',\n",
              " 'rougher.output.concentrate_sol',\n",
              " 'rougher.output.recovery',\n",
              " 'rougher.output.tail_ag',\n",
              " 'rougher.output.tail_au',\n",
              " 'rougher.output.tail_pb',\n",
              " 'rougher.output.tail_sol',\n",
              " 'secondary_cleaner.output.tail_ag',\n",
              " 'secondary_cleaner.output.tail_au',\n",
              " 'secondary_cleaner.output.tail_pb',\n",
              " 'secondary_cleaner.output.tail_sol']"
            ]
          },
          "metadata": {},
          "execution_count": 13
        }
      ],
      "source": [
        "# Разница между df_train и df_test\n",
        "list(df_train.columns.difference(df_test.columns))"
      ]
    },
    {
      "cell_type": "markdown",
      "metadata": {
        "id": "1JIQSF19vrl_"
      },
      "source": [
        "В тестовой выборке отсутствуют 34 признака. Не хватает выходных параметров продукта output на всех этапах техпроцесса, а так же некоторых расчётных характеристик calculation."
      ]
    },
    {
      "cell_type": "markdown",
      "metadata": {
        "id": "e8sStc-_vrmA"
      },
      "source": [
        "### Обработка пропусков"
      ]
    },
    {
      "cell_type": "code",
      "execution_count": 14,
      "metadata": {
        "scrolled": true,
        "id": "vgITHQONvrmA",
        "outputId": "2a1fdf6d-557e-4d20-83da-8ff732b06a00",
        "colab": {
          "base_uri": "https://localhost:8080/",
          "height": 72
        }
      },
      "outputs": [
        {
          "output_type": "display_data",
          "data": {
            "text/plain": [
              "4481"
            ]
          },
          "metadata": {}
        },
        {
          "output_type": "display_data",
          "data": {
            "text/plain": [
              "3050"
            ]
          },
          "metadata": {}
        },
        {
          "output_type": "display_data",
          "data": {
            "text/plain": [
              "375"
            ]
          },
          "metadata": {}
        }
      ],
      "source": [
        "# Выведем информацию о пропусках для контроля\n",
        "display(sum(df_full.isna().sum()))\n",
        "display(sum(df_train.isna().sum()))\n",
        "display(sum(df_test.isna().sum()))"
      ]
    },
    {
      "cell_type": "code",
      "execution_count": 15,
      "metadata": {
        "id": "e1dx1IVavrmA"
      },
      "outputs": [],
      "source": [
        "# Обработаем пропуски методом ffill\n",
        "df_full = df_full.ffill()\n",
        "df_train = df_train.ffill()\n",
        "df_test = df_test.ffill()"
      ]
    },
    {
      "cell_type": "code",
      "execution_count": 16,
      "metadata": {
        "scrolled": true,
        "id": "4a4el49yvrmB",
        "outputId": "277a9258-1e23-41af-e31d-d7696604fcf6",
        "colab": {
          "base_uri": "https://localhost:8080/",
          "height": 72
        }
      },
      "outputs": [
        {
          "output_type": "display_data",
          "data": {
            "text/plain": [
              "0"
            ]
          },
          "metadata": {}
        },
        {
          "output_type": "display_data",
          "data": {
            "text/plain": [
              "0"
            ]
          },
          "metadata": {}
        },
        {
          "output_type": "display_data",
          "data": {
            "text/plain": [
              "0"
            ]
          },
          "metadata": {}
        }
      ],
      "source": [
        "# Проверим, что пропусков не осталось\n",
        "display(sum(df_full.isna().sum()))\n",
        "display(sum(df_train.isna().sum()))\n",
        "display(sum(df_test.isna().sum()))"
      ]
    },
    {
      "cell_type": "markdown",
      "metadata": {
        "id": "6fta92CvvrmB"
      },
      "source": [
        "### Выводы"
      ]
    },
    {
      "cell_type": "markdown",
      "metadata": {
        "id": "T8qHSWE3vrmC"
      },
      "source": [
        "Предоставлены три выборки full, train, test. Выборки разного размера. В выборке test отсутсвтуют целевые признаки. В данных присутствуют пропуски, дублкатов нет.\n",
        "\n",
        "* Расчитали эффективность обогащения и нашли среднее значение. При сравнении полученного значения и значения из датасета оказалось, что величины почти одинаковы. Значение MAE 9.84e-15. Это говорит о том, что эффективность обогащения рассчитана правильно.\n",
        "\n",
        "* В тестовой выборке отсутствуют 34 признака. Не хватает выходных параметров продукта output на всех этапах техпроцесса, а так же некоторых расчётных характеристик calculation.\n",
        "\n",
        "* Были обработаны пропуски."
      ]
    },
    {
      "cell_type": "markdown",
      "metadata": {
        "id": "qRlvVgLgvrmC"
      },
      "source": [
        "## Анализ данных"
      ]
    },
    {
      "cell_type": "markdown",
      "metadata": {
        "id": "MsFa7EzdvrmC"
      },
      "source": [
        "### Рассмотрим как меняется концентрация металлов (Au, Ag, Pb) на различных этапах: в сырье, в черновом концентрате, в концентрате после первой очистки и в финальном концентрате."
      ]
    },
    {
      "cell_type": "markdown",
      "metadata": {
        "id": "L5rdn0muvrmC"
      },
      "source": [
        "Отфильтруем даные:"
      ]
    },
    {
      "cell_type": "code",
      "execution_count": 17,
      "metadata": {
        "id": "ZHDApWFavrmD"
      },
      "outputs": [],
      "source": [
        "# для золота\n",
        "df_full_au = df_full[['rougher.output.concentrate_au',\n",
        "              'primary_cleaner.output.concentrate_au',\n",
        "              'final.output.concentrate_au']]\n",
        "\n",
        "# для серебра\n",
        "df_full_ag = df_full[['rougher.output.concentrate_ag',\n",
        "              'primary_cleaner.output.concentrate_ag',\n",
        "              'final.output.concentrate_ag']]\n",
        "\n",
        "# для свинца\n",
        "df_full_pb = df_full[['rougher.output.concentrate_pb',\n",
        "              'primary_cleaner.output.concentrate_pb',\n",
        "              'final.output.concentrate_pb']]"
      ]
    },
    {
      "cell_type": "markdown",
      "metadata": {
        "id": "_dwoZ-J9vrmD"
      },
      "source": [
        "Переименуем столбцы:"
      ]
    },
    {
      "cell_type": "code",
      "execution_count": 18,
      "metadata": {
        "id": "wAO7ROwFvrmD"
      },
      "outputs": [],
      "source": [
        "# для золота\n",
        "df_full_au = df_full_au.rename(columns={'rougher.output.concentrate_au': 'Флотация',\n",
        "                              'primary_cleaner.output.concentrate_au': 'Очистка1',\n",
        "                              'final.output.concentrate_au': 'Очистка2'})\n",
        "\n",
        "# для серебра\n",
        "df_full_ag = df_full_ag.rename(columns={'rougher.output.concentrate_ag': 'Флотация',\n",
        "                              'primary_cleaner.output.concentrate_ag': 'Очистка1',\n",
        "                              'final.output.concentrate_ag': 'Очистка2'})\n",
        "\n",
        "# для свинца\n",
        "df_full_pb = df_full_pb.rename(columns={'rougher.output.concentrate_pb': 'Флотация',\n",
        "                              'primary_cleaner.output.concentrate_pb': 'Очистка1',\n",
        "                              'final.output.concentrate_pb': 'Очистка2'})"
      ]
    },
    {
      "cell_type": "markdown",
      "metadata": {
        "id": "iNyxKIWOvrmE"
      },
      "source": [
        "Построим графики изменения концентрации металлов"
      ]
    },
    {
      "cell_type": "code",
      "execution_count": 19,
      "metadata": {
        "id": "wRJh9KYXvrmE",
        "outputId": "53f47028-ecaf-41f4-ae9e-c22b3b899d5c",
        "colab": {
          "base_uri": "https://localhost:8080/",
          "height": 305
        }
      },
      "outputs": [
        {
          "output_type": "display_data",
          "data": {
            "text/plain": [
              "<Figure size 2000x500 with 3 Axes>"
            ],
            "image/png": "[encoded data removed]"
          },
          "metadata": {}
        }
      ],
      "source": [
        "fig, (ax1, ax2, ax3) = plt.subplots(1, 3, figsize=(20, 5))\n",
        "\n",
        "df_full_au.mean().plot(ax=ax1, subplots=True, fontsize=16)\n",
        "ax1.set_title('Золото (Au)', fontsize=16)\n",
        "ax1.set_ylabel('Концентрация металла', fontsize=16)\n",
        "ax1.set_xlabel('Стадия очистки', fontsize=16)\n",
        "\n",
        "df_full_ag.mean().plot(ax=ax2, subplots=True, fontsize=16)\n",
        "ax2.set_title('Серебро (Ag)', fontsize=16)\n",
        "ax2.set_ylabel('Концентрация металла', fontsize=16)\n",
        "ax2.set_xlabel('Стадия очистки', fontsize=16)\n",
        "\n",
        "df_full_pb.mean().plot(ax=ax3, subplots=True, fontsize=16)\n",
        "ax3.set_title('Свинец (Pb)', fontsize=16)\n",
        "ax3.set_ylabel('Концентрация металла', fontsize=16)\n",
        "ax3.set_xlabel('Стадия очистки', fontsize=16)\n",
        "\n",
        "\n",
        "plt.suptitle('Графики изменения концентрации металлов', fontsize=20);"
      ]
    },
    {
      "cell_type": "markdown",
      "metadata": {
        "id": "hdwvwV3RvrmE"
      },
      "source": [
        "Концентрация золота с каждым этапом очистки увеличивается, концентрация серебра уменьшается, концентрация свинца  увеличивается после флотации и незначительно увеличивается после первого этапа очистки."
      ]
    },
    {
      "cell_type": "markdown",
      "metadata": {
        "id": "lBeUxMDpvrmF"
      },
      "source": [
        "###  Сравнение распределения размеров гранул исходного сырья на обучающей и тестовой выборках"
      ]
    },
    {
      "cell_type": "code",
      "source": [
        "# Построим график распределения размеров гранул\n",
        "\n",
        "plt.figure(figsize=(18, 6))\n",
        "\n",
        "sns.distplot(df_train['rougher.input.feed_size'], hist=True, kde=True,\n",
        "             bins=70, color='Gray',\n",
        "             hist_kws={'edgecolor': 'black'},\n",
        "             kde_kws={'linewidth': 2})\n",
        "\n",
        "sns.distplot(df_test['rougher.input.feed_size'], hist=True, kde=True,\n",
        "             bins=70, color='LightSeaGreen',\n",
        "             hist_kws={'edgecolor': 'black'},\n",
        "             kde_kws={'linewidth': 2}).set(title='Распределение размеров гранул',\n",
        "                                          xlabel='Размер гранул', ylabel='Частота')\n",
        "\n",
        "plt.xticks(fontsize=14)\n",
        "plt.yticks(fontsize=14)\n",
        "plt.title('Распределение размеров гранул', fontsize=16)\n",
        "plt.xlabel('Размер гранул', fontsize=14)\n",
        "plt.ylabel('Частота', fontsize=14)\n",
        "plt.show()"
      ],
      "metadata": {
        "colab": {
          "base_uri": "https://localhost:8080/",
          "height": 367
        },
        "id": "GJFcz0_ww7Ba",
        "outputId": "dcc7b5f4-e884-42fd-a454-cfc267666950"
      },
      "execution_count": 20,
      "outputs": [
        {
          "output_type": "display_data",
          "data": {
            "text/plain": [
              "<Figure size 1800x600 with 1 Axes>"
            ],
            "image/png": "[encoded data removed]"
          },
          "metadata": {}
        }
      ]
    },
    {
      "cell_type": "markdown",
      "metadata": {
        "id": "5IFNxUxjvrmG"
      },
      "source": [
        "Размеры гранул сырья на обучающей и тестовой выборках похожи, следовательно оценка модели должна быть корректна."
      ]
    },
    {
      "cell_type": "markdown",
      "metadata": {
        "id": "ap8SKymcvrmG"
      },
      "source": [
        "### Исследование суммарной концентрации металлов на разных стадиях"
      ]
    },
    {
      "cell_type": "markdown",
      "metadata": {
        "id": "JDvbDddwvrmG"
      },
      "source": [
        "Исследование суммарной концентрации металлов на разных стадиях: в сырье, в черновом концентрате, в концентрате после первой очистки и в финальном концентрате."
      ]
    },
    {
      "cell_type": "code",
      "execution_count": 21,
      "metadata": {
        "id": "6Pz0i3_MvrmH"
      },
      "outputs": [],
      "source": [
        "# Hайдем суммарную концентрацию металлов (Au, Ag, Pb) в сырье\n",
        "sum_feed_me = df_full[['rougher.input.feed_au',\n",
        "                   'rougher.input.feed_ag',\n",
        "                   'rougher.input.feed_pb']].sum(axis=1)\n",
        "\n",
        "# Hайдем суммарную концентрацию металлов (Au, Ag, Pb)  в черновом концентрате\n",
        "sum_rougher_concentrate_me = df_full[['rougher.output.concentrate_au',\n",
        "                   'rougher.output.concentrate_ag',\n",
        "                   'rougher.output.concentrate_pb']].sum(axis=1)\n",
        "\n",
        "# Hайдем суммарную концентрацию металлов (Au, Ag, Pb)  в концентрате после первой очистки\n",
        "sum_primary_cleaner_me = df_full[['primary_cleaner.output.concentrate_au',\n",
        "                   'primary_cleaner.output.concentrate_ag',\n",
        "                   'primary_cleaner.output.concentrate_pb']].sum(axis=1)\n",
        "\n",
        "# Hайдем суммарную концентрацию металлов (Au, Ag, Pb) в финальном концентрате\n",
        "sum_final_me = df_full[['final.output.concentrate_au',\n",
        "                   'final.output.concentrate_ag',\n",
        "                   'final.output.concentrate_pb']].sum(axis=1)"
      ]
    },
    {
      "cell_type": "code",
      "execution_count": 22,
      "metadata": {
        "id": "IBIdLokYvrmH",
        "outputId": "eca446ec-882e-4305-d2b8-f6029cf21359",
        "colab": {
          "base_uri": "https://localhost:8080/",
          "height": 575
        }
      },
      "outputs": [
        {
          "output_type": "display_data",
          "data": {
            "text/plain": [
              "<Figure size 1200x700 with 4 Axes>"
            ],
            "image/png": "[encoded data removed]"
          },
          "metadata": {}
        }
      ],
      "source": [
        "# Построим графики\n",
        "f, axes = plt.subplots(2, 2, figsize=(12, 7), sharex=False)\n",
        "\n",
        "sns.distplot(sum_feed_me, hist=True, kde=True,\n",
        "             bins=30, color = 'LightSeaGreen',\n",
        "             hist_kws={'edgecolor':'black'},\n",
        "             kde_kws={'linewidth': 2},\n",
        "             ax=axes[0, 0],).set(title='В сырье')\n",
        "\n",
        "sns.distplot(sum_rougher_concentrate_me, hist=True, kde=True,\n",
        "             bins=30, color = 'LightSeaGreen',\n",
        "             hist_kws={'edgecolor':'black'},\n",
        "             kde_kws={'linewidth': 2},\n",
        "             ax=axes[0, 1]).set(title='В черновом концентрате')\n",
        "\n",
        "sns.distplot(sum_primary_cleaner_me, hist=True, kde=True,\n",
        "             bins=30, color = 'LightSeaGreen',\n",
        "             hist_kws={'edgecolor':'black'},\n",
        "             kde_kws={'linewidth': 2},\n",
        "             ax=axes[1, 0]).set(title='В концентрате после первой очистки')\n",
        "\n",
        "sns.distplot(sum_final_me, hist=True, kde=True,\n",
        "             bins=30, color = 'LightSeaGreen',\n",
        "             hist_kws={'edgecolor':'black'},\n",
        "             kde_kws={'linewidth': 2},\n",
        "             ax=axes[1, 1]).set(title='В финальном концентрате');"
      ]
    },
    {
      "cell_type": "markdown",
      "metadata": {
        "id": "CC0HKQL_vrmI"
      },
      "source": [
        "Было рассмотрено суммарное содержание металлов на разных стадиях технологического процесса. В черновом концентрате, в концентрате после первой очистки и в финальном концентрате наблюдаются аномалии. Суммарная концентрация растет от стадии к стадии."
      ]
    },
    {
      "cell_type": "code",
      "source": [
        "def remove_less_than_1(df, columns):\n",
        "    return df.drop(index=df[df[columns].lt(1).any(axis=1)].index, axis=0)\n",
        "\n",
        "# Столбцы для проверки в df_train\n",
        "columns_to_check_train = [\n",
        "    'rougher.input.feed_au', 'rougher.input.feed_ag', 'rougher.input.feed_pb',\n",
        "    'rougher.output.concentrate_au', 'rougher.output.concentrate_ag', 'rougher.output.concentrate_pb',\n",
        "    'primary_cleaner.output.concentrate_au', 'primary_cleaner.output.concentrate_ag', 'primary_cleaner.output.concentrate_pb',\n",
        "    'final.output.concentrate_au', 'final.output.concentrate_ag', 'final.output.concentrate_pb'\n",
        "]\n",
        "\n",
        "# Столбцы для проверки в df_test\n",
        "columns_to_check_test = [\n",
        "    'rougher.input.feed_au', 'rougher.input.feed_ag', 'rougher.input.feed_pb'\n",
        "]\n",
        "\n",
        "# Удаляем строки с содержанием металлов меньше 1 в df_train\n",
        "df_train = remove_less_than_1(df_train, columns_to_check_train)\n",
        "\n",
        "# Удаляем строки с содержанием металлов меньше 1 в df_test\n",
        "df_test = remove_less_than_1(df_test, columns_to_check_test)"
      ],
      "metadata": {
        "id": "CKwdqIOM24Yb"
      },
      "execution_count": 23,
      "outputs": []
    },
    {
      "cell_type": "code",
      "source": [
        "# Удаление строк с содержанием металлов меньше 1 в df_train\n",
        "df_train = remove_less_than_1(df_train, columns_to_check_train)\n",
        "\n",
        "# Удаление строк с содержанием металлов меньше 1 в df_test\n",
        "df_test = remove_less_than_1(df_test, columns_to_check_test)"
      ],
      "metadata": {
        "id": "uqyt0KNh25Vi"
      },
      "execution_count": 24,
      "outputs": []
    },
    {
      "cell_type": "markdown",
      "metadata": {
        "id": "vKOkM7B2vrmL"
      },
      "source": [
        "### Выводы\n",
        "\n",
        "*  Было рассмотрено как меняется концентрация металлов (Au, Ag, Pb) на различных этапах очистки. Оказалось, что концентрация золота с каждым этапом очистки увеличивается, концентрация серебра уменьшается, концентрация свинца увеличивается после флотации и незначительно увеличивается после первого этапа очистки.\n",
        "* Показано, что размеры гранул сырья на обучающей и тестовой выборках похожи, следовательно оценка модели должна быть корректна.\n",
        "* Было рассмотрено суммарное содержание металлов на разных стадиях технологического процесса. В черновом концентрате, в концентрате после первой очистки и в финальном концентрате наблюдаются аномалии. Суммарная концентрация растет от стадии к стадии."
      ]
    },
    {
      "cell_type": "markdown",
      "metadata": {
        "id": "Zm0WIV_XvrmL"
      },
      "source": [
        "## Модель"
      ]
    },
    {
      "cell_type": "markdown",
      "metadata": {
        "id": "A51BpQNhvrmM"
      },
      "source": [
        "### Вычисление итогового значения sMAPE"
      ]
    },
    {
      "cell_type": "markdown",
      "metadata": {
        "id": "dAyHU27CvrmM"
      },
      "source": [
        "Cимметричная средняя абсолютная процентная ошибка (Symmetric Mean Absolute Percentage Error) — это мера точности, основанная на процентных (или относительных) ошибках."
      ]
    },
    {
      "cell_type": "code",
      "execution_count": 25,
      "metadata": {
        "id": "oLB4osnUvrmN"
      },
      "outputs": [],
      "source": [
        "# Функция для рассчета smape\n",
        "def smape(target, predictions):\n",
        "    i = np.abs(target-predictions)\n",
        "    j =(np.abs(target)+ np.abs(predictions))*0.5\n",
        "    output = np.divide(i, j)\n",
        "    output_scores = np.average(output[j != 0], axis=0)\n",
        "\n",
        "    return output_scores * 100"
      ]
    },
    {
      "cell_type": "code",
      "execution_count": 26,
      "metadata": {
        "id": "MEI0iBJUvrmN"
      },
      "outputs": [],
      "source": [
        "# Функция для рассчета smape по реальным значениям целевых признаков и предсказаниям моделей\n",
        "def final_smape(smape_rougher, smape_final):\n",
        "    return 0.25 * smape_rougher + 0.75 * smape_final"
      ]
    },
    {
      "cell_type": "markdown",
      "metadata": {
        "id": "S4Ojp1SlvrmO"
      },
      "source": [
        "### Обучение моделей и оценка их качества кросс-валидацией"
      ]
    },
    {
      "cell_type": "markdown",
      "metadata": {
        "id": "vmTFe5UAvrmO"
      },
      "source": [
        "Обучим разные модели и оцените их качество кросс-валидацией. Выберите лучшую модель и проверьте её на тестовой выборке."
      ]
    },
    {
      "cell_type": "markdown",
      "metadata": {
        "id": "yvLuZjESvrmO"
      },
      "source": [
        "Тестовая выборка не полная, подготовим ее для использования в обучении."
      ]
    },
    {
      "cell_type": "code",
      "execution_count": 27,
      "metadata": {
        "id": "mhKGaqqSvrmO"
      },
      "outputs": [],
      "source": [
        "# Создадим датасет с целевыми признаками\n",
        "df_target = df_full[['date', 'rougher.output.recovery', 'final.output.recovery']]\n",
        "\n",
        "# Соединим с тестовой выборкой\n",
        "df_test = df_test.merge(df_target, how='left', on='date')\n",
        "\n",
        "# Удалим столбец с датами\n",
        "df_test.drop(['date'], axis=1, inplace=True)\n",
        "\n",
        "# Удалим из тренировочной выборки признаки отсутствующие в тестовой\n",
        "df_train = df_train.drop(set(df_train.columns)-set(df_test.columns), axis=1)"
      ]
    },
    {
      "cell_type": "markdown",
      "metadata": {
        "id": "Gt_eP4V6vrmP"
      },
      "source": [
        "Подготовим признаки:"
      ]
    },
    {
      "cell_type": "code",
      "execution_count": 28,
      "metadata": {
        "id": "E2KQs0LJvrmP"
      },
      "outputs": [],
      "source": [
        "# для чернового концентрата (тренировочная)\n",
        "features_train_rougher = df_train.filter(regex='^rougher',axis=1)\n",
        "features_train_rougher = features_train_rougher.drop(['rougher.output.recovery'], axis=1)\n",
        "target_train_rougher = df_train['rougher.output.recovery']\n",
        "\n",
        "# для финального концентрата (тренировочная)\n",
        "features_train_final = df_train.drop(['rougher.output.recovery', 'final.output.recovery'], axis=1)\n",
        "target_train_final = df_train['final.output.recovery']\n",
        "\n",
        "# для чернового концентрата (тестовая)\n",
        "features_test_rougher = df_test.filter(regex='^rougher',axis=1)\n",
        "features_test_rougher = features_test_rougher.drop(['rougher.output.recovery'], axis=1)\n",
        "target_test_rougher = df_test['rougher.output.recovery']\n",
        "\n",
        "#  для финального концентрата (тестовая)\n",
        "features_test_final = df_test.drop(['rougher.output.recovery', 'final.output.recovery'], axis=1)\n",
        "target_test_final = df_test['final.output.recovery']"
      ]
    },
    {
      "cell_type": "code",
      "execution_count": 29,
      "metadata": {
        "id": "jMDt3uy8vrmQ"
      },
      "outputs": [],
      "source": [
        "# Зафиксируем параметр random state\n",
        "RANDOM_STATE = 12345"
      ]
    },
    {
      "cell_type": "markdown",
      "metadata": {
        "id": "IT7PXWnOvrmQ"
      },
      "source": [
        "#### DecisionTreeRegressor"
      ]
    },
    {
      "cell_type": "code",
      "execution_count": 30,
      "metadata": {
        "id": "VPwRHEOMvrmQ",
        "outputId": "74a0da9c-9660-4ef0-e0ae-140749e75424",
        "colab": {
          "base_uri": "https://localhost:8080/"
        }
      },
      "outputs": [
        {
          "output_type": "stream",
          "name": "stdout",
          "text": [
            "Глубина: 1\n",
            "Итоговое sMAPE: 8.46 %\n",
            "\n",
            "Глубина: 3\n",
            "Итоговое sMAPE: 8.33 %\n",
            "\n",
            "Глубина: 5\n",
            "Итоговое sMAPE: 8.80 %\n",
            "\n",
            "Глубина: 7\n",
            "Итоговое sMAPE: 10.53 %\n",
            "\n",
            "Глубина: 9\n",
            "Итоговое sMAPE: 11.27 %\n",
            "\n",
            "Глубина: 11\n",
            "Итоговое sMAPE: 12.71 %\n",
            "\n"
          ]
        }
      ],
      "source": [
        "# построим модель и сделаем кросс-валидацию\n",
        "for depth in range(1, 12, 2):\n",
        "    dtr_model = DecisionTreeRegressor(random_state=RANDOM_STATE, max_depth = depth)\n",
        "    scorer = make_scorer(smape, greater_is_better=False)\n",
        "    dtr_rougher = abs(cross_val_score(dtr_model, features_train_rougher, target_train_rougher, scoring=scorer, cv=5))\n",
        "    dtr_final = abs(cross_val_score(dtr_model, features_train_final, target_train_final, scoring=scorer, cv=5))\n",
        "    print('Глубина:', depth)\n",
        "    print('Итоговое sMAPE: {:.2f} %'.format(final_smape(dtr_rougher, dtr_final).mean()))\n",
        "    print('')"
      ]
    },
    {
      "cell_type": "markdown",
      "metadata": {
        "id": "5lLmZHISvrmR"
      },
      "source": [
        "#### LinearRegression"
      ]
    },
    {
      "cell_type": "code",
      "execution_count": 31,
      "metadata": {
        "id": "I_4xdQlivrmR",
        "outputId": "d255d006-05b5-49ec-adc3-139c03c17901",
        "colab": {
          "base_uri": "https://localhost:8080/"
        }
      },
      "outputs": [
        {
          "output_type": "stream",
          "name": "stdout",
          "text": [
            "Итоговое sMape: 8.66 %\n"
          ]
        }
      ],
      "source": [
        "# построим модель и сделаем кросс-валидацию\n",
        "lr_model = LinearRegression()\n",
        "scorer = make_scorer(smape, greater_is_better=False)\n",
        "lr_rougher = abs(cross_val_score(lr_model, features_train_rougher, target_train_rougher, scoring=scorer, cv=5))\n",
        "lr_final =  abs(cross_val_score(lr_model, features_train_final, target_train_final, scoring=scorer, cv=5))\n",
        "print('Итоговое sMape: {:.2f} %'.format(final_smape(lr_rougher, lr_final).mean()))"
      ]
    },
    {
      "cell_type": "markdown",
      "metadata": {
        "id": "pjGseyQQvrmS"
      },
      "source": [
        "Лучшее значение sMAPE у модели DecisionTreeRegressor 8.33 % на глубине 3."
      ]
    },
    {
      "cell_type": "markdown",
      "metadata": {
        "id": "RW0VoRKwvrmS"
      },
      "source": [
        "### Проверим модель  DecisionTreeRegressor на тестовой выборке"
      ]
    },
    {
      "cell_type": "code",
      "execution_count": 32,
      "metadata": {
        "id": "Flt5S9TnvrmS",
        "outputId": "54eafc16-7f44-46f6-ac91-cd882e5f8677",
        "colab": {
          "base_uri": "https://localhost:8080/"
        }
      },
      "outputs": [
        {
          "output_type": "stream",
          "name": "stdout",
          "text": [
            "Итоговое sMAPE: 8.08 %\n"
          ]
        }
      ],
      "source": [
        "dtr_model_rougher = DecisionTreeRegressor(random_state=RANDOM_STATE, max_depth = 1)\n",
        "dtr_model_final = DecisionTreeRegressor(random_state=RANDOM_STATE, max_depth = 1)\n",
        "\n",
        "dtr_model_rougher.fit(features_train_rougher, target_train_rougher)\n",
        "dtr_model_final.fit(features_train_final, target_train_final)\n",
        "\n",
        "test_predictions_rougher = dtr_model_rougher.predict(features_test_rougher)\n",
        "test_predictions_final = dtr_model_final.predict(features_test_final)\n",
        "\n",
        "print('Итоговое sMAPE: {:.2f} %'.format(final_smape(smape(target_test_rougher, test_predictions_rougher),\n",
        "                        smape(target_test_final, test_predictions_final))))"
      ]
    },
    {
      "cell_type": "code",
      "execution_count": 33,
      "metadata": {
        "id": "_IehYga3vrmT",
        "outputId": "83f86908-7142-45fe-e5dd-77fd2f7f6d0d",
        "colab": {
          "base_uri": "https://localhost:8080/"
        }
      },
      "outputs": [
        {
          "output_type": "stream",
          "name": "stdout",
          "text": [
            "Итоговое sMAPE: 8.40 %\n"
          ]
        }
      ],
      "source": [
        "# Сравним полученную модель с константной\n",
        "dummy_model_rougher = DummyRegressor(strategy=\"mean\")\n",
        "dummy_model_final = DummyRegressor(strategy=\"mean\")\n",
        "dummy_model_rougher.fit(features_train_rougher, target_train_rougher)\n",
        "dummy_model_final.fit(features_train_final, target_train_final)\n",
        "test_predictions_rougher = dummy_model_rougher.predict(features_test_rougher)\n",
        "test_predictions_final = dummy_model_final.predict(features_test_final)\n",
        "\n",
        "print('Итоговое sMAPE: {:.2f} %'.format(final_smape(smape(target_test_rougher, test_predictions_rougher),\n",
        "                        smape(target_test_final, test_predictions_final))))"
      ]
    },
    {
      "cell_type": "markdown",
      "metadata": {
        "id": "wC1e9e8lvrmT"
      },
      "source": [
        "Итоговое значение sMAPE для полученное на тестовой выборке на ~1% меньше, чем на константной модели."
      ]
    },
    {
      "cell_type": "markdown",
      "metadata": {
        "id": "iP79nGukvrmU"
      },
      "source": [
        "### Выводы\n",
        "\n",
        "* Была написана функция для вычисления итоговой sMAPE (симметричной средней абсолютной процентной ошибки).\n",
        "* Были обучены модели LinearRegression и DecisionTreeRegressor.\n",
        "* Лучшее значение sMAPE у модели DecisionTreeRegressor 8.33 % на глубине 3.\n",
        "* Модель была проверена на тестовой выборке. Итоговое значение sMAPE для полученное на тестовой выборке на 1% меньше, чем на константной модели."
      ]
    },
    {
      "cell_type": "markdown",
      "metadata": {
        "id": "jnx6I_gxvrmU"
      },
      "source": [
        "## Выводы"
      ]
    },
    {
      "cell_type": "markdown",
      "metadata": {
        "id": "IN12etsxvrmV"
      },
      "source": [
        "Произведен анализ данных техпроцесса получения золота из руды.\n",
        "\n",
        "**Подготовка данных**\n",
        "\n",
        "* Были предоставлены три выборки full, train, test. Выборки разного размера. В выборке test отсутсвтуют целевые признаки. В данных присутствуют пропуски, дублкатов нет.\n",
        "\n",
        "* Расчитали эффективность обогащения и нашли среднее значение. При сравнении полученного значения и значения из датасета оказалось, что величины почти одинаковы. Значение MAE 9.84e-15. Это говорит о том, что эффективность обогащения рассчитана правильно.\n",
        "\n",
        "* В тестовой выборке отсутствуют 34 признака. Не хватает выходных параметров продукта output на всех этапах техпроцесса, а так же некоторых расчётных характеристик calculation.\n",
        "\n",
        "**Анализ данных**\n",
        "* Было показано, что концентрация золота с каждым этапом очистки увеличивается, концентрация серебра уменьшается, концентрация свинца увеличивается после флотации и незначительно увеличивается после первого этапа очистки.\n",
        "\n",
        "* Сравнили распределения размеров гранул исходного сырья на обучающей и тестовой выборках. Размеры гранул сырья  похожи, следовательно оценка модели должна быть корректна.\n",
        "\n",
        "* Было рассмотрено суммарное содержание металлов на разных стадиях технологического процесса. В черновом концентрате, в концентрате после первой очистки и в финальном концентрате наблюдаются аномалии. Суммарная концентрация веществ растет от стадии к стадии.\n",
        "\n",
        "**Построение модели**\n",
        "* Была написана функция для вычисления итоговой sMAPE (симметричной средней абсолютной процентной ошибки).\n",
        "\n",
        "* Были обучены модели LinearRegression и DecisionTreeRegressor.\n",
        "\n",
        "* Лучшее значение sMAPE у модели DecisionTreeRegressor 8.33 % на глубине 3.\n",
        "\n",
        "* Модель была проверена на тестовой выборке. Итоговое значение sMAPE для полученное на тестовой выборке на 1% меньше, чем на константной модели."
      ]
    }
  ],
  "metadata": {
    "ExecuteTimeLog": [
      {
        "duration": 1602,
        "start_time": "2023-05-14T16:34:30.360Z"
      },
      {
        "duration": 146,
        "start_time": "2023-05-14T16:34:31.964Z"
      },
      {
        "duration": 47,
        "start_time": "2023-05-14T16:35:17.406Z"
      },
      {
        "duration": 4,
        "start_time": "2023-05-14T16:35:58.541Z"
      },
      {
        "duration": 46,
        "start_time": "2023-05-14T16:35:59.227Z"
      },
      {
        "duration": 72,
        "start_time": "2023-05-14T16:36:28.679Z"
      },
      {
        "duration": 49,
        "start_time": "2023-05-14T16:36:33.246Z"
      },
      {
        "duration": 4,
        "start_time": "2023-05-14T16:36:48.996Z"
      },
      {
        "duration": 43,
        "start_time": "2023-05-14T16:36:52.024Z"
      },
      {
        "duration": 51,
        "start_time": "2023-05-14T16:46:26.300Z"
      },
      {
        "duration": 66,
        "start_time": "2023-05-14T16:47:28.827Z"
      },
      {
        "duration": 6,
        "start_time": "2023-05-14T16:49:44.401Z"
      },
      {
        "duration": 47,
        "start_time": "2023-05-14T16:49:45.088Z"
      },
      {
        "duration": 6,
        "start_time": "2023-05-14T16:50:32.428Z"
      },
      {
        "duration": 55,
        "start_time": "2023-05-14T16:50:33.118Z"
      },
      {
        "duration": 834,
        "start_time": "2023-05-14T16:50:49.887Z"
      },
      {
        "duration": 2990,
        "start_time": "2023-05-14T17:28:12.875Z"
      },
      {
        "duration": 3,
        "start_time": "2023-05-14T17:31:22.730Z"
      },
      {
        "duration": 733,
        "start_time": "2023-05-14T17:32:31.658Z"
      },
      {
        "duration": 3,
        "start_time": "2023-05-14T17:46:51.651Z"
      },
      {
        "duration": 169,
        "start_time": "2023-05-14T17:47:34.154Z"
      },
      {
        "duration": 3,
        "start_time": "2023-05-14T17:49:17.327Z"
      },
      {
        "duration": 118,
        "start_time": "2023-05-14T17:49:20.687Z"
      },
      {
        "duration": 145,
        "start_time": "2023-05-14T17:49:43.900Z"
      },
      {
        "duration": 129,
        "start_time": "2023-05-14T17:49:51.865Z"
      },
      {
        "duration": 3,
        "start_time": "2023-05-14T17:50:29.788Z"
      },
      {
        "duration": 18,
        "start_time": "2023-05-14T17:50:30.419Z"
      },
      {
        "duration": 3,
        "start_time": "2023-05-14T17:51:45.816Z"
      },
      {
        "duration": 12,
        "start_time": "2023-05-14T17:51:46.435Z"
      },
      {
        "duration": 3,
        "start_time": "2023-05-14T17:51:51.688Z"
      },
      {
        "duration": 12,
        "start_time": "2023-05-14T17:51:52.431Z"
      },
      {
        "duration": 3,
        "start_time": "2023-05-14T17:52:10.802Z"
      },
      {
        "duration": 30,
        "start_time": "2023-05-14T17:52:11.466Z"
      },
      {
        "duration": 3,
        "start_time": "2023-05-14T17:52:19.274Z"
      },
      {
        "duration": 44,
        "start_time": "2023-05-14T17:52:23.031Z"
      },
      {
        "duration": 4,
        "start_time": "2023-05-14T17:53:01.651Z"
      },
      {
        "duration": 142,
        "start_time": "2023-05-14T17:53:03.767Z"
      },
      {
        "duration": 4,
        "start_time": "2023-05-14T17:53:24.052Z"
      },
      {
        "duration": 116,
        "start_time": "2023-05-14T17:53:24.816Z"
      },
      {
        "duration": 3,
        "start_time": "2023-05-14T17:53:28.393Z"
      },
      {
        "duration": 120,
        "start_time": "2023-05-14T17:53:28.910Z"
      },
      {
        "duration": 9,
        "start_time": "2023-05-14T17:55:24.842Z"
      },
      {
        "duration": 10,
        "start_time": "2023-05-14T17:56:06.581Z"
      },
      {
        "duration": 9,
        "start_time": "2023-05-14T17:56:13.498Z"
      },
      {
        "duration": 3,
        "start_time": "2023-05-14T18:17:51.698Z"
      },
      {
        "duration": 110,
        "start_time": "2023-05-14T18:17:52.783Z"
      },
      {
        "duration": 112,
        "start_time": "2023-05-14T18:18:31.421Z"
      },
      {
        "duration": 13,
        "start_time": "2023-05-14T18:18:50.955Z"
      },
      {
        "duration": 3,
        "start_time": "2023-05-14T18:19:00.469Z"
      },
      {
        "duration": 13,
        "start_time": "2023-05-14T18:19:01.178Z"
      },
      {
        "duration": 3,
        "start_time": "2023-05-14T18:19:08.264Z"
      },
      {
        "duration": 13,
        "start_time": "2023-05-14T18:19:08.714Z"
      },
      {
        "duration": 3,
        "start_time": "2023-05-14T18:19:26.827Z"
      },
      {
        "duration": 12,
        "start_time": "2023-05-14T18:19:27.232Z"
      },
      {
        "duration": 4,
        "start_time": "2023-05-14T18:19:45.751Z"
      },
      {
        "duration": 811,
        "start_time": "2023-05-14T18:19:46.132Z"
      },
      {
        "duration": 4,
        "start_time": "2023-05-14T18:19:47.775Z"
      },
      {
        "duration": 143,
        "start_time": "2023-05-14T18:19:49.327Z"
      },
      {
        "duration": 4,
        "start_time": "2023-05-14T18:19:54.840Z"
      },
      {
        "duration": 753,
        "start_time": "2023-05-14T18:19:55.222Z"
      },
      {
        "duration": 3,
        "start_time": "2023-05-14T18:19:56.414Z"
      },
      {
        "duration": 125,
        "start_time": "2023-05-14T18:19:56.910Z"
      },
      {
        "duration": 146,
        "start_time": "2023-05-14T18:20:28.150Z"
      },
      {
        "duration": 50,
        "start_time": "2023-05-14T18:20:33.820Z"
      },
      {
        "duration": 8,
        "start_time": "2023-05-15T07:39:04.705Z"
      },
      {
        "duration": 53,
        "start_time": "2023-05-15T07:39:05.384Z"
      },
      {
        "duration": 1939,
        "start_time": "2023-05-15T07:39:14.722Z"
      },
      {
        "duration": 2439,
        "start_time": "2023-05-15T07:39:16.666Z"
      },
      {
        "duration": 3,
        "start_time": "2023-05-15T07:39:19.108Z"
      },
      {
        "duration": 448,
        "start_time": "2023-05-15T07:39:20.494Z"
      },
      {
        "duration": 4,
        "start_time": "2023-05-15T07:39:30.521Z"
      },
      {
        "duration": 486,
        "start_time": "2023-05-15T07:39:36.714Z"
      },
      {
        "duration": 4,
        "start_time": "2023-05-15T07:39:56.819Z"
      },
      {
        "duration": 406,
        "start_time": "2023-05-15T07:42:42.681Z"
      },
      {
        "duration": 482,
        "start_time": "2023-05-15T07:42:56.518Z"
      },
      {
        "duration": 220,
        "start_time": "2023-05-15T07:42:57.002Z"
      },
      {
        "duration": 314,
        "start_time": "2023-05-15T07:42:57.330Z"
      },
      {
        "duration": 4,
        "start_time": "2023-05-15T08:48:10.588Z"
      },
      {
        "duration": 859,
        "start_time": "2023-05-15T08:48:10.988Z"
      },
      {
        "duration": 4,
        "start_time": "2023-05-15T08:48:11.849Z"
      },
      {
        "duration": 399,
        "start_time": "2023-05-15T08:48:11.854Z"
      },
      {
        "duration": 389,
        "start_time": "2023-05-15T08:48:12.256Z"
      },
      {
        "duration": 187,
        "start_time": "2023-05-15T08:48:12.647Z"
      },
      {
        "duration": 3,
        "start_time": "2023-05-15T10:08:25.058Z"
      },
      {
        "duration": 11,
        "start_time": "2023-05-15T10:08:25.605Z"
      },
      {
        "duration": 87,
        "start_time": "2023-05-15T10:08:49.332Z"
      },
      {
        "duration": 6,
        "start_time": "2023-05-15T10:08:57.312Z"
      },
      {
        "duration": 11,
        "start_time": "2023-05-15T10:17:01.444Z"
      },
      {
        "duration": 5,
        "start_time": "2023-05-15T10:17:14.629Z"
      },
      {
        "duration": 6,
        "start_time": "2023-05-15T10:17:20.750Z"
      },
      {
        "duration": 10,
        "start_time": "2023-05-15T10:31:34.029Z"
      },
      {
        "duration": 3,
        "start_time": "2023-05-15T10:31:46.571Z"
      },
      {
        "duration": 7,
        "start_time": "2023-05-15T10:31:47.084Z"
      },
      {
        "duration": 4,
        "start_time": "2023-05-15T10:31:47.905Z"
      },
      {
        "duration": 6,
        "start_time": "2023-05-15T10:31:48.603Z"
      },
      {
        "duration": 12,
        "start_time": "2023-05-15T10:31:49.379Z"
      },
      {
        "duration": 5,
        "start_time": "2023-05-15T10:38:23.689Z"
      },
      {
        "duration": 15,
        "start_time": "2023-05-15T10:40:25.155Z"
      },
      {
        "duration": 10,
        "start_time": "2023-05-15T10:40:44.703Z"
      },
      {
        "duration": 12,
        "start_time": "2023-05-15T10:40:50.070Z"
      },
      {
        "duration": 6,
        "start_time": "2023-05-15T10:40:58.552Z"
      },
      {
        "duration": 14,
        "start_time": "2023-05-15T11:31:48.516Z"
      },
      {
        "duration": 9,
        "start_time": "2023-05-15T11:32:54.358Z"
      },
      {
        "duration": 3,
        "start_time": "2023-05-15T11:33:03.037Z"
      },
      {
        "duration": 27,
        "start_time": "2023-05-15T11:33:03.516Z"
      },
      {
        "duration": 5,
        "start_time": "2023-05-15T11:37:24.207Z"
      },
      {
        "duration": 835,
        "start_time": "2023-05-15T11:37:24.619Z"
      },
      {
        "duration": 3,
        "start_time": "2023-05-15T11:37:25.456Z"
      },
      {
        "duration": 352,
        "start_time": "2023-05-15T11:37:25.604Z"
      },
      {
        "duration": 357,
        "start_time": "2023-05-15T11:37:26.229Z"
      },
      {
        "duration": 281,
        "start_time": "2023-05-15T11:37:26.848Z"
      },
      {
        "duration": 3,
        "start_time": "2023-05-15T11:37:28.714Z"
      },
      {
        "duration": 10,
        "start_time": "2023-05-15T11:37:29.152Z"
      },
      {
        "duration": 6,
        "start_time": "2023-05-15T11:37:29.378Z"
      },
      {
        "duration": 6,
        "start_time": "2023-05-15T11:37:29.771Z"
      },
      {
        "duration": 10,
        "start_time": "2023-05-15T11:37:30.053Z"
      },
      {
        "duration": 15,
        "start_time": "2023-05-15T11:37:31.797Z"
      },
      {
        "duration": 2,
        "start_time": "2023-05-15T11:37:34.891Z"
      },
      {
        "duration": 35,
        "start_time": "2023-05-15T11:37:35.710Z"
      },
      {
        "duration": 4,
        "start_time": "2023-05-15T11:37:49.674Z"
      },
      {
        "duration": 806,
        "start_time": "2023-05-15T11:37:50.089Z"
      },
      {
        "duration": 5,
        "start_time": "2023-05-15T11:37:50.905Z"
      },
      {
        "duration": 401,
        "start_time": "2023-05-15T11:37:50.913Z"
      },
      {
        "duration": 418,
        "start_time": "2023-05-15T11:37:51.880Z"
      },
      {
        "duration": 203,
        "start_time": "2023-05-15T11:37:52.780Z"
      },
      {
        "duration": 3,
        "start_time": "2023-05-15T11:37:55.422Z"
      },
      {
        "duration": 7,
        "start_time": "2023-05-15T11:37:55.658Z"
      },
      {
        "duration": 5,
        "start_time": "2023-05-15T11:37:55.940Z"
      },
      {
        "duration": 7,
        "start_time": "2023-05-15T11:37:56.772Z"
      },
      {
        "duration": 10,
        "start_time": "2023-05-15T11:37:57.447Z"
      },
      {
        "duration": 5,
        "start_time": "2023-05-15T11:37:59.663Z"
      },
      {
        "duration": 4,
        "start_time": "2023-05-15T11:38:03.240Z"
      },
      {
        "duration": 40,
        "start_time": "2023-05-15T11:38:04.590Z"
      },
      {
        "duration": 28,
        "start_time": "2023-05-15T11:38:12.916Z"
      },
      {
        "duration": 4,
        "start_time": "2023-05-15T11:38:18.452Z"
      },
      {
        "duration": 849,
        "start_time": "2023-05-15T11:38:18.676Z"
      },
      {
        "duration": 3,
        "start_time": "2023-05-15T11:38:19.527Z"
      },
      {
        "duration": 381,
        "start_time": "2023-05-15T11:38:19.533Z"
      },
      {
        "duration": 382,
        "start_time": "2023-05-15T11:38:19.916Z"
      },
      {
        "duration": 181,
        "start_time": "2023-05-15T11:38:20.300Z"
      },
      {
        "duration": 15,
        "start_time": "2023-05-15T11:38:20.484Z"
      },
      {
        "duration": 12,
        "start_time": "2023-05-15T11:38:20.502Z"
      },
      {
        "duration": 18,
        "start_time": "2023-05-15T11:38:20.516Z"
      },
      {
        "duration": 5,
        "start_time": "2023-05-15T11:38:20.645Z"
      },
      {
        "duration": 10,
        "start_time": "2023-05-15T11:38:21.185Z"
      },
      {
        "duration": 6,
        "start_time": "2023-05-15T11:38:22.478Z"
      },
      {
        "duration": 4,
        "start_time": "2023-05-15T11:38:24.751Z"
      },
      {
        "duration": 31,
        "start_time": "2023-05-15T11:38:25.449Z"
      },
      {
        "duration": 19,
        "start_time": "2023-05-15T11:44:49.538Z"
      },
      {
        "duration": 5,
        "start_time": "2023-05-15T11:45:44.161Z"
      },
      {
        "duration": 1055,
        "start_time": "2023-05-15T11:45:44.169Z"
      },
      {
        "duration": 9,
        "start_time": "2023-05-15T11:45:45.235Z"
      },
      {
        "duration": 540,
        "start_time": "2023-05-15T11:45:45.249Z"
      },
      {
        "duration": 470,
        "start_time": "2023-05-15T11:45:45.791Z"
      },
      {
        "duration": 206,
        "start_time": "2023-05-15T11:45:46.263Z"
      },
      {
        "duration": 7,
        "start_time": "2023-05-15T11:45:46.470Z"
      },
      {
        "duration": 37,
        "start_time": "2023-05-15T11:45:46.479Z"
      },
      {
        "duration": 24,
        "start_time": "2023-05-15T11:45:46.517Z"
      },
      {
        "duration": 8,
        "start_time": "2023-05-15T11:45:46.543Z"
      },
      {
        "duration": 16,
        "start_time": "2023-05-15T11:45:46.553Z"
      },
      {
        "duration": 7,
        "start_time": "2023-05-15T11:45:46.571Z"
      },
      {
        "duration": 20,
        "start_time": "2023-05-15T11:45:50.217Z"
      },
      {
        "duration": 8,
        "start_time": "2023-05-15T11:46:26.606Z"
      },
      {
        "duration": 4,
        "start_time": "2023-05-15T11:46:28.506Z"
      },
      {
        "duration": 9,
        "start_time": "2023-05-15T11:46:29.103Z"
      },
      {
        "duration": 23,
        "start_time": "2023-05-15T11:47:00.367Z"
      },
      {
        "duration": 5,
        "start_time": "2023-05-15T11:47:06.318Z"
      },
      {
        "duration": 787,
        "start_time": "2023-05-15T11:47:06.847Z"
      },
      {
        "duration": 3,
        "start_time": "2023-05-15T11:47:07.636Z"
      },
      {
        "duration": 344,
        "start_time": "2023-05-15T11:47:08.827Z"
      },
      {
        "duration": 356,
        "start_time": "2023-05-15T11:47:12.517Z"
      },
      {
        "duration": 183,
        "start_time": "2023-05-15T11:47:14.106Z"
      },
      {
        "duration": 5,
        "start_time": "2023-05-15T11:52:52.228Z"
      },
      {
        "duration": 865,
        "start_time": "2023-05-15T11:52:52.824Z"
      },
      {
        "duration": 4,
        "start_time": "2023-05-15T11:52:53.691Z"
      },
      {
        "duration": 422,
        "start_time": "2023-05-15T11:52:54.516Z"
      },
      {
        "duration": 436,
        "start_time": "2023-05-15T11:52:54.998Z"
      },
      {
        "duration": 194,
        "start_time": "2023-05-15T11:52:55.603Z"
      },
      {
        "duration": 3,
        "start_time": "2023-05-15T11:53:06.469Z"
      },
      {
        "duration": 11,
        "start_time": "2023-05-15T11:53:06.886Z"
      },
      {
        "duration": 5,
        "start_time": "2023-05-15T11:53:07.504Z"
      },
      {
        "duration": 6,
        "start_time": "2023-05-15T11:53:07.954Z"
      },
      {
        "duration": 10,
        "start_time": "2023-05-15T11:53:08.415Z"
      },
      {
        "duration": 4,
        "start_time": "2023-05-15T11:53:12.343Z"
      },
      {
        "duration": 25,
        "start_time": "2023-05-15T11:53:14.423Z"
      },
      {
        "duration": 24,
        "start_time": "2023-05-15T11:53:16.156Z"
      },
      {
        "duration": 23,
        "start_time": "2023-05-15T11:53:17.055Z"
      },
      {
        "duration": 25,
        "start_time": "2023-05-15T11:55:52.872Z"
      },
      {
        "duration": 22,
        "start_time": "2023-05-15T11:55:53.522Z"
      },
      {
        "duration": 5,
        "start_time": "2023-05-15T12:18:19.946Z"
      },
      {
        "duration": 10,
        "start_time": "2023-05-15T12:18:20.362Z"
      },
      {
        "duration": 14,
        "start_time": "2023-05-15T12:18:20.711Z"
      },
      {
        "duration": 6,
        "start_time": "2023-05-15T12:18:46.131Z"
      },
      {
        "duration": 6,
        "start_time": "2023-05-15T12:18:46.542Z"
      },
      {
        "duration": 417,
        "start_time": "2023-05-15T12:18:47.193Z"
      },
      {
        "duration": 506,
        "start_time": "2023-05-15T12:19:11.685Z"
      },
      {
        "duration": 536,
        "start_time": "2023-05-15T12:25:58.877Z"
      },
      {
        "duration": 407,
        "start_time": "2023-05-15T12:26:11.187Z"
      },
      {
        "duration": 488,
        "start_time": "2023-05-15T12:26:44.975Z"
      },
      {
        "duration": 478,
        "start_time": "2023-05-15T12:33:30.946Z"
      },
      {
        "duration": 479,
        "start_time": "2023-05-15T12:33:47.484Z"
      },
      {
        "duration": 452,
        "start_time": "2023-05-15T12:34:20.290Z"
      },
      {
        "duration": 8,
        "start_time": "2023-05-15T12:36:19.425Z"
      },
      {
        "duration": 5,
        "start_time": "2023-05-15T12:36:19.867Z"
      },
      {
        "duration": 6,
        "start_time": "2023-05-15T12:36:20.349Z"
      },
      {
        "duration": 630,
        "start_time": "2023-05-15T12:36:20.719Z"
      },
      {
        "duration": 8,
        "start_time": "2023-05-15T12:37:27.940Z"
      },
      {
        "duration": 8,
        "start_time": "2023-05-15T12:37:28.155Z"
      },
      {
        "duration": 7,
        "start_time": "2023-05-15T12:37:28.479Z"
      },
      {
        "duration": 589,
        "start_time": "2023-05-15T12:37:29.123Z"
      },
      {
        "duration": 613,
        "start_time": "2023-05-15T12:37:36.674Z"
      },
      {
        "duration": 22,
        "start_time": "2023-05-15T12:40:13.170Z"
      },
      {
        "duration": 24,
        "start_time": "2023-05-15T12:49:02.261Z"
      },
      {
        "duration": 6,
        "start_time": "2023-05-15T12:49:07.447Z"
      },
      {
        "duration": 22,
        "start_time": "2023-05-15T12:49:07.852Z"
      },
      {
        "duration": 18,
        "start_time": "2023-05-15T12:50:55.078Z"
      },
      {
        "duration": 518,
        "start_time": "2023-05-15T12:52:16.639Z"
      },
      {
        "duration": 417,
        "start_time": "2023-05-15T12:53:11.696Z"
      },
      {
        "duration": 621,
        "start_time": "2023-05-15T12:53:23.381Z"
      },
      {
        "duration": 403,
        "start_time": "2023-05-15T12:53:30.282Z"
      },
      {
        "duration": 373,
        "start_time": "2023-05-15T12:53:42.433Z"
      },
      {
        "duration": 421,
        "start_time": "2023-05-15T12:53:48.927Z"
      },
      {
        "duration": 370,
        "start_time": "2023-05-15T12:54:41.155Z"
      },
      {
        "duration": 553,
        "start_time": "2023-05-15T12:55:55.256Z"
      },
      {
        "duration": 495,
        "start_time": "2023-05-15T12:57:07.973Z"
      },
      {
        "duration": 613,
        "start_time": "2023-05-15T12:57:23.227Z"
      },
      {
        "duration": 12,
        "start_time": "2023-05-15T12:57:32.123Z"
      },
      {
        "duration": 5,
        "start_time": "2023-05-15T12:57:32.578Z"
      },
      {
        "duration": 12,
        "start_time": "2023-05-15T12:57:32.992Z"
      },
      {
        "duration": 531,
        "start_time": "2023-05-15T13:00:14.690Z"
      },
      {
        "duration": 6,
        "start_time": "2023-05-15T13:00:22.261Z"
      },
      {
        "duration": 6,
        "start_time": "2023-05-15T13:00:22.578Z"
      },
      {
        "duration": 8,
        "start_time": "2023-05-15T13:00:22.925Z"
      },
      {
        "duration": 437,
        "start_time": "2023-05-15T13:00:23.537Z"
      },
      {
        "duration": 6,
        "start_time": "2023-05-15T13:02:58.362Z"
      },
      {
        "duration": 1252,
        "start_time": "2023-05-15T13:02:58.371Z"
      },
      {
        "duration": 8,
        "start_time": "2023-05-15T13:02:59.625Z"
      },
      {
        "duration": 578,
        "start_time": "2023-05-15T13:02:59.636Z"
      },
      {
        "duration": 550,
        "start_time": "2023-05-15T13:03:00.226Z"
      },
      {
        "duration": 319,
        "start_time": "2023-05-15T13:03:00.778Z"
      },
      {
        "duration": 4,
        "start_time": "2023-05-15T13:03:01.100Z"
      },
      {
        "duration": 80,
        "start_time": "2023-05-15T13:03:01.109Z"
      },
      {
        "duration": 76,
        "start_time": "2023-05-15T13:03:01.191Z"
      },
      {
        "duration": 91,
        "start_time": "2023-05-15T13:03:01.271Z"
      },
      {
        "duration": 103,
        "start_time": "2023-05-15T13:03:01.364Z"
      },
      {
        "duration": 170,
        "start_time": "2023-05-15T13:03:01.469Z"
      },
      {
        "duration": 155,
        "start_time": "2023-05-15T13:03:01.641Z"
      },
      {
        "duration": 70,
        "start_time": "2023-05-15T13:03:01.799Z"
      },
      {
        "duration": 119,
        "start_time": "2023-05-15T13:03:01.871Z"
      },
      {
        "duration": 24,
        "start_time": "2023-05-15T13:03:04.820Z"
      },
      {
        "duration": 6,
        "start_time": "2023-05-15T13:03:05.660Z"
      },
      {
        "duration": 9,
        "start_time": "2023-05-15T13:03:06.138Z"
      },
      {
        "duration": 578,
        "start_time": "2023-05-15T13:03:06.856Z"
      },
      {
        "duration": 665,
        "start_time": "2023-05-15T13:03:38.073Z"
      },
      {
        "duration": 715,
        "start_time": "2023-05-15T13:04:24.333Z"
      },
      {
        "duration": 602,
        "start_time": "2023-05-15T13:08:37.863Z"
      },
      {
        "duration": 585,
        "start_time": "2023-05-15T13:08:46.985Z"
      },
      {
        "duration": 423,
        "start_time": "2023-05-15T13:08:57.651Z"
      },
      {
        "duration": 995,
        "start_time": "2023-05-15T13:09:03.681Z"
      },
      {
        "duration": 625,
        "start_time": "2023-05-15T13:09:08.396Z"
      },
      {
        "duration": 8,
        "start_time": "2023-05-15T13:20:05.953Z"
      },
      {
        "duration": 216,
        "start_time": "2023-05-15T13:20:06.358Z"
      },
      {
        "duration": 11,
        "start_time": "2023-05-15T13:20:06.760Z"
      },
      {
        "duration": 13,
        "start_time": "2023-05-15T13:20:12.996Z"
      },
      {
        "duration": 7,
        "start_time": "2023-05-15T13:20:13.728Z"
      },
      {
        "duration": 470,
        "start_time": "2023-05-15T13:20:14.866Z"
      },
      {
        "duration": 35,
        "start_time": "2023-05-15T13:22:55.043Z"
      },
      {
        "duration": 1106,
        "start_time": "2023-05-15T13:33:51.139Z"
      },
      {
        "duration": 1171,
        "start_time": "2023-05-15T13:33:57.983Z"
      },
      {
        "duration": 349,
        "start_time": "2023-05-15T13:45:16.286Z"
      },
      {
        "duration": 660,
        "start_time": "2023-05-15T13:49:38.725Z"
      },
      {
        "duration": 726,
        "start_time": "2023-05-15T13:49:51.863Z"
      },
      {
        "duration": 1131,
        "start_time": "2023-05-15T13:53:43.213Z"
      },
      {
        "duration": 6,
        "start_time": "2023-05-15T13:57:46.002Z"
      },
      {
        "duration": 864,
        "start_time": "2023-05-15T13:57:52.244Z"
      },
      {
        "duration": 22,
        "start_time": "2023-05-15T13:58:31.095Z"
      },
      {
        "duration": 9,
        "start_time": "2023-05-15T13:59:09.016Z"
      },
      {
        "duration": 18,
        "start_time": "2023-05-15T13:59:36.316Z"
      },
      {
        "duration": 167,
        "start_time": "2023-05-15T13:59:36.766Z"
      },
      {
        "duration": 8,
        "start_time": "2023-05-15T14:01:34.225Z"
      },
      {
        "duration": 197,
        "start_time": "2023-05-15T14:01:34.682Z"
      },
      {
        "duration": 433,
        "start_time": "2023-05-15T14:03:57.736Z"
      },
      {
        "duration": 328,
        "start_time": "2023-05-15T14:04:11.615Z"
      },
      {
        "duration": 797,
        "start_time": "2023-05-15T14:04:32.751Z"
      },
      {
        "duration": 5,
        "start_time": "2023-05-15T14:09:12.091Z"
      },
      {
        "duration": 3,
        "start_time": "2023-05-15T14:09:12.546Z"
      },
      {
        "duration": 167,
        "start_time": "2023-05-15T14:09:13.112Z"
      },
      {
        "duration": 516,
        "start_time": "2023-05-15T14:11:56.869Z"
      },
      {
        "duration": 507,
        "start_time": "2023-05-15T14:12:04.452Z"
      },
      {
        "duration": 601,
        "start_time": "2023-05-15T14:12:30.877Z"
      },
      {
        "duration": 14,
        "start_time": "2023-05-15T14:13:01.477Z"
      },
      {
        "duration": 806,
        "start_time": "2023-05-15T14:15:10.178Z"
      },
      {
        "duration": 1035,
        "start_time": "2023-05-15T14:15:26.397Z"
      },
      {
        "duration": 1053,
        "start_time": "2023-05-15T14:15:32.130Z"
      },
      {
        "duration": 1015,
        "start_time": "2023-05-15T14:15:54.896Z"
      },
      {
        "duration": 921,
        "start_time": "2023-05-15T14:16:21.125Z"
      },
      {
        "duration": 1080,
        "start_time": "2023-05-15T14:21:54.471Z"
      },
      {
        "duration": 814,
        "start_time": "2023-05-15T14:22:19.905Z"
      },
      {
        "duration": 861,
        "start_time": "2023-05-15T14:22:33.430Z"
      },
      {
        "duration": 10,
        "start_time": "2023-05-15T14:24:22.559Z"
      },
      {
        "duration": 11,
        "start_time": "2023-05-15T14:24:56.596Z"
      },
      {
        "duration": 9,
        "start_time": "2023-05-15T14:25:02.733Z"
      },
      {
        "duration": 5,
        "start_time": "2023-05-16T05:19:19.026Z"
      },
      {
        "duration": 1004,
        "start_time": "2023-05-16T05:19:19.034Z"
      },
      {
        "duration": 4,
        "start_time": "2023-05-16T05:19:20.040Z"
      },
      {
        "duration": 428,
        "start_time": "2023-05-16T05:19:20.045Z"
      },
      {
        "duration": 467,
        "start_time": "2023-05-16T05:19:20.475Z"
      },
      {
        "duration": 203,
        "start_time": "2023-05-16T05:19:20.944Z"
      },
      {
        "duration": 4,
        "start_time": "2023-05-16T05:19:21.150Z"
      },
      {
        "duration": 33,
        "start_time": "2023-05-16T05:19:21.156Z"
      },
      {
        "duration": 16,
        "start_time": "2023-05-16T05:19:21.191Z"
      },
      {
        "duration": 39,
        "start_time": "2023-05-16T05:19:21.209Z"
      },
      {
        "duration": 45,
        "start_time": "2023-05-16T05:19:21.251Z"
      },
      {
        "duration": 13,
        "start_time": "2023-05-16T05:19:21.298Z"
      },
      {
        "duration": 46,
        "start_time": "2023-05-16T05:19:21.313Z"
      },
      {
        "duration": 35,
        "start_time": "2023-05-16T05:19:21.362Z"
      },
      {
        "duration": 29,
        "start_time": "2023-05-16T05:19:21.399Z"
      },
      {
        "duration": 13,
        "start_time": "2023-05-16T05:19:21.429Z"
      },
      {
        "duration": 15,
        "start_time": "2023-05-16T05:19:21.444Z"
      },
      {
        "duration": 403,
        "start_time": "2023-05-16T05:19:21.461Z"
      },
      {
        "duration": 644,
        "start_time": "2023-05-16T05:19:21.865Z"
      },
      {
        "duration": 5,
        "start_time": "2023-05-16T05:19:22.511Z"
      },
      {
        "duration": 11,
        "start_time": "2023-05-16T05:19:24.923Z"
      },
      {
        "duration": 357,
        "start_time": "2023-05-16T05:19:25.887Z"
      },
      {
        "duration": 601,
        "start_time": "2023-05-16T05:19:48.253Z"
      },
      {
        "duration": 627,
        "start_time": "2023-05-16T05:20:23.210Z"
      },
      {
        "duration": 647,
        "start_time": "2023-05-16T05:20:46.597Z"
      },
      {
        "duration": 5,
        "start_time": "2023-05-16T05:21:11.846Z"
      },
      {
        "duration": 847,
        "start_time": "2023-05-16T05:21:11.853Z"
      },
      {
        "duration": 4,
        "start_time": "2023-05-16T05:21:12.702Z"
      },
      {
        "duration": 390,
        "start_time": "2023-05-16T05:21:12.707Z"
      },
      {
        "duration": 404,
        "start_time": "2023-05-16T05:21:13.099Z"
      },
      {
        "duration": 198,
        "start_time": "2023-05-16T05:21:13.505Z"
      },
      {
        "duration": 3,
        "start_time": "2023-05-16T05:21:13.705Z"
      },
      {
        "duration": 15,
        "start_time": "2023-05-16T05:21:13.709Z"
      },
      {
        "duration": 7,
        "start_time": "2023-05-16T05:21:13.726Z"
      },
      {
        "duration": 16,
        "start_time": "2023-05-16T05:21:13.735Z"
      },
      {
        "duration": 16,
        "start_time": "2023-05-16T05:21:13.753Z"
      },
      {
        "duration": 5,
        "start_time": "2023-05-16T05:21:13.771Z"
      },
      {
        "duration": 40,
        "start_time": "2023-05-16T05:21:13.779Z"
      },
      {
        "duration": 25,
        "start_time": "2023-05-16T05:21:13.821Z"
      },
      {
        "duration": 51,
        "start_time": "2023-05-16T05:21:13.848Z"
      },
      {
        "duration": 6,
        "start_time": "2023-05-16T05:21:13.901Z"
      },
      {
        "duration": 15,
        "start_time": "2023-05-16T05:21:13.909Z"
      },
      {
        "duration": 406,
        "start_time": "2023-05-16T05:21:13.927Z"
      },
      {
        "duration": 972,
        "start_time": "2023-05-16T05:21:14.335Z"
      },
      {
        "duration": 6,
        "start_time": "2023-05-16T05:21:15.309Z"
      },
      {
        "duration": 7,
        "start_time": "2023-05-16T05:21:19.608Z"
      },
      {
        "duration": 621,
        "start_time": "2023-05-16T05:21:20.461Z"
      },
      {
        "duration": 334,
        "start_time": "2023-05-16T05:21:38.931Z"
      },
      {
        "duration": 336,
        "start_time": "2023-05-16T05:21:55.076Z"
      },
      {
        "duration": 344,
        "start_time": "2023-05-16T05:22:05.477Z"
      },
      {
        "duration": 277,
        "start_time": "2023-05-16T05:26:14.061Z"
      },
      {
        "duration": 17,
        "start_time": "2023-05-16T05:26:47.500Z"
      },
      {
        "duration": 264,
        "start_time": "2023-05-16T05:26:56.984Z"
      },
      {
        "duration": 320,
        "start_time": "2023-05-16T05:27:05.105Z"
      },
      {
        "duration": 270,
        "start_time": "2023-05-16T05:27:23.613Z"
      },
      {
        "duration": 275,
        "start_time": "2023-05-16T05:27:57.056Z"
      },
      {
        "duration": 593,
        "start_time": "2023-05-16T05:28:27.513Z"
      },
      {
        "duration": 313,
        "start_time": "2023-05-16T05:28:47.766Z"
      },
      {
        "duration": 311,
        "start_time": "2023-05-16T05:28:58.901Z"
      },
      {
        "duration": 632,
        "start_time": "2023-05-16T05:29:18.319Z"
      },
      {
        "duration": 503,
        "start_time": "2023-05-16T05:29:28.398Z"
      },
      {
        "duration": 586,
        "start_time": "2023-05-16T05:29:38.287Z"
      },
      {
        "duration": 630,
        "start_time": "2023-05-16T05:29:52.227Z"
      },
      {
        "duration": 641,
        "start_time": "2023-05-16T05:30:09.518Z"
      },
      {
        "duration": 672,
        "start_time": "2023-05-16T05:30:20.802Z"
      },
      {
        "duration": 558,
        "start_time": "2023-05-16T05:30:34.565Z"
      },
      {
        "duration": 623,
        "start_time": "2023-05-16T05:30:48.771Z"
      },
      {
        "duration": 905,
        "start_time": "2023-05-16T05:31:12.572Z"
      },
      {
        "duration": 526,
        "start_time": "2023-05-16T05:31:24.601Z"
      },
      {
        "duration": 63,
        "start_time": "2023-05-16T05:32:01.173Z"
      },
      {
        "duration": 119,
        "start_time": "2023-05-16T05:32:08.015Z"
      },
      {
        "duration": 594,
        "start_time": "2023-05-16T05:32:37.270Z"
      },
      {
        "duration": 595,
        "start_time": "2023-05-16T05:32:42.070Z"
      },
      {
        "duration": 562,
        "start_time": "2023-05-16T05:33:03.862Z"
      },
      {
        "duration": 588,
        "start_time": "2023-05-16T05:33:19.679Z"
      },
      {
        "duration": 653,
        "start_time": "2023-05-16T05:33:36.406Z"
      },
      {
        "duration": 11,
        "start_time": "2023-05-16T06:11:53.050Z"
      },
      {
        "duration": 11,
        "start_time": "2023-05-16T06:12:01.981Z"
      },
      {
        "duration": 3,
        "start_time": "2023-05-16T06:12:02.378Z"
      },
      {
        "duration": 11,
        "start_time": "2023-05-16T06:13:35.220Z"
      },
      {
        "duration": 3,
        "start_time": "2023-05-16T06:13:38.677Z"
      },
      {
        "duration": 356,
        "start_time": "2023-05-16T06:13:39.023Z"
      },
      {
        "duration": 70,
        "start_time": "2023-05-16T06:16:47.471Z"
      },
      {
        "duration": 84,
        "start_time": "2023-05-16T06:17:19.514Z"
      },
      {
        "duration": 7430,
        "start_time": "2023-05-16T06:17:33.700Z"
      },
      {
        "duration": 6953,
        "start_time": "2023-05-16T06:17:47.783Z"
      },
      {
        "duration": 1266,
        "start_time": "2023-05-16T06:29:17.775Z"
      },
      {
        "duration": 1860,
        "start_time": "2023-05-16T06:30:43.958Z"
      },
      {
        "duration": 115,
        "start_time": "2023-05-16T06:31:38.797Z"
      },
      {
        "duration": 2045,
        "start_time": "2023-05-16T06:32:10.670Z"
      },
      {
        "duration": 1728,
        "start_time": "2023-05-16T06:32:41.285Z"
      },
      {
        "duration": 341,
        "start_time": "2023-05-16T06:34:38.258Z"
      },
      {
        "duration": 1649,
        "start_time": "2023-05-16T06:37:29.666Z"
      },
      {
        "duration": 1584,
        "start_time": "2023-05-16T06:38:10.467Z"
      },
      {
        "duration": 1639,
        "start_time": "2023-05-16T06:38:42.970Z"
      },
      {
        "duration": 2082,
        "start_time": "2023-05-16T06:39:49.274Z"
      },
      {
        "duration": 1670,
        "start_time": "2023-05-16T06:40:03.399Z"
      },
      {
        "duration": 1640,
        "start_time": "2023-05-16T06:40:28.419Z"
      },
      {
        "duration": 574,
        "start_time": "2023-05-16T06:40:53.479Z"
      },
      {
        "duration": 678,
        "start_time": "2023-05-16T06:41:20.994Z"
      },
      {
        "duration": 609,
        "start_time": "2023-05-16T06:41:35.468Z"
      },
      {
        "duration": 1637,
        "start_time": "2023-05-16T06:41:47.966Z"
      },
      {
        "duration": 1651,
        "start_time": "2023-05-16T06:42:56.744Z"
      },
      {
        "duration": 321,
        "start_time": "2023-05-16T07:20:53.455Z"
      },
      {
        "duration": 1708,
        "start_time": "2023-05-16T07:21:13.706Z"
      },
      {
        "duration": 620,
        "start_time": "2023-05-16T08:04:04.997Z"
      },
      {
        "duration": 85,
        "start_time": "2023-05-16T08:12:34.046Z"
      },
      {
        "duration": 3,
        "start_time": "2023-05-16T08:13:27.317Z"
      },
      {
        "duration": 3,
        "start_time": "2023-05-16T08:23:26.159Z"
      },
      {
        "duration": 443,
        "start_time": "2023-05-16T08:44:09.835Z"
      },
      {
        "duration": 14,
        "start_time": "2023-05-16T08:50:51.025Z"
      },
      {
        "duration": 3,
        "start_time": "2023-05-16T08:51:04.071Z"
      },
      {
        "duration": 10,
        "start_time": "2023-05-16T08:51:44.876Z"
      },
      {
        "duration": 6,
        "start_time": "2023-05-16T08:52:40.925Z"
      },
      {
        "duration": 11,
        "start_time": "2023-05-16T08:52:45.530Z"
      },
      {
        "duration": 1029,
        "start_time": "2023-05-16T08:52:45.544Z"
      },
      {
        "duration": 3,
        "start_time": "2023-05-16T08:52:46.576Z"
      },
      {
        "duration": 506,
        "start_time": "2023-05-16T08:52:46.581Z"
      },
      {
        "duration": 547,
        "start_time": "2023-05-16T08:52:47.090Z"
      },
      {
        "duration": 252,
        "start_time": "2023-05-16T08:52:47.639Z"
      },
      {
        "duration": 9,
        "start_time": "2023-05-16T08:52:47.893Z"
      },
      {
        "duration": 63,
        "start_time": "2023-05-16T08:52:47.905Z"
      },
      {
        "duration": 5,
        "start_time": "2023-05-16T08:52:47.972Z"
      },
      {
        "duration": 9,
        "start_time": "2023-05-16T08:52:47.979Z"
      },
      {
        "duration": 25,
        "start_time": "2023-05-16T08:52:47.990Z"
      },
      {
        "duration": 44,
        "start_time": "2023-05-16T08:52:48.020Z"
      },
      {
        "duration": 21,
        "start_time": "2023-05-16T08:52:48.066Z"
      },
      {
        "duration": 24,
        "start_time": "2023-05-16T08:52:48.090Z"
      },
      {
        "duration": 72,
        "start_time": "2023-05-16T08:52:48.116Z"
      },
      {
        "duration": 5,
        "start_time": "2023-05-16T08:52:48.190Z"
      },
      {
        "duration": 75,
        "start_time": "2023-05-16T08:52:48.197Z"
      },
      {
        "duration": 498,
        "start_time": "2023-05-16T08:52:48.274Z"
      },
      {
        "duration": 1340,
        "start_time": "2023-05-16T08:52:48.774Z"
      },
      {
        "duration": 15,
        "start_time": "2023-05-16T08:52:50.116Z"
      },
      {
        "duration": 1750,
        "start_time": "2023-05-16T08:52:50.135Z"
      },
      {
        "duration": 4,
        "start_time": "2023-05-16T08:52:51.887Z"
      },
      {
        "duration": 54,
        "start_time": "2023-05-16T08:52:51.897Z"
      },
      {
        "duration": 24,
        "start_time": "2023-05-16T08:52:51.953Z"
      },
      {
        "duration": 27,
        "start_time": "2023-05-16T08:52:51.979Z"
      },
      {
        "duration": 4,
        "start_time": "2023-05-16T08:53:30.582Z"
      },
      {
        "duration": 4,
        "start_time": "2023-05-16T08:53:35.081Z"
      },
      {
        "duration": 4,
        "start_time": "2023-05-16T08:53:56.570Z"
      },
      {
        "duration": 12,
        "start_time": "2023-05-16T08:54:07.155Z"
      },
      {
        "duration": 13,
        "start_time": "2023-05-16T08:54:43.189Z"
      },
      {
        "duration": 7,
        "start_time": "2023-05-16T08:55:07.018Z"
      },
      {
        "duration": 11,
        "start_time": "2023-05-16T08:59:07.147Z"
      },
      {
        "duration": 15,
        "start_time": "2023-05-16T09:07:49.593Z"
      },
      {
        "duration": 8,
        "start_time": "2023-05-16T09:08:08.682Z"
      },
      {
        "duration": 15,
        "start_time": "2023-05-16T09:08:15.710Z"
      },
      {
        "duration": 11,
        "start_time": "2023-05-16T09:08:32.379Z"
      },
      {
        "duration": 11,
        "start_time": "2023-05-16T09:08:45.394Z"
      },
      {
        "duration": 6,
        "start_time": "2023-05-16T09:08:51.381Z"
      },
      {
        "duration": 19,
        "start_time": "2023-05-16T09:41:39.157Z"
      },
      {
        "duration": 25,
        "start_time": "2023-05-16T09:42:08.011Z"
      },
      {
        "duration": 42,
        "start_time": "2023-05-16T09:42:29.779Z"
      },
      {
        "duration": 5,
        "start_time": "2023-05-16T09:51:21.986Z"
      },
      {
        "duration": 24,
        "start_time": "2023-05-16T09:51:44.614Z"
      },
      {
        "duration": 5,
        "start_time": "2023-05-16T09:52:06.451Z"
      },
      {
        "duration": 5,
        "start_time": "2023-05-16T09:52:06.852Z"
      },
      {
        "duration": 52,
        "start_time": "2023-05-16T09:52:07.290Z"
      },
      {
        "duration": 4,
        "start_time": "2023-05-16T09:52:18.088Z"
      },
      {
        "duration": 26,
        "start_time": "2023-05-16T09:52:30.686Z"
      },
      {
        "duration": 20,
        "start_time": "2023-05-16T10:00:49.710Z"
      },
      {
        "duration": 3,
        "start_time": "2023-05-16T10:00:55.591Z"
      },
      {
        "duration": 1901,
        "start_time": "2023-05-16T10:00:56.095Z"
      },
      {
        "duration": 1625,
        "start_time": "2023-05-16T10:02:07.892Z"
      },
      {
        "duration": 1774,
        "start_time": "2023-05-16T10:03:49.251Z"
      },
      {
        "duration": 26,
        "start_time": "2023-05-16T10:07:41.649Z"
      },
      {
        "duration": 11,
        "start_time": "2023-05-16T10:15:41.334Z"
      },
      {
        "duration": 10,
        "start_time": "2023-05-16T10:15:50.951Z"
      },
      {
        "duration": 24,
        "start_time": "2023-05-16T10:16:15.794Z"
      },
      {
        "duration": 6,
        "start_time": "2023-05-16T10:16:29.711Z"
      },
      {
        "duration": 6,
        "start_time": "2023-05-16T10:16:52.654Z"
      },
      {
        "duration": 15,
        "start_time": "2023-05-16T10:17:51.389Z"
      },
      {
        "duration": 18,
        "start_time": "2023-05-16T10:17:51.710Z"
      },
      {
        "duration": 20,
        "start_time": "2023-05-16T10:17:51.994Z"
      },
      {
        "duration": 7,
        "start_time": "2023-05-16T10:17:52.317Z"
      },
      {
        "duration": 17,
        "start_time": "2023-05-16T10:17:53.414Z"
      },
      {
        "duration": 18,
        "start_time": "2023-05-16T10:18:53.096Z"
      },
      {
        "duration": 25,
        "start_time": "2023-05-16T10:18:53.792Z"
      },
      {
        "duration": 15,
        "start_time": "2023-05-16T10:18:54.655Z"
      },
      {
        "duration": 33,
        "start_time": "2023-05-16T10:23:13.990Z"
      },
      {
        "duration": 20,
        "start_time": "2023-05-16T10:23:23.528Z"
      },
      {
        "duration": 22,
        "start_time": "2023-05-16T10:25:02.506Z"
      },
      {
        "duration": 9,
        "start_time": "2023-05-16T10:25:29.597Z"
      },
      {
        "duration": 984,
        "start_time": "2023-05-16T10:25:29.608Z"
      },
      {
        "duration": 18,
        "start_time": "2023-05-16T10:25:30.594Z"
      },
      {
        "duration": 558,
        "start_time": "2023-05-16T10:25:30.613Z"
      },
      {
        "duration": 487,
        "start_time": "2023-05-16T10:25:31.175Z"
      },
      {
        "duration": 254,
        "start_time": "2023-05-16T10:25:31.663Z"
      },
      {
        "duration": 5,
        "start_time": "2023-05-16T10:25:31.926Z"
      },
      {
        "duration": 42,
        "start_time": "2023-05-16T10:25:31.939Z"
      },
      {
        "duration": 49,
        "start_time": "2023-05-16T10:25:31.983Z"
      },
      {
        "duration": 39,
        "start_time": "2023-05-16T10:25:32.034Z"
      },
      {
        "duration": 46,
        "start_time": "2023-05-16T10:25:32.076Z"
      },
      {
        "duration": 59,
        "start_time": "2023-05-16T10:25:32.124Z"
      },
      {
        "duration": 95,
        "start_time": "2023-05-16T10:25:32.185Z"
      },
      {
        "duration": 32,
        "start_time": "2023-05-16T10:25:32.283Z"
      },
      {
        "duration": 49,
        "start_time": "2023-05-16T10:25:32.320Z"
      },
      {
        "duration": 7,
        "start_time": "2023-05-16T10:25:32.371Z"
      },
      {
        "duration": 57,
        "start_time": "2023-05-16T10:25:32.380Z"
      },
      {
        "duration": 478,
        "start_time": "2023-05-16T10:25:32.440Z"
      },
      {
        "duration": 668,
        "start_time": "2023-05-16T10:25:32.920Z"
      },
      {
        "duration": 20,
        "start_time": "2023-05-16T10:25:33.591Z"
      },
      {
        "duration": 1736,
        "start_time": "2023-05-16T10:25:33.619Z"
      },
      {
        "duration": 4,
        "start_time": "2023-05-16T10:25:35.357Z"
      },
      {
        "duration": 20,
        "start_time": "2023-05-16T10:25:35.362Z"
      },
      {
        "duration": 105,
        "start_time": "2023-05-16T10:25:35.384Z"
      },
      {
        "duration": 13,
        "start_time": "2023-05-16T10:25:43.062Z"
      },
      {
        "duration": 13,
        "start_time": "2023-05-16T10:25:43.882Z"
      },
      {
        "duration": 11,
        "start_time": "2023-05-16T10:25:47.993Z"
      },
      {
        "duration": 14,
        "start_time": "2023-05-16T10:25:49.400Z"
      },
      {
        "duration": 27,
        "start_time": "2023-05-16T10:25:51.297Z"
      },
      {
        "duration": 3409,
        "start_time": "2023-05-16T10:26:40.917Z"
      },
      {
        "duration": 5827,
        "start_time": "2023-05-16T10:27:04.705Z"
      },
      {
        "duration": 643,
        "start_time": "2023-05-16T10:27:46.054Z"
      },
      {
        "duration": 17262,
        "start_time": "2023-05-16T10:27:58.919Z"
      },
      {
        "duration": 5,
        "start_time": "2023-05-16T10:29:19.960Z"
      },
      {
        "duration": 1046,
        "start_time": "2023-05-16T10:29:19.967Z"
      },
      {
        "duration": 10,
        "start_time": "2023-05-16T10:29:21.022Z"
      },
      {
        "duration": 520,
        "start_time": "2023-05-16T10:29:21.043Z"
      },
      {
        "duration": 477,
        "start_time": "2023-05-16T10:29:21.566Z"
      },
      {
        "duration": 222,
        "start_time": "2023-05-16T10:29:22.045Z"
      },
      {
        "duration": 3,
        "start_time": "2023-05-16T10:29:22.269Z"
      },
      {
        "duration": 39,
        "start_time": "2023-05-16T10:29:22.274Z"
      },
      {
        "duration": 17,
        "start_time": "2023-05-16T10:29:22.315Z"
      },
      {
        "duration": 6,
        "start_time": "2023-05-16T10:29:22.334Z"
      },
      {
        "duration": 27,
        "start_time": "2023-05-16T10:29:22.342Z"
      },
      {
        "duration": 13,
        "start_time": "2023-05-16T10:29:22.371Z"
      },
      {
        "duration": 41,
        "start_time": "2023-05-16T10:29:22.386Z"
      },
      {
        "duration": 43,
        "start_time": "2023-05-16T10:29:22.430Z"
      },
      {
        "duration": 41,
        "start_time": "2023-05-16T10:29:22.475Z"
      },
      {
        "duration": 8,
        "start_time": "2023-05-16T10:29:22.517Z"
      },
      {
        "duration": 33,
        "start_time": "2023-05-16T10:29:22.526Z"
      },
      {
        "duration": 493,
        "start_time": "2023-05-16T10:29:22.561Z"
      },
      {
        "duration": 662,
        "start_time": "2023-05-16T10:29:23.057Z"
      },
      {
        "duration": 13,
        "start_time": "2023-05-16T10:29:23.724Z"
      },
      {
        "duration": 1846,
        "start_time": "2023-05-16T10:29:23.739Z"
      },
      {
        "duration": 4,
        "start_time": "2023-05-16T10:29:25.587Z"
      },
      {
        "duration": 36,
        "start_time": "2023-05-16T10:29:25.597Z"
      },
      {
        "duration": 21,
        "start_time": "2023-05-16T10:29:25.635Z"
      },
      {
        "duration": 19,
        "start_time": "2023-05-16T10:29:25.658Z"
      },
      {
        "duration": 5,
        "start_time": "2023-05-16T10:29:25.680Z"
      },
      {
        "duration": 8,
        "start_time": "2023-05-16T10:29:25.687Z"
      },
      {
        "duration": 45,
        "start_time": "2023-05-16T10:29:25.697Z"
      },
      {
        "duration": 6195,
        "start_time": "2023-05-16T10:29:25.744Z"
      },
      {
        "duration": 17393,
        "start_time": "2023-05-16T10:29:31.943Z"
      },
      {
        "duration": 4,
        "start_time": "2023-05-16T10:29:49.337Z"
      },
      {
        "duration": 18,
        "start_time": "2023-05-16T10:29:49.342Z"
      },
      {
        "duration": 108,
        "start_time": "2023-05-16T10:29:49.362Z"
      },
      {
        "duration": 0,
        "start_time": "2023-05-16T10:29:49.472Z"
      },
      {
        "duration": 0,
        "start_time": "2023-05-16T10:29:49.474Z"
      },
      {
        "duration": 0,
        "start_time": "2023-05-16T10:29:49.476Z"
      },
      {
        "duration": 0,
        "start_time": "2023-05-16T10:29:49.477Z"
      },
      {
        "duration": 0,
        "start_time": "2023-05-16T10:29:49.478Z"
      },
      {
        "duration": 13,
        "start_time": "2023-05-16T10:31:24.262Z"
      },
      {
        "duration": 14,
        "start_time": "2023-05-16T10:31:35.352Z"
      },
      {
        "duration": 7,
        "start_time": "2023-05-16T10:31:40.791Z"
      },
      {
        "duration": 996,
        "start_time": "2023-05-16T10:31:40.801Z"
      },
      {
        "duration": 9,
        "start_time": "2023-05-16T10:31:41.807Z"
      },
      {
        "duration": 461,
        "start_time": "2023-05-16T10:31:41.822Z"
      },
      {
        "duration": 493,
        "start_time": "2023-05-16T10:31:42.287Z"
      },
      {
        "duration": 232,
        "start_time": "2023-05-16T10:31:42.782Z"
      },
      {
        "duration": 5,
        "start_time": "2023-05-16T10:31:43.021Z"
      },
      {
        "duration": 31,
        "start_time": "2023-05-16T10:31:43.028Z"
      },
      {
        "duration": 9,
        "start_time": "2023-05-16T10:31:43.061Z"
      },
      {
        "duration": 13,
        "start_time": "2023-05-16T10:31:43.072Z"
      },
      {
        "duration": 29,
        "start_time": "2023-05-16T10:31:43.087Z"
      },
      {
        "duration": 15,
        "start_time": "2023-05-16T10:31:43.122Z"
      },
      {
        "duration": 26,
        "start_time": "2023-05-16T10:31:43.139Z"
      },
      {
        "duration": 20,
        "start_time": "2023-05-16T10:31:43.167Z"
      },
      {
        "duration": 45,
        "start_time": "2023-05-16T10:31:43.189Z"
      },
      {
        "duration": 5,
        "start_time": "2023-05-16T10:31:43.236Z"
      },
      {
        "duration": 8,
        "start_time": "2023-05-16T10:31:43.243Z"
      },
      {
        "duration": 464,
        "start_time": "2023-05-16T10:31:43.253Z"
      },
      {
        "duration": 716,
        "start_time": "2023-05-16T10:31:43.719Z"
      },
      {
        "duration": 11,
        "start_time": "2023-05-16T10:31:44.437Z"
      },
      {
        "duration": 1839,
        "start_time": "2023-05-16T10:31:44.450Z"
      },
      {
        "duration": 10,
        "start_time": "2023-05-16T10:31:46.291Z"
      },
      {
        "duration": 3,
        "start_time": "2023-05-16T10:31:48.066Z"
      },
      {
        "duration": 4,
        "start_time": "2023-05-16T10:31:48.564Z"
      },
      {
        "duration": 13,
        "start_time": "2023-05-16T10:31:50.215Z"
      },
      {
        "duration": 13,
        "start_time": "2023-05-16T10:31:50.756Z"
      },
      {
        "duration": 6,
        "start_time": "2023-05-16T10:31:51.354Z"
      },
      {
        "duration": 10,
        "start_time": "2023-05-16T10:31:52.402Z"
      },
      {
        "duration": 15,
        "start_time": "2023-05-16T10:31:53.114Z"
      },
      {
        "duration": 4333,
        "start_time": "2023-05-16T10:31:53.773Z"
      },
      {
        "duration": 16989,
        "start_time": "2023-05-16T10:31:58.129Z"
      },
      {
        "duration": 21956,
        "start_time": "2023-05-16T10:32:48.762Z"
      },
      {
        "duration": 8,
        "start_time": "2023-05-16T10:38:57.416Z"
      },
      {
        "duration": 30,
        "start_time": "2023-05-16T10:41:16.221Z"
      },
      {
        "duration": 8,
        "start_time": "2023-05-16T10:41:46.322Z"
      },
      {
        "duration": 1022,
        "start_time": "2023-05-16T10:41:46.332Z"
      },
      {
        "duration": 5,
        "start_time": "2023-05-16T10:41:47.357Z"
      },
      {
        "duration": 508,
        "start_time": "2023-05-16T10:41:47.366Z"
      },
      {
        "duration": 480,
        "start_time": "2023-05-16T10:41:47.876Z"
      },
      {
        "duration": 230,
        "start_time": "2023-05-16T10:41:48.358Z"
      },
      {
        "duration": 8,
        "start_time": "2023-05-16T10:41:48.590Z"
      },
      {
        "duration": 44,
        "start_time": "2023-05-16T10:41:48.615Z"
      },
      {
        "duration": 50,
        "start_time": "2023-05-16T10:41:48.662Z"
      },
      {
        "duration": 52,
        "start_time": "2023-05-16T10:41:48.717Z"
      },
      {
        "duration": 70,
        "start_time": "2023-05-16T10:41:48.771Z"
      },
      {
        "duration": 17,
        "start_time": "2023-05-16T10:41:48.843Z"
      },
      {
        "duration": 79,
        "start_time": "2023-05-16T10:41:48.862Z"
      },
      {
        "duration": 36,
        "start_time": "2023-05-16T10:41:48.943Z"
      },
      {
        "duration": 37,
        "start_time": "2023-05-16T10:41:48.981Z"
      },
      {
        "duration": 26,
        "start_time": "2023-05-16T10:41:49.020Z"
      },
      {
        "duration": 36,
        "start_time": "2023-05-16T10:41:49.048Z"
      },
      {
        "duration": 537,
        "start_time": "2023-05-16T10:41:49.087Z"
      },
      {
        "duration": 1448,
        "start_time": "2023-05-16T10:41:49.627Z"
      },
      {
        "duration": 22,
        "start_time": "2023-05-16T10:41:51.077Z"
      },
      {
        "duration": 1821,
        "start_time": "2023-05-16T10:41:51.109Z"
      },
      {
        "duration": 5,
        "start_time": "2023-05-16T10:41:52.932Z"
      },
      {
        "duration": 18,
        "start_time": "2023-05-16T10:41:52.939Z"
      },
      {
        "duration": 24,
        "start_time": "2023-05-16T10:43:55.159Z"
      },
      {
        "duration": 15,
        "start_time": "2023-05-16T10:43:55.930Z"
      },
      {
        "duration": 4178,
        "start_time": "2023-05-16T10:43:57.762Z"
      },
      {
        "duration": 23213,
        "start_time": "2023-05-16T10:44:16.192Z"
      },
      {
        "duration": 26,
        "start_time": "2023-05-16T10:45:18.522Z"
      },
      {
        "duration": 18,
        "start_time": "2023-05-16T10:46:15.426Z"
      },
      {
        "duration": 3559,
        "start_time": "2023-05-16T10:50:43.362Z"
      },
      {
        "duration": 13,
        "start_time": "2023-05-16T10:54:18.971Z"
      },
      {
        "duration": 2,
        "start_time": "2023-05-16T10:55:22.814Z"
      },
      {
        "duration": 3,
        "start_time": "2023-05-16T10:55:57.370Z"
      },
      {
        "duration": 20960,
        "start_time": "2023-05-16T10:58:23.322Z"
      },
      {
        "duration": 417,
        "start_time": "2023-05-16T11:07:45.263Z"
      },
      {
        "duration": 406,
        "start_time": "2023-05-16T11:08:08.310Z"
      },
      {
        "duration": 396,
        "start_time": "2023-05-16T11:08:43.264Z"
      },
      {
        "duration": 408,
        "start_time": "2023-05-16T11:09:01.182Z"
      },
      {
        "duration": 446,
        "start_time": "2023-05-16T11:09:53.294Z"
      },
      {
        "duration": 4,
        "start_time": "2023-05-16T11:15:38.919Z"
      },
      {
        "duration": 3,
        "start_time": "2023-05-16T11:15:39.329Z"
      },
      {
        "duration": 22,
        "start_time": "2023-05-16T11:20:05.196Z"
      },
      {
        "duration": 5,
        "start_time": "2023-05-16T11:27:34.408Z"
      },
      {
        "duration": 5,
        "start_time": "2023-05-16T11:27:35.430Z"
      },
      {
        "duration": 2399,
        "start_time": "2023-05-16T11:27:41.204Z"
      },
      {
        "duration": 21175,
        "start_time": "2023-05-16T11:27:46.003Z"
      },
      {
        "duration": 5,
        "start_time": "2023-05-16T11:34:59.956Z"
      },
      {
        "duration": 4,
        "start_time": "2023-05-16T11:35:01.513Z"
      },
      {
        "duration": 4507,
        "start_time": "2023-05-16T11:35:04.689Z"
      },
      {
        "duration": 21977,
        "start_time": "2023-05-16T11:35:09.200Z"
      },
      {
        "duration": 6092,
        "start_time": "2023-05-16T11:38:23.122Z"
      },
      {
        "duration": 15855,
        "start_time": "2023-05-16T11:38:37.261Z"
      },
      {
        "duration": 15,
        "start_time": "2023-05-16T11:43:30.779Z"
      },
      {
        "duration": 8038,
        "start_time": "2023-05-16T11:44:12.077Z"
      },
      {
        "duration": 16524,
        "start_time": "2023-05-16T11:48:03.411Z"
      },
      {
        "duration": 3773,
        "start_time": "2023-05-16T11:48:19.939Z"
      },
      {
        "duration": 268,
        "start_time": "2023-05-16T11:48:23.799Z"
      },
      {
        "duration": 456,
        "start_time": "2023-05-16T11:48:48.226Z"
      },
      {
        "duration": 463,
        "start_time": "2023-05-16T11:51:33.070Z"
      },
      {
        "duration": 461,
        "start_time": "2023-05-16T11:52:15.462Z"
      },
      {
        "duration": 415,
        "start_time": "2023-05-16T12:01:39.108Z"
      },
      {
        "duration": 4,
        "start_time": "2023-05-16T12:03:37.127Z"
      },
      {
        "duration": 3,
        "start_time": "2023-05-16T12:03:37.273Z"
      },
      {
        "duration": 19,
        "start_time": "2023-05-16T12:03:41.843Z"
      },
      {
        "duration": 8,
        "start_time": "2023-05-16T12:04:06.746Z"
      },
      {
        "duration": 1040,
        "start_time": "2023-05-16T12:04:06.764Z"
      },
      {
        "duration": 8,
        "start_time": "2023-05-16T12:04:07.806Z"
      },
      {
        "duration": 524,
        "start_time": "2023-05-16T12:04:07.816Z"
      },
      {
        "duration": 611,
        "start_time": "2023-05-16T12:04:08.343Z"
      },
      {
        "duration": 280,
        "start_time": "2023-05-16T12:04:08.958Z"
      },
      {
        "duration": 4,
        "start_time": "2023-05-16T12:04:09.241Z"
      },
      {
        "duration": 19,
        "start_time": "2023-05-16T12:04:09.247Z"
      },
      {
        "duration": 37,
        "start_time": "2023-05-16T12:04:09.268Z"
      },
      {
        "duration": 22,
        "start_time": "2023-05-16T12:04:09.308Z"
      },
      {
        "duration": 14,
        "start_time": "2023-05-16T12:04:09.332Z"
      },
      {
        "duration": 7,
        "start_time": "2023-05-16T12:04:09.348Z"
      },
      {
        "duration": 76,
        "start_time": "2023-05-16T12:04:09.358Z"
      },
      {
        "duration": 27,
        "start_time": "2023-05-16T12:04:09.437Z"
      },
      {
        "duration": 57,
        "start_time": "2023-05-16T12:04:09.468Z"
      },
      {
        "duration": 6,
        "start_time": "2023-05-16T12:04:09.527Z"
      },
      {
        "duration": 17,
        "start_time": "2023-05-16T12:04:09.535Z"
      },
      {
        "duration": 468,
        "start_time": "2023-05-16T12:04:09.554Z"
      },
      {
        "duration": 811,
        "start_time": "2023-05-16T12:04:10.024Z"
      },
      {
        "duration": 12,
        "start_time": "2023-05-16T12:04:10.837Z"
      },
      {
        "duration": 1937,
        "start_time": "2023-05-16T12:04:10.851Z"
      },
      {
        "duration": 86,
        "start_time": "2023-05-16T12:05:26.180Z"
      },
      {
        "duration": 4,
        "start_time": "2023-05-16T12:05:33.439Z"
      },
      {
        "duration": 3,
        "start_time": "2023-05-16T12:05:34.145Z"
      },
      {
        "duration": 25,
        "start_time": "2023-05-16T12:05:36.773Z"
      },
      {
        "duration": 17,
        "start_time": "2023-05-16T12:05:38.773Z"
      },
      {
        "duration": 3,
        "start_time": "2023-05-16T12:05:39.580Z"
      },
      {
        "duration": 17616,
        "start_time": "2023-05-16T12:05:41.034Z"
      },
      {
        "duration": 5,
        "start_time": "2023-05-16T12:06:16.469Z"
      },
      {
        "duration": 4,
        "start_time": "2023-05-16T12:06:19.120Z"
      },
      {
        "duration": 16946,
        "start_time": "2023-05-16T12:06:22.997Z"
      },
      {
        "duration": 4158,
        "start_time": "2023-05-16T12:06:39.946Z"
      },
      {
        "duration": 516,
        "start_time": "2023-05-16T12:06:44.111Z"
      },
      {
        "duration": 546,
        "start_time": "2023-05-16T12:32:58.895Z"
      },
      {
        "duration": 536,
        "start_time": "2023-05-16T12:40:05.210Z"
      },
      {
        "duration": 534,
        "start_time": "2023-05-16T12:54:22.775Z"
      },
      {
        "duration": 567,
        "start_time": "2023-05-16T12:57:23.553Z"
      },
      {
        "duration": 517,
        "start_time": "2023-05-16T13:04:42.549Z"
      },
      {
        "duration": 59,
        "start_time": "2023-05-16T13:09:11.105Z"
      },
      {
        "duration": 21,
        "start_time": "2023-05-16T13:09:24.249Z"
      },
      {
        "duration": 7,
        "start_time": "2023-05-16T16:21:08.743Z"
      },
      {
        "duration": 899,
        "start_time": "2023-05-16T16:21:08.752Z"
      },
      {
        "duration": 4,
        "start_time": "2023-05-16T16:21:09.652Z"
      },
      {
        "duration": 456,
        "start_time": "2023-05-16T16:21:09.657Z"
      },
      {
        "duration": 449,
        "start_time": "2023-05-16T16:21:10.116Z"
      },
      {
        "duration": 211,
        "start_time": "2023-05-16T16:21:10.566Z"
      },
      {
        "duration": 4,
        "start_time": "2023-05-16T16:21:10.779Z"
      },
      {
        "duration": 50,
        "start_time": "2023-05-16T16:21:10.785Z"
      },
      {
        "duration": 10,
        "start_time": "2023-05-16T16:21:10.837Z"
      },
      {
        "duration": 8,
        "start_time": "2023-05-16T16:21:10.849Z"
      },
      {
        "duration": 14,
        "start_time": "2023-05-16T16:21:10.859Z"
      },
      {
        "duration": 7,
        "start_time": "2023-05-16T16:21:10.875Z"
      },
      {
        "duration": 44,
        "start_time": "2023-05-16T16:21:10.884Z"
      },
      {
        "duration": 19,
        "start_time": "2023-05-16T16:21:10.931Z"
      },
      {
        "duration": 20,
        "start_time": "2023-05-16T16:21:10.952Z"
      },
      {
        "duration": 6,
        "start_time": "2023-05-16T16:21:10.973Z"
      },
      {
        "duration": 21,
        "start_time": "2023-05-16T16:21:10.980Z"
      },
      {
        "duration": 443,
        "start_time": "2023-05-16T16:21:11.004Z"
      },
      {
        "duration": 759,
        "start_time": "2023-05-16T16:21:11.449Z"
      },
      {
        "duration": 16,
        "start_time": "2023-05-16T16:21:12.214Z"
      },
      {
        "duration": 1808,
        "start_time": "2023-05-16T16:21:12.233Z"
      },
      {
        "duration": 51,
        "start_time": "2023-05-16T16:21:14.043Z"
      },
      {
        "duration": 0,
        "start_time": "2023-05-16T16:21:14.097Z"
      },
      {
        "duration": 0,
        "start_time": "2023-05-16T16:21:14.098Z"
      },
      {
        "duration": 0,
        "start_time": "2023-05-16T16:21:14.102Z"
      },
      {
        "duration": 0,
        "start_time": "2023-05-16T16:21:14.103Z"
      },
      {
        "duration": 0,
        "start_time": "2023-05-16T16:21:14.105Z"
      },
      {
        "duration": 0,
        "start_time": "2023-05-16T16:21:14.106Z"
      },
      {
        "duration": 0,
        "start_time": "2023-05-16T16:21:14.107Z"
      },
      {
        "duration": 476,
        "start_time": "2023-05-16T16:22:22.715Z"
      },
      {
        "duration": 520,
        "start_time": "2023-05-16T16:23:14.047Z"
      },
      {
        "duration": 117,
        "start_time": "2023-05-16T16:23:25.157Z"
      },
      {
        "duration": 541,
        "start_time": "2023-05-16T16:23:46.316Z"
      },
      {
        "duration": 432,
        "start_time": "2023-05-16T16:26:16.346Z"
      },
      {
        "duration": 9,
        "start_time": "2023-05-16T16:48:38.022Z"
      },
      {
        "duration": 458,
        "start_time": "2023-05-16T16:49:34.032Z"
      },
      {
        "duration": 14117,
        "start_time": "2023-05-16T16:50:01.986Z"
      },
      {
        "duration": 182,
        "start_time": "2023-05-16T16:53:00.601Z"
      },
      {
        "duration": 50,
        "start_time": "2023-05-16T16:53:10.419Z"
      },
      {
        "duration": 8,
        "start_time": "2023-05-16T16:53:25.930Z"
      },
      {
        "duration": 57,
        "start_time": "2023-05-16T16:53:41.800Z"
      },
      {
        "duration": 438,
        "start_time": "2023-05-16T16:54:08.706Z"
      },
      {
        "duration": 85,
        "start_time": "2023-05-16T16:54:34.465Z"
      },
      {
        "duration": 4288,
        "start_time": "2023-05-16T16:54:40.630Z"
      },
      {
        "duration": 3451,
        "start_time": "2023-05-16T16:55:00.559Z"
      },
      {
        "duration": 3282,
        "start_time": "2023-05-16T16:55:32.165Z"
      },
      {
        "duration": 4389,
        "start_time": "2023-05-16T17:00:14.421Z"
      },
      {
        "duration": 3079,
        "start_time": "2023-05-16T17:00:39.861Z"
      },
      {
        "duration": 4,
        "start_time": "2023-05-16T17:02:38.964Z"
      },
      {
        "duration": 843,
        "start_time": "2023-05-16T17:02:38.971Z"
      },
      {
        "duration": 3,
        "start_time": "2023-05-16T17:02:39.816Z"
      },
      {
        "duration": 391,
        "start_time": "2023-05-16T17:02:39.821Z"
      },
      {
        "duration": 386,
        "start_time": "2023-05-16T17:02:40.215Z"
      },
      {
        "duration": 170,
        "start_time": "2023-05-16T17:02:40.606Z"
      },
      {
        "duration": 5,
        "start_time": "2023-05-16T17:02:40.777Z"
      },
      {
        "duration": 41,
        "start_time": "2023-05-16T17:02:40.783Z"
      },
      {
        "duration": 4,
        "start_time": "2023-05-16T17:02:40.826Z"
      },
      {
        "duration": 6,
        "start_time": "2023-05-16T17:02:40.832Z"
      },
      {
        "duration": 14,
        "start_time": "2023-05-16T17:02:40.839Z"
      },
      {
        "duration": 5,
        "start_time": "2023-05-16T17:02:40.855Z"
      },
      {
        "duration": 22,
        "start_time": "2023-05-16T17:02:40.861Z"
      },
      {
        "duration": 32,
        "start_time": "2023-05-16T17:02:40.885Z"
      },
      {
        "duration": 21,
        "start_time": "2023-05-16T17:02:40.919Z"
      },
      {
        "duration": 5,
        "start_time": "2023-05-16T17:02:40.942Z"
      },
      {
        "duration": 10,
        "start_time": "2023-05-16T17:02:40.949Z"
      },
      {
        "duration": 382,
        "start_time": "2023-05-16T17:02:40.961Z"
      },
      {
        "duration": 581,
        "start_time": "2023-05-16T17:02:41.344Z"
      },
      {
        "duration": 9,
        "start_time": "2023-05-16T17:02:41.927Z"
      },
      {
        "duration": 1641,
        "start_time": "2023-05-16T17:02:41.937Z"
      },
      {
        "duration": 145,
        "start_time": "2023-05-16T17:02:43.580Z"
      },
      {
        "duration": 0,
        "start_time": "2023-05-16T17:02:43.727Z"
      },
      {
        "duration": 0,
        "start_time": "2023-05-16T17:02:43.728Z"
      },
      {
        "duration": 0,
        "start_time": "2023-05-16T17:02:43.729Z"
      },
      {
        "duration": 0,
        "start_time": "2023-05-16T17:02:43.730Z"
      },
      {
        "duration": 0,
        "start_time": "2023-05-16T17:02:43.731Z"
      },
      {
        "duration": 33,
        "start_time": "2023-05-16T17:02:47.482Z"
      },
      {
        "duration": 4,
        "start_time": "2023-05-16T17:02:48.610Z"
      },
      {
        "duration": 19,
        "start_time": "2023-05-16T17:02:51.510Z"
      },
      {
        "duration": 14,
        "start_time": "2023-05-16T17:02:53.083Z"
      },
      {
        "duration": 3,
        "start_time": "2023-05-16T17:02:53.892Z"
      },
      {
        "duration": 14775,
        "start_time": "2023-05-16T17:02:54.861Z"
      },
      {
        "duration": 3369,
        "start_time": "2023-05-16T17:03:09.638Z"
      },
      {
        "duration": 14947,
        "start_time": "2023-05-16T17:03:46.425Z"
      },
      {
        "duration": 14320,
        "start_time": "2023-05-16T17:04:42.021Z"
      },
      {
        "duration": 4,
        "start_time": "2023-05-16T17:12:07.327Z"
      },
      {
        "duration": 2,
        "start_time": "2023-05-16T17:12:08.036Z"
      },
      {
        "duration": 3700,
        "start_time": "2023-05-16T17:13:13.724Z"
      },
      {
        "duration": 15835,
        "start_time": "2023-05-16T17:14:05.649Z"
      },
      {
        "duration": 4045,
        "start_time": "2023-05-16T17:14:21.486Z"
      },
      {
        "duration": 15322,
        "start_time": "2023-05-16T17:15:15.111Z"
      },
      {
        "duration": 2409,
        "start_time": "2023-05-16T17:22:52.894Z"
      },
      {
        "duration": 14873,
        "start_time": "2023-05-16T17:23:57.953Z"
      },
      {
        "duration": 70,
        "start_time": "2023-05-16T17:31:45.214Z"
      },
      {
        "duration": 10,
        "start_time": "2023-05-16T17:38:19.535Z"
      },
      {
        "duration": 6,
        "start_time": "2023-05-16T17:38:25.611Z"
      },
      {
        "duration": 809,
        "start_time": "2023-05-16T17:38:25.619Z"
      },
      {
        "duration": 3,
        "start_time": "2023-05-16T17:38:26.431Z"
      },
      {
        "duration": 455,
        "start_time": "2023-05-16T17:38:26.436Z"
      },
      {
        "duration": 488,
        "start_time": "2023-05-16T17:38:26.893Z"
      },
      {
        "duration": 243,
        "start_time": "2023-05-16T17:38:27.383Z"
      },
      {
        "duration": 4,
        "start_time": "2023-05-16T17:38:27.633Z"
      },
      {
        "duration": 21,
        "start_time": "2023-05-16T17:38:27.639Z"
      },
      {
        "duration": 5,
        "start_time": "2023-05-16T17:38:27.662Z"
      },
      {
        "duration": 9,
        "start_time": "2023-05-16T17:38:27.669Z"
      },
      {
        "duration": 13,
        "start_time": "2023-05-16T17:38:27.679Z"
      },
      {
        "duration": 8,
        "start_time": "2023-05-16T17:38:27.693Z"
      },
      {
        "duration": 41,
        "start_time": "2023-05-16T17:38:27.703Z"
      },
      {
        "duration": 23,
        "start_time": "2023-05-16T17:38:27.748Z"
      },
      {
        "duration": 33,
        "start_time": "2023-05-16T17:38:27.774Z"
      },
      {
        "duration": 15,
        "start_time": "2023-05-16T17:38:27.809Z"
      },
      {
        "duration": 7,
        "start_time": "2023-05-16T17:38:27.826Z"
      },
      {
        "duration": 391,
        "start_time": "2023-05-16T17:38:27.835Z"
      },
      {
        "duration": 689,
        "start_time": "2023-05-16T17:38:28.228Z"
      },
      {
        "duration": 13,
        "start_time": "2023-05-16T17:38:28.919Z"
      },
      {
        "duration": 2347,
        "start_time": "2023-05-16T17:38:28.936Z"
      },
      {
        "duration": 4,
        "start_time": "2023-05-16T17:38:31.286Z"
      },
      {
        "duration": 48,
        "start_time": "2023-05-16T17:38:31.299Z"
      },
      {
        "duration": 0,
        "start_time": "2023-05-16T17:38:31.349Z"
      },
      {
        "duration": 0,
        "start_time": "2023-05-16T17:38:31.350Z"
      },
      {
        "duration": 0,
        "start_time": "2023-05-16T17:38:31.351Z"
      },
      {
        "duration": 0,
        "start_time": "2023-05-16T17:38:31.352Z"
      },
      {
        "duration": 0,
        "start_time": "2023-05-16T17:38:31.354Z"
      },
      {
        "duration": 0,
        "start_time": "2023-05-16T17:38:31.355Z"
      },
      {
        "duration": 0,
        "start_time": "2023-05-16T17:38:31.359Z"
      },
      {
        "duration": 0,
        "start_time": "2023-05-16T17:38:31.364Z"
      },
      {
        "duration": 84,
        "start_time": "2023-05-16T17:43:45.894Z"
      },
      {
        "duration": 0,
        "start_time": "2023-05-16T17:43:45.981Z"
      },
      {
        "duration": 0,
        "start_time": "2023-05-16T17:43:45.983Z"
      },
      {
        "duration": 0,
        "start_time": "2023-05-16T17:43:45.984Z"
      },
      {
        "duration": 0,
        "start_time": "2023-05-16T17:43:45.985Z"
      },
      {
        "duration": 0,
        "start_time": "2023-05-16T17:43:45.987Z"
      },
      {
        "duration": 0,
        "start_time": "2023-05-16T17:43:45.988Z"
      },
      {
        "duration": 0,
        "start_time": "2023-05-16T17:43:45.990Z"
      },
      {
        "duration": 0,
        "start_time": "2023-05-16T17:43:45.992Z"
      },
      {
        "duration": 0,
        "start_time": "2023-05-16T17:43:45.993Z"
      },
      {
        "duration": 0,
        "start_time": "2023-05-16T17:43:45.995Z"
      },
      {
        "duration": 0,
        "start_time": "2023-05-16T17:43:45.996Z"
      },
      {
        "duration": 0,
        "start_time": "2023-05-16T17:43:45.997Z"
      },
      {
        "duration": 0,
        "start_time": "2023-05-16T17:43:46.001Z"
      },
      {
        "duration": 0,
        "start_time": "2023-05-16T17:43:46.002Z"
      },
      {
        "duration": 0,
        "start_time": "2023-05-16T17:43:46.003Z"
      },
      {
        "duration": 0,
        "start_time": "2023-05-16T17:43:46.005Z"
      },
      {
        "duration": 0,
        "start_time": "2023-05-16T17:43:46.006Z"
      },
      {
        "duration": 0,
        "start_time": "2023-05-16T17:43:46.007Z"
      },
      {
        "duration": 0,
        "start_time": "2023-05-16T17:43:46.009Z"
      },
      {
        "duration": 0,
        "start_time": "2023-05-16T17:43:46.010Z"
      },
      {
        "duration": 0,
        "start_time": "2023-05-16T17:43:46.011Z"
      },
      {
        "duration": 0,
        "start_time": "2023-05-16T17:43:46.012Z"
      },
      {
        "duration": 0,
        "start_time": "2023-05-16T17:43:46.013Z"
      },
      {
        "duration": 0,
        "start_time": "2023-05-16T17:43:46.018Z"
      },
      {
        "duration": 0,
        "start_time": "2023-05-16T17:43:46.019Z"
      },
      {
        "duration": 1,
        "start_time": "2023-05-16T17:43:46.020Z"
      },
      {
        "duration": 0,
        "start_time": "2023-05-16T17:43:46.022Z"
      },
      {
        "duration": 0,
        "start_time": "2023-05-16T17:43:46.023Z"
      },
      {
        "duration": 0,
        "start_time": "2023-05-16T17:43:46.026Z"
      },
      {
        "duration": 0,
        "start_time": "2023-05-16T17:43:46.027Z"
      },
      {
        "duration": 69,
        "start_time": "2023-05-16T17:43:53.447Z"
      },
      {
        "duration": 0,
        "start_time": "2023-05-16T17:43:53.520Z"
      },
      {
        "duration": 0,
        "start_time": "2023-05-16T17:43:53.522Z"
      },
      {
        "duration": 0,
        "start_time": "2023-05-16T17:43:53.523Z"
      },
      {
        "duration": 0,
        "start_time": "2023-05-16T17:43:53.525Z"
      },
      {
        "duration": 0,
        "start_time": "2023-05-16T17:43:53.527Z"
      },
      {
        "duration": 0,
        "start_time": "2023-05-16T17:43:53.528Z"
      },
      {
        "duration": 0,
        "start_time": "2023-05-16T17:43:53.529Z"
      },
      {
        "duration": 0,
        "start_time": "2023-05-16T17:43:53.531Z"
      },
      {
        "duration": 0,
        "start_time": "2023-05-16T17:43:53.532Z"
      },
      {
        "duration": 0,
        "start_time": "2023-05-16T17:43:53.534Z"
      },
      {
        "duration": 0,
        "start_time": "2023-05-16T17:43:53.535Z"
      },
      {
        "duration": 0,
        "start_time": "2023-05-16T17:43:53.537Z"
      },
      {
        "duration": 0,
        "start_time": "2023-05-16T17:43:53.538Z"
      },
      {
        "duration": 0,
        "start_time": "2023-05-16T17:43:53.539Z"
      },
      {
        "duration": 0,
        "start_time": "2023-05-16T17:43:53.541Z"
      },
      {
        "duration": 0,
        "start_time": "2023-05-16T17:43:53.542Z"
      },
      {
        "duration": 0,
        "start_time": "2023-05-16T17:43:53.544Z"
      },
      {
        "duration": 0,
        "start_time": "2023-05-16T17:43:53.545Z"
      },
      {
        "duration": 0,
        "start_time": "2023-05-16T17:43:53.546Z"
      },
      {
        "duration": 0,
        "start_time": "2023-05-16T17:43:53.548Z"
      },
      {
        "duration": 0,
        "start_time": "2023-05-16T17:43:53.549Z"
      },
      {
        "duration": 0,
        "start_time": "2023-05-16T17:43:53.551Z"
      },
      {
        "duration": 0,
        "start_time": "2023-05-16T17:43:53.552Z"
      },
      {
        "duration": 0,
        "start_time": "2023-05-16T17:43:53.554Z"
      },
      {
        "duration": 0,
        "start_time": "2023-05-16T17:43:53.555Z"
      },
      {
        "duration": 0,
        "start_time": "2023-05-16T17:43:53.557Z"
      },
      {
        "duration": 0,
        "start_time": "2023-05-16T17:43:53.558Z"
      },
      {
        "duration": 0,
        "start_time": "2023-05-16T17:43:53.559Z"
      },
      {
        "duration": 0,
        "start_time": "2023-05-16T17:43:53.601Z"
      },
      {
        "duration": 0,
        "start_time": "2023-05-16T17:43:53.602Z"
      },
      {
        "duration": 4,
        "start_time": "2023-05-16T17:44:16.024Z"
      },
      {
        "duration": 790,
        "start_time": "2023-05-16T17:44:16.030Z"
      },
      {
        "duration": 4,
        "start_time": "2023-05-16T17:44:16.822Z"
      },
      {
        "duration": 437,
        "start_time": "2023-05-16T17:44:16.828Z"
      },
      {
        "duration": 441,
        "start_time": "2023-05-16T17:44:17.267Z"
      },
      {
        "duration": 174,
        "start_time": "2023-05-16T17:44:17.709Z"
      },
      {
        "duration": 3,
        "start_time": "2023-05-16T17:44:17.885Z"
      },
      {
        "duration": 25,
        "start_time": "2023-05-16T17:44:17.889Z"
      },
      {
        "duration": 5,
        "start_time": "2023-05-16T17:44:17.916Z"
      },
      {
        "duration": 6,
        "start_time": "2023-05-16T17:44:17.924Z"
      },
      {
        "duration": 25,
        "start_time": "2023-05-16T17:44:17.931Z"
      },
      {
        "duration": 6,
        "start_time": "2023-05-16T17:44:17.958Z"
      },
      {
        "duration": 37,
        "start_time": "2023-05-16T17:44:17.965Z"
      },
      {
        "duration": 21,
        "start_time": "2023-05-16T17:44:18.003Z"
      },
      {
        "duration": 21,
        "start_time": "2023-05-16T17:44:18.026Z"
      },
      {
        "duration": 6,
        "start_time": "2023-05-16T17:44:18.048Z"
      },
      {
        "duration": 12,
        "start_time": "2023-05-16T17:44:18.055Z"
      },
      {
        "duration": 384,
        "start_time": "2023-05-16T17:44:18.068Z"
      },
      {
        "duration": 695,
        "start_time": "2023-05-16T17:44:18.454Z"
      },
      {
        "duration": 9,
        "start_time": "2023-05-16T17:44:19.151Z"
      },
      {
        "duration": 1640,
        "start_time": "2023-05-16T17:44:19.161Z"
      },
      {
        "duration": 5,
        "start_time": "2023-05-16T17:44:20.805Z"
      },
      {
        "duration": 31,
        "start_time": "2023-05-16T17:44:20.812Z"
      },
      {
        "duration": 0,
        "start_time": "2023-05-16T17:44:20.845Z"
      },
      {
        "duration": 0,
        "start_time": "2023-05-16T17:44:20.847Z"
      },
      {
        "duration": 0,
        "start_time": "2023-05-16T17:44:20.848Z"
      },
      {
        "duration": 0,
        "start_time": "2023-05-16T17:44:20.849Z"
      },
      {
        "duration": 0,
        "start_time": "2023-05-16T17:44:20.851Z"
      },
      {
        "duration": 0,
        "start_time": "2023-05-16T17:44:20.852Z"
      },
      {
        "duration": 0,
        "start_time": "2023-05-16T17:44:20.853Z"
      },
      {
        "duration": 0,
        "start_time": "2023-05-16T17:44:20.854Z"
      },
      {
        "duration": 666,
        "start_time": "2023-05-16T17:46:35.872Z"
      },
      {
        "duration": 625,
        "start_time": "2023-05-16T17:47:09.813Z"
      },
      {
        "duration": 10,
        "start_time": "2023-05-16T17:47:22.777Z"
      },
      {
        "duration": 6,
        "start_time": "2023-05-16T17:47:45.049Z"
      },
      {
        "duration": 5,
        "start_time": "2023-05-16T17:47:45.495Z"
      },
      {
        "duration": 19,
        "start_time": "2023-05-16T17:47:49.112Z"
      },
      {
        "duration": 12,
        "start_time": "2023-05-16T17:47:49.133Z"
      },
      {
        "duration": 16,
        "start_time": "2023-05-16T17:47:49.146Z"
      },
      {
        "duration": 14182,
        "start_time": "2023-05-16T17:47:49.163Z"
      },
      {
        "duration": 5100,
        "start_time": "2023-05-16T17:48:03.348Z"
      },
      {
        "duration": 561,
        "start_time": "2023-05-16T17:48:08.454Z"
      },
      {
        "duration": 11,
        "start_time": "2023-05-16T17:48:09.018Z"
      },
      {
        "duration": 4,
        "start_time": "2023-05-16T17:48:34.686Z"
      },
      {
        "duration": 958,
        "start_time": "2023-05-16T17:48:34.693Z"
      },
      {
        "duration": 6,
        "start_time": "2023-05-16T17:48:35.652Z"
      },
      {
        "duration": 430,
        "start_time": "2023-05-16T17:48:35.660Z"
      },
      {
        "duration": 428,
        "start_time": "2023-05-16T17:48:36.092Z"
      },
      {
        "duration": 184,
        "start_time": "2023-05-16T17:48:36.529Z"
      },
      {
        "duration": 3,
        "start_time": "2023-05-16T17:48:36.716Z"
      },
      {
        "duration": 37,
        "start_time": "2023-05-16T17:48:36.721Z"
      },
      {
        "duration": 15,
        "start_time": "2023-05-16T17:48:36.760Z"
      },
      {
        "duration": 10,
        "start_time": "2023-05-16T17:48:36.777Z"
      },
      {
        "duration": 16,
        "start_time": "2023-05-16T17:48:36.788Z"
      },
      {
        "duration": 36,
        "start_time": "2023-05-16T17:48:36.806Z"
      },
      {
        "duration": 43,
        "start_time": "2023-05-16T17:48:36.844Z"
      },
      {
        "duration": 30,
        "start_time": "2023-05-16T17:48:36.891Z"
      },
      {
        "duration": 52,
        "start_time": "2023-05-16T17:48:36.923Z"
      },
      {
        "duration": 12,
        "start_time": "2023-05-16T17:48:36.977Z"
      },
      {
        "duration": 54,
        "start_time": "2023-05-16T17:48:36.992Z"
      },
      {
        "duration": 527,
        "start_time": "2023-05-16T17:48:37.048Z"
      },
      {
        "duration": 601,
        "start_time": "2023-05-16T17:48:37.577Z"
      },
      {
        "duration": 20,
        "start_time": "2023-05-16T17:48:38.180Z"
      },
      {
        "duration": 1848,
        "start_time": "2023-05-16T17:48:38.205Z"
      },
      {
        "duration": 4,
        "start_time": "2023-05-16T17:48:40.055Z"
      },
      {
        "duration": 15,
        "start_time": "2023-05-16T17:48:40.061Z"
      },
      {
        "duration": 33,
        "start_time": "2023-05-16T17:48:40.078Z"
      },
      {
        "duration": 59,
        "start_time": "2023-05-16T17:48:40.113Z"
      },
      {
        "duration": 11,
        "start_time": "2023-05-16T17:48:40.174Z"
      },
      {
        "duration": 14918,
        "start_time": "2023-05-16T17:48:40.187Z"
      },
      {
        "duration": 3298,
        "start_time": "2023-05-16T17:48:55.108Z"
      },
      {
        "duration": 591,
        "start_time": "2023-05-16T17:48:58.414Z"
      },
      {
        "duration": 22,
        "start_time": "2023-05-16T17:48:59.008Z"
      },
      {
        "duration": 8,
        "start_time": "2023-05-16T17:49:29.317Z"
      },
      {
        "duration": 983,
        "start_time": "2023-05-16T17:49:29.328Z"
      },
      {
        "duration": 10,
        "start_time": "2023-05-16T17:49:30.321Z"
      },
      {
        "duration": 556,
        "start_time": "2023-05-16T17:49:30.334Z"
      },
      {
        "duration": 570,
        "start_time": "2023-05-16T17:49:30.904Z"
      },
      {
        "duration": 321,
        "start_time": "2023-05-16T17:49:31.476Z"
      },
      {
        "duration": 8,
        "start_time": "2023-05-16T17:49:31.802Z"
      },
      {
        "duration": 56,
        "start_time": "2023-05-16T17:49:31.813Z"
      },
      {
        "duration": 17,
        "start_time": "2023-05-16T17:49:31.872Z"
      },
      {
        "duration": 40,
        "start_time": "2023-05-16T17:49:31.891Z"
      },
      {
        "duration": 29,
        "start_time": "2023-05-16T17:49:31.933Z"
      },
      {
        "duration": 7,
        "start_time": "2023-05-16T17:49:31.966Z"
      },
      {
        "duration": 43,
        "start_time": "2023-05-16T17:49:31.975Z"
      },
      {
        "duration": 53,
        "start_time": "2023-05-16T17:49:32.023Z"
      },
      {
        "duration": 29,
        "start_time": "2023-05-16T17:49:32.078Z"
      },
      {
        "duration": 19,
        "start_time": "2023-05-16T17:49:32.109Z"
      },
      {
        "duration": 29,
        "start_time": "2023-05-16T17:49:32.130Z"
      },
      {
        "duration": 525,
        "start_time": "2023-05-16T17:49:32.162Z"
      },
      {
        "duration": 663,
        "start_time": "2023-05-16T17:49:32.688Z"
      },
      {
        "duration": 13,
        "start_time": "2023-05-16T17:49:33.354Z"
      },
      {
        "duration": 1831,
        "start_time": "2023-05-16T17:49:33.370Z"
      },
      {
        "duration": 22,
        "start_time": "2023-05-16T17:49:35.203Z"
      },
      {
        "duration": 27,
        "start_time": "2023-05-16T17:49:35.228Z"
      },
      {
        "duration": 31,
        "start_time": "2023-05-16T17:49:35.257Z"
      },
      {
        "duration": 27,
        "start_time": "2023-05-16T17:49:35.291Z"
      },
      {
        "duration": 24,
        "start_time": "2023-05-16T17:49:35.321Z"
      },
      {
        "duration": 16717,
        "start_time": "2023-05-16T17:49:35.347Z"
      },
      {
        "duration": 3040,
        "start_time": "2023-05-16T17:49:52.066Z"
      },
      {
        "duration": 607,
        "start_time": "2023-05-16T17:49:55.109Z"
      },
      {
        "duration": 19,
        "start_time": "2023-05-16T17:49:55.718Z"
      },
      {
        "duration": 2413,
        "start_time": "2023-05-16T17:52:04.052Z"
      },
      {
        "duration": 1839,
        "start_time": "2023-05-16T17:52:46.213Z"
      },
      {
        "duration": 2165,
        "start_time": "2023-05-17T07:22:45.108Z"
      },
      {
        "duration": 2145,
        "start_time": "2023-05-17T07:22:47.276Z"
      },
      {
        "duration": 4,
        "start_time": "2023-05-17T07:22:49.423Z"
      },
      {
        "duration": 453,
        "start_time": "2023-05-17T07:22:49.429Z"
      },
      {
        "duration": 425,
        "start_time": "2023-05-17T07:22:49.885Z"
      },
      {
        "duration": 220,
        "start_time": "2023-05-17T07:22:50.312Z"
      },
      {
        "duration": 4,
        "start_time": "2023-05-17T07:22:50.534Z"
      },
      {
        "duration": 18,
        "start_time": "2023-05-17T07:22:50.540Z"
      },
      {
        "duration": 20,
        "start_time": "2023-05-17T07:22:50.572Z"
      },
      {
        "duration": 11,
        "start_time": "2023-05-17T07:22:50.594Z"
      },
      {
        "duration": 22,
        "start_time": "2023-05-17T07:22:50.607Z"
      },
      {
        "duration": 34,
        "start_time": "2023-05-17T07:22:50.632Z"
      },
      {
        "duration": 35,
        "start_time": "2023-05-17T07:22:50.669Z"
      },
      {
        "duration": 31,
        "start_time": "2023-05-17T07:22:50.707Z"
      },
      {
        "duration": 37,
        "start_time": "2023-05-17T07:22:50.740Z"
      },
      {
        "duration": 7,
        "start_time": "2023-05-17T07:22:50.778Z"
      },
      {
        "duration": 14,
        "start_time": "2023-05-17T07:22:50.786Z"
      },
      {
        "duration": 440,
        "start_time": "2023-05-17T07:22:50.801Z"
      },
      {
        "duration": 774,
        "start_time": "2023-05-17T07:22:51.243Z"
      },
      {
        "duration": 11,
        "start_time": "2023-05-17T07:22:52.019Z"
      },
      {
        "duration": 1739,
        "start_time": "2023-05-17T07:22:52.032Z"
      },
      {
        "duration": 4,
        "start_time": "2023-05-17T07:22:53.773Z"
      },
      {
        "duration": 20,
        "start_time": "2023-05-17T07:22:53.778Z"
      },
      {
        "duration": 26,
        "start_time": "2023-05-17T07:22:53.800Z"
      },
      {
        "duration": 23,
        "start_time": "2023-05-17T07:22:53.828Z"
      },
      {
        "duration": 9,
        "start_time": "2023-05-17T07:22:53.853Z"
      },
      {
        "duration": 14329,
        "start_time": "2023-05-17T07:22:53.864Z"
      },
      {
        "duration": 2476,
        "start_time": "2023-05-17T07:23:08.196Z"
      },
      {
        "duration": 538,
        "start_time": "2023-05-17T07:23:10.674Z"
      },
      {
        "duration": 130,
        "start_time": "2023-05-17T07:23:11.214Z"
      },
      {
        "duration": 401,
        "start_time": "2023-05-17T07:25:04.380Z"
      },
      {
        "duration": 303,
        "start_time": "2023-05-17T07:25:08.878Z"
      },
      {
        "duration": 17,
        "start_time": "2023-05-17T07:33:54.518Z"
      },
      {
        "duration": 3163,
        "start_time": "2023-05-17T07:35:39.324Z"
      },
      {
        "duration": 2352,
        "start_time": "2023-05-17T07:35:54.759Z"
      },
      {
        "duration": 4293,
        "start_time": "2023-05-17T07:36:09.159Z"
      },
      {
        "duration": 9,
        "start_time": "2023-05-17T08:06:22.792Z"
      },
      {
        "duration": 2564,
        "start_time": "2023-05-17T08:06:25.524Z"
      },
      {
        "duration": 1229,
        "start_time": "2023-05-17T08:06:36.178Z"
      },
      {
        "duration": 2079,
        "start_time": "2023-05-17T08:06:43.886Z"
      },
      {
        "duration": 2,
        "start_time": "2023-05-17T08:06:50.534Z"
      },
      {
        "duration": 1534,
        "start_time": "2023-05-17T08:06:56.451Z"
      },
      {
        "duration": 2297,
        "start_time": "2023-05-17T08:07:05.047Z"
      },
      {
        "duration": 2204,
        "start_time": "2023-05-17T08:07:10.649Z"
      },
      {
        "duration": 2,
        "start_time": "2023-05-17T08:07:33.026Z"
      },
      {
        "duration": 1512,
        "start_time": "2023-05-17T08:07:56.494Z"
      },
      {
        "duration": 3,
        "start_time": "2023-05-17T08:08:31.188Z"
      },
      {
        "duration": 10,
        "start_time": "2023-05-17T08:09:02.036Z"
      },
      {
        "duration": 2062,
        "start_time": "2023-05-17T08:09:34.404Z"
      },
      {
        "duration": 4,
        "start_time": "2023-05-17T08:09:56.487Z"
      },
      {
        "duration": 1887,
        "start_time": "2023-05-17T08:10:29.742Z"
      },
      {
        "duration": 2,
        "start_time": "2023-05-17T08:12:35.721Z"
      },
      {
        "duration": 1859,
        "start_time": "2023-05-17T08:12:58.525Z"
      },
      {
        "duration": 9,
        "start_time": "2023-05-17T08:13:58.476Z"
      },
      {
        "duration": 4,
        "start_time": "2023-05-17T08:14:25.189Z"
      },
      {
        "duration": 861,
        "start_time": "2023-05-17T08:14:25.196Z"
      },
      {
        "duration": 5,
        "start_time": "2023-05-17T08:14:26.060Z"
      },
      {
        "duration": 473,
        "start_time": "2023-05-17T08:14:26.068Z"
      },
      {
        "duration": 441,
        "start_time": "2023-05-17T08:14:26.543Z"
      },
      {
        "duration": 218,
        "start_time": "2023-05-17T08:14:26.985Z"
      },
      {
        "duration": 3,
        "start_time": "2023-05-17T08:14:27.206Z"
      },
      {
        "duration": 15,
        "start_time": "2023-05-17T08:14:27.210Z"
      },
      {
        "duration": 6,
        "start_time": "2023-05-17T08:14:27.228Z"
      },
      {
        "duration": 37,
        "start_time": "2023-05-17T08:14:27.237Z"
      },
      {
        "duration": 12,
        "start_time": "2023-05-17T08:14:27.276Z"
      },
      {
        "duration": 5,
        "start_time": "2023-05-17T08:14:27.290Z"
      },
      {
        "duration": 31,
        "start_time": "2023-05-17T08:14:27.297Z"
      },
      {
        "duration": 58,
        "start_time": "2023-05-17T08:14:27.330Z"
      },
      {
        "duration": 23,
        "start_time": "2023-05-17T08:14:27.390Z"
      },
      {
        "duration": 7,
        "start_time": "2023-05-17T08:14:27.415Z"
      },
      {
        "duration": 9,
        "start_time": "2023-05-17T08:14:27.424Z"
      },
      {
        "duration": 451,
        "start_time": "2023-05-17T08:14:27.434Z"
      },
      {
        "duration": 671,
        "start_time": "2023-05-17T08:14:27.887Z"
      },
      {
        "duration": 15,
        "start_time": "2023-05-17T08:14:28.559Z"
      },
      {
        "duration": 1821,
        "start_time": "2023-05-17T08:14:31.176Z"
      },
      {
        "duration": 25,
        "start_time": "2023-05-17T08:14:41.879Z"
      },
      {
        "duration": 10,
        "start_time": "2023-05-17T08:14:51.914Z"
      },
      {
        "duration": 8,
        "start_time": "2023-05-17T08:14:59.621Z"
      },
      {
        "duration": 11,
        "start_time": "2023-05-17T08:15:07.385Z"
      },
      {
        "duration": 1517,
        "start_time": "2023-05-17T08:15:12.679Z"
      },
      {
        "duration": 4,
        "start_time": "2023-05-17T08:15:33.280Z"
      },
      {
        "duration": 876,
        "start_time": "2023-05-17T08:15:33.287Z"
      },
      {
        "duration": 5,
        "start_time": "2023-05-17T08:15:34.164Z"
      },
      {
        "duration": 432,
        "start_time": "2023-05-17T08:15:34.170Z"
      },
      {
        "duration": 437,
        "start_time": "2023-05-17T08:15:34.605Z"
      },
      {
        "duration": 206,
        "start_time": "2023-05-17T08:15:35.044Z"
      },
      {
        "duration": 3,
        "start_time": "2023-05-17T08:15:35.252Z"
      },
      {
        "duration": 31,
        "start_time": "2023-05-17T08:15:35.257Z"
      },
      {
        "duration": 45,
        "start_time": "2023-05-17T08:15:35.290Z"
      },
      {
        "duration": 35,
        "start_time": "2023-05-17T08:15:35.337Z"
      },
      {
        "duration": 50,
        "start_time": "2023-05-17T08:15:35.374Z"
      },
      {
        "duration": 10,
        "start_time": "2023-05-17T08:15:35.426Z"
      },
      {
        "duration": 45,
        "start_time": "2023-05-17T08:15:35.438Z"
      },
      {
        "duration": 33,
        "start_time": "2023-05-17T08:15:35.486Z"
      },
      {
        "duration": 39,
        "start_time": "2023-05-17T08:15:35.521Z"
      },
      {
        "duration": 12,
        "start_time": "2023-05-17T08:15:35.562Z"
      },
      {
        "duration": 18,
        "start_time": "2023-05-17T08:15:35.576Z"
      },
      {
        "duration": 466,
        "start_time": "2023-05-17T08:15:35.597Z"
      },
      {
        "duration": 664,
        "start_time": "2023-05-17T08:15:36.072Z"
      },
      {
        "duration": 14,
        "start_time": "2023-05-17T08:15:36.738Z"
      },
      {
        "duration": 1730,
        "start_time": "2023-05-17T08:15:36.755Z"
      },
      {
        "duration": 18,
        "start_time": "2023-05-17T08:15:40.818Z"
      },
      {
        "duration": 10,
        "start_time": "2023-05-17T08:15:42.044Z"
      },
      {
        "duration": 9,
        "start_time": "2023-05-17T08:15:45.476Z"
      },
      {
        "duration": 11,
        "start_time": "2023-05-17T08:15:46.432Z"
      },
      {
        "duration": 11,
        "start_time": "2023-05-17T08:15:47.197Z"
      },
      {
        "duration": 1948,
        "start_time": "2023-05-17T08:15:48.434Z"
      },
      {
        "duration": 1367,
        "start_time": "2023-05-17T08:15:57.322Z"
      },
      {
        "duration": 0,
        "start_time": "2023-05-17T08:15:58.691Z"
      },
      {
        "duration": 4,
        "start_time": "2023-05-17T08:16:05.235Z"
      },
      {
        "duration": 827,
        "start_time": "2023-05-17T08:16:05.242Z"
      },
      {
        "duration": 4,
        "start_time": "2023-05-17T08:16:06.071Z"
      },
      {
        "duration": 576,
        "start_time": "2023-05-17T08:16:06.077Z"
      },
      {
        "duration": 425,
        "start_time": "2023-05-17T08:16:06.656Z"
      },
      {
        "duration": 215,
        "start_time": "2023-05-17T08:16:07.082Z"
      },
      {
        "duration": 3,
        "start_time": "2023-05-17T08:16:07.299Z"
      },
      {
        "duration": 26,
        "start_time": "2023-05-17T08:16:07.304Z"
      },
      {
        "duration": 17,
        "start_time": "2023-05-17T08:16:07.331Z"
      },
      {
        "duration": 18,
        "start_time": "2023-05-17T08:16:07.349Z"
      },
      {
        "duration": 19,
        "start_time": "2023-05-17T08:16:07.368Z"
      },
      {
        "duration": 16,
        "start_time": "2023-05-17T08:16:07.389Z"
      },
      {
        "duration": 38,
        "start_time": "2023-05-17T08:16:07.407Z"
      },
      {
        "duration": 31,
        "start_time": "2023-05-17T08:16:07.448Z"
      },
      {
        "duration": 24,
        "start_time": "2023-05-17T08:16:07.481Z"
      },
      {
        "duration": 8,
        "start_time": "2023-05-17T08:16:07.508Z"
      },
      {
        "duration": 17,
        "start_time": "2023-05-17T08:16:07.519Z"
      },
      {
        "duration": 462,
        "start_time": "2023-05-17T08:16:07.539Z"
      },
      {
        "duration": 658,
        "start_time": "2023-05-17T08:16:08.003Z"
      },
      {
        "duration": 17,
        "start_time": "2023-05-17T08:16:08.664Z"
      },
      {
        "duration": 1698,
        "start_time": "2023-05-17T08:16:08.683Z"
      },
      {
        "duration": 16,
        "start_time": "2023-05-17T08:16:13.186Z"
      },
      {
        "duration": 8,
        "start_time": "2023-05-17T08:16:13.877Z"
      },
      {
        "duration": 8,
        "start_time": "2023-05-17T08:16:14.450Z"
      },
      {
        "duration": 9,
        "start_time": "2023-05-17T08:16:17.156Z"
      },
      {
        "duration": 1999,
        "start_time": "2023-05-17T08:16:18.427Z"
      },
      {
        "duration": 0,
        "start_time": "2023-05-17T08:16:20.428Z"
      },
      {
        "duration": 2379,
        "start_time": "2023-05-17T08:17:47.584Z"
      },
      {
        "duration": 3,
        "start_time": "2023-05-17T08:17:56.179Z"
      },
      {
        "duration": 2010,
        "start_time": "2023-05-17T08:18:07.789Z"
      },
      {
        "duration": 2,
        "start_time": "2023-05-17T08:18:18.982Z"
      },
      {
        "duration": 4,
        "start_time": "2023-05-17T08:18:21.890Z"
      },
      {
        "duration": 826,
        "start_time": "2023-05-17T08:18:21.897Z"
      },
      {
        "duration": 5,
        "start_time": "2023-05-17T08:18:22.724Z"
      },
      {
        "duration": 430,
        "start_time": "2023-05-17T08:18:22.731Z"
      },
      {
        "duration": 443,
        "start_time": "2023-05-17T08:18:23.163Z"
      },
      {
        "duration": 205,
        "start_time": "2023-05-17T08:18:23.608Z"
      },
      {
        "duration": 3,
        "start_time": "2023-05-17T08:18:23.815Z"
      },
      {
        "duration": 20,
        "start_time": "2023-05-17T08:18:23.820Z"
      },
      {
        "duration": 20,
        "start_time": "2023-05-17T08:18:23.842Z"
      },
      {
        "duration": 6,
        "start_time": "2023-05-17T08:18:23.872Z"
      },
      {
        "duration": 17,
        "start_time": "2023-05-17T08:18:23.880Z"
      },
      {
        "duration": 12,
        "start_time": "2023-05-17T08:18:23.899Z"
      },
      {
        "duration": 61,
        "start_time": "2023-05-17T08:18:23.914Z"
      },
      {
        "duration": 23,
        "start_time": "2023-05-17T08:18:23.977Z"
      },
      {
        "duration": 24,
        "start_time": "2023-05-17T08:18:24.001Z"
      },
      {
        "duration": 6,
        "start_time": "2023-05-17T08:18:24.027Z"
      },
      {
        "duration": 37,
        "start_time": "2023-05-17T08:18:24.035Z"
      },
      {
        "duration": 417,
        "start_time": "2023-05-17T08:18:24.074Z"
      },
      {
        "duration": 756,
        "start_time": "2023-05-17T08:18:24.493Z"
      },
      {
        "duration": 24,
        "start_time": "2023-05-17T08:18:25.251Z"
      },
      {
        "duration": 1696,
        "start_time": "2023-05-17T08:18:25.277Z"
      },
      {
        "duration": 67,
        "start_time": "2023-05-17T08:18:26.975Z"
      },
      {
        "duration": 0,
        "start_time": "2023-05-17T08:18:27.044Z"
      },
      {
        "duration": 0,
        "start_time": "2023-05-17T08:18:27.046Z"
      },
      {
        "duration": 0,
        "start_time": "2023-05-17T08:18:27.047Z"
      },
      {
        "duration": 0,
        "start_time": "2023-05-17T08:18:27.048Z"
      },
      {
        "duration": 0,
        "start_time": "2023-05-17T08:18:27.049Z"
      },
      {
        "duration": 0,
        "start_time": "2023-05-17T08:18:27.050Z"
      },
      {
        "duration": 0,
        "start_time": "2023-05-17T08:18:27.051Z"
      },
      {
        "duration": 0,
        "start_time": "2023-05-17T08:18:27.052Z"
      },
      {
        "duration": 0,
        "start_time": "2023-05-17T08:18:27.054Z"
      },
      {
        "duration": 0,
        "start_time": "2023-05-17T08:18:27.055Z"
      },
      {
        "duration": 0,
        "start_time": "2023-05-17T08:18:27.056Z"
      },
      {
        "duration": 0,
        "start_time": "2023-05-17T08:18:27.057Z"
      },
      {
        "duration": 0,
        "start_time": "2023-05-17T08:18:27.058Z"
      },
      {
        "duration": 0,
        "start_time": "2023-05-17T08:18:27.059Z"
      },
      {
        "duration": 0,
        "start_time": "2023-05-17T08:18:27.060Z"
      },
      {
        "duration": 0,
        "start_time": "2023-05-17T08:18:27.061Z"
      },
      {
        "duration": 0,
        "start_time": "2023-05-17T08:18:27.062Z"
      },
      {
        "duration": 5,
        "start_time": "2023-05-17T08:18:52.491Z"
      },
      {
        "duration": 825,
        "start_time": "2023-05-17T08:18:52.498Z"
      },
      {
        "duration": 4,
        "start_time": "2023-05-17T08:18:53.325Z"
      },
      {
        "duration": 429,
        "start_time": "2023-05-17T08:18:53.330Z"
      },
      {
        "duration": 439,
        "start_time": "2023-05-17T08:18:53.761Z"
      },
      {
        "duration": 208,
        "start_time": "2023-05-17T08:18:54.203Z"
      },
      {
        "duration": 4,
        "start_time": "2023-05-17T08:18:54.413Z"
      },
      {
        "duration": 29,
        "start_time": "2023-05-17T08:18:54.419Z"
      },
      {
        "duration": 21,
        "start_time": "2023-05-17T08:18:54.451Z"
      },
      {
        "duration": 39,
        "start_time": "2023-05-17T08:18:54.474Z"
      },
      {
        "duration": 48,
        "start_time": "2023-05-17T08:18:54.515Z"
      },
      {
        "duration": 5,
        "start_time": "2023-05-17T08:18:54.565Z"
      },
      {
        "duration": 35,
        "start_time": "2023-05-17T08:18:54.572Z"
      },
      {
        "duration": 23,
        "start_time": "2023-05-17T08:18:54.611Z"
      },
      {
        "duration": 49,
        "start_time": "2023-05-17T08:18:54.636Z"
      },
      {
        "duration": 6,
        "start_time": "2023-05-17T08:18:54.688Z"
      },
      {
        "duration": 21,
        "start_time": "2023-05-17T08:18:54.696Z"
      },
      {
        "duration": 419,
        "start_time": "2023-05-17T08:18:54.719Z"
      },
      {
        "duration": 712,
        "start_time": "2023-05-17T08:18:55.140Z"
      },
      {
        "duration": 20,
        "start_time": "2023-05-17T08:18:55.854Z"
      },
      {
        "duration": 1901,
        "start_time": "2023-05-17T08:18:55.876Z"
      },
      {
        "duration": 19,
        "start_time": "2023-05-17T08:18:57.779Z"
      },
      {
        "duration": 11,
        "start_time": "2023-05-17T08:18:57.800Z"
      },
      {
        "duration": 14,
        "start_time": "2023-05-17T08:18:57.814Z"
      },
      {
        "duration": 22,
        "start_time": "2023-05-17T08:18:57.830Z"
      },
      {
        "duration": 31,
        "start_time": "2023-05-17T08:18:57.854Z"
      },
      {
        "duration": 4,
        "start_time": "2023-05-17T08:18:57.888Z"
      },
      {
        "duration": 31,
        "start_time": "2023-05-17T08:18:57.894Z"
      },
      {
        "duration": 16,
        "start_time": "2023-05-17T08:18:57.927Z"
      },
      {
        "duration": 18,
        "start_time": "2023-05-17T08:18:57.945Z"
      },
      {
        "duration": 16,
        "start_time": "2023-05-17T08:18:57.965Z"
      },
      {
        "duration": 24,
        "start_time": "2023-05-17T08:18:57.984Z"
      },
      {
        "duration": 13,
        "start_time": "2023-05-17T08:18:58.010Z"
      },
      {
        "duration": 9,
        "start_time": "2023-05-17T08:18:58.025Z"
      },
      {
        "duration": 39,
        "start_time": "2023-05-17T08:18:58.036Z"
      },
      {
        "duration": 0,
        "start_time": "2023-05-17T08:18:58.077Z"
      },
      {
        "duration": 0,
        "start_time": "2023-05-17T08:18:58.079Z"
      },
      {
        "duration": 0,
        "start_time": "2023-05-17T08:18:58.080Z"
      },
      {
        "duration": 27,
        "start_time": "2023-05-17T08:20:30.599Z"
      },
      {
        "duration": 5,
        "start_time": "2023-05-17T08:21:09.884Z"
      },
      {
        "duration": 729,
        "start_time": "2023-05-17T08:21:10.876Z"
      },
      {
        "duration": 4,
        "start_time": "2023-05-17T08:21:11.607Z"
      },
      {
        "duration": 421,
        "start_time": "2023-05-17T08:21:12.072Z"
      },
      {
        "duration": 433,
        "start_time": "2023-05-17T08:21:12.496Z"
      },
      {
        "duration": 194,
        "start_time": "2023-05-17T08:21:13.003Z"
      },
      {
        "duration": 6,
        "start_time": "2023-05-17T08:21:13.680Z"
      },
      {
        "duration": 9,
        "start_time": "2023-05-17T08:21:13.982Z"
      },
      {
        "duration": 5,
        "start_time": "2023-05-17T08:21:14.158Z"
      },
      {
        "duration": 5,
        "start_time": "2023-05-17T08:21:14.350Z"
      },
      {
        "duration": 14,
        "start_time": "2023-05-17T08:21:14.518Z"
      },
      {
        "duration": 7,
        "start_time": "2023-05-17T08:21:15.486Z"
      },
      {
        "duration": 28,
        "start_time": "2023-05-17T08:21:16.555Z"
      },
      {
        "duration": 23,
        "start_time": "2023-05-17T08:21:16.724Z"
      },
      {
        "duration": 25,
        "start_time": "2023-05-17T08:21:17.096Z"
      },
      {
        "duration": 7,
        "start_time": "2023-05-17T08:21:18.513Z"
      },
      {
        "duration": 7,
        "start_time": "2023-05-17T08:21:18.977Z"
      },
      {
        "duration": 395,
        "start_time": "2023-05-17T08:21:19.908Z"
      },
      {
        "duration": 658,
        "start_time": "2023-05-17T08:21:21.677Z"
      },
      {
        "duration": 12,
        "start_time": "2023-05-17T08:21:23.598Z"
      },
      {
        "duration": 1829,
        "start_time": "2023-05-17T08:21:24.195Z"
      },
      {
        "duration": 26,
        "start_time": "2023-05-17T08:21:26.027Z"
      },
      {
        "duration": 12,
        "start_time": "2023-05-17T08:21:27.142Z"
      },
      {
        "duration": 11,
        "start_time": "2023-05-17T08:21:27.914Z"
      },
      {
        "duration": 11,
        "start_time": "2023-05-17T08:21:28.661Z"
      },
      {
        "duration": 15,
        "start_time": "2023-05-17T08:21:28.998Z"
      },
      {
        "duration": 3,
        "start_time": "2023-05-17T08:21:29.392Z"
      },
      {
        "duration": 3,
        "start_time": "2023-05-17T08:21:29.650Z"
      },
      {
        "duration": 2,
        "start_time": "2023-05-17T08:21:29.887Z"
      },
      {
        "duration": 4,
        "start_time": "2023-05-17T08:21:33.711Z"
      },
      {
        "duration": 3,
        "start_time": "2023-05-17T08:21:34.229Z"
      },
      {
        "duration": 19,
        "start_time": "2023-05-17T08:21:36.660Z"
      },
      {
        "duration": 10,
        "start_time": "2023-05-17T08:21:38.125Z"
      },
      {
        "duration": 3,
        "start_time": "2023-05-17T08:21:38.729Z"
      },
      {
        "duration": 25,
        "start_time": "2023-05-17T08:21:39.945Z"
      },
      {
        "duration": 24,
        "start_time": "2023-05-17T08:22:06.810Z"
      },
      {
        "duration": 5,
        "start_time": "2023-05-17T08:22:46.332Z"
      },
      {
        "duration": 737,
        "start_time": "2023-05-17T08:22:46.488Z"
      },
      {
        "duration": 4,
        "start_time": "2023-05-17T08:22:47.227Z"
      },
      {
        "duration": 591,
        "start_time": "2023-05-17T08:22:47.233Z"
      },
      {
        "duration": 460,
        "start_time": "2023-05-17T08:22:47.830Z"
      },
      {
        "duration": 221,
        "start_time": "2023-05-17T08:22:48.292Z"
      },
      {
        "duration": 3,
        "start_time": "2023-05-17T08:22:48.515Z"
      },
      {
        "duration": 34,
        "start_time": "2023-05-17T08:22:48.520Z"
      },
      {
        "duration": 16,
        "start_time": "2023-05-17T08:22:48.556Z"
      },
      {
        "duration": 9,
        "start_time": "2023-05-17T08:22:48.574Z"
      },
      {
        "duration": 13,
        "start_time": "2023-05-17T08:22:48.693Z"
      },
      {
        "duration": 7,
        "start_time": "2023-05-17T08:22:49.380Z"
      },
      {
        "duration": 25,
        "start_time": "2023-05-17T08:22:50.088Z"
      },
      {
        "duration": 21,
        "start_time": "2023-05-17T08:22:50.246Z"
      },
      {
        "duration": 24,
        "start_time": "2023-05-17T08:22:50.606Z"
      },
      {
        "duration": 7,
        "start_time": "2023-05-17T08:22:52.002Z"
      },
      {
        "duration": 6,
        "start_time": "2023-05-17T08:22:52.384Z"
      },
      {
        "duration": 415,
        "start_time": "2023-05-17T08:22:52.822Z"
      },
      {
        "duration": 600,
        "start_time": "2023-05-17T08:22:54.446Z"
      },
      {
        "duration": 12,
        "start_time": "2023-05-17T08:22:56.243Z"
      },
      {
        "duration": 1694,
        "start_time": "2023-05-17T08:22:56.423Z"
      },
      {
        "duration": 20,
        "start_time": "2023-05-17T08:22:58.335Z"
      },
      {
        "duration": 22,
        "start_time": "2023-05-17T08:22:58.930Z"
      },
      {
        "duration": 21,
        "start_time": "2023-05-17T08:22:59.257Z"
      },
      {
        "duration": 21,
        "start_time": "2023-05-17T08:22:59.780Z"
      },
      {
        "duration": 16,
        "start_time": "2023-05-17T08:23:00.214Z"
      },
      {
        "duration": 3,
        "start_time": "2023-05-17T08:23:00.958Z"
      },
      {
        "duration": 3,
        "start_time": "2023-05-17T08:23:01.226Z"
      },
      {
        "duration": 2,
        "start_time": "2023-05-17T08:23:01.417Z"
      },
      {
        "duration": 4,
        "start_time": "2023-05-17T08:23:03.476Z"
      },
      {
        "duration": 3,
        "start_time": "2023-05-17T08:23:03.700Z"
      },
      {
        "duration": 26,
        "start_time": "2023-05-17T08:23:05.588Z"
      },
      {
        "duration": 19,
        "start_time": "2023-05-17T08:23:06.762Z"
      },
      {
        "duration": 3,
        "start_time": "2023-05-17T08:23:08.100Z"
      },
      {
        "duration": 12889,
        "start_time": "2023-05-17T08:23:09.225Z"
      },
      {
        "duration": 2032,
        "start_time": "2023-05-17T08:23:25.640Z"
      },
      {
        "duration": 261,
        "start_time": "2023-05-17T08:23:31.218Z"
      },
      {
        "duration": 12,
        "start_time": "2023-05-17T08:23:33.031Z"
      },
      {
        "duration": 14,
        "start_time": "2023-05-17T08:23:37.002Z"
      },
      {
        "duration": 14,
        "start_time": "2023-05-17T08:24:10.561Z"
      },
      {
        "duration": 1980,
        "start_time": "2023-05-17T08:25:24.197Z"
      },
      {
        "duration": 5,
        "start_time": "2023-05-17T08:25:43.298Z"
      },
      {
        "duration": 770,
        "start_time": "2023-05-17T08:25:43.305Z"
      },
      {
        "duration": 4,
        "start_time": "2023-05-17T08:25:44.077Z"
      },
      {
        "duration": 427,
        "start_time": "2023-05-17T08:25:44.083Z"
      },
      {
        "duration": 434,
        "start_time": "2023-05-17T08:25:44.512Z"
      },
      {
        "duration": 228,
        "start_time": "2023-05-17T08:25:44.948Z"
      },
      {
        "duration": 3,
        "start_time": "2023-05-17T08:25:45.179Z"
      },
      {
        "duration": 53,
        "start_time": "2023-05-17T08:25:45.185Z"
      },
      {
        "duration": 23,
        "start_time": "2023-05-17T08:25:45.241Z"
      },
      {
        "duration": 22,
        "start_time": "2023-05-17T08:25:45.267Z"
      },
      {
        "duration": 27,
        "start_time": "2023-05-17T08:25:45.292Z"
      },
      {
        "duration": 12,
        "start_time": "2023-05-17T08:25:45.321Z"
      },
      {
        "duration": 33,
        "start_time": "2023-05-17T08:25:45.335Z"
      },
      {
        "duration": 26,
        "start_time": "2023-05-17T08:25:45.370Z"
      },
      {
        "duration": 40,
        "start_time": "2023-05-17T08:25:45.399Z"
      },
      {
        "duration": 7,
        "start_time": "2023-05-17T08:25:45.442Z"
      },
      {
        "duration": 21,
        "start_time": "2023-05-17T08:25:45.451Z"
      },
      {
        "duration": 415,
        "start_time": "2023-05-17T08:25:45.475Z"
      },
      {
        "duration": 851,
        "start_time": "2023-05-17T08:25:45.892Z"
      },
      {
        "duration": 11,
        "start_time": "2023-05-17T08:25:46.745Z"
      },
      {
        "duration": 1730,
        "start_time": "2023-05-17T08:25:46.758Z"
      },
      {
        "duration": 20,
        "start_time": "2023-05-17T08:25:48.490Z"
      },
      {
        "duration": 20,
        "start_time": "2023-05-17T08:25:48.512Z"
      },
      {
        "duration": 46,
        "start_time": "2023-05-17T08:25:48.535Z"
      },
      {
        "duration": 20,
        "start_time": "2023-05-17T08:25:48.583Z"
      },
      {
        "duration": 11,
        "start_time": "2023-05-17T08:25:48.605Z"
      },
      {
        "duration": 4,
        "start_time": "2023-05-17T08:25:48.618Z"
      },
      {
        "duration": 10,
        "start_time": "2023-05-17T08:25:48.624Z"
      },
      {
        "duration": 61,
        "start_time": "2023-05-17T08:25:48.636Z"
      },
      {
        "duration": 15,
        "start_time": "2023-05-17T08:25:48.700Z"
      },
      {
        "duration": 11,
        "start_time": "2023-05-17T08:25:48.717Z"
      },
      {
        "duration": 12787,
        "start_time": "2023-05-17T08:25:48.730Z"
      },
      {
        "duration": 2354,
        "start_time": "2023-05-17T08:26:01.519Z"
      },
      {
        "duration": 401,
        "start_time": "2023-05-17T08:26:03.875Z"
      },
      {
        "duration": 100,
        "start_time": "2023-05-17T08:26:04.279Z"
      },
      {
        "duration": 13,
        "start_time": "2023-05-17T08:28:39.630Z"
      },
      {
        "duration": 147,
        "start_time": "2023-05-17T08:29:06.326Z"
      },
      {
        "duration": 153,
        "start_time": "2023-05-17T08:30:49.838Z"
      },
      {
        "duration": 127,
        "start_time": "2023-05-17T08:31:40.890Z"
      },
      {
        "duration": 13,
        "start_time": "2023-05-17T08:31:56.280Z"
      },
      {
        "duration": 130,
        "start_time": "2023-05-17T08:32:28.007Z"
      },
      {
        "duration": 125,
        "start_time": "2023-05-17T08:33:03.841Z"
      },
      {
        "duration": 11,
        "start_time": "2023-05-17T08:34:22.441Z"
      },
      {
        "duration": 4,
        "start_time": "2023-05-17T08:53:47.511Z"
      },
      {
        "duration": 775,
        "start_time": "2023-05-17T08:53:47.517Z"
      },
      {
        "duration": 3,
        "start_time": "2023-05-17T08:53:48.294Z"
      },
      {
        "duration": 437,
        "start_time": "2023-05-17T08:53:48.299Z"
      },
      {
        "duration": 429,
        "start_time": "2023-05-17T08:53:48.739Z"
      },
      {
        "duration": 201,
        "start_time": "2023-05-17T08:53:49.171Z"
      },
      {
        "duration": 4,
        "start_time": "2023-05-17T08:53:49.374Z"
      },
      {
        "duration": 13,
        "start_time": "2023-05-17T08:53:49.379Z"
      },
      {
        "duration": 7,
        "start_time": "2023-05-17T08:53:49.394Z"
      },
      {
        "duration": 6,
        "start_time": "2023-05-17T08:53:49.403Z"
      },
      {
        "duration": 19,
        "start_time": "2023-05-17T08:53:49.411Z"
      },
      {
        "duration": 41,
        "start_time": "2023-05-17T08:53:49.432Z"
      },
      {
        "duration": 24,
        "start_time": "2023-05-17T08:53:49.475Z"
      },
      {
        "duration": 22,
        "start_time": "2023-05-17T08:53:49.502Z"
      },
      {
        "duration": 63,
        "start_time": "2023-05-17T08:53:49.526Z"
      },
      {
        "duration": 7,
        "start_time": "2023-05-17T08:53:49.590Z"
      },
      {
        "duration": 16,
        "start_time": "2023-05-17T08:53:49.598Z"
      },
      {
        "duration": 426,
        "start_time": "2023-05-17T08:53:49.616Z"
      },
      {
        "duration": 623,
        "start_time": "2023-05-17T08:53:50.044Z"
      },
      {
        "duration": 12,
        "start_time": "2023-05-17T08:53:50.669Z"
      },
      {
        "duration": 1897,
        "start_time": "2023-05-17T08:53:50.683Z"
      },
      {
        "duration": 20,
        "start_time": "2023-05-17T08:53:52.582Z"
      },
      {
        "duration": 22,
        "start_time": "2023-05-17T08:53:52.604Z"
      },
      {
        "duration": 52,
        "start_time": "2023-05-17T08:53:52.628Z"
      },
      {
        "duration": 22,
        "start_time": "2023-05-17T08:53:52.682Z"
      },
      {
        "duration": 12,
        "start_time": "2023-05-17T08:53:52.705Z"
      },
      {
        "duration": 4,
        "start_time": "2023-05-17T08:53:52.719Z"
      },
      {
        "duration": 5,
        "start_time": "2023-05-17T08:53:52.725Z"
      },
      {
        "duration": 59,
        "start_time": "2023-05-17T08:53:52.732Z"
      },
      {
        "duration": 16,
        "start_time": "2023-05-17T08:53:52.794Z"
      },
      {
        "duration": 7,
        "start_time": "2023-05-17T08:53:52.812Z"
      },
      {
        "duration": 12832,
        "start_time": "2023-05-17T08:53:52.821Z"
      },
      {
        "duration": 2317,
        "start_time": "2023-05-17T08:54:05.656Z"
      },
      {
        "duration": 210,
        "start_time": "2023-05-17T08:54:07.976Z"
      },
      {
        "duration": 11,
        "start_time": "2023-05-17T08:54:08.188Z"
      },
      {
        "duration": 13708,
        "start_time": "2023-05-17T08:58:02.025Z"
      }
    ],
    "kernelspec": {
      "display_name": "Python 3",
      "language": "python",
      "name": "python3"
    },
    "language_info": {
      "codemirror_mode": {
        "name": "ipython",
        "version": 3
      },
      "file_extension": ".py",
      "mimetype": "text/x-python",
      "name": "python",
      "nbconvert_exporter": "python",
      "pygments_lexer": "ipython3",
      "version": "3.8.8"
    },
    "toc": {
      "base_numbering": 1,
      "nav_menu": {},
      "number_sections": true,
      "sideBar": true,
      "skip_h1_title": true,
      "title_cell": "Содержание",
      "title_sidebar": "Contents",
      "toc_cell": true,
      "toc_position": {},
      "toc_section_display": true,
      "toc_window_display": true
    },
    "colab": {
      "provenance": []
    }
  },
  "nbformat": 4,
  "nbformat_minor": 0
}