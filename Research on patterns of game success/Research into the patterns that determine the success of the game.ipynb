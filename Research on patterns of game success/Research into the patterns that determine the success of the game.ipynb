{
  "cells": [
    {
      "cell_type": "markdown",
      "metadata": {
        "id": "FEox2-PQanRg"
      },
      "source": [
        "# Иссдование закономерностей определяющих успешность игры"
      ]
    },
    {
      "cell_type": "markdown",
      "metadata": {
        "id": "VMwt3vPEanRg"
      },
      "source": [
        "Исслледование для интернет-магазина, который продаёт по всему миру компьютерные игры.\n",
        "Нужно выявить определяющие успешность игры закономерности. Это позволит сделать ставку на потенциально популярный продукт и спланировать рекламные кампании.\n",
        "\n",
        "Предоставлены данные до 2016 года. Планируется рекламная кампания на 2017-й. Нужно отработать принцип работы с данными.\n",
        "\n",
        "* **name** — название игры\n",
        "* **platform** — платформа\n",
        "* **year_of_release** — год выпуска\n",
        "* **genre** — жанр игры\n",
        "* **na_sales** — продажи в Северной Америке (миллионы проданных копий)\n",
        "* **eu_sales** — продажи в Европе (миллионы проданных копий)\n",
        "* **jp_sales** — продажи в Японии (миллионы проданных копий)\n",
        "* **other_sales** — продажи в других странах (миллионы проданных копий)\n",
        "* **critic_score** — оценка критиков (максимум 100)\n",
        "* **user_score** — оценка пользователей (максимум 10)\n",
        "* **rating** — рейтинг от организации ESRB (англ. Entertainment Software Rating Board). Эта ассоциация определяет рейтинг компьютерных игр и присваивает им подходящую возрастную категорию.\n"
      ]
    },
    {
      "cell_type": "markdown",
      "metadata": {
        "id": "hlJeLTmuanRg"
      },
      "source": [
        "### Загружаем данные"
      ]
    },
    {
      "cell_type": "markdown",
      "metadata": {
        "id": "htcxjb_panRg"
      },
      "source": [
        "#### Импортируем Библиотеки"
      ]
    },
    {
      "cell_type": "code",
      "execution_count": null,
      "metadata": {
        "id": "PJV8_vVFanRh"
      },
      "outputs": [],
      "source": [
        "import pandas as pd\n",
        "import matplotlib.pyplot as plt\n",
        "import matplotlib as mtl\n",
        "import seaborn as sns\n",
        "import numpy as np\n",
        "from scipy import stats as st"
      ]
    },
    {
      "cell_type": "markdown",
      "metadata": {
        "id": "HRT9KoR8anRh"
      },
      "source": [
        "#### Загружаем данные из файла в датафрейм. Выводим первые 20 строчек датафрейма `data`."
      ]
    },
    {
      "cell_type": "code",
      "execution_count": null,
      "metadata": {
        "id": "uqWFPX5JanRh",
        "outputId": "50a3084a-40f5-49c3-c885-d3131879081c"
      },
      "outputs": [
        {
          "data": {
            "text/html": [
              "<div>\n",
              "<style scoped>\n",
              "    .dataframe tbody tr th:only-of-type {\n",
              "        vertical-align: middle;\n",
              "    }\n",
              "\n",
              "    .dataframe tbody tr th {\n",
              "        vertical-align: top;\n",
              "    }\n",
              "\n",
              "    .dataframe thead th {\n",
              "        text-align: right;\n",
              "    }\n",
              "</style>\n",
              "<table border=\"1\" class=\"dataframe\">\n",
              "  <thead>\n",
              "    <tr style=\"text-align: right;\">\n",
              "      <th></th>\n",
              "      <th>Name</th>\n",
              "      <th>Platform</th>\n",
              "      <th>Year_of_Release</th>\n",
              "      <th>Genre</th>\n",
              "      <th>NA_sales</th>\n",
              "      <th>EU_sales</th>\n",
              "      <th>JP_sales</th>\n",
              "      <th>Other_sales</th>\n",
              "      <th>Critic_Score</th>\n",
              "      <th>User_Score</th>\n",
              "      <th>Rating</th>\n",
              "    </tr>\n",
              "  </thead>\n",
              "  <tbody>\n",
              "    <tr>\n",
              "      <th>0</th>\n",
              "      <td>Wii Sports</td>\n",
              "      <td>Wii</td>\n",
              "      <td>2006.0</td>\n",
              "      <td>Sports</td>\n",
              "      <td>41.36</td>\n",
              "      <td>28.96</td>\n",
              "      <td>3.77</td>\n",
              "      <td>8.45</td>\n",
              "      <td>76.0</td>\n",
              "      <td>8</td>\n",
              "      <td>E</td>\n",
              "    </tr>\n",
              "    <tr>\n",
              "      <th>1</th>\n",
              "      <td>Super Mario Bros.</td>\n",
              "      <td>NES</td>\n",
              "      <td>1985.0</td>\n",
              "      <td>Platform</td>\n",
              "      <td>29.08</td>\n",
              "      <td>3.58</td>\n",
              "      <td>6.81</td>\n",
              "      <td>0.77</td>\n",
              "      <td>NaN</td>\n",
              "      <td>NaN</td>\n",
              "      <td>NaN</td>\n",
              "    </tr>\n",
              "    <tr>\n",
              "      <th>2</th>\n",
              "      <td>Mario Kart Wii</td>\n",
              "      <td>Wii</td>\n",
              "      <td>2008.0</td>\n",
              "      <td>Racing</td>\n",
              "      <td>15.68</td>\n",
              "      <td>12.76</td>\n",
              "      <td>3.79</td>\n",
              "      <td>3.29</td>\n",
              "      <td>82.0</td>\n",
              "      <td>8.3</td>\n",
              "      <td>E</td>\n",
              "    </tr>\n",
              "    <tr>\n",
              "      <th>3</th>\n",
              "      <td>Wii Sports Resort</td>\n",
              "      <td>Wii</td>\n",
              "      <td>2009.0</td>\n",
              "      <td>Sports</td>\n",
              "      <td>15.61</td>\n",
              "      <td>10.93</td>\n",
              "      <td>3.28</td>\n",
              "      <td>2.95</td>\n",
              "      <td>80.0</td>\n",
              "      <td>8</td>\n",
              "      <td>E</td>\n",
              "    </tr>\n",
              "    <tr>\n",
              "      <th>4</th>\n",
              "      <td>Pokemon Red/Pokemon Blue</td>\n",
              "      <td>GB</td>\n",
              "      <td>1996.0</td>\n",
              "      <td>Role-Playing</td>\n",
              "      <td>11.27</td>\n",
              "      <td>8.89</td>\n",
              "      <td>10.22</td>\n",
              "      <td>1.00</td>\n",
              "      <td>NaN</td>\n",
              "      <td>NaN</td>\n",
              "      <td>NaN</td>\n",
              "    </tr>\n",
              "    <tr>\n",
              "      <th>5</th>\n",
              "      <td>Tetris</td>\n",
              "      <td>GB</td>\n",
              "      <td>1989.0</td>\n",
              "      <td>Puzzle</td>\n",
              "      <td>23.20</td>\n",
              "      <td>2.26</td>\n",
              "      <td>4.22</td>\n",
              "      <td>0.58</td>\n",
              "      <td>NaN</td>\n",
              "      <td>NaN</td>\n",
              "      <td>NaN</td>\n",
              "    </tr>\n",
              "    <tr>\n",
              "      <th>6</th>\n",
              "      <td>New Super Mario Bros.</td>\n",
              "      <td>DS</td>\n",
              "      <td>2006.0</td>\n",
              "      <td>Platform</td>\n",
              "      <td>11.28</td>\n",
              "      <td>9.14</td>\n",
              "      <td>6.50</td>\n",
              "      <td>2.88</td>\n",
              "      <td>89.0</td>\n",
              "      <td>8.5</td>\n",
              "      <td>E</td>\n",
              "    </tr>\n",
              "    <tr>\n",
              "      <th>7</th>\n",
              "      <td>Wii Play</td>\n",
              "      <td>Wii</td>\n",
              "      <td>2006.0</td>\n",
              "      <td>Misc</td>\n",
              "      <td>13.96</td>\n",
              "      <td>9.18</td>\n",
              "      <td>2.93</td>\n",
              "      <td>2.84</td>\n",
              "      <td>58.0</td>\n",
              "      <td>6.6</td>\n",
              "      <td>E</td>\n",
              "    </tr>\n",
              "    <tr>\n",
              "      <th>8</th>\n",
              "      <td>New Super Mario Bros. Wii</td>\n",
              "      <td>Wii</td>\n",
              "      <td>2009.0</td>\n",
              "      <td>Platform</td>\n",
              "      <td>14.44</td>\n",
              "      <td>6.94</td>\n",
              "      <td>4.70</td>\n",
              "      <td>2.24</td>\n",
              "      <td>87.0</td>\n",
              "      <td>8.4</td>\n",
              "      <td>E</td>\n",
              "    </tr>\n",
              "    <tr>\n",
              "      <th>9</th>\n",
              "      <td>Duck Hunt</td>\n",
              "      <td>NES</td>\n",
              "      <td>1984.0</td>\n",
              "      <td>Shooter</td>\n",
              "      <td>26.93</td>\n",
              "      <td>0.63</td>\n",
              "      <td>0.28</td>\n",
              "      <td>0.47</td>\n",
              "      <td>NaN</td>\n",
              "      <td>NaN</td>\n",
              "      <td>NaN</td>\n",
              "    </tr>\n",
              "    <tr>\n",
              "      <th>10</th>\n",
              "      <td>Nintendogs</td>\n",
              "      <td>DS</td>\n",
              "      <td>2005.0</td>\n",
              "      <td>Simulation</td>\n",
              "      <td>9.05</td>\n",
              "      <td>10.95</td>\n",
              "      <td>1.93</td>\n",
              "      <td>2.74</td>\n",
              "      <td>NaN</td>\n",
              "      <td>NaN</td>\n",
              "      <td>NaN</td>\n",
              "    </tr>\n",
              "    <tr>\n",
              "      <th>11</th>\n",
              "      <td>Mario Kart DS</td>\n",
              "      <td>DS</td>\n",
              "      <td>2005.0</td>\n",
              "      <td>Racing</td>\n",
              "      <td>9.71</td>\n",
              "      <td>7.47</td>\n",
              "      <td>4.13</td>\n",
              "      <td>1.90</td>\n",
              "      <td>91.0</td>\n",
              "      <td>8.6</td>\n",
              "      <td>E</td>\n",
              "    </tr>\n",
              "    <tr>\n",
              "      <th>12</th>\n",
              "      <td>Pokemon Gold/Pokemon Silver</td>\n",
              "      <td>GB</td>\n",
              "      <td>1999.0</td>\n",
              "      <td>Role-Playing</td>\n",
              "      <td>9.00</td>\n",
              "      <td>6.18</td>\n",
              "      <td>7.20</td>\n",
              "      <td>0.71</td>\n",
              "      <td>NaN</td>\n",
              "      <td>NaN</td>\n",
              "      <td>NaN</td>\n",
              "    </tr>\n",
              "    <tr>\n",
              "      <th>13</th>\n",
              "      <td>Wii Fit</td>\n",
              "      <td>Wii</td>\n",
              "      <td>2007.0</td>\n",
              "      <td>Sports</td>\n",
              "      <td>8.92</td>\n",
              "      <td>8.03</td>\n",
              "      <td>3.60</td>\n",
              "      <td>2.15</td>\n",
              "      <td>80.0</td>\n",
              "      <td>7.7</td>\n",
              "      <td>E</td>\n",
              "    </tr>\n",
              "    <tr>\n",
              "      <th>14</th>\n",
              "      <td>Kinect Adventures!</td>\n",
              "      <td>X360</td>\n",
              "      <td>2010.0</td>\n",
              "      <td>Misc</td>\n",
              "      <td>15.00</td>\n",
              "      <td>4.89</td>\n",
              "      <td>0.24</td>\n",
              "      <td>1.69</td>\n",
              "      <td>61.0</td>\n",
              "      <td>6.3</td>\n",
              "      <td>E</td>\n",
              "    </tr>\n",
              "    <tr>\n",
              "      <th>15</th>\n",
              "      <td>Wii Fit Plus</td>\n",
              "      <td>Wii</td>\n",
              "      <td>2009.0</td>\n",
              "      <td>Sports</td>\n",
              "      <td>9.01</td>\n",
              "      <td>8.49</td>\n",
              "      <td>2.53</td>\n",
              "      <td>1.77</td>\n",
              "      <td>80.0</td>\n",
              "      <td>7.4</td>\n",
              "      <td>E</td>\n",
              "    </tr>\n",
              "    <tr>\n",
              "      <th>16</th>\n",
              "      <td>Grand Theft Auto V</td>\n",
              "      <td>PS3</td>\n",
              "      <td>2013.0</td>\n",
              "      <td>Action</td>\n",
              "      <td>7.02</td>\n",
              "      <td>9.09</td>\n",
              "      <td>0.98</td>\n",
              "      <td>3.96</td>\n",
              "      <td>97.0</td>\n",
              "      <td>8.2</td>\n",
              "      <td>M</td>\n",
              "    </tr>\n",
              "    <tr>\n",
              "      <th>17</th>\n",
              "      <td>Grand Theft Auto: San Andreas</td>\n",
              "      <td>PS2</td>\n",
              "      <td>2004.0</td>\n",
              "      <td>Action</td>\n",
              "      <td>9.43</td>\n",
              "      <td>0.40</td>\n",
              "      <td>0.41</td>\n",
              "      <td>10.57</td>\n",
              "      <td>95.0</td>\n",
              "      <td>9</td>\n",
              "      <td>M</td>\n",
              "    </tr>\n",
              "    <tr>\n",
              "      <th>18</th>\n",
              "      <td>Super Mario World</td>\n",
              "      <td>SNES</td>\n",
              "      <td>1990.0</td>\n",
              "      <td>Platform</td>\n",
              "      <td>12.78</td>\n",
              "      <td>3.75</td>\n",
              "      <td>3.54</td>\n",
              "      <td>0.55</td>\n",
              "      <td>NaN</td>\n",
              "      <td>NaN</td>\n",
              "      <td>NaN</td>\n",
              "    </tr>\n",
              "    <tr>\n",
              "      <th>19</th>\n",
              "      <td>Brain Age: Train Your Brain in Minutes a Day</td>\n",
              "      <td>DS</td>\n",
              "      <td>2005.0</td>\n",
              "      <td>Misc</td>\n",
              "      <td>4.74</td>\n",
              "      <td>9.20</td>\n",
              "      <td>4.16</td>\n",
              "      <td>2.04</td>\n",
              "      <td>77.0</td>\n",
              "      <td>7.9</td>\n",
              "      <td>E</td>\n",
              "    </tr>\n",
              "  </tbody>\n",
              "</table>\n",
              "</div>"
            ],
            "text/plain": [
              "                                            Name Platform  Year_of_Release  \\\n",
              "0                                     Wii Sports      Wii           2006.0   \n",
              "1                              Super Mario Bros.      NES           1985.0   \n",
              "2                                 Mario Kart Wii      Wii           2008.0   \n",
              "3                              Wii Sports Resort      Wii           2009.0   \n",
              "4                       Pokemon Red/Pokemon Blue       GB           1996.0   \n",
              "5                                         Tetris       GB           1989.0   \n",
              "6                          New Super Mario Bros.       DS           2006.0   \n",
              "7                                       Wii Play      Wii           2006.0   \n",
              "8                      New Super Mario Bros. Wii      Wii           2009.0   \n",
              "9                                      Duck Hunt      NES           1984.0   \n",
              "10                                    Nintendogs       DS           2005.0   \n",
              "11                                 Mario Kart DS       DS           2005.0   \n",
              "12                   Pokemon Gold/Pokemon Silver       GB           1999.0   \n",
              "13                                       Wii Fit      Wii           2007.0   \n",
              "14                            Kinect Adventures!     X360           2010.0   \n",
              "15                                  Wii Fit Plus      Wii           2009.0   \n",
              "16                            Grand Theft Auto V      PS3           2013.0   \n",
              "17                 Grand Theft Auto: San Andreas      PS2           2004.0   \n",
              "18                             Super Mario World     SNES           1990.0   \n",
              "19  Brain Age: Train Your Brain in Minutes a Day       DS           2005.0   \n",
              "\n",
              "           Genre  NA_sales  EU_sales  JP_sales  Other_sales  Critic_Score  \\\n",
              "0         Sports     41.36     28.96      3.77         8.45          76.0   \n",
              "1       Platform     29.08      3.58      6.81         0.77           NaN   \n",
              "2         Racing     15.68     12.76      3.79         3.29          82.0   \n",
              "3         Sports     15.61     10.93      3.28         2.95          80.0   \n",
              "4   Role-Playing     11.27      8.89     10.22         1.00           NaN   \n",
              "5         Puzzle     23.20      2.26      4.22         0.58           NaN   \n",
              "6       Platform     11.28      9.14      6.50         2.88          89.0   \n",
              "7           Misc     13.96      9.18      2.93         2.84          58.0   \n",
              "8       Platform     14.44      6.94      4.70         2.24          87.0   \n",
              "9        Shooter     26.93      0.63      0.28         0.47           NaN   \n",
              "10    Simulation      9.05     10.95      1.93         2.74           NaN   \n",
              "11        Racing      9.71      7.47      4.13         1.90          91.0   \n",
              "12  Role-Playing      9.00      6.18      7.20         0.71           NaN   \n",
              "13        Sports      8.92      8.03      3.60         2.15          80.0   \n",
              "14          Misc     15.00      4.89      0.24         1.69          61.0   \n",
              "15        Sports      9.01      8.49      2.53         1.77          80.0   \n",
              "16        Action      7.02      9.09      0.98         3.96          97.0   \n",
              "17        Action      9.43      0.40      0.41        10.57          95.0   \n",
              "18      Platform     12.78      3.75      3.54         0.55           NaN   \n",
              "19          Misc      4.74      9.20      4.16         2.04          77.0   \n",
              "\n",
              "   User_Score Rating  \n",
              "0           8      E  \n",
              "1         NaN    NaN  \n",
              "2         8.3      E  \n",
              "3           8      E  \n",
              "4         NaN    NaN  \n",
              "5         NaN    NaN  \n",
              "6         8.5      E  \n",
              "7         6.6      E  \n",
              "8         8.4      E  \n",
              "9         NaN    NaN  \n",
              "10        NaN    NaN  \n",
              "11        8.6      E  \n",
              "12        NaN    NaN  \n",
              "13        7.7      E  \n",
              "14        6.3      E  \n",
              "15        7.4      E  \n",
              "16        8.2      M  \n",
              "17          9      M  \n",
              "18        NaN    NaN  \n",
              "19        7.9      E  "
            ]
          },
          "execution_count": 4,
          "metadata": {},
          "output_type": "execute_result"
        }
      ],
      "source": [
        "try:\n",
        "    data = pd.read_csv('/datasets/games.csv')\n",
        "except:\n",
        "    data = pd.read_csv('https://code.s3.yandex.net/datasets/games.csv')\n",
        "\n",
        "data.head(20)"
      ]
    },
    {
      "cell_type": "markdown",
      "metadata": {
        "id": "RZ86vSabanRi"
      },
      "source": [
        "### Изучаем общую информацию о полученном датафрейме."
      ]
    },
    {
      "cell_type": "code",
      "execution_count": null,
      "metadata": {
        "id": "yOJVJtfDanRi",
        "outputId": "5f9d288c-0d95-4b20-dc07-0c2fd18c4c7e"
      },
      "outputs": [
        {
          "name": "stdout",
          "output_type": "stream",
          "text": [
            "<class 'pandas.core.frame.DataFrame'>\n",
            "RangeIndex: 16715 entries, 0 to 16714\n",
            "Data columns (total 11 columns):\n",
            " #   Column           Non-Null Count  Dtype  \n",
            "---  ------           --------------  -----  \n",
            " 0   Name             16713 non-null  object \n",
            " 1   Platform         16715 non-null  object \n",
            " 2   Year_of_Release  16446 non-null  float64\n",
            " 3   Genre            16713 non-null  object \n",
            " 4   NA_sales         16715 non-null  float64\n",
            " 5   EU_sales         16715 non-null  float64\n",
            " 6   JP_sales         16715 non-null  float64\n",
            " 7   Other_sales      16715 non-null  float64\n",
            " 8   Critic_Score     8137 non-null   float64\n",
            " 9   User_Score       10014 non-null  object \n",
            " 10  Rating           9949 non-null   object \n",
            "dtypes: float64(6), object(5)\n",
            "memory usage: 1.4+ MB\n"
          ]
        }
      ],
      "source": [
        "data.info()"
      ]
    },
    {
      "cell_type": "code",
      "execution_count": null,
      "metadata": {
        "id": "duAMxx4danRi",
        "outputId": "28648bec-bfe7-48b8-b4c6-1c881435aadf"
      },
      "outputs": [
        {
          "data": {
            "text/html": [
              "<div>\n",
              "<style scoped>\n",
              "    .dataframe tbody tr th:only-of-type {\n",
              "        vertical-align: middle;\n",
              "    }\n",
              "\n",
              "    .dataframe tbody tr th {\n",
              "        vertical-align: top;\n",
              "    }\n",
              "\n",
              "    .dataframe thead th {\n",
              "        text-align: right;\n",
              "    }\n",
              "</style>\n",
              "<table border=\"1\" class=\"dataframe\">\n",
              "  <thead>\n",
              "    <tr style=\"text-align: right;\">\n",
              "      <th></th>\n",
              "      <th>count</th>\n",
              "      <th>mean</th>\n",
              "      <th>std</th>\n",
              "      <th>min</th>\n",
              "      <th>25%</th>\n",
              "      <th>50%</th>\n",
              "      <th>75%</th>\n",
              "      <th>max</th>\n",
              "    </tr>\n",
              "  </thead>\n",
              "  <tbody>\n",
              "    <tr>\n",
              "      <th>Year_of_Release</th>\n",
              "      <td>16446.0</td>\n",
              "      <td>2006.5</td>\n",
              "      <td>5.9</td>\n",
              "      <td>1980.0</td>\n",
              "      <td>2003.0</td>\n",
              "      <td>2007.0</td>\n",
              "      <td>2010.0</td>\n",
              "      <td>2016.0</td>\n",
              "    </tr>\n",
              "    <tr>\n",
              "      <th>NA_sales</th>\n",
              "      <td>16715.0</td>\n",
              "      <td>0.3</td>\n",
              "      <td>0.8</td>\n",
              "      <td>0.0</td>\n",
              "      <td>0.0</td>\n",
              "      <td>0.1</td>\n",
              "      <td>0.2</td>\n",
              "      <td>41.4</td>\n",
              "    </tr>\n",
              "    <tr>\n",
              "      <th>EU_sales</th>\n",
              "      <td>16715.0</td>\n",
              "      <td>0.1</td>\n",
              "      <td>0.5</td>\n",
              "      <td>0.0</td>\n",
              "      <td>0.0</td>\n",
              "      <td>0.0</td>\n",
              "      <td>0.1</td>\n",
              "      <td>29.0</td>\n",
              "    </tr>\n",
              "    <tr>\n",
              "      <th>JP_sales</th>\n",
              "      <td>16715.0</td>\n",
              "      <td>0.1</td>\n",
              "      <td>0.3</td>\n",
              "      <td>0.0</td>\n",
              "      <td>0.0</td>\n",
              "      <td>0.0</td>\n",
              "      <td>0.0</td>\n",
              "      <td>10.2</td>\n",
              "    </tr>\n",
              "    <tr>\n",
              "      <th>Other_sales</th>\n",
              "      <td>16715.0</td>\n",
              "      <td>0.0</td>\n",
              "      <td>0.2</td>\n",
              "      <td>0.0</td>\n",
              "      <td>0.0</td>\n",
              "      <td>0.0</td>\n",
              "      <td>0.0</td>\n",
              "      <td>10.6</td>\n",
              "    </tr>\n",
              "    <tr>\n",
              "      <th>Critic_Score</th>\n",
              "      <td>8137.0</td>\n",
              "      <td>69.0</td>\n",
              "      <td>13.9</td>\n",
              "      <td>13.0</td>\n",
              "      <td>60.0</td>\n",
              "      <td>71.0</td>\n",
              "      <td>79.0</td>\n",
              "      <td>98.0</td>\n",
              "    </tr>\n",
              "  </tbody>\n",
              "</table>\n",
              "</div>"
            ],
            "text/plain": [
              "                   count    mean   std     min     25%     50%     75%     max\n",
              "Year_of_Release  16446.0  2006.5   5.9  1980.0  2003.0  2007.0  2010.0  2016.0\n",
              "NA_sales         16715.0     0.3   0.8     0.0     0.0     0.1     0.2    41.4\n",
              "EU_sales         16715.0     0.1   0.5     0.0     0.0     0.0     0.1    29.0\n",
              "JP_sales         16715.0     0.1   0.3     0.0     0.0     0.0     0.0    10.2\n",
              "Other_sales      16715.0     0.0   0.2     0.0     0.0     0.0     0.0    10.6\n",
              "Critic_Score      8137.0    69.0  13.9    13.0    60.0    71.0    79.0    98.0"
            ]
          },
          "execution_count": 6,
          "metadata": {},
          "output_type": "execute_result"
        }
      ],
      "source": [
        "np.round(data.describe(), 1).T"
      ]
    },
    {
      "cell_type": "code",
      "execution_count": null,
      "metadata": {
        "id": "xuNH91ZDanRj",
        "outputId": "504c0299-fbdd-4828-ab33-e19b5ae3dffc"
      },
      "outputs": [
        {
          "name": "stdout",
          "output_type": "stream",
          "text": [
            "Число дубликатов: 0\n"
          ]
        }
      ],
      "source": [
        "print('Число дубликатов:', data.duplicated().sum())"
      ]
    },
    {
      "cell_type": "code",
      "execution_count": null,
      "metadata": {
        "id": "8JT8oXwqanRj",
        "outputId": "cd945300-ba80-4fcb-f8ba-6f126035dc04"
      },
      "outputs": [
        {
          "data": {
            "text/plain": [
              "Name                  2\n",
              "Platform              0\n",
              "Year_of_Release     269\n",
              "Genre                 2\n",
              "NA_sales              0\n",
              "EU_sales              0\n",
              "JP_sales              0\n",
              "Other_sales           0\n",
              "Critic_Score       8578\n",
              "User_Score         6701\n",
              "Rating             6766\n",
              "dtype: int64"
            ]
          },
          "execution_count": 8,
          "metadata": {},
          "output_type": "execute_result"
        }
      ],
      "source": [
        "data.isna().sum()"
      ]
    },
    {
      "cell_type": "markdown",
      "metadata": {
        "id": "OU1EyugxanRj"
      },
      "source": [
        "**Выводы:**\n",
        "\n",
        "1) В таблице приведены данные о компьютерных играх, пресвоенным им рейтингам и информацией о продажах в ряде стран.\n",
        "\n",
        "2) Названия столбцов следует привести к нижнему регистру.\n",
        "\n",
        "3) Были обнаружены пропуски в следующих столбцах:\n",
        "\n",
        "* name - В данном столбце указано название игры, поэтому мы не можем заменить отсутствующие название. Таких позиций всего 2 предлагается их удалить без вреда для дальнейшего анализа.               \n",
        "* year_of_release - Пропуски в этом столбце скорее всего абсолютно случайные и предсказать их не представляется возможным. Так как игры с пропущенным годом выпуска составляют всего 1.6%, а  этот параметр являеется важной характеристикой, то эти стороки стоит удалить)\n",
        "* genre - Пропущенные значения обнаруженые в столбце критичны, так как таких позиций всего 2 предлагается их удалить.                  \n",
        "* critic_score, user_score, rating - Почти в половине датасета отсутсвует информация об оценках и рейтинге. Удалять эти данные нельзя, потому что потеря данных будет существенна. С другой стороны заполнять данные значения средним или медианным тоже было бы не корректно, потому что от игры к игре оценка и рейтинг может меняться принципиально и независимо. Это могло бы значительно исказить данные и дальнейшие выводы.    \n",
        "    \n",
        "\n",
        "4) В некоторых столбцах указан некорректный тип данных:\n",
        "* **year_of_release** - float64 заменить на int64, потому что это год релиза.\n",
        "* **user_score** - object заменить на float64, потому что это оценка от 1 до 10.\n",
        "\n",
        "\n",
        "5) В данных отсутствуют явные дубликаты."
      ]
    },
    {
      "cell_type": "markdown",
      "metadata": {
        "id": "YaotKt_oanRj"
      },
      "source": [
        "### Предобработка данных"
      ]
    },
    {
      "cell_type": "code",
      "execution_count": null,
      "metadata": {
        "id": "cG6nEQ1sanRj"
      },
      "outputs": [],
      "source": [
        "# Приведем столбцы к нужному регистру\n",
        "data.columns = data.columns.str.lower()"
      ]
    },
    {
      "cell_type": "code",
      "execution_count": null,
      "metadata": {
        "id": "_41f4WtYanRj"
      },
      "outputs": [],
      "source": [
        "# Удалим строки с пропусками\n",
        "data.dropna(subset=['year_of_release', 'name', 'genre'], inplace=True)"
      ]
    },
    {
      "cell_type": "code",
      "execution_count": null,
      "metadata": {
        "id": "uwEa4eTQanRk"
      },
      "outputs": [],
      "source": [
        "# Заменим пропуски для critic_score, user_score, rating\n",
        "data[['critic_score', 'user_score', 'rating']] \\\n",
        "= data[['critic_score', 'user_score', 'rating']].fillna(-1)"
      ]
    },
    {
      "cell_type": "code",
      "execution_count": null,
      "metadata": {
        "id": "_vBxL_MjanRk"
      },
      "outputs": [],
      "source": [
        "# В столбце user_score встречается значение tbd (to be determined), заменим его также на -1.\n",
        "data.loc[data['user_score'] == 'tbd', 'user_score'] = -1"
      ]
    },
    {
      "cell_type": "code",
      "execution_count": null,
      "metadata": {
        "id": "SHtxMAHyanRk"
      },
      "outputs": [],
      "source": [
        "# Заменим тип данных для year_of_release и user_score на корректный\n",
        "data['year_of_release'] = data['year_of_release'].astype('int')\n",
        "data['user_score'] = data['user_score'].astype('float')"
      ]
    },
    {
      "cell_type": "code",
      "execution_count": null,
      "metadata": {
        "id": "afPB96L9anRk",
        "outputId": "d3815250-41cc-4f7a-c2e7-4069f8b20b93"
      },
      "outputs": [
        {
          "name": "stdout",
          "output_type": "stream",
          "text": [
            "<class 'pandas.core.frame.DataFrame'>\n",
            "Int64Index: 16444 entries, 0 to 16714\n",
            "Data columns (total 11 columns):\n",
            " #   Column           Non-Null Count  Dtype  \n",
            "---  ------           --------------  -----  \n",
            " 0   name             16444 non-null  object \n",
            " 1   platform         16444 non-null  object \n",
            " 2   year_of_release  16444 non-null  int64  \n",
            " 3   genre            16444 non-null  object \n",
            " 4   na_sales         16444 non-null  float64\n",
            " 5   eu_sales         16444 non-null  float64\n",
            " 6   jp_sales         16444 non-null  float64\n",
            " 7   other_sales      16444 non-null  float64\n",
            " 8   critic_score     16444 non-null  float64\n",
            " 9   user_score       16444 non-null  float64\n",
            " 10  rating           16444 non-null  object \n",
            "dtypes: float64(6), int64(1), object(4)\n",
            "memory usage: 1.5+ MB\n"
          ]
        }
      ],
      "source": [
        "# Проверим что получилось\n",
        "data.info()"
      ]
    },
    {
      "cell_type": "code",
      "execution_count": null,
      "metadata": {
        "id": "3PPErtRfanRk"
      },
      "outputs": [],
      "source": [
        "# Посчитаем суммарные продажи во всех регионах и запишем их в отдельный столбец.\n",
        "data['total_sales'] = data['na_sales'] + data['eu_sales'] + data['jp_sales'] + data['other_sales']"
      ]
    },
    {
      "cell_type": "code",
      "execution_count": null,
      "metadata": {
        "id": "Y2Y0dUD6anRk",
        "outputId": "f1388006-7144-47f2-fef3-01145c2adc4b"
      },
      "outputs": [
        {
          "data": {
            "text/html": [
              "<div>\n",
              "<style scoped>\n",
              "    .dataframe tbody tr th:only-of-type {\n",
              "        vertical-align: middle;\n",
              "    }\n",
              "\n",
              "    .dataframe tbody tr th {\n",
              "        vertical-align: top;\n",
              "    }\n",
              "\n",
              "    .dataframe thead th {\n",
              "        text-align: right;\n",
              "    }\n",
              "</style>\n",
              "<table border=\"1\" class=\"dataframe\">\n",
              "  <thead>\n",
              "    <tr style=\"text-align: right;\">\n",
              "      <th></th>\n",
              "      <th>name</th>\n",
              "      <th>platform</th>\n",
              "      <th>year_of_release</th>\n",
              "      <th>genre</th>\n",
              "      <th>na_sales</th>\n",
              "      <th>eu_sales</th>\n",
              "      <th>jp_sales</th>\n",
              "      <th>other_sales</th>\n",
              "      <th>critic_score</th>\n",
              "      <th>user_score</th>\n",
              "      <th>rating</th>\n",
              "      <th>total_sales</th>\n",
              "    </tr>\n",
              "  </thead>\n",
              "  <tbody>\n",
              "    <tr>\n",
              "      <th>0</th>\n",
              "      <td>Wii Sports</td>\n",
              "      <td>Wii</td>\n",
              "      <td>2006</td>\n",
              "      <td>Sports</td>\n",
              "      <td>41.36</td>\n",
              "      <td>28.96</td>\n",
              "      <td>3.77</td>\n",
              "      <td>8.45</td>\n",
              "      <td>76.0</td>\n",
              "      <td>8.0</td>\n",
              "      <td>E</td>\n",
              "      <td>82.54</td>\n",
              "    </tr>\n",
              "    <tr>\n",
              "      <th>1</th>\n",
              "      <td>Super Mario Bros.</td>\n",
              "      <td>NES</td>\n",
              "      <td>1985</td>\n",
              "      <td>Platform</td>\n",
              "      <td>29.08</td>\n",
              "      <td>3.58</td>\n",
              "      <td>6.81</td>\n",
              "      <td>0.77</td>\n",
              "      <td>-1.0</td>\n",
              "      <td>-1.0</td>\n",
              "      <td>-1</td>\n",
              "      <td>40.24</td>\n",
              "    </tr>\n",
              "    <tr>\n",
              "      <th>2</th>\n",
              "      <td>Mario Kart Wii</td>\n",
              "      <td>Wii</td>\n",
              "      <td>2008</td>\n",
              "      <td>Racing</td>\n",
              "      <td>15.68</td>\n",
              "      <td>12.76</td>\n",
              "      <td>3.79</td>\n",
              "      <td>3.29</td>\n",
              "      <td>82.0</td>\n",
              "      <td>8.3</td>\n",
              "      <td>E</td>\n",
              "      <td>35.52</td>\n",
              "    </tr>\n",
              "    <tr>\n",
              "      <th>3</th>\n",
              "      <td>Wii Sports Resort</td>\n",
              "      <td>Wii</td>\n",
              "      <td>2009</td>\n",
              "      <td>Sports</td>\n",
              "      <td>15.61</td>\n",
              "      <td>10.93</td>\n",
              "      <td>3.28</td>\n",
              "      <td>2.95</td>\n",
              "      <td>80.0</td>\n",
              "      <td>8.0</td>\n",
              "      <td>E</td>\n",
              "      <td>32.77</td>\n",
              "    </tr>\n",
              "    <tr>\n",
              "      <th>4</th>\n",
              "      <td>Pokemon Red/Pokemon Blue</td>\n",
              "      <td>GB</td>\n",
              "      <td>1996</td>\n",
              "      <td>Role-Playing</td>\n",
              "      <td>11.27</td>\n",
              "      <td>8.89</td>\n",
              "      <td>10.22</td>\n",
              "      <td>1.00</td>\n",
              "      <td>-1.0</td>\n",
              "      <td>-1.0</td>\n",
              "      <td>-1</td>\n",
              "      <td>31.38</td>\n",
              "    </tr>\n",
              "  </tbody>\n",
              "</table>\n",
              "</div>"
            ],
            "text/plain": [
              "                       name platform  year_of_release         genre  na_sales  \\\n",
              "0                Wii Sports      Wii             2006        Sports     41.36   \n",
              "1         Super Mario Bros.      NES             1985      Platform     29.08   \n",
              "2            Mario Kart Wii      Wii             2008        Racing     15.68   \n",
              "3         Wii Sports Resort      Wii             2009        Sports     15.61   \n",
              "4  Pokemon Red/Pokemon Blue       GB             1996  Role-Playing     11.27   \n",
              "\n",
              "   eu_sales  jp_sales  other_sales  critic_score  user_score rating  \\\n",
              "0     28.96      3.77         8.45          76.0         8.0      E   \n",
              "1      3.58      6.81         0.77          -1.0        -1.0     -1   \n",
              "2     12.76      3.79         3.29          82.0         8.3      E   \n",
              "3     10.93      3.28         2.95          80.0         8.0      E   \n",
              "4      8.89     10.22         1.00          -1.0        -1.0     -1   \n",
              "\n",
              "   total_sales  \n",
              "0        82.54  \n",
              "1        40.24  \n",
              "2        35.52  \n",
              "3        32.77  \n",
              "4        31.38  "
            ]
          },
          "execution_count": 16,
          "metadata": {},
          "output_type": "execute_result"
        }
      ],
      "source": [
        "data.head()"
      ]
    },
    {
      "cell_type": "markdown",
      "metadata": {
        "id": "3E0xfGM9anRk"
      },
      "source": [
        "**Выводы:**\n",
        "\n",
        "1) Названия столбцов приведены к нижнему регистру.\n",
        "\n",
        "2) Проанализированы и обработаны пропуски в столбцах name, year_of_release, genre, critic_score, user_score, rating.\n",
        "\n",
        "3) Тип данных заменен на корректный для столбцов year_of_release и user_score.\n",
        "    \n",
        "4) В датафрейм добавлен новый столбец total_sales."
      ]
    },
    {
      "cell_type": "markdown",
      "metadata": {
        "id": "ibxokZX7anRl"
      },
      "source": [
        "### Исследовательский анализ данных"
      ]
    },
    {
      "cell_type": "markdown",
      "metadata": {
        "id": "S2weFuzPanRl"
      },
      "source": [
        "#### Cколько игр выпускалось в разные годы. Важны ли данные за все периоды?"
      ]
    },
    {
      "cell_type": "code",
      "execution_count": null,
      "metadata": {
        "id": "oRS9Fl3hanRl",
        "outputId": "cb94bc3b-d6dc-44c7-eaac-abb5f7b0bfc1"
      },
      "outputs": [
        {
          "data": {
            "text/html": [
              "<div>\n",
              "<style scoped>\n",
              "    .dataframe tbody tr th:only-of-type {\n",
              "        vertical-align: middle;\n",
              "    }\n",
              "\n",
              "    .dataframe tbody tr th {\n",
              "        vertical-align: top;\n",
              "    }\n",
              "\n",
              "    .dataframe thead th {\n",
              "        text-align: right;\n",
              "    }\n",
              "</style>\n",
              "<table border=\"1\" class=\"dataframe\">\n",
              "  <thead>\n",
              "    <tr style=\"text-align: right;\">\n",
              "      <th></th>\n",
              "      <th>name</th>\n",
              "    </tr>\n",
              "    <tr>\n",
              "      <th>year_of_release</th>\n",
              "      <th></th>\n",
              "    </tr>\n",
              "  </thead>\n",
              "  <tbody>\n",
              "    <tr>\n",
              "      <th>1980</th>\n",
              "      <td>9</td>\n",
              "    </tr>\n",
              "    <tr>\n",
              "      <th>1981</th>\n",
              "      <td>46</td>\n",
              "    </tr>\n",
              "    <tr>\n",
              "      <th>1982</th>\n",
              "      <td>36</td>\n",
              "    </tr>\n",
              "    <tr>\n",
              "      <th>1983</th>\n",
              "      <td>17</td>\n",
              "    </tr>\n",
              "    <tr>\n",
              "      <th>1984</th>\n",
              "      <td>14</td>\n",
              "    </tr>\n",
              "    <tr>\n",
              "      <th>1985</th>\n",
              "      <td>14</td>\n",
              "    </tr>\n",
              "    <tr>\n",
              "      <th>1986</th>\n",
              "      <td>21</td>\n",
              "    </tr>\n",
              "    <tr>\n",
              "      <th>1987</th>\n",
              "      <td>16</td>\n",
              "    </tr>\n",
              "    <tr>\n",
              "      <th>1988</th>\n",
              "      <td>15</td>\n",
              "    </tr>\n",
              "    <tr>\n",
              "      <th>1989</th>\n",
              "      <td>17</td>\n",
              "    </tr>\n",
              "    <tr>\n",
              "      <th>1990</th>\n",
              "      <td>16</td>\n",
              "    </tr>\n",
              "    <tr>\n",
              "      <th>1991</th>\n",
              "      <td>41</td>\n",
              "    </tr>\n",
              "    <tr>\n",
              "      <th>1992</th>\n",
              "      <td>43</td>\n",
              "    </tr>\n",
              "    <tr>\n",
              "      <th>1993</th>\n",
              "      <td>60</td>\n",
              "    </tr>\n",
              "    <tr>\n",
              "      <th>1994</th>\n",
              "      <td>121</td>\n",
              "    </tr>\n",
              "    <tr>\n",
              "      <th>1995</th>\n",
              "      <td>219</td>\n",
              "    </tr>\n",
              "    <tr>\n",
              "      <th>1996</th>\n",
              "      <td>263</td>\n",
              "    </tr>\n",
              "    <tr>\n",
              "      <th>1997</th>\n",
              "      <td>289</td>\n",
              "    </tr>\n",
              "    <tr>\n",
              "      <th>1998</th>\n",
              "      <td>379</td>\n",
              "    </tr>\n",
              "    <tr>\n",
              "      <th>1999</th>\n",
              "      <td>338</td>\n",
              "    </tr>\n",
              "    <tr>\n",
              "      <th>2000</th>\n",
              "      <td>350</td>\n",
              "    </tr>\n",
              "    <tr>\n",
              "      <th>2001</th>\n",
              "      <td>482</td>\n",
              "    </tr>\n",
              "    <tr>\n",
              "      <th>2002</th>\n",
              "      <td>829</td>\n",
              "    </tr>\n",
              "    <tr>\n",
              "      <th>2003</th>\n",
              "      <td>775</td>\n",
              "    </tr>\n",
              "    <tr>\n",
              "      <th>2004</th>\n",
              "      <td>762</td>\n",
              "    </tr>\n",
              "    <tr>\n",
              "      <th>2005</th>\n",
              "      <td>939</td>\n",
              "    </tr>\n",
              "    <tr>\n",
              "      <th>2006</th>\n",
              "      <td>1006</td>\n",
              "    </tr>\n",
              "    <tr>\n",
              "      <th>2007</th>\n",
              "      <td>1197</td>\n",
              "    </tr>\n",
              "    <tr>\n",
              "      <th>2008</th>\n",
              "      <td>1427</td>\n",
              "    </tr>\n",
              "    <tr>\n",
              "      <th>2009</th>\n",
              "      <td>1426</td>\n",
              "    </tr>\n",
              "    <tr>\n",
              "      <th>2010</th>\n",
              "      <td>1255</td>\n",
              "    </tr>\n",
              "    <tr>\n",
              "      <th>2011</th>\n",
              "      <td>1136</td>\n",
              "    </tr>\n",
              "    <tr>\n",
              "      <th>2012</th>\n",
              "      <td>653</td>\n",
              "    </tr>\n",
              "    <tr>\n",
              "      <th>2013</th>\n",
              "      <td>544</td>\n",
              "    </tr>\n",
              "    <tr>\n",
              "      <th>2014</th>\n",
              "      <td>581</td>\n",
              "    </tr>\n",
              "    <tr>\n",
              "      <th>2015</th>\n",
              "      <td>606</td>\n",
              "    </tr>\n",
              "    <tr>\n",
              "      <th>2016</th>\n",
              "      <td>502</td>\n",
              "    </tr>\n",
              "  </tbody>\n",
              "</table>\n",
              "</div>"
            ],
            "text/plain": [
              "                 name\n",
              "year_of_release      \n",
              "1980                9\n",
              "1981               46\n",
              "1982               36\n",
              "1983               17\n",
              "1984               14\n",
              "1985               14\n",
              "1986               21\n",
              "1987               16\n",
              "1988               15\n",
              "1989               17\n",
              "1990               16\n",
              "1991               41\n",
              "1992               43\n",
              "1993               60\n",
              "1994              121\n",
              "1995              219\n",
              "1996              263\n",
              "1997              289\n",
              "1998              379\n",
              "1999              338\n",
              "2000              350\n",
              "2001              482\n",
              "2002              829\n",
              "2003              775\n",
              "2004              762\n",
              "2005              939\n",
              "2006             1006\n",
              "2007             1197\n",
              "2008             1427\n",
              "2009             1426\n",
              "2010             1255\n",
              "2011             1136\n",
              "2012              653\n",
              "2013              544\n",
              "2014              581\n",
              "2015              606\n",
              "2016              502"
            ]
          },
          "execution_count": 17,
          "metadata": {},
          "output_type": "execute_result"
        }
      ],
      "source": [
        "data_pivot_by_years = data.pivot_table(index=['year_of_release'],  values='name', aggfunc='count')\n",
        "data_pivot_by_years"
      ]
    },
    {
      "cell_type": "code",
      "execution_count": null,
      "metadata": {
        "id": "nGl41dT3anRl",
        "outputId": "c7afd64f-f2d5-42a4-a323-0371908a266d"
      },
      "outputs": [
        {
          "data": {
            "image/png": "[encoded data removed]",
            "text/plain": [
              "<Figure size 864x576 with 1 Axes>"
            ]
          },
          "metadata": {
            "needs_background": "light"
          },
          "output_type": "display_data"
        }
      ],
      "source": [
        "data_pivot_by_years.plot(figsize = (12, 8), fontsize=14, kind='bar', color='#ccab06')\n",
        "plt.title('Количество вышедших игр в разные годы');"
      ]
    },
    {
      "cell_type": "markdown",
      "metadata": {
        "id": "1fg20cAHanRl"
      },
      "source": [
        "По графику видно историю развития индустрии. В период с 1980 по 1990 игр выходило мало, скорее всего это было связано с незначительной распространенностью ПК у населения и несовершенностью технологий. Начиная с 1991 наблюдается постоянный рост числа релизов в 2008-2009 годах достигает максимума, когда в год выпускали более 1400 игр. После чего количество выпускаемых игр в год стало уменьшаться достигнув минимума в 2016 году.\n",
        "\n",
        "Что это значит? Игровая индустрия активно развивается, значит было бы логично предположить, что с годами количество перешло в качество. Скорее всего сюжет, графика, механика игр стали более сложными, что занимает больше времени и ресурсов на этапе разработки.\n",
        "\n",
        "Вероятно, вместе с качественными изменениями с индустрии изменились и потребители. Пока что очевидно, что в 2012 году произошли какие-то принципиальные изменения в индустрии. Вероятно, стоит отбросить данные до 2012 года."
      ]
    },
    {
      "cell_type": "code",
      "execution_count": null,
      "metadata": {
        "id": "I1dzWrP7anRl"
      },
      "outputs": [],
      "source": [
        "data_2012_2016 = data[data['year_of_release'] >= 2012]"
      ]
    },
    {
      "cell_type": "markdown",
      "metadata": {
        "id": "-3nggvsOanRm"
      },
      "source": [
        "#### Изучим как менялись продажи по платформам. Выбем платформы с наибольшими суммарными продажами и построим распределение по годам. Ответим на вопрос: \"За какой характерный срок появляются новые и исчезают старые платформы?\""
      ]
    },
    {
      "cell_type": "code",
      "execution_count": null,
      "metadata": {
        "id": "pyOOlmskanRm",
        "outputId": "891b716c-b1ef-4982-c5e6-514e13aeac62"
      },
      "outputs": [
        {
          "data": {
            "text/html": [
              "<div>\n",
              "<style scoped>\n",
              "    .dataframe tbody tr th:only-of-type {\n",
              "        vertical-align: middle;\n",
              "    }\n",
              "\n",
              "    .dataframe tbody tr th {\n",
              "        vertical-align: top;\n",
              "    }\n",
              "\n",
              "    .dataframe thead th {\n",
              "        text-align: right;\n",
              "    }\n",
              "</style>\n",
              "<table border=\"1\" class=\"dataframe\">\n",
              "  <thead>\n",
              "    <tr style=\"text-align: right;\">\n",
              "      <th></th>\n",
              "      <th>total_sales</th>\n",
              "    </tr>\n",
              "    <tr>\n",
              "      <th>platform</th>\n",
              "      <th></th>\n",
              "    </tr>\n",
              "  </thead>\n",
              "  <tbody>\n",
              "    <tr>\n",
              "      <th>PS2</th>\n",
              "      <td>1233.56</td>\n",
              "    </tr>\n",
              "    <tr>\n",
              "      <th>X360</th>\n",
              "      <td>961.24</td>\n",
              "    </tr>\n",
              "    <tr>\n",
              "      <th>PS3</th>\n",
              "      <td>931.34</td>\n",
              "    </tr>\n",
              "    <tr>\n",
              "      <th>Wii</th>\n",
              "      <td>891.18</td>\n",
              "    </tr>\n",
              "    <tr>\n",
              "      <th>DS</th>\n",
              "      <td>802.78</td>\n",
              "    </tr>\n",
              "    <tr>\n",
              "      <th>PS</th>\n",
              "      <td>727.58</td>\n",
              "    </tr>\n",
              "    <tr>\n",
              "      <th>PS4</th>\n",
              "      <td>314.14</td>\n",
              "    </tr>\n",
              "    <tr>\n",
              "      <th>GBA</th>\n",
              "      <td>312.88</td>\n",
              "    </tr>\n",
              "    <tr>\n",
              "      <th>PSP</th>\n",
              "      <td>289.53</td>\n",
              "    </tr>\n",
              "    <tr>\n",
              "      <th>3DS</th>\n",
              "      <td>257.81</td>\n",
              "    </tr>\n",
              "    <tr>\n",
              "      <th>PC</th>\n",
              "      <td>255.76</td>\n",
              "    </tr>\n",
              "    <tr>\n",
              "      <th>GB</th>\n",
              "      <td>254.43</td>\n",
              "    </tr>\n",
              "    <tr>\n",
              "      <th>XB</th>\n",
              "      <td>251.57</td>\n",
              "    </tr>\n",
              "    <tr>\n",
              "      <th>NES</th>\n",
              "      <td>251.05</td>\n",
              "    </tr>\n",
              "    <tr>\n",
              "      <th>N64</th>\n",
              "      <td>218.01</td>\n",
              "    </tr>\n",
              "    <tr>\n",
              "      <th>SNES</th>\n",
              "      <td>200.04</td>\n",
              "    </tr>\n",
              "    <tr>\n",
              "      <th>GC</th>\n",
              "      <td>196.73</td>\n",
              "    </tr>\n",
              "    <tr>\n",
              "      <th>XOne</th>\n",
              "      <td>159.32</td>\n",
              "    </tr>\n",
              "    <tr>\n",
              "      <th>2600</th>\n",
              "      <td>86.48</td>\n",
              "    </tr>\n",
              "    <tr>\n",
              "      <th>WiiU</th>\n",
              "      <td>82.19</td>\n",
              "    </tr>\n",
              "    <tr>\n",
              "      <th>PSV</th>\n",
              "      <td>53.81</td>\n",
              "    </tr>\n",
              "    <tr>\n",
              "      <th>SAT</th>\n",
              "      <td>33.59</td>\n",
              "    </tr>\n",
              "    <tr>\n",
              "      <th>GEN</th>\n",
              "      <td>28.35</td>\n",
              "    </tr>\n",
              "    <tr>\n",
              "      <th>DC</th>\n",
              "      <td>15.95</td>\n",
              "    </tr>\n",
              "    <tr>\n",
              "      <th>SCD</th>\n",
              "      <td>1.86</td>\n",
              "    </tr>\n",
              "    <tr>\n",
              "      <th>NG</th>\n",
              "      <td>1.44</td>\n",
              "    </tr>\n",
              "    <tr>\n",
              "      <th>WS</th>\n",
              "      <td>1.42</td>\n",
              "    </tr>\n",
              "    <tr>\n",
              "      <th>TG16</th>\n",
              "      <td>0.16</td>\n",
              "    </tr>\n",
              "    <tr>\n",
              "      <th>3DO</th>\n",
              "      <td>0.10</td>\n",
              "    </tr>\n",
              "    <tr>\n",
              "      <th>GG</th>\n",
              "      <td>0.04</td>\n",
              "    </tr>\n",
              "    <tr>\n",
              "      <th>PCFX</th>\n",
              "      <td>0.03</td>\n",
              "    </tr>\n",
              "  </tbody>\n",
              "</table>\n",
              "</div>"
            ],
            "text/plain": [
              "          total_sales\n",
              "platform             \n",
              "PS2           1233.56\n",
              "X360           961.24\n",
              "PS3            931.34\n",
              "Wii            891.18\n",
              "DS             802.78\n",
              "PS             727.58\n",
              "PS4            314.14\n",
              "GBA            312.88\n",
              "PSP            289.53\n",
              "3DS            257.81\n",
              "PC             255.76\n",
              "GB             254.43\n",
              "XB             251.57\n",
              "NES            251.05\n",
              "N64            218.01\n",
              "SNES           200.04\n",
              "GC             196.73\n",
              "XOne           159.32\n",
              "2600            86.48\n",
              "WiiU            82.19\n",
              "PSV             53.81\n",
              "SAT             33.59\n",
              "GEN             28.35\n",
              "DC              15.95\n",
              "SCD              1.86\n",
              "NG               1.44\n",
              "WS               1.42\n",
              "TG16             0.16\n",
              "3DO              0.10\n",
              "GG               0.04\n",
              "PCFX             0.03"
            ]
          },
          "execution_count": 20,
          "metadata": {},
          "output_type": "execute_result"
        }
      ],
      "source": [
        "data_pivot_by_platform = data.pivot_table(index='platform', values='total_sales', aggfunc='sum').sort_values(\n",
        "    by='total_sales', ascending=False)\n",
        "data_pivot_by_platform"
      ]
    },
    {
      "cell_type": "code",
      "execution_count": null,
      "metadata": {
        "id": "fhEhgE7nanRm",
        "outputId": "71a05657-0cb3-4fd4-806d-47ef83f90bc6"
      },
      "outputs": [
        {
          "data": {
            "image/png": "[encoded data removed]",
            "text/plain": [
              "<Figure size 576x864 with 1 Axes>"
            ]
          },
          "metadata": {
            "needs_background": "light"
          },
          "output_type": "display_data"
        }
      ],
      "source": [
        "data_pivot_by_platform.plot(figsize = (8, 12), fontsize=14, kind='barh', color='#ccab06')\n",
        "plt.title('Количество продаж игр на разных платформах');"
      ]
    },
    {
      "cell_type": "markdown",
      "metadata": {
        "id": "9kjrj19ianRm"
      },
      "source": [
        "По графику видно, что есть 3 группы платформ. На которых вышло более 700 игр, около 300 игр и на которых вышли единицы. Однако непонятно в какие временные промежутки времени происходила активность на данных платформах. Рассмотрим платформы на которых вышло максимальное  количество игр: PS, DS, Wii, PS3, X360, PS2."
      ]
    },
    {
      "cell_type": "code",
      "execution_count": null,
      "metadata": {
        "id": "SYIu6qBTanRm",
        "outputId": "9761ef87-e1b8-48e1-b97e-e3a85fe4ae13"
      },
      "outputs": [
        {
          "data": {
            "image/png": "[encoded data removed]",
            "text/plain": [
              "<Figure size 864x576 with 1 Axes>"
            ]
          },
          "metadata": {
            "needs_background": "light"
          },
          "output_type": "display_data"
        }
      ],
      "source": [
        "# Создаем список с платформами на которых вышло больше всего игр\n",
        "platform_activity = ['PS', 'DS', 'Wii', 'PS3', 'X360', 'PS2']\n",
        "\n",
        "# группируем данные по годам и платформам\n",
        "platform_activity_by_year = (\n",
        "    data.query('platform in @platform_activity')\n",
        "    .groupby(['year_of_release', 'platform'], as_index=False)\n",
        "    .agg({'total_sales': 'sum'})\n",
        "    .sort_values('year_of_release', ascending=True)\n",
        ")\n",
        "\n",
        "# строим график\n",
        "plt.figure(figsize=(12, 8))\n",
        "sns.barplot(x=platform_activity_by_year.year_of_release,\n",
        "             y=platform_activity_by_year.total_sales,\n",
        "             hue=platform_activity_by_year.platform,\n",
        "             palette='Dark2')\n",
        "plt.xlabel('Год выпуска', fontsize=14)\n",
        "plt.ylabel('Продажи', fontsize=14)\n",
        "plt.title('Количество продаж игр на платформах PS, DS, Wii, PS3, X360, PS2 по годам', fontsize=14);"
      ]
    },
    {
      "cell_type": "markdown",
      "metadata": {
        "id": "nuq16uWVanRm"
      },
      "source": [
        "По графику видно, что платформа PS активно использовалась в промежутке 1994-2003 годы с максимумом ав 1998 году. За ней набрала популярность платформа PS2, которая работала в 2000-2010 годы. В 2004 появилась на рынке DS, где пробыла до 2013 года. Эти три платформы мы больше не будем рассматривать, так как их активное использование не попадает на интересующий нас период (2012-2016 годы)."
      ]
    },
    {
      "cell_type": "code",
      "execution_count": null,
      "metadata": {
        "id": "T_GpE_MwanRn",
        "outputId": "3588efc2-7c9c-49e3-c95a-aad17809c059"
      },
      "outputs": [
        {
          "data": {
            "image/png": "[encoded data removed]",
            "text/plain": [
              "<Figure size 864x576 with 1 Axes>"
            ]
          },
          "metadata": {
            "needs_background": "light"
          },
          "output_type": "display_data"
        }
      ],
      "source": [
        "# Уменьшаем список с платформами\n",
        "platform_activity_cut = ['Wii', 'PS3', 'X360']\n",
        "\n",
        "# группируем данные по годам и платформам\n",
        "platform_activity_by_year = (\n",
        "    data.query('platform in @platform_activity_cut')\n",
        "    .groupby(['year_of_release', 'platform'], as_index=False)\n",
        "    .agg({'total_sales': 'sum'})\n",
        "    .sort_values('year_of_release', ascending=True)\n",
        ")\n",
        "\n",
        "# строим график\n",
        "plt.figure(figsize=(12, 8))\n",
        "sns.barplot(x=platform_activity_by_year.year_of_release,\n",
        "             y=platform_activity_by_year.total_sales,\n",
        "             hue=platform_activity_by_year.platform,\n",
        "             palette='plasma')\n",
        "plt.xlabel('Год выпуска', fontsize=14)\n",
        "plt.ylabel('Продажи', fontsize=14)\n",
        "plt.title('Количество продаж игр на платформах Wii, PS3, X360 по годам', fontsize=14);"
      ]
    },
    {
      "cell_type": "markdown",
      "metadata": {
        "id": "EJ-QCMD0anRn"
      },
      "source": [
        "По графику видно, что в 2009 году максимальные продажи были у игра на платформе Wii, в 2010 на X360, в 2011 на PS3. Далее продажи стали снижаться. Можно было бы предположить, что индустрия терпит бедствие, но здравый смысл говорит, что нет. Поэтому, скорее всего, как было сказано ранее, количество перешло в качество.\n",
        "\n",
        "Вероятнее всего нет смысла для дальнейшего анализа рассматривать платформу Wii, так как ее активность в 2016 году незначительна.\n",
        "\n",
        "Еще одним интересным фактом, который хорошо наблюдается на обоих графиках является то, что срок 'жизни' платформы составляет приблизительно 10 лет."
      ]
    },
    {
      "cell_type": "markdown",
      "metadata": {
        "id": "cP2EivcOanRn"
      },
      "source": [
        "#### Какие платформы лидируют по продажам, растут или падают? Выберите несколько потенциально прибыльных платформ."
      ]
    },
    {
      "cell_type": "markdown",
      "metadata": {
        "id": "EJ8ot92wanRn"
      },
      "source": [
        "В случае если количество переходит в качество, то неправильно сортировать платформы только на основании количества продаж. Посмотрим какие платформы присутствовали на рынке с 2012 года."
      ]
    },
    {
      "cell_type": "code",
      "execution_count": null,
      "metadata": {
        "id": "-HBtiy1yanRn",
        "outputId": "939c7843-b403-46b4-9d6e-8bb7b29fc8a2"
      },
      "outputs": [
        {
          "data": {
            "text/plain": [
              "array(['PS3', 'X360', 'PS4', '3DS', 'DS', 'XOne', 'WiiU', 'Wii', 'PC',\n",
              "       'PSV', 'PSP'], dtype=object)"
            ]
          },
          "execution_count": 24,
          "metadata": {},
          "output_type": "execute_result"
        }
      ],
      "source": [
        "data_last_years = data[data['year_of_release'] >= 2012]\n",
        "data_last_years_sorted = data_last_years.sort_values(by='total_sales', ascending=False)\n",
        "data_last_years_sorted['platform'].unique()"
      ]
    },
    {
      "cell_type": "code",
      "execution_count": null,
      "metadata": {
        "id": "-iMKskhQanRn",
        "outputId": "80d95f37-b9b8-4eb5-ddc2-73f1a79589bc"
      },
      "outputs": [
        {
          "data": {
            "image/png": "[encoded data removed]",
            "text/plain": [
              "<Figure size 864x576 with 1 Axes>"
            ]
          },
          "metadata": {
            "needs_background": "light"
          },
          "output_type": "display_data"
        }
      ],
      "source": [
        "# Создаем список с платформами на которых вышло больше всего игр\n",
        "platform_activity = data_last_years_sorted['platform']\n",
        "\n",
        "# группируем данные по годам и платформам\n",
        "platform_activity_by_year = (\n",
        "    data_last_years.query('platform in @platform_activity')\n",
        "    .groupby(['year_of_release', 'platform'], as_index=False)\n",
        "    .agg({'total_sales': 'sum'})\n",
        "    .sort_values('year_of_release', ascending=True)\n",
        ")\n",
        "\n",
        "# строим график\n",
        "plt.figure(figsize=(12, 8))\n",
        "sns.barplot(x=platform_activity_by_year.year_of_release,\n",
        "             y=platform_activity_by_year.total_sales,\n",
        "             hue=platform_activity_by_year.platform,\n",
        "             palette='plasma')\n",
        "plt.xlabel('Год выпуска', fontsize=14)\n",
        "plt.ylabel('Продажи', fontsize=14)\n",
        "plt.title('Присутствие платформ на рынке в 2012-2016 годах', fontsize=14);"
      ]
    },
    {
      "cell_type": "markdown",
      "metadata": {
        "id": "sEk6PhhnanRn"
      },
      "source": [
        "При рассмотрении графика становится очевидным факт, что на рынке за 5 лет сменились лидеры. PS3 и  X360  уступили первенство PS4 и XOne. Присутствие в индустрии 3DS значительно сохранилось, однако, платформа все еще входит в тройку лидеров. С ними и продолжим работу."
      ]
    },
    {
      "cell_type": "code",
      "execution_count": null,
      "metadata": {
        "id": "ELfWqUFBanRo",
        "outputId": "649e1bfb-40e3-4673-bdf5-44f0b80fcf9c"
      },
      "outputs": [
        {
          "data": {
            "image/png": "[encoded data removed]",
            "text/plain": [
              "<Figure size 864x576 with 1 Axes>"
            ]
          },
          "metadata": {
            "needs_background": "light"
          },
          "output_type": "display_data"
        }
      ],
      "source": [
        "plt.figure(figsize=(12, 8))\n",
        "sns.boxplot(x=\"total_sales\", y=\"platform\", data=data_last_years)\n",
        "plt.xlim(0, 15)\n",
        "plt.xlabel('Платформа', fontsize=14)\n",
        "plt.ylabel('Продажи', fontsize=14)\n",
        "plt.title('Глобальные продажи игр в разбивке по платформам', fontsize=14);"
      ]
    },
    {
      "cell_type": "code",
      "execution_count": null,
      "metadata": {
        "id": "kbGs1lLManRp",
        "outputId": "1f138df3-5f90-4c1f-9caa-7863996a905d"
      },
      "outputs": [
        {
          "data": {
            "image/png": "[encoded data removed]",
            "text/plain": [
              "<Figure size 864x576 with 1 Axes>"
            ]
          },
          "metadata": {
            "needs_background": "light"
          },
          "output_type": "display_data"
        }
      ],
      "source": [
        "# Построим поближе\n",
        "plt.figure(figsize=(12, 8))\n",
        "sns.boxplot(x=\"total_sales\", y=\"platform\", data=data_last_years)\n",
        "plt.xlim(0, 2)\n",
        "plt.xlabel('Платформа', fontsize=14)\n",
        "plt.ylabel('Продажи', fontsize=14)\n",
        "plt.title('Глобальные продажи игр в разбивке по платформам', fontsize=14);"
      ]
    },
    {
      "cell_type": "markdown",
      "metadata": {
        "id": "4VoMSnghanRp"
      },
      "source": [
        "Однако, на рынке за 5 лет сменились лидеры. PS3 и X360 уступили первенство PS4 и XOne. Присутствие в индустрии 3DS значительно сохранилось, однако, платформа все еще входит в тройку лидеров. Поэтому продолжаем работу с PS4, XOne и 3DS."
      ]
    },
    {
      "cell_type": "code",
      "execution_count": null,
      "metadata": {
        "id": "XHKNkEc1anRp"
      },
      "outputs": [],
      "source": [
        "# Оставим только строки с платформами PS4, 3DS, XOne\n",
        "data_top3 = data_last_years.query('platform == \"PS4\" or platform == \"3DS\" or platform == \"XOne\"')"
      ]
    },
    {
      "cell_type": "code",
      "execution_count": null,
      "metadata": {
        "id": "M4MZ4Q8UanRp",
        "outputId": "f8d38ca1-c305-47fd-d658-4e419b6af99e"
      },
      "outputs": [
        {
          "data": {
            "image/png": "[encoded data removed]",
            "text/plain": [
              "<Figure size 720x360 with 1 Axes>"
            ]
          },
          "metadata": {
            "needs_background": "light"
          },
          "output_type": "display_data"
        }
      ],
      "source": [
        "# Построим поближе\n",
        "plt.figure(figsize=(10, 5))\n",
        "sns.boxplot(x=\"total_sales\", y=\"platform\", data=data_top3, palette='plasma')\n",
        "plt.xlim(0, 2)\n",
        "plt.xlabel('Платформа', fontsize=14)\n",
        "plt.ylabel('Продажи', fontsize=14)\n",
        "plt.title('Глобальные продажи игр в разбивке по платформам', fontsize=14);"
      ]
    },
    {
      "cell_type": "markdown",
      "metadata": {
        "id": "KqJwkZ1qanRp"
      },
      "source": [
        "* По большинству платформ наблюдается большое количество выбросов, что свидетельствует о существовании игр бестселлеров, которые приносят сверхприбыли.\n",
        "*  Рассмотрены медианные продажи по каждой платформе. Платформы PSЗ, X360, PS4, XOne, WiiU и Wii имеют сравнимые значения, лидирует платформа X360.\n",
        "* Однако, на рынке за 5 лет сменились лидеры. PS3 и X360 уступили первенство PS4 и XOne. Присутствие в индустрии 3DS значительно сохранилось, однако, платформа все еще входит в тройку лидеров. Поэтому продолжаем работу с PS4, XOne и 3DS."
      ]
    },
    {
      "cell_type": "markdown",
      "metadata": {
        "id": "HYt9bNUianRp"
      },
      "source": [
        "#### Посмотрим, как влияют на продажи внутри одной популярной платформы отзывы пользователей и критиков."
      ]
    },
    {
      "cell_type": "markdown",
      "metadata": {
        "id": "BMqNoV4GanRp"
      },
      "source": [
        "Для анализа выберем данные связанные с платформой PS4. Затем построим диаграммы рассеяния  и посчитаем коэффициенты корреляции Пирсона."
      ]
    },
    {
      "cell_type": "code",
      "execution_count": null,
      "metadata": {
        "id": "xHkKgqt9anRq"
      },
      "outputs": [],
      "source": [
        "# Выберем данные связанные с платформой PS4.\n",
        "platform_ps4 = data_last_years.query('platform == \"PS4\" and user_score > 0 and critic_score > 0')"
      ]
    },
    {
      "cell_type": "code",
      "execution_count": null,
      "metadata": {
        "id": "BHFQCjGCanRq",
        "outputId": "7063c027-db93-42bf-98d5-e12cc5a08ef3"
      },
      "outputs": [
        {
          "data": {
            "text/plain": [
              "array([8.3, 4.3, 5.7, 5. , 6.5, 6.1, 7.9, 8.1, 3.4, 8.4, 6.3, 7.7, 9.2,\n",
              "       4.9, 7.6, 6.7, 3.7, 7. , 6.9, 8.2, 6.8, 5.9, 7.8, 8.6, 7.3, 7.4,\n",
              "       6.2, 6. , 7.1, 5.1, 6.6, 5.4, 4.5, 8.8, 8.5, 5.2, 7.2, 7.5, 5.5,\n",
              "       3.6, 5.6, 8. , 8.7, 5.8, 3.8, 4.7, 3.3, 2.7, 2. , 1.5, 4.1, 6.4,\n",
              "       2.9, 1.9, 3.5, 2.3])"
            ]
          },
          "execution_count": 126,
          "metadata": {},
          "output_type": "execute_result"
        }
      ],
      "source": [
        "platform_ps4['user_score'].unique()"
      ]
    },
    {
      "cell_type": "code",
      "execution_count": null,
      "metadata": {
        "id": "T81bTxg_anRq",
        "outputId": "d44004f6-d8e1-4b5b-cfbd-8615d16de382"
      },
      "outputs": [
        {
          "data": {
            "text/plain": [
              "array([97., 82., 83., 85., 87., 76., 93., 86., 77., 88., 80., 92., 70.,\n",
              "       78., 84., 73., 81., 90., 74., 71., 89., 79., 68., 75., 63., 54.,\n",
              "       61., 62., 69., 67., 65., 72., 60., 48., 66., 59., 57., 43., 47.,\n",
              "       32., 53., 58., 38., 45., 19., 44., 64., 42., 25., 52., 31., 55.,\n",
              "       49., 51.])"
            ]
          },
          "execution_count": 127,
          "metadata": {},
          "output_type": "execute_result"
        }
      ],
      "source": [
        "platform_ps4['critic_score'].unique()"
      ]
    },
    {
      "cell_type": "code",
      "execution_count": null,
      "metadata": {
        "id": "_ZJ9ACdlanRq",
        "outputId": "cf4dc211-4ad4-4485-9316-d3cdc8c858b5"
      },
      "outputs": [
        {
          "data": {
            "image/png": "[encoded data removed]",
            "text/plain": [
              "<Figure size 864x576 with 1 Axes>"
            ]
          },
          "metadata": {
            "needs_background": "light"
          },
          "output_type": "display_data"
        }
      ],
      "source": [
        "# Построим диаграмму рассеяния для проверки корреляции между отзывами пользователей и продажами.\n",
        "plt.figure(figsize=(12, 8))\n",
        "sns.scatterplot(x='user_score', y='total_sales', data=platform_ps4, color='#9e315b')\n",
        "plt.xlim(0, 10)\n",
        "plt.xlabel('Оценка пользователей', fontsize=14)\n",
        "plt.ylabel('Продажи', fontsize=14)\n",
        "plt.title('Корреляция между оценками пользователей и продажами', fontsize=14);"
      ]
    },
    {
      "cell_type": "code",
      "execution_count": null,
      "metadata": {
        "id": "o5N5CeovanRq",
        "outputId": "501ea17f-bae1-46ff-f5da-735172cc1ed4"
      },
      "outputs": [
        {
          "name": "stdout",
          "output_type": "stream",
          "text": [
            "Корреляция между оценками пользователей и продажами: -0.03362497596528878\n"
          ]
        }
      ],
      "source": [
        "# Расчитаем коэффициент корреляции Пирсона.\n",
        "print('Корреляция между оценками пользователей и продажами:', \\\n",
        "      platform_ps4['user_score'].corr(platform_ps4['total_sales']))"
      ]
    },
    {
      "cell_type": "code",
      "execution_count": null,
      "metadata": {
        "id": "IyeZRw3manRq",
        "outputId": "cfe55604-4d55-4ce8-eb07-1cc843097a04"
      },
      "outputs": [
        {
          "data": {
            "image/png": "[encoded data removed]",
            "text/plain": [
              "<Figure size 864x576 with 1 Axes>"
            ]
          },
          "metadata": {
            "needs_background": "light"
          },
          "output_type": "display_data"
        }
      ],
      "source": [
        "# Построим диаграмму рассеяния для проверки корреляции между отзывами критиков и продажами.\n",
        "plt.figure(figsize=(12, 8))\n",
        "sns.scatterplot(x='critic_score', y='total_sales', data=platform_ps4,  color='#9e315b')\n",
        "plt.xlim(0, 100)\n",
        "plt.xlabel('Оценка пользователей', fontsize=14)\n",
        "plt.ylabel('Продажи', fontsize=14)\n",
        "plt.title('Корреляция между оценками критиков и продажами', fontsize=14);"
      ]
    },
    {
      "cell_type": "code",
      "execution_count": null,
      "metadata": {
        "id": "HA6ZGrqianRq",
        "outputId": "d8dd01e5-e36d-4713-9754-15a86f9a58aa"
      },
      "outputs": [
        {
          "name": "stdout",
          "output_type": "stream",
          "text": [
            "Корреляция между оценками критиков и продажами: 0.40589480145836687\n"
          ]
        }
      ],
      "source": [
        "# Расчитаем коэффициент корреляции Пирсона.\n",
        "print('Корреляция между оценками критиков и продажами:', \\\n",
        "      platform_ps4['critic_score'].corr(platform_ps4['total_sales']))"
      ]
    },
    {
      "cell_type": "markdown",
      "metadata": {
        "id": "WXFDRp_hanRq"
      },
      "source": [
        "* Оценки пользователей не влияют на продажи. Коэффициент корреляции равен -0.03\n",
        "* Коэффициент корреляции Пирсона 0.4  показывает, что оценки критиков оказывают слобое влияние на продажи.\n",
        "* Наблюдается, что критики склонны оценивать игры выше, чем пользователи."
      ]
    },
    {
      "cell_type": "markdown",
      "metadata": {
        "id": "djaIuIs7anRr"
      },
      "source": [
        "#### Соотнесем выводы с продажами игр на других платформах"
      ]
    },
    {
      "cell_type": "markdown",
      "metadata": {
        "id": "XFMx4cMaanRr"
      },
      "source": [
        "##### 3DS"
      ]
    },
    {
      "cell_type": "code",
      "execution_count": null,
      "metadata": {
        "id": "M67QtI0wanRr",
        "outputId": "3ac20bfd-bd68-42e9-86ef-ae70d47858ae"
      },
      "outputs": [
        {
          "name": "stdout",
          "output_type": "stream",
          "text": [
            "Корреляция между оценками критиков и продажами: 0.31055301915326294\n",
            "Корреляция между оценками пользователей и продажами: 0.20181255007655283\n"
          ]
        }
      ],
      "source": [
        "# Выберем данные связанные с платформой 3DS.\n",
        "platform_3ds = data_last_years.query('platform == \"3DS\" and user_score > 0 and critic_score > 0')\n",
        "\n",
        "# Расчитаем коэффициенты корреляции Пирсона.\n",
        "print('Корреляция между оценками критиков и продажами:', \\\n",
        "      platform_3ds['critic_score'].corr(platform_3ds['total_sales']))\n",
        "print('Корреляция между оценками пользователей и продажами:', \\\n",
        "      platform_3ds['user_score'].corr(platform_3ds['total_sales']))"
      ]
    },
    {
      "cell_type": "markdown",
      "metadata": {
        "id": "OsGxa_P_anRr"
      },
      "source": [
        "##### XOne"
      ]
    },
    {
      "cell_type": "code",
      "execution_count": null,
      "metadata": {
        "id": "HthCmNKXanRr",
        "outputId": "6143e5ce-1f22-4a39-998b-f976b74d64f8"
      },
      "outputs": [
        {
          "name": "stdout",
          "output_type": "stream",
          "text": [
            "Корреляция между оценками критиков и продажами: 0.41042203561296375\n",
            "Корреляция между оценками пользователей и продажами: -0.09400318326920852\n"
          ]
        }
      ],
      "source": [
        "# Выберем данные связанные с платформой XOne.\n",
        "platform_xone = data_last_years.query('platform == \"XOne\" and user_score > 0 and critic_score > 0')\n",
        "\n",
        "# Расчитаем коэффициенты корреляции Пирсона.\n",
        "print('Корреляция между оценками критиков и продажами:', \\\n",
        "      platform_xone['critic_score'].corr(platform_xone['total_sales']))\n",
        "print('Корреляция между оценками пользователей и продажами:', \\\n",
        "      platform_xone['user_score'].corr(platform_xone['total_sales']))"
      ]
    },
    {
      "cell_type": "markdown",
      "metadata": {
        "id": "kqWiMxALanRr"
      },
      "source": [
        "* Значительного влияния отзывов на продажи не выявлено ни для одной платформы.\n",
        "* Мнение пользователейне влияет на продажи игр на платформах XOne и PS4. И оказывает слабое влияние на платформе 3DS.\n",
        "* Влияние критиков на продажи значительнее, чем влияние пользователей. Например, коэффициент корреляции между оценками критиков и продажами игр на платформах XOne и PS4 примерно 0.4."
      ]
    },
    {
      "cell_type": "markdown",
      "metadata": {
        "id": "yXHVdU_canRs"
      },
      "source": [
        "#### Посмотрим на общее распределение игр по жанрам."
      ]
    },
    {
      "cell_type": "code",
      "execution_count": null,
      "metadata": {
        "id": "Hf76NKROanRs",
        "outputId": "803e9bde-2510-49af-ea1c-e1d320aa8a65"
      },
      "outputs": [
        {
          "data": {
            "text/html": [
              "<div>\n",
              "<style scoped>\n",
              "    .dataframe tbody tr th:only-of-type {\n",
              "        vertical-align: middle;\n",
              "    }\n",
              "\n",
              "    .dataframe tbody tr th {\n",
              "        vertical-align: top;\n",
              "    }\n",
              "\n",
              "    .dataframe thead th {\n",
              "        text-align: right;\n",
              "    }\n",
              "</style>\n",
              "<table border=\"1\" class=\"dataframe\">\n",
              "  <thead>\n",
              "    <tr style=\"text-align: right;\">\n",
              "      <th></th>\n",
              "      <th>name</th>\n",
              "      <th>total_sales</th>\n",
              "    </tr>\n",
              "    <tr>\n",
              "      <th>genre</th>\n",
              "      <th></th>\n",
              "      <th></th>\n",
              "    </tr>\n",
              "  </thead>\n",
              "  <tbody>\n",
              "    <tr>\n",
              "      <th>Action</th>\n",
              "      <td>1031</td>\n",
              "      <td>441.12</td>\n",
              "    </tr>\n",
              "    <tr>\n",
              "      <th>Shooter</th>\n",
              "      <td>235</td>\n",
              "      <td>304.73</td>\n",
              "    </tr>\n",
              "    <tr>\n",
              "      <th>Role-Playing</th>\n",
              "      <td>370</td>\n",
              "      <td>192.80</td>\n",
              "    </tr>\n",
              "    <tr>\n",
              "      <th>Sports</th>\n",
              "      <td>268</td>\n",
              "      <td>181.07</td>\n",
              "    </tr>\n",
              "    <tr>\n",
              "      <th>Misc</th>\n",
              "      <td>192</td>\n",
              "      <td>85.04</td>\n",
              "    </tr>\n",
              "    <tr>\n",
              "      <th>Platform</th>\n",
              "      <td>85</td>\n",
              "      <td>61.00</td>\n",
              "    </tr>\n",
              "    <tr>\n",
              "      <th>Racing</th>\n",
              "      <td>115</td>\n",
              "      <td>53.50</td>\n",
              "    </tr>\n",
              "    <tr>\n",
              "      <th>Fighting</th>\n",
              "      <td>109</td>\n",
              "      <td>44.49</td>\n",
              "    </tr>\n",
              "    <tr>\n",
              "      <th>Simulation</th>\n",
              "      <td>80</td>\n",
              "      <td>35.12</td>\n",
              "    </tr>\n",
              "    <tr>\n",
              "      <th>Adventure</th>\n",
              "      <td>302</td>\n",
              "      <td>29.43</td>\n",
              "    </tr>\n",
              "    <tr>\n",
              "      <th>Strategy</th>\n",
              "      <td>71</td>\n",
              "      <td>13.34</td>\n",
              "    </tr>\n",
              "    <tr>\n",
              "      <th>Puzzle</th>\n",
              "      <td>28</td>\n",
              "      <td>4.89</td>\n",
              "    </tr>\n",
              "  </tbody>\n",
              "</table>\n",
              "</div>"
            ],
            "text/plain": [
              "              name  total_sales\n",
              "genre                          \n",
              "Action        1031       441.12\n",
              "Shooter        235       304.73\n",
              "Role-Playing   370       192.80\n",
              "Sports         268       181.07\n",
              "Misc           192        85.04\n",
              "Platform        85        61.00\n",
              "Racing         115        53.50\n",
              "Fighting       109        44.49\n",
              "Simulation      80        35.12\n",
              "Adventure      302        29.43\n",
              "Strategy        71        13.34\n",
              "Puzzle          28         4.89"
            ]
          },
          "execution_count": 36,
          "metadata": {},
          "output_type": "execute_result"
        }
      ],
      "source": [
        "# Сдруппируем данные по жанрам\n",
        "data_last_years.groupby(['genre']) \\\n",
        "    .agg({'name':'count', 'total_sales': 'sum'}).sort_values('total_sales', ascending=False)"
      ]
    },
    {
      "cell_type": "code",
      "execution_count": null,
      "metadata": {
        "id": "Cr7YUSX2anRs",
        "outputId": "ba86d32c-2d59-467f-a204-d58513c1f1b5"
      },
      "outputs": [
        {
          "data": {
            "image/png": "[encoded data removed]",
            "text/plain": [
              "<Figure size 864x576 with 1 Axes>"
            ]
          },
          "metadata": {
            "needs_background": "light"
          },
          "output_type": "display_data"
        }
      ],
      "source": [
        "# Сделаем данные нагляднее и постороим график продаж в различных жанрах.\n",
        "genres_table = data_last_years.pivot_table(index='genre', values='total_sales', aggfunc='sum') \\\n",
        "    .sort_values(by='total_sales')\n",
        "genres_table.plot(kind='barh', figsize=(12, 8), grid=True,  color='#ccab06', fontsize=14)\n",
        "plt.title('Совокупные продажи по жанрам', fontsize=14)\n",
        "plt.xlabel('Продажи', fontsize=14)\n",
        "plt.ylabel('Жанр', fontsize=14)\n",
        "plt.show()"
      ]
    },
    {
      "cell_type": "markdown",
      "metadata": {
        "id": "GBhr7QfAanRs"
      },
      "source": [
        "За период с 2012 года больше всего игр выходило в жанре Action (1031 шт), за ним идет жанр Role-Playing (370 шт), затем Adventure (302 шт). Интересно, что распределение по продажам отличается.\n",
        "Больше всего игр было продано в жанре Action, за ним идет жанр Shooter, затем Role-Playing, 441.12, 304.73, 192.80 миллионов продаж, соответственно. Игр в жанре Adventure было продано всего 29.43 копии. Так, тройка наименее продаваемых жанров: Adventure, Strategy, Puzzle.\n",
        "\n",
        "Интересна причина по которой продолжали выходить игры в малочисленных жанрах. Вероятно, среди игр были очень коммерчески успешные игры. Посмотрим на выбросы."
      ]
    },
    {
      "cell_type": "code",
      "execution_count": null,
      "metadata": {
        "id": "_JUhjpISanRs",
        "outputId": "b96f5e04-73ca-4426-e3ec-0a2331293286"
      },
      "outputs": [
        {
          "data": {
            "image/png": "[encoded data removed]",
            "text/plain": [
              "<Figure size 864x576 with 1 Axes>"
            ]
          },
          "metadata": {
            "needs_background": "light"
          },
          "output_type": "display_data"
        }
      ],
      "source": [
        "plt.figure(figsize=(12,8))\n",
        "sns.boxplot(data=data_last_years, x='genre', y='total_sales', palette='Dark2')\n",
        "plt.ylim(0, 17)\n",
        "plt.xlabel('Жанр', fontsize=14)\n",
        "plt.ylabel('Продажи', fontsize=14)\n",
        "plt.title('Распределение игр по жанрам', fontsize=14);"
      ]
    },
    {
      "cell_type": "code",
      "execution_count": null,
      "metadata": {
        "id": "RznKUOK1anRs",
        "outputId": "c9e2fc29-2ebb-4b98-c5dd-aa1510f535a6"
      },
      "outputs": [
        {
          "data": {
            "image/png": "[encoded data removed]",
            "text/plain": [
              "<Figure size 864x576 with 1 Axes>"
            ]
          },
          "metadata": {
            "needs_background": "light"
          },
          "output_type": "display_data"
        }
      ],
      "source": [
        "# Посмотрим поближе\n",
        "plt.figure(figsize=(12,8))\n",
        "sns.boxplot(data=data_last_years, x='genre', y='total_sales', palette='Dark2')\n",
        "plt.ylim(0, 1.8)\n",
        "plt.xlabel('Жанр', fontsize=14)\n",
        "plt.ylabel('Продажи', fontsize=14)\n",
        "plt.title('Распределение игр по жанрам', fontsize=14);"
      ]
    },
    {
      "cell_type": "markdown",
      "metadata": {
        "id": "R4DXdz12anRs"
      },
      "source": [
        "В ряде жанров наблюдаются выбросы, что говорит о том что есть ужень коммерчески удачные игры. Однако это все равно не объяснило большого количества игр жанра Adventure. Вероятно, это были те игры которые предустанавливаются на устройства.\n",
        "\n",
        "Медианные продажи выше всего в жанре shooter, за ним следует жанр sports, затем platform."
      ]
    },
    {
      "cell_type": "markdown",
      "metadata": {
        "id": "GNEOiFoKanRt"
      },
      "source": [
        "**Ввводы:**\n",
        "1) Была произведена оценко сколько игр выпускалось в разные годы. Оказалось, что в период с 1980 по 1990 ихр выходило мало, скорее всего это было связано с незначительной распространенностью ПК у населения и несовершенностью технологий. Начиная с 1991 наблюдается постоянный рост числа релизов в 2008-2009 годах достигает максимума, когда в год выпускали более 1400 игр. После чего количество выпускаемых игр в год стало уменьшаться достигнув минимума в 2016 году.\n",
        "\n",
        "Что это значит? Игровая индустрия активно развивается, значит было бы логично предположить, что с годами количество перешло в качество. Скорее всего сюжет, графика, механика игр стали более сложными, что занимает больше времени и ресурсов на этапе разработки.\n",
        "\n",
        "Вероятно вместе с качественными изменениями с индустрии изменились и потребители. Пока что очевидно, что в 2012 году произошли какие-то принципиальные изменения в индустрии. Вероятно стоит отбросить данные до 2012 года.\n",
        "\n",
        "2) Было рассмотрено как менялись продажи по платформам. Оказалось, что платформа PS активно использовалась в промежутке 1994-2003 годы с максимумом ав 1998 году. За ней набрала популярность платформа PS2, которая работала в 2000-2010 годы. В 2004 появилась на рынке DS, где пробыла до 2013 года. Эти три платформы мы больше не будем рассматривать, так как их активное использование не попадает на интересующий нас период (2012-2016 годы).\n",
        "\n",
        "В 2009 году максимальные продажи были у игр на платформе Wii, в 2010 на X360, в 2011 на PS3. Далее продажи стали снижаться. Можно было бы предположить, что индустрия терпит бедствие, но здравый смысл говорит, что нет. Поэтому, скорее всего, как было сказано ранее, количество перешло в качество.\n",
        "\n",
        "Оказалось, что срок 'жизни' платформы составляет приблизительно 10 лет.\n",
        "\n",
        "3) Были определены потенциально прибыльтные платформы: PS4, XOne, 3DS.\n",
        "\n",
        "4) Был построен график «ящик с усами».\n",
        "* По большинству платформ наблюдается большое количество выбросов, что свидетельствует о существовании игр бестселлеров, которые приносят сверхприбыли.\n",
        "*  Рассмотрены медианные продажи по каждой платформе. Платформы PSЗ, X360, PS4, XOne, WiiU и Wii имеют сравнимые значения, лидирует платформа X360.\n",
        "* Однако, на рынке с 2012 происходили изенения и менялись лидеры. PS3 и X360 уступили первенство PS4 и XOne. Присутствие в индустрии 3DS значительно сохранилось, однако, платформа все еще входит в тройку лидеров (PS4, XOne и 3DS).\n",
        "\n",
        "5)  Было проанализировано влияние отзывов пользователей и критиков на продажи.\n",
        "* Значительного влияния отзывов на продажи не выявлено ни для одной платформы.\n",
        "* Мнение пользователейне влияет на продажи игр на платформах XOne и PS4. И оказывает слабое влияние на платформе 3DS.\n",
        "* Влияние критиков на продажи значительнее, чем влияние пользователей. Например, коэффициент корреляции между оценками критиков и продажами игр на платформах XOne и PS4 примерно 0.4.\n",
        "\n",
        "6) За период с 2012 года больше всего игр выходило в жанре Action (1031 шт), за ним идет жанр Role-Playing (370 шт), затем Adventure (302 шт). Интересно, что распределение по продажам отличается.\n",
        "Больше всего игр было продано в жанре Action, за ним идет жанр Shooter, затем Role-Playing, 441.12, 304.73, 192.80 миллионов продаж, соответственно. Игр в жанре Adventure было продано всего 29.43 копии. Так, тройка наименее продаваемых жанров: Adventure, Strategy, Puzzle."
      ]
    },
    {
      "cell_type": "markdown",
      "metadata": {
        "id": "cmc-KucnanRt"
      },
      "source": [
        "### Составим портрет пользователя каждого региона  (NA, EU, JP)"
      ]
    },
    {
      "cell_type": "markdown",
      "metadata": {
        "id": "MVzGwoxcanRt"
      },
      "source": [
        "#### Найдем самые популярные платформы (топ-5)."
      ]
    },
    {
      "cell_type": "code",
      "execution_count": null,
      "metadata": {
        "id": "7zy3IQz7anRt",
        "outputId": "2851bc2e-9b29-400e-e14f-cf6469660258"
      },
      "outputs": [
        {
          "data": {
            "image/png": "[encoded data removed]",
            "text/plain": [
              "<Figure size 720x360 with 1 Axes>"
            ]
          },
          "metadata": {
            "needs_background": "light"
          },
          "output_type": "display_data"
        },
        {
          "data": {
            "image/png": "[encoded data removed]",
            "text/plain": [
              "<Figure size 720x360 with 1 Axes>"
            ]
          },
          "metadata": {
            "needs_background": "light"
          },
          "output_type": "display_data"
        },
        {
          "data": {
            "image/png": "[encoded data removed]",
            "text/plain": [
              "<Figure size 720x360 with 1 Axes>"
            ]
          },
          "metadata": {
            "needs_background": "light"
          },
          "output_type": "display_data"
        }
      ],
      "source": [
        "# Популярность платформ в Северной Америке.\n",
        "data_last_years.groupby(by='platform').agg({'na_sales':'sum'}) \\\n",
        "    .sort_values(by='na_sales', ascending=False).head(5) \\\n",
        "    .plot(kind='bar', figsize=(10, 5), width=0.8, grid=True, color='#ccab06', fontsize=14)\n",
        "plt.xlabel('Платформа', fontsize=14)\n",
        "plt.ylabel('Продажи', fontsize=14)\n",
        "plt.title('Популярность платформ в Северной Америке', fontsize=14);\n",
        "\n",
        "\n",
        "# Популярность платформ в Европе.\n",
        "data_last_years.groupby(by='platform').agg({'eu_sales':'sum'}) \\\n",
        "    .sort_values(by='eu_sales', ascending=False).head(5) \\\n",
        "    .plot(kind='bar', figsize=(10, 5), width=0.8, grid=True, color='#ccab06', fontsize=14)\n",
        "plt.xlabel('Платформа', fontsize=14)\n",
        "plt.ylabel('Продажи', fontsize=14)\n",
        "plt.title('Популярность платформ в Европе', fontsize=14);\n",
        "\n",
        "\n",
        "# Популярность платформ в Японии.\n",
        "data_last_years.groupby(by='platform').agg({'jp_sales':'sum'}) \\\n",
        "    .sort_values(by='jp_sales', ascending=False).head(5) \\\n",
        "    .plot(kind='bar', figsize=(10, 5), width=0.8, grid=True, color='#ccab06', fontsize=14)\n",
        "plt.xlabel('Платформа', fontsize=14)\n",
        "plt.ylabel('Продажи', fontsize=14)\n",
        "plt.title('Популярность платформ в Японии', fontsize=14);"
      ]
    },
    {
      "cell_type": "markdown",
      "metadata": {
        "id": "kAs3WDQeanRu"
      },
      "source": [
        "Графики популярности платформ показывают, что в разных регионах популярны различные платформы. Возможено есть ориентированность рынка игр и платформ для разных регионов мира. Для Японии топ3: 3DS, PS3, PSV; для Европы: PS4, PS3, X360; для Северной Америки: X360, PS4, PS3. Так, можно заметить, что в топ3 для Европы и Северной Америки входят одни и теже платформы, но Х360  в Европе значительно менее популярен. В Японии первое место занимает платформа 3DS, по всей видимости японцы - целевая аудитория.\n",
        "\n",
        "По графику видно, что есть 3 группы платформ. На которых вышло более 700 игр, около 300 игр и на которых вышли единицы. Однако непонятно в какие временные промежутки времени происходила активность на данных платформах. Рассмотрим платформы на которых вышло максимальное количество игр: PS, DS, Wii, PS3, X360, PS2."
      ]
    },
    {
      "cell_type": "markdown",
      "metadata": {
        "id": "Wmf24AKGanRu"
      },
      "source": [
        "#### Найдем самые популярные жанры (топ-5)."
      ]
    },
    {
      "cell_type": "code",
      "execution_count": null,
      "metadata": {
        "id": "fglDsJCsanRu",
        "outputId": "b34fa36f-60d3-45b3-f92f-fb4635acde54"
      },
      "outputs": [
        {
          "data": {
            "image/png": "[encoded data removed]",
            "text/plain": [
              "<Figure size 720x360 with 1 Axes>"
            ]
          },
          "metadata": {
            "needs_background": "light"
          },
          "output_type": "display_data"
        },
        {
          "data": {
            "image/png": "[encoded data removed]",
            "text/plain": [
              "<Figure size 720x360 with 1 Axes>"
            ]
          },
          "metadata": {
            "needs_background": "light"
          },
          "output_type": "display_data"
        },
        {
          "data": {
            "image/png": "[encoded data removed]",
            "text/plain": [
              "<Figure size 720x360 with 1 Axes>"
            ]
          },
          "metadata": {
            "needs_background": "light"
          },
          "output_type": "display_data"
        }
      ],
      "source": [
        "# Популярность жанров в Северной Америке.\n",
        "data_last_years.groupby(by='genre').agg({'na_sales':'sum'}) \\\n",
        "    .sort_values(by='na_sales', ascending=False).head(5) \\\n",
        "    .plot(kind='bar', figsize=(10, 5), width=0.8, grid=True, color='#ccab06', fontsize=14)\n",
        "plt.xlabel('Жанр', fontsize=14)\n",
        "plt.ylabel('Продажи', fontsize=14)\n",
        "plt.title('Популярность жанров в Северной Америке', fontsize=14);\n",
        "\n",
        "\n",
        "# Популярность жанров в Европе.\n",
        "data_last_years.groupby(by='genre').agg({'eu_sales':'sum'}) \\\n",
        "    .sort_values(by='eu_sales', ascending=False).head(5) \\\n",
        "    .plot(kind='bar', figsize=(10, 5), width=0.8, grid=True, color='#ccab06', fontsize=14)\n",
        "plt.xlabel('Жанр', fontsize=14)\n",
        "plt.ylabel('Продажи', fontsize=14)\n",
        "plt.title('Популярность жанров в Европе', fontsize=14);\n",
        "\n",
        "\n",
        "# Популярность жанров в Японии.\n",
        "data_last_years.groupby(by='genre').agg({'jp_sales':'sum'}) \\\n",
        "    .sort_values(by='jp_sales', ascending=False).head(5) \\\n",
        "    .plot(kind='bar', figsize=(10, 5), width=0.8, grid=True, color='#ccab06', fontsize=14)\n",
        "plt.xlabel('Жанр', fontsize=14)\n",
        "plt.ylabel('Продажи', fontsize=14)\n",
        "plt.title('Популярность жанров в Японии', fontsize=14);"
      ]
    },
    {
      "cell_type": "markdown",
      "metadata": {
        "id": "pPjL0FQ0anRu"
      },
      "source": [
        "Популярность жанров игр для Европы и Северной Америки почти идентична, топ3: Action, Shooter, Sports. В Японии, как и в случае с популярностью платформ, свои треды. В Японии распространен жанр Role-Playing, затем Action, затем идут почти равнопопулярные Misc, Simulation и  Fighting."
      ]
    },
    {
      "cell_type": "markdown",
      "metadata": {
        "id": "aWBPXpNnanRu"
      },
      "source": [
        "#### Влияет ли рейтинг ESRB на продажи в отдельном регионе?"
      ]
    },
    {
      "cell_type": "code",
      "execution_count": null,
      "metadata": {
        "id": "3pviPsOuanRu",
        "outputId": "0ec4391b-9625-40c3-f6cd-9bc50c039919"
      },
      "outputs": [
        {
          "data": {
            "image/png": "[encoded data removed]",
            "text/plain": [
              "<Figure size 720x360 with 1 Axes>"
            ]
          },
          "metadata": {
            "needs_background": "light"
          },
          "output_type": "display_data"
        },
        {
          "data": {
            "image/png": "[encoded data removed]",
            "text/plain": [
              "<Figure size 720x360 with 1 Axes>"
            ]
          },
          "metadata": {
            "needs_background": "light"
          },
          "output_type": "display_data"
        },
        {
          "data": {
            "image/png": "[encoded data removed]",
            "text/plain": [
              "<Figure size 720x360 with 1 Axes>"
            ]
          },
          "metadata": {
            "needs_background": "light"
          },
          "output_type": "display_data"
        }
      ],
      "source": [
        "# Влияение рейтинга ESRB на продажи в Северной Америке.\n",
        "data_last_years.groupby(by='rating').agg({'na_sales':'sum'}) \\\n",
        "    .sort_values(by='na_sales', ascending=False).head(5) \\\n",
        "    .plot(kind='bar', figsize=(10, 5), width=0.8, grid=True, color='#ccab06', fontsize=14)\n",
        "plt.xlabel('Рейтинг', fontsize=14)\n",
        "plt.ylabel('Продажи', fontsize=14)\n",
        "plt.title('Влияение рейтинга ESRB на продажи в Северной Америке', fontsize=14);\n",
        "\n",
        "\n",
        "# Влияение рейтинга ESRB на продажи в Европе.\n",
        "data_last_years.groupby(by='rating').agg({'eu_sales':'sum'}) \\\n",
        "    .sort_values(by='eu_sales', ascending=False).head(5) \\\n",
        "    .plot(kind='bar', figsize=(10, 5), width=0.8, grid=True, color='#ccab06', fontsize=14)\n",
        "plt.xlabel('Рейтинг', fontsize=14)\n",
        "plt.ylabel('Продажи', fontsize=14)\n",
        "plt.title('Влияение рейтинга ESRB на продажи в Европе', fontsize=14);\n",
        "\n",
        "\n",
        "# Влияение рейтинга ESRB на продажи в Японии.\n",
        "data_last_years.groupby(by='rating').agg({'jp_sales':'sum'}) \\\n",
        "    .sort_values(by='jp_sales', ascending=False).head(5) \\\n",
        "    .plot(kind='bar', figsize=(10, 5), width=0.8, grid=True, color='#ccab06', fontsize=14)\n",
        "plt.xlabel('Рейтинг', fontsize=14)\n",
        "plt.ylabel('Продажи', fontsize=14)\n",
        "plt.title('Влияение рейтинга ESRB на продажи в Японии', fontsize=14);"
      ]
    },
    {
      "cell_type": "markdown",
      "metadata": {
        "id": "WWCIJKuSanRv"
      },
      "source": [
        "Графики показывают, что рынки Европы и Северной Америки очень похожи. Наибольшей популярностью пользуются игры рейтинга M (Для взрослых), затем E (Для всех), затем ряд игр для которых не  был указан рейтинг, затем E10+» (Для всех от 10 лет и старше) и, наконец, Т (Подростки).  Это говорит, что в этих регионах очень много взрослых играют в игры. Что нужно учитывать при создании рекламы.\n",
        "\n",
        "В Японии рынок принципиально отличается. На нем присутствует огромное количество игр которым либо рейтинг не был присвоен, либо просто отсутствия этих данных в базе. Вероятно в Японии использют другую систему рейтингов.\n",
        "Далее с не очень большой разницей следуют Е (Для всех) и Т (Подростки), затем М (Для взрослых) и E10+» (Для всех от 10 лет и старше)."
      ]
    },
    {
      "cell_type": "markdown",
      "metadata": {
        "id": "GxQhqguTanRv"
      },
      "source": [
        "**Выводы:**\n",
        "* Игровой рынок в Европе и Северной Америке очень похожи: там популярны игры в жанрах Аction и Shooter, на платформах X360, PS4, PS3, распределение геймеров по возрастам тоже примерно одинаковое, наиболее продаваемые игры в категории M(Для взрослых).\n",
        "* Японский рынок сильно отличается, на нем очень распространены игры на платформах 3DS, PS3, PSV в жанре Role-Playing у который, как правило нет рейтинга ESRB."
      ]
    },
    {
      "cell_type": "markdown",
      "metadata": {
        "id": "kOaJYG1RanRv"
      },
      "source": [
        "###  Проверим гипотезы"
      ]
    },
    {
      "cell_type": "markdown",
      "metadata": {
        "id": "6tZ7G6VyanRv"
      },
      "source": [
        "#### Гипотеза 1. Средние пользовательские рейтинги платформ Xbox One и PC одинаковые"
      ]
    },
    {
      "cell_type": "markdown",
      "metadata": {
        "id": "uVA_wc23anRv"
      },
      "source": [
        "* **Н0:** Средний пользовательский рейтинг платформ Xbox One и PC одинаковый\n",
        "* **H1:** Средний пользовательский рейтинг платформ Xbox One и PC различается"
      ]
    },
    {
      "cell_type": "code",
      "execution_count": null,
      "metadata": {
        "id": "qsMehzeYanRv",
        "outputId": "f939c68e-cef3-4f68-c056-e7d382cbdf02"
      },
      "outputs": [
        {
          "name": "stdout",
          "output_type": "stream",
          "text": [
            "p-значение: 0.5535080500643661\n",
            "Не получилось отвергнуть нулевую гипотезу\n"
          ]
        }
      ],
      "source": [
        "# Создадим переменные с оценоками по XOne и PC\n",
        "xone = data_last_years[(data_last_years['platform'] == 'XOne') \\\n",
        "                       & (data_last_years['user_score'] > 0)]['user_score']\n",
        "pc = data_last_years[(data_last_years['platform'] == 'PC') \\\n",
        "                     & (data_last_years['user_score'] > 0)]['user_score']\n",
        "\n",
        "# Зададим уровень статистической значимости alpha\n",
        "alpha = 0.05\n",
        "\n",
        "# Проведем тест\n",
        "results = st.ttest_ind(xone, pc)\n",
        "\n",
        "# выведем на экран получившееся p-значение\n",
        "print('p-значение:', results.pvalue)\n",
        "\n",
        "if (results.pvalue < alpha):\n",
        "    print(\"Отвергаем нулевую гипотезу\")\n",
        "else:\n",
        "    print(\"Не получилось отвергнуть нулевую гипотезу\")"
      ]
    },
    {
      "cell_type": "markdown",
      "metadata": {
        "id": "AI_tiVZCanRv"
      },
      "source": [
        "#### Гипотеза 2. Средние пользовательские рейтинги жанров Action и Sports разные."
      ]
    },
    {
      "cell_type": "markdown",
      "metadata": {
        "id": "qaA8YD4PanRv"
      },
      "source": [
        "* **Н0:** Средний пользовательский рейтинг жанров Action и Sports одинаковый\n",
        "* **H1:** Средний пользовательский рейтинг жанров Action и Sports различается"
      ]
    },
    {
      "cell_type": "code",
      "execution_count": null,
      "metadata": {
        "id": "svl7R96canRw",
        "outputId": "c75d7a6a-fdd9-4702-ac7d-02e4f0fb9a41"
      },
      "outputs": [
        {
          "name": "stdout",
          "output_type": "stream",
          "text": [
            "p-значение: 3.7163089460934874e-26\n",
            "Отвергаем нулевую гипотезу\n"
          ]
        }
      ],
      "source": [
        "# Создадим переменные с оценоками по XOne и PC\n",
        "action = data_last_years.loc[(data_last_years['genre'] == 'Action') \\\n",
        "                         & (data_last_years['user_score'] > 0)]['user_score']\n",
        "sport = data_last_years.loc[(data_last_years['genre'] == 'Sports') \\\n",
        "                        & (data_last_years['user_score'] > 0)]['user_score']\n",
        "\n",
        "# Зададим уровень статистической значимости alpha\n",
        "alpha = 0.05\n",
        "\n",
        "# Проведем тест\n",
        "results = st.ttest_ind(action, sport)\n",
        "\n",
        "# выведем на экран получившееся p-значение\n",
        "print('p-значение:', results.pvalue)\n",
        "\n",
        "if (results.pvalue < alpha):\n",
        "    print(\"Отвергаем нулевую гипотезу\")\n",
        "else:\n",
        "    print(\"Не получилось отвергнуть нулевую гипотезу\")"
      ]
    },
    {
      "cell_type": "markdown",
      "metadata": {
        "id": "WMFRtWZ-anRw"
      },
      "source": [
        "**Выводы:**\n",
        "* Не удалось отвергнуть нулевую гипотезу H0, поэтому будем считать, что средние пользовательские рейтинги платформ Xbox One и PC одинаковые.\n",
        "* Отвергаем нулевую гипотезу **H0**, поэтому будем считать, что средние пользовательские рейтинги жанров Action и Sports разные."
      ]
    },
    {
      "cell_type": "markdown",
      "metadata": {
        "id": "q-OyaT-6anRw"
      },
      "source": [
        "### Выводы"
      ]
    },
    {
      "cell_type": "markdown",
      "metadata": {
        "id": "5QiGN8KeanRw"
      },
      "source": [
        "Было проведено исслледование для интернет-магазина, который продаёт по всему миру компьютерные игры. Для того чтобы спланировть рекламную компанию были выявлены определяющие успешность игры закономерности.\n",
        "\n",
        "1. **Данные были подгототовлены:**\n",
        "* Названия столбцов приведены к нижнему регистру.\n",
        "* Проанализированы и обработаны пропуски.\n",
        "* Для некоторых столбцов тип данных заменен на корректный.\n",
        "* В датафрейм добавлен новый столбец total_sales.\n",
        "\n",
        "\n",
        "2.  **Проведен исследовательский анализ данных:**\n",
        "* Была произведена оценка количества игр выпущенных в разные годы. Оказалось, что в период с 1980 по 1990 игр выходило мало, скорее всего это было связано с незначительной распространенностью ПК у населения и несовершенностью технологий. Начиная с 1991 наблюдается постоянный рост числа релизов в 2008-2009 годах достигает максимума, когда в год выпускали более 1400 игр. После чего количество выпускаемых игр в год стало уменьшаться достигнув минимума в 2016 году.Скорее всего сюжет, графика, механика игр стали более сложными, что занимает больше времени и ресурсов на этапе разработки. Вероятно вместе с качественными изменениями с индустрии изменились и потребители. Пока что очевидно, что в 2012 году произошли какие-то принципиальные изменения в индустрии. Было решено использовать в исследовании данные от 2012 года.\n",
        "\n",
        "\n",
        "* Было рассмотрено как менялись продажи по платформам. Оказалось, что платформа PS активно использовалась в промежутке 1994-2003 годы с максимумом ав 1998 году. За ней набрала популярность платформа PS2, которая работала в 2000-2010 годы. В 2004 появилась на рынке DS, где пробыла до 2013 года. Эти три платформы мы больше не будем рассматривать, так как их активное использование не попадает на интересующий нас период (2012-2016 годы). В 2009 году максимальные продажи были у игр на платформе Wii, в 2010 на X360, в 2011 на PS3. Далее продажи стали снижаться. Можно было бы предположить, что индустрия терпит бедствие, но здравый смысл говорит, что нет. Поэтому, скорее всего, как было сказано ранее, количество перешло в качество. Оказалось, что срок 'жизни' платформы составляет приблизительно 10 лет.\n",
        "\n",
        "\n",
        "* Были определены потенциально прибыльтные платформы: PS4, XOne, 3DS.\n",
        "\n",
        "\n",
        "* Был построен график «ящик с усами».  По большинству платформ наблюдается большое количество выбросов, что свидетельствует о существовании игр бестселлеров, которые приносят сверхприбыли.\n",
        "\n",
        "\n",
        "*  Рассмотрены медианные продажи по каждой платформе. Платформы PSЗ, X360, PS4, XOne, WiiU и Wii имеют сравнимые значения, лидирует платформа X360. Однако, на рынке с 2012 происходили изенения и менялись лидеры. PS3 и X360 уступили первенство PS4 и XOne. Присутствие в индустрии 3DS значительно сохранилось, однако, платформа все еще входит в тройку лидеров (PS4, XOne и 3DS).\n",
        "\n",
        "\n",
        "* Было проанализировано влияние отзывов пользователей и критиков на продажи.  Значительного влияния отзывов на продажи не выявлено ни для одной платформы. Мнение пользователейне влияет на продажи игр на платформах XOne и PS4. И оказывает слабое влияние на платформе 3DS. Влияние критиков на продажи значительнее, чем влияние пользователей. Например, коэффициент корреляции между оценками критиков и продажами игр на платформах XOne и PS4 примерно 0.4.\n",
        "\n",
        "\n",
        "*  За период с 2012 года больше всего игр выходило в жанре Action (1031 шт), за ним идет жанр Role-Playing (370 шт), затем Adventure (302 шт). Интересно, что распределение по продажам отличается. Больше всего игр было продано в жанре Action, за ним идет жанр Shooter, затем Role-Playing, 441.12, 304.73, 192.80 миллионов продаж, соответственно. Игр в жанре Adventure было продано всего 29.43 копии. Так, тройка наименее продаваемых жанров: Adventure, Strategy, Puzzle.\n",
        "\n",
        "3. **Был составен портрет пользователя каждого региона:**\n",
        "* Игровой рынок в Европе и Северной Америке очень похожи: там популярны игры в жанрах Аction и Shooter, на платформах X360, PS4, PS3, распределение геймеров по возрастам тоже примерно одинаковое, наиболее продаваемые игры в категории M(Для взрослых).\n",
        "* Японский рынок сильно отличается, на нем очень распространены игры на платформах 3DS, PS3, PSV в жанре Role-Playing у который, как правило нет рейтинга ESRB.\n",
        "\n",
        "4. **Была выполнена проверка двух гипотез:**\n",
        "* Средние пользовательские рейтинги платформ Xbox One и PC одинаковые. Не удалось отвергнуть нулевую гипотезу H0, поэтому будем считать, что средние пользовательские рейтинги платформ Xbox One и PC одинаковые.\n",
        "* Отвергаем нулевую гипотезу H0, поэтому будем считать, что средние пользовательские рейтинги жанров Action и Sports разные.\n",
        "\n",
        "5. **Предлежения по развитию проекта:**\n",
        "* Очевидно, что рейтинг игр является очень важным параметром. Так как в зависимости от целевой возрастной категории будет формироваться будующая рекламная компания. Для значительной части продаж игр в Японии маркировка отсутствует видимо изза того что у них есть свой рейтинг. Необходимо добавить эти данные в датасет."
      ]
    }
  ],
  "metadata": {
    "ExecuteTimeLog": [
      {
        "duration": 1269,
        "start_time": "2023-03-14T09:18:26.656Z"
      },
      {
        "duration": 168,
        "start_time": "2023-03-14T09:19:58.059Z"
      },
      {
        "duration": 84,
        "start_time": "2023-03-14T09:20:51.560Z"
      },
      {
        "duration": 58,
        "start_time": "2023-03-14T09:21:11.803Z"
      },
      {
        "duration": 62,
        "start_time": "2023-03-14T09:21:27.058Z"
      },
      {
        "duration": 391,
        "start_time": "2023-03-14T09:24:49.659Z"
      },
      {
        "duration": 762,
        "start_time": "2023-03-14T09:25:04.039Z"
      },
      {
        "duration": 182,
        "start_time": "2023-03-14T09:25:34.162Z"
      },
      {
        "duration": 76,
        "start_time": "2023-03-14T09:25:46.567Z"
      },
      {
        "duration": 46,
        "start_time": "2023-03-14T09:25:52.097Z"
      },
      {
        "duration": 71,
        "start_time": "2023-03-14T09:26:04.197Z"
      },
      {
        "duration": 57,
        "start_time": "2023-03-14T09:31:09.684Z"
      },
      {
        "duration": 69,
        "start_time": "2023-03-14T09:32:08.912Z"
      },
      {
        "duration": 14,
        "start_time": "2023-03-14T09:33:11.294Z"
      },
      {
        "duration": 32,
        "start_time": "2023-03-14T09:33:23.398Z"
      },
      {
        "duration": 13,
        "start_time": "2023-03-14T09:35:35.527Z"
      },
      {
        "duration": 11,
        "start_time": "2023-03-14T09:35:42.547Z"
      },
      {
        "duration": 13,
        "start_time": "2023-03-14T09:36:20.180Z"
      },
      {
        "duration": 12,
        "start_time": "2023-03-14T09:36:23.336Z"
      },
      {
        "duration": 65,
        "start_time": "2023-03-14T09:36:42.531Z"
      },
      {
        "duration": 44,
        "start_time": "2023-03-14T09:36:48.808Z"
      },
      {
        "duration": 13,
        "start_time": "2023-03-14T09:36:58.039Z"
      },
      {
        "duration": 71,
        "start_time": "2023-03-14T10:39:59.745Z"
      },
      {
        "duration": 9,
        "start_time": "2023-03-14T10:44:26.312Z"
      },
      {
        "duration": 10,
        "start_time": "2023-03-14T10:50:31.794Z"
      },
      {
        "duration": 13,
        "start_time": "2023-03-14T10:53:41.949Z"
      },
      {
        "duration": 9,
        "start_time": "2023-03-14T10:53:43.517Z"
      },
      {
        "duration": 6,
        "start_time": "2023-03-14T11:17:05.539Z"
      },
      {
        "duration": 5,
        "start_time": "2023-03-14T11:17:08.115Z"
      },
      {
        "duration": 69,
        "start_time": "2023-03-14T11:17:33.794Z"
      },
      {
        "duration": 3,
        "start_time": "2023-03-14T11:19:53.299Z"
      },
      {
        "duration": 7,
        "start_time": "2023-03-14T11:20:37.768Z"
      },
      {
        "duration": 13,
        "start_time": "2023-03-14T11:46:46.909Z"
      },
      {
        "duration": 20,
        "start_time": "2023-03-14T11:46:59.368Z"
      },
      {
        "duration": 16,
        "start_time": "2023-03-14T11:54:38.614Z"
      },
      {
        "duration": 10,
        "start_time": "2023-03-14T11:54:49.305Z"
      },
      {
        "duration": 11,
        "start_time": "2023-03-14T11:54:54.914Z"
      },
      {
        "duration": 40,
        "start_time": "2023-03-14T12:12:09.322Z"
      },
      {
        "duration": 3,
        "start_time": "2023-03-14T12:12:50.615Z"
      },
      {
        "duration": 9,
        "start_time": "2023-03-14T12:12:51.098Z"
      },
      {
        "duration": 9,
        "start_time": "2023-03-14T12:12:51.503Z"
      },
      {
        "duration": 14,
        "start_time": "2023-03-14T12:12:51.975Z"
      },
      {
        "duration": 1378,
        "start_time": "2023-03-14T12:15:12.865Z"
      },
      {
        "duration": 1,
        "start_time": "2023-03-14T12:15:14.244Z"
      },
      {
        "duration": 9,
        "start_time": "2023-03-14T12:16:04.062Z"
      },
      {
        "duration": 7,
        "start_time": "2023-03-14T12:16:09.167Z"
      },
      {
        "duration": 19,
        "start_time": "2023-03-14T12:16:09.638Z"
      },
      {
        "duration": 8,
        "start_time": "2023-03-14T12:23:59.032Z"
      },
      {
        "duration": 4,
        "start_time": "2023-03-14T12:24:19.620Z"
      },
      {
        "duration": 6,
        "start_time": "2023-03-14T12:24:22.268Z"
      },
      {
        "duration": 13,
        "start_time": "2023-03-14T12:24:42.379Z"
      },
      {
        "duration": 12,
        "start_time": "2023-03-14T12:25:14.067Z"
      },
      {
        "duration": 24,
        "start_time": "2023-03-14T12:25:33.355Z"
      },
      {
        "duration": 73,
        "start_time": "2023-03-14T12:25:43.496Z"
      },
      {
        "duration": 56,
        "start_time": "2023-03-14T12:45:42.494Z"
      },
      {
        "duration": 89,
        "start_time": "2023-03-14T12:46:01.435Z"
      },
      {
        "duration": 4,
        "start_time": "2023-03-14T12:48:41.821Z"
      },
      {
        "duration": 15,
        "start_time": "2023-03-14T15:00:49.475Z"
      },
      {
        "duration": 13,
        "start_time": "2023-03-14T15:02:28.617Z"
      },
      {
        "duration": 2,
        "start_time": "2023-03-14T15:02:41.178Z"
      },
      {
        "duration": 103,
        "start_time": "2023-03-14T15:02:41.184Z"
      },
      {
        "duration": 12,
        "start_time": "2023-03-14T15:02:41.289Z"
      },
      {
        "duration": 36,
        "start_time": "2023-03-14T15:02:41.302Z"
      },
      {
        "duration": 15,
        "start_time": "2023-03-14T15:02:41.339Z"
      },
      {
        "duration": 35,
        "start_time": "2023-03-14T15:02:41.356Z"
      },
      {
        "duration": 4,
        "start_time": "2023-03-14T15:02:41.393Z"
      },
      {
        "duration": 10,
        "start_time": "2023-03-14T15:02:41.398Z"
      },
      {
        "duration": 8,
        "start_time": "2023-03-14T15:02:41.409Z"
      },
      {
        "duration": 6,
        "start_time": "2023-03-14T15:02:41.418Z"
      },
      {
        "duration": 13,
        "start_time": "2023-03-14T15:02:41.425Z"
      },
      {
        "duration": 43,
        "start_time": "2023-03-14T15:02:41.442Z"
      },
      {
        "duration": 4,
        "start_time": "2023-03-14T15:02:41.487Z"
      },
      {
        "duration": 20,
        "start_time": "2023-03-14T15:02:41.493Z"
      },
      {
        "duration": 18,
        "start_time": "2023-03-14T15:36:38.513Z"
      },
      {
        "duration": 10,
        "start_time": "2023-03-14T15:36:59.202Z"
      },
      {
        "duration": 11,
        "start_time": "2023-03-14T15:37:13.511Z"
      },
      {
        "duration": 29,
        "start_time": "2023-03-14T15:37:30.432Z"
      },
      {
        "duration": 11,
        "start_time": "2023-03-14T15:37:52.021Z"
      },
      {
        "duration": 20,
        "start_time": "2023-03-14T15:38:11.809Z"
      },
      {
        "duration": 18,
        "start_time": "2023-03-14T15:38:51.495Z"
      },
      {
        "duration": 28,
        "start_time": "2023-03-14T15:40:07.031Z"
      },
      {
        "duration": 14,
        "start_time": "2023-03-14T15:41:10.526Z"
      },
      {
        "duration": 1401,
        "start_time": "2023-03-14T15:41:22.297Z"
      },
      {
        "duration": 1070,
        "start_time": "2023-03-14T15:41:33.374Z"
      },
      {
        "duration": 27840,
        "start_time": "2023-03-14T15:44:23.803Z"
      },
      {
        "duration": 28462,
        "start_time": "2023-03-14T15:45:00.397Z"
      },
      {
        "duration": 10,
        "start_time": "2023-03-14T15:45:36.794Z"
      },
      {
        "duration": 1210,
        "start_time": "2023-03-14T15:46:06.459Z"
      },
      {
        "duration": 18,
        "start_time": "2023-03-14T15:47:22.688Z"
      },
      {
        "duration": 21,
        "start_time": "2023-03-14T15:52:16.203Z"
      },
      {
        "duration": 11,
        "start_time": "2023-03-14T15:52:22.817Z"
      },
      {
        "duration": 11,
        "start_time": "2023-03-14T15:52:40.169Z"
      },
      {
        "duration": 11,
        "start_time": "2023-03-14T15:52:45.509Z"
      },
      {
        "duration": 105,
        "start_time": "2023-03-14T15:52:59.192Z"
      },
      {
        "duration": 1579,
        "start_time": "2023-03-14T15:54:26.007Z"
      },
      {
        "duration": 27361,
        "start_time": "2023-03-14T15:54:50.075Z"
      },
      {
        "duration": 11,
        "start_time": "2023-03-14T15:56:23.696Z"
      },
      {
        "duration": 12,
        "start_time": "2023-03-14T15:56:37.172Z"
      },
      {
        "duration": 8,
        "start_time": "2023-03-14T15:56:52.272Z"
      },
      {
        "duration": 16,
        "start_time": "2023-03-14T15:57:06.559Z"
      },
      {
        "duration": 17,
        "start_time": "2023-03-14T16:00:15.557Z"
      },
      {
        "duration": 1078,
        "start_time": "2023-03-14T16:00:30.909Z"
      },
      {
        "duration": 26562,
        "start_time": "2023-03-14T16:00:45.291Z"
      },
      {
        "duration": 23630,
        "start_time": "2023-03-14T16:04:25.725Z"
      },
      {
        "duration": 982,
        "start_time": "2023-03-14T16:06:42.615Z"
      },
      {
        "duration": 842,
        "start_time": "2023-03-14T16:08:29.666Z"
      },
      {
        "duration": 11,
        "start_time": "2023-03-14T16:11:58.277Z"
      },
      {
        "duration": 243,
        "start_time": "2023-03-14T16:12:15.461Z"
      },
      {
        "duration": 253,
        "start_time": "2023-03-14T16:12:34.307Z"
      },
      {
        "duration": 290,
        "start_time": "2023-03-14T16:12:50.555Z"
      },
      {
        "duration": 1456,
        "start_time": "2023-03-14T16:13:04.178Z"
      },
      {
        "duration": 226952,
        "start_time": "2023-03-14T16:21:05.194Z"
      },
      {
        "duration": 15,
        "start_time": "2023-03-14T16:26:22.674Z"
      },
      {
        "duration": 13,
        "start_time": "2023-03-14T16:26:37.516Z"
      },
      {
        "duration": 18,
        "start_time": "2023-03-14T16:26:46.979Z"
      },
      {
        "duration": 1061,
        "start_time": "2023-03-14T16:27:18.377Z"
      },
      {
        "duration": 14,
        "start_time": "2023-03-14T16:27:32.422Z"
      },
      {
        "duration": 151,
        "start_time": "2023-03-14T16:28:24.679Z"
      },
      {
        "duration": 10,
        "start_time": "2023-03-14T16:31:42.199Z"
      },
      {
        "duration": 311,
        "start_time": "2023-03-14T16:31:49.813Z"
      },
      {
        "duration": 11,
        "start_time": "2023-03-14T17:58:52.017Z"
      },
      {
        "duration": 350,
        "start_time": "2023-03-14T17:59:16.416Z"
      },
      {
        "duration": 451,
        "start_time": "2023-03-14T17:59:29.827Z"
      },
      {
        "duration": 385,
        "start_time": "2023-03-14T17:59:44.684Z"
      },
      {
        "duration": 457,
        "start_time": "2023-03-14T17:59:53.793Z"
      },
      {
        "duration": 404,
        "start_time": "2023-03-14T18:00:16.497Z"
      },
      {
        "duration": 412,
        "start_time": "2023-03-14T18:03:26.910Z"
      },
      {
        "duration": 9,
        "start_time": "2023-03-14T18:06:44.123Z"
      },
      {
        "duration": 9,
        "start_time": "2023-03-14T18:08:08.612Z"
      },
      {
        "duration": 3,
        "start_time": "2023-03-14T18:09:16.606Z"
      },
      {
        "duration": 10,
        "start_time": "2023-03-14T18:09:28.603Z"
      },
      {
        "duration": 12,
        "start_time": "2023-03-14T18:09:55.403Z"
      },
      {
        "duration": 8,
        "start_time": "2023-03-14T18:09:58.830Z"
      },
      {
        "duration": 14,
        "start_time": "2023-03-14T18:10:02.475Z"
      },
      {
        "duration": 179,
        "start_time": "2023-03-14T18:10:11.396Z"
      },
      {
        "duration": 247,
        "start_time": "2023-03-14T18:22:53.589Z"
      },
      {
        "duration": 367,
        "start_time": "2023-03-14T18:23:28.722Z"
      },
      {
        "duration": 22,
        "start_time": "2023-03-14T18:44:34.299Z"
      },
      {
        "duration": 421,
        "start_time": "2023-03-14T18:47:51.413Z"
      },
      {
        "duration": 17,
        "start_time": "2023-03-14T18:48:19.883Z"
      },
      {
        "duration": 370,
        "start_time": "2023-03-14T18:48:24.026Z"
      },
      {
        "duration": 103,
        "start_time": "2023-03-14T19:03:38.182Z"
      },
      {
        "duration": 1394,
        "start_time": "2023-03-15T05:30:57.494Z"
      },
      {
        "duration": 184,
        "start_time": "2023-03-15T05:30:58.890Z"
      },
      {
        "duration": 17,
        "start_time": "2023-03-15T05:30:59.075Z"
      },
      {
        "duration": 40,
        "start_time": "2023-03-15T05:30:59.094Z"
      },
      {
        "duration": 21,
        "start_time": "2023-03-15T05:30:59.154Z"
      },
      {
        "duration": 14,
        "start_time": "2023-03-15T05:30:59.177Z"
      },
      {
        "duration": 6,
        "start_time": "2023-03-15T05:30:59.193Z"
      },
      {
        "duration": 12,
        "start_time": "2023-03-15T05:30:59.201Z"
      },
      {
        "duration": 39,
        "start_time": "2023-03-15T05:30:59.216Z"
      },
      {
        "duration": 6,
        "start_time": "2023-03-15T05:30:59.258Z"
      },
      {
        "duration": 7,
        "start_time": "2023-03-15T05:30:59.266Z"
      },
      {
        "duration": 14,
        "start_time": "2023-03-15T05:30:59.275Z"
      },
      {
        "duration": 6,
        "start_time": "2023-03-15T05:30:59.291Z"
      },
      {
        "duration": 20,
        "start_time": "2023-03-15T05:30:59.299Z"
      },
      {
        "duration": 44,
        "start_time": "2023-03-15T05:30:59.321Z"
      },
      {
        "duration": 408,
        "start_time": "2023-03-15T05:30:59.367Z"
      },
      {
        "duration": 67,
        "start_time": "2023-03-15T05:30:59.777Z"
      },
      {
        "duration": 0,
        "start_time": "2023-03-15T05:30:59.846Z"
      },
      {
        "duration": 0,
        "start_time": "2023-03-15T05:30:59.847Z"
      },
      {
        "duration": 1321,
        "start_time": "2023-03-15T05:39:38.513Z"
      },
      {
        "duration": 14,
        "start_time": "2023-03-15T05:39:47.551Z"
      },
      {
        "duration": 4,
        "start_time": "2023-03-15T05:40:02.379Z"
      },
      {
        "duration": 23,
        "start_time": "2023-03-15T05:40:09.106Z"
      },
      {
        "duration": 4,
        "start_time": "2023-03-15T05:40:52.561Z"
      },
      {
        "duration": 17,
        "start_time": "2023-03-15T05:41:11.494Z"
      },
      {
        "duration": 316,
        "start_time": "2023-03-15T05:41:14.998Z"
      },
      {
        "duration": 78406,
        "start_time": "2023-03-15T05:51:29.281Z"
      },
      {
        "duration": 4,
        "start_time": "2023-03-15T05:52:47.690Z"
      },
      {
        "duration": 5,
        "start_time": "2023-03-15T05:52:54.476Z"
      },
      {
        "duration": 86732,
        "start_time": "2023-03-15T05:52:55.253Z"
      },
      {
        "duration": 226,
        "start_time": "2023-03-15T06:06:12.066Z"
      },
      {
        "duration": 331,
        "start_time": "2023-03-15T06:06:22.303Z"
      },
      {
        "duration": 13,
        "start_time": "2023-03-15T06:07:37.149Z"
      },
      {
        "duration": 3,
        "start_time": "2023-03-15T06:08:19.043Z"
      },
      {
        "duration": 692,
        "start_time": "2023-03-15T06:13:29.296Z"
      },
      {
        "duration": 450,
        "start_time": "2023-03-15T06:13:41.165Z"
      },
      {
        "duration": 486,
        "start_time": "2023-03-15T06:15:26.126Z"
      },
      {
        "duration": 456,
        "start_time": "2023-03-15T06:15:53.262Z"
      },
      {
        "duration": 457,
        "start_time": "2023-03-15T06:16:06.357Z"
      },
      {
        "duration": 542,
        "start_time": "2023-03-15T06:16:15.786Z"
      },
      {
        "duration": 477,
        "start_time": "2023-03-15T06:17:14.871Z"
      },
      {
        "duration": 541,
        "start_time": "2023-03-15T06:17:53.748Z"
      },
      {
        "duration": 248,
        "start_time": "2023-03-15T06:29:58.137Z"
      },
      {
        "duration": 3,
        "start_time": "2023-03-15T06:30:09.508Z"
      },
      {
        "duration": 14,
        "start_time": "2023-03-15T06:31:26.109Z"
      },
      {
        "duration": 18,
        "start_time": "2023-03-15T06:31:34.412Z"
      },
      {
        "duration": 15,
        "start_time": "2023-03-15T06:31:53.109Z"
      },
      {
        "duration": 16,
        "start_time": "2023-03-15T06:32:43.564Z"
      },
      {
        "duration": 14,
        "start_time": "2023-03-15T06:33:03.061Z"
      },
      {
        "duration": 154,
        "start_time": "2023-03-15T06:33:22.990Z"
      },
      {
        "duration": 4,
        "start_time": "2023-03-15T06:33:44.597Z"
      },
      {
        "duration": 15,
        "start_time": "2023-03-15T06:33:45.248Z"
      },
      {
        "duration": 187,
        "start_time": "2023-03-15T06:33:45.845Z"
      },
      {
        "duration": 152,
        "start_time": "2023-03-15T06:33:59.321Z"
      },
      {
        "duration": 512,
        "start_time": "2023-03-15T06:34:00.165Z"
      },
      {
        "duration": 76,
        "start_time": "2023-03-15T06:34:13.733Z"
      },
      {
        "duration": 135,
        "start_time": "2023-03-15T06:34:16.098Z"
      },
      {
        "duration": 76,
        "start_time": "2023-03-15T06:34:18.211Z"
      },
      {
        "duration": 10,
        "start_time": "2023-03-15T06:48:10.888Z"
      },
      {
        "duration": 312,
        "start_time": "2023-03-15T06:48:23.195Z"
      },
      {
        "duration": 4,
        "start_time": "2023-03-15T06:48:55.257Z"
      },
      {
        "duration": 16,
        "start_time": "2023-03-15T06:49:31.988Z"
      },
      {
        "duration": 8,
        "start_time": "2023-03-15T06:49:47.344Z"
      },
      {
        "duration": 30,
        "start_time": "2023-03-15T06:49:54.853Z"
      },
      {
        "duration": 98,
        "start_time": "2023-03-15T06:50:08.991Z"
      },
      {
        "duration": 99,
        "start_time": "2023-03-15T06:50:22.007Z"
      },
      {
        "duration": 29,
        "start_time": "2023-03-15T06:50:33.469Z"
      },
      {
        "duration": 20,
        "start_time": "2023-03-15T06:50:38.049Z"
      },
      {
        "duration": 4,
        "start_time": "2023-03-15T06:51:20.278Z"
      },
      {
        "duration": 2,
        "start_time": "2023-03-15T06:51:21.203Z"
      },
      {
        "duration": 25,
        "start_time": "2023-03-15T06:51:22.069Z"
      },
      {
        "duration": 288,
        "start_time": "2023-03-15T06:51:25.928Z"
      },
      {
        "duration": 76,
        "start_time": "2023-03-15T06:51:56.044Z"
      },
      {
        "duration": 74,
        "start_time": "2023-03-15T06:53:11.936Z"
      },
      {
        "duration": 14,
        "start_time": "2023-03-15T06:53:27.585Z"
      },
      {
        "duration": 275,
        "start_time": "2023-03-15T06:53:28.890Z"
      },
      {
        "duration": 12,
        "start_time": "2023-03-15T06:53:48.499Z"
      },
      {
        "duration": 18,
        "start_time": "2023-03-15T06:53:49.072Z"
      },
      {
        "duration": 12,
        "start_time": "2023-03-15T06:53:54.776Z"
      },
      {
        "duration": 243,
        "start_time": "2023-03-15T06:53:55.295Z"
      },
      {
        "duration": 1021,
        "start_time": "2023-03-15T06:54:56.438Z"
      },
      {
        "duration": 83,
        "start_time": "2023-03-15T06:58:05.732Z"
      },
      {
        "duration": 223,
        "start_time": "2023-03-15T06:58:14.854Z"
      },
      {
        "duration": 1001,
        "start_time": "2023-03-15T06:59:47.125Z"
      },
      {
        "duration": 10,
        "start_time": "2023-03-15T07:00:27.130Z"
      },
      {
        "duration": 165,
        "start_time": "2023-03-15T07:01:24.731Z"
      },
      {
        "duration": 4,
        "start_time": "2023-03-15T07:02:44.235Z"
      },
      {
        "duration": 3,
        "start_time": "2023-03-15T07:03:02.052Z"
      },
      {
        "duration": 454,
        "start_time": "2023-03-15T07:03:42.204Z"
      },
      {
        "duration": 3,
        "start_time": "2023-03-15T07:05:22.374Z"
      },
      {
        "duration": 2,
        "start_time": "2023-03-15T07:05:22.835Z"
      },
      {
        "duration": 13,
        "start_time": "2023-03-15T07:05:23.364Z"
      },
      {
        "duration": 1053,
        "start_time": "2023-03-15T07:05:24.130Z"
      },
      {
        "duration": 456,
        "start_time": "2023-03-15T07:05:32.707Z"
      },
      {
        "duration": 89,
        "start_time": "2023-03-15T07:05:34.255Z"
      },
      {
        "duration": 333,
        "start_time": "2023-03-15T07:06:03.054Z"
      },
      {
        "duration": 4,
        "start_time": "2023-03-15T07:07:11.937Z"
      },
      {
        "duration": 336,
        "start_time": "2023-03-15T07:20:54.696Z"
      },
      {
        "duration": 1156,
        "start_time": "2023-03-15T07:21:35.362Z"
      },
      {
        "duration": 225,
        "start_time": "2023-03-15T07:22:02.048Z"
      },
      {
        "duration": 25,
        "start_time": "2023-03-15T07:22:21.669Z"
      },
      {
        "duration": 1228,
        "start_time": "2023-03-15T07:22:53.955Z"
      },
      {
        "duration": 337,
        "start_time": "2023-03-15T07:25:55.068Z"
      },
      {
        "duration": 349,
        "start_time": "2023-03-15T07:26:25.635Z"
      },
      {
        "duration": 354,
        "start_time": "2023-03-15T07:26:52.039Z"
      },
      {
        "duration": 1193,
        "start_time": "2023-03-15T07:27:13.608Z"
      },
      {
        "duration": 1137,
        "start_time": "2023-03-15T07:27:50.916Z"
      },
      {
        "duration": 1124,
        "start_time": "2023-03-15T07:28:08.021Z"
      },
      {
        "duration": 369,
        "start_time": "2023-03-15T07:28:35.279Z"
      },
      {
        "duration": 372,
        "start_time": "2023-03-15T07:28:59.613Z"
      },
      {
        "duration": 375,
        "start_time": "2023-03-15T07:29:09.516Z"
      },
      {
        "duration": 383,
        "start_time": "2023-03-15T07:29:24.404Z"
      },
      {
        "duration": 390,
        "start_time": "2023-03-15T07:29:38.234Z"
      },
      {
        "duration": 338,
        "start_time": "2023-03-15T07:29:54.698Z"
      },
      {
        "duration": 458,
        "start_time": "2023-03-15T07:30:03.851Z"
      },
      {
        "duration": 382,
        "start_time": "2023-03-15T07:33:05.762Z"
      },
      {
        "duration": 365,
        "start_time": "2023-03-15T07:33:15.675Z"
      },
      {
        "duration": 1172,
        "start_time": "2023-03-15T07:33:22.720Z"
      },
      {
        "duration": 1152,
        "start_time": "2023-03-15T07:33:28.633Z"
      },
      {
        "duration": 338,
        "start_time": "2023-03-15T07:33:43.562Z"
      },
      {
        "duration": 1065,
        "start_time": "2023-03-15T07:33:52.596Z"
      },
      {
        "duration": 1258,
        "start_time": "2023-03-15T07:33:57.904Z"
      },
      {
        "duration": 1118,
        "start_time": "2023-03-15T07:34:08.497Z"
      },
      {
        "duration": 1092,
        "start_time": "2023-03-15T07:34:14.668Z"
      },
      {
        "duration": 344,
        "start_time": "2023-03-15T07:34:19.512Z"
      },
      {
        "duration": 361,
        "start_time": "2023-03-15T07:34:35.601Z"
      },
      {
        "duration": 409,
        "start_time": "2023-03-15T07:34:44.649Z"
      },
      {
        "duration": 332,
        "start_time": "2023-03-15T07:34:55.404Z"
      },
      {
        "duration": 373,
        "start_time": "2023-03-15T07:35:07.545Z"
      },
      {
        "duration": 368,
        "start_time": "2023-03-15T07:35:17.408Z"
      },
      {
        "duration": 355,
        "start_time": "2023-03-15T07:35:28.717Z"
      },
      {
        "duration": 1170,
        "start_time": "2023-03-15T07:35:36.479Z"
      },
      {
        "duration": 1209,
        "start_time": "2023-03-15T07:35:42.602Z"
      },
      {
        "duration": 97,
        "start_time": "2023-03-15T07:35:57.701Z"
      },
      {
        "duration": 360,
        "start_time": "2023-03-15T07:36:06.893Z"
      },
      {
        "duration": 346,
        "start_time": "2023-03-15T07:36:21.062Z"
      },
      {
        "duration": 406,
        "start_time": "2023-03-15T07:36:36.249Z"
      },
      {
        "duration": 389,
        "start_time": "2023-03-15T07:36:56.836Z"
      },
      {
        "duration": 37,
        "start_time": "2023-03-15T08:04:28.332Z"
      },
      {
        "duration": 7,
        "start_time": "2023-03-15T08:05:01.042Z"
      },
      {
        "duration": 7,
        "start_time": "2023-03-15T08:08:21.656Z"
      },
      {
        "duration": 6,
        "start_time": "2023-03-15T08:08:26.223Z"
      },
      {
        "duration": 7,
        "start_time": "2023-03-15T08:08:31.014Z"
      },
      {
        "duration": 6,
        "start_time": "2023-03-15T08:08:42.977Z"
      },
      {
        "duration": 12,
        "start_time": "2023-03-15T08:09:41.340Z"
      },
      {
        "duration": 13,
        "start_time": "2023-03-15T08:09:47.156Z"
      },
      {
        "duration": 11,
        "start_time": "2023-03-15T08:09:53.513Z"
      },
      {
        "duration": 10,
        "start_time": "2023-03-15T08:10:09.566Z"
      },
      {
        "duration": 12,
        "start_time": "2023-03-15T08:12:15.508Z"
      },
      {
        "duration": 9,
        "start_time": "2023-03-15T08:12:33.919Z"
      },
      {
        "duration": 14653,
        "start_time": "2023-03-15T08:15:38.526Z"
      },
      {
        "duration": 1020,
        "start_time": "2023-03-15T08:17:41.813Z"
      },
      {
        "duration": 77,
        "start_time": "2023-03-15T08:18:36.839Z"
      },
      {
        "duration": 2171,
        "start_time": "2023-03-15T08:19:00.812Z"
      },
      {
        "duration": 414,
        "start_time": "2023-03-15T08:20:56.209Z"
      },
      {
        "duration": 501,
        "start_time": "2023-03-15T08:21:13.742Z"
      },
      {
        "duration": 427,
        "start_time": "2023-03-15T08:21:20.761Z"
      },
      {
        "duration": 37,
        "start_time": "2023-03-15T08:23:00.002Z"
      },
      {
        "duration": 619,
        "start_time": "2023-03-15T08:23:15.580Z"
      },
      {
        "duration": 408,
        "start_time": "2023-03-15T08:23:45.208Z"
      },
      {
        "duration": 422,
        "start_time": "2023-03-15T08:23:51.612Z"
      },
      {
        "duration": 358,
        "start_time": "2023-03-15T08:24:04.752Z"
      },
      {
        "duration": 369,
        "start_time": "2023-03-15T08:24:08.644Z"
      },
      {
        "duration": 538,
        "start_time": "2023-03-15T08:25:15.412Z"
      },
      {
        "duration": 434,
        "start_time": "2023-03-15T08:25:31.141Z"
      },
      {
        "duration": 444,
        "start_time": "2023-03-15T08:25:39.533Z"
      },
      {
        "duration": 498,
        "start_time": "2023-03-15T08:25:53.926Z"
      },
      {
        "duration": 425,
        "start_time": "2023-03-15T08:26:18.508Z"
      },
      {
        "duration": 449,
        "start_time": "2023-03-15T08:26:31.351Z"
      },
      {
        "duration": 630,
        "start_time": "2023-03-15T08:26:38.220Z"
      },
      {
        "duration": 409,
        "start_time": "2023-03-15T08:26:51.930Z"
      },
      {
        "duration": 433,
        "start_time": "2023-03-15T08:27:01.531Z"
      },
      {
        "duration": 448,
        "start_time": "2023-03-15T08:27:14.641Z"
      },
      {
        "duration": 446,
        "start_time": "2023-03-15T08:27:22.628Z"
      },
      {
        "duration": 604,
        "start_time": "2023-03-15T08:27:47.428Z"
      },
      {
        "duration": 441,
        "start_time": "2023-03-15T08:27:58.663Z"
      },
      {
        "duration": 9,
        "start_time": "2023-03-15T08:28:26.548Z"
      },
      {
        "duration": 411,
        "start_time": "2023-03-15T08:29:16.478Z"
      },
      {
        "duration": 408,
        "start_time": "2023-03-15T08:29:42.825Z"
      },
      {
        "duration": 419,
        "start_time": "2023-03-15T08:30:12.222Z"
      },
      {
        "duration": 451,
        "start_time": "2023-03-15T08:30:29.524Z"
      },
      {
        "duration": 637,
        "start_time": "2023-03-15T08:30:40.752Z"
      },
      {
        "duration": 427,
        "start_time": "2023-03-15T08:30:47.940Z"
      },
      {
        "duration": 484,
        "start_time": "2023-03-15T08:30:57.874Z"
      },
      {
        "duration": 443,
        "start_time": "2023-03-15T08:31:05.512Z"
      },
      {
        "duration": 442,
        "start_time": "2023-03-15T08:31:13.377Z"
      },
      {
        "duration": 496,
        "start_time": "2023-03-15T08:31:28.159Z"
      },
      {
        "duration": 457,
        "start_time": "2023-03-15T08:31:33.696Z"
      },
      {
        "duration": 1164,
        "start_time": "2023-03-15T08:31:47.012Z"
      },
      {
        "duration": 1394,
        "start_time": "2023-03-15T08:31:58.930Z"
      },
      {
        "duration": 442,
        "start_time": "2023-03-15T08:32:44.152Z"
      },
      {
        "duration": 38,
        "start_time": "2023-03-15T08:32:54.076Z"
      },
      {
        "duration": 507,
        "start_time": "2023-03-15T08:32:59.081Z"
      },
      {
        "duration": 501,
        "start_time": "2023-03-15T08:33:11.377Z"
      },
      {
        "duration": 432,
        "start_time": "2023-03-15T08:33:20.332Z"
      },
      {
        "duration": 10,
        "start_time": "2023-03-15T08:34:58.027Z"
      },
      {
        "duration": 695,
        "start_time": "2023-03-15T08:36:39.851Z"
      },
      {
        "duration": 452,
        "start_time": "2023-03-15T08:36:50.076Z"
      },
      {
        "duration": 446,
        "start_time": "2023-03-15T08:37:29.587Z"
      },
      {
        "duration": 352,
        "start_time": "2023-03-15T08:39:26.757Z"
      },
      {
        "duration": 1164,
        "start_time": "2023-03-15T08:40:02.339Z"
      },
      {
        "duration": 5,
        "start_time": "2023-03-15T08:47:45.972Z"
      },
      {
        "duration": 7,
        "start_time": "2023-03-15T08:56:50.358Z"
      },
      {
        "duration": 144,
        "start_time": "2023-03-15T08:58:01.660Z"
      },
      {
        "duration": 153,
        "start_time": "2023-03-15T08:58:11.619Z"
      },
      {
        "duration": 162,
        "start_time": "2023-03-15T08:58:54.816Z"
      },
      {
        "duration": 157,
        "start_time": "2023-03-15T08:59:01.072Z"
      },
      {
        "duration": 154,
        "start_time": "2023-03-15T08:59:04.616Z"
      },
      {
        "duration": 5,
        "start_time": "2023-03-15T08:59:17.509Z"
      },
      {
        "duration": 14,
        "start_time": "2023-03-15T08:59:17.946Z"
      },
      {
        "duration": 176,
        "start_time": "2023-03-15T08:59:18.412Z"
      },
      {
        "duration": 149,
        "start_time": "2023-03-15T08:59:42.078Z"
      },
      {
        "duration": 154,
        "start_time": "2023-03-15T09:34:11.240Z"
      },
      {
        "duration": 143,
        "start_time": "2023-03-15T09:34:19.025Z"
      },
      {
        "duration": 293,
        "start_time": "2023-03-15T09:34:28.362Z"
      },
      {
        "duration": 181,
        "start_time": "2023-03-15T09:35:30.574Z"
      },
      {
        "duration": 167,
        "start_time": "2023-03-15T09:36:20.558Z"
      },
      {
        "duration": 165,
        "start_time": "2023-03-15T09:36:36.120Z"
      },
      {
        "duration": 152,
        "start_time": "2023-03-15T09:36:46.131Z"
      },
      {
        "duration": 161,
        "start_time": "2023-03-15T09:37:03.009Z"
      },
      {
        "duration": 159,
        "start_time": "2023-03-15T09:37:09.945Z"
      },
      {
        "duration": 168,
        "start_time": "2023-03-15T09:39:19.129Z"
      },
      {
        "duration": 161,
        "start_time": "2023-03-15T09:39:26.463Z"
      },
      {
        "duration": 180,
        "start_time": "2023-03-15T09:39:30.783Z"
      },
      {
        "duration": 219,
        "start_time": "2023-03-15T09:42:46.084Z"
      },
      {
        "duration": 258,
        "start_time": "2023-03-15T09:44:15.516Z"
      },
      {
        "duration": 174,
        "start_time": "2023-03-15T09:54:13.420Z"
      },
      {
        "duration": 2,
        "start_time": "2023-03-15T09:59:58.662Z"
      },
      {
        "duration": 371,
        "start_time": "2023-03-15T10:02:28.525Z"
      },
      {
        "duration": 101,
        "start_time": "2023-03-15T10:07:09.253Z"
      },
      {
        "duration": 156,
        "start_time": "2023-03-15T10:09:12.059Z"
      },
      {
        "duration": 7,
        "start_time": "2023-03-15T10:10:02.064Z"
      },
      {
        "duration": 4,
        "start_time": "2023-03-15T10:10:02.520Z"
      },
      {
        "duration": 3,
        "start_time": "2023-03-15T10:10:09.344Z"
      },
      {
        "duration": 67,
        "start_time": "2023-03-15T10:10:09.350Z"
      },
      {
        "duration": 17,
        "start_time": "2023-03-15T10:10:09.419Z"
      },
      {
        "duration": 39,
        "start_time": "2023-03-15T10:10:09.438Z"
      },
      {
        "duration": 15,
        "start_time": "2023-03-15T10:10:09.478Z"
      },
      {
        "duration": 9,
        "start_time": "2023-03-15T10:10:09.495Z"
      },
      {
        "duration": 4,
        "start_time": "2023-03-15T10:10:09.505Z"
      },
      {
        "duration": 13,
        "start_time": "2023-03-15T10:10:09.511Z"
      },
      {
        "duration": 31,
        "start_time": "2023-03-15T10:10:09.526Z"
      },
      {
        "duration": 5,
        "start_time": "2023-03-15T10:10:09.560Z"
      },
      {
        "duration": 9,
        "start_time": "2023-03-15T10:10:09.567Z"
      },
      {
        "duration": 14,
        "start_time": "2023-03-15T10:10:09.577Z"
      },
      {
        "duration": 5,
        "start_time": "2023-03-15T10:10:09.593Z"
      },
      {
        "duration": 17,
        "start_time": "2023-03-15T10:10:09.599Z"
      },
      {
        "duration": 48,
        "start_time": "2023-03-15T10:10:09.619Z"
      },
      {
        "duration": 396,
        "start_time": "2023-03-15T10:10:09.668Z"
      },
      {
        "duration": 5,
        "start_time": "2023-03-15T10:10:10.066Z"
      },
      {
        "duration": 18,
        "start_time": "2023-03-15T10:10:10.073Z"
      },
      {
        "duration": 71,
        "start_time": "2023-03-15T10:10:10.093Z"
      },
      {
        "duration": 369,
        "start_time": "2023-03-15T10:10:10.166Z"
      },
      {
        "duration": 1271,
        "start_time": "2023-03-15T10:10:10.537Z"
      },
      {
        "duration": 352,
        "start_time": "2023-03-15T10:10:11.809Z"
      },
      {
        "duration": 9,
        "start_time": "2023-03-15T10:10:12.162Z"
      },
      {
        "duration": 437,
        "start_time": "2023-03-15T10:10:12.172Z"
      },
      {
        "duration": 2,
        "start_time": "2023-03-15T10:10:12.611Z"
      },
      {
        "duration": 28,
        "start_time": "2023-03-15T10:10:12.614Z"
      },
      {
        "duration": 172,
        "start_time": "2023-03-15T10:10:12.644Z"
      },
      {
        "duration": 171,
        "start_time": "2023-03-15T10:10:12.818Z"
      },
      {
        "duration": 155,
        "start_time": "2023-03-15T10:10:15.108Z"
      },
      {
        "duration": 182,
        "start_time": "2023-03-15T10:10:54.861Z"
      },
      {
        "duration": 284,
        "start_time": "2023-03-15T10:11:22.499Z"
      },
      {
        "duration": 240,
        "start_time": "2023-03-15T10:13:17.016Z"
      },
      {
        "duration": 1144,
        "start_time": "2023-03-15T10:13:23.361Z"
      },
      {
        "duration": 1378,
        "start_time": "2023-03-21T05:03:39.270Z"
      },
      {
        "duration": 176,
        "start_time": "2023-03-21T05:03:40.650Z"
      },
      {
        "duration": 16,
        "start_time": "2023-03-21T05:03:40.828Z"
      },
      {
        "duration": 37,
        "start_time": "2023-03-21T05:03:40.846Z"
      },
      {
        "duration": 19,
        "start_time": "2023-03-21T05:03:40.884Z"
      },
      {
        "duration": 9,
        "start_time": "2023-03-21T05:03:40.905Z"
      },
      {
        "duration": 29,
        "start_time": "2023-03-21T05:03:40.916Z"
      },
      {
        "duration": 18,
        "start_time": "2023-03-21T05:03:40.947Z"
      },
      {
        "duration": 12,
        "start_time": "2023-03-21T05:03:40.967Z"
      },
      {
        "duration": 13,
        "start_time": "2023-03-21T05:03:40.982Z"
      },
      {
        "duration": 10,
        "start_time": "2023-03-21T05:03:40.997Z"
      },
      {
        "duration": 24,
        "start_time": "2023-03-21T05:03:41.008Z"
      },
      {
        "duration": 18,
        "start_time": "2023-03-21T05:03:41.051Z"
      },
      {
        "duration": 30,
        "start_time": "2023-03-21T05:03:41.071Z"
      },
      {
        "duration": 21,
        "start_time": "2023-03-21T05:03:41.103Z"
      },
      {
        "duration": 392,
        "start_time": "2023-03-21T05:03:41.126Z"
      },
      {
        "duration": 5,
        "start_time": "2023-03-21T05:03:41.520Z"
      },
      {
        "duration": 15,
        "start_time": "2023-03-21T05:03:41.527Z"
      },
      {
        "duration": 20,
        "start_time": "2023-03-21T05:03:41.544Z"
      },
      {
        "duration": 360,
        "start_time": "2023-03-21T05:03:41.566Z"
      },
      {
        "duration": 1156,
        "start_time": "2023-03-21T05:03:41.929Z"
      },
      {
        "duration": 379,
        "start_time": "2023-03-21T05:03:43.087Z"
      },
      {
        "duration": 10,
        "start_time": "2023-03-21T05:03:43.468Z"
      },
      {
        "duration": 447,
        "start_time": "2023-03-21T05:03:43.480Z"
      },
      {
        "duration": 12,
        "start_time": "2023-03-21T05:03:43.929Z"
      },
      {
        "duration": 10,
        "start_time": "2023-03-21T05:03:43.945Z"
      },
      {
        "duration": 187,
        "start_time": "2023-03-21T05:03:43.957Z"
      },
      {
        "duration": 176,
        "start_time": "2023-03-21T05:03:44.150Z"
      },
      {
        "duration": 124,
        "start_time": "2023-03-21T05:29:04.327Z"
      },
      {
        "duration": 6,
        "start_time": "2023-03-21T05:29:12.102Z"
      },
      {
        "duration": 208,
        "start_time": "2023-03-21T05:35:25.922Z"
      },
      {
        "duration": 155,
        "start_time": "2023-03-21T05:35:36.102Z"
      },
      {
        "duration": 160,
        "start_time": "2023-03-21T05:35:42.639Z"
      },
      {
        "duration": 699,
        "start_time": "2023-03-21T05:35:53.855Z"
      },
      {
        "duration": 439,
        "start_time": "2023-03-21T05:36:00.471Z"
      },
      {
        "duration": 184,
        "start_time": "2023-03-21T05:36:18.245Z"
      },
      {
        "duration": 210,
        "start_time": "2023-03-21T05:36:24.433Z"
      },
      {
        "duration": 149,
        "start_time": "2023-03-21T05:36:32.117Z"
      },
      {
        "duration": 159,
        "start_time": "2023-03-21T05:36:40.407Z"
      },
      {
        "duration": 336,
        "start_time": "2023-03-21T05:36:57.653Z"
      },
      {
        "duration": 333,
        "start_time": "2023-03-21T05:37:08.183Z"
      },
      {
        "duration": 19,
        "start_time": "2023-03-21T05:42:27.492Z"
      },
      {
        "duration": 285,
        "start_time": "2023-03-21T05:42:39.416Z"
      },
      {
        "duration": 4,
        "start_time": "2023-03-21T05:42:51.803Z"
      },
      {
        "duration": 131,
        "start_time": "2023-03-21T05:42:51.810Z"
      },
      {
        "duration": 20,
        "start_time": "2023-03-21T05:42:51.943Z"
      },
      {
        "duration": 59,
        "start_time": "2023-03-21T05:42:51.966Z"
      },
      {
        "duration": 30,
        "start_time": "2023-03-21T05:42:52.028Z"
      },
      {
        "duration": 16,
        "start_time": "2023-03-21T05:42:52.060Z"
      },
      {
        "duration": 11,
        "start_time": "2023-03-21T05:42:52.078Z"
      },
      {
        "duration": 24,
        "start_time": "2023-03-21T05:42:52.091Z"
      },
      {
        "duration": 21,
        "start_time": "2023-03-21T05:42:52.117Z"
      },
      {
        "duration": 51,
        "start_time": "2023-03-21T05:42:52.141Z"
      },
      {
        "duration": 36,
        "start_time": "2023-03-21T05:42:52.195Z"
      },
      {
        "duration": 29,
        "start_time": "2023-03-21T05:42:52.233Z"
      },
      {
        "duration": 18,
        "start_time": "2023-03-21T05:42:52.264Z"
      },
      {
        "duration": 39,
        "start_time": "2023-03-21T05:42:52.285Z"
      },
      {
        "duration": 44,
        "start_time": "2023-03-21T05:42:52.326Z"
      },
      {
        "duration": 434,
        "start_time": "2023-03-21T05:42:52.372Z"
      },
      {
        "duration": 6,
        "start_time": "2023-03-21T05:42:52.808Z"
      },
      {
        "duration": 23,
        "start_time": "2023-03-21T05:42:52.816Z"
      },
      {
        "duration": 31,
        "start_time": "2023-03-21T05:42:52.841Z"
      },
      {
        "duration": 398,
        "start_time": "2023-03-21T05:42:52.876Z"
      },
      {
        "duration": 1118,
        "start_time": "2023-03-21T05:42:53.277Z"
      },
      {
        "duration": 509,
        "start_time": "2023-03-21T05:42:54.397Z"
      },
      {
        "duration": 11,
        "start_time": "2023-03-21T05:42:54.908Z"
      },
      {
        "duration": 502,
        "start_time": "2023-03-21T05:42:54.921Z"
      },
      {
        "duration": 2,
        "start_time": "2023-03-21T05:42:55.426Z"
      },
      {
        "duration": 13,
        "start_time": "2023-03-21T05:42:55.441Z"
      },
      {
        "duration": 171,
        "start_time": "2023-03-21T05:42:55.457Z"
      },
      {
        "duration": 204,
        "start_time": "2023-03-21T05:42:55.630Z"
      },
      {
        "duration": 7,
        "start_time": "2023-03-21T05:42:58.913Z"
      },
      {
        "duration": 165,
        "start_time": "2023-03-21T05:43:00.083Z"
      },
      {
        "duration": 161,
        "start_time": "2023-03-21T05:44:10.181Z"
      },
      {
        "duration": 17,
        "start_time": "2023-03-21T05:45:48.838Z"
      },
      {
        "duration": 16,
        "start_time": "2023-03-21T05:46:00.330Z"
      },
      {
        "duration": 7,
        "start_time": "2023-03-21T05:46:41.155Z"
      },
      {
        "duration": 7,
        "start_time": "2023-03-21T05:46:53.711Z"
      },
      {
        "duration": 7,
        "start_time": "2023-03-21T05:47:06.907Z"
      },
      {
        "duration": 194,
        "start_time": "2023-03-21T05:47:08.550Z"
      },
      {
        "duration": 6,
        "start_time": "2023-03-21T05:49:59.436Z"
      },
      {
        "duration": 186,
        "start_time": "2023-03-21T05:50:00.832Z"
      },
      {
        "duration": 6,
        "start_time": "2023-03-21T05:50:11.800Z"
      },
      {
        "duration": 186,
        "start_time": "2023-03-21T05:50:12.904Z"
      },
      {
        "duration": 170,
        "start_time": "2023-03-21T05:50:37.856Z"
      },
      {
        "duration": 295,
        "start_time": "2023-03-21T05:50:46.113Z"
      },
      {
        "duration": 197,
        "start_time": "2023-03-21T05:50:57.498Z"
      },
      {
        "duration": 6,
        "start_time": "2023-03-21T05:51:39.955Z"
      },
      {
        "duration": 201,
        "start_time": "2023-03-21T05:53:44.977Z"
      },
      {
        "duration": 5,
        "start_time": "2023-03-21T05:54:15.722Z"
      },
      {
        "duration": 183,
        "start_time": "2023-03-21T05:54:24.681Z"
      },
      {
        "duration": 5,
        "start_time": "2023-03-21T05:54:25.093Z"
      },
      {
        "duration": 6,
        "start_time": "2023-03-21T05:59:49.318Z"
      },
      {
        "duration": 193,
        "start_time": "2023-03-21T05:59:49.734Z"
      },
      {
        "duration": 5,
        "start_time": "2023-03-21T05:59:50.117Z"
      },
      {
        "duration": 7,
        "start_time": "2023-03-21T06:00:01.424Z"
      },
      {
        "duration": 5,
        "start_time": "2023-03-21T06:01:20.780Z"
      },
      {
        "duration": 5,
        "start_time": "2023-03-21T06:01:34.067Z"
      },
      {
        "duration": 181,
        "start_time": "2023-03-21T06:01:42.999Z"
      },
      {
        "duration": 4,
        "start_time": "2023-03-21T06:01:43.393Z"
      },
      {
        "duration": 6,
        "start_time": "2023-03-21T06:02:02.596Z"
      },
      {
        "duration": 197,
        "start_time": "2023-03-21T06:02:03.080Z"
      },
      {
        "duration": 4,
        "start_time": "2023-03-21T06:02:06.571Z"
      },
      {
        "duration": 182,
        "start_time": "2023-03-21T06:02:08.311Z"
      },
      {
        "duration": 218,
        "start_time": "2023-03-21T06:02:21.643Z"
      },
      {
        "duration": 198,
        "start_time": "2023-03-21T06:16:13.795Z"
      },
      {
        "duration": 6,
        "start_time": "2023-03-21T06:16:14.638Z"
      },
      {
        "duration": 189,
        "start_time": "2023-03-21T06:20:14.061Z"
      },
      {
        "duration": 195,
        "start_time": "2023-03-21T06:20:43.456Z"
      },
      {
        "duration": 349,
        "start_time": "2023-03-21T06:21:11.813Z"
      },
      {
        "duration": 7,
        "start_time": "2023-03-21T07:23:03.916Z"
      },
      {
        "duration": 108,
        "start_time": "2023-03-21T07:23:48.692Z"
      },
      {
        "duration": 12,
        "start_time": "2023-03-21T07:24:32.509Z"
      },
      {
        "duration": 8,
        "start_time": "2023-03-21T07:25:16.743Z"
      },
      {
        "duration": 314,
        "start_time": "2023-03-21T07:25:17.261Z"
      },
      {
        "duration": 6,
        "start_time": "2023-03-21T07:25:17.655Z"
      },
      {
        "duration": 211,
        "start_time": "2023-03-21T07:25:18.239Z"
      },
      {
        "duration": 6,
        "start_time": "2023-03-21T07:25:18.655Z"
      },
      {
        "duration": 13,
        "start_time": "2023-03-21T07:25:20.617Z"
      },
      {
        "duration": 27,
        "start_time": "2023-03-21T07:25:35.088Z"
      },
      {
        "duration": 11,
        "start_time": "2023-03-21T07:25:46.685Z"
      },
      {
        "duration": 11,
        "start_time": "2023-03-21T07:26:29.800Z"
      },
      {
        "duration": 6,
        "start_time": "2023-03-21T07:27:08.982Z"
      },
      {
        "duration": 11,
        "start_time": "2023-03-21T07:39:19.434Z"
      },
      {
        "duration": 14,
        "start_time": "2023-03-21T07:39:23.709Z"
      },
      {
        "duration": 22,
        "start_time": "2023-03-21T07:40:45.586Z"
      },
      {
        "duration": 21,
        "start_time": "2023-03-21T07:41:05.995Z"
      },
      {
        "duration": 19,
        "start_time": "2023-03-21T07:42:10.817Z"
      },
      {
        "duration": 17,
        "start_time": "2023-03-21T07:42:23.084Z"
      },
      {
        "duration": 19,
        "start_time": "2023-03-21T07:43:41.436Z"
      },
      {
        "duration": 21,
        "start_time": "2023-03-21T07:50:06.094Z"
      },
      {
        "duration": 29,
        "start_time": "2023-03-21T07:50:15.751Z"
      },
      {
        "duration": 22,
        "start_time": "2023-03-21T07:50:48.093Z"
      },
      {
        "duration": 18,
        "start_time": "2023-03-21T07:50:57.268Z"
      },
      {
        "duration": 21,
        "start_time": "2023-03-21T07:51:02.714Z"
      },
      {
        "duration": 21,
        "start_time": "2023-03-21T07:51:06.495Z"
      },
      {
        "duration": 206,
        "start_time": "2023-03-21T07:51:49.064Z"
      },
      {
        "duration": 16,
        "start_time": "2023-03-21T07:52:36.694Z"
      },
      {
        "duration": 23,
        "start_time": "2023-03-21T08:09:34.007Z"
      },
      {
        "duration": 37,
        "start_time": "2023-03-21T08:10:51.924Z"
      },
      {
        "duration": 22,
        "start_time": "2023-03-21T08:11:03.635Z"
      },
      {
        "duration": 12,
        "start_time": "2023-03-21T08:11:10.903Z"
      },
      {
        "duration": 18,
        "start_time": "2023-03-21T08:11:16.900Z"
      },
      {
        "duration": 16,
        "start_time": "2023-03-21T08:11:34.292Z"
      },
      {
        "duration": 21,
        "start_time": "2023-03-21T08:11:53.811Z"
      },
      {
        "duration": 18,
        "start_time": "2023-03-21T08:12:37.913Z"
      },
      {
        "duration": 2057,
        "start_time": "2023-03-21T08:13:04.756Z"
      },
      {
        "duration": 303,
        "start_time": "2023-03-21T08:14:05.699Z"
      },
      {
        "duration": 329,
        "start_time": "2023-03-21T08:14:11.048Z"
      },
      {
        "duration": 291,
        "start_time": "2023-03-21T08:14:40.878Z"
      },
      {
        "duration": 19,
        "start_time": "2023-03-21T08:15:03.540Z"
      },
      {
        "duration": 300,
        "start_time": "2023-03-21T08:15:04.451Z"
      },
      {
        "duration": 7688,
        "start_time": "2023-03-21T08:15:25.207Z"
      },
      {
        "duration": 16,
        "start_time": "2023-03-21T08:15:54.121Z"
      },
      {
        "duration": 235,
        "start_time": "2023-03-21T08:16:58.842Z"
      },
      {
        "duration": 334,
        "start_time": "2023-03-21T08:17:48.959Z"
      },
      {
        "duration": 233,
        "start_time": "2023-03-21T08:18:12.809Z"
      },
      {
        "duration": 250,
        "start_time": "2023-03-21T08:18:29.133Z"
      },
      {
        "duration": 247,
        "start_time": "2023-03-21T08:18:49.597Z"
      },
      {
        "duration": 312,
        "start_time": "2023-03-21T08:19:03.018Z"
      },
      {
        "duration": 17,
        "start_time": "2023-03-21T08:20:15.468Z"
      },
      {
        "duration": 229,
        "start_time": "2023-03-21T08:31:03.203Z"
      },
      {
        "duration": 20,
        "start_time": "2023-03-21T08:35:31.883Z"
      },
      {
        "duration": 33,
        "start_time": "2023-03-21T08:37:19.026Z"
      },
      {
        "duration": 286,
        "start_time": "2023-03-21T08:39:03.526Z"
      },
      {
        "duration": 6,
        "start_time": "2023-03-21T08:39:03.943Z"
      },
      {
        "duration": 292,
        "start_time": "2023-03-21T08:39:04.415Z"
      },
      {
        "duration": 7,
        "start_time": "2023-03-21T08:39:04.755Z"
      },
      {
        "duration": 518,
        "start_time": "2023-03-21T08:43:30.790Z"
      },
      {
        "duration": 566,
        "start_time": "2023-03-21T08:44:13.333Z"
      },
      {
        "duration": 296,
        "start_time": "2023-03-21T08:45:07.598Z"
      },
      {
        "duration": 310,
        "start_time": "2023-03-21T08:45:17.207Z"
      },
      {
        "duration": 513,
        "start_time": "2023-03-21T08:45:29.208Z"
      },
      {
        "duration": 351,
        "start_time": "2023-03-21T08:47:59.318Z"
      },
      {
        "duration": 49,
        "start_time": "2023-03-21T08:48:09.976Z"
      },
      {
        "duration": 417,
        "start_time": "2023-03-21T08:48:16.685Z"
      },
      {
        "duration": 386,
        "start_time": "2023-03-21T08:49:02.317Z"
      },
      {
        "duration": 597,
        "start_time": "2023-03-21T08:49:13.534Z"
      },
      {
        "duration": 456,
        "start_time": "2023-03-21T08:49:38.322Z"
      },
      {
        "duration": 398,
        "start_time": "2023-03-21T08:49:52.278Z"
      },
      {
        "duration": 466,
        "start_time": "2023-03-21T08:50:04.569Z"
      },
      {
        "duration": 467,
        "start_time": "2023-03-21T08:50:19.943Z"
      },
      {
        "duration": 491,
        "start_time": "2023-03-21T08:50:31.823Z"
      },
      {
        "duration": 720,
        "start_time": "2023-03-21T08:50:51.120Z"
      },
      {
        "duration": 473,
        "start_time": "2023-03-21T08:51:34.379Z"
      },
      {
        "duration": 487,
        "start_time": "2023-03-21T08:51:52.812Z"
      },
      {
        "duration": 511,
        "start_time": "2023-03-21T08:51:57.885Z"
      },
      {
        "duration": 537,
        "start_time": "2023-03-21T08:52:14.615Z"
      },
      {
        "duration": 77,
        "start_time": "2023-03-21T09:07:03.238Z"
      },
      {
        "duration": 9,
        "start_time": "2023-03-21T09:20:12.850Z"
      },
      {
        "duration": 20,
        "start_time": "2023-03-21T09:21:11.148Z"
      },
      {
        "duration": 20,
        "start_time": "2023-03-21T09:22:27.514Z"
      },
      {
        "duration": 19,
        "start_time": "2023-03-21T09:25:12.112Z"
      },
      {
        "duration": 20,
        "start_time": "2023-03-21T09:26:07.156Z"
      },
      {
        "duration": 99,
        "start_time": "2023-03-21T09:29:26.482Z"
      },
      {
        "duration": 6,
        "start_time": "2023-03-21T09:29:32.934Z"
      },
      {
        "duration": 18,
        "start_time": "2023-03-21T09:29:46.683Z"
      },
      {
        "duration": 347,
        "start_time": "2023-03-21T09:29:58.219Z"
      },
      {
        "duration": 272,
        "start_time": "2023-03-21T09:30:22.376Z"
      },
      {
        "duration": 250,
        "start_time": "2023-03-21T09:30:56.130Z"
      },
      {
        "duration": 240,
        "start_time": "2023-03-21T09:31:44.950Z"
      },
      {
        "duration": 284,
        "start_time": "2023-03-21T09:32:05.536Z"
      },
      {
        "duration": 256,
        "start_time": "2023-03-21T09:32:14.929Z"
      },
      {
        "duration": 288,
        "start_time": "2023-03-21T09:32:25.622Z"
      },
      {
        "duration": 250,
        "start_time": "2023-03-21T09:33:13.856Z"
      },
      {
        "duration": 299,
        "start_time": "2023-03-21T09:41:23.211Z"
      },
      {
        "duration": 196,
        "start_time": "2023-03-21T09:42:26.837Z"
      },
      {
        "duration": 24,
        "start_time": "2023-03-21T09:42:27.682Z"
      },
      {
        "duration": 33,
        "start_time": "2023-03-21T09:42:28.221Z"
      },
      {
        "duration": 23,
        "start_time": "2023-03-21T09:42:42.859Z"
      },
      {
        "duration": 842,
        "start_time": "2023-03-21T09:43:04.715Z"
      },
      {
        "duration": 546,
        "start_time": "2023-03-21T09:44:31.869Z"
      },
      {
        "duration": 628,
        "start_time": "2023-03-21T09:45:10.626Z"
      },
      {
        "duration": 613,
        "start_time": "2023-03-21T09:45:22.482Z"
      },
      {
        "duration": 696,
        "start_time": "2023-03-21T09:54:58.147Z"
      },
      {
        "duration": 398,
        "start_time": "2023-03-21T09:56:18.165Z"
      },
      {
        "duration": 758,
        "start_time": "2023-03-21T09:56:27.614Z"
      },
      {
        "duration": 619,
        "start_time": "2023-03-21T09:57:01.016Z"
      },
      {
        "duration": 565,
        "start_time": "2023-03-21T10:06:25.223Z"
      },
      {
        "duration": 537,
        "start_time": "2023-03-21T10:06:40.560Z"
      },
      {
        "duration": 8,
        "start_time": "2023-03-21T10:31:33.487Z"
      },
      {
        "duration": 17,
        "start_time": "2023-03-21T10:33:15.387Z"
      },
      {
        "duration": 4,
        "start_time": "2023-03-21T10:36:11.336Z"
      },
      {
        "duration": 15,
        "start_time": "2023-03-21T10:36:15.388Z"
      },
      {
        "duration": 13,
        "start_time": "2023-03-21T10:37:29.093Z"
      },
      {
        "duration": 12,
        "start_time": "2023-03-21T10:39:22.434Z"
      },
      {
        "duration": 72,
        "start_time": "2023-03-21T10:42:34.686Z"
      },
      {
        "duration": 116,
        "start_time": "2023-03-21T11:25:32.287Z"
      },
      {
        "duration": 17,
        "start_time": "2023-03-21T11:43:51.338Z"
      },
      {
        "duration": 3,
        "start_time": "2023-03-21T11:44:29.557Z"
      },
      {
        "duration": 140,
        "start_time": "2023-03-21T11:44:29.563Z"
      },
      {
        "duration": 17,
        "start_time": "2023-03-21T11:44:29.706Z"
      },
      {
        "duration": 42,
        "start_time": "2023-03-21T11:44:29.725Z"
      },
      {
        "duration": 16,
        "start_time": "2023-03-21T11:44:29.768Z"
      },
      {
        "duration": 39,
        "start_time": "2023-03-21T11:44:29.797Z"
      },
      {
        "duration": 9,
        "start_time": "2023-03-21T11:44:29.838Z"
      },
      {
        "duration": 25,
        "start_time": "2023-03-21T11:44:29.849Z"
      },
      {
        "duration": 17,
        "start_time": "2023-03-21T11:44:29.876Z"
      },
      {
        "duration": 17,
        "start_time": "2023-03-21T11:44:29.896Z"
      },
      {
        "duration": 19,
        "start_time": "2023-03-21T11:44:29.915Z"
      },
      {
        "duration": 31,
        "start_time": "2023-03-21T11:44:29.936Z"
      },
      {
        "duration": 13,
        "start_time": "2023-03-21T11:44:29.969Z"
      },
      {
        "duration": 28,
        "start_time": "2023-03-21T11:44:29.984Z"
      },
      {
        "duration": 47,
        "start_time": "2023-03-21T11:44:30.014Z"
      },
      {
        "duration": 439,
        "start_time": "2023-03-21T11:44:30.064Z"
      },
      {
        "duration": 6,
        "start_time": "2023-03-21T11:44:30.506Z"
      },
      {
        "duration": 41,
        "start_time": "2023-03-21T11:44:30.514Z"
      },
      {
        "duration": 375,
        "start_time": "2023-03-21T11:44:30.557Z"
      },
      {
        "duration": 1336,
        "start_time": "2023-03-21T11:44:30.940Z"
      },
      {
        "duration": 397,
        "start_time": "2023-03-21T11:44:32.280Z"
      },
      {
        "duration": 10,
        "start_time": "2023-03-21T11:44:32.679Z"
      },
      {
        "duration": 598,
        "start_time": "2023-03-21T11:44:32.691Z"
      },
      {
        "duration": 10,
        "start_time": "2023-03-21T11:44:33.291Z"
      },
      {
        "duration": 198,
        "start_time": "2023-03-21T11:44:33.303Z"
      },
      {
        "duration": 202,
        "start_time": "2023-03-21T11:44:33.504Z"
      },
      {
        "duration": 6,
        "start_time": "2023-03-21T11:44:33.709Z"
      },
      {
        "duration": 381,
        "start_time": "2023-03-21T11:44:33.720Z"
      },
      {
        "duration": 5,
        "start_time": "2023-03-21T11:44:34.103Z"
      },
      {
        "duration": 214,
        "start_time": "2023-03-21T11:44:34.109Z"
      },
      {
        "duration": 16,
        "start_time": "2023-03-21T11:44:34.325Z"
      },
      {
        "duration": 10,
        "start_time": "2023-03-21T11:44:34.343Z"
      },
      {
        "duration": 25,
        "start_time": "2023-03-21T11:44:34.355Z"
      },
      {
        "duration": 20,
        "start_time": "2023-03-21T11:44:34.382Z"
      },
      {
        "duration": 253,
        "start_time": "2023-03-21T11:44:34.404Z"
      },
      {
        "duration": 318,
        "start_time": "2023-03-21T11:44:34.659Z"
      },
      {
        "duration": 408,
        "start_time": "2023-03-21T11:44:34.979Z"
      },
      {
        "duration": 573,
        "start_time": "2023-03-21T11:44:35.389Z"
      },
      {
        "duration": 732,
        "start_time": "2023-03-21T11:44:35.964Z"
      },
      {
        "duration": 665,
        "start_time": "2023-03-21T11:44:36.699Z"
      },
      {
        "duration": 15,
        "start_time": "2023-03-21T11:44:37.366Z"
      },
      {
        "duration": 12,
        "start_time": "2023-03-21T11:44:50.080Z"
      },
      {
        "duration": 9,
        "start_time": "2023-03-21T12:39:12.027Z"
      },
      {
        "duration": 10,
        "start_time": "2023-03-21T12:41:30.486Z"
      },
      {
        "duration": 16,
        "start_time": "2023-03-21T12:41:57.188Z"
      },
      {
        "duration": 11,
        "start_time": "2023-03-21T12:42:05.615Z"
      },
      {
        "duration": 11,
        "start_time": "2023-03-21T12:42:09.395Z"
      },
      {
        "duration": 10,
        "start_time": "2023-03-21T12:42:58.794Z"
      },
      {
        "duration": 11,
        "start_time": "2023-03-21T12:43:02.709Z"
      },
      {
        "duration": 4,
        "start_time": "2023-03-21T12:43:06.012Z"
      },
      {
        "duration": 163,
        "start_time": "2023-03-21T12:43:06.018Z"
      },
      {
        "duration": 43,
        "start_time": "2023-03-21T12:43:06.184Z"
      },
      {
        "duration": 75,
        "start_time": "2023-03-21T12:43:06.230Z"
      },
      {
        "duration": 23,
        "start_time": "2023-03-21T12:43:06.308Z"
      },
      {
        "duration": 56,
        "start_time": "2023-03-21T12:43:06.341Z"
      },
      {
        "duration": 119,
        "start_time": "2023-03-21T12:43:06.400Z"
      },
      {
        "duration": 135,
        "start_time": "2023-03-21T12:43:06.522Z"
      },
      {
        "duration": 139,
        "start_time": "2023-03-21T12:43:06.666Z"
      },
      {
        "duration": 26,
        "start_time": "2023-03-21T12:43:06.807Z"
      },
      {
        "duration": 75,
        "start_time": "2023-03-21T12:43:06.835Z"
      },
      {
        "duration": 41,
        "start_time": "2023-03-21T12:43:06.914Z"
      },
      {
        "duration": 9,
        "start_time": "2023-03-21T12:43:06.960Z"
      },
      {
        "duration": 47,
        "start_time": "2023-03-21T12:43:06.973Z"
      },
      {
        "duration": 31,
        "start_time": "2023-03-21T12:43:07.025Z"
      },
      {
        "duration": 472,
        "start_time": "2023-03-21T12:43:07.058Z"
      },
      {
        "duration": 24,
        "start_time": "2023-03-21T12:43:07.533Z"
      },
      {
        "duration": 39,
        "start_time": "2023-03-21T12:43:07.566Z"
      },
      {
        "duration": 397,
        "start_time": "2023-03-21T12:43:07.607Z"
      },
      {
        "duration": 1250,
        "start_time": "2023-03-21T12:43:08.007Z"
      },
      {
        "duration": 585,
        "start_time": "2023-03-21T12:43:09.259Z"
      },
      {
        "duration": 10,
        "start_time": "2023-03-21T12:43:09.846Z"
      },
      {
        "duration": 563,
        "start_time": "2023-03-21T12:43:09.858Z"
      },
      {
        "duration": 34,
        "start_time": "2023-03-21T12:43:10.423Z"
      },
      {
        "duration": 220,
        "start_time": "2023-03-21T12:43:10.473Z"
      },
      {
        "duration": 277,
        "start_time": "2023-03-21T12:43:10.696Z"
      },
      {
        "duration": 8,
        "start_time": "2023-03-21T12:43:10.977Z"
      },
      {
        "duration": 424,
        "start_time": "2023-03-21T12:43:10.988Z"
      },
      {
        "duration": 5,
        "start_time": "2023-03-21T12:43:11.414Z"
      },
      {
        "duration": 257,
        "start_time": "2023-03-21T12:43:11.422Z"
      },
      {
        "duration": 5,
        "start_time": "2023-03-21T12:43:11.682Z"
      },
      {
        "duration": 31,
        "start_time": "2023-03-21T12:43:11.690Z"
      },
      {
        "duration": 20,
        "start_time": "2023-03-21T12:43:11.723Z"
      },
      {
        "duration": 48,
        "start_time": "2023-03-21T12:43:11.745Z"
      },
      {
        "duration": 278,
        "start_time": "2023-03-21T12:43:11.796Z"
      },
      {
        "duration": 397,
        "start_time": "2023-03-21T12:43:12.077Z"
      },
      {
        "duration": 580,
        "start_time": "2023-03-21T12:43:12.477Z"
      },
      {
        "duration": 633,
        "start_time": "2023-03-21T12:43:13.059Z"
      },
      {
        "duration": 629,
        "start_time": "2023-03-21T12:43:13.694Z"
      },
      {
        "duration": 599,
        "start_time": "2023-03-21T12:43:14.325Z"
      },
      {
        "duration": 32,
        "start_time": "2023-03-21T12:43:14.930Z"
      },
      {
        "duration": 4,
        "start_time": "2023-03-21T12:44:14.208Z"
      },
      {
        "duration": 147,
        "start_time": "2023-03-21T12:44:14.216Z"
      },
      {
        "duration": 29,
        "start_time": "2023-03-21T12:44:14.372Z"
      },
      {
        "duration": 72,
        "start_time": "2023-03-21T12:44:14.405Z"
      },
      {
        "duration": 27,
        "start_time": "2023-03-21T12:44:14.479Z"
      },
      {
        "duration": 27,
        "start_time": "2023-03-21T12:44:14.509Z"
      },
      {
        "duration": 43,
        "start_time": "2023-03-21T12:44:14.538Z"
      },
      {
        "duration": 14,
        "start_time": "2023-03-21T12:44:14.583Z"
      },
      {
        "duration": 10,
        "start_time": "2023-03-21T12:44:14.599Z"
      },
      {
        "duration": 8,
        "start_time": "2023-03-21T12:44:14.613Z"
      },
      {
        "duration": 16,
        "start_time": "2023-03-21T12:44:14.623Z"
      },
      {
        "duration": 72,
        "start_time": "2023-03-21T12:44:14.645Z"
      },
      {
        "duration": 7,
        "start_time": "2023-03-21T12:44:14.719Z"
      },
      {
        "duration": 41,
        "start_time": "2023-03-21T12:44:14.728Z"
      },
      {
        "duration": 28,
        "start_time": "2023-03-21T12:44:14.777Z"
      },
      {
        "duration": 453,
        "start_time": "2023-03-21T12:44:14.807Z"
      },
      {
        "duration": 13,
        "start_time": "2023-03-21T12:44:15.262Z"
      },
      {
        "duration": 21,
        "start_time": "2023-03-21T12:44:15.281Z"
      },
      {
        "duration": 400,
        "start_time": "2023-03-21T12:44:15.304Z"
      },
      {
        "duration": 1555,
        "start_time": "2023-03-21T12:44:15.707Z"
      },
      {
        "duration": 398,
        "start_time": "2023-03-21T12:44:17.271Z"
      },
      {
        "duration": 10,
        "start_time": "2023-03-21T12:44:17.673Z"
      },
      {
        "duration": 529,
        "start_time": "2023-03-21T12:44:17.685Z"
      },
      {
        "duration": 7,
        "start_time": "2023-03-21T12:44:18.216Z"
      },
      {
        "duration": 218,
        "start_time": "2023-03-21T12:44:18.228Z"
      },
      {
        "duration": 198,
        "start_time": "2023-03-21T12:44:18.453Z"
      },
      {
        "duration": 8,
        "start_time": "2023-03-21T12:44:18.659Z"
      },
      {
        "duration": 403,
        "start_time": "2023-03-21T12:44:18.677Z"
      },
      {
        "duration": 6,
        "start_time": "2023-03-21T12:44:19.087Z"
      },
      {
        "duration": 278,
        "start_time": "2023-03-21T12:44:19.097Z"
      },
      {
        "duration": 8,
        "start_time": "2023-03-21T12:44:19.379Z"
      },
      {
        "duration": 19,
        "start_time": "2023-03-21T12:44:19.389Z"
      },
      {
        "duration": 19,
        "start_time": "2023-03-21T12:44:19.411Z"
      },
      {
        "duration": 64,
        "start_time": "2023-03-21T12:44:19.442Z"
      },
      {
        "duration": 269,
        "start_time": "2023-03-21T12:44:19.508Z"
      },
      {
        "duration": 386,
        "start_time": "2023-03-21T12:44:19.779Z"
      },
      {
        "duration": 414,
        "start_time": "2023-03-21T12:44:20.167Z"
      },
      {
        "duration": 600,
        "start_time": "2023-03-21T12:44:20.583Z"
      },
      {
        "duration": 642,
        "start_time": "2023-03-21T12:44:21.185Z"
      },
      {
        "duration": 721,
        "start_time": "2023-03-21T12:44:21.830Z"
      },
      {
        "duration": 19,
        "start_time": "2023-03-21T12:44:35.128Z"
      },
      {
        "duration": 16,
        "start_time": "2023-03-21T12:44:36.481Z"
      },
      {
        "duration": 18,
        "start_time": "2023-03-21T12:48:17.315Z"
      },
      {
        "duration": 12,
        "start_time": "2023-03-21T12:48:29.608Z"
      },
      {
        "duration": 12,
        "start_time": "2023-03-21T12:48:46.117Z"
      },
      {
        "duration": 12,
        "start_time": "2023-03-21T12:49:04.733Z"
      },
      {
        "duration": 16,
        "start_time": "2023-03-21T12:49:15.939Z"
      },
      {
        "duration": 3,
        "start_time": "2023-03-21T12:49:21.387Z"
      },
      {
        "duration": 103,
        "start_time": "2023-03-21T12:49:21.393Z"
      },
      {
        "duration": 14,
        "start_time": "2023-03-21T12:49:21.498Z"
      },
      {
        "duration": 57,
        "start_time": "2023-03-21T12:49:21.515Z"
      },
      {
        "duration": 16,
        "start_time": "2023-03-21T12:49:21.575Z"
      },
      {
        "duration": 11,
        "start_time": "2023-03-21T12:49:21.594Z"
      },
      {
        "duration": 50,
        "start_time": "2023-03-21T12:49:21.607Z"
      },
      {
        "duration": 32,
        "start_time": "2023-03-21T12:49:21.660Z"
      },
      {
        "duration": 16,
        "start_time": "2023-03-21T12:49:21.694Z"
      },
      {
        "duration": 19,
        "start_time": "2023-03-21T12:49:21.714Z"
      },
      {
        "duration": 33,
        "start_time": "2023-03-21T12:49:21.735Z"
      },
      {
        "duration": 17,
        "start_time": "2023-03-21T12:49:21.770Z"
      },
      {
        "duration": 6,
        "start_time": "2023-03-21T12:49:21.790Z"
      },
      {
        "duration": 42,
        "start_time": "2023-03-21T12:49:21.798Z"
      },
      {
        "duration": 40,
        "start_time": "2023-03-21T12:49:21.846Z"
      },
      {
        "duration": 407,
        "start_time": "2023-03-21T12:49:21.887Z"
      },
      {
        "duration": 7,
        "start_time": "2023-03-21T12:49:22.296Z"
      },
      {
        "duration": 52,
        "start_time": "2023-03-21T12:49:22.305Z"
      },
      {
        "duration": 403,
        "start_time": "2023-03-21T12:49:22.359Z"
      },
      {
        "duration": 1139,
        "start_time": "2023-03-21T12:49:22.765Z"
      },
      {
        "duration": 573,
        "start_time": "2023-03-21T12:49:23.906Z"
      },
      {
        "duration": 10,
        "start_time": "2023-03-21T12:49:24.481Z"
      },
      {
        "duration": 484,
        "start_time": "2023-03-21T12:49:24.493Z"
      },
      {
        "duration": 8,
        "start_time": "2023-03-21T12:49:24.979Z"
      },
      {
        "duration": 211,
        "start_time": "2023-03-21T12:49:24.988Z"
      },
      {
        "duration": 201,
        "start_time": "2023-03-21T12:49:25.200Z"
      },
      {
        "duration": 7,
        "start_time": "2023-03-21T12:49:25.403Z"
      },
      {
        "duration": 214,
        "start_time": "2023-03-21T12:49:25.415Z"
      },
      {
        "duration": 12,
        "start_time": "2023-03-21T12:49:25.631Z"
      },
      {
        "duration": 221,
        "start_time": "2023-03-21T12:49:25.648Z"
      },
      {
        "duration": 6,
        "start_time": "2023-03-21T12:49:25.871Z"
      },
      {
        "duration": 23,
        "start_time": "2023-03-21T12:49:25.880Z"
      },
      {
        "duration": 24,
        "start_time": "2023-03-21T12:49:25.905Z"
      },
      {
        "duration": 26,
        "start_time": "2023-03-21T12:49:25.945Z"
      },
      {
        "duration": 292,
        "start_time": "2023-03-21T12:49:25.974Z"
      },
      {
        "duration": 424,
        "start_time": "2023-03-21T12:49:26.268Z"
      },
      {
        "duration": 501,
        "start_time": "2023-03-21T12:49:26.694Z"
      },
      {
        "duration": 578,
        "start_time": "2023-03-21T12:49:27.197Z"
      },
      {
        "duration": 616,
        "start_time": "2023-03-21T12:49:27.777Z"
      },
      {
        "duration": 580,
        "start_time": "2023-03-21T12:49:28.396Z"
      },
      {
        "duration": 10,
        "start_time": "2023-03-21T12:49:28.978Z"
      },
      {
        "duration": 11,
        "start_time": "2023-03-21T12:49:58.909Z"
      },
      {
        "duration": 8,
        "start_time": "2023-03-21T12:53:22.006Z"
      },
      {
        "duration": 6,
        "start_time": "2023-03-21T12:53:32.031Z"
      },
      {
        "duration": 8,
        "start_time": "2023-03-21T12:53:45.973Z"
      },
      {
        "duration": 13,
        "start_time": "2023-03-21T12:54:04.548Z"
      },
      {
        "duration": 7,
        "start_time": "2023-03-21T12:55:48.778Z"
      },
      {
        "duration": 10,
        "start_time": "2023-03-21T12:56:32.659Z"
      },
      {
        "duration": 13,
        "start_time": "2023-03-21T12:57:18.508Z"
      },
      {
        "duration": 3,
        "start_time": "2023-03-21T12:57:23.886Z"
      },
      {
        "duration": 94,
        "start_time": "2023-03-21T12:57:23.896Z"
      },
      {
        "duration": 18,
        "start_time": "2023-03-21T12:57:23.992Z"
      },
      {
        "duration": 61,
        "start_time": "2023-03-21T12:57:24.012Z"
      },
      {
        "duration": 16,
        "start_time": "2023-03-21T12:57:24.076Z"
      },
      {
        "duration": 20,
        "start_time": "2023-03-21T12:57:24.095Z"
      },
      {
        "duration": 30,
        "start_time": "2023-03-21T12:57:24.117Z"
      },
      {
        "duration": 38,
        "start_time": "2023-03-21T12:57:24.149Z"
      },
      {
        "duration": 10,
        "start_time": "2023-03-21T12:57:24.190Z"
      },
      {
        "duration": 14,
        "start_time": "2023-03-21T12:57:24.203Z"
      },
      {
        "duration": 47,
        "start_time": "2023-03-21T12:57:24.219Z"
      },
      {
        "duration": 33,
        "start_time": "2023-03-21T12:57:24.268Z"
      },
      {
        "duration": 16,
        "start_time": "2023-03-21T12:57:24.303Z"
      },
      {
        "duration": 41,
        "start_time": "2023-03-21T12:57:24.321Z"
      },
      {
        "duration": 51,
        "start_time": "2023-03-21T12:57:24.366Z"
      },
      {
        "duration": 442,
        "start_time": "2023-03-21T12:57:24.420Z"
      },
      {
        "duration": 6,
        "start_time": "2023-03-21T12:57:24.865Z"
      },
      {
        "duration": 28,
        "start_time": "2023-03-21T12:57:24.873Z"
      },
      {
        "duration": 397,
        "start_time": "2023-03-21T12:57:24.903Z"
      },
      {
        "duration": 1503,
        "start_time": "2023-03-21T12:57:25.302Z"
      },
      {
        "duration": 449,
        "start_time": "2023-03-21T12:57:26.807Z"
      },
      {
        "duration": 14,
        "start_time": "2023-03-21T12:57:27.274Z"
      },
      {
        "duration": 604,
        "start_time": "2023-03-21T12:57:27.291Z"
      },
      {
        "duration": 10,
        "start_time": "2023-03-21T12:57:27.897Z"
      },
      {
        "duration": 220,
        "start_time": "2023-03-21T12:57:27.909Z"
      },
      {
        "duration": 201,
        "start_time": "2023-03-21T12:57:28.132Z"
      },
      {
        "duration": 16,
        "start_time": "2023-03-21T12:57:28.344Z"
      },
      {
        "duration": 425,
        "start_time": "2023-03-21T12:57:28.362Z"
      },
      {
        "duration": 7,
        "start_time": "2023-03-21T12:57:28.790Z"
      },
      {
        "duration": 284,
        "start_time": "2023-03-21T12:57:28.799Z"
      },
      {
        "duration": 7,
        "start_time": "2023-03-21T12:57:29.085Z"
      },
      {
        "duration": 37,
        "start_time": "2023-03-21T12:57:29.093Z"
      },
      {
        "duration": 73,
        "start_time": "2023-03-21T12:57:29.132Z"
      },
      {
        "duration": 50,
        "start_time": "2023-03-21T12:57:29.208Z"
      },
      {
        "duration": 257,
        "start_time": "2023-03-21T12:57:29.260Z"
      },
      {
        "duration": 363,
        "start_time": "2023-03-21T12:57:29.519Z"
      },
      {
        "duration": 412,
        "start_time": "2023-03-21T12:57:29.884Z"
      },
      {
        "duration": 690,
        "start_time": "2023-03-21T12:57:30.298Z"
      },
      {
        "duration": 598,
        "start_time": "2023-03-21T12:57:30.991Z"
      },
      {
        "duration": 691,
        "start_time": "2023-03-21T12:57:31.592Z"
      },
      {
        "duration": 11,
        "start_time": "2023-03-21T12:57:32.286Z"
      },
      {
        "duration": 19,
        "start_time": "2023-03-21T12:57:32.304Z"
      },
      {
        "duration": 15,
        "start_time": "2023-03-21T12:57:39.036Z"
      },
      {
        "duration": 10,
        "start_time": "2023-03-21T12:58:01.593Z"
      },
      {
        "duration": 11,
        "start_time": "2023-03-21T12:58:04.113Z"
      },
      {
        "duration": 10,
        "start_time": "2023-03-21T12:58:07.174Z"
      },
      {
        "duration": 11,
        "start_time": "2023-03-21T12:58:11.166Z"
      },
      {
        "duration": 13,
        "start_time": "2023-03-21T12:58:12.710Z"
      },
      {
        "duration": 7,
        "start_time": "2023-03-21T13:03:35.941Z"
      },
      {
        "duration": 15,
        "start_time": "2023-03-21T13:03:53.207Z"
      },
      {
        "duration": 13,
        "start_time": "2023-03-21T13:05:19.093Z"
      },
      {
        "duration": 4,
        "start_time": "2023-03-21T13:09:54.877Z"
      },
      {
        "duration": 104,
        "start_time": "2023-03-21T13:09:54.884Z"
      },
      {
        "duration": 17,
        "start_time": "2023-03-21T13:09:54.990Z"
      },
      {
        "duration": 59,
        "start_time": "2023-03-21T13:09:55.009Z"
      },
      {
        "duration": 17,
        "start_time": "2023-03-21T13:09:55.071Z"
      },
      {
        "duration": 11,
        "start_time": "2023-03-21T13:09:55.090Z"
      },
      {
        "duration": 47,
        "start_time": "2023-03-21T13:09:55.102Z"
      },
      {
        "duration": 35,
        "start_time": "2023-03-21T13:09:55.151Z"
      },
      {
        "duration": 22,
        "start_time": "2023-03-21T13:09:55.187Z"
      },
      {
        "duration": 19,
        "start_time": "2023-03-21T13:09:55.211Z"
      },
      {
        "duration": 43,
        "start_time": "2023-03-21T13:09:55.232Z"
      },
      {
        "duration": 44,
        "start_time": "2023-03-21T13:09:55.277Z"
      },
      {
        "duration": 6,
        "start_time": "2023-03-21T13:09:55.323Z"
      },
      {
        "duration": 47,
        "start_time": "2023-03-21T13:09:55.332Z"
      },
      {
        "duration": 26,
        "start_time": "2023-03-21T13:09:55.381Z"
      },
      {
        "duration": 402,
        "start_time": "2023-03-21T13:09:55.409Z"
      },
      {
        "duration": 6,
        "start_time": "2023-03-21T13:09:55.812Z"
      },
      {
        "duration": 38,
        "start_time": "2023-03-21T13:09:55.820Z"
      },
      {
        "duration": 415,
        "start_time": "2023-03-21T13:09:55.860Z"
      },
      {
        "duration": 1281,
        "start_time": "2023-03-21T13:09:56.280Z"
      },
      {
        "duration": 632,
        "start_time": "2023-03-21T13:09:57.563Z"
      },
      {
        "duration": 10,
        "start_time": "2023-03-21T13:09:58.198Z"
      },
      {
        "duration": 542,
        "start_time": "2023-03-21T13:09:58.210Z"
      },
      {
        "duration": 12,
        "start_time": "2023-03-21T13:09:58.754Z"
      },
      {
        "duration": 207,
        "start_time": "2023-03-21T13:09:58.769Z"
      },
      {
        "duration": 211,
        "start_time": "2023-03-21T13:09:58.979Z"
      },
      {
        "duration": 8,
        "start_time": "2023-03-21T13:09:59.192Z"
      },
      {
        "duration": 228,
        "start_time": "2023-03-21T13:09:59.205Z"
      },
      {
        "duration": 10,
        "start_time": "2023-03-21T13:09:59.435Z"
      },
      {
        "duration": 228,
        "start_time": "2023-03-21T13:09:59.455Z"
      },
      {
        "duration": 6,
        "start_time": "2023-03-21T13:09:59.686Z"
      },
      {
        "duration": 80,
        "start_time": "2023-03-21T13:09:59.694Z"
      },
      {
        "duration": 29,
        "start_time": "2023-03-21T13:09:59.776Z"
      },
      {
        "duration": 26,
        "start_time": "2023-03-21T13:09:59.808Z"
      },
      {
        "duration": 261,
        "start_time": "2023-03-21T13:09:59.836Z"
      },
      {
        "duration": 361,
        "start_time": "2023-03-21T13:10:00.099Z"
      },
      {
        "duration": 542,
        "start_time": "2023-03-21T13:10:00.463Z"
      },
      {
        "duration": 594,
        "start_time": "2023-03-21T13:10:01.007Z"
      },
      {
        "duration": 658,
        "start_time": "2023-03-21T13:10:01.604Z"
      },
      {
        "duration": 572,
        "start_time": "2023-03-21T13:10:02.264Z"
      },
      {
        "duration": 15,
        "start_time": "2023-03-21T13:10:02.845Z"
      },
      {
        "duration": 45,
        "start_time": "2023-03-21T13:10:02.862Z"
      },
      {
        "duration": 40,
        "start_time": "2023-03-21T13:10:02.909Z"
      },
      {
        "duration": 198,
        "start_time": "2023-03-21T13:11:03.514Z"
      },
      {
        "duration": 191,
        "start_time": "2023-03-21T13:11:14.035Z"
      },
      {
        "duration": 1514,
        "start_time": "2023-03-21T13:12:34.375Z"
      },
      {
        "duration": 435,
        "start_time": "2023-03-21T13:13:01.186Z"
      },
      {
        "duration": 489,
        "start_time": "2023-03-21T13:13:09.517Z"
      },
      {
        "duration": 201,
        "start_time": "2023-03-21T13:13:15.529Z"
      },
      {
        "duration": 235,
        "start_time": "2023-03-21T13:13:26.127Z"
      },
      {
        "duration": 205,
        "start_time": "2023-03-21T13:13:30.576Z"
      },
      {
        "duration": 378,
        "start_time": "2023-03-21T13:13:38.086Z"
      },
      {
        "duration": 220,
        "start_time": "2023-03-21T13:13:43.546Z"
      },
      {
        "duration": 209,
        "start_time": "2023-03-21T13:14:14.875Z"
      },
      {
        "duration": 214,
        "start_time": "2023-03-21T13:14:23.476Z"
      },
      {
        "duration": 1353,
        "start_time": "2023-03-21T13:16:04.336Z"
      },
      {
        "duration": 438,
        "start_time": "2023-03-21T13:16:18.178Z"
      },
      {
        "duration": 654,
        "start_time": "2023-03-21T13:16:25.486Z"
      },
      {
        "duration": 232,
        "start_time": "2023-03-21T13:16:49.528Z"
      },
      {
        "duration": 188,
        "start_time": "2023-03-21T13:16:57.020Z"
      },
      {
        "duration": 262,
        "start_time": "2023-03-21T13:17:18.970Z"
      },
      {
        "duration": 376,
        "start_time": "2023-03-21T13:17:53.235Z"
      },
      {
        "duration": 367,
        "start_time": "2023-03-21T13:17:58.267Z"
      },
      {
        "duration": 559,
        "start_time": "2023-03-21T13:18:38.483Z"
      },
      {
        "duration": 833,
        "start_time": "2023-03-21T13:18:46.236Z"
      },
      {
        "duration": 595,
        "start_time": "2023-03-21T13:19:11.873Z"
      },
      {
        "duration": 540,
        "start_time": "2023-03-21T13:19:31.274Z"
      },
      {
        "duration": 5,
        "start_time": "2023-03-21T13:19:55.328Z"
      },
      {
        "duration": 108,
        "start_time": "2023-03-21T13:19:55.335Z"
      },
      {
        "duration": 25,
        "start_time": "2023-03-21T13:19:55.446Z"
      },
      {
        "duration": 41,
        "start_time": "2023-03-21T13:19:55.472Z"
      },
      {
        "duration": 42,
        "start_time": "2023-03-21T13:19:55.516Z"
      },
      {
        "duration": 21,
        "start_time": "2023-03-21T13:19:55.561Z"
      },
      {
        "duration": 9,
        "start_time": "2023-03-21T13:19:55.584Z"
      },
      {
        "duration": 35,
        "start_time": "2023-03-21T13:19:55.595Z"
      },
      {
        "duration": 40,
        "start_time": "2023-03-21T13:19:55.633Z"
      },
      {
        "duration": 25,
        "start_time": "2023-03-21T13:19:55.675Z"
      },
      {
        "duration": 18,
        "start_time": "2023-03-21T13:19:55.702Z"
      },
      {
        "duration": 30,
        "start_time": "2023-03-21T13:19:55.723Z"
      },
      {
        "duration": 17,
        "start_time": "2023-03-21T13:19:55.755Z"
      },
      {
        "duration": 20,
        "start_time": "2023-03-21T13:19:55.777Z"
      },
      {
        "duration": 41,
        "start_time": "2023-03-21T13:19:55.799Z"
      },
      {
        "duration": 529,
        "start_time": "2023-03-21T13:19:55.843Z"
      },
      {
        "duration": 6,
        "start_time": "2023-03-21T13:19:56.375Z"
      },
      {
        "duration": 49,
        "start_time": "2023-03-21T13:19:56.383Z"
      },
      {
        "duration": 405,
        "start_time": "2023-03-21T13:19:56.435Z"
      },
      {
        "duration": 1376,
        "start_time": "2023-03-21T13:19:56.847Z"
      },
      {
        "duration": 438,
        "start_time": "2023-03-21T13:19:58.226Z"
      },
      {
        "duration": 10,
        "start_time": "2023-03-21T13:19:58.666Z"
      },
      {
        "duration": 510,
        "start_time": "2023-03-21T13:19:58.680Z"
      },
      {
        "duration": 11,
        "start_time": "2023-03-21T13:19:59.191Z"
      },
      {
        "duration": 203,
        "start_time": "2023-03-21T13:19:59.204Z"
      },
      {
        "duration": 211,
        "start_time": "2023-03-21T13:19:59.408Z"
      },
      {
        "duration": 7,
        "start_time": "2023-03-21T13:19:59.622Z"
      },
      {
        "duration": 232,
        "start_time": "2023-03-21T13:19:59.642Z"
      },
      {
        "duration": 6,
        "start_time": "2023-03-21T13:19:59.877Z"
      },
      {
        "duration": 417,
        "start_time": "2023-03-21T13:19:59.886Z"
      },
      {
        "duration": 5,
        "start_time": "2023-03-21T13:20:00.305Z"
      },
      {
        "duration": 54,
        "start_time": "2023-03-21T13:20:00.312Z"
      },
      {
        "duration": 36,
        "start_time": "2023-03-21T13:20:00.367Z"
      },
      {
        "duration": 55,
        "start_time": "2023-03-21T13:20:00.405Z"
      },
      {
        "duration": 307,
        "start_time": "2023-03-21T13:20:00.464Z"
      },
      {
        "duration": 386,
        "start_time": "2023-03-21T13:20:00.774Z"
      },
      {
        "duration": 360,
        "start_time": "2023-03-21T13:20:01.163Z"
      },
      {
        "duration": 580,
        "start_time": "2023-03-21T13:20:01.526Z"
      },
      {
        "duration": 653,
        "start_time": "2023-03-21T13:20:02.108Z"
      },
      {
        "duration": 720,
        "start_time": "2023-03-21T13:20:02.764Z"
      },
      {
        "duration": 12,
        "start_time": "2023-03-21T13:20:03.488Z"
      },
      {
        "duration": 90,
        "start_time": "2023-03-21T13:20:03.502Z"
      },
      {
        "duration": 1213,
        "start_time": "2023-03-21T13:45:19.989Z"
      },
      {
        "duration": 87,
        "start_time": "2023-03-21T13:45:21.204Z"
      },
      {
        "duration": 17,
        "start_time": "2023-03-21T13:45:21.293Z"
      },
      {
        "duration": 53,
        "start_time": "2023-03-21T13:45:21.312Z"
      },
      {
        "duration": 18,
        "start_time": "2023-03-21T13:45:21.367Z"
      },
      {
        "duration": 14,
        "start_time": "2023-03-21T13:45:21.388Z"
      },
      {
        "duration": 36,
        "start_time": "2023-03-21T13:45:21.405Z"
      },
      {
        "duration": 24,
        "start_time": "2023-03-21T13:45:21.443Z"
      },
      {
        "duration": 11,
        "start_time": "2023-03-21T13:45:21.470Z"
      },
      {
        "duration": 7,
        "start_time": "2023-03-21T13:45:21.484Z"
      },
      {
        "duration": 21,
        "start_time": "2023-03-21T13:45:21.493Z"
      },
      {
        "duration": 31,
        "start_time": "2023-03-21T13:45:21.517Z"
      },
      {
        "duration": 7,
        "start_time": "2023-03-21T13:45:21.551Z"
      },
      {
        "duration": 26,
        "start_time": "2023-03-21T13:45:21.564Z"
      },
      {
        "duration": 51,
        "start_time": "2023-03-21T13:45:21.593Z"
      },
      {
        "duration": 450,
        "start_time": "2023-03-21T13:45:21.646Z"
      },
      {
        "duration": 6,
        "start_time": "2023-03-21T13:45:22.098Z"
      },
      {
        "duration": 50,
        "start_time": "2023-03-21T13:45:22.106Z"
      },
      {
        "duration": 385,
        "start_time": "2023-03-21T13:45:22.158Z"
      },
      {
        "duration": 1274,
        "start_time": "2023-03-21T13:45:22.546Z"
      },
      {
        "duration": 436,
        "start_time": "2023-03-21T13:45:23.822Z"
      },
      {
        "duration": 12,
        "start_time": "2023-03-21T13:45:24.260Z"
      },
      {
        "duration": 507,
        "start_time": "2023-03-21T13:45:24.274Z"
      },
      {
        "duration": 11,
        "start_time": "2023-03-21T13:45:24.783Z"
      },
      {
        "duration": 177,
        "start_time": "2023-03-21T13:45:24.796Z"
      },
      {
        "duration": 219,
        "start_time": "2023-03-21T13:45:24.975Z"
      },
      {
        "duration": 8,
        "start_time": "2023-03-21T13:45:25.196Z"
      },
      {
        "duration": 227,
        "start_time": "2023-03-21T13:45:25.206Z"
      },
      {
        "duration": 146,
        "start_time": "2023-03-21T13:45:25.435Z"
      },
      {
        "duration": 0,
        "start_time": "2023-03-21T13:45:25.583Z"
      },
      {
        "duration": 0,
        "start_time": "2023-03-21T13:45:25.585Z"
      },
      {
        "duration": 0,
        "start_time": "2023-03-21T13:45:25.587Z"
      },
      {
        "duration": 0,
        "start_time": "2023-03-21T13:45:25.588Z"
      },
      {
        "duration": 0,
        "start_time": "2023-03-21T13:45:25.589Z"
      },
      {
        "duration": 0,
        "start_time": "2023-03-21T13:45:25.591Z"
      },
      {
        "duration": 0,
        "start_time": "2023-03-21T13:45:25.592Z"
      },
      {
        "duration": 0,
        "start_time": "2023-03-21T13:45:25.594Z"
      },
      {
        "duration": 0,
        "start_time": "2023-03-21T13:45:25.595Z"
      },
      {
        "duration": 0,
        "start_time": "2023-03-21T13:45:25.597Z"
      },
      {
        "duration": 0,
        "start_time": "2023-03-21T13:45:25.603Z"
      },
      {
        "duration": 0,
        "start_time": "2023-03-21T13:45:25.604Z"
      },
      {
        "duration": 0,
        "start_time": "2023-03-21T13:45:25.605Z"
      },
      {
        "duration": 11,
        "start_time": "2023-03-21T13:45:53.631Z"
      },
      {
        "duration": 5,
        "start_time": "2023-03-21T13:46:01.815Z"
      },
      {
        "duration": 195,
        "start_time": "2023-03-21T13:46:02.846Z"
      },
      {
        "duration": 6,
        "start_time": "2023-03-21T13:46:03.392Z"
      },
      {
        "duration": 13,
        "start_time": "2023-03-21T13:46:05.211Z"
      },
      {
        "duration": 15,
        "start_time": "2023-03-21T13:46:05.925Z"
      },
      {
        "duration": 19,
        "start_time": "2023-03-21T13:46:07.408Z"
      },
      {
        "duration": 278,
        "start_time": "2023-03-21T13:46:08.140Z"
      },
      {
        "duration": 465,
        "start_time": "2023-03-21T13:46:08.752Z"
      },
      {
        "duration": 355,
        "start_time": "2023-03-21T13:46:09.219Z"
      },
      {
        "duration": 515,
        "start_time": "2023-03-21T13:46:10.692Z"
      },
      {
        "duration": 549,
        "start_time": "2023-03-21T13:46:12.731Z"
      },
      {
        "duration": 524,
        "start_time": "2023-03-21T13:46:14.516Z"
      },
      {
        "duration": 13,
        "start_time": "2023-03-21T13:46:16.554Z"
      },
      {
        "duration": 12,
        "start_time": "2023-03-21T13:46:18.125Z"
      },
      {
        "duration": 26,
        "start_time": "2023-03-21T14:45:11.483Z"
      },
      {
        "duration": 51,
        "start_time": "2023-03-22T07:26:11.119Z"
      },
      {
        "duration": 7,
        "start_time": "2023-03-22T07:26:17.243Z"
      },
      {
        "duration": 1388,
        "start_time": "2023-03-22T07:26:20.421Z"
      },
      {
        "duration": 240,
        "start_time": "2023-03-22T07:26:21.811Z"
      },
      {
        "duration": 14,
        "start_time": "2023-03-22T07:26:22.053Z"
      },
      {
        "duration": 50,
        "start_time": "2023-03-22T07:26:22.069Z"
      },
      {
        "duration": 22,
        "start_time": "2023-03-22T07:26:22.121Z"
      },
      {
        "duration": 13,
        "start_time": "2023-03-22T07:26:22.144Z"
      },
      {
        "duration": 31,
        "start_time": "2023-03-22T07:26:22.159Z"
      },
      {
        "duration": 23,
        "start_time": "2023-03-22T07:26:22.192Z"
      },
      {
        "duration": 10,
        "start_time": "2023-03-22T07:26:22.217Z"
      },
      {
        "duration": 8,
        "start_time": "2023-03-22T07:26:22.232Z"
      },
      {
        "duration": 7,
        "start_time": "2023-03-22T07:26:22.242Z"
      },
      {
        "duration": 49,
        "start_time": "2023-03-22T07:26:22.250Z"
      },
      {
        "duration": 7,
        "start_time": "2023-03-22T07:26:22.301Z"
      },
      {
        "duration": 21,
        "start_time": "2023-03-22T07:26:22.310Z"
      },
      {
        "duration": 20,
        "start_time": "2023-03-22T07:26:22.334Z"
      },
      {
        "duration": 483,
        "start_time": "2023-03-22T07:26:22.389Z"
      },
      {
        "duration": 16,
        "start_time": "2023-03-22T07:26:22.874Z"
      },
      {
        "duration": 32,
        "start_time": "2023-03-22T07:26:22.892Z"
      },
      {
        "duration": 365,
        "start_time": "2023-03-22T07:26:22.926Z"
      },
      {
        "duration": 1124,
        "start_time": "2023-03-22T07:26:23.293Z"
      },
      {
        "duration": 359,
        "start_time": "2023-03-22T07:26:24.419Z"
      },
      {
        "duration": 9,
        "start_time": "2023-03-22T07:26:24.789Z"
      },
      {
        "duration": 466,
        "start_time": "2023-03-22T07:26:24.800Z"
      },
      {
        "duration": 7,
        "start_time": "2023-03-22T07:26:25.268Z"
      },
      {
        "duration": 209,
        "start_time": "2023-03-22T07:26:25.289Z"
      },
      {
        "duration": 175,
        "start_time": "2023-03-22T07:26:25.500Z"
      },
      {
        "duration": 13,
        "start_time": "2023-03-22T07:26:25.677Z"
      },
      {
        "duration": 188,
        "start_time": "2023-03-22T07:26:25.694Z"
      },
      {
        "duration": 7,
        "start_time": "2023-03-22T07:26:25.884Z"
      },
      {
        "duration": 243,
        "start_time": "2023-03-22T07:26:25.893Z"
      },
      {
        "duration": 5,
        "start_time": "2023-03-22T07:26:26.138Z"
      },
      {
        "duration": 12,
        "start_time": "2023-03-22T07:26:26.145Z"
      },
      {
        "duration": 34,
        "start_time": "2023-03-22T07:26:26.159Z"
      },
      {
        "duration": 15,
        "start_time": "2023-03-22T07:26:26.195Z"
      },
      {
        "duration": 254,
        "start_time": "2023-03-22T07:26:26.211Z"
      },
      {
        "duration": 469,
        "start_time": "2023-03-22T07:26:26.467Z"
      },
      {
        "duration": 333,
        "start_time": "2023-03-22T07:26:26.938Z"
      },
      {
        "duration": 603,
        "start_time": "2023-03-22T07:26:27.273Z"
      },
      {
        "duration": 561,
        "start_time": "2023-03-22T07:26:27.878Z"
      },
      {
        "duration": 543,
        "start_time": "2023-03-22T07:26:28.441Z"
      },
      {
        "duration": 12,
        "start_time": "2023-03-22T07:26:28.986Z"
      },
      {
        "duration": 15,
        "start_time": "2023-03-22T07:26:29.001Z"
      },
      {
        "duration": 348,
        "start_time": "2023-03-22T07:26:41.758Z"
      },
      {
        "duration": 455,
        "start_time": "2023-03-22T07:27:03.798Z"
      },
      {
        "duration": 335,
        "start_time": "2023-03-22T07:27:34.992Z"
      },
      {
        "duration": 327,
        "start_time": "2023-03-22T07:28:05.998Z"
      },
      {
        "duration": 77,
        "start_time": "2023-03-22T07:28:11.037Z"
      },
      {
        "duration": 323,
        "start_time": "2023-03-22T07:28:15.729Z"
      },
      {
        "duration": 266,
        "start_time": "2023-03-22T07:31:55.442Z"
      },
      {
        "duration": 365,
        "start_time": "2023-03-22T07:31:58.692Z"
      },
      {
        "duration": 256,
        "start_time": "2023-03-22T07:32:15.949Z"
      },
      {
        "duration": 294,
        "start_time": "2023-03-22T07:32:30.183Z"
      },
      {
        "duration": 296,
        "start_time": "2023-03-22T07:39:38.727Z"
      },
      {
        "duration": 312,
        "start_time": "2023-03-22T07:43:47.746Z"
      },
      {
        "duration": 286,
        "start_time": "2023-03-22T07:44:14.148Z"
      },
      {
        "duration": 425,
        "start_time": "2023-03-22T07:44:38.335Z"
      },
      {
        "duration": 3,
        "start_time": "2023-03-22T07:45:08.733Z"
      },
      {
        "duration": 293,
        "start_time": "2023-03-22T07:46:11.523Z"
      },
      {
        "duration": 85,
        "start_time": "2023-03-22T07:46:19.743Z"
      },
      {
        "duration": 291,
        "start_time": "2023-03-22T07:46:31.847Z"
      },
      {
        "duration": 168,
        "start_time": "2023-03-22T07:46:52.772Z"
      },
      {
        "duration": 11,
        "start_time": "2023-03-22T07:47:41.039Z"
      },
      {
        "duration": 29,
        "start_time": "2023-03-22T07:47:56.135Z"
      },
      {
        "duration": 8,
        "start_time": "2023-03-22T07:48:20.573Z"
      },
      {
        "duration": 29,
        "start_time": "2023-03-22T07:48:36.958Z"
      },
      {
        "duration": 5,
        "start_time": "2023-03-22T08:00:36.046Z"
      },
      {
        "duration": 7,
        "start_time": "2023-03-22T08:00:41.683Z"
      },
      {
        "duration": 201,
        "start_time": "2023-03-22T08:00:42.231Z"
      },
      {
        "duration": 6,
        "start_time": "2023-03-22T08:02:15.631Z"
      },
      {
        "duration": 30,
        "start_time": "2023-03-22T08:02:16.589Z"
      },
      {
        "duration": 5,
        "start_time": "2023-03-22T08:02:24.509Z"
      },
      {
        "duration": 24,
        "start_time": "2023-03-22T08:02:25.189Z"
      },
      {
        "duration": 7,
        "start_time": "2023-03-22T08:05:13.841Z"
      },
      {
        "duration": 191,
        "start_time": "2023-03-22T08:05:14.607Z"
      },
      {
        "duration": 9,
        "start_time": "2023-03-22T08:05:50.488Z"
      },
      {
        "duration": 280,
        "start_time": "2023-03-22T08:05:51.046Z"
      },
      {
        "duration": 1114,
        "start_time": "2023-03-22T08:06:36.745Z"
      },
      {
        "duration": 5,
        "start_time": "2023-03-22T08:06:46.462Z"
      },
      {
        "duration": 6,
        "start_time": "2023-03-22T08:07:01.944Z"
      },
      {
        "duration": 236,
        "start_time": "2023-03-22T08:07:02.611Z"
      },
      {
        "duration": 5,
        "start_time": "2023-03-22T08:07:04.310Z"
      },
      {
        "duration": 10,
        "start_time": "2023-03-22T08:09:03.835Z"
      },
      {
        "duration": 7,
        "start_time": "2023-03-22T08:09:27.607Z"
      },
      {
        "duration": 190,
        "start_time": "2023-03-22T08:10:24.758Z"
      },
      {
        "duration": 5,
        "start_time": "2023-03-22T08:10:25.785Z"
      },
      {
        "duration": 5,
        "start_time": "2023-03-22T08:10:36.119Z"
      },
      {
        "duration": 7,
        "start_time": "2023-03-22T08:15:07.930Z"
      },
      {
        "duration": 7,
        "start_time": "2023-03-22T08:15:08.620Z"
      },
      {
        "duration": 8,
        "start_time": "2023-03-22T08:15:22.666Z"
      },
      {
        "duration": 166,
        "start_time": "2023-03-22T08:15:43.311Z"
      },
      {
        "duration": 5,
        "start_time": "2023-03-22T08:15:47.327Z"
      },
      {
        "duration": 9,
        "start_time": "2023-03-22T08:17:35.574Z"
      },
      {
        "duration": 11,
        "start_time": "2023-03-22T08:17:44.405Z"
      },
      {
        "duration": 7,
        "start_time": "2023-03-22T08:32:50.591Z"
      },
      {
        "duration": 7,
        "start_time": "2023-03-22T08:32:53.864Z"
      },
      {
        "duration": 7,
        "start_time": "2023-03-22T08:33:00.378Z"
      },
      {
        "duration": 6,
        "start_time": "2023-03-22T08:33:03.527Z"
      },
      {
        "duration": 173,
        "start_time": "2023-03-22T08:33:09.636Z"
      },
      {
        "duration": 7,
        "start_time": "2023-03-22T08:35:42.719Z"
      },
      {
        "duration": 204,
        "start_time": "2023-03-22T08:39:39.640Z"
      },
      {
        "duration": 9,
        "start_time": "2023-03-22T08:39:43.015Z"
      },
      {
        "duration": 9,
        "start_time": "2023-03-22T08:41:35.660Z"
      },
      {
        "duration": 192,
        "start_time": "2023-03-22T08:41:36.158Z"
      },
      {
        "duration": 186,
        "start_time": "2023-03-22T08:41:52.277Z"
      },
      {
        "duration": 197,
        "start_time": "2023-03-22T08:42:00.985Z"
      },
      {
        "duration": 218,
        "start_time": "2023-03-22T08:42:06.419Z"
      },
      {
        "duration": 223,
        "start_time": "2023-03-22T08:42:13.573Z"
      },
      {
        "duration": 311,
        "start_time": "2023-03-22T08:42:19.288Z"
      },
      {
        "duration": 221,
        "start_time": "2023-03-22T08:42:27.737Z"
      },
      {
        "duration": 241,
        "start_time": "2023-03-22T08:42:31.427Z"
      },
      {
        "duration": 8,
        "start_time": "2023-03-22T08:44:16.671Z"
      },
      {
        "duration": 17,
        "start_time": "2023-03-22T08:44:18.786Z"
      },
      {
        "duration": 7,
        "start_time": "2023-03-22T08:44:39.068Z"
      },
      {
        "duration": 12,
        "start_time": "2023-03-22T08:44:39.902Z"
      },
      {
        "duration": 9,
        "start_time": "2023-03-22T08:44:50.298Z"
      },
      {
        "duration": 6,
        "start_time": "2023-03-22T08:44:51.073Z"
      },
      {
        "duration": 15,
        "start_time": "2023-03-22T08:45:03.987Z"
      },
      {
        "duration": 20,
        "start_time": "2023-03-22T08:45:04.485Z"
      },
      {
        "duration": 8,
        "start_time": "2023-03-22T08:45:44.167Z"
      },
      {
        "duration": 7,
        "start_time": "2023-03-22T08:45:44.670Z"
      },
      {
        "duration": 7,
        "start_time": "2023-03-22T08:45:57.715Z"
      },
      {
        "duration": 101,
        "start_time": "2023-03-22T08:46:41.932Z"
      },
      {
        "duration": 10,
        "start_time": "2023-03-22T08:46:48.922Z"
      },
      {
        "duration": 6,
        "start_time": "2023-03-22T08:46:50.630Z"
      },
      {
        "duration": 7,
        "start_time": "2023-03-22T08:46:56.544Z"
      },
      {
        "duration": 299,
        "start_time": "2023-03-22T08:47:14.637Z"
      },
      {
        "duration": 14,
        "start_time": "2023-03-22T08:47:18.194Z"
      },
      {
        "duration": 285,
        "start_time": "2023-03-22T08:47:20.627Z"
      },
      {
        "duration": 221,
        "start_time": "2023-03-22T08:47:31.025Z"
      },
      {
        "duration": 30,
        "start_time": "2023-03-22T08:47:37.582Z"
      },
      {
        "duration": 6,
        "start_time": "2023-03-22T08:47:43.872Z"
      },
      {
        "duration": 216,
        "start_time": "2023-03-22T08:47:48.384Z"
      },
      {
        "duration": 257,
        "start_time": "2023-03-22T08:47:52.221Z"
      },
      {
        "duration": 6,
        "start_time": "2023-03-22T08:47:57.611Z"
      },
      {
        "duration": 20,
        "start_time": "2023-03-22T08:50:57.951Z"
      },
      {
        "duration": 16,
        "start_time": "2023-03-22T08:51:07.578Z"
      },
      {
        "duration": 13,
        "start_time": "2023-03-22T08:51:22.246Z"
      },
      {
        "duration": 2,
        "start_time": "2023-03-22T09:09:39.186Z"
      },
      {
        "duration": 3,
        "start_time": "2023-03-22T09:09:39.423Z"
      },
      {
        "duration": 3,
        "start_time": "2023-03-22T09:09:39.658Z"
      }
    ],
    "kernelspec": {
      "display_name": "Python 3 (ipykernel)",
      "language": "python",
      "name": "python3"
    },
    "language_info": {
      "codemirror_mode": {
        "name": "ipython",
        "version": 3
      },
      "file_extension": ".py",
      "mimetype": "text/x-python",
      "name": "python",
      "nbconvert_exporter": "python",
      "pygments_lexer": "ipython3",
      "version": "3.9.5"
    },
    "toc": {
      "base_numbering": 1,
      "nav_menu": {},
      "number_sections": true,
      "sideBar": true,
      "skip_h1_title": true,
      "title_cell": "Table of Contents",
      "title_sidebar": "Contents",
      "toc_cell": false,
      "toc_position": {},
      "toc_section_display": true,
      "toc_window_display": false
    },
    "colab": {
      "provenance": []
    }
  },
  "nbformat": 4,
  "nbformat_minor": 0
}