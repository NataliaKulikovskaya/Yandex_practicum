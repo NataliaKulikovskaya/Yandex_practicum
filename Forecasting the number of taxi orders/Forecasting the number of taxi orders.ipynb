{
  "cells": [
    {
      "cell_type": "markdown",
      "metadata": {
        "id": "7MsJiABLuydf"
      },
      "source": [
        "#  Прогнозирование заказов такси"
      ]
    },
    {
      "cell_type": "markdown",
      "metadata": {
        "id": "pt6EIM0_uydf"
      },
      "source": [
        "Компания такси собрала исторические данные о заказах такси в аэропортах. Чтобы привлекать больше водителей в период пиковой нагрузки, нужно спрогнозировать количество заказов такси на следующий час. Необходимо построить модель для такого предсказания.\n",
        "\n",
        "Значение метрики *RMSE* на тестовой выборке должно быть не больше 48."
      ]
    },
    {
      "cell_type": "markdown",
      "metadata": {
        "id": "dJ-wGFlGuydf"
      },
      "source": [
        "## Подготовка"
      ]
    },
    {
      "cell_type": "code",
      "execution_count": null,
      "metadata": {
        "id": "ZDojy0J_uydg"
      },
      "outputs": [],
      "source": [
        "# Импортируем библиотеки\n",
        "\n",
        "import pandas as pd\n",
        "import numpy as np\n",
        "import matplotlib.pyplot as plt\n",
        "import plotly.express as px\n",
        "\n",
        "from sklearn.metrics import mean_squared_error\n",
        "from sklearn.linear_model import LinearRegression\n",
        "from sklearn.tree import DecisionTreeRegressor\n",
        "from sklearn.ensemble import RandomForestRegressor\n",
        "from lightgbm import LGBMRegressor\n",
        "from catboost import CatBoostRegressor\n",
        "from sklearn.model_selection import train_test_split, cross_val_score, TimeSeriesSplit\n",
        "from statsmodels.tsa.seasonal import seasonal_decompose\n",
        "from statsmodels.graphics import tsaplots\n",
        "from sklearn.model_selection import GridSearchCV\n",
        "\n",
        "\n",
        "RANDOM_STATE = 12345"
      ]
    },
    {
      "cell_type": "code",
      "execution_count": null,
      "metadata": {
        "id": "czaO6UERuydg"
      },
      "outputs": [],
      "source": [
        "# Загружаем данные из файла в датафрейм\n",
        "\n",
        "data = pd.read_csv('/datasets/taxi.csv')"
      ]
    },
    {
      "cell_type": "code",
      "execution_count": null,
      "metadata": {
        "id": "tGqBQkpnuydh"
      },
      "outputs": [],
      "source": [
        "# Функция для вывода информации об изучаемых данных\n",
        "\n",
        "def data_info(data):\n",
        "    display(data.head(10))\n",
        "    display(data.describe())\n",
        "    print(data.info())\n",
        "    print('Количество дубликатов:', sum(data.duplicated()))"
      ]
    },
    {
      "cell_type": "code",
      "execution_count": null,
      "metadata": {
        "id": "eG9lwOKIuydh",
        "outputId": "5f45635c-dbd3-4fce-94a3-4252aa612f77"
      },
      "outputs": [
        {
          "data": {
            "text/html": [
              "<div>\n",
              "<style scoped>\n",
              "    .dataframe tbody tr th:only-of-type {\n",
              "        vertical-align: middle;\n",
              "    }\n",
              "\n",
              "    .dataframe tbody tr th {\n",
              "        vertical-align: top;\n",
              "    }\n",
              "\n",
              "    .dataframe thead th {\n",
              "        text-align: right;\n",
              "    }\n",
              "</style>\n",
              "<table border=\"1\" class=\"dataframe\">\n",
              "  <thead>\n",
              "    <tr style=\"text-align: right;\">\n",
              "      <th></th>\n",
              "      <th>num_orders</th>\n",
              "    </tr>\n",
              "    <tr>\n",
              "      <th>datetime</th>\n",
              "      <th></th>\n",
              "    </tr>\n",
              "  </thead>\n",
              "  <tbody>\n",
              "    <tr>\n",
              "      <th>2018-03-01 00:00:00</th>\n",
              "      <td>9</td>\n",
              "    </tr>\n",
              "    <tr>\n",
              "      <th>2018-03-01 00:10:00</th>\n",
              "      <td>14</td>\n",
              "    </tr>\n",
              "    <tr>\n",
              "      <th>2018-03-01 00:20:00</th>\n",
              "      <td>28</td>\n",
              "    </tr>\n",
              "    <tr>\n",
              "      <th>2018-03-01 00:30:00</th>\n",
              "      <td>20</td>\n",
              "    </tr>\n",
              "    <tr>\n",
              "      <th>2018-03-01 00:40:00</th>\n",
              "      <td>32</td>\n",
              "    </tr>\n",
              "    <tr>\n",
              "      <th>2018-03-01 00:50:00</th>\n",
              "      <td>21</td>\n",
              "    </tr>\n",
              "    <tr>\n",
              "      <th>2018-03-01 01:00:00</th>\n",
              "      <td>7</td>\n",
              "    </tr>\n",
              "    <tr>\n",
              "      <th>2018-03-01 01:10:00</th>\n",
              "      <td>5</td>\n",
              "    </tr>\n",
              "    <tr>\n",
              "      <th>2018-03-01 01:20:00</th>\n",
              "      <td>17</td>\n",
              "    </tr>\n",
              "    <tr>\n",
              "      <th>2018-03-01 01:30:00</th>\n",
              "      <td>12</td>\n",
              "    </tr>\n",
              "  </tbody>\n",
              "</table>\n",
              "</div>"
            ],
            "text/plain": [
              "                     num_orders\n",
              "datetime                       \n",
              "2018-03-01 00:00:00           9\n",
              "2018-03-01 00:10:00          14\n",
              "2018-03-01 00:20:00          28\n",
              "2018-03-01 00:30:00          20\n",
              "2018-03-01 00:40:00          32\n",
              "2018-03-01 00:50:00          21\n",
              "2018-03-01 01:00:00           7\n",
              "2018-03-01 01:10:00           5\n",
              "2018-03-01 01:20:00          17\n",
              "2018-03-01 01:30:00          12"
            ]
          },
          "metadata": {},
          "output_type": "display_data"
        },
        {
          "data": {
            "text/html": [
              "<div>\n",
              "<style scoped>\n",
              "    .dataframe tbody tr th:only-of-type {\n",
              "        vertical-align: middle;\n",
              "    }\n",
              "\n",
              "    .dataframe tbody tr th {\n",
              "        vertical-align: top;\n",
              "    }\n",
              "\n",
              "    .dataframe thead th {\n",
              "        text-align: right;\n",
              "    }\n",
              "</style>\n",
              "<table border=\"1\" class=\"dataframe\">\n",
              "  <thead>\n",
              "    <tr style=\"text-align: right;\">\n",
              "      <th></th>\n",
              "      <th>num_orders</th>\n",
              "    </tr>\n",
              "  </thead>\n",
              "  <tbody>\n",
              "    <tr>\n",
              "      <th>count</th>\n",
              "      <td>26496.000000</td>\n",
              "    </tr>\n",
              "    <tr>\n",
              "      <th>mean</th>\n",
              "      <td>14.070463</td>\n",
              "    </tr>\n",
              "    <tr>\n",
              "      <th>std</th>\n",
              "      <td>9.211330</td>\n",
              "    </tr>\n",
              "    <tr>\n",
              "      <th>min</th>\n",
              "      <td>0.000000</td>\n",
              "    </tr>\n",
              "    <tr>\n",
              "      <th>25%</th>\n",
              "      <td>8.000000</td>\n",
              "    </tr>\n",
              "    <tr>\n",
              "      <th>50%</th>\n",
              "      <td>13.000000</td>\n",
              "    </tr>\n",
              "    <tr>\n",
              "      <th>75%</th>\n",
              "      <td>19.000000</td>\n",
              "    </tr>\n",
              "    <tr>\n",
              "      <th>max</th>\n",
              "      <td>119.000000</td>\n",
              "    </tr>\n",
              "  </tbody>\n",
              "</table>\n",
              "</div>"
            ],
            "text/plain": [
              "         num_orders\n",
              "count  26496.000000\n",
              "mean      14.070463\n",
              "std        9.211330\n",
              "min        0.000000\n",
              "25%        8.000000\n",
              "50%       13.000000\n",
              "75%       19.000000\n",
              "max      119.000000"
            ]
          },
          "metadata": {},
          "output_type": "display_data"
        },
        {
          "name": "stdout",
          "output_type": "stream",
          "text": [
            "<class 'pandas.core.frame.DataFrame'>\n",
            "DatetimeIndex: 26496 entries, 2018-03-01 00:00:00 to 2018-08-31 23:50:00\n",
            "Data columns (total 1 columns):\n",
            " #   Column      Non-Null Count  Dtype\n",
            "---  ------      --------------  -----\n",
            " 0   num_orders  26496 non-null  int64\n",
            "dtypes: int64(1)\n",
            "memory usage: 414.0 KB\n",
            "None\n",
            "Количество дубликатов: 26415\n"
          ]
        }
      ],
      "source": [
        "data_info(data)"
      ]
    },
    {
      "cell_type": "code",
      "execution_count": null,
      "metadata": {
        "id": "kaw76l-5uydi",
        "outputId": "716f429d-7e7c-4e1c-82bc-8d36d34bb641"
      },
      "outputs": [
        {
          "name": "stdout",
          "output_type": "stream",
          "text": [
            "num_orders    0\n",
            "dtype: int64\n"
          ]
        }
      ],
      "source": [
        "# Проверка пропущенных значений в каждом столбце\n",
        "print(data.isna().sum())"
      ]
    },
    {
      "cell_type": "code",
      "execution_count": null,
      "metadata": {
        "id": "BbFrOv4uuydi"
      },
      "outputs": [],
      "source": [
        "data.sort_index(inplace=True)"
      ]
    },
    {
      "cell_type": "code",
      "execution_count": null,
      "metadata": {
        "id": "MhxxC1Etuydi"
      },
      "outputs": [],
      "source": [
        "# выполним ресемплирование\n",
        "\n",
        "data_day = data.resample('1D').sum()\n",
        "data = data.resample('1H').sum()\n"
      ]
    },
    {
      "cell_type": "markdown",
      "metadata": {
        "id": "7d5JmrUXuydj"
      },
      "source": [
        "### Выводы\n",
        "\n",
        "* Датасет состоит из 26496  строк и  2 столбцов\n",
        "* В данных нет явных дубликатов и пропусков\n",
        "* Были удалены пропуски и выполнено ресемплирование по одному часу"
      ]
    },
    {
      "cell_type": "markdown",
      "metadata": {
        "id": "ggVMeq8Huydj"
      },
      "source": [
        "## Анализ"
      ]
    },
    {
      "cell_type": "code",
      "execution_count": null,
      "metadata": {
        "id": "UVzzywyLuydj",
        "outputId": "f5dadd77-9e95-4303-fef3-d34f8797d060"
      },
      "outputs": [
        {
          "data": {
            "image/png": "[encoded data removed]",
            "text/plain": [
              "<Figure size 864x1008 with 4 Axes>"
            ]
          },
          "metadata": {
            "needs_background": "light"
          },
          "output_type": "display_data"
        }
      ],
      "source": [
        "decomposed = seasonal_decompose(data)\n",
        "plt.figure(figsize=(12, 14))\n",
        "\n",
        "# Построим график тренда - плавное изменение среднего значения ряда\n",
        "# без повторяющихся закономерностей\n",
        "plt.subplot(411)\n",
        "decomposed.trend.plot(ax=plt.gca(), fontsize=14, color='#FF5F00')\n",
        "plt.title(('Trend'), fontsize=14)\n",
        "\n",
        "# Построим график сезонных изменений - циклично\n",
        "# повторяющиеся закономерности во временном ряду\n",
        "plt.subplot(412)\n",
        "decomposed.seasonal['2018-08-01':'2018-08-02'].plot(ax=plt.gca(), fontsize=14, color='#FF5F00')\n",
        "plt.title(('Seasonality_day'), fontsize=14)\n",
        "\n",
        "# Построим график сезонных изменений - циклично\n",
        "# повторяющиеся закономерности во временном ряду\n",
        "plt.subplot(413)\n",
        "decomposed.seasonal['2018-08-01':'2018-08-07'].plot(ax=plt.gca(), fontsize=14, color='#FF5F00')\n",
        "plt.title(('Seasonality_week'), fontsize=14)\n",
        "\n",
        "#  Построим график шума - случайного изменения в ряду\n",
        "plt.subplot(414)\n",
        "decomposed.resid.plot(ax=plt.gca(), fontsize=14, color='#FF5F00')\n",
        "plt.title(('Residuals'), fontsize=14)\n",
        "\n",
        "plt.tight_layout()"
      ]
    },
    {
      "cell_type": "code",
      "execution_count": null,
      "metadata": {
        "id": "gCTQBahtuydk"
      },
      "outputs": [],
      "source": [
        "# Построим график сезонных изменений - циклично\n",
        "# повторяющиеся закономерности во временном ряду\n",
        "decomposed_day = seasonal_decompose(data_day)\n",
        "\n"
      ]
    },
    {
      "cell_type": "code",
      "execution_count": null,
      "metadata": {
        "id": "V4MiWDhKuydk",
        "outputId": "491a5207-a5fe-4075-889a-1ceda7a350e1"
      },
      "outputs": [
        {
          "data": {
            "image/png": "[encoded data removed]",
            "text/plain": [
              "<Figure size 864x1008 with 1 Axes>"
            ]
          },
          "metadata": {
            "needs_background": "light"
          },
          "output_type": "display_data"
        }
      ],
      "source": [
        "plt.figure(figsize=(12, 14))\n",
        "plt.plot(decomposed_day.seasonal.resample('D').mean(), color='#FF5F00', linewidth=2)\n",
        "plt.title('Seasonality_week', fontsize=14)\n",
        "plt.xlabel('Date', fontsize=14)\n",
        "plt.ylabel('Value', fontsize=14)\n",
        "plt.grid(True)\n",
        "plt.show()"
      ]
    },
    {
      "cell_type": "code",
      "execution_count": null,
      "metadata": {
        "id": "eZAxJrhUuydk",
        "outputId": "5367011d-5436-462b-b000-b47912c65571"
      },
      "outputs": [
        {
          "data": {
            "image/png": "[encoded data removed]",
            "text/plain": [
              "<Figure size 864x1008 with 1 Axes>"
            ]
          },
          "metadata": {
            "needs_background": "light"
          },
          "output_type": "display_data"
        }
      ],
      "source": [
        "plt.figure(figsize=(12, 14))\n",
        "\n",
        "plt.plot(decomposed_day.seasonal['2018-08-06':'2018-09-03'].resample('D').mean(), color='#FF5F00', linewidth=2)\n",
        "plt.title('Seasonality_week', fontsize=14)\n",
        "plt.xlabel('Date', fontsize=14)\n",
        "plt.ylabel('Value', fontsize=14)\n",
        "plt.grid(True)\n",
        "plt.show()"
      ]
    },
    {
      "cell_type": "markdown",
      "metadata": {
        "id": "5iCLVj3fuydk"
      },
      "source": [
        "### Выводы\n",
        "\n",
        "Так как имеются данные только за 6 месяцев, то сложно пронаблюдать сезонность на больших промежутках времени.\n",
        "\n",
        "График тренда (Trend) отображает плавное изменение среднего значения ряда без повторяющихся закономерностей. Тренд показывает общую тенденцию к возрастанию числа заказов в промежутке времени  с марта по август.\n",
        "\n",
        "График дневной сезонности (Seasonality_day) отображает цикличные повторяющиеся закономерности в течение двух дней. и показывает в какие часы наблюдается наибольшее количество заказов и в какие часы их меньше. Количество заказов максимальное в полноч, к 6 утра достигает минимального количества.\n",
        "\n",
        "График недельной сезонности (Seasonality_week) отображает цикличные повторяющиеся закономерности в течение недели. Наиболее успешные в плане количества заказов дни недели - понедельник и пятница."
      ]
    },
    {
      "cell_type": "markdown",
      "metadata": {
        "id": "tNRt21Gruydl"
      },
      "source": [
        "### Формирование выборок"
      ]
    },
    {
      "cell_type": "code",
      "execution_count": null,
      "metadata": {
        "id": "sWWLBby_uydl"
      },
      "outputs": [],
      "source": [
        "def new_features(data, max_lag, rolling_mean_size):\n",
        "    data['day_of_week'] = data.index.dayofweek\n",
        "    data['hour'] = data.index.hour\n",
        "\n",
        "    for lag in range(1, max_lag + 1):\n",
        "        data['lag_{}'.format(lag)] = data['num_orders'].shift(lag)\n",
        "\n",
        "    data['rolling_mean'] = data['num_orders'].shift().rolling(rolling_mean_size).mean()"
      ]
    },
    {
      "cell_type": "code",
      "execution_count": null,
      "metadata": {
        "id": "jdctQMO-uydl"
      },
      "outputs": [],
      "source": [
        "new_features(data, 24, 24)"
      ]
    },
    {
      "cell_type": "code",
      "execution_count": null,
      "metadata": {
        "id": "2G7qPaNYuydm",
        "outputId": "3476e838-6d55-42b9-d103-5223db9656d1"
      },
      "outputs": [
        {
          "data": {
            "image/png": "[encoded data removed]",
            "text/plain": [
              "<Figure size 1332x432 with 1 Axes>"
            ]
          },
          "metadata": {
            "needs_background": "light"
          },
          "output_type": "display_data"
        }
      ],
      "source": [
        "from statsmodels.graphics import tsaplots\n",
        "\n",
        "taxi = pd.read_csv(\"/datasets/taxi.csv\", index_col=[0], parse_dates=[0]).resample('1H').sum()\n",
        "ts = taxi['num_orders']\n",
        "\n",
        "fig = tsaplots.plot_acf(ts,lags= 190)\n",
        "fig.set_size_inches(18.5, 6)\n",
        "plt.ylim(-.1, 1.1)\n",
        "plt.show()\n"
      ]
    },
    {
      "cell_type": "code",
      "execution_count": null,
      "metadata": {
        "id": "bM-F28uCuydn"
      },
      "outputs": [],
      "source": [
        "# Данные разделим на тестовую и обучающую выборки\n",
        "\n",
        "train, test = train_test_split(data, shuffle=False, test_size=0.1)\n",
        "train = train.dropna()"
      ]
    },
    {
      "cell_type": "code",
      "execution_count": null,
      "metadata": {
        "id": "C_9-_GXhuydn"
      },
      "outputs": [],
      "source": [
        "train_features = train.drop('num_orders', axis=1)\n",
        "train_target = train['num_orders']\n",
        "\n",
        "test_features = test.drop('num_orders', axis=1)\n",
        "test_target = test['num_orders']"
      ]
    },
    {
      "cell_type": "code",
      "execution_count": null,
      "metadata": {
        "id": "cVELwwfMuydn"
      },
      "outputs": [],
      "source": [
        "# Создадим датафрейм для результатов исследования\n",
        "\n",
        "output = pd.DataFrame(columns=['Model_name', 'score'])"
      ]
    },
    {
      "cell_type": "markdown",
      "metadata": {
        "id": "xti8I6Sluydy"
      },
      "source": [
        "## Обучение"
      ]
    },
    {
      "cell_type": "markdown",
      "metadata": {
        "id": "yYgETkXwuydy"
      },
      "source": [
        "### LinearRegression"
      ]
    },
    {
      "cell_type": "raw",
      "metadata": {
        "id": "E720zt0nuydy"
      },
      "source": [
        "model_LR = LinearRegression()\n",
        "\n",
        "model_LR.fit(train_features, train_target)\n",
        "\n",
        "pred_train = model_LR.predict(train_features)\n",
        "train_RMSE_LR = np.sqrt(mean_squared_error(train_target, pred_train))\n",
        "print(\"RMSE обучающей выборки =\", train_RMSE_LR)\n",
        "\n",
        "pred_test = model_LR.predict(test_features)\n",
        "test_RMSE_LR = np.sqrt(mean_squared_error(test_target, pred_test))\n",
        "print(\"RMSE тестовой выборки =\", test_RMSE_LR)"
      ]
    },
    {
      "cell_type": "code",
      "execution_count": null,
      "metadata": {
        "id": "X8EpMNQSuydy",
        "outputId": "70f9abbe-effb-4e9b-e408-a76f1e9948a4"
      },
      "outputs": [
        {
          "name": "stdout",
          "output_type": "stream",
          "text": [
            "CPU times: user 151 ms, sys: 413 ms, total: 564 ms\n",
            "Wall time: 504 ms\n"
          ]
        }
      ],
      "source": [
        "%%time\n",
        "# Кросс-валидация для оценки качества модели\n",
        "cv = TimeSeriesSplit(n_splits=3).split(train_features)\n",
        "\n",
        "model_LR = LinearRegression()\n",
        "\n",
        "# Обучение модели\n",
        "model_LR.fit(train_features, train_target)\n",
        "\n",
        "# Оценка качества с использованием кросс-валидации\n",
        "score_LR = cross_val_score(model_LR, train_features, train_target, scoring='neg_mean_squared_error', cv=cv)\n",
        "score_LR = round(np.mean(-score_LR)**0.5, 2)"
      ]
    },
    {
      "cell_type": "code",
      "execution_count": null,
      "metadata": {
        "id": "78SLAmQFuydz"
      },
      "outputs": [],
      "source": [
        "# Добавим данные в датафрейм\n",
        "\n",
        "output.loc[0, 'Model_name'] = 'LinearRegression'\n",
        "output.loc[0, 'score'] = score_LR"
      ]
    },
    {
      "cell_type": "markdown",
      "metadata": {
        "id": "coXBet97uydz"
      },
      "source": [
        "### DecisionTreeRegressor"
      ]
    },
    {
      "cell_type": "code",
      "execution_count": null,
      "metadata": {
        "id": "QTEl6JE7uyd0",
        "outputId": "fdfa12fb-2bc7-4025-ff21-e2e17aaf7491"
      },
      "outputs": [
        {
          "name": "stdout",
          "output_type": "stream",
          "text": [
            "Лучшие параметры: {'max_depth': 5, 'min_samples_leaf': 5}\n"
          ]
        }
      ],
      "source": [
        "# Подбор гиперпараметров с использованием и TimeSeriesSplit\n",
        "tscv = TimeSeriesSplit(n_splits=5)\n",
        "param_grid = {\n",
        "    'max_depth': [None, 3, 5],\n",
        "    'min_samples_leaf': [1, 3, 5]\n",
        "}\n",
        "model_DTR = DecisionTreeRegressor(random_state = RANDOM_STATE)\n",
        "grid_search = GridSearchCV(model_DTR, param_grid, cv=tscv, scoring='neg_mean_squared_error')\n",
        "grid_search.fit(train_features, train_target)\n",
        "\n",
        "# Лучшие параметры модели\n",
        "best_params = grid_search.best_params_\n",
        "print(\"Лучшие параметры:\", best_params)\n"
      ]
    },
    {
      "cell_type": "code",
      "execution_count": null,
      "metadata": {
        "id": "fdmA7GYKuyd0",
        "outputId": "9c31b093-e37e-4d2a-a901-62e29f2db5b5"
      },
      "outputs": [
        {
          "data": {
            "text/plain": [
              "DecisionTreeRegressor(max_depth=5, min_samples_leaf=5, random_state=12345)"
            ]
          },
          "execution_count": 22,
          "metadata": {},
          "output_type": "execute_result"
        }
      ],
      "source": [
        "# Обучение модели с лучшими параметрами\n",
        "model_DTR = DecisionTreeRegressor(max_depth=best_params['max_depth'],\n",
        "                                  min_samples_leaf=best_params['min_samples_leaf'],\n",
        "                                  random_state=12345)\n",
        "model_DTR.fit(train_features, train_target)"
      ]
    },
    {
      "cell_type": "code",
      "execution_count": null,
      "metadata": {
        "id": "4dJGUD7Puyd0",
        "outputId": "5d6a2d00-3c48-4e93-a6e6-22a0ed96af5b"
      },
      "outputs": [
        {
          "name": "stdout",
          "output_type": "stream",
          "text": [
            "Лучшее RMSE: 29.733091320197566\n"
          ]
        }
      ],
      "source": [
        "best_score = np.sqrt(-grid_search.best_score_)\n",
        "print(\"Лучшее RMSE:\", best_score)"
      ]
    },
    {
      "cell_type": "code",
      "execution_count": null,
      "metadata": {
        "id": "E6CM3d0zuyd0"
      },
      "outputs": [],
      "source": [
        "# Оценка качества с использованием кросс-валидации\n",
        "score_DTR = cross_val_score(model_DTR, train_features, train_target, scoring='neg_mean_squared_error', cv=tscv)\n",
        "score_DTR = round(np.mean(-score_DTR)**0.5, 2)"
      ]
    },
    {
      "cell_type": "code",
      "execution_count": null,
      "metadata": {
        "id": "01iA1IViuyd1"
      },
      "outputs": [],
      "source": [
        "# Добавим занные в датафрейм output\n",
        "\n",
        "output.loc[1, 'Model_name'] = 'DecisionTreeRegressor'\n",
        "output.loc[1, 'score'] = score_DTR"
      ]
    },
    {
      "cell_type": "markdown",
      "metadata": {
        "id": "nLFAU3Q1uyd1"
      },
      "source": [
        "### LGBMRegressor"
      ]
    },
    {
      "cell_type": "raw",
      "metadata": {
        "id": "G6kRKKAmuyd1"
      },
      "source": [
        "model_LGBMR = LGBMRegressor(boosting_type='gbdt', num_leaves=31, max_depth=12,\n",
        "                            learning_rate=0.2, n_estimators=100, random_state=12345)\n",
        "\n",
        "model_LGBMR.fit(train_features, train_target)\n",
        "\n",
        "pred_train_LGBMR = model_LGBMR.predict(train_features)\n",
        "train_RMSE_LGBMR = np.sqrt(mean_squared_error(train_target, pred_train_LGBMR))\n",
        "print(\"RMSE обучающей выборки =\", train_RMSE_LGBMR)\n",
        "\n",
        "pred_test_LGBMR = model_LGBMR.predict(test_features)\n",
        "test_RMSE_LGBMR = np.sqrt(mean_squared_error(test_target, pred_test_LGBMR))\n",
        "print(\"RMSE тестовой выборки =\", test_RMSE_LGBMR)"
      ]
    },
    {
      "cell_type": "code",
      "execution_count": null,
      "metadata": {
        "id": "VA3bH5l-uyd2"
      },
      "outputs": [],
      "source": [
        "tscv = TimeSeriesSplit(n_splits=5)\n",
        "param_grid = {\n",
        "    'num_leaves': [31, 50, 100],\n",
        "    'max_depth': [6, 12, 18],\n",
        "    'learning_rate': [0.1, 0.2, 0.3],\n",
        "    'n_estimators': [100, 200, 300]\n",
        "}\n",
        "\n",
        "model_LGBMR = LGBMRegressor(boosting_type='gbdt', random_state=12345)\n",
        "\n",
        "grid_search = GridSearchCV(model_LGBMR, param_grid, cv=tscv, scoring='neg_mean_squared_error')\n",
        "grid_search.fit(train_features, train_target)\n",
        "\n",
        "# Лучшие параметры модели\n",
        "best_params = grid_search.best_params_\n",
        "print(\"Лучшие параметры:\", best_params)\n",
        "\n",
        "# Обучение модели с лучшими параметрами\n",
        "model_LGBMR = LGBMRegressor(boosting_type='gbdt', random_state=12345, **best_params)\n",
        "model_LGBMR.fit(train_features, train_target)\n",
        "\n",
        "# Оценка качества с использованием кросс-валидации\n",
        "score_LGBMR = cross_val_score(model_LGBMR, train_features, train_target, scoring='neg_mean_squared_error', cv=tscv)\n",
        "score_LGBMR = round(np.mean(-score_LGBMR)**0.5, 2)"
      ]
    },
    {
      "cell_type": "code",
      "execution_count": null,
      "metadata": {
        "id": "jU014SRPuyd2"
      },
      "outputs": [],
      "source": [
        "# Добавим занные в датафрейм output\n",
        "\n",
        "output.loc[2, 'Model_name']='LGBMRegressor'\n",
        "output.loc[2, 'score'] = score_LGBMR"
      ]
    },
    {
      "cell_type": "markdown",
      "metadata": {
        "id": "bDlj2-4Euyd2"
      },
      "source": [
        "### CatBoostRegressor"
      ]
    },
    {
      "cell_type": "raw",
      "metadata": {
        "id": "rAWVGQ9Muyd3"
      },
      "source": [
        "model_catboost = CatBoostRegressor(loss_function='RMSE', n_estimators = 100, silent = True)\n",
        "\n",
        "model_catboost.fit(train_features, train_target)\n",
        "\n",
        "pred_train = model_catboost.predict(train_features)\n",
        "train_RMSE_catboost = np.sqrt(mean_squared_error(train_target, pred_train))\n",
        "print(\"RMSE обучающей выборки =\", train_RMSE_catboost)\n",
        "\n",
        "pred_test = model_catboost.predict(test_features)\n",
        "test_RMSE_catboost = np.sqrt(mean_squared_error(test_target, pred_test))\n",
        "print(\"RMSE тестовой выборки =\", test_RMSE_catboost)"
      ]
    },
    {
      "cell_type": "code",
      "execution_count": null,
      "metadata": {
        "id": "JT6PfPzxuyd3",
        "outputId": "7007993f-c1b7-47d7-e11f-3120bd464e8d"
      },
      "outputs": [
        {
          "name": "stdout",
          "output_type": "stream",
          "text": [
            "Лучшие параметры: {'learning_rate': 0.1, 'n_estimators': 300}\n"
          ]
        }
      ],
      "source": [
        "# Подбор гиперпараметров с использованием TimeSeriesSplit и GridSearchCV\n",
        "tscv = TimeSeriesSplit(n_splits=5)\n",
        "param_grid = {\n",
        "    'n_estimators': [100, 200, 300],\n",
        "    'learning_rate': [0.1, 0.2, 0.3]\n",
        "}\n",
        "\n",
        "model_catboost = CatBoostRegressor(loss_function='RMSE', silent=True)\n",
        "\n",
        "grid_search = GridSearchCV(model_catboost, param_grid, cv=tscv, scoring='neg_mean_squared_error')\n",
        "grid_search.fit(train_features, train_target)\n",
        "\n",
        "# Лучшие параметры модели\n",
        "best_params = grid_search.best_params_\n",
        "print(\"Лучшие параметры:\", best_params)\n",
        "\n",
        "# Обучение модели с лучшими параметрами\n",
        "model_catboost = CatBoostRegressor(loss_function='RMSE', silent=True, **best_params)\n",
        "model_catboost.fit(train_features, train_target)\n",
        "\n",
        "# Оценка качества с использованием кросс-валидации\n",
        "score_catboost = cross_val_score(model_catboost, train_features, train_target, scoring='neg_mean_squared_error', cv=tscv)\n",
        "score_catboost = round(np.mean(-score_catboost)**0.5, 2)"
      ]
    },
    {
      "cell_type": "code",
      "execution_count": null,
      "metadata": {
        "id": "2LH32pPOuyd4"
      },
      "outputs": [],
      "source": [
        "# Добавим занные в датафрейм output\n",
        "\n",
        "output.loc[3, 'Model_name'] ='CatBoostRegressor'\n",
        "output.loc[3, 'score'] = score_catboost"
      ]
    },
    {
      "cell_type": "markdown",
      "metadata": {
        "id": "wNiFTeVsuyd4"
      },
      "source": [
        "### RandomForestRegressor"
      ]
    },
    {
      "cell_type": "raw",
      "metadata": {
        "id": "uFtQMWNjuyd4"
      },
      "source": [
        "model_RFR = RandomForestRegressor(n_estimators=20, max_depth=15, random_state=12345)\n",
        "\n",
        "model_RFR.fit(train_features, train_target)\n",
        "\n",
        "pred_train_RFR = model_RFR.predict(train_features)\n",
        "train_RMSE_RFR = np.sqrt(mean_squared_error(train_target, pred_train_RFR))\n",
        "print(\"RMSE обучающей выборки =\", train_RMSE_RFR)\n",
        "\n",
        "pred_test_RFR = model_RFR.predict(test_features)\n",
        "test_RMSE_RFR = np.sqrt(mean_squared_error(test_target, pred_test_RFR))\n",
        "print(\"RMSE тестовой выборки =\", test_RMSE_RFR)"
      ]
    },
    {
      "cell_type": "code",
      "execution_count": null,
      "metadata": {
        "id": "9vBzBAiVuyd5",
        "outputId": "b17cfc56-3958-4523-c203-35be9685b579"
      },
      "outputs": [
        {
          "name": "stdout",
          "output_type": "stream",
          "text": [
            "Лучшие параметры: {'max_depth': 20, 'n_estimators': 100}\n"
          ]
        }
      ],
      "source": [
        "# Подбор гиперпараметров с использованием TimeSeriesSplit и GridSearchCV\n",
        "tscv = TimeSeriesSplit(n_splits=5)\n",
        "param_grid = {\n",
        "    'n_estimators': [20, 50, 100],\n",
        "    'max_depth': [10, 15, 20]\n",
        "}\n",
        "\n",
        "model_RFR = RandomForestRegressor(random_state=12345)\n",
        "\n",
        "grid_search = GridSearchCV(model_RFR, param_grid, cv=tscv, scoring='neg_mean_squared_error')\n",
        "grid_search.fit(train_features, train_target)\n",
        "\n",
        "# Лучшие параметры модели\n",
        "best_params = grid_search.best_params_\n",
        "print(\"Лучшие параметры:\", best_params)\n",
        "\n",
        "# Обучение модели с лучшими параметрами\n",
        "model_RFR = RandomForestRegressor(random_state=12345, **best_params)\n",
        "model_RFR.fit(train_features, train_target)\n",
        "\n",
        "# Оценка качества с использованием кросс-валидации\n",
        "score_RFR = cross_val_score(model_RFR, train_features, train_target, scoring='neg_mean_squared_error', cv=tscv)\n",
        "score_RFR = round(np.mean(-score_RFR)**0.5, 2)"
      ]
    },
    {
      "cell_type": "code",
      "execution_count": null,
      "metadata": {
        "id": "2yqNEfp4uyd5"
      },
      "outputs": [],
      "source": [
        "# Добавим занные в датафрейм output\n",
        "\n",
        "output.loc[4, 'Model_name']='RandomForestRegressor'\n",
        "output.loc[4, 'score']=score_RFR"
      ]
    },
    {
      "cell_type": "markdown",
      "metadata": {
        "id": "U7kf6aA0uyd6"
      },
      "source": [
        "### Выводы"
      ]
    },
    {
      "cell_type": "markdown",
      "metadata": {
        "id": "aMb5Zxh0uyd6"
      },
      "source": [
        "Построены модели LinearRegression, DecisionTreeRegressor, LGBMRegressor,  CatBoostRegressor, RandomForestRegressor."
      ]
    },
    {
      "cell_type": "code",
      "execution_count": null,
      "metadata": {
        "id": "bIxk3zzguyd6",
        "outputId": "2661d246-736b-49a7-d959-414a9a512adf"
      },
      "outputs": [
        {
          "name": "stdout",
          "output_type": "stream",
          "text": [
            "              Model_name  score\n",
            "3      CatBoostRegressor  24.62\n",
            "4  RandomForestRegressor  25.51\n",
            "0       LinearRegression  27.96\n",
            "1  DecisionTreeRegressor  29.73\n"
          ]
        }
      ],
      "source": [
        "print(output.sort_values('score'))"
      ]
    },
    {
      "cell_type": "markdown",
      "metadata": {
        "id": "3S1sTNMDuyd7"
      },
      "source": [
        "Лучшие результаты для модели DecisionTreeRegressor   (29.73). Немного хуже результаты для моделей LinearRegression     (27.96) и RandomForestRegressor    (25.51)."
      ]
    },
    {
      "cell_type": "markdown",
      "metadata": {
        "id": "Ven8UQb3uyd8"
      },
      "source": [
        "## Тестирование"
      ]
    },
    {
      "cell_type": "code",
      "execution_count": null,
      "metadata": {
        "id": "FjdBcV6guyd8",
        "outputId": "7c9b6279-f849-4b2d-e1d3-5bb4604f2ab8"
      },
      "outputs": [
        {
          "name": "stdout",
          "output_type": "stream",
          "text": [
            "RMSE на тестовой выборке = 53.7536371228113\n"
          ]
        }
      ],
      "source": [
        "# Выбор финальной модели\n",
        "final_model = model_DTR\n",
        "\n",
        "# Прогноз на тестовой выборке\n",
        "pred_test = final_model.predict(test_features)\n",
        "\n",
        "# Оценка результатов\n",
        "test_RMSE = np.sqrt(mean_squared_error(test_target, pred_test))\n",
        "print(\"RMSE на тестовой выборке =\", test_RMSE)"
      ]
    },
    {
      "cell_type": "code",
      "execution_count": null,
      "metadata": {
        "id": "Fqwo6PFguyd8",
        "outputId": "21bcc4e4-c0a5-46f8-dd8a-831a55f286fb"
      },
      "outputs": [
        {
          "name": "stdout",
          "output_type": "stream",
          "text": [
            "RMSE прогноза 58.856486242815066\n",
            "Модель DecisionTreeRegressor   лучше базового прогноза\n"
          ]
        }
      ],
      "source": [
        "# Создание прогноза предыдущим значением\n",
        "pred_previous = test_target.shift()\n",
        "pred_previous.iloc[0] = train_target.iloc[-1]\n",
        "\n",
        "# Оценка RMSEпрогноза\n",
        "baseline_RMSE = np.sqrt(mean_squared_error(test_target, pred_previous))\n",
        "print(\"RMSE прогноза\", baseline_RMSE)\n",
        "\n",
        "# Сравнение RMSE модели с прогнозом\n",
        "if test_RMSE < baseline_RMSE:\n",
        "    print(\"Модель DecisionTreeRegressor   лучше базового прогноза\")\n",
        "else:\n",
        "    print(\"Модель DecisionTreeRegressor   не лучше базового прогноза\")"
      ]
    },
    {
      "cell_type": "markdown",
      "metadata": {
        "id": "GgUXjdjQuyd9"
      },
      "source": [
        "### Выводы"
      ]
    },
    {
      "cell_type": "markdown",
      "metadata": {
        "id": "ZX0QuTyEuyd9"
      },
      "source": [
        "Для модели DecisionTreeRegressor   на тестовой выборке получено значение RMSE 53.75."
      ]
    },
    {
      "cell_type": "markdown",
      "metadata": {
        "id": "yvzekEkhuyd9"
      },
      "source": [
        "## Выводы"
      ]
    },
    {
      "cell_type": "markdown",
      "metadata": {
        "id": "qzmWItZYuyd9"
      },
      "source": [
        "1. Датасет загружен, проанализирован, произведена предобработка данных:\n",
        "    * Обработаны пропуски\n",
        "    * Выполнено ресемплирование по одному часу\n",
        "2. Обучены разные модели: LinearRegression, DecisionTreeRegressor, LGBMRegressor, CatBoostRegressor, RandomForestRegressor. Лучшие результаты для модели DecisionTreeRegressor (29.73). Немного хуже результаты для моделей LinearRegression (27.96) и RandomForestRegressor (25.51).\n",
        "4. Качество лучшей модели проверено на тестовой выборке. Для модели DecisionTreeRegressor на тестовой выборке получено значение RMSE 53.75."
      ]
    },
    {
      "cell_type": "code",
      "source": [],
      "metadata": {
        "id": "_sDt694iyvNB"
      },
      "execution_count": null,
      "outputs": []
    }
  ],
  "metadata": {
    "ExecuteTimeLog": [
      {
        "duration": 5243,
        "start_time": "2023-07-08T20:39:36.339Z"
      },
      {
        "duration": 348,
        "start_time": "2023-07-08T20:40:01.536Z"
      },
      {
        "duration": 4,
        "start_time": "2023-07-08T20:40:13.941Z"
      },
      {
        "duration": 4,
        "start_time": "2023-07-08T20:41:05.790Z"
      },
      {
        "duration": 45,
        "start_time": "2023-07-08T20:41:16.247Z"
      },
      {
        "duration": 144,
        "start_time": "2023-07-08T20:43:58.719Z"
      },
      {
        "duration": 295,
        "start_time": "2023-07-08T20:45:49.201Z"
      },
      {
        "duration": 4,
        "start_time": "2023-07-08T20:46:13.253Z"
      },
      {
        "duration": 64,
        "start_time": "2023-07-08T20:46:15.451Z"
      },
      {
        "duration": 4,
        "start_time": "2023-07-08T20:46:15.834Z"
      },
      {
        "duration": 46,
        "start_time": "2023-07-08T20:46:16.784Z"
      },
      {
        "duration": 30,
        "start_time": "2023-07-08T20:46:19.797Z"
      },
      {
        "duration": 6,
        "start_time": "2023-07-08T20:46:56.773Z"
      },
      {
        "duration": 46,
        "start_time": "2023-07-08T20:46:57.008Z"
      },
      {
        "duration": 4,
        "start_time": "2023-07-08T20:46:57.729Z"
      },
      {
        "duration": 33,
        "start_time": "2023-07-08T20:46:58.416Z"
      },
      {
        "duration": 266,
        "start_time": "2023-07-08T20:50:01.987Z"
      },
      {
        "duration": 71,
        "start_time": "2023-07-08T20:50:08.933Z"
      },
      {
        "duration": 68,
        "start_time": "2023-07-08T20:50:21.635Z"
      },
      {
        "duration": 5,
        "start_time": "2023-07-08T20:50:22.093Z"
      },
      {
        "duration": 47,
        "start_time": "2023-07-08T20:50:22.658Z"
      },
      {
        "duration": 167,
        "start_time": "2023-07-08T20:51:11.816Z"
      },
      {
        "duration": 9,
        "start_time": "2023-07-08T20:51:17.018Z"
      },
      {
        "duration": 50,
        "start_time": "2023-07-08T20:51:46.302Z"
      },
      {
        "duration": 8,
        "start_time": "2023-07-08T20:51:46.493Z"
      },
      {
        "duration": 3,
        "start_time": "2023-07-08T20:51:46.741Z"
      },
      {
        "duration": 28,
        "start_time": "2023-07-08T20:51:47.258Z"
      },
      {
        "duration": 1076,
        "start_time": "2023-07-08T20:51:49.396Z"
      },
      {
        "duration": 54,
        "start_time": "2023-07-08T20:53:27.388Z"
      },
      {
        "duration": 22,
        "start_time": "2023-07-08T20:54:22.722Z"
      },
      {
        "duration": 24,
        "start_time": "2023-07-08T20:54:37.992Z"
      },
      {
        "duration": 43,
        "start_time": "2023-07-08T20:54:55.853Z"
      },
      {
        "duration": 24,
        "start_time": "2023-07-08T20:55:02.811Z"
      },
      {
        "duration": 25,
        "start_time": "2023-07-08T20:55:59.247Z"
      },
      {
        "duration": 1046,
        "start_time": "2023-07-08T20:56:04.404Z"
      },
      {
        "duration": 20,
        "start_time": "2023-07-08T20:56:14.154Z"
      },
      {
        "duration": 437,
        "start_time": "2023-07-08T20:57:14.588Z"
      },
      {
        "duration": 1064,
        "start_time": "2023-07-08T20:57:27.154Z"
      },
      {
        "duration": 1134,
        "start_time": "2023-07-08T20:58:35.286Z"
      },
      {
        "duration": 1148,
        "start_time": "2023-07-08T20:58:47.663Z"
      },
      {
        "duration": 927,
        "start_time": "2023-07-08T20:59:21.657Z"
      },
      {
        "duration": 25,
        "start_time": "2023-07-08T20:59:58.241Z"
      },
      {
        "duration": 501,
        "start_time": "2023-07-08T21:01:12.491Z"
      },
      {
        "duration": 127,
        "start_time": "2023-07-08T21:01:25.284Z"
      },
      {
        "duration": 699,
        "start_time": "2023-07-08T21:01:33.933Z"
      },
      {
        "duration": 962,
        "start_time": "2023-07-08T21:02:00.666Z"
      },
      {
        "duration": 122,
        "start_time": "2023-07-08T21:03:31.753Z"
      },
      {
        "duration": 70,
        "start_time": "2023-07-09T04:49:05.183Z"
      },
      {
        "duration": 1808,
        "start_time": "2023-07-09T04:49:09.957Z"
      },
      {
        "duration": 127,
        "start_time": "2023-07-09T04:49:11.767Z"
      },
      {
        "duration": 12,
        "start_time": "2023-07-09T04:49:11.896Z"
      },
      {
        "duration": 4,
        "start_time": "2023-07-09T04:49:11.911Z"
      },
      {
        "duration": 30,
        "start_time": "2023-07-09T04:49:11.917Z"
      },
      {
        "duration": 745,
        "start_time": "2023-07-09T04:49:16.442Z"
      },
      {
        "duration": 1591,
        "start_time": "2023-07-09T04:49:55.820Z"
      },
      {
        "duration": 54,
        "start_time": "2023-07-09T04:49:57.413Z"
      },
      {
        "duration": 10,
        "start_time": "2023-07-09T04:49:57.468Z"
      },
      {
        "duration": 4,
        "start_time": "2023-07-09T04:49:57.480Z"
      },
      {
        "duration": 33,
        "start_time": "2023-07-09T04:49:57.486Z"
      },
      {
        "duration": 831,
        "start_time": "2023-07-09T04:49:57.521Z"
      },
      {
        "duration": 795,
        "start_time": "2023-07-09T04:50:08.894Z"
      },
      {
        "duration": 669,
        "start_time": "2023-07-09T04:50:44.557Z"
      },
      {
        "duration": 734,
        "start_time": "2023-07-09T04:51:18.657Z"
      },
      {
        "duration": 768,
        "start_time": "2023-07-09T04:52:10.125Z"
      },
      {
        "duration": 783,
        "start_time": "2023-07-09T04:52:23.467Z"
      },
      {
        "duration": 883,
        "start_time": "2023-07-09T04:52:36.989Z"
      },
      {
        "duration": 867,
        "start_time": "2023-07-09T04:54:05.651Z"
      },
      {
        "duration": 766,
        "start_time": "2023-07-09T04:54:23.436Z"
      },
      {
        "duration": 1247,
        "start_time": "2023-07-09T04:58:03.309Z"
      },
      {
        "duration": 960,
        "start_time": "2023-07-09T04:58:23.556Z"
      },
      {
        "duration": 800,
        "start_time": "2023-07-09T04:58:48.204Z"
      },
      {
        "duration": 921,
        "start_time": "2023-07-09T04:59:04.956Z"
      },
      {
        "duration": 778,
        "start_time": "2023-07-09T04:59:39.686Z"
      },
      {
        "duration": 1021,
        "start_time": "2023-07-09T04:59:58.134Z"
      },
      {
        "duration": 982,
        "start_time": "2023-07-09T05:01:16.739Z"
      },
      {
        "duration": 2034,
        "start_time": "2023-07-09T17:45:12.604Z"
      },
      {
        "duration": 351,
        "start_time": "2023-07-09T17:45:14.640Z"
      },
      {
        "duration": 10,
        "start_time": "2023-07-09T17:45:14.993Z"
      },
      {
        "duration": 3,
        "start_time": "2023-07-09T17:45:15.005Z"
      },
      {
        "duration": 62,
        "start_time": "2023-07-09T17:45:15.010Z"
      },
      {
        "duration": 1272,
        "start_time": "2023-07-09T17:45:16.618Z"
      },
      {
        "duration": 4,
        "start_time": "2023-07-09T17:45:51.944Z"
      },
      {
        "duration": 44,
        "start_time": "2023-07-09T17:45:52.306Z"
      },
      {
        "duration": 7,
        "start_time": "2023-07-09T17:45:52.629Z"
      },
      {
        "duration": 4,
        "start_time": "2023-07-09T17:45:53.632Z"
      },
      {
        "duration": 24,
        "start_time": "2023-07-09T17:45:54.196Z"
      },
      {
        "duration": 1000,
        "start_time": "2023-07-09T17:45:57.386Z"
      },
      {
        "duration": 6,
        "start_time": "2023-07-09T17:53:27.266Z"
      },
      {
        "duration": 5,
        "start_time": "2023-07-09T17:53:27.905Z"
      },
      {
        "duration": 5,
        "start_time": "2023-07-09T17:54:22.468Z"
      },
      {
        "duration": 6,
        "start_time": "2023-07-09T17:54:24.628Z"
      },
      {
        "duration": 5,
        "start_time": "2023-07-09T17:54:24.954Z"
      },
      {
        "duration": 5,
        "start_time": "2023-07-09T17:54:25.314Z"
      },
      {
        "duration": 244,
        "start_time": "2023-07-09T17:54:48.579Z"
      },
      {
        "duration": 6,
        "start_time": "2023-07-09T18:02:06.773Z"
      },
      {
        "duration": 5,
        "start_time": "2023-07-09T18:02:07.224Z"
      },
      {
        "duration": 5,
        "start_time": "2023-07-09T18:02:07.649Z"
      },
      {
        "duration": 132,
        "start_time": "2023-07-09T18:02:09.011Z"
      },
      {
        "duration": 6,
        "start_time": "2023-07-09T18:04:02.287Z"
      },
      {
        "duration": 5,
        "start_time": "2023-07-09T18:04:03.523Z"
      },
      {
        "duration": 5,
        "start_time": "2023-07-09T18:04:04.333Z"
      },
      {
        "duration": 130,
        "start_time": "2023-07-09T18:04:05.841Z"
      },
      {
        "duration": 6,
        "start_time": "2023-07-09T18:04:20.431Z"
      },
      {
        "duration": 910,
        "start_time": "2023-07-09T18:04:21.940Z"
      },
      {
        "duration": 4,
        "start_time": "2023-07-09T18:04:26.540Z"
      },
      {
        "duration": 7,
        "start_time": "2023-07-09T18:04:27.403Z"
      },
      {
        "duration": 7,
        "start_time": "2023-07-09T18:04:28.048Z"
      },
      {
        "duration": 144,
        "start_time": "2023-07-09T18:04:29.590Z"
      },
      {
        "duration": 1739,
        "start_time": "2023-07-09T18:04:37.095Z"
      },
      {
        "duration": 61,
        "start_time": "2023-07-09T18:04:38.836Z"
      },
      {
        "duration": 9,
        "start_time": "2023-07-09T18:04:38.899Z"
      },
      {
        "duration": 3,
        "start_time": "2023-07-09T18:04:38.909Z"
      },
      {
        "duration": 43,
        "start_time": "2023-07-09T18:04:38.914Z"
      },
      {
        "duration": 6,
        "start_time": "2023-07-09T18:04:38.958Z"
      },
      {
        "duration": 1031,
        "start_time": "2023-07-09T18:04:38.965Z"
      },
      {
        "duration": 4,
        "start_time": "2023-07-09T18:04:39.998Z"
      },
      {
        "duration": 17,
        "start_time": "2023-07-09T18:04:40.003Z"
      },
      {
        "duration": 31,
        "start_time": "2023-07-09T18:04:40.023Z"
      },
      {
        "duration": 255,
        "start_time": "2023-07-09T18:04:40.056Z"
      },
      {
        "duration": 7,
        "start_time": "2023-07-09T18:04:47.814Z"
      },
      {
        "duration": 5,
        "start_time": "2023-07-09T18:08:07.703Z"
      },
      {
        "duration": 5,
        "start_time": "2023-07-09T18:08:08.332Z"
      },
      {
        "duration": 139,
        "start_time": "2023-07-09T18:08:09.738Z"
      },
      {
        "duration": 8,
        "start_time": "2023-07-09T18:08:47.730Z"
      },
      {
        "duration": 5,
        "start_time": "2023-07-09T18:08:48.391Z"
      },
      {
        "duration": 125,
        "start_time": "2023-07-09T18:08:49.890Z"
      },
      {
        "duration": 5,
        "start_time": "2023-07-09T18:09:59.728Z"
      },
      {
        "duration": 5,
        "start_time": "2023-07-09T18:10:00.427Z"
      },
      {
        "duration": 17,
        "start_time": "2023-07-09T18:10:01.856Z"
      },
      {
        "duration": 7,
        "start_time": "2023-07-09T18:10:57.329Z"
      },
      {
        "duration": 5,
        "start_time": "2023-07-09T18:10:57.970Z"
      },
      {
        "duration": 132,
        "start_time": "2023-07-09T18:10:59.252Z"
      },
      {
        "duration": 1932,
        "start_time": "2023-07-09T18:13:34.302Z"
      },
      {
        "duration": 50,
        "start_time": "2023-07-09T18:13:36.236Z"
      },
      {
        "duration": 9,
        "start_time": "2023-07-09T18:13:36.288Z"
      },
      {
        "duration": 31,
        "start_time": "2023-07-09T18:13:36.299Z"
      },
      {
        "duration": 300,
        "start_time": "2023-07-09T18:13:36.332Z"
      },
      {
        "duration": 4,
        "start_time": "2023-07-09T18:13:36.634Z"
      },
      {
        "duration": 1123,
        "start_time": "2023-07-09T18:13:36.640Z"
      },
      {
        "duration": 5,
        "start_time": "2023-07-09T18:13:37.765Z"
      },
      {
        "duration": 15,
        "start_time": "2023-07-09T18:13:37.771Z"
      },
      {
        "duration": 11,
        "start_time": "2023-07-09T18:13:37.788Z"
      },
      {
        "duration": 254,
        "start_time": "2023-07-09T18:13:37.800Z"
      },
      {
        "duration": 23,
        "start_time": "2023-07-09T18:14:42.451Z"
      },
      {
        "duration": 7,
        "start_time": "2023-07-09T18:14:42.867Z"
      },
      {
        "duration": 3,
        "start_time": "2023-07-09T18:14:43.227Z"
      },
      {
        "duration": 968,
        "start_time": "2023-07-09T18:14:44.138Z"
      },
      {
        "duration": 6,
        "start_time": "2023-07-09T18:14:45.109Z"
      },
      {
        "duration": 5,
        "start_time": "2023-07-09T18:14:45.286Z"
      },
      {
        "duration": 4,
        "start_time": "2023-07-09T18:14:45.601Z"
      },
      {
        "duration": 300,
        "start_time": "2023-07-09T18:14:47.075Z"
      },
      {
        "duration": 7,
        "start_time": "2023-07-09T18:14:54.466Z"
      },
      {
        "duration": 5,
        "start_time": "2023-07-09T18:14:54.893Z"
      },
      {
        "duration": 4,
        "start_time": "2023-07-09T18:14:55.239Z"
      },
      {
        "duration": 133,
        "start_time": "2023-07-09T18:14:56.266Z"
      },
      {
        "duration": 4,
        "start_time": "2023-07-09T18:15:49.343Z"
      },
      {
        "duration": 45,
        "start_time": "2023-07-09T18:15:49.838Z"
      },
      {
        "duration": 3,
        "start_time": "2023-07-09T18:15:50.355Z"
      },
      {
        "duration": 29,
        "start_time": "2023-07-09T18:15:50.749Z"
      },
      {
        "duration": 5,
        "start_time": "2023-07-09T18:15:51.336Z"
      },
      {
        "duration": 2,
        "start_time": "2023-07-09T18:15:51.931Z"
      },
      {
        "duration": 8,
        "start_time": "2023-07-09T18:15:52.402Z"
      },
      {
        "duration": 866,
        "start_time": "2023-07-09T18:15:54.068Z"
      },
      {
        "duration": 7,
        "start_time": "2023-07-09T18:15:55.376Z"
      },
      {
        "duration": 5,
        "start_time": "2023-07-09T18:15:55.992Z"
      },
      {
        "duration": 5,
        "start_time": "2023-07-09T18:15:56.430Z"
      },
      {
        "duration": 124,
        "start_time": "2023-07-09T18:15:58.231Z"
      },
      {
        "duration": 4,
        "start_time": "2023-07-09T18:16:09.626Z"
      },
      {
        "duration": 44,
        "start_time": "2023-07-09T18:16:10.061Z"
      },
      {
        "duration": 4,
        "start_time": "2023-07-09T18:16:10.436Z"
      },
      {
        "duration": 30,
        "start_time": "2023-07-09T18:16:10.718Z"
      },
      {
        "duration": 5,
        "start_time": "2023-07-09T18:16:11.067Z"
      },
      {
        "duration": 4,
        "start_time": "2023-07-09T18:16:11.464Z"
      },
      {
        "duration": 9,
        "start_time": "2023-07-09T18:16:11.808Z"
      },
      {
        "duration": 999,
        "start_time": "2023-07-09T18:16:12.822Z"
      },
      {
        "duration": 4,
        "start_time": "2023-07-09T18:16:14.095Z"
      },
      {
        "duration": 6,
        "start_time": "2023-07-09T18:16:14.882Z"
      },
      {
        "duration": 5,
        "start_time": "2023-07-09T18:16:15.330Z"
      },
      {
        "duration": 140,
        "start_time": "2023-07-09T18:16:16.647Z"
      },
      {
        "duration": 15,
        "start_time": "2023-07-09T18:20:27.536Z"
      },
      {
        "duration": 132,
        "start_time": "2023-07-09T18:21:15.502Z"
      },
      {
        "duration": 126,
        "start_time": "2023-07-09T18:21:28.326Z"
      },
      {
        "duration": 2,
        "start_time": "2023-07-09T18:21:39.667Z"
      },
      {
        "duration": 126,
        "start_time": "2023-07-09T18:22:02.166Z"
      },
      {
        "duration": 5,
        "start_time": "2023-07-09T18:41:43.003Z"
      },
      {
        "duration": 6,
        "start_time": "2023-07-09T18:41:43.425Z"
      },
      {
        "duration": 6,
        "start_time": "2023-07-09T18:41:43.830Z"
      },
      {
        "duration": 150,
        "start_time": "2023-07-09T18:41:49.051Z"
      },
      {
        "duration": 11,
        "start_time": "2023-07-09T18:43:42.361Z"
      },
      {
        "duration": 8,
        "start_time": "2023-07-09T18:43:43.125Z"
      },
      {
        "duration": 5,
        "start_time": "2023-07-09T18:43:43.744Z"
      },
      {
        "duration": 5,
        "start_time": "2023-07-09T18:43:44.245Z"
      },
      {
        "duration": 69,
        "start_time": "2023-07-09T18:43:45.491Z"
      },
      {
        "duration": 5,
        "start_time": "2023-07-09T18:43:49.200Z"
      },
      {
        "duration": 37,
        "start_time": "2023-07-09T18:44:32.202Z"
      },
      {
        "duration": 142775,
        "start_time": "2023-07-09T18:45:06.979Z"
      },
      {
        "duration": 3,
        "start_time": "2023-07-09T18:47:29.757Z"
      },
      {
        "duration": 3,
        "start_time": "2023-07-09T18:55:20.500Z"
      },
      {
        "duration": 4,
        "start_time": "2023-07-09T18:57:14.137Z"
      },
      {
        "duration": 9,
        "start_time": "2023-07-09T18:57:15.846Z"
      },
      {
        "duration": 8,
        "start_time": "2023-07-09T18:57:16.634Z"
      },
      {
        "duration": 8,
        "start_time": "2023-07-09T18:57:17.691Z"
      },
      {
        "duration": 5,
        "start_time": "2023-07-09T18:57:21.663Z"
      },
      {
        "duration": 21,
        "start_time": "2023-07-09T19:00:10.041Z"
      },
      {
        "duration": 11,
        "start_time": "2023-07-09T19:00:11.132Z"
      },
      {
        "duration": 5,
        "start_time": "2023-07-09T19:00:16.847Z"
      },
      {
        "duration": 20,
        "start_time": "2023-07-09T19:00:18.243Z"
      },
      {
        "duration": 6,
        "start_time": "2023-07-09T19:00:18.648Z"
      },
      {
        "duration": 43,
        "start_time": "2023-07-09T19:01:44.946Z"
      },
      {
        "duration": 5,
        "start_time": "2023-07-09T19:01:45.656Z"
      },
      {
        "duration": 380,
        "start_time": "2023-07-09T19:07:49.637Z"
      },
      {
        "duration": 5,
        "start_time": "2023-07-09T19:07:51.111Z"
      },
      {
        "duration": 1196,
        "start_time": "2023-07-09T19:08:13.386Z"
      },
      {
        "duration": 5,
        "start_time": "2023-07-09T19:08:14.584Z"
      },
      {
        "duration": 209379,
        "start_time": "2023-07-09T19:08:32.792Z"
      },
      {
        "duration": 83,
        "start_time": "2023-07-09T19:12:02.173Z"
      },
      {
        "duration": 82,
        "start_time": "2023-07-09T19:12:02.259Z"
      },
      {
        "duration": 4,
        "start_time": "2023-07-09T19:12:02.344Z"
      },
      {
        "duration": 114,
        "start_time": "2023-07-09T19:19:43.747Z"
      },
      {
        "duration": 5,
        "start_time": "2023-07-09T19:19:44.191Z"
      },
      {
        "duration": 5,
        "start_time": "2023-07-09T19:19:49.186Z"
      },
      {
        "duration": 6,
        "start_time": "2023-07-09T19:20:02.056Z"
      },
      {
        "duration": 114,
        "start_time": "2023-07-09T19:31:02.722Z"
      },
      {
        "duration": 11,
        "start_time": "2023-07-09T19:32:46.245Z"
      },
      {
        "duration": 35,
        "start_time": "2023-07-09T19:35:29.932Z"
      },
      {
        "duration": 32,
        "start_time": "2023-07-09T19:36:05.460Z"
      },
      {
        "duration": 3,
        "start_time": "2023-07-09T19:36:14.348Z"
      },
      {
        "duration": 45,
        "start_time": "2023-07-09T19:36:14.875Z"
      },
      {
        "duration": 4,
        "start_time": "2023-07-09T19:36:15.325Z"
      },
      {
        "duration": 28,
        "start_time": "2023-07-09T19:36:15.996Z"
      },
      {
        "duration": 6,
        "start_time": "2023-07-09T19:36:16.844Z"
      },
      {
        "duration": 3,
        "start_time": "2023-07-09T19:36:17.610Z"
      },
      {
        "duration": 9,
        "start_time": "2023-07-09T19:36:18.138Z"
      },
      {
        "duration": 943,
        "start_time": "2023-07-09T19:36:19.579Z"
      },
      {
        "duration": 5,
        "start_time": "2023-07-09T19:36:29.950Z"
      },
      {
        "duration": 12,
        "start_time": "2023-07-09T19:36:30.369Z"
      },
      {
        "duration": 11,
        "start_time": "2023-07-09T19:36:30.784Z"
      },
      {
        "duration": 6,
        "start_time": "2023-07-09T19:36:31.188Z"
      },
      {
        "duration": 5,
        "start_time": "2023-07-09T19:36:31.470Z"
      },
      {
        "duration": 2549,
        "start_time": "2023-07-10T06:10:25.029Z"
      },
      {
        "duration": 273,
        "start_time": "2023-07-10T06:10:27.581Z"
      },
      {
        "duration": 4,
        "start_time": "2023-07-10T06:10:27.855Z"
      },
      {
        "duration": 29,
        "start_time": "2023-07-10T06:10:27.860Z"
      },
      {
        "duration": 5,
        "start_time": "2023-07-10T06:10:27.891Z"
      },
      {
        "duration": 7,
        "start_time": "2023-07-10T06:10:27.898Z"
      },
      {
        "duration": 10,
        "start_time": "2023-07-10T06:10:27.906Z"
      },
      {
        "duration": 957,
        "start_time": "2023-07-10T06:10:27.918Z"
      },
      {
        "duration": 3,
        "start_time": "2023-07-10T06:10:28.877Z"
      },
      {
        "duration": 122,
        "start_time": "2023-07-10T06:10:28.882Z"
      },
      {
        "duration": 0,
        "start_time": "2023-07-10T06:10:29.006Z"
      },
      {
        "duration": 386,
        "start_time": "2023-07-10T06:16:56.984Z"
      },
      {
        "duration": 6,
        "start_time": "2023-07-10T06:17:23.911Z"
      },
      {
        "duration": 75,
        "start_time": "2023-07-10T06:36:18.490Z"
      },
      {
        "duration": 2177,
        "start_time": "2023-07-10T06:36:29.297Z"
      },
      {
        "duration": 149,
        "start_time": "2023-07-10T06:36:31.476Z"
      },
      {
        "duration": 4,
        "start_time": "2023-07-10T06:36:31.628Z"
      },
      {
        "duration": 242,
        "start_time": "2023-07-10T06:36:31.635Z"
      },
      {
        "duration": 6,
        "start_time": "2023-07-10T06:36:31.880Z"
      },
      {
        "duration": 7,
        "start_time": "2023-07-10T06:36:44.246Z"
      },
      {
        "duration": 4,
        "start_time": "2023-07-10T06:36:55.338Z"
      },
      {
        "duration": 4,
        "start_time": "2023-07-10T06:36:56.031Z"
      },
      {
        "duration": 11,
        "start_time": "2023-07-10T06:36:56.440Z"
      },
      {
        "duration": 4,
        "start_time": "2023-07-10T06:39:42.164Z"
      },
      {
        "duration": 11,
        "start_time": "2023-07-10T06:39:43.076Z"
      },
      {
        "duration": 158,
        "start_time": "2023-07-10T06:51:29.405Z"
      },
      {
        "duration": 56,
        "start_time": "2023-07-10T06:51:45.526Z"
      },
      {
        "duration": 5,
        "start_time": "2023-07-10T06:51:46.087Z"
      },
      {
        "duration": 42,
        "start_time": "2023-07-10T06:51:46.275Z"
      },
      {
        "duration": 6,
        "start_time": "2023-07-10T06:51:46.636Z"
      },
      {
        "duration": 3,
        "start_time": "2023-07-10T06:51:47.032Z"
      },
      {
        "duration": 4,
        "start_time": "2023-07-10T06:51:47.391Z"
      },
      {
        "duration": 16,
        "start_time": "2023-07-10T06:51:47.626Z"
      },
      {
        "duration": 1139,
        "start_time": "2023-07-10T06:51:49.091Z"
      },
      {
        "duration": 5,
        "start_time": "2023-07-10T06:52:04.559Z"
      },
      {
        "duration": 51,
        "start_time": "2023-07-10T06:52:04.742Z"
      },
      {
        "duration": 4,
        "start_time": "2023-07-10T06:52:05.081Z"
      },
      {
        "duration": 30,
        "start_time": "2023-07-10T06:52:05.245Z"
      },
      {
        "duration": 6,
        "start_time": "2023-07-10T06:52:05.397Z"
      },
      {
        "duration": 3,
        "start_time": "2023-07-10T06:52:05.549Z"
      },
      {
        "duration": 4,
        "start_time": "2023-07-10T06:52:05.878Z"
      },
      {
        "duration": 12,
        "start_time": "2023-07-10T06:52:06.068Z"
      },
      {
        "duration": 987,
        "start_time": "2023-07-10T06:52:07.002Z"
      },
      {
        "duration": 879,
        "start_time": "2023-07-10T06:54:44.487Z"
      },
      {
        "duration": 1095,
        "start_time": "2023-07-10T06:55:05.845Z"
      },
      {
        "duration": 953,
        "start_time": "2023-07-10T06:56:02.286Z"
      },
      {
        "duration": 795,
        "start_time": "2023-07-10T06:56:36.404Z"
      },
      {
        "duration": 1244,
        "start_time": "2023-07-10T06:58:32.436Z"
      },
      {
        "duration": 2487,
        "start_time": "2023-07-10T07:01:04.995Z"
      },
      {
        "duration": 49,
        "start_time": "2023-07-17T13:18:31.551Z"
      },
      {
        "duration": 1787,
        "start_time": "2023-07-17T13:18:39.361Z"
      },
      {
        "duration": 115,
        "start_time": "2023-07-17T13:18:41.151Z"
      },
      {
        "duration": 3,
        "start_time": "2023-07-17T13:18:41.668Z"
      },
      {
        "duration": 31,
        "start_time": "2023-07-17T13:18:42.062Z"
      },
      {
        "duration": 5,
        "start_time": "2023-07-17T13:18:42.377Z"
      },
      {
        "duration": 3,
        "start_time": "2023-07-17T13:18:42.680Z"
      },
      {
        "duration": 3,
        "start_time": "2023-07-17T13:18:44.086Z"
      },
      {
        "duration": 12,
        "start_time": "2023-07-17T13:18:44.509Z"
      },
      {
        "duration": 83,
        "start_time": "2023-07-17T13:19:59.316Z"
      },
      {
        "duration": 8,
        "start_time": "2023-07-17T13:20:07.777Z"
      },
      {
        "duration": 1020,
        "start_time": "2023-07-17T13:20:11.860Z"
      },
      {
        "duration": 17,
        "start_time": "2023-07-17T13:20:16.281Z"
      },
      {
        "duration": 11,
        "start_time": "2023-07-17T13:21:54.495Z"
      },
      {
        "duration": 10,
        "start_time": "2023-07-17T13:22:00.154Z"
      },
      {
        "duration": 13,
        "start_time": "2023-07-17T13:22:34.670Z"
      },
      {
        "duration": 8,
        "start_time": "2023-07-17T13:24:14.807Z"
      },
      {
        "duration": 8,
        "start_time": "2023-07-17T13:24:29.143Z"
      },
      {
        "duration": 167,
        "start_time": "2023-07-17T13:24:37.741Z"
      },
      {
        "duration": 232,
        "start_time": "2023-07-17T13:25:29.958Z"
      },
      {
        "duration": 201,
        "start_time": "2023-07-17T13:31:55.043Z"
      },
      {
        "duration": 263,
        "start_time": "2023-07-17T13:32:34.673Z"
      },
      {
        "duration": 211,
        "start_time": "2023-07-17T13:33:09.614Z"
      },
      {
        "duration": 232,
        "start_time": "2023-07-17T13:33:30.157Z"
      },
      {
        "duration": 215,
        "start_time": "2023-07-17T13:37:50.362Z"
      },
      {
        "duration": 267,
        "start_time": "2023-07-17T13:38:02.241Z"
      },
      {
        "duration": 264,
        "start_time": "2023-07-17T13:41:40.775Z"
      },
      {
        "duration": 224,
        "start_time": "2023-07-17T13:51:58.945Z"
      },
      {
        "duration": 5,
        "start_time": "2023-07-17T13:55:01.660Z"
      },
      {
        "duration": 3,
        "start_time": "2023-07-17T14:24:48.120Z"
      },
      {
        "duration": 9,
        "start_time": "2023-07-17T14:24:49.177Z"
      },
      {
        "duration": 118,
        "start_time": "2023-07-17T14:32:14.044Z"
      },
      {
        "duration": 44,
        "start_time": "2023-07-17T14:32:49.272Z"
      },
      {
        "duration": 6,
        "start_time": "2023-07-17T14:33:00.210Z"
      },
      {
        "duration": 5,
        "start_time": "2023-07-17T14:33:00.552Z"
      },
      {
        "duration": 5,
        "start_time": "2023-07-17T14:33:01.493Z"
      },
      {
        "duration": 118,
        "start_time": "2023-07-17T14:33:02.574Z"
      },
      {
        "duration": 12,
        "start_time": "2023-07-17T14:37:38.960Z"
      },
      {
        "duration": 4,
        "start_time": "2023-07-17T14:38:19.560Z"
      },
      {
        "duration": 171,
        "start_time": "2023-07-17T14:38:27.248Z"
      },
      {
        "duration": 148,
        "start_time": "2023-07-17T14:41:18.144Z"
      },
      {
        "duration": 194,
        "start_time": "2023-07-17T14:42:10.344Z"
      },
      {
        "duration": 227,
        "start_time": "2023-07-17T14:42:26.897Z"
      },
      {
        "duration": 119,
        "start_time": "2023-07-17T14:42:41.606Z"
      },
      {
        "duration": 10,
        "start_time": "2023-07-17T14:44:58.044Z"
      },
      {
        "duration": 348,
        "start_time": "2023-07-17T14:45:06.148Z"
      },
      {
        "duration": 4,
        "start_time": "2023-07-17T14:45:35.718Z"
      },
      {
        "duration": 14,
        "start_time": "2023-07-17T14:45:36.162Z"
      },
      {
        "duration": 340,
        "start_time": "2023-07-17T14:45:36.904Z"
      },
      {
        "duration": 9,
        "start_time": "2023-07-17T14:45:37.275Z"
      },
      {
        "duration": 6,
        "start_time": "2023-07-17T14:45:37.944Z"
      },
      {
        "duration": 5,
        "start_time": "2023-07-17T14:45:38.860Z"
      },
      {
        "duration": 104,
        "start_time": "2023-07-17T14:45:40.504Z"
      },
      {
        "duration": 426,
        "start_time": "2023-07-17T14:45:55.451Z"
      },
      {
        "duration": 11,
        "start_time": "2023-07-17T15:14:13.197Z"
      },
      {
        "duration": 226,
        "start_time": "2023-07-17T15:14:41.650Z"
      },
      {
        "duration": 4,
        "start_time": "2023-07-17T15:14:46.854Z"
      },
      {
        "duration": 10,
        "start_time": "2023-07-17T15:24:03.198Z"
      },
      {
        "duration": 11,
        "start_time": "2023-07-17T15:24:47.350Z"
      },
      {
        "duration": 11,
        "start_time": "2023-07-17T15:24:49.746Z"
      },
      {
        "duration": 4,
        "start_time": "2023-07-17T15:24:54.881Z"
      },
      {
        "duration": 129,
        "start_time": "2023-07-17T15:25:04.750Z"
      },
      {
        "duration": 10,
        "start_time": "2023-07-17T15:25:54.620Z"
      },
      {
        "duration": 10,
        "start_time": "2023-07-17T15:30:04.749Z"
      },
      {
        "duration": 11,
        "start_time": "2023-07-17T15:30:38.045Z"
      },
      {
        "duration": 1405,
        "start_time": "2023-07-17T15:32:10.990Z"
      },
      {
        "duration": 37,
        "start_time": "2023-07-17T15:32:14.579Z"
      },
      {
        "duration": 3,
        "start_time": "2023-07-17T15:36:04.783Z"
      },
      {
        "duration": 3,
        "start_time": "2023-07-17T15:36:09.373Z"
      },
      {
        "duration": 11,
        "start_time": "2023-07-17T15:41:54.643Z"
      },
      {
        "duration": 14,
        "start_time": "2023-07-17T15:42:28.408Z"
      },
      {
        "duration": 11,
        "start_time": "2023-07-17T15:43:01.077Z"
      },
      {
        "duration": 111,
        "start_time": "2023-07-17T15:43:07.905Z"
      },
      {
        "duration": 123,
        "start_time": "2023-07-17T15:43:10.773Z"
      },
      {
        "duration": 108,
        "start_time": "2023-07-17T15:44:22.655Z"
      },
      {
        "duration": 5,
        "start_time": "2023-07-17T15:44:27.274Z"
      },
      {
        "duration": 21,
        "start_time": "2023-07-18T07:16:59.413Z"
      },
      {
        "duration": 438,
        "start_time": "2023-07-18T07:17:02.080Z"
      },
      {
        "duration": 12,
        "start_time": "2023-07-18T07:17:22.026Z"
      },
      {
        "duration": 7,
        "start_time": "2023-07-18T07:17:22.453Z"
      },
      {
        "duration": 5,
        "start_time": "2023-07-18T07:17:23.352Z"
      },
      {
        "duration": 485,
        "start_time": "2023-07-18T07:17:25.592Z"
      },
      {
        "duration": 5,
        "start_time": "2023-07-18T07:17:27.908Z"
      },
      {
        "duration": 2392,
        "start_time": "2023-07-18T07:17:32.522Z"
      },
      {
        "duration": 70,
        "start_time": "2023-07-18T07:17:34.916Z"
      },
      {
        "duration": 4,
        "start_time": "2023-07-18T07:17:34.987Z"
      },
      {
        "duration": 161,
        "start_time": "2023-07-18T07:17:38.788Z"
      },
      {
        "duration": 6,
        "start_time": "2023-07-18T07:17:42.185Z"
      },
      {
        "duration": 929840,
        "start_time": "2023-07-18T08:20:17.365Z"
      },
      {
        "duration": 0,
        "start_time": "2023-07-18T08:35:47.207Z"
      },
      {
        "duration": 0,
        "start_time": "2023-07-18T08:35:47.276Z"
      },
      {
        "duration": 0,
        "start_time": "2023-07-18T08:35:47.278Z"
      },
      {
        "duration": 4,
        "start_time": "2023-07-18T08:37:33.380Z"
      },
      {
        "duration": 41,
        "start_time": "2023-07-18T08:37:34.101Z"
      },
      {
        "duration": 4,
        "start_time": "2023-07-18T08:37:35.001Z"
      },
      {
        "duration": 26,
        "start_time": "2023-07-18T08:37:35.538Z"
      },
      {
        "duration": 5,
        "start_time": "2023-07-18T08:37:36.013Z"
      },
      {
        "duration": 4,
        "start_time": "2023-07-18T08:37:36.463Z"
      },
      {
        "duration": 3,
        "start_time": "2023-07-18T08:37:37.036Z"
      },
      {
        "duration": 9,
        "start_time": "2023-07-18T08:37:37.636Z"
      },
      {
        "duration": 788,
        "start_time": "2023-07-18T08:37:39.918Z"
      },
      {
        "duration": 7,
        "start_time": "2023-07-18T08:37:40.708Z"
      },
      {
        "duration": 238,
        "start_time": "2023-07-18T08:37:41.125Z"
      },
      {
        "duration": 212,
        "start_time": "2023-07-18T08:37:42.329Z"
      },
      {
        "duration": 4,
        "start_time": "2023-07-18T08:37:44.709Z"
      },
      {
        "duration": 12,
        "start_time": "2023-07-18T08:37:45.710Z"
      },
      {
        "duration": 310,
        "start_time": "2023-07-18T08:37:48.501Z"
      },
      {
        "duration": 8,
        "start_time": "2023-07-18T08:37:49.073Z"
      },
      {
        "duration": 5,
        "start_time": "2023-07-18T08:37:49.884Z"
      },
      {
        "duration": 5,
        "start_time": "2023-07-18T08:37:50.936Z"
      },
      {
        "duration": 362,
        "start_time": "2023-07-18T08:37:52.820Z"
      },
      {
        "duration": 5,
        "start_time": "2023-07-18T08:37:54.762Z"
      },
      {
        "duration": 703,
        "start_time": "2023-07-18T08:37:56.196Z"
      },
      {
        "duration": 34,
        "start_time": "2023-07-18T08:37:57.613Z"
      },
      {
        "duration": 4,
        "start_time": "2023-07-18T08:37:58.339Z"
      },
      {
        "duration": 90,
        "start_time": "2023-07-18T08:37:59.356Z"
      },
      {
        "duration": 6,
        "start_time": "2023-07-18T08:38:00.447Z"
      },
      {
        "duration": 86,
        "start_time": "2023-07-18T08:40:09.364Z"
      },
      {
        "duration": 4,
        "start_time": "2023-07-18T08:40:10.500Z"
      },
      {
        "duration": 692572,
        "start_time": "2023-07-18T08:40:12.615Z"
      },
      {
        "duration": 5,
        "start_time": "2023-07-18T09:07:35.953Z"
      },
      {
        "duration": 1212,
        "start_time": "2023-07-18T09:07:37.247Z"
      },
      {
        "duration": 67024,
        "start_time": "2023-07-18T09:07:39.721Z"
      },
      {
        "duration": 5,
        "start_time": "2023-07-18T09:08:46.747Z"
      },
      {
        "duration": 36152,
        "start_time": "2023-07-18T09:10:51.739Z"
      },
      {
        "duration": 6,
        "start_time": "2023-07-18T09:11:27.893Z"
      },
      {
        "duration": 23,
        "start_time": "2023-07-18T09:11:27.900Z"
      },
      {
        "duration": 7,
        "start_time": "2023-07-18T09:11:49.790Z"
      },
      {
        "duration": 4,
        "start_time": "2023-07-18T09:13:28.262Z"
      },
      {
        "duration": 4,
        "start_time": "2023-07-18T09:13:32.165Z"
      },
      {
        "duration": 5,
        "start_time": "2023-07-18T09:13:35.158Z"
      },
      {
        "duration": 5,
        "start_time": "2023-07-18T09:13:38.207Z"
      },
      {
        "duration": 5,
        "start_time": "2023-07-18T09:13:41.235Z"
      },
      {
        "duration": 7,
        "start_time": "2023-07-18T09:13:43.720Z"
      },
      {
        "duration": 6,
        "start_time": "2023-07-18T09:23:48.851Z"
      },
      {
        "duration": 5,
        "start_time": "2023-07-18T09:23:55.972Z"
      },
      {
        "duration": 5,
        "start_time": "2023-07-18T09:23:59.428Z"
      },
      {
        "duration": 5,
        "start_time": "2023-07-18T09:24:02.486Z"
      },
      {
        "duration": 4,
        "start_time": "2023-07-18T09:24:05.107Z"
      },
      {
        "duration": 9,
        "start_time": "2023-07-18T09:24:07.470Z"
      },
      {
        "duration": 8,
        "start_time": "2023-07-18T09:24:18.596Z"
      },
      {
        "duration": 8,
        "start_time": "2023-07-18T09:24:22.338Z"
      },
      {
        "duration": 9,
        "start_time": "2023-07-18T09:30:18.184Z"
      },
      {
        "duration": 8,
        "start_time": "2023-07-18T09:30:20.253Z"
      },
      {
        "duration": 4,
        "start_time": "2023-07-18T09:38:31.230Z"
      },
      {
        "duration": 8,
        "start_time": "2023-07-18T09:38:34.089Z"
      },
      {
        "duration": 5,
        "start_time": "2023-07-18T09:39:05.737Z"
      },
      {
        "duration": 6,
        "start_time": "2023-07-18T09:39:11.079Z"
      },
      {
        "duration": 4,
        "start_time": "2023-07-18T09:42:28.913Z"
      },
      {
        "duration": 4,
        "start_time": "2023-07-18T09:42:33.539Z"
      },
      {
        "duration": 5,
        "start_time": "2023-07-18T09:42:36.562Z"
      },
      {
        "duration": 4,
        "start_time": "2023-07-18T09:42:39.273Z"
      },
      {
        "duration": 4,
        "start_time": "2023-07-18T09:42:41.737Z"
      },
      {
        "duration": 5,
        "start_time": "2023-07-18T09:42:44.888Z"
      },
      {
        "duration": 6,
        "start_time": "2023-07-18T09:52:19.094Z"
      },
      {
        "duration": 9,
        "start_time": "2023-07-18T09:52:43.473Z"
      },
      {
        "duration": 6,
        "start_time": "2023-07-18T09:53:03.420Z"
      },
      {
        "duration": 18,
        "start_time": "2023-07-18T09:53:44.990Z"
      },
      {
        "duration": 231,
        "start_time": "2023-07-18T10:01:53.750Z"
      },
      {
        "duration": 6,
        "start_time": "2023-07-18T10:02:21.435Z"
      },
      {
        "duration": 13,
        "start_time": "2023-07-18T10:12:39.946Z"
      },
      {
        "duration": 12,
        "start_time": "2023-07-18T10:13:32.658Z"
      },
      {
        "duration": 7,
        "start_time": "2023-07-18T10:14:18.057Z"
      },
      {
        "duration": 5,
        "start_time": "2023-07-18T10:20:06.856Z"
      },
      {
        "duration": 6,
        "start_time": "2023-07-18T10:20:14.046Z"
      },
      {
        "duration": 7,
        "start_time": "2023-07-18T10:20:32.078Z"
      },
      {
        "duration": 6,
        "start_time": "2023-07-18T10:21:00.968Z"
      },
      {
        "duration": 442,
        "start_time": "2023-07-18T11:45:03.850Z"
      },
      {
        "duration": 42,
        "start_time": "2023-07-18T11:52:07.389Z"
      },
      {
        "duration": 1943,
        "start_time": "2023-07-18T11:52:18.180Z"
      },
      {
        "duration": 113,
        "start_time": "2023-07-18T11:52:20.125Z"
      },
      {
        "duration": 4,
        "start_time": "2023-07-18T11:52:20.240Z"
      },
      {
        "duration": 31,
        "start_time": "2023-07-18T11:52:20.245Z"
      },
      {
        "duration": 4,
        "start_time": "2023-07-18T11:52:20.279Z"
      },
      {
        "duration": 6,
        "start_time": "2023-07-18T11:52:20.284Z"
      },
      {
        "duration": 24,
        "start_time": "2023-07-18T11:52:20.291Z"
      },
      {
        "duration": 13,
        "start_time": "2023-07-18T11:52:20.316Z"
      },
      {
        "duration": 924,
        "start_time": "2023-07-18T11:52:20.330Z"
      },
      {
        "duration": 5,
        "start_time": "2023-07-18T11:52:21.256Z"
      },
      {
        "duration": 332,
        "start_time": "2023-07-18T11:52:21.263Z"
      },
      {
        "duration": 224,
        "start_time": "2023-07-18T11:52:21.599Z"
      },
      {
        "duration": 4,
        "start_time": "2023-07-18T11:52:21.824Z"
      },
      {
        "duration": 45,
        "start_time": "2023-07-18T11:52:21.830Z"
      },
      {
        "duration": 295,
        "start_time": "2023-07-18T11:52:21.877Z"
      },
      {
        "duration": 7,
        "start_time": "2023-07-18T11:52:22.174Z"
      },
      {
        "duration": 30,
        "start_time": "2023-07-18T11:52:22.182Z"
      },
      {
        "duration": 43,
        "start_time": "2023-07-18T11:52:22.214Z"
      },
      {
        "duration": 935,
        "start_time": "2023-07-18T11:52:22.258Z"
      },
      {
        "duration": 4,
        "start_time": "2023-07-18T11:52:23.194Z"
      },
      {
        "duration": 1132,
        "start_time": "2023-07-18T11:52:23.200Z"
      },
      {
        "duration": 34,
        "start_time": "2023-07-18T11:52:24.334Z"
      },
      {
        "duration": 3,
        "start_time": "2023-07-18T11:52:24.369Z"
      },
      {
        "duration": 123,
        "start_time": "2023-07-18T11:52:24.373Z"
      },
      {
        "duration": 0,
        "start_time": "2023-07-18T11:52:24.497Z"
      },
      {
        "duration": 0,
        "start_time": "2023-07-18T11:52:24.498Z"
      },
      {
        "duration": 0,
        "start_time": "2023-07-18T11:52:24.498Z"
      },
      {
        "duration": 0,
        "start_time": "2023-07-18T11:52:24.500Z"
      },
      {
        "duration": 0,
        "start_time": "2023-07-18T11:52:24.500Z"
      },
      {
        "duration": 0,
        "start_time": "2023-07-18T11:52:24.501Z"
      },
      {
        "duration": 0,
        "start_time": "2023-07-18T11:52:24.502Z"
      },
      {
        "duration": 0,
        "start_time": "2023-07-18T11:52:24.503Z"
      },
      {
        "duration": 0,
        "start_time": "2023-07-18T11:52:24.505Z"
      },
      {
        "duration": 0,
        "start_time": "2023-07-18T11:52:24.506Z"
      },
      {
        "duration": 4,
        "start_time": "2023-07-18T11:54:34.448Z"
      },
      {
        "duration": 45,
        "start_time": "2023-07-18T11:54:34.640Z"
      },
      {
        "duration": 3,
        "start_time": "2023-07-18T11:54:35.046Z"
      },
      {
        "duration": 22,
        "start_time": "2023-07-18T11:54:35.258Z"
      },
      {
        "duration": 4,
        "start_time": "2023-07-18T11:54:35.472Z"
      },
      {
        "duration": 2,
        "start_time": "2023-07-18T11:54:35.685Z"
      },
      {
        "duration": 5,
        "start_time": "2023-07-18T11:54:36.169Z"
      },
      {
        "duration": 8,
        "start_time": "2023-07-18T11:54:36.349Z"
      },
      {
        "duration": 850,
        "start_time": "2023-07-18T11:54:37.361Z"
      },
      {
        "duration": 6,
        "start_time": "2023-07-18T11:54:38.213Z"
      },
      {
        "duration": 242,
        "start_time": "2023-07-18T11:54:38.220Z"
      },
      {
        "duration": 217,
        "start_time": "2023-07-18T11:54:38.464Z"
      },
      {
        "duration": 3,
        "start_time": "2023-07-18T11:54:39.657Z"
      },
      {
        "duration": 18,
        "start_time": "2023-07-18T11:54:40.883Z"
      },
      {
        "duration": 291,
        "start_time": "2023-07-18T11:54:43.817Z"
      },
      {
        "duration": 8,
        "start_time": "2023-07-18T11:54:44.109Z"
      },
      {
        "duration": 17,
        "start_time": "2023-07-18T11:54:44.118Z"
      },
      {
        "duration": 22,
        "start_time": "2023-07-18T11:54:44.136Z"
      },
      {
        "duration": 511,
        "start_time": "2023-07-18T11:54:44.393Z"
      },
      {
        "duration": 327,
        "start_time": "2023-07-18T11:55:03.779Z"
      },
      {
        "duration": 4,
        "start_time": "2023-07-18T11:55:06.591Z"
      },
      {
        "duration": 1076,
        "start_time": "2023-07-18T11:55:08.278Z"
      },
      {
        "duration": 34,
        "start_time": "2023-07-18T11:55:09.356Z"
      },
      {
        "duration": 4,
        "start_time": "2023-07-18T11:55:10.303Z"
      },
      {
        "duration": 101,
        "start_time": "2023-07-18T11:55:11.203Z"
      },
      {
        "duration": 98,
        "start_time": "2023-07-18T11:55:19.754Z"
      },
      {
        "duration": 4,
        "start_time": "2023-07-18T11:55:21.554Z"
      },
      {
        "duration": 660230,
        "start_time": "2023-07-18T11:55:24.077Z"
      },
      {
        "duration": 0,
        "start_time": "2023-07-18T12:06:24.309Z"
      },
      {
        "duration": 2517,
        "start_time": "2023-07-18T12:48:48.388Z"
      },
      {
        "duration": 46,
        "start_time": "2023-07-18T12:48:51.820Z"
      },
      {
        "duration": 3,
        "start_time": "2023-07-18T12:48:53.135Z"
      },
      {
        "duration": 30,
        "start_time": "2023-07-18T12:48:53.811Z"
      },
      {
        "duration": 5,
        "start_time": "2023-07-18T12:48:54.508Z"
      },
      {
        "duration": 2,
        "start_time": "2023-07-18T12:48:54.923Z"
      },
      {
        "duration": 4,
        "start_time": "2023-07-18T12:48:55.700Z"
      },
      {
        "duration": 11,
        "start_time": "2023-07-18T12:48:56.168Z"
      },
      {
        "duration": 968,
        "start_time": "2023-07-18T12:48:57.806Z"
      },
      {
        "duration": 5,
        "start_time": "2023-07-18T12:48:58.776Z"
      },
      {
        "duration": 329,
        "start_time": "2023-07-18T12:48:58.783Z"
      },
      {
        "duration": 226,
        "start_time": "2023-07-18T12:48:59.114Z"
      },
      {
        "duration": 4,
        "start_time": "2023-07-18T12:49:01.472Z"
      },
      {
        "duration": 19,
        "start_time": "2023-07-18T12:49:01.888Z"
      },
      {
        "duration": 297,
        "start_time": "2023-07-18T12:49:02.788Z"
      },
      {
        "duration": 9,
        "start_time": "2023-07-18T12:49:03.509Z"
      },
      {
        "duration": 6,
        "start_time": "2023-07-18T12:49:03.924Z"
      },
      {
        "duration": 5,
        "start_time": "2023-07-18T12:49:04.396Z"
      },
      {
        "duration": 508,
        "start_time": "2023-07-18T12:49:05.208Z"
      },
      {
        "duration": 4,
        "start_time": "2023-07-18T12:49:05.870Z"
      },
      {
        "duration": 1191,
        "start_time": "2023-07-18T12:49:06.838Z"
      },
      {
        "duration": 37,
        "start_time": "2023-07-18T12:49:08.323Z"
      },
      {
        "duration": 3,
        "start_time": "2023-07-18T12:49:08.760Z"
      },
      {
        "duration": 103,
        "start_time": "2023-07-18T12:49:09.168Z"
      },
      {
        "duration": 4,
        "start_time": "2023-07-18T12:49:10.365Z"
      },
      {
        "duration": 0,
        "start_time": "2023-07-18T13:02:16.083Z"
      },
      {
        "duration": 0,
        "start_time": "2023-07-18T13:02:16.084Z"
      },
      {
        "duration": 98984,
        "start_time": "2023-07-18T13:02:28.768Z"
      },
      {
        "duration": 3,
        "start_time": "2023-07-18T13:07:52.571Z"
      },
      {
        "duration": 85216,
        "start_time": "2023-07-18T13:07:54.776Z"
      },
      {
        "duration": 17,
        "start_time": "2023-07-18T13:18:41.996Z"
      },
      {
        "duration": 6,
        "start_time": "2023-07-18T13:18:43.831Z"
      },
      {
        "duration": 6,
        "start_time": "2023-07-18T13:20:09.455Z"
      },
      {
        "duration": 5,
        "start_time": "2023-07-18T13:20:10.367Z"
      },
      {
        "duration": 5,
        "start_time": "2023-07-18T13:20:48.023Z"
      },
      {
        "duration": 8,
        "start_time": "2023-10-19T19:08:12.576Z"
      },
      {
        "duration": 41,
        "start_time": "2023-10-19T19:08:13.590Z"
      },
      {
        "duration": 5,
        "start_time": "2023-10-19T19:08:18.427Z"
      },
      {
        "duration": 1724,
        "start_time": "2023-10-19T19:08:23.040Z"
      },
      {
        "duration": 128,
        "start_time": "2023-10-19T19:08:26.976Z"
      },
      {
        "duration": 3,
        "start_time": "2023-10-19T19:08:29.880Z"
      },
      {
        "duration": 30,
        "start_time": "2023-10-19T19:08:31.613Z"
      },
      {
        "duration": 5,
        "start_time": "2023-10-19T19:08:34.601Z"
      },
      {
        "duration": 2,
        "start_time": "2023-10-19T19:08:37.139Z"
      },
      {
        "duration": 13,
        "start_time": "2023-10-19T19:08:38.901Z"
      }
    ],
    "kernelspec": {
      "display_name": "Python 3 (ipykernel)",
      "language": "python",
      "name": "python3"
    },
    "language_info": {
      "codemirror_mode": {
        "name": "ipython",
        "version": 3
      },
      "file_extension": ".py",
      "mimetype": "text/x-python",
      "name": "python",
      "nbconvert_exporter": "python",
      "pygments_lexer": "ipython3",
      "version": "3.9.5"
    },
    "toc": {
      "base_numbering": 1,
      "nav_menu": {},
      "number_sections": true,
      "sideBar": true,
      "skip_h1_title": true,
      "title_cell": "Содержание",
      "title_sidebar": "Contents",
      "toc_cell": true,
      "toc_position": {},
      "toc_section_display": true,
      "toc_window_display": false
    },
    "colab": {
      "provenance": []
    }
  },
  "nbformat": 4,
  "nbformat_minor": 0
}