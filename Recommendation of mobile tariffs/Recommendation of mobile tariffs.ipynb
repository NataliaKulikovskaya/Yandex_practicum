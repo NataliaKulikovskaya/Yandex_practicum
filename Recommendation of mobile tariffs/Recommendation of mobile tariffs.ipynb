{
  "cells": [
    {
      "cell_type": "markdown",
      "metadata": {
        "id": "_K-WL572Ogo3"
      },
      "source": [
        "# Рекомендация тарифов мобильной связи"
      ]
    },
    {
      "cell_type": "markdown",
      "metadata": {
        "id": "b7DUxRxhOgo4"
      },
      "source": [
        "Оператор мобильной связи «Мегалайн» выяснил: многие клиенты пользуются архивными тарифами. Они хотят построить систему, способную проанализировать поведение клиентов и предложить пользователям новый тариф: «Смарт» или «Ультра». Предоставлены данные о поведении клиентов, которые уже перешли на эти тарифы.\n",
        "\n",
        "Необходимо построить модель с максимально большим значением accuracy (доля правильных ответов по крайней мере до 0.75)."
      ]
    },
    {
      "cell_type": "markdown",
      "metadata": {
        "id": "HMllevS4Ogo4"
      },
      "source": [
        "* **сalls** — количество звонков,\n",
        "* **minutes** — суммарная длительность звонков в минутах,\n",
        "* **messages** — количество sms-сообщений,\n",
        "* **mb_used** — израсходованный интернет-трафик в Мб,\n",
        "* **is_ultra** — каким тарифом пользовался в течение месяца («Ультра» — 1, «Смарт» — 0)."
      ]
    },
    {
      "cell_type": "markdown",
      "metadata": {
        "id": "umR5UY04Ogo5"
      },
      "source": [
        "## Откроем и изучим файл"
      ]
    },
    {
      "cell_type": "code",
      "execution_count": 1,
      "metadata": {
        "id": "k_GlAm6LOgo6"
      },
      "outputs": [],
      "source": [
        "# Подключаем библиотеки\n",
        "import pandas as pd\n",
        "from sklearn.model_selection import train_test_split\n",
        "from sklearn.tree import DecisionTreeClassifier, plot_tree\n",
        "from sklearn.ensemble import RandomForestClassifier\n",
        "from sklearn.linear_model import LogisticRegression\n",
        "from sklearn.metrics import accuracy_score, precision_score, recall_score,f1_score\n",
        "from tqdm import tqdm\n",
        "from sklearn.dummy import DummyClassifier"
      ]
    },
    {
      "cell_type": "code",
      "execution_count": null,
      "metadata": {
        "id": "fyqtpFqoOgo7"
      },
      "outputs": [],
      "source": [
        "# Открываем файл\n",
        "df = pd.read_csv('/datasets/users_behavior.csv')"
      ]
    },
    {
      "cell_type": "code",
      "source": [
        "df = pd.read_csv('https://code.s3.yandex.net/datasets/users_behavior.csv')"
      ],
      "metadata": {
        "id": "I8aCdSgZQnaw"
      },
      "execution_count": 3,
      "outputs": []
    },
    {
      "cell_type": "code",
      "execution_count": 4,
      "metadata": {
        "colab": {
          "base_uri": "https://localhost:8080/",
          "height": 206
        },
        "id": "Ye5chV8mOgo7",
        "outputId": "960ab7aa-41a3-4dfb-b1ce-0d5e6b5a18f6"
      },
      "outputs": [
        {
          "output_type": "execute_result",
          "data": {
            "text/plain": [
              "   calls  minutes  messages   mb_used  is_ultra\n",
              "0   40.0   311.90      83.0  19915.42         0\n",
              "1   85.0   516.75      56.0  22696.96         0\n",
              "2   77.0   467.66      86.0  21060.45         0\n",
              "3  106.0   745.53      81.0   8437.39         1\n",
              "4   66.0   418.74       1.0  14502.75         0"
            ],
            "text/html": [
              "\n",
              "  <div id=\"df-3911bc7c-33b3-4648-a910-06acc2d66196\" class=\"colab-df-container\">\n",
              "    <div>\n",
              "<style scoped>\n",
              "    .dataframe tbody tr th:only-of-type {\n",
              "        vertical-align: middle;\n",
              "    }\n",
              "\n",
              "    .dataframe tbody tr th {\n",
              "        vertical-align: top;\n",
              "    }\n",
              "\n",
              "    .dataframe thead th {\n",
              "        text-align: right;\n",
              "    }\n",
              "</style>\n",
              "<table border=\"1\" class=\"dataframe\">\n",
              "  <thead>\n",
              "    <tr style=\"text-align: right;\">\n",
              "      <th></th>\n",
              "      <th>calls</th>\n",
              "      <th>minutes</th>\n",
              "      <th>messages</th>\n",
              "      <th>mb_used</th>\n",
              "      <th>is_ultra</th>\n",
              "    </tr>\n",
              "  </thead>\n",
              "  <tbody>\n",
              "    <tr>\n",
              "      <th>0</th>\n",
              "      <td>40.0</td>\n",
              "      <td>311.90</td>\n",
              "      <td>83.0</td>\n",
              "      <td>19915.42</td>\n",
              "      <td>0</td>\n",
              "    </tr>\n",
              "    <tr>\n",
              "      <th>1</th>\n",
              "      <td>85.0</td>\n",
              "      <td>516.75</td>\n",
              "      <td>56.0</td>\n",
              "      <td>22696.96</td>\n",
              "      <td>0</td>\n",
              "    </tr>\n",
              "    <tr>\n",
              "      <th>2</th>\n",
              "      <td>77.0</td>\n",
              "      <td>467.66</td>\n",
              "      <td>86.0</td>\n",
              "      <td>21060.45</td>\n",
              "      <td>0</td>\n",
              "    </tr>\n",
              "    <tr>\n",
              "      <th>3</th>\n",
              "      <td>106.0</td>\n",
              "      <td>745.53</td>\n",
              "      <td>81.0</td>\n",
              "      <td>8437.39</td>\n",
              "      <td>1</td>\n",
              "    </tr>\n",
              "    <tr>\n",
              "      <th>4</th>\n",
              "      <td>66.0</td>\n",
              "      <td>418.74</td>\n",
              "      <td>1.0</td>\n",
              "      <td>14502.75</td>\n",
              "      <td>0</td>\n",
              "    </tr>\n",
              "  </tbody>\n",
              "</table>\n",
              "</div>\n",
              "    <div class=\"colab-df-buttons\">\n",
              "\n",
              "  <div class=\"colab-df-container\">\n",
              "    <button class=\"colab-df-convert\" onclick=\"convertToInteractive('df-3911bc7c-33b3-4648-a910-06acc2d66196')\"\n",
              "            title=\"Convert this dataframe to an interactive table.\"\n",
              "            style=\"display:none;\">\n",
              "\n",
              "  <svg xmlns=\"http://www.w3.org/2000/svg\" height=\"24px\" viewBox=\"0 -960 960 960\">\n",
              "    <path d=\"M120-120v-720h720v720H120Zm60-500h600v-160H180v160Zm220 220h160v-160H400v160Zm0 220h160v-160H400v160ZM180-400h160v-160H180v160Zm440 0h160v-160H620v160ZM180-180h160v-160H180v160Zm440 0h160v-160H620v160Z\"/>\n",
              "  </svg>\n",
              "    </button>\n",
              "\n",
              "  <style>\n",
              "    .colab-df-container {\n",
              "      display:flex;\n",
              "      gap: 12px;\n",
              "    }\n",
              "\n",
              "    .colab-df-convert {\n",
              "      background-color: #E8F0FE;\n",
              "      border: none;\n",
              "      border-radius: 50%;\n",
              "      cursor: pointer;\n",
              "      display: none;\n",
              "      fill: #1967D2;\n",
              "      height: 32px;\n",
              "      padding: 0 0 0 0;\n",
              "      width: 32px;\n",
              "    }\n",
              "\n",
              "    .colab-df-convert:hover {\n",
              "      background-color: #E2EBFA;\n",
              "      box-shadow: 0px 1px 2px rgba(60, 64, 67, 0.3), 0px 1px 3px 1px rgba(60, 64, 67, 0.15);\n",
              "      fill: #174EA6;\n",
              "    }\n",
              "\n",
              "    .colab-df-buttons div {\n",
              "      margin-bottom: 4px;\n",
              "    }\n",
              "\n",
              "    [theme=dark] .colab-df-convert {\n",
              "      background-color: #3B4455;\n",
              "      fill: #D2E3FC;\n",
              "    }\n",
              "\n",
              "    [theme=dark] .colab-df-convert:hover {\n",
              "      background-color: #434B5C;\n",
              "      box-shadow: 0px 1px 3px 1px rgba(0, 0, 0, 0.15);\n",
              "      filter: drop-shadow(0px 1px 2px rgba(0, 0, 0, 0.3));\n",
              "      fill: #FFFFFF;\n",
              "    }\n",
              "  </style>\n",
              "\n",
              "    <script>\n",
              "      const buttonEl =\n",
              "        document.querySelector('#df-3911bc7c-33b3-4648-a910-06acc2d66196 button.colab-df-convert');\n",
              "      buttonEl.style.display =\n",
              "        google.colab.kernel.accessAllowed ? 'block' : 'none';\n",
              "\n",
              "      async function convertToInteractive(key) {\n",
              "        const element = document.querySelector('#df-3911bc7c-33b3-4648-a910-06acc2d66196');\n",
              "        const dataTable =\n",
              "          await google.colab.kernel.invokeFunction('convertToInteractive',\n",
              "                                                    [key], {});\n",
              "        if (!dataTable) return;\n",
              "\n",
              "        const docLinkHtml = 'Like what you see? Visit the ' +\n",
              "          '<a target=\"_blank\" href=https://colab.research.google.com/notebooks/data_table.ipynb>data table notebook</a>'\n",
              "          + ' to learn more about interactive tables.';\n",
              "        element.innerHTML = '';\n",
              "        dataTable['output_type'] = 'display_data';\n",
              "        await google.colab.output.renderOutput(dataTable, element);\n",
              "        const docLink = document.createElement('div');\n",
              "        docLink.innerHTML = docLinkHtml;\n",
              "        element.appendChild(docLink);\n",
              "      }\n",
              "    </script>\n",
              "  </div>\n",
              "\n",
              "\n",
              "<div id=\"df-79bc473d-67f4-4c3d-bb20-99c47fe8994a\">\n",
              "  <button class=\"colab-df-quickchart\" onclick=\"quickchart('df-79bc473d-67f4-4c3d-bb20-99c47fe8994a')\"\n",
              "            title=\"Suggest charts\"\n",
              "            style=\"display:none;\">\n",
              "\n",
              "<svg xmlns=\"http://www.w3.org/2000/svg\" height=\"24px\"viewBox=\"0 0 24 24\"\n",
              "     width=\"24px\">\n",
              "    <g>\n",
              "        <path d=\"M19 3H5c-1.1 0-2 .9-2 2v14c0 1.1.9 2 2 2h14c1.1 0 2-.9 2-2V5c0-1.1-.9-2-2-2zM9 17H7v-7h2v7zm4 0h-2V7h2v10zm4 0h-2v-4h2v4z\"/>\n",
              "    </g>\n",
              "</svg>\n",
              "  </button>\n",
              "\n",
              "<style>\n",
              "  .colab-df-quickchart {\n",
              "      --bg-color: #E8F0FE;\n",
              "      --fill-color: #1967D2;\n",
              "      --hover-bg-color: #E2EBFA;\n",
              "      --hover-fill-color: #174EA6;\n",
              "      --disabled-fill-color: #AAA;\n",
              "      --disabled-bg-color: #DDD;\n",
              "  }\n",
              "\n",
              "  [theme=dark] .colab-df-quickchart {\n",
              "      --bg-color: #3B4455;\n",
              "      --fill-color: #D2E3FC;\n",
              "      --hover-bg-color: #434B5C;\n",
              "      --hover-fill-color: #FFFFFF;\n",
              "      --disabled-bg-color: #3B4455;\n",
              "      --disabled-fill-color: #666;\n",
              "  }\n",
              "\n",
              "  .colab-df-quickchart {\n",
              "    background-color: var(--bg-color);\n",
              "    border: none;\n",
              "    border-radius: 50%;\n",
              "    cursor: pointer;\n",
              "    display: none;\n",
              "    fill: var(--fill-color);\n",
              "    height: 32px;\n",
              "    padding: 0;\n",
              "    width: 32px;\n",
              "  }\n",
              "\n",
              "  .colab-df-quickchart:hover {\n",
              "    background-color: var(--hover-bg-color);\n",
              "    box-shadow: 0 1px 2px rgba(60, 64, 67, 0.3), 0 1px 3px 1px rgba(60, 64, 67, 0.15);\n",
              "    fill: var(--button-hover-fill-color);\n",
              "  }\n",
              "\n",
              "  .colab-df-quickchart-complete:disabled,\n",
              "  .colab-df-quickchart-complete:disabled:hover {\n",
              "    background-color: var(--disabled-bg-color);\n",
              "    fill: var(--disabled-fill-color);\n",
              "    box-shadow: none;\n",
              "  }\n",
              "\n",
              "  .colab-df-spinner {\n",
              "    border: 2px solid var(--fill-color);\n",
              "    border-color: transparent;\n",
              "    border-bottom-color: var(--fill-color);\n",
              "    animation:\n",
              "      spin 1s steps(1) infinite;\n",
              "  }\n",
              "\n",
              "  @keyframes spin {\n",
              "    0% {\n",
              "      border-color: transparent;\n",
              "      border-bottom-color: var(--fill-color);\n",
              "      border-left-color: var(--fill-color);\n",
              "    }\n",
              "    20% {\n",
              "      border-color: transparent;\n",
              "      border-left-color: var(--fill-color);\n",
              "      border-top-color: var(--fill-color);\n",
              "    }\n",
              "    30% {\n",
              "      border-color: transparent;\n",
              "      border-left-color: var(--fill-color);\n",
              "      border-top-color: var(--fill-color);\n",
              "      border-right-color: var(--fill-color);\n",
              "    }\n",
              "    40% {\n",
              "      border-color: transparent;\n",
              "      border-right-color: var(--fill-color);\n",
              "      border-top-color: var(--fill-color);\n",
              "    }\n",
              "    60% {\n",
              "      border-color: transparent;\n",
              "      border-right-color: var(--fill-color);\n",
              "    }\n",
              "    80% {\n",
              "      border-color: transparent;\n",
              "      border-right-color: var(--fill-color);\n",
              "      border-bottom-color: var(--fill-color);\n",
              "    }\n",
              "    90% {\n",
              "      border-color: transparent;\n",
              "      border-bottom-color: var(--fill-color);\n",
              "    }\n",
              "  }\n",
              "</style>\n",
              "\n",
              "  <script>\n",
              "    async function quickchart(key) {\n",
              "      const quickchartButtonEl =\n",
              "        document.querySelector('#' + key + ' button');\n",
              "      quickchartButtonEl.disabled = true;  // To prevent multiple clicks.\n",
              "      quickchartButtonEl.classList.add('colab-df-spinner');\n",
              "      try {\n",
              "        const charts = await google.colab.kernel.invokeFunction(\n",
              "            'suggestCharts', [key], {});\n",
              "      } catch (error) {\n",
              "        console.error('Error during call to suggestCharts:', error);\n",
              "      }\n",
              "      quickchartButtonEl.classList.remove('colab-df-spinner');\n",
              "      quickchartButtonEl.classList.add('colab-df-quickchart-complete');\n",
              "    }\n",
              "    (() => {\n",
              "      let quickchartButtonEl =\n",
              "        document.querySelector('#df-79bc473d-67f4-4c3d-bb20-99c47fe8994a button');\n",
              "      quickchartButtonEl.style.display =\n",
              "        google.colab.kernel.accessAllowed ? 'block' : 'none';\n",
              "    })();\n",
              "  </script>\n",
              "</div>\n",
              "    </div>\n",
              "  </div>\n"
            ],
            "application/vnd.google.colaboratory.intrinsic+json": {
              "type": "dataframe",
              "variable_name": "df",
              "summary": "{\n  \"name\": \"df\",\n  \"rows\": 3214,\n  \"fields\": [\n    {\n      \"column\": \"calls\",\n      \"properties\": {\n        \"dtype\": \"number\",\n        \"std\": 33.2363675474435,\n        \"min\": 0.0,\n        \"max\": 244.0,\n        \"num_unique_values\": 184,\n        \"samples\": [\n          49.0,\n          124.0,\n          157.0\n        ],\n        \"semantic_type\": \"\",\n        \"description\": \"\"\n      }\n    },\n    {\n      \"column\": \"minutes\",\n      \"properties\": {\n        \"dtype\": \"number\",\n        \"std\": 234.5698721733563,\n        \"min\": 0.0,\n        \"max\": 1632.0600000000004,\n        \"num_unique_values\": 3144,\n        \"samples\": [\n          277.24999999999994,\n          565.14,\n          604.3900000000001\n        ],\n        \"semantic_type\": \"\",\n        \"description\": \"\"\n      }\n    },\n    {\n      \"column\": \"messages\",\n      \"properties\": {\n        \"dtype\": \"number\",\n        \"std\": 36.14832557358982,\n        \"min\": 0.0,\n        \"max\": 224.0,\n        \"num_unique_values\": 180,\n        \"samples\": [\n          19.0,\n          46.0,\n          157.0\n        ],\n        \"semantic_type\": \"\",\n        \"description\": \"\"\n      }\n    },\n    {\n      \"column\": \"mb_used\",\n      \"properties\": {\n        \"dtype\": \"number\",\n        \"std\": 7570.968246251093,\n        \"min\": 0.0,\n        \"max\": 49745.73000000001,\n        \"num_unique_values\": 3203,\n        \"samples\": [\n          20974.219999999998,\n          19427.620000000003,\n          15080.13\n        ],\n        \"semantic_type\": \"\",\n        \"description\": \"\"\n      }\n    },\n    {\n      \"column\": \"is_ultra\",\n      \"properties\": {\n        \"dtype\": \"number\",\n        \"std\": 0,\n        \"min\": 0,\n        \"max\": 1,\n        \"num_unique_values\": 2,\n        \"samples\": [\n          1,\n          0\n        ],\n        \"semantic_type\": \"\",\n        \"description\": \"\"\n      }\n    }\n  ]\n}"
            }
          },
          "metadata": {},
          "execution_count": 4
        }
      ],
      "source": [
        "# Ознакомимся с данными\n",
        "df.head()"
      ]
    },
    {
      "cell_type": "code",
      "execution_count": 5,
      "metadata": {
        "colab": {
          "base_uri": "https://localhost:8080/"
        },
        "id": "fJOWegOeOgo8",
        "outputId": "69ffdb66-d18f-4c30-a22a-d4febac5e33e"
      },
      "outputs": [
        {
          "output_type": "stream",
          "name": "stdout",
          "text": [
            "<class 'pandas.core.frame.DataFrame'>\n",
            "RangeIndex: 3214 entries, 0 to 3213\n",
            "Data columns (total 5 columns):\n",
            " #   Column    Non-Null Count  Dtype  \n",
            "---  ------    --------------  -----  \n",
            " 0   calls     3214 non-null   float64\n",
            " 1   minutes   3214 non-null   float64\n",
            " 2   messages  3214 non-null   float64\n",
            " 3   mb_used   3214 non-null   float64\n",
            " 4   is_ultra  3214 non-null   int64  \n",
            "dtypes: float64(4), int64(1)\n",
            "memory usage: 125.7 KB\n"
          ]
        }
      ],
      "source": [
        "df.info()"
      ]
    },
    {
      "cell_type": "markdown",
      "metadata": {
        "id": "CCLOUY95Ogo9"
      },
      "source": [
        "В столбце masseges находится информация o количестве сообщейний, эти данные должны быть типа int."
      ]
    },
    {
      "cell_type": "code",
      "execution_count": 6,
      "metadata": {
        "id": "ophxbqAfOgo9"
      },
      "outputs": [],
      "source": [
        "# Изменим тип данных для messeges на int\n",
        "df['messages'] = df['messages'].astype('int')"
      ]
    },
    {
      "cell_type": "code",
      "execution_count": 7,
      "metadata": {
        "colab": {
          "base_uri": "https://localhost:8080/"
        },
        "id": "mUKsUAt1Ogo9",
        "outputId": "6943f857-d1a4-4259-9cac-fcf7e506c46e"
      },
      "outputs": [
        {
          "output_type": "execute_result",
          "data": {
            "text/plain": [
              "0"
            ]
          },
          "metadata": {},
          "execution_count": 7
        }
      ],
      "source": [
        "# Проверим наличие дубликатов\n",
        "df.duplicated().sum()"
      ]
    },
    {
      "cell_type": "code",
      "execution_count": 8,
      "metadata": {
        "colab": {
          "base_uri": "https://localhost:8080/",
          "height": 301
        },
        "id": "jSfTV4-EOgo-",
        "outputId": "af0da161-92de-47fc-f4ab-38c395ed7ad1"
      },
      "outputs": [
        {
          "output_type": "execute_result",
          "data": {
            "text/plain": [
              "             calls      minutes     messages       mb_used     is_ultra\n",
              "count  3214.000000  3214.000000  3214.000000   3214.000000  3214.000000\n",
              "mean     63.038892   438.208787    38.281269  17207.673836     0.306472\n",
              "std      33.236368   234.569872    36.148326   7570.968246     0.461100\n",
              "min       0.000000     0.000000     0.000000      0.000000     0.000000\n",
              "25%      40.000000   274.575000     9.000000  12491.902500     0.000000\n",
              "50%      62.000000   430.600000    30.000000  16943.235000     0.000000\n",
              "75%      82.000000   571.927500    57.000000  21424.700000     1.000000\n",
              "max     244.000000  1632.060000   224.000000  49745.730000     1.000000"
            ],
            "text/html": [
              "\n",
              "  <div id=\"df-0222bc6b-66e2-436f-9522-3a3b4f13e14d\" class=\"colab-df-container\">\n",
              "    <div>\n",
              "<style scoped>\n",
              "    .dataframe tbody tr th:only-of-type {\n",
              "        vertical-align: middle;\n",
              "    }\n",
              "\n",
              "    .dataframe tbody tr th {\n",
              "        vertical-align: top;\n",
              "    }\n",
              "\n",
              "    .dataframe thead th {\n",
              "        text-align: right;\n",
              "    }\n",
              "</style>\n",
              "<table border=\"1\" class=\"dataframe\">\n",
              "  <thead>\n",
              "    <tr style=\"text-align: right;\">\n",
              "      <th></th>\n",
              "      <th>calls</th>\n",
              "      <th>minutes</th>\n",
              "      <th>messages</th>\n",
              "      <th>mb_used</th>\n",
              "      <th>is_ultra</th>\n",
              "    </tr>\n",
              "  </thead>\n",
              "  <tbody>\n",
              "    <tr>\n",
              "      <th>count</th>\n",
              "      <td>3214.000000</td>\n",
              "      <td>3214.000000</td>\n",
              "      <td>3214.000000</td>\n",
              "      <td>3214.000000</td>\n",
              "      <td>3214.000000</td>\n",
              "    </tr>\n",
              "    <tr>\n",
              "      <th>mean</th>\n",
              "      <td>63.038892</td>\n",
              "      <td>438.208787</td>\n",
              "      <td>38.281269</td>\n",
              "      <td>17207.673836</td>\n",
              "      <td>0.306472</td>\n",
              "    </tr>\n",
              "    <tr>\n",
              "      <th>std</th>\n",
              "      <td>33.236368</td>\n",
              "      <td>234.569872</td>\n",
              "      <td>36.148326</td>\n",
              "      <td>7570.968246</td>\n",
              "      <td>0.461100</td>\n",
              "    </tr>\n",
              "    <tr>\n",
              "      <th>min</th>\n",
              "      <td>0.000000</td>\n",
              "      <td>0.000000</td>\n",
              "      <td>0.000000</td>\n",
              "      <td>0.000000</td>\n",
              "      <td>0.000000</td>\n",
              "    </tr>\n",
              "    <tr>\n",
              "      <th>25%</th>\n",
              "      <td>40.000000</td>\n",
              "      <td>274.575000</td>\n",
              "      <td>9.000000</td>\n",
              "      <td>12491.902500</td>\n",
              "      <td>0.000000</td>\n",
              "    </tr>\n",
              "    <tr>\n",
              "      <th>50%</th>\n",
              "      <td>62.000000</td>\n",
              "      <td>430.600000</td>\n",
              "      <td>30.000000</td>\n",
              "      <td>16943.235000</td>\n",
              "      <td>0.000000</td>\n",
              "    </tr>\n",
              "    <tr>\n",
              "      <th>75%</th>\n",
              "      <td>82.000000</td>\n",
              "      <td>571.927500</td>\n",
              "      <td>57.000000</td>\n",
              "      <td>21424.700000</td>\n",
              "      <td>1.000000</td>\n",
              "    </tr>\n",
              "    <tr>\n",
              "      <th>max</th>\n",
              "      <td>244.000000</td>\n",
              "      <td>1632.060000</td>\n",
              "      <td>224.000000</td>\n",
              "      <td>49745.730000</td>\n",
              "      <td>1.000000</td>\n",
              "    </tr>\n",
              "  </tbody>\n",
              "</table>\n",
              "</div>\n",
              "    <div class=\"colab-df-buttons\">\n",
              "\n",
              "  <div class=\"colab-df-container\">\n",
              "    <button class=\"colab-df-convert\" onclick=\"convertToInteractive('df-0222bc6b-66e2-436f-9522-3a3b4f13e14d')\"\n",
              "            title=\"Convert this dataframe to an interactive table.\"\n",
              "            style=\"display:none;\">\n",
              "\n",
              "  <svg xmlns=\"http://www.w3.org/2000/svg\" height=\"24px\" viewBox=\"0 -960 960 960\">\n",
              "    <path d=\"M120-120v-720h720v720H120Zm60-500h600v-160H180v160Zm220 220h160v-160H400v160Zm0 220h160v-160H400v160ZM180-400h160v-160H180v160Zm440 0h160v-160H620v160ZM180-180h160v-160H180v160Zm440 0h160v-160H620v160Z\"/>\n",
              "  </svg>\n",
              "    </button>\n",
              "\n",
              "  <style>\n",
              "    .colab-df-container {\n",
              "      display:flex;\n",
              "      gap: 12px;\n",
              "    }\n",
              "\n",
              "    .colab-df-convert {\n",
              "      background-color: #E8F0FE;\n",
              "      border: none;\n",
              "      border-radius: 50%;\n",
              "      cursor: pointer;\n",
              "      display: none;\n",
              "      fill: #1967D2;\n",
              "      height: 32px;\n",
              "      padding: 0 0 0 0;\n",
              "      width: 32px;\n",
              "    }\n",
              "\n",
              "    .colab-df-convert:hover {\n",
              "      background-color: #E2EBFA;\n",
              "      box-shadow: 0px 1px 2px rgba(60, 64, 67, 0.3), 0px 1px 3px 1px rgba(60, 64, 67, 0.15);\n",
              "      fill: #174EA6;\n",
              "    }\n",
              "\n",
              "    .colab-df-buttons div {\n",
              "      margin-bottom: 4px;\n",
              "    }\n",
              "\n",
              "    [theme=dark] .colab-df-convert {\n",
              "      background-color: #3B4455;\n",
              "      fill: #D2E3FC;\n",
              "    }\n",
              "\n",
              "    [theme=dark] .colab-df-convert:hover {\n",
              "      background-color: #434B5C;\n",
              "      box-shadow: 0px 1px 3px 1px rgba(0, 0, 0, 0.15);\n",
              "      filter: drop-shadow(0px 1px 2px rgba(0, 0, 0, 0.3));\n",
              "      fill: #FFFFFF;\n",
              "    }\n",
              "  </style>\n",
              "\n",
              "    <script>\n",
              "      const buttonEl =\n",
              "        document.querySelector('#df-0222bc6b-66e2-436f-9522-3a3b4f13e14d button.colab-df-convert');\n",
              "      buttonEl.style.display =\n",
              "        google.colab.kernel.accessAllowed ? 'block' : 'none';\n",
              "\n",
              "      async function convertToInteractive(key) {\n",
              "        const element = document.querySelector('#df-0222bc6b-66e2-436f-9522-3a3b4f13e14d');\n",
              "        const dataTable =\n",
              "          await google.colab.kernel.invokeFunction('convertToInteractive',\n",
              "                                                    [key], {});\n",
              "        if (!dataTable) return;\n",
              "\n",
              "        const docLinkHtml = 'Like what you see? Visit the ' +\n",
              "          '<a target=\"_blank\" href=https://colab.research.google.com/notebooks/data_table.ipynb>data table notebook</a>'\n",
              "          + ' to learn more about interactive tables.';\n",
              "        element.innerHTML = '';\n",
              "        dataTable['output_type'] = 'display_data';\n",
              "        await google.colab.output.renderOutput(dataTable, element);\n",
              "        const docLink = document.createElement('div');\n",
              "        docLink.innerHTML = docLinkHtml;\n",
              "        element.appendChild(docLink);\n",
              "      }\n",
              "    </script>\n",
              "  </div>\n",
              "\n",
              "\n",
              "<div id=\"df-c066f30e-ccb6-43d2-99d4-6adce1f6ca03\">\n",
              "  <button class=\"colab-df-quickchart\" onclick=\"quickchart('df-c066f30e-ccb6-43d2-99d4-6adce1f6ca03')\"\n",
              "            title=\"Suggest charts\"\n",
              "            style=\"display:none;\">\n",
              "\n",
              "<svg xmlns=\"http://www.w3.org/2000/svg\" height=\"24px\"viewBox=\"0 0 24 24\"\n",
              "     width=\"24px\">\n",
              "    <g>\n",
              "        <path d=\"M19 3H5c-1.1 0-2 .9-2 2v14c0 1.1.9 2 2 2h14c1.1 0 2-.9 2-2V5c0-1.1-.9-2-2-2zM9 17H7v-7h2v7zm4 0h-2V7h2v10zm4 0h-2v-4h2v4z\"/>\n",
              "    </g>\n",
              "</svg>\n",
              "  </button>\n",
              "\n",
              "<style>\n",
              "  .colab-df-quickchart {\n",
              "      --bg-color: #E8F0FE;\n",
              "      --fill-color: #1967D2;\n",
              "      --hover-bg-color: #E2EBFA;\n",
              "      --hover-fill-color: #174EA6;\n",
              "      --disabled-fill-color: #AAA;\n",
              "      --disabled-bg-color: #DDD;\n",
              "  }\n",
              "\n",
              "  [theme=dark] .colab-df-quickchart {\n",
              "      --bg-color: #3B4455;\n",
              "      --fill-color: #D2E3FC;\n",
              "      --hover-bg-color: #434B5C;\n",
              "      --hover-fill-color: #FFFFFF;\n",
              "      --disabled-bg-color: #3B4455;\n",
              "      --disabled-fill-color: #666;\n",
              "  }\n",
              "\n",
              "  .colab-df-quickchart {\n",
              "    background-color: var(--bg-color);\n",
              "    border: none;\n",
              "    border-radius: 50%;\n",
              "    cursor: pointer;\n",
              "    display: none;\n",
              "    fill: var(--fill-color);\n",
              "    height: 32px;\n",
              "    padding: 0;\n",
              "    width: 32px;\n",
              "  }\n",
              "\n",
              "  .colab-df-quickchart:hover {\n",
              "    background-color: var(--hover-bg-color);\n",
              "    box-shadow: 0 1px 2px rgba(60, 64, 67, 0.3), 0 1px 3px 1px rgba(60, 64, 67, 0.15);\n",
              "    fill: var(--button-hover-fill-color);\n",
              "  }\n",
              "\n",
              "  .colab-df-quickchart-complete:disabled,\n",
              "  .colab-df-quickchart-complete:disabled:hover {\n",
              "    background-color: var(--disabled-bg-color);\n",
              "    fill: var(--disabled-fill-color);\n",
              "    box-shadow: none;\n",
              "  }\n",
              "\n",
              "  .colab-df-spinner {\n",
              "    border: 2px solid var(--fill-color);\n",
              "    border-color: transparent;\n",
              "    border-bottom-color: var(--fill-color);\n",
              "    animation:\n",
              "      spin 1s steps(1) infinite;\n",
              "  }\n",
              "\n",
              "  @keyframes spin {\n",
              "    0% {\n",
              "      border-color: transparent;\n",
              "      border-bottom-color: var(--fill-color);\n",
              "      border-left-color: var(--fill-color);\n",
              "    }\n",
              "    20% {\n",
              "      border-color: transparent;\n",
              "      border-left-color: var(--fill-color);\n",
              "      border-top-color: var(--fill-color);\n",
              "    }\n",
              "    30% {\n",
              "      border-color: transparent;\n",
              "      border-left-color: var(--fill-color);\n",
              "      border-top-color: var(--fill-color);\n",
              "      border-right-color: var(--fill-color);\n",
              "    }\n",
              "    40% {\n",
              "      border-color: transparent;\n",
              "      border-right-color: var(--fill-color);\n",
              "      border-top-color: var(--fill-color);\n",
              "    }\n",
              "    60% {\n",
              "      border-color: transparent;\n",
              "      border-right-color: var(--fill-color);\n",
              "    }\n",
              "    80% {\n",
              "      border-color: transparent;\n",
              "      border-right-color: var(--fill-color);\n",
              "      border-bottom-color: var(--fill-color);\n",
              "    }\n",
              "    90% {\n",
              "      border-color: transparent;\n",
              "      border-bottom-color: var(--fill-color);\n",
              "    }\n",
              "  }\n",
              "</style>\n",
              "\n",
              "  <script>\n",
              "    async function quickchart(key) {\n",
              "      const quickchartButtonEl =\n",
              "        document.querySelector('#' + key + ' button');\n",
              "      quickchartButtonEl.disabled = true;  // To prevent multiple clicks.\n",
              "      quickchartButtonEl.classList.add('colab-df-spinner');\n",
              "      try {\n",
              "        const charts = await google.colab.kernel.invokeFunction(\n",
              "            'suggestCharts', [key], {});\n",
              "      } catch (error) {\n",
              "        console.error('Error during call to suggestCharts:', error);\n",
              "      }\n",
              "      quickchartButtonEl.classList.remove('colab-df-spinner');\n",
              "      quickchartButtonEl.classList.add('colab-df-quickchart-complete');\n",
              "    }\n",
              "    (() => {\n",
              "      let quickchartButtonEl =\n",
              "        document.querySelector('#df-c066f30e-ccb6-43d2-99d4-6adce1f6ca03 button');\n",
              "      quickchartButtonEl.style.display =\n",
              "        google.colab.kernel.accessAllowed ? 'block' : 'none';\n",
              "    })();\n",
              "  </script>\n",
              "</div>\n",
              "    </div>\n",
              "  </div>\n"
            ],
            "application/vnd.google.colaboratory.intrinsic+json": {
              "type": "dataframe",
              "summary": "{\n  \"name\": \"df\",\n  \"rows\": 8,\n  \"fields\": [\n    {\n      \"column\": \"calls\",\n      \"properties\": {\n        \"dtype\": \"number\",\n        \"std\": 1112.2525932432632,\n        \"min\": 0.0,\n        \"max\": 3214.0,\n        \"num_unique_values\": 8,\n        \"samples\": [\n          63.03889234598631,\n          62.0,\n          3214.0\n        ],\n        \"semantic_type\": \"\",\n        \"description\": \"\"\n      }\n    },\n    {\n      \"column\": \"minutes\",\n      \"properties\": {\n        \"dtype\": \"number\",\n        \"std\": 1072.731669012159,\n        \"min\": 0.0,\n        \"max\": 3214.0,\n        \"num_unique_values\": 8,\n        \"samples\": [\n          438.20878655880523,\n          430.5999999999999,\n          3214.0\n        ],\n        \"semantic_type\": \"\",\n        \"description\": \"\"\n      }\n    },\n    {\n      \"column\": \"messages\",\n      \"properties\": {\n        \"dtype\": \"number\",\n        \"std\": 1118.633007562315,\n        \"min\": 0.0,\n        \"max\": 3214.0,\n        \"num_unique_values\": 8,\n        \"samples\": [\n          38.28126944617299,\n          30.0,\n          3214.0\n        ],\n        \"semantic_type\": \"\",\n        \"description\": \"\"\n      }\n    },\n    {\n      \"column\": \"mb_used\",\n      \"properties\": {\n        \"dtype\": \"number\",\n        \"std\": 15461.205923306581,\n        \"min\": 0.0,\n        \"max\": 49745.73000000001,\n        \"num_unique_values\": 8,\n        \"samples\": [\n          17207.673836341008,\n          16943.235,\n          3214.0\n        ],\n        \"semantic_type\": \"\",\n        \"description\": \"\"\n      }\n    },\n    {\n      \"column\": \"is_ultra\",\n      \"properties\": {\n        \"dtype\": \"number\",\n        \"std\": 1136.1808901181819,\n        \"min\": 0.0,\n        \"max\": 3214.0,\n        \"num_unique_values\": 5,\n        \"samples\": [\n          0.30647168637212197,\n          1.0,\n          0.46109971150909324\n        ],\n        \"semantic_type\": \"\",\n        \"description\": \"\"\n      }\n    }\n  ]\n}"
            }
          },
          "metadata": {},
          "execution_count": 8
        }
      ],
      "source": [
        "df.describe()"
      ]
    },
    {
      "cell_type": "markdown",
      "metadata": {
        "id": "WNBkmbMrOgo-"
      },
      "source": [
        "**ВЫВОДЫ:**\n",
        "\n",
        "В таблице приведены данные о поведении клиентов оператора мобильной связи.\n",
        "\n",
        "Данные выглядят корректно, пропусков и дубликатов нет. Тип данных в столбце messages заменили на int."
      ]
    },
    {
      "cell_type": "markdown",
      "metadata": {
        "id": "q-nl1GGZOgo_"
      },
      "source": [
        "## Разобьем данные на выборки"
      ]
    },
    {
      "cell_type": "code",
      "execution_count": 10,
      "metadata": {
        "colab": {
          "base_uri": "https://localhost:8080/"
        },
        "id": "dKSDD-L0Ogo_",
        "outputId": "67dcf62d-85e5-447a-d496-5804b424337b"
      },
      "outputs": [
        {
          "output_type": "stream",
          "name": "stdout",
          "text": [
            "Размер тренериующей выборки 1928\n",
            "Размер валидационной выборки 643\n",
            "Размер тестовой выборки 643\n"
          ]
        }
      ],
      "source": [
        "# Разобьем данные в соотношении 60/20/20\n",
        "train_df, lb_df = train_test_split(df, test_size=0.40, random_state=12345)\n",
        "valid_df, test_df = train_test_split(lb_df, test_size=0.50, random_state=12345)\n",
        "\n",
        "print('Размер тренериующей выборки', train_df.shape[0])\n",
        "print('Размер валидационной выборки', valid_df.shape[0])\n",
        "print('Размер тестовой выборки', test_df.shape[0])"
      ]
    },
    {
      "cell_type": "markdown",
      "metadata": {
        "id": "1BUGlA7MOgo_"
      },
      "source": [
        "Оператор мобильной связи «Мегалайн» выяснил: многие клиенты пользуются архивными тарифами. Они хотят построить систему, способную проанализировать поведение клиентов и предложить пользователям новый тариф: «Смарт» или «Ультра». Предоставлены данные о поведении клиентов, которые уже перешли на эти тарифы.\n",
        "Необходимо построить модель с максимально большим значением accuracy (доля правильных ответов по крайней мере до 0.75)."
      ]
    },
    {
      "cell_type": "markdown",
      "metadata": {
        "id": "a5S8hMVdOgo_"
      },
      "source": [
        "Так как конечной целью исследования является создание системы, которая правильно предлагает тариф клиенту на основании его поведения, то целевым признаком будет столбец is_ultra."
      ]
    },
    {
      "cell_type": "code",
      "execution_count": 11,
      "metadata": {
        "id": "HUluX3h1Ogo_"
      },
      "outputs": [],
      "source": [
        "# извлечем признаки и целовые признаки для каждого датафрейма\n",
        "train_df_features = train_df.drop(['is_ultra'], axis=1)\n",
        "train_df_target = train_df['is_ultra']\n",
        "valid_df_features = valid_df.drop(['is_ultra'], axis=1)\n",
        "valid_df_target = valid_df['is_ultra']\n",
        "test_df_features = test_df.drop(['is_ultra'], axis=1)\n",
        "test_df_target = test_df['is_ultra']"
      ]
    },
    {
      "cell_type": "markdown",
      "metadata": {
        "id": "Hdxle-gqOgpA"
      },
      "source": [
        "**ВЫВОДЫ:**\n",
        "\n",
        "Исходные данные были разбиты на обучающую, валидационную и тестовую выборки в соотношении 3:1:1."
      ]
    },
    {
      "cell_type": "markdown",
      "metadata": {
        "id": "tusQsHmbOgpB"
      },
      "source": [
        "## Исследуем модели"
      ]
    },
    {
      "cell_type": "markdown",
      "metadata": {
        "id": "WrJYYW-wOgpB"
      },
      "source": [
        "Мы решаем задачу классификации, целевой признак является категориальным. Мы рассмотрим три модели: решающее дерево, случайный лес, логистическую регрессию."
      ]
    },
    {
      "cell_type": "markdown",
      "metadata": {
        "id": "xy1P9cJVOgpB"
      },
      "source": [
        "### Decision Tree"
      ]
    },
    {
      "cell_type": "code",
      "execution_count": 12,
      "metadata": {
        "id": "QNdzr2K8OgpB"
      },
      "outputs": [],
      "source": [
        "best_dt_model = None\n",
        "best_accuracy_dt_model = 0\n",
        "best_depth_dt_model = 0\n",
        "\n",
        "for depth in range(2, 25):\n",
        "    dt_model = DecisionTreeClassifier(random_state = 12345, max_depth = depth)\n",
        "    dt_model.fit(train_df_features, train_df_target)\n",
        "    prediction_valid_dt_model = dt_model.predict(valid_df_features)\n",
        "    accuracy_dt_model = accuracy_score(prediction_valid_dt_model, valid_df_target)\n",
        "    if best_accuracy_dt_model < accuracy_dt_model:\n",
        "        best_dt_model= dt_model\n",
        "        best_depth_dt_model = depth\n",
        "        best_accuracy_dt_model = accuracy_dt_model"
      ]
    },
    {
      "cell_type": "code",
      "execution_count": 13,
      "metadata": {
        "colab": {
          "base_uri": "https://localhost:8080/",
          "height": 35
        },
        "id": "Huh8K4hlOgpC",
        "outputId": "4ee1f4fc-f55b-4b57-ad08-045c203cdbce"
      },
      "outputs": [
        {
          "output_type": "execute_result",
          "data": {
            "text/plain": [
              "'Accuracy наилучшей модели на валидационной выборке: 0.7853810264385692'"
            ],
            "application/vnd.google.colaboratory.intrinsic+json": {
              "type": "string"
            }
          },
          "metadata": {},
          "execution_count": 13
        }
      ],
      "source": [
        "f'Accuracy наилучшей модели на валидационной выборке: {best_accuracy_dt_model}'"
      ]
    },
    {
      "cell_type": "code",
      "execution_count": 14,
      "metadata": {
        "colab": {
          "base_uri": "https://localhost:8080/"
        },
        "id": "eiC43U0mOgpC",
        "outputId": "6b4a6d23-c830-4267-9b6d-6bc9bae2e144"
      },
      "outputs": [
        {
          "output_type": "execute_result",
          "data": {
            "text/plain": [
              "('Глубина', 3)"
            ]
          },
          "metadata": {},
          "execution_count": 14
        }
      ],
      "source": [
        "'Глубина',best_depth_dt_model"
      ]
    },
    {
      "cell_type": "markdown",
      "metadata": {
        "id": "kkF0PUEfOgpE"
      },
      "source": [
        "### Random Forest\n"
      ]
    },
    {
      "cell_type": "code",
      "execution_count": 15,
      "metadata": {
        "colab": {
          "base_uri": "https://localhost:8080/"
        },
        "id": "36FLWS1OOgpE",
        "outputId": "115e529b-5b11-4bf2-f35e-d25a0f138229"
      },
      "outputs": [
        {
          "output_type": "stream",
          "name": "stderr",
          "text": [
            "100%|██████████| 5/5 [00:17<00:00,  3.60s/it]"
          ]
        },
        {
          "output_type": "stream",
          "name": "stdout",
          "text": [
            "CPU times: user 17.4 s, sys: 74.4 ms, total: 17.4 s\n",
            "Wall time: 18 s\n"
          ]
        },
        {
          "output_type": "stream",
          "name": "stderr",
          "text": [
            "\n"
          ]
        }
      ],
      "source": [
        "%%time\n",
        "\n",
        "best_rf_model = None\n",
        "best_accuracy_rf_model = 0\n",
        "best_est_rf_model = 0\n",
        "best_depth_rf_model = 0\n",
        "\n",
        "for est in tqdm(range(10, 51, 10)):\n",
        "    for depth in range(2,25):\n",
        "        rf_model = RandomForestClassifier(random_state = 12345, n_estimators = est, max_depth = depth)\n",
        "        rf_model.fit(train_df_features, train_df_target)\n",
        "        prediction_valid_rf_model = rf_model.predict(valid_df_features)\n",
        "        accuracy_rf_model = accuracy_score(prediction_valid_rf_model, valid_df_target)\n",
        "        if best_accuracy_rf_model < accuracy_rf_model:\n",
        "            best_rf_model= rf_model\n",
        "            best_depth_rf_model = depth\n",
        "            best_est_rf_model = est\n",
        "            best_accuracy_rf_model = accuracy_rf_model\n",
        "\n"
      ]
    },
    {
      "cell_type": "code",
      "execution_count": 16,
      "metadata": {
        "colab": {
          "base_uri": "https://localhost:8080/"
        },
        "id": "p9fNeA2ZOgpE",
        "outputId": "862dda74-d75d-484f-abf2-cdbc3017e74f"
      },
      "outputs": [
        {
          "output_type": "execute_result",
          "data": {
            "text/plain": [
              "('Accuracy наилучшей модели на валидационной выборке:', 0.8087091757387247)"
            ]
          },
          "metadata": {},
          "execution_count": 16
        }
      ],
      "source": [
        "'Accuracy наилучшей модели на валидационной выборке:', best_accuracy_rf_model,"
      ]
    },
    {
      "cell_type": "code",
      "execution_count": 17,
      "metadata": {
        "colab": {
          "base_uri": "https://localhost:8080/"
        },
        "id": "h6sgXECROgpE",
        "outputId": "602b8860-e0e7-44c6-de97-b5a0e652b157"
      },
      "outputs": [
        {
          "output_type": "execute_result",
          "data": {
            "text/plain": [
              "('Количество деревьев', 40, 'Глубина', 8)"
            ]
          },
          "metadata": {},
          "execution_count": 17
        }
      ],
      "source": [
        "'Количество деревьев', best_est_rf_model,'Глубина',best_depth_rf_model"
      ]
    },
    {
      "cell_type": "markdown",
      "metadata": {
        "id": "Q2CP3A1bOgpF"
      },
      "source": [
        "### Logistic Regression\n"
      ]
    },
    {
      "cell_type": "code",
      "execution_count": 18,
      "metadata": {
        "id": "rvOnF_OTOgpF"
      },
      "outputs": [],
      "source": [
        "lr_model = LogisticRegression(random_state = 12345, max_iter= 1000, solver = 'lbfgs' )\n",
        "lr_model.fit(train_df_features, train_df_target)\n",
        "prediction_valid_lr_model = lr_model.predict(valid_df_features)\n",
        "accuracy_lr_model = accuracy_score(prediction_valid_lr_model, valid_df_target)"
      ]
    },
    {
      "cell_type": "code",
      "execution_count": 19,
      "metadata": {
        "colab": {
          "base_uri": "https://localhost:8080/"
        },
        "id": "JSkYIp-zOgpF",
        "outputId": "583438da-5786-4e1d-bd14-3d9d4edc7c56"
      },
      "outputs": [
        {
          "output_type": "execute_result",
          "data": {
            "text/plain": [
              "('Accuracy модели на валидационной выборке:', 0.7107309486780715)"
            ]
          },
          "metadata": {},
          "execution_count": 19
        }
      ],
      "source": [
        "'Accuracy модели на валидационной выборке:', accuracy_lr_model"
      ]
    },
    {
      "cell_type": "markdown",
      "metadata": {
        "id": "0knVcRJGOgpF"
      },
      "source": [
        "**ВЫВОДЫ:**\n",
        "\n",
        "* Были инициализированы модели дерева решений, случайного леса и логистической регрессии.\n",
        "* Были постореены модели с наилучшим значением аccuracy.\n",
        "* Чем больше аccuracy, тем лучше. Наилучший результат дает модель случайного леса (0.81).\n",
        "\n",
        "Надо учитывать, что несмотря на высорое качество работы, скорость работы может оказаться низкой. В таком случае нужно будет использоватьлогистическую регрессию с сопоставимым качеством работы, но высокой скоростью работы.\n"
      ]
    },
    {
      "cell_type": "markdown",
      "metadata": {
        "id": "vL9UX6kbOgpG"
      },
      "source": [
        "## Проверим модель на тестовой выборке"
      ]
    },
    {
      "cell_type": "markdown",
      "metadata": {
        "id": "akAQB5i0OgpG"
      },
      "source": [
        "Лучшее значение параметра аccuracy было у модели случайного леса."
      ]
    },
    {
      "cell_type": "code",
      "execution_count": 20,
      "metadata": {
        "colab": {
          "base_uri": "https://localhost:8080/"
        },
        "id": "wSfYBZEcOgpG",
        "outputId": "6b864753-cc2e-4fff-d33d-a0e7a9d87d7b"
      },
      "outputs": [
        {
          "output_type": "execute_result",
          "data": {
            "text/plain": [
              "('Точность модели решающего леса на тестовой выборке', 0.7962674961119751)"
            ]
          },
          "metadata": {},
          "execution_count": 20
        }
      ],
      "source": [
        "test_predictions = best_rf_model.predict(test_df_features)\n",
        "accuracy = accuracy_score(test_df_target, test_predictions)\n",
        "'Точность модели решающего леса на тестовой выборке',accuracy"
      ]
    },
    {
      "cell_type": "markdown",
      "metadata": {
        "id": "pH6-nCtUOgpH"
      },
      "source": [
        "**ВЫВОДЫ:**\n",
        "\n",
        "На стадии проверки подтвердилось, что самые качественные предстазания получаются с использованием модели решающего леса. А вот качество предсказаний логистической регрессии оказалось очень низким, меньше 0.75."
      ]
    },
    {
      "cell_type": "markdown",
      "metadata": {
        "id": "I9EJsy5gOgpI"
      },
      "source": [
        "## Проверим модели на адекватность"
      ]
    },
    {
      "cell_type": "markdown",
      "metadata": {
        "id": "3LI08tt_OgpI"
      },
      "source": [
        "Хорошую модель от плохой отличают с помощью метрик качества: accuracy(качество), precision(точность) и recall(полнота). Используется концепция для описания этих метрик в терминах ошибок классификации — confusion matrix (матрица ошибок).\n"
      ]
    },
    {
      "cell_type": "code",
      "execution_count": 21,
      "metadata": {
        "colab": {
          "base_uri": "https://localhost:8080/"
        },
        "id": "wQR5374eOgpJ",
        "outputId": "ce7e590b-0dfd-43cd-b2b7-43b508e1f963"
      },
      "outputs": [
        {
          "output_type": "stream",
          "name": "stdout",
          "text": [
            "Accuracy = 0.7962674961119751 Precision = 0.75 Recall = 0.5320197044334976\n"
          ]
        }
      ],
      "source": [
        "test_predictions = best_rf_model.predict(test_df_features)\n",
        "\n",
        "accuracy = accuracy_score(test_df_target, test_predictions)\n",
        "precision = precision_score(test_df_target, test_predictions)\n",
        "recall = recall_score(test_df_target, test_predictions)\n",
        "\n",
        "print('Accuracy =', accuracy, 'Precision =', precision, 'Recall =', recall)"
      ]
    },
    {
      "cell_type": "markdown",
      "metadata": {
        "id": "e3dJ4otHOgpJ"
      },
      "source": [
        "Precision можно интерпретировать как долю объектов, названных классификатором положительными и при этом действительно являющимися положительными. В нашем случае Precision = 0.75\n",
        "\n",
        "Recall показывает, какую долю объектов положительного класса из всех объектов положительного класса нашел алгоритм. Recall = 0.53.\n",
        "\n",
        "Precision и recall не зависят, в отличие от accuracy, от соотношения классов и потому применимы в условиях несбалансированных выборок. Обычно при оптимизации гиперпараметров алгоритма используется одна метрика, улучшение которой мы и ожидаем увидеть на тестовой выборке. Существует способ объединить precision и recall в агрегированный критерий качества. F-мера (в — среднее гармоническое precision и recall.\n",
        "\n",
        "\n"
      ]
    },
    {
      "cell_type": "code",
      "execution_count": 22,
      "metadata": {
        "colab": {
          "base_uri": "https://localhost:8080/"
        },
        "id": "CfX3B8wZOgpJ",
        "outputId": "299a8ab6-3d93-4896-d129-3bc4ba8689d1"
      },
      "outputs": [
        {
          "output_type": "stream",
          "name": "stdout",
          "text": [
            "F-мера = 0.622478386167147\n"
          ]
        }
      ],
      "source": [
        "f_score = f1_score(test_df_target, test_predictions)\n",
        "print('F-мера =', f_score)"
      ]
    },
    {
      "cell_type": "markdown",
      "metadata": {
        "id": "1YkhTNI3OgpK"
      },
      "source": [
        "**ВЫВОДЫ**\n",
        "Хорошую модель от плохой отличают с помощью метрик качества: accuracy(качество), precision(точность) и recall(полнота). Для нашей модели случайного леса получились следующие значения:\n",
        "\n",
        "Accuracy = 0.80\n",
        "Precision = 0.75\n",
        "Recall = 0.53\n",
        "\n",
        "Еще одним параметром характеризующим адекватность является среднее гармоническое precision и recall - F-мера (0.62)."
      ]
    },
    {
      "cell_type": "code",
      "execution_count": 23,
      "metadata": {
        "colab": {
          "base_uri": "https://localhost:8080/"
        },
        "id": "OrtJs7M6OgpK",
        "outputId": "e21090a0-a55f-4ab8-d759-107999a0a726"
      },
      "outputs": [
        {
          "output_type": "execute_result",
          "data": {
            "text/plain": [
              "0.6924273858921162"
            ]
          },
          "metadata": {},
          "execution_count": 23
        }
      ],
      "source": [
        "dummy_clf = DummyClassifier(strategy=\"most_frequent\")\n",
        "dummy_clf.fit(train_df_features, train_df_target)\n",
        "dummy_clf.predict(train_df_features)\n",
        "dummy_clf.score(train_df_features, train_df_target)"
      ]
    },
    {
      "cell_type": "markdown",
      "metadata": {
        "id": "ZrHA6QFMOgpK"
      },
      "source": [
        "## Итоговые выводы"
      ]
    },
    {
      "cell_type": "markdown",
      "metadata": {
        "id": "QPW1x8CdOgpL"
      },
      "source": [
        "Было проведено исследование для оператора мобильной связи «Мегалайн». Чтобы оптимально переводить пользователей на новые рарифы нужно было построить модель с максимально большим значением accuracy.\n",
        "\n",
        "Были вывполнены следующие шаги:\n",
        "* Файл с данными был открыт и изучен. Данные оказались корректными, пропусков и дубликатов не содержали.\n",
        "* Исходные данные были разделены на обучающую, валидационную и тестовую выборки.\n",
        "* Меняя гиперпараметры было изучено качество разных моделей.\n",
        "* Качество моделей было проверено на тестовой выборке. Наилучший результат дает модель случайного леса (0.81).\n",
        "* На стадии проверки подтвердилось, что самые качественные предстазания получаются с использованием модели решающего леса. А вот качество предсказаний логистической регрессии оказалось очень низким, меньше 0.75.\n",
        "* Качество модели было проверено на вменяемость. с помощью метрик качества: accuracy(качество), precision(точность) и recall(полнота). Для нашей модели случайного леса получились следующие значения: Accuracy = 0.80 Precision = 0.75 Recall = 0.53. Еще одним параметром характеризующим адекватность является среднее гармоническое precision и recall - F-мера (0.62).\n"
      ]
    }
  ],
  "metadata": {
    "ExecuteTimeLog": [
      {
        "duration": 1379,
        "start_time": "2023-04-07T12:15:09.110Z"
      },
      {
        "duration": 61,
        "start_time": "2023-04-07T12:16:24.912Z"
      },
      {
        "duration": 13,
        "start_time": "2023-04-07T12:17:49.665Z"
      },
      {
        "duration": 17,
        "start_time": "2023-04-07T12:17:58.721Z"
      },
      {
        "duration": 12,
        "start_time": "2023-04-07T12:18:05.360Z"
      },
      {
        "duration": 4,
        "start_time": "2023-04-07T12:23:15.824Z"
      },
      {
        "duration": 8,
        "start_time": "2023-04-07T12:24:25.496Z"
      },
      {
        "duration": 107,
        "start_time": "2023-04-07T13:07:33.586Z"
      },
      {
        "duration": 10,
        "start_time": "2023-04-07T13:07:41.658Z"
      },
      {
        "duration": 9,
        "start_time": "2023-04-07T13:07:49.999Z"
      },
      {
        "duration": 9,
        "start_time": "2023-04-07T13:09:10.931Z"
      },
      {
        "duration": 47,
        "start_time": "2023-04-08T05:51:45.371Z"
      },
      {
        "duration": 1107,
        "start_time": "2023-04-08T05:51:52.900Z"
      },
      {
        "duration": 121,
        "start_time": "2023-04-08T05:51:54.009Z"
      },
      {
        "duration": 16,
        "start_time": "2023-04-08T05:51:54.132Z"
      },
      {
        "duration": 13,
        "start_time": "2023-04-08T05:51:54.149Z"
      },
      {
        "duration": 4,
        "start_time": "2023-04-08T05:51:54.164Z"
      },
      {
        "duration": 10,
        "start_time": "2023-04-08T05:51:54.169Z"
      },
      {
        "duration": 35,
        "start_time": "2023-04-08T05:51:54.181Z"
      },
      {
        "duration": 6,
        "start_time": "2023-04-08T05:52:00.472Z"
      },
      {
        "duration": 5,
        "start_time": "2023-04-08T05:57:23.406Z"
      },
      {
        "duration": 127,
        "start_time": "2023-04-08T06:01:19.563Z"
      },
      {
        "duration": 9,
        "start_time": "2023-04-08T06:22:12.495Z"
      },
      {
        "duration": 63,
        "start_time": "2023-04-08T06:51:07.845Z"
      },
      {
        "duration": 10,
        "start_time": "2023-04-08T06:51:22.729Z"
      },
      {
        "duration": 9061,
        "start_time": "2023-04-08T06:52:27.409Z"
      },
      {
        "duration": 8185,
        "start_time": "2023-04-08T06:54:20.022Z"
      },
      {
        "duration": 8665,
        "start_time": "2023-04-08T06:54:34.456Z"
      },
      {
        "duration": 56,
        "start_time": "2023-04-08T06:54:57.147Z"
      },
      {
        "duration": 8405,
        "start_time": "2023-04-08T06:55:06.124Z"
      },
      {
        "duration": 4,
        "start_time": "2023-04-08T06:55:34.531Z"
      },
      {
        "duration": 44,
        "start_time": "2023-04-08T06:55:54.432Z"
      },
      {
        "duration": 61,
        "start_time": "2023-04-08T06:56:06.131Z"
      },
      {
        "duration": 51,
        "start_time": "2023-04-08T06:56:31.400Z"
      },
      {
        "duration": 47,
        "start_time": "2023-04-08T06:56:52.088Z"
      },
      {
        "duration": 67,
        "start_time": "2023-04-08T06:56:58.095Z"
      },
      {
        "duration": 52,
        "start_time": "2023-04-08T06:57:06.161Z"
      },
      {
        "duration": 96,
        "start_time": "2023-04-08T06:57:11.145Z"
      },
      {
        "duration": 4,
        "start_time": "2023-04-08T06:57:19.380Z"
      },
      {
        "duration": 8687,
        "start_time": "2023-04-08T06:58:08.288Z"
      },
      {
        "duration": 964,
        "start_time": "2023-04-08T07:01:25.304Z"
      },
      {
        "duration": 3,
        "start_time": "2023-04-08T07:01:27.791Z"
      },
      {
        "duration": 1009,
        "start_time": "2023-04-08T07:11:58.857Z"
      },
      {
        "duration": 4,
        "start_time": "2023-04-08T07:11:59.868Z"
      },
      {
        "duration": 964,
        "start_time": "2023-04-08T07:12:14.849Z"
      },
      {
        "duration": 4,
        "start_time": "2023-04-08T07:12:15.815Z"
      },
      {
        "duration": 8709,
        "start_time": "2023-04-08T07:12:33.490Z"
      },
      {
        "duration": 4,
        "start_time": "2023-04-08T07:12:42.201Z"
      },
      {
        "duration": 241,
        "start_time": "2023-04-08T07:12:50.364Z"
      },
      {
        "duration": 211,
        "start_time": "2023-04-08T07:13:01.637Z"
      },
      {
        "duration": 337,
        "start_time": "2023-04-08T07:13:04.202Z"
      },
      {
        "duration": 0,
        "start_time": "2023-04-08T07:13:04.541Z"
      },
      {
        "duration": 3,
        "start_time": "2023-04-08T07:13:19.302Z"
      },
      {
        "duration": 8367,
        "start_time": "2023-04-08T07:13:27.585Z"
      },
      {
        "duration": 3,
        "start_time": "2023-04-08T07:13:35.954Z"
      },
      {
        "duration": 21,
        "start_time": "2023-04-08T07:13:44.511Z"
      },
      {
        "duration": 4,
        "start_time": "2023-04-08T07:14:05.188Z"
      },
      {
        "duration": 1085,
        "start_time": "2023-04-08T08:02:23.988Z"
      },
      {
        "duration": 7,
        "start_time": "2023-04-08T08:02:25.076Z"
      },
      {
        "duration": 16,
        "start_time": "2023-04-08T08:04:10.282Z"
      },
      {
        "duration": 15,
        "start_time": "2023-04-08T08:04:28.305Z"
      },
      {
        "duration": 1120,
        "start_time": "2023-04-08T08:04:37.597Z"
      },
      {
        "duration": 3,
        "start_time": "2023-04-08T08:04:40.893Z"
      },
      {
        "duration": 11338,
        "start_time": "2023-04-08T08:05:19.020Z"
      },
      {
        "duration": 3,
        "start_time": "2023-04-08T08:05:30.360Z"
      },
      {
        "duration": 4,
        "start_time": "2023-04-08T08:13:08.481Z"
      },
      {
        "duration": 5,
        "start_time": "2023-04-08T08:13:24.883Z"
      },
      {
        "duration": 248,
        "start_time": "2023-04-08T08:13:45.605Z"
      },
      {
        "duration": 4,
        "start_time": "2023-04-08T08:13:56.281Z"
      },
      {
        "duration": 4,
        "start_time": "2023-04-08T08:14:04.438Z"
      },
      {
        "duration": 3,
        "start_time": "2023-04-08T08:14:13.168Z"
      },
      {
        "duration": 3,
        "start_time": "2023-04-08T08:14:18.624Z"
      },
      {
        "duration": 40,
        "start_time": "2023-04-08T08:14:39.830Z"
      },
      {
        "duration": 4,
        "start_time": "2023-04-08T08:14:41.383Z"
      },
      {
        "duration": 26,
        "start_time": "2023-04-08T08:14:47.356Z"
      },
      {
        "duration": 4,
        "start_time": "2023-04-08T08:14:48.132Z"
      },
      {
        "duration": 27,
        "start_time": "2023-04-08T08:14:51.282Z"
      },
      {
        "duration": 5,
        "start_time": "2023-04-08T08:14:52.013Z"
      },
      {
        "duration": 33,
        "start_time": "2023-04-08T08:14:59.496Z"
      },
      {
        "duration": 4,
        "start_time": "2023-04-08T08:16:10.819Z"
      },
      {
        "duration": 192,
        "start_time": "2023-04-08T08:17:06.856Z"
      },
      {
        "duration": 209,
        "start_time": "2023-04-08T08:17:31.032Z"
      },
      {
        "duration": 4,
        "start_time": "2023-04-08T08:17:33.023Z"
      },
      {
        "duration": 3,
        "start_time": "2023-04-08T08:17:39.043Z"
      },
      {
        "duration": 99,
        "start_time": "2023-04-08T08:29:19.960Z"
      },
      {
        "duration": 4,
        "start_time": "2023-04-08T08:29:31.143Z"
      },
      {
        "duration": 13,
        "start_time": "2023-04-08T08:33:57.205Z"
      },
      {
        "duration": 15,
        "start_time": "2023-04-08T08:34:16.847Z"
      },
      {
        "duration": 58,
        "start_time": "2023-04-08T08:36:33.084Z"
      },
      {
        "duration": 6,
        "start_time": "2023-04-08T08:37:45.871Z"
      },
      {
        "duration": 12,
        "start_time": "2023-04-08T08:38:35.585Z"
      },
      {
        "duration": 9,
        "start_time": "2023-04-08T08:39:05.713Z"
      },
      {
        "duration": 7,
        "start_time": "2023-04-08T08:39:16.715Z"
      },
      {
        "duration": 8,
        "start_time": "2023-04-08T08:39:21.946Z"
      },
      {
        "duration": 7,
        "start_time": "2023-04-08T08:39:52.704Z"
      },
      {
        "duration": 3,
        "start_time": "2023-04-08T08:45:28.432Z"
      },
      {
        "duration": 8,
        "start_time": "2023-04-08T08:45:29.314Z"
      },
      {
        "duration": 56,
        "start_time": "2023-04-08T08:55:08.981Z"
      },
      {
        "duration": 19,
        "start_time": "2023-04-08T08:59:14.309Z"
      },
      {
        "duration": 16,
        "start_time": "2023-04-08T08:59:37.124Z"
      },
      {
        "duration": 5,
        "start_time": "2023-04-08T09:06:15.070Z"
      },
      {
        "duration": 4,
        "start_time": "2023-04-08T09:20:21.485Z"
      },
      {
        "duration": 38,
        "start_time": "2023-04-08T09:20:21.491Z"
      },
      {
        "duration": 11,
        "start_time": "2023-04-08T09:20:21.530Z"
      },
      {
        "duration": 15,
        "start_time": "2023-04-08T09:20:21.543Z"
      },
      {
        "duration": 4,
        "start_time": "2023-04-08T09:20:21.559Z"
      },
      {
        "duration": 9,
        "start_time": "2023-04-08T09:20:21.564Z"
      },
      {
        "duration": 12,
        "start_time": "2023-04-08T09:20:21.575Z"
      },
      {
        "duration": 8,
        "start_time": "2023-04-08T09:20:21.589Z"
      },
      {
        "duration": 225,
        "start_time": "2023-04-08T09:20:21.599Z"
      },
      {
        "duration": 4,
        "start_time": "2023-04-08T09:20:21.828Z"
      },
      {
        "duration": 15,
        "start_time": "2023-04-08T09:20:21.834Z"
      },
      {
        "duration": 11425,
        "start_time": "2023-04-08T09:20:21.851Z"
      },
      {
        "duration": 5,
        "start_time": "2023-04-08T09:20:33.278Z"
      },
      {
        "duration": 33,
        "start_time": "2023-04-08T09:20:33.285Z"
      },
      {
        "duration": 43,
        "start_time": "2023-04-08T09:20:33.320Z"
      },
      {
        "duration": 4,
        "start_time": "2023-04-08T09:20:33.365Z"
      },
      {
        "duration": 37,
        "start_time": "2023-04-08T09:20:33.371Z"
      },
      {
        "duration": 10,
        "start_time": "2023-04-08T09:20:33.410Z"
      },
      {
        "duration": 26,
        "start_time": "2023-04-08T09:20:33.422Z"
      },
      {
        "duration": 31,
        "start_time": "2023-04-08T09:20:33.451Z"
      },
      {
        "duration": 6,
        "start_time": "2023-04-08T09:20:33.485Z"
      },
      {
        "duration": 2678,
        "start_time": "2023-04-08T15:15:59.432Z"
      },
      {
        "duration": 135,
        "start_time": "2023-04-08T15:16:02.112Z"
      },
      {
        "duration": 19,
        "start_time": "2023-04-08T15:16:02.249Z"
      },
      {
        "duration": 22,
        "start_time": "2023-04-08T15:16:02.270Z"
      },
      {
        "duration": 6,
        "start_time": "2023-04-08T15:16:02.296Z"
      },
      {
        "duration": 31,
        "start_time": "2023-04-08T15:16:02.304Z"
      },
      {
        "duration": 36,
        "start_time": "2023-04-08T15:16:02.340Z"
      },
      {
        "duration": 38,
        "start_time": "2023-04-08T15:16:02.379Z"
      },
      {
        "duration": 163,
        "start_time": "2023-04-08T15:16:02.420Z"
      },
      {
        "duration": 0,
        "start_time": "2023-04-08T15:16:02.585Z"
      },
      {
        "duration": 0,
        "start_time": "2023-04-08T15:16:02.586Z"
      },
      {
        "duration": 0,
        "start_time": "2023-04-08T15:16:02.587Z"
      },
      {
        "duration": 0,
        "start_time": "2023-04-08T15:16:02.589Z"
      },
      {
        "duration": 0,
        "start_time": "2023-04-08T15:16:02.590Z"
      },
      {
        "duration": 0,
        "start_time": "2023-04-08T15:16:02.592Z"
      },
      {
        "duration": 0,
        "start_time": "2023-04-08T15:16:02.593Z"
      },
      {
        "duration": 0,
        "start_time": "2023-04-08T15:16:02.595Z"
      },
      {
        "duration": 0,
        "start_time": "2023-04-08T15:16:02.596Z"
      },
      {
        "duration": 1,
        "start_time": "2023-04-08T15:16:02.597Z"
      },
      {
        "duration": 0,
        "start_time": "2023-04-08T15:16:02.599Z"
      },
      {
        "duration": 0,
        "start_time": "2023-04-08T15:16:02.600Z"
      },
      {
        "duration": 11790,
        "start_time": "2023-04-08T15:16:32.085Z"
      },
      {
        "duration": 44,
        "start_time": "2023-04-08T15:16:43.878Z"
      },
      {
        "duration": 0,
        "start_time": "2023-04-08T15:16:43.924Z"
      },
      {
        "duration": 0,
        "start_time": "2023-04-08T15:16:43.925Z"
      },
      {
        "duration": 0,
        "start_time": "2023-04-08T15:16:43.927Z"
      },
      {
        "duration": 4,
        "start_time": "2023-04-12T09:37:43.727Z"
      },
      {
        "duration": 1283,
        "start_time": "2023-04-12T09:37:44.136Z"
      },
      {
        "duration": 121,
        "start_time": "2023-04-12T09:38:22.278Z"
      },
      {
        "duration": 3,
        "start_time": "2023-04-12T09:38:29.931Z"
      },
      {
        "duration": 6,
        "start_time": "2023-04-12T09:38:29.937Z"
      },
      {
        "duration": 182,
        "start_time": "2023-04-12T09:38:29.944Z"
      },
      {
        "duration": 17,
        "start_time": "2023-04-12T09:38:30.128Z"
      },
      {
        "duration": 11,
        "start_time": "2023-04-12T09:38:30.148Z"
      },
      {
        "duration": 7,
        "start_time": "2023-04-12T09:38:30.161Z"
      },
      {
        "duration": 38,
        "start_time": "2023-04-12T09:38:30.169Z"
      },
      {
        "duration": 25,
        "start_time": "2023-04-12T09:38:32.917Z"
      },
      {
        "duration": 173,
        "start_time": "2023-04-12T10:54:39.334Z"
      },
      {
        "duration": 12,
        "start_time": "2023-04-12T11:13:54.324Z"
      },
      {
        "duration": 11,
        "start_time": "2023-04-12T11:14:16.109Z"
      },
      {
        "duration": 10,
        "start_time": "2023-04-12T11:17:54.638Z"
      },
      {
        "duration": 3,
        "start_time": "2023-04-12T11:18:03.798Z"
      },
      {
        "duration": 23,
        "start_time": "2023-04-12T11:18:03.804Z"
      },
      {
        "duration": 39,
        "start_time": "2023-04-12T11:18:03.829Z"
      },
      {
        "duration": 11,
        "start_time": "2023-04-12T11:18:03.870Z"
      },
      {
        "duration": 19,
        "start_time": "2023-04-12T11:18:03.884Z"
      },
      {
        "duration": 20,
        "start_time": "2023-04-12T11:18:03.905Z"
      },
      {
        "duration": 22,
        "start_time": "2023-04-12T11:18:03.927Z"
      },
      {
        "duration": 28,
        "start_time": "2023-04-12T11:18:03.951Z"
      },
      {
        "duration": 8,
        "start_time": "2023-04-12T11:18:03.981Z"
      },
      {
        "duration": 9,
        "start_time": "2023-04-12T11:18:20.883Z"
      },
      {
        "duration": 7,
        "start_time": "2023-04-12T11:18:23.111Z"
      },
      {
        "duration": 18,
        "start_time": "2023-04-12T11:18:26.717Z"
      },
      {
        "duration": 12411,
        "start_time": "2023-04-12T11:18:43.069Z"
      },
      {
        "duration": 11,
        "start_time": "2023-04-12T11:18:55.482Z"
      },
      {
        "duration": 215,
        "start_time": "2023-04-12T11:19:13.770Z"
      },
      {
        "duration": 10,
        "start_time": "2023-04-12T11:19:15.794Z"
      },
      {
        "duration": 5,
        "start_time": "2023-04-12T11:19:16.909Z"
      },
      {
        "duration": 214,
        "start_time": "2023-04-12T11:19:26.134Z"
      },
      {
        "duration": 9,
        "start_time": "2023-04-12T11:19:27.495Z"
      },
      {
        "duration": 5,
        "start_time": "2023-04-12T11:19:49.951Z"
      },
      {
        "duration": 5,
        "start_time": "2023-04-12T11:19:50.795Z"
      },
      {
        "duration": 126,
        "start_time": "2023-04-12T11:44:00.628Z"
      },
      {
        "duration": 23784,
        "start_time": "2023-04-12T11:47:36.113Z"
      },
      {
        "duration": 27,
        "start_time": "2023-04-12T12:04:04.357Z"
      },
      {
        "duration": 10,
        "start_time": "2023-04-12T12:04:19.991Z"
      },
      {
        "duration": 11,
        "start_time": "2023-04-12T12:04:33.641Z"
      },
      {
        "duration": 226,
        "start_time": "2023-04-12T12:06:12.979Z"
      },
      {
        "duration": 14,
        "start_time": "2023-04-12T12:08:03.847Z"
      },
      {
        "duration": 18685,
        "start_time": "2023-04-12T12:08:04.298Z"
      },
      {
        "duration": 14,
        "start_time": "2023-04-12T12:09:08.145Z"
      },
      {
        "duration": 3,
        "start_time": "2023-04-12T12:09:15.353Z"
      },
      {
        "duration": 13,
        "start_time": "2023-04-12T12:09:16.062Z"
      },
      {
        "duration": 13,
        "start_time": "2023-04-12T12:09:16.388Z"
      },
      {
        "duration": 24,
        "start_time": "2023-04-12T12:11:00.250Z"
      },
      {
        "duration": 180,
        "start_time": "2023-04-12T12:12:43.706Z"
      },
      {
        "duration": 180,
        "start_time": "2023-04-12T12:13:41.104Z"
      },
      {
        "duration": 8,
        "start_time": "2023-04-12T12:13:46.133Z"
      },
      {
        "duration": 5,
        "start_time": "2023-04-12T12:15:24.481Z"
      },
      {
        "duration": 12574,
        "start_time": "2023-04-12T12:15:43.386Z"
      },
      {
        "duration": 12265,
        "start_time": "2023-04-12T12:16:12.991Z"
      },
      {
        "duration": 40,
        "start_time": "2023-04-12T12:16:36.750Z"
      },
      {
        "duration": 9,
        "start_time": "2023-04-12T12:16:52.738Z"
      },
      {
        "duration": 4,
        "start_time": "2023-04-12T12:17:03.797Z"
      },
      {
        "duration": 4,
        "start_time": "2023-04-12T12:17:04.360Z"
      },
      {
        "duration": 31,
        "start_time": "2023-04-12T12:17:17.780Z"
      },
      {
        "duration": 29,
        "start_time": "2023-04-12T12:17:31.427Z"
      },
      {
        "duration": 4,
        "start_time": "2023-04-12T12:17:32.553Z"
      },
      {
        "duration": 3,
        "start_time": "2023-04-12T12:20:17.759Z"
      },
      {
        "duration": 18,
        "start_time": "2023-04-12T12:42:45.354Z"
      },
      {
        "duration": 10,
        "start_time": "2023-04-12T12:50:21.410Z"
      },
      {
        "duration": 3,
        "start_time": "2023-04-12T12:50:25.087Z"
      },
      {
        "duration": 7,
        "start_time": "2023-04-12T12:50:25.571Z"
      },
      {
        "duration": 3,
        "start_time": "2023-04-12T17:15:11.480Z"
      },
      {
        "duration": 2925,
        "start_time": "2023-04-12T17:15:11.485Z"
      },
      {
        "duration": 129,
        "start_time": "2023-04-12T17:15:14.412Z"
      },
      {
        "duration": 21,
        "start_time": "2023-04-12T17:15:14.544Z"
      },
      {
        "duration": 12,
        "start_time": "2023-04-12T17:15:14.567Z"
      },
      {
        "duration": 18,
        "start_time": "2023-04-12T17:15:14.581Z"
      },
      {
        "duration": 13,
        "start_time": "2023-04-12T17:15:14.601Z"
      },
      {
        "duration": 34,
        "start_time": "2023-04-12T17:15:14.616Z"
      },
      {
        "duration": 10,
        "start_time": "2023-04-12T17:15:14.653Z"
      },
      {
        "duration": 38,
        "start_time": "2023-04-12T17:15:14.667Z"
      },
      {
        "duration": 264,
        "start_time": "2023-04-12T17:15:14.707Z"
      },
      {
        "duration": 3,
        "start_time": "2023-04-12T17:15:14.973Z"
      },
      {
        "duration": 12,
        "start_time": "2023-04-12T17:15:14.978Z"
      },
      {
        "duration": 102,
        "start_time": "2023-04-12T17:15:14.992Z"
      },
      {
        "duration": 0,
        "start_time": "2023-04-12T17:15:15.096Z"
      },
      {
        "duration": 0,
        "start_time": "2023-04-12T17:15:15.097Z"
      },
      {
        "duration": 0,
        "start_time": "2023-04-12T17:15:15.099Z"
      },
      {
        "duration": 0,
        "start_time": "2023-04-12T17:15:15.100Z"
      },
      {
        "duration": 0,
        "start_time": "2023-04-12T17:15:15.101Z"
      },
      {
        "duration": 0,
        "start_time": "2023-04-12T17:15:15.102Z"
      },
      {
        "duration": 0,
        "start_time": "2023-04-12T17:15:15.104Z"
      },
      {
        "duration": 0,
        "start_time": "2023-04-12T17:15:15.105Z"
      },
      {
        "duration": 0,
        "start_time": "2023-04-12T17:15:15.107Z"
      },
      {
        "duration": 0,
        "start_time": "2023-04-12T17:15:15.108Z"
      },
      {
        "duration": 0,
        "start_time": "2023-04-12T17:15:15.109Z"
      },
      {
        "duration": 0,
        "start_time": "2023-04-12T17:15:15.111Z"
      },
      {
        "duration": 0,
        "start_time": "2023-04-12T17:15:15.112Z"
      },
      {
        "duration": 0,
        "start_time": "2023-04-12T17:15:15.114Z"
      },
      {
        "duration": 0,
        "start_time": "2023-04-12T17:15:15.115Z"
      },
      {
        "duration": 99,
        "start_time": "2023-04-12T17:18:43.073Z"
      },
      {
        "duration": 113,
        "start_time": "2023-04-12T17:20:35.853Z"
      },
      {
        "duration": 2,
        "start_time": "2023-04-12T17:20:40.512Z"
      },
      {
        "duration": 12859,
        "start_time": "2023-04-12T17:20:41.354Z"
      },
      {
        "duration": 4,
        "start_time": "2023-04-12T17:20:54.215Z"
      },
      {
        "duration": 5,
        "start_time": "2023-04-12T17:20:54.234Z"
      },
      {
        "duration": 48,
        "start_time": "2023-04-12T17:20:54.243Z"
      },
      {
        "duration": 4,
        "start_time": "2023-04-12T17:20:54.294Z"
      },
      {
        "duration": 16,
        "start_time": "2023-04-12T17:20:54.300Z"
      },
      {
        "duration": 4,
        "start_time": "2023-04-12T17:20:54.333Z"
      },
      {
        "duration": 7,
        "start_time": "2023-04-12T17:20:54.339Z"
      },
      {
        "duration": 10,
        "start_time": "2023-04-12T17:20:54.348Z"
      },
      {
        "duration": 24,
        "start_time": "2023-04-12T17:20:54.361Z"
      },
      {
        "duration": 6,
        "start_time": "2023-04-12T17:20:54.387Z"
      },
      {
        "duration": 6,
        "start_time": "2023-04-12T17:20:54.394Z"
      },
      {
        "duration": 34,
        "start_time": "2023-04-12T17:20:54.402Z"
      },
      {
        "duration": 1476,
        "start_time": "2023-04-13T10:21:57.818Z"
      },
      {
        "duration": 3,
        "start_time": "2023-04-13T10:22:05.750Z"
      },
      {
        "duration": 260,
        "start_time": "2023-04-13T10:22:05.754Z"
      },
      {
        "duration": 123,
        "start_time": "2023-04-13T10:22:06.016Z"
      },
      {
        "duration": 12,
        "start_time": "2023-04-13T10:22:06.140Z"
      },
      {
        "duration": 22,
        "start_time": "2023-04-13T10:22:06.154Z"
      },
      {
        "duration": 34,
        "start_time": "2023-04-13T10:22:06.178Z"
      },
      {
        "duration": 13,
        "start_time": "2023-04-13T10:22:06.213Z"
      },
      {
        "duration": 28,
        "start_time": "2023-04-13T10:22:06.227Z"
      },
      {
        "duration": 7,
        "start_time": "2023-04-13T10:22:06.256Z"
      },
      {
        "duration": 25,
        "start_time": "2023-04-13T10:22:06.264Z"
      },
      {
        "duration": 231,
        "start_time": "2023-04-13T10:22:06.290Z"
      },
      {
        "duration": 3,
        "start_time": "2023-04-13T10:22:06.523Z"
      },
      {
        "duration": 6,
        "start_time": "2023-04-13T10:22:06.528Z"
      },
      {
        "duration": 36,
        "start_time": "2023-04-13T10:22:06.548Z"
      },
      {
        "duration": 0,
        "start_time": "2023-04-13T10:22:06.585Z"
      },
      {
        "duration": 0,
        "start_time": "2023-04-13T10:22:06.586Z"
      },
      {
        "duration": 0,
        "start_time": "2023-04-13T10:22:06.588Z"
      },
      {
        "duration": 0,
        "start_time": "2023-04-13T10:22:06.589Z"
      },
      {
        "duration": 0,
        "start_time": "2023-04-13T10:22:06.591Z"
      },
      {
        "duration": 0,
        "start_time": "2023-04-13T10:22:06.592Z"
      },
      {
        "duration": 0,
        "start_time": "2023-04-13T10:22:06.594Z"
      },
      {
        "duration": 0,
        "start_time": "2023-04-13T10:22:06.595Z"
      },
      {
        "duration": 0,
        "start_time": "2023-04-13T10:22:06.596Z"
      },
      {
        "duration": 0,
        "start_time": "2023-04-13T10:22:06.598Z"
      },
      {
        "duration": 0,
        "start_time": "2023-04-13T10:22:06.599Z"
      },
      {
        "duration": 0,
        "start_time": "2023-04-13T10:22:06.600Z"
      },
      {
        "duration": 0,
        "start_time": "2023-04-13T10:22:06.601Z"
      },
      {
        "duration": 0,
        "start_time": "2023-04-13T10:22:06.602Z"
      },
      {
        "duration": 0,
        "start_time": "2023-04-13T10:22:06.603Z"
      },
      {
        "duration": 11,
        "start_time": "2023-04-13T10:22:17.345Z"
      },
      {
        "duration": 2681,
        "start_time": "2023-06-28T14:54:58.236Z"
      },
      {
        "duration": 186,
        "start_time": "2023-06-28T14:55:00.919Z"
      },
      {
        "duration": 57,
        "start_time": "2023-06-28T14:55:01.116Z"
      },
      {
        "duration": 67,
        "start_time": "2023-06-28T14:55:01.188Z"
      },
      {
        "duration": 62,
        "start_time": "2023-06-28T14:55:01.258Z"
      },
      {
        "duration": 91,
        "start_time": "2023-06-28T14:55:01.323Z"
      },
      {
        "duration": 140,
        "start_time": "2023-06-28T14:55:01.416Z"
      },
      {
        "duration": 22,
        "start_time": "2023-06-28T14:55:02.107Z"
      },
      {
        "duration": 17,
        "start_time": "2023-06-28T14:55:02.808Z"
      },
      {
        "duration": 629,
        "start_time": "2023-06-28T14:55:04.300Z"
      },
      {
        "duration": 5,
        "start_time": "2023-06-28T14:55:07.914Z"
      },
      {
        "duration": 25,
        "start_time": "2023-06-28T14:55:08.155Z"
      },
      {
        "duration": 115,
        "start_time": "2023-06-28T14:55:11.658Z"
      },
      {
        "duration": 405,
        "start_time": "2023-06-28T14:55:11.779Z"
      },
      {
        "duration": 23289,
        "start_time": "2023-06-28T14:55:14.157Z"
      }
    ],
    "kernelspec": {
      "display_name": "Python 3 (ipykernel)",
      "language": "python",
      "name": "python3"
    },
    "language_info": {
      "codemirror_mode": {
        "name": "ipython",
        "version": 3
      },
      "file_extension": ".py",
      "mimetype": "text/x-python",
      "name": "python",
      "nbconvert_exporter": "python",
      "pygments_lexer": "ipython3",
      "version": "3.9.5"
    },
    "toc": {
      "base_numbering": 1,
      "nav_menu": {},
      "number_sections": true,
      "sideBar": true,
      "skip_h1_title": true,
      "title_cell": "Table of Contents",
      "title_sidebar": "Contents",
      "toc_cell": false,
      "toc_position": {},
      "toc_section_display": true,
      "toc_window_display": false
    },
    "colab": {
      "provenance": []
    }
  },
  "nbformat": 4,
  "nbformat_minor": 0
}