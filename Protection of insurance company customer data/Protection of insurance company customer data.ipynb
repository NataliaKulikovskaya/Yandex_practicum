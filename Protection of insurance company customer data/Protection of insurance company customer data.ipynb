{
  "cells": [
    {
      "cell_type": "markdown",
      "metadata": {
        "id": "MUsJqH08KGGq"
      },
      "source": [
        "# Защита персональных данных клиентов"
      ]
    },
    {
      "cell_type": "markdown",
      "metadata": {
        "id": "Sr9Jad-wKGGq"
      },
      "source": [
        "Небходимо защитить данные клиентов страховой компании «Хоть потоп». Целью является разработка метода преобразования данных, чтобы по ним было сложно восстановить персональную информацию. Обосновать корректность его работы.\n",
        "\n",
        "Нужно защитить данные, чтобы при преобразовании качество моделей машинного обучения не ухудшилось. Подбирать наилучшую модель не требуется."
      ]
    },
    {
      "cell_type": "markdown",
      "metadata": {
        "id": "lPFQx7qdKGGq"
      },
      "source": [
        "**Описание данных:**\n",
        "    \n",
        "    \n",
        "* **Признаки:** пол, возраст и зарплата застрахованного, количество членов его семьи.\n",
        "* **Целевой признак:** количество страховых выплат клиенту за последние 5 лет."
      ]
    },
    {
      "cell_type": "markdown",
      "metadata": {
        "id": "UPa2ElPYKGGr"
      },
      "source": [
        "## Загрузка данных"
      ]
    },
    {
      "cell_type": "code",
      "execution_count": 2,
      "metadata": {
        "id": "v8TGh7YIKGGr"
      },
      "outputs": [],
      "source": [
        "# Импортируем библиотеки\n",
        "\n",
        "import pandas as pd\n",
        "import numpy as np\n",
        "import matplotlib.pyplot as plt\n",
        "import seaborn as sns\n",
        "from sklearn.metrics import r2_score\n",
        "from sklearn.preprocessing import StandardScaler\n",
        "from sklearn.linear_model import LinearRegression\n",
        "\n",
        "import warnings\n",
        "warnings.simplefilter('ignore')"
      ]
    },
    {
      "cell_type": "code",
      "execution_count": 3,
      "metadata": {
        "id": "NEqZtCOgKGGs"
      },
      "outputs": [],
      "source": [
        "# откроем данные\n",
        "\n",
        "data = pd.read_csv('/datasets/insurance.csv')"
      ]
    },
    {
      "cell_type": "code",
      "execution_count": null,
      "metadata": {
        "id": "fgN3Z9JMKGGs"
      },
      "outputs": [],
      "source": [
        "# Функция для вывода информации об изучаемых данных\n",
        "\n",
        "def data_info(data):\n",
        "\n",
        "    display(data.head(10))\n",
        "    display(data.describe())\n",
        "    print(data.info())\n",
        "    print('Количество дубликатов:', sum(data.duplicated()))"
      ]
    },
    {
      "cell_type": "code",
      "execution_count": null,
      "metadata": {
        "id": "YhbfvHHZKGGt",
        "outputId": "65618a77-b01e-4793-ad4f-b71d3ac37665"
      },
      "outputs": [
        {
          "data": {
            "text/html": [
              "<div>\n",
              "<style scoped>\n",
              "    .dataframe tbody tr th:only-of-type {\n",
              "        vertical-align: middle;\n",
              "    }\n",
              "\n",
              "    .dataframe tbody tr th {\n",
              "        vertical-align: top;\n",
              "    }\n",
              "\n",
              "    .dataframe thead th {\n",
              "        text-align: right;\n",
              "    }\n",
              "</style>\n",
              "<table border=\"1\" class=\"dataframe\">\n",
              "  <thead>\n",
              "    <tr style=\"text-align: right;\">\n",
              "      <th></th>\n",
              "      <th>Пол</th>\n",
              "      <th>Возраст</th>\n",
              "      <th>Зарплата</th>\n",
              "      <th>Члены семьи</th>\n",
              "      <th>Страховые выплаты</th>\n",
              "    </tr>\n",
              "  </thead>\n",
              "  <tbody>\n",
              "    <tr>\n",
              "      <th>0</th>\n",
              "      <td>1</td>\n",
              "      <td>41.0</td>\n",
              "      <td>49600.0</td>\n",
              "      <td>1</td>\n",
              "      <td>0</td>\n",
              "    </tr>\n",
              "    <tr>\n",
              "      <th>1</th>\n",
              "      <td>0</td>\n",
              "      <td>46.0</td>\n",
              "      <td>38000.0</td>\n",
              "      <td>1</td>\n",
              "      <td>1</td>\n",
              "    </tr>\n",
              "    <tr>\n",
              "      <th>2</th>\n",
              "      <td>0</td>\n",
              "      <td>29.0</td>\n",
              "      <td>21000.0</td>\n",
              "      <td>0</td>\n",
              "      <td>0</td>\n",
              "    </tr>\n",
              "    <tr>\n",
              "      <th>3</th>\n",
              "      <td>0</td>\n",
              "      <td>21.0</td>\n",
              "      <td>41700.0</td>\n",
              "      <td>2</td>\n",
              "      <td>0</td>\n",
              "    </tr>\n",
              "    <tr>\n",
              "      <th>4</th>\n",
              "      <td>1</td>\n",
              "      <td>28.0</td>\n",
              "      <td>26100.0</td>\n",
              "      <td>0</td>\n",
              "      <td>0</td>\n",
              "    </tr>\n",
              "    <tr>\n",
              "      <th>5</th>\n",
              "      <td>1</td>\n",
              "      <td>43.0</td>\n",
              "      <td>41000.0</td>\n",
              "      <td>2</td>\n",
              "      <td>1</td>\n",
              "    </tr>\n",
              "    <tr>\n",
              "      <th>6</th>\n",
              "      <td>1</td>\n",
              "      <td>39.0</td>\n",
              "      <td>39700.0</td>\n",
              "      <td>2</td>\n",
              "      <td>0</td>\n",
              "    </tr>\n",
              "    <tr>\n",
              "      <th>7</th>\n",
              "      <td>1</td>\n",
              "      <td>25.0</td>\n",
              "      <td>38600.0</td>\n",
              "      <td>4</td>\n",
              "      <td>0</td>\n",
              "    </tr>\n",
              "    <tr>\n",
              "      <th>8</th>\n",
              "      <td>1</td>\n",
              "      <td>36.0</td>\n",
              "      <td>49700.0</td>\n",
              "      <td>1</td>\n",
              "      <td>0</td>\n",
              "    </tr>\n",
              "    <tr>\n",
              "      <th>9</th>\n",
              "      <td>1</td>\n",
              "      <td>32.0</td>\n",
              "      <td>51700.0</td>\n",
              "      <td>1</td>\n",
              "      <td>0</td>\n",
              "    </tr>\n",
              "  </tbody>\n",
              "</table>\n",
              "</div>"
            ],
            "text/plain": [
              "   Пол  Возраст  Зарплата  Члены семьи  Страховые выплаты\n",
              "0    1     41.0   49600.0            1                  0\n",
              "1    0     46.0   38000.0            1                  1\n",
              "2    0     29.0   21000.0            0                  0\n",
              "3    0     21.0   41700.0            2                  0\n",
              "4    1     28.0   26100.0            0                  0\n",
              "5    1     43.0   41000.0            2                  1\n",
              "6    1     39.0   39700.0            2                  0\n",
              "7    1     25.0   38600.0            4                  0\n",
              "8    1     36.0   49700.0            1                  0\n",
              "9    1     32.0   51700.0            1                  0"
            ]
          },
          "metadata": {},
          "output_type": "display_data"
        },
        {
          "data": {
            "text/html": [
              "<div>\n",
              "<style scoped>\n",
              "    .dataframe tbody tr th:only-of-type {\n",
              "        vertical-align: middle;\n",
              "    }\n",
              "\n",
              "    .dataframe tbody tr th {\n",
              "        vertical-align: top;\n",
              "    }\n",
              "\n",
              "    .dataframe thead th {\n",
              "        text-align: right;\n",
              "    }\n",
              "</style>\n",
              "<table border=\"1\" class=\"dataframe\">\n",
              "  <thead>\n",
              "    <tr style=\"text-align: right;\">\n",
              "      <th></th>\n",
              "      <th>Пол</th>\n",
              "      <th>Возраст</th>\n",
              "      <th>Зарплата</th>\n",
              "      <th>Члены семьи</th>\n",
              "      <th>Страховые выплаты</th>\n",
              "    </tr>\n",
              "  </thead>\n",
              "  <tbody>\n",
              "    <tr>\n",
              "      <th>count</th>\n",
              "      <td>5000.000000</td>\n",
              "      <td>5000.000000</td>\n",
              "      <td>5000.000000</td>\n",
              "      <td>5000.000000</td>\n",
              "      <td>5000.000000</td>\n",
              "    </tr>\n",
              "    <tr>\n",
              "      <th>mean</th>\n",
              "      <td>0.499000</td>\n",
              "      <td>30.952800</td>\n",
              "      <td>39916.360000</td>\n",
              "      <td>1.194200</td>\n",
              "      <td>0.148000</td>\n",
              "    </tr>\n",
              "    <tr>\n",
              "      <th>std</th>\n",
              "      <td>0.500049</td>\n",
              "      <td>8.440807</td>\n",
              "      <td>9900.083569</td>\n",
              "      <td>1.091387</td>\n",
              "      <td>0.463183</td>\n",
              "    </tr>\n",
              "    <tr>\n",
              "      <th>min</th>\n",
              "      <td>0.000000</td>\n",
              "      <td>18.000000</td>\n",
              "      <td>5300.000000</td>\n",
              "      <td>0.000000</td>\n",
              "      <td>0.000000</td>\n",
              "    </tr>\n",
              "    <tr>\n",
              "      <th>25%</th>\n",
              "      <td>0.000000</td>\n",
              "      <td>24.000000</td>\n",
              "      <td>33300.000000</td>\n",
              "      <td>0.000000</td>\n",
              "      <td>0.000000</td>\n",
              "    </tr>\n",
              "    <tr>\n",
              "      <th>50%</th>\n",
              "      <td>0.000000</td>\n",
              "      <td>30.000000</td>\n",
              "      <td>40200.000000</td>\n",
              "      <td>1.000000</td>\n",
              "      <td>0.000000</td>\n",
              "    </tr>\n",
              "    <tr>\n",
              "      <th>75%</th>\n",
              "      <td>1.000000</td>\n",
              "      <td>37.000000</td>\n",
              "      <td>46600.000000</td>\n",
              "      <td>2.000000</td>\n",
              "      <td>0.000000</td>\n",
              "    </tr>\n",
              "    <tr>\n",
              "      <th>max</th>\n",
              "      <td>1.000000</td>\n",
              "      <td>65.000000</td>\n",
              "      <td>79000.000000</td>\n",
              "      <td>6.000000</td>\n",
              "      <td>5.000000</td>\n",
              "    </tr>\n",
              "  </tbody>\n",
              "</table>\n",
              "</div>"
            ],
            "text/plain": [
              "               Пол      Возраст      Зарплата  Члены семьи  Страховые выплаты\n",
              "count  5000.000000  5000.000000   5000.000000  5000.000000        5000.000000\n",
              "mean      0.499000    30.952800  39916.360000     1.194200           0.148000\n",
              "std       0.500049     8.440807   9900.083569     1.091387           0.463183\n",
              "min       0.000000    18.000000   5300.000000     0.000000           0.000000\n",
              "25%       0.000000    24.000000  33300.000000     0.000000           0.000000\n",
              "50%       0.000000    30.000000  40200.000000     1.000000           0.000000\n",
              "75%       1.000000    37.000000  46600.000000     2.000000           0.000000\n",
              "max       1.000000    65.000000  79000.000000     6.000000           5.000000"
            ]
          },
          "metadata": {},
          "output_type": "display_data"
        },
        {
          "name": "stdout",
          "output_type": "stream",
          "text": [
            "<class 'pandas.core.frame.DataFrame'>\n",
            "RangeIndex: 5000 entries, 0 to 4999\n",
            "Data columns (total 5 columns):\n",
            " #   Column             Non-Null Count  Dtype  \n",
            "---  ------             --------------  -----  \n",
            " 0   Пол                5000 non-null   int64  \n",
            " 1   Возраст            5000 non-null   float64\n",
            " 2   Зарплата           5000 non-null   float64\n",
            " 3   Члены семьи        5000 non-null   int64  \n",
            " 4   Страховые выплаты  5000 non-null   int64  \n",
            "dtypes: float64(2), int64(3)\n",
            "memory usage: 195.4 KB\n",
            "None\n",
            "Количество дубликатов: 153\n"
          ]
        }
      ],
      "source": [
        "data_info(data)"
      ]
    },
    {
      "cell_type": "code",
      "execution_count": 5,
      "metadata": {
        "colab": {
          "base_uri": "https://localhost:8080/",
          "height": 1000
        },
        "id": "uU-lRCMQKGGt",
        "outputId": "2b7fd524-f583-4c76-f945-3cad26b5fa13"
      },
      "outputs": [
        {
          "output_type": "display_data",
          "data": {
            "text/plain": [
              "<Figure size 1000x200 with 1 Axes>"
            ],
            "image/png": "[encoded data removed]"
          },
          "metadata": {}
        },
        {
          "output_type": "display_data",
          "data": {
            "text/plain": [
              "<Figure size 1000x400 with 1 Axes>"
            ],
            "image/png": "[encoded data removed]"
          },
          "metadata": {}
        },
        {
          "output_type": "display_data",
          "data": {
            "text/plain": [
              "<Figure size 1000x400 with 1 Axes>"
            ],
            "image/png": "[encoded data removed]"
          },
          "metadata": {}
        },
        {
          "output_type": "display_data",
          "data": {
            "text/plain": [
              "<Figure size 1000x400 with 1 Axes>"
            ],
            "image/png": "[encoded data removed]"
          },
          "metadata": {}
        },
        {
          "output_type": "display_data",
          "data": {
            "text/plain": [
              "<Figure size 1000x400 with 1 Axes>"
            ],
            "image/png": "[encoded data removed]"
          },
          "metadata": {}
        }
      ],
      "source": [
        "# Рассмотрим распределение по признакам\n",
        "\n",
        "fig, ax = plt.subplots(figsize=(10, 2))\n",
        "sns.countplot(y='Пол', data=data, palette='rocket')\n",
        "ax.set_title('Распределение по полу')\n",
        "plt.xlabel('Количество');\n",
        "\n",
        "sns.set()\n",
        "fig, ax = plt.subplots(figsize=(10, 4))\n",
        "sns.distplot(data['Возраст'], bins=len(data['Возраст'].unique()),color = '#5c0a34')\n",
        "ax.set_title('Распределение по возрасту')\n",
        "plt.ylabel('Плотность частоты');\n",
        "\n",
        "fig, ax = plt.subplots(figsize=(10, 4))\n",
        "sns.distplot(data['Зарплата'], color = '#5c0a34')\n",
        "ax.set_title('Распределение по зарплате')\n",
        "plt.ylabel('Плотность частоты');\n",
        "\n",
        "sns.set()\n",
        "fig, ax = plt.subplots(figsize=(10, 4))\n",
        "sns.countplot(x='Члены семьи', data=data, palette='rocket')\n",
        "ax.set_title('Распределение по количеству членов семьи')\n",
        "plt.ylabel('Количество');\n",
        "\n",
        "fig, ax = plt.subplots(figsize=(10, 4))\n",
        "sns.countplot(y='Страховые выплаты', data=data, palette='rocket')\n",
        "ax.set_title('Распределение по количеству страховых выплат')\n",
        "plt.xlabel('Количество');"
      ]
    },
    {
      "cell_type": "markdown",
      "metadata": {
        "id": "cjbsqoThKGGu"
      },
      "source": [
        "### Выводы"
      ]
    },
    {
      "cell_type": "markdown",
      "metadata": {
        "id": "hukUwiSFKGGu"
      },
      "source": [
        "Анализ данных показал, что в выборке предоставлены данные примерно в равной степени о мужчинах и оженщинах. Так же большая часть данных о людях в возрасте от 18 до 35 лет, большая часть которых получают зарплату около 40 тыс. рублей. В таблице приведены данные в большей степени либо про одинких людей, либо о семьях из 2х человек. Это коррелирует с данными о возрасте, так как многие люди заводят детей после 30-35 лет.\n",
        "\n",
        "В данных обнаружены 153 дубликата."
      ]
    },
    {
      "cell_type": "markdown",
      "metadata": {
        "id": "vwlCxQvvKGGu"
      },
      "source": [
        "## Умножение матриц"
      ]
    },
    {
      "cell_type": "markdown",
      "metadata": {
        "id": "ldt8snl3KGGu"
      },
      "source": [
        "Обозначения:\n",
        "\n",
        "- $X$ — матрица признаков (нулевой столбец состоит из единиц)\n",
        "\n",
        "- $y$ — вектор целевого признака\n",
        "\n",
        "- $P$ — матрица, на которую умножаются признаки\n",
        "\n",
        "- $w$ — вектор весов линейной регрессии (нулевой элемент равен сдвигу)"
      ]
    },
    {
      "cell_type": "markdown",
      "metadata": {
        "id": "-cX7ur6uKGGu"
      },
      "source": [
        "Предсказания:\n",
        "\n",
        "$$\n",
        "a = Xw\n",
        "$$\n",
        "\n",
        "Задача обучения:\n",
        "\n",
        "$$\n",
        "w = \\arg\\min_w MSE(Xw, y)\n",
        "$$\n",
        "\n",
        "Формула обучения:\n",
        "\n",
        "$$\n",
        "w = (X^T X)^{-1} X^T y\n",
        "$$"
      ]
    },
    {
      "cell_type": "markdown",
      "metadata": {
        "id": "39lHpNe_KGGv"
      },
      "source": [
        "**Изменится ли качество линейной регрессии?**"
      ]
    },
    {
      "cell_type": "markdown",
      "metadata": {
        "id": "7JrfbAO1KGGv"
      },
      "source": [
        "**Ответ:**\n",
        "Качество линейной регрессии не изменится."
      ]
    },
    {
      "cell_type": "markdown",
      "metadata": {
        "id": "fQGhFldyKGGv"
      },
      "source": [
        "**Обоснование:**"
      ]
    },
    {
      "cell_type": "markdown",
      "metadata": {
        "id": "AFFPnE7ZKGGv"
      },
      "source": [
        "Пусть  X — матрица признаков, O — обратимая матрица.\n",
        "\n",
        "Тогда, домножим признаки на обратимую матрицу:\n",
        "\n",
        "$$\n",
        "w = ((XO)^TXO)^{-1}(XO)^Ty\n",
        "$$\n",
        "\n",
        "$$\n",
        "w = O^{-1}(O^TX^TX)^{-1}O^TX^Ty\n",
        "$$\n",
        "\n",
        "$$\n",
        "w = O^{-1}(X^TX)^{-1}(O^T)(O^T)^{-1}X^Ty\n",
        "$$\n",
        "\n",
        "Так как произведение матрицы на обратную ей матрицу дает единичную матрицу, то сократим уравнение\n",
        "\n",
        "$$\n",
        "w = O^{-1}(X^TX)^{-1}X^Ty\n",
        "$$\n",
        "\n",
        "Сократим выражение в соответствии с формулой обучения и подставим в формулу предсказания:\n",
        "\n",
        "\n",
        "$$\n",
        "a = Xw\n",
        "$$\n",
        "\n",
        "При умножении на обратимую матрицу, качество линейной регресии не изменится."
      ]
    },
    {
      "cell_type": "markdown",
      "metadata": {
        "id": "ZbqkwXTGKGGv"
      },
      "source": [
        "## Алгоритм преобразования"
      ]
    },
    {
      "cell_type": "markdown",
      "metadata": {
        "id": "W4XsqyjbKGGv"
      },
      "source": [
        "**Алгоритм**\n",
        "\n",
        "* Разделить данные на признаки и целевой признак.\n",
        "* Создать случайную матрицу.\n",
        "* Проверить ее на обратимость.\n",
        "* Умножить на признаки.\n",
        "* Найдем метрики обученной модели на исходных признаках и на признаках умноженных на нашу матрицу. Сравнить метрики между собой."
      ]
    },
    {
      "cell_type": "markdown",
      "metadata": {
        "id": "LDG3QGUsKGGv"
      },
      "source": [
        "**Обоснование**\n",
        "\n",
        "В пункте 3 было показано, что умножение признаков на обратимую квадратную матрицу не изменяет значение предсказаний."
      ]
    },
    {
      "cell_type": "markdown",
      "metadata": {
        "id": "34ae_pe4KGGw"
      },
      "source": [
        "## Проверка алгоритма"
      ]
    },
    {
      "cell_type": "code",
      "execution_count": null,
      "metadata": {
        "id": "DdjfwvftKGGw"
      },
      "outputs": [],
      "source": [
        "# Разделим данные на признаки и целевой признак: features и target\n",
        "\n",
        "features = data.drop('Страховые выплаты', axis=1)\n",
        "target = data['Страховые выплаты']"
      ]
    },
    {
      "cell_type": "code",
      "execution_count": null,
      "metadata": {
        "id": "Md35AKyKKGGw"
      },
      "outputs": [],
      "source": [
        "# Создадим класс LinReg\n",
        "\n",
        "class LinReg:\n",
        "    def fit(self, train_features, train_target):\n",
        "        X = np.concatenate((np.ones((train_features.shape[0], 1)), train_features), axis=1)\n",
        "        y = train_target\n",
        "        w = np.linalg.inv((X.T @ X)).dot(X.T).dot(y)\n",
        "        self.w = w[1:]\n",
        "        self.w0 = w[0]\n",
        "        print(w)\n",
        "\n",
        "    def predict(self, test_features):\n",
        "        return test_features.dot(self.w) + self.w0"
      ]
    },
    {
      "cell_type": "code",
      "execution_count": null,
      "metadata": {
        "id": "UEMogKUEKGGw"
      },
      "outputs": [],
      "source": [
        "# Напишем функцию преобразования исходных данных в зашифрованный вид. Для этого закодируем исходную матрицу.\n",
        "\n",
        "def encode(features):\n",
        "    random_matrix = np.random.normal(0, 1, (features.shape[1], features.shape[1]))\n",
        "    encoded_features = features.dot(random_matrix)\n",
        "    return encoded_features"
      ]
    },
    {
      "cell_type": "code",
      "execution_count": null,
      "metadata": {
        "id": "_oL8rDiTKGGx"
      },
      "outputs": [],
      "source": [
        "# Создадим и обучим модель. Используя обучающую выборку найдем предсказания и сохраним их в переменной predictions.\n",
        "# Напечатаем на экране веса и значение метрики R2, вычисленной по MSE.\n",
        "\n",
        "model = LinReg()\n",
        "model.fit(features, target)\n",
        "predictions = model.predict(features)\n",
        "r2_score(target, predictions)"
      ]
    },
    {
      "cell_type": "code",
      "execution_count": null,
      "metadata": {
        "id": "1GDGIsppKGGx"
      },
      "outputs": [],
      "source": [
        "# Создадим случайную квадратную матрицу.Размер матрицы по количеству столбцов features.\n",
        "\n",
        "random_matrix = np.random.normal(0, 1, (features.shape[1], features.shape[1]))\n",
        "random_matrix"
      ]
    },
    {
      "cell_type": "code",
      "execution_count": null,
      "metadata": {
        "id": "fqIX9izhKGGx"
      },
      "outputs": [],
      "source": [
        "# Получим обратную матрицу методом np.linalg.inv().\n",
        "\n",
        "np.linalg.inv(random_matrix)"
      ]
    },
    {
      "cell_type": "code",
      "execution_count": null,
      "metadata": {
        "id": "0wi3qvwnKGGx"
      },
      "outputs": [],
      "source": [
        "# Получим произведение исходной и обратной матриц.\n",
        "\n",
        "random_matrix @ np.linalg.inv(random_matrix)"
      ]
    },
    {
      "cell_type": "code",
      "execution_count": null,
      "metadata": {
        "id": "Mzu_D4jPKGGy"
      },
      "outputs": [],
      "source": [
        "# Умножим признаки на обратимую матрицу random_matrix.\n",
        "\n",
        "encoded_features = features.dot(random_matrix)\n",
        "encoded_features"
      ]
    },
    {
      "cell_type": "code",
      "execution_count": null,
      "metadata": {
        "id": "uk5FyHg9KGGy"
      },
      "outputs": [],
      "source": [
        "# Обучим модель на новых признаках.\n",
        "\n",
        "model = LinReg()\n",
        "model.fit(encoded_features, target)\n",
        "predictions = model.predict(encoded_features)\n",
        "r2_score(target, predictions)"
      ]
    },
    {
      "cell_type": "markdown",
      "metadata": {
        "id": "pktEz2_jKGGy"
      },
      "source": [
        "### Выводы\n",
        "* R2 на исходных признаках: 0.42494550286668\n",
        "* R2 на преобразованных признаках: 0.4249455028666691\n",
        "\n",
        "Качество линейной регрессии не изменилось, можно сделать вывод, что алгоритм преобразования данных работает правильно."
      ]
    },
    {
      "cell_type": "markdown",
      "metadata": {
        "id": "ljgDS1_7KGGy"
      },
      "source": [
        "# Общий вывод:"
      ]
    },
    {
      "cell_type": "markdown",
      "metadata": {
        "id": "hm5XHI_gKGGy"
      },
      "source": [
        "* Приведены данные клиентов страховой компании (признаки: пол, возраст, размер зарплаты, кол-во членов семьи, кол-во страховых выплат за 5 лет), с целью является разработки метода преобразования данных, по которым было бы сложно восстановить персональную информацию.\n",
        "* Анализ данных показал, что в выборке предоставлены данные примерно в равной степени о мужчинах и оженщинах. Так же большая часть данных о людях в возрасте от 18 до 35 лет, большая часть которых получают зарплату около 40 тыс. рублей. В таблице приведены данные в большей степени либо про одинких людей, либо о семьях из 2х человек. Это коррелирует с данными о возрасте, так как многие люди заводят детей после 30-35 лет.\n",
        "* Было установлено, что при умножении на обратимую матрицу, качество линейной регресии не изменится.\n",
        "* Предложен алгоритм защиты персональных данных клиентов.Для этого признаки умножаются на случайную квадратную обратимую матрицу с размером равным количеству столбцов в выборке с признаками.\n",
        "* Проверили алгоритм. Метрика средней квадратичной ошибки при этом не ухудшилась."
      ]
    }
  ],
  "metadata": {
    "ExecuteTimeLog": [
      {
        "duration": 144,
        "start_time": "2023-06-25T07:43:22.214Z"
      },
      {
        "duration": 1667,
        "start_time": "2023-06-25T08:14:34.453Z"
      },
      {
        "duration": 81,
        "start_time": "2023-06-25T08:15:15.852Z"
      },
      {
        "duration": 30,
        "start_time": "2023-06-25T08:15:52.379Z"
      },
      {
        "duration": 5,
        "start_time": "2023-06-25T08:15:52.998Z"
      },
      {
        "duration": 47,
        "start_time": "2023-06-25T08:20:24.258Z"
      },
      {
        "duration": 178,
        "start_time": "2023-06-25T08:24:24.287Z"
      },
      {
        "duration": 301,
        "start_time": "2023-06-25T08:25:18.063Z"
      },
      {
        "duration": 331,
        "start_time": "2023-06-25T08:26:01.049Z"
      },
      {
        "duration": 284,
        "start_time": "2023-06-25T08:26:16.067Z"
      },
      {
        "duration": 274,
        "start_time": "2023-06-25T08:26:30.221Z"
      },
      {
        "duration": 374,
        "start_time": "2023-06-25T08:26:37.037Z"
      },
      {
        "duration": 430,
        "start_time": "2023-06-25T08:43:04.783Z"
      },
      {
        "duration": 732,
        "start_time": "2023-06-25T08:44:49.272Z"
      },
      {
        "duration": 705,
        "start_time": "2023-06-25T08:45:12.717Z"
      },
      {
        "duration": 107,
        "start_time": "2023-06-25T08:49:36.518Z"
      },
      {
        "duration": 85,
        "start_time": "2023-06-25T08:49:42.109Z"
      },
      {
        "duration": 334,
        "start_time": "2023-06-25T08:50:07.871Z"
      },
      {
        "duration": 102,
        "start_time": "2023-06-25T08:50:28.143Z"
      },
      {
        "duration": 89,
        "start_time": "2023-06-25T08:51:02.287Z"
      },
      {
        "duration": 91,
        "start_time": "2023-06-25T08:51:23.370Z"
      },
      {
        "duration": 146,
        "start_time": "2023-06-25T08:51:34.305Z"
      },
      {
        "duration": 689,
        "start_time": "2023-06-25T08:51:51.203Z"
      },
      {
        "duration": 3,
        "start_time": "2023-06-25T08:52:08.606Z"
      },
      {
        "duration": 29,
        "start_time": "2023-06-25T08:52:10.157Z"
      },
      {
        "duration": 4,
        "start_time": "2023-06-25T08:52:10.315Z"
      },
      {
        "duration": 61,
        "start_time": "2023-06-25T08:52:10.505Z"
      },
      {
        "duration": 908,
        "start_time": "2023-06-25T08:52:10.665Z"
      },
      {
        "duration": 926,
        "start_time": "2023-06-25T08:52:40.928Z"
      },
      {
        "duration": 593,
        "start_time": "2023-06-25T08:53:52.982Z"
      },
      {
        "duration": 1040,
        "start_time": "2023-06-25T08:54:06.999Z"
      },
      {
        "duration": 1109,
        "start_time": "2023-06-25T08:57:00.985Z"
      },
      {
        "duration": 981,
        "start_time": "2023-06-25T08:57:30.670Z"
      },
      {
        "duration": 1147,
        "start_time": "2023-06-25T08:57:54.295Z"
      },
      {
        "duration": 963,
        "start_time": "2023-06-25T08:58:08.549Z"
      },
      {
        "duration": 949,
        "start_time": "2023-06-25T08:58:38.923Z"
      },
      {
        "duration": 1159,
        "start_time": "2023-06-25T08:59:23.283Z"
      },
      {
        "duration": 973,
        "start_time": "2023-06-25T09:02:51.677Z"
      },
      {
        "duration": 4,
        "start_time": "2023-06-25T09:34:45.431Z"
      },
      {
        "duration": 6,
        "start_time": "2023-06-25T09:35:59.073Z"
      },
      {
        "duration": 12,
        "start_time": "2023-06-25T09:47:56.731Z"
      },
      {
        "duration": 111,
        "start_time": "2023-06-25T09:48:03.132Z"
      },
      {
        "duration": 8,
        "start_time": "2023-06-25T09:48:08.880Z"
      },
      {
        "duration": 10,
        "start_time": "2023-06-25T09:48:15.755Z"
      },
      {
        "duration": 5,
        "start_time": "2023-06-25T09:49:26.686Z"
      },
      {
        "duration": 10,
        "start_time": "2023-06-25T09:50:21.519Z"
      },
      {
        "duration": 5,
        "start_time": "2023-06-25T09:52:12.871Z"
      },
      {
        "duration": 6,
        "start_time": "2023-06-25T09:58:47.633Z"
      },
      {
        "duration": 12,
        "start_time": "2023-06-25T10:00:09.792Z"
      },
      {
        "duration": 10,
        "start_time": "2023-06-25T10:00:45.994Z"
      },
      {
        "duration": 5,
        "start_time": "2023-06-25T12:27:59.441Z"
      },
      {
        "duration": 4,
        "start_time": "2023-06-25T12:27:59.734Z"
      },
      {
        "duration": 5,
        "start_time": "2023-06-25T12:28:00.060Z"
      },
      {
        "duration": 4,
        "start_time": "2023-06-25T12:28:00.409Z"
      },
      {
        "duration": 18,
        "start_time": "2023-06-25T12:28:00.791Z"
      },
      {
        "duration": 8,
        "start_time": "2023-06-25T12:28:01.174Z"
      },
      {
        "duration": 6,
        "start_time": "2023-06-25T12:28:01.770Z"
      },
      {
        "duration": 6,
        "start_time": "2023-06-25T12:28:02.332Z"
      },
      {
        "duration": 12,
        "start_time": "2023-06-25T12:28:02.535Z"
      },
      {
        "duration": 20,
        "start_time": "2023-06-25T12:28:02.782Z"
      },
      {
        "duration": 5,
        "start_time": "2023-06-25T12:29:01.799Z"
      },
      {
        "duration": 7,
        "start_time": "2023-06-25T12:29:02.217Z"
      },
      {
        "duration": 3,
        "start_time": "2023-06-25T12:29:02.553Z"
      },
      {
        "duration": 4,
        "start_time": "2023-06-25T12:29:03.004Z"
      },
      {
        "duration": 10,
        "start_time": "2023-06-25T12:29:03.398Z"
      },
      {
        "duration": 6,
        "start_time": "2023-06-25T12:29:04.960Z"
      },
      {
        "duration": 8,
        "start_time": "2023-06-25T12:29:06.040Z"
      },
      {
        "duration": 5,
        "start_time": "2023-06-25T12:29:06.941Z"
      },
      {
        "duration": 12,
        "start_time": "2023-06-25T12:29:08.207Z"
      },
      {
        "duration": 10,
        "start_time": "2023-06-25T12:29:08.763Z"
      },
      {
        "duration": 4,
        "start_time": "2023-06-25T12:38:21.228Z"
      },
      {
        "duration": 5,
        "start_time": "2023-06-25T12:38:21.723Z"
      },
      {
        "duration": 18,
        "start_time": "2023-06-25T12:38:22.353Z"
      },
      {
        "duration": 5,
        "start_time": "2023-06-25T12:38:23.253Z"
      },
      {
        "duration": 115,
        "start_time": "2023-06-25T12:47:24.523Z"
      },
      {
        "duration": 217,
        "start_time": "2023-06-25T12:47:30.002Z"
      },
      {
        "duration": 148,
        "start_time": "2023-06-25T12:48:18.421Z"
      },
      {
        "duration": 118,
        "start_time": "2023-06-25T12:48:30.302Z"
      },
      {
        "duration": 3,
        "start_time": "2023-06-25T12:48:42.029Z"
      },
      {
        "duration": 284,
        "start_time": "2023-06-25T12:48:45.186Z"
      },
      {
        "duration": 108,
        "start_time": "2023-06-25T13:37:54.119Z"
      },
      {
        "duration": 5,
        "start_time": "2023-06-25T13:51:19.322Z"
      },
      {
        "duration": 68,
        "start_time": "2023-06-25T13:51:19.329Z"
      },
      {
        "duration": 10,
        "start_time": "2023-06-25T13:51:19.399Z"
      },
      {
        "duration": 128,
        "start_time": "2023-06-25T13:51:19.411Z"
      },
      {
        "duration": 1659,
        "start_time": "2023-06-25T13:51:19.551Z"
      },
      {
        "duration": 5,
        "start_time": "2023-06-25T13:51:21.214Z"
      },
      {
        "duration": 12,
        "start_time": "2023-06-25T13:51:21.221Z"
      },
      {
        "duration": 79,
        "start_time": "2023-06-25T13:51:21.236Z"
      },
      {
        "duration": 179,
        "start_time": "2023-06-25T13:51:21.325Z"
      },
      {
        "duration": 44,
        "start_time": "2023-06-25T13:51:21.512Z"
      },
      {
        "duration": 113,
        "start_time": "2023-06-25T13:51:21.558Z"
      },
      {
        "duration": 145,
        "start_time": "2023-06-25T13:51:21.676Z"
      },
      {
        "duration": 153,
        "start_time": "2023-06-25T13:51:21.845Z"
      },
      {
        "duration": 206,
        "start_time": "2023-06-25T13:51:22.002Z"
      },
      {
        "duration": 4,
        "start_time": "2023-06-25T13:57:24.636Z"
      },
      {
        "duration": 66,
        "start_time": "2023-06-25T13:57:24.643Z"
      },
      {
        "duration": 5,
        "start_time": "2023-06-25T13:57:24.712Z"
      },
      {
        "duration": 94,
        "start_time": "2023-06-25T13:57:24.719Z"
      },
      {
        "duration": 1037,
        "start_time": "2023-06-25T13:57:24.815Z"
      },
      {
        "duration": 5,
        "start_time": "2023-06-25T13:57:25.855Z"
      },
      {
        "duration": 10,
        "start_time": "2023-06-25T13:57:25.864Z"
      },
      {
        "duration": 25,
        "start_time": "2023-06-25T13:57:25.877Z"
      },
      {
        "duration": 115,
        "start_time": "2023-06-25T13:57:25.904Z"
      },
      {
        "duration": 19,
        "start_time": "2023-06-25T13:57:26.103Z"
      },
      {
        "duration": 10,
        "start_time": "2023-06-25T13:57:26.125Z"
      },
      {
        "duration": 12,
        "start_time": "2023-06-25T13:57:26.201Z"
      },
      {
        "duration": 94,
        "start_time": "2023-06-25T13:57:26.215Z"
      },
      {
        "duration": 189,
        "start_time": "2023-06-25T13:57:26.312Z"
      },
      {
        "duration": 2098,
        "start_time": "2023-06-25T15:50:14.694Z"
      },
      {
        "duration": 58,
        "start_time": "2023-06-25T15:50:16.794Z"
      },
      {
        "duration": 5,
        "start_time": "2023-06-25T15:50:16.854Z"
      },
      {
        "duration": 78,
        "start_time": "2023-06-25T15:50:16.862Z"
      },
      {
        "duration": 439,
        "start_time": "2023-06-25T15:50:16.945Z"
      },
      {
        "duration": 0,
        "start_time": "2023-06-25T15:50:17.386Z"
      },
      {
        "duration": 0,
        "start_time": "2023-06-25T15:50:17.388Z"
      },
      {
        "duration": 0,
        "start_time": "2023-06-25T15:50:17.389Z"
      },
      {
        "duration": 0,
        "start_time": "2023-06-25T15:50:17.391Z"
      },
      {
        "duration": 0,
        "start_time": "2023-06-25T15:50:17.392Z"
      },
      {
        "duration": 0,
        "start_time": "2023-06-25T15:50:17.394Z"
      },
      {
        "duration": 0,
        "start_time": "2023-06-25T15:50:17.395Z"
      },
      {
        "duration": 0,
        "start_time": "2023-06-25T15:50:17.397Z"
      },
      {
        "duration": 0,
        "start_time": "2023-06-25T15:50:17.398Z"
      },
      {
        "duration": 1261,
        "start_time": "2023-06-26T15:40:53.945Z"
      },
      {
        "duration": 28,
        "start_time": "2023-06-26T15:40:55.208Z"
      },
      {
        "duration": 2,
        "start_time": "2023-06-26T15:40:55.238Z"
      },
      {
        "duration": 50,
        "start_time": "2023-06-26T15:40:55.241Z"
      },
      {
        "duration": 293,
        "start_time": "2023-06-26T15:40:55.293Z"
      },
      {
        "duration": 0,
        "start_time": "2023-06-26T15:40:55.588Z"
      },
      {
        "duration": 0,
        "start_time": "2023-06-26T15:40:55.589Z"
      },
      {
        "duration": 0,
        "start_time": "2023-06-26T15:40:55.590Z"
      },
      {
        "duration": 0,
        "start_time": "2023-06-26T15:40:55.591Z"
      },
      {
        "duration": 0,
        "start_time": "2023-06-26T15:40:55.592Z"
      },
      {
        "duration": 0,
        "start_time": "2023-06-26T15:40:55.606Z"
      },
      {
        "duration": 0,
        "start_time": "2023-06-26T15:40:55.607Z"
      },
      {
        "duration": 0,
        "start_time": "2023-06-26T15:40:55.608Z"
      },
      {
        "duration": 0,
        "start_time": "2023-06-26T15:40:55.609Z"
      }
    ],
    "kernelspec": {
      "display_name": "Python 3 (ipykernel)",
      "language": "python",
      "name": "python3"
    },
    "language_info": {
      "codemirror_mode": {
        "name": "ipython",
        "version": 3
      },
      "file_extension": ".py",
      "mimetype": "text/x-python",
      "name": "python",
      "nbconvert_exporter": "python",
      "pygments_lexer": "ipython3",
      "version": "3.9.5"
    },
    "toc": {
      "base_numbering": 1,
      "nav_menu": {},
      "number_sections": true,
      "sideBar": false,
      "skip_h1_title": true,
      "title_cell": "Содержание",
      "title_sidebar": "Contents",
      "toc_cell": true,
      "toc_position": {
        "height": "47.6875px",
        "left": "1336px",
        "top": "111.125px",
        "width": "159px"
      },
      "toc_section_display": false,
      "toc_window_display": true
    },
    "colab": {
      "provenance": []
    }
  },
  "nbformat": 4,
  "nbformat_minor": 0
}