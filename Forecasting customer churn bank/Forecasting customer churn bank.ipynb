{
  "cells": [
    {
      "cell_type": "markdown",
      "metadata": {
        "id": "1F25Bw4DwdUs"
      },
      "source": [
        "# Прогнозирование оттока клиента банка"
      ]
    },
    {
      "cell_type": "markdown",
      "metadata": {
        "id": "3XbnO-oGwdUt"
      },
      "source": [
        "Из «Бета-Банка» стали уходить клиенты. Каждый месяц. Немного, но заметно. Банковские маркетологи посчитали: сохранять текущих клиентов дешевле, чем привлекать новых.\n",
        "\n",
        "Нужно спрогнозировать, уйдёт клиент из банка в ближайшее время или нет. Вам предоставлены исторические данные о поведении клиентов и расторжении договоров с банком.\n",
        "\n",
        "Построить модель с предельно большим значением *F1*-меры. Нужно довести метрику до 0.59.\n",
        "\n",
        "Дополнительно измерить *AUC-ROC*, сравнивайем её значением с *F1*-мерой.\n"
      ]
    },
    {
      "cell_type": "markdown",
      "metadata": {
        "id": "gzCVr47WwdUu"
      },
      "source": [
        "**Признаки**\n",
        "* **RowNumber** — индекс строки в данных\n",
        "* **CustomerId** — уникальный идентификатор клиента\n",
        "* **Surname** — фамилия\n",
        "* **CreditScore** — кредитный рейтинг\n",
        "* **Geography** — страна проживания\n",
        "* **Gender** — пол\n",
        "* **Age** — возраст\n",
        "* **Tenure** — сколько лет человек является клиентом банка\n",
        "* **Balance** — баланс на счёте\n",
        "* **NumOfProducts** — количество продуктов банка, используемых клиентом\n",
        "* **HasCrCard** — наличие кредитной карты\n",
        "* **IsActiveMember** — активность клиента\n",
        "* **EstimatedSalary** — предполагаемая зарплата\n",
        "\n",
        "**Целевой признак**\n",
        "* **Exited** — факт ухода клиента"
      ]
    },
    {
      "cell_type": "markdown",
      "metadata": {
        "id": "cWGUl3mDwdUu"
      },
      "source": [
        "## Подготовка данных"
      ]
    },
    {
      "cell_type": "code",
      "execution_count": null,
      "metadata": {
        "id": "9bb8atQqwdUv"
      },
      "outputs": [],
      "source": [
        "# Подключаем библиотеки\n",
        "import pandas as pd\n",
        "import numpy as np\n",
        "import matplotlib.pyplot as plt\n",
        "import seaborn as sns\n",
        "import random\n",
        "from IPython.display import display\n",
        "from sklearn.preprocessing import StandardScaler\n",
        "from sklearn.model_selection import train_test_split\n",
        "from sklearn.tree import DecisionTreeClassifier\n",
        "from sklearn.linear_model import LogisticRegression\n",
        "from sklearn.ensemble import RandomForestClassifier\n",
        "from sklearn.metrics import accuracy_score, f1_score, roc_auc_score\n",
        "from sklearn.utils import shuffle\n",
        "from tqdm import tqdm\n",
        "\n",
        "import warnings\n",
        "warnings.simplefilter('ignore')\n"
      ]
    },
    {
      "cell_type": "code",
      "execution_count": null,
      "metadata": {
        "id": "8ndRpGbvwdUw"
      },
      "outputs": [],
      "source": [
        "# Открываем файл\n",
        "df = pd.read_csv('/datasets/Churn.csv')"
      ]
    },
    {
      "cell_type": "code",
      "execution_count": null,
      "metadata": {
        "scrolled": true,
        "id": "K2vlyWGxwdUw",
        "outputId": "05d40708-0614-4617-d71f-f3ecec3c8bdb"
      },
      "outputs": [
        {
          "data": {
            "text/html": [
              "<div>\n",
              "<style scoped>\n",
              "    .dataframe tbody tr th:only-of-type {\n",
              "        vertical-align: middle;\n",
              "    }\n",
              "\n",
              "    .dataframe tbody tr th {\n",
              "        vertical-align: top;\n",
              "    }\n",
              "\n",
              "    .dataframe thead th {\n",
              "        text-align: right;\n",
              "    }\n",
              "</style>\n",
              "<table border=\"1\" class=\"dataframe\">\n",
              "  <thead>\n",
              "    <tr style=\"text-align: right;\">\n",
              "      <th></th>\n",
              "      <th>RowNumber</th>\n",
              "      <th>CustomerId</th>\n",
              "      <th>Surname</th>\n",
              "      <th>CreditScore</th>\n",
              "      <th>Geography</th>\n",
              "      <th>Gender</th>\n",
              "      <th>Age</th>\n",
              "      <th>Tenure</th>\n",
              "      <th>Balance</th>\n",
              "      <th>NumOfProducts</th>\n",
              "      <th>HasCrCard</th>\n",
              "      <th>IsActiveMember</th>\n",
              "      <th>EstimatedSalary</th>\n",
              "      <th>Exited</th>\n",
              "    </tr>\n",
              "  </thead>\n",
              "  <tbody>\n",
              "    <tr>\n",
              "      <th>0</th>\n",
              "      <td>1</td>\n",
              "      <td>15634602</td>\n",
              "      <td>Hargrave</td>\n",
              "      <td>619</td>\n",
              "      <td>France</td>\n",
              "      <td>Female</td>\n",
              "      <td>42</td>\n",
              "      <td>2.0</td>\n",
              "      <td>0.00</td>\n",
              "      <td>1</td>\n",
              "      <td>1</td>\n",
              "      <td>1</td>\n",
              "      <td>101348.88</td>\n",
              "      <td>1</td>\n",
              "    </tr>\n",
              "    <tr>\n",
              "      <th>1</th>\n",
              "      <td>2</td>\n",
              "      <td>15647311</td>\n",
              "      <td>Hill</td>\n",
              "      <td>608</td>\n",
              "      <td>Spain</td>\n",
              "      <td>Female</td>\n",
              "      <td>41</td>\n",
              "      <td>1.0</td>\n",
              "      <td>83807.86</td>\n",
              "      <td>1</td>\n",
              "      <td>0</td>\n",
              "      <td>1</td>\n",
              "      <td>112542.58</td>\n",
              "      <td>0</td>\n",
              "    </tr>\n",
              "    <tr>\n",
              "      <th>2</th>\n",
              "      <td>3</td>\n",
              "      <td>15619304</td>\n",
              "      <td>Onio</td>\n",
              "      <td>502</td>\n",
              "      <td>France</td>\n",
              "      <td>Female</td>\n",
              "      <td>42</td>\n",
              "      <td>8.0</td>\n",
              "      <td>159660.80</td>\n",
              "      <td>3</td>\n",
              "      <td>1</td>\n",
              "      <td>0</td>\n",
              "      <td>113931.57</td>\n",
              "      <td>1</td>\n",
              "    </tr>\n",
              "    <tr>\n",
              "      <th>3</th>\n",
              "      <td>4</td>\n",
              "      <td>15701354</td>\n",
              "      <td>Boni</td>\n",
              "      <td>699</td>\n",
              "      <td>France</td>\n",
              "      <td>Female</td>\n",
              "      <td>39</td>\n",
              "      <td>1.0</td>\n",
              "      <td>0.00</td>\n",
              "      <td>2</td>\n",
              "      <td>0</td>\n",
              "      <td>0</td>\n",
              "      <td>93826.63</td>\n",
              "      <td>0</td>\n",
              "    </tr>\n",
              "    <tr>\n",
              "      <th>4</th>\n",
              "      <td>5</td>\n",
              "      <td>15737888</td>\n",
              "      <td>Mitchell</td>\n",
              "      <td>850</td>\n",
              "      <td>Spain</td>\n",
              "      <td>Female</td>\n",
              "      <td>43</td>\n",
              "      <td>2.0</td>\n",
              "      <td>125510.82</td>\n",
              "      <td>1</td>\n",
              "      <td>1</td>\n",
              "      <td>1</td>\n",
              "      <td>79084.10</td>\n",
              "      <td>0</td>\n",
              "    </tr>\n",
              "  </tbody>\n",
              "</table>\n",
              "</div>"
            ],
            "text/plain": [
              "   RowNumber  CustomerId   Surname  CreditScore Geography  Gender  Age  \\\n",
              "0          1    15634602  Hargrave          619    France  Female   42   \n",
              "1          2    15647311      Hill          608     Spain  Female   41   \n",
              "2          3    15619304      Onio          502    France  Female   42   \n",
              "3          4    15701354      Boni          699    France  Female   39   \n",
              "4          5    15737888  Mitchell          850     Spain  Female   43   \n",
              "\n",
              "   Tenure    Balance  NumOfProducts  HasCrCard  IsActiveMember  \\\n",
              "0     2.0       0.00              1          1               1   \n",
              "1     1.0   83807.86              1          0               1   \n",
              "2     8.0  159660.80              3          1               0   \n",
              "3     1.0       0.00              2          0               0   \n",
              "4     2.0  125510.82              1          1               1   \n",
              "\n",
              "   EstimatedSalary  Exited  \n",
              "0        101348.88       1  \n",
              "1        112542.58       0  \n",
              "2        113931.57       1  \n",
              "3         93826.63       0  \n",
              "4         79084.10       0  "
            ]
          },
          "execution_count": 287,
          "metadata": {},
          "output_type": "execute_result"
        }
      ],
      "source": [
        "# Ознакомимся с данными\n",
        "df.head()"
      ]
    },
    {
      "cell_type": "code",
      "execution_count": null,
      "metadata": {
        "scrolled": true,
        "id": "XBqv2V5AwdUx",
        "outputId": "2a2a09e6-8314-4900-aea2-f19e121b52ee"
      },
      "outputs": [
        {
          "name": "stdout",
          "output_type": "stream",
          "text": [
            "<class 'pandas.core.frame.DataFrame'>\n",
            "RangeIndex: 10000 entries, 0 to 9999\n",
            "Data columns (total 14 columns):\n",
            " #   Column           Non-Null Count  Dtype  \n",
            "---  ------           --------------  -----  \n",
            " 0   RowNumber        10000 non-null  int64  \n",
            " 1   CustomerId       10000 non-null  int64  \n",
            " 2   Surname          10000 non-null  object \n",
            " 3   CreditScore      10000 non-null  int64  \n",
            " 4   Geography        10000 non-null  object \n",
            " 5   Gender           10000 non-null  object \n",
            " 6   Age              10000 non-null  int64  \n",
            " 7   Tenure           9091 non-null   float64\n",
            " 8   Balance          10000 non-null  float64\n",
            " 9   NumOfProducts    10000 non-null  int64  \n",
            " 10  HasCrCard        10000 non-null  int64  \n",
            " 11  IsActiveMember   10000 non-null  int64  \n",
            " 12  EstimatedSalary  10000 non-null  float64\n",
            " 13  Exited           10000 non-null  int64  \n",
            "dtypes: float64(3), int64(8), object(3)\n",
            "memory usage: 1.1+ MB\n"
          ]
        }
      ],
      "source": [
        "df.info()"
      ]
    },
    {
      "cell_type": "markdown",
      "metadata": {
        "id": "YREMvcVtwdUy"
      },
      "source": [
        "В столбце Tenure 909 пропусков. Это достаточномногои мы небудем их удалять. Вместо этого заменим их на случайные числа.\n"
      ]
    },
    {
      "cell_type": "code",
      "execution_count": null,
      "metadata": {
        "id": "yJwUIKYGwdUz"
      },
      "outputs": [],
      "source": [
        "data = (np.random.randint(0,10,size = df['Tenure'].isna().sum()))\n",
        "df.loc[df['Tenure'].isna(),'Tenure'] = data"
      ]
    },
    {
      "cell_type": "code",
      "execution_count": null,
      "metadata": {
        "id": "XTWDc2PXwdUz",
        "outputId": "08b1c334-82d3-4ff9-c5c0-ca8a83c69f06"
      },
      "outputs": [
        {
          "data": {
            "text/plain": [
              "RowNumber          0\n",
              "CustomerId         0\n",
              "Surname            0\n",
              "CreditScore        0\n",
              "Geography          0\n",
              "Gender             0\n",
              "Age                0\n",
              "Tenure             0\n",
              "Balance            0\n",
              "NumOfProducts      0\n",
              "HasCrCard          0\n",
              "IsActiveMember     0\n",
              "EstimatedSalary    0\n",
              "Exited             0\n",
              "dtype: int64"
            ]
          },
          "execution_count": 290,
          "metadata": {},
          "output_type": "execute_result"
        }
      ],
      "source": [
        "# Проверим, что в датафрейме отсутствуют пропущенные значения\n",
        "df.isna().sum()"
      ]
    },
    {
      "cell_type": "code",
      "execution_count": null,
      "metadata": {
        "id": "dyYlUX6OwdU0",
        "outputId": "2850f2ed-37ec-4ea6-b80a-fe7e41351b9c"
      },
      "outputs": [
        {
          "data": {
            "text/plain": [
              "0"
            ]
          },
          "execution_count": 291,
          "metadata": {},
          "output_type": "execute_result"
        }
      ],
      "source": [
        "# Проверим наличие явных дубликатов\n",
        "df.duplicated().sum()"
      ]
    },
    {
      "cell_type": "code",
      "execution_count": null,
      "metadata": {
        "id": "EWT0GIzRwdU0"
      },
      "outputs": [],
      "source": [
        "# Удалим столбцы с лишней информацией\n",
        "df = df.drop(columns=['RowNumber', 'Surname','CustomerId'])"
      ]
    },
    {
      "cell_type": "code",
      "execution_count": null,
      "metadata": {
        "id": "BYLIiMAhwdU1",
        "outputId": "c11d2856-046a-4c43-e89b-a1e6461ae817"
      },
      "outputs": [
        {
          "data": {
            "text/html": [
              "<div>\n",
              "<style scoped>\n",
              "    .dataframe tbody tr th:only-of-type {\n",
              "        vertical-align: middle;\n",
              "    }\n",
              "\n",
              "    .dataframe tbody tr th {\n",
              "        vertical-align: top;\n",
              "    }\n",
              "\n",
              "    .dataframe thead th {\n",
              "        text-align: right;\n",
              "    }\n",
              "</style>\n",
              "<table border=\"1\" class=\"dataframe\">\n",
              "  <thead>\n",
              "    <tr style=\"text-align: right;\">\n",
              "      <th></th>\n",
              "      <th>CreditScore</th>\n",
              "      <th>Age</th>\n",
              "      <th>Tenure</th>\n",
              "      <th>Balance</th>\n",
              "      <th>NumOfProducts</th>\n",
              "      <th>HasCrCard</th>\n",
              "      <th>IsActiveMember</th>\n",
              "      <th>EstimatedSalary</th>\n",
              "      <th>Exited</th>\n",
              "    </tr>\n",
              "  </thead>\n",
              "  <tbody>\n",
              "    <tr>\n",
              "      <th>count</th>\n",
              "      <td>10000.000000</td>\n",
              "      <td>10000.000000</td>\n",
              "      <td>10000.000000</td>\n",
              "      <td>10000.000000</td>\n",
              "      <td>10000.000000</td>\n",
              "      <td>10000.00000</td>\n",
              "      <td>10000.000000</td>\n",
              "      <td>10000.000000</td>\n",
              "      <td>10000.000000</td>\n",
              "    </tr>\n",
              "    <tr>\n",
              "      <th>mean</th>\n",
              "      <td>650.528800</td>\n",
              "      <td>38.921800</td>\n",
              "      <td>4.952100</td>\n",
              "      <td>76485.889288</td>\n",
              "      <td>1.530200</td>\n",
              "      <td>0.70550</td>\n",
              "      <td>0.515100</td>\n",
              "      <td>100090.239881</td>\n",
              "      <td>0.203700</td>\n",
              "    </tr>\n",
              "    <tr>\n",
              "      <th>std</th>\n",
              "      <td>96.653299</td>\n",
              "      <td>10.487806</td>\n",
              "      <td>2.895038</td>\n",
              "      <td>62397.405202</td>\n",
              "      <td>0.581654</td>\n",
              "      <td>0.45584</td>\n",
              "      <td>0.499797</td>\n",
              "      <td>57510.492818</td>\n",
              "      <td>0.402769</td>\n",
              "    </tr>\n",
              "    <tr>\n",
              "      <th>min</th>\n",
              "      <td>350.000000</td>\n",
              "      <td>18.000000</td>\n",
              "      <td>0.000000</td>\n",
              "      <td>0.000000</td>\n",
              "      <td>1.000000</td>\n",
              "      <td>0.00000</td>\n",
              "      <td>0.000000</td>\n",
              "      <td>11.580000</td>\n",
              "      <td>0.000000</td>\n",
              "    </tr>\n",
              "    <tr>\n",
              "      <th>25%</th>\n",
              "      <td>584.000000</td>\n",
              "      <td>32.000000</td>\n",
              "      <td>2.000000</td>\n",
              "      <td>0.000000</td>\n",
              "      <td>1.000000</td>\n",
              "      <td>0.00000</td>\n",
              "      <td>0.000000</td>\n",
              "      <td>51002.110000</td>\n",
              "      <td>0.000000</td>\n",
              "    </tr>\n",
              "    <tr>\n",
              "      <th>50%</th>\n",
              "      <td>652.000000</td>\n",
              "      <td>37.000000</td>\n",
              "      <td>5.000000</td>\n",
              "      <td>97198.540000</td>\n",
              "      <td>1.000000</td>\n",
              "      <td>1.00000</td>\n",
              "      <td>1.000000</td>\n",
              "      <td>100193.915000</td>\n",
              "      <td>0.000000</td>\n",
              "    </tr>\n",
              "    <tr>\n",
              "      <th>75%</th>\n",
              "      <td>718.000000</td>\n",
              "      <td>44.000000</td>\n",
              "      <td>7.000000</td>\n",
              "      <td>127644.240000</td>\n",
              "      <td>2.000000</td>\n",
              "      <td>1.00000</td>\n",
              "      <td>1.000000</td>\n",
              "      <td>149388.247500</td>\n",
              "      <td>0.000000</td>\n",
              "    </tr>\n",
              "    <tr>\n",
              "      <th>max</th>\n",
              "      <td>850.000000</td>\n",
              "      <td>92.000000</td>\n",
              "      <td>10.000000</td>\n",
              "      <td>250898.090000</td>\n",
              "      <td>4.000000</td>\n",
              "      <td>1.00000</td>\n",
              "      <td>1.000000</td>\n",
              "      <td>199992.480000</td>\n",
              "      <td>1.000000</td>\n",
              "    </tr>\n",
              "  </tbody>\n",
              "</table>\n",
              "</div>"
            ],
            "text/plain": [
              "        CreditScore           Age        Tenure        Balance  NumOfProducts  \\\n",
              "count  10000.000000  10000.000000  10000.000000   10000.000000   10000.000000   \n",
              "mean     650.528800     38.921800      4.952100   76485.889288       1.530200   \n",
              "std       96.653299     10.487806      2.895038   62397.405202       0.581654   \n",
              "min      350.000000     18.000000      0.000000       0.000000       1.000000   \n",
              "25%      584.000000     32.000000      2.000000       0.000000       1.000000   \n",
              "50%      652.000000     37.000000      5.000000   97198.540000       1.000000   \n",
              "75%      718.000000     44.000000      7.000000  127644.240000       2.000000   \n",
              "max      850.000000     92.000000     10.000000  250898.090000       4.000000   \n",
              "\n",
              "         HasCrCard  IsActiveMember  EstimatedSalary        Exited  \n",
              "count  10000.00000    10000.000000     10000.000000  10000.000000  \n",
              "mean       0.70550        0.515100    100090.239881      0.203700  \n",
              "std        0.45584        0.499797     57510.492818      0.402769  \n",
              "min        0.00000        0.000000        11.580000      0.000000  \n",
              "25%        0.00000        0.000000     51002.110000      0.000000  \n",
              "50%        1.00000        1.000000    100193.915000      0.000000  \n",
              "75%        1.00000        1.000000    149388.247500      0.000000  \n",
              "max        1.00000        1.000000    199992.480000      1.000000  "
            ]
          },
          "execution_count": 293,
          "metadata": {},
          "output_type": "execute_result"
        }
      ],
      "source": [
        "df.describe()"
      ]
    },
    {
      "cell_type": "code",
      "execution_count": null,
      "metadata": {
        "scrolled": true,
        "id": "B3gbUYXuwdU2",
        "outputId": "83343709-9608-4ed0-d327-01b418b48d0b"
      },
      "outputs": [
        {
          "data": {
            "text/html": [
              "<div>\n",
              "<style scoped>\n",
              "    .dataframe tbody tr th:only-of-type {\n",
              "        vertical-align: middle;\n",
              "    }\n",
              "\n",
              "    .dataframe tbody tr th {\n",
              "        vertical-align: top;\n",
              "    }\n",
              "\n",
              "    .dataframe thead th {\n",
              "        text-align: right;\n",
              "    }\n",
              "</style>\n",
              "<table border=\"1\" class=\"dataframe\">\n",
              "  <thead>\n",
              "    <tr style=\"text-align: right;\">\n",
              "      <th></th>\n",
              "      <th>credit_score</th>\n",
              "      <th>geography</th>\n",
              "      <th>gender</th>\n",
              "      <th>age</th>\n",
              "      <th>tenure</th>\n",
              "      <th>balance</th>\n",
              "      <th>num_of_products</th>\n",
              "      <th>has_cr_card</th>\n",
              "      <th>is_active_member</th>\n",
              "      <th>estimated_salary</th>\n",
              "      <th>exited</th>\n",
              "    </tr>\n",
              "  </thead>\n",
              "  <tbody>\n",
              "    <tr>\n",
              "      <th>0</th>\n",
              "      <td>619</td>\n",
              "      <td>France</td>\n",
              "      <td>Female</td>\n",
              "      <td>42</td>\n",
              "      <td>2.0</td>\n",
              "      <td>0.00</td>\n",
              "      <td>1</td>\n",
              "      <td>1</td>\n",
              "      <td>1</td>\n",
              "      <td>101348.88</td>\n",
              "      <td>1</td>\n",
              "    </tr>\n",
              "    <tr>\n",
              "      <th>1</th>\n",
              "      <td>608</td>\n",
              "      <td>Spain</td>\n",
              "      <td>Female</td>\n",
              "      <td>41</td>\n",
              "      <td>1.0</td>\n",
              "      <td>83807.86</td>\n",
              "      <td>1</td>\n",
              "      <td>0</td>\n",
              "      <td>1</td>\n",
              "      <td>112542.58</td>\n",
              "      <td>0</td>\n",
              "    </tr>\n",
              "    <tr>\n",
              "      <th>2</th>\n",
              "      <td>502</td>\n",
              "      <td>France</td>\n",
              "      <td>Female</td>\n",
              "      <td>42</td>\n",
              "      <td>8.0</td>\n",
              "      <td>159660.80</td>\n",
              "      <td>3</td>\n",
              "      <td>1</td>\n",
              "      <td>0</td>\n",
              "      <td>113931.57</td>\n",
              "      <td>1</td>\n",
              "    </tr>\n",
              "    <tr>\n",
              "      <th>3</th>\n",
              "      <td>699</td>\n",
              "      <td>France</td>\n",
              "      <td>Female</td>\n",
              "      <td>39</td>\n",
              "      <td>1.0</td>\n",
              "      <td>0.00</td>\n",
              "      <td>2</td>\n",
              "      <td>0</td>\n",
              "      <td>0</td>\n",
              "      <td>93826.63</td>\n",
              "      <td>0</td>\n",
              "    </tr>\n",
              "    <tr>\n",
              "      <th>4</th>\n",
              "      <td>850</td>\n",
              "      <td>Spain</td>\n",
              "      <td>Female</td>\n",
              "      <td>43</td>\n",
              "      <td>2.0</td>\n",
              "      <td>125510.82</td>\n",
              "      <td>1</td>\n",
              "      <td>1</td>\n",
              "      <td>1</td>\n",
              "      <td>79084.10</td>\n",
              "      <td>0</td>\n",
              "    </tr>\n",
              "  </tbody>\n",
              "</table>\n",
              "</div>"
            ],
            "text/plain": [
              "   credit_score geography  gender  age  tenure    balance  num_of_products  \\\n",
              "0           619    France  Female   42     2.0       0.00                1   \n",
              "1           608     Spain  Female   41     1.0   83807.86                1   \n",
              "2           502    France  Female   42     8.0  159660.80                3   \n",
              "3           699    France  Female   39     1.0       0.00                2   \n",
              "4           850     Spain  Female   43     2.0  125510.82                1   \n",
              "\n",
              "   has_cr_card  is_active_member  estimated_salary  exited  \n",
              "0            1                 1         101348.88       1  \n",
              "1            0                 1         112542.58       0  \n",
              "2            1                 0         113931.57       1  \n",
              "3            0                 0          93826.63       0  \n",
              "4            1                 1          79084.10       0  "
            ]
          },
          "execution_count": 294,
          "metadata": {},
          "output_type": "execute_result"
        }
      ],
      "source": [
        "# Трансформация названий в стиль snake_case\n",
        "df.columns = df.columns.str.lower()\n",
        "df.rename(columns = {'numofproducts':'num_of_products', 'creditscore':'credit_score', 'hascrcard':'has_cr_card', 'isactivemember':'is_active_member', 'estimatedsalary':'estimated_salary'}, inplace = True )\n",
        "df.head()"
      ]
    },
    {
      "cell_type": "markdown",
      "metadata": {
        "id": "_0mJwCzFwdU3"
      },
      "source": [
        "#### Выводы"
      ]
    },
    {
      "cell_type": "markdown",
      "metadata": {
        "id": "pXZ-2hh1wdU3"
      },
      "source": [
        "В таблице приведены данные о клиентах банка. Данные адекватные, без дубликатов, однако в столбце Tenure (сколько лет человек является клиентом банка) обнаружены пропуски.\n",
        "\n",
        "* Названия столбцов были стилизованы как snake_case\n",
        "* Пропуски были обработаныи заменены на случайные значения\n",
        "* В таблице присутствовали и были удалены столбцы с лишней информацией: RowNumber (индекс строки в данных), CustomerId (уникальный идентификатор клиента), Surname (фамилия)."
      ]
    },
    {
      "cell_type": "markdown",
      "metadata": {
        "id": "dACyepLMwdU3"
      },
      "source": [
        "## Исследование задачи"
      ]
    },
    {
      "cell_type": "code",
      "execution_count": null,
      "metadata": {
        "id": "Lm-9xL2YwdU4"
      },
      "outputs": [],
      "source": [
        "# Извлечем признаки и целевой признак\n",
        "features = df.drop('exited', axis=1)\n",
        "target = df.exited"
      ]
    },
    {
      "cell_type": "code",
      "execution_count": null,
      "metadata": {
        "id": "gXLPceuEwdU4",
        "outputId": "64c007f2-1ce7-44cc-b125-ed0436c8fa77"
      },
      "outputs": [
        {
          "name": "stdout",
          "output_type": "stream",
          "text": [
            "(10000, 11)\n"
          ]
        },
        {
          "data": {
            "text/html": [
              "<div>\n",
              "<style scoped>\n",
              "    .dataframe tbody tr th:only-of-type {\n",
              "        vertical-align: middle;\n",
              "    }\n",
              "\n",
              "    .dataframe tbody tr th {\n",
              "        vertical-align: top;\n",
              "    }\n",
              "\n",
              "    .dataframe thead th {\n",
              "        text-align: right;\n",
              "    }\n",
              "</style>\n",
              "<table border=\"1\" class=\"dataframe\">\n",
              "  <thead>\n",
              "    <tr style=\"text-align: right;\">\n",
              "      <th></th>\n",
              "      <th>credit_score</th>\n",
              "      <th>age</th>\n",
              "      <th>tenure</th>\n",
              "      <th>balance</th>\n",
              "      <th>num_of_products</th>\n",
              "      <th>has_cr_card</th>\n",
              "      <th>is_active_member</th>\n",
              "      <th>estimated_salary</th>\n",
              "      <th>geography_Germany</th>\n",
              "      <th>geography_Spain</th>\n",
              "      <th>gender_Male</th>\n",
              "    </tr>\n",
              "  </thead>\n",
              "  <tbody>\n",
              "    <tr>\n",
              "      <th>0</th>\n",
              "      <td>619</td>\n",
              "      <td>42</td>\n",
              "      <td>2.0</td>\n",
              "      <td>0.00</td>\n",
              "      <td>1</td>\n",
              "      <td>1</td>\n",
              "      <td>1</td>\n",
              "      <td>101348.88</td>\n",
              "      <td>0</td>\n",
              "      <td>0</td>\n",
              "      <td>0</td>\n",
              "    </tr>\n",
              "    <tr>\n",
              "      <th>1</th>\n",
              "      <td>608</td>\n",
              "      <td>41</td>\n",
              "      <td>1.0</td>\n",
              "      <td>83807.86</td>\n",
              "      <td>1</td>\n",
              "      <td>0</td>\n",
              "      <td>1</td>\n",
              "      <td>112542.58</td>\n",
              "      <td>0</td>\n",
              "      <td>1</td>\n",
              "      <td>0</td>\n",
              "    </tr>\n",
              "    <tr>\n",
              "      <th>2</th>\n",
              "      <td>502</td>\n",
              "      <td>42</td>\n",
              "      <td>8.0</td>\n",
              "      <td>159660.80</td>\n",
              "      <td>3</td>\n",
              "      <td>1</td>\n",
              "      <td>0</td>\n",
              "      <td>113931.57</td>\n",
              "      <td>0</td>\n",
              "      <td>0</td>\n",
              "      <td>0</td>\n",
              "    </tr>\n",
              "    <tr>\n",
              "      <th>3</th>\n",
              "      <td>699</td>\n",
              "      <td>39</td>\n",
              "      <td>1.0</td>\n",
              "      <td>0.00</td>\n",
              "      <td>2</td>\n",
              "      <td>0</td>\n",
              "      <td>0</td>\n",
              "      <td>93826.63</td>\n",
              "      <td>0</td>\n",
              "      <td>0</td>\n",
              "      <td>0</td>\n",
              "    </tr>\n",
              "    <tr>\n",
              "      <th>4</th>\n",
              "      <td>850</td>\n",
              "      <td>43</td>\n",
              "      <td>2.0</td>\n",
              "      <td>125510.82</td>\n",
              "      <td>1</td>\n",
              "      <td>1</td>\n",
              "      <td>1</td>\n",
              "      <td>79084.10</td>\n",
              "      <td>0</td>\n",
              "      <td>1</td>\n",
              "      <td>0</td>\n",
              "    </tr>\n",
              "  </tbody>\n",
              "</table>\n",
              "</div>"
            ],
            "text/plain": [
              "   credit_score  age  tenure    balance  num_of_products  has_cr_card  \\\n",
              "0           619   42     2.0       0.00                1            1   \n",
              "1           608   41     1.0   83807.86                1            0   \n",
              "2           502   42     8.0  159660.80                3            1   \n",
              "3           699   39     1.0       0.00                2            0   \n",
              "4           850   43     2.0  125510.82                1            1   \n",
              "\n",
              "   is_active_member  estimated_salary  geography_Germany  geography_Spain  \\\n",
              "0                 1         101348.88                  0                0   \n",
              "1                 1         112542.58                  0                1   \n",
              "2                 0         113931.57                  0                0   \n",
              "3                 0          93826.63                  0                0   \n",
              "4                 1          79084.10                  0                1   \n",
              "\n",
              "   gender_Male  \n",
              "0            0  \n",
              "1            0  \n",
              "2            0  \n",
              "3            0  \n",
              "4            0  "
            ]
          },
          "execution_count": 296,
          "metadata": {},
          "output_type": "execute_result"
        }
      ],
      "source": [
        "# Применим one hot encoding, для избежания попадания в \"ловушку фиктивных признаков\"\n",
        "features_cat = ['geography', 'gender']\n",
        "features_num = features.columns.drop(features_cat).to_list()\n",
        "features = pd.get_dummies(features, columns=features_cat, drop_first=True)\n",
        "print(features.shape)\n",
        "features.head()"
      ]
    },
    {
      "cell_type": "code",
      "execution_count": null,
      "metadata": {
        "id": "fnl9MuGawdU5"
      },
      "outputs": [],
      "source": [
        "# Разделим выборку на тренировочную, валидационную и тестовую\n",
        "features, features_test, target, target_test = train_test_split(features, target, test_size=0.2, random_state=12345)\n",
        "features_train, features_valid, target_train, target_valid = train_test_split(features, target, test_size=0.25, random_state=12345)"
      ]
    },
    {
      "cell_type": "code",
      "execution_count": null,
      "metadata": {
        "id": "xUbfCOzpwdU6"
      },
      "outputs": [],
      "source": [
        "# Масштабируем параметры\n",
        "numeric = ['credit_score', 'age', 'balance', 'estimated_salary']\n",
        "scaler = StandardScaler()\n",
        "scaler.fit(features_train[numeric])\n",
        "\n",
        "features_train[numeric] = scaler.transform(features_train[numeric])\n",
        "features_valid[numeric] = scaler.transform(features_valid[numeric])\n",
        "features_test[numeric] = scaler.transform(features_test[numeric])"
      ]
    },
    {
      "cell_type": "code",
      "execution_count": null,
      "metadata": {
        "id": "KBZAN5aGwdU7",
        "outputId": "6355b266-199c-496c-b0ed-b11924694f7a"
      },
      "outputs": [
        {
          "name": "stdout",
          "output_type": "stream",
          "text": [
            "Доля объектов положительного класса: 0.20369999999999389\n",
            "Доля объектов отрицательного класса: 0.7963000000000061\n"
          ]
        }
      ],
      "source": [
        "# Рассмотрим баланс классов\n",
        "print(f'Доля объектов положительного класса: {sum(df[\"exited\"]/len(df))}')\n",
        "print(f'Доля объектов отрицательного класса: {1-sum(df[\"exited\"]/len(df))}')"
      ]
    },
    {
      "cell_type": "markdown",
      "metadata": {
        "id": "J0PvTl8KwdU7"
      },
      "source": [
        "Дисбаланс целевого признака равен 4 к 1."
      ]
    },
    {
      "cell_type": "markdown",
      "metadata": {
        "id": "fWeygEGXwdU8"
      },
      "source": [
        "### Найдем лучшую модель не учитывая диссбаланс классов:"
      ]
    },
    {
      "cell_type": "markdown",
      "metadata": {
        "id": "yUiumXU8wdU9"
      },
      "source": [
        "#### Модель - Случайный лес"
      ]
    },
    {
      "cell_type": "code",
      "execution_count": null,
      "metadata": {
        "id": "vGQt7BsdwdU9",
        "outputId": "e8078362-07dc-407b-8d1d-f20ee7874c68"
      },
      "outputs": [
        {
          "name": "stdout",
          "output_type": "stream",
          "text": [
            "Лучшее значение f1: 0.5714285714285714\n",
            "Лучшая глубина дерева для f1 [36, 16]\n",
            "Лучшее значение roc_auc: 0.683240068429903\n",
            "Лучшая глубина дерева для roc_auc [36, 12]\n",
            "CPU times: user 10.2 s, sys: 49.4 ms, total: 10.2 s\n",
            "Wall time: 10.3 s\n"
          ]
        }
      ],
      "source": [
        "%%time\n",
        "\n",
        "best_params_f1 = []\n",
        "best_f1 = 0\n",
        "best_params_roc_auc = []\n",
        "best_roc_auc = 0.5\n",
        "for n_estimators in range(30,40):\n",
        "    for max_depth in range(10,17,2):\n",
        "        model_rf_clf = RandomForestClassifier(random_state=12345, n_estimators=n_estimators,\n",
        "                                                          max_depth=max_depth)\n",
        "        model_rf_clf.fit(features_train, target_train)\n",
        "        predictions = model_rf_clf.predict(features_valid)\n",
        "        f1 = f1_score(target_valid, predictions)\n",
        "        if f1 > best_f1:\n",
        "            best_params_f1 = [n_estimators, max_depth]\n",
        "            best_f1 = f1\n",
        "        probabilities = model_rf_clf.predict_proba(features)\n",
        "        probabilities_one = probabilities[:, 1]\n",
        "        roc_auc = roc_auc_score(target, probabilities_one)\n",
        "        if roc_auc > best_roc_auc:\n",
        "            best_params_roc_auc = [n_estimators, max_depth]\n",
        "            best_roc_auc = roc_auc\n",
        "\n",
        "print('Лучшее значение f1:',best_f1)\n",
        "print('Лучшая глубина дерева для f1',best_params_f1)\n",
        "print('Лучшее значение roc_auc:',best_roc_auc)\n",
        "print('Лучшая глубина дерева для roc_auc',best_params_roc_auc)"
      ]
    },
    {
      "cell_type": "markdown",
      "metadata": {
        "id": "FFE-1Cg9wdU-"
      },
      "source": [
        "#### Модель - Логистическая регрессия"
      ]
    },
    {
      "cell_type": "code",
      "execution_count": null,
      "metadata": {
        "id": "thTFhJ46wdU-",
        "outputId": "22b6ec47-96d5-46ec-dd8c-0c8cf1ae7e70"
      },
      "outputs": [
        {
          "name": "stdout",
          "output_type": "stream",
          "text": [
            "Лучшее значение f1: 0.30451127819548873\n",
            "Лучший параметр С для f1 [10]\n",
            "Лучшее значение roc_auc: 0.5003158078908232\n",
            "Лучший параметр С для roc_auc [1]\n",
            "CPU times: user 18.3 s, sys: 51.1 s, total: 1min 9s\n",
            "Wall time: 1min 9s\n"
          ]
        }
      ],
      "source": [
        "%%time\n",
        "\n",
        "best_params_f1 = []\n",
        "best_f1 = 0\n",
        "best_params_roc_auc = []\n",
        "best_roc_auc = 0.5\n",
        "cs = range(1, 100)\n",
        "for C in cs:\n",
        "    model_lr_clf = LogisticRegression(random_state=12345,\n",
        "                                      C=C, max_iter=1000)\n",
        "    model_lr_clf.fit(features_train, target_train)\n",
        "    predictions = model_lr_clf.predict(features_valid)\n",
        "    f1 = f1_score(target_valid, predictions)\n",
        "    if f1 > best_f1:\n",
        "        best_params_f1 = [C]\n",
        "        best_f1 = f1\n",
        "    probabilities = model_lr_clf.predict_proba(features)\n",
        "    probabilities_one = probabilities[:, 1]\n",
        "    roc_auc = roc_auc_score(target, probabilities_one)\n",
        "    if roc_auc > best_roc_auc:\n",
        "        best_params_roc_auc = [C]\n",
        "        best_roc_auc = roc_auc\n",
        "\n",
        "print('Лучшее значение f1:',best_f1)\n",
        "print('Лучший параметр С для f1',best_params_f1)\n",
        "print('Лучшее значение roc_auc:',best_roc_auc)\n",
        "print('Лучший параметр С для roc_auc',best_params_roc_auc)"
      ]
    },
    {
      "cell_type": "markdown",
      "metadata": {
        "id": "nP_nzLr2wdU_"
      },
      "source": [
        "#### Модель - Дерево решений\n"
      ]
    },
    {
      "cell_type": "code",
      "execution_count": null,
      "metadata": {
        "id": "n1lmr3AiwdVA",
        "outputId": "37c1735d-24bc-419c-9e48-ceea2584dc17"
      },
      "outputs": [
        {
          "name": "stdout",
          "output_type": "stream",
          "text": [
            "Лучшее значение f1: 0.5543307086614172\n",
            "Лучшая глубина дерева для f1 7\n",
            "Лучшее значение roc_auc: 0.6405587146064794\n",
            "Лучшая глубина дерева для roc_auc 3\n",
            "CPU times: user 166 ms, sys: 20.5 ms, total: 187 ms\n",
            "Wall time: 253 ms\n"
          ]
        }
      ],
      "source": [
        "%%time\n",
        "\n",
        "best_params_f1 = []\n",
        "best_f1 = 0\n",
        "best_params_roc_auc = []\n",
        "best_roc_auc = 0\n",
        "for max_depth in range(2,10):\n",
        "    model_dt_clf = DecisionTreeClassifier(random_state=12345, max_depth=max_depth)\n",
        "    model_dt_clf.fit(features_train, target_train)\n",
        "    predictions = model_dt_clf.predict(features_valid)\n",
        "    f1 = f1_score(target_valid, predictions)\n",
        "    if f1 > best_f1:\n",
        "        best_params_f1 = max_depth\n",
        "        best_f1 = f1\n",
        "    probabilities = model_dt_clf.predict_proba(features)\n",
        "    probabilities_one = probabilities[:, 1]\n",
        "    roc_auc = roc_auc_score(target, probabilities_one)\n",
        "    if roc_auc > best_roc_auc:\n",
        "        best_params_roc_auc =  max_depth\n",
        "        best_roc_auc = roc_auc\n",
        "\n",
        "print('Лучшее значение f1:',best_f1)\n",
        "print('Лучшая глубина дерева для f1',best_params_f1)\n",
        "print('Лучшее значение roc_auc:',best_roc_auc)\n",
        "print('Лучшая глубина дерева для roc_auc',best_params_roc_auc)"
      ]
    },
    {
      "cell_type": "markdown",
      "metadata": {
        "id": "oznifMN4wdVA"
      },
      "source": [
        "#### Выводы"
      ]
    },
    {
      "cell_type": "markdown",
      "metadata": {
        "id": "rARQqw_FwdVA"
      },
      "source": [
        "* Исходные данные были разделены на тестовую, обучающую и валидационные выборки.\n",
        "* Был обучены модели случайный лес, логистическая регрессия и дерево решений.\n",
        "* Наилучший результат f1 (0,57) показала модель случайный лес. Параметр roc_auc оказался равен 0,7."
      ]
    },
    {
      "cell_type": "markdown",
      "metadata": {
        "id": "-c56dw2RwdVB"
      },
      "source": [
        "## Борьба с дисбалансом"
      ]
    },
    {
      "cell_type": "markdown",
      "metadata": {
        "id": "cB6uQQ21wdVB"
      },
      "source": [
        "На предыдущих этапах исследования был выявлен дисбаланс классов. Будем пробовать масштабировать выборки, это должно улучшить показатели f1."
      ]
    },
    {
      "cell_type": "markdown",
      "metadata": {
        "id": "7ZSj0-4OwdVB"
      },
      "source": [
        "### Увеличение выборки (upsampling)"
      ]
    },
    {
      "cell_type": "code",
      "execution_count": null,
      "metadata": {
        "id": "sp0wCcSUwdVC"
      },
      "outputs": [],
      "source": [
        "def upsample(features, target, repeat):\n",
        "    features_zeros = features[target == 0]\n",
        "    features_ones = features[target == 1]\n",
        "    target_zeros = target[target == 0]\n",
        "    target_ones = target[target == 1]\n",
        "\n",
        "    features_upsampled = pd.concat([features_zeros] + [features_ones] * repeat)\n",
        "    target_upsampled = pd.concat([target_zeros] + [target_ones] * repeat)\n",
        "\n",
        "    features_upsampled, target_upsampled = shuffle(\n",
        "        features_upsampled, target_upsampled, random_state=12345)\n",
        "\n",
        "    return features_upsampled, target_upsampled"
      ]
    },
    {
      "cell_type": "code",
      "execution_count": null,
      "metadata": {
        "id": "R_LsidbnwdVC"
      },
      "outputs": [],
      "source": [
        "features_upsampled, target_upsampled = upsample(features_train, target_train, 4)"
      ]
    },
    {
      "cell_type": "markdown",
      "metadata": {
        "id": "qTrMXkD4wdVD"
      },
      "source": [
        "###  Уменьшение выборки (downsampling)¶"
      ]
    },
    {
      "cell_type": "code",
      "execution_count": null,
      "metadata": {
        "id": "oQ20Jl1vwdVD"
      },
      "outputs": [],
      "source": [
        "def downsample(features, target, fraction):\n",
        "    features_zeros = features[target == 0]\n",
        "    features_ones = features[target == 1]\n",
        "    target_zeros = target[target == 0]\n",
        "    target_ones = target[target == 1]\n",
        "\n",
        "    features_downsampled = pd.concat(\n",
        "        [features_zeros.sample(frac=fraction, random_state=12345)] + [features_ones])\n",
        "    target_downsampled = pd.concat(\n",
        "        [target_zeros.sample(frac=fraction, random_state=12345)] + [target_ones])\n",
        "\n",
        "    features_downsampled, target_downsampled = shuffle(\n",
        "        features_downsampled, target_downsampled, random_state=12345)\n",
        "\n",
        "    return features_downsampled, target_downsampled"
      ]
    },
    {
      "cell_type": "code",
      "execution_count": null,
      "metadata": {
        "id": "mIQJ4UwuwdVD"
      },
      "outputs": [],
      "source": [
        "features_downsampled, target_downsampled = downsample(features_train, target_train, 0.25)"
      ]
    },
    {
      "cell_type": "markdown",
      "metadata": {
        "id": "eEqFdqSDwdVE"
      },
      "source": [
        "### Модель - Случайный лес"
      ]
    },
    {
      "cell_type": "markdown",
      "metadata": {
        "id": "Y0LJntv9wdVE"
      },
      "source": [
        "#### Используем данные после увеличения выборки"
      ]
    },
    {
      "cell_type": "code",
      "execution_count": null,
      "metadata": {
        "id": "9KjS2-newdVE",
        "outputId": "21b60bf8-d236-4a2d-d865-b5e85f009f01"
      },
      "outputs": [
        {
          "name": "stdout",
          "output_type": "stream",
          "text": [
            "Лучшее значение f1: 0.5929919137466306\n",
            "Лучшая глубина дерева для f1 [37, 16]\n",
            "Лучшее значение roc_auc: 0.667515576551094\n",
            "Лучшая глубина дерева для roc_auc [38, 12]\n",
            "CPU times: user 13 s, sys: 56.8 ms, total: 13 s\n",
            "Wall time: 13.1 s\n"
          ]
        }
      ],
      "source": [
        "%%time\n",
        "\n",
        "best_params_f1 = []\n",
        "best_f1 = 0\n",
        "best_params_roc_auc = []\n",
        "best_roc_auc = 0.5\n",
        "for n_estimators in range(30,40):\n",
        "    for max_depth in range(10,17,2):\n",
        "        model_rf_clf = RandomForestClassifier(random_state=12345, n_estimators=n_estimators,\n",
        "                                                          max_depth=max_depth)\n",
        "        model_rf_clf.fit(features_upsampled, target_upsampled)\n",
        "        predictions = model_rf_clf.predict(features_valid)\n",
        "        f1 = f1_score(target_valid, predictions)\n",
        "        if f1 > best_f1:\n",
        "            best_params_f1 = [n_estimators, max_depth]\n",
        "            best_f1 = f1\n",
        "        probabilities = model_rf_clf.predict_proba(features)\n",
        "        probabilities_one = probabilities[:, 1]\n",
        "        roc_auc = roc_auc_score(target, probabilities_one)\n",
        "        if roc_auc > best_roc_auc:\n",
        "            best_params_roc_auc = [n_estimators, max_depth]\n",
        "            best_roc_auc = roc_auc\n",
        "\n",
        "print('Лучшее значение f1:',best_f1)\n",
        "print('Лучшая глубина дерева для f1',best_params_f1)\n",
        "print('Лучшее значение roc_auc:',best_roc_auc)\n",
        "print('Лучшая глубина дерева для roc_auc',best_params_roc_auc)"
      ]
    },
    {
      "cell_type": "markdown",
      "metadata": {
        "id": "5TeUl9FawdVE"
      },
      "source": [
        "#### Используем данные после уменьшения выборки"
      ]
    },
    {
      "cell_type": "code",
      "execution_count": null,
      "metadata": {
        "id": "qavS0YYfwdVE",
        "outputId": "7b201881-6aa3-43c5-cc8d-0a67d46505d2"
      },
      "outputs": [
        {
          "name": "stdout",
          "output_type": "stream",
          "text": [
            "Лучшее значение f1: 0.5603864734299516\n",
            "Лучшая глубина дерева для f1 [32, 12]\n",
            "Лучшее значение roc_auc: 0.7400376170063863\n",
            "Лучшая глубина дерева для roc_auc [37, 12]\n",
            "CPU times: user 5.94 s, sys: 29.5 ms, total: 5.97 s\n",
            "Wall time: 5.98 s\n"
          ]
        }
      ],
      "source": [
        "%%time\n",
        "\n",
        "best_params_f1 = []\n",
        "best_f1 = 0\n",
        "best_params_roc_auc = []\n",
        "best_roc_auc = 0.5\n",
        "for n_estimators in range(30,40):\n",
        "    for max_depth in range(10,17,2):\n",
        "        model_rf_clf = RandomForestClassifier(random_state=12345, n_estimators=n_estimators,\n",
        "                                                          max_depth=max_depth)\n",
        "        model_rf_clf.fit(features_downsampled, target_downsampled)\n",
        "        predictions = model_rf_clf.predict(features_valid)\n",
        "        f1 = f1_score(target_valid, predictions)\n",
        "        if f1 > best_f1:\n",
        "            best_params_f1 = [n_estimators, max_depth]\n",
        "            best_f1 = f1\n",
        "        probabilities = model_rf_clf.predict_proba(features)\n",
        "        probabilities_one = probabilities[:, 1]\n",
        "        roc_auc = roc_auc_score(target, probabilities_one)\n",
        "        if roc_auc > best_roc_auc:\n",
        "            best_params_roc_auc = [n_estimators, max_depth]\n",
        "            best_roc_auc = roc_auc\n",
        "\n",
        "print('Лучшее значение f1:',best_f1)\n",
        "print('Лучшая глубина дерева для f1',best_params_f1)\n",
        "print('Лучшее значение roc_auc:',best_roc_auc)\n",
        "print('Лучшая глубина дерева для roc_auc',best_params_roc_auc)"
      ]
    },
    {
      "cell_type": "markdown",
      "metadata": {
        "id": "VCM5VUTFwdVF"
      },
      "source": [
        "### Модель - Логистическая регрессия"
      ]
    },
    {
      "cell_type": "markdown",
      "metadata": {
        "id": "Wo_ki3zCwdVF"
      },
      "source": [
        "#### Используем данные после увеличения выборки"
      ]
    },
    {
      "cell_type": "code",
      "execution_count": null,
      "metadata": {
        "id": "ttWaIAmNwdVF",
        "outputId": "5023f112-cc67-4994-8b1b-3195ac2751e6"
      },
      "outputs": [
        {
          "name": "stdout",
          "output_type": "stream",
          "text": [
            "Лучшее значение f1: 0.47493403693931396\n",
            "Лучший параметр С для f1 [1]\n",
            "Лучшее значение roc_auc: 0.5003158078908232\n",
            "Лучший параметр С для roc_auc [1]\n",
            "CPU times: user 14.1 s, sys: 30.8 s, total: 44.9 s\n",
            "Wall time: 44.8 s\n"
          ]
        }
      ],
      "source": [
        "%%time\n",
        "\n",
        "best_params_f1 = []\n",
        "best_f1 = 0\n",
        "best_params_roc_auc = []\n",
        "best_roc_auc = 0.5\n",
        "cs = range(1, 100)\n",
        "for C in cs:\n",
        "    model_lr_clf = LogisticRegression(random_state=12345,\n",
        "                                      C=C, max_iter=1000)\n",
        "    model_lr_clf.fit(features_upsampled, target_upsampled)\n",
        "    predictions = model_lr_clf.predict(features_valid)\n",
        "    f1 = f1_score(target_valid, predictions)\n",
        "    if f1 > best_f1:\n",
        "        best_params_f1 = [C]\n",
        "        best_f1 = f1\n",
        "    probabilities = model_lr_clf.predict_proba(features)\n",
        "    probabilities_one = probabilities[:, 1]\n",
        "    roc_auc = roc_auc_score(target, probabilities_one)\n",
        "    if roc_auc > best_roc_auc:\n",
        "        best_params_roc_auc = [C]\n",
        "        best_roc_auc = roc_auc\n",
        "\n",
        "print('Лучшее значение f1:',best_f1)\n",
        "print('Лучший параметр С для f1',best_params_f1)\n",
        "print('Лучшее значение roc_auc:',best_roc_auc)\n",
        "print('Лучший параметр С для roc_auc',best_params_roc_auc)"
      ]
    },
    {
      "cell_type": "markdown",
      "metadata": {
        "id": "XFxfhLc1wdVF"
      },
      "source": [
        "#### Используем данные после уменьшения выборки"
      ]
    },
    {
      "cell_type": "code",
      "execution_count": null,
      "metadata": {
        "id": "qyUE6lekwdVF",
        "outputId": "7dc2fdad-4c9a-4c9b-fe34-017ef40335e7"
      },
      "outputs": [
        {
          "name": "stdout",
          "output_type": "stream",
          "text": [
            "Лучшее значение f1: 0.4771126760563381\n",
            "Лучший параметр С для f1 [1]\n",
            "Лучшее значение roc_auc: 0.5003158078908232\n",
            "Лучший параметр С для roc_auc [1]\n",
            "CPU times: user 8.11 s, sys: 18.1 s, total: 26.2 s\n",
            "Wall time: 26.2 s\n"
          ]
        }
      ],
      "source": [
        "%%time\n",
        "\n",
        "best_params_f1 = []\n",
        "best_f1 = 0\n",
        "best_params_roc_auc = []\n",
        "best_roc_auc = 0.5\n",
        "cs = range(1, 100)\n",
        "for C in cs:\n",
        "    model_lr_clf = LogisticRegression(random_state=12345,\n",
        "                                      C=C, max_iter=1000)\n",
        "    model_lr_clf.fit(features_downsampled, target_downsampled)\n",
        "    predictions = model_lr_clf.predict(features_valid)\n",
        "    f1 = f1_score(target_valid, predictions)\n",
        "    if f1 > best_f1:\n",
        "        best_params_f1 = [C]\n",
        "        best_f1 = f1\n",
        "    probabilities = model_lr_clf.predict_proba(features)\n",
        "    probabilities_one = probabilities[:, 1]\n",
        "    roc_auc = roc_auc_score(target, probabilities_one)\n",
        "    if roc_auc > best_roc_auc:\n",
        "        best_params_roc_auc = [C]\n",
        "        best_roc_auc = roc_auc\n",
        "\n",
        "print('Лучшее значение f1:',best_f1)\n",
        "print('Лучший параметр С для f1',best_params_f1)\n",
        "print('Лучшее значение roc_auc:',best_roc_auc)\n",
        "print('Лучший параметр С для roc_auc',best_params_roc_auc)"
      ]
    },
    {
      "cell_type": "markdown",
      "metadata": {
        "id": "Iw46jyBHwdVG"
      },
      "source": [
        "### Модель - Дерево решений"
      ]
    },
    {
      "cell_type": "markdown",
      "metadata": {
        "id": "8V8rBUjPwdVG"
      },
      "source": [
        "#### Используем данные после уменьшения выборки"
      ]
    },
    {
      "cell_type": "code",
      "execution_count": null,
      "metadata": {
        "id": "6kGsCh9rwdVG",
        "outputId": "e5435106-eb93-4307-f83c-8a1514231c27"
      },
      "outputs": [
        {
          "name": "stdout",
          "output_type": "stream",
          "text": [
            "Лучшее значение f1: 0.5493482309124766\n",
            "Лучшая глубина дерева для f1 7\n",
            "Лучшее значение roc_auc: 0.6269332419638605\n",
            "Лучшая глубина дерева для roc_auc 4\n",
            "CPU times: user 144 ms, sys: 43.3 ms, total: 187 ms\n",
            "Wall time: 206 ms\n"
          ]
        }
      ],
      "source": [
        "%%time\n",
        "\n",
        "best_params_f1 = []\n",
        "best_f1 = 0\n",
        "best_params_roc_auc = []\n",
        "best_roc_auc = 0\n",
        "for max_depth in range(2,10):\n",
        "    model_dt_clf = DecisionTreeClassifier(random_state=12345, max_depth=max_depth)\n",
        "    model_dt_clf.fit(features_downsampled, target_downsampled)\n",
        "    predictions = model_dt_clf.predict(features_valid)\n",
        "    f1 = f1_score(target_valid, predictions)\n",
        "    if f1 > best_f1:\n",
        "        best_params_f1 = max_depth\n",
        "        best_f1 = f1\n",
        "    probabilities = model_dt_clf.predict_proba(features)\n",
        "    probabilities_one = probabilities[:, 1]\n",
        "    roc_auc = roc_auc_score(target, probabilities_one)\n",
        "    if roc_auc > best_roc_auc:\n",
        "        best_params_roc_auc =  max_depth\n",
        "        best_roc_auc = roc_auc\n",
        "\n",
        "print('Лучшее значение f1:',best_f1)\n",
        "print('Лучшая глубина дерева для f1',best_params_f1)\n",
        "print('Лучшее значение roc_auc:',best_roc_auc)\n",
        "print('Лучшая глубина дерева для roc_auc',best_params_roc_auc)"
      ]
    },
    {
      "cell_type": "markdown",
      "metadata": {
        "id": "JR3VZ75wwdVG"
      },
      "source": [
        "#### Используем данные после увеличения выборки"
      ]
    },
    {
      "cell_type": "code",
      "execution_count": null,
      "metadata": {
        "id": "f6uHcuJ0wdVG",
        "outputId": "aa879af7-0a89-4fa8-f3ab-28f3ab19f324"
      },
      "outputs": [
        {
          "name": "stdout",
          "output_type": "stream",
          "text": [
            "Лучшее значение f1: 0.5587044534412956\n",
            "Лучшая глубина дерева для f1 6\n",
            "Лучшее значение roc_auc: 0.6405587146064794\n",
            "Лучшая глубина дерева для roc_auc 3\n",
            "CPU times: user 212 ms, sys: 0 ns, total: 212 ms\n",
            "Wall time: 224 ms\n"
          ]
        }
      ],
      "source": [
        "%%time\n",
        "\n",
        "best_params_f1 = []\n",
        "best_f1 = 0\n",
        "best_params_roc_auc = []\n",
        "best_roc_auc = 0\n",
        "for max_depth in range(2,10):\n",
        "    model_dt_clf = DecisionTreeClassifier(random_state=12345, max_depth=max_depth)\n",
        "    model_dt_clf.fit(features_upsampled, target_upsampled)\n",
        "    predictions = model_dt_clf.predict(features_valid)\n",
        "    f1 = f1_score(target_valid, predictions)\n",
        "    if f1 > best_f1:\n",
        "        best_params_f1 = max_depth\n",
        "        best_f1 = f1\n",
        "    probabilities = model_dt_clf.predict_proba(features)\n",
        "    probabilities_one = probabilities[:, 1]\n",
        "    roc_auc = roc_auc_score(target, probabilities_one)\n",
        "    if roc_auc > best_roc_auc:\n",
        "        best_params_roc_auc =  max_depth\n",
        "        best_roc_auc = roc_auc\n",
        "\n",
        "print('Лучшее значение f1:',best_f1)\n",
        "print('Лучшая глубина дерева для f1',best_params_f1)\n",
        "print('Лучшее значение roc_auc:',best_roc_auc)\n",
        "print('Лучшая глубина дерева для roc_auc',best_params_roc_auc)"
      ]
    },
    {
      "cell_type": "markdown",
      "metadata": {
        "id": "ArCJ8SW1wdVG"
      },
      "source": [
        "#### Выводы\n"
      ]
    },
    {
      "cell_type": "markdown",
      "metadata": {
        "id": "TvQhM3lSwdVG"
      },
      "source": [
        "* Upsampling привел к увеличению параметра f1 для всех моделей.\n",
        "* Downsampling в данном случае показал себя хуже чем Upsampling, вероятно это связано с тем что мы работаем с маленьким датасетом и искуственное уменьшение его размера приводит к уменьшению точности.\n",
        "* Наилучшее значение f1 (0.59) было получено для модели случайного леса и использованием upsampling и составило 0.67."
      ]
    },
    {
      "cell_type": "markdown",
      "metadata": {
        "id": "372TGUWewdVH"
      },
      "source": [
        "## Тестирование модели"
      ]
    },
    {
      "cell_type": "code",
      "execution_count": null,
      "metadata": {
        "id": "BAPMoKBVwdVH",
        "outputId": "aa2971c9-05f4-47e9-c127-81648cef0b99"
      },
      "outputs": [
        {
          "name": "stdout",
          "output_type": "stream",
          "text": [
            "Значение f1: 0.6112469437652812\n",
            "Значение roc_auc: 0.6648518648120608\n"
          ]
        }
      ],
      "source": [
        "# Протестируем модель случайного леса с наилучшими параметрами на тестовой выборке\n",
        "model_rf_clf = RandomForestClassifier(random_state=12345, n_estimators=38,\n",
        "                                                          max_depth=14)\n",
        "model_rf_clf.fit(features_upsampled, target_upsampled)\n",
        "predictions = model_rf_clf.predict(features_test)\n",
        "f1 = f1_score(target_test, predictions)\n",
        "probabilities = model_rf_clf.predict_proba(features)\n",
        "probabilities_one = probabilities[:, 1]\n",
        "roc_auc = roc_auc_score(target, probabilities_one)\n",
        "\n",
        "print('Значение f1:',f1)\n",
        "print('Значение roc_auc:',roc_auc)"
      ]
    },
    {
      "cell_type": "markdown",
      "metadata": {
        "id": "7KWINCRTwdVH"
      },
      "source": [
        "## **Выводы**\n",
        "\n",
        "1)\n",
        "* В таблице приведены данные о клиентах банка. Данные адекватные, без дубликатов, однако в столбце Tenure (сколько лет человек является клиентом банка) обнаружены пропуски.\n",
        "* Названия столбцов были стилизованы как snake_case\n",
        "* Пропуски были обработаныи заменены на случайные значения\n",
        "* В таблице присутствовали и были удалены столбцы с лишней информацией: RowNumber (индекс строки в данных), CustomerId (уникальный идентификатор клиента), Surname (фамилия).\n",
        "\n",
        "2)\n",
        "* Исходные данные были разделены на тестовую, обучающую и валидационные выборки.\n",
        "* Был обучены модели случайный лес, логистическая регрессия и дерево решений.\n",
        "* Наилучший результат f1 (0,57) показала модель случайный лес. Параметр roc_auc оказался равен 0,54.\n",
        "\n",
        "\n",
        "3)\n",
        "* В начальных данных наблюдался значительный дисбаланс. Так только 20% отведов для целевого признака были позитивными. Наблюдалось низкое значение величины F1 на всех моделях.\n",
        "* Для борьбы с дисбалансом использовали увеличение (upscaling) и уменьшение (downscaling)\n",
        "* С использованием обработанных данных додели показали лучшие результаты. Наилучшее значение f1 было получено для модели случайного леса и использованием upsampling и составило 0.6.\n",
        "\n",
        "4)\n",
        "* Выбранная модель прошла проверку на адекватность. параметр f1 = 0.61"
      ]
    }
  ],
  "metadata": {
    "ExecuteTimeLog": [
      {
        "duration": 1463,
        "start_time": "2023-04-25T14:51:30.633Z"
      },
      {
        "duration": 273,
        "start_time": "2023-04-25T14:57:16.210Z"
      },
      {
        "duration": 21,
        "start_time": "2023-04-25T14:57:28.242Z"
      },
      {
        "duration": 16,
        "start_time": "2023-04-25T14:57:41.034Z"
      },
      {
        "duration": 55,
        "start_time": "2023-04-25T14:58:11.555Z"
      },
      {
        "duration": 247,
        "start_time": "2023-04-25T15:03:04.527Z"
      },
      {
        "duration": 14,
        "start_time": "2023-04-26T09:28:14.311Z"
      },
      {
        "duration": 12,
        "start_time": "2023-04-26T09:28:14.701Z"
      },
      {
        "duration": 96,
        "start_time": "2023-04-26T09:55:18.209Z"
      },
      {
        "duration": 2,
        "start_time": "2023-04-26T09:55:28.988Z"
      },
      {
        "duration": 12,
        "start_time": "2023-04-26T09:55:38.178Z"
      },
      {
        "duration": 4,
        "start_time": "2023-04-26T09:57:32.279Z"
      },
      {
        "duration": 8,
        "start_time": "2023-04-26T09:58:33.809Z"
      },
      {
        "duration": 3,
        "start_time": "2023-04-26T09:58:42.590Z"
      },
      {
        "duration": 9,
        "start_time": "2023-04-26T09:59:55.311Z"
      },
      {
        "duration": 3,
        "start_time": "2023-04-26T10:03:23.733Z"
      },
      {
        "duration": 12,
        "start_time": "2023-04-26T10:03:26.584Z"
      },
      {
        "duration": 13,
        "start_time": "2023-04-26T10:14:31.292Z"
      },
      {
        "duration": 205,
        "start_time": "2023-04-26T10:25:30.966Z"
      },
      {
        "duration": 51,
        "start_time": "2023-04-26T10:25:36.444Z"
      },
      {
        "duration": 3,
        "start_time": "2023-04-26T11:58:08.289Z"
      },
      {
        "duration": 216,
        "start_time": "2023-04-26T11:58:08.852Z"
      },
      {
        "duration": 219,
        "start_time": "2023-04-26T11:58:10.472Z"
      },
      {
        "duration": 8,
        "start_time": "2023-04-26T11:58:22.081Z"
      },
      {
        "duration": 5,
        "start_time": "2023-04-26T11:58:28.235Z"
      },
      {
        "duration": 9,
        "start_time": "2023-04-26T12:06:43.758Z"
      },
      {
        "duration": 5,
        "start_time": "2023-04-26T12:07:42.192Z"
      },
      {
        "duration": 13,
        "start_time": "2023-04-26T12:07:43.011Z"
      },
      {
        "duration": 211,
        "start_time": "2023-04-26T12:07:45.790Z"
      },
      {
        "duration": 13,
        "start_time": "2023-04-26T12:07:58.390Z"
      },
      {
        "duration": 249,
        "start_time": "2023-04-26T12:08:34.358Z"
      },
      {
        "duration": 230,
        "start_time": "2023-04-26T12:08:43.054Z"
      },
      {
        "duration": 768,
        "start_time": "2023-04-26T12:08:58.504Z"
      },
      {
        "duration": 206,
        "start_time": "2023-04-26T12:09:25.930Z"
      },
      {
        "duration": 12,
        "start_time": "2023-04-26T12:23:18.255Z"
      },
      {
        "duration": 210,
        "start_time": "2023-04-26T12:23:18.874Z"
      },
      {
        "duration": 187,
        "start_time": "2023-04-26T12:23:27.931Z"
      },
      {
        "duration": 202,
        "start_time": "2023-04-26T12:23:43.413Z"
      },
      {
        "duration": 9,
        "start_time": "2023-04-26T12:58:44.932Z"
      },
      {
        "duration": 440,
        "start_time": "2023-04-26T13:19:02.351Z"
      },
      {
        "duration": 143,
        "start_time": "2023-04-26T13:19:02.793Z"
      },
      {
        "duration": 13,
        "start_time": "2023-04-26T13:19:03.289Z"
      },
      {
        "duration": 12,
        "start_time": "2023-04-26T13:19:04.555Z"
      },
      {
        "duration": 25,
        "start_time": "2023-04-26T13:19:58.275Z"
      },
      {
        "duration": 4,
        "start_time": "2023-04-26T13:22:23.076Z"
      },
      {
        "duration": 23,
        "start_time": "2023-04-26T13:22:23.919Z"
      },
      {
        "duration": 23,
        "start_time": "2023-04-26T13:23:59.793Z"
      },
      {
        "duration": 15,
        "start_time": "2023-04-26T13:24:06.814Z"
      },
      {
        "duration": 48,
        "start_time": "2023-04-26T13:24:10.221Z"
      },
      {
        "duration": 4,
        "start_time": "2023-04-26T13:24:30.720Z"
      },
      {
        "duration": 5,
        "start_time": "2023-04-26T13:24:49.102Z"
      },
      {
        "duration": 18,
        "start_time": "2023-04-26T13:33:55.266Z"
      },
      {
        "duration": 15,
        "start_time": "2023-04-26T13:34:18.302Z"
      },
      {
        "duration": 17,
        "start_time": "2023-04-26T13:35:27.814Z"
      },
      {
        "duration": 18,
        "start_time": "2023-04-26T13:35:35.306Z"
      },
      {
        "duration": 5,
        "start_time": "2023-04-26T13:35:44.987Z"
      },
      {
        "duration": 36,
        "start_time": "2023-04-26T13:35:45.303Z"
      },
      {
        "duration": 14,
        "start_time": "2023-04-26T13:35:45.596Z"
      },
      {
        "duration": 11,
        "start_time": "2023-04-26T13:35:45.837Z"
      },
      {
        "duration": 10,
        "start_time": "2023-04-26T13:35:46.264Z"
      },
      {
        "duration": 4,
        "start_time": "2023-04-26T13:35:46.872Z"
      },
      {
        "duration": 17,
        "start_time": "2023-04-26T13:35:47.333Z"
      },
      {
        "duration": 16,
        "start_time": "2023-04-26T13:35:53.611Z"
      },
      {
        "duration": 46,
        "start_time": "2023-04-26T13:35:58.370Z"
      },
      {
        "duration": 48,
        "start_time": "2023-04-26T13:46:58.685Z"
      },
      {
        "duration": 15,
        "start_time": "2023-04-26T13:47:15.189Z"
      },
      {
        "duration": 4,
        "start_time": "2023-04-26T13:47:19.901Z"
      },
      {
        "duration": 44,
        "start_time": "2023-04-26T13:47:20.103Z"
      },
      {
        "duration": 19,
        "start_time": "2023-04-26T13:47:20.328Z"
      },
      {
        "duration": 12,
        "start_time": "2023-04-26T13:47:20.508Z"
      },
      {
        "duration": 12,
        "start_time": "2023-04-26T13:47:20.665Z"
      },
      {
        "duration": 4,
        "start_time": "2023-04-26T13:47:20.856Z"
      },
      {
        "duration": 12,
        "start_time": "2023-04-26T13:47:21.037Z"
      },
      {
        "duration": 41,
        "start_time": "2023-04-26T13:47:21.825Z"
      },
      {
        "duration": 17,
        "start_time": "2023-04-26T13:47:26.651Z"
      },
      {
        "duration": 5,
        "start_time": "2023-04-26T13:47:34.470Z"
      },
      {
        "duration": 38,
        "start_time": "2023-04-26T13:47:34.751Z"
      },
      {
        "duration": 11,
        "start_time": "2023-04-26T13:47:34.976Z"
      },
      {
        "duration": 12,
        "start_time": "2023-04-26T13:47:35.245Z"
      },
      {
        "duration": 10,
        "start_time": "2023-04-26T13:47:35.482Z"
      },
      {
        "duration": 4,
        "start_time": "2023-04-26T13:47:36.282Z"
      },
      {
        "duration": 12,
        "start_time": "2023-04-26T13:47:37.327Z"
      },
      {
        "duration": 20,
        "start_time": "2023-04-26T13:47:53.067Z"
      },
      {
        "duration": 8,
        "start_time": "2023-04-26T13:54:23.456Z"
      },
      {
        "duration": 17,
        "start_time": "2023-04-26T13:54:24.299Z"
      },
      {
        "duration": 12,
        "start_time": "2023-04-26T13:54:25.987Z"
      },
      {
        "duration": 15,
        "start_time": "2023-04-26T13:54:57.423Z"
      },
      {
        "duration": 19,
        "start_time": "2023-04-26T13:54:58.287Z"
      },
      {
        "duration": 6,
        "start_time": "2023-04-26T13:55:08.220Z"
      },
      {
        "duration": 8,
        "start_time": "2023-04-26T13:55:08.648Z"
      },
      {
        "duration": 9,
        "start_time": "2023-04-26T13:55:09.536Z"
      },
      {
        "duration": 26,
        "start_time": "2023-04-26T13:55:11.101Z"
      },
      {
        "duration": 5,
        "start_time": "2023-04-26T13:56:35.105Z"
      },
      {
        "duration": 17,
        "start_time": "2023-04-26T13:56:39.492Z"
      },
      {
        "duration": 5,
        "start_time": "2023-04-26T14:11:59.909Z"
      },
      {
        "duration": 11,
        "start_time": "2023-04-26T14:12:00.382Z"
      },
      {
        "duration": 9,
        "start_time": "2023-04-26T14:12:01.023Z"
      },
      {
        "duration": 19,
        "start_time": "2023-04-26T14:12:01.653Z"
      },
      {
        "duration": 15,
        "start_time": "2023-04-26T14:12:02.078Z"
      },
      {
        "duration": 8,
        "start_time": "2023-04-26T14:13:19.570Z"
      },
      {
        "duration": 15,
        "start_time": "2023-04-26T14:13:19.997Z"
      },
      {
        "duration": 34,
        "start_time": "2023-04-26T14:14:05.831Z"
      },
      {
        "duration": 8,
        "start_time": "2023-04-26T14:14:09.983Z"
      },
      {
        "duration": 23,
        "start_time": "2023-04-26T14:14:10.409Z"
      },
      {
        "duration": 63,
        "start_time": "2023-04-26T14:14:51.765Z"
      },
      {
        "duration": 23,
        "start_time": "2023-04-26T14:15:30.769Z"
      },
      {
        "duration": 20,
        "start_time": "2023-04-27T08:00:21.576Z"
      },
      {
        "duration": 4,
        "start_time": "2023-04-27T08:15:28.549Z"
      },
      {
        "duration": 57,
        "start_time": "2023-04-27T08:15:28.555Z"
      },
      {
        "duration": 12,
        "start_time": "2023-04-27T08:15:28.614Z"
      },
      {
        "duration": 22,
        "start_time": "2023-04-27T08:15:28.628Z"
      },
      {
        "duration": 14,
        "start_time": "2023-04-27T08:15:28.653Z"
      },
      {
        "duration": 5,
        "start_time": "2023-04-27T08:15:28.669Z"
      },
      {
        "duration": 40,
        "start_time": "2023-04-27T08:15:28.676Z"
      },
      {
        "duration": 18,
        "start_time": "2023-04-27T08:15:28.718Z"
      },
      {
        "duration": 26,
        "start_time": "2023-04-27T08:15:31.922Z"
      },
      {
        "duration": 19,
        "start_time": "2023-04-27T08:15:32.968Z"
      },
      {
        "duration": 11,
        "start_time": "2023-04-27T08:16:46.960Z"
      },
      {
        "duration": 11,
        "start_time": "2023-04-27T08:17:24.212Z"
      },
      {
        "duration": 1185,
        "start_time": "2023-04-27T08:17:47.711Z"
      },
      {
        "duration": 11,
        "start_time": "2023-04-27T08:24:49.084Z"
      },
      {
        "duration": 5,
        "start_time": "2023-04-27T08:26:21.402Z"
      },
      {
        "duration": 22,
        "start_time": "2023-04-27T08:26:22.065Z"
      },
      {
        "duration": 11,
        "start_time": "2023-04-27T08:26:46.309Z"
      },
      {
        "duration": 10,
        "start_time": "2023-04-27T08:26:51.102Z"
      },
      {
        "duration": 6,
        "start_time": "2023-04-27T08:26:59.754Z"
      },
      {
        "duration": 68,
        "start_time": "2023-04-27T08:26:59.763Z"
      },
      {
        "duration": 15,
        "start_time": "2023-04-27T08:26:59.833Z"
      },
      {
        "duration": 26,
        "start_time": "2023-04-27T08:26:59.850Z"
      },
      {
        "duration": 13,
        "start_time": "2023-04-27T08:26:59.879Z"
      },
      {
        "duration": 4,
        "start_time": "2023-04-27T08:26:59.894Z"
      },
      {
        "duration": 50,
        "start_time": "2023-04-27T08:26:59.900Z"
      },
      {
        "duration": 15,
        "start_time": "2023-04-27T08:26:59.956Z"
      },
      {
        "duration": 4,
        "start_time": "2023-04-27T08:27:03.873Z"
      },
      {
        "duration": 18,
        "start_time": "2023-04-27T08:27:04.602Z"
      },
      {
        "duration": 10,
        "start_time": "2023-04-27T08:27:18.946Z"
      },
      {
        "duration": 11,
        "start_time": "2023-04-27T08:27:23.862Z"
      },
      {
        "duration": 8,
        "start_time": "2023-04-27T08:27:24.537Z"
      },
      {
        "duration": 5,
        "start_time": "2023-04-27T08:27:30.018Z"
      },
      {
        "duration": 53,
        "start_time": "2023-04-27T08:27:30.025Z"
      },
      {
        "duration": 13,
        "start_time": "2023-04-27T08:27:30.079Z"
      },
      {
        "duration": 21,
        "start_time": "2023-04-27T08:27:30.093Z"
      },
      {
        "duration": 14,
        "start_time": "2023-04-27T08:27:30.116Z"
      },
      {
        "duration": 8,
        "start_time": "2023-04-27T08:27:30.131Z"
      },
      {
        "duration": 49,
        "start_time": "2023-04-27T08:27:30.141Z"
      },
      {
        "duration": 14,
        "start_time": "2023-04-27T08:27:30.193Z"
      },
      {
        "duration": 32,
        "start_time": "2023-04-27T08:27:30.209Z"
      },
      {
        "duration": 5,
        "start_time": "2023-04-27T08:27:33.131Z"
      },
      {
        "duration": 21,
        "start_time": "2023-04-27T08:27:33.560Z"
      },
      {
        "duration": 4,
        "start_time": "2023-04-27T08:38:50.028Z"
      },
      {
        "duration": 24,
        "start_time": "2023-04-27T08:38:50.535Z"
      },
      {
        "duration": 9,
        "start_time": "2023-04-27T08:38:51.333Z"
      },
      {
        "duration": 15,
        "start_time": "2023-04-27T08:38:51.907Z"
      },
      {
        "duration": 6,
        "start_time": "2023-04-28T07:18:21.729Z"
      },
      {
        "duration": 56,
        "start_time": "2023-04-28T07:18:21.737Z"
      },
      {
        "duration": 16,
        "start_time": "2023-04-28T07:18:21.795Z"
      },
      {
        "duration": 17,
        "start_time": "2023-04-28T07:18:21.814Z"
      },
      {
        "duration": 10,
        "start_time": "2023-04-28T07:18:21.834Z"
      },
      {
        "duration": 4,
        "start_time": "2023-04-28T07:18:21.846Z"
      },
      {
        "duration": 36,
        "start_time": "2023-04-28T07:18:21.852Z"
      },
      {
        "duration": 18,
        "start_time": "2023-04-28T07:18:21.890Z"
      },
      {
        "duration": 11,
        "start_time": "2023-04-28T07:18:21.910Z"
      },
      {
        "duration": 33,
        "start_time": "2023-04-28T07:18:21.923Z"
      },
      {
        "duration": 10,
        "start_time": "2023-04-28T07:18:21.958Z"
      },
      {
        "duration": 8,
        "start_time": "2023-04-28T07:18:26.576Z"
      },
      {
        "duration": 16,
        "start_time": "2023-04-28T07:18:27.127Z"
      },
      {
        "duration": 30,
        "start_time": "2023-04-28T07:19:17.935Z"
      },
      {
        "duration": 8,
        "start_time": "2023-04-28T07:29:42.269Z"
      },
      {
        "duration": 1218,
        "start_time": "2023-04-28T07:34:55.617Z"
      },
      {
        "duration": 1194,
        "start_time": "2023-04-28T07:35:45.680Z"
      },
      {
        "duration": 1200,
        "start_time": "2023-04-28T07:36:42.302Z"
      },
      {
        "duration": 3,
        "start_time": "2023-04-28T07:37:27.901Z"
      },
      {
        "duration": 37,
        "start_time": "2023-04-28T07:37:30.757Z"
      },
      {
        "duration": 12,
        "start_time": "2023-04-28T07:37:30.982Z"
      },
      {
        "duration": 12,
        "start_time": "2023-04-28T07:37:31.217Z"
      },
      {
        "duration": 5,
        "start_time": "2023-04-28T07:37:32.332Z"
      },
      {
        "duration": 12,
        "start_time": "2023-04-28T07:37:32.796Z"
      },
      {
        "duration": 9,
        "start_time": "2023-04-28T07:37:34.601Z"
      },
      {
        "duration": 3,
        "start_time": "2023-04-28T07:37:45.348Z"
      },
      {
        "duration": 33,
        "start_time": "2023-04-28T07:37:45.996Z"
      },
      {
        "duration": 13,
        "start_time": "2023-04-28T07:37:54.798Z"
      },
      {
        "duration": 4,
        "start_time": "2023-04-28T07:37:56.329Z"
      },
      {
        "duration": 20,
        "start_time": "2023-04-28T07:37:56.797Z"
      },
      {
        "duration": 1178,
        "start_time": "2023-04-28T07:37:57.700Z"
      },
      {
        "duration": 11,
        "start_time": "2023-04-28T07:38:03.956Z"
      },
      {
        "duration": 23,
        "start_time": "2023-04-28T07:38:04.856Z"
      },
      {
        "duration": 11,
        "start_time": "2023-04-28T07:52:52.532Z"
      },
      {
        "duration": 4,
        "start_time": "2023-04-28T07:56:38.297Z"
      },
      {
        "duration": 35,
        "start_time": "2023-04-28T07:56:38.497Z"
      },
      {
        "duration": 11,
        "start_time": "2023-04-28T07:56:38.704Z"
      },
      {
        "duration": 15,
        "start_time": "2023-04-28T07:56:38.885Z"
      },
      {
        "duration": 5,
        "start_time": "2023-04-28T07:56:39.496Z"
      },
      {
        "duration": 9,
        "start_time": "2023-04-28T07:56:39.877Z"
      },
      {
        "duration": 13,
        "start_time": "2023-04-28T07:56:40.246Z"
      },
      {
        "duration": 5,
        "start_time": "2023-04-28T07:56:40.679Z"
      },
      {
        "duration": 42,
        "start_time": "2023-04-28T07:56:40.878Z"
      },
      {
        "duration": 16,
        "start_time": "2023-04-28T07:56:41.068Z"
      },
      {
        "duration": 4,
        "start_time": "2023-04-28T07:57:21.792Z"
      },
      {
        "duration": 27,
        "start_time": "2023-04-28T07:57:22.242Z"
      },
      {
        "duration": 9,
        "start_time": "2023-04-28T07:57:34.437Z"
      },
      {
        "duration": 26,
        "start_time": "2023-04-28T07:57:35.450Z"
      },
      {
        "duration": 12,
        "start_time": "2023-04-28T07:57:52.803Z"
      },
      {
        "duration": 6,
        "start_time": "2023-04-28T07:57:59.189Z"
      },
      {
        "duration": 38,
        "start_time": "2023-04-28T07:57:59.197Z"
      },
      {
        "duration": 12,
        "start_time": "2023-04-28T07:57:59.237Z"
      },
      {
        "duration": 11,
        "start_time": "2023-04-28T07:57:59.251Z"
      },
      {
        "duration": 5,
        "start_time": "2023-04-28T07:57:59.264Z"
      },
      {
        "duration": 9,
        "start_time": "2023-04-28T07:57:59.271Z"
      },
      {
        "duration": 15,
        "start_time": "2023-04-28T07:57:59.282Z"
      },
      {
        "duration": 5,
        "start_time": "2023-04-28T07:57:59.299Z"
      },
      {
        "duration": 66,
        "start_time": "2023-04-28T07:57:59.305Z"
      },
      {
        "duration": 15,
        "start_time": "2023-04-28T07:57:59.373Z"
      },
      {
        "duration": 5,
        "start_time": "2023-04-28T07:58:02.180Z"
      },
      {
        "duration": 23,
        "start_time": "2023-04-28T07:58:02.552Z"
      },
      {
        "duration": 10,
        "start_time": "2023-04-28T07:58:03.429Z"
      },
      {
        "duration": 24,
        "start_time": "2023-04-28T07:58:04.205Z"
      },
      {
        "duration": 224,
        "start_time": "2023-04-28T08:07:52.316Z"
      },
      {
        "duration": 289,
        "start_time": "2023-04-28T08:08:12.207Z"
      },
      {
        "duration": 215,
        "start_time": "2023-04-28T08:08:21.013Z"
      },
      {
        "duration": 227,
        "start_time": "2023-04-28T08:08:39.414Z"
      },
      {
        "duration": 193,
        "start_time": "2023-04-28T08:08:46.035Z"
      },
      {
        "duration": 26,
        "start_time": "2023-04-28T08:46:55.365Z"
      },
      {
        "duration": 199,
        "start_time": "2023-04-28T08:50:33.680Z"
      },
      {
        "duration": 4,
        "start_time": "2023-04-28T09:09:38.705Z"
      },
      {
        "duration": 3,
        "start_time": "2023-04-28T09:09:39.045Z"
      },
      {
        "duration": 4,
        "start_time": "2023-04-28T09:09:39.407Z"
      },
      {
        "duration": 9,
        "start_time": "2023-04-28T09:09:39.853Z"
      },
      {
        "duration": 102487,
        "start_time": "2023-04-28T09:14:05.581Z"
      },
      {
        "duration": 6,
        "start_time": "2023-04-28T09:15:48.073Z"
      },
      {
        "duration": 93,
        "start_time": "2023-04-28T09:15:48.086Z"
      },
      {
        "duration": 10,
        "start_time": "2023-04-28T09:15:48.182Z"
      },
      {
        "duration": 8,
        "start_time": "2023-04-28T09:15:48.196Z"
      },
      {
        "duration": 185,
        "start_time": "2023-04-28T09:21:41.662Z"
      },
      {
        "duration": 177,
        "start_time": "2023-04-28T09:22:31.476Z"
      },
      {
        "duration": 3,
        "start_time": "2023-04-28T09:22:31.813Z"
      },
      {
        "duration": 4,
        "start_time": "2023-04-28T09:22:32.083Z"
      },
      {
        "duration": 3,
        "start_time": "2023-04-28T09:22:32.331Z"
      },
      {
        "duration": 3,
        "start_time": "2023-04-28T09:22:32.602Z"
      },
      {
        "duration": 204,
        "start_time": "2023-04-28T12:30:26.815Z"
      },
      {
        "duration": 3,
        "start_time": "2023-04-28T12:30:27.185Z"
      },
      {
        "duration": 5,
        "start_time": "2023-04-28T12:30:27.682Z"
      },
      {
        "duration": 4,
        "start_time": "2023-04-28T12:30:27.837Z"
      },
      {
        "duration": 4,
        "start_time": "2023-04-28T12:30:28.039Z"
      },
      {
        "duration": 111887,
        "start_time": "2023-04-28T12:30:28.575Z"
      },
      {
        "duration": 7,
        "start_time": "2023-04-28T12:32:20.468Z"
      },
      {
        "duration": 92,
        "start_time": "2023-04-28T12:32:20.481Z"
      },
      {
        "duration": 18,
        "start_time": "2023-04-28T12:32:20.575Z"
      },
      {
        "duration": 7,
        "start_time": "2023-04-28T12:32:20.595Z"
      },
      {
        "duration": 203,
        "start_time": "2023-04-28T12:32:20.604Z"
      },
      {
        "duration": 4,
        "start_time": "2023-04-28T12:32:20.809Z"
      },
      {
        "duration": 29,
        "start_time": "2023-04-28T12:32:20.815Z"
      },
      {
        "duration": 7,
        "start_time": "2023-04-28T12:32:20.846Z"
      },
      {
        "duration": 17,
        "start_time": "2023-04-28T12:32:20.855Z"
      },
      {
        "duration": 190,
        "start_time": "2023-04-28T13:20:55.927Z"
      },
      {
        "duration": 4,
        "start_time": "2023-04-28T13:20:56.321Z"
      },
      {
        "duration": 4,
        "start_time": "2023-04-28T13:20:56.989Z"
      },
      {
        "duration": 102,
        "start_time": "2023-04-28T13:41:00.583Z"
      },
      {
        "duration": 92,
        "start_time": "2023-04-28T13:41:08.513Z"
      },
      {
        "duration": 18889,
        "start_time": "2023-04-28T13:41:15.724Z"
      },
      {
        "duration": 1885,
        "start_time": "2023-05-02T07:35:43.406Z"
      },
      {
        "duration": 93,
        "start_time": "2023-05-02T07:35:45.293Z"
      },
      {
        "duration": 23,
        "start_time": "2023-05-02T07:35:45.389Z"
      },
      {
        "duration": 18,
        "start_time": "2023-05-02T07:35:45.417Z"
      },
      {
        "duration": 6,
        "start_time": "2023-05-02T07:35:45.436Z"
      },
      {
        "duration": 35,
        "start_time": "2023-05-02T07:35:45.444Z"
      },
      {
        "duration": 46,
        "start_time": "2023-05-02T07:35:45.482Z"
      },
      {
        "duration": 8,
        "start_time": "2023-05-02T07:35:45.530Z"
      },
      {
        "duration": 61,
        "start_time": "2023-05-02T07:35:45.540Z"
      },
      {
        "duration": 13,
        "start_time": "2023-05-02T07:35:45.604Z"
      },
      {
        "duration": 16,
        "start_time": "2023-05-02T07:35:45.618Z"
      },
      {
        "duration": 58,
        "start_time": "2023-05-02T07:35:45.635Z"
      },
      {
        "duration": 8,
        "start_time": "2023-05-02T07:35:45.695Z"
      },
      {
        "duration": 44,
        "start_time": "2023-05-02T07:35:45.704Z"
      },
      {
        "duration": 233,
        "start_time": "2023-05-02T07:35:45.749Z"
      },
      {
        "duration": 210,
        "start_time": "2023-05-02T07:35:45.983Z"
      },
      {
        "duration": 3,
        "start_time": "2023-05-02T07:35:46.195Z"
      },
      {
        "duration": 17,
        "start_time": "2023-05-02T07:35:46.200Z"
      },
      {
        "duration": 17,
        "start_time": "2023-05-02T07:35:46.218Z"
      },
      {
        "duration": 9,
        "start_time": "2023-05-02T07:35:46.237Z"
      },
      {
        "duration": 154511,
        "start_time": "2023-05-02T07:35:46.260Z"
      },
      {
        "duration": 11,
        "start_time": "2023-05-02T07:38:20.778Z"
      },
      {
        "duration": 87,
        "start_time": "2023-05-02T07:38:20.794Z"
      },
      {
        "duration": 6,
        "start_time": "2023-05-02T07:38:20.883Z"
      },
      {
        "duration": 8,
        "start_time": "2023-05-02T07:38:20.890Z"
      },
      {
        "duration": 213,
        "start_time": "2023-05-02T07:38:20.900Z"
      },
      {
        "duration": 20838,
        "start_time": "2023-05-02T07:38:21.114Z"
      },
      {
        "duration": 3,
        "start_time": "2023-05-02T07:38:41.958Z"
      },
      {
        "duration": 5,
        "start_time": "2023-05-02T07:38:41.963Z"
      },
      {
        "duration": 22,
        "start_time": "2023-05-02T07:38:41.972Z"
      },
      {
        "duration": 17,
        "start_time": "2023-05-02T07:38:41.995Z"
      },
      {
        "duration": 9,
        "start_time": "2023-05-02T07:43:09.517Z"
      },
      {
        "duration": 123,
        "start_time": "2023-05-02T08:39:46.025Z"
      },
      {
        "duration": 11,
        "start_time": "2023-05-02T08:39:50.556Z"
      },
      {
        "duration": 44,
        "start_time": "2023-05-02T08:39:50.570Z"
      },
      {
        "duration": 13,
        "start_time": "2023-05-02T08:39:50.616Z"
      },
      {
        "duration": 16,
        "start_time": "2023-05-02T08:39:50.630Z"
      },
      {
        "duration": 14,
        "start_time": "2023-05-02T08:39:50.648Z"
      },
      {
        "duration": 28,
        "start_time": "2023-05-02T08:39:50.664Z"
      },
      {
        "duration": 25,
        "start_time": "2023-05-02T08:39:50.695Z"
      },
      {
        "duration": 4,
        "start_time": "2023-05-02T08:39:50.721Z"
      },
      {
        "duration": 47,
        "start_time": "2023-05-02T08:39:50.727Z"
      },
      {
        "duration": 13,
        "start_time": "2023-05-02T08:39:50.775Z"
      },
      {
        "duration": 13,
        "start_time": "2023-05-02T08:39:50.790Z"
      },
      {
        "duration": 0,
        "start_time": "2023-05-02T08:39:50.805Z"
      },
      {
        "duration": 0,
        "start_time": "2023-05-02T08:39:50.806Z"
      },
      {
        "duration": 0,
        "start_time": "2023-05-02T08:39:50.807Z"
      },
      {
        "duration": 0,
        "start_time": "2023-05-02T08:39:50.808Z"
      },
      {
        "duration": 0,
        "start_time": "2023-05-02T08:39:50.809Z"
      },
      {
        "duration": 0,
        "start_time": "2023-05-02T08:39:50.810Z"
      },
      {
        "duration": 0,
        "start_time": "2023-05-02T08:39:50.811Z"
      },
      {
        "duration": 0,
        "start_time": "2023-05-02T08:39:50.812Z"
      },
      {
        "duration": 0,
        "start_time": "2023-05-02T08:39:50.812Z"
      },
      {
        "duration": 0,
        "start_time": "2023-05-02T08:39:50.814Z"
      },
      {
        "duration": 0,
        "start_time": "2023-05-02T08:39:50.814Z"
      },
      {
        "duration": 0,
        "start_time": "2023-05-02T08:39:50.816Z"
      },
      {
        "duration": 0,
        "start_time": "2023-05-02T08:39:50.817Z"
      },
      {
        "duration": 0,
        "start_time": "2023-05-02T08:39:50.818Z"
      },
      {
        "duration": 0,
        "start_time": "2023-05-02T08:39:50.819Z"
      },
      {
        "duration": 0,
        "start_time": "2023-05-02T08:39:50.820Z"
      },
      {
        "duration": 0,
        "start_time": "2023-05-02T08:39:50.821Z"
      },
      {
        "duration": 0,
        "start_time": "2023-05-02T08:39:50.822Z"
      },
      {
        "duration": 0,
        "start_time": "2023-05-02T08:39:50.823Z"
      },
      {
        "duration": 0,
        "start_time": "2023-05-02T08:39:50.824Z"
      },
      {
        "duration": 0,
        "start_time": "2023-05-02T08:39:50.867Z"
      },
      {
        "duration": 12,
        "start_time": "2023-05-02T08:39:56.872Z"
      },
      {
        "duration": 40,
        "start_time": "2023-05-02T08:40:19.158Z"
      },
      {
        "duration": 17,
        "start_time": "2023-05-02T08:40:19.785Z"
      },
      {
        "duration": 13,
        "start_time": "2023-05-02T08:40:20.384Z"
      },
      {
        "duration": 179,
        "start_time": "2023-05-02T08:40:49.839Z"
      },
      {
        "duration": 1905,
        "start_time": "2023-05-02T08:40:59.600Z"
      },
      {
        "duration": 10,
        "start_time": "2023-05-02T08:41:18.120Z"
      },
      {
        "duration": 11,
        "start_time": "2023-05-02T08:41:30.197Z"
      },
      {
        "duration": 12,
        "start_time": "2023-05-02T08:46:00.383Z"
      },
      {
        "duration": 4,
        "start_time": "2023-05-02T08:46:12.430Z"
      },
      {
        "duration": 36,
        "start_time": "2023-05-02T08:46:12.908Z"
      },
      {
        "duration": 14,
        "start_time": "2023-05-02T08:46:13.431Z"
      },
      {
        "duration": 14,
        "start_time": "2023-05-02T08:46:14.016Z"
      },
      {
        "duration": 5,
        "start_time": "2023-05-02T08:46:15.298Z"
      },
      {
        "duration": 9,
        "start_time": "2023-05-02T08:46:16.011Z"
      },
      {
        "duration": 13,
        "start_time": "2023-05-02T08:46:16.797Z"
      },
      {
        "duration": 4,
        "start_time": "2023-05-02T08:46:17.380Z"
      },
      {
        "duration": 35,
        "start_time": "2023-05-02T08:46:18.257Z"
      },
      {
        "duration": 13,
        "start_time": "2023-05-02T08:46:18.842Z"
      },
      {
        "duration": 9,
        "start_time": "2023-05-02T08:46:19.407Z"
      },
      {
        "duration": 4,
        "start_time": "2023-05-02T08:46:29.384Z"
      },
      {
        "duration": 41,
        "start_time": "2023-05-02T08:46:29.674Z"
      },
      {
        "duration": 13,
        "start_time": "2023-05-02T08:46:30.036Z"
      },
      {
        "duration": 12,
        "start_time": "2023-05-02T08:46:30.261Z"
      },
      {
        "duration": 5,
        "start_time": "2023-05-02T08:46:30.643Z"
      },
      {
        "duration": 7,
        "start_time": "2023-05-02T08:46:30.823Z"
      },
      {
        "duration": 12,
        "start_time": "2023-05-02T08:46:30.975Z"
      },
      {
        "duration": 4,
        "start_time": "2023-05-02T08:46:31.128Z"
      },
      {
        "duration": 36,
        "start_time": "2023-05-02T08:46:31.308Z"
      },
      {
        "duration": 14,
        "start_time": "2023-05-02T08:46:31.464Z"
      },
      {
        "duration": 5,
        "start_time": "2023-05-02T08:46:31.948Z"
      },
      {
        "duration": 19,
        "start_time": "2023-05-02T08:46:32.110Z"
      },
      {
        "duration": 8,
        "start_time": "2023-05-02T08:46:33.583Z"
      },
      {
        "duration": 36,
        "start_time": "2023-05-02T10:52:06.850Z"
      },
      {
        "duration": 209,
        "start_time": "2023-05-02T10:52:08.141Z"
      },
      {
        "duration": 7,
        "start_time": "2023-05-02T10:52:40.228Z"
      },
      {
        "duration": 7,
        "start_time": "2023-05-02T10:52:56.331Z"
      },
      {
        "duration": 1524,
        "start_time": "2023-05-02T10:53:16.789Z"
      },
      {
        "duration": 7,
        "start_time": "2023-05-02T10:53:36.424Z"
      },
      {
        "duration": 91,
        "start_time": "2023-05-02T10:55:03.215Z"
      },
      {
        "duration": 7,
        "start_time": "2023-05-02T10:55:21.890Z"
      },
      {
        "duration": 7,
        "start_time": "2023-05-02T11:29:03.835Z"
      },
      {
        "duration": 13,
        "start_time": "2023-05-02T11:29:17.527Z"
      },
      {
        "duration": 4,
        "start_time": "2023-05-02T13:00:11.505Z"
      },
      {
        "duration": 4,
        "start_time": "2023-05-02T13:00:26.906Z"
      },
      {
        "duration": 4,
        "start_time": "2023-05-02T13:00:30.393Z"
      },
      {
        "duration": 11,
        "start_time": "2023-05-02T14:10:11.220Z"
      },
      {
        "duration": 11,
        "start_time": "2023-05-02T14:10:28.303Z"
      },
      {
        "duration": 236,
        "start_time": "2023-05-02T14:43:47.226Z"
      },
      {
        "duration": 3,
        "start_time": "2023-05-02T14:43:47.464Z"
      },
      {
        "duration": 21661,
        "start_time": "2023-05-02T14:44:47.213Z"
      },
      {
        "duration": 9,
        "start_time": "2023-05-02T14:45:08.882Z"
      },
      {
        "duration": 6,
        "start_time": "2023-05-02T14:45:08.896Z"
      },
      {
        "duration": 5,
        "start_time": "2023-05-02T14:45:08.905Z"
      },
      {
        "duration": 4,
        "start_time": "2023-05-02T14:45:08.912Z"
      },
      {
        "duration": 217,
        "start_time": "2023-05-02T14:46:12.841Z"
      },
      {
        "duration": 21592,
        "start_time": "2023-05-02T14:46:18.960Z"
      },
      {
        "duration": 247,
        "start_time": "2023-05-02T14:47:55.981Z"
      },
      {
        "duration": 4,
        "start_time": "2023-05-02T14:47:56.413Z"
      },
      {
        "duration": 4,
        "start_time": "2023-05-02T14:47:56.834Z"
      },
      {
        "duration": 5,
        "start_time": "2023-05-02T14:47:57.192Z"
      },
      {
        "duration": 4,
        "start_time": "2023-05-02T14:47:57.592Z"
      },
      {
        "duration": 198,
        "start_time": "2023-05-02T14:48:17.535Z"
      },
      {
        "duration": 4,
        "start_time": "2023-05-02T14:48:17.939Z"
      },
      {
        "duration": 7,
        "start_time": "2023-05-02T14:48:18.482Z"
      },
      {
        "duration": 3,
        "start_time": "2023-05-02T14:48:18.852Z"
      },
      {
        "duration": 5,
        "start_time": "2023-05-02T14:48:19.256Z"
      },
      {
        "duration": 4,
        "start_time": "2023-05-02T14:48:35.334Z"
      },
      {
        "duration": 17,
        "start_time": "2023-05-02T14:48:35.671Z"
      },
      {
        "duration": 5,
        "start_time": "2023-05-02T14:48:36.508Z"
      },
      {
        "duration": 105,
        "start_time": "2023-05-02T15:02:10.521Z"
      },
      {
        "duration": 11,
        "start_time": "2023-05-02T15:03:43.793Z"
      },
      {
        "duration": 18,
        "start_time": "2023-05-02T15:04:00.645Z"
      },
      {
        "duration": 13,
        "start_time": "2023-05-02T15:04:25.325Z"
      },
      {
        "duration": 16,
        "start_time": "2023-05-02T15:04:29.691Z"
      },
      {
        "duration": 20,
        "start_time": "2023-05-02T15:05:35.750Z"
      },
      {
        "duration": 13,
        "start_time": "2023-05-02T15:06:57.020Z"
      },
      {
        "duration": 10,
        "start_time": "2023-05-02T15:07:29.442Z"
      },
      {
        "duration": 1811,
        "start_time": "2023-05-03T09:14:46.443Z"
      },
      {
        "duration": 450,
        "start_time": "2023-05-03T09:14:48.256Z"
      },
      {
        "duration": 14,
        "start_time": "2023-05-03T09:14:48.707Z"
      },
      {
        "duration": 23,
        "start_time": "2023-05-03T09:14:48.724Z"
      },
      {
        "duration": 5,
        "start_time": "2023-05-03T09:14:48.749Z"
      },
      {
        "duration": 6,
        "start_time": "2023-05-03T09:14:48.831Z"
      },
      {
        "duration": 13,
        "start_time": "2023-05-03T09:14:48.992Z"
      },
      {
        "duration": 4,
        "start_time": "2023-05-03T09:14:49.133Z"
      },
      {
        "duration": 45,
        "start_time": "2023-05-03T09:14:49.303Z"
      },
      {
        "duration": 20,
        "start_time": "2023-05-03T09:14:49.623Z"
      },
      {
        "duration": 4,
        "start_time": "2023-05-03T09:14:50.104Z"
      },
      {
        "duration": 32,
        "start_time": "2023-05-03T09:14:50.259Z"
      },
      {
        "duration": 7,
        "start_time": "2023-05-03T09:14:50.540Z"
      },
      {
        "duration": 20,
        "start_time": "2023-05-03T09:14:50.901Z"
      },
      {
        "duration": 8,
        "start_time": "2023-05-03T09:14:51.191Z"
      },
      {
        "duration": 188,
        "start_time": "2023-05-03T09:14:53.846Z"
      },
      {
        "duration": 4,
        "start_time": "2023-05-03T09:14:54.820Z"
      },
      {
        "duration": 4,
        "start_time": "2023-05-03T09:14:55.466Z"
      },
      {
        "duration": 4,
        "start_time": "2023-05-03T09:14:55.700Z"
      },
      {
        "duration": 3,
        "start_time": "2023-05-03T09:14:55.961Z"
      },
      {
        "duration": 68446,
        "start_time": "2023-05-03T09:14:56.930Z"
      },
      {
        "duration": 3,
        "start_time": "2023-05-03T09:16:05.377Z"
      },
      {
        "duration": 124,
        "start_time": "2023-05-03T09:16:05.382Z"
      },
      {
        "duration": 6,
        "start_time": "2023-05-03T09:16:05.508Z"
      },
      {
        "duration": 8,
        "start_time": "2023-05-03T09:16:05.516Z"
      },
      {
        "duration": 185,
        "start_time": "2023-05-03T09:31:49.766Z"
      },
      {
        "duration": 60,
        "start_time": "2023-05-03T09:31:56.018Z"
      },
      {
        "duration": 565,
        "start_time": "2023-05-03T09:32:19.577Z"
      },
      {
        "duration": 3,
        "start_time": "2023-05-03T09:32:20.144Z"
      },
      {
        "duration": 4,
        "start_time": "2023-05-03T09:32:20.320Z"
      },
      {
        "duration": 5,
        "start_time": "2023-05-03T09:32:32.599Z"
      },
      {
        "duration": 44,
        "start_time": "2023-05-03T09:32:32.614Z"
      },
      {
        "duration": 18,
        "start_time": "2023-05-03T09:32:32.660Z"
      },
      {
        "duration": 24,
        "start_time": "2023-05-03T09:32:32.679Z"
      },
      {
        "duration": 10,
        "start_time": "2023-05-03T09:32:32.706Z"
      },
      {
        "duration": 17,
        "start_time": "2023-05-03T09:32:32.719Z"
      },
      {
        "duration": 21,
        "start_time": "2023-05-03T09:32:32.738Z"
      },
      {
        "duration": 4,
        "start_time": "2023-05-03T09:32:32.761Z"
      },
      {
        "duration": 51,
        "start_time": "2023-05-03T09:32:32.772Z"
      },
      {
        "duration": 16,
        "start_time": "2023-05-03T09:32:32.825Z"
      },
      {
        "duration": 31,
        "start_time": "2023-05-03T09:32:32.842Z"
      },
      {
        "duration": 46,
        "start_time": "2023-05-03T09:32:32.875Z"
      },
      {
        "duration": 9,
        "start_time": "2023-05-03T09:32:32.923Z"
      },
      {
        "duration": 48,
        "start_time": "2023-05-03T09:32:32.940Z"
      },
      {
        "duration": 21,
        "start_time": "2023-05-03T09:32:32.992Z"
      },
      {
        "duration": 211,
        "start_time": "2023-05-03T09:32:33.015Z"
      },
      {
        "duration": 4,
        "start_time": "2023-05-03T09:32:33.228Z"
      },
      {
        "duration": 11,
        "start_time": "2023-05-03T09:32:33.234Z"
      },
      {
        "duration": 29,
        "start_time": "2023-05-03T09:32:33.247Z"
      },
      {
        "duration": 32,
        "start_time": "2023-05-03T09:32:33.279Z"
      },
      {
        "duration": 36768,
        "start_time": "2023-05-03T09:32:33.313Z"
      },
      {
        "duration": 4,
        "start_time": "2023-05-03T09:33:10.084Z"
      },
      {
        "duration": 92,
        "start_time": "2023-05-03T09:33:10.090Z"
      },
      {
        "duration": 20,
        "start_time": "2023-05-03T09:33:10.184Z"
      },
      {
        "duration": 20,
        "start_time": "2023-05-03T09:33:10.206Z"
      },
      {
        "duration": 175,
        "start_time": "2023-05-03T09:33:10.227Z"
      },
      {
        "duration": 4,
        "start_time": "2023-05-03T09:33:10.404Z"
      },
      {
        "duration": 15,
        "start_time": "2023-05-03T09:33:10.411Z"
      },
      {
        "duration": 20,
        "start_time": "2023-05-03T09:33:10.427Z"
      },
      {
        "duration": 10,
        "start_time": "2023-05-03T09:33:10.448Z"
      },
      {
        "duration": 65,
        "start_time": "2023-05-03T09:33:10.460Z"
      },
      {
        "duration": 162,
        "start_time": "2023-05-03T09:39:11.928Z"
      },
      {
        "duration": 4,
        "start_time": "2023-05-03T09:39:38.336Z"
      },
      {
        "duration": 9,
        "start_time": "2023-05-03T09:39:39.008Z"
      },
      {
        "duration": 5,
        "start_time": "2023-05-03T09:39:42.660Z"
      },
      {
        "duration": 9,
        "start_time": "2023-05-03T09:39:43.443Z"
      },
      {
        "duration": 12,
        "start_time": "2023-05-03T09:40:01.770Z"
      },
      {
        "duration": 8,
        "start_time": "2023-05-03T09:40:02.637Z"
      },
      {
        "duration": 4,
        "start_time": "2023-05-03T09:40:15.259Z"
      },
      {
        "duration": 20,
        "start_time": "2023-05-03T09:40:16.034Z"
      },
      {
        "duration": 3,
        "start_time": "2023-05-03T10:14:45.429Z"
      },
      {
        "duration": 17,
        "start_time": "2023-05-03T10:14:45.621Z"
      },
      {
        "duration": 4,
        "start_time": "2023-05-03T10:22:33.472Z"
      },
      {
        "duration": 13,
        "start_time": "2023-05-03T10:22:34.372Z"
      },
      {
        "duration": 5,
        "start_time": "2023-05-03T10:26:56.159Z"
      },
      {
        "duration": 14,
        "start_time": "2023-05-03T10:26:56.587Z"
      },
      {
        "duration": 5,
        "start_time": "2023-05-03T10:30:05.755Z"
      },
      {
        "duration": 12,
        "start_time": "2023-05-03T10:30:06.150Z"
      },
      {
        "duration": 4,
        "start_time": "2023-05-03T10:30:17.276Z"
      },
      {
        "duration": 8,
        "start_time": "2023-05-03T10:30:17.399Z"
      },
      {
        "duration": 3,
        "start_time": "2023-05-03T10:30:40.563Z"
      },
      {
        "duration": 16,
        "start_time": "2023-05-03T10:30:40.568Z"
      },
      {
        "duration": 11,
        "start_time": "2023-05-03T10:30:52.297Z"
      },
      {
        "duration": 5,
        "start_time": "2023-05-03T10:30:56.605Z"
      },
      {
        "duration": 13,
        "start_time": "2023-05-03T10:30:56.999Z"
      },
      {
        "duration": 4,
        "start_time": "2023-05-03T10:30:58.088Z"
      },
      {
        "duration": 10,
        "start_time": "2023-05-03T10:30:58.181Z"
      },
      {
        "duration": 93,
        "start_time": "2023-05-03T10:31:01.119Z"
      },
      {
        "duration": 4,
        "start_time": "2023-05-03T10:31:03.711Z"
      },
      {
        "duration": 3,
        "start_time": "2023-05-03T10:31:04.134Z"
      },
      {
        "duration": 3,
        "start_time": "2023-05-03T10:31:04.558Z"
      },
      {
        "duration": 3,
        "start_time": "2023-05-03T10:31:05.287Z"
      },
      {
        "duration": 92,
        "start_time": "2023-05-03T11:19:19.732Z"
      },
      {
        "duration": 3,
        "start_time": "2023-05-03T11:19:20.373Z"
      },
      {
        "duration": 3,
        "start_time": "2023-05-03T11:19:21.134Z"
      },
      {
        "duration": 3,
        "start_time": "2023-05-03T11:19:21.554Z"
      },
      {
        "duration": 2,
        "start_time": "2023-05-03T11:25:17.668Z"
      },
      {
        "duration": 2,
        "start_time": "2023-05-03T11:25:17.830Z"
      },
      {
        "duration": 89,
        "start_time": "2023-05-03T11:25:21.431Z"
      },
      {
        "duration": 2,
        "start_time": "2023-05-03T11:25:22.126Z"
      },
      {
        "duration": 3,
        "start_time": "2023-05-03T11:25:22.564Z"
      },
      {
        "duration": 3,
        "start_time": "2023-05-03T11:25:23.003Z"
      },
      {
        "duration": 3,
        "start_time": "2023-05-03T11:25:23.442Z"
      },
      {
        "duration": 334,
        "start_time": "2023-05-03T14:50:01.066Z"
      },
      {
        "duration": 3,
        "start_time": "2023-05-03T14:50:01.518Z"
      },
      {
        "duration": 3,
        "start_time": "2023-05-03T14:50:01.842Z"
      },
      {
        "duration": 3,
        "start_time": "2023-05-03T14:50:02.124Z"
      },
      {
        "duration": 4,
        "start_time": "2023-05-03T14:50:02.438Z"
      },
      {
        "duration": 90,
        "start_time": "2023-05-03T15:39:03.159Z"
      },
      {
        "duration": 3,
        "start_time": "2023-05-03T15:39:03.518Z"
      },
      {
        "duration": 163,
        "start_time": "2023-05-03T15:41:04.692Z"
      },
      {
        "duration": 67,
        "start_time": "2023-05-03T15:43:49.144Z"
      },
      {
        "duration": 3,
        "start_time": "2023-05-03T15:43:49.903Z"
      },
      {
        "duration": 207976,
        "start_time": "2023-05-03T15:44:35.698Z"
      },
      {
        "duration": 4,
        "start_time": "2023-05-03T15:48:03.677Z"
      },
      {
        "duration": 28,
        "start_time": "2023-05-03T15:48:03.683Z"
      },
      {
        "duration": 3,
        "start_time": "2023-05-03T15:48:03.713Z"
      },
      {
        "duration": 3,
        "start_time": "2023-05-03T15:48:03.773Z"
      },
      {
        "duration": 136730,
        "start_time": "2023-05-03T15:53:57.060Z"
      },
      {
        "duration": 4,
        "start_time": "2023-05-03T15:56:13.871Z"
      },
      {
        "duration": 25,
        "start_time": "2023-05-03T15:56:13.877Z"
      },
      {
        "duration": 18,
        "start_time": "2023-05-03T15:56:13.904Z"
      },
      {
        "duration": 18,
        "start_time": "2023-05-03T15:56:13.924Z"
      },
      {
        "duration": 2,
        "start_time": "2023-05-03T16:05:45.437Z"
      },
      {
        "duration": 125,
        "start_time": "2023-05-03T16:11:29.407Z"
      },
      {
        "duration": 4,
        "start_time": "2023-05-03T16:11:30.192Z"
      },
      {
        "duration": 4,
        "start_time": "2023-05-03T16:11:30.666Z"
      },
      {
        "duration": 10,
        "start_time": "2023-05-03T16:11:31.095Z"
      },
      {
        "duration": 3,
        "start_time": "2023-05-03T16:11:31.543Z"
      },
      {
        "duration": 302,
        "start_time": "2023-05-03T16:11:32.939Z"
      },
      {
        "duration": 129,
        "start_time": "2023-05-03T16:12:11.426Z"
      },
      {
        "duration": 97,
        "start_time": "2023-05-03T16:12:16.813Z"
      },
      {
        "duration": 106305,
        "start_time": "2023-05-03T16:14:59.078Z"
      },
      {
        "duration": 71594,
        "start_time": "2023-05-03T16:34:57.578Z"
      },
      {
        "duration": 192,
        "start_time": "2023-05-03T16:36:09.174Z"
      },
      {
        "duration": 280,
        "start_time": "2023-05-03T16:37:18.105Z"
      },
      {
        "duration": 137,
        "start_time": "2023-05-04T07:58:10.346Z"
      },
      {
        "duration": 1866,
        "start_time": "2023-05-04T07:59:17.720Z"
      },
      {
        "duration": 109,
        "start_time": "2023-05-04T07:59:19.589Z"
      },
      {
        "duration": 25,
        "start_time": "2023-05-04T07:59:19.700Z"
      },
      {
        "duration": 17,
        "start_time": "2023-05-04T07:59:19.731Z"
      },
      {
        "duration": 5,
        "start_time": "2023-05-04T07:59:19.750Z"
      },
      {
        "duration": 14,
        "start_time": "2023-05-04T07:59:19.757Z"
      },
      {
        "duration": 37,
        "start_time": "2023-05-04T07:59:19.773Z"
      },
      {
        "duration": 5,
        "start_time": "2023-05-04T07:59:19.812Z"
      },
      {
        "duration": 70,
        "start_time": "2023-05-04T07:59:19.819Z"
      },
      {
        "duration": 17,
        "start_time": "2023-05-04T07:59:19.892Z"
      },
      {
        "duration": 40,
        "start_time": "2023-05-04T07:59:19.911Z"
      },
      {
        "duration": 45,
        "start_time": "2023-05-04T07:59:19.953Z"
      },
      {
        "duration": 11,
        "start_time": "2023-05-04T07:59:20.001Z"
      },
      {
        "duration": 59,
        "start_time": "2023-05-04T07:59:20.014Z"
      },
      {
        "duration": 45,
        "start_time": "2023-05-04T07:59:20.075Z"
      },
      {
        "duration": 192,
        "start_time": "2023-05-04T07:59:21.985Z"
      },
      {
        "duration": 97954,
        "start_time": "2023-05-04T07:59:22.851Z"
      },
      {
        "duration": 256,
        "start_time": "2023-05-04T08:01:00.817Z"
      },
      {
        "duration": 4,
        "start_time": "2023-05-04T08:01:01.075Z"
      },
      {
        "duration": 77,
        "start_time": "2023-05-04T08:01:01.082Z"
      },
      {
        "duration": 49,
        "start_time": "2023-05-04T08:01:01.161Z"
      },
      {
        "duration": 57,
        "start_time": "2023-05-04T08:01:01.212Z"
      },
      {
        "duration": 169,
        "start_time": "2023-05-04T08:10:02.265Z"
      },
      {
        "duration": 79,
        "start_time": "2023-05-04T08:15:01.869Z"
      },
      {
        "duration": 4,
        "start_time": "2023-05-04T08:15:02.875Z"
      },
      {
        "duration": 173,
        "start_time": "2023-05-04T08:15:09.350Z"
      },
      {
        "duration": 3,
        "start_time": "2023-05-04T08:15:10.176Z"
      },
      {
        "duration": 11,
        "start_time": "2023-05-04T08:15:10.729Z"
      },
      {
        "duration": 4,
        "start_time": "2023-05-04T08:15:10.742Z"
      },
      {
        "duration": 8,
        "start_time": "2023-05-04T08:15:10.851Z"
      },
      {
        "duration": 289,
        "start_time": "2023-05-04T08:15:11.380Z"
      },
      {
        "duration": 104,
        "start_time": "2023-05-04T08:15:11.729Z"
      },
      {
        "duration": 105714,
        "start_time": "2023-05-04T08:15:12.286Z"
      },
      {
        "duration": 69996,
        "start_time": "2023-05-04T08:16:58.008Z"
      },
      {
        "duration": 172,
        "start_time": "2023-05-04T08:18:08.006Z"
      },
      {
        "duration": 265,
        "start_time": "2023-05-04T08:18:08.180Z"
      },
      {
        "duration": 11,
        "start_time": "2023-05-04T08:18:08.447Z"
      },
      {
        "duration": 0,
        "start_time": "2023-05-04T08:18:08.460Z"
      },
      {
        "duration": 4,
        "start_time": "2023-05-04T08:52:53.732Z"
      },
      {
        "duration": 14,
        "start_time": "2023-05-04T08:52:54.290Z"
      },
      {
        "duration": 4,
        "start_time": "2023-05-04T08:52:56.519Z"
      },
      {
        "duration": 10,
        "start_time": "2023-05-04T08:52:57.080Z"
      },
      {
        "duration": 202,
        "start_time": "2023-05-04T08:52:58.619Z"
      },
      {
        "duration": 142,
        "start_time": "2023-05-04T08:53:01.762Z"
      },
      {
        "duration": 77751,
        "start_time": "2023-05-04T08:53:06.148Z"
      },
      {
        "duration": 72012,
        "start_time": "2023-05-04T08:54:23.901Z"
      },
      {
        "duration": 212,
        "start_time": "2023-05-04T08:55:35.915Z"
      },
      {
        "duration": 187,
        "start_time": "2023-05-04T08:55:36.129Z"
      },
      {
        "duration": 10,
        "start_time": "2023-05-04T09:03:23.824Z"
      },
      {
        "duration": 5,
        "start_time": "2023-05-04T09:08:18.027Z"
      },
      {
        "duration": 18,
        "start_time": "2023-05-04T09:08:18.398Z"
      },
      {
        "duration": 4,
        "start_time": "2023-05-04T09:08:19.715Z"
      },
      {
        "duration": 10,
        "start_time": "2023-05-04T09:08:20.063Z"
      },
      {
        "duration": 348,
        "start_time": "2023-05-04T09:08:21.852Z"
      },
      {
        "duration": 3,
        "start_time": "2023-05-04T09:30:43.997Z"
      },
      {
        "duration": 9,
        "start_time": "2023-05-04T09:30:44.342Z"
      },
      {
        "duration": 323,
        "start_time": "2023-05-04T09:30:45.957Z"
      },
      {
        "duration": 155,
        "start_time": "2023-05-04T09:30:47.091Z"
      },
      {
        "duration": 4,
        "start_time": "2023-05-04T09:30:58.015Z"
      },
      {
        "duration": 10,
        "start_time": "2023-05-04T09:30:58.453Z"
      },
      {
        "duration": 334,
        "start_time": "2023-05-04T09:30:59.837Z"
      },
      {
        "duration": 176,
        "start_time": "2023-05-04T09:31:04.314Z"
      },
      {
        "duration": 10,
        "start_time": "2023-05-04T09:31:13.246Z"
      },
      {
        "duration": 335,
        "start_time": "2023-05-04T09:31:14.440Z"
      },
      {
        "duration": 132,
        "start_time": "2023-05-04T09:31:15.122Z"
      },
      {
        "duration": 103925,
        "start_time": "2023-05-04T09:31:17.075Z"
      },
      {
        "duration": 5,
        "start_time": "2023-05-04T09:33:01.002Z"
      },
      {
        "duration": 110,
        "start_time": "2023-05-04T09:33:01.009Z"
      },
      {
        "duration": 469,
        "start_time": "2023-05-04T09:33:01.121Z"
      },
      {
        "duration": 162,
        "start_time": "2023-05-04T09:33:01.594Z"
      },
      {
        "duration": 16,
        "start_time": "2023-05-04T09:33:14.251Z"
      },
      {
        "duration": 8,
        "start_time": "2023-05-04T09:39:16.117Z"
      },
      {
        "duration": 161,
        "start_time": "2023-05-04T09:39:24.037Z"
      },
      {
        "duration": 8,
        "start_time": "2023-05-04T09:39:31.732Z"
      },
      {
        "duration": 211,
        "start_time": "2023-05-04T09:39:34.105Z"
      },
      {
        "duration": 17,
        "start_time": "2023-05-04T09:39:46.767Z"
      },
      {
        "duration": 9,
        "start_time": "2023-05-04T09:39:52.484Z"
      },
      {
        "duration": 192,
        "start_time": "2023-05-04T09:39:55.222Z"
      },
      {
        "duration": 10,
        "start_time": "2023-05-04T09:40:01.984Z"
      },
      {
        "duration": 200,
        "start_time": "2023-05-04T09:40:05.043Z"
      },
      {
        "duration": 12,
        "start_time": "2023-05-04T09:40:14.022Z"
      },
      {
        "duration": 92113,
        "start_time": "2023-05-04T09:40:54.185Z"
      },
      {
        "duration": 77300,
        "start_time": "2023-05-04T09:42:26.302Z"
      },
      {
        "duration": 139,
        "start_time": "2023-05-04T09:45:46.930Z"
      },
      {
        "duration": 194,
        "start_time": "2023-05-04T09:45:49.879Z"
      },
      {
        "duration": 11,
        "start_time": "2023-05-04T09:46:05.797Z"
      },
      {
        "duration": 141,
        "start_time": "2023-05-04T09:46:10.127Z"
      },
      {
        "duration": 192,
        "start_time": "2023-05-04T09:46:19.036Z"
      },
      {
        "duration": 17,
        "start_time": "2023-05-04T09:46:29.398Z"
      },
      {
        "duration": 225,
        "start_time": "2023-05-04T09:46:36.451Z"
      },
      {
        "duration": 8,
        "start_time": "2023-05-04T09:46:51.278Z"
      },
      {
        "duration": 191,
        "start_time": "2023-05-04T09:46:57.590Z"
      },
      {
        "duration": 9,
        "start_time": "2023-05-04T09:47:08.716Z"
      },
      {
        "duration": 111,
        "start_time": "2023-05-04T09:47:16.535Z"
      },
      {
        "duration": 11,
        "start_time": "2023-05-04T09:47:31.717Z"
      },
      {
        "duration": 145,
        "start_time": "2023-05-04T09:47:37.484Z"
      },
      {
        "duration": 10,
        "start_time": "2023-05-04T09:47:53.457Z"
      },
      {
        "duration": 143,
        "start_time": "2023-05-04T09:48:03.526Z"
      },
      {
        "duration": 31,
        "start_time": "2023-05-04T09:48:26.289Z"
      },
      {
        "duration": 189,
        "start_time": "2023-05-04T09:48:30.899Z"
      },
      {
        "duration": 152,
        "start_time": "2023-05-04T09:48:37.488Z"
      },
      {
        "duration": 12,
        "start_time": "2023-05-04T09:49:03.773Z"
      },
      {
        "duration": 143,
        "start_time": "2023-05-04T09:49:11.026Z"
      },
      {
        "duration": 81,
        "start_time": "2023-05-04T09:59:31.517Z"
      },
      {
        "duration": 133,
        "start_time": "2023-05-04T09:59:31.602Z"
      },
      {
        "duration": 20,
        "start_time": "2023-05-04T09:59:31.738Z"
      },
      {
        "duration": 24,
        "start_time": "2023-05-04T09:59:31.760Z"
      },
      {
        "duration": 20,
        "start_time": "2023-05-04T09:59:31.786Z"
      },
      {
        "duration": 12,
        "start_time": "2023-05-04T09:59:31.810Z"
      },
      {
        "duration": 25,
        "start_time": "2023-05-04T09:59:31.824Z"
      },
      {
        "duration": 9,
        "start_time": "2023-05-04T09:59:31.851Z"
      },
      {
        "duration": 55,
        "start_time": "2023-05-04T09:59:31.861Z"
      },
      {
        "duration": 17,
        "start_time": "2023-05-04T09:59:31.918Z"
      },
      {
        "duration": 6,
        "start_time": "2023-05-04T09:59:31.937Z"
      },
      {
        "duration": 57,
        "start_time": "2023-05-04T09:59:31.945Z"
      },
      {
        "duration": 11,
        "start_time": "2023-05-04T09:59:32.008Z"
      },
      {
        "duration": 29,
        "start_time": "2023-05-04T09:59:32.021Z"
      },
      {
        "duration": 5,
        "start_time": "2023-05-04T10:07:25.964Z"
      },
      {
        "duration": 9,
        "start_time": "2023-05-04T10:07:27.449Z"
      },
      {
        "duration": 13,
        "start_time": "2023-05-04T10:07:27.977Z"
      },
      {
        "duration": 16,
        "start_time": "2023-05-04T10:07:29.908Z"
      },
      {
        "duration": 47,
        "start_time": "2023-05-04T10:07:30.385Z"
      },
      {
        "duration": 4,
        "start_time": "2023-05-04T10:07:53.429Z"
      },
      {
        "duration": 35,
        "start_time": "2023-05-04T10:07:53.813Z"
      },
      {
        "duration": 20,
        "start_time": "2023-05-04T10:07:54.202Z"
      },
      {
        "duration": 14,
        "start_time": "2023-05-04T10:07:54.663Z"
      },
      {
        "duration": 6,
        "start_time": "2023-05-04T10:07:55.629Z"
      },
      {
        "duration": 6,
        "start_time": "2023-05-04T10:07:56.080Z"
      },
      {
        "duration": 10,
        "start_time": "2023-05-04T10:07:56.755Z"
      },
      {
        "duration": 20,
        "start_time": "2023-05-04T10:07:57.688Z"
      },
      {
        "duration": 5,
        "start_time": "2023-05-04T10:07:59.232Z"
      },
      {
        "duration": 34,
        "start_time": "2023-05-04T10:08:00.433Z"
      },
      {
        "duration": 14,
        "start_time": "2023-05-04T10:08:01.873Z"
      },
      {
        "duration": 10,
        "start_time": "2023-05-04T10:08:03.505Z"
      },
      {
        "duration": 17,
        "start_time": "2023-05-04T10:08:03.955Z"
      },
      {
        "duration": 9,
        "start_time": "2023-05-04T10:08:04.472Z"
      },
      {
        "duration": 31,
        "start_time": "2023-05-04T10:08:05.080Z"
      },
      {
        "duration": 6,
        "start_time": "2023-05-04T10:08:05.512Z"
      },
      {
        "duration": 185,
        "start_time": "2023-05-04T10:08:10.367Z"
      },
      {
        "duration": 69572,
        "start_time": "2023-05-04T10:08:13.551Z"
      },
      {
        "duration": 279,
        "start_time": "2023-05-04T10:09:23.125Z"
      },
      {
        "duration": 193,
        "start_time": "2023-05-04T10:11:16.217Z"
      },
      {
        "duration": 3,
        "start_time": "2023-05-04T10:11:19.480Z"
      },
      {
        "duration": 11,
        "start_time": "2023-05-04T10:11:19.952Z"
      },
      {
        "duration": 13,
        "start_time": "2023-05-04T10:11:21.410Z"
      },
      {
        "duration": 13,
        "start_time": "2023-05-04T10:11:21.864Z"
      },
      {
        "duration": 237,
        "start_time": "2023-05-04T10:11:23.484Z"
      },
      {
        "duration": 174,
        "start_time": "2023-05-04T10:11:27.141Z"
      },
      {
        "duration": 85846,
        "start_time": "2023-05-04T10:11:37.053Z"
      },
      {
        "duration": 69996,
        "start_time": "2023-05-04T10:13:02.901Z"
      },
      {
        "duration": 233,
        "start_time": "2023-05-04T10:14:12.899Z"
      },
      {
        "duration": 187,
        "start_time": "2023-05-04T10:14:13.133Z"
      },
      {
        "duration": 10,
        "start_time": "2023-05-04T10:16:19.670Z"
      },
      {
        "duration": 220,
        "start_time": "2023-05-04T10:16:22.892Z"
      },
      {
        "duration": 229,
        "start_time": "2023-05-04T10:16:31.449Z"
      },
      {
        "duration": 43,
        "start_time": "2023-05-04T10:16:44.610Z"
      },
      {
        "duration": 1002,
        "start_time": "2023-05-04T10:16:48.779Z"
      },
      {
        "duration": 1026,
        "start_time": "2023-05-04T10:16:56.688Z"
      },
      {
        "duration": 10,
        "start_time": "2023-05-04T10:17:13.078Z"
      },
      {
        "duration": 212,
        "start_time": "2023-05-04T10:17:15.992Z"
      },
      {
        "duration": 192,
        "start_time": "2023-05-04T10:17:45.089Z"
      },
      {
        "duration": 145,
        "start_time": "2023-05-04T10:17:59.720Z"
      },
      {
        "duration": 147,
        "start_time": "2023-05-04T10:18:11.791Z"
      },
      {
        "duration": 156,
        "start_time": "2023-05-04T10:42:23.433Z"
      },
      {
        "duration": 9235,
        "start_time": "2023-05-04T10:43:10.810Z"
      },
      {
        "duration": 12129,
        "start_time": "2023-05-04T10:44:20.468Z"
      },
      {
        "duration": 7674,
        "start_time": "2023-05-04T10:44:32.599Z"
      },
      {
        "duration": 5,
        "start_time": "2023-05-04T10:45:03.835Z"
      },
      {
        "duration": 44,
        "start_time": "2023-05-04T10:45:03.842Z"
      },
      {
        "duration": 23,
        "start_time": "2023-05-04T10:45:03.888Z"
      },
      {
        "duration": 29,
        "start_time": "2023-05-04T10:45:03.915Z"
      },
      {
        "duration": 29,
        "start_time": "2023-05-04T10:45:03.946Z"
      },
      {
        "duration": 29,
        "start_time": "2023-05-04T10:45:03.977Z"
      },
      {
        "duration": 15,
        "start_time": "2023-05-04T10:45:04.011Z"
      },
      {
        "duration": 37,
        "start_time": "2023-05-04T10:45:04.028Z"
      },
      {
        "duration": 20,
        "start_time": "2023-05-04T10:45:04.067Z"
      },
      {
        "duration": 72,
        "start_time": "2023-05-04T10:45:04.090Z"
      },
      {
        "duration": 19,
        "start_time": "2023-05-04T10:45:04.164Z"
      },
      {
        "duration": 20,
        "start_time": "2023-05-04T10:45:04.185Z"
      },
      {
        "duration": 29,
        "start_time": "2023-05-04T10:45:04.208Z"
      },
      {
        "duration": 10,
        "start_time": "2023-05-04T10:45:04.239Z"
      },
      {
        "duration": 45,
        "start_time": "2023-05-04T10:45:04.253Z"
      },
      {
        "duration": 10,
        "start_time": "2023-05-04T10:45:04.300Z"
      },
      {
        "duration": 9140,
        "start_time": "2023-05-04T10:45:04.311Z"
      },
      {
        "duration": 91546,
        "start_time": "2023-05-04T10:45:13.452Z"
      },
      {
        "duration": 214,
        "start_time": "2023-05-04T10:46:45.000Z"
      },
      {
        "duration": 7,
        "start_time": "2023-05-04T10:46:45.219Z"
      },
      {
        "duration": 48,
        "start_time": "2023-05-04T10:46:45.228Z"
      },
      {
        "duration": 5,
        "start_time": "2023-05-04T10:46:45.279Z"
      },
      {
        "duration": 14,
        "start_time": "2023-05-04T10:46:45.285Z"
      },
      {
        "duration": 12189,
        "start_time": "2023-05-04T10:46:45.301Z"
      },
      {
        "duration": 5338,
        "start_time": "2023-05-04T10:46:57.494Z"
      },
      {
        "duration": 90816,
        "start_time": "2023-05-04T10:47:02.834Z"
      },
      {
        "duration": 65494,
        "start_time": "2023-05-04T10:48:33.701Z"
      },
      {
        "duration": 248,
        "start_time": "2023-05-04T10:49:39.199Z"
      },
      {
        "duration": 215,
        "start_time": "2023-05-04T10:49:39.451Z"
      },
      {
        "duration": 31,
        "start_time": "2023-05-04T10:49:39.668Z"
      },
      {
        "duration": 0,
        "start_time": "2023-05-04T10:49:39.701Z"
      },
      {
        "duration": 19,
        "start_time": "2023-05-04T11:08:17.415Z"
      },
      {
        "duration": 3,
        "start_time": "2023-05-04T11:08:18.345Z"
      },
      {
        "duration": 5005,
        "start_time": "2023-05-04T11:15:47.144Z"
      },
      {
        "duration": 141,
        "start_time": "2023-05-04T11:19:54.580Z"
      },
      {
        "duration": 145,
        "start_time": "2023-05-04T11:20:08.377Z"
      },
      {
        "duration": 143,
        "start_time": "2023-05-04T11:26:48.550Z"
      },
      {
        "duration": 161,
        "start_time": "2023-05-04T11:26:56.628Z"
      },
      {
        "duration": 175,
        "start_time": "2023-05-04T11:32:17.061Z"
      },
      {
        "duration": 3,
        "start_time": "2023-05-04T11:33:38.240Z"
      },
      {
        "duration": 9,
        "start_time": "2023-05-04T11:35:42.615Z"
      },
      {
        "duration": 41,
        "start_time": "2023-05-04T11:35:42.626Z"
      },
      {
        "duration": 12,
        "start_time": "2023-05-04T11:35:42.669Z"
      },
      {
        "duration": 18,
        "start_time": "2023-05-04T11:35:42.683Z"
      },
      {
        "duration": 8,
        "start_time": "2023-05-04T11:35:42.704Z"
      },
      {
        "duration": 23,
        "start_time": "2023-05-04T11:35:42.714Z"
      },
      {
        "duration": 12,
        "start_time": "2023-05-04T11:35:42.743Z"
      },
      {
        "duration": 4,
        "start_time": "2023-05-04T11:35:42.757Z"
      },
      {
        "duration": 56,
        "start_time": "2023-05-04T11:35:42.763Z"
      },
      {
        "duration": 17,
        "start_time": "2023-05-04T11:35:42.821Z"
      },
      {
        "duration": 11,
        "start_time": "2023-05-04T11:35:42.840Z"
      },
      {
        "duration": 44,
        "start_time": "2023-05-04T11:35:42.853Z"
      },
      {
        "duration": 9,
        "start_time": "2023-05-04T11:35:42.898Z"
      },
      {
        "duration": 40,
        "start_time": "2023-05-04T11:35:42.910Z"
      },
      {
        "duration": 5,
        "start_time": "2023-05-04T11:35:42.951Z"
      },
      {
        "duration": 9957,
        "start_time": "2023-05-04T11:35:42.958Z"
      },
      {
        "duration": 86318,
        "start_time": "2023-05-04T11:35:52.919Z"
      },
      {
        "duration": 236,
        "start_time": "2023-05-04T11:37:19.300Z"
      },
      {
        "duration": 7,
        "start_time": "2023-05-04T11:37:19.537Z"
      },
      {
        "duration": 11,
        "start_time": "2023-05-04T11:37:19.548Z"
      },
      {
        "duration": 15,
        "start_time": "2023-05-04T11:37:19.560Z"
      },
      {
        "duration": 30,
        "start_time": "2023-05-04T11:37:19.577Z"
      },
      {
        "duration": 12502,
        "start_time": "2023-05-04T11:37:19.610Z"
      },
      {
        "duration": 5415,
        "start_time": "2023-05-04T11:37:32.115Z"
      },
      {
        "duration": 140462,
        "start_time": "2023-05-04T11:37:37.534Z"
      },
      {
        "duration": 82598,
        "start_time": "2023-05-04T11:39:58.005Z"
      },
      {
        "duration": 133,
        "start_time": "2023-05-04T11:41:20.605Z"
      },
      {
        "duration": 210,
        "start_time": "2023-05-04T11:41:20.740Z"
      },
      {
        "duration": 148,
        "start_time": "2023-05-04T11:41:20.952Z"
      },
      {
        "duration": 1827,
        "start_time": "2023-05-04T12:17:16.222Z"
      },
      {
        "duration": 39,
        "start_time": "2023-05-04T12:17:18.051Z"
      },
      {
        "duration": 16,
        "start_time": "2023-05-04T12:17:18.092Z"
      },
      {
        "duration": 13,
        "start_time": "2023-05-04T12:17:18.109Z"
      },
      {
        "duration": 5,
        "start_time": "2023-05-04T12:17:18.125Z"
      },
      {
        "duration": 9,
        "start_time": "2023-05-04T12:17:18.131Z"
      },
      {
        "duration": 35,
        "start_time": "2023-05-04T12:17:18.141Z"
      },
      {
        "duration": 5,
        "start_time": "2023-05-04T12:17:18.178Z"
      },
      {
        "duration": 35,
        "start_time": "2023-05-04T12:17:18.185Z"
      },
      {
        "duration": 11,
        "start_time": "2023-05-04T12:17:18.222Z"
      },
      {
        "duration": 5,
        "start_time": "2023-05-04T12:17:18.235Z"
      },
      {
        "duration": 58,
        "start_time": "2023-05-04T12:17:18.242Z"
      },
      {
        "duration": 7,
        "start_time": "2023-05-04T12:17:18.301Z"
      },
      {
        "duration": 28,
        "start_time": "2023-05-04T12:17:18.311Z"
      },
      {
        "duration": 6,
        "start_time": "2023-05-04T12:17:18.340Z"
      },
      {
        "duration": 925,
        "start_time": "2023-05-04T12:17:18.347Z"
      },
      {
        "duration": 652,
        "start_time": "2023-05-04T12:17:19.273Z"
      },
      {
        "duration": 169,
        "start_time": "2023-05-04T12:17:19.926Z"
      },
      {
        "duration": 3,
        "start_time": "2023-05-04T12:17:20.097Z"
      },
      {
        "duration": 39,
        "start_time": "2023-05-04T12:17:20.102Z"
      },
      {
        "duration": 9,
        "start_time": "2023-05-04T12:17:20.143Z"
      },
      {
        "duration": 15,
        "start_time": "2023-05-04T12:17:20.153Z"
      },
      {
        "duration": 12236,
        "start_time": "2023-05-04T12:17:20.169Z"
      },
      {
        "duration": 4685,
        "start_time": "2023-05-04T12:17:32.407Z"
      },
      {
        "duration": 45886,
        "start_time": "2023-05-04T12:17:37.093Z"
      },
      {
        "duration": 25493,
        "start_time": "2023-05-04T12:18:22.982Z"
      },
      {
        "duration": 200,
        "start_time": "2023-05-04T12:18:48.479Z"
      },
      {
        "duration": 202,
        "start_time": "2023-05-04T12:18:48.681Z"
      },
      {
        "duration": 134,
        "start_time": "2023-05-04T12:18:48.884Z"
      },
      {
        "duration": 12746,
        "start_time": "2023-05-04T12:44:05.572Z"
      },
      {
        "duration": 9867,
        "start_time": "2023-05-04T13:26:47.756Z"
      },
      {
        "duration": 73253,
        "start_time": "2023-05-04T13:27:20.875Z"
      },
      {
        "duration": 4,
        "start_time": "2023-05-04T13:29:51.219Z"
      },
      {
        "duration": 10,
        "start_time": "2023-05-04T13:29:51.691Z"
      },
      {
        "duration": 4,
        "start_time": "2023-05-04T13:31:14.694Z"
      },
      {
        "duration": 9,
        "start_time": "2023-05-04T13:31:15.155Z"
      },
      {
        "duration": 12520,
        "start_time": "2023-05-04T13:31:32.148Z"
      },
      {
        "duration": 12881,
        "start_time": "2023-05-04T13:33:01.356Z"
      },
      {
        "duration": 5976,
        "start_time": "2023-05-04T13:33:50.137Z"
      },
      {
        "duration": 12243,
        "start_time": "2023-05-04T13:34:07.876Z"
      },
      {
        "duration": 95420,
        "start_time": "2023-05-04T13:35:17.485Z"
      },
      {
        "duration": 55190,
        "start_time": "2023-05-04T13:36:52.912Z"
      },
      {
        "duration": 471,
        "start_time": "2023-05-04T13:37:48.125Z"
      },
      {
        "duration": 12,
        "start_time": "2023-05-04T13:41:07.821Z"
      },
      {
        "duration": 5,
        "start_time": "2023-05-04T13:42:11.554Z"
      },
      {
        "duration": 37,
        "start_time": "2023-05-04T13:42:13.858Z"
      },
      {
        "duration": 13,
        "start_time": "2023-05-04T13:42:14.236Z"
      },
      {
        "duration": 12,
        "start_time": "2023-05-04T13:42:14.937Z"
      },
      {
        "duration": 5,
        "start_time": "2023-05-04T13:42:15.894Z"
      },
      {
        "duration": 8,
        "start_time": "2023-05-04T13:42:16.693Z"
      },
      {
        "duration": 13,
        "start_time": "2023-05-04T13:42:17.187Z"
      },
      {
        "duration": 4,
        "start_time": "2023-05-04T13:42:17.424Z"
      },
      {
        "duration": 34,
        "start_time": "2023-05-04T13:42:18.121Z"
      },
      {
        "duration": 12,
        "start_time": "2023-05-04T13:42:19.000Z"
      },
      {
        "duration": 5,
        "start_time": "2023-05-04T13:42:20.438Z"
      },
      {
        "duration": 17,
        "start_time": "2023-05-04T13:42:20.698Z"
      },
      {
        "duration": 10,
        "start_time": "2023-05-04T13:42:24.290Z"
      },
      {
        "duration": 22,
        "start_time": "2023-05-04T13:42:24.749Z"
      },
      {
        "duration": 6,
        "start_time": "2023-05-04T13:42:25.388Z"
      },
      {
        "duration": 9657,
        "start_time": "2023-05-04T13:42:26.604Z"
      },
      {
        "duration": 37233,
        "start_time": "2023-05-04T13:42:36.262Z"
      },
      {
        "duration": 345,
        "start_time": "2023-05-04T13:44:17.281Z"
      },
      {
        "duration": 4,
        "start_time": "2023-05-04T13:44:57.279Z"
      },
      {
        "duration": 58,
        "start_time": "2023-05-04T13:44:57.285Z"
      },
      {
        "duration": 13,
        "start_time": "2023-05-04T13:44:57.344Z"
      },
      {
        "duration": 11,
        "start_time": "2023-05-04T13:44:57.359Z"
      },
      {
        "duration": 8,
        "start_time": "2023-05-04T13:44:57.372Z"
      },
      {
        "duration": 14,
        "start_time": "2023-05-04T13:44:57.381Z"
      },
      {
        "duration": 15,
        "start_time": "2023-05-04T13:44:57.396Z"
      },
      {
        "duration": 7,
        "start_time": "2023-05-04T13:44:57.414Z"
      },
      {
        "duration": 37,
        "start_time": "2023-05-04T13:44:57.426Z"
      },
      {
        "duration": 43,
        "start_time": "2023-05-04T13:44:57.466Z"
      },
      {
        "duration": 11,
        "start_time": "2023-05-04T13:44:57.511Z"
      },
      {
        "duration": 17,
        "start_time": "2023-05-04T13:44:57.525Z"
      },
      {
        "duration": 8,
        "start_time": "2023-05-04T13:44:57.543Z"
      },
      {
        "duration": 57,
        "start_time": "2023-05-04T13:44:57.553Z"
      },
      {
        "duration": 14,
        "start_time": "2023-05-04T13:44:57.612Z"
      },
      {
        "duration": 10279,
        "start_time": "2023-05-04T13:44:57.627Z"
      },
      {
        "duration": 69491,
        "start_time": "2023-05-04T13:45:07.907Z"
      },
      {
        "duration": 261,
        "start_time": "2023-05-04T13:46:17.400Z"
      },
      {
        "duration": 5,
        "start_time": "2023-05-04T13:46:17.662Z"
      },
      {
        "duration": 30,
        "start_time": "2023-05-04T13:46:17.668Z"
      },
      {
        "duration": 8,
        "start_time": "2023-05-04T13:46:17.700Z"
      },
      {
        "duration": 37,
        "start_time": "2023-05-04T13:46:17.710Z"
      },
      {
        "duration": 13112,
        "start_time": "2023-05-04T13:46:17.749Z"
      },
      {
        "duration": 5989,
        "start_time": "2023-05-04T13:46:30.863Z"
      },
      {
        "duration": 44853,
        "start_time": "2023-05-04T13:46:36.854Z"
      },
      {
        "duration": 26298,
        "start_time": "2023-05-04T13:47:21.709Z"
      },
      {
        "duration": 294,
        "start_time": "2023-05-04T13:47:48.011Z"
      },
      {
        "duration": 232,
        "start_time": "2023-05-04T13:47:48.310Z"
      },
      {
        "duration": 391,
        "start_time": "2023-05-04T13:47:48.543Z"
      }
    ],
    "kernelspec": {
      "display_name": "Python 3 (ipykernel)",
      "language": "python",
      "name": "python3"
    },
    "language_info": {
      "codemirror_mode": {
        "name": "ipython",
        "version": 3
      },
      "file_extension": ".py",
      "mimetype": "text/x-python",
      "name": "python",
      "nbconvert_exporter": "python",
      "pygments_lexer": "ipython3",
      "version": "3.9.5"
    },
    "toc": {
      "base_numbering": 1,
      "nav_menu": {},
      "number_sections": true,
      "sideBar": true,
      "skip_h1_title": true,
      "title_cell": "Содержание",
      "title_sidebar": "Contents",
      "toc_cell": true,
      "toc_position": {
        "height": "calc(100% - 180px)",
        "left": "10px",
        "top": "150px",
        "width": "165px"
      },
      "toc_section_display": true,
      "toc_window_display": false
    },
    "colab": {
      "provenance": []
    }
  },
  "nbformat": 4,
  "nbformat_minor": 0
}