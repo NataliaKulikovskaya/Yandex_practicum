{
  "cells": [
    {
      "cell_type": "markdown",
      "id": "066a2eab",
      "metadata": {
        "id": "066a2eab"
      },
      "source": [
        "# Обучение модели классификации комментариев"
      ]
    },
    {
      "cell_type": "markdown",
      "id": "321ebea1",
      "metadata": {
        "id": "321ebea1"
      },
      "source": [
        "Интернет-магазин запускает новый сервис. Теперь пользователи могут редактировать и дополнять описания товаров, как в вики-сообществах. То есть клиенты предлагают свои правки и комментируют изменения других. Требуется инструмент, который будет искать токсичные комментарии и отправлять их на модерацию.\n",
        "\n",
        "Нужна модель для классификации комментариев на позитивные и негативные. Предоставлен набор данных с разметкой о токсичности правок.Значение метрики F1 должно быть не меньше 0.75.\n",
        "\n",
        "**Описание данных**\n",
        "\n",
        "Данные находятся в файле *toxic_comments.csv*. Столбец text в нём содержит текст комментария, а toxic — целевой признак."
      ]
    },
    {
      "cell_type": "markdown",
      "id": "b6ac4c9b",
      "metadata": {
        "id": "b6ac4c9b"
      },
      "source": [
        "## Знакомство с данными и предобработка"
      ]
    },
    {
      "cell_type": "code",
      "execution_count": 7,
      "id": "e0778a65",
      "metadata": {
        "colab": {
          "base_uri": "https://localhost:8080/"
        },
        "id": "e0778a65",
        "outputId": "08f33f24-64ff-4860-e8f4-a0c2b0bd5f62"
      },
      "outputs": [
        {
          "output_type": "stream",
          "name": "stdout",
          "text": [
            "Requirement already satisfied: catboost in /usr/local/lib/python3.10/dist-packages (1.2.3)\n",
            "Requirement already satisfied: graphviz in /usr/local/lib/python3.10/dist-packages (from catboost) (0.20.1)\n",
            "Requirement already satisfied: matplotlib in /usr/local/lib/python3.10/dist-packages (from catboost) (3.7.1)\n",
            "Requirement already satisfied: numpy>=1.16.0 in /usr/local/lib/python3.10/dist-packages (from catboost) (1.25.2)\n",
            "Requirement already satisfied: pandas>=0.24 in /usr/local/lib/python3.10/dist-packages (from catboost) (1.5.3)\n",
            "Requirement already satisfied: scipy in /usr/local/lib/python3.10/dist-packages (from catboost) (1.11.4)\n",
            "Requirement already satisfied: plotly in /usr/local/lib/python3.10/dist-packages (from catboost) (5.15.0)\n",
            "Requirement already satisfied: six in /usr/local/lib/python3.10/dist-packages (from catboost) (1.16.0)\n",
            "Requirement already satisfied: python-dateutil>=2.8.1 in /usr/local/lib/python3.10/dist-packages (from pandas>=0.24->catboost) (2.8.2)\n",
            "Requirement already satisfied: pytz>=2020.1 in /usr/local/lib/python3.10/dist-packages (from pandas>=0.24->catboost) (2023.4)\n",
            "Requirement already satisfied: contourpy>=1.0.1 in /usr/local/lib/python3.10/dist-packages (from matplotlib->catboost) (1.2.0)\n",
            "Requirement already satisfied: cycler>=0.10 in /usr/local/lib/python3.10/dist-packages (from matplotlib->catboost) (0.12.1)\n",
            "Requirement already satisfied: fonttools>=4.22.0 in /usr/local/lib/python3.10/dist-packages (from matplotlib->catboost) (4.49.0)\n",
            "Requirement already satisfied: kiwisolver>=1.0.1 in /usr/local/lib/python3.10/dist-packages (from matplotlib->catboost) (1.4.5)\n",
            "Requirement already satisfied: packaging>=20.0 in /usr/local/lib/python3.10/dist-packages (from matplotlib->catboost) (23.2)\n",
            "Requirement already satisfied: pillow>=6.2.0 in /usr/local/lib/python3.10/dist-packages (from matplotlib->catboost) (10.2.0)\n",
            "Requirement already satisfied: pyparsing>=2.3.1 in /usr/local/lib/python3.10/dist-packages (from matplotlib->catboost) (3.1.1)\n",
            "Requirement already satisfied: tenacity>=6.2.0 in /usr/local/lib/python3.10/dist-packages (from plotly->catboost) (8.2.3)\n",
            "\u001b[31mERROR: Could not find a version that satisfies the requirement warnings (from versions: none)\u001b[0m\u001b[31m\n",
            "\u001b[0m\u001b[31mERROR: No matching distribution found for warnings\u001b[0m\u001b[31m\n",
            "\u001b[0mRequirement already satisfied: wordcloud in /usr/local/lib/python3.10/dist-packages (1.9.3)\n",
            "Requirement already satisfied: numpy>=1.6.1 in /usr/local/lib/python3.10/dist-packages (from wordcloud) (1.25.2)\n",
            "Requirement already satisfied: pillow in /usr/local/lib/python3.10/dist-packages (from wordcloud) (10.2.0)\n",
            "Requirement already satisfied: matplotlib in /usr/local/lib/python3.10/dist-packages (from wordcloud) (3.7.1)\n",
            "Requirement already satisfied: contourpy>=1.0.1 in /usr/local/lib/python3.10/dist-packages (from matplotlib->wordcloud) (1.2.0)\n",
            "Requirement already satisfied: cycler>=0.10 in /usr/local/lib/python3.10/dist-packages (from matplotlib->wordcloud) (0.12.1)\n",
            "Requirement already satisfied: fonttools>=4.22.0 in /usr/local/lib/python3.10/dist-packages (from matplotlib->wordcloud) (4.49.0)\n",
            "Requirement already satisfied: kiwisolver>=1.0.1 in /usr/local/lib/python3.10/dist-packages (from matplotlib->wordcloud) (1.4.5)\n",
            "Requirement already satisfied: packaging>=20.0 in /usr/local/lib/python3.10/dist-packages (from matplotlib->wordcloud) (23.2)\n",
            "Requirement already satisfied: pyparsing>=2.3.1 in /usr/local/lib/python3.10/dist-packages (from matplotlib->wordcloud) (3.1.1)\n",
            "Requirement already satisfied: python-dateutil>=2.7 in /usr/local/lib/python3.10/dist-packages (from matplotlib->wordcloud) (2.8.2)\n",
            "Requirement already satisfied: six>=1.5 in /usr/local/lib/python3.10/dist-packages (from python-dateutil>=2.7->matplotlib->wordcloud) (1.16.0)\n",
            "Requirement already satisfied: Pillow in /usr/local/lib/python3.10/dist-packages (10.2.0)\n"
          ]
        }
      ],
      "source": [
        "# загрузка библиотек\n",
        "!pip install catboost\n",
        "!pip install warnings\n",
        "!pip install wordcloud\n",
        "!pip install --upgrade Pillow"
      ]
    },
    {
      "cell_type": "code",
      "source": [
        "# импортируем библиотеки\n",
        "\n",
        "import numpy as np\n",
        "import pandas as pd\n",
        "import spacy\n",
        "import re\n",
        "\n",
        "from tqdm import tqdm\n",
        "from sklearn.linear_model import LogisticRegression\n",
        "from sklearn.model_selection import cross_val_score, train_test_split\n",
        "from sklearn.metrics import f1_score\n",
        "from sklearn.feature_extraction.text import TfidfVectorizer\n",
        "from sklearn.model_selection import GridSearchCV\n",
        "from sklearn.linear_model import PassiveAggressiveClassifier\n",
        "import lightgbm as lgb\n",
        "import nltk\n",
        "from nltk.stem import WordNetLemmatizer\n",
        "from nltk.corpus import stopwords as nltk_stopwords\n",
        "nltk.download('wordnet')\n",
        "nltk.download('punkt')\n",
        "nltk.download('stopwords')\n",
        "stopwords = set(nltk_stopwords.words('english'))\n",
        "import warnings\n",
        "warnings.filterwarnings('ignore')\n",
        "from catboost import CatBoostClassifier\n",
        "\n",
        "RANDOM_STATE = 12345"
      ],
      "metadata": {
        "colab": {
          "base_uri": "https://localhost:8080/"
        },
        "id": "ccCBkjZm9fZY",
        "outputId": "41a07974-74ef-4759-b02f-4d46f40040c8"
      },
      "id": "ccCBkjZm9fZY",
      "execution_count": 8,
      "outputs": [
        {
          "output_type": "stream",
          "name": "stderr",
          "text": [
            "[nltk_data] Downloading package wordnet to /root/nltk_data...\n",
            "[nltk_data]   Package wordnet is already up-to-date!\n",
            "[nltk_data] Downloading package punkt to /root/nltk_data...\n",
            "[nltk_data]   Package punkt is already up-to-date!\n",
            "[nltk_data] Downloading package stopwords to /root/nltk_data...\n",
            "[nltk_data]   Package stopwords is already up-to-date!\n"
          ]
        }
      ]
    },
    {
      "cell_type": "code",
      "execution_count": null,
      "id": "c83ee8b6",
      "metadata": {
        "id": "c83ee8b6"
      },
      "outputs": [],
      "source": [
        "# Загружаем данные из файла в датафрейм\n",
        "\n",
        "data = pd.read_csv('/datasets/toxic_comments.csv')"
      ]
    },
    {
      "cell_type": "code",
      "execution_count": 10,
      "id": "e8ed6d3d",
      "metadata": {
        "id": "e8ed6d3d"
      },
      "outputs": [],
      "source": [
        "# Функция для вывода информации об изучаемых данных\n",
        "\n",
        "def data_info(data):\n",
        "    display(data.head(10))\n",
        "    print(data.info())\n",
        "    print('Количество дубликатов:', sum(data.duplicated()))"
      ]
    },
    {
      "cell_type": "code",
      "execution_count": 12,
      "id": "fea5beec",
      "metadata": {
        "colab": {
          "base_uri": "https://localhost:8080/",
          "height": 571
        },
        "id": "fea5beec",
        "outputId": "8d1e5451-8e2c-4514-85d9-e496939352bf"
      },
      "outputs": [
        {
          "output_type": "display_data",
          "data": {
            "text/plain": [
              "   Unnamed: 0                                               text  toxic\n",
              "0           0  Explanation\\nWhy the edits made under my usern...      0\n",
              "1           1  D'aww! He matches this background colour I'm s...      0\n",
              "2           2  Hey man, I'm really not trying to edit war. It...      0\n",
              "3           3  \"\\nMore\\nI can't make any real suggestions on ...      0\n",
              "4           4  You, sir, are my hero. Any chance you remember...      0\n",
              "5           5  \"\\n\\nCongratulations from me as well, use the ...      0\n",
              "6           6       COCKSUCKER BEFORE YOU PISS AROUND ON MY WORK      1\n",
              "7           7  Your vandalism to the Matt Shirvington article...      0\n",
              "8           8  Sorry if the word 'nonsense' was offensive to ...      0\n",
              "9           9  alignment on this subject and which are contra...      0"
            ],
            "text/html": [
              "\n",
              "  <div id=\"df-cdadce08-3473-43b7-a54e-353d7b56d9e1\" class=\"colab-df-container\">\n",
              "    <div>\n",
              "<style scoped>\n",
              "    .dataframe tbody tr th:only-of-type {\n",
              "        vertical-align: middle;\n",
              "    }\n",
              "\n",
              "    .dataframe tbody tr th {\n",
              "        vertical-align: top;\n",
              "    }\n",
              "\n",
              "    .dataframe thead th {\n",
              "        text-align: right;\n",
              "    }\n",
              "</style>\n",
              "<table border=\"1\" class=\"dataframe\">\n",
              "  <thead>\n",
              "    <tr style=\"text-align: right;\">\n",
              "      <th></th>\n",
              "      <th>Unnamed: 0</th>\n",
              "      <th>text</th>\n",
              "      <th>toxic</th>\n",
              "    </tr>\n",
              "  </thead>\n",
              "  <tbody>\n",
              "    <tr>\n",
              "      <th>0</th>\n",
              "      <td>0</td>\n",
              "      <td>Explanation\\nWhy the edits made under my usern...</td>\n",
              "      <td>0</td>\n",
              "    </tr>\n",
              "    <tr>\n",
              "      <th>1</th>\n",
              "      <td>1</td>\n",
              "      <td>D'aww! He matches this background colour I'm s...</td>\n",
              "      <td>0</td>\n",
              "    </tr>\n",
              "    <tr>\n",
              "      <th>2</th>\n",
              "      <td>2</td>\n",
              "      <td>Hey man, I'm really not trying to edit war. It...</td>\n",
              "      <td>0</td>\n",
              "    </tr>\n",
              "    <tr>\n",
              "      <th>3</th>\n",
              "      <td>3</td>\n",
              "      <td>\"\\nMore\\nI can't make any real suggestions on ...</td>\n",
              "      <td>0</td>\n",
              "    </tr>\n",
              "    <tr>\n",
              "      <th>4</th>\n",
              "      <td>4</td>\n",
              "      <td>You, sir, are my hero. Any chance you remember...</td>\n",
              "      <td>0</td>\n",
              "    </tr>\n",
              "    <tr>\n",
              "      <th>5</th>\n",
              "      <td>5</td>\n",
              "      <td>\"\\n\\nCongratulations from me as well, use the ...</td>\n",
              "      <td>0</td>\n",
              "    </tr>\n",
              "    <tr>\n",
              "      <th>6</th>\n",
              "      <td>6</td>\n",
              "      <td>COCKSUCKER BEFORE YOU PISS AROUND ON MY WORK</td>\n",
              "      <td>1</td>\n",
              "    </tr>\n",
              "    <tr>\n",
              "      <th>7</th>\n",
              "      <td>7</td>\n",
              "      <td>Your vandalism to the Matt Shirvington article...</td>\n",
              "      <td>0</td>\n",
              "    </tr>\n",
              "    <tr>\n",
              "      <th>8</th>\n",
              "      <td>8</td>\n",
              "      <td>Sorry if the word 'nonsense' was offensive to ...</td>\n",
              "      <td>0</td>\n",
              "    </tr>\n",
              "    <tr>\n",
              "      <th>9</th>\n",
              "      <td>9</td>\n",
              "      <td>alignment on this subject and which are contra...</td>\n",
              "      <td>0</td>\n",
              "    </tr>\n",
              "  </tbody>\n",
              "</table>\n",
              "</div>\n",
              "    <div class=\"colab-df-buttons\">\n",
              "\n",
              "  <div class=\"colab-df-container\">\n",
              "    <button class=\"colab-df-convert\" onclick=\"convertToInteractive('df-cdadce08-3473-43b7-a54e-353d7b56d9e1')\"\n",
              "            title=\"Convert this dataframe to an interactive table.\"\n",
              "            style=\"display:none;\">\n",
              "\n",
              "  <svg xmlns=\"http://www.w3.org/2000/svg\" height=\"24px\" viewBox=\"0 -960 960 960\">\n",
              "    <path d=\"M120-120v-720h720v720H120Zm60-500h600v-160H180v160Zm220 220h160v-160H400v160Zm0 220h160v-160H400v160ZM180-400h160v-160H180v160Zm440 0h160v-160H620v160ZM180-180h160v-160H180v160Zm440 0h160v-160H620v160Z\"/>\n",
              "  </svg>\n",
              "    </button>\n",
              "\n",
              "  <style>\n",
              "    .colab-df-container {\n",
              "      display:flex;\n",
              "      gap: 12px;\n",
              "    }\n",
              "\n",
              "    .colab-df-convert {\n",
              "      background-color: #E8F0FE;\n",
              "      border: none;\n",
              "      border-radius: 50%;\n",
              "      cursor: pointer;\n",
              "      display: none;\n",
              "      fill: #1967D2;\n",
              "      height: 32px;\n",
              "      padding: 0 0 0 0;\n",
              "      width: 32px;\n",
              "    }\n",
              "\n",
              "    .colab-df-convert:hover {\n",
              "      background-color: #E2EBFA;\n",
              "      box-shadow: 0px 1px 2px rgba(60, 64, 67, 0.3), 0px 1px 3px 1px rgba(60, 64, 67, 0.15);\n",
              "      fill: #174EA6;\n",
              "    }\n",
              "\n",
              "    .colab-df-buttons div {\n",
              "      margin-bottom: 4px;\n",
              "    }\n",
              "\n",
              "    [theme=dark] .colab-df-convert {\n",
              "      background-color: #3B4455;\n",
              "      fill: #D2E3FC;\n",
              "    }\n",
              "\n",
              "    [theme=dark] .colab-df-convert:hover {\n",
              "      background-color: #434B5C;\n",
              "      box-shadow: 0px 1px 3px 1px rgba(0, 0, 0, 0.15);\n",
              "      filter: drop-shadow(0px 1px 2px rgba(0, 0, 0, 0.3));\n",
              "      fill: #FFFFFF;\n",
              "    }\n",
              "  </style>\n",
              "\n",
              "    <script>\n",
              "      const buttonEl =\n",
              "        document.querySelector('#df-cdadce08-3473-43b7-a54e-353d7b56d9e1 button.colab-df-convert');\n",
              "      buttonEl.style.display =\n",
              "        google.colab.kernel.accessAllowed ? 'block' : 'none';\n",
              "\n",
              "      async function convertToInteractive(key) {\n",
              "        const element = document.querySelector('#df-cdadce08-3473-43b7-a54e-353d7b56d9e1');\n",
              "        const dataTable =\n",
              "          await google.colab.kernel.invokeFunction('convertToInteractive',\n",
              "                                                    [key], {});\n",
              "        if (!dataTable) return;\n",
              "\n",
              "        const docLinkHtml = 'Like what you see? Visit the ' +\n",
              "          '<a target=\"_blank\" href=https://colab.research.google.com/notebooks/data_table.ipynb>data table notebook</a>'\n",
              "          + ' to learn more about interactive tables.';\n",
              "        element.innerHTML = '';\n",
              "        dataTable['output_type'] = 'display_data';\n",
              "        await google.colab.output.renderOutput(dataTable, element);\n",
              "        const docLink = document.createElement('div');\n",
              "        docLink.innerHTML = docLinkHtml;\n",
              "        element.appendChild(docLink);\n",
              "      }\n",
              "    </script>\n",
              "  </div>\n",
              "\n",
              "\n",
              "<div id=\"df-e6c8847b-ada7-4b92-8c4b-ab54e79c1ea7\">\n",
              "  <button class=\"colab-df-quickchart\" onclick=\"quickchart('df-e6c8847b-ada7-4b92-8c4b-ab54e79c1ea7')\"\n",
              "            title=\"Suggest charts\"\n",
              "            style=\"display:none;\">\n",
              "\n",
              "<svg xmlns=\"http://www.w3.org/2000/svg\" height=\"24px\"viewBox=\"0 0 24 24\"\n",
              "     width=\"24px\">\n",
              "    <g>\n",
              "        <path d=\"M19 3H5c-1.1 0-2 .9-2 2v14c0 1.1.9 2 2 2h14c1.1 0 2-.9 2-2V5c0-1.1-.9-2-2-2zM9 17H7v-7h2v7zm4 0h-2V7h2v10zm4 0h-2v-4h2v4z\"/>\n",
              "    </g>\n",
              "</svg>\n",
              "  </button>\n",
              "\n",
              "<style>\n",
              "  .colab-df-quickchart {\n",
              "      --bg-color: #E8F0FE;\n",
              "      --fill-color: #1967D2;\n",
              "      --hover-bg-color: #E2EBFA;\n",
              "      --hover-fill-color: #174EA6;\n",
              "      --disabled-fill-color: #AAA;\n",
              "      --disabled-bg-color: #DDD;\n",
              "  }\n",
              "\n",
              "  [theme=dark] .colab-df-quickchart {\n",
              "      --bg-color: #3B4455;\n",
              "      --fill-color: #D2E3FC;\n",
              "      --hover-bg-color: #434B5C;\n",
              "      --hover-fill-color: #FFFFFF;\n",
              "      --disabled-bg-color: #3B4455;\n",
              "      --disabled-fill-color: #666;\n",
              "  }\n",
              "\n",
              "  .colab-df-quickchart {\n",
              "    background-color: var(--bg-color);\n",
              "    border: none;\n",
              "    border-radius: 50%;\n",
              "    cursor: pointer;\n",
              "    display: none;\n",
              "    fill: var(--fill-color);\n",
              "    height: 32px;\n",
              "    padding: 0;\n",
              "    width: 32px;\n",
              "  }\n",
              "\n",
              "  .colab-df-quickchart:hover {\n",
              "    background-color: var(--hover-bg-color);\n",
              "    box-shadow: 0 1px 2px rgba(60, 64, 67, 0.3), 0 1px 3px 1px rgba(60, 64, 67, 0.15);\n",
              "    fill: var(--button-hover-fill-color);\n",
              "  }\n",
              "\n",
              "  .colab-df-quickchart-complete:disabled,\n",
              "  .colab-df-quickchart-complete:disabled:hover {\n",
              "    background-color: var(--disabled-bg-color);\n",
              "    fill: var(--disabled-fill-color);\n",
              "    box-shadow: none;\n",
              "  }\n",
              "\n",
              "  .colab-df-spinner {\n",
              "    border: 2px solid var(--fill-color);\n",
              "    border-color: transparent;\n",
              "    border-bottom-color: var(--fill-color);\n",
              "    animation:\n",
              "      spin 1s steps(1) infinite;\n",
              "  }\n",
              "\n",
              "  @keyframes spin {\n",
              "    0% {\n",
              "      border-color: transparent;\n",
              "      border-bottom-color: var(--fill-color);\n",
              "      border-left-color: var(--fill-color);\n",
              "    }\n",
              "    20% {\n",
              "      border-color: transparent;\n",
              "      border-left-color: var(--fill-color);\n",
              "      border-top-color: var(--fill-color);\n",
              "    }\n",
              "    30% {\n",
              "      border-color: transparent;\n",
              "      border-left-color: var(--fill-color);\n",
              "      border-top-color: var(--fill-color);\n",
              "      border-right-color: var(--fill-color);\n",
              "    }\n",
              "    40% {\n",
              "      border-color: transparent;\n",
              "      border-right-color: var(--fill-color);\n",
              "      border-top-color: var(--fill-color);\n",
              "    }\n",
              "    60% {\n",
              "      border-color: transparent;\n",
              "      border-right-color: var(--fill-color);\n",
              "    }\n",
              "    80% {\n",
              "      border-color: transparent;\n",
              "      border-right-color: var(--fill-color);\n",
              "      border-bottom-color: var(--fill-color);\n",
              "    }\n",
              "    90% {\n",
              "      border-color: transparent;\n",
              "      border-bottom-color: var(--fill-color);\n",
              "    }\n",
              "  }\n",
              "</style>\n",
              "\n",
              "  <script>\n",
              "    async function quickchart(key) {\n",
              "      const quickchartButtonEl =\n",
              "        document.querySelector('#' + key + ' button');\n",
              "      quickchartButtonEl.disabled = true;  // To prevent multiple clicks.\n",
              "      quickchartButtonEl.classList.add('colab-df-spinner');\n",
              "      try {\n",
              "        const charts = await google.colab.kernel.invokeFunction(\n",
              "            'suggestCharts', [key], {});\n",
              "      } catch (error) {\n",
              "        console.error('Error during call to suggestCharts:', error);\n",
              "      }\n",
              "      quickchartButtonEl.classList.remove('colab-df-spinner');\n",
              "      quickchartButtonEl.classList.add('colab-df-quickchart-complete');\n",
              "    }\n",
              "    (() => {\n",
              "      let quickchartButtonEl =\n",
              "        document.querySelector('#df-e6c8847b-ada7-4b92-8c4b-ab54e79c1ea7 button');\n",
              "      quickchartButtonEl.style.display =\n",
              "        google.colab.kernel.accessAllowed ? 'block' : 'none';\n",
              "    })();\n",
              "  </script>\n",
              "</div>\n",
              "    </div>\n",
              "  </div>\n"
            ],
            "application/vnd.google.colaboratory.intrinsic+json": {
              "type": "dataframe",
              "summary": "{\n  \"name\": \"data_info(data)\",\n  \"rows\": 10,\n  \"fields\": [\n    {\n      \"column\": \"Unnamed: 0\",\n      \"properties\": {\n        \"dtype\": \"number\",\n        \"std\": 3,\n        \"min\": 0,\n        \"max\": 9,\n        \"num_unique_values\": 10,\n        \"samples\": [\n          8,\n          1,\n          5\n        ],\n        \"semantic_type\": \"\",\n        \"description\": \"\"\n      }\n    },\n    {\n      \"column\": \"text\",\n      \"properties\": {\n        \"dtype\": \"string\",\n        \"num_unique_values\": 10,\n        \"samples\": [\n          \"Sorry if the word 'nonsense' was offensive to you. Anyway, I'm not intending to write anything in the article(wow they would jump on me for vandalism), I'm merely requesting that it be more encyclopedic so one can use it for school as a reference. I have been to the selective breeding page but it's almost a stub. It points to 'animal breeding' which is a short messy article that gives you no info. There must be someone around with expertise in eugenics? 93.161.107.169\",\n          \"D'aww! He matches this background colour I'm seemingly stuck with. Thanks.  (talk) 21:51, January 11, 2016 (UTC)\",\n          \"\\\"\\n\\nCongratulations from me as well, use the tools well. \\u00a0\\u00b7 talk \\\"\"\n        ],\n        \"semantic_type\": \"\",\n        \"description\": \"\"\n      }\n    },\n    {\n      \"column\": \"toxic\",\n      \"properties\": {\n        \"dtype\": \"number\",\n        \"std\": 0,\n        \"min\": 0,\n        \"max\": 1,\n        \"num_unique_values\": 2,\n        \"samples\": [\n          1,\n          0\n        ],\n        \"semantic_type\": \"\",\n        \"description\": \"\"\n      }\n    }\n  ]\n}"
            }
          },
          "metadata": {}
        },
        {
          "output_type": "stream",
          "name": "stdout",
          "text": [
            "<class 'pandas.core.frame.DataFrame'>\n",
            "RangeIndex: 159292 entries, 0 to 159291\n",
            "Data columns (total 3 columns):\n",
            " #   Column      Non-Null Count   Dtype \n",
            "---  ------      --------------   ----- \n",
            " 0   Unnamed: 0  159292 non-null  int64 \n",
            " 1   text        159292 non-null  object\n",
            " 2   toxic       159292 non-null  int64 \n",
            "dtypes: int64(2), object(1)\n",
            "memory usage: 3.6+ MB\n",
            "None\n",
            "Количество дубликатов: 0\n"
          ]
        }
      ],
      "source": [
        "# Вызовем функцию data_info()\n",
        "\n",
        "data_info(data)"
      ]
    },
    {
      "cell_type": "code",
      "execution_count": 6,
      "id": "42502a17",
      "metadata": {
        "colab": {
          "base_uri": "https://localhost:8080/"
        },
        "id": "42502a17",
        "outputId": "ecfebbd9-ba52-4dfa-b672-bfd3121ac1c6"
      },
      "outputs": [
        {
          "output_type": "execute_result",
          "data": {
            "text/plain": [
              "0    143106\n",
              "1     16186\n",
              "Name: toxic, dtype: int64"
            ]
          },
          "metadata": {},
          "execution_count": 6
        }
      ],
      "source": [
        "# Рассмотрим соотношение токсичных и нетоксичных комментариев\n",
        "\n",
        "data.toxic.value_counts()"
      ]
    },
    {
      "cell_type": "code",
      "execution_count": 14,
      "id": "066d2164",
      "metadata": {
        "colab": {
          "base_uri": "https://localhost:8080/",
          "height": 206
        },
        "id": "066d2164",
        "outputId": "9d6ac3e9-47e5-4f43-df9b-cec7c84f07ae"
      },
      "outputs": [
        {
          "output_type": "execute_result",
          "data": {
            "text/plain": [
              "        Unnamed: 0                                               text  toxic\n",
              "152489      152646  I forgot to log on with my username, I correct...      1\n",
              "122942      123048           Richard is a gay dancing HOBO>HOBO>HOBO!      1\n",
              "26731        26766  Stop removing my edits! \\nWhy do you insist on...      1\n",
              "121501      121606  Stop your bullshit. I'll remove that nonsense ...      1\n",
              "92382        92474  this is a pile of bull i didnt do any of this!...      1"
            ],
            "text/html": [
              "\n",
              "  <div id=\"df-ac5a84aa-2c21-49b5-9f36-628a1cc4198f\" class=\"colab-df-container\">\n",
              "    <div>\n",
              "<style scoped>\n",
              "    .dataframe tbody tr th:only-of-type {\n",
              "        vertical-align: middle;\n",
              "    }\n",
              "\n",
              "    .dataframe tbody tr th {\n",
              "        vertical-align: top;\n",
              "    }\n",
              "\n",
              "    .dataframe thead th {\n",
              "        text-align: right;\n",
              "    }\n",
              "</style>\n",
              "<table border=\"1\" class=\"dataframe\">\n",
              "  <thead>\n",
              "    <tr style=\"text-align: right;\">\n",
              "      <th></th>\n",
              "      <th>Unnamed: 0</th>\n",
              "      <th>text</th>\n",
              "      <th>toxic</th>\n",
              "    </tr>\n",
              "  </thead>\n",
              "  <tbody>\n",
              "    <tr>\n",
              "      <th>152489</th>\n",
              "      <td>152646</td>\n",
              "      <td>I forgot to log on with my username, I correct...</td>\n",
              "      <td>1</td>\n",
              "    </tr>\n",
              "    <tr>\n",
              "      <th>122942</th>\n",
              "      <td>123048</td>\n",
              "      <td>Richard is a gay dancing HOBO&gt;HOBO&gt;HOBO!</td>\n",
              "      <td>1</td>\n",
              "    </tr>\n",
              "    <tr>\n",
              "      <th>26731</th>\n",
              "      <td>26766</td>\n",
              "      <td>Stop removing my edits! \\nWhy do you insist on...</td>\n",
              "      <td>1</td>\n",
              "    </tr>\n",
              "    <tr>\n",
              "      <th>121501</th>\n",
              "      <td>121606</td>\n",
              "      <td>Stop your bullshit. I'll remove that nonsense ...</td>\n",
              "      <td>1</td>\n",
              "    </tr>\n",
              "    <tr>\n",
              "      <th>92382</th>\n",
              "      <td>92474</td>\n",
              "      <td>this is a pile of bull i didnt do any of this!...</td>\n",
              "      <td>1</td>\n",
              "    </tr>\n",
              "  </tbody>\n",
              "</table>\n",
              "</div>\n",
              "    <div class=\"colab-df-buttons\">\n",
              "\n",
              "  <div class=\"colab-df-container\">\n",
              "    <button class=\"colab-df-convert\" onclick=\"convertToInteractive('df-ac5a84aa-2c21-49b5-9f36-628a1cc4198f')\"\n",
              "            title=\"Convert this dataframe to an interactive table.\"\n",
              "            style=\"display:none;\">\n",
              "\n",
              "  <svg xmlns=\"http://www.w3.org/2000/svg\" height=\"24px\" viewBox=\"0 -960 960 960\">\n",
              "    <path d=\"M120-120v-720h720v720H120Zm60-500h600v-160H180v160Zm220 220h160v-160H400v160Zm0 220h160v-160H400v160ZM180-400h160v-160H180v160Zm440 0h160v-160H620v160ZM180-180h160v-160H180v160Zm440 0h160v-160H620v160Z\"/>\n",
              "  </svg>\n",
              "    </button>\n",
              "\n",
              "  <style>\n",
              "    .colab-df-container {\n",
              "      display:flex;\n",
              "      gap: 12px;\n",
              "    }\n",
              "\n",
              "    .colab-df-convert {\n",
              "      background-color: #E8F0FE;\n",
              "      border: none;\n",
              "      border-radius: 50%;\n",
              "      cursor: pointer;\n",
              "      display: none;\n",
              "      fill: #1967D2;\n",
              "      height: 32px;\n",
              "      padding: 0 0 0 0;\n",
              "      width: 32px;\n",
              "    }\n",
              "\n",
              "    .colab-df-convert:hover {\n",
              "      background-color: #E2EBFA;\n",
              "      box-shadow: 0px 1px 2px rgba(60, 64, 67, 0.3), 0px 1px 3px 1px rgba(60, 64, 67, 0.15);\n",
              "      fill: #174EA6;\n",
              "    }\n",
              "\n",
              "    .colab-df-buttons div {\n",
              "      margin-bottom: 4px;\n",
              "    }\n",
              "\n",
              "    [theme=dark] .colab-df-convert {\n",
              "      background-color: #3B4455;\n",
              "      fill: #D2E3FC;\n",
              "    }\n",
              "\n",
              "    [theme=dark] .colab-df-convert:hover {\n",
              "      background-color: #434B5C;\n",
              "      box-shadow: 0px 1px 3px 1px rgba(0, 0, 0, 0.15);\n",
              "      filter: drop-shadow(0px 1px 2px rgba(0, 0, 0, 0.3));\n",
              "      fill: #FFFFFF;\n",
              "    }\n",
              "  </style>\n",
              "\n",
              "    <script>\n",
              "      const buttonEl =\n",
              "        document.querySelector('#df-ac5a84aa-2c21-49b5-9f36-628a1cc4198f button.colab-df-convert');\n",
              "      buttonEl.style.display =\n",
              "        google.colab.kernel.accessAllowed ? 'block' : 'none';\n",
              "\n",
              "      async function convertToInteractive(key) {\n",
              "        const element = document.querySelector('#df-ac5a84aa-2c21-49b5-9f36-628a1cc4198f');\n",
              "        const dataTable =\n",
              "          await google.colab.kernel.invokeFunction('convertToInteractive',\n",
              "                                                    [key], {});\n",
              "        if (!dataTable) return;\n",
              "\n",
              "        const docLinkHtml = 'Like what you see? Visit the ' +\n",
              "          '<a target=\"_blank\" href=https://colab.research.google.com/notebooks/data_table.ipynb>data table notebook</a>'\n",
              "          + ' to learn more about interactive tables.';\n",
              "        element.innerHTML = '';\n",
              "        dataTable['output_type'] = 'display_data';\n",
              "        await google.colab.output.renderOutput(dataTable, element);\n",
              "        const docLink = document.createElement('div');\n",
              "        docLink.innerHTML = docLinkHtml;\n",
              "        element.appendChild(docLink);\n",
              "      }\n",
              "    </script>\n",
              "  </div>\n",
              "\n",
              "\n",
              "<div id=\"df-324a9771-40c1-4046-8947-3f7e81ee42dd\">\n",
              "  <button class=\"colab-df-quickchart\" onclick=\"quickchart('df-324a9771-40c1-4046-8947-3f7e81ee42dd')\"\n",
              "            title=\"Suggest charts\"\n",
              "            style=\"display:none;\">\n",
              "\n",
              "<svg xmlns=\"http://www.w3.org/2000/svg\" height=\"24px\"viewBox=\"0 0 24 24\"\n",
              "     width=\"24px\">\n",
              "    <g>\n",
              "        <path d=\"M19 3H5c-1.1 0-2 .9-2 2v14c0 1.1.9 2 2 2h14c1.1 0 2-.9 2-2V5c0-1.1-.9-2-2-2zM9 17H7v-7h2v7zm4 0h-2V7h2v10zm4 0h-2v-4h2v4z\"/>\n",
              "    </g>\n",
              "</svg>\n",
              "  </button>\n",
              "\n",
              "<style>\n",
              "  .colab-df-quickchart {\n",
              "      --bg-color: #E8F0FE;\n",
              "      --fill-color: #1967D2;\n",
              "      --hover-bg-color: #E2EBFA;\n",
              "      --hover-fill-color: #174EA6;\n",
              "      --disabled-fill-color: #AAA;\n",
              "      --disabled-bg-color: #DDD;\n",
              "  }\n",
              "\n",
              "  [theme=dark] .colab-df-quickchart {\n",
              "      --bg-color: #3B4455;\n",
              "      --fill-color: #D2E3FC;\n",
              "      --hover-bg-color: #434B5C;\n",
              "      --hover-fill-color: #FFFFFF;\n",
              "      --disabled-bg-color: #3B4455;\n",
              "      --disabled-fill-color: #666;\n",
              "  }\n",
              "\n",
              "  .colab-df-quickchart {\n",
              "    background-color: var(--bg-color);\n",
              "    border: none;\n",
              "    border-radius: 50%;\n",
              "    cursor: pointer;\n",
              "    display: none;\n",
              "    fill: var(--fill-color);\n",
              "    height: 32px;\n",
              "    padding: 0;\n",
              "    width: 32px;\n",
              "  }\n",
              "\n",
              "  .colab-df-quickchart:hover {\n",
              "    background-color: var(--hover-bg-color);\n",
              "    box-shadow: 0 1px 2px rgba(60, 64, 67, 0.3), 0 1px 3px 1px rgba(60, 64, 67, 0.15);\n",
              "    fill: var(--button-hover-fill-color);\n",
              "  }\n",
              "\n",
              "  .colab-df-quickchart-complete:disabled,\n",
              "  .colab-df-quickchart-complete:disabled:hover {\n",
              "    background-color: var(--disabled-bg-color);\n",
              "    fill: var(--disabled-fill-color);\n",
              "    box-shadow: none;\n",
              "  }\n",
              "\n",
              "  .colab-df-spinner {\n",
              "    border: 2px solid var(--fill-color);\n",
              "    border-color: transparent;\n",
              "    border-bottom-color: var(--fill-color);\n",
              "    animation:\n",
              "      spin 1s steps(1) infinite;\n",
              "  }\n",
              "\n",
              "  @keyframes spin {\n",
              "    0% {\n",
              "      border-color: transparent;\n",
              "      border-bottom-color: var(--fill-color);\n",
              "      border-left-color: var(--fill-color);\n",
              "    }\n",
              "    20% {\n",
              "      border-color: transparent;\n",
              "      border-left-color: var(--fill-color);\n",
              "      border-top-color: var(--fill-color);\n",
              "    }\n",
              "    30% {\n",
              "      border-color: transparent;\n",
              "      border-left-color: var(--fill-color);\n",
              "      border-top-color: var(--fill-color);\n",
              "      border-right-color: var(--fill-color);\n",
              "    }\n",
              "    40% {\n",
              "      border-color: transparent;\n",
              "      border-right-color: var(--fill-color);\n",
              "      border-top-color: var(--fill-color);\n",
              "    }\n",
              "    60% {\n",
              "      border-color: transparent;\n",
              "      border-right-color: var(--fill-color);\n",
              "    }\n",
              "    80% {\n",
              "      border-color: transparent;\n",
              "      border-right-color: var(--fill-color);\n",
              "      border-bottom-color: var(--fill-color);\n",
              "    }\n",
              "    90% {\n",
              "      border-color: transparent;\n",
              "      border-bottom-color: var(--fill-color);\n",
              "    }\n",
              "  }\n",
              "</style>\n",
              "\n",
              "  <script>\n",
              "    async function quickchart(key) {\n",
              "      const quickchartButtonEl =\n",
              "        document.querySelector('#' + key + ' button');\n",
              "      quickchartButtonEl.disabled = true;  // To prevent multiple clicks.\n",
              "      quickchartButtonEl.classList.add('colab-df-spinner');\n",
              "      try {\n",
              "        const charts = await google.colab.kernel.invokeFunction(\n",
              "            'suggestCharts', [key], {});\n",
              "      } catch (error) {\n",
              "        console.error('Error during call to suggestCharts:', error);\n",
              "      }\n",
              "      quickchartButtonEl.classList.remove('colab-df-spinner');\n",
              "      quickchartButtonEl.classList.add('colab-df-quickchart-complete');\n",
              "    }\n",
              "    (() => {\n",
              "      let quickchartButtonEl =\n",
              "        document.querySelector('#df-324a9771-40c1-4046-8947-3f7e81ee42dd button');\n",
              "      quickchartButtonEl.style.display =\n",
              "        google.colab.kernel.accessAllowed ? 'block' : 'none';\n",
              "    })();\n",
              "  </script>\n",
              "</div>\n",
              "    </div>\n",
              "  </div>\n"
            ],
            "application/vnd.google.colaboratory.intrinsic+json": {
              "type": "dataframe",
              "summary": "{\n  \"name\": \"data[data['toxic'] == 1]\",\n  \"rows\": 5,\n  \"fields\": [\n    {\n      \"column\": \"Unnamed: 0\",\n      \"properties\": {\n        \"dtype\": \"number\",\n        \"std\": 47788,\n        \"min\": 26766,\n        \"max\": 152646,\n        \"num_unique_values\": 5,\n        \"samples\": [\n          123048,\n          92474,\n          26766\n        ],\n        \"semantic_type\": \"\",\n        \"description\": \"\"\n      }\n    },\n    {\n      \"column\": \"text\",\n      \"properties\": {\n        \"dtype\": \"string\",\n        \"num_unique_values\": 5,\n        \"samples\": [\n          \"Richard is a gay dancing HOBO>HOBO>HOBO!\",\n          \"this is a pile of bull i didnt do any of this!!!!!!!!!!1111\",\n          \"Stop removing my edits! \\nWhy do you insist on being a flaming asscake?\"\n        ],\n        \"semantic_type\": \"\",\n        \"description\": \"\"\n      }\n    },\n    {\n      \"column\": \"toxic\",\n      \"properties\": {\n        \"dtype\": \"number\",\n        \"std\": 0,\n        \"min\": 1,\n        \"max\": 1,\n        \"num_unique_values\": 1,\n        \"samples\": [\n          1\n        ],\n        \"semantic_type\": \"\",\n        \"description\": \"\"\n      }\n    }\n  ]\n}"
            }
          },
          "metadata": {},
          "execution_count": 14
        }
      ],
      "source": [
        "# Выбираем случайные 5 записей из данных, где значение в столбце 'toxic' равно 1\n",
        "\n",
        "data[data['toxic'] == 1].sample(n=10, random_state=RANDOM_STATE).head(5)"
      ]
    },
    {
      "cell_type": "code",
      "execution_count": 15,
      "id": "6ef637b3",
      "metadata": {
        "colab": {
          "base_uri": "https://localhost:8080/",
          "height": 206
        },
        "id": "6ef637b3",
        "outputId": "835e7b00-9d36-4063-d69d-6c30d272e0e8"
      },
      "outputs": [
        {
          "output_type": "execute_result",
          "data": {
            "text/plain": [
              "        Unnamed: 0                                               text  toxic\n",
              "113038      113136  \"\\n\\nmore evidence against Big.P\\n\\nLook at th...      0\n",
              "142852      143006                          Thank you. I didn't know.      0\n",
              "123720      123848  Keep the article \\n\\nSeems to me that reasons ...      0\n",
              "18757        18776  I dont replace them with blank pages. I remove...      0\n",
              "75716        75792  Make it a category under Indian cuisine\\nSomeo...      0"
            ],
            "text/html": [
              "\n",
              "  <div id=\"df-5e24ef29-7bf0-4d2e-9f6c-dfee02c9f94b\" class=\"colab-df-container\">\n",
              "    <div>\n",
              "<style scoped>\n",
              "    .dataframe tbody tr th:only-of-type {\n",
              "        vertical-align: middle;\n",
              "    }\n",
              "\n",
              "    .dataframe tbody tr th {\n",
              "        vertical-align: top;\n",
              "    }\n",
              "\n",
              "    .dataframe thead th {\n",
              "        text-align: right;\n",
              "    }\n",
              "</style>\n",
              "<table border=\"1\" class=\"dataframe\">\n",
              "  <thead>\n",
              "    <tr style=\"text-align: right;\">\n",
              "      <th></th>\n",
              "      <th>Unnamed: 0</th>\n",
              "      <th>text</th>\n",
              "      <th>toxic</th>\n",
              "    </tr>\n",
              "  </thead>\n",
              "  <tbody>\n",
              "    <tr>\n",
              "      <th>113038</th>\n",
              "      <td>113136</td>\n",
              "      <td>\"\\n\\nmore evidence against Big.P\\n\\nLook at th...</td>\n",
              "      <td>0</td>\n",
              "    </tr>\n",
              "    <tr>\n",
              "      <th>142852</th>\n",
              "      <td>143006</td>\n",
              "      <td>Thank you. I didn't know.</td>\n",
              "      <td>0</td>\n",
              "    </tr>\n",
              "    <tr>\n",
              "      <th>123720</th>\n",
              "      <td>123848</td>\n",
              "      <td>Keep the article \\n\\nSeems to me that reasons ...</td>\n",
              "      <td>0</td>\n",
              "    </tr>\n",
              "    <tr>\n",
              "      <th>18757</th>\n",
              "      <td>18776</td>\n",
              "      <td>I dont replace them with blank pages. I remove...</td>\n",
              "      <td>0</td>\n",
              "    </tr>\n",
              "    <tr>\n",
              "      <th>75716</th>\n",
              "      <td>75792</td>\n",
              "      <td>Make it a category under Indian cuisine\\nSomeo...</td>\n",
              "      <td>0</td>\n",
              "    </tr>\n",
              "  </tbody>\n",
              "</table>\n",
              "</div>\n",
              "    <div class=\"colab-df-buttons\">\n",
              "\n",
              "  <div class=\"colab-df-container\">\n",
              "    <button class=\"colab-df-convert\" onclick=\"convertToInteractive('df-5e24ef29-7bf0-4d2e-9f6c-dfee02c9f94b')\"\n",
              "            title=\"Convert this dataframe to an interactive table.\"\n",
              "            style=\"display:none;\">\n",
              "\n",
              "  <svg xmlns=\"http://www.w3.org/2000/svg\" height=\"24px\" viewBox=\"0 -960 960 960\">\n",
              "    <path d=\"M120-120v-720h720v720H120Zm60-500h600v-160H180v160Zm220 220h160v-160H400v160Zm0 220h160v-160H400v160ZM180-400h160v-160H180v160Zm440 0h160v-160H620v160ZM180-180h160v-160H180v160Zm440 0h160v-160H620v160Z\"/>\n",
              "  </svg>\n",
              "    </button>\n",
              "\n",
              "  <style>\n",
              "    .colab-df-container {\n",
              "      display:flex;\n",
              "      gap: 12px;\n",
              "    }\n",
              "\n",
              "    .colab-df-convert {\n",
              "      background-color: #E8F0FE;\n",
              "      border: none;\n",
              "      border-radius: 50%;\n",
              "      cursor: pointer;\n",
              "      display: none;\n",
              "      fill: #1967D2;\n",
              "      height: 32px;\n",
              "      padding: 0 0 0 0;\n",
              "      width: 32px;\n",
              "    }\n",
              "\n",
              "    .colab-df-convert:hover {\n",
              "      background-color: #E2EBFA;\n",
              "      box-shadow: 0px 1px 2px rgba(60, 64, 67, 0.3), 0px 1px 3px 1px rgba(60, 64, 67, 0.15);\n",
              "      fill: #174EA6;\n",
              "    }\n",
              "\n",
              "    .colab-df-buttons div {\n",
              "      margin-bottom: 4px;\n",
              "    }\n",
              "\n",
              "    [theme=dark] .colab-df-convert {\n",
              "      background-color: #3B4455;\n",
              "      fill: #D2E3FC;\n",
              "    }\n",
              "\n",
              "    [theme=dark] .colab-df-convert:hover {\n",
              "      background-color: #434B5C;\n",
              "      box-shadow: 0px 1px 3px 1px rgba(0, 0, 0, 0.15);\n",
              "      filter: drop-shadow(0px 1px 2px rgba(0, 0, 0, 0.3));\n",
              "      fill: #FFFFFF;\n",
              "    }\n",
              "  </style>\n",
              "\n",
              "    <script>\n",
              "      const buttonEl =\n",
              "        document.querySelector('#df-5e24ef29-7bf0-4d2e-9f6c-dfee02c9f94b button.colab-df-convert');\n",
              "      buttonEl.style.display =\n",
              "        google.colab.kernel.accessAllowed ? 'block' : 'none';\n",
              "\n",
              "      async function convertToInteractive(key) {\n",
              "        const element = document.querySelector('#df-5e24ef29-7bf0-4d2e-9f6c-dfee02c9f94b');\n",
              "        const dataTable =\n",
              "          await google.colab.kernel.invokeFunction('convertToInteractive',\n",
              "                                                    [key], {});\n",
              "        if (!dataTable) return;\n",
              "\n",
              "        const docLinkHtml = 'Like what you see? Visit the ' +\n",
              "          '<a target=\"_blank\" href=https://colab.research.google.com/notebooks/data_table.ipynb>data table notebook</a>'\n",
              "          + ' to learn more about interactive tables.';\n",
              "        element.innerHTML = '';\n",
              "        dataTable['output_type'] = 'display_data';\n",
              "        await google.colab.output.renderOutput(dataTable, element);\n",
              "        const docLink = document.createElement('div');\n",
              "        docLink.innerHTML = docLinkHtml;\n",
              "        element.appendChild(docLink);\n",
              "      }\n",
              "    </script>\n",
              "  </div>\n",
              "\n",
              "\n",
              "<div id=\"df-739a24c2-9835-42ef-a34d-961bd8c40bbe\">\n",
              "  <button class=\"colab-df-quickchart\" onclick=\"quickchart('df-739a24c2-9835-42ef-a34d-961bd8c40bbe')\"\n",
              "            title=\"Suggest charts\"\n",
              "            style=\"display:none;\">\n",
              "\n",
              "<svg xmlns=\"http://www.w3.org/2000/svg\" height=\"24px\"viewBox=\"0 0 24 24\"\n",
              "     width=\"24px\">\n",
              "    <g>\n",
              "        <path d=\"M19 3H5c-1.1 0-2 .9-2 2v14c0 1.1.9 2 2 2h14c1.1 0 2-.9 2-2V5c0-1.1-.9-2-2-2zM9 17H7v-7h2v7zm4 0h-2V7h2v10zm4 0h-2v-4h2v4z\"/>\n",
              "    </g>\n",
              "</svg>\n",
              "  </button>\n",
              "\n",
              "<style>\n",
              "  .colab-df-quickchart {\n",
              "      --bg-color: #E8F0FE;\n",
              "      --fill-color: #1967D2;\n",
              "      --hover-bg-color: #E2EBFA;\n",
              "      --hover-fill-color: #174EA6;\n",
              "      --disabled-fill-color: #AAA;\n",
              "      --disabled-bg-color: #DDD;\n",
              "  }\n",
              "\n",
              "  [theme=dark] .colab-df-quickchart {\n",
              "      --bg-color: #3B4455;\n",
              "      --fill-color: #D2E3FC;\n",
              "      --hover-bg-color: #434B5C;\n",
              "      --hover-fill-color: #FFFFFF;\n",
              "      --disabled-bg-color: #3B4455;\n",
              "      --disabled-fill-color: #666;\n",
              "  }\n",
              "\n",
              "  .colab-df-quickchart {\n",
              "    background-color: var(--bg-color);\n",
              "    border: none;\n",
              "    border-radius: 50%;\n",
              "    cursor: pointer;\n",
              "    display: none;\n",
              "    fill: var(--fill-color);\n",
              "    height: 32px;\n",
              "    padding: 0;\n",
              "    width: 32px;\n",
              "  }\n",
              "\n",
              "  .colab-df-quickchart:hover {\n",
              "    background-color: var(--hover-bg-color);\n",
              "    box-shadow: 0 1px 2px rgba(60, 64, 67, 0.3), 0 1px 3px 1px rgba(60, 64, 67, 0.15);\n",
              "    fill: var(--button-hover-fill-color);\n",
              "  }\n",
              "\n",
              "  .colab-df-quickchart-complete:disabled,\n",
              "  .colab-df-quickchart-complete:disabled:hover {\n",
              "    background-color: var(--disabled-bg-color);\n",
              "    fill: var(--disabled-fill-color);\n",
              "    box-shadow: none;\n",
              "  }\n",
              "\n",
              "  .colab-df-spinner {\n",
              "    border: 2px solid var(--fill-color);\n",
              "    border-color: transparent;\n",
              "    border-bottom-color: var(--fill-color);\n",
              "    animation:\n",
              "      spin 1s steps(1) infinite;\n",
              "  }\n",
              "\n",
              "  @keyframes spin {\n",
              "    0% {\n",
              "      border-color: transparent;\n",
              "      border-bottom-color: var(--fill-color);\n",
              "      border-left-color: var(--fill-color);\n",
              "    }\n",
              "    20% {\n",
              "      border-color: transparent;\n",
              "      border-left-color: var(--fill-color);\n",
              "      border-top-color: var(--fill-color);\n",
              "    }\n",
              "    30% {\n",
              "      border-color: transparent;\n",
              "      border-left-color: var(--fill-color);\n",
              "      border-top-color: var(--fill-color);\n",
              "      border-right-color: var(--fill-color);\n",
              "    }\n",
              "    40% {\n",
              "      border-color: transparent;\n",
              "      border-right-color: var(--fill-color);\n",
              "      border-top-color: var(--fill-color);\n",
              "    }\n",
              "    60% {\n",
              "      border-color: transparent;\n",
              "      border-right-color: var(--fill-color);\n",
              "    }\n",
              "    80% {\n",
              "      border-color: transparent;\n",
              "      border-right-color: var(--fill-color);\n",
              "      border-bottom-color: var(--fill-color);\n",
              "    }\n",
              "    90% {\n",
              "      border-color: transparent;\n",
              "      border-bottom-color: var(--fill-color);\n",
              "    }\n",
              "  }\n",
              "</style>\n",
              "\n",
              "  <script>\n",
              "    async function quickchart(key) {\n",
              "      const quickchartButtonEl =\n",
              "        document.querySelector('#' + key + ' button');\n",
              "      quickchartButtonEl.disabled = true;  // To prevent multiple clicks.\n",
              "      quickchartButtonEl.classList.add('colab-df-spinner');\n",
              "      try {\n",
              "        const charts = await google.colab.kernel.invokeFunction(\n",
              "            'suggestCharts', [key], {});\n",
              "      } catch (error) {\n",
              "        console.error('Error during call to suggestCharts:', error);\n",
              "      }\n",
              "      quickchartButtonEl.classList.remove('colab-df-spinner');\n",
              "      quickchartButtonEl.classList.add('colab-df-quickchart-complete');\n",
              "    }\n",
              "    (() => {\n",
              "      let quickchartButtonEl =\n",
              "        document.querySelector('#df-739a24c2-9835-42ef-a34d-961bd8c40bbe button');\n",
              "      quickchartButtonEl.style.display =\n",
              "        google.colab.kernel.accessAllowed ? 'block' : 'none';\n",
              "    })();\n",
              "  </script>\n",
              "</div>\n",
              "    </div>\n",
              "  </div>\n"
            ],
            "application/vnd.google.colaboratory.intrinsic+json": {
              "type": "dataframe",
              "summary": "{\n  \"name\": \"data[data['toxic'] == 0]\",\n  \"rows\": 5,\n  \"fields\": [\n    {\n      \"column\": \"Unnamed: 0\",\n      \"properties\": {\n        \"dtype\": \"number\",\n        \"std\": 49103,\n        \"min\": 18776,\n        \"max\": 143006,\n        \"num_unique_values\": 5,\n        \"samples\": [\n          143006,\n          75792,\n          123848\n        ],\n        \"semantic_type\": \"\",\n        \"description\": \"\"\n      }\n    },\n    {\n      \"column\": \"text\",\n      \"properties\": {\n        \"dtype\": \"string\",\n        \"num_unique_values\": 5,\n        \"samples\": [\n          \"Thank you. I didn't know.\",\n          \"Make it a category under Indian cuisine\\nSomeone proficient please make a new category as Karnataka cuisine under Indian cuisine.\",\n          \"Keep the article \\n\\nSeems to me that reasons for whitch this article has been kept from 2005 are still valid tooday. Also it seems to me that there is new form of vandalisam in progress, nominate for deletion and if no one responds in 5 days article is deleted.\"\n        ],\n        \"semantic_type\": \"\",\n        \"description\": \"\"\n      }\n    },\n    {\n      \"column\": \"toxic\",\n      \"properties\": {\n        \"dtype\": \"number\",\n        \"std\": 0,\n        \"min\": 0,\n        \"max\": 0,\n        \"num_unique_values\": 1,\n        \"samples\": [\n          0\n        ],\n        \"semantic_type\": \"\",\n        \"description\": \"\"\n      }\n    }\n  ]\n}"
            }
          },
          "metadata": {},
          "execution_count": 15
        }
      ],
      "source": [
        "# Выбираем случайные 10 не токсичных (то есть с меткой 0) элементов из DataFrame 'data' и выводим первые 5 из них\n",
        "\n",
        "data[data['toxic'] == 0].sample(n=10, random_state=RANDOM_STATE).head(5)"
      ]
    },
    {
      "cell_type": "markdown",
      "id": "b50ae58d",
      "metadata": {
        "id": "b50ae58d"
      },
      "source": [
        "Разметка выглядит корректной. Стало понятно, что класс 1 - это токсичные комментарии, а класс 0 - все остальные. Так, получается токсичных комментариев меньше почти в 9 раз."
      ]
    },
    {
      "cell_type": "markdown",
      "id": "80923972",
      "metadata": {
        "id": "80923972"
      },
      "source": [
        "### Выводы:\n",
        "\n",
        "Предоставлен датасет текста с разметкой на токсичные и не токсичные комментарии.\n",
        "* Данные содержат 159292 позиции.\n",
        "* Явных дубликатов и пропусков нет.\n",
        "* Разметка корректна.\n",
        "* Обнаружен дисбаланс классов: токсичных комментариев меньше почти в 9 раз."
      ]
    },
    {
      "cell_type": "markdown",
      "id": "0e2c814c",
      "metadata": {
        "id": "0e2c814c"
      },
      "source": [
        "## Подготовка данных"
      ]
    },
    {
      "cell_type": "markdown",
      "id": "96f1cb81",
      "metadata": {
        "id": "96f1cb81"
      },
      "source": [
        "### TF-IDF"
      ]
    },
    {
      "cell_type": "code",
      "execution_count": 16,
      "id": "6ec6128b",
      "metadata": {
        "colab": {
          "base_uri": "https://localhost:8080/"
        },
        "id": "6ec6128b",
        "outputId": "00754af4-6a4b-4d08-830d-4ec7f657be9b"
      },
      "outputs": [
        {
          "output_type": "stream",
          "name": "stdout",
          "text": [
            "                                                text  \\\n",
            "0  The striped bats are hanging on their feet for...   \n",
            "1      you should be ashamed of yourself went worked   \n",
            "\n",
            "                                 lemmatized_text  \n",
            "0  the stripe bat be hang on their foot for good  \n",
            "1      you should be ashamed of yourself go work  \n"
          ]
        }
      ],
      "source": [
        "# Загружаем языковую модель SpaCy\n",
        "nlp = spacy.load('en_core_web_sm')\n",
        "\n",
        "\n",
        "# Функция для лемматизации текста с использованием SpaCy\n",
        "def lemmatize_text(text):\n",
        "    doc = nlp(text)\n",
        "    lemmatized_output = ' '.join([token.lemma_ for token in doc])\n",
        "    return lemmatized_output\n",
        "\n",
        "# Создаем датафрейм с предложениями для тестирования\n",
        "sentence1 = \"The striped bats are hanging on their feet for best\"\n",
        "sentence2 = \"you should be ashamed of yourself went worked\"\n",
        "df_my = pd.DataFrame([sentence1, sentence2], columns=['text'])\n",
        "\n",
        "# Применяем функцию лемматизации на всем датасете\n",
        "df_my['lemmatized_text'] = df_my['text'].apply(lemmatize_text)\n",
        "\n",
        "print(df_my)"
      ]
    },
    {
      "cell_type": "code",
      "execution_count": 17,
      "id": "f1e847c5",
      "metadata": {
        "id": "f1e847c5"
      },
      "outputs": [],
      "source": [
        "# Напишем функцию для очистки текста от всех символов, кроме букв\n",
        "\n",
        "def clear_text(text):\n",
        "    text = re.sub(r\"[^a-zA-Z']\", ' ', text)\n",
        "    return ' '.join(text.split())"
      ]
    },
    {
      "cell_type": "code",
      "execution_count": 18,
      "id": "d0c83419",
      "metadata": {
        "colab": {
          "base_uri": "https://localhost:8080/"
        },
        "id": "d0c83419",
        "outputId": "7a0b70cc-5e9b-48a0-9a85-d22a067b0ded"
      },
      "outputs": [
        {
          "output_type": "stream",
          "name": "stderr",
          "text": [
            "100%|██████████| 159292/159292 [45:26<00:00, 58.42it/s]\n"
          ]
        }
      ],
      "source": [
        "# Применим функции lemmatize_text и clear_text к столбцу text, создадим новый столбец text_lem\n",
        "tqdm.pandas()\n",
        "data['text_lem'] = data['text'].progress_apply(lambda x: lemmatize_text(clear_text(x)))"
      ]
    },
    {
      "cell_type": "code",
      "execution_count": 19,
      "id": "bbba2e05",
      "metadata": {
        "id": "bbba2e05"
      },
      "outputs": [],
      "source": [
        "sampled_data = data.sample(n=1000, random_state=RANDOM_STATE)"
      ]
    },
    {
      "cell_type": "code",
      "execution_count": 20,
      "id": "21f0ec77",
      "metadata": {
        "id": "21f0ec77"
      },
      "outputs": [],
      "source": [
        "# Сохраним столбец text_lem в переменную features, целевое значение toxic сохраним в переменную target\n",
        "features_m = sampled_data['text_lem'].values\n",
        "target_m = sampled_data['toxic']\n",
        "\n",
        "# Создаем обучающую, тестовую и валидационную выборки\n",
        "features, features_test, target, target_test = train_test_split(\n",
        "    features_m, target_m, test_size=0.2, random_state=RANDOM_STATE)\n",
        "\n",
        "features_train, features_valid, target_train, target_valid = train_test_split(\n",
        "    features, target, test_size=0.25, random_state=RANDOM_STATE)"
      ]
    },
    {
      "cell_type": "code",
      "execution_count": 23,
      "id": "56832c9c",
      "metadata": {
        "colab": {
          "base_uri": "https://localhost:8080/"
        },
        "id": "56832c9c",
        "outputId": "f09adaf6-ba2e-41b3-aae6-f1f5b2389c03"
      },
      "outputs": [
        {
          "output_type": "stream",
          "name": "stdout",
          "text": [
            "Размер матрицы tf-idf: (600, 5701)\n"
          ]
        }
      ],
      "source": [
        "# Преобразуем множество стоп-слов в список\n",
        "stopwords_list = list(stopwords)\n",
        "\n",
        "# Векторизуем features_train с использованием TF-IDF и переданных стоп-слов в виде списка\n",
        "count_tf_idf = TfidfVectorizer(stop_words=stopwords_list)\n",
        "tf_idf = count_tf_idf.fit_transform(features_train)\n",
        "print(\"Размер матрицы tf-idf:\", tf_idf.shape)"
      ]
    },
    {
      "cell_type": "markdown",
      "id": "9af7bf59",
      "metadata": {
        "id": "9af7bf59"
      },
      "source": [
        "Каждый текст из features_train теперь представлен в виде числового вектора с учетом важности слов и их частоты в нем. Эта матрица может быть использована для обучения для решения задачи анализа тональности (токсичности) текстов."
      ]
    },
    {
      "cell_type": "code",
      "execution_count": 24,
      "id": "3981389e",
      "metadata": {
        "colab": {
          "base_uri": "https://localhost:8080/"
        },
        "id": "3981389e",
        "outputId": "fd23d03b-a9e5-4e39-bee8-c2eb3b9e3419"
      },
      "outputs": [
        {
          "output_type": "stream",
          "name": "stdout",
          "text": [
            "Размер матрицы tf-idf_test: (200, 5701)\n"
          ]
        }
      ],
      "source": [
        "# Векторизуем features_test с TF-IDF\n",
        "tf_idf_test = count_tf_idf.transform(features_test)\n",
        "print(\"Размер матрицы tf-idf_test:\", tf_idf_test.shape)"
      ]
    },
    {
      "cell_type": "code",
      "execution_count": 25,
      "id": "907915dc",
      "metadata": {
        "colab": {
          "base_uri": "https://localhost:8080/"
        },
        "id": "907915dc",
        "outputId": "76cf55bb-72e3-47da-d025-886c6bac8b06"
      },
      "outputs": [
        {
          "output_type": "stream",
          "name": "stdout",
          "text": [
            "Размер матрицы tf-idf_valid: (200, 5701)\n"
          ]
        }
      ],
      "source": [
        "# Векторизуем features_valid с TF-IDF\n",
        "tf_idf_valid = count_tf_idf.transform(features_valid)\n",
        "print(\"Размер матрицы tf-idf_valid:\", tf_idf_valid.shape)"
      ]
    },
    {
      "cell_type": "markdown",
      "id": "8331b60a",
      "metadata": {
        "id": "8331b60a"
      },
      "source": [
        "## Обучение моделей"
      ]
    },
    {
      "cell_type": "code",
      "execution_count": 29,
      "id": "c786e21a",
      "metadata": {
        "id": "c786e21a"
      },
      "outputs": [],
      "source": [
        "# Создадим пустой DataFrame scores, который будет содержать результаты оценки качества модели\n",
        "scores = pd.DataFrame()"
      ]
    },
    {
      "cell_type": "code",
      "execution_count": 30,
      "id": "f745f76f",
      "metadata": {
        "id": "f745f76f"
      },
      "outputs": [],
      "source": [
        "def fit_predict_cv_with_grid_search(model, features, target, scores, cv=None, param_grid=None,\n",
        "                                    features_valid=None, target_valid=None):\n",
        "    # Если param_grid не задан, устанавливаем его в пустой словарь\n",
        "    if param_grid is None:\n",
        "        param_grid = {}\n",
        "\n",
        "    # Создаем объект GridSearchCV для модели с указанными параметрами\n",
        "    grid_search = GridSearchCV(model, param_grid=param_grid, cv=cv, scoring='f1')\n",
        "    # Обучаем модель с использованием кросс-валидации\n",
        "    grid_search.fit(features, target)\n",
        "\n",
        "    # Вычисляем F1-оценку для обучающего набора данных\n",
        "    F1_score_train = round(f1_score(target, grid_search.predict(features)), 2)\n",
        "\n",
        "    # Если заданы данные для проверки, вычисляем F1-оценку для них\n",
        "    if features_valid is not None and target_valid is not None:\n",
        "        F1_score_valid = round(f1_score(target_valid, grid_search.predict(features_valid)), 2)\n",
        "    # Иначе используем лучшую F1-оценку из кросс-валидации\n",
        "    else:\n",
        "        F1_score_valid = round(grid_search.best_score_, 2)\n",
        "\n",
        "    # Добавляем результаты в список оценок\n",
        "    scores = scores.append({'model': type(model).__name__,\n",
        "                            'F1_score_train': F1_score_train,\n",
        "                            'F1_score_valid': F1_score_valid,\n",
        "                            'F1_score_train_cv': None}, ignore_index=True)\n",
        "\n",
        "    return scores"
      ]
    },
    {
      "cell_type": "markdown",
      "id": "83c7a8d9",
      "metadata": {
        "id": "83c7a8d9"
      },
      "source": [
        "### LGBMClassifier"
      ]
    },
    {
      "cell_type": "code",
      "execution_count": null,
      "id": "5ae2fca3",
      "metadata": {
        "id": "5ae2fca3"
      },
      "outputs": [],
      "source": [
        "# Определим словарь с возможными значениями гиперпараметров для перебора\n",
        "param_grid = {\n",
        "    'boosting_type': ['gbdt', 'dart', 'goss'],\n",
        "    'num_leaves': [20, 31, 40],\n",
        "    'learning_rate': [0.1, 0.5, 1.0],\n",
        "    'n_estimators': [10, 20, 50],\n",
        "    'metric': ['binary_logloss', 'binary_error']\n",
        "}\n",
        "\n",
        "# Создадим модель LGBMClassifier с базовыми параметрами\n",
        "model = lgb.LGBMClassifier(random_state=RANDOM_STATE)\n",
        "\n",
        "# Вызовем функцию fit_predict_cv_with_grid_search с передачей параметров для перебора\n",
        "scores = fit_predict_cv_with_grid_search(model, tf_idf, target_train, scores=scores,\n",
        "                                         features_valid=tf_idf_valid, target_valid=target_valid,\n",
        "                                         cv=5, param_grid=param_grid)\n",
        "\n",
        "scores"
      ]
    },
    {
      "cell_type": "code",
      "source": [
        "scores"
      ],
      "metadata": {
        "colab": {
          "base_uri": "https://localhost:8080/",
          "height": 81
        },
        "id": "L5YxXcS8r-JT",
        "outputId": "b96e36a6-1f43-47bf-cbdc-8aef7426ba01"
      },
      "id": "L5YxXcS8r-JT",
      "execution_count": 32,
      "outputs": [
        {
          "output_type": "execute_result",
          "data": {
            "text/plain": [
              "            model  F1_score_train  F1_score_valid F1_score_train_cv\n",
              "0  LGBMClassifier            0.71            0.06              None"
            ],
            "text/html": [
              "\n",
              "  <div id=\"df-a185945e-9e46-4f4d-9b51-dff6ee963032\" class=\"colab-df-container\">\n",
              "    <div>\n",
              "<style scoped>\n",
              "    .dataframe tbody tr th:only-of-type {\n",
              "        vertical-align: middle;\n",
              "    }\n",
              "\n",
              "    .dataframe tbody tr th {\n",
              "        vertical-align: top;\n",
              "    }\n",
              "\n",
              "    .dataframe thead th {\n",
              "        text-align: right;\n",
              "    }\n",
              "</style>\n",
              "<table border=\"1\" class=\"dataframe\">\n",
              "  <thead>\n",
              "    <tr style=\"text-align: right;\">\n",
              "      <th></th>\n",
              "      <th>model</th>\n",
              "      <th>F1_score_train</th>\n",
              "      <th>F1_score_valid</th>\n",
              "      <th>F1_score_train_cv</th>\n",
              "    </tr>\n",
              "  </thead>\n",
              "  <tbody>\n",
              "    <tr>\n",
              "      <th>0</th>\n",
              "      <td>LGBMClassifier</td>\n",
              "      <td>0.71</td>\n",
              "      <td>0.06</td>\n",
              "      <td>None</td>\n",
              "    </tr>\n",
              "  </tbody>\n",
              "</table>\n",
              "</div>\n",
              "    <div class=\"colab-df-buttons\">\n",
              "\n",
              "  <div class=\"colab-df-container\">\n",
              "    <button class=\"colab-df-convert\" onclick=\"convertToInteractive('df-a185945e-9e46-4f4d-9b51-dff6ee963032')\"\n",
              "            title=\"Convert this dataframe to an interactive table.\"\n",
              "            style=\"display:none;\">\n",
              "\n",
              "  <svg xmlns=\"http://www.w3.org/2000/svg\" height=\"24px\" viewBox=\"0 -960 960 960\">\n",
              "    <path d=\"M120-120v-720h720v720H120Zm60-500h600v-160H180v160Zm220 220h160v-160H400v160Zm0 220h160v-160H400v160ZM180-400h160v-160H180v160Zm440 0h160v-160H620v160ZM180-180h160v-160H180v160Zm440 0h160v-160H620v160Z\"/>\n",
              "  </svg>\n",
              "    </button>\n",
              "\n",
              "  <style>\n",
              "    .colab-df-container {\n",
              "      display:flex;\n",
              "      gap: 12px;\n",
              "    }\n",
              "\n",
              "    .colab-df-convert {\n",
              "      background-color: #E8F0FE;\n",
              "      border: none;\n",
              "      border-radius: 50%;\n",
              "      cursor: pointer;\n",
              "      display: none;\n",
              "      fill: #1967D2;\n",
              "      height: 32px;\n",
              "      padding: 0 0 0 0;\n",
              "      width: 32px;\n",
              "    }\n",
              "\n",
              "    .colab-df-convert:hover {\n",
              "      background-color: #E2EBFA;\n",
              "      box-shadow: 0px 1px 2px rgba(60, 64, 67, 0.3), 0px 1px 3px 1px rgba(60, 64, 67, 0.15);\n",
              "      fill: #174EA6;\n",
              "    }\n",
              "\n",
              "    .colab-df-buttons div {\n",
              "      margin-bottom: 4px;\n",
              "    }\n",
              "\n",
              "    [theme=dark] .colab-df-convert {\n",
              "      background-color: #3B4455;\n",
              "      fill: #D2E3FC;\n",
              "    }\n",
              "\n",
              "    [theme=dark] .colab-df-convert:hover {\n",
              "      background-color: #434B5C;\n",
              "      box-shadow: 0px 1px 3px 1px rgba(0, 0, 0, 0.15);\n",
              "      filter: drop-shadow(0px 1px 2px rgba(0, 0, 0, 0.3));\n",
              "      fill: #FFFFFF;\n",
              "    }\n",
              "  </style>\n",
              "\n",
              "    <script>\n",
              "      const buttonEl =\n",
              "        document.querySelector('#df-a185945e-9e46-4f4d-9b51-dff6ee963032 button.colab-df-convert');\n",
              "      buttonEl.style.display =\n",
              "        google.colab.kernel.accessAllowed ? 'block' : 'none';\n",
              "\n",
              "      async function convertToInteractive(key) {\n",
              "        const element = document.querySelector('#df-a185945e-9e46-4f4d-9b51-dff6ee963032');\n",
              "        const dataTable =\n",
              "          await google.colab.kernel.invokeFunction('convertToInteractive',\n",
              "                                                    [key], {});\n",
              "        if (!dataTable) return;\n",
              "\n",
              "        const docLinkHtml = 'Like what you see? Visit the ' +\n",
              "          '<a target=\"_blank\" href=https://colab.research.google.com/notebooks/data_table.ipynb>data table notebook</a>'\n",
              "          + ' to learn more about interactive tables.';\n",
              "        element.innerHTML = '';\n",
              "        dataTable['output_type'] = 'display_data';\n",
              "        await google.colab.output.renderOutput(dataTable, element);\n",
              "        const docLink = document.createElement('div');\n",
              "        docLink.innerHTML = docLinkHtml;\n",
              "        element.appendChild(docLink);\n",
              "      }\n",
              "    </script>\n",
              "  </div>\n",
              "\n",
              "    </div>\n",
              "  </div>\n"
            ],
            "application/vnd.google.colaboratory.intrinsic+json": {
              "type": "dataframe",
              "variable_name": "scores",
              "repr_error": "'str' object has no attribute 'empty'"
            }
          },
          "metadata": {},
          "execution_count": 32
        }
      ]
    },
    {
      "cell_type": "markdown",
      "id": "d53fd498",
      "metadata": {
        "id": "d53fd498"
      },
      "source": [
        "### LogisticRegression"
      ]
    },
    {
      "cell_type": "code",
      "execution_count": 33,
      "id": "398c5ff7",
      "metadata": {
        "colab": {
          "base_uri": "https://localhost:8080/",
          "height": 112
        },
        "id": "398c5ff7",
        "outputId": "46884350-0d32-406b-8640-366faaa52c1e"
      },
      "outputs": [
        {
          "output_type": "execute_result",
          "data": {
            "text/plain": [
              "                model  F1_score_train  F1_score_valid F1_score_train_cv\n",
              "0      LGBMClassifier            0.71            0.06              None\n",
              "1  LogisticRegression            0.95            0.47              None"
            ],
            "text/html": [
              "\n",
              "  <div id=\"df-184dc2f6-48b0-46ec-aa0f-752e3fa99503\" class=\"colab-df-container\">\n",
              "    <div>\n",
              "<style scoped>\n",
              "    .dataframe tbody tr th:only-of-type {\n",
              "        vertical-align: middle;\n",
              "    }\n",
              "\n",
              "    .dataframe tbody tr th {\n",
              "        vertical-align: top;\n",
              "    }\n",
              "\n",
              "    .dataframe thead th {\n",
              "        text-align: right;\n",
              "    }\n",
              "</style>\n",
              "<table border=\"1\" class=\"dataframe\">\n",
              "  <thead>\n",
              "    <tr style=\"text-align: right;\">\n",
              "      <th></th>\n",
              "      <th>model</th>\n",
              "      <th>F1_score_train</th>\n",
              "      <th>F1_score_valid</th>\n",
              "      <th>F1_score_train_cv</th>\n",
              "    </tr>\n",
              "  </thead>\n",
              "  <tbody>\n",
              "    <tr>\n",
              "      <th>0</th>\n",
              "      <td>LGBMClassifier</td>\n",
              "      <td>0.71</td>\n",
              "      <td>0.06</td>\n",
              "      <td>None</td>\n",
              "    </tr>\n",
              "    <tr>\n",
              "      <th>1</th>\n",
              "      <td>LogisticRegression</td>\n",
              "      <td>0.95</td>\n",
              "      <td>0.47</td>\n",
              "      <td>None</td>\n",
              "    </tr>\n",
              "  </tbody>\n",
              "</table>\n",
              "</div>\n",
              "    <div class=\"colab-df-buttons\">\n",
              "\n",
              "  <div class=\"colab-df-container\">\n",
              "    <button class=\"colab-df-convert\" onclick=\"convertToInteractive('df-184dc2f6-48b0-46ec-aa0f-752e3fa99503')\"\n",
              "            title=\"Convert this dataframe to an interactive table.\"\n",
              "            style=\"display:none;\">\n",
              "\n",
              "  <svg xmlns=\"http://www.w3.org/2000/svg\" height=\"24px\" viewBox=\"0 -960 960 960\">\n",
              "    <path d=\"M120-120v-720h720v720H120Zm60-500h600v-160H180v160Zm220 220h160v-160H400v160Zm0 220h160v-160H400v160ZM180-400h160v-160H180v160Zm440 0h160v-160H620v160ZM180-180h160v-160H180v160Zm440 0h160v-160H620v160Z\"/>\n",
              "  </svg>\n",
              "    </button>\n",
              "\n",
              "  <style>\n",
              "    .colab-df-container {\n",
              "      display:flex;\n",
              "      gap: 12px;\n",
              "    }\n",
              "\n",
              "    .colab-df-convert {\n",
              "      background-color: #E8F0FE;\n",
              "      border: none;\n",
              "      border-radius: 50%;\n",
              "      cursor: pointer;\n",
              "      display: none;\n",
              "      fill: #1967D2;\n",
              "      height: 32px;\n",
              "      padding: 0 0 0 0;\n",
              "      width: 32px;\n",
              "    }\n",
              "\n",
              "    .colab-df-convert:hover {\n",
              "      background-color: #E2EBFA;\n",
              "      box-shadow: 0px 1px 2px rgba(60, 64, 67, 0.3), 0px 1px 3px 1px rgba(60, 64, 67, 0.15);\n",
              "      fill: #174EA6;\n",
              "    }\n",
              "\n",
              "    .colab-df-buttons div {\n",
              "      margin-bottom: 4px;\n",
              "    }\n",
              "\n",
              "    [theme=dark] .colab-df-convert {\n",
              "      background-color: #3B4455;\n",
              "      fill: #D2E3FC;\n",
              "    }\n",
              "\n",
              "    [theme=dark] .colab-df-convert:hover {\n",
              "      background-color: #434B5C;\n",
              "      box-shadow: 0px 1px 3px 1px rgba(0, 0, 0, 0.15);\n",
              "      filter: drop-shadow(0px 1px 2px rgba(0, 0, 0, 0.3));\n",
              "      fill: #FFFFFF;\n",
              "    }\n",
              "  </style>\n",
              "\n",
              "    <script>\n",
              "      const buttonEl =\n",
              "        document.querySelector('#df-184dc2f6-48b0-46ec-aa0f-752e3fa99503 button.colab-df-convert');\n",
              "      buttonEl.style.display =\n",
              "        google.colab.kernel.accessAllowed ? 'block' : 'none';\n",
              "\n",
              "      async function convertToInteractive(key) {\n",
              "        const element = document.querySelector('#df-184dc2f6-48b0-46ec-aa0f-752e3fa99503');\n",
              "        const dataTable =\n",
              "          await google.colab.kernel.invokeFunction('convertToInteractive',\n",
              "                                                    [key], {});\n",
              "        if (!dataTable) return;\n",
              "\n",
              "        const docLinkHtml = 'Like what you see? Visit the ' +\n",
              "          '<a target=\"_blank\" href=https://colab.research.google.com/notebooks/data_table.ipynb>data table notebook</a>'\n",
              "          + ' to learn more about interactive tables.';\n",
              "        element.innerHTML = '';\n",
              "        dataTable['output_type'] = 'display_data';\n",
              "        await google.colab.output.renderOutput(dataTable, element);\n",
              "        const docLink = document.createElement('div');\n",
              "        docLink.innerHTML = docLinkHtml;\n",
              "        element.appendChild(docLink);\n",
              "      }\n",
              "    </script>\n",
              "  </div>\n",
              "\n",
              "\n",
              "<div id=\"df-ad2f41d9-0af2-493f-918f-0c29934ed03e\">\n",
              "  <button class=\"colab-df-quickchart\" onclick=\"quickchart('df-ad2f41d9-0af2-493f-918f-0c29934ed03e')\"\n",
              "            title=\"Suggest charts\"\n",
              "            style=\"display:none;\">\n",
              "\n",
              "<svg xmlns=\"http://www.w3.org/2000/svg\" height=\"24px\"viewBox=\"0 0 24 24\"\n",
              "     width=\"24px\">\n",
              "    <g>\n",
              "        <path d=\"M19 3H5c-1.1 0-2 .9-2 2v14c0 1.1.9 2 2 2h14c1.1 0 2-.9 2-2V5c0-1.1-.9-2-2-2zM9 17H7v-7h2v7zm4 0h-2V7h2v10zm4 0h-2v-4h2v4z\"/>\n",
              "    </g>\n",
              "</svg>\n",
              "  </button>\n",
              "\n",
              "<style>\n",
              "  .colab-df-quickchart {\n",
              "      --bg-color: #E8F0FE;\n",
              "      --fill-color: #1967D2;\n",
              "      --hover-bg-color: #E2EBFA;\n",
              "      --hover-fill-color: #174EA6;\n",
              "      --disabled-fill-color: #AAA;\n",
              "      --disabled-bg-color: #DDD;\n",
              "  }\n",
              "\n",
              "  [theme=dark] .colab-df-quickchart {\n",
              "      --bg-color: #3B4455;\n",
              "      --fill-color: #D2E3FC;\n",
              "      --hover-bg-color: #434B5C;\n",
              "      --hover-fill-color: #FFFFFF;\n",
              "      --disabled-bg-color: #3B4455;\n",
              "      --disabled-fill-color: #666;\n",
              "  }\n",
              "\n",
              "  .colab-df-quickchart {\n",
              "    background-color: var(--bg-color);\n",
              "    border: none;\n",
              "    border-radius: 50%;\n",
              "    cursor: pointer;\n",
              "    display: none;\n",
              "    fill: var(--fill-color);\n",
              "    height: 32px;\n",
              "    padding: 0;\n",
              "    width: 32px;\n",
              "  }\n",
              "\n",
              "  .colab-df-quickchart:hover {\n",
              "    background-color: var(--hover-bg-color);\n",
              "    box-shadow: 0 1px 2px rgba(60, 64, 67, 0.3), 0 1px 3px 1px rgba(60, 64, 67, 0.15);\n",
              "    fill: var(--button-hover-fill-color);\n",
              "  }\n",
              "\n",
              "  .colab-df-quickchart-complete:disabled,\n",
              "  .colab-df-quickchart-complete:disabled:hover {\n",
              "    background-color: var(--disabled-bg-color);\n",
              "    fill: var(--disabled-fill-color);\n",
              "    box-shadow: none;\n",
              "  }\n",
              "\n",
              "  .colab-df-spinner {\n",
              "    border: 2px solid var(--fill-color);\n",
              "    border-color: transparent;\n",
              "    border-bottom-color: var(--fill-color);\n",
              "    animation:\n",
              "      spin 1s steps(1) infinite;\n",
              "  }\n",
              "\n",
              "  @keyframes spin {\n",
              "    0% {\n",
              "      border-color: transparent;\n",
              "      border-bottom-color: var(--fill-color);\n",
              "      border-left-color: var(--fill-color);\n",
              "    }\n",
              "    20% {\n",
              "      border-color: transparent;\n",
              "      border-left-color: var(--fill-color);\n",
              "      border-top-color: var(--fill-color);\n",
              "    }\n",
              "    30% {\n",
              "      border-color: transparent;\n",
              "      border-left-color: var(--fill-color);\n",
              "      border-top-color: var(--fill-color);\n",
              "      border-right-color: var(--fill-color);\n",
              "    }\n",
              "    40% {\n",
              "      border-color: transparent;\n",
              "      border-right-color: var(--fill-color);\n",
              "      border-top-color: var(--fill-color);\n",
              "    }\n",
              "    60% {\n",
              "      border-color: transparent;\n",
              "      border-right-color: var(--fill-color);\n",
              "    }\n",
              "    80% {\n",
              "      border-color: transparent;\n",
              "      border-right-color: var(--fill-color);\n",
              "      border-bottom-color: var(--fill-color);\n",
              "    }\n",
              "    90% {\n",
              "      border-color: transparent;\n",
              "      border-bottom-color: var(--fill-color);\n",
              "    }\n",
              "  }\n",
              "</style>\n",
              "\n",
              "  <script>\n",
              "    async function quickchart(key) {\n",
              "      const quickchartButtonEl =\n",
              "        document.querySelector('#' + key + ' button');\n",
              "      quickchartButtonEl.disabled = true;  // To prevent multiple clicks.\n",
              "      quickchartButtonEl.classList.add('colab-df-spinner');\n",
              "      try {\n",
              "        const charts = await google.colab.kernel.invokeFunction(\n",
              "            'suggestCharts', [key], {});\n",
              "      } catch (error) {\n",
              "        console.error('Error during call to suggestCharts:', error);\n",
              "      }\n",
              "      quickchartButtonEl.classList.remove('colab-df-spinner');\n",
              "      quickchartButtonEl.classList.add('colab-df-quickchart-complete');\n",
              "    }\n",
              "    (() => {\n",
              "      let quickchartButtonEl =\n",
              "        document.querySelector('#df-ad2f41d9-0af2-493f-918f-0c29934ed03e button');\n",
              "      quickchartButtonEl.style.display =\n",
              "        google.colab.kernel.accessAllowed ? 'block' : 'none';\n",
              "    })();\n",
              "  </script>\n",
              "</div>\n",
              "    </div>\n",
              "  </div>\n"
            ],
            "application/vnd.google.colaboratory.intrinsic+json": {
              "type": "dataframe",
              "variable_name": "scores",
              "repr_error": "'str' object has no attribute 'empty'"
            }
          },
          "metadata": {},
          "execution_count": 33
        }
      ],
      "source": [
        "# Создание сетки параметров для модели Logistic Regression\n",
        "param_grid = {\n",
        "    'C': [0.01, 0.1, 1.0, 10.0],  # Регуляризационный параметр C\n",
        "    'penalty': ['l1', 'l2'],       # Тип регуляризации: l1 - Lasso, l2 - Ridge\n",
        "    'solver': ['liblinear']        # Способ оптимизации (для малых датасетов liblinear рекомендуется)\n",
        "}\n",
        "\n",
        "# Создание объекта Logistic Regression модели с балансировкой классов\n",
        "model_LR = LogisticRegression(class_weight='balanced')\n",
        "\n",
        "# Обучение модели с кросс-валидацией и поиском по сетке параметров\n",
        "scores = fit_predict_cv_with_grid_search(model_LR, tf_idf, target_train, scores=scores,\n",
        "                                         features_valid=tf_idf_valid, target_valid=target_valid,\n",
        "                                         cv=5, param_grid=param_grid)\n",
        "\n",
        "# Возврат результатов оценки модели\n",
        "scores"
      ]
    },
    {
      "cell_type": "markdown",
      "id": "0012d95e",
      "metadata": {
        "id": "0012d95e"
      },
      "source": [
        "### Catboost"
      ]
    },
    {
      "cell_type": "code",
      "execution_count": null,
      "id": "8e2507d5",
      "metadata": {
        "scrolled": true,
        "id": "8e2507d5"
      },
      "outputs": [],
      "source": [
        "# Задаём сетку параметров для настройки модели\n",
        "param_grid = {\n",
        "    'iterations': [10, 20, 50],  # Количество итераций обучения модели\n",
        "    'learning_rate': [0.1, 0.5, 1.0],  # Скорость обучения модели\n",
        "    'depth': [4, 6, 8]  # Глубина деревьев в градиентном бустинге\n",
        "}\n",
        "\n",
        "# Инициализируем модель CatBoostClassifier с указанными настройками\n",
        "model = CatBoostClassifier(eval_metric='F1', verbose=40, random_state=RANDOM_STATE)\n",
        "\n",
        "# Обучаем модель с кросс-валидацией и подбором параметров из заданной сетки\n",
        "scores = fit_predict_cv_with_grid_search(model, tf_idf, target_train, scores=scores,\n",
        "                                         features_valid=tf_idf_valid, target_valid=target_valid,\n",
        "                                         cv=5, param_grid=param_grid)\n",
        "\n",
        "# Получаем оценки модели\n",
        "scores"
      ]
    },
    {
      "cell_type": "code",
      "source": [
        "scores"
      ],
      "metadata": {
        "colab": {
          "base_uri": "https://localhost:8080/",
          "height": 144
        },
        "id": "u56brgk3stSr",
        "outputId": "884faec4-02ad-4722-c3e5-d315c12bfdf4"
      },
      "id": "u56brgk3stSr",
      "execution_count": 35,
      "outputs": [
        {
          "output_type": "execute_result",
          "data": {
            "text/plain": [
              "                model  F1_score_train  F1_score_valid F1_score_train_cv\n",
              "0      LGBMClassifier            0.71            0.06              None\n",
              "1  LogisticRegression            0.95            0.47              None\n",
              "2  CatBoostClassifier            0.88            0.35              None"
            ],
            "text/html": [
              "\n",
              "  <div id=\"df-d814c2ef-6ce2-4880-9238-b12d412e01d3\" class=\"colab-df-container\">\n",
              "    <div>\n",
              "<style scoped>\n",
              "    .dataframe tbody tr th:only-of-type {\n",
              "        vertical-align: middle;\n",
              "    }\n",
              "\n",
              "    .dataframe tbody tr th {\n",
              "        vertical-align: top;\n",
              "    }\n",
              "\n",
              "    .dataframe thead th {\n",
              "        text-align: right;\n",
              "    }\n",
              "</style>\n",
              "<table border=\"1\" class=\"dataframe\">\n",
              "  <thead>\n",
              "    <tr style=\"text-align: right;\">\n",
              "      <th></th>\n",
              "      <th>model</th>\n",
              "      <th>F1_score_train</th>\n",
              "      <th>F1_score_valid</th>\n",
              "      <th>F1_score_train_cv</th>\n",
              "    </tr>\n",
              "  </thead>\n",
              "  <tbody>\n",
              "    <tr>\n",
              "      <th>0</th>\n",
              "      <td>LGBMClassifier</td>\n",
              "      <td>0.71</td>\n",
              "      <td>0.06</td>\n",
              "      <td>None</td>\n",
              "    </tr>\n",
              "    <tr>\n",
              "      <th>1</th>\n",
              "      <td>LogisticRegression</td>\n",
              "      <td>0.95</td>\n",
              "      <td>0.47</td>\n",
              "      <td>None</td>\n",
              "    </tr>\n",
              "    <tr>\n",
              "      <th>2</th>\n",
              "      <td>CatBoostClassifier</td>\n",
              "      <td>0.88</td>\n",
              "      <td>0.35</td>\n",
              "      <td>None</td>\n",
              "    </tr>\n",
              "  </tbody>\n",
              "</table>\n",
              "</div>\n",
              "    <div class=\"colab-df-buttons\">\n",
              "\n",
              "  <div class=\"colab-df-container\">\n",
              "    <button class=\"colab-df-convert\" onclick=\"convertToInteractive('df-d814c2ef-6ce2-4880-9238-b12d412e01d3')\"\n",
              "            title=\"Convert this dataframe to an interactive table.\"\n",
              "            style=\"display:none;\">\n",
              "\n",
              "  <svg xmlns=\"http://www.w3.org/2000/svg\" height=\"24px\" viewBox=\"0 -960 960 960\">\n",
              "    <path d=\"M120-120v-720h720v720H120Zm60-500h600v-160H180v160Zm220 220h160v-160H400v160Zm0 220h160v-160H400v160ZM180-400h160v-160H180v160Zm440 0h160v-160H620v160ZM180-180h160v-160H180v160Zm440 0h160v-160H620v160Z\"/>\n",
              "  </svg>\n",
              "    </button>\n",
              "\n",
              "  <style>\n",
              "    .colab-df-container {\n",
              "      display:flex;\n",
              "      gap: 12px;\n",
              "    }\n",
              "\n",
              "    .colab-df-convert {\n",
              "      background-color: #E8F0FE;\n",
              "      border: none;\n",
              "      border-radius: 50%;\n",
              "      cursor: pointer;\n",
              "      display: none;\n",
              "      fill: #1967D2;\n",
              "      height: 32px;\n",
              "      padding: 0 0 0 0;\n",
              "      width: 32px;\n",
              "    }\n",
              "\n",
              "    .colab-df-convert:hover {\n",
              "      background-color: #E2EBFA;\n",
              "      box-shadow: 0px 1px 2px rgba(60, 64, 67, 0.3), 0px 1px 3px 1px rgba(60, 64, 67, 0.15);\n",
              "      fill: #174EA6;\n",
              "    }\n",
              "\n",
              "    .colab-df-buttons div {\n",
              "      margin-bottom: 4px;\n",
              "    }\n",
              "\n",
              "    [theme=dark] .colab-df-convert {\n",
              "      background-color: #3B4455;\n",
              "      fill: #D2E3FC;\n",
              "    }\n",
              "\n",
              "    [theme=dark] .colab-df-convert:hover {\n",
              "      background-color: #434B5C;\n",
              "      box-shadow: 0px 1px 3px 1px rgba(0, 0, 0, 0.15);\n",
              "      filter: drop-shadow(0px 1px 2px rgba(0, 0, 0, 0.3));\n",
              "      fill: #FFFFFF;\n",
              "    }\n",
              "  </style>\n",
              "\n",
              "    <script>\n",
              "      const buttonEl =\n",
              "        document.querySelector('#df-d814c2ef-6ce2-4880-9238-b12d412e01d3 button.colab-df-convert');\n",
              "      buttonEl.style.display =\n",
              "        google.colab.kernel.accessAllowed ? 'block' : 'none';\n",
              "\n",
              "      async function convertToInteractive(key) {\n",
              "        const element = document.querySelector('#df-d814c2ef-6ce2-4880-9238-b12d412e01d3');\n",
              "        const dataTable =\n",
              "          await google.colab.kernel.invokeFunction('convertToInteractive',\n",
              "                                                    [key], {});\n",
              "        if (!dataTable) return;\n",
              "\n",
              "        const docLinkHtml = 'Like what you see? Visit the ' +\n",
              "          '<a target=\"_blank\" href=https://colab.research.google.com/notebooks/data_table.ipynb>data table notebook</a>'\n",
              "          + ' to learn more about interactive tables.';\n",
              "        element.innerHTML = '';\n",
              "        dataTable['output_type'] = 'display_data';\n",
              "        await google.colab.output.renderOutput(dataTable, element);\n",
              "        const docLink = document.createElement('div');\n",
              "        docLink.innerHTML = docLinkHtml;\n",
              "        element.appendChild(docLink);\n",
              "      }\n",
              "    </script>\n",
              "  </div>\n",
              "\n",
              "\n",
              "<div id=\"df-3afae303-96f4-4efe-8d98-b04da32606e2\">\n",
              "  <button class=\"colab-df-quickchart\" onclick=\"quickchart('df-3afae303-96f4-4efe-8d98-b04da32606e2')\"\n",
              "            title=\"Suggest charts\"\n",
              "            style=\"display:none;\">\n",
              "\n",
              "<svg xmlns=\"http://www.w3.org/2000/svg\" height=\"24px\"viewBox=\"0 0 24 24\"\n",
              "     width=\"24px\">\n",
              "    <g>\n",
              "        <path d=\"M19 3H5c-1.1 0-2 .9-2 2v14c0 1.1.9 2 2 2h14c1.1 0 2-.9 2-2V5c0-1.1-.9-2-2-2zM9 17H7v-7h2v7zm4 0h-2V7h2v10zm4 0h-2v-4h2v4z\"/>\n",
              "    </g>\n",
              "</svg>\n",
              "  </button>\n",
              "\n",
              "<style>\n",
              "  .colab-df-quickchart {\n",
              "      --bg-color: #E8F0FE;\n",
              "      --fill-color: #1967D2;\n",
              "      --hover-bg-color: #E2EBFA;\n",
              "      --hover-fill-color: #174EA6;\n",
              "      --disabled-fill-color: #AAA;\n",
              "      --disabled-bg-color: #DDD;\n",
              "  }\n",
              "\n",
              "  [theme=dark] .colab-df-quickchart {\n",
              "      --bg-color: #3B4455;\n",
              "      --fill-color: #D2E3FC;\n",
              "      --hover-bg-color: #434B5C;\n",
              "      --hover-fill-color: #FFFFFF;\n",
              "      --disabled-bg-color: #3B4455;\n",
              "      --disabled-fill-color: #666;\n",
              "  }\n",
              "\n",
              "  .colab-df-quickchart {\n",
              "    background-color: var(--bg-color);\n",
              "    border: none;\n",
              "    border-radius: 50%;\n",
              "    cursor: pointer;\n",
              "    display: none;\n",
              "    fill: var(--fill-color);\n",
              "    height: 32px;\n",
              "    padding: 0;\n",
              "    width: 32px;\n",
              "  }\n",
              "\n",
              "  .colab-df-quickchart:hover {\n",
              "    background-color: var(--hover-bg-color);\n",
              "    box-shadow: 0 1px 2px rgba(60, 64, 67, 0.3), 0 1px 3px 1px rgba(60, 64, 67, 0.15);\n",
              "    fill: var(--button-hover-fill-color);\n",
              "  }\n",
              "\n",
              "  .colab-df-quickchart-complete:disabled,\n",
              "  .colab-df-quickchart-complete:disabled:hover {\n",
              "    background-color: var(--disabled-bg-color);\n",
              "    fill: var(--disabled-fill-color);\n",
              "    box-shadow: none;\n",
              "  }\n",
              "\n",
              "  .colab-df-spinner {\n",
              "    border: 2px solid var(--fill-color);\n",
              "    border-color: transparent;\n",
              "    border-bottom-color: var(--fill-color);\n",
              "    animation:\n",
              "      spin 1s steps(1) infinite;\n",
              "  }\n",
              "\n",
              "  @keyframes spin {\n",
              "    0% {\n",
              "      border-color: transparent;\n",
              "      border-bottom-color: var(--fill-color);\n",
              "      border-left-color: var(--fill-color);\n",
              "    }\n",
              "    20% {\n",
              "      border-color: transparent;\n",
              "      border-left-color: var(--fill-color);\n",
              "      border-top-color: var(--fill-color);\n",
              "    }\n",
              "    30% {\n",
              "      border-color: transparent;\n",
              "      border-left-color: var(--fill-color);\n",
              "      border-top-color: var(--fill-color);\n",
              "      border-right-color: var(--fill-color);\n",
              "    }\n",
              "    40% {\n",
              "      border-color: transparent;\n",
              "      border-right-color: var(--fill-color);\n",
              "      border-top-color: var(--fill-color);\n",
              "    }\n",
              "    60% {\n",
              "      border-color: transparent;\n",
              "      border-right-color: var(--fill-color);\n",
              "    }\n",
              "    80% {\n",
              "      border-color: transparent;\n",
              "      border-right-color: var(--fill-color);\n",
              "      border-bottom-color: var(--fill-color);\n",
              "    }\n",
              "    90% {\n",
              "      border-color: transparent;\n",
              "      border-bottom-color: var(--fill-color);\n",
              "    }\n",
              "  }\n",
              "</style>\n",
              "\n",
              "  <script>\n",
              "    async function quickchart(key) {\n",
              "      const quickchartButtonEl =\n",
              "        document.querySelector('#' + key + ' button');\n",
              "      quickchartButtonEl.disabled = true;  // To prevent multiple clicks.\n",
              "      quickchartButtonEl.classList.add('colab-df-spinner');\n",
              "      try {\n",
              "        const charts = await google.colab.kernel.invokeFunction(\n",
              "            'suggestCharts', [key], {});\n",
              "      } catch (error) {\n",
              "        console.error('Error during call to suggestCharts:', error);\n",
              "      }\n",
              "      quickchartButtonEl.classList.remove('colab-df-spinner');\n",
              "      quickchartButtonEl.classList.add('colab-df-quickchart-complete');\n",
              "    }\n",
              "    (() => {\n",
              "      let quickchartButtonEl =\n",
              "        document.querySelector('#df-3afae303-96f4-4efe-8d98-b04da32606e2 button');\n",
              "      quickchartButtonEl.style.display =\n",
              "        google.colab.kernel.accessAllowed ? 'block' : 'none';\n",
              "    })();\n",
              "  </script>\n",
              "</div>\n",
              "    </div>\n",
              "  </div>\n"
            ],
            "application/vnd.google.colaboratory.intrinsic+json": {
              "type": "dataframe",
              "variable_name": "scores",
              "repr_error": "'str' object has no attribute 'empty'"
            }
          },
          "metadata": {},
          "execution_count": 35
        }
      ]
    },
    {
      "cell_type": "markdown",
      "id": "38ddaf04",
      "metadata": {
        "id": "38ddaf04"
      },
      "source": [
        "### PassiveAggressiveClassifier"
      ]
    },
    {
      "cell_type": "code",
      "execution_count": 36,
      "id": "7a144c78",
      "metadata": {
        "colab": {
          "base_uri": "https://localhost:8080/",
          "height": 175
        },
        "id": "7a144c78",
        "outputId": "96af23ef-aeb5-4a40-8dff-e0a4af175a56"
      },
      "outputs": [
        {
          "output_type": "execute_result",
          "data": {
            "text/plain": [
              "                         model  F1_score_train  F1_score_valid  \\\n",
              "0               LGBMClassifier            0.71            0.06   \n",
              "1           LogisticRegression            0.95            0.47   \n",
              "2           CatBoostClassifier            0.88            0.35   \n",
              "3  PassiveAggressiveClassifier            1.00            0.55   \n",
              "\n",
              "  F1_score_train_cv  \n",
              "0              None  \n",
              "1              None  \n",
              "2              None  \n",
              "3              None  "
            ],
            "text/html": [
              "\n",
              "  <div id=\"df-2712709c-a1ec-4e8c-938a-d386dc98aafc\" class=\"colab-df-container\">\n",
              "    <div>\n",
              "<style scoped>\n",
              "    .dataframe tbody tr th:only-of-type {\n",
              "        vertical-align: middle;\n",
              "    }\n",
              "\n",
              "    .dataframe tbody tr th {\n",
              "        vertical-align: top;\n",
              "    }\n",
              "\n",
              "    .dataframe thead th {\n",
              "        text-align: right;\n",
              "    }\n",
              "</style>\n",
              "<table border=\"1\" class=\"dataframe\">\n",
              "  <thead>\n",
              "    <tr style=\"text-align: right;\">\n",
              "      <th></th>\n",
              "      <th>model</th>\n",
              "      <th>F1_score_train</th>\n",
              "      <th>F1_score_valid</th>\n",
              "      <th>F1_score_train_cv</th>\n",
              "    </tr>\n",
              "  </thead>\n",
              "  <tbody>\n",
              "    <tr>\n",
              "      <th>0</th>\n",
              "      <td>LGBMClassifier</td>\n",
              "      <td>0.71</td>\n",
              "      <td>0.06</td>\n",
              "      <td>None</td>\n",
              "    </tr>\n",
              "    <tr>\n",
              "      <th>1</th>\n",
              "      <td>LogisticRegression</td>\n",
              "      <td>0.95</td>\n",
              "      <td>0.47</td>\n",
              "      <td>None</td>\n",
              "    </tr>\n",
              "    <tr>\n",
              "      <th>2</th>\n",
              "      <td>CatBoostClassifier</td>\n",
              "      <td>0.88</td>\n",
              "      <td>0.35</td>\n",
              "      <td>None</td>\n",
              "    </tr>\n",
              "    <tr>\n",
              "      <th>3</th>\n",
              "      <td>PassiveAggressiveClassifier</td>\n",
              "      <td>1.00</td>\n",
              "      <td>0.55</td>\n",
              "      <td>None</td>\n",
              "    </tr>\n",
              "  </tbody>\n",
              "</table>\n",
              "</div>\n",
              "    <div class=\"colab-df-buttons\">\n",
              "\n",
              "  <div class=\"colab-df-container\">\n",
              "    <button class=\"colab-df-convert\" onclick=\"convertToInteractive('df-2712709c-a1ec-4e8c-938a-d386dc98aafc')\"\n",
              "            title=\"Convert this dataframe to an interactive table.\"\n",
              "            style=\"display:none;\">\n",
              "\n",
              "  <svg xmlns=\"http://www.w3.org/2000/svg\" height=\"24px\" viewBox=\"0 -960 960 960\">\n",
              "    <path d=\"M120-120v-720h720v720H120Zm60-500h600v-160H180v160Zm220 220h160v-160H400v160Zm0 220h160v-160H400v160ZM180-400h160v-160H180v160Zm440 0h160v-160H620v160ZM180-180h160v-160H180v160Zm440 0h160v-160H620v160Z\"/>\n",
              "  </svg>\n",
              "    </button>\n",
              "\n",
              "  <style>\n",
              "    .colab-df-container {\n",
              "      display:flex;\n",
              "      gap: 12px;\n",
              "    }\n",
              "\n",
              "    .colab-df-convert {\n",
              "      background-color: #E8F0FE;\n",
              "      border: none;\n",
              "      border-radius: 50%;\n",
              "      cursor: pointer;\n",
              "      display: none;\n",
              "      fill: #1967D2;\n",
              "      height: 32px;\n",
              "      padding: 0 0 0 0;\n",
              "      width: 32px;\n",
              "    }\n",
              "\n",
              "    .colab-df-convert:hover {\n",
              "      background-color: #E2EBFA;\n",
              "      box-shadow: 0px 1px 2px rgba(60, 64, 67, 0.3), 0px 1px 3px 1px rgba(60, 64, 67, 0.15);\n",
              "      fill: #174EA6;\n",
              "    }\n",
              "\n",
              "    .colab-df-buttons div {\n",
              "      margin-bottom: 4px;\n",
              "    }\n",
              "\n",
              "    [theme=dark] .colab-df-convert {\n",
              "      background-color: #3B4455;\n",
              "      fill: #D2E3FC;\n",
              "    }\n",
              "\n",
              "    [theme=dark] .colab-df-convert:hover {\n",
              "      background-color: #434B5C;\n",
              "      box-shadow: 0px 1px 3px 1px rgba(0, 0, 0, 0.15);\n",
              "      filter: drop-shadow(0px 1px 2px rgba(0, 0, 0, 0.3));\n",
              "      fill: #FFFFFF;\n",
              "    }\n",
              "  </style>\n",
              "\n",
              "    <script>\n",
              "      const buttonEl =\n",
              "        document.querySelector('#df-2712709c-a1ec-4e8c-938a-d386dc98aafc button.colab-df-convert');\n",
              "      buttonEl.style.display =\n",
              "        google.colab.kernel.accessAllowed ? 'block' : 'none';\n",
              "\n",
              "      async function convertToInteractive(key) {\n",
              "        const element = document.querySelector('#df-2712709c-a1ec-4e8c-938a-d386dc98aafc');\n",
              "        const dataTable =\n",
              "          await google.colab.kernel.invokeFunction('convertToInteractive',\n",
              "                                                    [key], {});\n",
              "        if (!dataTable) return;\n",
              "\n",
              "        const docLinkHtml = 'Like what you see? Visit the ' +\n",
              "          '<a target=\"_blank\" href=https://colab.research.google.com/notebooks/data_table.ipynb>data table notebook</a>'\n",
              "          + ' to learn more about interactive tables.';\n",
              "        element.innerHTML = '';\n",
              "        dataTable['output_type'] = 'display_data';\n",
              "        await google.colab.output.renderOutput(dataTable, element);\n",
              "        const docLink = document.createElement('div');\n",
              "        docLink.innerHTML = docLinkHtml;\n",
              "        element.appendChild(docLink);\n",
              "      }\n",
              "    </script>\n",
              "  </div>\n",
              "\n",
              "\n",
              "<div id=\"df-36e8b399-f1c5-4197-8353-d8e77836247e\">\n",
              "  <button class=\"colab-df-quickchart\" onclick=\"quickchart('df-36e8b399-f1c5-4197-8353-d8e77836247e')\"\n",
              "            title=\"Suggest charts\"\n",
              "            style=\"display:none;\">\n",
              "\n",
              "<svg xmlns=\"http://www.w3.org/2000/svg\" height=\"24px\"viewBox=\"0 0 24 24\"\n",
              "     width=\"24px\">\n",
              "    <g>\n",
              "        <path d=\"M19 3H5c-1.1 0-2 .9-2 2v14c0 1.1.9 2 2 2h14c1.1 0 2-.9 2-2V5c0-1.1-.9-2-2-2zM9 17H7v-7h2v7zm4 0h-2V7h2v10zm4 0h-2v-4h2v4z\"/>\n",
              "    </g>\n",
              "</svg>\n",
              "  </button>\n",
              "\n",
              "<style>\n",
              "  .colab-df-quickchart {\n",
              "      --bg-color: #E8F0FE;\n",
              "      --fill-color: #1967D2;\n",
              "      --hover-bg-color: #E2EBFA;\n",
              "      --hover-fill-color: #174EA6;\n",
              "      --disabled-fill-color: #AAA;\n",
              "      --disabled-bg-color: #DDD;\n",
              "  }\n",
              "\n",
              "  [theme=dark] .colab-df-quickchart {\n",
              "      --bg-color: #3B4455;\n",
              "      --fill-color: #D2E3FC;\n",
              "      --hover-bg-color: #434B5C;\n",
              "      --hover-fill-color: #FFFFFF;\n",
              "      --disabled-bg-color: #3B4455;\n",
              "      --disabled-fill-color: #666;\n",
              "  }\n",
              "\n",
              "  .colab-df-quickchart {\n",
              "    background-color: var(--bg-color);\n",
              "    border: none;\n",
              "    border-radius: 50%;\n",
              "    cursor: pointer;\n",
              "    display: none;\n",
              "    fill: var(--fill-color);\n",
              "    height: 32px;\n",
              "    padding: 0;\n",
              "    width: 32px;\n",
              "  }\n",
              "\n",
              "  .colab-df-quickchart:hover {\n",
              "    background-color: var(--hover-bg-color);\n",
              "    box-shadow: 0 1px 2px rgba(60, 64, 67, 0.3), 0 1px 3px 1px rgba(60, 64, 67, 0.15);\n",
              "    fill: var(--button-hover-fill-color);\n",
              "  }\n",
              "\n",
              "  .colab-df-quickchart-complete:disabled,\n",
              "  .colab-df-quickchart-complete:disabled:hover {\n",
              "    background-color: var(--disabled-bg-color);\n",
              "    fill: var(--disabled-fill-color);\n",
              "    box-shadow: none;\n",
              "  }\n",
              "\n",
              "  .colab-df-spinner {\n",
              "    border: 2px solid var(--fill-color);\n",
              "    border-color: transparent;\n",
              "    border-bottom-color: var(--fill-color);\n",
              "    animation:\n",
              "      spin 1s steps(1) infinite;\n",
              "  }\n",
              "\n",
              "  @keyframes spin {\n",
              "    0% {\n",
              "      border-color: transparent;\n",
              "      border-bottom-color: var(--fill-color);\n",
              "      border-left-color: var(--fill-color);\n",
              "    }\n",
              "    20% {\n",
              "      border-color: transparent;\n",
              "      border-left-color: var(--fill-color);\n",
              "      border-top-color: var(--fill-color);\n",
              "    }\n",
              "    30% {\n",
              "      border-color: transparent;\n",
              "      border-left-color: var(--fill-color);\n",
              "      border-top-color: var(--fill-color);\n",
              "      border-right-color: var(--fill-color);\n",
              "    }\n",
              "    40% {\n",
              "      border-color: transparent;\n",
              "      border-right-color: var(--fill-color);\n",
              "      border-top-color: var(--fill-color);\n",
              "    }\n",
              "    60% {\n",
              "      border-color: transparent;\n",
              "      border-right-color: var(--fill-color);\n",
              "    }\n",
              "    80% {\n",
              "      border-color: transparent;\n",
              "      border-right-color: var(--fill-color);\n",
              "      border-bottom-color: var(--fill-color);\n",
              "    }\n",
              "    90% {\n",
              "      border-color: transparent;\n",
              "      border-bottom-color: var(--fill-color);\n",
              "    }\n",
              "  }\n",
              "</style>\n",
              "\n",
              "  <script>\n",
              "    async function quickchart(key) {\n",
              "      const quickchartButtonEl =\n",
              "        document.querySelector('#' + key + ' button');\n",
              "      quickchartButtonEl.disabled = true;  // To prevent multiple clicks.\n",
              "      quickchartButtonEl.classList.add('colab-df-spinner');\n",
              "      try {\n",
              "        const charts = await google.colab.kernel.invokeFunction(\n",
              "            'suggestCharts', [key], {});\n",
              "      } catch (error) {\n",
              "        console.error('Error during call to suggestCharts:', error);\n",
              "      }\n",
              "      quickchartButtonEl.classList.remove('colab-df-spinner');\n",
              "      quickchartButtonEl.classList.add('colab-df-quickchart-complete');\n",
              "    }\n",
              "    (() => {\n",
              "      let quickchartButtonEl =\n",
              "        document.querySelector('#df-36e8b399-f1c5-4197-8353-d8e77836247e button');\n",
              "      quickchartButtonEl.style.display =\n",
              "        google.colab.kernel.accessAllowed ? 'block' : 'none';\n",
              "    })();\n",
              "  </script>\n",
              "</div>\n",
              "    </div>\n",
              "  </div>\n"
            ],
            "application/vnd.google.colaboratory.intrinsic+json": {
              "type": "dataframe",
              "variable_name": "scores",
              "repr_error": "'str' object has no attribute 'empty'"
            }
          },
          "metadata": {},
          "execution_count": 36
        }
      ],
      "source": [
        "# Определение сетки параметров для настройки модели Passive Aggressive Classifier (PAC).\n",
        "param_grid = {\n",
        "    'C': [0.1, 1.0, 20.0],  # Параметр C, контролирует силу регуляризации. Большие значения C уменьшают силу регуляризации.\n",
        "    'fit_intercept': [True, False],  # Определяет, следует ли оценивать перехват (intercept) в модели.\n",
        "    'loss': ['hinge', 'squared_hinge']  # Функция потерь, которая определяет способ оценки ошибки модели.\n",
        "}\n",
        "\n",
        "# Инициализация модели Passive Aggressive Classifier с использованием заданного random_state.\n",
        "model_PAC = PassiveAggressiveClassifier(random_state=RANDOM_STATE)\n",
        "\n",
        "# Обучение модели PAC с кросс-валидацией и настройкой параметров сетки.\n",
        "scores = fit_predict_cv_with_grid_search(model_PAC, tf_idf, target_train, scores=scores,\n",
        "                                         features_valid=tf_idf_valid, target_valid=target_valid,\n",
        "                                         cv=5, param_grid=param_grid)\n",
        "\n",
        "# Сохранение лучшей модели PAC, которая была получена после настройки параметров.\n",
        "best_pac_model = scores\n",
        "\n",
        "# Получаем оценки модели\n",
        "scores"
      ]
    },
    {
      "cell_type": "markdown",
      "id": "a6988702",
      "metadata": {
        "id": "a6988702"
      },
      "source": [
        "### Выводы\n",
        "\n",
        "Были обучены модели LogisticRegression, CatBoostClassifier, LGBMClassifier и PassiveAggressiveClassifier. С моделью PassiveAggressiveClassifier удалось достичь наилучшего значения метрики F1 равной на валидационной выборке для набора данных из 1000 случайных примеров."
      ]
    },
    {
      "cell_type": "markdown",
      "id": "2b388e41",
      "metadata": {
        "id": "2b388e41"
      },
      "source": [
        "## Тестирование"
      ]
    },
    {
      "cell_type": "code",
      "execution_count": null,
      "id": "0668cf14",
      "metadata": {
        "id": "0668cf14",
        "outputId": "d363ef9d-1477-40af-a139-145ccad88558"
      },
      "outputs": [
        {
          "name": "stdout",
          "output_type": "stream",
          "text": [
            "F1 мера для тестовых данных: 0.59\n"
          ]
        }
      ],
      "source": [
        "# Обучаем модель Passive Aggressive Classifier (PAC) на TF-IDF представлении данных обучения\n",
        "model_PAC.fit(tf_idf, target_train)\n",
        "\n",
        "# Делаем прогнозы на тестовых данных с использованием обученной модели\n",
        "predictions_test = model_PAC.predict(tf_idf_test)\n",
        "\n",
        "# Вычисляем F1 меру на тестовой выборке для оценки качества модели\n",
        "f1_test_score = f1_score(target_test, predictions_test)\n",
        "\n",
        "# Округляем значение F1 меры до двух знаков после запятой для удобства отображения\n",
        "f1_test_score_rounded = round(f1_test_score, 2)\n",
        "\n",
        "# Выводим значение F1 меры на тестовых данных\n",
        "print('F1 мера для тестовых данных:', f1_test_score_rounded)"
      ]
    },
    {
      "cell_type": "markdown",
      "id": "d1e5efc2",
      "metadata": {
        "id": "d1e5efc2"
      },
      "source": [
        "### Выводы\n",
        "\n",
        "На тестовой выборке модель PassiveAggressiveClassifier показала результат 0.55."
      ]
    },
    {
      "cell_type": "markdown",
      "id": "1261683a",
      "metadata": {
        "id": "1261683a"
      },
      "source": [
        "## Выводы\n",
        "\n",
        "Предоставлен датасет текста с разметкой на токсичные и не токсичные комментарии.\n",
        "\n",
        "   * Данные содержат 159292 позиции. Явных дубликатов и пропусков нет. Столбец 'Unnamed: 0' не несет смыла и был удален.\n",
        "   * Разметка корректна. Обнаружен дисбаланс классов: токсичных комментариев меньше почти в 9 раз.\n",
        "   \n",
        "   * Проведена предобработка данных, включая лемматизацию и очистку текста. Затем текстовые данные были векторизованы с использованием метода TF-IDF, что позволило представить тексты в виде числовых векторов, готовых для обучения модели. Теперь tf_idf содержит числовые представления обучающей выборки, tf_idf_test - для тестовой выборки, а tf_idf_valid - для валидационной выборки.\n",
        "   \n",
        "   * Были обучены модели LogisticRegression, CatBoostClassifier, LGBMClassifier и PassiveAggressiveClassifier. С моделью PassiveAggressiveClassifier удалось достичь наилучшего значения метрики F1 равной на валидационной выборке для набора данных из 1000 случайных примеров.\n",
        "   \n",
        "   * На тестовой выборке модель PassiveAggressiveClassifier показала результат 0.55.  \n",
        "   "
      ]
    }
  ],
  "metadata": {
    "ExecuteTimeLog": [
      {
        "duration": 74,
        "start_time": "2023-07-24T14:04:12.485Z"
      },
      {
        "duration": 7557,
        "start_time": "2023-07-24T14:04:20.028Z"
      },
      {
        "duration": 3771,
        "start_time": "2023-07-24T14:04:27.587Z"
      },
      {
        "duration": 128,
        "start_time": "2023-07-24T14:06:37.059Z"
      },
      {
        "duration": 4,
        "start_time": "2023-07-24T14:06:49.152Z"
      },
      {
        "duration": 298,
        "start_time": "2023-07-24T14:06:51.202Z"
      },
      {
        "duration": 101,
        "start_time": "2023-07-24T14:07:04.239Z"
      },
      {
        "duration": 8,
        "start_time": "2023-07-24T14:07:12.968Z"
      },
      {
        "duration": 16,
        "start_time": "2023-07-24T14:07:17.356Z"
      },
      {
        "duration": 21,
        "start_time": "2023-07-24T14:07:19.528Z"
      },
      {
        "duration": 3,
        "start_time": "2023-07-24T14:07:43.897Z"
      },
      {
        "duration": 4,
        "start_time": "2023-07-24T14:07:44.660Z"
      },
      {
        "duration": 9524,
        "start_time": "2023-07-24T14:19:54.690Z"
      },
      {
        "duration": 1057,
        "start_time": "2023-07-24T14:20:16.618Z"
      },
      {
        "duration": 558,
        "start_time": "2023-07-24T14:24:10.824Z"
      },
      {
        "duration": 4,
        "start_time": "2023-07-24T14:25:10.886Z"
      },
      {
        "duration": 289,
        "start_time": "2023-07-24T14:26:06.563Z"
      },
      {
        "duration": 4,
        "start_time": "2023-07-24T14:26:13.012Z"
      },
      {
        "duration": 22,
        "start_time": "2023-07-24T14:26:13.448Z"
      },
      {
        "duration": 3993,
        "start_time": "2023-07-24T14:29:05.885Z"
      },
      {
        "duration": 12292,
        "start_time": "2023-07-24T14:29:32.441Z"
      },
      {
        "duration": 682,
        "start_time": "2023-07-24T14:43:06.253Z"
      },
      {
        "duration": 148,
        "start_time": "2023-07-24T14:43:07.929Z"
      },
      {
        "duration": 530,
        "start_time": "2023-07-24T14:43:19.082Z"
      },
      {
        "duration": 273,
        "start_time": "2023-07-24T14:43:20.135Z"
      },
      {
        "duration": 4,
        "start_time": "2023-07-24T14:43:46.322Z"
      },
      {
        "duration": 532,
        "start_time": "2023-07-24T14:43:57.733Z"
      },
      {
        "duration": 3,
        "start_time": "2023-07-24T14:43:59.128Z"
      },
      {
        "duration": 28,
        "start_time": "2023-07-24T14:43:59.848Z"
      },
      {
        "duration": 17,
        "start_time": "2023-07-24T14:48:49.044Z"
      },
      {
        "duration": 9856,
        "start_time": "2023-07-24T14:50:30.969Z"
      },
      {
        "duration": 1111,
        "start_time": "2023-07-24T14:50:40.827Z"
      },
      {
        "duration": 3,
        "start_time": "2023-07-24T14:50:41.940Z"
      },
      {
        "duration": 299,
        "start_time": "2023-07-24T14:50:41.945Z"
      },
      {
        "duration": 6,
        "start_time": "2023-07-24T14:50:42.838Z"
      },
      {
        "duration": 14,
        "start_time": "2023-07-24T14:50:43.390Z"
      },
      {
        "duration": 28,
        "start_time": "2023-07-24T14:50:43.782Z"
      },
      {
        "duration": 3,
        "start_time": "2023-07-24T14:50:46.476Z"
      },
      {
        "duration": 773,
        "start_time": "2023-07-24T14:50:48.688Z"
      },
      {
        "duration": 3,
        "start_time": "2023-07-24T14:50:49.763Z"
      },
      {
        "duration": 29,
        "start_time": "2023-07-24T14:50:50.675Z"
      },
      {
        "duration": 3,
        "start_time": "2023-07-24T14:52:05.887Z"
      },
      {
        "duration": 3,
        "start_time": "2023-07-24T14:52:08.935Z"
      },
      {
        "duration": 19,
        "start_time": "2023-07-24T14:52:09.512Z"
      },
      {
        "duration": 486,
        "start_time": "2023-07-24T14:55:33.711Z"
      },
      {
        "duration": 20,
        "start_time": "2023-07-24T14:56:18.905Z"
      },
      {
        "duration": 4,
        "start_time": "2023-07-24T14:56:22.100Z"
      },
      {
        "duration": 19,
        "start_time": "2023-07-24T14:56:22.636Z"
      },
      {
        "duration": 551,
        "start_time": "2023-07-24T14:56:33.054Z"
      },
      {
        "duration": 3,
        "start_time": "2023-07-24T14:56:33.639Z"
      },
      {
        "duration": 16,
        "start_time": "2023-07-24T14:56:34.326Z"
      },
      {
        "duration": 9870,
        "start_time": "2023-07-24T14:57:31.208Z"
      },
      {
        "duration": 28,
        "start_time": "2023-07-24T14:57:43.233Z"
      },
      {
        "duration": 9980,
        "start_time": "2023-07-24T14:57:52.637Z"
      },
      {
        "duration": 952,
        "start_time": "2023-07-24T14:58:02.620Z"
      },
      {
        "duration": 4,
        "start_time": "2023-07-24T14:58:03.574Z"
      },
      {
        "duration": 337,
        "start_time": "2023-07-24T14:58:03.581Z"
      },
      {
        "duration": 6,
        "start_time": "2023-07-24T14:58:03.920Z"
      },
      {
        "duration": 14,
        "start_time": "2023-07-24T14:58:03.927Z"
      },
      {
        "duration": 20,
        "start_time": "2023-07-24T14:58:03.942Z"
      },
      {
        "duration": 562,
        "start_time": "2023-07-24T14:58:03.964Z"
      },
      {
        "duration": 4,
        "start_time": "2023-07-24T14:58:04.527Z"
      },
      {
        "duration": 30,
        "start_time": "2023-07-24T14:58:04.534Z"
      },
      {
        "duration": 0,
        "start_time": "2023-07-24T14:58:04.566Z"
      },
      {
        "duration": 0,
        "start_time": "2023-07-24T14:58:04.567Z"
      },
      {
        "duration": 19,
        "start_time": "2023-07-24T14:59:13.650Z"
      },
      {
        "duration": 727,
        "start_time": "2023-07-24T14:59:17.857Z"
      },
      {
        "duration": 9942,
        "start_time": "2023-07-24T14:59:46.387Z"
      },
      {
        "duration": 2728536,
        "start_time": "2023-07-24T14:59:56.332Z"
      },
      {
        "duration": 5,
        "start_time": "2023-07-24T15:45:24.870Z"
      },
      {
        "duration": 21344,
        "start_time": "2023-07-25T09:20:04.459Z"
      },
      {
        "duration": 2457,
        "start_time": "2023-07-25T09:20:25.806Z"
      },
      {
        "duration": 4,
        "start_time": "2023-07-25T09:20:28.266Z"
      },
      {
        "duration": 508,
        "start_time": "2023-07-25T09:21:07.458Z"
      },
      {
        "duration": 7,
        "start_time": "2023-07-25T09:21:07.968Z"
      },
      {
        "duration": 19,
        "start_time": "2023-07-25T09:21:08.696Z"
      },
      {
        "duration": 28,
        "start_time": "2023-07-25T09:21:09.326Z"
      },
      {
        "duration": 869,
        "start_time": "2023-07-25T09:21:13.466Z"
      },
      {
        "duration": 4,
        "start_time": "2023-07-25T09:21:14.337Z"
      },
      {
        "duration": 2636103,
        "start_time": "2023-07-25T09:21:15.457Z"
      },
      {
        "duration": 38,
        "start_time": "2023-07-25T10:05:11.563Z"
      },
      {
        "duration": 5318,
        "start_time": "2023-07-25T10:06:45.285Z"
      },
      {
        "duration": 1591,
        "start_time": "2023-07-25T10:06:53.104Z"
      },
      {
        "duration": 1722,
        "start_time": "2023-07-25T10:06:57.334Z"
      },
      {
        "duration": 5,
        "start_time": "2023-07-25T10:07:01.305Z"
      },
      {
        "duration": 352,
        "start_time": "2023-07-25T10:07:02.883Z"
      },
      {
        "duration": 28,
        "start_time": "2023-07-25T10:07:14.880Z"
      },
      {
        "duration": 21,
        "start_time": "2023-07-25T10:10:18.125Z"
      },
      {
        "duration": 25,
        "start_time": "2023-07-25T10:10:23.987Z"
      },
      {
        "duration": 7,
        "start_time": "2023-07-25T10:10:58.267Z"
      },
      {
        "duration": 36,
        "start_time": "2023-07-25T10:10:59.224Z"
      },
      {
        "duration": 9276,
        "start_time": "2023-07-25T10:12:59.137Z"
      },
      {
        "duration": 9,
        "start_time": "2023-07-25T10:13:08.416Z"
      },
      {
        "duration": 177511,
        "start_time": "2023-07-25T10:16:13.797Z"
      },
      {
        "duration": 27,
        "start_time": "2023-07-25T11:08:24.801Z"
      },
      {
        "duration": 2608301,
        "start_time": "2023-07-25T11:08:33.841Z"
      },
      {
        "duration": 0,
        "start_time": "2023-07-25T11:52:02.146Z"
      },
      {
        "duration": 3777210,
        "start_time": "2023-07-25T11:55:21.138Z"
      },
      {
        "duration": 0,
        "start_time": "2023-07-25T12:58:18.351Z"
      },
      {
        "duration": 0,
        "start_time": "2023-07-25T12:58:18.353Z"
      },
      {
        "duration": 399242,
        "start_time": "2023-07-25T13:02:36.841Z"
      },
      {
        "duration": 148,
        "start_time": "2023-07-25T13:09:22.731Z"
      },
      {
        "duration": 4,
        "start_time": "2023-07-25T13:09:32.701Z"
      },
      {
        "duration": 2281165,
        "start_time": "2023-07-25T13:09:51.137Z"
      },
      {
        "duration": 27,
        "start_time": "2023-07-25T13:52:19.530Z"
      },
      {
        "duration": 6,
        "start_time": "2023-07-25T13:52:35.693Z"
      },
      {
        "duration": 5,
        "start_time": "2023-07-25T13:52:37.197Z"
      },
      {
        "duration": 154899,
        "start_time": "2023-07-25T13:52:39.942Z"
      },
      {
        "duration": 0,
        "start_time": "2023-07-25T13:55:14.843Z"
      },
      {
        "duration": 0,
        "start_time": "2023-07-25T13:55:14.844Z"
      },
      {
        "duration": 6,
        "start_time": "2023-07-25T13:55:17.440Z"
      },
      {
        "duration": 116256,
        "start_time": "2023-07-25T13:55:20.793Z"
      },
      {
        "duration": 418380,
        "start_time": "2023-07-25T13:57:23.110Z"
      },
      {
        "duration": 0,
        "start_time": "2023-07-25T14:04:21.493Z"
      },
      {
        "duration": 3,
        "start_time": "2023-07-25T14:04:24.894Z"
      },
      {
        "duration": 12,
        "start_time": "2023-07-25T14:04:26.546Z"
      },
      {
        "duration": 192440,
        "start_time": "2023-07-25T14:04:30.697Z"
      },
      {
        "duration": 204773,
        "start_time": "2023-07-25T14:10:19.409Z"
      },
      {
        "duration": 26741,
        "start_time": "2023-07-25T14:19:02.583Z"
      },
      {
        "duration": 5,
        "start_time": "2023-07-25T14:19:34.910Z"
      },
      {
        "duration": 10542,
        "start_time": "2023-07-26T08:47:37.549Z"
      },
      {
        "duration": 879,
        "start_time": "2023-07-26T08:47:56.492Z"
      },
      {
        "duration": 4,
        "start_time": "2023-07-26T08:47:59.383Z"
      },
      {
        "duration": 281,
        "start_time": "2023-07-26T08:47:59.771Z"
      },
      {
        "duration": 8,
        "start_time": "2023-07-26T08:48:01.769Z"
      },
      {
        "duration": 13,
        "start_time": "2023-07-26T08:48:02.132Z"
      },
      {
        "duration": 25,
        "start_time": "2023-07-26T08:48:02.522Z"
      },
      {
        "duration": 551,
        "start_time": "2023-07-26T08:48:34.361Z"
      },
      {
        "duration": 4,
        "start_time": "2023-07-26T08:48:34.914Z"
      },
      {
        "duration": 2613808,
        "start_time": "2023-07-26T08:48:34.920Z"
      },
      {
        "duration": 104,
        "start_time": "2023-07-26T09:32:08.731Z"
      },
      {
        "duration": 5426,
        "start_time": "2023-07-26T09:32:08.838Z"
      },
      {
        "duration": 1708,
        "start_time": "2023-07-26T09:32:14.266Z"
      },
      {
        "duration": 1651,
        "start_time": "2023-07-26T09:32:15.976Z"
      },
      {
        "duration": 6,
        "start_time": "2023-07-26T09:32:17.629Z"
      },
      {
        "duration": 48,
        "start_time": "2023-07-26T09:44:04.506Z"
      },
      {
        "duration": 5805,
        "start_time": "2023-07-26T09:44:12.168Z"
      },
      {
        "duration": 1996,
        "start_time": "2023-07-26T09:44:27.912Z"
      },
      {
        "duration": 1809,
        "start_time": "2023-07-26T09:44:30.869Z"
      },
      {
        "duration": 4,
        "start_time": "2023-07-26T09:44:39.784Z"
      },
      {
        "duration": 6,
        "start_time": "2023-07-26T09:44:57.772Z"
      },
      {
        "duration": 266176,
        "start_time": "2023-07-26T09:47:13.058Z"
      },
      {
        "duration": 996594,
        "start_time": "2023-07-26T10:06:11.086Z"
      },
      {
        "duration": 10414,
        "start_time": "2023-07-26T10:29:41.673Z"
      },
      {
        "duration": 850296,
        "start_time": "2023-07-26T10:38:15.929Z"
      },
      {
        "duration": 164658,
        "start_time": "2023-07-26T10:52:31.207Z"
      },
      {
        "duration": 3,
        "start_time": "2023-07-26T10:55:23.668Z"
      },
      {
        "duration": 4,
        "start_time": "2023-07-26T10:56:28.623Z"
      },
      {
        "duration": 56613,
        "start_time": "2023-07-26T10:56:28.974Z"
      },
      {
        "duration": 10870,
        "start_time": "2023-07-26T10:58:34.468Z"
      },
      {
        "duration": 60,
        "start_time": "2023-07-26T11:33:35.146Z"
      },
      {
        "duration": 33,
        "start_time": "2023-07-26T11:38:01.795Z"
      },
      {
        "duration": 51,
        "start_time": "2023-07-26T11:40:01.479Z"
      },
      {
        "duration": 25,
        "start_time": "2023-07-26T11:40:22.725Z"
      },
      {
        "duration": 28,
        "start_time": "2023-07-26T11:41:50.949Z"
      },
      {
        "duration": 34,
        "start_time": "2023-07-26T11:43:46.395Z"
      },
      {
        "duration": 1071,
        "start_time": "2023-07-26T11:43:57.172Z"
      },
      {
        "duration": 215,
        "start_time": "2023-07-26T11:51:33.703Z"
      },
      {
        "duration": 25,
        "start_time": "2023-07-26T11:51:42.905Z"
      },
      {
        "duration": 21,
        "start_time": "2023-07-26T11:53:30.968Z"
      },
      {
        "duration": 22,
        "start_time": "2023-07-26T11:54:23.127Z"
      },
      {
        "duration": 22,
        "start_time": "2023-07-26T11:54:51.017Z"
      },
      {
        "duration": 28,
        "start_time": "2023-07-26T11:55:19.056Z"
      },
      {
        "duration": 56093,
        "start_time": "2023-07-26T11:59:30.443Z"
      },
      {
        "duration": 24,
        "start_time": "2023-07-26T12:03:33.700Z"
      },
      {
        "duration": 53119,
        "start_time": "2023-07-26T12:05:27.792Z"
      },
      {
        "duration": 21,
        "start_time": "2023-07-26T12:06:27.588Z"
      },
      {
        "duration": 21,
        "start_time": "2023-07-26T12:07:37.992Z"
      },
      {
        "duration": 21,
        "start_time": "2023-07-26T12:07:46.141Z"
      },
      {
        "duration": 26,
        "start_time": "2023-07-26T12:08:38.466Z"
      },
      {
        "duration": 4,
        "start_time": "2023-07-26T12:09:05.939Z"
      },
      {
        "duration": 6,
        "start_time": "2023-07-26T12:09:08.796Z"
      },
      {
        "duration": 24004,
        "start_time": "2023-07-26T12:09:09.752Z"
      },
      {
        "duration": 87784,
        "start_time": "2023-07-26T12:10:21.443Z"
      },
      {
        "duration": 54386,
        "start_time": "2023-07-26T12:13:14.149Z"
      },
      {
        "duration": 23,
        "start_time": "2023-07-26T12:14:35.717Z"
      },
      {
        "duration": 767,
        "start_time": "2023-07-26T12:14:55.296Z"
      },
      {
        "duration": 21,
        "start_time": "2023-07-26T12:14:56.064Z"
      },
      {
        "duration": 23,
        "start_time": "2023-07-26T12:16:02.048Z"
      },
      {
        "duration": 21,
        "start_time": "2023-07-26T12:17:10.617Z"
      },
      {
        "duration": 22,
        "start_time": "2023-07-26T12:17:49.099Z"
      },
      {
        "duration": 21,
        "start_time": "2023-07-26T12:17:53.607Z"
      },
      {
        "duration": 21,
        "start_time": "2023-07-26T12:21:42.500Z"
      },
      {
        "duration": 858,
        "start_time": "2023-07-26T12:22:01.949Z"
      },
      {
        "duration": 902,
        "start_time": "2023-07-26T12:23:18.327Z"
      },
      {
        "duration": 20,
        "start_time": "2023-07-26T12:24:13.404Z"
      },
      {
        "duration": 22,
        "start_time": "2023-07-26T12:25:22.420Z"
      },
      {
        "duration": 22,
        "start_time": "2023-07-26T12:31:12.191Z"
      },
      {
        "duration": 24,
        "start_time": "2023-07-26T12:32:13.493Z"
      },
      {
        "duration": 21,
        "start_time": "2023-07-26T12:33:41.663Z"
      },
      {
        "duration": 853,
        "start_time": "2023-07-26T12:34:28.417Z"
      },
      {
        "duration": 849,
        "start_time": "2023-07-26T12:35:08.905Z"
      },
      {
        "duration": 58975,
        "start_time": "2023-07-26T12:49:22.386Z"
      },
      {
        "duration": 808940,
        "start_time": "2023-07-26T13:09:20.880Z"
      },
      {
        "duration": 44143,
        "start_time": "2023-07-26T13:35:47.030Z"
      },
      {
        "duration": 9965,
        "start_time": "2023-07-26T13:37:51.350Z"
      },
      {
        "duration": 4,
        "start_time": "2023-07-26T13:38:06.419Z"
      },
      {
        "duration": 249898,
        "start_time": "2023-07-26T13:38:13.327Z"
      },
      {
        "duration": 717152,
        "start_time": "2023-07-26T13:42:25.894Z"
      },
      {
        "duration": 14060,
        "start_time": "2023-07-26T13:54:26.418Z"
      },
      {
        "duration": 53319,
        "start_time": "2023-07-26T13:54:45.546Z"
      },
      {
        "duration": 101,
        "start_time": "2023-07-27T08:05:40.759Z"
      },
      {
        "duration": 4856,
        "start_time": "2023-07-27T08:05:46.596Z"
      },
      {
        "duration": 1523,
        "start_time": "2023-07-27T08:05:55.529Z"
      },
      {
        "duration": 1657,
        "start_time": "2023-07-27T08:05:57.938Z"
      },
      {
        "duration": 10682,
        "start_time": "2023-07-27T08:11:42.301Z"
      },
      {
        "duration": 998,
        "start_time": "2023-07-27T08:11:52.986Z"
      },
      {
        "duration": 4,
        "start_time": "2023-07-27T08:11:57.377Z"
      },
      {
        "duration": 306,
        "start_time": "2023-07-27T08:11:57.797Z"
      },
      {
        "duration": 11,
        "start_time": "2023-07-27T08:11:59.120Z"
      },
      {
        "duration": 13,
        "start_time": "2023-07-27T08:11:59.919Z"
      },
      {
        "duration": 27,
        "start_time": "2023-07-27T08:12:00.638Z"
      },
      {
        "duration": 781,
        "start_time": "2023-07-27T08:12:06.083Z"
      },
      {
        "duration": 3,
        "start_time": "2023-07-27T08:12:10.842Z"
      },
      {
        "duration": 2763111,
        "start_time": "2023-07-27T08:12:11.361Z"
      },
      {
        "duration": 89,
        "start_time": "2023-07-27T09:16:22.766Z"
      },
      {
        "duration": 4716,
        "start_time": "2023-07-27T09:16:29.292Z"
      },
      {
        "duration": 1470,
        "start_time": "2023-07-27T09:16:35.524Z"
      },
      {
        "duration": 1522,
        "start_time": "2023-07-27T09:16:36.996Z"
      },
      {
        "duration": 4,
        "start_time": "2023-07-27T09:16:40.428Z"
      },
      {
        "duration": 7,
        "start_time": "2023-07-27T09:16:42.105Z"
      },
      {
        "duration": 80704,
        "start_time": "2023-07-27T09:16:43.884Z"
      },
      {
        "duration": 80601,
        "start_time": "2023-07-27T09:18:49.007Z"
      },
      {
        "duration": 114388,
        "start_time": "2023-07-27T09:20:17.446Z"
      },
      {
        "duration": 209527,
        "start_time": "2023-07-27T09:22:20.330Z"
      },
      {
        "duration": 0,
        "start_time": "2023-07-27T09:25:49.859Z"
      },
      {
        "duration": 34,
        "start_time": "2023-07-27T09:26:07.359Z"
      },
      {
        "duration": 27,
        "start_time": "2023-07-27T09:26:19.317Z"
      },
      {
        "duration": 198,
        "start_time": "2023-07-27T09:26:24.188Z"
      },
      {
        "duration": 17,
        "start_time": "2023-07-27T09:26:27.652Z"
      },
      {
        "duration": 18,
        "start_time": "2023-07-27T09:26:28.508Z"
      },
      {
        "duration": 4,
        "start_time": "2023-07-27T09:26:30.679Z"
      },
      {
        "duration": 140,
        "start_time": "2023-07-27T09:26:31.174Z"
      },
      {
        "duration": 10516,
        "start_time": "2023-07-27T09:26:34.584Z"
      },
      {
        "duration": 2535,
        "start_time": "2023-07-27T09:26:47.132Z"
      },
      {
        "duration": 407952,
        "start_time": "2023-07-27T09:26:56.711Z"
      },
      {
        "duration": 3,
        "start_time": "2023-07-27T09:34:35.771Z"
      },
      {
        "duration": 5,
        "start_time": "2023-07-27T09:34:37.121Z"
      },
      {
        "duration": 25484,
        "start_time": "2023-07-27T09:34:57.621Z"
      },
      {
        "duration": 441270,
        "start_time": "2023-07-27T09:35:41.293Z"
      },
      {
        "duration": 745,
        "start_time": "2023-07-27T09:43:28.898Z"
      },
      {
        "duration": 117423,
        "start_time": "2023-07-27T09:43:46.555Z"
      },
      {
        "duration": 386,
        "start_time": "2023-07-27T10:45:58.154Z"
      },
      {
        "duration": 297,
        "start_time": "2023-07-27T10:46:16.766Z"
      },
      {
        "duration": 11,
        "start_time": "2023-07-27T10:53:00.566Z"
      }
    ],
    "kernelspec": {
      "display_name": "Python 3 (ipykernel)",
      "language": "python",
      "name": "python3"
    },
    "language_info": {
      "codemirror_mode": {
        "name": "ipython",
        "version": 3
      },
      "file_extension": ".py",
      "mimetype": "text/x-python",
      "name": "python",
      "nbconvert_exporter": "python",
      "pygments_lexer": "ipython3",
      "version": "3.9.5"
    },
    "toc": {
      "base_numbering": 1,
      "nav_menu": {},
      "number_sections": true,
      "sideBar": true,
      "skip_h1_title": true,
      "title_cell": "Table of Contents",
      "title_sidebar": "Contents",
      "toc_cell": false,
      "toc_position": {},
      "toc_section_display": true,
      "toc_window_display": false
    },
    "colab": {
      "provenance": []
    }
  },
  "nbformat": 4,
  "nbformat_minor": 5
}